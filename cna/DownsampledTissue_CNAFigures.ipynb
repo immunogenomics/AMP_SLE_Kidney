{
 "cells": [
  {
   "cell_type": "markdown",
   "id": "364af7d8-7b71-4606-ac0a-92a219678e88",
   "metadata": {},
   "source": [
    "# CNA PREP and RESULTS TISSUE CELLS\n",
    "## Sid Gurajala\n",
    "## 05/01/2023"
   ]
  },
  {
   "cell_type": "markdown",
   "id": "752bad67-7619-4e25-8d19-9639f08d1cc9",
   "metadata": {},
   "source": [
    "## Libraries "
   ]
  },
  {
   "cell_type": "code",
   "execution_count": 1,
   "id": "ce074164-4b19-45b6-bc72-54bf6e3777e7",
   "metadata": {
    "vscode": {
     "languageId": "r"
    }
   },
   "outputs": [
    {
     "name": "stderr",
     "output_type": "stream",
     "text": [
      "\n",
      "Attaching package: ‘dplyr’\n",
      "\n",
      "\n",
      "The following objects are masked from ‘package:stats’:\n",
      "\n",
      "    filter, lag\n",
      "\n",
      "\n",
      "The following objects are masked from ‘package:base’:\n",
      "\n",
      "    intersect, setdiff, setequal, union\n",
      "\n",
      "\n",
      "\n",
      "Attaching package: ‘cowplot’\n",
      "\n",
      "\n",
      "The following object is masked from ‘package:patchwork’:\n",
      "\n",
      "    align_plots\n",
      "\n",
      "\n",
      "Loading required package: data.table\n",
      "\n",
      "\n",
      "Attaching package: ‘data.table’\n",
      "\n",
      "\n",
      "The following objects are masked from ‘package:dplyr’:\n",
      "\n",
      "    between, first, last\n",
      "\n",
      "\n",
      "The following object is masked from ‘package:purrr’:\n",
      "\n",
      "    transpose\n",
      "\n",
      "\n",
      "\n",
      "Attaching package: ‘singlecellmethods’\n",
      "\n",
      "\n",
      "The following object is masked from ‘package:base’:\n",
      "\n",
      "    rowMeans\n",
      "\n",
      "\n",
      "Loading required package: viridisLite\n",
      "\n"
     ]
    }
   ],
   "source": [
    "library(patchwork)\n",
    "library(purrr)\n",
    "library(dplyr) \n",
    "library(tidyr)\n",
    "library(cowplot)\n",
    "library(singlecellmethods)\n",
    "library(ggplot2)\n",
    "library(ggbeeswarm)\n",
    "library(stringr)\n",
    "library(viridis)\n",
    "source(\"/data/srlab/anathan/scripts/scseq_utils.R\")"
   ]
  },
  {
   "cell_type": "code",
   "execution_count": 2,
   "id": "448b9d87-3c36-4cfe-a1b5-7467cce87641",
   "metadata": {
    "vscode": {
     "languageId": "r"
    }
   },
   "outputs": [],
   "source": [
    "labelfontsize = 20\n",
    "tickfontsize = 16\n",
    "\n",
    "figdir = '../../figures/components/'"
   ]
  },
  {
   "cell_type": "code",
   "execution_count": 1,
   "id": "4b1adea7-8d04-41fe-876f-90a8495de271",
   "metadata": {
    "vscode": {
     "languageId": "r"
    }
   },
   "outputs": [
    {
     "name": "stderr",
     "output_type": "stream",
     "text": [
      "Attaching SeuratObject\n",
      "\n",
      "\n",
      "Attaching package: ‘dplyr’\n",
      "\n",
      "\n",
      "The following objects are masked from ‘package:stats’:\n",
      "\n",
      "    filter, lag\n",
      "\n",
      "\n",
      "The following objects are masked from ‘package:base’:\n",
      "\n",
      "    intersect, setdiff, setequal, union\n",
      "\n",
      "\n",
      "Loading required package: viridisLite\n",
      "\n",
      "Loading required package: Rcpp\n",
      "\n",
      "Loading required package: data.table\n",
      "\n",
      "\n",
      "Attaching package: ‘data.table’\n",
      "\n",
      "\n",
      "The following objects are masked from ‘package:dplyr’:\n",
      "\n",
      "    between, first, last\n",
      "\n",
      "\n",
      "\n",
      "Attaching package: ‘pals’\n",
      "\n",
      "\n",
      "The following objects are masked from ‘package:viridis’:\n",
      "\n",
      "    cividis, inferno, magma, plasma, turbo, viridis\n",
      "\n",
      "\n",
      "The following objects are masked from ‘package:viridisLite’:\n",
      "\n",
      "    cividis, inferno, magma, plasma, turbo, viridis\n",
      "\n",
      "\n",
      "\n",
      "Attaching package: ‘singlecellmethods’\n",
      "\n",
      "\n",
      "The following object is masked from ‘package:SeuratObject’:\n",
      "\n",
      "    rowMeans\n",
      "\n",
      "\n",
      "The following object is masked from ‘package:base’:\n",
      "\n",
      "    rowMeans\n",
      "\n",
      "\n",
      "Loading required package: Matrix\n",
      "\n",
      "\n",
      "Attaching package: ‘Matrix’\n",
      "\n",
      "\n",
      "The following objects are masked from ‘package:tidyr’:\n",
      "\n",
      "    expand, pack, unpack\n",
      "\n",
      "\n",
      "Warning message in checkMatrixPackageVersion():\n",
      "“Package version inconsistency detected.\n",
      "TMB was built with Matrix version 1.4.1\n",
      "Current Matrix version is 1.5.1\n",
      "Please re-install 'TMB' from source using install.packages('TMB', type = 'source') or ask CRAN for a binary version of 'TMB' matching CRAN's 'Matrix' package”\n"
     ]
    }
   ],
   "source": [
    "source(\"/data/srlab/ssg34/SLE_kidney_v2/scripts/libs/kidney_utils.r\")\n",
    "clinical <- readRDS('/data/srlab/ssg34/SLE_kidney_v2/data/cna_new/clinical_data_05042023.rds') %>% \n",
    "                        rename(Final_Site = Site) %>% select(-sample)"
   ]
  },
  {
   "cell_type": "code",
   "execution_count": null,
   "id": "bc152d46-e902-45ad-be9b-3ea00698feec",
   "metadata": {
    "vscode": {
     "languageId": "r"
    }
   },
   "outputs": [],
   "source": [
    "#all_meta <- readRDS('/data/srlab2/qxiao/AMP-SLE/sc_nuc_data/20230215_Tissue/meta_Tissue_500nGene_1000nUMI_3pctnontargetMTwdoubletandsampleFINAL-02-22-23.rds')\n",
    "norm <- readRDS('/data/srlab2/qxiao/AMP-SLE/sc_nuc_data/normalized_data_ScNuc_500nGene_1000nUMI_3pctnontargetMTwdoubletandsampleFINAL-8-10-22.rds')"
   ]
  },
  {
   "cell_type": "code",
   "execution_count": null,
   "id": "eab55f9c-8a9c-4f18-a999-841edb47bd15",
   "metadata": {
    "vscode": {
     "languageId": "r"
    }
   },
   "outputs": [],
   "source": [
    "rawcounts <- readRDS('/data/srlab2/qxiao/AMP-SLE/sc_nuc_data/2022-08-09_ScNuc_cell_QCed_RawCounts.rds')\n",
    "mito_genes_subset <- c(\"MT-ND5\", \"MT-ND6\")\n",
    "percent_mito <- colSums(rawcounts[mito_genes_subset, ]) / colSums(rawcounts) * 100\n",
    "percent_mito <- data.frame(cell = names(percent_mito), percent.mt = percent_mito)"
   ]
  },
  {
   "cell_type": "code",
   "execution_count": null,
   "id": "4293e305-bf47-4e81-a375-d3012da70566",
   "metadata": {
    "vscode": {
     "languageId": "r"
    }
   },
   "outputs": [],
   "source": [
    "saveRDS(percent_mito, '/data/srlab/ssg34/SLE_kidney_v2/data/tissue/percent_mito_from_rawcounts_12072023.rds')"
   ]
  },
  {
   "cell_type": "code",
   "execution_count": 8,
   "id": "8e4cb74c-3129-40b0-a916-27c931aedf4e",
   "metadata": {
    "vscode": {
     "languageId": "r"
    }
   },
   "outputs": [],
   "source": [
    "percent_mito <- readRDS('/data/srlab/ssg34/SLE_kidney_v2/data/tissue/percent_mito_from_rawcounts_12072023.rds')"
   ]
  },
  {
   "cell_type": "code",
   "execution_count": 10,
   "id": "60a45e2e-7d73-4e2a-ab95-df9e90293084",
   "metadata": {
    "vscode": {
     "languageId": "r"
    }
   },
   "outputs": [],
   "source": [
    "all_cell_meta <- read.csv('/data/srlab/ssg34/share/for_Roopa/QC_Annotated_Full_Kidney_Meta_sc_sn_03292024.csv')"
   ]
  },
  {
   "cell_type": "code",
   "execution_count": 12,
   "id": "4831d2a6-6f21-4203-9a7b-85a4f074d0a4",
   "metadata": {
    "vscode": {
     "languageId": "r"
    }
   },
   "outputs": [
    {
     "data": {
      "text/html": [
       "<table class=\"dataframe\">\n",
       "<caption>A tibble: 2 × 2</caption>\n",
       "<thead>\n",
       "\t<tr><th scope=col>dataset</th><th scope=col>max_mito</th></tr>\n",
       "\t<tr><th scope=col>&lt;chr&gt;</th><th scope=col>&lt;dbl&gt;</th></tr>\n",
       "</thead>\n",
       "<tbody>\n",
       "\t<tr><td>scRNAseq</td><td>2.7965284</td></tr>\n",
       "\t<tr><td>snRNAseq</td><td>0.3656307</td></tr>\n",
       "</tbody>\n",
       "</table>\n"
      ],
      "text/latex": [
       "A tibble: 2 × 2\n",
       "\\begin{tabular}{ll}\n",
       " dataset & max\\_mito\\\\\n",
       " <chr> & <dbl>\\\\\n",
       "\\hline\n",
       "\t scRNAseq & 2.7965284\\\\\n",
       "\t snRNAseq & 0.3656307\\\\\n",
       "\\end{tabular}\n"
      ],
      "text/markdown": [
       "\n",
       "A tibble: 2 × 2\n",
       "\n",
       "| dataset &lt;chr&gt; | max_mito &lt;dbl&gt; |\n",
       "|---|---|\n",
       "| scRNAseq | 2.7965284 |\n",
       "| snRNAseq | 0.3656307 |\n",
       "\n"
      ],
      "text/plain": [
       "  dataset  max_mito \n",
       "1 scRNAseq 2.7965284\n",
       "2 snRNAseq 0.3656307"
      ]
     },
     "metadata": {},
     "output_type": "display_data"
    }
   ],
   "source": [
    "percent_mito <- percent_mito %>% \n",
    "                    mutate(dataset = ifelse(str_detect(cell, \"AMPSLEkid_cells\") == TRUE,\n",
    "                                            \"scRNAseq\", \"snRNAseq\"))\n",
    "percent_mito %>% \n",
    "    filter(cell %in% all_cell_meta$cell) %>% \n",
    "    group_by(dataset) %>% \n",
    "    summarize(max_mito = max(percent.mt))"
   ]
  },
  {
   "cell_type": "code",
   "execution_count": 20,
   "id": "6e935244-46b2-4187-9f47-9334802ea3fc",
   "metadata": {
    "vscode": {
     "languageId": "r"
    }
   },
   "outputs": [
    {
     "data": {
      "text/html": [
       "<table class=\"dataframe\">\n",
       "<caption>A tibble: 2 × 3</caption>\n",
       "<thead>\n",
       "\t<tr><th scope=col>dataset</th><th scope=col>min_genes</th><th scope=col>min_reads</th></tr>\n",
       "\t<tr><th scope=col>&lt;chr&gt;</th><th scope=col>&lt;int&gt;</th><th scope=col>&lt;int&gt;</th></tr>\n",
       "</thead>\n",
       "<tbody>\n",
       "\t<tr><td>scRNAseq</td><td>501</td><td>1001</td></tr>\n",
       "\t<tr><td>snRNAseq</td><td>543</td><td>1001</td></tr>\n",
       "</tbody>\n",
       "</table>\n"
      ],
      "text/latex": [
       "A tibble: 2 × 3\n",
       "\\begin{tabular}{lll}\n",
       " dataset & min\\_genes & min\\_reads\\\\\n",
       " <chr> & <int> & <int>\\\\\n",
       "\\hline\n",
       "\t scRNAseq & 501 & 1001\\\\\n",
       "\t snRNAseq & 543 & 1001\\\\\n",
       "\\end{tabular}\n"
      ],
      "text/markdown": [
       "\n",
       "A tibble: 2 × 3\n",
       "\n",
       "| dataset &lt;chr&gt; | min_genes &lt;int&gt; | min_reads &lt;int&gt; |\n",
       "|---|---|---|\n",
       "| scRNAseq | 501 | 1001 |\n",
       "| snRNAseq | 543 | 1001 |\n",
       "\n"
      ],
      "text/plain": [
       "  dataset  min_genes min_reads\n",
       "1 scRNAseq 501       1001     \n",
       "2 snRNAseq 543       1001     "
      ]
     },
     "metadata": {},
     "output_type": "display_data"
    }
   ],
   "source": [
    "all_cell_meta %>% \n",
    "    group_by(dataset) %>% \n",
    "    summarize(min_genes = min(nFeature_RNA),\n",
    "              min_reads = min(nCount_RNA))"
   ]
  },
  {
   "cell_type": "code",
   "execution_count": null,
   "id": "d438a3f7-249c-4ea7-aea2-fd43368800f3",
   "metadata": {
    "vscode": {
     "languageId": "r"
    }
   },
   "outputs": [],
   "source": [
    "kpmp_markers <- read.csv('/data/srlab/ssg34/SLE_kidney_v2/data/tissue/KPMP_markers.csv')"
   ]
  },
  {
   "cell_type": "markdown",
   "id": "a987c981-ef58-4a9e-a8c6-8d2d69cf4b4f",
   "metadata": {},
   "source": [
    "# ALL CELL TYPE UMAP FIGURE"
   ]
  },
  {
   "cell_type": "markdown",
   "id": "13da984f-98e7-4c17-95a9-7a04cd91f793",
   "metadata": {},
   "source": [
    "## MERGE ALL CELL TYPES"
   ]
  },
  {
   "cell_type": "code",
   "execution_count": 8,
   "id": "48c61fec-39c9-488e-b7e0-be0e47d000c4",
   "metadata": {
    "vscode": {
     "languageId": "r"
    }
   },
   "outputs": [],
   "source": [
    "tnk_meta <- readRDS('/data/srlab/ssg34/SLE_kidney_v2/data/qcd/T_NK_clusterQCd_meta_harmonizedPCUMAPclusters_annotations02062024.rds')\n",
    "myeloid_meta <- readRDS('/data/srlab/ssg34/SLE_kidney_v2/data/qcd/Myeloid_clusterQCd_meta_harmonizedPCUMAPCellStateClusters_10042022.rds')\n",
    "bp_meta <- readRDS('/data/srlab/ssg34/SLE_kidney_v2/data/qcd/BP_clusterQCd_cellstate_meta_annotations_09232022.rds')"
   ]
  },
  {
   "cell_type": "code",
   "execution_count": 9,
   "id": "9e3bb1d0-2f75-4f12-88de-c0647e721752",
   "metadata": {
    "vscode": {
     "languageId": "r"
    }
   },
   "outputs": [],
   "source": [
    "pt_meta <- readRDS('/data/srlab/ssg34/SLE_kidney_v2/data/tissue/pt_meta_qcd_harmony_umap_clusternames_11302023.rds')\n",
    "dn_meta <- readRDS('/data/srlab/ssg34/SLE_kidney_v2/data/tissue/dn_meta_qcd_harmony_umap_clusternames_11302023.rds')\n",
    "loh_meta <- readRDS('/data/srlab/ssg34/SLE_kidney_v2/data/tissue/loh_meta_qcd_harmony_umap_clusternames_11302023.rds')\n",
    "intl_meta <- readRDS('/data/srlab/ssg34/SLE_kidney_v2/data/tissue/intl_meta_qcd_harmony_umap_clusternames_11302023.rds')\n",
    "glom_meta <- readRDS('/data/srlab/ssg34/SLE_kidney_v2/data/tissue/glom_meta_qcd_harmony_umap_clusternames_11302023.rds')\n"
   ]
  },
  {
   "cell_type": "code",
   "execution_count": null,
   "id": "8bc53541-40e9-4b30-8b30-7425c0c009c4",
   "metadata": {
    "vscode": {
     "languageId": "r"
    }
   },
   "outputs": [],
   "source": [
    "all_cell_meta <- rbind(pt_meta %>% \n",
    "                    select(cell, sample, dataset, Site, processing.batch, Type, \n",
    "                           nFeature_RNA, nCount_RNA, final_annotation, new_cluster_number) %>% \n",
    "                    mutate(cell.type = \"Proximal Tubule\") %>% \n",
    "                    rename(annotation = final_annotation),\n",
    "                 dn_meta %>% \n",
    "                    select(cell, sample, dataset, Site, processing.batch, Type,\n",
    "                          nFeature_RNA, nCount_RNA, final_annotation, new_cluster_number) %>% \n",
    "                    mutate(cell.type = \"Distal Nephron\") %>% \n",
    "                    rename(annotation = final_annotation),\n",
    "                 loh_meta %>% \n",
    "                    select(cell, sample, dataset, Site, processing.batch, Type,\n",
    "                          nFeature_RNA, nCount_RNA, final_annotation, new_cluster_number) %>% \n",
    "                    mutate(cell.type = \"Loop of Henle\") %>% \n",
    "                    rename(annotation = final_annotation),\n",
    "                 intl_meta %>% \n",
    "                    select(cell, sample, dataset, Site, processing.batch, Type,\n",
    "                          nFeature_RNA, nCount_RNA, final_annotation, new_cluster_number) %>% \n",
    "                    mutate(cell.type = \"Interstitial/Stromal\") %>% \n",
    "                    rename(annotation = final_annotation),\n",
    "                 glom_meta %>% \n",
    "                    select(cell, sample, dataset, Site, processing.batch, Type,\n",
    "                          nFeature_RNA, nCount_RNA, final_annotation, new_cluster_number) %>% \n",
    "                    mutate(cell.type = \"Glomerular\") %>% \n",
    "                    rename(annotation = final_annotation),\n",
    "                 tnk_meta %>% \n",
    "                    select(cell, sample, dataset, Site, processing.batch, Type,\n",
    "                          nFeature_RNA, nCount_RNA, annotation, new_cluster_number) %>% \n",
    "                    mutate(cell.type = \"T/NK\"),\n",
    "                 myeloid_meta %>% \n",
    "                    select(cell, sample, dataset, Site, processing.batch, Type, \n",
    "                          nFeature_RNA, nCount_RNA, annotation) %>% \n",
    "                    mutate(cell.type = \"Myeloid\"),\n",
    "                 bp_meta %>% \n",
    "                    select(cell, sample, dataset, Site, processing.batch, Type,\n",
    "                          nFeature_RNA, nCount_RNA, annotation, new_cluster_number) %>% \n",
    "                    mutate(cell.type = \"B/Plasma\"))"
   ]
  },
  {
   "cell_type": "code",
   "execution_count": 65,
   "id": "66079f4a-989c-4ad5-a311-4bc74dc185fe",
   "metadata": {
    "vscode": {
     "languageId": "r"
    }
   },
   "outputs": [],
   "source": [
    "write.csv(all_cell_meta, '/data/srlab/ssg34/share/for_Roopa/QC_Annotated_Full_Kidney_Meta_sc_sn_03292024.csv',\n",
    "          quote = FALSE, row.names = FALSE)"
   ]
  },
  {
   "cell_type": "code",
   "execution_count": 124,
   "id": "7c1c205e-7a22-438b-a49b-c075cafeeafc",
   "metadata": {
    "vscode": {
     "languageId": "r"
    }
   },
   "outputs": [],
   "source": [
    "cluster_order <- c(\"T/NK\", \"Myeloid\", \"B/Plasma\",\n",
    "                   \"Proximal Tubule\", \"Interstitial\",\n",
    "                   \"Glomerular\", \"Loop of Henle\", \"Distal Nephron\")"
   ]
  },
  {
   "cell_type": "code",
   "execution_count": null,
   "id": "7a8d9fb8-e3d0-4772-a419-9c7613206de0",
   "metadata": {
    "vscode": {
     "languageId": "r"
    }
   },
   "outputs": [],
   "source": [
    "fig.size(10, 15)\n",
    "\n",
    "total_prop <- all_cell_meta %>% filter(dataset == 'scRNAseq') %>% \n",
    "                    select(Type, cell.type) %>% table() %>% data.frame() %>%\n",
    "                    group_by(Type) %>% \n",
    "                    mutate(prop = Freq / sum(Freq)) \n",
    "ggplot(total_prop,\n",
    "       aes(y = cell.type, x = prop, fill = Type)) + \n",
    "    geom_bar(position = position_dodge(),\n",
    "             stat = \"identity\") + \n",
    "    labs(x = \"Proportion\", y = \"\",\n",
    "         ) + \n",
    "    theme_classic(base_size = 25) + \n",
    "    theme(axis.text.y = element_text(size = 30)) +\n",
    "    theme(legend.position = \"none\") + \n",
    "    scale_y_discrete(limits = cluster_order) + \n",
    "    scale_x_continuous(limits = c(0, 0.6)) + \n",
    "    scale_fill_manual(values = rev(c(\"darkorchid\", 'darkolivegreen4')))\n",
    "\n",
    "\n",
    "total_prop <- all_cell_meta %>% filter(dataset == 'snRNAseq') %>% \n",
    "                    select(Type, cell.type) %>% table() %>% data.frame() %>% \n",
    "                    group_by(Type) %>% \n",
    "                    mutate(prop = Freq / sum(Freq)) \n",
    "ggplot(total_prop,\n",
    "       aes(y = cell.type, x = prop, fill = Type)) + \n",
    "    geom_bar(position = position_dodge(),\n",
    "             stat = \"identity\") + \n",
    "    labs(x = \"Proportion\", y = \"\",\n",
    "         ) + \n",
    "    theme_classic(base_size = 25) + \n",
    "    theme(axis.text.y = element_text(size = 30)) +\n",
    "    theme(legend.position = \"none\") + \n",
    "    scale_y_discrete(limits = cluster_order) + \n",
    "    scale_x_continuous(limits = c(0, 0.6)) + \n",
    "    scale_fill_manual(values = rev(c(\"darkorchid\", 'darkolivegreen4')))"
   ]
  },
  {
   "cell_type": "code",
   "execution_count": null,
   "id": "9302f111-a975-4b0a-8d16-ad39d57807ef",
   "metadata": {
    "vscode": {
     "languageId": "r"
    }
   },
   "outputs": [],
   "source": [
    "total_prop <- all_cell_meta %>% filter(dataset == 'scRNAseq') %>% \n",
    "                    select(Type, cell.type) %>% table() %>% data.frame() %>% \n",
    "                    group_by(Type) %>% \n",
    "                    mutate(Freq = Freq / sum(Freq)) "
   ]
  },
  {
   "cell_type": "code",
   "execution_count": null,
   "id": "2213b4e6-7a99-424c-bcb5-445070f01bcf",
   "metadata": {
    "vscode": {
     "languageId": "r"
    }
   },
   "outputs": [],
   "source": [
    "cell_list <- c(tnk_meta[sample(round((nrow(tnk_meta) / nrow(all_meta)) * 100000), nrow(qcd_meta)), ]) %>% pull(cell)\n",
    "round((nrow(tnk_meta) / nrow(all_meta)) * 100000)"
   ]
  },
  {
   "cell_type": "code",
   "execution_count": null,
   "id": "be67cb6e-2405-4d93-bdca-162a7cbf5011",
   "metadata": {
    "vscode": {
     "languageId": "r"
    }
   },
   "outputs": [],
   "source": [
    "downsample <- function(cell_meta, cell_type, all_meta) {\n",
    "    all_cells <- nrow(all_meta)\n",
    "    df <- cell_meta[sample(x = nrow(cell_meta), \n",
    "                           size = round((nrow(cell_meta) / all_cells) * 100000)), ] \n",
    "    df <- df %>% select(cell, sample, dataset, \n",
    "                           Site, processing.batch) %>% \n",
    "                 mutate(cell.type = cell_type)\n",
    "    return(df)\n",
    "}"
   ]
  },
  {
   "cell_type": "code",
   "execution_count": null,
   "id": "79dce750-3bc7-41b5-a2ef-2d02d24297a2",
   "metadata": {
    "vscode": {
     "languageId": "r"
    }
   },
   "outputs": [],
   "source": [
    "downsampled_meta <- rbind(downsample(tnk_meta, \"T/NK\", all_meta),\n",
    "                          downsample(myeloid_meta, \"Myeloid\", all_meta),\n",
    "                          downsample(bp_meta, \"B/Plasma\", all_meta),\n",
    "                          downsample(pt_meta, \"Proximal Tubule\", all_meta),\n",
    "                          downsample(dn_meta, \"Distal Nephron\", all_meta),\n",
    "                          downsample(loh_meta, \"Loop of Henle\", all_meta),\n",
    "                          downsample(intl_meta, \"Interstitial\", all_meta),\n",
    "                          downsample(glom_meta, \"Glomerular\", all_meta))"
   ]
  },
  {
   "cell_type": "code",
   "execution_count": null,
   "id": "0c2bee85-abdb-4083-b9ff-8556d22ce79b",
   "metadata": {
    "vscode": {
     "languageId": "r"
    }
   },
   "outputs": [],
   "source": [
    "saveRDS(downsampled_meta, \n",
    "        \"/data/srlab/ssg34/SLE_kidney_v2/data/downsampled_all/downsampled_meta.rds\")\n",
    "saveRDS(norm[, downsampled_meta$cell],\n",
    "        \"/data/srlab/ssg34/SLE_kidney_v2/data/downsampled_all/downsampled_norm.rds\")"
   ]
  },
  {
   "cell_type": "code",
   "execution_count": 2,
   "id": "5e51a0a2-1dac-4634-b3c8-8cc05eea933d",
   "metadata": {
    "vscode": {
     "languageId": "r"
    }
   },
   "outputs": [],
   "source": [
    "downsampled_meta <- readRDS(\"/data/srlab/ssg34/SLE_kidney_v2/data/downsampled_all/downsampled_meta.rds\")"
   ]
  },
  {
   "cell_type": "code",
   "execution_count": 4,
   "id": "ab618a86-cfe9-465e-b342-f36d6c84cdfa",
   "metadata": {
    "vscode": {
     "languageId": "r"
    }
   },
   "outputs": [],
   "source": [
    "all_meta <- read.csv('/data/srlab/ssg34/share/for_Roopa/QC_Annotated_Full_Kidney_Meta_sc_sn_03292024.csv')"
   ]
  },
  {
   "cell_type": "code",
   "execution_count": 9,
   "id": "5e2f1bd4-6fff-41d0-98d5-18cf844ef90b",
   "metadata": {
    "vscode": {
     "languageId": "r"
    }
   },
   "outputs": [
    {
     "name": "stderr",
     "output_type": "stream",
     "text": [
      "\u001b[1m\u001b[22mJoining, by = \"cell\"\n",
      "\u001b[1m\u001b[22mJoining, by = \"cell\"\n"
     ]
    }
   ],
   "source": [
    "downsampled_meta <- downsampled_meta %>% \n",
    "                        left_join(all_meta %>% select(cell, Type, nFeature_RNA, nCount_RNA)) %>% \n",
    "                        left_join(percent_mito)\n",
    "saveRDS(downsampled_meta, \n",
    "        \"/data/srlab/ssg34/SLE_kidney_v2/data/downsampled_all/downsampled_meta.rds\")"
   ]
  },
  {
   "cell_type": "markdown",
   "id": "e65ed257-99a0-4c41-b99a-13fde942e1e6",
   "metadata": {},
   "source": [
    "## TABLE 1"
   ]
  },
  {
   "cell_type": "code",
   "execution_count": 5,
   "id": "f0712b59-7f5d-4e7f-a508-108c16a54236",
   "metadata": {
    "vscode": {
     "languageId": "r"
    }
   },
   "outputs": [],
   "source": [
    "all_cell_meta <- read.csv('/data/srlab/ssg34/share/for_Roopa/QC_Annotated_Full_Kidney_Meta_sc_sn_03292024.csv')"
   ]
  },
  {
   "cell_type": "code",
   "execution_count": 28,
   "id": "557d3781-d920-4757-a857-cb8b1572c43e",
   "metadata": {
    "vscode": {
     "languageId": "r"
    }
   },
   "outputs": [],
   "source": [
    "all_cell_meta <- all_cell_meta %>% \n",
    "                    mutate(individual = ifelse(dataset == 'scRNAseq', \n",
    "                                               str_remove(sample, \"AMPSLEkid_cells_\"), \n",
    "                                               str_remove(sample, \"AMPSLEkid_nuc_\")))"
   ]
  },
  {
   "cell_type": "code",
   "execution_count": 29,
   "id": "a1f75a11-41b8-46b3-83ca-68774ac21786",
   "metadata": {
    "vscode": {
     "languageId": "r"
    }
   },
   "outputs": [],
   "source": [
    "clinical <- readRDS('/data/srlab/ssg34/SLE_kidney_v2/data/cna_new/clinical_data_05042023.rds') %>% rename(Final_Site = Site)"
   ]
  },
  {
   "cell_type": "code",
   "execution_count": 73,
   "id": "4136a5df-0ced-4d27-a7b7-4f05271f03f0",
   "metadata": {
    "vscode": {
     "languageId": "r"
    }
   },
   "outputs": [],
   "source": [
    "first_biop_pred <- readRDS(\"/data/srlab2/qxiao/AMP-SLE/data/clinical/df_pred_biop.rds\") %>% \n",
    "                        mutate(individual = str_split(Subject_ID, '-')) %>% \n",
    "                        rowwise() %>% \n",
    "                        mutate(individual = unlist(individual)[2])"
   ]
  },
  {
   "cell_type": "code",
   "execution_count": 33,
   "id": "81aae4f5-185d-4ec2-b29f-3ab478669345",
   "metadata": {
    "vscode": {
     "languageId": "r"
    }
   },
   "outputs": [],
   "source": [
    "clinical_LN <- clinical %>% \n",
    "                filter(Type == \"LN\",\n",
    "                       individual %in% unique(all_cell_meta$individual))\n",
    "clinical_ctrl <- clinical %>% \n",
    "                    filter(Type == \"Control\",\n",
    "                            individual %in% unique(all_cell_meta$individual))"
   ]
  },
  {
   "cell_type": "code",
   "execution_count": 70,
   "id": "f81d6ef7-02fe-4f6f-abf4-e69bd004bec8",
   "metadata": {
    "vscode": {
     "languageId": "r"
    }
   },
   "outputs": [],
   "source": [
    "med_use <- read.csv('/data/srlab/ssg34/SLE_kidney_v2/data/meds_scRNA_kidney.csv') %>% mutate(individual = gsub(\"SLE\", \"\", patientID))"
   ]
  },
  {
   "cell_type": "markdown",
   "id": "d75211b7-6465-4e46-83bc-0b4822aac484",
   "metadata": {},
   "source": [
    "## Cluster"
   ]
  },
  {
   "cell_type": "code",
   "execution_count": null,
   "id": "c91ee265-682e-4459-96ce-0d7649dcf657",
   "metadata": {
    "vscode": {
     "languageId": "r"
    }
   },
   "outputs": [],
   "source": [
    "all_meta <- readRDS('/data/srlab/ssg34/SLE_kidney_v2/data/downsampled_all/final_meta.rds')"
   ]
  },
  {
   "cell_type": "code",
   "execution_count": null,
   "id": "c11eec42-eb12-40d9-bb81-69f33b250f76",
   "metadata": {
    "vscode": {
     "languageId": "r"
    }
   },
   "outputs": [],
   "source": [
    "all_harmony <- readRDS('/data/srlab/ssg34/SLE_kidney_v2/data/downsampled_all/harmony.rds')"
   ]
  },
  {
   "cell_type": "code",
   "execution_count": null,
   "id": "a8a93eb6-21af-4454-a0cb-d5c26699e579",
   "metadata": {
    "vscode": {
     "languageId": "r"
    }
   },
   "outputs": [],
   "source": [
    "resolution_list <- c(0.1, 0.2, 0.3, 0.4)\n",
    "snn_ref <- BuildSNNSeurat(all_meta[,paste0(\"hPC-\", 1:20)], nn.eps = 0)\n",
    "ids_ref <- Reduce(cbind, mclapply(resolution_list, function(res_use) {\n",
    "    Seurat:::RunModularityClustering(SNN = snn_ref, modularity = 1, \n",
    "        resolution = res_use, algorithm = 1, n.start = 20, \n",
    "        n.iter = 20, random.seed = 100, print.output = FALSE, \n",
    "        temp.file.location = NULL, edge.file.name = NULL)\n",
    "}, mc.preschedule = FALSE, mc.cores = min(20, length(resolution_list))))\n",
    "gc()\n",
    "colnames(ids_ref) <- sprintf(\"hres.%.2f\", resolution_list)"
   ]
  },
  {
   "cell_type": "code",
   "execution_count": null,
   "id": "18d600b6-9058-4185-bc4e-f59bca1249b2",
   "metadata": {
    "vscode": {
     "languageId": "r"
    }
   },
   "outputs": [],
   "source": [
    "all_meta <- all_meta %>% cbind(ids_ref)"
   ]
  },
  {
   "cell_type": "markdown",
   "id": "865eebac-7fbd-4413-87a2-59a439fa14e2",
   "metadata": {},
   "source": [
    "## PLOT"
   ]
  },
  {
   "cell_type": "code",
   "execution_count": null,
   "id": "a17ec656-9bf2-4d20-961a-3243d58fae01",
   "metadata": {
    "vscode": {
     "languageId": "r"
    }
   },
   "outputs": [],
   "source": [
    "all_meta <- readRDS('/data/srlab/ssg34/SLE_kidney_v2/data/downsampled_all/final_meta.rds')"
   ]
  },
  {
   "cell_type": "code",
   "execution_count": null,
   "id": "aaf8accc-f583-4c29-8ffe-4f89f3181ae7",
   "metadata": {
    "vscode": {
     "languageId": "r"
    }
   },
   "outputs": [],
   "source": [
    "norm <- readRDS('/data/srlab2/qxiao/AMP-SLE/sc_nuc_data/normalized_data_ScNuc_500nGene_1000nUMI_3pctnontargetMTwdoubletandsampleFINAL-8-10-22.rds')"
   ]
  },
  {
   "cell_type": "code",
   "execution_count": 6,
   "id": "cc2c4949-37b3-4366-9d59-dd42274b6dcb",
   "metadata": {
    "vscode": {
     "languageId": "r"
    }
   },
   "outputs": [],
   "source": [
    "cluster_center <- all_meta %>%\n",
    "                  group_by(cell.type) %>%\n",
    "                  summarise_at(vars(huwotUMAP1, huwotUMAP2), funs(median(., na.rm=TRUE)))\n",
    "cluster_center <- as.data.frame(cluster_center)"
   ]
  },
  {
   "cell_type": "code",
   "execution_count": 8,
   "id": "76d1b08f-bc7b-406e-b34c-b1ff87f01db8",
   "metadata": {
    "vscode": {
     "languageId": "r"
    }
   },
   "outputs": [
    {
     "name": "stderr",
     "output_type": "stream",
     "text": [
      "\u001b[1m\u001b[22mSaving 6.67 x 6.67 in image\n"
     ]
    },
    {
     "data": {
      "image/png": "[encoded data removed]",
      "text/plain": [
       "plot without title"
      ]
     },
     "metadata": {
      "image/png": {
       "height": 600,
       "width": 600
      }
     },
     "output_type": "display_data"
    }
   ],
   "source": [
    "options(repr.plot.height = 10, repr.plot.width = 10)\n",
    "\n",
    "p <- ggplot() +\n",
    "      geom_point(\n",
    "        data = all_meta[sample(nrow(all_meta)), ] %>% \n",
    "          select(huwotUMAP1, huwotUMAP2, cell.type) %>% \n",
    "                  mutate(cell.type = as.factor(cell.type)), \n",
    "        aes(x = huwotUMAP1, y = huwotUMAP2, color = cell.type),\n",
    "        size = 0.1, stroke = 0.0001, shape = 20\n",
    "      ) +\n",
    "      ggrepel::geom_label_repel(\n",
    "        data = cluster_center,\n",
    "        aes(x = huwotUMAP1, y = huwotUMAP2, \n",
    "            label = cell.type, color = cell.type),\n",
    "        size = 8,  \n",
    "        box.padding = unit(1, \"lines\"),\n",
    "        point.padding = unit(0.2, \"lines\"),\n",
    "          show.legend = FALSE,\n",
    "      ) +\n",
    "        ggthemes::scale_color_tableau(palette = \"Tableau 10\") +\n",
    "    theme_classic(base_size = 15) +\n",
    "      theme(\n",
    "        legend.position = \"none\",\n",
    "            #  plot.title = element_text(hjust = 0.5, \n",
    "            #                            size = 18, \n",
    "            #                            face = \"bold\"),\n",
    "              axis.title = element_text(hjust = 0.75, \n",
    "                                        size = 20, \n",
    "                                        face = \"bold\"), \n",
    "              axis.text = element_blank(),\n",
    "              axis.line = element_blank(),\n",
    "              axis.ticks = element_blank(),\n",
    "              panel.border = element_rect(colour = \"black\", fill=NA, size=1)\n",
    "    ) +\n",
    "        labs(x = \"UMAP1\", y = \"UMAP2\") +\n",
    "        guides(color = guide_legend(ncol = 1, override.aes = list(size = 8)))\n",
    "p\n",
    "ggsave(\"/data/srlab/ssg34/SLE_kidney_v2/figures/main_figures/figure1/figure1e.png\", \n",
    "       p)"
   ]
  },
  {
   "cell_type": "code",
   "execution_count": 3,
   "id": "a370af12-e409-4f15-8208-661229fd7702",
   "metadata": {
    "vscode": {
     "languageId": "r"
    }
   },
   "outputs": [],
   "source": [
    "all_meta <- readRDS('/data/srlab/ssg34/SLE_kidney_v2/data/downsampled_all/final_meta.rds')"
   ]
  },
  {
   "cell_type": "code",
   "execution_count": null,
   "id": "bb65b4e8-a9f4-40f5-9895-24eeb7d67751",
   "metadata": {
    "vscode": {
     "languageId": "r"
    }
   },
   "outputs": [],
   "source": [
    "write.csv(all_meta, '/data/srlab/ssg34/SLE_kidney_v2/data/downsampled_all/final_meta.csv',\n",
    "          quote = FALSE)"
   ]
  },
  {
   "cell_type": "code",
   "execution_count": 28,
   "id": "37bd83fd-df4c-4e10-a1aa-8f0097935419",
   "metadata": {
    "vscode": {
     "languageId": "r"
    }
   },
   "outputs": [
    {
     "name": "stderr",
     "output_type": "stream",
     "text": [
      "\u001b[1m\u001b[22mScale for \u001b[32mcolour\u001b[39m is already present.\n",
      "Adding another scale for \u001b[32mcolour\u001b[39m, which will replace the existing scale.\n",
      "\u001b[1m\u001b[22mScale for \u001b[32mcolour\u001b[39m is already present.\n",
      "Adding another scale for \u001b[32mcolour\u001b[39m, which will replace the existing scale.\n",
      "\u001b[1m\u001b[22mScale for \u001b[32mcolour\u001b[39m is already present.\n",
      "Adding another scale for \u001b[32mcolour\u001b[39m, which will replace the existing scale.\n",
      "\u001b[1m\u001b[22mScale for \u001b[32mcolour\u001b[39m is already present.\n",
      "Adding another scale for \u001b[32mcolour\u001b[39m, which will replace the existing scale.\n"
     ]
    }
   ],
   "source": [
    "fig.size(25, 25)\n",
    "ptprc <- plot_shuffled_features(all_meta, \n",
    "                       norm, \n",
    "                       \"PTPRC\", \n",
    "                       pct = 0.99, \n",
    "                       pt_size = 0.1,\n",
    "                       legend_break = 1) + \n",
    "scale_color_viridis(name = \"Expression\", breaks = c(0, 0.75, 1.5, 2.25, 3.0))\n",
    "\n",
    "lrp2 <- plot_shuffled_features(all_meta, \n",
    "                       norm, \n",
    "                       \"LRP2\", \n",
    "                       pct = 0.99, \n",
    "                       pt_size = 0.1,\n",
    "                       legend_break = 1) + \n",
    "scale_color_viridis(name = \"Expression\", breaks = c(0, 0.9, 1.8, 2.7, 3.6))\n",
    "\n",
    "slc12a1 <- plot_shuffled_features(all_meta, \n",
    "                       norm, \n",
    "                       \"SLC12A1\", \n",
    "                       pct = 0.99, \n",
    "                       pt_size = 0.1,\n",
    "                       legend_break = 1) + \n",
    "scale_color_viridis(name = \"Expression\", breaks = c(0, 1.2, 2.4, 3.6, 4.8))\n",
    "\n",
    "pecam1 <- plot_shuffled_features(all_meta, \n",
    "                       norm, \n",
    "                       \"PECAM1\", \n",
    "                       pct = 0.99, \n",
    "                       pt_size = 0.1,\n",
    "                       legend_break = 1) + \n",
    "scale_color_viridis(name = \"Expression\", breaks = c(0, 0.9, 1.8, 2.7))"
   ]
  },
  {
   "cell_type": "code",
   "execution_count": 29,
   "id": "ea7c2eb3-5ce0-4649-810b-95fbbb3143c8",
   "metadata": {
    "vscode": {
     "languageId": "r"
    }
   },
   "outputs": [],
   "source": [
    "fig.size(20, 25)\n",
    "expr_grid <- cowplot::plot_grid(ptprc, lrp2, slc12a1, pecam1)\n",
    "cowplot::save_plot(\"/data/srlab/ssg34/SLE_kidney_v2/figures/figure1/figure1f.png\",\n",
    "                   expr_grid,\n",
    "                   nrow = 2,\n",
    "                   ncol = 2,\n",
    "                   base_height = 4,\n",
    "                   base_width = 6)"
   ]
  },
  {
   "cell_type": "markdown",
   "id": "e18f6ca2-df16-4d47-9ecc-4458cafd0707",
   "metadata": {},
   "source": [
    "## PSEUDOBULK"
   ]
  },
  {
   "cell_type": "code",
   "execution_count": 16,
   "id": "45a42910-d8c5-4b87-a834-cdfe0f5d9be2",
   "metadata": {
    "vscode": {
     "languageId": "r"
    }
   },
   "outputs": [],
   "source": [
    "downsampled_meta <- readRDS(\"/data/srlab/ssg34/SLE_kidney_v2/data/downsampled_all/downsampled_meta.rds\")\n",
    "downsampled_norm <- readRDS(\"/data/srlab/ssg34/SLE_kidney_v2/data/downsampled_all/downsampled_norm.rds\")"
   ]
  },
  {
   "cell_type": "code",
   "execution_count": null,
   "id": "f72a4429-4069-4d0a-b484-de26f4deebbc",
   "metadata": {
    "vscode": {
     "languageId": "r"
    }
   },
   "outputs": [],
   "source": [
    "out <- mclapply(unique(downsampled_meta$sample), pseudobulk, downsampled_meta, downsampled_norm,\n",
    "               mc.cores = 6)"
   ]
  },
  {
   "cell_type": "code",
   "execution_count": 36,
   "id": "4a1742a2-595a-4a60-8ecf-ceb2a038d5a5",
   "metadata": {
    "vscode": {
     "languageId": "r"
    }
   },
   "outputs": [],
   "source": [
    "downsampled_pb <- data.frame(do.call(rbind, out))"
   ]
  },
  {
   "cell_type": "code",
   "execution_count": 37,
   "id": "2cb83137-a32c-424f-a28d-d4a1ab393833",
   "metadata": {
    "vscode": {
     "languageId": "r"
    }
   },
   "outputs": [
    {
     "name": "stderr",
     "output_type": "stream",
     "text": [
      "\u001b[1m\u001b[22mJoining, by = \"sample\"\n"
     ]
    }
   ],
   "source": [
    "sample_stats <- downsampled_meta %>% group_by(sample) %>% summarize(avg_count = mean(nCount_RNA), avg_mt = mean(percent.mt))\n",
    "downsampled_pb <- downsampled_pb %>% left_join(sample_stats) "
   ]
  },
  {
   "cell_type": "code",
   "execution_count": 39,
   "id": "948f34d0-3e07-45b6-a9bd-9c9a38ea1e31",
   "metadata": {
    "vscode": {
     "languageId": "r"
    }
   },
   "outputs": [],
   "source": [
    "downsampled_pb <- downsampled_pb[grep(\"cells\", downsampled_pb$sample), ]\n",
    "colnames(downsampled_pb)[1:36601] <- rownames(downsampled_norm)"
   ]
  },
  {
   "cell_type": "code",
   "execution_count": 41,
   "id": "ef5df2b2-845b-4edc-9cdc-9c80ce9a4ab5",
   "metadata": {
    "vscode": {
     "languageId": "r"
    }
   },
   "outputs": [],
   "source": [
    "saveRDS(downsampled_pb, '/data/srlab/ssg34/SLE_kidney_v2/data/tissue/downsampled_norm_pseudobulk_10122024.rds')"
   ]
  },
  {
   "cell_type": "markdown",
   "id": "871af11f-8add-4813-b9e6-e91f69212af5",
   "metadata": {},
   "source": [
    "## ISG Gene Subset"
   ]
  },
  {
   "cell_type": "code",
   "execution_count": 20,
   "id": "b017fac4-bc3e-4baa-bc79-b2fea4eb9867",
   "metadata": {
    "vscode": {
     "languageId": "r"
    }
   },
   "outputs": [],
   "source": [
    "downsampled_pb <- readRDS('/data/srlab/ssg34/SLE_kidney_v2/data/tissue/downsampled_norm_pseudobulk_10122024.rds')"
   ]
  },
  {
   "cell_type": "code",
   "execution_count": 25,
   "id": "5312916c-f403-45e3-a24c-233e21e827ed",
   "metadata": {
    "vscode": {
     "languageId": "r"
    }
   },
   "outputs": [],
   "source": [
    "arazi_isg_genes <- unique(c(\n",
    "  \"BATF2\", \"IFI44L\", \"XAF1\", \"OASL\", \"IFI44\",\n",
    "  \"OAS2\", \"TRIM6\", \"HES4\", \"OTOF\", \"IFI44L\",\n",
    "  \"DDX60\", \"IFITM3\", \"IFIT3\", \"CXCL10\", \"SERPING1\",\n",
    "  \"SPATS2L\", \"RSAD2\", \"LY6E\", \"OAS1\", \"IFIT1\",\n",
    "  \"IFIT3\", \"OAS3\", \"OAS1\", \"OASL\", \"CMPK2\",\n",
    "  \"HERC5\", \"OAS1\", \"MX1\", \"HERC6\",\n",
    "  \"IFITM1\", \"TRIM5\", \"EIF2AK2\", \"AIM2\", \"MT1A\",\n",
    "  \"MOV10\", \"CCL8\", \"HELZ2\", \"ZBP1\", \"WARS\",\n",
    "  \"LAP3\", \"TNFSF10\", \"GBP1\", \"STAT1\", \"FBXO6\",\n",
    "  \"PARP10\", \"OAS2\", \"TRIM22\", \"PARP10\", \"GBP3\",\n",
    "  \"ZNF684\", \"CARD17\", \"GALM\", \"DHX58\", \"CEACAM1\",\n",
    "  \"UBE2L6\", \"CEACAM1\", \"APOL6\", \"SOCS1\", \"DDX58\",\n",
    "  \"UBE2L6\", \"TNFAIP6\", \"IDO1\", \"GBP6\", \"STAT2\",\n",
    "  \"TIMM10\", \"STAT1\", \"PARP12\", \"PARP9\", \"GBP1\",\n",
    "  \"GBP4\", \"IFIH1\", \"IRF7\", \"PARP14\", \"IFIT2\",\n",
    "  \"IFI35\", \"STAT1\", \"IFIT5\", \"ZNFX1\", \"PHF11\",\n",
    "  \"ACTA2\", \"SP140\", \"ABCA1\", \"TCN2\", \"ZC3HAV1\",\n",
    "  \"HSH2D\", \"GBP2\", \"TRIM5\", \"RHBDF2\", \"TMEM140\",\n",
    "  \"ADAR\", \"BTN3A1\", \"LGALS9\", \"NBN\", \"TYMP\",\n",
    "  \"SRBD1\", \"NCOA7\", \"UNC93B1\", \"SP100\", \"DHRS9\",\n",
    "  \"TRANK1\", \"TRIM5\", \"NT5C3A\", \"ASPRV1\", \"IRF9\",\n",
    "  \"REC8\", \"RNF213\", \"ISG20\", \"DYNLT1\", \"TRIM56\",\n",
    "  \"SP140\", \"TRIM38\", \"PSMB9\", \"CPT1B\", \"BST2\",\n",
    "  \"NMI\", \"RBCK1\", \"TRAFD1\", \"TRIM21\", \"CARD16\",\n",
    "  \"CHMP5\", \"TAP2\", \"SP110\", \"GADD45B\", \"TAP1\"\n",
    "))"
   ]
  },
  {
   "cell_type": "code",
   "execution_count": 28,
   "id": "ec0c3bf0-22fc-4a80-8530-ea8626902be0",
   "metadata": {
    "vscode": {
     "languageId": "r"
    }
   },
   "outputs": [],
   "source": [
    "sds <- data.frame()\n",
    "for (gene in arazi_isg_genes) {\n",
    "    sds <- sds %>% rbind(data.frame(\"Std\" = sd(downsampled_pb[, gene]),\n",
    "                                    \"Gene\" = gene)) \n",
    "}"
   ]
  },
  {
   "cell_type": "code",
   "execution_count": 32,
   "id": "803c1c99-ec81-4f28-b038-d0e2c50fa95e",
   "metadata": {
    "vscode": {
     "languageId": "r"
    }
   },
   "outputs": [],
   "source": [
    "genes <- sds %>% arrange(desc(Std)) %>% slice(1:20) %>% pull(Gene)"
   ]
  },
  {
   "cell_type": "code",
   "execution_count": 33,
   "id": "05c76b4a-a31c-4bc7-835c-11373db02e79",
   "metadata": {
    "vscode": {
     "languageId": "r"
    }
   },
   "outputs": [],
   "source": [
    "saveRDS(genes, '/data/srlab/ssg34/SLE_kidney_v2/data/pseudobulk_de/isg_genes.rds')"
   ]
  },
  {
   "cell_type": "markdown",
   "id": "99c352f3-e4fe-493a-a0eb-d056dd9c8413",
   "metadata": {},
   "source": [
    "## CASE CONTROL CNA"
   ]
  },
  {
   "cell_type": "code",
   "execution_count": null,
   "id": "29760fe6-a837-4b4c-884a-22d661d990e5",
   "metadata": {
    "scrolled": true,
    "tags": [],
    "vscode": {
     "languageId": "r"
    }
   },
   "outputs": [],
   "source": [
    "first_biop_pred <- readRDS(\"/data/srlab2/qxiao/AMP-SLE/data/clinical/df_pred_biop.rds\") %>% \n",
    "                        mutate(individual = str_split(Subject_ID, '-')) %>% \n",
    "                        rowwise() %>% \n",
    "                        mutate(individual = unlist(individual)[2])\n",
    "\n",
    "\n",
    "sc_meta <- all_meta[, !colnames(all_meta) %in% colnames(clinical)] %>% \n",
    "                        mutate(kid_sample = all_meta$sample) %>% \n",
    "                        filter(dataset == 'scRNAseq') %>% \n",
    "                        mutate(individual = str_split(kid_sample, '_')) %>% \n",
    "                        rowwise() %>% \n",
    "                        mutate(individual = unlist(individual)[3]) %>% \n",
    "                        left_join(clinical) %>% \n",
    "                        left_join(first_biop_pred) %>% \n",
    "                        select(c(cell, paste0('hPC-', 1:20), Sex, huwotUMAP1, huwotUMAP2, sample, cell.type,\n",
    "                                 Responder.Status, Age, Race, Final_ISN, Final_Chronicity, Final_Activity, Type, Final_Site,\n",
    "                                 First_biop, Pred_use)) \n",
    "\n",
    "sn_meta <- all_meta[, !colnames(all_meta) %in% colnames(clinical)] %>% \n",
    "                        mutate(kid_sample = all_meta$sample) %>% \n",
    "                        filter(dataset == 'snRNAseq') %>% \n",
    "                        mutate(individual = str_split(kid_sample, '_')) %>% \n",
    "                        rowwise() %>% \n",
    "                        mutate(individual = unlist(individual)[3]) %>% \n",
    "                        left_join(clinical) %>% \n",
    "                        left_join(first_biop_pred) %>% \n",
    "                        select(c(cell, paste0('hPC-', 1:20), Sex, huwotUMAP1, huwotUMAP2, sample, cell.type,\n",
    "                                 Responder.Status, Age, Race, Final_ISN, Final_Chronicity, Final_Activity, Type, Final_Site,\n",
    "                                 First_biop, Pred_use)) "
   ]
  },
  {
   "cell_type": "code",
   "execution_count": null,
   "id": "c86d8ef3-3dda-46b3-87cd-6bedc04f3423",
   "metadata": {
    "vscode": {
     "languageId": "r"
    }
   },
   "outputs": [],
   "source": [
    "meta <- sc_meta %>% select(-c(colnames(sn_meta[grep('hPC-', colnames(sn_meta))]), \n",
    "                          colnames(sn_meta[grep('UMAP', colnames(sn_meta))])))\n",
    "harmony <- sc_meta %>% select(colnames(sn_meta)[grep('hPC-', colnames(sn_meta))])\n",
    "\n",
    "umap <- sc_meta %>% select(c(huwotUMAP1, huwotUMAP2))\n",
    "\n",
    "ind <- c(1:nrow(meta))[!is.na(meta$Type)]\n",
    "\n",
    "meta <- meta[ind, ]\n",
    "umap <- umap[ind, ]\n",
    "harmony <- harmony[ind, ]\n",
    "\n",
    "meta$Age <- as.numeric(scale(meta$Age))\n",
    "meta$Sex <- as.numeric(as.factor(meta$Sex))\n",
    "meta$Final_Chronicity <- as.factor(as.numeric(meta$Final_Chronicity))\n",
    "meta$Final_Activity <- as.factor(as.numeric(meta$Final_Activity))\n",
    "\n",
    "meta <- meta %>% left_join(data.frame(Case.Control = c(0, 1),\n",
    "                                      Type = c(\"Control\", \"LN\")))\n",
    "\n",
    "meta <- meta %>% left_join(data.frame(Responder_Status = c(0, 1, 2),\n",
    "                                      Responder.Status = c(\"NR\", \"PR\", \"CR\")))\n",
    "\n",
    "meta$Responder_Status <- as.numeric(meta$Responder_Status)\n",
    "meta$First_biop <- as.numeric(meta$First_biop)\n",
    "meta$Pred_use <- as.numeric(meta$Pred_use)\n",
    "\n",
    "\n",
    "\n",
    "meta <- fastDummies::dummy_cols(meta, \"Race\")\n",
    "meta <- fastDummies::dummy_cols(meta, \"Final_ISN\")\n",
    "meta <- fastDummies::dummy_cols(meta, \"Final_Site\")\n",
    "\n",
    "\n",
    "\n",
    "write.csv(meta, '/data/srlab/ssg34/SLE_kidney_v2/data/cna_new/downsampled_tissue/case_control/sc_meta.csv', \n",
    "          row.names = FALSE, quote = FALSE)\n",
    "write.csv(harmony, '/data/srlab/ssg34/SLE_kidney_v2/data/cna_new/downsampled_tissue/case_control/sc_harmony.csv', \n",
    "          row.names = FALSE, quote = FALSE)\n",
    "write.csv(umap, '/data/srlab/ssg34/SLE_kidney_v2/data/cna_new/downsampled_tissue/case_control/sc_umap.csv', \n",
    "          row.names = FALSE, quote = FALSE)"
   ]
  },
  {
   "cell_type": "code",
   "execution_count": null,
   "id": "87e257b0-4788-481d-b3ec-52f5170d649c",
   "metadata": {
    "vscode": {
     "languageId": "r"
    }
   },
   "outputs": [],
   "source": [
    "meta <- sn_meta %>% select(-c(colnames(sn_meta[grep('hPC-', colnames(sn_meta))]), \n",
    "                          colnames(sn_meta[grep('UMAP', colnames(sn_meta))])))\n",
    "harmony <- sn_meta %>% select(colnames(sn_meta)[grep('hPC-', colnames(sn_meta))])\n",
    "\n",
    "umap <- sn_meta %>% select(c(huwotUMAP1, huwotUMAP2))\n",
    "\n",
    "ind <- c(1:nrow(meta))[!is.na(meta$Type)]\n",
    "\n",
    "meta <- meta[ind, ]\n",
    "umap <- umap[ind, ]\n",
    "harmony <- harmony[ind, ]\n",
    "\n",
    "meta$Age <- as.numeric(scale(meta$Age))\n",
    "meta$Sex <- as.numeric(as.factor(meta$Sex))\n",
    "meta$Final_Chronicity <- as.factor(as.numeric(meta$Final_Chronicity))\n",
    "meta$Final_Activity <- as.factor(as.numeric(meta$Final_Activity))\n",
    "\n",
    "meta <- meta %>% left_join(data.frame(Case.Control = c(0, 1),\n",
    "                                      Type = c(\"Control\", \"LN\")))\n",
    "\n",
    "meta <- meta %>% left_join(data.frame(Responder_Status = c(0, 1, 2),\n",
    "                                      Responder.Status = c(\"NR\", \"PR\", \"CR\")))\n",
    "\n",
    "meta$Responder_Status <- as.numeric(meta$Responder_Status)\n",
    "meta$First_biop <- as.numeric(meta$First_biop)\n",
    "meta$Pred_use <- as.numeric(meta$Pred_use)\n",
    "\n",
    "\n",
    "\n",
    "meta <- fastDummies::dummy_cols(meta, \"Race\")\n",
    "meta <- fastDummies::dummy_cols(meta, \"Final_ISN\")\n",
    "meta <- fastDummies::dummy_cols(meta, \"Final_Site\")\n",
    "\n",
    "\n",
    "\n",
    "write.csv(meta, '/data/srlab/ssg34/SLE_kidney_v2/data/cna_new/downsampled_tissue/case_control/sn_meta.csv', \n",
    "          row.names = FALSE, quote = FALSE)\n",
    "write.csv(harmony, '/data/srlab/ssg34/SLE_kidney_v2/data/cna_new/downsampled_tissue/case_control/sn_harmony.csv', \n",
    "          row.names = FALSE, quote = FALSE)\n",
    "write.csv(umap, '/data/srlab/ssg34/SLE_kidney_v2/data/cna_new/downsampled_tissue/case_control/sn_umap.csv', \n",
    "          row.names = FALSE, quote = FALSE)"
   ]
  },
  {
   "cell_type": "markdown",
   "id": "959a9a5e-065c-4ea6-be60-2f738637ad41",
   "metadata": {},
   "source": [
    "### RESULTS"
   ]
  },
  {
   "cell_type": "code",
   "execution_count": 4,
   "id": "2f5cfa63-c441-4d8f-9b4e-329f83e68a67",
   "metadata": {
    "vscode": {
     "languageId": "r"
    }
   },
   "outputs": [],
   "source": [
    "options(warn=-1)\n",
    "meta <- read.csv('/data/srlab/ssg34/SLE_kidney_v2/data/cna_new/downsampled_tissue/case_control/sc_meta.csv')\n",
    "umap <- read.csv('/data/srlab/ssg34/SLE_kidney_v2/data/cna_new/downsampled_tissue/case_control/sc_umap.csv')\n",
    "ncorr <- read.csv(\"/data/srlab/ssg34/SLE_kidney_v2/data/cna_new/downsampled_tissue/case_control/sc_ncorr.csv\", header = FALSE)\n",
    "fdrs <- read.csv(\"/data/srlab/ssg34/SLE_kidney_v2/data/cna_new/downsampled_tissue/case_control/sc_fdrs.csv\", header = FALSE)\n",
    "colnames(fdrs) <- c('threshold', 'fdr', 'ncells')\n",
    "meta$ncorr <- ncorr$V1\n",
    "\n",
    "fdr <- fdrs %>% filter(fdr < 0.05) %>% \n",
    "            mutate(fdr = round(fdr, 4)) %>% \n",
    "            filter(fdr == max(fdr)) %>% \n",
    "            pull(threshold)\n",
    "\n",
    "tmp_meta <- meta %>% mutate(ncorr_thresh = ifelse(abs(meta$ncorr) > fdr, ncorr, NA))\n",
    "tmp_meta <- cbind(tmp_meta, umap)\n"
   ]
  },
  {
   "cell_type": "code",
   "execution_count": 6,
   "id": "a8b91c65-d255-4496-8e38-e896184453a8",
   "metadata": {
    "vscode": {
     "languageId": "r"
    }
   },
   "outputs": [],
   "source": [
    "title = 'scRNA-Seq'"
   ]
  },
  {
   "cell_type": "code",
   "execution_count": 10,
   "id": "0a227e55-82ed-4e04-a540-fed60a280a90",
   "metadata": {
    "tags": [],
    "vscode": {
     "languageId": "r"
    }
   },
   "outputs": [],
   "source": [
    "tmp_meta = tmp_meta %>% rename(hUMAP1 = huwotUMAP1, hUMAP2 = huwotUMAP2)"
   ]
  },
  {
   "cell_type": "code",
   "execution_count": 7,
   "id": "a06deed4-a0ed-488d-bd47-a2ee9938384a",
   "metadata": {
    "vscode": {
     "languageId": "r"
    }
   },
   "outputs": [],
   "source": [
    "globalp = 9.999000099990002e-05 # From ssg34/SLE_kidney_v2/scripts/cna/T_NK_CNA.ipynb\n",
    "pheno = 'LN'"
   ]
  },
  {
   "cell_type": "code",
   "execution_count": 47,
   "id": "1ee86c91-16f5-4dc6-90d2-bc663ea17434",
   "metadata": {
    "tags": [],
    "vscode": {
     "languageId": "r"
    }
   },
   "outputs": [
    {
     "data": {
      "image/png": "[encoded data removed]",
      "text/plain": [
       "plot without title"
      ]
     },
     "metadata": {
      "image/png": {
       "height": 240,
       "width": 210
      }
     },
     "output_type": "display_data"
    }
   ],
   "source": [
    "fig.size(3, 3)\n",
    "cna_umap <- ggplot() + \n",
    "      geom_point(data = tmp_meta,\n",
    "                aes(x = hUMAP1, y = hUMAP2), color = 'lightgrey', size = 0.75, stroke = 1e-10, shape = 20) + \n",
    "      geom_point(\n",
    "      data = tmp_meta[sample(nrow(tmp_meta)),] %>% rename(correlation = ncorr_thresh), \n",
    "          aes(x = hUMAP1, y = hUMAP2, color = correlation), size = 0.75, stroke = 1e-10, shape = 20) + \n",
    "      scale_color_gradient2(low = 'blue', mid = 'lightgray', high = 'red', na.value = \"lightgrey\",\n",
    "                            guide = guide_colorbar(direction = \"horizontal\"),\n",
    "                           breaks = seq(-1, 1, by = 0.5)\n",
    "                           ) + \n",
    "    theme_classic(base_size = tickfontsize) +\n",
    "      theme(\n",
    "        legend.position = \"right\",\n",
    "        legend.text = element_text(size = labelfontsize-4),\n",
    "        legend.title = element_text(size = labelfontsize),\n",
    "          plot.title = element_text(hjust = 0.5, size = labelfontsize),\n",
    "          axis.title = element_text(size = labelfontsize), \n",
    "          axis.text = element_blank(),\n",
    "          axis.line = element_blank(),\n",
    "          axis.ticks = element_blank(),\n",
    "          panel.border = element_rect(colour = \"black\", fill=NA, size=1)\n",
    "    ) +\n",
    "    annotate(\"text\", x = .5, y = -10, hjust = 0,\n",
    "         label = bquote(P[.(pheno)] < \"\"), \n",
    "         size = 6)+\n",
    "    annotate(\"text\", x = .5, y = -14, hjust = 0, \n",
    "         label = bquote(.(formatC(globalp, format = \"e\", digits = 2))), \n",
    "         size = 6)+\n",
    "    labs(title = title, x = \"UMAP1\", y = \"UMAP2\", color = 'Correlation') + \n",
    "    theme(text=element_text(family=\"Arial\")) \n",
    "umap_legend <- cowplot::get_legend(cna_umap)\n",
    "cna_umap <- cna_umap + theme(legend.position = \"none\")\n",
    "umap_legend <- cowplot::plot_grid(umap_legend)\n",
    "\n",
    "\n",
    "height = 4\n",
    "width = 3.5\n",
    "fig.size(height, width)\n",
    "outplot = cna_umap + umap_legend + plot_layout(heights = c(6, 1.5))\n",
    "outplot\n",
    "\n",
    "ggsave(paste0(figdir, 'downsampled_sc_cna_umap.png'), plot = outplot,  \n",
    "       height = height, width = width, dpi = 500)\n",
    "ggsave(paste0(figdir, 'downsampled_sc_cna_umap.pdf'), plot = outplot,  \n",
    "       height = height, width = width, dpi = 500, device = cairo_pdf)"
   ]
  },
  {
   "cell_type": "code",
   "execution_count": 50,
   "id": "f015dc6f-b3f3-406f-81d2-77d978e35d73",
   "metadata": {
    "vscode": {
     "languageId": "r"
    }
   },
   "outputs": [
    {
     "name": "stderr",
     "output_type": "stream",
     "text": [
      "\u001b[1m\u001b[22mOrientation inferred to be along y-axis; override with\n",
      "`position_quasirandom(orientation = 'x')`\n",
      "\u001b[1m\u001b[22mOrientation inferred to be along y-axis; override with\n",
      "`position_quasirandom(orientation = 'x')`\n",
      "\u001b[1m\u001b[22mOrientation inferred to be along y-axis; override with\n",
      "`position_quasirandom(orientation = 'x')`\n"
     ]
    },
    {
     "data": {
      "image/png": "[encoded data removed]",
      "text/plain": [
       "plot without title"
      ]
     },
     "metadata": {
      "image/png": {
       "height": 240,
       "width": 306
      }
     },
     "output_type": "display_data"
    }
   ],
   "source": [
    "# meta = meta %>% mutate(final_annotation_num = final_annotation %>% str_split('. ') %>% map(1) %>% unlist)\n",
    "meta = meta %>% mutate(final_annotation_num = cell.type)\n",
    "pos_fdr_thresh <- fdr\n",
    "neg_fdr_thresh <- -1 * fdr\n",
    "\n",
    "interval <- c(-max(abs(meta$ncorr)), max(abs(meta$ncorr)))\n",
    "\n",
    "\n",
    "violin_plot <- ggplot(meta, aes(y = reorder(final_annotation_num, ncorr), x = ncorr)) +\n",
    "                    ggbeeswarm::geom_quasirandom(aes(color = ncorr), width = 0.25, size = 0.5) +\n",
    "                    geom_vline(xintercept = neg_fdr_thresh, linetype = \"dashed\", color = \"darkgrey\") +\n",
    "                    geom_vline(xintercept = pos_fdr_thresh, linetype = \"dashed\", color = \"darkgrey\") +\n",
    "                    geom_vline(xintercept = 0, linetype = \"dashed\", color = \"darkgrey\") +\n",
    "                    scale_color_gradient2(low = 'blue', mid = 'lightgray', high = 'red', na.value = \"lightgrey\",\n",
    "                                            guide = guide_colorbar(direction = \"horizontal\"),\n",
    "                                           breaks = seq(-1, 1, by = 0.5)\n",
    "                                           ) + \n",
    "                    scale_x_continuous(breaks = pretty(meta$ncorr, n = 3)) +\n",
    "                    labs( x= \"Neighborhood\\nCorrelation\", y = \"\", title = \"\") +\n",
    "                    theme_classic(base_size = tickfontsize) +\n",
    "                    theme(text=element_text(family=\"Arial\"),\n",
    "                        legend.position = \"none\",\n",
    "                        panel.grid = element_blank(),\n",
    "                        axis.text.x = element_text(color = \"black\", size = labelfontsize, hjust=0.5),\n",
    "                        axis.text.y = element_text(color = \"black\", size = labelfontsize, hjust=1),\n",
    "                        axis.title = element_text(size=labelfontsize, hjust = 0.5),\n",
    "                        axis.line.x.bottom = element_line(color = 'black'),\n",
    "                        axis.line.y.left   = element_line(color = 'black'),\n",
    "                        plot.margin = margin(10, 40, 10, 10)\n",
    "                         \n",
    "                         )\n",
    "\n",
    "height = 4\n",
    "width = 5.1\n",
    "fig.size(height, width)\n",
    "outplot = violin_plot #+ plot_layout(heights = c(6, 1.5))\n",
    "outplot\n",
    "\n",
    "ggsave(paste0(figdir, 'downsampled_sc_violin_plot.png'), plot = outplot,  \n",
    "       height = height, width = width, dpi = 500)\n",
    "ggsave(paste0(figdir, 'downsampled_sc_violin_plot.pdf'), plot = outplot,  \n",
    "       height = height, width = width, dpi = 500, device = cairo_pdf)"
   ]
  },
  {
   "cell_type": "code",
   "execution_count": 57,
   "id": "9bb3df5d-cae7-4f05-aa7e-0d26397d71a0",
   "metadata": {
    "vscode": {
     "languageId": "r"
    }
   },
   "outputs": [],
   "source": [
    "options(warn=-1)\n",
    "meta <- read.csv('/data/srlab/ssg34/SLE_kidney_v2/data/cna_new/downsampled_tissue/case_control/sn_meta.csv')\n",
    "umap <- read.csv('/data/srlab/ssg34/SLE_kidney_v2/data/cna_new/downsampled_tissue/case_control/sn_umap.csv')\n",
    "ncorr <- read.csv(\"/data/srlab/ssg34/SLE_kidney_v2/data/cna_new/downsampled_tissue/case_control/sn_ncorr.csv\", header = FALSE)\n",
    "fdrs <- read.csv(\"/data/srlab/ssg34/SLE_kidney_v2/data/cna_new/downsampled_tissue/case_control/sn_fdrs.csv\", header = FALSE)\n",
    "colnames(fdrs) <- c('threshold', 'fdr', 'ncells')\n",
    "meta$ncorr <- ncorr$V1\n",
    "\n",
    "fdr <- fdrs %>% filter(fdr < 0.05) %>% \n",
    "            mutate(fdr = round(fdr, 4)) %>% \n",
    "            filter(fdr == max(fdr)) %>% \n",
    "            pull(threshold)\n",
    "\n",
    "tmp_meta <- meta %>% mutate(ncorr_thresh = ifelse(abs(meta$ncorr) > fdr, ncorr, NA))\n",
    "tmp_meta <- cbind(tmp_meta, umap)\n"
   ]
  },
  {
   "cell_type": "code",
   "execution_count": 52,
   "id": "0e1a6bb6-1486-4b55-961d-927b3ac7e007",
   "metadata": {
    "vscode": {
     "languageId": "r"
    }
   },
   "outputs": [],
   "source": [
    "title = 'snRNA-Seq'"
   ]
  },
  {
   "cell_type": "code",
   "execution_count": 58,
   "id": "b7079a8f-689e-45b1-92c7-2d17927f666b",
   "metadata": {
    "tags": [],
    "vscode": {
     "languageId": "r"
    }
   },
   "outputs": [],
   "source": [
    "tmp_meta = tmp_meta %>% rename(hUMAP1 = huwotUMAP1, hUMAP2 = huwotUMAP2)"
   ]
  },
  {
   "cell_type": "code",
   "execution_count": 54,
   "id": "01f5e93d-8c60-4ed9-a2fb-98edaf3add72",
   "metadata": {
    "vscode": {
     "languageId": "r"
    }
   },
   "outputs": [],
   "source": [
    "globalp = 9.999000099990002e-05 # From ssg34/SLE_kidney_v2/scripts/cna/T_NK_CNA.ipynb\n",
    "pheno = 'LN'"
   ]
  },
  {
   "cell_type": "code",
   "execution_count": 56,
   "id": "72344dc6-243a-4a69-9f9e-ecbb086dcd3a",
   "metadata": {
    "vscode": {
     "languageId": "r"
    }
   },
   "outputs": [
    {
     "data": {
      "text/html": [
       "<style>\n",
       ".list-inline {list-style: none; margin:0; padding: 0}\n",
       ".list-inline>li {display: inline-block}\n",
       ".list-inline>li:not(:last-child)::after {content: \"\\00b7\"; padding: 0 .5ex}\n",
       "</style>\n",
       "<ol class=list-inline><li>'cell'</li><li>'Sex'</li><li>'sample'</li><li>'cell.type'</li><li>'Responder.Status'</li><li>'Age'</li><li>'Race'</li><li>'Final_ISN'</li><li>'Final_Chronicity'</li><li>'Final_Activity'</li><li>'Type'</li><li>'Final_Site'</li><li>'First_biop'</li><li>'Pred_use'</li><li>'Case.Control'</li><li>'Responder_Status'</li><li>'Race_.A.'</li><li>'Race_.B.'</li><li>'Race_.U.'</li><li>'Race_.W.'</li><li>'Final_ISN_.III.'</li><li>'Final_ISN_.III..V.'</li><li>'Final_ISN_.IV.'</li><li>'Final_ISN_.IV..V.'</li><li>'Final_ISN_.V.'</li><li>'Final_ISN_NA'</li><li>'Final_Site_Cincinnati'</li><li>'Final_Site_JHU'</li><li>'Final_Site_Michigan'</li><li>'Final_Site_MUSC'</li><li>'Final_Site_Northwell'</li><li>'Final_Site_NYU'</li><li>'Final_Site_Rochester'</li><li>'Final_Site_Texas.Tech'</li><li>'Final_Site_UCSF'</li><li>'ncorr'</li><li>'ifelse(abs(meta$ncorr) &gt; fdr, ncorr, NA)'</li><li>'hUMAP1'</li><li>'hUMAP2'</li></ol>\n"
      ],
      "text/latex": [
       "\\begin{enumerate*}\n",
       "\\item 'cell'\n",
       "\\item 'Sex'\n",
       "\\item 'sample'\n",
       "\\item 'cell.type'\n",
       "\\item 'Responder.Status'\n",
       "\\item 'Age'\n",
       "\\item 'Race'\n",
       "\\item 'Final\\_ISN'\n",
       "\\item 'Final\\_Chronicity'\n",
       "\\item 'Final\\_Activity'\n",
       "\\item 'Type'\n",
       "\\item 'Final\\_Site'\n",
       "\\item 'First\\_biop'\n",
       "\\item 'Pred\\_use'\n",
       "\\item 'Case.Control'\n",
       "\\item 'Responder\\_Status'\n",
       "\\item 'Race\\_.A.'\n",
       "\\item 'Race\\_.B.'\n",
       "\\item 'Race\\_.U.'\n",
       "\\item 'Race\\_.W.'\n",
       "\\item 'Final\\_ISN\\_.III.'\n",
       "\\item 'Final\\_ISN\\_.III..V.'\n",
       "\\item 'Final\\_ISN\\_.IV.'\n",
       "\\item 'Final\\_ISN\\_.IV..V.'\n",
       "\\item 'Final\\_ISN\\_.V.'\n",
       "\\item 'Final\\_ISN\\_NA'\n",
       "\\item 'Final\\_Site\\_Cincinnati'\n",
       "\\item 'Final\\_Site\\_JHU'\n",
       "\\item 'Final\\_Site\\_Michigan'\n",
       "\\item 'Final\\_Site\\_MUSC'\n",
       "\\item 'Final\\_Site\\_Northwell'\n",
       "\\item 'Final\\_Site\\_NYU'\n",
       "\\item 'Final\\_Site\\_Rochester'\n",
       "\\item 'Final\\_Site\\_Texas.Tech'\n",
       "\\item 'Final\\_Site\\_UCSF'\n",
       "\\item 'ncorr'\n",
       "\\item 'ifelse(abs(meta\\$ncorr) > fdr, ncorr, NA)'\n",
       "\\item 'hUMAP1'\n",
       "\\item 'hUMAP2'\n",
       "\\end{enumerate*}\n"
      ],
      "text/markdown": [
       "1. 'cell'\n",
       "2. 'Sex'\n",
       "3. 'sample'\n",
       "4. 'cell.type'\n",
       "5. 'Responder.Status'\n",
       "6. 'Age'\n",
       "7. 'Race'\n",
       "8. 'Final_ISN'\n",
       "9. 'Final_Chronicity'\n",
       "10. 'Final_Activity'\n",
       "11. 'Type'\n",
       "12. 'Final_Site'\n",
       "13. 'First_biop'\n",
       "14. 'Pred_use'\n",
       "15. 'Case.Control'\n",
       "16. 'Responder_Status'\n",
       "17. 'Race_.A.'\n",
       "18. 'Race_.B.'\n",
       "19. 'Race_.U.'\n",
       "20. 'Race_.W.'\n",
       "21. 'Final_ISN_.III.'\n",
       "22. 'Final_ISN_.III..V.'\n",
       "23. 'Final_ISN_.IV.'\n",
       "24. 'Final_ISN_.IV..V.'\n",
       "25. 'Final_ISN_.V.'\n",
       "26. 'Final_ISN_NA'\n",
       "27. 'Final_Site_Cincinnati'\n",
       "28. 'Final_Site_JHU'\n",
       "29. 'Final_Site_Michigan'\n",
       "30. 'Final_Site_MUSC'\n",
       "31. 'Final_Site_Northwell'\n",
       "32. 'Final_Site_NYU'\n",
       "33. 'Final_Site_Rochester'\n",
       "34. 'Final_Site_Texas.Tech'\n",
       "35. 'Final_Site_UCSF'\n",
       "36. 'ncorr'\n",
       "37. 'ifelse(abs(meta$ncorr) &gt; fdr, ncorr, NA)'\n",
       "38. 'hUMAP1'\n",
       "39. 'hUMAP2'\n",
       "\n",
       "\n"
      ],
      "text/plain": [
       " [1] \"cell\"                                    \n",
       " [2] \"Sex\"                                     \n",
       " [3] \"sample\"                                  \n",
       " [4] \"cell.type\"                               \n",
       " [5] \"Responder.Status\"                        \n",
       " [6] \"Age\"                                     \n",
       " [7] \"Race\"                                    \n",
       " [8] \"Final_ISN\"                               \n",
       " [9] \"Final_Chronicity\"                        \n",
       "[10] \"Final_Activity\"                          \n",
       "[11] \"Type\"                                    \n",
       "[12] \"Final_Site\"                              \n",
       "[13] \"First_biop\"                              \n",
       "[14] \"Pred_use\"                                \n",
       "[15] \"Case.Control\"                            \n",
       "[16] \"Responder_Status\"                        \n",
       "[17] \"Race_.A.\"                                \n",
       "[18] \"Race_.B.\"                                \n",
       "[19] \"Race_.U.\"                                \n",
       "[20] \"Race_.W.\"                                \n",
       "[21] \"Final_ISN_.III.\"                         \n",
       "[22] \"Final_ISN_.III..V.\"                      \n",
       "[23] \"Final_ISN_.IV.\"                          \n",
       "[24] \"Final_ISN_.IV..V.\"                       \n",
       "[25] \"Final_ISN_.V.\"                           \n",
       "[26] \"Final_ISN_NA\"                            \n",
       "[27] \"Final_Site_Cincinnati\"                   \n",
       "[28] \"Final_Site_JHU\"                          \n",
       "[29] \"Final_Site_Michigan\"                     \n",
       "[30] \"Final_Site_MUSC\"                         \n",
       "[31] \"Final_Site_Northwell\"                    \n",
       "[32] \"Final_Site_NYU\"                          \n",
       "[33] \"Final_Site_Rochester\"                    \n",
       "[34] \"Final_Site_Texas.Tech\"                   \n",
       "[35] \"Final_Site_UCSF\"                         \n",
       "[36] \"ncorr\"                                   \n",
       "[37] \"ifelse(abs(meta$ncorr) > fdr, ncorr, NA)\"\n",
       "[38] \"hUMAP1\"                                  \n",
       "[39] \"hUMAP2\"                                  "
      ]
     },
     "metadata": {},
     "output_type": "display_data"
    }
   ],
   "source": [
    "tmp_meta %>% colnames"
   ]
  },
  {
   "cell_type": "code",
   "execution_count": 62,
   "id": "43ae67b6-f9d4-4f5e-b002-9bc57ec34436",
   "metadata": {
    "tags": [],
    "vscode": {
     "languageId": "r"
    }
   },
   "outputs": [
    {
     "data": {
      "image/png": "[encoded data removed]",
      "text/plain": [
       "plot without title"
      ]
     },
     "metadata": {
      "image/png": {
       "height": 240,
       "width": 210
      }
     },
     "output_type": "display_data"
    }
   ],
   "source": [
    "fig.size(3, 3)\n",
    "cna_umap <- ggplot() + \n",
    "      geom_point(data = tmp_meta,\n",
    "                aes(x = hUMAP1, y = hUMAP2), color = 'lightgrey', size = 0.75, stroke = 1e-10, shape = 20) + \n",
    "      geom_point(\n",
    "      data = tmp_meta[sample(nrow(tmp_meta)),] %>% rename(correlation = ncorr_thresh), \n",
    "          aes(x = hUMAP1, y = hUMAP2, color = correlation), size = 0.75, stroke = 1e-10, shape = 20) + \n",
    "      scale_color_gradient2(low = 'blue', mid = 'lightgray', high = 'red', na.value = \"lightgrey\",\n",
    "                            guide = guide_colorbar(direction = \"horizontal\"),\n",
    "                           breaks = seq(-1, 1, by = 0.5)\n",
    "                           ) + \n",
    "    theme_classic(base_size = tickfontsize) +\n",
    "      theme(\n",
    "        legend.position = \"right\",\n",
    "        legend.text = element_text(size = labelfontsize-4),\n",
    "        legend.title = element_text(size = labelfontsize),\n",
    "          plot.title = element_text(hjust = 0.5, size = labelfontsize),\n",
    "          axis.title = element_text(size = labelfontsize), \n",
    "          axis.text = element_blank(),\n",
    "          axis.line = element_blank(),\n",
    "          axis.ticks = element_blank(),\n",
    "          panel.border = element_rect(colour = \"black\", fill=NA, size=1)\n",
    "    ) +\n",
    "    annotate(\"text\", x = .5, y = -9.5, hjust = 0,\n",
    "         label = bquote(P[.(pheno)] < \"\"), \n",
    "         size = 6)+\n",
    "    annotate(\"text\", x = .5, y = -13.5, hjust = 0, \n",
    "         label = bquote(.(formatC(globalp, format = \"e\", digits = 2))), \n",
    "         size = 6)+\n",
    "    labs(title = title, x = \"UMAP1\", y = \"UMAP2\", color = 'Correlation') + \n",
    "    theme(text=element_text(family=\"Arial\")) \n",
    "umap_legend <- cowplot::get_legend(cna_umap)\n",
    "cna_umap <- cna_umap + theme(legend.position = \"none\")\n",
    "umap_legend <- cowplot::plot_grid(umap_legend)\n",
    "\n",
    "\n",
    "height = 4\n",
    "width = 3.5\n",
    "fig.size(height, width)\n",
    "outplot = cna_umap + umap_legend + plot_layout(heights = c(6, 1.5))\n",
    "outplot\n",
    "\n",
    "ggsave(paste0(figdir, 'downsampled_sn_cna_umap.png'), plot = outplot,  \n",
    "       height = height, width = width, dpi = 500)\n",
    "ggsave(paste0(figdir, 'downsampled_sn_cna_umap.pdf'), plot = outplot,  \n",
    "       height = height, width = width, dpi = 500, device = cairo_pdf)"
   ]
  },
  {
   "cell_type": "code",
   "execution_count": 64,
   "id": "1233c4ee-8427-4461-aaab-cba1ca8da3e3",
   "metadata": {
    "vscode": {
     "languageId": "r"
    }
   },
   "outputs": [
    {
     "name": "stderr",
     "output_type": "stream",
     "text": [
      "\u001b[1m\u001b[22mOrientation inferred to be along y-axis; override with\n",
      "`position_quasirandom(orientation = 'x')`\n",
      "\u001b[1m\u001b[22mOrientation inferred to be along y-axis; override with\n",
      "`position_quasirandom(orientation = 'x')`\n",
      "\u001b[1m\u001b[22mOrientation inferred to be along y-axis; override with\n",
      "`position_quasirandom(orientation = 'x')`\n"
     ]
    },
    {
     "data": {
      "image/png": "[encoded data removed]",
      "text/plain": [
       "plot without title"
      ]
     },
     "metadata": {
      "image/png": {
       "height": 240,
       "width": 306
      }
     },
     "output_type": "display_data"
    }
   ],
   "source": [
    "# meta = meta %>% mutate(final_annotation_num = final_annotation %>% str_split('. ') %>% map(1) %>% unlist)\n",
    "meta = meta %>% mutate(final_annotation_num = cell.type)\n",
    "pos_fdr_thresh <- fdr\n",
    "neg_fdr_thresh <- -1 * fdr\n",
    "\n",
    "interval <- c(-max(abs(meta$ncorr)), max(abs(meta$ncorr)))\n",
    "\n",
    "\n",
    "violin_plot <- ggplot(meta, aes(y = reorder(final_annotation_num, ncorr), x = ncorr)) +\n",
    "                    ggbeeswarm::geom_quasirandom(aes(color = ncorr), width = 0.25, size = 0.5) +\n",
    "                    geom_vline(xintercept = neg_fdr_thresh, linetype = \"dashed\", color = \"darkgrey\") +\n",
    "                    geom_vline(xintercept = pos_fdr_thresh, linetype = \"dashed\", color = \"darkgrey\") +\n",
    "                    geom_vline(xintercept = 0, linetype = \"dashed\", color = \"darkgrey\") +\n",
    "                    scale_color_gradient2(low = 'blue', mid = 'lightgray', high = 'red', na.value = \"lightgrey\",\n",
    "                                            guide = guide_colorbar(direction = \"horizontal\"),\n",
    "                                           breaks = seq(-1, 1, by = 0.5)\n",
    "                                           ) + \n",
    "                    scale_x_continuous(breaks = pretty(meta$ncorr, n = 3)) +\n",
    "                    labs( x= \"Neighborhood\\nCorrelation\", y = \"\", title = \"\") +\n",
    "                    theme_classic(base_size = tickfontsize) +\n",
    "                    theme(text=element_text(family=\"Arial\"),\n",
    "                        legend.position = \"none\",\n",
    "                        panel.grid = element_blank(),\n",
    "                        axis.text.x = element_text(color = \"black\", size = labelfontsize, hjust=0.5),\n",
    "                        axis.text.y = element_text(color = \"black\", size = labelfontsize, hjust=1),\n",
    "                        axis.title = element_text(size=labelfontsize, hjust = 0.5),\n",
    "                        axis.line.x.bottom = element_line(color = 'black'),\n",
    "                        axis.line.y.left   = element_line(color = 'black'),\n",
    "                        plot.margin = margin(10, 40, 10, 10)\n",
    "                         \n",
    "                         )\n",
    "\n",
    "height = 4\n",
    "width = 5.1\n",
    "fig.size(height, width)\n",
    "outplot = violin_plot #+ plot_layout(heights = c(6, 1.5))\n",
    "outplot\n",
    "\n",
    "ggsave(paste0(figdir, 'downsampled_sn_violin_plot.png'), plot = outplot,  \n",
    "       height = height, width = width, dpi = 500)\n",
    "ggsave(paste0(figdir, 'downsampled_sn_violin_plot.pdf'), plot = outplot,  \n",
    "       height = height, width = width, dpi = 500, device = cairo_pdf)"
   ]
  }
 ],
 "metadata": {
  "kernelspec": {
   "display_name": "R [conda env:miniforge3-seurat5_env]",
   "language": "R",
   "name": "conda-env-miniforge3-seurat5_env-r"
  },
  "language_info": {
   "codemirror_mode": "r",
   "file_extension": ".r",
   "mimetype": "text/x-r-source",
   "name": "R",
   "pygments_lexer": "r",
   "version": "4.2.3"
  },
  "toc-autonumbering": true
 },
 "nbformat": 4,
 "nbformat_minor": 5
}
