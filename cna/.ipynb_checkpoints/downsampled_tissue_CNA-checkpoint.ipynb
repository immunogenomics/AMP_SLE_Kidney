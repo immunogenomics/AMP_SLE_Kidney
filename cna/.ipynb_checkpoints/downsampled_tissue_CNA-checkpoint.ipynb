{
 "cells": [
  {
   "cell_type": "code",
   "execution_count": 6,
   "id": "688d67d0-1982-4a4b-9bca-162df7102db2",
   "metadata": {},
   "outputs": [],
   "source": [
    "import scanpy as sc\n",
    "import numpy as np\n",
    "import pandas as pd\n",
    "import matplotlib.pyplot as plt\n",
    "import scipy.stats as st\n",
    "import cna\n",
    "import multianndata as mad\n",
    "\n",
    "# For Aparna's Import\n",
    "import scipy.io\n",
    "\n",
    "# For reproducibility\n",
    "np.random.seed(0) "
   ]
  },
  {
   "cell_type": "code",
   "execution_count": 7,
   "id": "f255e936-7dbe-4b5e-9908-d744ec561a14",
   "metadata": {},
   "outputs": [],
   "source": [
    "def run_cna(variable, cna_obj, covs = None):\n",
    "    if covs is not None:\n",
    "        cna_res = cna.tl._association.association(cna_obj, #dataset \n",
    "                                                  cna_obj.samplem[variable], #phenotype\n",
    "            #                                       batches=d.samplem.processing_batch, #batches\n",
    "                                                  covs = cna_obj.samplem[covs],\n",
    "                                                  Nnull=10000, # number of null permutations to do (defaults to only 1e3)\n",
    "                                                  ks=[1,2,3,4,5,6,7,8,9,10,11,12,13,14,15,16,17,18,19,20] # I asked the method to consider up to 10 PCs because\n",
    "                                                                            #it chose the max number of PCs it considered the default set of [1,2,3,4]\n",
    "                                                 )\n",
    "    else:\n",
    "        cna_res = cna.tl._association.association(cna_obj, #dataset \n",
    "                                                  cna_obj.samplem[variable], #phenotype\n",
    "            #                                       batches=d.samplem.processing_batch, #batches\n",
    "                                                 # covs = d.samplem[covs]\n",
    "                                                  Nnull=10000, # number of null permutations to do (defaults to only 1e3)\n",
    "                                                  ks=[1,2,3,4,5,6,7,8,9,10,11,12,13,14,15,16,17,18,19,20] # I asked the method to consider up to 10 PCs because\n",
    "                                                                            #it chose the max number of PCs it considered the default set of [1,2,3,4]\n",
    "                                                 )\n",
    "        \n",
    "    return cna_res\n",
    "def cna_test(meta_df, harmony_df, umap_df, variable, covars = None):\n",
    "    print(meta_df.shape)\n",
    "    print(harmony_df.shape)\n",
    "    print(umap_df.shape)\n",
    "    cna_object = mad.MultiAnnData(X=harmony_df, obs=meta_df, sampleid=\"sample\")\n",
    "    if covars is not None:   \n",
    "        cna_object.obs_to_sample(covars + [variable])\n",
    "        umap_df.index = cna_object.obs.index\n",
    "        cna_object.obsm['X_umap'] = umap_df\n",
    "        cna.pp.knn(cna_object)\n",
    "        np.random.seed(0) \n",
    "        final_res = run_cna(variable, cna_object, covs = covars)\n",
    "    else:\n",
    "        cna_object.obs_to_sample([variable])\n",
    "        umap_df.index = cna_object.obs.index\n",
    "        cna_object.obsm['X_umap'] = umap_df\n",
    "        cna.pp.knn(cna_object)\n",
    "        np.random.seed(0) \n",
    "        final_res = run_cna(variable, cna_object, covs = None)\n",
    "    print(final_res.k)\n",
    "    print(final_res.ks)\n",
    "    print('p =', final_res.p, ',', final_res.k, 'PCs used')\n",
    "    print('total r^2 between top {} NAM PCs and outcome is {:.2f}'.format(final_res.k, final_res.r2))\n",
    "    return final_res"
   ]
  },
  {
   "cell_type": "code",
   "execution_count": 109,
   "id": "e780f5f8-11ac-40f6-b6be-2cd044ed9ef0",
   "metadata": {},
   "outputs": [],
   "source": [
    "univariate_res = pd.DataFrame(columns = ['Variable', 'Technology', 'global_pvalue'])"
   ]
  },
  {
   "cell_type": "markdown",
   "id": "7faef606-6ba5-44fe-a7af-69b59e580cff",
   "metadata": {},
   "source": [
    "# CASE/CONTROL"
   ]
  },
  {
   "cell_type": "markdown",
   "id": "a3217539-80ba-4cfb-b110-ab6c33a19b7a",
   "metadata": {},
   "source": [
    "## Single Cell"
   ]
  },
  {
   "cell_type": "code",
   "execution_count": 37,
   "id": "90b6daa0-f92c-4309-981d-6c2c22c3d0fd",
   "metadata": {},
   "outputs": [
    {
     "name": "stdout",
     "output_type": "stream",
     "text": [
      "(79025, 41)\n"
     ]
    }
   ],
   "source": [
    "meta = pd.read_csv('/data/srlab/ssg34/SLE_kidney_v2/data/cna_new/downsampled_tissue/case_control/sc_meta.csv')\n",
    "print(meta.shape)"
   ]
  },
  {
   "cell_type": "code",
   "execution_count": 39,
   "id": "409e3486-eab1-44a4-8105-351911f21afe",
   "metadata": {},
   "outputs": [
    {
     "name": "stdout",
     "output_type": "stream",
     "text": [
      "(79025, 20)\n"
     ]
    }
   ],
   "source": [
    "harmony = pd.read_csv('/data/srlab/ssg34/SLE_kidney_v2/data/cna_new/downsampled_tissue/case_control/sc_harmony.csv')\n",
    "print(harmony.shape)"
   ]
  },
  {
   "cell_type": "code",
   "execution_count": 40,
   "id": "12c4b83b-6935-44aa-9983-fd8829a7f0f4",
   "metadata": {},
   "outputs": [
    {
     "name": "stdout",
     "output_type": "stream",
     "text": [
      "(79025, 2)\n"
     ]
    }
   ],
   "source": [
    "umap = pd.read_csv('/data/srlab/ssg34/SLE_kidney_v2/data/cna_new/downsampled_tissue/case_control/sc_umap.csv')\n",
    "print(umap.shape)"
   ]
  },
  {
   "cell_type": "code",
   "execution_count": 41,
   "id": "73c56598-4d6c-422b-9361-830d17a6340c",
   "metadata": {},
   "outputs": [
    {
     "name": "stdout",
     "output_type": "stream",
     "text": [
      "(79025, 41)\n",
      "(79025, 20)\n",
      "(79025, 2)\n",
      "warning: the following columns of obs are non-numeric.\n",
      "['cell' 'sample' 'cell.type' 'Responder.Status' 'Race' 'Final_ISN' 'Type'\n",
      " 'Final_Site']\n",
      "consider casting to numeric types where appropriate, and\n",
      "consider re-coding text-valued columns with pandas.get_dummies\n",
      "computing default knn graph\n"
     ]
    },
    {
     "name": "stderr",
     "output_type": "stream",
     "text": [
      "/PHShome/ssg34/.conda/envs/plswork/lib/python3.9/site-packages/multianndata/core.py:17: FutureWarning: X.dtype being converted to np.float32 from float64. In the next version of anndata (0.9) conversion will not be automatic. Pass dtype explicitly to avoid this warning. Pass `AnnData(X, dtype=X.dtype, ...)` to get the future behavour.\n",
      "  super().__init__(*args, **kwargs)\n",
      "/PHShome/ssg34/.conda/envs/plswork/lib/python3.9/site-packages/anndata/_core/anndata.py:121: ImplicitModificationWarning: Transforming to str index.\n",
      "  warnings.warn(\"Transforming to str index.\", ImplicitModificationWarning)\n"
     ]
    },
    {
     "name": "stdout",
     "output_type": "stream",
     "text": [
      "qcd NAM not found; computing and saving\n",
      "\ttaking step 1\n",
      "\tmedian kurtosis: 51.397159576416016\n",
      "\t20th percentile R2(t,t-1): nan\n",
      "\ttaking step 2\n",
      "\tmedian kurtosis: 33.884281158447266\n",
      "\t20th percentile R2(t,t-1): 0.7785238027572632\n",
      "\ttaking step 3\n",
      "\tmedian kurtosis: 22.908390045166016\n",
      "\t20th percentile R2(t,t-1): 0.9216914176940918\n",
      "\ttaking step 4\n",
      "\tmedian kurtosis: 17.108659744262695\n",
      "\t20th percentile R2(t,t-1): 0.9576030373573303\n",
      "\ttaking step 5\n",
      "\tmedian kurtosis: 13.87435531616211\n",
      "\t20th percentile R2(t,t-1): 0.9738996624946594\n",
      "\ttaking step 6\n",
      "\tmedian kurtosis: 11.900806427001953\n",
      "\t20th percentile R2(t,t-1): 0.9830936789512634\n",
      "stopping after 6 steps\n",
      "covariate-adjusted NAM not found; computing and saving\n"
     ]
    },
    {
     "name": "stderr",
     "output_type": "stream",
     "text": [
      "/PHShome/ssg34/.conda/envs/plswork/lib/python3.9/site-packages/cna/tools/_nam.py:79: UserWarning: only one unique batch supplied to qc\n",
      "  warnings.warn('only one unique batch supplied to qc')\n",
      "/PHShome/ssg34/.conda/envs/plswork/lib/python3.9/site-packages/cna/tools/_nam.py:101: UserWarning: only one unique batch supplied to prep\n",
      "  warnings.warn('only one unique batch supplied to prep')\n"
     ]
    },
    {
     "name": "stdout",
     "output_type": "stream",
     "text": [
      "computing SVD\n",
      "performing association test\n"
     ]
    },
    {
     "name": "stderr",
     "output_type": "stream",
     "text": [
      "/PHShome/ssg34/.conda/envs/plswork/lib/python3.9/site-packages/cna/tools/_association.py:57: UserWarning: data supported use of 20 NAM PCs, which is the maximum considered. Consider allowing more PCs by using the \"ks\" argument.\n",
      "  warnings.warn(('data supported use of {} NAM PCs, which is the maximum considered. '+\\\n",
      "\n",
      "KeyboardInterrupt\n",
      "\n"
     ]
    }
   ],
   "source": [
    "res = cna_test(meta, harmony, umap, 'Case.Control')"
   ]
  },
  {
   "cell_type": "code",
   "execution_count": 10,
   "id": "957aa851-56a1-407c-a603-cc1c01ca499e",
   "metadata": {},
   "outputs": [],
   "source": [
    "np.savetxt(\"/data/srlab/ssg34/SLE_kidney_v2/data/cna_new/downsampled_tissue/case_control/sc_ncorr.csv\", \n",
    "               res.ncorrs, delimiter=\",\")\n",
    "np.savetxt(\"/data/srlab/ssg34/SLE_kidney_v2/data/cna_new/downsampled_tissue/case_control/sc_fdrs.csv\", \n",
    "               res.fdrs, delimiter=\",\")"
   ]
  },
  {
   "cell_type": "markdown",
   "id": "bec196a5-ae10-4a51-ad97-78d4fab44feb",
   "metadata": {},
   "source": [
    "## Single Nuclear"
   ]
  },
  {
   "cell_type": "code",
   "execution_count": 14,
   "id": "bd31a53d-af2d-4e12-ba6f-1a6d2744ffff",
   "metadata": {},
   "outputs": [
    {
     "name": "stdout",
     "output_type": "stream",
     "text": [
      "(20975, 35)\n"
     ]
    }
   ],
   "source": [
    "meta = pd.read_csv('/data/srlab/ssg34/SLE_kidney_v2/data/cna_new/downsampled_tissue/case_control/sn_meta.csv')\n",
    "print(meta.shape)"
   ]
  },
  {
   "cell_type": "code",
   "execution_count": 15,
   "id": "96c87aee-80f4-4126-bff4-65a941b4a533",
   "metadata": {},
   "outputs": [
    {
     "name": "stdout",
     "output_type": "stream",
     "text": [
      "(20975, 20)\n"
     ]
    }
   ],
   "source": [
    "harmony = pd.read_csv('/data/srlab/ssg34/SLE_kidney_v2/data/cna_new/downsampled_tissue/case_control/sn_harmony.csv')\n",
    "print(harmony.shape)"
   ]
  },
  {
   "cell_type": "code",
   "execution_count": 16,
   "id": "8cdaccef-9298-4097-be71-57f6e52aea49",
   "metadata": {},
   "outputs": [
    {
     "name": "stdout",
     "output_type": "stream",
     "text": [
      "(20975, 2)\n"
     ]
    }
   ],
   "source": [
    "umap = pd.read_csv('/data/srlab/ssg34/SLE_kidney_v2/data/cna_new/downsampled_tissue/case_control/sn_umap.csv')\n",
    "print(umap.shape)"
   ]
  },
  {
   "cell_type": "code",
   "execution_count": 17,
   "id": "c014468d-2a9f-4e9b-a818-ef087ea35840",
   "metadata": {},
   "outputs": [
    {
     "name": "stdout",
     "output_type": "stream",
     "text": [
      "(20975, 35)\n",
      "(20975, 20)\n",
      "(20975, 2)\n",
      "warning: the following columns of obs are non-numeric.\n",
      "['cell' 'sample' 'cell.type' 'Responder.Status' 'Race' 'Final_ISN' 'Type'\n",
      " 'Final_Site']\n",
      "consider casting to numeric types where appropriate, and\n",
      "consider re-coding text-valued columns with pandas.get_dummies\n",
      "computing default knn graph\n"
     ]
    },
    {
     "name": "stderr",
     "output_type": "stream",
     "text": [
      "/PHShome/ssg34/.conda/envs/plswork/lib/python3.9/site-packages/multianndata/core.py:17: FutureWarning: X.dtype being converted to np.float32 from float64. In the next version of anndata (0.9) conversion will not be automatic. Pass dtype explicitly to avoid this warning. Pass `AnnData(X, dtype=X.dtype, ...)` to get the future behavour.\n",
      "  super().__init__(*args, **kwargs)\n",
      "/PHShome/ssg34/.conda/envs/plswork/lib/python3.9/site-packages/anndata/_core/anndata.py:121: ImplicitModificationWarning: Transforming to str index.\n",
      "  warnings.warn(\"Transforming to str index.\", ImplicitModificationWarning)\n"
     ]
    },
    {
     "name": "stdout",
     "output_type": "stream",
     "text": [
      "qcd NAM not found; computing and saving\n",
      "\ttaking step 1\n",
      "\tmedian kurtosis: 13.905879020690918\n",
      "\t20th percentile R2(t,t-1): nan\n",
      "\ttaking step 2\n",
      "\tmedian kurtosis: 9.825618743896484\n",
      "\t20th percentile R2(t,t-1): 0.7822014451026916\n",
      "\ttaking step 3\n",
      "\tmedian kurtosis: 7.507389545440674\n",
      "\t20th percentile R2(t,t-1): 0.9253754258155823\n",
      "stopping after 3 steps\n",
      "covariate-adjusted NAM not found; computing and saving\n",
      "computing SVD\n"
     ]
    },
    {
     "name": "stderr",
     "output_type": "stream",
     "text": [
      "/PHShome/ssg34/.conda/envs/plswork/lib/python3.9/site-packages/cna/tools/_nam.py:79: UserWarning: only one unique batch supplied to qc\n",
      "  warnings.warn('only one unique batch supplied to qc')\n",
      "/PHShome/ssg34/.conda/envs/plswork/lib/python3.9/site-packages/cna/tools/_nam.py:101: UserWarning: only one unique batch supplied to prep\n",
      "  warnings.warn('only one unique batch supplied to prep')\n"
     ]
    },
    {
     "name": "stdout",
     "output_type": "stream",
     "text": [
      "performing association test\n"
     ]
    },
    {
     "name": "stderr",
     "output_type": "stream",
     "text": [
      "/PHShome/ssg34/.conda/envs/plswork/lib/python3.9/site-packages/cna/tools/_association.py:74: UserWarning: global association p-value attained minimal possible value. Consider increasing Nnull\n",
      "  warnings.warn('global association p-value attained minimal possible value. '+\\\n"
     ]
    },
    {
     "name": "stdout",
     "output_type": "stream",
     "text": [
      "computing neighborhood-level FDRs\n",
      "16\n",
      "[1, 2, 3, 4, 5, 6, 7, 8, 9, 10, 11, 12, 13, 14, 15, 16, 17, 18, 19, 20]\n",
      "p = 9.999000099990002e-05 , 16 PCs used\n",
      "total r^2 between top 16 NAM PCs and outcome is 0.81\n"
     ]
    }
   ],
   "source": [
    "res = cna_test(meta, harmony, umap, 'Case.Control')"
   ]
  },
  {
   "cell_type": "code",
   "execution_count": 18,
   "id": "b51fba89-914f-4c2d-9cb3-8b35082e215a",
   "metadata": {},
   "outputs": [],
   "source": [
    "np.savetxt(\"/data/srlab/ssg34/SLE_kidney_v2/data/cna_new/downsampled_tissue/case_control/sn_ncorr.csv\", \n",
    "               res.ncorrs, delimiter=\",\")\n",
    "np.savetxt(\"/data/srlab/ssg34/SLE_kidney_v2/data/cna_new/downsampled_tissue/case_control/sn_fdrs.csv\", \n",
    "               res.fdrs, delimiter=\",\")"
   ]
  },
  {
   "cell_type": "markdown",
   "id": "1ac43524-5ebc-40db-9a48-cc6146ddafa0",
   "metadata": {},
   "source": [
    "# AGE"
   ]
  },
  {
   "cell_type": "markdown",
   "id": "acb2cde6-c3dd-47be-9144-3a6f6c4a486f",
   "metadata": {},
   "source": [
    "## Single Cell"
   ]
  },
  {
   "cell_type": "code",
   "execution_count": 110,
   "id": "c46e024b-62f0-4346-be78-5e1ebc3b9172",
   "metadata": {},
   "outputs": [
    {
     "name": "stdout",
     "output_type": "stream",
     "text": [
      "(71120, 39)\n"
     ]
    }
   ],
   "source": [
    "meta = pd.read_csv('/data/srlab/ssg34/SLE_kidney_v2/data/cna_new/downsampled_tissue/age/sc_meta.csv')\n",
    "print(meta.shape)"
   ]
  },
  {
   "cell_type": "code",
   "execution_count": 111,
   "id": "cdd044ad-ca50-4bda-8b2d-537e9f942ca3",
   "metadata": {},
   "outputs": [
    {
     "name": "stdout",
     "output_type": "stream",
     "text": [
      "(71120, 20)\n"
     ]
    }
   ],
   "source": [
    "harmony = pd.read_csv('/data/srlab/ssg34/SLE_kidney_v2/data/cna_new/downsampled_tissue/age/sc_harmony.csv')\n",
    "print(harmony.shape)"
   ]
  },
  {
   "cell_type": "code",
   "execution_count": 112,
   "id": "cc7f5a99-1b01-4d3f-a94e-3d67235ad669",
   "metadata": {},
   "outputs": [
    {
     "name": "stdout",
     "output_type": "stream",
     "text": [
      "(71120, 2)\n"
     ]
    }
   ],
   "source": [
    "umap = pd.read_csv('/data/srlab/ssg34/SLE_kidney_v2/data/cna_new/downsampled_tissue/age/sc_umap.csv')\n",
    "print(umap.shape)"
   ]
  },
  {
   "cell_type": "code",
   "execution_count": 113,
   "id": "dc3336dd-e8de-405b-ba81-a75112a60e39",
   "metadata": {},
   "outputs": [
    {
     "name": "stdout",
     "output_type": "stream",
     "text": [
      "(71120, 39)\n",
      "(71120, 20)\n",
      "(71120, 2)\n",
      "warning: the following columns of obs are non-numeric.\n",
      "['cell' 'sample' 'cell.type' 'Responder.Status' 'Race' 'Type' 'Final_ISN'\n",
      " 'Final_Site']\n",
      "consider casting to numeric types where appropriate, and\n",
      "consider re-coding text-valued columns with pandas.get_dummies\n",
      "computing default knn graph\n"
     ]
    },
    {
     "name": "stderr",
     "output_type": "stream",
     "text": [
      "/PHShome/ssg34/.conda/envs/plswork/lib/python3.9/site-packages/multianndata/core.py:17: FutureWarning: X.dtype being converted to np.float32 from float64. In the next version of anndata (0.9) conversion will not be automatic. Pass dtype explicitly to avoid this warning. Pass `AnnData(X, dtype=X.dtype, ...)` to get the future behavour.\n",
      "  super().__init__(*args, **kwargs)\n",
      "/PHShome/ssg34/.conda/envs/plswork/lib/python3.9/site-packages/anndata/_core/anndata.py:121: ImplicitModificationWarning: Transforming to str index.\n",
      "  warnings.warn(\"Transforming to str index.\", ImplicitModificationWarning)\n"
     ]
    },
    {
     "name": "stdout",
     "output_type": "stream",
     "text": [
      "qcd NAM not found; computing and saving\n",
      "\ttaking step 1\n",
      "\tmedian kurtosis: 42.821128845214844\n",
      "\t20th percentile R2(t,t-1): nan\n",
      "\ttaking step 2\n",
      "\tmedian kurtosis: 28.430946350097656\n",
      "\t20th percentile R2(t,t-1): 0.7792342305183411\n",
      "\ttaking step 3\n",
      "\tmedian kurtosis: 19.353656768798828\n",
      "\t20th percentile R2(t,t-1): 0.9228097796440125\n",
      "\ttaking step 4\n",
      "\tmedian kurtosis: 14.69758415222168\n",
      "\t20th percentile R2(t,t-1): 0.9582582116127014\n",
      "\ttaking step 5\n",
      "\tmedian kurtosis: 12.140487670898438\n",
      "\t20th percentile R2(t,t-1): 0.9747512340545654\n",
      "stopping after 5 steps\n",
      "covariate-adjusted NAM not found; computing and saving\n"
     ]
    },
    {
     "name": "stderr",
     "output_type": "stream",
     "text": [
      "/PHShome/ssg34/.conda/envs/plswork/lib/python3.9/site-packages/cna/tools/_nam.py:79: UserWarning: only one unique batch supplied to qc\n",
      "  warnings.warn('only one unique batch supplied to qc')\n",
      "/PHShome/ssg34/.conda/envs/plswork/lib/python3.9/site-packages/cna/tools/_nam.py:101: UserWarning: only one unique batch supplied to prep\n",
      "  warnings.warn('only one unique batch supplied to prep')\n"
     ]
    },
    {
     "name": "stdout",
     "output_type": "stream",
     "text": [
      "computing SVD\n",
      "performing association test\n",
      "computing neighborhood-level FDRs\n",
      "8\n",
      "[1, 2, 3, 4, 5, 6, 7, 8, 9, 10, 11, 12, 13, 14, 15, 16, 17, 18, 19, 20]\n",
      "p = 0.0010998900109989002 , 8 PCs used\n",
      "total r^2 between top 8 NAM PCs and outcome is 0.19\n"
     ]
    }
   ],
   "source": [
    "res = cna_test(meta, harmony, umap, 'Age')"
   ]
  },
  {
   "cell_type": "code",
   "execution_count": 114,
   "id": "0c44ee8d-b5da-4590-b1c3-eb3c026a8a9a",
   "metadata": {},
   "outputs": [],
   "source": [
    "np.savetxt(\"/data/srlab/ssg34/SLE_kidney_v2/data/cna_new/downsampled_tissue/age/sc_ncorr.csv\", \n",
    "               res.ncorrs, delimiter=\",\")\n",
    "np.savetxt(\"/data/srlab/ssg34/SLE_kidney_v2/data/cna_new/downsampled_tissue/age/sc_fdrs.csv\", \n",
    "               res.fdrs, delimiter=\",\")"
   ]
  },
  {
   "cell_type": "code",
   "execution_count": 115,
   "id": "07e252bf-6c30-4b6b-baeb-718dd1dda1c2",
   "metadata": {},
   "outputs": [],
   "source": [
    "univariate_res = pd.concat([univariate_res,\n",
    "                            pd.DataFrame(['Age', 'scRNAseq', res.p],\n",
    "                            index = ['Variable', 'Technology', 'global_pvalue']).T])"
   ]
  },
  {
   "cell_type": "markdown",
   "id": "11f90a08-84a7-4ba8-b7ff-6425c1d5a905",
   "metadata": {},
   "source": [
    "## Single Nuclear"
   ]
  },
  {
   "cell_type": "code",
   "execution_count": 116,
   "id": "276d4a0d-5916-4be4-abf1-1dc547510a7a",
   "metadata": {},
   "outputs": [
    {
     "name": "stdout",
     "output_type": "stream",
     "text": [
      "(18660, 33)\n"
     ]
    }
   ],
   "source": [
    "meta = pd.read_csv('/data/srlab/ssg34/SLE_kidney_v2/data/cna_new/downsampled_tissue/age/sn_meta.csv')\n",
    "print(meta.shape)"
   ]
  },
  {
   "cell_type": "code",
   "execution_count": 117,
   "id": "edceeb71-7848-4180-8a70-68f6d0f57e8e",
   "metadata": {},
   "outputs": [
    {
     "name": "stdout",
     "output_type": "stream",
     "text": [
      "(18660, 20)\n"
     ]
    }
   ],
   "source": [
    "harmony = pd.read_csv('/data/srlab/ssg34/SLE_kidney_v2/data/cna_new/downsampled_tissue/age/sn_harmony.csv')\n",
    "print(harmony.shape)"
   ]
  },
  {
   "cell_type": "code",
   "execution_count": 118,
   "id": "4b4fa5a9-1cba-4ee4-b0cc-e8520f8f69d8",
   "metadata": {},
   "outputs": [
    {
     "name": "stdout",
     "output_type": "stream",
     "text": [
      "(18660, 2)\n"
     ]
    }
   ],
   "source": [
    "umap = pd.read_csv('/data/srlab/ssg34/SLE_kidney_v2/data/cna_new/downsampled_tissue/age/sn_umap.csv')\n",
    "print(umap.shape)"
   ]
  },
  {
   "cell_type": "code",
   "execution_count": 119,
   "id": "698a4c2c-c5e7-45f1-b149-9dc74d816d81",
   "metadata": {},
   "outputs": [
    {
     "name": "stdout",
     "output_type": "stream",
     "text": [
      "(18660, 33)\n",
      "(18660, 20)\n",
      "(18660, 2)\n",
      "warning: the following columns of obs are non-numeric.\n",
      "['cell' 'sample' 'cell.type' 'Responder.Status' 'Race' 'Type' 'Final_ISN'\n",
      " 'Final_Site']\n",
      "consider casting to numeric types where appropriate, and\n",
      "consider re-coding text-valued columns with pandas.get_dummies\n",
      "computing default knn graph\n"
     ]
    },
    {
     "name": "stderr",
     "output_type": "stream",
     "text": [
      "/PHShome/ssg34/.conda/envs/plswork/lib/python3.9/site-packages/multianndata/core.py:17: FutureWarning: X.dtype being converted to np.float32 from float64. In the next version of anndata (0.9) conversion will not be automatic. Pass dtype explicitly to avoid this warning. Pass `AnnData(X, dtype=X.dtype, ...)` to get the future behavour.\n",
      "  super().__init__(*args, **kwargs)\n",
      "/PHShome/ssg34/.conda/envs/plswork/lib/python3.9/site-packages/anndata/_core/anndata.py:121: ImplicitModificationWarning: Transforming to str index.\n",
      "  warnings.warn(\"Transforming to str index.\", ImplicitModificationWarning)\n"
     ]
    },
    {
     "name": "stdout",
     "output_type": "stream",
     "text": [
      "qcd NAM not found; computing and saving\n",
      "\ttaking step 1\n",
      "\tmedian kurtosis: 11.043727199233018\n",
      "\t20th percentile R2(t,t-1): nan\n",
      "\ttaking step 2\n",
      "\tmedian kurtosis: 8.146373564762346\n",
      "\t20th percentile R2(t,t-1): 0.7939578413963317\n",
      "\ttaking step 3\n",
      "\tmedian kurtosis: 6.589556547746421\n",
      "\t20th percentile R2(t,t-1): 0.9295116901397705\n",
      "stopping after 3 steps\n",
      "covariate-adjusted NAM not found; computing and saving\n",
      "computing SVD\n",
      "performing association test\n"
     ]
    },
    {
     "name": "stderr",
     "output_type": "stream",
     "text": [
      "/PHShome/ssg34/.conda/envs/plswork/lib/python3.9/site-packages/cna/tools/_nam.py:79: UserWarning: only one unique batch supplied to qc\n",
      "  warnings.warn('only one unique batch supplied to qc')\n",
      "/PHShome/ssg34/.conda/envs/plswork/lib/python3.9/site-packages/cna/tools/_nam.py:101: UserWarning: only one unique batch supplied to prep\n",
      "  warnings.warn('only one unique batch supplied to prep')\n"
     ]
    },
    {
     "name": "stdout",
     "output_type": "stream",
     "text": [
      "computing neighborhood-level FDRs\n",
      "13\n",
      "[1, 2, 3, 4, 5, 6, 7, 8, 9, 10, 11, 12, 13, 14, 15, 16, 17, 18, 19, 20]\n",
      "p = 0.2953704629537046 , 13 PCs used\n",
      "total r^2 between top 13 NAM PCs and outcome is 0.49\n"
     ]
    }
   ],
   "source": [
    "res = cna_test(meta, harmony, umap, 'Age')"
   ]
  },
  {
   "cell_type": "code",
   "execution_count": 120,
   "id": "18cda1ae-47f9-4d2a-8cd2-23bb0bf3eab8",
   "metadata": {},
   "outputs": [],
   "source": [
    "np.savetxt(\"/data/srlab/ssg34/SLE_kidney_v2/data/cna_new/downsampled_tissue/age/sn_ncorr.csv\", \n",
    "               res.ncorrs, delimiter=\",\")\n",
    "np.savetxt(\"/data/srlab/ssg34/SLE_kidney_v2/data/cna_new/downsampled_tissue/age/sn_fdrs.csv\", \n",
    "               res.fdrs, delimiter=\",\")"
   ]
  },
  {
   "cell_type": "code",
   "execution_count": 121,
   "id": "c1f7858f-cfa0-4b1c-b0ac-b677ccd27cd8",
   "metadata": {},
   "outputs": [],
   "source": [
    "univariate_res = pd.concat([univariate_res,\n",
    "                            pd.DataFrame(['Age', 'snRNAseq', res.p],\n",
    "                            index = ['Variable', 'Technology', 'global_pvalue']).T])"
   ]
  },
  {
   "cell_type": "markdown",
   "id": "1a652eb4-5c22-4017-8f5f-8f9051ffd810",
   "metadata": {},
   "source": [
    "# RESPONSE"
   ]
  },
  {
   "cell_type": "markdown",
   "id": "d7313ab7-dd93-49cc-b8be-726c4b52fdc6",
   "metadata": {},
   "source": [
    "## Single Cell"
   ]
  },
  {
   "cell_type": "code",
   "execution_count": 122,
   "id": "5f477721-1bde-480e-89c5-99250d53d615",
   "metadata": {},
   "outputs": [
    {
     "name": "stdout",
     "output_type": "stream",
     "text": [
      "(57635, 36)\n"
     ]
    }
   ],
   "source": [
    "meta = pd.read_csv('/data/srlab/ssg34/SLE_kidney_v2/data/cna_new/downsampled_tissue/response/sc_meta.csv')\n",
    "print(meta.shape)"
   ]
  },
  {
   "cell_type": "code",
   "execution_count": 123,
   "id": "6b4ae34c-0f6e-416f-a603-bf21ea0eef9d",
   "metadata": {},
   "outputs": [
    {
     "name": "stdout",
     "output_type": "stream",
     "text": [
      "(57635, 20)\n"
     ]
    }
   ],
   "source": [
    "harmony = pd.read_csv('/data/srlab/ssg34/SLE_kidney_v2/data/cna_new/downsampled_tissue/response/sc_harmony.csv')\n",
    "print(harmony.shape)"
   ]
  },
  {
   "cell_type": "code",
   "execution_count": 124,
   "id": "e2462dc9-71e5-451a-9bda-4b9f8b6376b9",
   "metadata": {},
   "outputs": [
    {
     "name": "stdout",
     "output_type": "stream",
     "text": [
      "(57635, 2)\n"
     ]
    }
   ],
   "source": [
    "umap = pd.read_csv('/data/srlab/ssg34/SLE_kidney_v2/data/cna_new/downsampled_tissue/response/sc_umap.csv')\n",
    "print(umap.shape)"
   ]
  },
  {
   "cell_type": "code",
   "execution_count": 125,
   "id": "7be581aa-360e-42a7-b2d6-70a0c4116f26",
   "metadata": {},
   "outputs": [
    {
     "name": "stdout",
     "output_type": "stream",
     "text": [
      "(57635, 36)\n",
      "(57635, 20)\n",
      "(57635, 2)\n",
      "warning: the following columns of obs are non-numeric.\n",
      "['cell' 'sample' 'cell.type' 'Responder.Status' 'Race' 'Type' 'Final_ISN'\n",
      " 'Final_Site']\n",
      "consider casting to numeric types where appropriate, and\n",
      "consider re-coding text-valued columns with pandas.get_dummies\n",
      "computing default knn graph\n"
     ]
    },
    {
     "name": "stderr",
     "output_type": "stream",
     "text": [
      "/PHShome/ssg34/.conda/envs/plswork/lib/python3.9/site-packages/multianndata/core.py:17: FutureWarning: X.dtype being converted to np.float32 from float64. In the next version of anndata (0.9) conversion will not be automatic. Pass dtype explicitly to avoid this warning. Pass `AnnData(X, dtype=X.dtype, ...)` to get the future behavour.\n",
      "  super().__init__(*args, **kwargs)\n",
      "/PHShome/ssg34/.conda/envs/plswork/lib/python3.9/site-packages/anndata/_core/anndata.py:121: ImplicitModificationWarning: Transforming to str index.\n",
      "  warnings.warn(\"Transforming to str index.\", ImplicitModificationWarning)\n"
     ]
    },
    {
     "name": "stdout",
     "output_type": "stream",
     "text": [
      "qcd NAM not found; computing and saving\n",
      "\ttaking step 1\n",
      "\tmedian kurtosis: 34.72321701049805\n",
      "\t20th percentile R2(t,t-1): nan\n",
      "\ttaking step 2\n",
      "\tmedian kurtosis: 23.200876235961914\n",
      "\t20th percentile R2(t,t-1): 0.7833223342895508\n",
      "\ttaking step 3\n",
      "\tmedian kurtosis: 16.03927230834961\n",
      "\t20th percentile R2(t,t-1): 0.9246415495872498\n",
      "\ttaking step 4\n",
      "\tmedian kurtosis: 12.493077278137207\n",
      "\t20th percentile R2(t,t-1): 0.960143506526947\n",
      "\ttaking step 5\n",
      "\tmedian kurtosis: 10.576120376586914\n",
      "\t20th percentile R2(t,t-1): 0.9760511517524719\n",
      "stopping after 5 steps\n",
      "covariate-adjusted NAM not found; computing and saving\n"
     ]
    },
    {
     "name": "stderr",
     "output_type": "stream",
     "text": [
      "/PHShome/ssg34/.conda/envs/plswork/lib/python3.9/site-packages/cna/tools/_nam.py:79: UserWarning: only one unique batch supplied to qc\n",
      "  warnings.warn('only one unique batch supplied to qc')\n",
      "/PHShome/ssg34/.conda/envs/plswork/lib/python3.9/site-packages/cna/tools/_nam.py:101: UserWarning: only one unique batch supplied to prep\n",
      "  warnings.warn('only one unique batch supplied to prep')\n"
     ]
    },
    {
     "name": "stdout",
     "output_type": "stream",
     "text": [
      "computing SVD\n",
      "performing association test\n",
      "computing neighborhood-level FDRs\n",
      "4\n",
      "[1, 2, 3, 4, 5, 6, 7, 8, 9, 10, 11, 12, 13, 14, 15, 16, 17, 18, 19, 20]\n",
      "p = 0.05879412058794121 , 4 PCs used\n",
      "total r^2 between top 4 NAM PCs and outcome is 0.10\n"
     ]
    }
   ],
   "source": [
    "res = cna_test(meta, harmony, umap, 'Responder_Status')"
   ]
  },
  {
   "cell_type": "code",
   "execution_count": 126,
   "id": "c416d6b1-5a8d-4591-95a7-9312944aa816",
   "metadata": {},
   "outputs": [],
   "source": [
    "np.savetxt(\"/data/srlab/ssg34/SLE_kidney_v2/data/cna_new/downsampled_tissue/response/sc_ncorr.csv\", \n",
    "               res.ncorrs, delimiter=\",\")\n",
    "np.savetxt(\"/data/srlab/ssg34/SLE_kidney_v2/data/cna_new/downsampled_tissue/response/sc_fdrs.csv\", \n",
    "               res.fdrs, delimiter=\",\")"
   ]
  },
  {
   "cell_type": "code",
   "execution_count": 127,
   "id": "8a694a17-7f30-4370-b506-2ba9feb1a07c",
   "metadata": {},
   "outputs": [],
   "source": [
    "univariate_res = pd.concat([univariate_res,\n",
    "                            pd.DataFrame(['Responder Status', 'scRNAseq', res.p],\n",
    "                            index = ['Variable', 'Technology', 'global_pvalue']).T])"
   ]
  },
  {
   "cell_type": "markdown",
   "id": "3cbbb71f-cb75-4cb2-b9c4-63dc4e187395",
   "metadata": {},
   "source": [
    "## Single Nuclear "
   ]
  },
  {
   "cell_type": "code",
   "execution_count": 128,
   "id": "7015a3c0-7d3c-423f-bf24-e08e186b7590",
   "metadata": {},
   "outputs": [
    {
     "name": "stdout",
     "output_type": "stream",
     "text": [
      "(18191, 32)\n"
     ]
    }
   ],
   "source": [
    "meta = pd.read_csv('/data/srlab/ssg34/SLE_kidney_v2/data/cna_new/downsampled_tissue/response/sn_meta.csv')\n",
    "print(meta.shape)"
   ]
  },
  {
   "cell_type": "code",
   "execution_count": 129,
   "id": "528f4d44-3019-4553-b604-086b2df8c617",
   "metadata": {},
   "outputs": [
    {
     "name": "stdout",
     "output_type": "stream",
     "text": [
      "(18191, 20)\n"
     ]
    }
   ],
   "source": [
    "harmony = pd.read_csv('/data/srlab/ssg34/SLE_kidney_v2/data/cna_new/downsampled_tissue/response/sn_harmony.csv')\n",
    "print(harmony.shape)"
   ]
  },
  {
   "cell_type": "code",
   "execution_count": 130,
   "id": "90cd5df1-f8be-47eb-93ab-ee6bdd651ff7",
   "metadata": {},
   "outputs": [
    {
     "name": "stdout",
     "output_type": "stream",
     "text": [
      "(18191, 2)\n"
     ]
    }
   ],
   "source": [
    "umap = pd.read_csv('/data/srlab/ssg34/SLE_kidney_v2/data/cna_new/downsampled_tissue/response/sn_umap.csv')\n",
    "print(umap.shape)"
   ]
  },
  {
   "cell_type": "code",
   "execution_count": 131,
   "id": "151e7511-b963-4111-b91d-c156c8f0da1e",
   "metadata": {},
   "outputs": [
    {
     "name": "stdout",
     "output_type": "stream",
     "text": [
      "(18191, 32)\n",
      "(18191, 20)\n",
      "(18191, 2)\n",
      "warning: the following columns of obs are non-numeric.\n",
      "['cell' 'sample' 'cell.type' 'Responder.Status' 'Race' 'Type' 'Final_ISN'\n",
      " 'Final_Site']\n",
      "consider casting to numeric types where appropriate, and\n",
      "consider re-coding text-valued columns with pandas.get_dummies\n",
      "computing default knn graph\n"
     ]
    },
    {
     "name": "stderr",
     "output_type": "stream",
     "text": [
      "/PHShome/ssg34/.conda/envs/plswork/lib/python3.9/site-packages/multianndata/core.py:17: FutureWarning: X.dtype being converted to np.float32 from float64. In the next version of anndata (0.9) conversion will not be automatic. Pass dtype explicitly to avoid this warning. Pass `AnnData(X, dtype=X.dtype, ...)` to get the future behavour.\n",
      "  super().__init__(*args, **kwargs)\n",
      "/PHShome/ssg34/.conda/envs/plswork/lib/python3.9/site-packages/anndata/_core/anndata.py:121: ImplicitModificationWarning: Transforming to str index.\n",
      "  warnings.warn(\"Transforming to str index.\", ImplicitModificationWarning)\n"
     ]
    },
    {
     "name": "stdout",
     "output_type": "stream",
     "text": [
      "qcd NAM not found; computing and saving\n",
      "\ttaking step 1\n",
      "\tmedian kurtosis: 10.796865549205963\n",
      "\t20th percentile R2(t,t-1): nan\n",
      "\ttaking step 2\n",
      "\tmedian kurtosis: 7.998422585490272\n",
      "\t20th percentile R2(t,t-1): 0.7938765406608581\n",
      "\ttaking step 3\n",
      "\tmedian kurtosis: 6.50522350648204\n",
      "\t20th percentile R2(t,t-1): 0.9306313276290894\n",
      "stopping after 3 steps\n",
      "covariate-adjusted NAM not found; computing and saving\n",
      "computing SVD\n",
      "performing association test\n"
     ]
    },
    {
     "name": "stderr",
     "output_type": "stream",
     "text": [
      "/PHShome/ssg34/.conda/envs/plswork/lib/python3.9/site-packages/cna/tools/_nam.py:79: UserWarning: only one unique batch supplied to qc\n",
      "  warnings.warn('only one unique batch supplied to qc')\n",
      "/PHShome/ssg34/.conda/envs/plswork/lib/python3.9/site-packages/cna/tools/_nam.py:101: UserWarning: only one unique batch supplied to prep\n",
      "  warnings.warn('only one unique batch supplied to prep')\n"
     ]
    },
    {
     "name": "stdout",
     "output_type": "stream",
     "text": [
      "computing neighborhood-level FDRs\n",
      "15\n",
      "[1, 2, 3, 4, 5, 6, 7, 8, 9, 10, 11, 12, 13, 14, 15, 16, 17, 18, 19, 20]\n",
      "p = 0.5541445855414459 , 15 PCs used\n",
      "total r^2 between top 15 NAM PCs and outcome is 0.46\n"
     ]
    }
   ],
   "source": [
    "res = cna_test(meta, harmony, umap, 'Responder_Status')"
   ]
  },
  {
   "cell_type": "code",
   "execution_count": 132,
   "id": "979cddd8-e8cb-4565-b6a7-2d5f35c0be34",
   "metadata": {},
   "outputs": [],
   "source": [
    "np.savetxt(\"/data/srlab/ssg34/SLE_kidney_v2/data/cna_new/downsampled_tissue/response/sn_ncorr.csv\", \n",
    "               res.ncorrs, delimiter=\",\")\n",
    "np.savetxt(\"/data/srlab/ssg34/SLE_kidney_v2/data/cna_new/downsampled_tissue/response/sn_fdrs.csv\", \n",
    "               res.fdrs, delimiter=\",\")"
   ]
  },
  {
   "cell_type": "code",
   "execution_count": 133,
   "id": "4e93a78e-c81f-44a0-b12d-cfa0c6d9a3e9",
   "metadata": {},
   "outputs": [],
   "source": [
    "univariate_res = pd.concat([univariate_res,\n",
    "                            pd.DataFrame(['Responder Status', 'snRNAseq', res.p],\n",
    "                            index = ['Variable', 'Technology', 'global_pvalue']).T])"
   ]
  },
  {
   "cell_type": "markdown",
   "id": "3b261222-d134-4a0a-829b-c0d3e35101d1",
   "metadata": {},
   "source": [
    "# RACE"
   ]
  },
  {
   "cell_type": "markdown",
   "id": "99b050b3-7e0b-41c9-8d0f-f7f2426d91f4",
   "metadata": {},
   "source": [
    "## Single Cell"
   ]
  },
  {
   "cell_type": "code",
   "execution_count": 134,
   "id": "c5145b6a-2dd7-481c-a537-693bce209d41",
   "metadata": {},
   "outputs": [
    {
     "name": "stdout",
     "output_type": "stream",
     "text": [
      "(71120, 39)\n"
     ]
    }
   ],
   "source": [
    "meta = pd.read_csv('/data/srlab/ssg34/SLE_kidney_v2/data/cna_new/downsampled_tissue/race/sc_meta.csv')\n",
    "print(meta.shape)"
   ]
  },
  {
   "cell_type": "code",
   "execution_count": 135,
   "id": "73b3c722-453e-4e13-b283-4124f5ce83fc",
   "metadata": {},
   "outputs": [
    {
     "name": "stdout",
     "output_type": "stream",
     "text": [
      "(71120, 20)\n"
     ]
    }
   ],
   "source": [
    "harmony = pd.read_csv('/data/srlab/ssg34/SLE_kidney_v2/data/cna_new/downsampled_tissue/race/sc_harmony.csv')\n",
    "print(harmony.shape)"
   ]
  },
  {
   "cell_type": "code",
   "execution_count": 136,
   "id": "e8c673a7-e7ed-4732-b22e-3e47c650dd05",
   "metadata": {},
   "outputs": [
    {
     "name": "stdout",
     "output_type": "stream",
     "text": [
      "(71120, 2)\n"
     ]
    }
   ],
   "source": [
    "umap = pd.read_csv('/data/srlab/ssg34/SLE_kidney_v2/data/cna_new/downsampled_tissue/race/sc_umap.csv')\n",
    "print(umap.shape)"
   ]
  },
  {
   "cell_type": "code",
   "execution_count": 137,
   "id": "ed3e3ab2-064d-499c-a1f5-13eed073054d",
   "metadata": {},
   "outputs": [
    {
     "name": "stdout",
     "output_type": "stream",
     "text": [
      "(71120, 39)\n",
      "(71120, 20)\n",
      "(71120, 2)\n",
      "warning: the following columns of obs are non-numeric.\n",
      "['cell' 'sample' 'cell.type' 'Responder.Status' 'Race' 'Type' 'Final_ISN'\n",
      " 'Final_Site']\n",
      "consider casting to numeric types where appropriate, and\n",
      "consider re-coding text-valued columns with pandas.get_dummies\n",
      "computing default knn graph\n"
     ]
    },
    {
     "name": "stderr",
     "output_type": "stream",
     "text": [
      "/PHShome/ssg34/.conda/envs/plswork/lib/python3.9/site-packages/multianndata/core.py:17: FutureWarning: X.dtype being converted to np.float32 from float64. In the next version of anndata (0.9) conversion will not be automatic. Pass dtype explicitly to avoid this warning. Pass `AnnData(X, dtype=X.dtype, ...)` to get the future behavour.\n",
      "  super().__init__(*args, **kwargs)\n",
      "/PHShome/ssg34/.conda/envs/plswork/lib/python3.9/site-packages/anndata/_core/anndata.py:121: ImplicitModificationWarning: Transforming to str index.\n",
      "  warnings.warn(\"Transforming to str index.\", ImplicitModificationWarning)\n"
     ]
    },
    {
     "name": "stdout",
     "output_type": "stream",
     "text": [
      "qcd NAM not found; computing and saving\n",
      "\ttaking step 1\n",
      "\tmedian kurtosis: 42.821128845214844\n",
      "\t20th percentile R2(t,t-1): nan\n",
      "\ttaking step 2\n",
      "\tmedian kurtosis: 28.430946350097656\n",
      "\t20th percentile R2(t,t-1): 0.7792342305183411\n",
      "\ttaking step 3\n",
      "\tmedian kurtosis: 19.353656768798828\n",
      "\t20th percentile R2(t,t-1): 0.9228097796440125\n",
      "\ttaking step 4\n",
      "\tmedian kurtosis: 14.69758415222168\n",
      "\t20th percentile R2(t,t-1): 0.9582582116127014\n",
      "\ttaking step 5\n",
      "\tmedian kurtosis: 12.140487670898438\n",
      "\t20th percentile R2(t,t-1): 0.9747512340545654\n",
      "stopping after 5 steps\n",
      "covariate-adjusted NAM not found; computing and saving\n"
     ]
    },
    {
     "name": "stderr",
     "output_type": "stream",
     "text": [
      "/PHShome/ssg34/.conda/envs/plswork/lib/python3.9/site-packages/cna/tools/_nam.py:79: UserWarning: only one unique batch supplied to qc\n",
      "  warnings.warn('only one unique batch supplied to qc')\n",
      "/PHShome/ssg34/.conda/envs/plswork/lib/python3.9/site-packages/cna/tools/_nam.py:101: UserWarning: only one unique batch supplied to prep\n",
      "  warnings.warn('only one unique batch supplied to prep')\n"
     ]
    },
    {
     "name": "stdout",
     "output_type": "stream",
     "text": [
      "computing SVD\n",
      "performing association test\n",
      "computing neighborhood-level FDRs\n",
      "2\n",
      "[1, 2, 3, 4, 5, 6, 7, 8, 9, 10, 11, 12, 13, 14, 15, 16, 17, 18, 19, 20]\n",
      "p = 0.5637436256374363 , 2 PCs used\n",
      "total r^2 between top 2 NAM PCs and outcome is 0.02\n"
     ]
    }
   ],
   "source": [
    "res = cna_test(meta, harmony, umap, 'Race_[A]')"
   ]
  },
  {
   "cell_type": "code",
   "execution_count": 138,
   "id": "aa40ee6e-250a-4d80-b8f4-2f642caeb00c",
   "metadata": {},
   "outputs": [],
   "source": [
    "univariate_res = pd.concat([univariate_res,\n",
    "                            pd.DataFrame(['Race_[A]', 'scRNAseq', res.p],\n",
    "                            index = ['Variable', 'Technology', 'global_pvalue']).T])"
   ]
  },
  {
   "cell_type": "code",
   "execution_count": 139,
   "id": "aee87751-fc34-4010-a809-52072b99da3a",
   "metadata": {},
   "outputs": [
    {
     "name": "stdout",
     "output_type": "stream",
     "text": [
      "(71120, 39)\n",
      "(71120, 20)\n",
      "(71120, 2)\n",
      "warning: the following columns of obs are non-numeric.\n",
      "['cell' 'sample' 'cell.type' 'Responder.Status' 'Race' 'Type' 'Final_ISN'\n",
      " 'Final_Site']\n",
      "consider casting to numeric types where appropriate, and\n",
      "consider re-coding text-valued columns with pandas.get_dummies\n",
      "computing default knn graph\n"
     ]
    },
    {
     "name": "stderr",
     "output_type": "stream",
     "text": [
      "/PHShome/ssg34/.conda/envs/plswork/lib/python3.9/site-packages/multianndata/core.py:17: FutureWarning: X.dtype being converted to np.float32 from float64. In the next version of anndata (0.9) conversion will not be automatic. Pass dtype explicitly to avoid this warning. Pass `AnnData(X, dtype=X.dtype, ...)` to get the future behavour.\n",
      "  super().__init__(*args, **kwargs)\n",
      "/PHShome/ssg34/.conda/envs/plswork/lib/python3.9/site-packages/anndata/_core/anndata.py:121: ImplicitModificationWarning: Transforming to str index.\n",
      "  warnings.warn(\"Transforming to str index.\", ImplicitModificationWarning)\n"
     ]
    },
    {
     "name": "stdout",
     "output_type": "stream",
     "text": [
      "qcd NAM not found; computing and saving\n",
      "\ttaking step 1\n",
      "\tmedian kurtosis: 42.821128845214844\n",
      "\t20th percentile R2(t,t-1): nan\n",
      "\ttaking step 2\n",
      "\tmedian kurtosis: 28.430946350097656\n",
      "\t20th percentile R2(t,t-1): 0.7792342305183411\n",
      "\ttaking step 3\n",
      "\tmedian kurtosis: 19.353656768798828\n",
      "\t20th percentile R2(t,t-1): 0.9228097796440125\n",
      "\ttaking step 4\n",
      "\tmedian kurtosis: 14.69758415222168\n",
      "\t20th percentile R2(t,t-1): 0.9582582116127014\n",
      "\ttaking step 5\n",
      "\tmedian kurtosis: 12.140487670898438\n",
      "\t20th percentile R2(t,t-1): 0.9747512340545654\n",
      "stopping after 5 steps\n",
      "covariate-adjusted NAM not found; computing and saving\n"
     ]
    },
    {
     "name": "stderr",
     "output_type": "stream",
     "text": [
      "/PHShome/ssg34/.conda/envs/plswork/lib/python3.9/site-packages/cna/tools/_nam.py:79: UserWarning: only one unique batch supplied to qc\n",
      "  warnings.warn('only one unique batch supplied to qc')\n",
      "/PHShome/ssg34/.conda/envs/plswork/lib/python3.9/site-packages/cna/tools/_nam.py:101: UserWarning: only one unique batch supplied to prep\n",
      "  warnings.warn('only one unique batch supplied to prep')\n"
     ]
    },
    {
     "name": "stdout",
     "output_type": "stream",
     "text": [
      "computing SVD\n",
      "performing association test\n",
      "computing neighborhood-level FDRs\n",
      "16\n",
      "[1, 2, 3, 4, 5, 6, 7, 8, 9, 10, 11, 12, 13, 14, 15, 16, 17, 18, 19, 20]\n",
      "p = 0.390960903909609 , 16 PCs used\n",
      "total r^2 between top 16 NAM PCs and outcome is 0.13\n"
     ]
    }
   ],
   "source": [
    "res = cna_test(meta, harmony, umap, 'Race_[A][B]')"
   ]
  },
  {
   "cell_type": "code",
   "execution_count": 140,
   "id": "d9e76317-64e9-4ad8-9b7c-664e01e1cf43",
   "metadata": {},
   "outputs": [],
   "source": [
    "univariate_res = pd.concat([univariate_res,\n",
    "                            pd.DataFrame(['Race_[A][B]', 'scRNAseq', res.p],\n",
    "                            index = ['Variable', 'Technology', 'global_pvalue']).T])"
   ]
  },
  {
   "cell_type": "code",
   "execution_count": 141,
   "id": "cd3c892a-bbab-4662-9b35-5f991073f22b",
   "metadata": {},
   "outputs": [
    {
     "name": "stdout",
     "output_type": "stream",
     "text": [
      "(71120, 39)\n",
      "(71120, 20)\n",
      "(71120, 2)\n",
      "warning: the following columns of obs are non-numeric.\n",
      "['cell' 'sample' 'cell.type' 'Responder.Status' 'Race' 'Type' 'Final_ISN'\n",
      " 'Final_Site']\n",
      "consider casting to numeric types where appropriate, and\n",
      "consider re-coding text-valued columns with pandas.get_dummies\n",
      "computing default knn graph\n"
     ]
    },
    {
     "name": "stderr",
     "output_type": "stream",
     "text": [
      "/PHShome/ssg34/.conda/envs/plswork/lib/python3.9/site-packages/multianndata/core.py:17: FutureWarning: X.dtype being converted to np.float32 from float64. In the next version of anndata (0.9) conversion will not be automatic. Pass dtype explicitly to avoid this warning. Pass `AnnData(X, dtype=X.dtype, ...)` to get the future behavour.\n",
      "  super().__init__(*args, **kwargs)\n",
      "/PHShome/ssg34/.conda/envs/plswork/lib/python3.9/site-packages/anndata/_core/anndata.py:121: ImplicitModificationWarning: Transforming to str index.\n",
      "  warnings.warn(\"Transforming to str index.\", ImplicitModificationWarning)\n"
     ]
    },
    {
     "name": "stdout",
     "output_type": "stream",
     "text": [
      "qcd NAM not found; computing and saving\n",
      "\ttaking step 1\n",
      "\tmedian kurtosis: 42.821128845214844\n",
      "\t20th percentile R2(t,t-1): nan\n",
      "\ttaking step 2\n",
      "\tmedian kurtosis: 28.430946350097656\n",
      "\t20th percentile R2(t,t-1): 0.7792342305183411\n",
      "\ttaking step 3\n",
      "\tmedian kurtosis: 19.353656768798828\n",
      "\t20th percentile R2(t,t-1): 0.9228097796440125\n",
      "\ttaking step 4\n",
      "\tmedian kurtosis: 14.69758415222168\n",
      "\t20th percentile R2(t,t-1): 0.9582582116127014\n",
      "\ttaking step 5\n",
      "\tmedian kurtosis: 12.140487670898438\n",
      "\t20th percentile R2(t,t-1): 0.9747512340545654\n",
      "stopping after 5 steps\n",
      "covariate-adjusted NAM not found; computing and saving\n"
     ]
    },
    {
     "name": "stderr",
     "output_type": "stream",
     "text": [
      "/PHShome/ssg34/.conda/envs/plswork/lib/python3.9/site-packages/cna/tools/_nam.py:79: UserWarning: only one unique batch supplied to qc\n",
      "  warnings.warn('only one unique batch supplied to qc')\n",
      "/PHShome/ssg34/.conda/envs/plswork/lib/python3.9/site-packages/cna/tools/_nam.py:101: UserWarning: only one unique batch supplied to prep\n",
      "  warnings.warn('only one unique batch supplied to prep')\n"
     ]
    },
    {
     "name": "stdout",
     "output_type": "stream",
     "text": [
      "computing SVD\n",
      "performing association test\n",
      "computing neighborhood-level FDRs\n",
      "3\n",
      "[1, 2, 3, 4, 5, 6, 7, 8, 9, 10, 11, 12, 13, 14, 15, 16, 17, 18, 19, 20]\n",
      "p = 0.6483351664833517 , 3 PCs used\n",
      "total r^2 between top 3 NAM PCs and outcome is 0.03\n"
     ]
    }
   ],
   "source": [
    "res = cna_test(meta, harmony, umap, 'Race_[B]')"
   ]
  },
  {
   "cell_type": "code",
   "execution_count": 142,
   "id": "b7df7495-b540-4b91-8feb-755b9d760a1c",
   "metadata": {},
   "outputs": [],
   "source": [
    "univariate_res = pd.concat([univariate_res,\n",
    "                            pd.DataFrame(['Race_[B]', 'scRNAseq', res.p],\n",
    "                            index = ['Variable', 'Technology', 'global_pvalue']).T])"
   ]
  },
  {
   "cell_type": "code",
   "execution_count": 143,
   "id": "d3514996-ca71-43f7-8b97-cdcdd1875b52",
   "metadata": {},
   "outputs": [
    {
     "name": "stdout",
     "output_type": "stream",
     "text": [
      "(71120, 39)\n",
      "(71120, 20)\n",
      "(71120, 2)\n",
      "warning: the following columns of obs are non-numeric.\n",
      "['cell' 'sample' 'cell.type' 'Responder.Status' 'Race' 'Type' 'Final_ISN'\n",
      " 'Final_Site']\n",
      "consider casting to numeric types where appropriate, and\n",
      "consider re-coding text-valued columns with pandas.get_dummies\n",
      "computing default knn graph\n"
     ]
    },
    {
     "name": "stderr",
     "output_type": "stream",
     "text": [
      "/PHShome/ssg34/.conda/envs/plswork/lib/python3.9/site-packages/multianndata/core.py:17: FutureWarning: X.dtype being converted to np.float32 from float64. In the next version of anndata (0.9) conversion will not be automatic. Pass dtype explicitly to avoid this warning. Pass `AnnData(X, dtype=X.dtype, ...)` to get the future behavour.\n",
      "  super().__init__(*args, **kwargs)\n",
      "/PHShome/ssg34/.conda/envs/plswork/lib/python3.9/site-packages/anndata/_core/anndata.py:121: ImplicitModificationWarning: Transforming to str index.\n",
      "  warnings.warn(\"Transforming to str index.\", ImplicitModificationWarning)\n"
     ]
    },
    {
     "name": "stdout",
     "output_type": "stream",
     "text": [
      "qcd NAM not found; computing and saving\n",
      "\ttaking step 1\n",
      "\tmedian kurtosis: 42.821128845214844\n",
      "\t20th percentile R2(t,t-1): nan\n",
      "\ttaking step 2\n",
      "\tmedian kurtosis: 28.430946350097656\n",
      "\t20th percentile R2(t,t-1): 0.7792342305183411\n",
      "\ttaking step 3\n",
      "\tmedian kurtosis: 19.353656768798828\n",
      "\t20th percentile R2(t,t-1): 0.9228097796440125\n",
      "\ttaking step 4\n",
      "\tmedian kurtosis: 14.69758415222168\n",
      "\t20th percentile R2(t,t-1): 0.9582582116127014\n",
      "\ttaking step 5\n",
      "\tmedian kurtosis: 12.140487670898438\n",
      "\t20th percentile R2(t,t-1): 0.9747512340545654\n",
      "stopping after 5 steps\n",
      "covariate-adjusted NAM not found; computing and saving\n"
     ]
    },
    {
     "name": "stderr",
     "output_type": "stream",
     "text": [
      "/PHShome/ssg34/.conda/envs/plswork/lib/python3.9/site-packages/cna/tools/_nam.py:79: UserWarning: only one unique batch supplied to qc\n",
      "  warnings.warn('only one unique batch supplied to qc')\n",
      "/PHShome/ssg34/.conda/envs/plswork/lib/python3.9/site-packages/cna/tools/_nam.py:101: UserWarning: only one unique batch supplied to prep\n",
      "  warnings.warn('only one unique batch supplied to prep')\n"
     ]
    },
    {
     "name": "stdout",
     "output_type": "stream",
     "text": [
      "computing SVD\n",
      "performing association test\n",
      "computing neighborhood-level FDRs\n",
      "3\n",
      "[1, 2, 3, 4, 5, 6, 7, 8, 9, 10, 11, 12, 13, 14, 15, 16, 17, 18, 19, 20]\n",
      "p = 0.618938106189381 , 3 PCs used\n",
      "total r^2 between top 3 NAM PCs and outcome is 0.02\n"
     ]
    }
   ],
   "source": [
    "res = cna_test(meta, harmony, umap, 'Race_[B][AI]')"
   ]
  },
  {
   "cell_type": "code",
   "execution_count": 144,
   "id": "01554433-e1fb-4cd8-850a-be033d9cf370",
   "metadata": {},
   "outputs": [],
   "source": [
    "univariate_res = pd.concat([univariate_res,\n",
    "                            pd.DataFrame(['Race_[B][AI]', 'scRNAseq', res.p],\n",
    "                            index = ['Variable', 'Technology', 'global_pvalue']).T])"
   ]
  },
  {
   "cell_type": "code",
   "execution_count": 145,
   "id": "955febb0-0f57-4d3c-ab8c-cf492f160dfa",
   "metadata": {},
   "outputs": [
    {
     "name": "stdout",
     "output_type": "stream",
     "text": [
      "(71120, 39)\n",
      "(71120, 20)\n",
      "(71120, 2)\n",
      "warning: the following columns of obs are non-numeric.\n",
      "['cell' 'sample' 'cell.type' 'Responder.Status' 'Race' 'Type' 'Final_ISN'\n",
      " 'Final_Site']\n",
      "consider casting to numeric types where appropriate, and\n",
      "consider re-coding text-valued columns with pandas.get_dummies\n",
      "computing default knn graph\n"
     ]
    },
    {
     "name": "stderr",
     "output_type": "stream",
     "text": [
      "/PHShome/ssg34/.conda/envs/plswork/lib/python3.9/site-packages/multianndata/core.py:17: FutureWarning: X.dtype being converted to np.float32 from float64. In the next version of anndata (0.9) conversion will not be automatic. Pass dtype explicitly to avoid this warning. Pass `AnnData(X, dtype=X.dtype, ...)` to get the future behavour.\n",
      "  super().__init__(*args, **kwargs)\n",
      "/PHShome/ssg34/.conda/envs/plswork/lib/python3.9/site-packages/anndata/_core/anndata.py:121: ImplicitModificationWarning: Transforming to str index.\n",
      "  warnings.warn(\"Transforming to str index.\", ImplicitModificationWarning)\n"
     ]
    },
    {
     "name": "stdout",
     "output_type": "stream",
     "text": [
      "qcd NAM not found; computing and saving\n",
      "\ttaking step 1\n",
      "\tmedian kurtosis: 42.821128845214844\n",
      "\t20th percentile R2(t,t-1): nan\n",
      "\ttaking step 2\n",
      "\tmedian kurtosis: 28.430946350097656\n",
      "\t20th percentile R2(t,t-1): 0.7792342305183411\n",
      "\ttaking step 3\n",
      "\tmedian kurtosis: 19.353656768798828\n",
      "\t20th percentile R2(t,t-1): 0.9228097796440125\n",
      "\ttaking step 4\n",
      "\tmedian kurtosis: 14.69758415222168\n",
      "\t20th percentile R2(t,t-1): 0.9582582116127014\n",
      "\ttaking step 5\n",
      "\tmedian kurtosis: 12.140487670898438\n",
      "\t20th percentile R2(t,t-1): 0.9747512340545654\n",
      "stopping after 5 steps\n",
      "covariate-adjusted NAM not found; computing and saving\n"
     ]
    },
    {
     "name": "stderr",
     "output_type": "stream",
     "text": [
      "/PHShome/ssg34/.conda/envs/plswork/lib/python3.9/site-packages/cna/tools/_nam.py:79: UserWarning: only one unique batch supplied to qc\n",
      "  warnings.warn('only one unique batch supplied to qc')\n",
      "/PHShome/ssg34/.conda/envs/plswork/lib/python3.9/site-packages/cna/tools/_nam.py:101: UserWarning: only one unique batch supplied to prep\n",
      "  warnings.warn('only one unique batch supplied to prep')\n"
     ]
    },
    {
     "name": "stdout",
     "output_type": "stream",
     "text": [
      "computing SVD\n",
      "performing association test\n",
      "computing neighborhood-level FDRs\n",
      "1\n",
      "[1, 2, 3, 4, 5, 6, 7, 8, 9, 10, 11, 12, 13, 14, 15, 16, 17, 18, 19, 20]\n",
      "p = 0.5257474252574742 , 1 PCs used\n",
      "total r^2 between top 1 NAM PCs and outcome is 0.01\n"
     ]
    }
   ],
   "source": [
    "res = cna_test(meta, harmony, umap, 'Race_[B][W]')"
   ]
  },
  {
   "cell_type": "code",
   "execution_count": 146,
   "id": "68a6f8aa-083d-47a0-be09-89e5eb54eaf1",
   "metadata": {},
   "outputs": [],
   "source": [
    "univariate_res = pd.concat([univariate_res,\n",
    "                            pd.DataFrame(['Race_[B][W]', 'scRNAseq', res.p],\n",
    "                            index = ['Variable', 'Technology', 'global_pvalue']).T])"
   ]
  },
  {
   "cell_type": "code",
   "execution_count": 147,
   "id": "fbabfe98-4644-402c-a11b-f943d48f9e9d",
   "metadata": {},
   "outputs": [
    {
     "name": "stdout",
     "output_type": "stream",
     "text": [
      "(71120, 39)\n",
      "(71120, 20)\n",
      "(71120, 2)\n",
      "warning: the following columns of obs are non-numeric.\n",
      "['cell' 'sample' 'cell.type' 'Responder.Status' 'Race' 'Type' 'Final_ISN'\n",
      " 'Final_Site']\n",
      "consider casting to numeric types where appropriate, and\n",
      "consider re-coding text-valued columns with pandas.get_dummies\n",
      "computing default knn graph\n"
     ]
    },
    {
     "name": "stderr",
     "output_type": "stream",
     "text": [
      "/PHShome/ssg34/.conda/envs/plswork/lib/python3.9/site-packages/multianndata/core.py:17: FutureWarning: X.dtype being converted to np.float32 from float64. In the next version of anndata (0.9) conversion will not be automatic. Pass dtype explicitly to avoid this warning. Pass `AnnData(X, dtype=X.dtype, ...)` to get the future behavour.\n",
      "  super().__init__(*args, **kwargs)\n",
      "/PHShome/ssg34/.conda/envs/plswork/lib/python3.9/site-packages/anndata/_core/anndata.py:121: ImplicitModificationWarning: Transforming to str index.\n",
      "  warnings.warn(\"Transforming to str index.\", ImplicitModificationWarning)\n"
     ]
    },
    {
     "name": "stdout",
     "output_type": "stream",
     "text": [
      "qcd NAM not found; computing and saving\n",
      "\ttaking step 1\n",
      "\tmedian kurtosis: 42.821128845214844\n",
      "\t20th percentile R2(t,t-1): nan\n",
      "\ttaking step 2\n",
      "\tmedian kurtosis: 28.430946350097656\n",
      "\t20th percentile R2(t,t-1): 0.7792342305183411\n",
      "\ttaking step 3\n",
      "\tmedian kurtosis: 19.353656768798828\n",
      "\t20th percentile R2(t,t-1): 0.9228097796440125\n",
      "\ttaking step 4\n",
      "\tmedian kurtosis: 14.69758415222168\n",
      "\t20th percentile R2(t,t-1): 0.9582582116127014\n",
      "\ttaking step 5\n",
      "\tmedian kurtosis: 12.140487670898438\n",
      "\t20th percentile R2(t,t-1): 0.9747512340545654\n",
      "stopping after 5 steps\n",
      "covariate-adjusted NAM not found; computing and saving\n"
     ]
    },
    {
     "name": "stderr",
     "output_type": "stream",
     "text": [
      "/PHShome/ssg34/.conda/envs/plswork/lib/python3.9/site-packages/cna/tools/_nam.py:79: UserWarning: only one unique batch supplied to qc\n",
      "  warnings.warn('only one unique batch supplied to qc')\n",
      "/PHShome/ssg34/.conda/envs/plswork/lib/python3.9/site-packages/cna/tools/_nam.py:101: UserWarning: only one unique batch supplied to prep\n",
      "  warnings.warn('only one unique batch supplied to prep')\n"
     ]
    },
    {
     "name": "stdout",
     "output_type": "stream",
     "text": [
      "computing SVD\n",
      "performing association test\n"
     ]
    },
    {
     "name": "stderr",
     "output_type": "stream",
     "text": [
      "/PHShome/ssg34/.conda/envs/plswork/lib/python3.9/site-packages/cna/tools/_association.py:57: UserWarning: data supported use of 20 NAM PCs, which is the maximum considered. Consider allowing more PCs by using the \"ks\" argument.\n",
      "  warnings.warn(('data supported use of {} NAM PCs, which is the maximum considered. '+\\\n"
     ]
    },
    {
     "name": "stdout",
     "output_type": "stream",
     "text": [
      "computing neighborhood-level FDRs\n",
      "20\n",
      "[1, 2, 3, 4, 5, 6, 7, 8, 9, 10, 11, 12, 13, 14, 15, 16, 17, 18, 19, 20]\n",
      "p = 0.05779422057794221 , 20 PCs used\n",
      "total r^2 between top 20 NAM PCs and outcome is 0.23\n"
     ]
    }
   ],
   "source": [
    "res = cna_test(meta, harmony, umap, 'Race_[U]')"
   ]
  },
  {
   "cell_type": "code",
   "execution_count": 148,
   "id": "0c5a51e2-784c-4661-94ca-4f857f368d13",
   "metadata": {},
   "outputs": [],
   "source": [
    "univariate_res = pd.concat([univariate_res,\n",
    "                            pd.DataFrame(['Race_[U]', 'scRNAseq', res.p],\n",
    "                            index = ['Variable', 'Technology', 'global_pvalue']).T])"
   ]
  },
  {
   "cell_type": "code",
   "execution_count": 149,
   "id": "327357cf-3486-48dc-a6c1-dcdb3bfc5e39",
   "metadata": {},
   "outputs": [
    {
     "name": "stdout",
     "output_type": "stream",
     "text": [
      "(71120, 39)\n",
      "(71120, 20)\n",
      "(71120, 2)\n",
      "warning: the following columns of obs are non-numeric.\n",
      "['cell' 'sample' 'cell.type' 'Responder.Status' 'Race' 'Type' 'Final_ISN'\n",
      " 'Final_Site']\n",
      "consider casting to numeric types where appropriate, and\n",
      "consider re-coding text-valued columns with pandas.get_dummies\n",
      "computing default knn graph\n"
     ]
    },
    {
     "name": "stderr",
     "output_type": "stream",
     "text": [
      "/PHShome/ssg34/.conda/envs/plswork/lib/python3.9/site-packages/multianndata/core.py:17: FutureWarning: X.dtype being converted to np.float32 from float64. In the next version of anndata (0.9) conversion will not be automatic. Pass dtype explicitly to avoid this warning. Pass `AnnData(X, dtype=X.dtype, ...)` to get the future behavour.\n",
      "  super().__init__(*args, **kwargs)\n",
      "/PHShome/ssg34/.conda/envs/plswork/lib/python3.9/site-packages/anndata/_core/anndata.py:121: ImplicitModificationWarning: Transforming to str index.\n",
      "  warnings.warn(\"Transforming to str index.\", ImplicitModificationWarning)\n"
     ]
    },
    {
     "name": "stdout",
     "output_type": "stream",
     "text": [
      "qcd NAM not found; computing and saving\n",
      "\ttaking step 1\n",
      "\tmedian kurtosis: 42.821128845214844\n",
      "\t20th percentile R2(t,t-1): nan\n",
      "\ttaking step 2\n",
      "\tmedian kurtosis: 28.430946350097656\n",
      "\t20th percentile R2(t,t-1): 0.7792342305183411\n",
      "\ttaking step 3\n",
      "\tmedian kurtosis: 19.353656768798828\n",
      "\t20th percentile R2(t,t-1): 0.9228097796440125\n",
      "\ttaking step 4\n",
      "\tmedian kurtosis: 14.69758415222168\n",
      "\t20th percentile R2(t,t-1): 0.9582582116127014\n",
      "\ttaking step 5\n",
      "\tmedian kurtosis: 12.140487670898438\n",
      "\t20th percentile R2(t,t-1): 0.9747512340545654\n",
      "stopping after 5 steps\n",
      "covariate-adjusted NAM not found; computing and saving\n"
     ]
    },
    {
     "name": "stderr",
     "output_type": "stream",
     "text": [
      "/PHShome/ssg34/.conda/envs/plswork/lib/python3.9/site-packages/cna/tools/_nam.py:79: UserWarning: only one unique batch supplied to qc\n",
      "  warnings.warn('only one unique batch supplied to qc')\n",
      "/PHShome/ssg34/.conda/envs/plswork/lib/python3.9/site-packages/cna/tools/_nam.py:101: UserWarning: only one unique batch supplied to prep\n",
      "  warnings.warn('only one unique batch supplied to prep')\n"
     ]
    },
    {
     "name": "stdout",
     "output_type": "stream",
     "text": [
      "computing SVD\n",
      "performing association test\n",
      "computing neighborhood-level FDRs\n",
      "3\n",
      "[1, 2, 3, 4, 5, 6, 7, 8, 9, 10, 11, 12, 13, 14, 15, 16, 17, 18, 19, 20]\n",
      "p = 0.056394360563943605 , 3 PCs used\n",
      "total r^2 between top 3 NAM PCs and outcome is 0.07\n"
     ]
    }
   ],
   "source": [
    "res = cna_test(meta, harmony, umap, 'Race_[W]')"
   ]
  },
  {
   "cell_type": "code",
   "execution_count": 150,
   "id": "983c4d90-8ade-43a2-adfb-280bafc41032",
   "metadata": {},
   "outputs": [],
   "source": [
    "univariate_res = pd.concat([univariate_res,\n",
    "                            pd.DataFrame(['Race_[W]', 'scRNAseq', res.p],\n",
    "                            index = ['Variable', 'Technology', 'global_pvalue']).T])"
   ]
  },
  {
   "cell_type": "markdown",
   "id": "138ba1e5-1c37-4360-bd83-3d023ea67323",
   "metadata": {},
   "source": [
    "## Single Nuclear"
   ]
  },
  {
   "cell_type": "code",
   "execution_count": 152,
   "id": "363f5179-a7ac-4038-9878-bc8290c90a67",
   "metadata": {},
   "outputs": [
    {
     "name": "stdout",
     "output_type": "stream",
     "text": [
      "(18660, 33)\n"
     ]
    }
   ],
   "source": [
    "meta = pd.read_csv('/data/srlab/ssg34/SLE_kidney_v2/data/cna_new/downsampled_tissue/race/sn_meta.csv')\n",
    "print(meta.shape)"
   ]
  },
  {
   "cell_type": "code",
   "execution_count": 153,
   "id": "8550b634-8cde-4a5b-890d-272f1a1eabaf",
   "metadata": {},
   "outputs": [
    {
     "name": "stdout",
     "output_type": "stream",
     "text": [
      "(18660, 20)\n"
     ]
    }
   ],
   "source": [
    "harmony = pd.read_csv('/data/srlab/ssg34/SLE_kidney_v2/data/cna_new/downsampled_tissue/race/sn_harmony.csv')\n",
    "print(harmony.shape)"
   ]
  },
  {
   "cell_type": "code",
   "execution_count": 154,
   "id": "a57ad2b6-69fa-4c72-b850-f5213a3b0382",
   "metadata": {},
   "outputs": [
    {
     "name": "stdout",
     "output_type": "stream",
     "text": [
      "(18660, 2)\n"
     ]
    }
   ],
   "source": [
    "umap = pd.read_csv('/data/srlab/ssg34/SLE_kidney_v2/data/cna_new/downsampled_tissue/race/sn_umap.csv')\n",
    "print(umap.shape)"
   ]
  },
  {
   "cell_type": "code",
   "execution_count": 156,
   "id": "19d9aef5-d1ec-49ea-a526-247464b9eb33",
   "metadata": {},
   "outputs": [
    {
     "name": "stdout",
     "output_type": "stream",
     "text": [
      "(18660, 33)\n",
      "(18660, 20)\n",
      "(18660, 2)\n",
      "warning: the following columns of obs are non-numeric.\n",
      "['cell' 'sample' 'cell.type' 'Responder.Status' 'Race' 'Type' 'Final_ISN'\n",
      " 'Final_Site']\n",
      "consider casting to numeric types where appropriate, and\n",
      "consider re-coding text-valued columns with pandas.get_dummies\n",
      "computing default knn graph\n"
     ]
    },
    {
     "name": "stderr",
     "output_type": "stream",
     "text": [
      "/PHShome/ssg34/.conda/envs/plswork/lib/python3.9/site-packages/multianndata/core.py:17: FutureWarning: X.dtype being converted to np.float32 from float64. In the next version of anndata (0.9) conversion will not be automatic. Pass dtype explicitly to avoid this warning. Pass `AnnData(X, dtype=X.dtype, ...)` to get the future behavour.\n",
      "  super().__init__(*args, **kwargs)\n",
      "/PHShome/ssg34/.conda/envs/plswork/lib/python3.9/site-packages/anndata/_core/anndata.py:121: ImplicitModificationWarning: Transforming to str index.\n",
      "  warnings.warn(\"Transforming to str index.\", ImplicitModificationWarning)\n"
     ]
    },
    {
     "name": "stdout",
     "output_type": "stream",
     "text": [
      "qcd NAM not found; computing and saving\n",
      "\ttaking step 1\n",
      "\tmedian kurtosis: 11.043727199233018\n",
      "\t20th percentile R2(t,t-1): nan\n",
      "\ttaking step 2\n",
      "\tmedian kurtosis: 8.146373564762346\n",
      "\t20th percentile R2(t,t-1): 0.7939578413963317\n",
      "\ttaking step 3\n",
      "\tmedian kurtosis: 6.589556547746421\n",
      "\t20th percentile R2(t,t-1): 0.9295116901397705\n",
      "stopping after 3 steps\n",
      "covariate-adjusted NAM not found; computing and saving\n",
      "computing SVD\n",
      "performing association test\n"
     ]
    },
    {
     "name": "stderr",
     "output_type": "stream",
     "text": [
      "/PHShome/ssg34/.conda/envs/plswork/lib/python3.9/site-packages/cna/tools/_nam.py:79: UserWarning: only one unique batch supplied to qc\n",
      "  warnings.warn('only one unique batch supplied to qc')\n",
      "/PHShome/ssg34/.conda/envs/plswork/lib/python3.9/site-packages/cna/tools/_nam.py:101: UserWarning: only one unique batch supplied to prep\n",
      "  warnings.warn('only one unique batch supplied to prep')\n"
     ]
    },
    {
     "name": "stdout",
     "output_type": "stream",
     "text": [
      "computing neighborhood-level FDRs\n",
      "3\n",
      "[1, 2, 3, 4, 5, 6, 7, 8, 9, 10, 11, 12, 13, 14, 15, 16, 17, 18, 19, 20]\n",
      "p = 0.6703329667033296 , 3 PCs used\n",
      "total r^2 between top 3 NAM PCs and outcome is 0.16\n"
     ]
    }
   ],
   "source": [
    "res = cna_test(meta, harmony, umap, 'Race_[A]')\n",
    "univariate_res = pd.concat([univariate_res,\n",
    "                            pd.DataFrame(['Race_[A]', 'snRNAseq', res.p],\n",
    "                            index = ['Variable', 'Technology', 'global_pvalue']).T])"
   ]
  },
  {
   "cell_type": "code",
   "execution_count": 160,
   "id": "50cc586f-6f63-4972-9d12-3a271efa5700",
   "metadata": {},
   "outputs": [
    {
     "name": "stdout",
     "output_type": "stream",
     "text": [
      "(18660, 33)\n",
      "(18660, 20)\n",
      "(18660, 2)\n",
      "warning: the following columns of obs are non-numeric.\n",
      "['cell' 'sample' 'cell.type' 'Responder.Status' 'Race' 'Type' 'Final_ISN'\n",
      " 'Final_Site']\n",
      "consider casting to numeric types where appropriate, and\n",
      "consider re-coding text-valued columns with pandas.get_dummies\n",
      "computing default knn graph\n"
     ]
    },
    {
     "name": "stderr",
     "output_type": "stream",
     "text": [
      "/PHShome/ssg34/.conda/envs/plswork/lib/python3.9/site-packages/multianndata/core.py:17: FutureWarning: X.dtype being converted to np.float32 from float64. In the next version of anndata (0.9) conversion will not be automatic. Pass dtype explicitly to avoid this warning. Pass `AnnData(X, dtype=X.dtype, ...)` to get the future behavour.\n",
      "  super().__init__(*args, **kwargs)\n",
      "/PHShome/ssg34/.conda/envs/plswork/lib/python3.9/site-packages/anndata/_core/anndata.py:121: ImplicitModificationWarning: Transforming to str index.\n",
      "  warnings.warn(\"Transforming to str index.\", ImplicitModificationWarning)\n"
     ]
    },
    {
     "name": "stdout",
     "output_type": "stream",
     "text": [
      "qcd NAM not found; computing and saving\n",
      "\ttaking step 1\n",
      "\tmedian kurtosis: 11.043727199233018\n",
      "\t20th percentile R2(t,t-1): nan\n",
      "\ttaking step 2\n",
      "\tmedian kurtosis: 8.146373564762346\n",
      "\t20th percentile R2(t,t-1): 0.7939578413963317\n",
      "\ttaking step 3\n",
      "\tmedian kurtosis: 6.589556547746421\n",
      "\t20th percentile R2(t,t-1): 0.9295116901397705\n",
      "stopping after 3 steps\n",
      "covariate-adjusted NAM not found; computing and saving\n",
      "computing SVD\n",
      "performing association test\n"
     ]
    },
    {
     "name": "stderr",
     "output_type": "stream",
     "text": [
      "/PHShome/ssg34/.conda/envs/plswork/lib/python3.9/site-packages/cna/tools/_nam.py:79: UserWarning: only one unique batch supplied to qc\n",
      "  warnings.warn('only one unique batch supplied to qc')\n",
      "/PHShome/ssg34/.conda/envs/plswork/lib/python3.9/site-packages/cna/tools/_nam.py:101: UserWarning: only one unique batch supplied to prep\n",
      "  warnings.warn('only one unique batch supplied to prep')\n"
     ]
    },
    {
     "name": "stdout",
     "output_type": "stream",
     "text": [
      "computing neighborhood-level FDRs\n",
      "16\n",
      "[1, 2, 3, 4, 5, 6, 7, 8, 9, 10, 11, 12, 13, 14, 15, 16, 17, 18, 19, 20]\n",
      "p = 0.11728827117288271 , 16 PCs used\n",
      "total r^2 between top 16 NAM PCs and outcome is 0.59\n"
     ]
    }
   ],
   "source": [
    "res = cna_test(meta, harmony, umap, 'Race_[B]')\n",
    "univariate_res = pd.concat([univariate_res,\n",
    "                            pd.DataFrame(['Race_[B]', 'snRNAseq', res.p],\n",
    "                            index = ['Variable', 'Technology', 'global_pvalue']).T])"
   ]
  },
  {
   "cell_type": "code",
   "execution_count": 161,
   "id": "54785310-61a4-4b7b-8d67-f99c54151c74",
   "metadata": {},
   "outputs": [
    {
     "name": "stdout",
     "output_type": "stream",
     "text": [
      "(18660, 33)\n",
      "(18660, 20)\n",
      "(18660, 2)\n",
      "warning: the following columns of obs are non-numeric.\n",
      "['cell' 'sample' 'cell.type' 'Responder.Status' 'Race' 'Type' 'Final_ISN'\n",
      " 'Final_Site']\n",
      "consider casting to numeric types where appropriate, and\n",
      "consider re-coding text-valued columns with pandas.get_dummies\n",
      "computing default knn graph\n"
     ]
    },
    {
     "name": "stderr",
     "output_type": "stream",
     "text": [
      "/PHShome/ssg34/.conda/envs/plswork/lib/python3.9/site-packages/multianndata/core.py:17: FutureWarning: X.dtype being converted to np.float32 from float64. In the next version of anndata (0.9) conversion will not be automatic. Pass dtype explicitly to avoid this warning. Pass `AnnData(X, dtype=X.dtype, ...)` to get the future behavour.\n",
      "  super().__init__(*args, **kwargs)\n",
      "/PHShome/ssg34/.conda/envs/plswork/lib/python3.9/site-packages/anndata/_core/anndata.py:121: ImplicitModificationWarning: Transforming to str index.\n",
      "  warnings.warn(\"Transforming to str index.\", ImplicitModificationWarning)\n"
     ]
    },
    {
     "name": "stdout",
     "output_type": "stream",
     "text": [
      "qcd NAM not found; computing and saving\n",
      "\ttaking step 1\n",
      "\tmedian kurtosis: 11.043727199233018\n",
      "\t20th percentile R2(t,t-1): nan\n",
      "\ttaking step 2\n",
      "\tmedian kurtosis: 8.146373564762346\n",
      "\t20th percentile R2(t,t-1): 0.7939578413963317\n",
      "\ttaking step 3\n",
      "\tmedian kurtosis: 6.589556547746421\n",
      "\t20th percentile R2(t,t-1): 0.9295116901397705\n",
      "stopping after 3 steps\n",
      "covariate-adjusted NAM not found; computing and saving\n",
      "computing SVD\n",
      "performing association test\n"
     ]
    },
    {
     "name": "stderr",
     "output_type": "stream",
     "text": [
      "/PHShome/ssg34/.conda/envs/plswork/lib/python3.9/site-packages/cna/tools/_nam.py:79: UserWarning: only one unique batch supplied to qc\n",
      "  warnings.warn('only one unique batch supplied to qc')\n",
      "/PHShome/ssg34/.conda/envs/plswork/lib/python3.9/site-packages/cna/tools/_nam.py:101: UserWarning: only one unique batch supplied to prep\n",
      "  warnings.warn('only one unique batch supplied to prep')\n"
     ]
    },
    {
     "name": "stdout",
     "output_type": "stream",
     "text": [
      "computing neighborhood-level FDRs\n",
      "15\n",
      "[1, 2, 3, 4, 5, 6, 7, 8, 9, 10, 11, 12, 13, 14, 15, 16, 17, 18, 19, 20]\n",
      "p = 0.5904409559044096 , 15 PCs used\n",
      "total r^2 between top 15 NAM PCs and outcome is 0.44\n"
     ]
    }
   ],
   "source": [
    "res = cna_test(meta, harmony, umap, 'Race_[U]')\n",
    "univariate_res = pd.concat([univariate_res,\n",
    "                            pd.DataFrame(['Race_[U]', 'snRNAseq', res.p],\n",
    "                            index = ['Variable', 'Technology', 'global_pvalue']).T])"
   ]
  },
  {
   "cell_type": "code",
   "execution_count": 162,
   "id": "3b8f4a90-0fa3-411f-8f03-9eedc3e02d19",
   "metadata": {},
   "outputs": [
    {
     "name": "stdout",
     "output_type": "stream",
     "text": [
      "(18660, 33)\n",
      "(18660, 20)\n",
      "(18660, 2)\n",
      "warning: the following columns of obs are non-numeric.\n",
      "['cell' 'sample' 'cell.type' 'Responder.Status' 'Race' 'Type' 'Final_ISN'\n",
      " 'Final_Site']\n",
      "consider casting to numeric types where appropriate, and\n",
      "consider re-coding text-valued columns with pandas.get_dummies\n",
      "computing default knn graph\n"
     ]
    },
    {
     "name": "stderr",
     "output_type": "stream",
     "text": [
      "/PHShome/ssg34/.conda/envs/plswork/lib/python3.9/site-packages/multianndata/core.py:17: FutureWarning: X.dtype being converted to np.float32 from float64. In the next version of anndata (0.9) conversion will not be automatic. Pass dtype explicitly to avoid this warning. Pass `AnnData(X, dtype=X.dtype, ...)` to get the future behavour.\n",
      "  super().__init__(*args, **kwargs)\n",
      "/PHShome/ssg34/.conda/envs/plswork/lib/python3.9/site-packages/anndata/_core/anndata.py:121: ImplicitModificationWarning: Transforming to str index.\n",
      "  warnings.warn(\"Transforming to str index.\", ImplicitModificationWarning)\n"
     ]
    },
    {
     "name": "stdout",
     "output_type": "stream",
     "text": [
      "qcd NAM not found; computing and saving\n",
      "\ttaking step 1\n",
      "\tmedian kurtosis: 11.043727199233018\n",
      "\t20th percentile R2(t,t-1): nan\n",
      "\ttaking step 2\n",
      "\tmedian kurtosis: 8.146373564762346\n",
      "\t20th percentile R2(t,t-1): 0.7939578413963317\n",
      "\ttaking step 3\n",
      "\tmedian kurtosis: 6.589556547746421\n",
      "\t20th percentile R2(t,t-1): 0.9295116901397705\n",
      "stopping after 3 steps\n",
      "covariate-adjusted NAM not found; computing and saving\n",
      "computing SVD\n",
      "performing association test\n"
     ]
    },
    {
     "name": "stderr",
     "output_type": "stream",
     "text": [
      "/PHShome/ssg34/.conda/envs/plswork/lib/python3.9/site-packages/cna/tools/_nam.py:79: UserWarning: only one unique batch supplied to qc\n",
      "  warnings.warn('only one unique batch supplied to qc')\n",
      "/PHShome/ssg34/.conda/envs/plswork/lib/python3.9/site-packages/cna/tools/_nam.py:101: UserWarning: only one unique batch supplied to prep\n",
      "  warnings.warn('only one unique batch supplied to prep')\n"
     ]
    },
    {
     "name": "stdout",
     "output_type": "stream",
     "text": [
      "computing neighborhood-level FDRs\n",
      "3\n",
      "[1, 2, 3, 4, 5, 6, 7, 8, 9, 10, 11, 12, 13, 14, 15, 16, 17, 18, 19, 20]\n",
      "p = 0.0024997500249975004 , 3 PCs used\n",
      "total r^2 between top 3 NAM PCs and outcome is 0.47\n"
     ]
    }
   ],
   "source": [
    "res = cna_test(meta, harmony, umap, 'Race_[W]')\n",
    "univariate_res = pd.concat([univariate_res,\n",
    "                            pd.DataFrame(['Race_[W]', 'snRNAseq', res.p],\n",
    "                            index = ['Variable', 'Technology', 'global_pvalue']).T])"
   ]
  },
  {
   "cell_type": "markdown",
   "id": "c291ba43-0c8d-4fbe-a68c-0d3985c04fc4",
   "metadata": {},
   "source": [
    "# SITE"
   ]
  },
  {
   "cell_type": "markdown",
   "id": "6bb4c9b8-a7c5-4cb7-a9ea-63aec0493c08",
   "metadata": {},
   "source": [
    "## Single Cell"
   ]
  },
  {
   "cell_type": "code",
   "execution_count": 163,
   "id": "068bd0e6-a0c8-4e4c-aea0-8d700046b823",
   "metadata": {},
   "outputs": [
    {
     "name": "stdout",
     "output_type": "stream",
     "text": [
      "(71120, 39)\n"
     ]
    }
   ],
   "source": [
    "meta = pd.read_csv('/data/srlab/ssg34/SLE_kidney_v2/data/cna_new/downsampled_tissue/site/sc_meta.csv')\n",
    "print(meta.shape)"
   ]
  },
  {
   "cell_type": "code",
   "execution_count": 164,
   "id": "5e6aedee-a411-4bcc-829e-d6a85a43a671",
   "metadata": {},
   "outputs": [
    {
     "name": "stdout",
     "output_type": "stream",
     "text": [
      "(71120, 20)\n"
     ]
    }
   ],
   "source": [
    "harmony = pd.read_csv('/data/srlab/ssg34/SLE_kidney_v2/data/cna_new/downsampled_tissue/site/sc_harmony.csv')\n",
    "print(harmony.shape)"
   ]
  },
  {
   "cell_type": "code",
   "execution_count": 165,
   "id": "ed072976-06de-4634-8a5b-00f34c3e1f9d",
   "metadata": {},
   "outputs": [
    {
     "name": "stdout",
     "output_type": "stream",
     "text": [
      "(71120, 2)\n"
     ]
    }
   ],
   "source": [
    "umap = pd.read_csv('/data/srlab/ssg34/SLE_kidney_v2/data/cna_new/downsampled_tissue/site/sc_umap.csv')\n",
    "print(umap.shape)"
   ]
  },
  {
   "cell_type": "code",
   "execution_count": 167,
   "id": "7331b700-5138-4f71-832a-e4ec2070ff39",
   "metadata": {},
   "outputs": [
    {
     "data": {
      "text/plain": [
       "Index(['cell', 'Sex', 'sample', 'cell.type', 'Responder.Status', 'Age', 'Race',\n",
       "       'Type', 'Final_ISN', 'Final_Chronicity', 'Final_Activity', 'Final_Site',\n",
       "       'First_biop', 'Pred_use', 'Responder_Status', 'Race_[A]', 'Race_[A][B]',\n",
       "       'Race_[B]', 'Race_[B][AI]', 'Race_[B][W]', 'Race_[U]', 'Race_[W]',\n",
       "       'Final_ISN_[III]', 'Final_ISN_[III][V]', 'Final_ISN_[IV]',\n",
       "       'Final_ISN_[IV][V]', 'Final_ISN_[V]', 'Final_Site_Cincinnati',\n",
       "       'Final_Site_Einstein', 'Final_Site_JHU', 'Final_Site_Michigan',\n",
       "       'Final_Site_MUSC', 'Final_Site_Northwell', 'Final_Site_NYU',\n",
       "       'Final_Site_Rochester', 'Final_Site_Texas Tech', 'Final_Site_UCLA',\n",
       "       'Final_Site_UCSD', 'Final_Site_UCSF'],\n",
       "      dtype='object')"
      ]
     },
     "execution_count": 167,
     "metadata": {},
     "output_type": "execute_result"
    }
   ],
   "source": [
    "meta.columns"
   ]
  },
  {
   "cell_type": "code",
   "execution_count": 169,
   "id": "583d4c42-b124-4a41-98a6-72d6fd8232f6",
   "metadata": {},
   "outputs": [
    {
     "name": "stdout",
     "output_type": "stream",
     "text": [
      "(71120, 39)\n",
      "(71120, 20)\n",
      "(71120, 2)\n",
      "warning: the following columns of obs are non-numeric.\n",
      "['cell' 'sample' 'cell.type' 'Responder.Status' 'Race' 'Type' 'Final_ISN'\n",
      " 'Final_Site']\n",
      "consider casting to numeric types where appropriate, and\n",
      "consider re-coding text-valued columns with pandas.get_dummies\n",
      "computing default knn graph\n"
     ]
    },
    {
     "name": "stderr",
     "output_type": "stream",
     "text": [
      "/PHShome/ssg34/.conda/envs/plswork/lib/python3.9/site-packages/multianndata/core.py:17: FutureWarning: X.dtype being converted to np.float32 from float64. In the next version of anndata (0.9) conversion will not be automatic. Pass dtype explicitly to avoid this warning. Pass `AnnData(X, dtype=X.dtype, ...)` to get the future behavour.\n",
      "  super().__init__(*args, **kwargs)\n",
      "/PHShome/ssg34/.conda/envs/plswork/lib/python3.9/site-packages/anndata/_core/anndata.py:121: ImplicitModificationWarning: Transforming to str index.\n",
      "  warnings.warn(\"Transforming to str index.\", ImplicitModificationWarning)\n"
     ]
    },
    {
     "name": "stdout",
     "output_type": "stream",
     "text": [
      "qcd NAM not found; computing and saving\n",
      "\ttaking step 1\n",
      "\tmedian kurtosis: 42.821128845214844\n",
      "\t20th percentile R2(t,t-1): nan\n",
      "\ttaking step 2\n",
      "\tmedian kurtosis: 28.430946350097656\n",
      "\t20th percentile R2(t,t-1): 0.7792342305183411\n",
      "\ttaking step 3\n",
      "\tmedian kurtosis: 19.353656768798828\n",
      "\t20th percentile R2(t,t-1): 0.9228097796440125\n",
      "\ttaking step 4\n",
      "\tmedian kurtosis: 14.69758415222168\n",
      "\t20th percentile R2(t,t-1): 0.9582582116127014\n",
      "\ttaking step 5\n",
      "\tmedian kurtosis: 12.140487670898438\n",
      "\t20th percentile R2(t,t-1): 0.9747512340545654\n",
      "stopping after 5 steps\n",
      "covariate-adjusted NAM not found; computing and saving\n"
     ]
    },
    {
     "name": "stderr",
     "output_type": "stream",
     "text": [
      "/PHShome/ssg34/.conda/envs/plswork/lib/python3.9/site-packages/cna/tools/_nam.py:79: UserWarning: only one unique batch supplied to qc\n",
      "  warnings.warn('only one unique batch supplied to qc')\n",
      "/PHShome/ssg34/.conda/envs/plswork/lib/python3.9/site-packages/cna/tools/_nam.py:101: UserWarning: only one unique batch supplied to prep\n",
      "  warnings.warn('only one unique batch supplied to prep')\n"
     ]
    },
    {
     "name": "stdout",
     "output_type": "stream",
     "text": [
      "computing SVD\n",
      "performing association test\n",
      "computing neighborhood-level FDRs\n",
      "2\n",
      "[1, 2, 3, 4, 5, 6, 7, 8, 9, 10, 11, 12, 13, 14, 15, 16, 17, 18, 19, 20]\n",
      "p = 0.49035096490350966 , 2 PCs used\n",
      "total r^2 between top 2 NAM PCs and outcome is 0.02\n"
     ]
    }
   ],
   "source": [
    "res = cna_test(meta, harmony, umap, 'Final_Site_Cincinnati')\n",
    "univariate_res = pd.concat([univariate_res,\n",
    "                            pd.DataFrame(['Site Cincinnati', 'scRNAseq', res.p],\n",
    "                            index = ['Variable', 'Technology', 'global_pvalue']).T])"
   ]
  },
  {
   "cell_type": "code",
   "execution_count": 170,
   "id": "2b90b1de-5b20-4aa7-85e5-b2abb3c1dc8d",
   "metadata": {},
   "outputs": [
    {
     "name": "stdout",
     "output_type": "stream",
     "text": [
      "(71120, 39)\n",
      "(71120, 20)\n",
      "(71120, 2)\n",
      "warning: the following columns of obs are non-numeric.\n",
      "['cell' 'sample' 'cell.type' 'Responder.Status' 'Race' 'Type' 'Final_ISN'\n",
      " 'Final_Site']\n",
      "consider casting to numeric types where appropriate, and\n",
      "consider re-coding text-valued columns with pandas.get_dummies\n",
      "computing default knn graph\n"
     ]
    },
    {
     "name": "stderr",
     "output_type": "stream",
     "text": [
      "/PHShome/ssg34/.conda/envs/plswork/lib/python3.9/site-packages/multianndata/core.py:17: FutureWarning: X.dtype being converted to np.float32 from float64. In the next version of anndata (0.9) conversion will not be automatic. Pass dtype explicitly to avoid this warning. Pass `AnnData(X, dtype=X.dtype, ...)` to get the future behavour.\n",
      "  super().__init__(*args, **kwargs)\n",
      "/PHShome/ssg34/.conda/envs/plswork/lib/python3.9/site-packages/anndata/_core/anndata.py:121: ImplicitModificationWarning: Transforming to str index.\n",
      "  warnings.warn(\"Transforming to str index.\", ImplicitModificationWarning)\n"
     ]
    },
    {
     "name": "stdout",
     "output_type": "stream",
     "text": [
      "qcd NAM not found; computing and saving\n",
      "\ttaking step 1\n",
      "\tmedian kurtosis: 42.821128845214844\n",
      "\t20th percentile R2(t,t-1): nan\n",
      "\ttaking step 2\n",
      "\tmedian kurtosis: 28.430946350097656\n",
      "\t20th percentile R2(t,t-1): 0.7792342305183411\n",
      "\ttaking step 3\n",
      "\tmedian kurtosis: 19.353656768798828\n",
      "\t20th percentile R2(t,t-1): 0.9228097796440125\n",
      "\ttaking step 4\n",
      "\tmedian kurtosis: 14.69758415222168\n",
      "\t20th percentile R2(t,t-1): 0.9582582116127014\n",
      "\ttaking step 5\n",
      "\tmedian kurtosis: 12.140487670898438\n",
      "\t20th percentile R2(t,t-1): 0.9747512340545654\n",
      "stopping after 5 steps\n",
      "covariate-adjusted NAM not found; computing and saving\n"
     ]
    },
    {
     "name": "stderr",
     "output_type": "stream",
     "text": [
      "/PHShome/ssg34/.conda/envs/plswork/lib/python3.9/site-packages/cna/tools/_nam.py:79: UserWarning: only one unique batch supplied to qc\n",
      "  warnings.warn('only one unique batch supplied to qc')\n",
      "/PHShome/ssg34/.conda/envs/plswork/lib/python3.9/site-packages/cna/tools/_nam.py:101: UserWarning: only one unique batch supplied to prep\n",
      "  warnings.warn('only one unique batch supplied to prep')\n"
     ]
    },
    {
     "name": "stdout",
     "output_type": "stream",
     "text": [
      "computing SVD\n",
      "performing association test\n",
      "computing neighborhood-level FDRs\n",
      "16\n",
      "[1, 2, 3, 4, 5, 6, 7, 8, 9, 10, 11, 12, 13, 14, 15, 16, 17, 18, 19, 20]\n",
      "p = 0.00029997000299970003 , 16 PCs used\n",
      "total r^2 between top 16 NAM PCs and outcome is 0.38\n"
     ]
    }
   ],
   "source": [
    "res = cna_test(meta, harmony, umap, 'Final_Site_Einstein')\n",
    "univariate_res = pd.concat([univariate_res,\n",
    "                            pd.DataFrame(['Site Einstein', 'scRNAseq', res.p],\n",
    "                            index = ['Variable', 'Technology', 'global_pvalue']).T])"
   ]
  },
  {
   "cell_type": "code",
   "execution_count": 171,
   "id": "4159ba93-c07e-4199-8346-5d988185ff6e",
   "metadata": {},
   "outputs": [
    {
     "name": "stdout",
     "output_type": "stream",
     "text": [
      "(71120, 39)\n",
      "(71120, 20)\n",
      "(71120, 2)\n",
      "warning: the following columns of obs are non-numeric.\n",
      "['cell' 'sample' 'cell.type' 'Responder.Status' 'Race' 'Type' 'Final_ISN'\n",
      " 'Final_Site']\n",
      "consider casting to numeric types where appropriate, and\n",
      "consider re-coding text-valued columns with pandas.get_dummies\n",
      "computing default knn graph\n"
     ]
    },
    {
     "name": "stderr",
     "output_type": "stream",
     "text": [
      "/PHShome/ssg34/.conda/envs/plswork/lib/python3.9/site-packages/multianndata/core.py:17: FutureWarning: X.dtype being converted to np.float32 from float64. In the next version of anndata (0.9) conversion will not be automatic. Pass dtype explicitly to avoid this warning. Pass `AnnData(X, dtype=X.dtype, ...)` to get the future behavour.\n",
      "  super().__init__(*args, **kwargs)\n",
      "/PHShome/ssg34/.conda/envs/plswork/lib/python3.9/site-packages/anndata/_core/anndata.py:121: ImplicitModificationWarning: Transforming to str index.\n",
      "  warnings.warn(\"Transforming to str index.\", ImplicitModificationWarning)\n"
     ]
    },
    {
     "name": "stdout",
     "output_type": "stream",
     "text": [
      "qcd NAM not found; computing and saving\n",
      "\ttaking step 1\n",
      "\tmedian kurtosis: 42.821128845214844\n",
      "\t20th percentile R2(t,t-1): nan\n",
      "\ttaking step 2\n",
      "\tmedian kurtosis: 28.430946350097656\n",
      "\t20th percentile R2(t,t-1): 0.7792342305183411\n",
      "\ttaking step 3\n",
      "\tmedian kurtosis: 19.353656768798828\n",
      "\t20th percentile R2(t,t-1): 0.9228097796440125\n",
      "\ttaking step 4\n",
      "\tmedian kurtosis: 14.69758415222168\n",
      "\t20th percentile R2(t,t-1): 0.9582582116127014\n",
      "\ttaking step 5\n",
      "\tmedian kurtosis: 12.140487670898438\n",
      "\t20th percentile R2(t,t-1): 0.9747512340545654\n",
      "stopping after 5 steps\n",
      "covariate-adjusted NAM not found; computing and saving\n"
     ]
    },
    {
     "name": "stderr",
     "output_type": "stream",
     "text": [
      "/PHShome/ssg34/.conda/envs/plswork/lib/python3.9/site-packages/cna/tools/_nam.py:79: UserWarning: only one unique batch supplied to qc\n",
      "  warnings.warn('only one unique batch supplied to qc')\n",
      "/PHShome/ssg34/.conda/envs/plswork/lib/python3.9/site-packages/cna/tools/_nam.py:101: UserWarning: only one unique batch supplied to prep\n",
      "  warnings.warn('only one unique batch supplied to prep')\n"
     ]
    },
    {
     "name": "stdout",
     "output_type": "stream",
     "text": [
      "computing SVD\n",
      "performing association test\n",
      "computing neighborhood-level FDRs\n",
      "19\n",
      "[1, 2, 3, 4, 5, 6, 7, 8, 9, 10, 11, 12, 13, 14, 15, 16, 17, 18, 19, 20]\n",
      "p = 0.014698530146985302 , 19 PCs used\n",
      "total r^2 between top 19 NAM PCs and outcome is 0.23\n"
     ]
    }
   ],
   "source": [
    "res = cna_test(meta, harmony, umap, 'Final_Site_JHU')\n",
    "univariate_res = pd.concat([univariate_res,\n",
    "                            pd.DataFrame(['Site JHU', 'scRNAseq', res.p],\n",
    "                            index = ['Variable', 'Technology', 'global_pvalue']).T])"
   ]
  },
  {
   "cell_type": "code",
   "execution_count": 172,
   "id": "880cf014-e90a-498e-b2b5-d399c0691ce4",
   "metadata": {},
   "outputs": [
    {
     "name": "stdout",
     "output_type": "stream",
     "text": [
      "(71120, 39)\n",
      "(71120, 20)\n",
      "(71120, 2)\n",
      "warning: the following columns of obs are non-numeric.\n",
      "['cell' 'sample' 'cell.type' 'Responder.Status' 'Race' 'Type' 'Final_ISN'\n",
      " 'Final_Site']\n",
      "consider casting to numeric types where appropriate, and\n",
      "consider re-coding text-valued columns with pandas.get_dummies\n",
      "computing default knn graph\n"
     ]
    },
    {
     "name": "stderr",
     "output_type": "stream",
     "text": [
      "/PHShome/ssg34/.conda/envs/plswork/lib/python3.9/site-packages/multianndata/core.py:17: FutureWarning: X.dtype being converted to np.float32 from float64. In the next version of anndata (0.9) conversion will not be automatic. Pass dtype explicitly to avoid this warning. Pass `AnnData(X, dtype=X.dtype, ...)` to get the future behavour.\n",
      "  super().__init__(*args, **kwargs)\n",
      "/PHShome/ssg34/.conda/envs/plswork/lib/python3.9/site-packages/anndata/_core/anndata.py:121: ImplicitModificationWarning: Transforming to str index.\n",
      "  warnings.warn(\"Transforming to str index.\", ImplicitModificationWarning)\n"
     ]
    },
    {
     "name": "stdout",
     "output_type": "stream",
     "text": [
      "qcd NAM not found; computing and saving\n",
      "\ttaking step 1\n",
      "\tmedian kurtosis: 42.821128845214844\n",
      "\t20th percentile R2(t,t-1): nan\n",
      "\ttaking step 2\n",
      "\tmedian kurtosis: 28.430946350097656\n",
      "\t20th percentile R2(t,t-1): 0.7792342305183411\n",
      "\ttaking step 3\n",
      "\tmedian kurtosis: 19.353656768798828\n",
      "\t20th percentile R2(t,t-1): 0.9228097796440125\n",
      "\ttaking step 4\n",
      "\tmedian kurtosis: 14.69758415222168\n",
      "\t20th percentile R2(t,t-1): 0.9582582116127014\n",
      "\ttaking step 5\n",
      "\tmedian kurtosis: 12.140487670898438\n",
      "\t20th percentile R2(t,t-1): 0.9747512340545654\n",
      "stopping after 5 steps\n",
      "covariate-adjusted NAM not found; computing and saving\n"
     ]
    },
    {
     "name": "stderr",
     "output_type": "stream",
     "text": [
      "/PHShome/ssg34/.conda/envs/plswork/lib/python3.9/site-packages/cna/tools/_nam.py:79: UserWarning: only one unique batch supplied to qc\n",
      "  warnings.warn('only one unique batch supplied to qc')\n",
      "/PHShome/ssg34/.conda/envs/plswork/lib/python3.9/site-packages/cna/tools/_nam.py:101: UserWarning: only one unique batch supplied to prep\n",
      "  warnings.warn('only one unique batch supplied to prep')\n"
     ]
    },
    {
     "name": "stdout",
     "output_type": "stream",
     "text": [
      "computing SVD\n",
      "performing association test\n",
      "computing neighborhood-level FDRs\n",
      "5\n",
      "[1, 2, 3, 4, 5, 6, 7, 8, 9, 10, 11, 12, 13, 14, 15, 16, 17, 18, 19, 20]\n",
      "p = 0.5487451254874512 , 5 PCs used\n",
      "total r^2 between top 5 NAM PCs and outcome is 0.04\n"
     ]
    }
   ],
   "source": [
    "res = cna_test(meta, harmony, umap, 'Final_Site_Michigan')\n",
    "univariate_res = pd.concat([univariate_res,\n",
    "                            pd.DataFrame(['Site Michigan', 'scRNAseq', res.p],\n",
    "                            index = ['Variable', 'Technology', 'global_pvalue']).T])"
   ]
  },
  {
   "cell_type": "code",
   "execution_count": 173,
   "id": "dc488800-ea29-4ec6-9bf0-5e1e5b60fbdf",
   "metadata": {},
   "outputs": [
    {
     "name": "stdout",
     "output_type": "stream",
     "text": [
      "(71120, 39)\n",
      "(71120, 20)\n",
      "(71120, 2)\n",
      "warning: the following columns of obs are non-numeric.\n",
      "['cell' 'sample' 'cell.type' 'Responder.Status' 'Race' 'Type' 'Final_ISN'\n",
      " 'Final_Site']\n",
      "consider casting to numeric types where appropriate, and\n",
      "consider re-coding text-valued columns with pandas.get_dummies\n",
      "computing default knn graph\n"
     ]
    },
    {
     "name": "stderr",
     "output_type": "stream",
     "text": [
      "/PHShome/ssg34/.conda/envs/plswork/lib/python3.9/site-packages/multianndata/core.py:17: FutureWarning: X.dtype being converted to np.float32 from float64. In the next version of anndata (0.9) conversion will not be automatic. Pass dtype explicitly to avoid this warning. Pass `AnnData(X, dtype=X.dtype, ...)` to get the future behavour.\n",
      "  super().__init__(*args, **kwargs)\n",
      "/PHShome/ssg34/.conda/envs/plswork/lib/python3.9/site-packages/anndata/_core/anndata.py:121: ImplicitModificationWarning: Transforming to str index.\n",
      "  warnings.warn(\"Transforming to str index.\", ImplicitModificationWarning)\n"
     ]
    },
    {
     "name": "stdout",
     "output_type": "stream",
     "text": [
      "qcd NAM not found; computing and saving\n",
      "\ttaking step 1\n",
      "\tmedian kurtosis: 42.821128845214844\n",
      "\t20th percentile R2(t,t-1): nan\n",
      "\ttaking step 2\n",
      "\tmedian kurtosis: 28.430946350097656\n",
      "\t20th percentile R2(t,t-1): 0.7792342305183411\n",
      "\ttaking step 3\n",
      "\tmedian kurtosis: 19.353656768798828\n",
      "\t20th percentile R2(t,t-1): 0.9228097796440125\n",
      "\ttaking step 4\n",
      "\tmedian kurtosis: 14.69758415222168\n",
      "\t20th percentile R2(t,t-1): 0.9582582116127014\n",
      "\ttaking step 5\n",
      "\tmedian kurtosis: 12.140487670898438\n",
      "\t20th percentile R2(t,t-1): 0.9747512340545654\n",
      "stopping after 5 steps\n",
      "covariate-adjusted NAM not found; computing and saving\n"
     ]
    },
    {
     "name": "stderr",
     "output_type": "stream",
     "text": [
      "/PHShome/ssg34/.conda/envs/plswork/lib/python3.9/site-packages/cna/tools/_nam.py:79: UserWarning: only one unique batch supplied to qc\n",
      "  warnings.warn('only one unique batch supplied to qc')\n",
      "/PHShome/ssg34/.conda/envs/plswork/lib/python3.9/site-packages/cna/tools/_nam.py:101: UserWarning: only one unique batch supplied to prep\n",
      "  warnings.warn('only one unique batch supplied to prep')\n"
     ]
    },
    {
     "name": "stdout",
     "output_type": "stream",
     "text": [
      "computing SVD\n",
      "performing association test\n",
      "computing neighborhood-level FDRs\n",
      "4\n",
      "[1, 2, 3, 4, 5, 6, 7, 8, 9, 10, 11, 12, 13, 14, 15, 16, 17, 18, 19, 20]\n",
      "p = 0.18548145185481452 , 4 PCs used\n",
      "total r^2 between top 4 NAM PCs and outcome is 0.08\n"
     ]
    }
   ],
   "source": [
    "res = cna_test(meta, harmony, umap, 'Final_Site_MUSC')\n",
    "univariate_res = pd.concat([univariate_res,\n",
    "                            pd.DataFrame(['Site MUSC', 'scRNAseq', res.p],\n",
    "                            index = ['Variable', 'Technology', 'global_pvalue']).T])"
   ]
  },
  {
   "cell_type": "code",
   "execution_count": 174,
   "id": "15d033fd-37a2-4053-803b-e1bfb3c2fd25",
   "metadata": {},
   "outputs": [
    {
     "name": "stdout",
     "output_type": "stream",
     "text": [
      "(71120, 39)\n",
      "(71120, 20)\n",
      "(71120, 2)\n",
      "warning: the following columns of obs are non-numeric.\n",
      "['cell' 'sample' 'cell.type' 'Responder.Status' 'Race' 'Type' 'Final_ISN'\n",
      " 'Final_Site']\n",
      "consider casting to numeric types where appropriate, and\n",
      "consider re-coding text-valued columns with pandas.get_dummies\n",
      "computing default knn graph\n"
     ]
    },
    {
     "name": "stderr",
     "output_type": "stream",
     "text": [
      "/PHShome/ssg34/.conda/envs/plswork/lib/python3.9/site-packages/multianndata/core.py:17: FutureWarning: X.dtype being converted to np.float32 from float64. In the next version of anndata (0.9) conversion will not be automatic. Pass dtype explicitly to avoid this warning. Pass `AnnData(X, dtype=X.dtype, ...)` to get the future behavour.\n",
      "  super().__init__(*args, **kwargs)\n",
      "/PHShome/ssg34/.conda/envs/plswork/lib/python3.9/site-packages/anndata/_core/anndata.py:121: ImplicitModificationWarning: Transforming to str index.\n",
      "  warnings.warn(\"Transforming to str index.\", ImplicitModificationWarning)\n"
     ]
    },
    {
     "name": "stdout",
     "output_type": "stream",
     "text": [
      "qcd NAM not found; computing and saving\n",
      "\ttaking step 1\n",
      "\tmedian kurtosis: 42.821128845214844\n",
      "\t20th percentile R2(t,t-1): nan\n",
      "\ttaking step 2\n",
      "\tmedian kurtosis: 28.430946350097656\n",
      "\t20th percentile R2(t,t-1): 0.7792342305183411\n",
      "\ttaking step 3\n",
      "\tmedian kurtosis: 19.353656768798828\n",
      "\t20th percentile R2(t,t-1): 0.9228097796440125\n",
      "\ttaking step 4\n",
      "\tmedian kurtosis: 14.69758415222168\n",
      "\t20th percentile R2(t,t-1): 0.9582582116127014\n",
      "\ttaking step 5\n",
      "\tmedian kurtosis: 12.140487670898438\n",
      "\t20th percentile R2(t,t-1): 0.9747512340545654\n",
      "stopping after 5 steps\n",
      "covariate-adjusted NAM not found; computing and saving\n"
     ]
    },
    {
     "name": "stderr",
     "output_type": "stream",
     "text": [
      "/PHShome/ssg34/.conda/envs/plswork/lib/python3.9/site-packages/cna/tools/_nam.py:79: UserWarning: only one unique batch supplied to qc\n",
      "  warnings.warn('only one unique batch supplied to qc')\n",
      "/PHShome/ssg34/.conda/envs/plswork/lib/python3.9/site-packages/cna/tools/_nam.py:101: UserWarning: only one unique batch supplied to prep\n",
      "  warnings.warn('only one unique batch supplied to prep')\n"
     ]
    },
    {
     "name": "stdout",
     "output_type": "stream",
     "text": [
      "computing SVD\n",
      "performing association test\n",
      "computing neighborhood-level FDRs\n",
      "5\n",
      "[1, 2, 3, 4, 5, 6, 7, 8, 9, 10, 11, 12, 13, 14, 15, 16, 17, 18, 19, 20]\n",
      "p = 0.7468253174682532 , 5 PCs used\n",
      "total r^2 between top 5 NAM PCs and outcome is 0.04\n"
     ]
    }
   ],
   "source": [
    "res = cna_test(meta, harmony, umap, 'Final_Site_Northwell')\n",
    "univariate_res = pd.concat([univariate_res,\n",
    "                            pd.DataFrame(['Site Northwell', 'scRNAseq', res.p],\n",
    "                            index = ['Variable', 'Technology', 'global_pvalue']).T])"
   ]
  },
  {
   "cell_type": "code",
   "execution_count": 175,
   "id": "6ad8db32-9f9a-4230-8889-7dc89657d9ea",
   "metadata": {},
   "outputs": [
    {
     "name": "stdout",
     "output_type": "stream",
     "text": [
      "(71120, 39)\n",
      "(71120, 20)\n",
      "(71120, 2)\n",
      "warning: the following columns of obs are non-numeric.\n",
      "['cell' 'sample' 'cell.type' 'Responder.Status' 'Race' 'Type' 'Final_ISN'\n",
      " 'Final_Site']\n",
      "consider casting to numeric types where appropriate, and\n",
      "consider re-coding text-valued columns with pandas.get_dummies\n",
      "computing default knn graph\n"
     ]
    },
    {
     "name": "stderr",
     "output_type": "stream",
     "text": [
      "/PHShome/ssg34/.conda/envs/plswork/lib/python3.9/site-packages/multianndata/core.py:17: FutureWarning: X.dtype being converted to np.float32 from float64. In the next version of anndata (0.9) conversion will not be automatic. Pass dtype explicitly to avoid this warning. Pass `AnnData(X, dtype=X.dtype, ...)` to get the future behavour.\n",
      "  super().__init__(*args, **kwargs)\n",
      "/PHShome/ssg34/.conda/envs/plswork/lib/python3.9/site-packages/anndata/_core/anndata.py:121: ImplicitModificationWarning: Transforming to str index.\n",
      "  warnings.warn(\"Transforming to str index.\", ImplicitModificationWarning)\n"
     ]
    },
    {
     "name": "stdout",
     "output_type": "stream",
     "text": [
      "qcd NAM not found; computing and saving\n",
      "\ttaking step 1\n",
      "\tmedian kurtosis: 42.821128845214844\n",
      "\t20th percentile R2(t,t-1): nan\n",
      "\ttaking step 2\n",
      "\tmedian kurtosis: 28.430946350097656\n",
      "\t20th percentile R2(t,t-1): 0.7792342305183411\n",
      "\ttaking step 3\n",
      "\tmedian kurtosis: 19.353656768798828\n",
      "\t20th percentile R2(t,t-1): 0.9228097796440125\n",
      "\ttaking step 4\n",
      "\tmedian kurtosis: 14.69758415222168\n",
      "\t20th percentile R2(t,t-1): 0.9582582116127014\n",
      "\ttaking step 5\n",
      "\tmedian kurtosis: 12.140487670898438\n",
      "\t20th percentile R2(t,t-1): 0.9747512340545654\n",
      "stopping after 5 steps\n",
      "covariate-adjusted NAM not found; computing and saving\n"
     ]
    },
    {
     "name": "stderr",
     "output_type": "stream",
     "text": [
      "/PHShome/ssg34/.conda/envs/plswork/lib/python3.9/site-packages/cna/tools/_nam.py:79: UserWarning: only one unique batch supplied to qc\n",
      "  warnings.warn('only one unique batch supplied to qc')\n",
      "/PHShome/ssg34/.conda/envs/plswork/lib/python3.9/site-packages/cna/tools/_nam.py:101: UserWarning: only one unique batch supplied to prep\n",
      "  warnings.warn('only one unique batch supplied to prep')\n"
     ]
    },
    {
     "name": "stdout",
     "output_type": "stream",
     "text": [
      "computing SVD\n",
      "performing association test\n",
      "computing neighborhood-level FDRs\n",
      "12\n",
      "[1, 2, 3, 4, 5, 6, 7, 8, 9, 10, 11, 12, 13, 14, 15, 16, 17, 18, 19, 20]\n",
      "p = 0.0010998900109989002 , 12 PCs used\n",
      "total r^2 between top 12 NAM PCs and outcome is 0.22\n"
     ]
    }
   ],
   "source": [
    "res = cna_test(meta, harmony, umap, 'Final_Site_NYU')\n",
    "univariate_res = pd.concat([univariate_res,\n",
    "                            pd.DataFrame(['Site NYU', 'scRNAseq', res.p],\n",
    "                            index = ['Variable', 'Technology', 'global_pvalue']).T])"
   ]
  },
  {
   "cell_type": "code",
   "execution_count": 176,
   "id": "dc17cb37-25bd-40c4-b12f-0f7fdb339542",
   "metadata": {},
   "outputs": [
    {
     "name": "stdout",
     "output_type": "stream",
     "text": [
      "(71120, 39)\n",
      "(71120, 20)\n",
      "(71120, 2)\n",
      "warning: the following columns of obs are non-numeric.\n",
      "['cell' 'sample' 'cell.type' 'Responder.Status' 'Race' 'Type' 'Final_ISN'\n",
      " 'Final_Site']\n",
      "consider casting to numeric types where appropriate, and\n",
      "consider re-coding text-valued columns with pandas.get_dummies\n",
      "computing default knn graph\n"
     ]
    },
    {
     "name": "stderr",
     "output_type": "stream",
     "text": [
      "/PHShome/ssg34/.conda/envs/plswork/lib/python3.9/site-packages/multianndata/core.py:17: FutureWarning: X.dtype being converted to np.float32 from float64. In the next version of anndata (0.9) conversion will not be automatic. Pass dtype explicitly to avoid this warning. Pass `AnnData(X, dtype=X.dtype, ...)` to get the future behavour.\n",
      "  super().__init__(*args, **kwargs)\n",
      "/PHShome/ssg34/.conda/envs/plswork/lib/python3.9/site-packages/anndata/_core/anndata.py:121: ImplicitModificationWarning: Transforming to str index.\n",
      "  warnings.warn(\"Transforming to str index.\", ImplicitModificationWarning)\n"
     ]
    },
    {
     "name": "stdout",
     "output_type": "stream",
     "text": [
      "qcd NAM not found; computing and saving\n",
      "\ttaking step 1\n",
      "\tmedian kurtosis: 42.821128845214844\n",
      "\t20th percentile R2(t,t-1): nan\n",
      "\ttaking step 2\n",
      "\tmedian kurtosis: 28.430946350097656\n",
      "\t20th percentile R2(t,t-1): 0.7792342305183411\n",
      "\ttaking step 3\n",
      "\tmedian kurtosis: 19.353656768798828\n",
      "\t20th percentile R2(t,t-1): 0.9228097796440125\n",
      "\ttaking step 4\n",
      "\tmedian kurtosis: 14.69758415222168\n",
      "\t20th percentile R2(t,t-1): 0.9582582116127014\n",
      "\ttaking step 5\n",
      "\tmedian kurtosis: 12.140487670898438\n",
      "\t20th percentile R2(t,t-1): 0.9747512340545654\n",
      "stopping after 5 steps\n",
      "covariate-adjusted NAM not found; computing and saving\n"
     ]
    },
    {
     "name": "stderr",
     "output_type": "stream",
     "text": [
      "/PHShome/ssg34/.conda/envs/plswork/lib/python3.9/site-packages/cna/tools/_nam.py:79: UserWarning: only one unique batch supplied to qc\n",
      "  warnings.warn('only one unique batch supplied to qc')\n",
      "/PHShome/ssg34/.conda/envs/plswork/lib/python3.9/site-packages/cna/tools/_nam.py:101: UserWarning: only one unique batch supplied to prep\n",
      "  warnings.warn('only one unique batch supplied to prep')\n"
     ]
    },
    {
     "name": "stdout",
     "output_type": "stream",
     "text": [
      "computing SVD\n",
      "performing association test\n",
      "computing neighborhood-level FDRs\n",
      "11\n",
      "[1, 2, 3, 4, 5, 6, 7, 8, 9, 10, 11, 12, 13, 14, 15, 16, 17, 18, 19, 20]\n",
      "p = 0.4754524547545245 , 11 PCs used\n",
      "total r^2 between top 11 NAM PCs and outcome is 0.10\n"
     ]
    }
   ],
   "source": [
    "res = cna_test(meta, harmony, umap, 'Final_Site_Rochester')\n",
    "univariate_res = pd.concat([univariate_res,\n",
    "                            pd.DataFrame(['Site Rochester', 'scRNAseq', res.p],\n",
    "                            index = ['Variable', 'Technology', 'global_pvalue']).T])"
   ]
  },
  {
   "cell_type": "code",
   "execution_count": 177,
   "id": "392c3c7a-098b-415a-a928-6632046e976b",
   "metadata": {},
   "outputs": [
    {
     "name": "stdout",
     "output_type": "stream",
     "text": [
      "(71120, 39)\n",
      "(71120, 20)\n",
      "(71120, 2)\n",
      "warning: the following columns of obs are non-numeric.\n",
      "['cell' 'sample' 'cell.type' 'Responder.Status' 'Race' 'Type' 'Final_ISN'\n",
      " 'Final_Site']\n",
      "consider casting to numeric types where appropriate, and\n",
      "consider re-coding text-valued columns with pandas.get_dummies\n",
      "computing default knn graph\n"
     ]
    },
    {
     "name": "stderr",
     "output_type": "stream",
     "text": [
      "/PHShome/ssg34/.conda/envs/plswork/lib/python3.9/site-packages/multianndata/core.py:17: FutureWarning: X.dtype being converted to np.float32 from float64. In the next version of anndata (0.9) conversion will not be automatic. Pass dtype explicitly to avoid this warning. Pass `AnnData(X, dtype=X.dtype, ...)` to get the future behavour.\n",
      "  super().__init__(*args, **kwargs)\n",
      "/PHShome/ssg34/.conda/envs/plswork/lib/python3.9/site-packages/anndata/_core/anndata.py:121: ImplicitModificationWarning: Transforming to str index.\n",
      "  warnings.warn(\"Transforming to str index.\", ImplicitModificationWarning)\n"
     ]
    },
    {
     "name": "stdout",
     "output_type": "stream",
     "text": [
      "qcd NAM not found; computing and saving\n",
      "\ttaking step 1\n",
      "\tmedian kurtosis: 42.821128845214844\n",
      "\t20th percentile R2(t,t-1): nan\n",
      "\ttaking step 2\n",
      "\tmedian kurtosis: 28.430946350097656\n",
      "\t20th percentile R2(t,t-1): 0.7792342305183411\n",
      "\ttaking step 3\n",
      "\tmedian kurtosis: 19.353656768798828\n",
      "\t20th percentile R2(t,t-1): 0.9228097796440125\n",
      "\ttaking step 4\n",
      "\tmedian kurtosis: 14.69758415222168\n",
      "\t20th percentile R2(t,t-1): 0.9582582116127014\n",
      "\ttaking step 5\n",
      "\tmedian kurtosis: 12.140487670898438\n",
      "\t20th percentile R2(t,t-1): 0.9747512340545654\n",
      "stopping after 5 steps\n",
      "covariate-adjusted NAM not found; computing and saving\n"
     ]
    },
    {
     "name": "stderr",
     "output_type": "stream",
     "text": [
      "/PHShome/ssg34/.conda/envs/plswork/lib/python3.9/site-packages/cna/tools/_nam.py:79: UserWarning: only one unique batch supplied to qc\n",
      "  warnings.warn('only one unique batch supplied to qc')\n",
      "/PHShome/ssg34/.conda/envs/plswork/lib/python3.9/site-packages/cna/tools/_nam.py:101: UserWarning: only one unique batch supplied to prep\n",
      "  warnings.warn('only one unique batch supplied to prep')\n"
     ]
    },
    {
     "name": "stdout",
     "output_type": "stream",
     "text": [
      "computing SVD\n",
      "performing association test\n",
      "computing neighborhood-level FDRs\n",
      "1\n",
      "[1, 2, 3, 4, 5, 6, 7, 8, 9, 10, 11, 12, 13, 14, 15, 16, 17, 18, 19, 20]\n",
      "p = 0.140985901409859 , 1 PCs used\n",
      "total r^2 between top 1 NAM PCs and outcome is 0.06\n"
     ]
    }
   ],
   "source": [
    "res = cna_test(meta, harmony, umap, 'Final_Site_Texas Tech')\n",
    "univariate_res = pd.concat([univariate_res,\n",
    "                            pd.DataFrame(['Site Texas Tech', 'scRNAseq', res.p],\n",
    "                            index = ['Variable', 'Technology', 'global_pvalue']).T])"
   ]
  },
  {
   "cell_type": "code",
   "execution_count": 178,
   "id": "11255985-abaa-4d8b-ae31-63f3ab17898b",
   "metadata": {},
   "outputs": [
    {
     "name": "stdout",
     "output_type": "stream",
     "text": [
      "(71120, 39)\n",
      "(71120, 20)\n",
      "(71120, 2)\n",
      "warning: the following columns of obs are non-numeric.\n",
      "['cell' 'sample' 'cell.type' 'Responder.Status' 'Race' 'Type' 'Final_ISN'\n",
      " 'Final_Site']\n",
      "consider casting to numeric types where appropriate, and\n",
      "consider re-coding text-valued columns with pandas.get_dummies\n",
      "computing default knn graph\n"
     ]
    },
    {
     "name": "stderr",
     "output_type": "stream",
     "text": [
      "/PHShome/ssg34/.conda/envs/plswork/lib/python3.9/site-packages/multianndata/core.py:17: FutureWarning: X.dtype being converted to np.float32 from float64. In the next version of anndata (0.9) conversion will not be automatic. Pass dtype explicitly to avoid this warning. Pass `AnnData(X, dtype=X.dtype, ...)` to get the future behavour.\n",
      "  super().__init__(*args, **kwargs)\n",
      "/PHShome/ssg34/.conda/envs/plswork/lib/python3.9/site-packages/anndata/_core/anndata.py:121: ImplicitModificationWarning: Transforming to str index.\n",
      "  warnings.warn(\"Transforming to str index.\", ImplicitModificationWarning)\n"
     ]
    },
    {
     "name": "stdout",
     "output_type": "stream",
     "text": [
      "qcd NAM not found; computing and saving\n",
      "\ttaking step 1\n",
      "\tmedian kurtosis: 42.821128845214844\n",
      "\t20th percentile R2(t,t-1): nan\n",
      "\ttaking step 2\n",
      "\tmedian kurtosis: 28.430946350097656\n",
      "\t20th percentile R2(t,t-1): 0.7792342305183411\n",
      "\ttaking step 3\n",
      "\tmedian kurtosis: 19.353656768798828\n",
      "\t20th percentile R2(t,t-1): 0.9228097796440125\n",
      "\ttaking step 4\n",
      "\tmedian kurtosis: 14.69758415222168\n",
      "\t20th percentile R2(t,t-1): 0.9582582116127014\n",
      "\ttaking step 5\n",
      "\tmedian kurtosis: 12.140487670898438\n",
      "\t20th percentile R2(t,t-1): 0.9747512340545654\n",
      "stopping after 5 steps\n",
      "covariate-adjusted NAM not found; computing and saving\n"
     ]
    },
    {
     "name": "stderr",
     "output_type": "stream",
     "text": [
      "/PHShome/ssg34/.conda/envs/plswork/lib/python3.9/site-packages/cna/tools/_nam.py:79: UserWarning: only one unique batch supplied to qc\n",
      "  warnings.warn('only one unique batch supplied to qc')\n",
      "/PHShome/ssg34/.conda/envs/plswork/lib/python3.9/site-packages/cna/tools/_nam.py:101: UserWarning: only one unique batch supplied to prep\n",
      "  warnings.warn('only one unique batch supplied to prep')\n"
     ]
    },
    {
     "name": "stdout",
     "output_type": "stream",
     "text": [
      "computing SVD\n",
      "performing association test\n",
      "computing neighborhood-level FDRs\n",
      "4\n",
      "[1, 2, 3, 4, 5, 6, 7, 8, 9, 10, 11, 12, 13, 14, 15, 16, 17, 18, 19, 20]\n",
      "p = 0.1024897510248975 , 4 PCs used\n",
      "total r^2 between top 4 NAM PCs and outcome is 0.12\n"
     ]
    }
   ],
   "source": [
    "res = cna_test(meta, harmony, umap, 'Final_Site_UCLA')\n",
    "univariate_res = pd.concat([univariate_res,\n",
    "                            pd.DataFrame(['Site UCLA', 'scRNAseq', res.p],\n",
    "                            index = ['Variable', 'Technology', 'global_pvalue']).T])"
   ]
  },
  {
   "cell_type": "code",
   "execution_count": 180,
   "id": "0a41f748-55e2-4c14-a009-8feccd8a9c11",
   "metadata": {},
   "outputs": [
    {
     "name": "stdout",
     "output_type": "stream",
     "text": [
      "(71120, 39)\n",
      "(71120, 20)\n",
      "(71120, 2)\n",
      "warning: the following columns of obs are non-numeric.\n",
      "['cell' 'sample' 'cell.type' 'Responder.Status' 'Race' 'Type' 'Final_ISN'\n",
      " 'Final_Site']\n",
      "consider casting to numeric types where appropriate, and\n",
      "consider re-coding text-valued columns with pandas.get_dummies\n",
      "computing default knn graph\n"
     ]
    },
    {
     "name": "stderr",
     "output_type": "stream",
     "text": [
      "/PHShome/ssg34/.conda/envs/plswork/lib/python3.9/site-packages/multianndata/core.py:17: FutureWarning: X.dtype being converted to np.float32 from float64. In the next version of anndata (0.9) conversion will not be automatic. Pass dtype explicitly to avoid this warning. Pass `AnnData(X, dtype=X.dtype, ...)` to get the future behavour.\n",
      "  super().__init__(*args, **kwargs)\n",
      "/PHShome/ssg34/.conda/envs/plswork/lib/python3.9/site-packages/anndata/_core/anndata.py:121: ImplicitModificationWarning: Transforming to str index.\n",
      "  warnings.warn(\"Transforming to str index.\", ImplicitModificationWarning)\n"
     ]
    },
    {
     "name": "stdout",
     "output_type": "stream",
     "text": [
      "qcd NAM not found; computing and saving\n",
      "\ttaking step 1\n",
      "\tmedian kurtosis: 42.821128845214844\n",
      "\t20th percentile R2(t,t-1): nan\n",
      "\ttaking step 2\n",
      "\tmedian kurtosis: 28.430946350097656\n",
      "\t20th percentile R2(t,t-1): 0.7792342305183411\n",
      "\ttaking step 3\n",
      "\tmedian kurtosis: 19.353656768798828\n",
      "\t20th percentile R2(t,t-1): 0.9228097796440125\n",
      "\ttaking step 4\n",
      "\tmedian kurtosis: 14.69758415222168\n",
      "\t20th percentile R2(t,t-1): 0.9582582116127014\n",
      "\ttaking step 5\n",
      "\tmedian kurtosis: 12.140487670898438\n",
      "\t20th percentile R2(t,t-1): 0.9747512340545654\n",
      "stopping after 5 steps\n",
      "covariate-adjusted NAM not found; computing and saving\n"
     ]
    },
    {
     "name": "stderr",
     "output_type": "stream",
     "text": [
      "/PHShome/ssg34/.conda/envs/plswork/lib/python3.9/site-packages/cna/tools/_nam.py:79: UserWarning: only one unique batch supplied to qc\n",
      "  warnings.warn('only one unique batch supplied to qc')\n",
      "/PHShome/ssg34/.conda/envs/plswork/lib/python3.9/site-packages/cna/tools/_nam.py:101: UserWarning: only one unique batch supplied to prep\n",
      "  warnings.warn('only one unique batch supplied to prep')\n"
     ]
    },
    {
     "name": "stdout",
     "output_type": "stream",
     "text": [
      "computing SVD\n",
      "performing association test\n",
      "computing neighborhood-level FDRs\n",
      "1\n",
      "[1, 2, 3, 4, 5, 6, 7, 8, 9, 10, 11, 12, 13, 14, 15, 16, 17, 18, 19, 20]\n",
      "p = 0.5049495050494951 , 1 PCs used\n",
      "total r^2 between top 1 NAM PCs and outcome is 0.01\n"
     ]
    }
   ],
   "source": [
    "res = cna_test(meta, harmony, umap, 'Final_Site_UCSD')\n",
    "univariate_res = pd.concat([univariate_res,\n",
    "                            pd.DataFrame(['Site UCSD', 'scRNAseq', res.p],\n",
    "                            index = ['Variable', 'Technology', 'global_pvalue']).T])"
   ]
  },
  {
   "cell_type": "code",
   "execution_count": 181,
   "id": "5fe5a05d-0e9f-44e0-86ab-81be377e13dd",
   "metadata": {},
   "outputs": [
    {
     "name": "stdout",
     "output_type": "stream",
     "text": [
      "(71120, 39)\n",
      "(71120, 20)\n",
      "(71120, 2)\n",
      "warning: the following columns of obs are non-numeric.\n",
      "['cell' 'sample' 'cell.type' 'Responder.Status' 'Race' 'Type' 'Final_ISN'\n",
      " 'Final_Site']\n",
      "consider casting to numeric types where appropriate, and\n",
      "consider re-coding text-valued columns with pandas.get_dummies\n",
      "computing default knn graph\n"
     ]
    },
    {
     "name": "stderr",
     "output_type": "stream",
     "text": [
      "/PHShome/ssg34/.conda/envs/plswork/lib/python3.9/site-packages/multianndata/core.py:17: FutureWarning: X.dtype being converted to np.float32 from float64. In the next version of anndata (0.9) conversion will not be automatic. Pass dtype explicitly to avoid this warning. Pass `AnnData(X, dtype=X.dtype, ...)` to get the future behavour.\n",
      "  super().__init__(*args, **kwargs)\n",
      "/PHShome/ssg34/.conda/envs/plswork/lib/python3.9/site-packages/anndata/_core/anndata.py:121: ImplicitModificationWarning: Transforming to str index.\n",
      "  warnings.warn(\"Transforming to str index.\", ImplicitModificationWarning)\n"
     ]
    },
    {
     "name": "stdout",
     "output_type": "stream",
     "text": [
      "qcd NAM not found; computing and saving\n",
      "\ttaking step 1\n",
      "\tmedian kurtosis: 42.821128845214844\n",
      "\t20th percentile R2(t,t-1): nan\n",
      "\ttaking step 2\n",
      "\tmedian kurtosis: 28.430946350097656\n",
      "\t20th percentile R2(t,t-1): 0.7792342305183411\n",
      "\ttaking step 3\n",
      "\tmedian kurtosis: 19.353656768798828\n",
      "\t20th percentile R2(t,t-1): 0.9228097796440125\n",
      "\ttaking step 4\n",
      "\tmedian kurtosis: 14.69758415222168\n",
      "\t20th percentile R2(t,t-1): 0.9582582116127014\n",
      "\ttaking step 5\n",
      "\tmedian kurtosis: 12.140487670898438\n",
      "\t20th percentile R2(t,t-1): 0.9747512340545654\n",
      "stopping after 5 steps\n",
      "covariate-adjusted NAM not found; computing and saving\n"
     ]
    },
    {
     "name": "stderr",
     "output_type": "stream",
     "text": [
      "/PHShome/ssg34/.conda/envs/plswork/lib/python3.9/site-packages/cna/tools/_nam.py:79: UserWarning: only one unique batch supplied to qc\n",
      "  warnings.warn('only one unique batch supplied to qc')\n",
      "/PHShome/ssg34/.conda/envs/plswork/lib/python3.9/site-packages/cna/tools/_nam.py:101: UserWarning: only one unique batch supplied to prep\n",
      "  warnings.warn('only one unique batch supplied to prep')\n"
     ]
    },
    {
     "name": "stdout",
     "output_type": "stream",
     "text": [
      "computing SVD\n",
      "performing association test\n",
      "computing neighborhood-level FDRs\n",
      "1\n",
      "[1, 2, 3, 4, 5, 6, 7, 8, 9, 10, 11, 12, 13, 14, 15, 16, 17, 18, 19, 20]\n",
      "p = 0.973002699730027 , 1 PCs used\n",
      "total r^2 between top 1 NAM PCs and outcome is 0.00\n"
     ]
    }
   ],
   "source": [
    "res = cna_test(meta, harmony, umap, 'Final_Site_UCSF')\n",
    "univariate_res = pd.concat([univariate_res,\n",
    "                            pd.DataFrame(['Site UCSF', 'scRNAseq', res.p],\n",
    "                            index = ['Variable', 'Technology', 'global_pvalue']).T])"
   ]
  },
  {
   "cell_type": "markdown",
   "id": "ff888a07-2695-4848-9b39-6f0499a795d4",
   "metadata": {},
   "source": [
    "## Single Nuclear"
   ]
  },
  {
   "cell_type": "code",
   "execution_count": 182,
   "id": "036e58bd-2aa4-43c2-be86-8ca030690350",
   "metadata": {},
   "outputs": [
    {
     "name": "stdout",
     "output_type": "stream",
     "text": [
      "(18660, 33)\n"
     ]
    }
   ],
   "source": [
    "meta = pd.read_csv('/data/srlab/ssg34/SLE_kidney_v2/data/cna_new/downsampled_tissue/site/sn_meta.csv')\n",
    "print(meta.shape)"
   ]
  },
  {
   "cell_type": "code",
   "execution_count": 183,
   "id": "a60ea0d7-d0ed-4f1b-8287-513163f01c84",
   "metadata": {},
   "outputs": [
    {
     "name": "stdout",
     "output_type": "stream",
     "text": [
      "(18660, 20)\n"
     ]
    }
   ],
   "source": [
    "harmony = pd.read_csv('/data/srlab/ssg34/SLE_kidney_v2/data/cna_new/downsampled_tissue/site/sn_harmony.csv')\n",
    "print(harmony.shape)"
   ]
  },
  {
   "cell_type": "code",
   "execution_count": 184,
   "id": "31511be7-8b15-415c-bad6-f8744c7fe338",
   "metadata": {},
   "outputs": [
    {
     "name": "stdout",
     "output_type": "stream",
     "text": [
      "(18660, 2)\n"
     ]
    }
   ],
   "source": [
    "umap = pd.read_csv('/data/srlab/ssg34/SLE_kidney_v2/data/cna_new/downsampled_tissue/site/sn_umap.csv')\n",
    "print(umap.shape)"
   ]
  },
  {
   "cell_type": "code",
   "execution_count": 185,
   "id": "5ee09cb0-831b-4c5c-9baa-6481e94820fe",
   "metadata": {},
   "outputs": [
    {
     "data": {
      "text/plain": [
       "Index(['cell', 'Sex', 'sample', 'cell.type', 'Responder.Status', 'Age', 'Race',\n",
       "       'Type', 'Final_ISN', 'Final_Chronicity', 'Final_Activity', 'Final_Site',\n",
       "       'First_biop', 'Pred_use', 'Responder_Status', 'Race_[A]', 'Race_[B]',\n",
       "       'Race_[U]', 'Race_[W]', 'Final_ISN_[III]', 'Final_ISN_[III][V]',\n",
       "       'Final_ISN_[IV]', 'Final_ISN_[IV][V]', 'Final_ISN_[V]',\n",
       "       'Final_Site_Cincinnati', 'Final_Site_JHU', 'Final_Site_Michigan',\n",
       "       'Final_Site_MUSC', 'Final_Site_Northwell', 'Final_Site_NYU',\n",
       "       'Final_Site_Rochester', 'Final_Site_Texas Tech', 'Final_Site_UCSF'],\n",
       "      dtype='object')"
      ]
     },
     "execution_count": 185,
     "metadata": {},
     "output_type": "execute_result"
    }
   ],
   "source": [
    "meta.columns"
   ]
  },
  {
   "cell_type": "code",
   "execution_count": 186,
   "id": "bd3df6bf-cfc8-4e46-b7a1-0911baa310ae",
   "metadata": {},
   "outputs": [
    {
     "name": "stdout",
     "output_type": "stream",
     "text": [
      "(18660, 33)\n",
      "(18660, 20)\n",
      "(18660, 2)\n",
      "warning: the following columns of obs are non-numeric.\n",
      "['cell' 'sample' 'cell.type' 'Responder.Status' 'Race' 'Type' 'Final_ISN'\n",
      " 'Final_Site']\n",
      "consider casting to numeric types where appropriate, and\n",
      "consider re-coding text-valued columns with pandas.get_dummies\n",
      "computing default knn graph\n"
     ]
    },
    {
     "name": "stderr",
     "output_type": "stream",
     "text": [
      "/PHShome/ssg34/.conda/envs/plswork/lib/python3.9/site-packages/multianndata/core.py:17: FutureWarning: X.dtype being converted to np.float32 from float64. In the next version of anndata (0.9) conversion will not be automatic. Pass dtype explicitly to avoid this warning. Pass `AnnData(X, dtype=X.dtype, ...)` to get the future behavour.\n",
      "  super().__init__(*args, **kwargs)\n",
      "/PHShome/ssg34/.conda/envs/plswork/lib/python3.9/site-packages/anndata/_core/anndata.py:121: ImplicitModificationWarning: Transforming to str index.\n",
      "  warnings.warn(\"Transforming to str index.\", ImplicitModificationWarning)\n"
     ]
    },
    {
     "name": "stdout",
     "output_type": "stream",
     "text": [
      "qcd NAM not found; computing and saving\n",
      "\ttaking step 1\n",
      "\tmedian kurtosis: 11.043727199233018\n",
      "\t20th percentile R2(t,t-1): nan\n",
      "\ttaking step 2\n",
      "\tmedian kurtosis: 8.146373564762346\n",
      "\t20th percentile R2(t,t-1): 0.7939578413963317\n",
      "\ttaking step 3\n",
      "\tmedian kurtosis: 6.589556547746421\n",
      "\t20th percentile R2(t,t-1): 0.9295116901397705\n",
      "stopping after 3 steps\n",
      "covariate-adjusted NAM not found; computing and saving\n",
      "computing SVD\n",
      "performing association test\n"
     ]
    },
    {
     "name": "stderr",
     "output_type": "stream",
     "text": [
      "/PHShome/ssg34/.conda/envs/plswork/lib/python3.9/site-packages/cna/tools/_nam.py:79: UserWarning: only one unique batch supplied to qc\n",
      "  warnings.warn('only one unique batch supplied to qc')\n",
      "/PHShome/ssg34/.conda/envs/plswork/lib/python3.9/site-packages/cna/tools/_nam.py:101: UserWarning: only one unique batch supplied to prep\n",
      "  warnings.warn('only one unique batch supplied to prep')\n",
      "/PHShome/ssg34/.conda/envs/plswork/lib/python3.9/site-packages/cna/tools/_association.py:57: UserWarning: data supported use of 20 NAM PCs, which is the maximum considered. Consider allowing more PCs by using the \"ks\" argument.\n",
      "  warnings.warn(('data supported use of {} NAM PCs, which is the maximum considered. '+\\\n"
     ]
    },
    {
     "name": "stdout",
     "output_type": "stream",
     "text": [
      "computing neighborhood-level FDRs\n",
      "20\n",
      "[1, 2, 3, 4, 5, 6, 7, 8, 9, 10, 11, 12, 13, 14, 15, 16, 17, 18, 19, 20]\n",
      "p = 0.1962803719628037 , 20 PCs used\n",
      "total r^2 between top 20 NAM PCs and outcome is 0.77\n"
     ]
    }
   ],
   "source": [
    "res = cna_test(meta, harmony, umap, 'Final_Site_Cincinnati')\n",
    "univariate_res = pd.concat([univariate_res,\n",
    "                            pd.DataFrame(['Site Cincinnati', 'snRNAseq', res.p],\n",
    "                            index = ['Variable', 'Technology', 'global_pvalue']).T])"
   ]
  },
  {
   "cell_type": "code",
   "execution_count": 187,
   "id": "c6b8d51b-8a0f-47d6-bdf7-55d63aa36d9a",
   "metadata": {},
   "outputs": [
    {
     "name": "stdout",
     "output_type": "stream",
     "text": [
      "(18660, 33)\n",
      "(18660, 20)\n",
      "(18660, 2)\n",
      "warning: the following columns of obs are non-numeric.\n",
      "['cell' 'sample' 'cell.type' 'Responder.Status' 'Race' 'Type' 'Final_ISN'\n",
      " 'Final_Site']\n",
      "consider casting to numeric types where appropriate, and\n",
      "consider re-coding text-valued columns with pandas.get_dummies\n",
      "computing default knn graph\n"
     ]
    },
    {
     "name": "stderr",
     "output_type": "stream",
     "text": [
      "/PHShome/ssg34/.conda/envs/plswork/lib/python3.9/site-packages/multianndata/core.py:17: FutureWarning: X.dtype being converted to np.float32 from float64. In the next version of anndata (0.9) conversion will not be automatic. Pass dtype explicitly to avoid this warning. Pass `AnnData(X, dtype=X.dtype, ...)` to get the future behavour.\n",
      "  super().__init__(*args, **kwargs)\n",
      "/PHShome/ssg34/.conda/envs/plswork/lib/python3.9/site-packages/anndata/_core/anndata.py:121: ImplicitModificationWarning: Transforming to str index.\n",
      "  warnings.warn(\"Transforming to str index.\", ImplicitModificationWarning)\n"
     ]
    },
    {
     "name": "stdout",
     "output_type": "stream",
     "text": [
      "qcd NAM not found; computing and saving\n",
      "\ttaking step 1\n",
      "\tmedian kurtosis: 11.043727199233018\n",
      "\t20th percentile R2(t,t-1): nan\n",
      "\ttaking step 2\n",
      "\tmedian kurtosis: 8.146373564762346\n",
      "\t20th percentile R2(t,t-1): 0.7939578413963317\n",
      "\ttaking step 3\n",
      "\tmedian kurtosis: 6.589556547746421\n",
      "\t20th percentile R2(t,t-1): 0.9295116901397705\n",
      "stopping after 3 steps\n",
      "covariate-adjusted NAM not found; computing and saving\n",
      "computing SVD\n",
      "performing association test\n"
     ]
    },
    {
     "name": "stderr",
     "output_type": "stream",
     "text": [
      "/PHShome/ssg34/.conda/envs/plswork/lib/python3.9/site-packages/cna/tools/_nam.py:79: UserWarning: only one unique batch supplied to qc\n",
      "  warnings.warn('only one unique batch supplied to qc')\n",
      "/PHShome/ssg34/.conda/envs/plswork/lib/python3.9/site-packages/cna/tools/_nam.py:101: UserWarning: only one unique batch supplied to prep\n",
      "  warnings.warn('only one unique batch supplied to prep')\n"
     ]
    },
    {
     "name": "stdout",
     "output_type": "stream",
     "text": [
      "computing neighborhood-level FDRs\n",
      "1\n",
      "[1, 2, 3, 4, 5, 6, 7, 8, 9, 10, 11, 12, 13, 14, 15, 16, 17, 18, 19, 20]\n",
      "p = 0.9132086791320868 , 1 PCs used\n",
      "total r^2 between top 1 NAM PCs and outcome is 0.03\n"
     ]
    }
   ],
   "source": [
    "res = cna_test(meta, harmony, umap, 'Final_Site_JHU')\n",
    "univariate_res = pd.concat([univariate_res,\n",
    "                            pd.DataFrame(['Site JHU', 'snRNAseq', res.p],\n",
    "                            index = ['Variable', 'Technology', 'global_pvalue']).T])"
   ]
  },
  {
   "cell_type": "code",
   "execution_count": 188,
   "id": "169d8127-8aa3-4bfe-ab6e-6380e2d78bac",
   "metadata": {},
   "outputs": [
    {
     "name": "stdout",
     "output_type": "stream",
     "text": [
      "(18660, 33)\n",
      "(18660, 20)\n",
      "(18660, 2)\n",
      "warning: the following columns of obs are non-numeric.\n",
      "['cell' 'sample' 'cell.type' 'Responder.Status' 'Race' 'Type' 'Final_ISN'\n",
      " 'Final_Site']\n",
      "consider casting to numeric types where appropriate, and\n",
      "consider re-coding text-valued columns with pandas.get_dummies\n",
      "computing default knn graph\n"
     ]
    },
    {
     "name": "stderr",
     "output_type": "stream",
     "text": [
      "/PHShome/ssg34/.conda/envs/plswork/lib/python3.9/site-packages/multianndata/core.py:17: FutureWarning: X.dtype being converted to np.float32 from float64. In the next version of anndata (0.9) conversion will not be automatic. Pass dtype explicitly to avoid this warning. Pass `AnnData(X, dtype=X.dtype, ...)` to get the future behavour.\n",
      "  super().__init__(*args, **kwargs)\n",
      "/PHShome/ssg34/.conda/envs/plswork/lib/python3.9/site-packages/anndata/_core/anndata.py:121: ImplicitModificationWarning: Transforming to str index.\n",
      "  warnings.warn(\"Transforming to str index.\", ImplicitModificationWarning)\n"
     ]
    },
    {
     "name": "stdout",
     "output_type": "stream",
     "text": [
      "qcd NAM not found; computing and saving\n",
      "\ttaking step 1\n",
      "\tmedian kurtosis: 11.043727199233018\n",
      "\t20th percentile R2(t,t-1): nan\n",
      "\ttaking step 2\n",
      "\tmedian kurtosis: 8.146373564762346\n",
      "\t20th percentile R2(t,t-1): 0.7939578413963317\n",
      "\ttaking step 3\n",
      "\tmedian kurtosis: 6.589556547746421\n",
      "\t20th percentile R2(t,t-1): 0.9295116901397705\n",
      "stopping after 3 steps\n",
      "covariate-adjusted NAM not found; computing and saving\n",
      "computing SVD\n",
      "performing association test\n"
     ]
    },
    {
     "name": "stderr",
     "output_type": "stream",
     "text": [
      "/PHShome/ssg34/.conda/envs/plswork/lib/python3.9/site-packages/cna/tools/_nam.py:79: UserWarning: only one unique batch supplied to qc\n",
      "  warnings.warn('only one unique batch supplied to qc')\n",
      "/PHShome/ssg34/.conda/envs/plswork/lib/python3.9/site-packages/cna/tools/_nam.py:101: UserWarning: only one unique batch supplied to prep\n",
      "  warnings.warn('only one unique batch supplied to prep')\n",
      "/PHShome/ssg34/.conda/envs/plswork/lib/python3.9/site-packages/cna/tools/_association.py:57: UserWarning: data supported use of 20 NAM PCs, which is the maximum considered. Consider allowing more PCs by using the \"ks\" argument.\n",
      "  warnings.warn(('data supported use of {} NAM PCs, which is the maximum considered. '+\\\n"
     ]
    },
    {
     "name": "stdout",
     "output_type": "stream",
     "text": [
      "computing neighborhood-level FDRs\n",
      "20\n",
      "[1, 2, 3, 4, 5, 6, 7, 8, 9, 10, 11, 12, 13, 14, 15, 16, 17, 18, 19, 20]\n",
      "p = 0.7827217278272173 , 20 PCs used\n",
      "total r^2 between top 20 NAM PCs and outcome is 0.39\n"
     ]
    }
   ],
   "source": [
    "res = cna_test(meta, harmony, umap, 'Final_Site_Michigan')\n",
    "univariate_res = pd.concat([univariate_res,\n",
    "                            pd.DataFrame(['Site Michigan', 'snRNAseq', res.p],\n",
    "                            index = ['Variable', 'Technology', 'global_pvalue']).T])"
   ]
  },
  {
   "cell_type": "code",
   "execution_count": 189,
   "id": "d5d8d8ff-e0a3-4161-988c-9cd6175ae0d0",
   "metadata": {},
   "outputs": [
    {
     "name": "stdout",
     "output_type": "stream",
     "text": [
      "(18660, 33)\n",
      "(18660, 20)\n",
      "(18660, 2)\n",
      "warning: the following columns of obs are non-numeric.\n",
      "['cell' 'sample' 'cell.type' 'Responder.Status' 'Race' 'Type' 'Final_ISN'\n",
      " 'Final_Site']\n",
      "consider casting to numeric types where appropriate, and\n",
      "consider re-coding text-valued columns with pandas.get_dummies\n",
      "computing default knn graph\n"
     ]
    },
    {
     "name": "stderr",
     "output_type": "stream",
     "text": [
      "/PHShome/ssg34/.conda/envs/plswork/lib/python3.9/site-packages/multianndata/core.py:17: FutureWarning: X.dtype being converted to np.float32 from float64. In the next version of anndata (0.9) conversion will not be automatic. Pass dtype explicitly to avoid this warning. Pass `AnnData(X, dtype=X.dtype, ...)` to get the future behavour.\n",
      "  super().__init__(*args, **kwargs)\n",
      "/PHShome/ssg34/.conda/envs/plswork/lib/python3.9/site-packages/anndata/_core/anndata.py:121: ImplicitModificationWarning: Transforming to str index.\n",
      "  warnings.warn(\"Transforming to str index.\", ImplicitModificationWarning)\n"
     ]
    },
    {
     "name": "stdout",
     "output_type": "stream",
     "text": [
      "qcd NAM not found; computing and saving\n",
      "\ttaking step 1\n",
      "\tmedian kurtosis: 11.043727199233018\n",
      "\t20th percentile R2(t,t-1): nan\n",
      "\ttaking step 2\n",
      "\tmedian kurtosis: 8.146373564762346\n",
      "\t20th percentile R2(t,t-1): 0.7939578413963317\n",
      "\ttaking step 3\n",
      "\tmedian kurtosis: 6.589556547746421\n",
      "\t20th percentile R2(t,t-1): 0.9295116901397705\n",
      "stopping after 3 steps\n",
      "covariate-adjusted NAM not found; computing and saving\n",
      "computing SVD\n",
      "performing association test\n"
     ]
    },
    {
     "name": "stderr",
     "output_type": "stream",
     "text": [
      "/PHShome/ssg34/.conda/envs/plswork/lib/python3.9/site-packages/cna/tools/_nam.py:79: UserWarning: only one unique batch supplied to qc\n",
      "  warnings.warn('only one unique batch supplied to qc')\n",
      "/PHShome/ssg34/.conda/envs/plswork/lib/python3.9/site-packages/cna/tools/_nam.py:101: UserWarning: only one unique batch supplied to prep\n",
      "  warnings.warn('only one unique batch supplied to prep')\n"
     ]
    },
    {
     "name": "stdout",
     "output_type": "stream",
     "text": [
      "computing neighborhood-level FDRs\n",
      "18\n",
      "[1, 2, 3, 4, 5, 6, 7, 8, 9, 10, 11, 12, 13, 14, 15, 16, 17, 18, 19, 20]\n",
      "p = 0.12088791120887911 , 18 PCs used\n",
      "total r^2 between top 18 NAM PCs and outcome is 0.88\n"
     ]
    }
   ],
   "source": [
    "res = cna_test(meta, harmony, umap, 'Final_Site_MUSC')\n",
    "univariate_res = pd.concat([univariate_res,\n",
    "                            pd.DataFrame(['Site MUSC', 'snRNAseq', res.p],\n",
    "                            index = ['Variable', 'Technology', 'global_pvalue']).T])"
   ]
  },
  {
   "cell_type": "code",
   "execution_count": 190,
   "id": "e7509c72-54ec-47b2-abca-52312915cd22",
   "metadata": {},
   "outputs": [
    {
     "name": "stdout",
     "output_type": "stream",
     "text": [
      "(18660, 33)\n",
      "(18660, 20)\n",
      "(18660, 2)\n",
      "warning: the following columns of obs are non-numeric.\n",
      "['cell' 'sample' 'cell.type' 'Responder.Status' 'Race' 'Type' 'Final_ISN'\n",
      " 'Final_Site']\n",
      "consider casting to numeric types where appropriate, and\n",
      "consider re-coding text-valued columns with pandas.get_dummies\n",
      "computing default knn graph\n"
     ]
    },
    {
     "name": "stderr",
     "output_type": "stream",
     "text": [
      "/PHShome/ssg34/.conda/envs/plswork/lib/python3.9/site-packages/multianndata/core.py:17: FutureWarning: X.dtype being converted to np.float32 from float64. In the next version of anndata (0.9) conversion will not be automatic. Pass dtype explicitly to avoid this warning. Pass `AnnData(X, dtype=X.dtype, ...)` to get the future behavour.\n",
      "  super().__init__(*args, **kwargs)\n",
      "/PHShome/ssg34/.conda/envs/plswork/lib/python3.9/site-packages/anndata/_core/anndata.py:121: ImplicitModificationWarning: Transforming to str index.\n",
      "  warnings.warn(\"Transforming to str index.\", ImplicitModificationWarning)\n"
     ]
    },
    {
     "name": "stdout",
     "output_type": "stream",
     "text": [
      "qcd NAM not found; computing and saving\n",
      "\ttaking step 1\n",
      "\tmedian kurtosis: 11.043727199233018\n",
      "\t20th percentile R2(t,t-1): nan\n",
      "\ttaking step 2\n",
      "\tmedian kurtosis: 8.146373564762346\n",
      "\t20th percentile R2(t,t-1): 0.7939578413963317\n",
      "\ttaking step 3\n",
      "\tmedian kurtosis: 6.589556547746421\n",
      "\t20th percentile R2(t,t-1): 0.9295116901397705\n",
      "stopping after 3 steps\n",
      "covariate-adjusted NAM not found; computing and saving\n",
      "computing SVD\n",
      "performing association test\n"
     ]
    },
    {
     "name": "stderr",
     "output_type": "stream",
     "text": [
      "/PHShome/ssg34/.conda/envs/plswork/lib/python3.9/site-packages/cna/tools/_nam.py:79: UserWarning: only one unique batch supplied to qc\n",
      "  warnings.warn('only one unique batch supplied to qc')\n",
      "/PHShome/ssg34/.conda/envs/plswork/lib/python3.9/site-packages/cna/tools/_nam.py:101: UserWarning: only one unique batch supplied to prep\n",
      "  warnings.warn('only one unique batch supplied to prep')\n"
     ]
    },
    {
     "name": "stdout",
     "output_type": "stream",
     "text": [
      "computing neighborhood-level FDRs\n",
      "3\n",
      "[1, 2, 3, 4, 5, 6, 7, 8, 9, 10, 11, 12, 13, 14, 15, 16, 17, 18, 19, 20]\n",
      "p = 0.46615338466153383 , 3 PCs used\n",
      "total r^2 between top 3 NAM PCs and outcome is 0.20\n"
     ]
    }
   ],
   "source": [
    "res = cna_test(meta, harmony, umap, 'Final_Site_Northwell')\n",
    "univariate_res = pd.concat([univariate_res,\n",
    "                            pd.DataFrame(['Site Northwell', 'snRNAseq', res.p],\n",
    "                            index = ['Variable', 'Technology', 'global_pvalue']).T])"
   ]
  },
  {
   "cell_type": "code",
   "execution_count": 191,
   "id": "6e592bb9-902e-4f41-950f-cff244776b12",
   "metadata": {},
   "outputs": [
    {
     "name": "stdout",
     "output_type": "stream",
     "text": [
      "(18660, 33)\n",
      "(18660, 20)\n",
      "(18660, 2)\n",
      "warning: the following columns of obs are non-numeric.\n",
      "['cell' 'sample' 'cell.type' 'Responder.Status' 'Race' 'Type' 'Final_ISN'\n",
      " 'Final_Site']\n",
      "consider casting to numeric types where appropriate, and\n",
      "consider re-coding text-valued columns with pandas.get_dummies\n",
      "computing default knn graph\n"
     ]
    },
    {
     "name": "stderr",
     "output_type": "stream",
     "text": [
      "/PHShome/ssg34/.conda/envs/plswork/lib/python3.9/site-packages/multianndata/core.py:17: FutureWarning: X.dtype being converted to np.float32 from float64. In the next version of anndata (0.9) conversion will not be automatic. Pass dtype explicitly to avoid this warning. Pass `AnnData(X, dtype=X.dtype, ...)` to get the future behavour.\n",
      "  super().__init__(*args, **kwargs)\n",
      "/PHShome/ssg34/.conda/envs/plswork/lib/python3.9/site-packages/anndata/_core/anndata.py:121: ImplicitModificationWarning: Transforming to str index.\n",
      "  warnings.warn(\"Transforming to str index.\", ImplicitModificationWarning)\n"
     ]
    },
    {
     "name": "stdout",
     "output_type": "stream",
     "text": [
      "qcd NAM not found; computing and saving\n",
      "\ttaking step 1\n",
      "\tmedian kurtosis: 11.043727199233018\n",
      "\t20th percentile R2(t,t-1): nan\n",
      "\ttaking step 2\n",
      "\tmedian kurtosis: 8.146373564762346\n",
      "\t20th percentile R2(t,t-1): 0.7939578413963317\n",
      "\ttaking step 3\n",
      "\tmedian kurtosis: 6.589556547746421\n",
      "\t20th percentile R2(t,t-1): 0.9295116901397705\n",
      "stopping after 3 steps\n",
      "covariate-adjusted NAM not found; computing and saving\n",
      "computing SVD\n",
      "performing association test\n"
     ]
    },
    {
     "name": "stderr",
     "output_type": "stream",
     "text": [
      "/PHShome/ssg34/.conda/envs/plswork/lib/python3.9/site-packages/cna/tools/_nam.py:79: UserWarning: only one unique batch supplied to qc\n",
      "  warnings.warn('only one unique batch supplied to qc')\n",
      "/PHShome/ssg34/.conda/envs/plswork/lib/python3.9/site-packages/cna/tools/_nam.py:101: UserWarning: only one unique batch supplied to prep\n",
      "  warnings.warn('only one unique batch supplied to prep')\n"
     ]
    },
    {
     "name": "stdout",
     "output_type": "stream",
     "text": [
      "computing neighborhood-level FDRs\n",
      "18\n",
      "[1, 2, 3, 4, 5, 6, 7, 8, 9, 10, 11, 12, 13, 14, 15, 16, 17, 18, 19, 20]\n",
      "p = 0.6214378562143785 , 18 PCs used\n",
      "total r^2 between top 18 NAM PCs and outcome is 0.48\n"
     ]
    }
   ],
   "source": [
    "res = cna_test(meta, harmony, umap, 'Final_Site_NYU')\n",
    "univariate_res = pd.concat([univariate_res,\n",
    "                            pd.DataFrame(['Site NYU', 'snRNAseq', res.p],\n",
    "                            index = ['Variable', 'Technology', 'global_pvalue']).T])"
   ]
  },
  {
   "cell_type": "code",
   "execution_count": 192,
   "id": "d07af5e3-dafd-4155-b362-e622d8865823",
   "metadata": {},
   "outputs": [
    {
     "name": "stdout",
     "output_type": "stream",
     "text": [
      "(18660, 33)\n",
      "(18660, 20)\n",
      "(18660, 2)\n",
      "warning: the following columns of obs are non-numeric.\n",
      "['cell' 'sample' 'cell.type' 'Responder.Status' 'Race' 'Type' 'Final_ISN'\n",
      " 'Final_Site']\n",
      "consider casting to numeric types where appropriate, and\n",
      "consider re-coding text-valued columns with pandas.get_dummies\n",
      "computing default knn graph\n"
     ]
    },
    {
     "name": "stderr",
     "output_type": "stream",
     "text": [
      "/PHShome/ssg34/.conda/envs/plswork/lib/python3.9/site-packages/multianndata/core.py:17: FutureWarning: X.dtype being converted to np.float32 from float64. In the next version of anndata (0.9) conversion will not be automatic. Pass dtype explicitly to avoid this warning. Pass `AnnData(X, dtype=X.dtype, ...)` to get the future behavour.\n",
      "  super().__init__(*args, **kwargs)\n",
      "/PHShome/ssg34/.conda/envs/plswork/lib/python3.9/site-packages/anndata/_core/anndata.py:121: ImplicitModificationWarning: Transforming to str index.\n",
      "  warnings.warn(\"Transforming to str index.\", ImplicitModificationWarning)\n"
     ]
    },
    {
     "name": "stdout",
     "output_type": "stream",
     "text": [
      "qcd NAM not found; computing and saving\n",
      "\ttaking step 1\n",
      "\tmedian kurtosis: 11.043727199233018\n",
      "\t20th percentile R2(t,t-1): nan\n",
      "\ttaking step 2\n",
      "\tmedian kurtosis: 8.146373564762346\n",
      "\t20th percentile R2(t,t-1): 0.7939578413963317\n",
      "\ttaking step 3\n",
      "\tmedian kurtosis: 6.589556547746421\n",
      "\t20th percentile R2(t,t-1): 0.9295116901397705\n",
      "stopping after 3 steps\n",
      "covariate-adjusted NAM not found; computing and saving\n",
      "computing SVD\n",
      "performing association test\n"
     ]
    },
    {
     "name": "stderr",
     "output_type": "stream",
     "text": [
      "/PHShome/ssg34/.conda/envs/plswork/lib/python3.9/site-packages/cna/tools/_nam.py:79: UserWarning: only one unique batch supplied to qc\n",
      "  warnings.warn('only one unique batch supplied to qc')\n",
      "/PHShome/ssg34/.conda/envs/plswork/lib/python3.9/site-packages/cna/tools/_nam.py:101: UserWarning: only one unique batch supplied to prep\n",
      "  warnings.warn('only one unique batch supplied to prep')\n"
     ]
    },
    {
     "name": "stdout",
     "output_type": "stream",
     "text": [
      "computing neighborhood-level FDRs\n",
      "15\n",
      "[1, 2, 3, 4, 5, 6, 7, 8, 9, 10, 11, 12, 13, 14, 15, 16, 17, 18, 19, 20]\n",
      "p = 0.29787021297870214 , 15 PCs used\n",
      "total r^2 between top 15 NAM PCs and outcome is 0.53\n"
     ]
    }
   ],
   "source": [
    "res = cna_test(meta, harmony, umap, 'Final_Site_Rochester')\n",
    "univariate_res = pd.concat([univariate_res,\n",
    "                            pd.DataFrame(['Site Rochester', 'snRNAseq', res.p],\n",
    "                            index = ['Variable', 'Technology', 'global_pvalue']).T])"
   ]
  },
  {
   "cell_type": "code",
   "execution_count": 193,
   "id": "d7721bfa-41c5-434e-b643-20219b09fabd",
   "metadata": {},
   "outputs": [
    {
     "name": "stdout",
     "output_type": "stream",
     "text": [
      "(18660, 33)\n",
      "(18660, 20)\n",
      "(18660, 2)\n",
      "warning: the following columns of obs are non-numeric.\n",
      "['cell' 'sample' 'cell.type' 'Responder.Status' 'Race' 'Type' 'Final_ISN'\n",
      " 'Final_Site']\n",
      "consider casting to numeric types where appropriate, and\n",
      "consider re-coding text-valued columns with pandas.get_dummies\n",
      "computing default knn graph\n"
     ]
    },
    {
     "name": "stderr",
     "output_type": "stream",
     "text": [
      "/PHShome/ssg34/.conda/envs/plswork/lib/python3.9/site-packages/multianndata/core.py:17: FutureWarning: X.dtype being converted to np.float32 from float64. In the next version of anndata (0.9) conversion will not be automatic. Pass dtype explicitly to avoid this warning. Pass `AnnData(X, dtype=X.dtype, ...)` to get the future behavour.\n",
      "  super().__init__(*args, **kwargs)\n",
      "/PHShome/ssg34/.conda/envs/plswork/lib/python3.9/site-packages/anndata/_core/anndata.py:121: ImplicitModificationWarning: Transforming to str index.\n",
      "  warnings.warn(\"Transforming to str index.\", ImplicitModificationWarning)\n"
     ]
    },
    {
     "name": "stdout",
     "output_type": "stream",
     "text": [
      "qcd NAM not found; computing and saving\n",
      "\ttaking step 1\n",
      "\tmedian kurtosis: 11.043727199233018\n",
      "\t20th percentile R2(t,t-1): nan\n",
      "\ttaking step 2\n",
      "\tmedian kurtosis: 8.146373564762346\n",
      "\t20th percentile R2(t,t-1): 0.7939578413963317\n",
      "\ttaking step 3\n",
      "\tmedian kurtosis: 6.589556547746421\n",
      "\t20th percentile R2(t,t-1): 0.9295116901397705\n",
      "stopping after 3 steps\n",
      "covariate-adjusted NAM not found; computing and saving\n",
      "computing SVD\n",
      "performing association test\n"
     ]
    },
    {
     "name": "stderr",
     "output_type": "stream",
     "text": [
      "/PHShome/ssg34/.conda/envs/plswork/lib/python3.9/site-packages/cna/tools/_nam.py:79: UserWarning: only one unique batch supplied to qc\n",
      "  warnings.warn('only one unique batch supplied to qc')\n",
      "/PHShome/ssg34/.conda/envs/plswork/lib/python3.9/site-packages/cna/tools/_nam.py:101: UserWarning: only one unique batch supplied to prep\n",
      "  warnings.warn('only one unique batch supplied to prep')\n",
      "/PHShome/ssg34/.conda/envs/plswork/lib/python3.9/site-packages/cna/tools/_association.py:57: UserWarning: data supported use of 20 NAM PCs, which is the maximum considered. Consider allowing more PCs by using the \"ks\" argument.\n",
      "  warnings.warn(('data supported use of {} NAM PCs, which is the maximum considered. '+\\\n"
     ]
    },
    {
     "name": "stdout",
     "output_type": "stream",
     "text": [
      "computing neighborhood-level FDRs\n",
      "20\n",
      "[1, 2, 3, 4, 5, 6, 7, 8, 9, 10, 11, 12, 13, 14, 15, 16, 17, 18, 19, 20]\n",
      "p = 0.24997500249975002 , 20 PCs used\n",
      "total r^2 between top 20 NAM PCs and outcome is 0.75\n"
     ]
    }
   ],
   "source": [
    "res = cna_test(meta, harmony, umap, 'Final_Site_Texas Tech')\n",
    "univariate_res = pd.concat([univariate_res,\n",
    "                            pd.DataFrame(['Site Texas Tech', 'snRNAseq', res.p],\n",
    "                            index = ['Variable', 'Technology', 'global_pvalue']).T])"
   ]
  },
  {
   "cell_type": "code",
   "execution_count": 194,
   "id": "2979bc89-7b72-46df-92e1-592b862d7b66",
   "metadata": {},
   "outputs": [
    {
     "name": "stdout",
     "output_type": "stream",
     "text": [
      "(18660, 33)\n",
      "(18660, 20)\n",
      "(18660, 2)\n",
      "warning: the following columns of obs are non-numeric.\n",
      "['cell' 'sample' 'cell.type' 'Responder.Status' 'Race' 'Type' 'Final_ISN'\n",
      " 'Final_Site']\n",
      "consider casting to numeric types where appropriate, and\n",
      "consider re-coding text-valued columns with pandas.get_dummies\n",
      "computing default knn graph\n"
     ]
    },
    {
     "name": "stderr",
     "output_type": "stream",
     "text": [
      "/PHShome/ssg34/.conda/envs/plswork/lib/python3.9/site-packages/multianndata/core.py:17: FutureWarning: X.dtype being converted to np.float32 from float64. In the next version of anndata (0.9) conversion will not be automatic. Pass dtype explicitly to avoid this warning. Pass `AnnData(X, dtype=X.dtype, ...)` to get the future behavour.\n",
      "  super().__init__(*args, **kwargs)\n",
      "/PHShome/ssg34/.conda/envs/plswork/lib/python3.9/site-packages/anndata/_core/anndata.py:121: ImplicitModificationWarning: Transforming to str index.\n",
      "  warnings.warn(\"Transforming to str index.\", ImplicitModificationWarning)\n"
     ]
    },
    {
     "name": "stdout",
     "output_type": "stream",
     "text": [
      "qcd NAM not found; computing and saving\n",
      "\ttaking step 1\n",
      "\tmedian kurtosis: 11.043727199233018\n",
      "\t20th percentile R2(t,t-1): nan\n",
      "\ttaking step 2\n",
      "\tmedian kurtosis: 8.146373564762346\n",
      "\t20th percentile R2(t,t-1): 0.7939578413963317\n",
      "\ttaking step 3\n",
      "\tmedian kurtosis: 6.589556547746421\n",
      "\t20th percentile R2(t,t-1): 0.9295116901397705\n",
      "stopping after 3 steps\n",
      "covariate-adjusted NAM not found; computing and saving\n",
      "computing SVD\n"
     ]
    },
    {
     "name": "stderr",
     "output_type": "stream",
     "text": [
      "/PHShome/ssg34/.conda/envs/plswork/lib/python3.9/site-packages/cna/tools/_nam.py:79: UserWarning: only one unique batch supplied to qc\n",
      "  warnings.warn('only one unique batch supplied to qc')\n",
      "/PHShome/ssg34/.conda/envs/plswork/lib/python3.9/site-packages/cna/tools/_nam.py:101: UserWarning: only one unique batch supplied to prep\n",
      "  warnings.warn('only one unique batch supplied to prep')\n"
     ]
    },
    {
     "name": "stdout",
     "output_type": "stream",
     "text": [
      "performing association test\n",
      "computing neighborhood-level FDRs\n",
      "18\n",
      "[1, 2, 3, 4, 5, 6, 7, 8, 9, 10, 11, 12, 13, 14, 15, 16, 17, 18, 19, 20]\n",
      "p = 0.33666633336666335 , 18 PCs used\n",
      "total r^2 between top 18 NAM PCs and outcome is 0.60\n"
     ]
    }
   ],
   "source": [
    "res = cna_test(meta, harmony, umap, 'Final_Site_UCSF')\n",
    "univariate_res = pd.concat([univariate_res,\n",
    "                            pd.DataFrame(['Site UCSF', 'snRNAseq', res.p],\n",
    "                            index = ['Variable', 'Technology', 'global_pvalue']).T])"
   ]
  },
  {
   "cell_type": "markdown",
   "id": "f6dc1777-eacd-406e-ac1a-2fbcefd1e2e4",
   "metadata": {},
   "source": [
    "# CHRONICITY"
   ]
  },
  {
   "cell_type": "markdown",
   "id": "d550907d-19c9-4929-a862-13041a724fb9",
   "metadata": {},
   "source": [
    "## Single Cell"
   ]
  },
  {
   "cell_type": "code",
   "execution_count": 3,
   "id": "3e67ebd2-1155-42ec-b635-6d15a137463e",
   "metadata": {},
   "outputs": [
    {
     "name": "stdout",
     "output_type": "stream",
     "text": [
      "(65570, 39)\n"
     ]
    }
   ],
   "source": [
    "meta = pd.read_csv('/data/srlab/ssg34/SLE_kidney_v2/data/cna_new/downsampled_tissue/chronicity/sc_meta.csv')\n",
    "print(meta.shape)"
   ]
  },
  {
   "cell_type": "code",
   "execution_count": 4,
   "id": "9cb18603-746b-4ce9-8ca5-767736fc1180",
   "metadata": {},
   "outputs": [
    {
     "name": "stdout",
     "output_type": "stream",
     "text": [
      "(65570, 20)\n"
     ]
    }
   ],
   "source": [
    "harmony = pd.read_csv('/data/srlab/ssg34/SLE_kidney_v2/data/cna_new/downsampled_tissue/chronicity/sc_harmony.csv')\n",
    "print(harmony.shape)"
   ]
  },
  {
   "cell_type": "code",
   "execution_count": 5,
   "id": "190bccf3-fda9-412a-8247-7a2d3faa0f7f",
   "metadata": {},
   "outputs": [
    {
     "name": "stdout",
     "output_type": "stream",
     "text": [
      "(65570, 2)\n"
     ]
    }
   ],
   "source": [
    "umap = pd.read_csv('/data/srlab/ssg34/SLE_kidney_v2/data/cna_new/downsampled_tissue/chronicity/sc_umap.csv')\n",
    "print(umap.shape)"
   ]
  },
  {
   "cell_type": "code",
   "execution_count": 198,
   "id": "72b79c93-faa5-4ec3-8f38-9f128879214f",
   "metadata": {},
   "outputs": [
    {
     "name": "stdout",
     "output_type": "stream",
     "text": [
      "(65570, 39)\n",
      "(65570, 20)\n",
      "(65570, 2)\n",
      "warning: the following columns of obs are non-numeric.\n",
      "['cell' 'sample' 'cell.type' 'Responder.Status' 'Race' 'Type' 'Final_ISN'\n",
      " 'Final_Site']\n",
      "consider casting to numeric types where appropriate, and\n",
      "consider re-coding text-valued columns with pandas.get_dummies\n",
      "computing default knn graph\n"
     ]
    },
    {
     "name": "stderr",
     "output_type": "stream",
     "text": [
      "/PHShome/ssg34/.conda/envs/plswork/lib/python3.9/site-packages/multianndata/core.py:17: FutureWarning: X.dtype being converted to np.float32 from float64. In the next version of anndata (0.9) conversion will not be automatic. Pass dtype explicitly to avoid this warning. Pass `AnnData(X, dtype=X.dtype, ...)` to get the future behavour.\n",
      "  super().__init__(*args, **kwargs)\n",
      "/PHShome/ssg34/.conda/envs/plswork/lib/python3.9/site-packages/anndata/_core/anndata.py:121: ImplicitModificationWarning: Transforming to str index.\n",
      "  warnings.warn(\"Transforming to str index.\", ImplicitModificationWarning)\n"
     ]
    },
    {
     "name": "stdout",
     "output_type": "stream",
     "text": [
      "qcd NAM not found; computing and saving\n",
      "\ttaking step 1\n",
      "\tmedian kurtosis: 39.45832061767578\n",
      "\t20th percentile R2(t,t-1): nan\n",
      "\ttaking step 2\n",
      "\tmedian kurtosis: 26.267791748046875\n",
      "\t20th percentile R2(t,t-1): 0.7805158376693726\n",
      "\ttaking step 3\n",
      "\tmedian kurtosis: 18.224061012268066\n",
      "\t20th percentile R2(t,t-1): 0.9237080931663513\n",
      "\ttaking step 4\n",
      "\tmedian kurtosis: 14.09362506866455\n",
      "\t20th percentile R2(t,t-1): 0.9593445897102356\n",
      "\ttaking step 5\n",
      "\tmedian kurtosis: 11.765871047973633\n",
      "\t20th percentile R2(t,t-1): 0.9752609372138977\n",
      "stopping after 5 steps\n",
      "covariate-adjusted NAM not found; computing and saving\n"
     ]
    },
    {
     "name": "stderr",
     "output_type": "stream",
     "text": [
      "/PHShome/ssg34/.conda/envs/plswork/lib/python3.9/site-packages/cna/tools/_nam.py:79: UserWarning: only one unique batch supplied to qc\n",
      "  warnings.warn('only one unique batch supplied to qc')\n",
      "/PHShome/ssg34/.conda/envs/plswork/lib/python3.9/site-packages/cna/tools/_nam.py:101: UserWarning: only one unique batch supplied to prep\n",
      "  warnings.warn('only one unique batch supplied to prep')\n"
     ]
    },
    {
     "name": "stdout",
     "output_type": "stream",
     "text": [
      "computing SVD\n",
      "performing association test\n"
     ]
    },
    {
     "name": "stderr",
     "output_type": "stream",
     "text": [
      "/PHShome/ssg34/.conda/envs/plswork/lib/python3.9/site-packages/cna/tools/_association.py:74: UserWarning: global association p-value attained minimal possible value. Consider increasing Nnull\n",
      "  warnings.warn('global association p-value attained minimal possible value. '+\\\n"
     ]
    },
    {
     "name": "stdout",
     "output_type": "stream",
     "text": [
      "computing neighborhood-level FDRs\n",
      "4\n",
      "[1, 2, 3, 4, 5, 6, 7, 8, 9, 10, 11, 12, 13, 14, 15, 16, 17, 18, 19, 20]\n",
      "p = 9.999000099990002e-05 , 4 PCs used\n",
      "total r^2 between top 4 NAM PCs and outcome is 0.56\n"
     ]
    }
   ],
   "source": [
    "res = cna_test(meta, harmony, umap, 'Final_Chronicity')\n",
    "univariate_res = pd.concat([univariate_res,\n",
    "                            pd.DataFrame(['Chronicity', 'scRNAseq', res.p],\n",
    "                            index = ['Variable', 'Technology', 'global_pvalue']).T])"
   ]
  },
  {
   "cell_type": "code",
   "execution_count": 203,
   "id": "c5c969d2-b0ed-47cd-a0e4-a6ed983c6921",
   "metadata": {},
   "outputs": [],
   "source": [
    "np.savetxt(\"/data/srlab/ssg34/SLE_kidney_v2/data/cna_new/downsampled_tissue/chronicity/sc_ncorr.csv\", \n",
    "               res.ncorrs, delimiter=\",\")\n",
    "np.savetxt(\"/data/srlab/ssg34/SLE_kidney_v2/data/cna_new/downsampled_tissue/chronicity/sc_fdrs.csv\", \n",
    "               res.fdrs, delimiter=\",\")"
   ]
  },
  {
   "cell_type": "code",
   "execution_count": 11,
   "id": "7a36e81b-b86d-4e7d-a76b-dc66234b451e",
   "metadata": {},
   "outputs": [],
   "source": [
    "def run_cna(variable, cna_obj, covs = None):\n",
    "    if covs is not None:\n",
    "        cna_res = cna.tl._association.association(cna_obj, #dataset \n",
    "                                                  cna_obj.samplem[variable], #phenotype\n",
    "            #                                       batches=d.samplem.processing_batch, #batches\n",
    "                                                  covs = covs,\n",
    "                                                  Nnull=10000, # number of null permutations to do (defaults to only 1e3)\n",
    "                                                  ks=[1,2,3,4,5,6,7,8,9,10,11,12,13,14,15,16,17,18,19,20] # I asked the method to consider up to 10 PCs because\n",
    "                                                                            #it chose the max number of PCs it considered the default set of [1,2,3,4]\n",
    "                                                 )\n",
    "    else:\n",
    "        cna_res = cna.tl._association.association(cna_obj, #dataset \n",
    "                                                  cna_obj.samplem[variable], #phenotype\n",
    "            #                                       batches=d.samplem.processing_batch, #batches\n",
    "                                                 # covs = d.samplem[covs]\n",
    "                                                  Nnull=10000, # number of null permutations to do (defaults to only 1e3)\n",
    "                                                  ks=[1,2,3,4,5,6,7,8,9,10,11,12,13,14,15,16,17,18,19,20] # I asked the method to consider up to 10 PCs because\n",
    "                                                                            #it chose the max number of PCs it considered the default set of [1,2,3,4]\n",
    "                                                 )\n",
    "        \n",
    "    return cna_res\n",
    "def cna_test(meta_df, harmony_df, umap_df, variable, covars = None):\n",
    "    print(meta_df.shape)\n",
    "    print(harmony_df.shape)\n",
    "    print(umap_df.shape)\n",
    "    cna_object = mad.MultiAnnData(X=harmony_df, obs=meta_df, sampleid=\"sample\")\n",
    "    if covars is not None:   \n",
    "        cna_object.obs_to_sample(covars + [variable])\n",
    "        umap_df.index = cna_object.obs.index\n",
    "        cna_object.obsm['X_umap'] = umap_df\n",
    "        cna.pp.knn(cna_object)\n",
    "        np.random.seed(0) \n",
    "        final_res = run_cna(variable, cna_object, covs = covars)\n",
    "    else:\n",
    "        cna_object.obs_to_sample([variable])\n",
    "        umap_df.index = cna_object.obs.index\n",
    "        cna_object.obsm['X_umap'] = umap_df\n",
    "        cna.pp.knn(cna_object)\n",
    "        np.random.seed(0) \n",
    "        final_res = run_cna(variable, cna_object, covs = None)\n",
    "    print(final_res.k)\n",
    "    print(final_res.ks)\n",
    "    print('p =', final_res.p, ',', final_res.k, 'PCs used')\n",
    "    print('total r^2 between top {} NAM PCs and outcome is {:.2f}'.format(final_res.k, final_res.r2))\n",
    "    return final_res"
   ]
  },
  {
   "cell_type": "code",
   "execution_count": 17,
   "id": "5c996b1c-9f52-49df-beb5-d9642db81064",
   "metadata": {},
   "outputs": [],
   "source": [
    "covars = ['First_biop', 'Responder_Status']\n",
    "variable = 'Final_Chronicity'"
   ]
  },
  {
   "cell_type": "code",
   "execution_count": 18,
   "id": "2e869130-7b71-48df-8d57-4ea5f8848a25",
   "metadata": {},
   "outputs": [
    {
     "name": "stderr",
     "output_type": "stream",
     "text": [
      "/PHShome/ssg34/.conda/envs/plswork/lib/python3.9/site-packages/multianndata/core.py:17: FutureWarning: X.dtype being converted to np.float32 from float64. In the next version of anndata (0.9) conversion will not be automatic. Pass dtype explicitly to avoid this warning. Pass `AnnData(X, dtype=X.dtype, ...)` to get the future behavour.\n",
      "  super().__init__(*args, **kwargs)\n",
      "/PHShome/ssg34/.conda/envs/plswork/lib/python3.9/site-packages/anndata/_core/anndata.py:121: ImplicitModificationWarning: Transforming to str index.\n",
      "  warnings.warn(\"Transforming to str index.\", ImplicitModificationWarning)\n"
     ]
    },
    {
     "name": "stdout",
     "output_type": "stream",
     "text": [
      "warning: the following columns of obs are non-numeric.\n",
      "['cell' 'sample' 'cell.type' 'Responder.Status' 'Race' 'Type' 'Final_ISN'\n",
      " 'Final_Site']\n",
      "consider casting to numeric types where appropriate, and\n",
      "consider re-coding text-valued columns with pandas.get_dummies\n",
      "computing default knn graph\n"
     ]
    }
   ],
   "source": [
    "cna_object = mad.MultiAnnData(X=harmony, obs=meta, sampleid=\"sample\")\n",
    "cna_object.obs_to_sample(covars + [variable])\n",
    "umap.index = cna_object.obs.index\n",
    "cna_object.obsm['X_umap'] = umap\n",
    "cna.pp.knn(cna_object)\n",
    "np.random.seed(0) "
   ]
  },
  {
   "cell_type": "code",
   "execution_count": 22,
   "id": "380f69f9-bef0-40d8-80f6-17b729564e50",
   "metadata": {},
   "outputs": [
    {
     "data": {
      "text/html": [
       "<div>\n",
       "<style scoped>\n",
       "    .dataframe tbody tr th:only-of-type {\n",
       "        vertical-align: middle;\n",
       "    }\n",
       "\n",
       "    .dataframe tbody tr th {\n",
       "        vertical-align: top;\n",
       "    }\n",
       "\n",
       "    .dataframe thead th {\n",
       "        text-align: right;\n",
       "    }\n",
       "</style>\n",
       "<table border=\"1\" class=\"dataframe\">\n",
       "  <thead>\n",
       "    <tr style=\"text-align: right;\">\n",
       "      <th></th>\n",
       "      <th>First_biop</th>\n",
       "      <th>Responder_Status</th>\n",
       "      <th>Final_Chronicity</th>\n",
       "    </tr>\n",
       "    <tr>\n",
       "      <th>sample</th>\n",
       "      <th></th>\n",
       "      <th></th>\n",
       "      <th></th>\n",
       "    </tr>\n",
       "  </thead>\n",
       "  <tbody>\n",
       "    <tr>\n",
       "      <th>AMPSLEkid_cells_1243</th>\n",
       "      <td>0.0</td>\n",
       "      <td>0.0</td>\n",
       "      <td>9.0</td>\n",
       "    </tr>\n",
       "    <tr>\n",
       "      <th>AMPSLEkid_cells_1257</th>\n",
       "      <td>0.0</td>\n",
       "      <td>0.0</td>\n",
       "      <td>7.0</td>\n",
       "    </tr>\n",
       "    <tr>\n",
       "      <th>AMPSLEkid_cells_1154</th>\n",
       "      <td>1.0</td>\n",
       "      <td>0.0</td>\n",
       "      <td>3.0</td>\n",
       "    </tr>\n",
       "    <tr>\n",
       "      <th>AMPSLEkid_cells_2800</th>\n",
       "      <td>0.0</td>\n",
       "      <td>0.0</td>\n",
       "      <td>7.0</td>\n",
       "    </tr>\n",
       "    <tr>\n",
       "      <th>AMPSLEkid_cells_1133</th>\n",
       "      <td>0.0</td>\n",
       "      <td>NaN</td>\n",
       "      <td>3.0</td>\n",
       "    </tr>\n",
       "    <tr>\n",
       "      <th>...</th>\n",
       "      <td>...</td>\n",
       "      <td>...</td>\n",
       "      <td>...</td>\n",
       "    </tr>\n",
       "    <tr>\n",
       "      <th>AMPSLEkid_cells_2802</th>\n",
       "      <td>0.0</td>\n",
       "      <td>0.0</td>\n",
       "      <td>2.0</td>\n",
       "    </tr>\n",
       "    <tr>\n",
       "      <th>AMPSLEkid_cells_0373</th>\n",
       "      <td>0.0</td>\n",
       "      <td>2.0</td>\n",
       "      <td>5.0</td>\n",
       "    </tr>\n",
       "    <tr>\n",
       "      <th>AMPSLEkid_cells_1148</th>\n",
       "      <td>0.0</td>\n",
       "      <td>1.0</td>\n",
       "      <td>2.0</td>\n",
       "    </tr>\n",
       "    <tr>\n",
       "      <th>AMPSLEkid_cells_2749</th>\n",
       "      <td>0.0</td>\n",
       "      <td>1.0</td>\n",
       "      <td>6.0</td>\n",
       "    </tr>\n",
       "    <tr>\n",
       "      <th>AMPSLEkid_cells_0135</th>\n",
       "      <td>0.0</td>\n",
       "      <td>1.0</td>\n",
       "      <td>3.0</td>\n",
       "    </tr>\n",
       "  </tbody>\n",
       "</table>\n",
       "<p>142 rows × 3 columns</p>\n",
       "</div>"
      ],
      "text/plain": [
       "                      First_biop  Responder_Status  Final_Chronicity\n",
       "sample                                                              \n",
       "AMPSLEkid_cells_1243         0.0               0.0               9.0\n",
       "AMPSLEkid_cells_1257         0.0               0.0               7.0\n",
       "AMPSLEkid_cells_1154         1.0               0.0               3.0\n",
       "AMPSLEkid_cells_2800         0.0               0.0               7.0\n",
       "AMPSLEkid_cells_1133         0.0               NaN               3.0\n",
       "...                          ...               ...               ...\n",
       "AMPSLEkid_cells_2802         0.0               0.0               2.0\n",
       "AMPSLEkid_cells_0373         0.0               2.0               5.0\n",
       "AMPSLEkid_cells_1148         0.0               1.0               2.0\n",
       "AMPSLEkid_cells_2749         0.0               1.0               6.0\n",
       "AMPSLEkid_cells_0135         0.0               1.0               3.0\n",
       "\n",
       "[142 rows x 3 columns]"
      ]
     },
     "execution_count": 22,
     "metadata": {},
     "output_type": "execute_result"
    }
   ],
   "source": [
    "cna_object.samplem"
   ]
  },
  {
   "cell_type": "code",
   "execution_count": 24,
   "id": "19e877a1-2121-4696-a6ca-cd8e09060e8b",
   "metadata": {},
   "outputs": [
    {
     "ename": "TypeError",
     "evalue": "ufunc 'isnan' not supported for the input types, and the inputs could not be safely coerced to any supported types according to the casting rule ''safe''",
     "output_type": "error",
     "traceback": [
      "\u001b[0;31m---------------------------------------------------------------------------\u001b[0m",
      "\u001b[0;31mTypeError\u001b[0m                                 Traceback (most recent call last)",
      "Input \u001b[0;32mIn [24]\u001b[0m, in \u001b[0;36m<cell line: 1>\u001b[0;34m()\u001b[0m\n\u001b[0;32m----> 1\u001b[0m cna_res \u001b[38;5;241m=\u001b[39m \u001b[43mcna\u001b[49m\u001b[38;5;241;43m.\u001b[39;49m\u001b[43mtl\u001b[49m\u001b[38;5;241;43m.\u001b[39;49m\u001b[43m_association\u001b[49m\u001b[38;5;241;43m.\u001b[39;49m\u001b[43massociation\u001b[49m\u001b[43m(\u001b[49m\u001b[43mcna_object\u001b[49m\u001b[43m,\u001b[49m\u001b[43m \u001b[49m\u001b[38;5;66;43;03m#dataset \u001b[39;49;00m\n\u001b[1;32m      2\u001b[0m \u001b[43m                                          \u001b[49m\u001b[43mcna_object\u001b[49m\u001b[38;5;241;43m.\u001b[39;49m\u001b[43msamplem\u001b[49m\u001b[43m[\u001b[49m\u001b[43mvariable\u001b[49m\u001b[43m]\u001b[49m\u001b[43m,\u001b[49m\u001b[43m \u001b[49m\u001b[38;5;66;43;03m#phenotype\u001b[39;49;00m\n\u001b[1;32m      3\u001b[0m \u001b[43m    \u001b[49m\u001b[38;5;66;43;03m#                                       batches=d.samplem.processing_batch, #batches\u001b[39;49;00m\n\u001b[1;32m      4\u001b[0m \u001b[43m                                          \u001b[49m\u001b[43mcovs\u001b[49m\u001b[43m \u001b[49m\u001b[38;5;241;43m=\u001b[39;49m\u001b[43m \u001b[49m\u001b[43mcovars\u001b[49m\u001b[43m,\u001b[49m\n\u001b[1;32m      5\u001b[0m \u001b[43m                                          \u001b[49m\u001b[43mNnull\u001b[49m\u001b[38;5;241;43m=\u001b[39;49m\u001b[38;5;241;43m10000\u001b[39;49m\u001b[43m,\u001b[49m\u001b[43m \u001b[49m\u001b[38;5;66;43;03m# number of null permutations to do (defaults to only 1e3)\u001b[39;49;00m\n\u001b[1;32m      6\u001b[0m \u001b[43m                                          \u001b[49m\u001b[43mks\u001b[49m\u001b[38;5;241;43m=\u001b[39;49m\u001b[43m[\u001b[49m\u001b[38;5;241;43m1\u001b[39;49m\u001b[43m,\u001b[49m\u001b[38;5;241;43m2\u001b[39;49m\u001b[43m,\u001b[49m\u001b[38;5;241;43m3\u001b[39;49m\u001b[43m,\u001b[49m\u001b[38;5;241;43m4\u001b[39;49m\u001b[43m,\u001b[49m\u001b[38;5;241;43m5\u001b[39;49m\u001b[43m,\u001b[49m\u001b[38;5;241;43m6\u001b[39;49m\u001b[43m,\u001b[49m\u001b[38;5;241;43m7\u001b[39;49m\u001b[43m,\u001b[49m\u001b[38;5;241;43m8\u001b[39;49m\u001b[43m,\u001b[49m\u001b[38;5;241;43m9\u001b[39;49m\u001b[43m,\u001b[49m\u001b[38;5;241;43m10\u001b[39;49m\u001b[43m,\u001b[49m\u001b[38;5;241;43m11\u001b[39;49m\u001b[43m,\u001b[49m\u001b[38;5;241;43m12\u001b[39;49m\u001b[43m,\u001b[49m\u001b[38;5;241;43m13\u001b[39;49m\u001b[43m,\u001b[49m\u001b[38;5;241;43m14\u001b[39;49m\u001b[43m,\u001b[49m\u001b[38;5;241;43m15\u001b[39;49m\u001b[43m,\u001b[49m\u001b[38;5;241;43m16\u001b[39;49m\u001b[43m,\u001b[49m\u001b[38;5;241;43m17\u001b[39;49m\u001b[43m,\u001b[49m\u001b[38;5;241;43m18\u001b[39;49m\u001b[43m,\u001b[49m\u001b[38;5;241;43m19\u001b[39;49m\u001b[43m,\u001b[49m\u001b[38;5;241;43m20\u001b[39;49m\u001b[43m]\u001b[49m\u001b[43m \u001b[49m\u001b[38;5;66;43;03m# I asked the method to consider up to 10 PCs because\u001b[39;49;00m\n\u001b[1;32m      7\u001b[0m \u001b[43m                                                                    \u001b[49m\u001b[38;5;66;43;03m#it chose the max number of PCs it considered the default set of [1,2,3,4]\u001b[39;49;00m\n\u001b[1;32m      8\u001b[0m \u001b[43m                                         \u001b[49m\u001b[43m)\u001b[49m\n",
      "File \u001b[0;32m~/.conda/envs/plswork/lib/python3.9/site-packages/cna/tools/_association.py:132\u001b[0m, in \u001b[0;36massociation\u001b[0;34m(data, y, batches, covs, nsteps, suffix, force_recompute, **kwargs)\u001b[0m\n\u001b[1;32m    128\u001b[0m     \u001b[38;5;28;01mraise\u001b[39;00m \u001b[38;5;167;01mValueError\u001b[39;00m(\n\u001b[1;32m    129\u001b[0m         \u001b[38;5;124m'\u001b[39m\u001b[38;5;124my should be an array of length data.N; instead its shape is: \u001b[39m\u001b[38;5;124m'\u001b[39m\u001b[38;5;241m+\u001b[39m\u001b[38;5;28mstr\u001b[39m(y\u001b[38;5;241m.\u001b[39mshape))\n\u001b[1;32m    131\u001b[0m \u001b[38;5;28;01mif\u001b[39;00m covs \u001b[38;5;129;01mis\u001b[39;00m \u001b[38;5;129;01mnot\u001b[39;00m \u001b[38;5;28;01mNone\u001b[39;00m:\n\u001b[0;32m--> 132\u001b[0m     filter_samples \u001b[38;5;241m=\u001b[39m \u001b[38;5;241m~\u001b[39m(np\u001b[38;5;241m.\u001b[39misnan(y) \u001b[38;5;241m|\u001b[39m np\u001b[38;5;241m.\u001b[39many(\u001b[43mnp\u001b[49m\u001b[38;5;241;43m.\u001b[39;49m\u001b[43misnan\u001b[49m\u001b[43m(\u001b[49m\u001b[43mcovs\u001b[49m\u001b[43m)\u001b[49m, axis\u001b[38;5;241m=\u001b[39m\u001b[38;5;241m1\u001b[39m))\n\u001b[1;32m    133\u001b[0m \u001b[38;5;28;01melse\u001b[39;00m:\n\u001b[1;32m    134\u001b[0m     filter_samples \u001b[38;5;241m=\u001b[39m \u001b[38;5;241m~\u001b[39mnp\u001b[38;5;241m.\u001b[39misnan(y)\n",
      "\u001b[0;31mTypeError\u001b[0m: ufunc 'isnan' not supported for the input types, and the inputs could not be safely coerced to any supported types according to the casting rule ''safe''"
     ]
    }
   ],
   "source": [
    "cna_res = cna.tl._association.association(cna_object, #dataset \n",
    "                                          cna_object.samplem[variable], #phenotype\n",
    "    #                                       batches=d.samplem.processing_batch, #batches\n",
    "                                          covs = covars,\n",
    "                                          Nnull=10000, # number of null permutations to do (defaults to only 1e3)\n",
    "                                          ks=[1,2,3,4,5,6,7,8,9,10,11,12,13,14,15,16,17,18,19,20] # I asked the method to consider up to 10 PCs because\n",
    "                                                                    #it chose the max number of PCs it considered the default set of [1,2,3,4]\n",
    "                                         )"
   ]
  },
  {
   "cell_type": "code",
   "execution_count": 12,
   "id": "82bac1e7-e379-4fa5-8248-dc86a0601557",
   "metadata": {},
   "outputs": [
    {
     "name": "stdout",
     "output_type": "stream",
     "text": [
      "(65570, 39)\n",
      "(65570, 20)\n",
      "(65570, 2)\n",
      "warning: the following columns of obs are non-numeric.\n",
      "['cell' 'sample' 'cell.type' 'Responder.Status' 'Race' 'Type' 'Final_ISN'\n",
      " 'Final_Site']\n",
      "consider casting to numeric types where appropriate, and\n",
      "consider re-coding text-valued columns with pandas.get_dummies\n",
      "computing default knn graph\n"
     ]
    },
    {
     "name": "stderr",
     "output_type": "stream",
     "text": [
      "/PHShome/ssg34/.conda/envs/plswork/lib/python3.9/site-packages/multianndata/core.py:17: FutureWarning: X.dtype being converted to np.float32 from float64. In the next version of anndata (0.9) conversion will not be automatic. Pass dtype explicitly to avoid this warning. Pass `AnnData(X, dtype=X.dtype, ...)` to get the future behavour.\n",
      "  super().__init__(*args, **kwargs)\n",
      "/PHShome/ssg34/.conda/envs/plswork/lib/python3.9/site-packages/anndata/_core/anndata.py:121: ImplicitModificationWarning: Transforming to str index.\n",
      "  warnings.warn(\"Transforming to str index.\", ImplicitModificationWarning)\n"
     ]
    },
    {
     "ename": "TypeError",
     "evalue": "ufunc 'isnan' not supported for the input types, and the inputs could not be safely coerced to any supported types according to the casting rule ''safe''",
     "output_type": "error",
     "traceback": [
      "\u001b[0;31m---------------------------------------------------------------------------\u001b[0m",
      "\u001b[0;31mTypeError\u001b[0m                                 Traceback (most recent call last)",
      "Input \u001b[0;32mIn [12]\u001b[0m, in \u001b[0;36m<cell line: 1>\u001b[0;34m()\u001b[0m\n\u001b[0;32m----> 1\u001b[0m res \u001b[38;5;241m=\u001b[39m \u001b[43mcna_test\u001b[49m\u001b[43m(\u001b[49m\u001b[43mmeta\u001b[49m\u001b[43m,\u001b[49m\u001b[43m \u001b[49m\u001b[43mharmony\u001b[49m\u001b[43m,\u001b[49m\u001b[43m \u001b[49m\u001b[43mumap\u001b[49m\u001b[43m,\u001b[49m\u001b[43m \u001b[49m\u001b[38;5;124;43m'\u001b[39;49m\u001b[38;5;124;43mFinal_Chronicity\u001b[39;49m\u001b[38;5;124;43m'\u001b[39;49m\u001b[43m,\u001b[49m\u001b[43m \u001b[49m\u001b[43mcovars\u001b[49m\u001b[43m \u001b[49m\u001b[38;5;241;43m=\u001b[39;49m\u001b[43m \u001b[49m\u001b[43m[\u001b[49m\u001b[38;5;124;43m'\u001b[39;49m\u001b[38;5;124;43mFirst_biop\u001b[39;49m\u001b[38;5;124;43m'\u001b[39;49m\u001b[43m,\u001b[49m\u001b[43m \u001b[49m\u001b[38;5;124;43m'\u001b[39;49m\u001b[38;5;124;43mResponder_Status\u001b[39;49m\u001b[38;5;124;43m'\u001b[39;49m\u001b[43m]\u001b[49m\u001b[43m)\u001b[49m\n",
      "Input \u001b[0;32mIn [11]\u001b[0m, in \u001b[0;36mcna_test\u001b[0;34m(meta_df, harmony_df, umap_df, variable, covars)\u001b[0m\n\u001b[1;32m     31\u001b[0m     cna\u001b[38;5;241m.\u001b[39mpp\u001b[38;5;241m.\u001b[39mknn(cna_object)\n\u001b[1;32m     32\u001b[0m     np\u001b[38;5;241m.\u001b[39mrandom\u001b[38;5;241m.\u001b[39mseed(\u001b[38;5;241m0\u001b[39m) \n\u001b[0;32m---> 33\u001b[0m     final_res \u001b[38;5;241m=\u001b[39m \u001b[43mrun_cna\u001b[49m\u001b[43m(\u001b[49m\u001b[43mvariable\u001b[49m\u001b[43m,\u001b[49m\u001b[43m \u001b[49m\u001b[43mcna_object\u001b[49m\u001b[43m,\u001b[49m\u001b[43m \u001b[49m\u001b[43mcovs\u001b[49m\u001b[43m \u001b[49m\u001b[38;5;241;43m=\u001b[39;49m\u001b[43m \u001b[49m\u001b[43mcovars\u001b[49m\u001b[43m)\u001b[49m\n\u001b[1;32m     34\u001b[0m \u001b[38;5;28;01melse\u001b[39;00m:\n\u001b[1;32m     35\u001b[0m     cna_object\u001b[38;5;241m.\u001b[39mobs_to_sample([variable])\n",
      "Input \u001b[0;32mIn [11]\u001b[0m, in \u001b[0;36mrun_cna\u001b[0;34m(variable, cna_obj, covs)\u001b[0m\n\u001b[1;32m      1\u001b[0m \u001b[38;5;28;01mdef\u001b[39;00m \u001b[38;5;21mrun_cna\u001b[39m(variable, cna_obj, covs \u001b[38;5;241m=\u001b[39m \u001b[38;5;28;01mNone\u001b[39;00m):\n\u001b[1;32m      2\u001b[0m     \u001b[38;5;28;01mif\u001b[39;00m covs \u001b[38;5;129;01mis\u001b[39;00m \u001b[38;5;129;01mnot\u001b[39;00m \u001b[38;5;28;01mNone\u001b[39;00m:\n\u001b[0;32m----> 3\u001b[0m         cna_res \u001b[38;5;241m=\u001b[39m \u001b[43mcna\u001b[49m\u001b[38;5;241;43m.\u001b[39;49m\u001b[43mtl\u001b[49m\u001b[38;5;241;43m.\u001b[39;49m\u001b[43m_association\u001b[49m\u001b[38;5;241;43m.\u001b[39;49m\u001b[43massociation\u001b[49m\u001b[43m(\u001b[49m\u001b[43mcna_obj\u001b[49m\u001b[43m,\u001b[49m\u001b[43m \u001b[49m\u001b[38;5;66;43;03m#dataset \u001b[39;49;00m\n\u001b[1;32m      4\u001b[0m \u001b[43m                                                  \u001b[49m\u001b[43mcna_obj\u001b[49m\u001b[38;5;241;43m.\u001b[39;49m\u001b[43msamplem\u001b[49m\u001b[43m[\u001b[49m\u001b[43mvariable\u001b[49m\u001b[43m]\u001b[49m\u001b[43m,\u001b[49m\u001b[43m \u001b[49m\u001b[38;5;66;43;03m#phenotype\u001b[39;49;00m\n\u001b[1;32m      5\u001b[0m \u001b[43m            \u001b[49m\u001b[38;5;66;43;03m#                                       batches=d.samplem.processing_batch, #batches\u001b[39;49;00m\n\u001b[1;32m      6\u001b[0m \u001b[43m                                                  \u001b[49m\u001b[43mcovs\u001b[49m\u001b[43m \u001b[49m\u001b[38;5;241;43m=\u001b[39;49m\u001b[43m \u001b[49m\u001b[43mcovs\u001b[49m\u001b[43m,\u001b[49m\n\u001b[1;32m      7\u001b[0m \u001b[43m                                                  \u001b[49m\u001b[43mNnull\u001b[49m\u001b[38;5;241;43m=\u001b[39;49m\u001b[38;5;241;43m10000\u001b[39;49m\u001b[43m,\u001b[49m\u001b[43m \u001b[49m\u001b[38;5;66;43;03m# number of null permutations to do (defaults to only 1e3)\u001b[39;49;00m\n\u001b[1;32m      8\u001b[0m \u001b[43m                                                  \u001b[49m\u001b[43mks\u001b[49m\u001b[38;5;241;43m=\u001b[39;49m\u001b[43m[\u001b[49m\u001b[38;5;241;43m1\u001b[39;49m\u001b[43m,\u001b[49m\u001b[38;5;241;43m2\u001b[39;49m\u001b[43m,\u001b[49m\u001b[38;5;241;43m3\u001b[39;49m\u001b[43m,\u001b[49m\u001b[38;5;241;43m4\u001b[39;49m\u001b[43m,\u001b[49m\u001b[38;5;241;43m5\u001b[39;49m\u001b[43m,\u001b[49m\u001b[38;5;241;43m6\u001b[39;49m\u001b[43m,\u001b[49m\u001b[38;5;241;43m7\u001b[39;49m\u001b[43m,\u001b[49m\u001b[38;5;241;43m8\u001b[39;49m\u001b[43m,\u001b[49m\u001b[38;5;241;43m9\u001b[39;49m\u001b[43m,\u001b[49m\u001b[38;5;241;43m10\u001b[39;49m\u001b[43m,\u001b[49m\u001b[38;5;241;43m11\u001b[39;49m\u001b[43m,\u001b[49m\u001b[38;5;241;43m12\u001b[39;49m\u001b[43m,\u001b[49m\u001b[38;5;241;43m13\u001b[39;49m\u001b[43m,\u001b[49m\u001b[38;5;241;43m14\u001b[39;49m\u001b[43m,\u001b[49m\u001b[38;5;241;43m15\u001b[39;49m\u001b[43m,\u001b[49m\u001b[38;5;241;43m16\u001b[39;49m\u001b[43m,\u001b[49m\u001b[38;5;241;43m17\u001b[39;49m\u001b[43m,\u001b[49m\u001b[38;5;241;43m18\u001b[39;49m\u001b[43m,\u001b[49m\u001b[38;5;241;43m19\u001b[39;49m\u001b[43m,\u001b[49m\u001b[38;5;241;43m20\u001b[39;49m\u001b[43m]\u001b[49m\u001b[43m \u001b[49m\u001b[38;5;66;43;03m# I asked the method to consider up to 10 PCs because\u001b[39;49;00m\n\u001b[1;32m      9\u001b[0m \u001b[43m                                                                            \u001b[49m\u001b[38;5;66;43;03m#it chose the max number of PCs it considered the default set of [1,2,3,4]\u001b[39;49;00m\n\u001b[1;32m     10\u001b[0m \u001b[43m                                                 \u001b[49m\u001b[43m)\u001b[49m\n\u001b[1;32m     11\u001b[0m     \u001b[38;5;28;01melse\u001b[39;00m:\n\u001b[1;32m     12\u001b[0m         cna_res \u001b[38;5;241m=\u001b[39m cna\u001b[38;5;241m.\u001b[39mtl\u001b[38;5;241m.\u001b[39m_association\u001b[38;5;241m.\u001b[39massociation(cna_obj, \u001b[38;5;66;03m#dataset \u001b[39;00m\n\u001b[1;32m     13\u001b[0m                                                   cna_obj\u001b[38;5;241m.\u001b[39msamplem[variable], \u001b[38;5;66;03m#phenotype\u001b[39;00m\n\u001b[1;32m     14\u001b[0m             \u001b[38;5;66;03m#                                       batches=d.samplem.processing_batch, #batches\u001b[39;00m\n\u001b[0;32m   (...)\u001b[0m\n\u001b[1;32m     18\u001b[0m                                                                             \u001b[38;5;66;03m#it chose the max number of PCs it considered the default set of [1,2,3,4]\u001b[39;00m\n\u001b[1;32m     19\u001b[0m                                                  )\n",
      "File \u001b[0;32m~/.conda/envs/plswork/lib/python3.9/site-packages/cna/tools/_association.py:132\u001b[0m, in \u001b[0;36massociation\u001b[0;34m(data, y, batches, covs, nsteps, suffix, force_recompute, **kwargs)\u001b[0m\n\u001b[1;32m    128\u001b[0m     \u001b[38;5;28;01mraise\u001b[39;00m \u001b[38;5;167;01mValueError\u001b[39;00m(\n\u001b[1;32m    129\u001b[0m         \u001b[38;5;124m'\u001b[39m\u001b[38;5;124my should be an array of length data.N; instead its shape is: \u001b[39m\u001b[38;5;124m'\u001b[39m\u001b[38;5;241m+\u001b[39m\u001b[38;5;28mstr\u001b[39m(y\u001b[38;5;241m.\u001b[39mshape))\n\u001b[1;32m    131\u001b[0m \u001b[38;5;28;01mif\u001b[39;00m covs \u001b[38;5;129;01mis\u001b[39;00m \u001b[38;5;129;01mnot\u001b[39;00m \u001b[38;5;28;01mNone\u001b[39;00m:\n\u001b[0;32m--> 132\u001b[0m     filter_samples \u001b[38;5;241m=\u001b[39m \u001b[38;5;241m~\u001b[39m(np\u001b[38;5;241m.\u001b[39misnan(y) \u001b[38;5;241m|\u001b[39m np\u001b[38;5;241m.\u001b[39many(\u001b[43mnp\u001b[49m\u001b[38;5;241;43m.\u001b[39;49m\u001b[43misnan\u001b[49m\u001b[43m(\u001b[49m\u001b[43mcovs\u001b[49m\u001b[43m)\u001b[49m, axis\u001b[38;5;241m=\u001b[39m\u001b[38;5;241m1\u001b[39m))\n\u001b[1;32m    133\u001b[0m \u001b[38;5;28;01melse\u001b[39;00m:\n\u001b[1;32m    134\u001b[0m     filter_samples \u001b[38;5;241m=\u001b[39m \u001b[38;5;241m~\u001b[39mnp\u001b[38;5;241m.\u001b[39misnan(y)\n",
      "\u001b[0;31mTypeError\u001b[0m: ufunc 'isnan' not supported for the input types, and the inputs could not be safely coerced to any supported types according to the casting rule ''safe''"
     ]
    }
   ],
   "source": [
    "res = cna_test(meta, harmony, umap, 'Final_Chronicity', covars = ['First_biop', 'Responder_Status'])"
   ]
  },
  {
   "cell_type": "markdown",
   "id": "2ae4a583-e66a-4a2d-8a8e-4b4d3b9b0bb3",
   "metadata": {},
   "source": [
    "## Single Nuclear"
   ]
  },
  {
   "cell_type": "code",
   "execution_count": 204,
   "id": "14cfa35c-a683-4412-973a-e91e7532ebc6",
   "metadata": {},
   "outputs": [
    {
     "name": "stdout",
     "output_type": "stream",
     "text": [
      "(15657, 32)\n"
     ]
    }
   ],
   "source": [
    "meta = pd.read_csv('/data/srlab/ssg34/SLE_kidney_v2/data/cna_new/downsampled_tissue/chronicity/sn_meta.csv')\n",
    "print(meta.shape)"
   ]
  },
  {
   "cell_type": "code",
   "execution_count": 205,
   "id": "42a2b770-f8ef-4bde-b7aa-53efa29ac728",
   "metadata": {},
   "outputs": [
    {
     "name": "stdout",
     "output_type": "stream",
     "text": [
      "(15657, 20)\n"
     ]
    }
   ],
   "source": [
    "harmony = pd.read_csv('/data/srlab/ssg34/SLE_kidney_v2/data/cna_new/downsampled_tissue/chronicity/sn_harmony.csv')\n",
    "print(harmony.shape)"
   ]
  },
  {
   "cell_type": "code",
   "execution_count": 206,
   "id": "8111734c-88eb-4f40-96e2-58997526b8d0",
   "metadata": {},
   "outputs": [
    {
     "name": "stdout",
     "output_type": "stream",
     "text": [
      "(15657, 2)\n"
     ]
    }
   ],
   "source": [
    "umap = pd.read_csv('/data/srlab/ssg34/SLE_kidney_v2/data/cna_new/downsampled_tissue/chronicity/sn_umap.csv')\n",
    "print(umap.shape)"
   ]
  },
  {
   "cell_type": "code",
   "execution_count": 207,
   "id": "648f5887-93c8-4224-9cb5-d45544039e21",
   "metadata": {},
   "outputs": [
    {
     "name": "stdout",
     "output_type": "stream",
     "text": [
      "(15657, 32)\n",
      "(15657, 20)\n",
      "(15657, 2)\n",
      "warning: the following columns of obs are non-numeric.\n",
      "['cell' 'sample' 'cell.type' 'Responder.Status' 'Race' 'Type' 'Final_ISN'\n",
      " 'Final_Site']\n",
      "consider casting to numeric types where appropriate, and\n",
      "consider re-coding text-valued columns with pandas.get_dummies\n",
      "computing default knn graph\n"
     ]
    },
    {
     "name": "stderr",
     "output_type": "stream",
     "text": [
      "/PHShome/ssg34/.conda/envs/plswork/lib/python3.9/site-packages/multianndata/core.py:17: FutureWarning: X.dtype being converted to np.float32 from float64. In the next version of anndata (0.9) conversion will not be automatic. Pass dtype explicitly to avoid this warning. Pass `AnnData(X, dtype=X.dtype, ...)` to get the future behavour.\n",
      "  super().__init__(*args, **kwargs)\n",
      "/PHShome/ssg34/.conda/envs/plswork/lib/python3.9/site-packages/anndata/_core/anndata.py:121: ImplicitModificationWarning: Transforming to str index.\n",
      "  warnings.warn(\"Transforming to str index.\", ImplicitModificationWarning)\n"
     ]
    },
    {
     "name": "stdout",
     "output_type": "stream",
     "text": [
      "qcd NAM not found; computing and saving\n",
      "\ttaking step 1\n",
      "\tmedian kurtosis: 9.805901874553381\n",
      "\t20th percentile R2(t,t-1): nan\n",
      "\ttaking step 2\n",
      "\tmedian kurtosis: 7.405575861951666\n",
      "\t20th percentile R2(t,t-1): 0.7989590883255004\n",
      "\ttaking step 3\n",
      "\tmedian kurtosis: 6.056229520037973\n",
      "\t20th percentile R2(t,t-1): 0.9304667115211487\n",
      "stopping after 3 steps\n",
      "covariate-adjusted NAM not found; computing and saving\n",
      "computing SVD\n"
     ]
    },
    {
     "name": "stderr",
     "output_type": "stream",
     "text": [
      "/PHShome/ssg34/.conda/envs/plswork/lib/python3.9/site-packages/cna/tools/_nam.py:79: UserWarning: only one unique batch supplied to qc\n",
      "  warnings.warn('only one unique batch supplied to qc')\n",
      "/PHShome/ssg34/.conda/envs/plswork/lib/python3.9/site-packages/cna/tools/_nam.py:101: UserWarning: only one unique batch supplied to prep\n",
      "  warnings.warn('only one unique batch supplied to prep')\n"
     ]
    },
    {
     "name": "stdout",
     "output_type": "stream",
     "text": [
      "performing association test\n",
      "computing neighborhood-level FDRs\n",
      "6\n",
      "[1, 2, 3, 4, 5, 6, 7, 8, 9, 10, 11, 12, 13, 14, 15, 16, 17, 18, 19, 20]\n",
      "p = 0.00039996000399960006 , 6 PCs used\n",
      "total r^2 between top 6 NAM PCs and outcome is 0.68\n"
     ]
    }
   ],
   "source": [
    "res = cna_test(meta, harmony, umap, 'Final_Chronicity')\n",
    "univariate_res = pd.concat([univariate_res,\n",
    "                            pd.DataFrame(['Chronicity', 'snRNAseq', res.p],\n",
    "                            index = ['Variable', 'Technology', 'global_pvalue']).T])"
   ]
  },
  {
   "cell_type": "code",
   "execution_count": 208,
   "id": "f9ba798b-3e3a-4514-9273-08b531e9bf9f",
   "metadata": {},
   "outputs": [],
   "source": [
    "np.savetxt(\"/data/srlab/ssg34/SLE_kidney_v2/data/cna_new/downsampled_tissue/chronicity/sn_ncorr.csv\", \n",
    "               res.ncorrs, delimiter=\",\")\n",
    "np.savetxt(\"/data/srlab/ssg34/SLE_kidney_v2/data/cna_new/downsampled_tissue/chronicity/sn_fdrs.csv\", \n",
    "               res.fdrs, delimiter=\",\")"
   ]
  },
  {
   "cell_type": "markdown",
   "id": "3410ffc9-56d4-42a6-9fae-78918eb2b817",
   "metadata": {},
   "source": [
    "# ACTIVITY"
   ]
  },
  {
   "cell_type": "markdown",
   "id": "5120c568-d459-4f0c-80b8-d682369cb297",
   "metadata": {},
   "source": [
    "## Single Cell"
   ]
  },
  {
   "cell_type": "code",
   "execution_count": 209,
   "id": "644e309e-3884-4d40-b664-3bbc21ec1b80",
   "metadata": {},
   "outputs": [
    {
     "name": "stdout",
     "output_type": "stream",
     "text": [
      "(65570, 39)\n"
     ]
    }
   ],
   "source": [
    "meta = pd.read_csv('/data/srlab/ssg34/SLE_kidney_v2/data/cna_new/downsampled_tissue/activity/sc_meta.csv')\n",
    "print(meta.shape)"
   ]
  },
  {
   "cell_type": "code",
   "execution_count": 210,
   "id": "200720a8-1d84-404c-a3f1-a0e7839d8f12",
   "metadata": {},
   "outputs": [
    {
     "name": "stdout",
     "output_type": "stream",
     "text": [
      "(65570, 20)\n"
     ]
    }
   ],
   "source": [
    "harmony = pd.read_csv('/data/srlab/ssg34/SLE_kidney_v2/data/cna_new/downsampled_tissue/activity/sc_harmony.csv')\n",
    "print(harmony.shape)"
   ]
  },
  {
   "cell_type": "code",
   "execution_count": 211,
   "id": "bc496ddf-c15d-4149-9eff-8a423c7ed26e",
   "metadata": {},
   "outputs": [
    {
     "name": "stdout",
     "output_type": "stream",
     "text": [
      "(65570, 2)\n"
     ]
    }
   ],
   "source": [
    "umap = pd.read_csv('/data/srlab/ssg34/SLE_kidney_v2/data/cna_new/downsampled_tissue/activity/sc_umap.csv')\n",
    "print(umap.shape)"
   ]
  },
  {
   "cell_type": "code",
   "execution_count": 212,
   "id": "9d933d07-271a-474e-a886-9d5d507a7e0e",
   "metadata": {},
   "outputs": [
    {
     "name": "stdout",
     "output_type": "stream",
     "text": [
      "(65570, 39)\n",
      "(65570, 20)\n",
      "(65570, 2)\n",
      "warning: the following columns of obs are non-numeric.\n",
      "['cell' 'sample' 'cell.type' 'Responder.Status' 'Race' 'Type' 'Final_ISN'\n",
      " 'Final_Site']\n",
      "consider casting to numeric types where appropriate, and\n",
      "consider re-coding text-valued columns with pandas.get_dummies\n",
      "computing default knn graph\n"
     ]
    },
    {
     "name": "stderr",
     "output_type": "stream",
     "text": [
      "/PHShome/ssg34/.conda/envs/plswork/lib/python3.9/site-packages/multianndata/core.py:17: FutureWarning: X.dtype being converted to np.float32 from float64. In the next version of anndata (0.9) conversion will not be automatic. Pass dtype explicitly to avoid this warning. Pass `AnnData(X, dtype=X.dtype, ...)` to get the future behavour.\n",
      "  super().__init__(*args, **kwargs)\n",
      "/PHShome/ssg34/.conda/envs/plswork/lib/python3.9/site-packages/anndata/_core/anndata.py:121: ImplicitModificationWarning: Transforming to str index.\n",
      "  warnings.warn(\"Transforming to str index.\", ImplicitModificationWarning)\n"
     ]
    },
    {
     "name": "stdout",
     "output_type": "stream",
     "text": [
      "qcd NAM not found; computing and saving\n",
      "\ttaking step 1\n",
      "\tmedian kurtosis: 39.45832061767578\n",
      "\t20th percentile R2(t,t-1): nan\n",
      "\ttaking step 2\n",
      "\tmedian kurtosis: 26.267791748046875\n",
      "\t20th percentile R2(t,t-1): 0.7805158376693726\n",
      "\ttaking step 3\n",
      "\tmedian kurtosis: 18.224061012268066\n",
      "\t20th percentile R2(t,t-1): 0.9237080931663513\n",
      "\ttaking step 4\n",
      "\tmedian kurtosis: 14.09362506866455\n",
      "\t20th percentile R2(t,t-1): 0.9593445897102356\n",
      "\ttaking step 5\n",
      "\tmedian kurtosis: 11.765871047973633\n",
      "\t20th percentile R2(t,t-1): 0.9752609372138977\n",
      "stopping after 5 steps\n",
      "covariate-adjusted NAM not found; computing and saving\n"
     ]
    },
    {
     "name": "stderr",
     "output_type": "stream",
     "text": [
      "/PHShome/ssg34/.conda/envs/plswork/lib/python3.9/site-packages/cna/tools/_nam.py:79: UserWarning: only one unique batch supplied to qc\n",
      "  warnings.warn('only one unique batch supplied to qc')\n",
      "/PHShome/ssg34/.conda/envs/plswork/lib/python3.9/site-packages/cna/tools/_nam.py:101: UserWarning: only one unique batch supplied to prep\n",
      "  warnings.warn('only one unique batch supplied to prep')\n"
     ]
    },
    {
     "name": "stdout",
     "output_type": "stream",
     "text": [
      "computing SVD\n",
      "performing association test\n",
      "computing neighborhood-level FDRs\n",
      "17\n",
      "[1, 2, 3, 4, 5, 6, 7, 8, 9, 10, 11, 12, 13, 14, 15, 16, 17, 18, 19, 20]\n",
      "p = 0.00039996000399960006 , 17 PCs used\n",
      "total r^2 between top 17 NAM PCs and outcome is 0.30\n"
     ]
    }
   ],
   "source": [
    "res = cna_test(meta, harmony, umap, 'Final_Activity')\n",
    "univariate_res = pd.concat([univariate_res,\n",
    "                            pd.DataFrame(['Activity', 'scRNAseq', res.p],\n",
    "                            index = ['Variable', 'Technology', 'global_pvalue']).T])"
   ]
  },
  {
   "cell_type": "code",
   "execution_count": 214,
   "id": "8868bd5e-40e8-4307-8521-1d822c51c98b",
   "metadata": {},
   "outputs": [],
   "source": [
    "np.savetxt(\"/data/srlab/ssg34/SLE_kidney_v2/data/cna_new/downsampled_tissue/activity/sc_ncorr.csv\", \n",
    "               res.ncorrs, delimiter=\",\")\n",
    "np.savetxt(\"/data/srlab/ssg34/SLE_kidney_v2/data/cna_new/downsampled_tissue/activity/sc_fdrs.csv\", \n",
    "               res.fdrs, delimiter=\",\")"
   ]
  },
  {
   "cell_type": "markdown",
   "id": "ea4206c7-c22c-4ad9-955a-bafac9e6b7f4",
   "metadata": {},
   "source": [
    "## Single Nuclear"
   ]
  },
  {
   "cell_type": "code",
   "execution_count": 216,
   "id": "f7d4b612-c4a4-48a8-ab55-4d88cf17d018",
   "metadata": {},
   "outputs": [
    {
     "name": "stdout",
     "output_type": "stream",
     "text": [
      "(15657, 32)\n"
     ]
    }
   ],
   "source": [
    "meta = pd.read_csv('/data/srlab/ssg34/SLE_kidney_v2/data/cna_new/downsampled_tissue/activity/sn_meta.csv')\n",
    "print(meta.shape)"
   ]
  },
  {
   "cell_type": "code",
   "execution_count": 217,
   "id": "64cde29f-8470-42fb-ba50-c01a76ab7efe",
   "metadata": {},
   "outputs": [
    {
     "name": "stdout",
     "output_type": "stream",
     "text": [
      "(15657, 20)\n"
     ]
    }
   ],
   "source": [
    "harmony = pd.read_csv('/data/srlab/ssg34/SLE_kidney_v2/data/cna_new/downsampled_tissue/activity/sn_harmony.csv')\n",
    "print(harmony.shape)"
   ]
  },
  {
   "cell_type": "code",
   "execution_count": 218,
   "id": "42022780-7d16-4ea4-a0e5-3a1f5f9a98d8",
   "metadata": {},
   "outputs": [
    {
     "name": "stdout",
     "output_type": "stream",
     "text": [
      "(15657, 2)\n"
     ]
    }
   ],
   "source": [
    "umap = pd.read_csv('/data/srlab/ssg34/SLE_kidney_v2/data/cna_new/downsampled_tissue/activity/sn_umap.csv')\n",
    "print(umap.shape)"
   ]
  },
  {
   "cell_type": "code",
   "execution_count": 221,
   "id": "8227fb91-223b-4508-9b66-77ac83895aa9",
   "metadata": {},
   "outputs": [
    {
     "name": "stdout",
     "output_type": "stream",
     "text": [
      "(15657, 32)\n",
      "(15657, 20)\n",
      "(15657, 2)\n",
      "warning: the following columns of obs are non-numeric.\n",
      "['cell' 'sample' 'cell.type' 'Responder.Status' 'Race' 'Type' 'Final_ISN'\n",
      " 'Final_Site']\n",
      "consider casting to numeric types where appropriate, and\n",
      "consider re-coding text-valued columns with pandas.get_dummies\n",
      "computing default knn graph\n"
     ]
    },
    {
     "name": "stderr",
     "output_type": "stream",
     "text": [
      "/PHShome/ssg34/.conda/envs/plswork/lib/python3.9/site-packages/multianndata/core.py:17: FutureWarning: X.dtype being converted to np.float32 from float64. In the next version of anndata (0.9) conversion will not be automatic. Pass dtype explicitly to avoid this warning. Pass `AnnData(X, dtype=X.dtype, ...)` to get the future behavour.\n",
      "  super().__init__(*args, **kwargs)\n",
      "/PHShome/ssg34/.conda/envs/plswork/lib/python3.9/site-packages/anndata/_core/anndata.py:121: ImplicitModificationWarning: Transforming to str index.\n",
      "  warnings.warn(\"Transforming to str index.\", ImplicitModificationWarning)\n"
     ]
    },
    {
     "name": "stdout",
     "output_type": "stream",
     "text": [
      "qcd NAM not found; computing and saving\n",
      "\ttaking step 1\n",
      "\tmedian kurtosis: 9.805901874553381\n",
      "\t20th percentile R2(t,t-1): nan\n",
      "\ttaking step 2\n",
      "\tmedian kurtosis: 7.405575861951666\n",
      "\t20th percentile R2(t,t-1): 0.7989590883255004\n",
      "\ttaking step 3\n",
      "\tmedian kurtosis: 6.056229520037973\n",
      "\t20th percentile R2(t,t-1): 0.9304667115211487\n",
      "stopping after 3 steps\n",
      "covariate-adjusted NAM not found; computing and saving\n",
      "computing SVD\n",
      "performing association test\n"
     ]
    },
    {
     "name": "stderr",
     "output_type": "stream",
     "text": [
      "/PHShome/ssg34/.conda/envs/plswork/lib/python3.9/site-packages/cna/tools/_nam.py:79: UserWarning: only one unique batch supplied to qc\n",
      "  warnings.warn('only one unique batch supplied to qc')\n",
      "/PHShome/ssg34/.conda/envs/plswork/lib/python3.9/site-packages/cna/tools/_nam.py:101: UserWarning: only one unique batch supplied to prep\n",
      "  warnings.warn('only one unique batch supplied to prep')\n"
     ]
    },
    {
     "name": "stdout",
     "output_type": "stream",
     "text": [
      "computing neighborhood-level FDRs\n",
      "1\n",
      "[1, 2, 3, 4, 5, 6, 7, 8, 9, 10, 11, 12, 13, 14, 15, 16, 17, 18, 19, 20]\n",
      "p = 0.29357064293570645 , 1 PCs used\n",
      "total r^2 between top 1 NAM PCs and outcome is 0.19\n"
     ]
    }
   ],
   "source": [
    "res = cna_test(meta, harmony, umap, 'Final_Activity')\n",
    "univariate_res = pd.concat([univariate_res,\n",
    "                            pd.DataFrame(['Activity', 'snRNAseq', res.p],\n",
    "                            index = ['Variable', 'Technology', 'global_pvalue']).T])"
   ]
  },
  {
   "cell_type": "code",
   "execution_count": 222,
   "id": "15af4124-0a09-4e72-a127-4a9b5925f8ce",
   "metadata": {},
   "outputs": [],
   "source": [
    "np.savetxt(\"/data/srlab/ssg34/SLE_kidney_v2/data/cna_new/downsampled_tissue/activity/sc_ncorr.csv\", \n",
    "               res.ncorrs, delimiter=\",\")\n",
    "np.savetxt(\"/data/srlab/ssg34/SLE_kidney_v2/data/cna_new/downsampled_tissue/activity/sc_fdrs.csv\", \n",
    "               res.fdrs, delimiter=\",\")"
   ]
  },
  {
   "cell_type": "markdown",
   "id": "7135365a-52fa-4ad5-8290-6acb317f8ff5",
   "metadata": {},
   "source": [
    "# ISN Class"
   ]
  },
  {
   "cell_type": "markdown",
   "id": "5a10bf63-8e4f-4f64-bfd8-9bb5407bca3f",
   "metadata": {},
   "source": [
    "## Single Cell"
   ]
  },
  {
   "cell_type": "code",
   "execution_count": 223,
   "id": "2b4e2f09-0648-4e3e-a0c1-14c4865949ff",
   "metadata": {},
   "outputs": [
    {
     "name": "stdout",
     "output_type": "stream",
     "text": [
      "(71120, 39)\n"
     ]
    }
   ],
   "source": [
    "meta = pd.read_csv('/data/srlab/ssg34/SLE_kidney_v2/data/cna_new/downsampled_tissue/isn/sc_meta.csv')\n",
    "print(meta.shape)"
   ]
  },
  {
   "cell_type": "code",
   "execution_count": 224,
   "id": "29e7403a-0c91-4baf-8939-f7b77259afa1",
   "metadata": {},
   "outputs": [
    {
     "name": "stdout",
     "output_type": "stream",
     "text": [
      "(71120, 20)\n"
     ]
    }
   ],
   "source": [
    "harmony = pd.read_csv('/data/srlab/ssg34/SLE_kidney_v2/data/cna_new/downsampled_tissue/isn/sc_harmony.csv')\n",
    "print(harmony.shape)"
   ]
  },
  {
   "cell_type": "code",
   "execution_count": 225,
   "id": "b61157d6-c95b-49d9-ac11-40433dda2600",
   "metadata": {},
   "outputs": [
    {
     "name": "stdout",
     "output_type": "stream",
     "text": [
      "(71120, 2)\n"
     ]
    }
   ],
   "source": [
    "umap = pd.read_csv('/data/srlab/ssg34/SLE_kidney_v2/data/cna_new/downsampled_tissue/isn/sc_umap.csv')\n",
    "print(umap.shape)"
   ]
  },
  {
   "cell_type": "code",
   "execution_count": 226,
   "id": "147d20c6-a46a-47d3-89aa-6ea23f81d018",
   "metadata": {},
   "outputs": [
    {
     "data": {
      "text/plain": [
       "Index(['cell', 'Sex', 'sample', 'cell.type', 'Responder.Status', 'Age', 'Race',\n",
       "       'Type', 'Final_ISN', 'Final_Chronicity', 'Final_Activity', 'Final_Site',\n",
       "       'First_biop', 'Pred_use', 'Responder_Status', 'Race_[A]', 'Race_[A][B]',\n",
       "       'Race_[B]', 'Race_[B][AI]', 'Race_[B][W]', 'Race_[U]', 'Race_[W]',\n",
       "       'Final_ISN_[III]', 'Final_ISN_[III][V]', 'Final_ISN_[IV]',\n",
       "       'Final_ISN_[IV][V]', 'Final_ISN_[V]', 'Final_Site_Cincinnati',\n",
       "       'Final_Site_Einstein', 'Final_Site_JHU', 'Final_Site_Michigan',\n",
       "       'Final_Site_MUSC', 'Final_Site_Northwell', 'Final_Site_NYU',\n",
       "       'Final_Site_Rochester', 'Final_Site_Texas Tech', 'Final_Site_UCLA',\n",
       "       'Final_Site_UCSD', 'Final_Site_UCSF'],\n",
       "      dtype='object')"
      ]
     },
     "execution_count": 226,
     "metadata": {},
     "output_type": "execute_result"
    }
   ],
   "source": [
    "meta.columns"
   ]
  },
  {
   "cell_type": "code",
   "execution_count": 227,
   "id": "19d01dc1-d097-4856-b3f0-03ba038b4d88",
   "metadata": {},
   "outputs": [
    {
     "name": "stdout",
     "output_type": "stream",
     "text": [
      "(71120, 39)\n",
      "(71120, 20)\n",
      "(71120, 2)\n",
      "warning: the following columns of obs are non-numeric.\n",
      "['cell' 'sample' 'cell.type' 'Responder.Status' 'Race' 'Type' 'Final_ISN'\n",
      " 'Final_Site']\n",
      "consider casting to numeric types where appropriate, and\n",
      "consider re-coding text-valued columns with pandas.get_dummies\n",
      "computing default knn graph\n"
     ]
    },
    {
     "name": "stderr",
     "output_type": "stream",
     "text": [
      "/PHShome/ssg34/.conda/envs/plswork/lib/python3.9/site-packages/multianndata/core.py:17: FutureWarning: X.dtype being converted to np.float32 from float64. In the next version of anndata (0.9) conversion will not be automatic. Pass dtype explicitly to avoid this warning. Pass `AnnData(X, dtype=X.dtype, ...)` to get the future behavour.\n",
      "  super().__init__(*args, **kwargs)\n",
      "/PHShome/ssg34/.conda/envs/plswork/lib/python3.9/site-packages/anndata/_core/anndata.py:121: ImplicitModificationWarning: Transforming to str index.\n",
      "  warnings.warn(\"Transforming to str index.\", ImplicitModificationWarning)\n"
     ]
    },
    {
     "name": "stdout",
     "output_type": "stream",
     "text": [
      "qcd NAM not found; computing and saving\n",
      "\ttaking step 1\n",
      "\tmedian kurtosis: 42.821128845214844\n",
      "\t20th percentile R2(t,t-1): nan\n",
      "\ttaking step 2\n",
      "\tmedian kurtosis: 28.430946350097656\n",
      "\t20th percentile R2(t,t-1): 0.7792342305183411\n",
      "\ttaking step 3\n",
      "\tmedian kurtosis: 19.353656768798828\n",
      "\t20th percentile R2(t,t-1): 0.9228097796440125\n",
      "\ttaking step 4\n",
      "\tmedian kurtosis: 14.69758415222168\n",
      "\t20th percentile R2(t,t-1): 0.9582582116127014\n",
      "\ttaking step 5\n",
      "\tmedian kurtosis: 12.140487670898438\n",
      "\t20th percentile R2(t,t-1): 0.9747512340545654\n",
      "stopping after 5 steps\n",
      "covariate-adjusted NAM not found; computing and saving\n"
     ]
    },
    {
     "name": "stderr",
     "output_type": "stream",
     "text": [
      "/PHShome/ssg34/.conda/envs/plswork/lib/python3.9/site-packages/cna/tools/_nam.py:79: UserWarning: only one unique batch supplied to qc\n",
      "  warnings.warn('only one unique batch supplied to qc')\n",
      "/PHShome/ssg34/.conda/envs/plswork/lib/python3.9/site-packages/cna/tools/_nam.py:101: UserWarning: only one unique batch supplied to prep\n",
      "  warnings.warn('only one unique batch supplied to prep')\n"
     ]
    },
    {
     "name": "stdout",
     "output_type": "stream",
     "text": [
      "computing SVD\n",
      "performing association test\n"
     ]
    },
    {
     "name": "stderr",
     "output_type": "stream",
     "text": [
      "/PHShome/ssg34/.conda/envs/plswork/lib/python3.9/site-packages/cna/tools/_association.py:57: UserWarning: data supported use of 20 NAM PCs, which is the maximum considered. Consider allowing more PCs by using the \"ks\" argument.\n",
      "  warnings.warn(('data supported use of {} NAM PCs, which is the maximum considered. '+\\\n"
     ]
    },
    {
     "name": "stdout",
     "output_type": "stream",
     "text": [
      "computing neighborhood-level FDRs\n",
      "20\n",
      "[1, 2, 3, 4, 5, 6, 7, 8, 9, 10, 11, 12, 13, 14, 15, 16, 17, 18, 19, 20]\n",
      "p = 0.12048795120487951 , 20 PCs used\n",
      "total r^2 between top 20 NAM PCs and outcome is 0.19\n"
     ]
    }
   ],
   "source": [
    "res = cna_test(meta, harmony, umap, 'Final_ISN_[III]')\n",
    "univariate_res = pd.concat([univariate_res,\n",
    "                            pd.DataFrame(['ISN Class III', 'scRNAseq', res.p],\n",
    "                            index = ['Variable', 'Technology', 'global_pvalue']).T])"
   ]
  },
  {
   "cell_type": "code",
   "execution_count": 228,
   "id": "463cdfc2-216d-4162-94dd-3a52e267b715",
   "metadata": {},
   "outputs": [
    {
     "name": "stdout",
     "output_type": "stream",
     "text": [
      "(71120, 39)\n",
      "(71120, 20)\n",
      "(71120, 2)\n",
      "warning: the following columns of obs are non-numeric.\n",
      "['cell' 'sample' 'cell.type' 'Responder.Status' 'Race' 'Type' 'Final_ISN'\n",
      " 'Final_Site']\n",
      "consider casting to numeric types where appropriate, and\n",
      "consider re-coding text-valued columns with pandas.get_dummies\n",
      "computing default knn graph\n"
     ]
    },
    {
     "name": "stderr",
     "output_type": "stream",
     "text": [
      "/PHShome/ssg34/.conda/envs/plswork/lib/python3.9/site-packages/multianndata/core.py:17: FutureWarning: X.dtype being converted to np.float32 from float64. In the next version of anndata (0.9) conversion will not be automatic. Pass dtype explicitly to avoid this warning. Pass `AnnData(X, dtype=X.dtype, ...)` to get the future behavour.\n",
      "  super().__init__(*args, **kwargs)\n",
      "/PHShome/ssg34/.conda/envs/plswork/lib/python3.9/site-packages/anndata/_core/anndata.py:121: ImplicitModificationWarning: Transforming to str index.\n",
      "  warnings.warn(\"Transforming to str index.\", ImplicitModificationWarning)\n"
     ]
    },
    {
     "name": "stdout",
     "output_type": "stream",
     "text": [
      "qcd NAM not found; computing and saving\n",
      "\ttaking step 1\n",
      "\tmedian kurtosis: 42.821128845214844\n",
      "\t20th percentile R2(t,t-1): nan\n",
      "\ttaking step 2\n",
      "\tmedian kurtosis: 28.430946350097656\n",
      "\t20th percentile R2(t,t-1): 0.7792342305183411\n",
      "\ttaking step 3\n",
      "\tmedian kurtosis: 19.353656768798828\n",
      "\t20th percentile R2(t,t-1): 0.9228097796440125\n",
      "\ttaking step 4\n",
      "\tmedian kurtosis: 14.69758415222168\n",
      "\t20th percentile R2(t,t-1): 0.9582582116127014\n",
      "\ttaking step 5\n",
      "\tmedian kurtosis: 12.140487670898438\n",
      "\t20th percentile R2(t,t-1): 0.9747512340545654\n",
      "stopping after 5 steps\n",
      "covariate-adjusted NAM not found; computing and saving\n"
     ]
    },
    {
     "name": "stderr",
     "output_type": "stream",
     "text": [
      "/PHShome/ssg34/.conda/envs/plswork/lib/python3.9/site-packages/cna/tools/_nam.py:79: UserWarning: only one unique batch supplied to qc\n",
      "  warnings.warn('only one unique batch supplied to qc')\n",
      "/PHShome/ssg34/.conda/envs/plswork/lib/python3.9/site-packages/cna/tools/_nam.py:101: UserWarning: only one unique batch supplied to prep\n",
      "  warnings.warn('only one unique batch supplied to prep')\n"
     ]
    },
    {
     "name": "stdout",
     "output_type": "stream",
     "text": [
      "computing SVD\n",
      "performing association test\n",
      "computing neighborhood-level FDRs\n",
      "13\n",
      "[1, 2, 3, 4, 5, 6, 7, 8, 9, 10, 11, 12, 13, 14, 15, 16, 17, 18, 19, 20]\n",
      "p = 0.4674532546745325 , 13 PCs used\n",
      "total r^2 between top 13 NAM PCs and outcome is 0.11\n"
     ]
    }
   ],
   "source": [
    "res = cna_test(meta, harmony, umap, 'Final_ISN_[III][V]')\n",
    "univariate_res = pd.concat([univariate_res,\n",
    "                            pd.DataFrame(['ISN Class III/V', 'scRNAseq', res.p],\n",
    "                            index = ['Variable', 'Technology', 'global_pvalue']).T])"
   ]
  },
  {
   "cell_type": "code",
   "execution_count": 229,
   "id": "d889f1b3-6c9d-405f-b075-64a10aa98f1a",
   "metadata": {},
   "outputs": [
    {
     "name": "stdout",
     "output_type": "stream",
     "text": [
      "(71120, 39)\n",
      "(71120, 20)\n",
      "(71120, 2)\n",
      "warning: the following columns of obs are non-numeric.\n",
      "['cell' 'sample' 'cell.type' 'Responder.Status' 'Race' 'Type' 'Final_ISN'\n",
      " 'Final_Site']\n",
      "consider casting to numeric types where appropriate, and\n",
      "consider re-coding text-valued columns with pandas.get_dummies\n",
      "computing default knn graph\n"
     ]
    },
    {
     "name": "stderr",
     "output_type": "stream",
     "text": [
      "/PHShome/ssg34/.conda/envs/plswork/lib/python3.9/site-packages/multianndata/core.py:17: FutureWarning: X.dtype being converted to np.float32 from float64. In the next version of anndata (0.9) conversion will not be automatic. Pass dtype explicitly to avoid this warning. Pass `AnnData(X, dtype=X.dtype, ...)` to get the future behavour.\n",
      "  super().__init__(*args, **kwargs)\n",
      "/PHShome/ssg34/.conda/envs/plswork/lib/python3.9/site-packages/anndata/_core/anndata.py:121: ImplicitModificationWarning: Transforming to str index.\n",
      "  warnings.warn(\"Transforming to str index.\", ImplicitModificationWarning)\n"
     ]
    },
    {
     "name": "stdout",
     "output_type": "stream",
     "text": [
      "qcd NAM not found; computing and saving\n",
      "\ttaking step 1\n",
      "\tmedian kurtosis: 42.821128845214844\n",
      "\t20th percentile R2(t,t-1): nan\n",
      "\ttaking step 2\n",
      "\tmedian kurtosis: 28.430946350097656\n",
      "\t20th percentile R2(t,t-1): 0.7792342305183411\n",
      "\ttaking step 3\n",
      "\tmedian kurtosis: 19.353656768798828\n",
      "\t20th percentile R2(t,t-1): 0.9228097796440125\n",
      "\ttaking step 4\n",
      "\tmedian kurtosis: 14.69758415222168\n",
      "\t20th percentile R2(t,t-1): 0.9582582116127014\n",
      "\ttaking step 5\n",
      "\tmedian kurtosis: 12.140487670898438\n",
      "\t20th percentile R2(t,t-1): 0.9747512340545654\n",
      "stopping after 5 steps\n",
      "covariate-adjusted NAM not found; computing and saving\n"
     ]
    },
    {
     "name": "stderr",
     "output_type": "stream",
     "text": [
      "/PHShome/ssg34/.conda/envs/plswork/lib/python3.9/site-packages/cna/tools/_nam.py:79: UserWarning: only one unique batch supplied to qc\n",
      "  warnings.warn('only one unique batch supplied to qc')\n",
      "/PHShome/ssg34/.conda/envs/plswork/lib/python3.9/site-packages/cna/tools/_nam.py:101: UserWarning: only one unique batch supplied to prep\n",
      "  warnings.warn('only one unique batch supplied to prep')\n"
     ]
    },
    {
     "name": "stdout",
     "output_type": "stream",
     "text": [
      "computing SVD\n",
      "performing association test\n",
      "computing neighborhood-level FDRs\n",
      "2\n",
      "[1, 2, 3, 4, 5, 6, 7, 8, 9, 10, 11, 12, 13, 14, 15, 16, 17, 18, 19, 20]\n",
      "p = 0.15828417158284172 , 2 PCs used\n",
      "total r^2 between top 2 NAM PCs and outcome is 0.05\n"
     ]
    }
   ],
   "source": [
    "res = cna_test(meta, harmony, umap, 'Final_ISN_[IV]')\n",
    "univariate_res = pd.concat([univariate_res,\n",
    "                            pd.DataFrame(['ISN Class IV', 'scRNAseq', res.p],\n",
    "                            index = ['Variable', 'Technology', 'global_pvalue']).T])"
   ]
  },
  {
   "cell_type": "code",
   "execution_count": 230,
   "id": "36a11880-2ed5-4109-a26c-fb63fa6fec3d",
   "metadata": {},
   "outputs": [
    {
     "name": "stdout",
     "output_type": "stream",
     "text": [
      "(71120, 39)\n",
      "(71120, 20)\n",
      "(71120, 2)\n",
      "warning: the following columns of obs are non-numeric.\n",
      "['cell' 'sample' 'cell.type' 'Responder.Status' 'Race' 'Type' 'Final_ISN'\n",
      " 'Final_Site']\n",
      "consider casting to numeric types where appropriate, and\n",
      "consider re-coding text-valued columns with pandas.get_dummies\n",
      "computing default knn graph\n"
     ]
    },
    {
     "name": "stderr",
     "output_type": "stream",
     "text": [
      "/PHShome/ssg34/.conda/envs/plswork/lib/python3.9/site-packages/multianndata/core.py:17: FutureWarning: X.dtype being converted to np.float32 from float64. In the next version of anndata (0.9) conversion will not be automatic. Pass dtype explicitly to avoid this warning. Pass `AnnData(X, dtype=X.dtype, ...)` to get the future behavour.\n",
      "  super().__init__(*args, **kwargs)\n",
      "/PHShome/ssg34/.conda/envs/plswork/lib/python3.9/site-packages/anndata/_core/anndata.py:121: ImplicitModificationWarning: Transforming to str index.\n",
      "  warnings.warn(\"Transforming to str index.\", ImplicitModificationWarning)\n"
     ]
    },
    {
     "name": "stdout",
     "output_type": "stream",
     "text": [
      "qcd NAM not found; computing and saving\n",
      "\ttaking step 1\n",
      "\tmedian kurtosis: 42.821128845214844\n",
      "\t20th percentile R2(t,t-1): nan\n",
      "\ttaking step 2\n",
      "\tmedian kurtosis: 28.430946350097656\n",
      "\t20th percentile R2(t,t-1): 0.7792342305183411\n",
      "\ttaking step 3\n",
      "\tmedian kurtosis: 19.353656768798828\n",
      "\t20th percentile R2(t,t-1): 0.9228097796440125\n",
      "\ttaking step 4\n",
      "\tmedian kurtosis: 14.69758415222168\n",
      "\t20th percentile R2(t,t-1): 0.9582582116127014\n",
      "\ttaking step 5\n",
      "\tmedian kurtosis: 12.140487670898438\n",
      "\t20th percentile R2(t,t-1): 0.9747512340545654\n",
      "stopping after 5 steps\n",
      "covariate-adjusted NAM not found; computing and saving\n"
     ]
    },
    {
     "name": "stderr",
     "output_type": "stream",
     "text": [
      "/PHShome/ssg34/.conda/envs/plswork/lib/python3.9/site-packages/cna/tools/_nam.py:79: UserWarning: only one unique batch supplied to qc\n",
      "  warnings.warn('only one unique batch supplied to qc')\n",
      "/PHShome/ssg34/.conda/envs/plswork/lib/python3.9/site-packages/cna/tools/_nam.py:101: UserWarning: only one unique batch supplied to prep\n",
      "  warnings.warn('only one unique batch supplied to prep')\n"
     ]
    },
    {
     "name": "stdout",
     "output_type": "stream",
     "text": [
      "computing SVD\n",
      "performing association test\n",
      "computing neighborhood-level FDRs\n",
      "7\n",
      "[1, 2, 3, 4, 5, 6, 7, 8, 9, 10, 11, 12, 13, 14, 15, 16, 17, 18, 19, 20]\n",
      "p = 0.1581841815818418 , 7 PCs used\n",
      "total r^2 between top 7 NAM PCs and outcome is 0.10\n"
     ]
    }
   ],
   "source": [
    "res = cna_test(meta, harmony, umap, 'Final_ISN_[IV][V]')\n",
    "univariate_res = pd.concat([univariate_res,\n",
    "                            pd.DataFrame(['ISN Class IV/V', 'scRNAseq', res.p],\n",
    "                            index = ['Variable', 'Technology', 'global_pvalue']).T])"
   ]
  },
  {
   "cell_type": "code",
   "execution_count": 231,
   "id": "494e17f3-5492-4cd0-a0cd-5f6941666e59",
   "metadata": {},
   "outputs": [
    {
     "name": "stdout",
     "output_type": "stream",
     "text": [
      "(71120, 39)\n",
      "(71120, 20)\n",
      "(71120, 2)\n",
      "warning: the following columns of obs are non-numeric.\n",
      "['cell' 'sample' 'cell.type' 'Responder.Status' 'Race' 'Type' 'Final_ISN'\n",
      " 'Final_Site']\n",
      "consider casting to numeric types where appropriate, and\n",
      "consider re-coding text-valued columns with pandas.get_dummies\n",
      "computing default knn graph\n"
     ]
    },
    {
     "name": "stderr",
     "output_type": "stream",
     "text": [
      "/PHShome/ssg34/.conda/envs/plswork/lib/python3.9/site-packages/multianndata/core.py:17: FutureWarning: X.dtype being converted to np.float32 from float64. In the next version of anndata (0.9) conversion will not be automatic. Pass dtype explicitly to avoid this warning. Pass `AnnData(X, dtype=X.dtype, ...)` to get the future behavour.\n",
      "  super().__init__(*args, **kwargs)\n",
      "/PHShome/ssg34/.conda/envs/plswork/lib/python3.9/site-packages/anndata/_core/anndata.py:121: ImplicitModificationWarning: Transforming to str index.\n",
      "  warnings.warn(\"Transforming to str index.\", ImplicitModificationWarning)\n"
     ]
    },
    {
     "name": "stdout",
     "output_type": "stream",
     "text": [
      "qcd NAM not found; computing and saving\n",
      "\ttaking step 1\n",
      "\tmedian kurtosis: 42.821128845214844\n",
      "\t20th percentile R2(t,t-1): nan\n",
      "\ttaking step 2\n",
      "\tmedian kurtosis: 28.430946350097656\n",
      "\t20th percentile R2(t,t-1): 0.7792342305183411\n",
      "\ttaking step 3\n",
      "\tmedian kurtosis: 19.353656768798828\n",
      "\t20th percentile R2(t,t-1): 0.9228097796440125\n",
      "\ttaking step 4\n",
      "\tmedian kurtosis: 14.69758415222168\n",
      "\t20th percentile R2(t,t-1): 0.9582582116127014\n",
      "\ttaking step 5\n",
      "\tmedian kurtosis: 12.140487670898438\n",
      "\t20th percentile R2(t,t-1): 0.9747512340545654\n",
      "stopping after 5 steps\n",
      "covariate-adjusted NAM not found; computing and saving\n"
     ]
    },
    {
     "name": "stderr",
     "output_type": "stream",
     "text": [
      "/PHShome/ssg34/.conda/envs/plswork/lib/python3.9/site-packages/cna/tools/_nam.py:79: UserWarning: only one unique batch supplied to qc\n",
      "  warnings.warn('only one unique batch supplied to qc')\n",
      "/PHShome/ssg34/.conda/envs/plswork/lib/python3.9/site-packages/cna/tools/_nam.py:101: UserWarning: only one unique batch supplied to prep\n",
      "  warnings.warn('only one unique batch supplied to prep')\n"
     ]
    },
    {
     "name": "stdout",
     "output_type": "stream",
     "text": [
      "computing SVD\n",
      "performing association test\n",
      "computing neighborhood-level FDRs\n",
      "14\n",
      "[1, 2, 3, 4, 5, 6, 7, 8, 9, 10, 11, 12, 13, 14, 15, 16, 17, 18, 19, 20]\n",
      "p = 0.07879212078792121 , 14 PCs used\n",
      "total r^2 between top 14 NAM PCs and outcome is 0.16\n"
     ]
    }
   ],
   "source": [
    "res = cna_test(meta, harmony, umap, 'Final_ISN_[V]')\n",
    "univariate_res = pd.concat([univariate_res,\n",
    "                            pd.DataFrame(['ISN Class V', 'scRNAseq', res.p],\n",
    "                            index = ['Variable', 'Technology', 'global_pvalue']).T])"
   ]
  },
  {
   "cell_type": "markdown",
   "id": "5102e7b1-b3ef-4a9f-9052-03b653f6056a",
   "metadata": {},
   "source": [
    "## Single Nuclear"
   ]
  },
  {
   "cell_type": "code",
   "execution_count": 232,
   "id": "545871e0-8da0-4bc8-938c-4cb1f8d9c088",
   "metadata": {},
   "outputs": [
    {
     "name": "stdout",
     "output_type": "stream",
     "text": [
      "(18660, 33)\n"
     ]
    }
   ],
   "source": [
    "meta = pd.read_csv('/data/srlab/ssg34/SLE_kidney_v2/data/cna_new/downsampled_tissue/isn/sn_meta.csv')\n",
    "print(meta.shape)"
   ]
  },
  {
   "cell_type": "code",
   "execution_count": 234,
   "id": "b2201d7c-7de8-4cb8-8a5a-b58ac3c8e1f9",
   "metadata": {},
   "outputs": [
    {
     "name": "stdout",
     "output_type": "stream",
     "text": [
      "(18660, 20)\n"
     ]
    }
   ],
   "source": [
    "harmony = pd.read_csv('/data/srlab/ssg34/SLE_kidney_v2/data/cna_new/downsampled_tissue/isn/sn_harmony.csv')\n",
    "print(harmony.shape)"
   ]
  },
  {
   "cell_type": "code",
   "execution_count": 235,
   "id": "241f1afe-abfc-4e52-b314-9da3db0cc5a9",
   "metadata": {},
   "outputs": [
    {
     "name": "stdout",
     "output_type": "stream",
     "text": [
      "(18660, 2)\n"
     ]
    }
   ],
   "source": [
    "umap = pd.read_csv('/data/srlab/ssg34/SLE_kidney_v2/data/cna_new/downsampled_tissue/isn/sn_umap.csv')\n",
    "print(umap.shape)"
   ]
  },
  {
   "cell_type": "code",
   "execution_count": 237,
   "id": "13a6606f-03e2-4d75-87c6-710c165c489c",
   "metadata": {},
   "outputs": [
    {
     "name": "stdout",
     "output_type": "stream",
     "text": [
      "(18660, 33)\n",
      "(18660, 20)\n",
      "(18660, 2)\n",
      "warning: the following columns of obs are non-numeric.\n",
      "['cell' 'sample' 'cell.type' 'Responder.Status' 'Race' 'Type' 'Final_ISN'\n",
      " 'Final_Site']\n",
      "consider casting to numeric types where appropriate, and\n",
      "consider re-coding text-valued columns with pandas.get_dummies\n",
      "computing default knn graph\n"
     ]
    },
    {
     "name": "stderr",
     "output_type": "stream",
     "text": [
      "/PHShome/ssg34/.conda/envs/plswork/lib/python3.9/site-packages/multianndata/core.py:17: FutureWarning: X.dtype being converted to np.float32 from float64. In the next version of anndata (0.9) conversion will not be automatic. Pass dtype explicitly to avoid this warning. Pass `AnnData(X, dtype=X.dtype, ...)` to get the future behavour.\n",
      "  super().__init__(*args, **kwargs)\n",
      "/PHShome/ssg34/.conda/envs/plswork/lib/python3.9/site-packages/anndata/_core/anndata.py:121: ImplicitModificationWarning: Transforming to str index.\n",
      "  warnings.warn(\"Transforming to str index.\", ImplicitModificationWarning)\n"
     ]
    },
    {
     "name": "stdout",
     "output_type": "stream",
     "text": [
      "qcd NAM not found; computing and saving\n",
      "\ttaking step 1\n",
      "\tmedian kurtosis: 11.043727199233018\n",
      "\t20th percentile R2(t,t-1): nan\n",
      "\ttaking step 2\n",
      "\tmedian kurtosis: 8.146373564762346\n",
      "\t20th percentile R2(t,t-1): 0.7939578413963317\n",
      "\ttaking step 3\n",
      "\tmedian kurtosis: 6.589556547746421\n",
      "\t20th percentile R2(t,t-1): 0.9295116901397705\n",
      "stopping after 3 steps\n",
      "covariate-adjusted NAM not found; computing and saving\n",
      "computing SVD\n",
      "performing association test\n"
     ]
    },
    {
     "name": "stderr",
     "output_type": "stream",
     "text": [
      "/PHShome/ssg34/.conda/envs/plswork/lib/python3.9/site-packages/cna/tools/_nam.py:79: UserWarning: only one unique batch supplied to qc\n",
      "  warnings.warn('only one unique batch supplied to qc')\n",
      "/PHShome/ssg34/.conda/envs/plswork/lib/python3.9/site-packages/cna/tools/_nam.py:101: UserWarning: only one unique batch supplied to prep\n",
      "  warnings.warn('only one unique batch supplied to prep')\n"
     ]
    },
    {
     "name": "stdout",
     "output_type": "stream",
     "text": [
      "computing neighborhood-level FDRs\n",
      "16\n",
      "[1, 2, 3, 4, 5, 6, 7, 8, 9, 10, 11, 12, 13, 14, 15, 16, 17, 18, 19, 20]\n",
      "p = 0.11458854114588542 , 16 PCs used\n",
      "total r^2 between top 16 NAM PCs and outcome is 0.60\n"
     ]
    }
   ],
   "source": [
    "res = cna_test(meta, harmony, umap, 'Final_ISN_[III]')\n",
    "univariate_res = pd.concat([univariate_res,\n",
    "                            pd.DataFrame(['ISN Class III', 'snRNAseq', res.p],\n",
    "                            index = ['Variable', 'Technology', 'global_pvalue']).T])"
   ]
  },
  {
   "cell_type": "code",
   "execution_count": 238,
   "id": "7563d7b5-a3ed-47d4-aa21-5daee734583a",
   "metadata": {},
   "outputs": [
    {
     "name": "stdout",
     "output_type": "stream",
     "text": [
      "(18660, 33)\n",
      "(18660, 20)\n",
      "(18660, 2)\n",
      "warning: the following columns of obs are non-numeric.\n",
      "['cell' 'sample' 'cell.type' 'Responder.Status' 'Race' 'Type' 'Final_ISN'\n",
      " 'Final_Site']\n",
      "consider casting to numeric types where appropriate, and\n",
      "consider re-coding text-valued columns with pandas.get_dummies\n",
      "computing default knn graph\n"
     ]
    },
    {
     "name": "stderr",
     "output_type": "stream",
     "text": [
      "/PHShome/ssg34/.conda/envs/plswork/lib/python3.9/site-packages/multianndata/core.py:17: FutureWarning: X.dtype being converted to np.float32 from float64. In the next version of anndata (0.9) conversion will not be automatic. Pass dtype explicitly to avoid this warning. Pass `AnnData(X, dtype=X.dtype, ...)` to get the future behavour.\n",
      "  super().__init__(*args, **kwargs)\n",
      "/PHShome/ssg34/.conda/envs/plswork/lib/python3.9/site-packages/anndata/_core/anndata.py:121: ImplicitModificationWarning: Transforming to str index.\n",
      "  warnings.warn(\"Transforming to str index.\", ImplicitModificationWarning)\n"
     ]
    },
    {
     "name": "stdout",
     "output_type": "stream",
     "text": [
      "qcd NAM not found; computing and saving\n",
      "\ttaking step 1\n",
      "\tmedian kurtosis: 11.043727199233018\n",
      "\t20th percentile R2(t,t-1): nan\n",
      "\ttaking step 2\n",
      "\tmedian kurtosis: 8.146373564762346\n",
      "\t20th percentile R2(t,t-1): 0.7939578413963317\n",
      "\ttaking step 3\n",
      "\tmedian kurtosis: 6.589556547746421\n",
      "\t20th percentile R2(t,t-1): 0.9295116901397705\n",
      "stopping after 3 steps\n",
      "covariate-adjusted NAM not found; computing and saving\n",
      "computing SVD\n",
      "performing association test\n"
     ]
    },
    {
     "name": "stderr",
     "output_type": "stream",
     "text": [
      "/PHShome/ssg34/.conda/envs/plswork/lib/python3.9/site-packages/cna/tools/_nam.py:79: UserWarning: only one unique batch supplied to qc\n",
      "  warnings.warn('only one unique batch supplied to qc')\n",
      "/PHShome/ssg34/.conda/envs/plswork/lib/python3.9/site-packages/cna/tools/_nam.py:101: UserWarning: only one unique batch supplied to prep\n",
      "  warnings.warn('only one unique batch supplied to prep')\n"
     ]
    },
    {
     "name": "stdout",
     "output_type": "stream",
     "text": [
      "computing neighborhood-level FDRs\n",
      "13\n",
      "[1, 2, 3, 4, 5, 6, 7, 8, 9, 10, 11, 12, 13, 14, 15, 16, 17, 18, 19, 20]\n",
      "p = 0.7538246175382461 , 13 PCs used\n",
      "total r^2 between top 13 NAM PCs and outcome is 0.36\n"
     ]
    }
   ],
   "source": [
    "res = cna_test(meta, harmony, umap, 'Final_ISN_[III][V]')\n",
    "univariate_res = pd.concat([univariate_res,\n",
    "                            pd.DataFrame(['ISN Class III/V', 'snRNAseq', res.p],\n",
    "                            index = ['Variable', 'Technology', 'global_pvalue']).T])"
   ]
  },
  {
   "cell_type": "code",
   "execution_count": 239,
   "id": "442e02f3-ad0b-4e47-9313-46ccb90a998d",
   "metadata": {},
   "outputs": [
    {
     "name": "stdout",
     "output_type": "stream",
     "text": [
      "(18660, 33)\n",
      "(18660, 20)\n",
      "(18660, 2)\n",
      "warning: the following columns of obs are non-numeric.\n",
      "['cell' 'sample' 'cell.type' 'Responder.Status' 'Race' 'Type' 'Final_ISN'\n",
      " 'Final_Site']\n",
      "consider casting to numeric types where appropriate, and\n",
      "consider re-coding text-valued columns with pandas.get_dummies\n",
      "computing default knn graph\n"
     ]
    },
    {
     "name": "stderr",
     "output_type": "stream",
     "text": [
      "/PHShome/ssg34/.conda/envs/plswork/lib/python3.9/site-packages/multianndata/core.py:17: FutureWarning: X.dtype being converted to np.float32 from float64. In the next version of anndata (0.9) conversion will not be automatic. Pass dtype explicitly to avoid this warning. Pass `AnnData(X, dtype=X.dtype, ...)` to get the future behavour.\n",
      "  super().__init__(*args, **kwargs)\n",
      "/PHShome/ssg34/.conda/envs/plswork/lib/python3.9/site-packages/anndata/_core/anndata.py:121: ImplicitModificationWarning: Transforming to str index.\n",
      "  warnings.warn(\"Transforming to str index.\", ImplicitModificationWarning)\n"
     ]
    },
    {
     "name": "stdout",
     "output_type": "stream",
     "text": [
      "qcd NAM not found; computing and saving\n",
      "\ttaking step 1\n",
      "\tmedian kurtosis: 11.043727199233018\n",
      "\t20th percentile R2(t,t-1): nan\n",
      "\ttaking step 2\n",
      "\tmedian kurtosis: 8.146373564762346\n",
      "\t20th percentile R2(t,t-1): 0.7939578413963317\n",
      "\ttaking step 3\n",
      "\tmedian kurtosis: 6.589556547746421\n",
      "\t20th percentile R2(t,t-1): 0.9295116901397705\n",
      "stopping after 3 steps\n",
      "covariate-adjusted NAM not found; computing and saving\n",
      "computing SVD\n",
      "performing association test\n"
     ]
    },
    {
     "name": "stderr",
     "output_type": "stream",
     "text": [
      "/PHShome/ssg34/.conda/envs/plswork/lib/python3.9/site-packages/cna/tools/_nam.py:79: UserWarning: only one unique batch supplied to qc\n",
      "  warnings.warn('only one unique batch supplied to qc')\n",
      "/PHShome/ssg34/.conda/envs/plswork/lib/python3.9/site-packages/cna/tools/_nam.py:101: UserWarning: only one unique batch supplied to prep\n",
      "  warnings.warn('only one unique batch supplied to prep')\n",
      "/PHShome/ssg34/.conda/envs/plswork/lib/python3.9/site-packages/cna/tools/_association.py:57: UserWarning: data supported use of 20 NAM PCs, which is the maximum considered. Consider allowing more PCs by using the \"ks\" argument.\n",
      "  warnings.warn(('data supported use of {} NAM PCs, which is the maximum considered. '+\\\n"
     ]
    },
    {
     "name": "stdout",
     "output_type": "stream",
     "text": [
      "computing neighborhood-level FDRs\n",
      "20\n",
      "[1, 2, 3, 4, 5, 6, 7, 8, 9, 10, 11, 12, 13, 14, 15, 16, 17, 18, 19, 20]\n",
      "p = 0.901009899010099 , 20 PCs used\n",
      "total r^2 between top 20 NAM PCs and outcome is 0.41\n"
     ]
    }
   ],
   "source": [
    "res = cna_test(meta, harmony, umap, 'Final_ISN_[IV]')\n",
    "univariate_res = pd.concat([univariate_res,\n",
    "                            pd.DataFrame(['ISN Class IV', 'snRNAseq', res.p],\n",
    "                            index = ['Variable', 'Technology', 'global_pvalue']).T])"
   ]
  },
  {
   "cell_type": "code",
   "execution_count": 240,
   "id": "bd99854e-89af-4ca6-b312-f93758867e19",
   "metadata": {},
   "outputs": [
    {
     "name": "stdout",
     "output_type": "stream",
     "text": [
      "(18660, 33)\n",
      "(18660, 20)\n",
      "(18660, 2)\n",
      "warning: the following columns of obs are non-numeric.\n",
      "['cell' 'sample' 'cell.type' 'Responder.Status' 'Race' 'Type' 'Final_ISN'\n",
      " 'Final_Site']\n",
      "consider casting to numeric types where appropriate, and\n",
      "consider re-coding text-valued columns with pandas.get_dummies\n",
      "computing default knn graph\n"
     ]
    },
    {
     "name": "stderr",
     "output_type": "stream",
     "text": [
      "/PHShome/ssg34/.conda/envs/plswork/lib/python3.9/site-packages/multianndata/core.py:17: FutureWarning: X.dtype being converted to np.float32 from float64. In the next version of anndata (0.9) conversion will not be automatic. Pass dtype explicitly to avoid this warning. Pass `AnnData(X, dtype=X.dtype, ...)` to get the future behavour.\n",
      "  super().__init__(*args, **kwargs)\n",
      "/PHShome/ssg34/.conda/envs/plswork/lib/python3.9/site-packages/anndata/_core/anndata.py:121: ImplicitModificationWarning: Transforming to str index.\n",
      "  warnings.warn(\"Transforming to str index.\", ImplicitModificationWarning)\n"
     ]
    },
    {
     "name": "stdout",
     "output_type": "stream",
     "text": [
      "qcd NAM not found; computing and saving\n",
      "\ttaking step 1\n",
      "\tmedian kurtosis: 11.043727199233018\n",
      "\t20th percentile R2(t,t-1): nan\n",
      "\ttaking step 2\n",
      "\tmedian kurtosis: 8.146373564762346\n",
      "\t20th percentile R2(t,t-1): 0.7939578413963317\n",
      "\ttaking step 3\n",
      "\tmedian kurtosis: 6.589556547746421\n",
      "\t20th percentile R2(t,t-1): 0.9295116901397705\n",
      "stopping after 3 steps\n",
      "covariate-adjusted NAM not found; computing and saving\n",
      "computing SVD\n",
      "performing association test\n"
     ]
    },
    {
     "name": "stderr",
     "output_type": "stream",
     "text": [
      "/PHShome/ssg34/.conda/envs/plswork/lib/python3.9/site-packages/cna/tools/_nam.py:79: UserWarning: only one unique batch supplied to qc\n",
      "  warnings.warn('only one unique batch supplied to qc')\n",
      "/PHShome/ssg34/.conda/envs/plswork/lib/python3.9/site-packages/cna/tools/_nam.py:101: UserWarning: only one unique batch supplied to prep\n",
      "  warnings.warn('only one unique batch supplied to prep')\n"
     ]
    },
    {
     "name": "stdout",
     "output_type": "stream",
     "text": [
      "computing neighborhood-level FDRs\n",
      "9\n",
      "[1, 2, 3, 4, 5, 6, 7, 8, 9, 10, 11, 12, 13, 14, 15, 16, 17, 18, 19, 20]\n",
      "p = 0.5813418658134186 , 9 PCs used\n",
      "total r^2 between top 9 NAM PCs and outcome is 0.33\n"
     ]
    }
   ],
   "source": [
    "res = cna_test(meta, harmony, umap, 'Final_ISN_[IV][V]')\n",
    "univariate_res = pd.concat([univariate_res,\n",
    "                            pd.DataFrame(['ISN Class IV/V', 'snRNAseq', res.p],\n",
    "                            index = ['Variable', 'Technology', 'global_pvalue']).T])"
   ]
  },
  {
   "cell_type": "code",
   "execution_count": 241,
   "id": "b63e9e90-08d5-4b85-a0e6-f3ed70459cb6",
   "metadata": {},
   "outputs": [
    {
     "name": "stdout",
     "output_type": "stream",
     "text": [
      "(18660, 33)\n",
      "(18660, 20)\n",
      "(18660, 2)\n",
      "warning: the following columns of obs are non-numeric.\n",
      "['cell' 'sample' 'cell.type' 'Responder.Status' 'Race' 'Type' 'Final_ISN'\n",
      " 'Final_Site']\n",
      "consider casting to numeric types where appropriate, and\n",
      "consider re-coding text-valued columns with pandas.get_dummies\n",
      "computing default knn graph\n"
     ]
    },
    {
     "name": "stderr",
     "output_type": "stream",
     "text": [
      "/PHShome/ssg34/.conda/envs/plswork/lib/python3.9/site-packages/multianndata/core.py:17: FutureWarning: X.dtype being converted to np.float32 from float64. In the next version of anndata (0.9) conversion will not be automatic. Pass dtype explicitly to avoid this warning. Pass `AnnData(X, dtype=X.dtype, ...)` to get the future behavour.\n",
      "  super().__init__(*args, **kwargs)\n",
      "/PHShome/ssg34/.conda/envs/plswork/lib/python3.9/site-packages/anndata/_core/anndata.py:121: ImplicitModificationWarning: Transforming to str index.\n",
      "  warnings.warn(\"Transforming to str index.\", ImplicitModificationWarning)\n"
     ]
    },
    {
     "name": "stdout",
     "output_type": "stream",
     "text": [
      "qcd NAM not found; computing and saving\n",
      "\ttaking step 1\n",
      "\tmedian kurtosis: 11.043727199233018\n",
      "\t20th percentile R2(t,t-1): nan\n",
      "\ttaking step 2\n",
      "\tmedian kurtosis: 8.146373564762346\n",
      "\t20th percentile R2(t,t-1): 0.7939578413963317\n",
      "\ttaking step 3\n",
      "\tmedian kurtosis: 6.589556547746421\n",
      "\t20th percentile R2(t,t-1): 0.9295116901397705\n",
      "stopping after 3 steps\n",
      "covariate-adjusted NAM not found; computing and saving\n",
      "computing SVD\n",
      "performing association test\n"
     ]
    },
    {
     "name": "stderr",
     "output_type": "stream",
     "text": [
      "/PHShome/ssg34/.conda/envs/plswork/lib/python3.9/site-packages/cna/tools/_nam.py:79: UserWarning: only one unique batch supplied to qc\n",
      "  warnings.warn('only one unique batch supplied to qc')\n",
      "/PHShome/ssg34/.conda/envs/plswork/lib/python3.9/site-packages/cna/tools/_nam.py:101: UserWarning: only one unique batch supplied to prep\n",
      "  warnings.warn('only one unique batch supplied to prep')\n"
     ]
    },
    {
     "name": "stdout",
     "output_type": "stream",
     "text": [
      "computing neighborhood-level FDRs\n",
      "12\n",
      "[1, 2, 3, 4, 5, 6, 7, 8, 9, 10, 11, 12, 13, 14, 15, 16, 17, 18, 19, 20]\n",
      "p = 0.0847915208479152 , 12 PCs used\n",
      "total r^2 between top 12 NAM PCs and outcome is 0.57\n"
     ]
    }
   ],
   "source": [
    "res = cna_test(meta, harmony, umap, 'Final_ISN_[V]')\n",
    "univariate_res = pd.concat([univariate_res,\n",
    "                            pd.DataFrame(['ISN Class V', 'snRNAseq', res.p],\n",
    "                            index = ['Variable', 'Technology', 'global_pvalue']).T])"
   ]
  },
  {
   "cell_type": "code",
   "execution_count": 242,
   "id": "cbe8b368-aa7e-4c2f-b0ca-ddb6046c5d0f",
   "metadata": {},
   "outputs": [],
   "source": [
    "univariate_res.to_csv(\"/data/srlab/ssg34/SLE_kidney_v2/data/cna_new/downsampled_tissue/univariate_results.csv\",\n",
    "                      index = False)"
   ]
  },
  {
   "cell_type": "code",
   "execution_count": 3,
   "id": "239871ca-5edb-4441-adb7-24bc3f1f5f50",
   "metadata": {},
   "outputs": [],
   "source": [
    "univariate_res = pd.read_csv(\"/data/srlab/ssg34/SLE_kidney_v2/data/cna_new/downsampled_tissue/univariate_results.csv\")"
   ]
  },
  {
   "cell_type": "markdown",
   "id": "c26352d8-e822-43fb-b8a9-7538a39b458b",
   "metadata": {},
   "source": [
    "# FIRST BIOPSY "
   ]
  },
  {
   "cell_type": "markdown",
   "id": "ada2fc40-1443-46fd-bdf5-d82faab4bdc0",
   "metadata": {},
   "source": [
    "## Single Cell"
   ]
  },
  {
   "cell_type": "code",
   "execution_count": 5,
   "id": "e910a1f6-12fb-446b-b2a9-2e81fcf8c483",
   "metadata": {},
   "outputs": [
    {
     "name": "stdout",
     "output_type": "stream",
     "text": [
      "(71120, 39)\n"
     ]
    }
   ],
   "source": [
    "meta = pd.read_csv('/data/srlab/ssg34/SLE_kidney_v2/data/cna_new/downsampled_tissue/first_biopsy/sc_meta.csv')\n",
    "print(meta.shape)"
   ]
  },
  {
   "cell_type": "code",
   "execution_count": 6,
   "id": "0188f36e-36c5-427a-a4bf-7f01d674af8d",
   "metadata": {},
   "outputs": [
    {
     "name": "stdout",
     "output_type": "stream",
     "text": [
      "(71120, 20)\n"
     ]
    }
   ],
   "source": [
    "harmony = pd.read_csv('/data/srlab/ssg34/SLE_kidney_v2/data/cna_new/downsampled_tissue/first_biopsy/sc_harmony.csv')\n",
    "print(harmony.shape)"
   ]
  },
  {
   "cell_type": "code",
   "execution_count": 7,
   "id": "9c28583e-5b8e-4595-a590-36d8ec421064",
   "metadata": {},
   "outputs": [
    {
     "name": "stdout",
     "output_type": "stream",
     "text": [
      "(71120, 2)\n"
     ]
    }
   ],
   "source": [
    "umap = pd.read_csv('/data/srlab/ssg34/SLE_kidney_v2/data/cna_new/downsampled_tissue/first_biopsy/sc_umap.csv')\n",
    "print(umap.shape)"
   ]
  },
  {
   "cell_type": "code",
   "execution_count": 8,
   "id": "0a003acc-5390-4570-bcbe-99cef330daf7",
   "metadata": {},
   "outputs": [
    {
     "name": "stdout",
     "output_type": "stream",
     "text": [
      "(71120, 39)\n",
      "(71120, 20)\n",
      "(71120, 2)\n",
      "warning: the following columns of obs are non-numeric.\n",
      "['cell' 'sample' 'cell.type' 'Responder.Status' 'Race' 'Type' 'Final_ISN'\n",
      " 'Final_Site']\n",
      "consider casting to numeric types where appropriate, and\n",
      "consider re-coding text-valued columns with pandas.get_dummies\n",
      "computing default knn graph\n"
     ]
    },
    {
     "name": "stderr",
     "output_type": "stream",
     "text": [
      "/PHShome/ssg34/.conda/envs/plswork/lib/python3.9/site-packages/multianndata/core.py:17: FutureWarning: X.dtype being converted to np.float32 from float64. In the next version of anndata (0.9) conversion will not be automatic. Pass dtype explicitly to avoid this warning. Pass `AnnData(X, dtype=X.dtype, ...)` to get the future behavour.\n",
      "  super().__init__(*args, **kwargs)\n",
      "/PHShome/ssg34/.conda/envs/plswork/lib/python3.9/site-packages/anndata/_core/anndata.py:121: ImplicitModificationWarning: Transforming to str index.\n",
      "  warnings.warn(\"Transforming to str index.\", ImplicitModificationWarning)\n",
      "/PHShome/ssg34/.conda/envs/plswork/lib/python3.9/site-packages/tqdm/auto.py:22: TqdmWarning: IProgress not found. Please update jupyter and ipywidgets. See https://ipywidgets.readthedocs.io/en/stable/user_install.html\n",
      "  from .autonotebook import tqdm as notebook_tqdm\n"
     ]
    },
    {
     "name": "stdout",
     "output_type": "stream",
     "text": [
      "qcd NAM not found; computing and saving\n",
      "\ttaking step 1\n",
      "\tmedian kurtosis: 42.821128845214844\n",
      "\t20th percentile R2(t,t-1): nan\n",
      "\ttaking step 2\n",
      "\tmedian kurtosis: 28.430946350097656\n",
      "\t20th percentile R2(t,t-1): 0.7792342305183411\n",
      "\ttaking step 3\n",
      "\tmedian kurtosis: 19.353656768798828\n",
      "\t20th percentile R2(t,t-1): 0.9228097796440125\n",
      "\ttaking step 4\n",
      "\tmedian kurtosis: 14.69758415222168\n",
      "\t20th percentile R2(t,t-1): 0.9582582116127014\n",
      "\ttaking step 5\n",
      "\tmedian kurtosis: 12.140487670898438\n",
      "\t20th percentile R2(t,t-1): 0.9747512340545654\n",
      "stopping after 5 steps\n",
      "covariate-adjusted NAM not found; computing and saving\n"
     ]
    },
    {
     "name": "stderr",
     "output_type": "stream",
     "text": [
      "/PHShome/ssg34/.conda/envs/plswork/lib/python3.9/site-packages/cna/tools/_nam.py:79: UserWarning: only one unique batch supplied to qc\n",
      "  warnings.warn('only one unique batch supplied to qc')\n",
      "/PHShome/ssg34/.conda/envs/plswork/lib/python3.9/site-packages/cna/tools/_nam.py:101: UserWarning: only one unique batch supplied to prep\n",
      "  warnings.warn('only one unique batch supplied to prep')\n"
     ]
    },
    {
     "name": "stdout",
     "output_type": "stream",
     "text": [
      "computing SVD\n",
      "performing association test\n"
     ]
    },
    {
     "name": "stderr",
     "output_type": "stream",
     "text": [
      "/PHShome/ssg34/.conda/envs/plswork/lib/python3.9/site-packages/cna/tools/_association.py:74: UserWarning: global association p-value attained minimal possible value. Consider increasing Nnull\n",
      "  warnings.warn('global association p-value attained minimal possible value. '+\\\n"
     ]
    },
    {
     "name": "stdout",
     "output_type": "stream",
     "text": [
      "computing neighborhood-level FDRs\n",
      "18\n",
      "[1, 2, 3, 4, 5, 6, 7, 8, 9, 10, 11, 12, 13, 14, 15, 16, 17, 18, 19, 20]\n",
      "p = 9.999000099990002e-05 , 18 PCs used\n",
      "total r^2 between top 18 NAM PCs and outcome is 0.32\n"
     ]
    }
   ],
   "source": [
    "res = cna_test(meta, harmony, umap, 'First_biop')\n",
    "univariate_res = pd.concat([univariate_res,\n",
    "                            pd.DataFrame(['First Biopsy Status', 'scRNAseq', res.p],\n",
    "                            index = ['Variable', 'Technology', 'global_pvalue']).T])"
   ]
  },
  {
   "cell_type": "markdown",
   "id": "a379dbb8-d805-4692-9724-d37248fcae73",
   "metadata": {},
   "source": [
    "## Single Nuclear"
   ]
  },
  {
   "cell_type": "code",
   "execution_count": 9,
   "id": "28dc3f94-feee-48f3-b5e5-030c0192a8a9",
   "metadata": {},
   "outputs": [
    {
     "name": "stdout",
     "output_type": "stream",
     "text": [
      "(18660, 33)\n"
     ]
    }
   ],
   "source": [
    "meta = pd.read_csv('/data/srlab/ssg34/SLE_kidney_v2/data/cna_new/downsampled_tissue/first_biopsy/sn_meta.csv')\n",
    "print(meta.shape)"
   ]
  },
  {
   "cell_type": "code",
   "execution_count": 10,
   "id": "85930845-fa55-43b3-a401-e0890d2d9df6",
   "metadata": {},
   "outputs": [
    {
     "name": "stdout",
     "output_type": "stream",
     "text": [
      "(18660, 20)\n"
     ]
    }
   ],
   "source": [
    "harmony = pd.read_csv('/data/srlab/ssg34/SLE_kidney_v2/data/cna_new/downsampled_tissue/first_biopsy/sn_harmony.csv')\n",
    "print(harmony.shape)"
   ]
  },
  {
   "cell_type": "code",
   "execution_count": 11,
   "id": "0a189e14-2c5c-4ded-a73d-0595cde9f09d",
   "metadata": {},
   "outputs": [
    {
     "name": "stdout",
     "output_type": "stream",
     "text": [
      "(18660, 2)\n"
     ]
    }
   ],
   "source": [
    "umap = pd.read_csv('/data/srlab/ssg34/SLE_kidney_v2/data/cna_new/downsampled_tissue/first_biopsy/sn_umap.csv')\n",
    "print(umap.shape)"
   ]
  },
  {
   "cell_type": "code",
   "execution_count": 12,
   "id": "266b4f38-6e1f-435b-90b0-37202c957412",
   "metadata": {},
   "outputs": [
    {
     "name": "stdout",
     "output_type": "stream",
     "text": [
      "(18660, 33)\n",
      "(18660, 20)\n",
      "(18660, 2)\n",
      "warning: the following columns of obs are non-numeric.\n",
      "['cell' 'sample' 'cell.type' 'Responder.Status' 'Race' 'Type' 'Final_ISN'\n",
      " 'Final_Site']\n",
      "consider casting to numeric types where appropriate, and\n",
      "consider re-coding text-valued columns with pandas.get_dummies\n",
      "computing default knn graph\n"
     ]
    },
    {
     "name": "stderr",
     "output_type": "stream",
     "text": [
      "/PHShome/ssg34/.conda/envs/plswork/lib/python3.9/site-packages/multianndata/core.py:17: FutureWarning: X.dtype being converted to np.float32 from float64. In the next version of anndata (0.9) conversion will not be automatic. Pass dtype explicitly to avoid this warning. Pass `AnnData(X, dtype=X.dtype, ...)` to get the future behavour.\n",
      "  super().__init__(*args, **kwargs)\n",
      "/PHShome/ssg34/.conda/envs/plswork/lib/python3.9/site-packages/anndata/_core/anndata.py:121: ImplicitModificationWarning: Transforming to str index.\n",
      "  warnings.warn(\"Transforming to str index.\", ImplicitModificationWarning)\n"
     ]
    },
    {
     "name": "stdout",
     "output_type": "stream",
     "text": [
      "qcd NAM not found; computing and saving\n",
      "\ttaking step 1\n",
      "\tmedian kurtosis: 11.043727199233018\n",
      "\t20th percentile R2(t,t-1): nan\n",
      "\ttaking step 2\n",
      "\tmedian kurtosis: 8.146373564762346\n",
      "\t20th percentile R2(t,t-1): 0.7939578413963317\n",
      "\ttaking step 3\n",
      "\tmedian kurtosis: 6.589556547746421\n",
      "\t20th percentile R2(t,t-1): 0.9295116901397705\n",
      "stopping after 3 steps\n",
      "covariate-adjusted NAM not found; computing and saving\n",
      "computing SVD\n",
      "performing association test\n"
     ]
    },
    {
     "name": "stderr",
     "output_type": "stream",
     "text": [
      "/PHShome/ssg34/.conda/envs/plswork/lib/python3.9/site-packages/cna/tools/_nam.py:79: UserWarning: only one unique batch supplied to qc\n",
      "  warnings.warn('only one unique batch supplied to qc')\n",
      "/PHShome/ssg34/.conda/envs/plswork/lib/python3.9/site-packages/cna/tools/_nam.py:101: UserWarning: only one unique batch supplied to prep\n",
      "  warnings.warn('only one unique batch supplied to prep')\n"
     ]
    },
    {
     "name": "stdout",
     "output_type": "stream",
     "text": [
      "computing neighborhood-level FDRs\n",
      "10\n",
      "[1, 2, 3, 4, 5, 6, 7, 8, 9, 10, 11, 12, 13, 14, 15, 16, 17, 18, 19, 20]\n",
      "p = 0.0033996600339966003 , 10 PCs used\n",
      "total r^2 between top 10 NAM PCs and outcome is 0.63\n"
     ]
    }
   ],
   "source": [
    "res = cna_test(meta, harmony, umap, 'First_biop')\n",
    "univariate_res = pd.concat([univariate_res,\n",
    "                            pd.DataFrame(['First Biopsy Status', 'snRNAseq', res.p],\n",
    "                            index = ['Variable', 'Technology', 'global_pvalue']).T])"
   ]
  },
  {
   "cell_type": "markdown",
   "id": "7a5eb84a-91c7-4f47-a57f-b5a77fa711e8",
   "metadata": {},
   "source": [
    "# PREDNISONE USE"
   ]
  },
  {
   "cell_type": "markdown",
   "id": "692fe205-c8d4-4839-8f77-0181eec4475b",
   "metadata": {},
   "source": [
    "## Single Cell"
   ]
  },
  {
   "cell_type": "code",
   "execution_count": 15,
   "id": "f34f6142-dbe4-4912-841f-7b10714a3ddb",
   "metadata": {},
   "outputs": [
    {
     "name": "stdout",
     "output_type": "stream",
     "text": [
      "(71120, 39)\n"
     ]
    }
   ],
   "source": [
    "meta = pd.read_csv('/data/srlab/ssg34/SLE_kidney_v2/data/cna_new/downsampled_tissue/prednisone_use/sc_meta.csv')\n",
    "print(meta.shape)"
   ]
  },
  {
   "cell_type": "code",
   "execution_count": 16,
   "id": "7e08a515-b357-4c1c-9900-c35b71906557",
   "metadata": {},
   "outputs": [
    {
     "name": "stdout",
     "output_type": "stream",
     "text": [
      "(71120, 20)\n"
     ]
    }
   ],
   "source": [
    "harmony = pd.read_csv('/data/srlab/ssg34/SLE_kidney_v2/data/cna_new/downsampled_tissue/prednisone_use/sc_harmony.csv')\n",
    "print(harmony.shape)"
   ]
  },
  {
   "cell_type": "code",
   "execution_count": 17,
   "id": "31d29b0d-d193-4824-8e2c-45abc1fcca9b",
   "metadata": {},
   "outputs": [
    {
     "name": "stdout",
     "output_type": "stream",
     "text": [
      "(71120, 2)\n"
     ]
    }
   ],
   "source": [
    "umap = pd.read_csv('/data/srlab/ssg34/SLE_kidney_v2/data/cna_new/downsampled_tissue/prednisone_use/sc_umap.csv')\n",
    "print(umap.shape)"
   ]
  },
  {
   "cell_type": "code",
   "execution_count": 19,
   "id": "45e8ea19-aaf2-41fa-9c30-033823007c3e",
   "metadata": {},
   "outputs": [
    {
     "name": "stdout",
     "output_type": "stream",
     "text": [
      "(71120, 39)\n",
      "(71120, 20)\n",
      "(71120, 2)\n",
      "warning: the following columns of obs are non-numeric.\n",
      "['cell' 'sample' 'cell.type' 'Responder.Status' 'Race' 'Type' 'Final_ISN'\n",
      " 'Final_Site']\n",
      "consider casting to numeric types where appropriate, and\n",
      "consider re-coding text-valued columns with pandas.get_dummies\n",
      "computing default knn graph\n"
     ]
    },
    {
     "name": "stderr",
     "output_type": "stream",
     "text": [
      "/PHShome/ssg34/.conda/envs/plswork/lib/python3.9/site-packages/multianndata/core.py:17: FutureWarning: X.dtype being converted to np.float32 from float64. In the next version of anndata (0.9) conversion will not be automatic. Pass dtype explicitly to avoid this warning. Pass `AnnData(X, dtype=X.dtype, ...)` to get the future behavour.\n",
      "  super().__init__(*args, **kwargs)\n",
      "/PHShome/ssg34/.conda/envs/plswork/lib/python3.9/site-packages/anndata/_core/anndata.py:121: ImplicitModificationWarning: Transforming to str index.\n",
      "  warnings.warn(\"Transforming to str index.\", ImplicitModificationWarning)\n"
     ]
    },
    {
     "name": "stdout",
     "output_type": "stream",
     "text": [
      "qcd NAM not found; computing and saving\n",
      "\ttaking step 1\n",
      "\tmedian kurtosis: 42.821128845214844\n",
      "\t20th percentile R2(t,t-1): nan\n",
      "\ttaking step 2\n",
      "\tmedian kurtosis: 28.430946350097656\n",
      "\t20th percentile R2(t,t-1): 0.7792342305183411\n",
      "\ttaking step 3\n",
      "\tmedian kurtosis: 19.353656768798828\n",
      "\t20th percentile R2(t,t-1): 0.9228097796440125\n",
      "\ttaking step 4\n",
      "\tmedian kurtosis: 14.69758415222168\n",
      "\t20th percentile R2(t,t-1): 0.9582582116127014\n",
      "\ttaking step 5\n",
      "\tmedian kurtosis: 12.140487670898438\n",
      "\t20th percentile R2(t,t-1): 0.9747512340545654\n",
      "stopping after 5 steps\n",
      "covariate-adjusted NAM not found; computing and saving\n"
     ]
    },
    {
     "name": "stderr",
     "output_type": "stream",
     "text": [
      "/PHShome/ssg34/.conda/envs/plswork/lib/python3.9/site-packages/cna/tools/_nam.py:79: UserWarning: only one unique batch supplied to qc\n",
      "  warnings.warn('only one unique batch supplied to qc')\n",
      "/PHShome/ssg34/.conda/envs/plswork/lib/python3.9/site-packages/cna/tools/_nam.py:101: UserWarning: only one unique batch supplied to prep\n",
      "  warnings.warn('only one unique batch supplied to prep')\n"
     ]
    },
    {
     "name": "stdout",
     "output_type": "stream",
     "text": [
      "computing SVD\n",
      "performing association test\n",
      "computing neighborhood-level FDRs\n",
      "8\n",
      "[1, 2, 3, 4, 5, 6, 7, 8, 9, 10, 11, 12, 13, 14, 15, 16, 17, 18, 19, 20]\n",
      "p = 0.20037996200379962 , 8 PCs used\n",
      "total r^2 between top 8 NAM PCs and outcome is 0.10\n"
     ]
    }
   ],
   "source": [
    "res = cna_test(meta, harmony, umap, 'Pred_use')\n",
    "univariate_res = pd.concat([univariate_res,\n",
    "                            pd.DataFrame(['Prednisone Use', 'scRNAseq', res.p],\n",
    "                            index = ['Variable', 'Technology', 'global_pvalue']).T])"
   ]
  },
  {
   "cell_type": "markdown",
   "id": "b86d529a-50e4-49c5-a211-f821f3761f25",
   "metadata": {},
   "source": [
    "## Single Nuclear"
   ]
  },
  {
   "cell_type": "code",
   "execution_count": 20,
   "id": "593d4303-bcda-4bff-817e-a2069ca6eb40",
   "metadata": {},
   "outputs": [
    {
     "name": "stdout",
     "output_type": "stream",
     "text": [
      "(18660, 33)\n"
     ]
    }
   ],
   "source": [
    "meta = pd.read_csv('/data/srlab/ssg34/SLE_kidney_v2/data/cna_new/downsampled_tissue/prednisone_use/sn_meta.csv')\n",
    "print(meta.shape)"
   ]
  },
  {
   "cell_type": "code",
   "execution_count": 22,
   "id": "27158c10-453e-4a27-bb2b-593257df3c88",
   "metadata": {},
   "outputs": [
    {
     "name": "stdout",
     "output_type": "stream",
     "text": [
      "(18660, 20)\n"
     ]
    }
   ],
   "source": [
    "harmony = pd.read_csv('/data/srlab/ssg34/SLE_kidney_v2/data/cna_new/downsampled_tissue/prednisone_use/sn_harmony.csv')\n",
    "print(harmony.shape)"
   ]
  },
  {
   "cell_type": "code",
   "execution_count": 23,
   "id": "7e60e415-f334-428b-89c7-296008275c70",
   "metadata": {},
   "outputs": [
    {
     "name": "stdout",
     "output_type": "stream",
     "text": [
      "(18660, 2)\n"
     ]
    }
   ],
   "source": [
    "umap = pd.read_csv('/data/srlab/ssg34/SLE_kidney_v2/data/cna_new/downsampled_tissue/prednisone_use/sn_umap.csv')\n",
    "print(umap.shape)"
   ]
  },
  {
   "cell_type": "code",
   "execution_count": 24,
   "id": "1c072df1-66f2-4ad7-b30a-4da0ca1faf77",
   "metadata": {},
   "outputs": [
    {
     "name": "stdout",
     "output_type": "stream",
     "text": [
      "(18660, 33)\n",
      "(18660, 20)\n",
      "(18660, 2)\n",
      "warning: the following columns of obs are non-numeric.\n",
      "['cell' 'sample' 'cell.type' 'Responder.Status' 'Race' 'Type' 'Final_ISN'\n",
      " 'Final_Site']\n",
      "consider casting to numeric types where appropriate, and\n",
      "consider re-coding text-valued columns with pandas.get_dummies\n",
      "computing default knn graph\n"
     ]
    },
    {
     "name": "stderr",
     "output_type": "stream",
     "text": [
      "/PHShome/ssg34/.conda/envs/plswork/lib/python3.9/site-packages/multianndata/core.py:17: FutureWarning: X.dtype being converted to np.float32 from float64. In the next version of anndata (0.9) conversion will not be automatic. Pass dtype explicitly to avoid this warning. Pass `AnnData(X, dtype=X.dtype, ...)` to get the future behavour.\n",
      "  super().__init__(*args, **kwargs)\n",
      "/PHShome/ssg34/.conda/envs/plswork/lib/python3.9/site-packages/anndata/_core/anndata.py:121: ImplicitModificationWarning: Transforming to str index.\n",
      "  warnings.warn(\"Transforming to str index.\", ImplicitModificationWarning)\n"
     ]
    },
    {
     "name": "stdout",
     "output_type": "stream",
     "text": [
      "qcd NAM not found; computing and saving\n",
      "\ttaking step 1\n",
      "\tmedian kurtosis: 11.043727199233018\n",
      "\t20th percentile R2(t,t-1): nan\n",
      "\ttaking step 2\n",
      "\tmedian kurtosis: 8.146373564762346\n",
      "\t20th percentile R2(t,t-1): 0.7939578413963317\n",
      "\ttaking step 3\n",
      "\tmedian kurtosis: 6.589556547746421\n",
      "\t20th percentile R2(t,t-1): 0.9295116901397705\n",
      "stopping after 3 steps\n",
      "covariate-adjusted NAM not found; computing and saving\n",
      "computing SVD\n",
      "performing association test\n"
     ]
    },
    {
     "name": "stderr",
     "output_type": "stream",
     "text": [
      "/PHShome/ssg34/.conda/envs/plswork/lib/python3.9/site-packages/cna/tools/_nam.py:79: UserWarning: only one unique batch supplied to qc\n",
      "  warnings.warn('only one unique batch supplied to qc')\n",
      "/PHShome/ssg34/.conda/envs/plswork/lib/python3.9/site-packages/cna/tools/_nam.py:101: UserWarning: only one unique batch supplied to prep\n",
      "  warnings.warn('only one unique batch supplied to prep')\n"
     ]
    },
    {
     "name": "stdout",
     "output_type": "stream",
     "text": [
      "computing neighborhood-level FDRs\n",
      "13\n",
      "[1, 2, 3, 4, 5, 6, 7, 8, 9, 10, 11, 12, 13, 14, 15, 16, 17, 18, 19, 20]\n",
      "p = 0.7112288771122888 , 13 PCs used\n",
      "total r^2 between top 13 NAM PCs and outcome is 0.37\n"
     ]
    }
   ],
   "source": [
    "res = cna_test(meta, harmony, umap, 'Pred_use')\n",
    "univariate_res = pd.concat([univariate_res,\n",
    "                            pd.DataFrame(['Prednisone Use', 'snRNAseq', res.p],\n",
    "                            index = ['Variable', 'Technology', 'global_pvalue']).T])"
   ]
  },
  {
   "cell_type": "code",
   "execution_count": 25,
   "id": "f9735273-67cb-4be7-9e58-321f4bc3043a",
   "metadata": {},
   "outputs": [],
   "source": [
    "univariate_res.to_csv(\"/data/srlab/ssg34/SLE_kidney_v2/data/cna_new/downsampled_tissue/univariate_results.csv\",\n",
    "                      index = False)"
   ]
  }
 ],
 "metadata": {
  "kernelspec": {
   "display_name": "Python 3 (ipykernel)",
   "language": "python",
   "name": "python3"
  },
  "language_info": {
   "codemirror_mode": {
    "name": "ipython",
    "version": 3
   },
   "file_extension": ".py",
   "mimetype": "text/x-python",
   "name": "python",
   "nbconvert_exporter": "python",
   "pygments_lexer": "ipython3",
   "version": "3.9.13"
  }
 },
 "nbformat": 4,
 "nbformat_minor": 5
}
