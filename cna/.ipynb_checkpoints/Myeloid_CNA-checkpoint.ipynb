{
 "cells": [
  {
   "cell_type": "code",
   "execution_count": 3,
   "id": "a9876c39-1c97-4748-92e8-af9e81add1dd",
   "metadata": {},
   "outputs": [],
   "source": [
    "import scanpy as sc\n",
    "import numpy as np\n",
    "import pandas as pd\n",
    "import matplotlib.pyplot as plt\n",
    "import scipy.stats as st\n",
    "import cna\n",
    "import multianndata as mad\n",
    "\n",
    "# For Aparna's Import\n",
    "import scipy.io\n",
    "\n",
    "# For reproducibility\n",
    "np.random.seed(0) "
   ]
  },
  {
   "cell_type": "code",
   "execution_count": 3,
   "id": "658f6e80-448d-43cd-85f9-3fcbcfc83271",
   "metadata": {},
   "outputs": [],
   "source": [
    "sc_uni = dict()"
   ]
  },
  {
   "cell_type": "code",
   "execution_count": 45,
   "id": "569e00c6-79fe-4aee-938e-ede2d5d0eb78",
   "metadata": {},
   "outputs": [],
   "source": [
    "sc_cond = dict()"
   ]
  },
  {
   "cell_type": "markdown",
   "id": "c07ebff1-02a8-4c88-8cbd-ee82aa945069",
   "metadata": {},
   "source": [
    "# AGE"
   ]
  },
  {
   "cell_type": "markdown",
   "id": "e241c78c-2eff-4cc7-bf81-abf4dc2c170c",
   "metadata": {},
   "source": [
    "## Single Cell"
   ]
  },
  {
   "cell_type": "code",
   "execution_count": 2,
   "id": "da50b149-0bbd-4311-8f02-5fb8789efd2a",
   "metadata": {},
   "outputs": [
    {
     "ename": "NameError",
     "evalue": "name 'pd' is not defined",
     "output_type": "error",
     "traceback": [
      "\u001b[0;31m---------------------------------------------------------------------------\u001b[0m",
      "\u001b[0;31mNameError\u001b[0m                                 Traceback (most recent call last)",
      "Input \u001b[0;32mIn [2]\u001b[0m, in \u001b[0;36m<cell line: 1>\u001b[0;34m()\u001b[0m\n\u001b[0;32m----> 1\u001b[0m meta \u001b[38;5;241m=\u001b[39m \u001b[43mpd\u001b[49m\u001b[38;5;241m.\u001b[39mread_csv(\u001b[38;5;124m'\u001b[39m\u001b[38;5;124m/data/srlab/ssg34/SLE_kidney_v2/data/cna_new/myeloid/age_sex_response_race/sc_meta_age.csv\u001b[39m\u001b[38;5;124m'\u001b[39m)\n\u001b[1;32m      2\u001b[0m \u001b[38;5;28mprint\u001b[39m(meta\u001b[38;5;241m.\u001b[39mshape)\n",
      "\u001b[0;31mNameError\u001b[0m: name 'pd' is not defined"
     ]
    }
   ],
   "source": [
    "meta = pd.read_csv('/data/srlab/ssg34/SLE_kidney_v2/data/cna_new/myeloid/age_sex_response_race/sc_meta_age.csv')\n",
    "print(meta.shape)"
   ]
  },
  {
   "cell_type": "code",
   "execution_count": 6,
   "id": "83686a84-24f3-40ba-afd5-c16c4f74f34a",
   "metadata": {},
   "outputs": [
    {
     "name": "stdout",
     "output_type": "stream",
     "text": [
      "(23491, 20)\n"
     ]
    }
   ],
   "source": [
    "harmony = pd.read_csv('/data/srlab/ssg34/SLE_kidney_v2/data/cna_new/myeloid/age_sex_response_race/sc_harmony_age.csv')\n",
    "print(harmony.shape)"
   ]
  },
  {
   "cell_type": "code",
   "execution_count": 7,
   "id": "1e00cd95-34e3-4542-81ed-4797fa3da833",
   "metadata": {},
   "outputs": [
    {
     "name": "stdout",
     "output_type": "stream",
     "text": [
      "(23491, 2)\n"
     ]
    }
   ],
   "source": [
    "umap = pd.read_csv('/data/srlab/ssg34/SLE_kidney_v2/data/cna_new/myeloid/age_sex_response_race/sc_umap_age.csv')\n",
    "print(umap.shape)"
   ]
  },
  {
   "cell_type": "code",
   "execution_count": 9,
   "id": "653f0241-376b-4819-b6fc-f44e492f1d5f",
   "metadata": {},
   "outputs": [
    {
     "name": "stdout",
     "output_type": "stream",
     "text": [
      "warning: the following columns of obs are non-numeric.\n",
      "['cell' 'sample' 'final_annotation' 'Responder.Status' 'Race' 'Final_ISN'\n",
      " 'Type' 'Final_Site']\n",
      "consider casting to numeric types where appropriate, and\n",
      "consider re-coding text-valued columns with pandas.get_dummies\n"
     ]
    },
    {
     "name": "stderr",
     "output_type": "stream",
     "text": [
      "/PHShome/ssg34/.conda/envs/plswork/lib/python3.9/site-packages/multianndata/core.py:17: FutureWarning: X.dtype being converted to np.float32 from float64. In the next version of anndata (0.9) conversion will not be automatic. Pass dtype explicitly to avoid this warning. Pass `AnnData(X, dtype=X.dtype, ...)` to get the future behavour.\n",
      "  super().__init__(*args, **kwargs)\n",
      "/PHShome/ssg34/.conda/envs/plswork/lib/python3.9/site-packages/anndata/_core/anndata.py:121: ImplicitModificationWarning: Transforming to str index.\n",
      "  warnings.warn(\"Transforming to str index.\", ImplicitModificationWarning)\n"
     ]
    },
    {
     "data": {
      "text/html": [
       "<div>\n",
       "<style scoped>\n",
       "    .dataframe tbody tr th:only-of-type {\n",
       "        vertical-align: middle;\n",
       "    }\n",
       "\n",
       "    .dataframe tbody tr th {\n",
       "        vertical-align: top;\n",
       "    }\n",
       "\n",
       "    .dataframe thead th {\n",
       "        text-align: right;\n",
       "    }\n",
       "</style>\n",
       "<table border=\"1\" class=\"dataframe\">\n",
       "  <thead>\n",
       "    <tr style=\"text-align: right;\">\n",
       "      <th></th>\n",
       "      <th>Sex</th>\n",
       "      <th>Age</th>\n",
       "      <th>Final_Chronicity</th>\n",
       "      <th>Final_Activity</th>\n",
       "      <th>First_biop</th>\n",
       "      <th>Pred_use</th>\n",
       "      <th>Responder_Status</th>\n",
       "      <th>Race_[A]</th>\n",
       "      <th>Race_[A][B]</th>\n",
       "      <th>Race_[B]</th>\n",
       "      <th>...</th>\n",
       "      <th>Final_Site_JHU</th>\n",
       "      <th>Final_Site_Michigan</th>\n",
       "      <th>Final_Site_MUSC</th>\n",
       "      <th>Final_Site_Northwell</th>\n",
       "      <th>Final_Site_NYU</th>\n",
       "      <th>Final_Site_Rochester</th>\n",
       "      <th>Final_Site_Texas Tech</th>\n",
       "      <th>Final_Site_UCLA</th>\n",
       "      <th>Final_Site_UCSD</th>\n",
       "      <th>Final_Site_UCSF</th>\n",
       "    </tr>\n",
       "    <tr>\n",
       "      <th>sample</th>\n",
       "      <th></th>\n",
       "      <th></th>\n",
       "      <th></th>\n",
       "      <th></th>\n",
       "      <th></th>\n",
       "      <th></th>\n",
       "      <th></th>\n",
       "      <th></th>\n",
       "      <th></th>\n",
       "      <th></th>\n",
       "      <th></th>\n",
       "      <th></th>\n",
       "      <th></th>\n",
       "      <th></th>\n",
       "      <th></th>\n",
       "      <th></th>\n",
       "      <th></th>\n",
       "      <th></th>\n",
       "      <th></th>\n",
       "      <th></th>\n",
       "      <th></th>\n",
       "    </tr>\n",
       "  </thead>\n",
       "  <tbody>\n",
       "    <tr>\n",
       "      <th>AMPSLEkid_cells_0134</th>\n",
       "      <td>1.0</td>\n",
       "      <td>0.935974</td>\n",
       "      <td>6.0</td>\n",
       "      <td>4.0</td>\n",
       "      <td>0.0</td>\n",
       "      <td>0.0</td>\n",
       "      <td>0.0</td>\n",
       "      <td>1.0</td>\n",
       "      <td>0.0</td>\n",
       "      <td>0.0</td>\n",
       "      <td>...</td>\n",
       "      <td>0.0</td>\n",
       "      <td>0.0</td>\n",
       "      <td>0.0</td>\n",
       "      <td>0.0</td>\n",
       "      <td>0.0</td>\n",
       "      <td>1.0</td>\n",
       "      <td>0.0</td>\n",
       "      <td>0.0</td>\n",
       "      <td>0.0</td>\n",
       "      <td>0.0</td>\n",
       "    </tr>\n",
       "    <tr>\n",
       "      <th>AMPSLEkid_cells_0137</th>\n",
       "      <td>1.0</td>\n",
       "      <td>-0.010301</td>\n",
       "      <td>3.0</td>\n",
       "      <td>5.0</td>\n",
       "      <td>0.0</td>\n",
       "      <td>1.0</td>\n",
       "      <td>2.0</td>\n",
       "      <td>0.0</td>\n",
       "      <td>0.0</td>\n",
       "      <td>1.0</td>\n",
       "      <td>...</td>\n",
       "      <td>0.0</td>\n",
       "      <td>0.0</td>\n",
       "      <td>0.0</td>\n",
       "      <td>0.0</td>\n",
       "      <td>0.0</td>\n",
       "      <td>1.0</td>\n",
       "      <td>0.0</td>\n",
       "      <td>0.0</td>\n",
       "      <td>0.0</td>\n",
       "      <td>0.0</td>\n",
       "    </tr>\n",
       "    <tr>\n",
       "      <th>AMPSLEkid_cells_0138</th>\n",
       "      <td>1.0</td>\n",
       "      <td>0.505849</td>\n",
       "      <td>0.0</td>\n",
       "      <td>0.0</td>\n",
       "      <td>1.0</td>\n",
       "      <td>1.0</td>\n",
       "      <td>2.0</td>\n",
       "      <td>0.0</td>\n",
       "      <td>0.0</td>\n",
       "      <td>0.0</td>\n",
       "      <td>...</td>\n",
       "      <td>0.0</td>\n",
       "      <td>0.0</td>\n",
       "      <td>0.0</td>\n",
       "      <td>0.0</td>\n",
       "      <td>0.0</td>\n",
       "      <td>1.0</td>\n",
       "      <td>0.0</td>\n",
       "      <td>0.0</td>\n",
       "      <td>0.0</td>\n",
       "      <td>0.0</td>\n",
       "    </tr>\n",
       "    <tr>\n",
       "      <th>AMPSLEkid_cells_0139</th>\n",
       "      <td>1.0</td>\n",
       "      <td>0.849949</td>\n",
       "      <td>3.0</td>\n",
       "      <td>2.0</td>\n",
       "      <td>0.0</td>\n",
       "      <td>1.0</td>\n",
       "      <td>2.0</td>\n",
       "      <td>0.0</td>\n",
       "      <td>0.0</td>\n",
       "      <td>1.0</td>\n",
       "      <td>...</td>\n",
       "      <td>0.0</td>\n",
       "      <td>0.0</td>\n",
       "      <td>0.0</td>\n",
       "      <td>0.0</td>\n",
       "      <td>0.0</td>\n",
       "      <td>1.0</td>\n",
       "      <td>0.0</td>\n",
       "      <td>0.0</td>\n",
       "      <td>0.0</td>\n",
       "      <td>0.0</td>\n",
       "    </tr>\n",
       "    <tr>\n",
       "      <th>AMPSLEkid_cells_0140</th>\n",
       "      <td>1.0</td>\n",
       "      <td>-0.784527</td>\n",
       "      <td>1.0</td>\n",
       "      <td>1.0</td>\n",
       "      <td>1.0</td>\n",
       "      <td>0.0</td>\n",
       "      <td>0.0</td>\n",
       "      <td>0.0</td>\n",
       "      <td>0.0</td>\n",
       "      <td>1.0</td>\n",
       "      <td>...</td>\n",
       "      <td>0.0</td>\n",
       "      <td>0.0</td>\n",
       "      <td>0.0</td>\n",
       "      <td>0.0</td>\n",
       "      <td>0.0</td>\n",
       "      <td>1.0</td>\n",
       "      <td>0.0</td>\n",
       "      <td>0.0</td>\n",
       "      <td>0.0</td>\n",
       "      <td>0.0</td>\n",
       "    </tr>\n",
       "  </tbody>\n",
       "</table>\n",
       "<p>5 rows × 31 columns</p>\n",
       "</div>"
      ],
      "text/plain": [
       "                      Sex       Age  Final_Chronicity  Final_Activity  \\\n",
       "sample                                                                  \n",
       "AMPSLEkid_cells_0134  1.0  0.935974               6.0             4.0   \n",
       "AMPSLEkid_cells_0137  1.0 -0.010301               3.0             5.0   \n",
       "AMPSLEkid_cells_0138  1.0  0.505849               0.0             0.0   \n",
       "AMPSLEkid_cells_0139  1.0  0.849949               3.0             2.0   \n",
       "AMPSLEkid_cells_0140  1.0 -0.784527               1.0             1.0   \n",
       "\n",
       "                      First_biop  Pred_use  Responder_Status  Race_[A]  \\\n",
       "sample                                                                   \n",
       "AMPSLEkid_cells_0134         0.0       0.0               0.0       1.0   \n",
       "AMPSLEkid_cells_0137         0.0       1.0               2.0       0.0   \n",
       "AMPSLEkid_cells_0138         1.0       1.0               2.0       0.0   \n",
       "AMPSLEkid_cells_0139         0.0       1.0               2.0       0.0   \n",
       "AMPSLEkid_cells_0140         1.0       0.0               0.0       0.0   \n",
       "\n",
       "                      Race_[A][B]  Race_[B]  ...  Final_Site_JHU  \\\n",
       "sample                                       ...                   \n",
       "AMPSLEkid_cells_0134          0.0       0.0  ...             0.0   \n",
       "AMPSLEkid_cells_0137          0.0       1.0  ...             0.0   \n",
       "AMPSLEkid_cells_0138          0.0       0.0  ...             0.0   \n",
       "AMPSLEkid_cells_0139          0.0       1.0  ...             0.0   \n",
       "AMPSLEkid_cells_0140          0.0       1.0  ...             0.0   \n",
       "\n",
       "                      Final_Site_Michigan  Final_Site_MUSC  \\\n",
       "sample                                                       \n",
       "AMPSLEkid_cells_0134                  0.0              0.0   \n",
       "AMPSLEkid_cells_0137                  0.0              0.0   \n",
       "AMPSLEkid_cells_0138                  0.0              0.0   \n",
       "AMPSLEkid_cells_0139                  0.0              0.0   \n",
       "AMPSLEkid_cells_0140                  0.0              0.0   \n",
       "\n",
       "                      Final_Site_Northwell  Final_Site_NYU  \\\n",
       "sample                                                       \n",
       "AMPSLEkid_cells_0134                   0.0             0.0   \n",
       "AMPSLEkid_cells_0137                   0.0             0.0   \n",
       "AMPSLEkid_cells_0138                   0.0             0.0   \n",
       "AMPSLEkid_cells_0139                   0.0             0.0   \n",
       "AMPSLEkid_cells_0140                   0.0             0.0   \n",
       "\n",
       "                      Final_Site_Rochester  Final_Site_Texas Tech  \\\n",
       "sample                                                              \n",
       "AMPSLEkid_cells_0134                   1.0                    0.0   \n",
       "AMPSLEkid_cells_0137                   1.0                    0.0   \n",
       "AMPSLEkid_cells_0138                   1.0                    0.0   \n",
       "AMPSLEkid_cells_0139                   1.0                    0.0   \n",
       "AMPSLEkid_cells_0140                   1.0                    0.0   \n",
       "\n",
       "                      Final_Site_UCLA  Final_Site_UCSD  Final_Site_UCSF  \n",
       "sample                                                                   \n",
       "AMPSLEkid_cells_0134              0.0              0.0              0.0  \n",
       "AMPSLEkid_cells_0137              0.0              0.0              0.0  \n",
       "AMPSLEkid_cells_0138              0.0              0.0              0.0  \n",
       "AMPSLEkid_cells_0139              0.0              0.0              0.0  \n",
       "AMPSLEkid_cells_0140              0.0              0.0              0.0  \n",
       "\n",
       "[5 rows x 31 columns]"
      ]
     },
     "execution_count": 9,
     "metadata": {},
     "output_type": "execute_result"
    }
   ],
   "source": [
    "# Start by making anndata object\n",
    "d = mad.MultiAnnData(X=harmony, obs=meta, sampleid=\"sample\")\n",
    "#d.obs_to_sample(['Type', 'Site',\n",
    "#                 'Responder_Status', 'Sex',\n",
    "#                 'Age', 'Race',\n",
    "#                'Ethnicity', 'ISN',\n",
    "#               'Activity', \"Chronicity\",\n",
    "#                 'processing_batch'])\n",
    "d.obs_to_sample(['Sex', 'Age', 'Final_Chronicity', 'Final_Activity', 'First_biop', 'Pred_use', 'Responder_Status', 'Race_[A]',\n",
    "       'Race_[A][B]', 'Race_[B]', 'Race_[B][AI]', 'Race_[B][W]', 'Race_[U]',\n",
    "       'Race_[W]', 'Final_ISN_[III]', 'Final_ISN_[III][V]', 'Final_ISN_[IV]',\n",
    "       'Final_ISN_[IV][V]', 'Final_ISN_[V]', 'Final_Site_Cincinnati',\n",
    "       'Final_Site_Einstein', 'Final_Site_JHU', 'Final_Site_Michigan',\n",
    "       'Final_Site_MUSC', 'Final_Site_Northwell', 'Final_Site_NYU',\n",
    "       'Final_Site_Rochester', 'Final_Site_Texas Tech', 'Final_Site_UCLA',\n",
    "       'Final_Site_UCSD', 'Final_Site_UCSF'])\n",
    "d.samplem.head()"
   ]
  },
  {
   "cell_type": "code",
   "execution_count": 10,
   "id": "c3638616-6a87-4e5f-8d08-b606b3286540",
   "metadata": {},
   "outputs": [],
   "source": [
    "umap.index = d.obs.index\n",
    "d.obsm['X_umap'] = umap"
   ]
  },
  {
   "cell_type": "code",
   "execution_count": 11,
   "id": "b4296e83-08dd-46dc-8224-81236a6c3a92",
   "metadata": {},
   "outputs": [
    {
     "name": "stdout",
     "output_type": "stream",
     "text": [
      "computing default knn graph\n"
     ]
    },
    {
     "name": "stderr",
     "output_type": "stream",
     "text": [
      "/PHShome/ssg34/.conda/envs/plswork/lib/python3.9/site-packages/tqdm/auto.py:22: TqdmWarning: IProgress not found. Please update jupyter and ipywidgets. See https://ipywidgets.readthedocs.io/en/stable/user_install.html\n",
      "  from .autonotebook import tqdm as notebook_tqdm\n"
     ]
    }
   ],
   "source": [
    "np.random.seed(0) \n",
    "cna.pp.knn(d)"
   ]
  },
  {
   "cell_type": "code",
   "execution_count": 12,
   "id": "f40fdf5e-cc29-40f0-848f-e4b502a44aca",
   "metadata": {},
   "outputs": [
    {
     "name": "stdout",
     "output_type": "stream",
     "text": [
      "qcd NAM not found; computing and saving\n",
      "\ttaking step 1\n",
      "\tmedian kurtosis: 51.37150192260742\n",
      "\t20th percentile R2(t,t-1): nan\n",
      "\ttaking step 2\n",
      "\tmedian kurtosis: 34.00757598876953\n",
      "\t20th percentile R2(t,t-1): 0.7737238287925721\n",
      "\ttaking step 3\n",
      "\tmedian kurtosis: 24.5955810546875\n",
      "\t20th percentile R2(t,t-1): 0.9182487368583679\n",
      "\ttaking step 4\n",
      "\tmedian kurtosis: 18.904521942138672\n",
      "\t20th percentile R2(t,t-1): 0.9531392097473145\n",
      "\ttaking step 5\n",
      "\tmedian kurtosis: 15.179661750793457\n",
      "\t20th percentile R2(t,t-1): 0.9696611166000366\n",
      "\ttaking step 6\n",
      "\tmedian kurtosis: 12.74237060546875\n",
      "\t20th percentile R2(t,t-1): 0.9801829218864441\n",
      "stopping after 6 steps\n",
      "covariate-adjusted NAM not found; computing and saving\n",
      "computing SVD\n"
     ]
    },
    {
     "name": "stderr",
     "output_type": "stream",
     "text": [
      "/PHShome/ssg34/.conda/envs/plswork/lib/python3.9/site-packages/cna/tools/_nam.py:79: UserWarning: only one unique batch supplied to qc\n",
      "  warnings.warn('only one unique batch supplied to qc')\n",
      "/PHShome/ssg34/.conda/envs/plswork/lib/python3.9/site-packages/cna/tools/_nam.py:101: UserWarning: only one unique batch supplied to prep\n",
      "  warnings.warn('only one unique batch supplied to prep')\n"
     ]
    },
    {
     "name": "stdout",
     "output_type": "stream",
     "text": [
      "performing association test\n",
      "computing neighborhood-level FDRs\n",
      "1\n",
      "[1, 2, 3, 4, 5, 6, 7, 8, 9, 10, 11, 12, 13, 14, 15, 16, 17, 18, 19, 20]\n",
      "p = 0.33566643335666435 , 1 PCs used\n",
      "total r^2 between top 1 NAM PCs and outcome is 0.02\n"
     ]
    }
   ],
   "source": [
    "np.random.seed(0) \n",
    "res = cna.tl._association.association(d, #dataset \n",
    "                                      d.samplem.Age, #phenotype\n",
    "#                                       batches=d.samplem.processing_batch, #batches\n",
    "                                      Nnull=10000, # number of null permutations to do (defaults to only 1e3)\n",
    "                                      ks=[1,2,3,4,5,6,7,8,9,10,11,12,13,14,15,16,17,18,19,20] # I asked the method to consider up to 10 PCs because\n",
    "                                                                #it chose the max number of PCs it considered the default set of [1,2,3,4]\n",
    "                                     )\n",
    "print(res.k)\n",
    "print(res.ks)\n",
    "print('p =', res.p, ',', res.k, 'PCs used')\n",
    "print('total r^2 between top {} NAM PCs and outcome is {:.2f}'.format(res.k, res.r2))"
   ]
  },
  {
   "cell_type": "code",
   "execution_count": 13,
   "id": "22a74db8-f6c0-47f9-98e7-56f6982709cc",
   "metadata": {},
   "outputs": [],
   "source": [
    "sc_uni['Age'] = res.p"
   ]
  },
  {
   "cell_type": "markdown",
   "id": "a7f5edf2-de5a-474d-9bc7-88dfac0e286a",
   "metadata": {},
   "source": [
    "# SEX"
   ]
  },
  {
   "cell_type": "markdown",
   "id": "cb734553-9067-4b72-96f9-0c4ac3855a8b",
   "metadata": {},
   "source": [
    "## Single Cell"
   ]
  },
  {
   "cell_type": "code",
   "execution_count": 14,
   "id": "2b7863fd-600f-4db5-9d15-d444e888d8ad",
   "metadata": {},
   "outputs": [
    {
     "name": "stdout",
     "output_type": "stream",
     "text": [
      "(23491, 39)\n"
     ]
    }
   ],
   "source": [
    "meta = pd.read_csv('/data/srlab/ssg34/SLE_kidney_v2/data/cna_new/myeloid/age_sex_response_race/sc_meta_sex.csv')\n",
    "print(meta.shape)"
   ]
  },
  {
   "cell_type": "code",
   "execution_count": 15,
   "id": "3e057a08-6b0d-4ed4-a521-2e27d55d6cc6",
   "metadata": {},
   "outputs": [
    {
     "name": "stdout",
     "output_type": "stream",
     "text": [
      "(23491, 20)\n"
     ]
    }
   ],
   "source": [
    "harmony = pd.read_csv('/data/srlab/ssg34/SLE_kidney_v2/data/cna_new/myeloid/age_sex_response_race/sc_harmony_sex.csv')\n",
    "print(harmony.shape)"
   ]
  },
  {
   "cell_type": "code",
   "execution_count": 16,
   "id": "b2ba0e09-cbfb-4fa8-9b9d-aacb33c57a64",
   "metadata": {},
   "outputs": [
    {
     "name": "stdout",
     "output_type": "stream",
     "text": [
      "(23491, 2)\n"
     ]
    }
   ],
   "source": [
    "umap = pd.read_csv('/data/srlab/ssg34/SLE_kidney_v2/data/cna_new/myeloid/age_sex_response_race/sc_umap_sex.csv')\n",
    "print(umap.shape)"
   ]
  },
  {
   "cell_type": "code",
   "execution_count": 17,
   "id": "35c39910-c295-42ee-994a-a2e895d1c708",
   "metadata": {},
   "outputs": [
    {
     "name": "stdout",
     "output_type": "stream",
     "text": [
      "warning: the following columns of obs are non-numeric.\n",
      "['cell' 'sample' 'final_annotation' 'Responder.Status' 'Race' 'Final_ISN'\n",
      " 'Type' 'Final_Site']\n",
      "consider casting to numeric types where appropriate, and\n",
      "consider re-coding text-valued columns with pandas.get_dummies\n"
     ]
    },
    {
     "name": "stderr",
     "output_type": "stream",
     "text": [
      "/PHShome/ssg34/.conda/envs/plswork/lib/python3.9/site-packages/multianndata/core.py:17: FutureWarning: X.dtype being converted to np.float32 from float64. In the next version of anndata (0.9) conversion will not be automatic. Pass dtype explicitly to avoid this warning. Pass `AnnData(X, dtype=X.dtype, ...)` to get the future behavour.\n",
      "  super().__init__(*args, **kwargs)\n",
      "/PHShome/ssg34/.conda/envs/plswork/lib/python3.9/site-packages/anndata/_core/anndata.py:121: ImplicitModificationWarning: Transforming to str index.\n",
      "  warnings.warn(\"Transforming to str index.\", ImplicitModificationWarning)\n"
     ]
    },
    {
     "data": {
      "text/html": [
       "<div>\n",
       "<style scoped>\n",
       "    .dataframe tbody tr th:only-of-type {\n",
       "        vertical-align: middle;\n",
       "    }\n",
       "\n",
       "    .dataframe tbody tr th {\n",
       "        vertical-align: top;\n",
       "    }\n",
       "\n",
       "    .dataframe thead th {\n",
       "        text-align: right;\n",
       "    }\n",
       "</style>\n",
       "<table border=\"1\" class=\"dataframe\">\n",
       "  <thead>\n",
       "    <tr style=\"text-align: right;\">\n",
       "      <th></th>\n",
       "      <th>Sex</th>\n",
       "      <th>Age</th>\n",
       "      <th>Final_Chronicity</th>\n",
       "      <th>Final_Activity</th>\n",
       "      <th>First_biop</th>\n",
       "      <th>Pred_use</th>\n",
       "      <th>Responder_Status</th>\n",
       "      <th>Race_[A]</th>\n",
       "      <th>Race_[A][B]</th>\n",
       "      <th>Race_[B]</th>\n",
       "      <th>...</th>\n",
       "      <th>Final_Site_JHU</th>\n",
       "      <th>Final_Site_Michigan</th>\n",
       "      <th>Final_Site_MUSC</th>\n",
       "      <th>Final_Site_Northwell</th>\n",
       "      <th>Final_Site_NYU</th>\n",
       "      <th>Final_Site_Rochester</th>\n",
       "      <th>Final_Site_Texas Tech</th>\n",
       "      <th>Final_Site_UCLA</th>\n",
       "      <th>Final_Site_UCSD</th>\n",
       "      <th>Final_Site_UCSF</th>\n",
       "    </tr>\n",
       "    <tr>\n",
       "      <th>sample</th>\n",
       "      <th></th>\n",
       "      <th></th>\n",
       "      <th></th>\n",
       "      <th></th>\n",
       "      <th></th>\n",
       "      <th></th>\n",
       "      <th></th>\n",
       "      <th></th>\n",
       "      <th></th>\n",
       "      <th></th>\n",
       "      <th></th>\n",
       "      <th></th>\n",
       "      <th></th>\n",
       "      <th></th>\n",
       "      <th></th>\n",
       "      <th></th>\n",
       "      <th></th>\n",
       "      <th></th>\n",
       "      <th></th>\n",
       "      <th></th>\n",
       "      <th></th>\n",
       "    </tr>\n",
       "  </thead>\n",
       "  <tbody>\n",
       "    <tr>\n",
       "      <th>AMPSLEkid_cells_0134</th>\n",
       "      <td>1.0</td>\n",
       "      <td>0.935974</td>\n",
       "      <td>6.0</td>\n",
       "      <td>4.0</td>\n",
       "      <td>0.0</td>\n",
       "      <td>0.0</td>\n",
       "      <td>0.0</td>\n",
       "      <td>1.0</td>\n",
       "      <td>0.0</td>\n",
       "      <td>0.0</td>\n",
       "      <td>...</td>\n",
       "      <td>0.0</td>\n",
       "      <td>0.0</td>\n",
       "      <td>0.0</td>\n",
       "      <td>0.0</td>\n",
       "      <td>0.0</td>\n",
       "      <td>1.0</td>\n",
       "      <td>0.0</td>\n",
       "      <td>0.0</td>\n",
       "      <td>0.0</td>\n",
       "      <td>0.0</td>\n",
       "    </tr>\n",
       "    <tr>\n",
       "      <th>AMPSLEkid_cells_0137</th>\n",
       "      <td>1.0</td>\n",
       "      <td>-0.010301</td>\n",
       "      <td>3.0</td>\n",
       "      <td>5.0</td>\n",
       "      <td>0.0</td>\n",
       "      <td>1.0</td>\n",
       "      <td>2.0</td>\n",
       "      <td>0.0</td>\n",
       "      <td>0.0</td>\n",
       "      <td>1.0</td>\n",
       "      <td>...</td>\n",
       "      <td>0.0</td>\n",
       "      <td>0.0</td>\n",
       "      <td>0.0</td>\n",
       "      <td>0.0</td>\n",
       "      <td>0.0</td>\n",
       "      <td>1.0</td>\n",
       "      <td>0.0</td>\n",
       "      <td>0.0</td>\n",
       "      <td>0.0</td>\n",
       "      <td>0.0</td>\n",
       "    </tr>\n",
       "    <tr>\n",
       "      <th>AMPSLEkid_cells_0138</th>\n",
       "      <td>1.0</td>\n",
       "      <td>0.505849</td>\n",
       "      <td>0.0</td>\n",
       "      <td>0.0</td>\n",
       "      <td>1.0</td>\n",
       "      <td>1.0</td>\n",
       "      <td>2.0</td>\n",
       "      <td>0.0</td>\n",
       "      <td>0.0</td>\n",
       "      <td>0.0</td>\n",
       "      <td>...</td>\n",
       "      <td>0.0</td>\n",
       "      <td>0.0</td>\n",
       "      <td>0.0</td>\n",
       "      <td>0.0</td>\n",
       "      <td>0.0</td>\n",
       "      <td>1.0</td>\n",
       "      <td>0.0</td>\n",
       "      <td>0.0</td>\n",
       "      <td>0.0</td>\n",
       "      <td>0.0</td>\n",
       "    </tr>\n",
       "    <tr>\n",
       "      <th>AMPSLEkid_cells_0139</th>\n",
       "      <td>1.0</td>\n",
       "      <td>0.849949</td>\n",
       "      <td>3.0</td>\n",
       "      <td>2.0</td>\n",
       "      <td>0.0</td>\n",
       "      <td>1.0</td>\n",
       "      <td>2.0</td>\n",
       "      <td>0.0</td>\n",
       "      <td>0.0</td>\n",
       "      <td>1.0</td>\n",
       "      <td>...</td>\n",
       "      <td>0.0</td>\n",
       "      <td>0.0</td>\n",
       "      <td>0.0</td>\n",
       "      <td>0.0</td>\n",
       "      <td>0.0</td>\n",
       "      <td>1.0</td>\n",
       "      <td>0.0</td>\n",
       "      <td>0.0</td>\n",
       "      <td>0.0</td>\n",
       "      <td>0.0</td>\n",
       "    </tr>\n",
       "    <tr>\n",
       "      <th>AMPSLEkid_cells_0140</th>\n",
       "      <td>1.0</td>\n",
       "      <td>-0.784527</td>\n",
       "      <td>1.0</td>\n",
       "      <td>1.0</td>\n",
       "      <td>1.0</td>\n",
       "      <td>0.0</td>\n",
       "      <td>0.0</td>\n",
       "      <td>0.0</td>\n",
       "      <td>0.0</td>\n",
       "      <td>1.0</td>\n",
       "      <td>...</td>\n",
       "      <td>0.0</td>\n",
       "      <td>0.0</td>\n",
       "      <td>0.0</td>\n",
       "      <td>0.0</td>\n",
       "      <td>0.0</td>\n",
       "      <td>1.0</td>\n",
       "      <td>0.0</td>\n",
       "      <td>0.0</td>\n",
       "      <td>0.0</td>\n",
       "      <td>0.0</td>\n",
       "    </tr>\n",
       "  </tbody>\n",
       "</table>\n",
       "<p>5 rows × 31 columns</p>\n",
       "</div>"
      ],
      "text/plain": [
       "                      Sex       Age  Final_Chronicity  Final_Activity  \\\n",
       "sample                                                                  \n",
       "AMPSLEkid_cells_0134  1.0  0.935974               6.0             4.0   \n",
       "AMPSLEkid_cells_0137  1.0 -0.010301               3.0             5.0   \n",
       "AMPSLEkid_cells_0138  1.0  0.505849               0.0             0.0   \n",
       "AMPSLEkid_cells_0139  1.0  0.849949               3.0             2.0   \n",
       "AMPSLEkid_cells_0140  1.0 -0.784527               1.0             1.0   \n",
       "\n",
       "                      First_biop  Pred_use  Responder_Status  Race_[A]  \\\n",
       "sample                                                                   \n",
       "AMPSLEkid_cells_0134         0.0       0.0               0.0       1.0   \n",
       "AMPSLEkid_cells_0137         0.0       1.0               2.0       0.0   \n",
       "AMPSLEkid_cells_0138         1.0       1.0               2.0       0.0   \n",
       "AMPSLEkid_cells_0139         0.0       1.0               2.0       0.0   \n",
       "AMPSLEkid_cells_0140         1.0       0.0               0.0       0.0   \n",
       "\n",
       "                      Race_[A][B]  Race_[B]  ...  Final_Site_JHU  \\\n",
       "sample                                       ...                   \n",
       "AMPSLEkid_cells_0134          0.0       0.0  ...             0.0   \n",
       "AMPSLEkid_cells_0137          0.0       1.0  ...             0.0   \n",
       "AMPSLEkid_cells_0138          0.0       0.0  ...             0.0   \n",
       "AMPSLEkid_cells_0139          0.0       1.0  ...             0.0   \n",
       "AMPSLEkid_cells_0140          0.0       1.0  ...             0.0   \n",
       "\n",
       "                      Final_Site_Michigan  Final_Site_MUSC  \\\n",
       "sample                                                       \n",
       "AMPSLEkid_cells_0134                  0.0              0.0   \n",
       "AMPSLEkid_cells_0137                  0.0              0.0   \n",
       "AMPSLEkid_cells_0138                  0.0              0.0   \n",
       "AMPSLEkid_cells_0139                  0.0              0.0   \n",
       "AMPSLEkid_cells_0140                  0.0              0.0   \n",
       "\n",
       "                      Final_Site_Northwell  Final_Site_NYU  \\\n",
       "sample                                                       \n",
       "AMPSLEkid_cells_0134                   0.0             0.0   \n",
       "AMPSLEkid_cells_0137                   0.0             0.0   \n",
       "AMPSLEkid_cells_0138                   0.0             0.0   \n",
       "AMPSLEkid_cells_0139                   0.0             0.0   \n",
       "AMPSLEkid_cells_0140                   0.0             0.0   \n",
       "\n",
       "                      Final_Site_Rochester  Final_Site_Texas Tech  \\\n",
       "sample                                                              \n",
       "AMPSLEkid_cells_0134                   1.0                    0.0   \n",
       "AMPSLEkid_cells_0137                   1.0                    0.0   \n",
       "AMPSLEkid_cells_0138                   1.0                    0.0   \n",
       "AMPSLEkid_cells_0139                   1.0                    0.0   \n",
       "AMPSLEkid_cells_0140                   1.0                    0.0   \n",
       "\n",
       "                      Final_Site_UCLA  Final_Site_UCSD  Final_Site_UCSF  \n",
       "sample                                                                   \n",
       "AMPSLEkid_cells_0134              0.0              0.0              0.0  \n",
       "AMPSLEkid_cells_0137              0.0              0.0              0.0  \n",
       "AMPSLEkid_cells_0138              0.0              0.0              0.0  \n",
       "AMPSLEkid_cells_0139              0.0              0.0              0.0  \n",
       "AMPSLEkid_cells_0140              0.0              0.0              0.0  \n",
       "\n",
       "[5 rows x 31 columns]"
      ]
     },
     "execution_count": 17,
     "metadata": {},
     "output_type": "execute_result"
    }
   ],
   "source": [
    "# Start by making anndata object\n",
    "d = mad.MultiAnnData(X=harmony, obs=meta, sampleid=\"sample\")\n",
    "#d.obs_to_sample(['Type', 'Site',\n",
    "#                 'Responder_Status', 'Sex',\n",
    "#                 'Age', 'Race',\n",
    "#                'Ethnicity', 'ISN',\n",
    "#               'Activity', \"Chronicity\",\n",
    "#                 'processing_batch'])\n",
    "d.obs_to_sample(['Sex', 'Age', 'Final_Chronicity', 'Final_Activity', 'First_biop', 'Pred_use', 'Responder_Status', 'Race_[A]',\n",
    "       'Race_[A][B]', 'Race_[B]', 'Race_[B][AI]', 'Race_[B][W]', 'Race_[U]',\n",
    "       'Race_[W]', 'Final_ISN_[III]', 'Final_ISN_[III][V]', 'Final_ISN_[IV]',\n",
    "       'Final_ISN_[IV][V]', 'Final_ISN_[V]', 'Final_Site_Cincinnati',\n",
    "       'Final_Site_Einstein', 'Final_Site_JHU', 'Final_Site_Michigan',\n",
    "       'Final_Site_MUSC', 'Final_Site_Northwell', 'Final_Site_NYU',\n",
    "       'Final_Site_Rochester', 'Final_Site_Texas Tech', 'Final_Site_UCLA',\n",
    "       'Final_Site_UCSD', 'Final_Site_UCSF'])\n",
    "d.samplem.head()"
   ]
  },
  {
   "cell_type": "code",
   "execution_count": 18,
   "id": "dd2064a5-66f2-472e-9d66-6653e7ce9bc5",
   "metadata": {},
   "outputs": [],
   "source": [
    "umap.index = d.obs.index\n",
    "d.obsm['X_umap'] = umap"
   ]
  },
  {
   "cell_type": "code",
   "execution_count": 19,
   "id": "ceb1b0a3-6cf3-48e7-81f0-d23749dff526",
   "metadata": {},
   "outputs": [
    {
     "name": "stdout",
     "output_type": "stream",
     "text": [
      "computing default knn graph\n"
     ]
    }
   ],
   "source": [
    "np.random.seed(0) \n",
    "cna.pp.knn(d)"
   ]
  },
  {
   "cell_type": "code",
   "execution_count": 20,
   "id": "ae375822-bdee-4ee5-88ca-268ce50856ca",
   "metadata": {},
   "outputs": [
    {
     "name": "stdout",
     "output_type": "stream",
     "text": [
      "qcd NAM not found; computing and saving\n",
      "\ttaking step 1\n",
      "\tmedian kurtosis: 51.37150192260742\n",
      "\t20th percentile R2(t,t-1): nan\n",
      "\ttaking step 2\n",
      "\tmedian kurtosis: 34.00757598876953\n",
      "\t20th percentile R2(t,t-1): 0.7737238287925721\n",
      "\ttaking step 3\n",
      "\tmedian kurtosis: 24.5955810546875\n",
      "\t20th percentile R2(t,t-1): 0.9182487368583679\n",
      "\ttaking step 4\n",
      "\tmedian kurtosis: 18.904521942138672\n",
      "\t20th percentile R2(t,t-1): 0.9531392097473145\n",
      "\ttaking step 5\n",
      "\tmedian kurtosis: 15.179661750793457\n",
      "\t20th percentile R2(t,t-1): 0.9696611166000366\n",
      "\ttaking step 6\n",
      "\tmedian kurtosis: 12.74237060546875\n",
      "\t20th percentile R2(t,t-1): 0.9801829218864441\n",
      "stopping after 6 steps\n",
      "covariate-adjusted NAM not found; computing and saving\n"
     ]
    },
    {
     "name": "stderr",
     "output_type": "stream",
     "text": [
      "/PHShome/ssg34/.conda/envs/plswork/lib/python3.9/site-packages/cna/tools/_nam.py:79: UserWarning: only one unique batch supplied to qc\n",
      "  warnings.warn('only one unique batch supplied to qc')\n",
      "/PHShome/ssg34/.conda/envs/plswork/lib/python3.9/site-packages/cna/tools/_nam.py:101: UserWarning: only one unique batch supplied to prep\n",
      "  warnings.warn('only one unique batch supplied to prep')\n"
     ]
    },
    {
     "name": "stdout",
     "output_type": "stream",
     "text": [
      "computing SVD\n",
      "performing association test\n",
      "computing neighborhood-level FDRs\n",
      "1\n",
      "[1, 2, 3, 4, 5, 6, 7, 8, 9, 10, 11, 12, 13, 14, 15, 16, 17, 18, 19, 20]\n",
      "p = 0.14188581141885812 , 1 PCs used\n",
      "total r^2 between top 1 NAM PCs and outcome is 0.03\n"
     ]
    }
   ],
   "source": [
    "np.random.seed(0) \n",
    "res = cna.tl._association.association(d, #dataset \n",
    "                                      d.samplem.Sex, #phenotype\n",
    "#                                       batches=d.samplem.processing_batch, #batches\n",
    "                                      Nnull=10000, # number of null permutations to do (defaults to only 1e3)\n",
    "                                      ks=[1,2,3,4,5,6,7,8,9,10,11,12,13,14,15,16,17,18,19,20] # I asked the method to consider up to 10 PCs because\n",
    "                                                                #it chose the max number of PCs it considered the default set of [1,2,3,4]\n",
    "                                     )\n",
    "print(res.k)\n",
    "print(res.ks)\n",
    "print('p =', res.p, ',', res.k, 'PCs used')\n",
    "print('total r^2 between top {} NAM PCs and outcome is {:.2f}'.format(res.k, res.r2))"
   ]
  },
  {
   "cell_type": "code",
   "execution_count": 22,
   "id": "66096bf7-aeb9-4cd1-be35-c52e5c3c358d",
   "metadata": {},
   "outputs": [],
   "source": [
    "sc_uni['Sex'] = res.p"
   ]
  },
  {
   "cell_type": "markdown",
   "id": "cf0cc625-59ce-4979-a3dd-689abd84a992",
   "metadata": {},
   "source": [
    "# RESPONSE"
   ]
  },
  {
   "cell_type": "markdown",
   "id": "d188eaa4-e9a9-4d8a-80e6-e8a90871eb3b",
   "metadata": {},
   "source": [
    "## Single Cell"
   ]
  },
  {
   "cell_type": "code",
   "execution_count": 32,
   "id": "ae38cfb5-deb8-4503-9f57-73089134526e",
   "metadata": {},
   "outputs": [
    {
     "name": "stdout",
     "output_type": "stream",
     "text": [
      "(19609, 10)\n"
     ]
    }
   ],
   "source": [
    "meta = pd.read_csv('/data/srlab/ssg34/SLE_kidney_v2/data/cna_new/myeloid/age_sex_response_race/sc_meta_response.csv')\n",
    "print(meta.shape)"
   ]
  },
  {
   "cell_type": "code",
   "execution_count": 34,
   "id": "668058d9-f21e-4c80-b34c-79ce3764e108",
   "metadata": {},
   "outputs": [
    {
     "name": "stdout",
     "output_type": "stream",
     "text": [
      "(19609, 20)\n"
     ]
    }
   ],
   "source": [
    "harmony = pd.read_csv('/data/srlab/ssg34/SLE_kidney_v2/data/cna_new/myeloid/age_sex_response_race/sc_harmony_response.csv')\n",
    "print(harmony.shape)"
   ]
  },
  {
   "cell_type": "code",
   "execution_count": 35,
   "id": "46367d50-a794-4116-b872-092a9fa3fc28",
   "metadata": {},
   "outputs": [
    {
     "name": "stdout",
     "output_type": "stream",
     "text": [
      "(19609, 2)\n"
     ]
    }
   ],
   "source": [
    "umap = pd.read_csv('/data/srlab/ssg34/SLE_kidney_v2/data/cna_new/myeloid/age_sex_response_race/sc_umap_response.csv')\n",
    "print(umap.shape)"
   ]
  },
  {
   "cell_type": "code",
   "execution_count": 26,
   "id": "8a81e18c-dec3-4a91-a091-44ab92e008a9",
   "metadata": {},
   "outputs": [
    {
     "name": "stdout",
     "output_type": "stream",
     "text": [
      "warning: the following columns of obs are non-numeric.\n",
      "['cell' 'sample' 'final_annotation' 'Responder.Status' 'Race' 'Final_ISN'\n",
      " 'Type' 'Final_Site']\n",
      "consider casting to numeric types where appropriate, and\n",
      "consider re-coding text-valued columns with pandas.get_dummies\n"
     ]
    },
    {
     "name": "stderr",
     "output_type": "stream",
     "text": [
      "/PHShome/ssg34/.conda/envs/plswork/lib/python3.9/site-packages/multianndata/core.py:17: FutureWarning: X.dtype being converted to np.float32 from float64. In the next version of anndata (0.9) conversion will not be automatic. Pass dtype explicitly to avoid this warning. Pass `AnnData(X, dtype=X.dtype, ...)` to get the future behavour.\n",
      "  super().__init__(*args, **kwargs)\n",
      "/PHShome/ssg34/.conda/envs/plswork/lib/python3.9/site-packages/anndata/_core/anndata.py:121: ImplicitModificationWarning: Transforming to str index.\n",
      "  warnings.warn(\"Transforming to str index.\", ImplicitModificationWarning)\n"
     ]
    },
    {
     "data": {
      "text/html": [
       "<div>\n",
       "<style scoped>\n",
       "    .dataframe tbody tr th:only-of-type {\n",
       "        vertical-align: middle;\n",
       "    }\n",
       "\n",
       "    .dataframe tbody tr th {\n",
       "        vertical-align: top;\n",
       "    }\n",
       "\n",
       "    .dataframe thead th {\n",
       "        text-align: right;\n",
       "    }\n",
       "</style>\n",
       "<table border=\"1\" class=\"dataframe\">\n",
       "  <thead>\n",
       "    <tr style=\"text-align: right;\">\n",
       "      <th></th>\n",
       "      <th>Sex</th>\n",
       "      <th>Age</th>\n",
       "      <th>Final_Chronicity</th>\n",
       "      <th>Final_Activity</th>\n",
       "      <th>First_biop</th>\n",
       "      <th>Pred_use</th>\n",
       "      <th>Responder_Status</th>\n",
       "      <th>Race_[A]</th>\n",
       "      <th>Race_[A][B]</th>\n",
       "      <th>Race_[B]</th>\n",
       "      <th>...</th>\n",
       "      <th>Final_Site_JHU</th>\n",
       "      <th>Final_Site_Michigan</th>\n",
       "      <th>Final_Site_MUSC</th>\n",
       "      <th>Final_Site_Northwell</th>\n",
       "      <th>Final_Site_NYU</th>\n",
       "      <th>Final_Site_Rochester</th>\n",
       "      <th>Final_Site_Texas Tech</th>\n",
       "      <th>Final_Site_UCLA</th>\n",
       "      <th>Final_Site_UCSD</th>\n",
       "      <th>Final_Site_UCSF</th>\n",
       "    </tr>\n",
       "    <tr>\n",
       "      <th>sample</th>\n",
       "      <th></th>\n",
       "      <th></th>\n",
       "      <th></th>\n",
       "      <th></th>\n",
       "      <th></th>\n",
       "      <th></th>\n",
       "      <th></th>\n",
       "      <th></th>\n",
       "      <th></th>\n",
       "      <th></th>\n",
       "      <th></th>\n",
       "      <th></th>\n",
       "      <th></th>\n",
       "      <th></th>\n",
       "      <th></th>\n",
       "      <th></th>\n",
       "      <th></th>\n",
       "      <th></th>\n",
       "      <th></th>\n",
       "      <th></th>\n",
       "      <th></th>\n",
       "    </tr>\n",
       "  </thead>\n",
       "  <tbody>\n",
       "    <tr>\n",
       "      <th>AMPSLEkid_cells_0134</th>\n",
       "      <td>1.0</td>\n",
       "      <td>0.935974</td>\n",
       "      <td>6.0</td>\n",
       "      <td>4.0</td>\n",
       "      <td>0.0</td>\n",
       "      <td>0.0</td>\n",
       "      <td>0.0</td>\n",
       "      <td>1.0</td>\n",
       "      <td>0.0</td>\n",
       "      <td>0.0</td>\n",
       "      <td>...</td>\n",
       "      <td>0.0</td>\n",
       "      <td>0.0</td>\n",
       "      <td>0.0</td>\n",
       "      <td>0.0</td>\n",
       "      <td>0.0</td>\n",
       "      <td>1.0</td>\n",
       "      <td>0.0</td>\n",
       "      <td>0.0</td>\n",
       "      <td>0.0</td>\n",
       "      <td>0.0</td>\n",
       "    </tr>\n",
       "    <tr>\n",
       "      <th>AMPSLEkid_cells_0137</th>\n",
       "      <td>1.0</td>\n",
       "      <td>-0.010301</td>\n",
       "      <td>3.0</td>\n",
       "      <td>5.0</td>\n",
       "      <td>0.0</td>\n",
       "      <td>1.0</td>\n",
       "      <td>2.0</td>\n",
       "      <td>0.0</td>\n",
       "      <td>0.0</td>\n",
       "      <td>1.0</td>\n",
       "      <td>...</td>\n",
       "      <td>0.0</td>\n",
       "      <td>0.0</td>\n",
       "      <td>0.0</td>\n",
       "      <td>0.0</td>\n",
       "      <td>0.0</td>\n",
       "      <td>1.0</td>\n",
       "      <td>0.0</td>\n",
       "      <td>0.0</td>\n",
       "      <td>0.0</td>\n",
       "      <td>0.0</td>\n",
       "    </tr>\n",
       "    <tr>\n",
       "      <th>AMPSLEkid_cells_0138</th>\n",
       "      <td>1.0</td>\n",
       "      <td>0.505849</td>\n",
       "      <td>0.0</td>\n",
       "      <td>0.0</td>\n",
       "      <td>1.0</td>\n",
       "      <td>1.0</td>\n",
       "      <td>2.0</td>\n",
       "      <td>0.0</td>\n",
       "      <td>0.0</td>\n",
       "      <td>0.0</td>\n",
       "      <td>...</td>\n",
       "      <td>0.0</td>\n",
       "      <td>0.0</td>\n",
       "      <td>0.0</td>\n",
       "      <td>0.0</td>\n",
       "      <td>0.0</td>\n",
       "      <td>1.0</td>\n",
       "      <td>0.0</td>\n",
       "      <td>0.0</td>\n",
       "      <td>0.0</td>\n",
       "      <td>0.0</td>\n",
       "    </tr>\n",
       "    <tr>\n",
       "      <th>AMPSLEkid_cells_0139</th>\n",
       "      <td>1.0</td>\n",
       "      <td>0.849949</td>\n",
       "      <td>3.0</td>\n",
       "      <td>2.0</td>\n",
       "      <td>0.0</td>\n",
       "      <td>1.0</td>\n",
       "      <td>2.0</td>\n",
       "      <td>0.0</td>\n",
       "      <td>0.0</td>\n",
       "      <td>1.0</td>\n",
       "      <td>...</td>\n",
       "      <td>0.0</td>\n",
       "      <td>0.0</td>\n",
       "      <td>0.0</td>\n",
       "      <td>0.0</td>\n",
       "      <td>0.0</td>\n",
       "      <td>1.0</td>\n",
       "      <td>0.0</td>\n",
       "      <td>0.0</td>\n",
       "      <td>0.0</td>\n",
       "      <td>0.0</td>\n",
       "    </tr>\n",
       "    <tr>\n",
       "      <th>AMPSLEkid_cells_0140</th>\n",
       "      <td>1.0</td>\n",
       "      <td>-0.784527</td>\n",
       "      <td>1.0</td>\n",
       "      <td>1.0</td>\n",
       "      <td>1.0</td>\n",
       "      <td>0.0</td>\n",
       "      <td>0.0</td>\n",
       "      <td>0.0</td>\n",
       "      <td>0.0</td>\n",
       "      <td>1.0</td>\n",
       "      <td>...</td>\n",
       "      <td>0.0</td>\n",
       "      <td>0.0</td>\n",
       "      <td>0.0</td>\n",
       "      <td>0.0</td>\n",
       "      <td>0.0</td>\n",
       "      <td>1.0</td>\n",
       "      <td>0.0</td>\n",
       "      <td>0.0</td>\n",
       "      <td>0.0</td>\n",
       "      <td>0.0</td>\n",
       "    </tr>\n",
       "  </tbody>\n",
       "</table>\n",
       "<p>5 rows × 31 columns</p>\n",
       "</div>"
      ],
      "text/plain": [
       "                      Sex       Age  Final_Chronicity  Final_Activity  \\\n",
       "sample                                                                  \n",
       "AMPSLEkid_cells_0134  1.0  0.935974               6.0             4.0   \n",
       "AMPSLEkid_cells_0137  1.0 -0.010301               3.0             5.0   \n",
       "AMPSLEkid_cells_0138  1.0  0.505849               0.0             0.0   \n",
       "AMPSLEkid_cells_0139  1.0  0.849949               3.0             2.0   \n",
       "AMPSLEkid_cells_0140  1.0 -0.784527               1.0             1.0   \n",
       "\n",
       "                      First_biop  Pred_use  Responder_Status  Race_[A]  \\\n",
       "sample                                                                   \n",
       "AMPSLEkid_cells_0134         0.0       0.0               0.0       1.0   \n",
       "AMPSLEkid_cells_0137         0.0       1.0               2.0       0.0   \n",
       "AMPSLEkid_cells_0138         1.0       1.0               2.0       0.0   \n",
       "AMPSLEkid_cells_0139         0.0       1.0               2.0       0.0   \n",
       "AMPSLEkid_cells_0140         1.0       0.0               0.0       0.0   \n",
       "\n",
       "                      Race_[A][B]  Race_[B]  ...  Final_Site_JHU  \\\n",
       "sample                                       ...                   \n",
       "AMPSLEkid_cells_0134          0.0       0.0  ...             0.0   \n",
       "AMPSLEkid_cells_0137          0.0       1.0  ...             0.0   \n",
       "AMPSLEkid_cells_0138          0.0       0.0  ...             0.0   \n",
       "AMPSLEkid_cells_0139          0.0       1.0  ...             0.0   \n",
       "AMPSLEkid_cells_0140          0.0       1.0  ...             0.0   \n",
       "\n",
       "                      Final_Site_Michigan  Final_Site_MUSC  \\\n",
       "sample                                                       \n",
       "AMPSLEkid_cells_0134                  0.0              0.0   \n",
       "AMPSLEkid_cells_0137                  0.0              0.0   \n",
       "AMPSLEkid_cells_0138                  0.0              0.0   \n",
       "AMPSLEkid_cells_0139                  0.0              0.0   \n",
       "AMPSLEkid_cells_0140                  0.0              0.0   \n",
       "\n",
       "                      Final_Site_Northwell  Final_Site_NYU  \\\n",
       "sample                                                       \n",
       "AMPSLEkid_cells_0134                   0.0             0.0   \n",
       "AMPSLEkid_cells_0137                   0.0             0.0   \n",
       "AMPSLEkid_cells_0138                   0.0             0.0   \n",
       "AMPSLEkid_cells_0139                   0.0             0.0   \n",
       "AMPSLEkid_cells_0140                   0.0             0.0   \n",
       "\n",
       "                      Final_Site_Rochester  Final_Site_Texas Tech  \\\n",
       "sample                                                              \n",
       "AMPSLEkid_cells_0134                   1.0                    0.0   \n",
       "AMPSLEkid_cells_0137                   1.0                    0.0   \n",
       "AMPSLEkid_cells_0138                   1.0                    0.0   \n",
       "AMPSLEkid_cells_0139                   1.0                    0.0   \n",
       "AMPSLEkid_cells_0140                   1.0                    0.0   \n",
       "\n",
       "                      Final_Site_UCLA  Final_Site_UCSD  Final_Site_UCSF  \n",
       "sample                                                                   \n",
       "AMPSLEkid_cells_0134              0.0              0.0              0.0  \n",
       "AMPSLEkid_cells_0137              0.0              0.0              0.0  \n",
       "AMPSLEkid_cells_0138              0.0              0.0              0.0  \n",
       "AMPSLEkid_cells_0139              0.0              0.0              0.0  \n",
       "AMPSLEkid_cells_0140              0.0              0.0              0.0  \n",
       "\n",
       "[5 rows x 31 columns]"
      ]
     },
     "execution_count": 26,
     "metadata": {},
     "output_type": "execute_result"
    }
   ],
   "source": [
    "# Start by making anndata object\n",
    "d = mad.MultiAnnData(X=harmony, obs=meta, sampleid=\"sample\")\n",
    "#d.obs_to_sample(['Type', 'Site',\n",
    "#                 'Responder_Status', 'Sex',\n",
    "#                 'Age', 'Race',\n",
    "#                'Ethnicity', 'ISN',\n",
    "#               'Activity', \"Chronicity\",\n",
    "#                 'processing_batch'])\n",
    "d.obs_to_sample(['Sex', 'Age', 'Final_Chronicity', 'Final_Activity', 'First_biop', 'Pred_use', 'Responder_Status', 'Race_[A]',\n",
    "       'Race_[A][B]', 'Race_[B]', 'Race_[B][AI]', 'Race_[B][W]', 'Race_[U]',\n",
    "       'Race_[W]', 'Final_ISN_[III]', 'Final_ISN_[III][V]', 'Final_ISN_[IV]',\n",
    "       'Final_ISN_[IV][V]', 'Final_ISN_[V]', 'Final_Site_Cincinnati',\n",
    "       'Final_Site_Einstein', 'Final_Site_JHU', 'Final_Site_Michigan',\n",
    "       'Final_Site_MUSC', 'Final_Site_Northwell', 'Final_Site_NYU',\n",
    "       'Final_Site_Rochester', 'Final_Site_Texas Tech', 'Final_Site_UCLA',\n",
    "       'Final_Site_UCSD', 'Final_Site_UCSF'])\n",
    "d.samplem.head()"
   ]
  },
  {
   "cell_type": "code",
   "execution_count": 30,
   "id": "381ba72b-4f58-4c19-a7a7-b6f11b916784",
   "metadata": {},
   "outputs": [],
   "source": [
    "umap.index = d.obs.index\n",
    "d.obsm['X_umap'] = umap"
   ]
  },
  {
   "cell_type": "code",
   "execution_count": 31,
   "id": "da8f39d6-27e7-4f3d-bbdb-1d3116f6fa07",
   "metadata": {},
   "outputs": [
    {
     "name": "stdout",
     "output_type": "stream",
     "text": [
      "computing default knn graph\n"
     ]
    }
   ],
   "source": [
    "np.random.seed(0) \n",
    "cna.pp.knn(d)"
   ]
  },
  {
   "cell_type": "code",
   "execution_count": 32,
   "id": "2d4c3d47-feae-4ea9-ba44-d25c0d7bd1df",
   "metadata": {},
   "outputs": [
    {
     "name": "stdout",
     "output_type": "stream",
     "text": [
      "performing association test\n",
      "computing neighborhood-level FDRs\n",
      "19\n",
      "[1, 2, 3, 4, 5, 6, 7, 8, 9, 10, 11, 12, 13, 14, 15, 16, 17, 18, 19, 20]\n",
      "p = 0.0684931506849315 , 19 PCs used\n",
      "total r^2 between top 19 NAM PCs and outcome is 0.24\n"
     ]
    }
   ],
   "source": [
    "np.random.seed(0) \n",
    "res = cna.tl._association.association(d, #dataset \n",
    "                                      d.samplem.Responder_Status, #phenotype\n",
    "#                                       batches=d.samplem.processing_batch, #batches\n",
    "                                      Nnull=10000, # number of null permutations to do (defaults to only 1e3)\n",
    "                                      ks=[1,2,3,4,5,6,7,8,9,10,11,12,13,14,15,16,17,18,19,20] # I asked the method to consider up to 10 PCs because\n",
    "                                                                #it chose the max number of PCs it considered the default set of [1,2,3,4]\n",
    "                                     )\n",
    "print(res.k)\n",
    "print(res.ks)\n",
    "print('p =', res.p, ',', res.k, 'PCs used')\n",
    "print('total r^2 between top {} NAM PCs and outcome is {:.2f}'.format(res.k, res.r2))"
   ]
  },
  {
   "cell_type": "code",
   "execution_count": 33,
   "id": "8fe84af4-cc3c-4863-964d-312a0c35539c",
   "metadata": {},
   "outputs": [],
   "source": [
    "sc_uni['Responder_Status'] = res.p"
   ]
  },
  {
   "cell_type": "markdown",
   "id": "f90868a5-1732-40f2-b761-17a12782e724",
   "metadata": {},
   "source": [
    "# RACE"
   ]
  },
  {
   "cell_type": "markdown",
   "id": "675ee344-d22a-4d94-9e40-de72f349efcf",
   "metadata": {},
   "source": [
    "## Single Cell"
   ]
  },
  {
   "cell_type": "code",
   "execution_count": 35,
   "id": "c0721c56-a7b6-4bc6-96a3-089d4d1d47f8",
   "metadata": {},
   "outputs": [
    {
     "name": "stdout",
     "output_type": "stream",
     "text": [
      "(23491, 39)\n"
     ]
    }
   ],
   "source": [
    "meta = pd.read_csv('/data/srlab/ssg34/SLE_kidney_v2/data/cna_new/myeloid/age_sex_response_race/sc_meta_race.csv')\n",
    "print(meta.shape)"
   ]
  },
  {
   "cell_type": "code",
   "execution_count": 36,
   "id": "cc838db3-7529-4314-9b41-222e39dfcff8",
   "metadata": {},
   "outputs": [
    {
     "name": "stdout",
     "output_type": "stream",
     "text": [
      "(23491, 20)\n"
     ]
    }
   ],
   "source": [
    "harmony = pd.read_csv('/data/srlab/ssg34/SLE_kidney_v2/data/cna_new/myeloid/age_sex_response_race/sc_harmony_race.csv')\n",
    "print(harmony.shape)"
   ]
  },
  {
   "cell_type": "code",
   "execution_count": 37,
   "id": "9976fe1c-0650-4ef3-959c-ca8015e7b464",
   "metadata": {},
   "outputs": [
    {
     "name": "stdout",
     "output_type": "stream",
     "text": [
      "(23491, 2)\n"
     ]
    }
   ],
   "source": [
    "umap = pd.read_csv('/data/srlab/ssg34/SLE_kidney_v2/data/cna_new/myeloid/age_sex_response_race/sc_umap_race.csv')\n",
    "print(umap.shape)"
   ]
  },
  {
   "cell_type": "code",
   "execution_count": 38,
   "id": "6a2eef6c-5d19-4bb3-968d-f511de440731",
   "metadata": {},
   "outputs": [
    {
     "name": "stdout",
     "output_type": "stream",
     "text": [
      "warning: the following columns of obs are non-numeric.\n",
      "['cell' 'sample' 'final_annotation' 'Responder.Status' 'Race' 'Final_ISN'\n",
      " 'Type' 'Final_Site']\n",
      "consider casting to numeric types where appropriate, and\n",
      "consider re-coding text-valued columns with pandas.get_dummies\n"
     ]
    },
    {
     "name": "stderr",
     "output_type": "stream",
     "text": [
      "/PHShome/ssg34/.conda/envs/plswork/lib/python3.9/site-packages/multianndata/core.py:17: FutureWarning: X.dtype being converted to np.float32 from float64. In the next version of anndata (0.9) conversion will not be automatic. Pass dtype explicitly to avoid this warning. Pass `AnnData(X, dtype=X.dtype, ...)` to get the future behavour.\n",
      "  super().__init__(*args, **kwargs)\n",
      "/PHShome/ssg34/.conda/envs/plswork/lib/python3.9/site-packages/anndata/_core/anndata.py:121: ImplicitModificationWarning: Transforming to str index.\n",
      "  warnings.warn(\"Transforming to str index.\", ImplicitModificationWarning)\n"
     ]
    },
    {
     "data": {
      "text/html": [
       "<div>\n",
       "<style scoped>\n",
       "    .dataframe tbody tr th:only-of-type {\n",
       "        vertical-align: middle;\n",
       "    }\n",
       "\n",
       "    .dataframe tbody tr th {\n",
       "        vertical-align: top;\n",
       "    }\n",
       "\n",
       "    .dataframe thead th {\n",
       "        text-align: right;\n",
       "    }\n",
       "</style>\n",
       "<table border=\"1\" class=\"dataframe\">\n",
       "  <thead>\n",
       "    <tr style=\"text-align: right;\">\n",
       "      <th></th>\n",
       "      <th>Sex</th>\n",
       "      <th>Age</th>\n",
       "      <th>Final_Chronicity</th>\n",
       "      <th>Final_Activity</th>\n",
       "      <th>First_biop</th>\n",
       "      <th>Pred_use</th>\n",
       "      <th>Responder_Status</th>\n",
       "      <th>Race_[A]</th>\n",
       "      <th>Race_[A][B]</th>\n",
       "      <th>Race_[B]</th>\n",
       "      <th>...</th>\n",
       "      <th>Final_Site_JHU</th>\n",
       "      <th>Final_Site_Michigan</th>\n",
       "      <th>Final_Site_MUSC</th>\n",
       "      <th>Final_Site_Northwell</th>\n",
       "      <th>Final_Site_NYU</th>\n",
       "      <th>Final_Site_Rochester</th>\n",
       "      <th>Final_Site_Texas Tech</th>\n",
       "      <th>Final_Site_UCLA</th>\n",
       "      <th>Final_Site_UCSD</th>\n",
       "      <th>Final_Site_UCSF</th>\n",
       "    </tr>\n",
       "    <tr>\n",
       "      <th>sample</th>\n",
       "      <th></th>\n",
       "      <th></th>\n",
       "      <th></th>\n",
       "      <th></th>\n",
       "      <th></th>\n",
       "      <th></th>\n",
       "      <th></th>\n",
       "      <th></th>\n",
       "      <th></th>\n",
       "      <th></th>\n",
       "      <th></th>\n",
       "      <th></th>\n",
       "      <th></th>\n",
       "      <th></th>\n",
       "      <th></th>\n",
       "      <th></th>\n",
       "      <th></th>\n",
       "      <th></th>\n",
       "      <th></th>\n",
       "      <th></th>\n",
       "      <th></th>\n",
       "    </tr>\n",
       "  </thead>\n",
       "  <tbody>\n",
       "    <tr>\n",
       "      <th>AMPSLEkid_cells_0134</th>\n",
       "      <td>1.0</td>\n",
       "      <td>0.935974</td>\n",
       "      <td>6.0</td>\n",
       "      <td>4.0</td>\n",
       "      <td>0.0</td>\n",
       "      <td>0.0</td>\n",
       "      <td>0.0</td>\n",
       "      <td>1.0</td>\n",
       "      <td>0.0</td>\n",
       "      <td>0.0</td>\n",
       "      <td>...</td>\n",
       "      <td>0.0</td>\n",
       "      <td>0.0</td>\n",
       "      <td>0.0</td>\n",
       "      <td>0.0</td>\n",
       "      <td>0.0</td>\n",
       "      <td>1.0</td>\n",
       "      <td>0.0</td>\n",
       "      <td>0.0</td>\n",
       "      <td>0.0</td>\n",
       "      <td>0.0</td>\n",
       "    </tr>\n",
       "    <tr>\n",
       "      <th>AMPSLEkid_cells_0137</th>\n",
       "      <td>1.0</td>\n",
       "      <td>-0.010301</td>\n",
       "      <td>3.0</td>\n",
       "      <td>5.0</td>\n",
       "      <td>0.0</td>\n",
       "      <td>1.0</td>\n",
       "      <td>2.0</td>\n",
       "      <td>0.0</td>\n",
       "      <td>0.0</td>\n",
       "      <td>1.0</td>\n",
       "      <td>...</td>\n",
       "      <td>0.0</td>\n",
       "      <td>0.0</td>\n",
       "      <td>0.0</td>\n",
       "      <td>0.0</td>\n",
       "      <td>0.0</td>\n",
       "      <td>1.0</td>\n",
       "      <td>0.0</td>\n",
       "      <td>0.0</td>\n",
       "      <td>0.0</td>\n",
       "      <td>0.0</td>\n",
       "    </tr>\n",
       "    <tr>\n",
       "      <th>AMPSLEkid_cells_0138</th>\n",
       "      <td>1.0</td>\n",
       "      <td>0.505849</td>\n",
       "      <td>0.0</td>\n",
       "      <td>0.0</td>\n",
       "      <td>1.0</td>\n",
       "      <td>1.0</td>\n",
       "      <td>2.0</td>\n",
       "      <td>0.0</td>\n",
       "      <td>0.0</td>\n",
       "      <td>0.0</td>\n",
       "      <td>...</td>\n",
       "      <td>0.0</td>\n",
       "      <td>0.0</td>\n",
       "      <td>0.0</td>\n",
       "      <td>0.0</td>\n",
       "      <td>0.0</td>\n",
       "      <td>1.0</td>\n",
       "      <td>0.0</td>\n",
       "      <td>0.0</td>\n",
       "      <td>0.0</td>\n",
       "      <td>0.0</td>\n",
       "    </tr>\n",
       "    <tr>\n",
       "      <th>AMPSLEkid_cells_0139</th>\n",
       "      <td>1.0</td>\n",
       "      <td>0.849949</td>\n",
       "      <td>3.0</td>\n",
       "      <td>2.0</td>\n",
       "      <td>0.0</td>\n",
       "      <td>1.0</td>\n",
       "      <td>2.0</td>\n",
       "      <td>0.0</td>\n",
       "      <td>0.0</td>\n",
       "      <td>1.0</td>\n",
       "      <td>...</td>\n",
       "      <td>0.0</td>\n",
       "      <td>0.0</td>\n",
       "      <td>0.0</td>\n",
       "      <td>0.0</td>\n",
       "      <td>0.0</td>\n",
       "      <td>1.0</td>\n",
       "      <td>0.0</td>\n",
       "      <td>0.0</td>\n",
       "      <td>0.0</td>\n",
       "      <td>0.0</td>\n",
       "    </tr>\n",
       "    <tr>\n",
       "      <th>AMPSLEkid_cells_0140</th>\n",
       "      <td>1.0</td>\n",
       "      <td>-0.784527</td>\n",
       "      <td>1.0</td>\n",
       "      <td>1.0</td>\n",
       "      <td>1.0</td>\n",
       "      <td>0.0</td>\n",
       "      <td>0.0</td>\n",
       "      <td>0.0</td>\n",
       "      <td>0.0</td>\n",
       "      <td>1.0</td>\n",
       "      <td>...</td>\n",
       "      <td>0.0</td>\n",
       "      <td>0.0</td>\n",
       "      <td>0.0</td>\n",
       "      <td>0.0</td>\n",
       "      <td>0.0</td>\n",
       "      <td>1.0</td>\n",
       "      <td>0.0</td>\n",
       "      <td>0.0</td>\n",
       "      <td>0.0</td>\n",
       "      <td>0.0</td>\n",
       "    </tr>\n",
       "  </tbody>\n",
       "</table>\n",
       "<p>5 rows × 31 columns</p>\n",
       "</div>"
      ],
      "text/plain": [
       "                      Sex       Age  Final_Chronicity  Final_Activity  \\\n",
       "sample                                                                  \n",
       "AMPSLEkid_cells_0134  1.0  0.935974               6.0             4.0   \n",
       "AMPSLEkid_cells_0137  1.0 -0.010301               3.0             5.0   \n",
       "AMPSLEkid_cells_0138  1.0  0.505849               0.0             0.0   \n",
       "AMPSLEkid_cells_0139  1.0  0.849949               3.0             2.0   \n",
       "AMPSLEkid_cells_0140  1.0 -0.784527               1.0             1.0   \n",
       "\n",
       "                      First_biop  Pred_use  Responder_Status  Race_[A]  \\\n",
       "sample                                                                   \n",
       "AMPSLEkid_cells_0134         0.0       0.0               0.0       1.0   \n",
       "AMPSLEkid_cells_0137         0.0       1.0               2.0       0.0   \n",
       "AMPSLEkid_cells_0138         1.0       1.0               2.0       0.0   \n",
       "AMPSLEkid_cells_0139         0.0       1.0               2.0       0.0   \n",
       "AMPSLEkid_cells_0140         1.0       0.0               0.0       0.0   \n",
       "\n",
       "                      Race_[A][B]  Race_[B]  ...  Final_Site_JHU  \\\n",
       "sample                                       ...                   \n",
       "AMPSLEkid_cells_0134          0.0       0.0  ...             0.0   \n",
       "AMPSLEkid_cells_0137          0.0       1.0  ...             0.0   \n",
       "AMPSLEkid_cells_0138          0.0       0.0  ...             0.0   \n",
       "AMPSLEkid_cells_0139          0.0       1.0  ...             0.0   \n",
       "AMPSLEkid_cells_0140          0.0       1.0  ...             0.0   \n",
       "\n",
       "                      Final_Site_Michigan  Final_Site_MUSC  \\\n",
       "sample                                                       \n",
       "AMPSLEkid_cells_0134                  0.0              0.0   \n",
       "AMPSLEkid_cells_0137                  0.0              0.0   \n",
       "AMPSLEkid_cells_0138                  0.0              0.0   \n",
       "AMPSLEkid_cells_0139                  0.0              0.0   \n",
       "AMPSLEkid_cells_0140                  0.0              0.0   \n",
       "\n",
       "                      Final_Site_Northwell  Final_Site_NYU  \\\n",
       "sample                                                       \n",
       "AMPSLEkid_cells_0134                   0.0             0.0   \n",
       "AMPSLEkid_cells_0137                   0.0             0.0   \n",
       "AMPSLEkid_cells_0138                   0.0             0.0   \n",
       "AMPSLEkid_cells_0139                   0.0             0.0   \n",
       "AMPSLEkid_cells_0140                   0.0             0.0   \n",
       "\n",
       "                      Final_Site_Rochester  Final_Site_Texas Tech  \\\n",
       "sample                                                              \n",
       "AMPSLEkid_cells_0134                   1.0                    0.0   \n",
       "AMPSLEkid_cells_0137                   1.0                    0.0   \n",
       "AMPSLEkid_cells_0138                   1.0                    0.0   \n",
       "AMPSLEkid_cells_0139                   1.0                    0.0   \n",
       "AMPSLEkid_cells_0140                   1.0                    0.0   \n",
       "\n",
       "                      Final_Site_UCLA  Final_Site_UCSD  Final_Site_UCSF  \n",
       "sample                                                                   \n",
       "AMPSLEkid_cells_0134              0.0              0.0              0.0  \n",
       "AMPSLEkid_cells_0137              0.0              0.0              0.0  \n",
       "AMPSLEkid_cells_0138              0.0              0.0              0.0  \n",
       "AMPSLEkid_cells_0139              0.0              0.0              0.0  \n",
       "AMPSLEkid_cells_0140              0.0              0.0              0.0  \n",
       "\n",
       "[5 rows x 31 columns]"
      ]
     },
     "execution_count": 38,
     "metadata": {},
     "output_type": "execute_result"
    }
   ],
   "source": [
    "# Start by making anndata object\n",
    "d = mad.MultiAnnData(X=harmony, obs=meta, sampleid=\"sample\")\n",
    "#d.obs_to_sample(['Type', 'Site',\n",
    "#                 'Responder_Status', 'Sex',\n",
    "#                 'Age', 'Race',\n",
    "#                'Ethnicity', 'ISN',\n",
    "#               'Activity', \"Chronicity\",\n",
    "#                 'processing_batch'])\n",
    "d.obs_to_sample(['Sex', 'Age', 'Final_Chronicity', 'Final_Activity', 'First_biop', 'Pred_use', 'Responder_Status', 'Race_[A]',\n",
    "       'Race_[A][B]', 'Race_[B]', 'Race_[B][AI]', 'Race_[B][W]', 'Race_[U]',\n",
    "       'Race_[W]', 'Final_ISN_[III]', 'Final_ISN_[III][V]', 'Final_ISN_[IV]',\n",
    "       'Final_ISN_[IV][V]', 'Final_ISN_[V]', 'Final_Site_Cincinnati',\n",
    "       'Final_Site_Einstein', 'Final_Site_JHU', 'Final_Site_Michigan',\n",
    "       'Final_Site_MUSC', 'Final_Site_Northwell', 'Final_Site_NYU',\n",
    "       'Final_Site_Rochester', 'Final_Site_Texas Tech', 'Final_Site_UCLA',\n",
    "       'Final_Site_UCSD', 'Final_Site_UCSF'])\n",
    "d.samplem.head()"
   ]
  },
  {
   "cell_type": "code",
   "execution_count": 39,
   "id": "e05bcff8-ff76-4177-a7ca-a80b7c846e8e",
   "metadata": {},
   "outputs": [],
   "source": [
    "umap.index = d.obs.index\n",
    "d.obsm['X_umap'] = umap"
   ]
  },
  {
   "cell_type": "code",
   "execution_count": 40,
   "id": "fef5011d-49f9-4845-8f24-c471d925b087",
   "metadata": {},
   "outputs": [
    {
     "name": "stdout",
     "output_type": "stream",
     "text": [
      "computing default knn graph\n"
     ]
    }
   ],
   "source": [
    "np.random.seed(0) \n",
    "cna.pp.knn(d)"
   ]
  },
  {
   "cell_type": "code",
   "execution_count": 48,
   "id": "3679f19a-206d-47a0-b21a-cc88cee24fcf",
   "metadata": {},
   "outputs": [
    {
     "name": "stdout",
     "output_type": "stream",
     "text": [
      "performing association test\n",
      "computing neighborhood-level FDRs\n",
      "7\n",
      "[1, 2, 3, 4, 5, 6, 7, 8, 9, 10, 11, 12, 13, 14, 15, 16, 17, 18, 19, 20]\n",
      "p = 0.0357964203579642 , 7 PCs used\n",
      "total r^2 between top 7 NAM PCs and outcome is 0.13\n"
     ]
    }
   ],
   "source": [
    "np.random.seed(0) \n",
    "res = cna.tl._association.association(d, #dataset \n",
    "                                      d.samplem['Race_[A]'], #phenotype\n",
    "#                                       batches=d.samplem.processing_batch, #batches\n",
    "                                      Nnull=10000, # number of null permutations to do (defaults to only 1e3)\n",
    "                                      ks=[1,2,3,4,5,6,7,8,9,10,11,12,13,14,15,16,17,18,19,20] # I asked the method to consider up to 10 PCs because\n",
    "                                                                #it chose the max number of PCs it considered the default set of [1,2,3,4]\n",
    "                                     )\n",
    "print(res.k)\n",
    "print(res.ks)\n",
    "print('p =', res.p, ',', res.k, 'PCs used')\n",
    "print('total r^2 between top {} NAM PCs and outcome is {:.2f}'.format(res.k, res.r2))"
   ]
  },
  {
   "cell_type": "code",
   "execution_count": 49,
   "id": "a63f296f-ea7c-48af-a300-2f3c3ccef9f4",
   "metadata": {},
   "outputs": [],
   "source": [
    "np.savetxt(\"/data/srlab/ssg34/SLE_kidney_v2/data/cna_new/myeloid/age_sex_response_race/sc_race_[A]_ncorr.csv\", \n",
    "               res.ncorrs, delimiter=\",\")\n",
    "np.savetxt(\"/data/srlab/ssg34/SLE_kidney_v2/data/cna_new/myeloid/age_sex_response_race/sc_race_[A]_fdrs.csv\", \n",
    "               res.fdrs, delimiter=\",\")"
   ]
  },
  {
   "cell_type": "code",
   "execution_count": 50,
   "id": "e52dd1bc-57a8-45a2-bd0e-482d79623768",
   "metadata": {},
   "outputs": [],
   "source": [
    "sc_uni['Race'] = res.p"
   ]
  },
  {
   "cell_type": "code",
   "execution_count": 42,
   "id": "531e67dd-9f6f-49ef-a522-35ffbdba780c",
   "metadata": {},
   "outputs": [
    {
     "name": "stdout",
     "output_type": "stream",
     "text": [
      "performing association test\n",
      "computing neighborhood-level FDRs\n",
      "7\n",
      "[1, 2, 3, 4, 5, 6, 7, 8, 9, 10, 11, 12, 13, 14, 15, 16, 17, 18, 19, 20]\n",
      "p = 0.31686831316868314 , 7 PCs used\n",
      "total r^2 between top 7 NAM PCs and outcome is 0.08\n"
     ]
    }
   ],
   "source": [
    "np.random.seed(0) \n",
    "res = cna.tl._association.association(d, #dataset \n",
    "                                      d.samplem['Race_[A][B]'], #phenotype\n",
    "#                                       batches=d.samplem.processing_batch, #batches\n",
    "                                      Nnull=10000, # number of null permutations to do (defaults to only 1e3)\n",
    "                                      ks=[1,2,3,4,5,6,7,8,9,10,11,12,13,14,15,16,17,18,19,20] # I asked the method to consider up to 10 PCs because\n",
    "                                                                #it chose the max number of PCs it considered the default set of [1,2,3,4]\n",
    "                                     )\n",
    "print(res.k)\n",
    "print(res.ks)\n",
    "print('p =', res.p, ',', res.k, 'PCs used')\n",
    "print('total r^2 between top {} NAM PCs and outcome is {:.2f}'.format(res.k, res.r2))"
   ]
  },
  {
   "cell_type": "code",
   "execution_count": 43,
   "id": "ba5cac92-bceb-4c4f-9d8f-36ad9f9133c4",
   "metadata": {},
   "outputs": [
    {
     "name": "stdout",
     "output_type": "stream",
     "text": [
      "performing association test\n",
      "computing neighborhood-level FDRs\n",
      "6\n",
      "[1, 2, 3, 4, 5, 6, 7, 8, 9, 10, 11, 12, 13, 14, 15, 16, 17, 18, 19, 20]\n",
      "p = 0.056894310568943104 , 6 PCs used\n",
      "total r^2 between top 6 NAM PCs and outcome is 0.10\n"
     ]
    }
   ],
   "source": [
    "np.random.seed(0) \n",
    "res = cna.tl._association.association(d, #dataset \n",
    "                                      d.samplem['Race_[B]'], #phenotype\n",
    "#                                       batches=d.samplem.processing_batch, #batches\n",
    "                                      Nnull=10000, # number of null permutations to do (defaults to only 1e3)\n",
    "                                      ks=[1,2,3,4,5,6,7,8,9,10,11,12,13,14,15,16,17,18,19,20] # I asked the method to consider up to 10 PCs because\n",
    "                                                                #it chose the max number of PCs it considered the default set of [1,2,3,4]\n",
    "                                     )\n",
    "print(res.k)\n",
    "print(res.ks)\n",
    "print('p =', res.p, ',', res.k, 'PCs used')\n",
    "print('total r^2 between top {} NAM PCs and outcome is {:.2f}'.format(res.k, res.r2))"
   ]
  },
  {
   "cell_type": "code",
   "execution_count": 44,
   "id": "2e0146fb-240a-4933-afc7-cdaf62790ecf",
   "metadata": {},
   "outputs": [
    {
     "name": "stdout",
     "output_type": "stream",
     "text": [
      "performing association test\n",
      "computing neighborhood-level FDRs\n",
      "2\n",
      "[1, 2, 3, 4, 5, 6, 7, 8, 9, 10, 11, 12, 13, 14, 15, 16, 17, 18, 19, 20]\n",
      "p = 0.9752024797520248 , 2 PCs used\n",
      "total r^2 between top 2 NAM PCs and outcome is 0.00\n"
     ]
    }
   ],
   "source": [
    "np.random.seed(0) \n",
    "res = cna.tl._association.association(d, #dataset \n",
    "                                      d.samplem['Race_[B][AI]'], #phenotype\n",
    "#                                       batches=d.samplem.processing_batch, #batches\n",
    "                                      Nnull=10000, # number of null permutations to do (defaults to only 1e3)\n",
    "                                      ks=[1,2,3,4,5,6,7,8,9,10,11,12,13,14,15,16,17,18,19,20] # I asked the method to consider up to 10 PCs because\n",
    "                                                                #it chose the max number of PCs it considered the default set of [1,2,3,4]\n",
    "                                     )\n",
    "print(res.k)\n",
    "print(res.ks)\n",
    "print('p =', res.p, ',', res.k, 'PCs used')\n",
    "print('total r^2 between top {} NAM PCs and outcome is {:.2f}'.format(res.k, res.r2))"
   ]
  },
  {
   "cell_type": "code",
   "execution_count": 45,
   "id": "fe06ec20-3671-4dc2-b16f-fbb4a9adc387",
   "metadata": {},
   "outputs": [
    {
     "name": "stdout",
     "output_type": "stream",
     "text": [
      "performing association test\n",
      "computing neighborhood-level FDRs\n",
      "1\n",
      "[1, 2, 3, 4, 5, 6, 7, 8, 9, 10, 11, 12, 13, 14, 15, 16, 17, 18, 19, 20]\n",
      "p = 0.6046395360463953 , 1 PCs used\n",
      "total r^2 between top 1 NAM PCs and outcome is 0.01\n"
     ]
    }
   ],
   "source": [
    "np.random.seed(0) \n",
    "res = cna.tl._association.association(d, #dataset \n",
    "                                      d.samplem['Race_[B][W]'], #phenotype\n",
    "#                                       batches=d.samplem.processing_batch, #batches\n",
    "                                      Nnull=10000, # number of null permutations to do (defaults to only 1e3)\n",
    "                                      ks=[1,2,3,4,5,6,7,8,9,10,11,12,13,14,15,16,17,18,19,20] # I asked the method to consider up to 10 PCs because\n",
    "                                                                #it chose the max number of PCs it considered the default set of [1,2,3,4]\n",
    "                                     )\n",
    "print(res.k)\n",
    "print(res.ks)\n",
    "print('p =', res.p, ',', res.k, 'PCs used')\n",
    "print('total r^2 between top {} NAM PCs and outcome is {:.2f}'.format(res.k, res.r2))"
   ]
  },
  {
   "cell_type": "code",
   "execution_count": 46,
   "id": "42643fdb-4a6b-4482-b508-56a827753237",
   "metadata": {},
   "outputs": [
    {
     "name": "stdout",
     "output_type": "stream",
     "text": [
      "performing association test\n",
      "computing neighborhood-level FDRs\n",
      "19\n",
      "[1, 2, 3, 4, 5, 6, 7, 8, 9, 10, 11, 12, 13, 14, 15, 16, 17, 18, 19, 20]\n",
      "p = 0.5907409259074092 , 19 PCs used\n",
      "total r^2 between top 19 NAM PCs and outcome is 0.14\n"
     ]
    }
   ],
   "source": [
    "np.random.seed(0) \n",
    "res = cna.tl._association.association(d, #dataset \n",
    "                                      d.samplem['Race_[U]'], #phenotype\n",
    "#                                       batches=d.samplem.processing_batch, #batches\n",
    "                                      Nnull=10000, # number of null permutations to do (defaults to only 1e3)\n",
    "                                      ks=[1,2,3,4,5,6,7,8,9,10,11,12,13,14,15,16,17,18,19,20] # I asked the method to consider up to 10 PCs because\n",
    "                                                                #it chose the max number of PCs it considered the default set of [1,2,3,4]\n",
    "                                     )\n",
    "print(res.k)\n",
    "print(res.ks)\n",
    "print('p =', res.p, ',', res.k, 'PCs used')\n",
    "print('total r^2 between top {} NAM PCs and outcome is {:.2f}'.format(res.k, res.r2))"
   ]
  },
  {
   "cell_type": "code",
   "execution_count": 47,
   "id": "78a610c8-0e7d-4090-a0f9-7f0038f4acb6",
   "metadata": {},
   "outputs": [
    {
     "name": "stdout",
     "output_type": "stream",
     "text": [
      "performing association test\n",
      "computing neighborhood-level FDRs\n",
      "7\n",
      "[1, 2, 3, 4, 5, 6, 7, 8, 9, 10, 11, 12, 13, 14, 15, 16, 17, 18, 19, 20]\n",
      "p = 0.27947205279472054 , 7 PCs used\n",
      "total r^2 between top 7 NAM PCs and outcome is 0.08\n"
     ]
    }
   ],
   "source": [
    "np.random.seed(0) \n",
    "res = cna.tl._association.association(d, #dataset \n",
    "                                      d.samplem['Race_[W]'], #phenotype\n",
    "#                                       batches=d.samplem.processing_batch, #batches\n",
    "                                      Nnull=10000, # number of null permutations to do (defaults to only 1e3)\n",
    "                                      ks=[1,2,3,4,5,6,7,8,9,10,11,12,13,14,15,16,17,18,19,20] # I asked the method to consider up to 10 PCs because\n",
    "                                                                #it chose the max number of PCs it considered the default set of [1,2,3,4]\n",
    "                                     )\n",
    "print(res.k)\n",
    "print(res.ks)\n",
    "print('p =', res.p, ',', res.k, 'PCs used')\n",
    "print('total r^2 between top {} NAM PCs and outcome is {:.2f}'.format(res.k, res.r2))"
   ]
  },
  {
   "cell_type": "markdown",
   "id": "25854373-bdef-4140-9cde-a07868b63be1",
   "metadata": {},
   "source": [
    "## Single Nuclei"
   ]
  },
  {
   "cell_type": "code",
   "execution_count": 72,
   "id": "d73c7fb9-76ea-43d9-a374-68139a358a56",
   "metadata": {},
   "outputs": [
    {
     "name": "stdout",
     "output_type": "stream",
     "text": [
      "(1487, 13)\n"
     ]
    }
   ],
   "source": [
    "meta = pd.read_csv('/data/srlab/ssg34/SLE_kidney_v2/data/cna_new/myeloid/age_sex_response_race/sn_meta_race.csv')\n",
    "print(meta.shape)"
   ]
  },
  {
   "cell_type": "code",
   "execution_count": 73,
   "id": "0a1238e6-7543-41c1-bd75-e0100136f504",
   "metadata": {},
   "outputs": [
    {
     "name": "stdout",
     "output_type": "stream",
     "text": [
      "(1487, 20)\n"
     ]
    }
   ],
   "source": [
    "harmony = pd.read_csv('/data/srlab/ssg34/SLE_kidney_v2/data/cna_new/myeloid/age_sex_response_race/sn_harmony_race.csv')\n",
    "print(harmony.shape)"
   ]
  },
  {
   "cell_type": "code",
   "execution_count": 74,
   "id": "66bf2646-3de6-4c18-ba54-275dbd9e8bb8",
   "metadata": {},
   "outputs": [
    {
     "name": "stdout",
     "output_type": "stream",
     "text": [
      "(1487, 2)\n"
     ]
    }
   ],
   "source": [
    "umap = pd.read_csv('/data/srlab/ssg34/SLE_kidney_v2/data/cna_new/myeloid/age_sex_response_race/sn_umap_race.csv')\n",
    "print(umap.shape)"
   ]
  },
  {
   "cell_type": "code",
   "execution_count": 75,
   "id": "4cdf6bed-f486-4d13-b4ab-80ba645673b1",
   "metadata": {},
   "outputs": [
    {
     "name": "stdout",
     "output_type": "stream",
     "text": [
      "warning: the following columns of obs are non-numeric.\n",
      "['cell' 'Sex' 'sample' 'final_annotation' 'Responder.Status' 'Race' 'ISN'\n",
      " 'Type']\n",
      "consider casting to numeric types where appropriate, and\n",
      "consider re-coding text-valued columns with pandas.get_dummies\n"
     ]
    },
    {
     "name": "stderr",
     "output_type": "stream",
     "text": [
      "/PHShome/ssg34/.conda/envs/plswork/lib/python3.9/site-packages/multianndata/core.py:17: FutureWarning: X.dtype being converted to np.float32 from float64. In the next version of anndata (0.9) conversion will not be automatic. Pass dtype explicitly to avoid this warning. Pass `AnnData(X, dtype=X.dtype, ...)` to get the future behavour.\n",
      "  super().__init__(*args, **kwargs)\n",
      "/PHShome/ssg34/.conda/envs/plswork/lib/python3.9/site-packages/anndata/_core/anndata.py:121: ImplicitModificationWarning: Transforming to str index.\n",
      "  warnings.warn(\"Transforming to str index.\", ImplicitModificationWarning)\n"
     ]
    },
    {
     "data": {
      "text/html": [
       "<div>\n",
       "<style scoped>\n",
       "    .dataframe tbody tr th:only-of-type {\n",
       "        vertical-align: middle;\n",
       "    }\n",
       "\n",
       "    .dataframe tbody tr th {\n",
       "        vertical-align: top;\n",
       "    }\n",
       "\n",
       "    .dataframe thead th {\n",
       "        text-align: right;\n",
       "    }\n",
       "</style>\n",
       "<table border=\"1\" class=\"dataframe\">\n",
       "  <thead>\n",
       "    <tr style=\"text-align: right;\">\n",
       "      <th></th>\n",
       "      <th>Race_[A]</th>\n",
       "      <th>Race_[B]</th>\n",
       "      <th>Race_[U]</th>\n",
       "      <th>Race_[W]</th>\n",
       "    </tr>\n",
       "    <tr>\n",
       "      <th>sample</th>\n",
       "      <th></th>\n",
       "      <th></th>\n",
       "      <th></th>\n",
       "      <th></th>\n",
       "    </tr>\n",
       "  </thead>\n",
       "  <tbody>\n",
       "    <tr>\n",
       "      <th>AMPSLEkid_cells_0137</th>\n",
       "      <td>0.0</td>\n",
       "      <td>1.0</td>\n",
       "      <td>0.0</td>\n",
       "      <td>0.0</td>\n",
       "    </tr>\n",
       "    <tr>\n",
       "      <th>AMPSLEkid_cells_0138</th>\n",
       "      <td>0.0</td>\n",
       "      <td>0.0</td>\n",
       "      <td>1.0</td>\n",
       "      <td>0.0</td>\n",
       "    </tr>\n",
       "    <tr>\n",
       "      <th>AMPSLEkid_cells_0139</th>\n",
       "      <td>0.0</td>\n",
       "      <td>1.0</td>\n",
       "      <td>0.0</td>\n",
       "      <td>0.0</td>\n",
       "    </tr>\n",
       "    <tr>\n",
       "      <th>AMPSLEkid_cells_0147</th>\n",
       "      <td>0.0</td>\n",
       "      <td>0.0</td>\n",
       "      <td>1.0</td>\n",
       "      <td>0.0</td>\n",
       "    </tr>\n",
       "    <tr>\n",
       "      <th>AMPSLEkid_cells_0366</th>\n",
       "      <td>0.0</td>\n",
       "      <td>0.0</td>\n",
       "      <td>0.0</td>\n",
       "      <td>1.0</td>\n",
       "    </tr>\n",
       "  </tbody>\n",
       "</table>\n",
       "</div>"
      ],
      "text/plain": [
       "                      Race_[A]  Race_[B]  Race_[U]  Race_[W]\n",
       "sample                                                      \n",
       "AMPSLEkid_cells_0137       0.0       1.0       0.0       0.0\n",
       "AMPSLEkid_cells_0138       0.0       0.0       1.0       0.0\n",
       "AMPSLEkid_cells_0139       0.0       1.0       0.0       0.0\n",
       "AMPSLEkid_cells_0147       0.0       0.0       1.0       0.0\n",
       "AMPSLEkid_cells_0366       0.0       0.0       0.0       1.0"
      ]
     },
     "execution_count": 75,
     "metadata": {},
     "output_type": "execute_result"
    }
   ],
   "source": [
    "# Start by making anndata object\n",
    "d = mad.MultiAnnData(X=harmony, obs=meta, sampleid=\"sample\")\n",
    "#d.obs_to_sample(['Type', 'Site',\n",
    "#                 'Responder_Status', 'Sex',\n",
    "#                 'Age', 'Race',\n",
    "#                'Ethnicity', 'ISN',\n",
    "#               'Activity', \"Chronicity\",\n",
    "#                 'processing_batch'])\n",
    "d.obs_to_sample(['Race_[A]', 'Race_[B]', 'Race_[U]', 'Race_[W]'])\n",
    "d.samplem.head()"
   ]
  },
  {
   "cell_type": "code",
   "execution_count": 76,
   "id": "9ad22794-49ec-4a7f-a532-43174b66c32c",
   "metadata": {},
   "outputs": [],
   "source": [
    "umap.index = d.obs.index\n",
    "d.obsm['X_umap'] = umap"
   ]
  },
  {
   "cell_type": "code",
   "execution_count": 77,
   "id": "2e695907-b92b-41dc-b33e-fd5f707236fa",
   "metadata": {},
   "outputs": [
    {
     "name": "stdout",
     "output_type": "stream",
     "text": [
      "computing default knn graph\n"
     ]
    }
   ],
   "source": [
    "np.random.seed(0) \n",
    "cna.pp.knn(d)"
   ]
  },
  {
   "cell_type": "code",
   "execution_count": 78,
   "id": "29e85419-4802-448c-a75a-ac9b3be62871",
   "metadata": {},
   "outputs": [
    {
     "name": "stdout",
     "output_type": "stream",
     "text": [
      "qcd NAM not found; computing and saving\n",
      "\ttaking step 1\n",
      "\tmedian kurtosis: 9.628332899270587\n",
      "\t20th percentile R2(t,t-1): nan\n",
      "\ttaking step 2\n",
      "\tmedian kurtosis: 6.663029766039728\n",
      "\t20th percentile R2(t,t-1): 0.7500368475914001\n",
      "\ttaking step 3\n",
      "\tmedian kurtosis: 5.743309318804722\n",
      "\t20th percentile R2(t,t-1): 0.9234215617179871\n",
      "stopping after 3 steps\n",
      "covariate-adjusted NAM not found; computing and saving\n",
      "computing SVD\n",
      "performing association test\n"
     ]
    },
    {
     "name": "stderr",
     "output_type": "stream",
     "text": [
      "/PHShome/ssg34/.conda/envs/plswork/lib/python3.9/site-packages/cna/tools/_nam.py:79: UserWarning: only one unique batch supplied to qc\n",
      "  warnings.warn('only one unique batch supplied to qc')\n",
      "/PHShome/ssg34/.conda/envs/plswork/lib/python3.9/site-packages/cna/tools/_nam.py:101: UserWarning: only one unique batch supplied to prep\n",
      "  warnings.warn('only one unique batch supplied to prep')\n",
      "/PHShome/ssg34/.conda/envs/plswork/lib/python3.9/site-packages/cna/tools/_association.py:57: UserWarning: data supported use of 20 NAM PCs, which is the maximum considered. Consider allowing more PCs by using the \"ks\" argument.\n",
      "  warnings.warn(('data supported use of {} NAM PCs, which is the maximum considered. '+\\\n"
     ]
    },
    {
     "name": "stdout",
     "output_type": "stream",
     "text": [
      "computing neighborhood-level FDRs\n",
      "20\n",
      "[1, 2, 3, 4, 5, 6, 7, 8, 9, 10, 11, 12, 13, 14, 15, 16, 17, 18, 19, 20]\n",
      "p = 0.06729327067293271 , 20 PCs used\n",
      "total r^2 between top 20 NAM PCs and outcome is 0.74\n"
     ]
    }
   ],
   "source": [
    "np.random.seed(0) \n",
    "res = cna.tl._association.association(d, #dataset \n",
    "                                      d.samplem['Race_[A]'], #phenotype\n",
    "#                                       batches=d.samplem.processing_batch, #batches\n",
    "                                      Nnull=10000, # number of null permutations to do (defaults to only 1e3)\n",
    "                                      ks=[1,2,3,4,5,6,7,8,9,10,11,12,13,14,15,16,17,18,19,20] # I asked the method to consider up to 10 PCs because\n",
    "                                                                #it chose the max number of PCs it considered the default set of [1,2,3,4]\n",
    "                                     )\n",
    "print(res.k)\n",
    "print(res.ks)\n",
    "print('p =', res.p, ',', res.k, 'PCs used')\n",
    "print('total r^2 between top {} NAM PCs and outcome is {:.2f}'.format(res.k, res.r2))"
   ]
  },
  {
   "cell_type": "code",
   "execution_count": 79,
   "id": "81853627-8f45-4678-9965-90ddd7ad8c42",
   "metadata": {},
   "outputs": [],
   "source": [
    "np.savetxt(\"/data/srlab/ssg34/SLE_kidney_v2/data/cna_new/myeloid/age_sex_response_race/sn_race_[A]_ncorr.csv\", \n",
    "               res.ncorrs, delimiter=\",\")\n",
    "np.savetxt(\"/data/srlab/ssg34/SLE_kidney_v2/data/cna_new/myeloid/age_sex_response_race/sn_race_[A]_fdrs.csv\", \n",
    "               res.fdrs, delimiter=\",\")"
   ]
  },
  {
   "cell_type": "markdown",
   "id": "2cbe0187-e36b-4a19-958f-f7eceea5c79a",
   "metadata": {},
   "source": [
    "# Case/Control"
   ]
  },
  {
   "cell_type": "markdown",
   "id": "02aaf8c8-02c6-4211-8bc3-89975225bd1c",
   "metadata": {},
   "source": [
    "## Single Nuclei"
   ]
  },
  {
   "cell_type": "code",
   "execution_count": 2,
   "id": "17f1e94d-2a7a-4998-8501-648cf7b988ec",
   "metadata": {},
   "outputs": [
    {
     "name": "stdout",
     "output_type": "stream",
     "text": [
      "(1494, 72)\n"
     ]
    }
   ],
   "source": [
    "meta = pd.read_csv('/data/srlab/ssg34/SLE_kidney_v2/data/cna/myeloid/sn_myeloid_casecontrol_meta.csv')\n",
    "meta = meta.join(pd.get_dummies(meta['Race'], prefix = \"Race\", prefix_sep = \"\", drop_first = False))\n",
    "meta = meta.join(pd.get_dummies(meta['Site'], prefix = \"Site\", prefix_sep = \"\", drop_first = False))\n",
    "meta = meta.join(pd.get_dummies(meta['Responder.Status'], prefix = \"\", prefix_sep = \"\", drop_first = False))\n",
    "print(meta.shape)"
   ]
  },
  {
   "cell_type": "code",
   "execution_count": 3,
   "id": "ae349952-1338-4c63-96f3-c4a90cc90f39",
   "metadata": {},
   "outputs": [
    {
     "name": "stdout",
     "output_type": "stream",
     "text": [
      "(1494, 20)\n"
     ]
    }
   ],
   "source": [
    "harmony = pd.read_csv('/data/srlab/ssg34/SLE_kidney_v2/data/cna/myeloid/sn_myeloid_casecontrol_harmony.csv')\n",
    "print(harmony.shape)"
   ]
  },
  {
   "cell_type": "code",
   "execution_count": 4,
   "id": "9e731a2b-bc79-4792-8f23-496b28c80b75",
   "metadata": {},
   "outputs": [
    {
     "name": "stdout",
     "output_type": "stream",
     "text": [
      "(1494, 2)\n"
     ]
    }
   ],
   "source": [
    "umap = pd.read_csv('/data/srlab/ssg34/SLE_kidney_v2/data/cna/myeloid/sn_myeloid_casecontrol_umap.csv')\n",
    "print(umap.shape)"
   ]
  },
  {
   "cell_type": "code",
   "execution_count": 5,
   "id": "303e8be4-2819-45f8-9dcd-cd24c7a3e40a",
   "metadata": {},
   "outputs": [
    {
     "name": "stdout",
     "output_type": "stream",
     "text": [
      "warning: the following columns of obs are non-numeric.\n",
      "['cell' 'sample' 'Annot.separate' 'dataset' 'Site' 'Type' 'broad.type'\n",
      " 'doublet_classification' 'annotation' 'AMP.ID'\n",
      " 'Clinical.Response.at.12.weeks' 'Clinical.Response.at.26.weeks'\n",
      " 'Clinical.Response.at.52.weeks' 'Responder.Status' 'Race'\n",
      " 'processing.date' 'XTR.WTA.batch' 'DASH.batch' 'index'\n",
      " 'seq.submission.date' 'Flow.cell']\n",
      "consider casting to numeric types where appropriate, and\n",
      "consider re-coding text-valued columns with pandas.get_dummies\n"
     ]
    },
    {
     "name": "stderr",
     "output_type": "stream",
     "text": [
      "/PHShome/ssg34/.conda/envs/plswork/lib/python3.9/site-packages/multianndata/core.py:17: FutureWarning: X.dtype being converted to np.float32 from float64. In the next version of anndata (0.9) conversion will not be automatic. Pass dtype explicitly to avoid this warning. Pass `AnnData(X, dtype=X.dtype, ...)` to get the future behavour.\n",
      "  super().__init__(*args, **kwargs)\n",
      "/PHShome/ssg34/.conda/envs/plswork/lib/python3.9/site-packages/anndata/_core/anndata.py:121: ImplicitModificationWarning: Transforming to str index.\n",
      "  warnings.warn(\"Transforming to str index.\", ImplicitModificationWarning)\n"
     ]
    },
    {
     "data": {
      "text/html": [
       "<div>\n",
       "<style scoped>\n",
       "    .dataframe tbody tr th:only-of-type {\n",
       "        vertical-align: middle;\n",
       "    }\n",
       "\n",
       "    .dataframe tbody tr th {\n",
       "        vertical-align: top;\n",
       "    }\n",
       "\n",
       "    .dataframe thead th {\n",
       "        text-align: right;\n",
       "    }\n",
       "</style>\n",
       "<table border=\"1\" class=\"dataframe\">\n",
       "  <thead>\n",
       "    <tr style=\"text-align: right;\">\n",
       "      <th></th>\n",
       "      <th>Type_numeric</th>\n",
       "    </tr>\n",
       "    <tr>\n",
       "      <th>individual</th>\n",
       "      <th></th>\n",
       "    </tr>\n",
       "  </thead>\n",
       "  <tbody>\n",
       "    <tr>\n",
       "      <th>137</th>\n",
       "      <td>2.0</td>\n",
       "    </tr>\n",
       "    <tr>\n",
       "      <th>138</th>\n",
       "      <td>2.0</td>\n",
       "    </tr>\n",
       "    <tr>\n",
       "      <th>139</th>\n",
       "      <td>2.0</td>\n",
       "    </tr>\n",
       "    <tr>\n",
       "      <th>147</th>\n",
       "      <td>2.0</td>\n",
       "    </tr>\n",
       "    <tr>\n",
       "      <th>366</th>\n",
       "      <td>2.0</td>\n",
       "    </tr>\n",
       "  </tbody>\n",
       "</table>\n",
       "</div>"
      ],
      "text/plain": [
       "            Type_numeric\n",
       "individual              \n",
       "137                  2.0\n",
       "138                  2.0\n",
       "139                  2.0\n",
       "147                  2.0\n",
       "366                  2.0"
      ]
     },
     "execution_count": 5,
     "metadata": {},
     "output_type": "execute_result"
    }
   ],
   "source": [
    "# Start by making anndata object\n",
    "d = mad.MultiAnnData(X=harmony, obs=meta, sampleid=\"individual\")\n",
    "#d.obs_to_sample(['Type', 'Site',\n",
    "#                 'Responder_Status', 'Sex',\n",
    "#                 'Age', 'Race',\n",
    "#                'Ethnicity', 'ISN',\n",
    "#               'Activity', \"Chronicity\",\n",
    "#                 'processing_batch'])\n",
    "d.obs_to_sample(['Type_numeric'])\n",
    "d.samplem.head()"
   ]
  },
  {
   "cell_type": "code",
   "execution_count": 6,
   "id": "d184690d-c055-4155-9ca2-2f5a6c1408f8",
   "metadata": {},
   "outputs": [],
   "source": [
    "umap.index = d.obs.index\n",
    "d.obsm['X_umap'] = umap"
   ]
  },
  {
   "cell_type": "code",
   "execution_count": 7,
   "id": "2af6060e-700b-454d-91f1-d03340fab8d0",
   "metadata": {},
   "outputs": [
    {
     "name": "stdout",
     "output_type": "stream",
     "text": [
      "computing default knn graph\n"
     ]
    },
    {
     "name": "stderr",
     "output_type": "stream",
     "text": [
      "/PHShome/ssg34/.conda/envs/plswork/lib/python3.9/site-packages/tqdm/auto.py:22: TqdmWarning: IProgress not found. Please update jupyter and ipywidgets. See https://ipywidgets.readthedocs.io/en/stable/user_install.html\n",
      "  from .autonotebook import tqdm as notebook_tqdm\n"
     ]
    }
   ],
   "source": [
    "np.random.seed(0) \n",
    "cna.pp.knn(d)"
   ]
  },
  {
   "cell_type": "code",
   "execution_count": 8,
   "id": "a48d9afd-8299-409a-ba80-f527812fb2e7",
   "metadata": {},
   "outputs": [
    {
     "name": "stdout",
     "output_type": "stream",
     "text": [
      "qcd NAM not found; computing and saving\n",
      "\ttaking step 1\n",
      "\tmedian kurtosis: 11.795512619291355\n",
      "\t20th percentile R2(t,t-1): nan\n",
      "\ttaking step 2\n",
      "\tmedian kurtosis: 8.235973252678189\n",
      "\t20th percentile R2(t,t-1): 0.7509175539016724\n",
      "\ttaking step 3\n",
      "\tmedian kurtosis: 7.166767252813057\n",
      "\t20th percentile R2(t,t-1): 0.9226679682731629\n",
      "stopping after 3 steps\n",
      "covariate-adjusted NAM not found; computing and saving\n",
      "computing SVD\n"
     ]
    },
    {
     "name": "stderr",
     "output_type": "stream",
     "text": [
      "/PHShome/ssg34/.conda/envs/plswork/lib/python3.9/site-packages/cna/tools/_nam.py:79: UserWarning: only one unique batch supplied to qc\n",
      "  warnings.warn('only one unique batch supplied to qc')\n",
      "/PHShome/ssg34/.conda/envs/plswork/lib/python3.9/site-packages/cna/tools/_nam.py:101: UserWarning: only one unique batch supplied to prep\n",
      "  warnings.warn('only one unique batch supplied to prep')\n",
      "/PHShome/ssg34/.conda/envs/plswork/lib/python3.9/site-packages/cna/tools/_association.py:57: UserWarning: data supported use of 20 NAM PCs, which is the maximum considered. Consider allowing more PCs by using the \"ks\" argument.\n",
      "  warnings.warn(('data supported use of {} NAM PCs, which is the maximum considered. '+\\\n"
     ]
    },
    {
     "name": "stdout",
     "output_type": "stream",
     "text": [
      "performing association test\n",
      "computing neighborhood-level FDRs\n",
      "20\n",
      "[1, 2, 3, 4, 5, 6, 7, 8, 9, 10, 11, 12, 13, 14, 15, 16, 17, 18, 19, 20]\n",
      "p = 0.0007999200079992001 , 20 PCs used\n",
      "total r^2 between top 20 NAM PCs and outcome is 0.99\n"
     ]
    }
   ],
   "source": [
    "np.random.seed(0) \n",
    "res = cna.tl._association.association(d, #dataset \n",
    "                                      d.samplem.Type_numeric, #phenotype\n",
    "#                                       batches=d.samplem.processing_batch, #batches\n",
    "                                      Nnull=10000, # number of null permutations to do (defaults to only 1e3)\n",
    "                                      ks=[1,2,3,4,5,6,7,8,9,10,11,12,13,14,15,16,17,18,19,20] # I asked the method to consider up to 10 PCs because\n",
    "                                                                #it chose the max number of PCs it considered the default set of [1,2,3,4]\n",
    "                                     )\n",
    "print(res.k)\n",
    "print(res.ks)\n",
    "print('p =', res.p, ',', res.k, 'PCs used')\n",
    "print('total r^2 between top {} NAM PCs and outcome is {:.2f}'.format(res.k, res.r2))"
   ]
  },
  {
   "cell_type": "code",
   "execution_count": 12,
   "id": "2a395ea9-7351-4686-9a57-1851a9d2a235",
   "metadata": {},
   "outputs": [],
   "source": [
    "np.savetxt(\"/data/srlab/ssg34/SLE_kidney_v2/data/cna/myeloid/sn_myeloid_casecontrol.kept.csv\", res.kept, delimiter=\",\")\n",
    "np.savetxt(\"/data/srlab/ssg34/SLE_kidney_v2/data/cna/myeloid/sn_myeloid_casecontrol.ncorrs.csv\", res.ncorrs, delimiter=\",\")\n",
    "np.savetxt(\"/data/srlab/ssg34/SLE_kidney_v2/data/cna/myeloid/sn_myeloid_casecontrol.fdrs.csv\", res.fdrs, delimiter=\",\")\n",
    "np.savetxt(\"/data/srlab/ssg34/SLE_kidney_v2/data/cna/myeloid/sn_myeloid_casecontrol.thresh.csv\", [res.fdr_10p_t], delimiter=\",\")"
   ]
  },
  {
   "cell_type": "markdown",
   "id": "81307a33-01cd-4e1d-b487-bcf85d8ee01d",
   "metadata": {},
   "source": [
    "## Single Cell"
   ]
  },
  {
   "cell_type": "code",
   "execution_count": 21,
   "id": "51080f3a-10d4-454a-b164-7cce8468271f",
   "metadata": {},
   "outputs": [
    {
     "name": "stdout",
     "output_type": "stream",
     "text": [
      "(24084, 82)\n"
     ]
    },
    {
     "name": "stderr",
     "output_type": "stream",
     "text": [
      "/tmp/ipykernel_9116/370684066.py:1: DtypeWarning: Columns (52) have mixed types. Specify dtype option on import or set low_memory=False.\n",
      "  meta = pd.read_csv('/data/srlab/ssg34/SLE_kidney_v2/data/cna/myeloid/sc_myeloid_casecontrol.meta.csv')\n"
     ]
    }
   ],
   "source": [
    "meta = pd.read_csv('/data/srlab/ssg34/SLE_kidney_v2/data/cna/myeloid/sc_myeloid_casecontrol.meta.csv')\n",
    "meta = meta.join(pd.get_dummies(meta['Race'], prefix = \"Race\", prefix_sep = \"\", drop_first = False))\n",
    "meta = meta.join(pd.get_dummies(meta['Site'], prefix = \"Site\", prefix_sep = \"\", drop_first = False))\n",
    "meta = meta.join(pd.get_dummies(meta['Responder.Status'], prefix = \"\", prefix_sep = \"\", drop_first = False))\n",
    "print(meta.shape)"
   ]
  },
  {
   "cell_type": "code",
   "execution_count": 22,
   "id": "a279663e-9212-42dc-ba7d-089016e19881",
   "metadata": {},
   "outputs": [
    {
     "name": "stdout",
     "output_type": "stream",
     "text": [
      "(24084, 20)\n"
     ]
    }
   ],
   "source": [
    "harmony = pd.read_csv('/data/srlab/ssg34/SLE_kidney_v2/data/cna/myeloid/sc_myeloid_casecontrol_harmony.csv')\n",
    "print(harmony.shape)"
   ]
  },
  {
   "cell_type": "code",
   "execution_count": 23,
   "id": "593e17fb-6d54-4a9e-bc40-1a1d293f5ac2",
   "metadata": {},
   "outputs": [
    {
     "name": "stdout",
     "output_type": "stream",
     "text": [
      "(24084, 2)\n"
     ]
    }
   ],
   "source": [
    "umap = pd.read_csv('/data/srlab/ssg34/SLE_kidney_v2/data/cna/myeloid/sc_myeloid_casecontrol_umap.csv')\n",
    "print(umap.shape)"
   ]
  },
  {
   "cell_type": "code",
   "execution_count": 24,
   "id": "594b328e-bd3b-4695-b23c-e675f6fb6700",
   "metadata": {},
   "outputs": [
    {
     "name": "stdout",
     "output_type": "stream",
     "text": [
      "warning: the following columns of obs are non-numeric.\n",
      "['cell' 'sample' 'Annot.separate' 'dataset' 'Site' 'Type' 'broad.type'\n",
      " 'doublet_classification' 'annotation' 'AMP.ID'\n",
      " 'Clinical.Response.at.12.weeks' 'Clinical.Response.at.26.weeks'\n",
      " 'Clinical.Response.at.52.weeks' 'Responder.Status' 'Race'\n",
      " 'processing.date' 'XTR.WTA.batch' 'DASH.batch' 'index'\n",
      " 'seq.submission.date' 'Flow.cell' 'biopsy.length.from.site.mm']\n",
      "consider casting to numeric types where appropriate, and\n",
      "consider re-coding text-valued columns with pandas.get_dummies\n"
     ]
    },
    {
     "name": "stderr",
     "output_type": "stream",
     "text": [
      "/PHShome/ssg34/.conda/envs/plswork/lib/python3.9/site-packages/multianndata/core.py:17: FutureWarning: X.dtype being converted to np.float32 from float64. In the next version of anndata (0.9) conversion will not be automatic. Pass dtype explicitly to avoid this warning. Pass `AnnData(X, dtype=X.dtype, ...)` to get the future behavour.\n",
      "  super().__init__(*args, **kwargs)\n",
      "/PHShome/ssg34/.conda/envs/plswork/lib/python3.9/site-packages/anndata/_core/anndata.py:121: ImplicitModificationWarning: Transforming to str index.\n",
      "  warnings.warn(\"Transforming to str index.\", ImplicitModificationWarning)\n"
     ]
    },
    {
     "data": {
      "text/html": [
       "<div>\n",
       "<style scoped>\n",
       "    .dataframe tbody tr th:only-of-type {\n",
       "        vertical-align: middle;\n",
       "    }\n",
       "\n",
       "    .dataframe tbody tr th {\n",
       "        vertical-align: top;\n",
       "    }\n",
       "\n",
       "    .dataframe thead th {\n",
       "        text-align: right;\n",
       "    }\n",
       "</style>\n",
       "<table border=\"1\" class=\"dataframe\">\n",
       "  <thead>\n",
       "    <tr style=\"text-align: right;\">\n",
       "      <th></th>\n",
       "      <th>Type_numeric</th>\n",
       "    </tr>\n",
       "    <tr>\n",
       "      <th>individual</th>\n",
       "      <th></th>\n",
       "    </tr>\n",
       "  </thead>\n",
       "  <tbody>\n",
       "    <tr>\n",
       "      <th>134</th>\n",
       "      <td>2.0</td>\n",
       "    </tr>\n",
       "    <tr>\n",
       "      <th>137</th>\n",
       "      <td>2.0</td>\n",
       "    </tr>\n",
       "    <tr>\n",
       "      <th>138</th>\n",
       "      <td>2.0</td>\n",
       "    </tr>\n",
       "    <tr>\n",
       "      <th>139</th>\n",
       "      <td>2.0</td>\n",
       "    </tr>\n",
       "    <tr>\n",
       "      <th>140</th>\n",
       "      <td>2.0</td>\n",
       "    </tr>\n",
       "  </tbody>\n",
       "</table>\n",
       "</div>"
      ],
      "text/plain": [
       "            Type_numeric\n",
       "individual              \n",
       "134                  2.0\n",
       "137                  2.0\n",
       "138                  2.0\n",
       "139                  2.0\n",
       "140                  2.0"
      ]
     },
     "execution_count": 24,
     "metadata": {},
     "output_type": "execute_result"
    }
   ],
   "source": [
    "# Start by making anndata object\n",
    "d = mad.MultiAnnData(X=harmony, obs=meta, sampleid=\"individual\")\n",
    "#d.obs_to_sample(['Type', 'Site',\n",
    "#                 'Responder_Status', 'Sex',\n",
    "#                 'Age', 'Race',\n",
    "#                'Ethnicity', 'ISN',\n",
    "#               'Activity', \"Chronicity\",\n",
    "#                 'processing_batch'])\n",
    "d.obs_to_sample(['Type_numeric'])\n",
    "d.samplem.head()"
   ]
  },
  {
   "cell_type": "code",
   "execution_count": 25,
   "id": "80f6a3ca-f3bc-448f-acab-cd850c89d6bb",
   "metadata": {},
   "outputs": [],
   "source": [
    "umap.index = d.obs.index\n",
    "d.obsm['X_umap'] = umap"
   ]
  },
  {
   "cell_type": "code",
   "execution_count": 26,
   "id": "26c9942d-10e9-4116-9d97-e762936ee1a1",
   "metadata": {},
   "outputs": [
    {
     "name": "stdout",
     "output_type": "stream",
     "text": [
      "computing default knn graph\n"
     ]
    }
   ],
   "source": [
    "np.random.seed(0) \n",
    "cna.pp.knn(d)"
   ]
  },
  {
   "cell_type": "code",
   "execution_count": 27,
   "id": "9e40ed7f-5435-4ae8-93a8-f833d03fc467",
   "metadata": {},
   "outputs": [
    {
     "name": "stdout",
     "output_type": "stream",
     "text": [
      "qcd NAM not found; computing and saving\n",
      "\ttaking step 1\n",
      "\tmedian kurtosis: 64.72468045027375\n",
      "\t20th percentile R2(t,t-1): nan\n",
      "\ttaking step 2\n",
      "\tmedian kurtosis: 43.573989523039884\n",
      "\t20th percentile R2(t,t-1): 0.7702297449111939\n",
      "\ttaking step 3\n",
      "\tmedian kurtosis: 32.42415244206855\n",
      "\t20th percentile R2(t,t-1): 0.9175893902778626\n",
      "\ttaking step 4\n",
      "\tmedian kurtosis: 25.660016664722534\n",
      "\t20th percentile R2(t,t-1): 0.9520996809005737\n",
      "\ttaking step 5\n",
      "\tmedian kurtosis: 21.07629927192742\n",
      "\t20th percentile R2(t,t-1): 0.9691211819648743\n",
      "\ttaking step 6\n",
      "\tmedian kurtosis: 18.13784337003996\n",
      "\t20th percentile R2(t,t-1): 0.9793549537658691\n",
      "stopping after 6 steps\n",
      "covariate-adjusted NAM not found; computing and saving\n",
      "computing SVD\n"
     ]
    },
    {
     "name": "stderr",
     "output_type": "stream",
     "text": [
      "/PHShome/ssg34/.conda/envs/plswork/lib/python3.9/site-packages/cna/tools/_nam.py:79: UserWarning: only one unique batch supplied to qc\n",
      "  warnings.warn('only one unique batch supplied to qc')\n",
      "/PHShome/ssg34/.conda/envs/plswork/lib/python3.9/site-packages/cna/tools/_nam.py:101: UserWarning: only one unique batch supplied to prep\n",
      "  warnings.warn('only one unique batch supplied to prep')\n"
     ]
    },
    {
     "name": "stdout",
     "output_type": "stream",
     "text": [
      "performing association test\n"
     ]
    },
    {
     "name": "stderr",
     "output_type": "stream",
     "text": [
      "/PHShome/ssg34/.conda/envs/plswork/lib/python3.9/site-packages/cna/tools/_association.py:74: UserWarning: global association p-value attained minimal possible value. Consider increasing Nnull\n",
      "  warnings.warn('global association p-value attained minimal possible value. '+\\\n"
     ]
    },
    {
     "name": "stdout",
     "output_type": "stream",
     "text": [
      "computing neighborhood-level FDRs\n",
      "16\n",
      "[1, 2, 3, 4, 5, 6, 7, 8, 9, 10, 11, 12, 13, 14, 15, 16, 17, 18, 19, 20]\n",
      "p = 9.999000099990002e-05 , 16 PCs used\n",
      "total r^2 between top 16 NAM PCs and outcome is 0.51\n"
     ]
    }
   ],
   "source": [
    "np.random.seed(0) \n",
    "res = cna.tl._association.association(d, #dataset \n",
    "                                      d.samplem.Type_numeric, #phenotype\n",
    "#                                       batches=d.samplem.processing_batch, #batches\n",
    "                                      Nnull=10000, # number of null permutations to do (defaults to only 1e3)\n",
    "                                      ks=[1,2,3,4,5,6,7,8,9,10,11,12,13,14,15,16,17,18,19,20] # I asked the method to consider up to 10 PCs because\n",
    "                                                                #it chose the max number of PCs it considered the default set of [1,2,3,4]\n",
    "                                     )\n",
    "print(res.k)\n",
    "print(res.ks)\n",
    "print('p =', res.p, ',', res.k, 'PCs used')\n",
    "print('total r^2 between top {} NAM PCs and outcome is {:.2f}'.format(res.k, res.r2))"
   ]
  },
  {
   "cell_type": "code",
   "execution_count": null,
   "id": "8d7bf374-0d98-4d24-99ef-dcca4267fa8c",
   "metadata": {},
   "outputs": [],
   "source": [
    "np.savetxt(\"/data/srlab/ssg34/SLE_kidney_v2/data/cna/myeloid/sc_myeloid_casecontrol.kept.csv\", res.kept, delimiter=\",\")\n",
    "np.savetxt(\"/data/srlab/ssg34/SLE_kidney_v2/data/cna/myeloid/sc_myeloid_casecontrol.ncorrs.csv\", res.ncorrs, delimiter=\",\")\n",
    "np.savetxt(\"/data/srlab/ssg34/SLE_kidney_v2/data/cna/myeloid/sc_myeloid_casecontrol.fdrs.csv\", res.fdrs, delimiter=\",\")\n",
    "np.savetxt(\"/data/srlab/ssg34/SLE_kidney_v2/data/cna/myeloid/sc_myeloid_casecontrol.thresh.csv\", [res.fdr_5p_t, res.fdr_10p_t], delimiter=\",\")"
   ]
  },
  {
   "cell_type": "markdown",
   "id": "37836261-b04a-46bc-87b6-525634a7002c",
   "metadata": {},
   "source": [
    "# SITE"
   ]
  },
  {
   "cell_type": "markdown",
   "id": "59d84006-b724-4938-857b-a6e4323e7bda",
   "metadata": {},
   "source": [
    "## Single Cell"
   ]
  },
  {
   "cell_type": "code",
   "execution_count": 86,
   "id": "f3857402-a258-4ced-9fb7-729152ad30d2",
   "metadata": {},
   "outputs": [
    {
     "name": "stdout",
     "output_type": "stream",
     "text": [
      "(23491, 39)\n"
     ]
    }
   ],
   "source": [
    "meta = pd.read_csv('/data/srlab/ssg34/SLE_kidney_v2/data/cna_new/myeloid/first_biop_pred_use_site/sc_meta_site.csv')\n",
    "print(meta.shape)"
   ]
  },
  {
   "cell_type": "code",
   "execution_count": 87,
   "id": "ae5f39e4-dfff-4093-9df9-00f713eda559",
   "metadata": {},
   "outputs": [
    {
     "name": "stdout",
     "output_type": "stream",
     "text": [
      "(23491, 20)\n"
     ]
    }
   ],
   "source": [
    "harmony = pd.read_csv('/data/srlab/ssg34/SLE_kidney_v2/data/cna_new/myeloid/first_biop_pred_use_site/sc_harmony_site.csv')\n",
    "print(harmony.shape)"
   ]
  },
  {
   "cell_type": "code",
   "execution_count": 88,
   "id": "61cd593b-0e0d-4828-943f-00bc97d6d67e",
   "metadata": {},
   "outputs": [
    {
     "name": "stdout",
     "output_type": "stream",
     "text": [
      "(23491, 2)\n"
     ]
    }
   ],
   "source": [
    "umap = pd.read_csv('/data/srlab/ssg34/SLE_kidney_v2/data/cna_new/myeloid/first_biop_pred_use_site/sc_umap_site.csv')\n",
    "print(umap.shape)"
   ]
  },
  {
   "cell_type": "code",
   "execution_count": 89,
   "id": "1ca77b1b-795b-4b12-baaf-c280d3e5066e",
   "metadata": {},
   "outputs": [
    {
     "name": "stdout",
     "output_type": "stream",
     "text": [
      "warning: the following columns of obs are non-numeric.\n",
      "['cell' 'sample' 'final_annotation' 'Responder.Status' 'Race' 'Final_ISN'\n",
      " 'Type' 'Final_Site']\n",
      "consider casting to numeric types where appropriate, and\n",
      "consider re-coding text-valued columns with pandas.get_dummies\n"
     ]
    },
    {
     "name": "stderr",
     "output_type": "stream",
     "text": [
      "/PHShome/ssg34/.conda/envs/plswork/lib/python3.9/site-packages/multianndata/core.py:17: FutureWarning: X.dtype being converted to np.float32 from float64. In the next version of anndata (0.9) conversion will not be automatic. Pass dtype explicitly to avoid this warning. Pass `AnnData(X, dtype=X.dtype, ...)` to get the future behavour.\n",
      "  super().__init__(*args, **kwargs)\n",
      "/PHShome/ssg34/.conda/envs/plswork/lib/python3.9/site-packages/anndata/_core/anndata.py:121: ImplicitModificationWarning: Transforming to str index.\n",
      "  warnings.warn(\"Transforming to str index.\", ImplicitModificationWarning)\n"
     ]
    },
    {
     "data": {
      "text/html": [
       "<div>\n",
       "<style scoped>\n",
       "    .dataframe tbody tr th:only-of-type {\n",
       "        vertical-align: middle;\n",
       "    }\n",
       "\n",
       "    .dataframe tbody tr th {\n",
       "        vertical-align: top;\n",
       "    }\n",
       "\n",
       "    .dataframe thead th {\n",
       "        text-align: right;\n",
       "    }\n",
       "</style>\n",
       "<table border=\"1\" class=\"dataframe\">\n",
       "  <thead>\n",
       "    <tr style=\"text-align: right;\">\n",
       "      <th></th>\n",
       "      <th>Sex</th>\n",
       "      <th>Age</th>\n",
       "      <th>Final_Chronicity</th>\n",
       "      <th>Final_Activity</th>\n",
       "      <th>First_biop</th>\n",
       "      <th>Pred_use</th>\n",
       "      <th>Responder_Status</th>\n",
       "      <th>Race_[A]</th>\n",
       "      <th>Race_[A][B]</th>\n",
       "      <th>Race_[B]</th>\n",
       "      <th>...</th>\n",
       "      <th>Final_Site_JHU</th>\n",
       "      <th>Final_Site_Michigan</th>\n",
       "      <th>Final_Site_MUSC</th>\n",
       "      <th>Final_Site_Northwell</th>\n",
       "      <th>Final_Site_NYU</th>\n",
       "      <th>Final_Site_Rochester</th>\n",
       "      <th>Final_Site_Texas Tech</th>\n",
       "      <th>Final_Site_UCLA</th>\n",
       "      <th>Final_Site_UCSD</th>\n",
       "      <th>Final_Site_UCSF</th>\n",
       "    </tr>\n",
       "    <tr>\n",
       "      <th>sample</th>\n",
       "      <th></th>\n",
       "      <th></th>\n",
       "      <th></th>\n",
       "      <th></th>\n",
       "      <th></th>\n",
       "      <th></th>\n",
       "      <th></th>\n",
       "      <th></th>\n",
       "      <th></th>\n",
       "      <th></th>\n",
       "      <th></th>\n",
       "      <th></th>\n",
       "      <th></th>\n",
       "      <th></th>\n",
       "      <th></th>\n",
       "      <th></th>\n",
       "      <th></th>\n",
       "      <th></th>\n",
       "      <th></th>\n",
       "      <th></th>\n",
       "      <th></th>\n",
       "    </tr>\n",
       "  </thead>\n",
       "  <tbody>\n",
       "    <tr>\n",
       "      <th>AMPSLEkid_cells_0134</th>\n",
       "      <td>1.0</td>\n",
       "      <td>0.935974</td>\n",
       "      <td>6.0</td>\n",
       "      <td>4.0</td>\n",
       "      <td>0.0</td>\n",
       "      <td>0.0</td>\n",
       "      <td>0.0</td>\n",
       "      <td>1.0</td>\n",
       "      <td>0.0</td>\n",
       "      <td>0.0</td>\n",
       "      <td>...</td>\n",
       "      <td>0.0</td>\n",
       "      <td>0.0</td>\n",
       "      <td>0.0</td>\n",
       "      <td>0.0</td>\n",
       "      <td>0.0</td>\n",
       "      <td>1.0</td>\n",
       "      <td>0.0</td>\n",
       "      <td>0.0</td>\n",
       "      <td>0.0</td>\n",
       "      <td>0.0</td>\n",
       "    </tr>\n",
       "    <tr>\n",
       "      <th>AMPSLEkid_cells_0137</th>\n",
       "      <td>1.0</td>\n",
       "      <td>-0.010301</td>\n",
       "      <td>3.0</td>\n",
       "      <td>5.0</td>\n",
       "      <td>0.0</td>\n",
       "      <td>1.0</td>\n",
       "      <td>2.0</td>\n",
       "      <td>0.0</td>\n",
       "      <td>0.0</td>\n",
       "      <td>1.0</td>\n",
       "      <td>...</td>\n",
       "      <td>0.0</td>\n",
       "      <td>0.0</td>\n",
       "      <td>0.0</td>\n",
       "      <td>0.0</td>\n",
       "      <td>0.0</td>\n",
       "      <td>1.0</td>\n",
       "      <td>0.0</td>\n",
       "      <td>0.0</td>\n",
       "      <td>0.0</td>\n",
       "      <td>0.0</td>\n",
       "    </tr>\n",
       "    <tr>\n",
       "      <th>AMPSLEkid_cells_0138</th>\n",
       "      <td>1.0</td>\n",
       "      <td>0.505849</td>\n",
       "      <td>0.0</td>\n",
       "      <td>0.0</td>\n",
       "      <td>1.0</td>\n",
       "      <td>1.0</td>\n",
       "      <td>2.0</td>\n",
       "      <td>0.0</td>\n",
       "      <td>0.0</td>\n",
       "      <td>0.0</td>\n",
       "      <td>...</td>\n",
       "      <td>0.0</td>\n",
       "      <td>0.0</td>\n",
       "      <td>0.0</td>\n",
       "      <td>0.0</td>\n",
       "      <td>0.0</td>\n",
       "      <td>1.0</td>\n",
       "      <td>0.0</td>\n",
       "      <td>0.0</td>\n",
       "      <td>0.0</td>\n",
       "      <td>0.0</td>\n",
       "    </tr>\n",
       "    <tr>\n",
       "      <th>AMPSLEkid_cells_0139</th>\n",
       "      <td>1.0</td>\n",
       "      <td>0.849949</td>\n",
       "      <td>3.0</td>\n",
       "      <td>2.0</td>\n",
       "      <td>0.0</td>\n",
       "      <td>1.0</td>\n",
       "      <td>2.0</td>\n",
       "      <td>0.0</td>\n",
       "      <td>0.0</td>\n",
       "      <td>1.0</td>\n",
       "      <td>...</td>\n",
       "      <td>0.0</td>\n",
       "      <td>0.0</td>\n",
       "      <td>0.0</td>\n",
       "      <td>0.0</td>\n",
       "      <td>0.0</td>\n",
       "      <td>1.0</td>\n",
       "      <td>0.0</td>\n",
       "      <td>0.0</td>\n",
       "      <td>0.0</td>\n",
       "      <td>0.0</td>\n",
       "    </tr>\n",
       "    <tr>\n",
       "      <th>AMPSLEkid_cells_0140</th>\n",
       "      <td>1.0</td>\n",
       "      <td>-0.784527</td>\n",
       "      <td>1.0</td>\n",
       "      <td>1.0</td>\n",
       "      <td>1.0</td>\n",
       "      <td>0.0</td>\n",
       "      <td>0.0</td>\n",
       "      <td>0.0</td>\n",
       "      <td>0.0</td>\n",
       "      <td>1.0</td>\n",
       "      <td>...</td>\n",
       "      <td>0.0</td>\n",
       "      <td>0.0</td>\n",
       "      <td>0.0</td>\n",
       "      <td>0.0</td>\n",
       "      <td>0.0</td>\n",
       "      <td>1.0</td>\n",
       "      <td>0.0</td>\n",
       "      <td>0.0</td>\n",
       "      <td>0.0</td>\n",
       "      <td>0.0</td>\n",
       "    </tr>\n",
       "  </tbody>\n",
       "</table>\n",
       "<p>5 rows × 31 columns</p>\n",
       "</div>"
      ],
      "text/plain": [
       "                      Sex       Age  Final_Chronicity  Final_Activity  \\\n",
       "sample                                                                  \n",
       "AMPSLEkid_cells_0134  1.0  0.935974               6.0             4.0   \n",
       "AMPSLEkid_cells_0137  1.0 -0.010301               3.0             5.0   \n",
       "AMPSLEkid_cells_0138  1.0  0.505849               0.0             0.0   \n",
       "AMPSLEkid_cells_0139  1.0  0.849949               3.0             2.0   \n",
       "AMPSLEkid_cells_0140  1.0 -0.784527               1.0             1.0   \n",
       "\n",
       "                      First_biop  Pred_use  Responder_Status  Race_[A]  \\\n",
       "sample                                                                   \n",
       "AMPSLEkid_cells_0134         0.0       0.0               0.0       1.0   \n",
       "AMPSLEkid_cells_0137         0.0       1.0               2.0       0.0   \n",
       "AMPSLEkid_cells_0138         1.0       1.0               2.0       0.0   \n",
       "AMPSLEkid_cells_0139         0.0       1.0               2.0       0.0   \n",
       "AMPSLEkid_cells_0140         1.0       0.0               0.0       0.0   \n",
       "\n",
       "                      Race_[A][B]  Race_[B]  ...  Final_Site_JHU  \\\n",
       "sample                                       ...                   \n",
       "AMPSLEkid_cells_0134          0.0       0.0  ...             0.0   \n",
       "AMPSLEkid_cells_0137          0.0       1.0  ...             0.0   \n",
       "AMPSLEkid_cells_0138          0.0       0.0  ...             0.0   \n",
       "AMPSLEkid_cells_0139          0.0       1.0  ...             0.0   \n",
       "AMPSLEkid_cells_0140          0.0       1.0  ...             0.0   \n",
       "\n",
       "                      Final_Site_Michigan  Final_Site_MUSC  \\\n",
       "sample                                                       \n",
       "AMPSLEkid_cells_0134                  0.0              0.0   \n",
       "AMPSLEkid_cells_0137                  0.0              0.0   \n",
       "AMPSLEkid_cells_0138                  0.0              0.0   \n",
       "AMPSLEkid_cells_0139                  0.0              0.0   \n",
       "AMPSLEkid_cells_0140                  0.0              0.0   \n",
       "\n",
       "                      Final_Site_Northwell  Final_Site_NYU  \\\n",
       "sample                                                       \n",
       "AMPSLEkid_cells_0134                   0.0             0.0   \n",
       "AMPSLEkid_cells_0137                   0.0             0.0   \n",
       "AMPSLEkid_cells_0138                   0.0             0.0   \n",
       "AMPSLEkid_cells_0139                   0.0             0.0   \n",
       "AMPSLEkid_cells_0140                   0.0             0.0   \n",
       "\n",
       "                      Final_Site_Rochester  Final_Site_Texas Tech  \\\n",
       "sample                                                              \n",
       "AMPSLEkid_cells_0134                   1.0                    0.0   \n",
       "AMPSLEkid_cells_0137                   1.0                    0.0   \n",
       "AMPSLEkid_cells_0138                   1.0                    0.0   \n",
       "AMPSLEkid_cells_0139                   1.0                    0.0   \n",
       "AMPSLEkid_cells_0140                   1.0                    0.0   \n",
       "\n",
       "                      Final_Site_UCLA  Final_Site_UCSD  Final_Site_UCSF  \n",
       "sample                                                                   \n",
       "AMPSLEkid_cells_0134              0.0              0.0              0.0  \n",
       "AMPSLEkid_cells_0137              0.0              0.0              0.0  \n",
       "AMPSLEkid_cells_0138              0.0              0.0              0.0  \n",
       "AMPSLEkid_cells_0139              0.0              0.0              0.0  \n",
       "AMPSLEkid_cells_0140              0.0              0.0              0.0  \n",
       "\n",
       "[5 rows x 31 columns]"
      ]
     },
     "execution_count": 89,
     "metadata": {},
     "output_type": "execute_result"
    }
   ],
   "source": [
    "# Start by making anndata object\n",
    "d = mad.MultiAnnData(X=harmony, obs=meta, sampleid=\"sample\")\n",
    "#d.obs_to_sample(['Type', 'Site',\n",
    "#                 'Responder_Status', 'Sex',\n",
    "#                 'Age', 'Race',\n",
    "#                'Ethnicity', 'ISN',\n",
    "#               'Activity', \"Chronicity\",\n",
    "#                 'processing_batch'])\n",
    "d.obs_to_sample(['Sex', 'Age', 'Final_Chronicity', 'Final_Activity', 'First_biop', 'Pred_use', 'Responder_Status', 'Race_[A]',\n",
    "       'Race_[A][B]', 'Race_[B]', 'Race_[B][AI]', 'Race_[B][W]', 'Race_[U]',\n",
    "       'Race_[W]', 'Final_ISN_[III]', 'Final_ISN_[III][V]', 'Final_ISN_[IV]',\n",
    "       'Final_ISN_[IV][V]', 'Final_ISN_[V]', 'Final_Site_Cincinnati',\n",
    "       'Final_Site_Einstein', 'Final_Site_JHU', 'Final_Site_Michigan',\n",
    "       'Final_Site_MUSC', 'Final_Site_Northwell', 'Final_Site_NYU',\n",
    "       'Final_Site_Rochester', 'Final_Site_Texas Tech', 'Final_Site_UCLA',\n",
    "       'Final_Site_UCSD', 'Final_Site_UCSF'])\n",
    "d.samplem.head()"
   ]
  },
  {
   "cell_type": "code",
   "execution_count": 90,
   "id": "9e03ecc3-9480-4aa3-89bb-b3e2e5f63e44",
   "metadata": {},
   "outputs": [],
   "source": [
    "umap.index = d.obs.index\n",
    "d.obsm['X_umap'] = umap"
   ]
  },
  {
   "cell_type": "code",
   "execution_count": 91,
   "id": "35cb60bd-9c53-4340-a4e5-caaaaf832aba",
   "metadata": {},
   "outputs": [
    {
     "name": "stdout",
     "output_type": "stream",
     "text": [
      "computing default knn graph\n"
     ]
    }
   ],
   "source": [
    "np.random.seed(0) \n",
    "cna.pp.knn(d)"
   ]
  },
  {
   "cell_type": "code",
   "execution_count": 61,
   "id": "dadfc31c-990d-4a43-99a4-d9ba21bdddad",
   "metadata": {},
   "outputs": [
    {
     "name": "stdout",
     "output_type": "stream",
     "text": [
      "qcd NAM not found; computing and saving\n",
      "\ttaking step 1\n",
      "\tmedian kurtosis: 51.37150192260742\n",
      "\t20th percentile R2(t,t-1): nan\n",
      "\ttaking step 2\n",
      "\tmedian kurtosis: 34.00757598876953\n",
      "\t20th percentile R2(t,t-1): 0.7737238287925721\n",
      "\ttaking step 3\n",
      "\tmedian kurtosis: 24.5955810546875\n",
      "\t20th percentile R2(t,t-1): 0.9182487368583679\n",
      "\ttaking step 4\n",
      "\tmedian kurtosis: 18.904521942138672\n",
      "\t20th percentile R2(t,t-1): 0.9531392097473145\n",
      "\ttaking step 5\n",
      "\tmedian kurtosis: 15.179661750793457\n",
      "\t20th percentile R2(t,t-1): 0.9696611166000366\n",
      "\ttaking step 6\n",
      "\tmedian kurtosis: 12.74237060546875\n",
      "\t20th percentile R2(t,t-1): 0.9801829218864441\n",
      "stopping after 6 steps\n",
      "covariate-adjusted NAM not found; computing and saving\n"
     ]
    },
    {
     "name": "stderr",
     "output_type": "stream",
     "text": [
      "/PHShome/ssg34/.conda/envs/plswork/lib/python3.9/site-packages/cna/tools/_nam.py:79: UserWarning: only one unique batch supplied to qc\n",
      "  warnings.warn('only one unique batch supplied to qc')\n",
      "/PHShome/ssg34/.conda/envs/plswork/lib/python3.9/site-packages/cna/tools/_nam.py:101: UserWarning: only one unique batch supplied to prep\n",
      "  warnings.warn('only one unique batch supplied to prep')\n"
     ]
    },
    {
     "name": "stdout",
     "output_type": "stream",
     "text": [
      "computing SVD\n",
      "performing association test\n",
      "computing neighborhood-level FDRs\n",
      "1\n",
      "[1, 2, 3, 4, 5, 6, 7, 8, 9, 10, 11, 12, 13, 14, 15, 16, 17, 18, 19, 20]\n",
      "p = 0.7437256274372562 , 1 PCs used\n",
      "total r^2 between top 1 NAM PCs and outcome is 0.00\n"
     ]
    }
   ],
   "source": [
    "np.random.seed(0) \n",
    "res = cna.tl._association.association(d, #dataset \n",
    "                                      d.samplem.Final_Site_Cincinnati, #phenotype\n",
    "#                                       batches=d.samplem.processing_batch, #batches\n",
    "                                      Nnull=10000, # number of null permutations to do (defaults to only 1e3)\n",
    "                                      ks=[1,2,3,4,5,6,7,8,9,10,11,12,13,14,15,16,17,18,19,20] # I asked the method to consider up to 10 PCs because\n",
    "                                                                #it chose the max number of PCs it considered the default set of [1,2,3,4]\n",
    "                                     )\n",
    "print(res.k)\n",
    "print(res.ks)\n",
    "print('p =', res.p, ',', res.k, 'PCs used')\n",
    "print('total r^2 between top {} NAM PCs and outcome is {:.2f}'.format(res.k, res.r2))"
   ]
  },
  {
   "cell_type": "code",
   "execution_count": 92,
   "id": "5e2b4839-a46b-4a5b-a294-ca6174a05d1e",
   "metadata": {},
   "outputs": [
    {
     "name": "stdout",
     "output_type": "stream",
     "text": [
      "qcd NAM not found; computing and saving\n",
      "\ttaking step 1\n",
      "\tmedian kurtosis: 51.37150192260742\n",
      "\t20th percentile R2(t,t-1): nan\n",
      "\ttaking step 2\n",
      "\tmedian kurtosis: 34.00757598876953\n",
      "\t20th percentile R2(t,t-1): 0.7737238287925721\n",
      "\ttaking step 3\n",
      "\tmedian kurtosis: 24.5955810546875\n",
      "\t20th percentile R2(t,t-1): 0.9182487368583679\n",
      "\ttaking step 4\n",
      "\tmedian kurtosis: 18.904521942138672\n",
      "\t20th percentile R2(t,t-1): 0.9531392097473145\n",
      "\ttaking step 5\n",
      "\tmedian kurtosis: 15.179661750793457\n",
      "\t20th percentile R2(t,t-1): 0.9696611166000366\n",
      "\ttaking step 6\n",
      "\tmedian kurtosis: 12.74237060546875\n",
      "\t20th percentile R2(t,t-1): 0.9801829218864441\n",
      "stopping after 6 steps\n",
      "covariate-adjusted NAM not found; computing and saving\n"
     ]
    },
    {
     "name": "stderr",
     "output_type": "stream",
     "text": [
      "/PHShome/ssg34/.conda/envs/plswork/lib/python3.9/site-packages/cna/tools/_nam.py:79: UserWarning: only one unique batch supplied to qc\n",
      "  warnings.warn('only one unique batch supplied to qc')\n",
      "/PHShome/ssg34/.conda/envs/plswork/lib/python3.9/site-packages/cna/tools/_nam.py:101: UserWarning: only one unique batch supplied to prep\n",
      "  warnings.warn('only one unique batch supplied to prep')\n"
     ]
    },
    {
     "name": "stdout",
     "output_type": "stream",
     "text": [
      "computing SVD\n",
      "performing association test\n",
      "computing neighborhood-level FDRs\n",
      "9\n",
      "[1, 2, 3, 4, 5, 6, 7, 8, 9, 10, 11, 12, 13, 14, 15, 16, 17, 18, 19, 20]\n",
      "p = 0.027797220277972202 , 9 PCs used\n",
      "total r^2 between top 9 NAM PCs and outcome is 0.18\n"
     ]
    }
   ],
   "source": [
    "np.random.seed(0) \n",
    "res = cna.tl._association.association(d, #dataset \n",
    "                                      d.samplem.Final_Site_Einstein, #phenotype\n",
    "#                                       batches=d.samplem.processing_batch, #batches\n",
    "                                      Nnull=10000, # number of null permutations to do (defaults to only 1e3)\n",
    "                                      ks=[1,2,3,4,5,6,7,8,9,10,11,12,13,14,15,16,17,18,19,20] # I asked the method to consider up to 10 PCs because\n",
    "                                                                #it chose the max number of PCs it considered the default set of [1,2,3,4]\n",
    "                                     )\n",
    "print(res.k)\n",
    "print(res.ks)\n",
    "print('p =', res.p, ',', res.k, 'PCs used')\n",
    "print('total r^2 between top {} NAM PCs and outcome is {:.2f}'.format(res.k, res.r2))"
   ]
  },
  {
   "cell_type": "code",
   "execution_count": 93,
   "id": "c790d03f-b3f8-4309-b212-a2265a547170",
   "metadata": {},
   "outputs": [],
   "source": [
    "np.savetxt(\"/data/srlab/ssg34/SLE_kidney_v2/data/cna_new/myeloid/first_biop_pred_use_site/sc_ncorr_site.csv\", \n",
    "               res.ncorrs, delimiter=\",\")\n",
    "np.savetxt(\"/data/srlab/ssg34/SLE_kidney_v2/data/cna_new/myeloid/first_biop_pred_use_site/sc_fdrs_site.csv\", \n",
    "               res.fdrs, delimiter=\",\")"
   ]
  },
  {
   "cell_type": "code",
   "execution_count": 75,
   "id": "b0fe3a56-e142-45db-bbd9-10032877fc7b",
   "metadata": {},
   "outputs": [],
   "source": [
    "sc_uni['Site'] = res.p"
   ]
  },
  {
   "cell_type": "code",
   "execution_count": 63,
   "id": "629b7f4b-1e2d-414b-b63b-8490a3a4ce5a",
   "metadata": {},
   "outputs": [
    {
     "name": "stdout",
     "output_type": "stream",
     "text": [
      "performing association test\n",
      "computing neighborhood-level FDRs\n",
      "6\n",
      "[1, 2, 3, 4, 5, 6, 7, 8, 9, 10, 11, 12, 13, 14, 15, 16, 17, 18, 19, 20]\n",
      "p = 0.48765123487651235 , 6 PCs used\n",
      "total r^2 between top 6 NAM PCs and outcome is 0.06\n"
     ]
    }
   ],
   "source": [
    "np.random.seed(0) \n",
    "res = cna.tl._association.association(d, #dataset \n",
    "                                      d.samplem.Final_Site_JHU, #phenotype\n",
    "#                                       batches=d.samplem.processing_batch, #batches\n",
    "                                      Nnull=10000, # number of null permutations to do (defaults to only 1e3)\n",
    "                                      ks=[1,2,3,4,5,6,7,8,9,10,11,12,13,14,15,16,17,18,19,20] # I asked the method to consider up to 10 PCs because\n",
    "                                                                #it chose the max number of PCs it considered the default set of [1,2,3,4]\n",
    "                                     )\n",
    "print(res.k)\n",
    "print(res.ks)\n",
    "print('p =', res.p, ',', res.k, 'PCs used')\n",
    "print('total r^2 between top {} NAM PCs and outcome is {:.2f}'.format(res.k, res.r2))"
   ]
  },
  {
   "cell_type": "code",
   "execution_count": 64,
   "id": "5278bd89-8e3c-4421-bc5e-736ddab8e680",
   "metadata": {},
   "outputs": [
    {
     "name": "stdout",
     "output_type": "stream",
     "text": [
      "performing association test\n",
      "computing neighborhood-level FDRs\n",
      "19\n",
      "[1, 2, 3, 4, 5, 6, 7, 8, 9, 10, 11, 12, 13, 14, 15, 16, 17, 18, 19, 20]\n",
      "p = 0.37336266373362664 , 19 PCs used\n",
      "total r^2 between top 19 NAM PCs and outcome is 0.16\n"
     ]
    }
   ],
   "source": [
    "np.random.seed(0) \n",
    "res = cna.tl._association.association(d, #dataset \n",
    "                                      d.samplem.Final_Site_Michigan, #phenotype\n",
    "#                                       batches=d.samplem.processing_batch, #batches\n",
    "                                      Nnull=10000, # number of null permutations to do (defaults to only 1e3)\n",
    "                                      ks=[1,2,3,4,5,6,7,8,9,10,11,12,13,14,15,16,17,18,19,20] # I asked the method to consider up to 10 PCs because\n",
    "                                                                #it chose the max number of PCs it considered the default set of [1,2,3,4]\n",
    "                                     )\n",
    "print(res.k)\n",
    "print(res.ks)\n",
    "print('p =', res.p, ',', res.k, 'PCs used')\n",
    "print('total r^2 between top {} NAM PCs and outcome is {:.2f}'.format(res.k, res.r2))"
   ]
  },
  {
   "cell_type": "code",
   "execution_count": 65,
   "id": "bf5232b9-3378-440f-8cf4-c069ac315c5b",
   "metadata": {},
   "outputs": [
    {
     "name": "stdout",
     "output_type": "stream",
     "text": [
      "performing association test\n",
      "computing neighborhood-level FDRs\n",
      "5\n",
      "[1, 2, 3, 4, 5, 6, 7, 8, 9, 10, 11, 12, 13, 14, 15, 16, 17, 18, 19, 20]\n",
      "p = 0.7332266773322668 , 5 PCs used\n",
      "total r^2 between top 5 NAM PCs and outcome is 0.04\n"
     ]
    }
   ],
   "source": [
    "np.random.seed(0) \n",
    "res = cna.tl._association.association(d, #dataset \n",
    "                                      d.samplem.Final_Site_MUSC, #phenotype\n",
    "#                                       batches=d.samplem.processing_batch, #batches\n",
    "                                      Nnull=10000, # number of null permutations to do (defaults to only 1e3)\n",
    "                                      ks=[1,2,3,4,5,6,7,8,9,10,11,12,13,14,15,16,17,18,19,20] # I asked the method to consider up to 10 PCs because\n",
    "                                                                #it chose the max number of PCs it considered the default set of [1,2,3,4]\n",
    "                                     )\n",
    "print(res.k)\n",
    "print(res.ks)\n",
    "print('p =', res.p, ',', res.k, 'PCs used')\n",
    "print('total r^2 between top {} NAM PCs and outcome is {:.2f}'.format(res.k, res.r2))"
   ]
  },
  {
   "cell_type": "code",
   "execution_count": 66,
   "id": "a35bf455-1bff-463d-966a-3c713cc32c1c",
   "metadata": {},
   "outputs": [
    {
     "name": "stdout",
     "output_type": "stream",
     "text": [
      "performing association test\n",
      "computing neighborhood-level FDRs\n",
      "1\n",
      "[1, 2, 3, 4, 5, 6, 7, 8, 9, 10, 11, 12, 13, 14, 15, 16, 17, 18, 19, 20]\n",
      "p = 0.6627337266273373 , 1 PCs used\n",
      "total r^2 between top 1 NAM PCs and outcome is 0.01\n"
     ]
    }
   ],
   "source": [
    "np.random.seed(0) \n",
    "res = cna.tl._association.association(d, #dataset \n",
    "                                      d.samplem.Final_Site_Northwell, #phenotype\n",
    "#                                       batches=d.samplem.processing_batch, #batches\n",
    "                                      Nnull=10000, # number of null permutations to do (defaults to only 1e3)\n",
    "                                      ks=[1,2,3,4,5,6,7,8,9,10,11,12,13,14,15,16,17,18,19,20] # I asked the method to consider up to 10 PCs because\n",
    "                                                                #it chose the max number of PCs it considered the default set of [1,2,3,4]\n",
    "                                     )\n",
    "print(res.k)\n",
    "print(res.ks)\n",
    "print('p =', res.p, ',', res.k, 'PCs used')\n",
    "print('total r^2 between top {} NAM PCs and outcome is {:.2f}'.format(res.k, res.r2))"
   ]
  },
  {
   "cell_type": "code",
   "execution_count": 67,
   "id": "2363255c-737c-45f4-b85b-883ab05a71f5",
   "metadata": {},
   "outputs": [
    {
     "name": "stdout",
     "output_type": "stream",
     "text": [
      "performing association test\n",
      "computing neighborhood-level FDRs\n",
      "8\n",
      "[1, 2, 3, 4, 5, 6, 7, 8, 9, 10, 11, 12, 13, 14, 15, 16, 17, 18, 19, 20]\n",
      "p = 0.5928407159284071 , 8 PCs used\n",
      "total r^2 between top 8 NAM PCs and outcome is 0.07\n"
     ]
    }
   ],
   "source": [
    "np.random.seed(0) \n",
    "res = cna.tl._association.association(d, #dataset \n",
    "                                      d.samplem.Final_Site_NYU, #phenotype\n",
    "#                                       batches=d.samplem.processing_batch, #batches\n",
    "                                      Nnull=10000, # number of null permutations to do (defaults to only 1e3)\n",
    "                                      ks=[1,2,3,4,5,6,7,8,9,10,11,12,13,14,15,16,17,18,19,20] # I asked the method to consider up to 10 PCs because\n",
    "                                                                #it chose the max number of PCs it considered the default set of [1,2,3,4]\n",
    "                                     )\n",
    "print(res.k)\n",
    "print(res.ks)\n",
    "print('p =', res.p, ',', res.k, 'PCs used')\n",
    "print('total r^2 between top {} NAM PCs and outcome is {:.2f}'.format(res.k, res.r2))"
   ]
  },
  {
   "cell_type": "code",
   "execution_count": 68,
   "id": "76bab554-c52e-4d44-a987-7e19e998b34f",
   "metadata": {},
   "outputs": [
    {
     "name": "stdout",
     "output_type": "stream",
     "text": [
      "performing association test\n",
      "computing neighborhood-level FDRs\n",
      "17\n",
      "[1, 2, 3, 4, 5, 6, 7, 8, 9, 10, 11, 12, 13, 14, 15, 16, 17, 18, 19, 20]\n",
      "p = 0.5058494150584941 , 17 PCs used\n",
      "total r^2 between top 17 NAM PCs and outcome is 0.13\n"
     ]
    }
   ],
   "source": [
    "np.random.seed(0) \n",
    "res = cna.tl._association.association(d, #dataset \n",
    "                                      d.samplem.Final_Site_Rochester, #phenotype\n",
    "#                                       batches=d.samplem.processing_batch, #batches\n",
    "                                      Nnull=10000, # number of null permutations to do (defaults to only 1e3)\n",
    "                                      ks=[1,2,3,4,5,6,7,8,9,10,11,12,13,14,15,16,17,18,19,20] # I asked the method to consider up to 10 PCs because\n",
    "                                                                #it chose the max number of PCs it considered the default set of [1,2,3,4]\n",
    "                                     )\n",
    "print(res.k)\n",
    "print(res.ks)\n",
    "print('p =', res.p, ',', res.k, 'PCs used')\n",
    "print('total r^2 between top {} NAM PCs and outcome is {:.2f}'.format(res.k, res.r2))"
   ]
  },
  {
   "cell_type": "code",
   "execution_count": 69,
   "id": "0cbd52b2-4d56-449e-a453-4ae7f6e1c8e8",
   "metadata": {},
   "outputs": [
    {
     "name": "stdout",
     "output_type": "stream",
     "text": [
      "performing association test\n",
      "computing neighborhood-level FDRs\n",
      "3\n",
      "[1, 2, 3, 4, 5, 6, 7, 8, 9, 10, 11, 12, 13, 14, 15, 16, 17, 18, 19, 20]\n",
      "p = 0.46855314468553144 , 3 PCs used\n",
      "total r^2 between top 3 NAM PCs and outcome is 0.03\n"
     ]
    }
   ],
   "source": [
    "np.random.seed(0) \n",
    "res = cna.tl._association.association(d, #dataset \n",
    "                                      d.samplem['Final_Site_Texas Tech'], #phenotype\n",
    "#                                       batches=d.samplem.processing_batch, #batches\n",
    "                                      Nnull=10000, # number of null permutations to do (defaults to only 1e3)\n",
    "                                      ks=[1,2,3,4,5,6,7,8,9,10,11,12,13,14,15,16,17,18,19,20] # I asked the method to consider up to 10 PCs because\n",
    "                                                                #it chose the max number of PCs it considered the default set of [1,2,3,4]\n",
    "                                     )\n",
    "print(res.k)\n",
    "print(res.ks)\n",
    "print('p =', res.p, ',', res.k, 'PCs used')\n",
    "print('total r^2 between top {} NAM PCs and outcome is {:.2f}'.format(res.k, res.r2))"
   ]
  },
  {
   "cell_type": "code",
   "execution_count": 70,
   "id": "f304e125-3393-40bf-bd6e-3f9d54187637",
   "metadata": {},
   "outputs": [
    {
     "name": "stdout",
     "output_type": "stream",
     "text": [
      "performing association test\n",
      "computing neighborhood-level FDRs\n",
      "18\n",
      "[1, 2, 3, 4, 5, 6, 7, 8, 9, 10, 11, 12, 13, 14, 15, 16, 17, 18, 19, 20]\n",
      "p = 0.09109089091090891 , 18 PCs used\n",
      "total r^2 between top 18 NAM PCs and outcome is 0.32\n"
     ]
    }
   ],
   "source": [
    "np.random.seed(0) \n",
    "res = cna.tl._association.association(d, #dataset \n",
    "                                      d.samplem.Final_Site_UCLA, #phenotype\n",
    "#                                       batches=d.samplem.processing_batch, #batches\n",
    "                                      Nnull=10000, # number of null permutations to do (defaults to only 1e3)\n",
    "                                      ks=[1,2,3,4,5,6,7,8,9,10,11,12,13,14,15,16,17,18,19,20] # I asked the method to consider up to 10 PCs because\n",
    "                                                                #it chose the max number of PCs it considered the default set of [1,2,3,4]\n",
    "                                     )\n",
    "print(res.k)\n",
    "print(res.ks)\n",
    "print('p =', res.p, ',', res.k, 'PCs used')\n",
    "print('total r^2 between top {} NAM PCs and outcome is {:.2f}'.format(res.k, res.r2))"
   ]
  },
  {
   "cell_type": "code",
   "execution_count": 71,
   "id": "6a3735ba-3725-4379-b839-ed173729e09f",
   "metadata": {},
   "outputs": [
    {
     "name": "stdout",
     "output_type": "stream",
     "text": [
      "performing association test\n",
      "computing neighborhood-level FDRs\n",
      "1\n",
      "[1, 2, 3, 4, 5, 6, 7, 8, 9, 10, 11, 12, 13, 14, 15, 16, 17, 18, 19, 20]\n",
      "p = 0.521047895210479 , 1 PCs used\n",
      "total r^2 between top 1 NAM PCs and outcome is 0.01\n"
     ]
    }
   ],
   "source": [
    "np.random.seed(0) \n",
    "res = cna.tl._association.association(d, #dataset \n",
    "                                      d.samplem.Final_Site_UCSD, #phenotype\n",
    "#                                       batches=d.samplem.processing_batch, #batches\n",
    "                                      Nnull=10000, # number of null permutations to do (defaults to only 1e3)\n",
    "                                      ks=[1,2,3,4,5,6,7,8,9,10,11,12,13,14,15,16,17,18,19,20] # I asked the method to consider up to 10 PCs because\n",
    "                                                                #it chose the max number of PCs it considered the default set of [1,2,3,4]\n",
    "                                     )\n",
    "print(res.k)\n",
    "print(res.ks)\n",
    "print('p =', res.p, ',', res.k, 'PCs used')\n",
    "print('total r^2 between top {} NAM PCs and outcome is {:.2f}'.format(res.k, res.r2))"
   ]
  },
  {
   "cell_type": "code",
   "execution_count": 72,
   "id": "26973f59-0761-4141-b942-149266cf6ee2",
   "metadata": {},
   "outputs": [
    {
     "name": "stdout",
     "output_type": "stream",
     "text": [
      "performing association test\n"
     ]
    },
    {
     "name": "stderr",
     "output_type": "stream",
     "text": [
      "/PHShome/ssg34/.conda/envs/plswork/lib/python3.9/site-packages/cna/tools/_association.py:57: UserWarning: data supported use of 20 NAM PCs, which is the maximum considered. Consider allowing more PCs by using the \"ks\" argument.\n",
      "  warnings.warn(('data supported use of {} NAM PCs, which is the maximum considered. '+\\\n"
     ]
    },
    {
     "name": "stdout",
     "output_type": "stream",
     "text": [
      "computing neighborhood-level FDRs\n",
      "20\n",
      "[1, 2, 3, 4, 5, 6, 7, 8, 9, 10, 11, 12, 13, 14, 15, 16, 17, 18, 19, 20]\n",
      "p = 0.7324267573242675 , 20 PCs used\n",
      "total r^2 between top 20 NAM PCs and outcome is 0.13\n"
     ]
    }
   ],
   "source": [
    "np.random.seed(0) \n",
    "res = cna.tl._association.association(d, #dataset \n",
    "                                      d.samplem.Final_Site_UCSF, #phenotype\n",
    "#                                       batches=d.samplem.processing_batch, #batches\n",
    "                                      Nnull=10000, # number of null permutations to do (defaults to only 1e3)\n",
    "                                      ks=[1,2,3,4,5,6,7,8,9,10,11,12,13,14,15,16,17,18,19,20] # I asked the method to consider up to 10 PCs because\n",
    "                                                                #it chose the max number of PCs it considered the default set of [1,2,3,4]\n",
    "                                     )\n",
    "print(res.k)\n",
    "print(res.ks)\n",
    "print('p =', res.p, ',', res.k, 'PCs used')\n",
    "print('total r^2 between top {} NAM PCs and outcome is {:.2f}'.format(res.k, res.r2))"
   ]
  },
  {
   "cell_type": "markdown",
   "id": "156de2b4-ac8a-4de9-9ac5-1e2d59f27a50",
   "metadata": {},
   "source": [
    "# FIRST BIOPSY"
   ]
  },
  {
   "cell_type": "markdown",
   "id": "76b15f80-3fcc-4e25-980c-ef08ac0a6a5e",
   "metadata": {},
   "source": [
    "## Single Cell"
   ]
  },
  {
   "cell_type": "code",
   "execution_count": 94,
   "id": "9b0a716f-fbb3-46ee-96c1-d55eadfde393",
   "metadata": {},
   "outputs": [
    {
     "name": "stdout",
     "output_type": "stream",
     "text": [
      "(23491, 39)\n"
     ]
    }
   ],
   "source": [
    "meta = pd.read_csv('/data/srlab/ssg34/SLE_kidney_v2/data/cna_new/myeloid/first_biop_pred_use_site/sc_meta_firstbiop.csv')\n",
    "print(meta.shape)"
   ]
  },
  {
   "cell_type": "code",
   "execution_count": 95,
   "id": "8de0a6bf-8085-4098-8ead-685532e099ff",
   "metadata": {},
   "outputs": [
    {
     "name": "stdout",
     "output_type": "stream",
     "text": [
      "(23491, 20)\n"
     ]
    }
   ],
   "source": [
    "harmony = pd.read_csv('/data/srlab/ssg34/SLE_kidney_v2/data/cna_new/myeloid/first_biop_pred_use_site/sc_harmony_firstbiop.csv')\n",
    "print(harmony.shape)"
   ]
  },
  {
   "cell_type": "code",
   "execution_count": 96,
   "id": "41f2a43f-4a24-4175-aa08-0e8c5046297b",
   "metadata": {},
   "outputs": [
    {
     "name": "stdout",
     "output_type": "stream",
     "text": [
      "(23491, 2)\n"
     ]
    }
   ],
   "source": [
    "umap = pd.read_csv('/data/srlab/ssg34/SLE_kidney_v2/data/cna_new/myeloid/first_biop_pred_use_site/sc_umap_firstbiop.csv')\n",
    "print(umap.shape)"
   ]
  },
  {
   "cell_type": "code",
   "execution_count": 98,
   "id": "301e83d4-13ff-4826-ae88-cc254613f477",
   "metadata": {},
   "outputs": [
    {
     "name": "stdout",
     "output_type": "stream",
     "text": [
      "warning: the following columns of obs are non-numeric.\n",
      "['cell' 'sample' 'final_annotation' 'Responder.Status' 'Race' 'Final_ISN'\n",
      " 'Type' 'Final_Site']\n",
      "consider casting to numeric types where appropriate, and\n",
      "consider re-coding text-valued columns with pandas.get_dummies\n"
     ]
    },
    {
     "name": "stderr",
     "output_type": "stream",
     "text": [
      "/PHShome/ssg34/.conda/envs/plswork/lib/python3.9/site-packages/multianndata/core.py:17: FutureWarning: X.dtype being converted to np.float32 from float64. In the next version of anndata (0.9) conversion will not be automatic. Pass dtype explicitly to avoid this warning. Pass `AnnData(X, dtype=X.dtype, ...)` to get the future behavour.\n",
      "  super().__init__(*args, **kwargs)\n",
      "/PHShome/ssg34/.conda/envs/plswork/lib/python3.9/site-packages/anndata/_core/anndata.py:121: ImplicitModificationWarning: Transforming to str index.\n",
      "  warnings.warn(\"Transforming to str index.\", ImplicitModificationWarning)\n"
     ]
    },
    {
     "data": {
      "text/html": [
       "<div>\n",
       "<style scoped>\n",
       "    .dataframe tbody tr th:only-of-type {\n",
       "        vertical-align: middle;\n",
       "    }\n",
       "\n",
       "    .dataframe tbody tr th {\n",
       "        vertical-align: top;\n",
       "    }\n",
       "\n",
       "    .dataframe thead th {\n",
       "        text-align: right;\n",
       "    }\n",
       "</style>\n",
       "<table border=\"1\" class=\"dataframe\">\n",
       "  <thead>\n",
       "    <tr style=\"text-align: right;\">\n",
       "      <th></th>\n",
       "      <th>Sex</th>\n",
       "      <th>Age</th>\n",
       "      <th>Final_Chronicity</th>\n",
       "      <th>Final_Activity</th>\n",
       "      <th>First_biop</th>\n",
       "      <th>Pred_use</th>\n",
       "      <th>Responder_Status</th>\n",
       "      <th>Race_[A]</th>\n",
       "      <th>Race_[A][B]</th>\n",
       "      <th>Race_[B]</th>\n",
       "      <th>...</th>\n",
       "      <th>Final_Site_JHU</th>\n",
       "      <th>Final_Site_Michigan</th>\n",
       "      <th>Final_Site_MUSC</th>\n",
       "      <th>Final_Site_Northwell</th>\n",
       "      <th>Final_Site_NYU</th>\n",
       "      <th>Final_Site_Rochester</th>\n",
       "      <th>Final_Site_Texas Tech</th>\n",
       "      <th>Final_Site_UCLA</th>\n",
       "      <th>Final_Site_UCSD</th>\n",
       "      <th>Final_Site_UCSF</th>\n",
       "    </tr>\n",
       "    <tr>\n",
       "      <th>sample</th>\n",
       "      <th></th>\n",
       "      <th></th>\n",
       "      <th></th>\n",
       "      <th></th>\n",
       "      <th></th>\n",
       "      <th></th>\n",
       "      <th></th>\n",
       "      <th></th>\n",
       "      <th></th>\n",
       "      <th></th>\n",
       "      <th></th>\n",
       "      <th></th>\n",
       "      <th></th>\n",
       "      <th></th>\n",
       "      <th></th>\n",
       "      <th></th>\n",
       "      <th></th>\n",
       "      <th></th>\n",
       "      <th></th>\n",
       "      <th></th>\n",
       "      <th></th>\n",
       "    </tr>\n",
       "  </thead>\n",
       "  <tbody>\n",
       "    <tr>\n",
       "      <th>AMPSLEkid_cells_0134</th>\n",
       "      <td>1.0</td>\n",
       "      <td>0.935974</td>\n",
       "      <td>6.0</td>\n",
       "      <td>4.0</td>\n",
       "      <td>0.0</td>\n",
       "      <td>0.0</td>\n",
       "      <td>0.0</td>\n",
       "      <td>1.0</td>\n",
       "      <td>0.0</td>\n",
       "      <td>0.0</td>\n",
       "      <td>...</td>\n",
       "      <td>0.0</td>\n",
       "      <td>0.0</td>\n",
       "      <td>0.0</td>\n",
       "      <td>0.0</td>\n",
       "      <td>0.0</td>\n",
       "      <td>1.0</td>\n",
       "      <td>0.0</td>\n",
       "      <td>0.0</td>\n",
       "      <td>0.0</td>\n",
       "      <td>0.0</td>\n",
       "    </tr>\n",
       "    <tr>\n",
       "      <th>AMPSLEkid_cells_0137</th>\n",
       "      <td>1.0</td>\n",
       "      <td>-0.010301</td>\n",
       "      <td>3.0</td>\n",
       "      <td>5.0</td>\n",
       "      <td>0.0</td>\n",
       "      <td>1.0</td>\n",
       "      <td>2.0</td>\n",
       "      <td>0.0</td>\n",
       "      <td>0.0</td>\n",
       "      <td>1.0</td>\n",
       "      <td>...</td>\n",
       "      <td>0.0</td>\n",
       "      <td>0.0</td>\n",
       "      <td>0.0</td>\n",
       "      <td>0.0</td>\n",
       "      <td>0.0</td>\n",
       "      <td>1.0</td>\n",
       "      <td>0.0</td>\n",
       "      <td>0.0</td>\n",
       "      <td>0.0</td>\n",
       "      <td>0.0</td>\n",
       "    </tr>\n",
       "    <tr>\n",
       "      <th>AMPSLEkid_cells_0138</th>\n",
       "      <td>1.0</td>\n",
       "      <td>0.505849</td>\n",
       "      <td>0.0</td>\n",
       "      <td>0.0</td>\n",
       "      <td>1.0</td>\n",
       "      <td>1.0</td>\n",
       "      <td>2.0</td>\n",
       "      <td>0.0</td>\n",
       "      <td>0.0</td>\n",
       "      <td>0.0</td>\n",
       "      <td>...</td>\n",
       "      <td>0.0</td>\n",
       "      <td>0.0</td>\n",
       "      <td>0.0</td>\n",
       "      <td>0.0</td>\n",
       "      <td>0.0</td>\n",
       "      <td>1.0</td>\n",
       "      <td>0.0</td>\n",
       "      <td>0.0</td>\n",
       "      <td>0.0</td>\n",
       "      <td>0.0</td>\n",
       "    </tr>\n",
       "    <tr>\n",
       "      <th>AMPSLEkid_cells_0139</th>\n",
       "      <td>1.0</td>\n",
       "      <td>0.849949</td>\n",
       "      <td>3.0</td>\n",
       "      <td>2.0</td>\n",
       "      <td>0.0</td>\n",
       "      <td>1.0</td>\n",
       "      <td>2.0</td>\n",
       "      <td>0.0</td>\n",
       "      <td>0.0</td>\n",
       "      <td>1.0</td>\n",
       "      <td>...</td>\n",
       "      <td>0.0</td>\n",
       "      <td>0.0</td>\n",
       "      <td>0.0</td>\n",
       "      <td>0.0</td>\n",
       "      <td>0.0</td>\n",
       "      <td>1.0</td>\n",
       "      <td>0.0</td>\n",
       "      <td>0.0</td>\n",
       "      <td>0.0</td>\n",
       "      <td>0.0</td>\n",
       "    </tr>\n",
       "    <tr>\n",
       "      <th>AMPSLEkid_cells_0140</th>\n",
       "      <td>1.0</td>\n",
       "      <td>-0.784527</td>\n",
       "      <td>1.0</td>\n",
       "      <td>1.0</td>\n",
       "      <td>1.0</td>\n",
       "      <td>0.0</td>\n",
       "      <td>0.0</td>\n",
       "      <td>0.0</td>\n",
       "      <td>0.0</td>\n",
       "      <td>1.0</td>\n",
       "      <td>...</td>\n",
       "      <td>0.0</td>\n",
       "      <td>0.0</td>\n",
       "      <td>0.0</td>\n",
       "      <td>0.0</td>\n",
       "      <td>0.0</td>\n",
       "      <td>1.0</td>\n",
       "      <td>0.0</td>\n",
       "      <td>0.0</td>\n",
       "      <td>0.0</td>\n",
       "      <td>0.0</td>\n",
       "    </tr>\n",
       "  </tbody>\n",
       "</table>\n",
       "<p>5 rows × 31 columns</p>\n",
       "</div>"
      ],
      "text/plain": [
       "                      Sex       Age  Final_Chronicity  Final_Activity  \\\n",
       "sample                                                                  \n",
       "AMPSLEkid_cells_0134  1.0  0.935974               6.0             4.0   \n",
       "AMPSLEkid_cells_0137  1.0 -0.010301               3.0             5.0   \n",
       "AMPSLEkid_cells_0138  1.0  0.505849               0.0             0.0   \n",
       "AMPSLEkid_cells_0139  1.0  0.849949               3.0             2.0   \n",
       "AMPSLEkid_cells_0140  1.0 -0.784527               1.0             1.0   \n",
       "\n",
       "                      First_biop  Pred_use  Responder_Status  Race_[A]  \\\n",
       "sample                                                                   \n",
       "AMPSLEkid_cells_0134         0.0       0.0               0.0       1.0   \n",
       "AMPSLEkid_cells_0137         0.0       1.0               2.0       0.0   \n",
       "AMPSLEkid_cells_0138         1.0       1.0               2.0       0.0   \n",
       "AMPSLEkid_cells_0139         0.0       1.0               2.0       0.0   \n",
       "AMPSLEkid_cells_0140         1.0       0.0               0.0       0.0   \n",
       "\n",
       "                      Race_[A][B]  Race_[B]  ...  Final_Site_JHU  \\\n",
       "sample                                       ...                   \n",
       "AMPSLEkid_cells_0134          0.0       0.0  ...             0.0   \n",
       "AMPSLEkid_cells_0137          0.0       1.0  ...             0.0   \n",
       "AMPSLEkid_cells_0138          0.0       0.0  ...             0.0   \n",
       "AMPSLEkid_cells_0139          0.0       1.0  ...             0.0   \n",
       "AMPSLEkid_cells_0140          0.0       1.0  ...             0.0   \n",
       "\n",
       "                      Final_Site_Michigan  Final_Site_MUSC  \\\n",
       "sample                                                       \n",
       "AMPSLEkid_cells_0134                  0.0              0.0   \n",
       "AMPSLEkid_cells_0137                  0.0              0.0   \n",
       "AMPSLEkid_cells_0138                  0.0              0.0   \n",
       "AMPSLEkid_cells_0139                  0.0              0.0   \n",
       "AMPSLEkid_cells_0140                  0.0              0.0   \n",
       "\n",
       "                      Final_Site_Northwell  Final_Site_NYU  \\\n",
       "sample                                                       \n",
       "AMPSLEkid_cells_0134                   0.0             0.0   \n",
       "AMPSLEkid_cells_0137                   0.0             0.0   \n",
       "AMPSLEkid_cells_0138                   0.0             0.0   \n",
       "AMPSLEkid_cells_0139                   0.0             0.0   \n",
       "AMPSLEkid_cells_0140                   0.0             0.0   \n",
       "\n",
       "                      Final_Site_Rochester  Final_Site_Texas Tech  \\\n",
       "sample                                                              \n",
       "AMPSLEkid_cells_0134                   1.0                    0.0   \n",
       "AMPSLEkid_cells_0137                   1.0                    0.0   \n",
       "AMPSLEkid_cells_0138                   1.0                    0.0   \n",
       "AMPSLEkid_cells_0139                   1.0                    0.0   \n",
       "AMPSLEkid_cells_0140                   1.0                    0.0   \n",
       "\n",
       "                      Final_Site_UCLA  Final_Site_UCSD  Final_Site_UCSF  \n",
       "sample                                                                   \n",
       "AMPSLEkid_cells_0134              0.0              0.0              0.0  \n",
       "AMPSLEkid_cells_0137              0.0              0.0              0.0  \n",
       "AMPSLEkid_cells_0138              0.0              0.0              0.0  \n",
       "AMPSLEkid_cells_0139              0.0              0.0              0.0  \n",
       "AMPSLEkid_cells_0140              0.0              0.0              0.0  \n",
       "\n",
       "[5 rows x 31 columns]"
      ]
     },
     "execution_count": 98,
     "metadata": {},
     "output_type": "execute_result"
    }
   ],
   "source": [
    "# Start by making anndata object\n",
    "d = mad.MultiAnnData(X=harmony, obs=meta, sampleid=\"sample\")\n",
    "#d.obs_to_sample(['Type', 'Site',\n",
    "#                 'Responder_Status', 'Sex',\n",
    "#                 'Age', 'Race',\n",
    "#                'Ethnicity', 'ISN',\n",
    "#               'Activity', \"Chronicity\",\n",
    "#                 'processing_batch'])\n",
    "d.obs_to_sample(['Sex', 'Age', 'Final_Chronicity', 'Final_Activity', 'First_biop', 'Pred_use', 'Responder_Status', 'Race_[A]',\n",
    "       'Race_[A][B]', 'Race_[B]', 'Race_[B][AI]', 'Race_[B][W]', 'Race_[U]',\n",
    "       'Race_[W]', 'Final_ISN_[III]', 'Final_ISN_[III][V]', 'Final_ISN_[IV]',\n",
    "       'Final_ISN_[IV][V]', 'Final_ISN_[V]', 'Final_Site_Cincinnati',\n",
    "       'Final_Site_Einstein', 'Final_Site_JHU', 'Final_Site_Michigan',\n",
    "       'Final_Site_MUSC', 'Final_Site_Northwell', 'Final_Site_NYU',\n",
    "       'Final_Site_Rochester', 'Final_Site_Texas Tech', 'Final_Site_UCLA',\n",
    "       'Final_Site_UCSD', 'Final_Site_UCSF'])\n",
    "d.samplem.head()"
   ]
  },
  {
   "cell_type": "code",
   "execution_count": 99,
   "id": "84263140-890a-43b0-879a-34ac9fa92696",
   "metadata": {},
   "outputs": [],
   "source": [
    "umap.index = d.obs.index\n",
    "d.obsm['X_umap'] = umap"
   ]
  },
  {
   "cell_type": "code",
   "execution_count": 100,
   "id": "2cb8720b-a099-4cf4-a33f-aee48a91b29f",
   "metadata": {},
   "outputs": [
    {
     "name": "stdout",
     "output_type": "stream",
     "text": [
      "computing default knn graph\n"
     ]
    }
   ],
   "source": [
    "np.random.seed(0) \n",
    "cna.pp.knn(d)"
   ]
  },
  {
   "cell_type": "code",
   "execution_count": 101,
   "id": "5faf7f36-2727-4912-bcbd-9549baa057fd",
   "metadata": {},
   "outputs": [
    {
     "name": "stdout",
     "output_type": "stream",
     "text": [
      "qcd NAM not found; computing and saving\n",
      "\ttaking step 1\n",
      "\tmedian kurtosis: 51.37150192260742\n",
      "\t20th percentile R2(t,t-1): nan\n",
      "\ttaking step 2\n",
      "\tmedian kurtosis: 34.00757598876953\n",
      "\t20th percentile R2(t,t-1): 0.7737238287925721\n",
      "\ttaking step 3\n",
      "\tmedian kurtosis: 24.5955810546875\n",
      "\t20th percentile R2(t,t-1): 0.9182487368583679\n",
      "\ttaking step 4\n",
      "\tmedian kurtosis: 18.904521942138672\n",
      "\t20th percentile R2(t,t-1): 0.9531392097473145\n",
      "\ttaking step 5\n",
      "\tmedian kurtosis: 15.179661750793457\n",
      "\t20th percentile R2(t,t-1): 0.9696611166000366\n",
      "\ttaking step 6\n",
      "\tmedian kurtosis: 12.74237060546875\n",
      "\t20th percentile R2(t,t-1): 0.9801829218864441\n",
      "stopping after 6 steps\n",
      "covariate-adjusted NAM not found; computing and saving\n",
      "computing SVD\n",
      "performing association test\n"
     ]
    },
    {
     "name": "stderr",
     "output_type": "stream",
     "text": [
      "/PHShome/ssg34/.conda/envs/plswork/lib/python3.9/site-packages/cna/tools/_nam.py:79: UserWarning: only one unique batch supplied to qc\n",
      "  warnings.warn('only one unique batch supplied to qc')\n",
      "/PHShome/ssg34/.conda/envs/plswork/lib/python3.9/site-packages/cna/tools/_nam.py:101: UserWarning: only one unique batch supplied to prep\n",
      "  warnings.warn('only one unique batch supplied to prep')\n",
      "/PHShome/ssg34/.conda/envs/plswork/lib/python3.9/site-packages/cna/tools/_association.py:74: UserWarning: global association p-value attained minimal possible value. Consider increasing Nnull\n",
      "  warnings.warn('global association p-value attained minimal possible value. '+\\\n"
     ]
    },
    {
     "name": "stdout",
     "output_type": "stream",
     "text": [
      "computing neighborhood-level FDRs\n",
      "10\n",
      "[1, 2, 3, 4, 5, 6, 7, 8, 9, 10, 11, 12, 13, 14, 15, 16, 17, 18, 19, 20]\n",
      "p = 9.999000099990002e-05 , 10 PCs used\n",
      "total r^2 between top 10 NAM PCs and outcome is 0.29\n"
     ]
    }
   ],
   "source": [
    "np.random.seed(0) \n",
    "res = cna.tl._association.association(d, #dataset \n",
    "                                      d.samplem.First_biop, #phenotype\n",
    "#                                       batches=d.samplem.processing_batch, #batches\n",
    "                                      Nnull=10000, # number of null permutations to do (defaults to only 1e3)\n",
    "                                      ks=[1,2,3,4,5,6,7,8,9,10,11,12,13,14,15,16,17,18,19,20] # I asked the method to consider up to 10 PCs because\n",
    "                                                                #it chose the max number of PCs it considered the default set of [1,2,3,4]\n",
    "                                     )\n",
    "print(res.k)\n",
    "print(res.ks)\n",
    "print('p =', res.p, ',', res.k, 'PCs used')\n",
    "print('total r^2 between top {} NAM PCs and outcome is {:.2f}'.format(res.k, res.r2))"
   ]
  },
  {
   "cell_type": "code",
   "execution_count": 102,
   "id": "ac6adb57-d1b3-4bd2-bb53-ddac74326864",
   "metadata": {},
   "outputs": [],
   "source": [
    "sc_uni['First_biopsy'] = res.p"
   ]
  },
  {
   "cell_type": "code",
   "execution_count": 103,
   "id": "a3acb599-dd86-4e51-a5f5-ef617ca75142",
   "metadata": {},
   "outputs": [],
   "source": [
    "np.savetxt(\"/data/srlab/ssg34/SLE_kidney_v2/data/cna_new/myeloid/first_biop_pred_use_site/sc_ncorr_firstbiop.csv\", \n",
    "               res.ncorrs, delimiter=\",\")\n",
    "np.savetxt(\"/data/srlab/ssg34/SLE_kidney_v2/data/cna_new/myeloid/first_biop_pred_use_site/sc_fdrs_firstbiop.csv\", \n",
    "               res.fdrs, delimiter=\",\")"
   ]
  },
  {
   "cell_type": "markdown",
   "id": "7d1a4ac7-8fbc-4785-a522-d15a0c464011",
   "metadata": {},
   "source": [
    "# PREDNISONE USE"
   ]
  },
  {
   "cell_type": "markdown",
   "id": "ca631bd9-b334-45e0-83fa-6ac643387cc4",
   "metadata": {},
   "source": [
    "## Single Cell"
   ]
  },
  {
   "cell_type": "code",
   "execution_count": 104,
   "id": "d7fc4566-ec60-4c73-8d84-f49e750da207",
   "metadata": {},
   "outputs": [
    {
     "name": "stdout",
     "output_type": "stream",
     "text": [
      "(23491, 39)\n"
     ]
    }
   ],
   "source": [
    "meta = pd.read_csv('/data/srlab/ssg34/SLE_kidney_v2/data/cna_new/myeloid/first_biop_pred_use_site/sc_meta_preduse.csv')\n",
    "print(meta.shape)"
   ]
  },
  {
   "cell_type": "code",
   "execution_count": 105,
   "id": "b9aefcb8-3f46-49bb-b1fe-c4d368ce74dd",
   "metadata": {},
   "outputs": [
    {
     "name": "stdout",
     "output_type": "stream",
     "text": [
      "(23491, 20)\n"
     ]
    }
   ],
   "source": [
    "harmony = pd.read_csv('/data/srlab/ssg34/SLE_kidney_v2/data/cna_new/myeloid/first_biop_pred_use_site/sc_harmony_preduse.csv')\n",
    "print(harmony.shape)"
   ]
  },
  {
   "cell_type": "code",
   "execution_count": 106,
   "id": "b27475de-42b5-49cf-92d5-4677a65fbf94",
   "metadata": {},
   "outputs": [
    {
     "name": "stdout",
     "output_type": "stream",
     "text": [
      "(23491, 20)\n"
     ]
    }
   ],
   "source": [
    "umap = pd.read_csv('/data/srlab/ssg34/SLE_kidney_v2/data/cna_new/myeloid/first_biop_pred_use_site/sc_harmony_preduse.csv')\n",
    "print(umap.shape)"
   ]
  },
  {
   "cell_type": "code",
   "execution_count": 107,
   "id": "7c2d74d4-db00-4d2f-84c9-6572c1b2a139",
   "metadata": {},
   "outputs": [
    {
     "name": "stdout",
     "output_type": "stream",
     "text": [
      "warning: the following columns of obs are non-numeric.\n",
      "['cell' 'sample' 'final_annotation' 'Responder.Status' 'Race' 'Final_ISN'\n",
      " 'Type' 'Final_Site']\n",
      "consider casting to numeric types where appropriate, and\n",
      "consider re-coding text-valued columns with pandas.get_dummies\n"
     ]
    },
    {
     "name": "stderr",
     "output_type": "stream",
     "text": [
      "/PHShome/ssg34/.conda/envs/plswork/lib/python3.9/site-packages/multianndata/core.py:17: FutureWarning: X.dtype being converted to np.float32 from float64. In the next version of anndata (0.9) conversion will not be automatic. Pass dtype explicitly to avoid this warning. Pass `AnnData(X, dtype=X.dtype, ...)` to get the future behavour.\n",
      "  super().__init__(*args, **kwargs)\n",
      "/PHShome/ssg34/.conda/envs/plswork/lib/python3.9/site-packages/anndata/_core/anndata.py:121: ImplicitModificationWarning: Transforming to str index.\n",
      "  warnings.warn(\"Transforming to str index.\", ImplicitModificationWarning)\n"
     ]
    },
    {
     "data": {
      "text/html": [
       "<div>\n",
       "<style scoped>\n",
       "    .dataframe tbody tr th:only-of-type {\n",
       "        vertical-align: middle;\n",
       "    }\n",
       "\n",
       "    .dataframe tbody tr th {\n",
       "        vertical-align: top;\n",
       "    }\n",
       "\n",
       "    .dataframe thead th {\n",
       "        text-align: right;\n",
       "    }\n",
       "</style>\n",
       "<table border=\"1\" class=\"dataframe\">\n",
       "  <thead>\n",
       "    <tr style=\"text-align: right;\">\n",
       "      <th></th>\n",
       "      <th>Sex</th>\n",
       "      <th>Age</th>\n",
       "      <th>Final_Chronicity</th>\n",
       "      <th>Final_Activity</th>\n",
       "      <th>First_biop</th>\n",
       "      <th>Pred_use</th>\n",
       "      <th>Responder_Status</th>\n",
       "      <th>Race_[A]</th>\n",
       "      <th>Race_[A][B]</th>\n",
       "      <th>Race_[B]</th>\n",
       "      <th>...</th>\n",
       "      <th>Final_Site_JHU</th>\n",
       "      <th>Final_Site_Michigan</th>\n",
       "      <th>Final_Site_MUSC</th>\n",
       "      <th>Final_Site_Northwell</th>\n",
       "      <th>Final_Site_NYU</th>\n",
       "      <th>Final_Site_Rochester</th>\n",
       "      <th>Final_Site_Texas Tech</th>\n",
       "      <th>Final_Site_UCLA</th>\n",
       "      <th>Final_Site_UCSD</th>\n",
       "      <th>Final_Site_UCSF</th>\n",
       "    </tr>\n",
       "    <tr>\n",
       "      <th>sample</th>\n",
       "      <th></th>\n",
       "      <th></th>\n",
       "      <th></th>\n",
       "      <th></th>\n",
       "      <th></th>\n",
       "      <th></th>\n",
       "      <th></th>\n",
       "      <th></th>\n",
       "      <th></th>\n",
       "      <th></th>\n",
       "      <th></th>\n",
       "      <th></th>\n",
       "      <th></th>\n",
       "      <th></th>\n",
       "      <th></th>\n",
       "      <th></th>\n",
       "      <th></th>\n",
       "      <th></th>\n",
       "      <th></th>\n",
       "      <th></th>\n",
       "      <th></th>\n",
       "    </tr>\n",
       "  </thead>\n",
       "  <tbody>\n",
       "    <tr>\n",
       "      <th>AMPSLEkid_cells_0134</th>\n",
       "      <td>1.0</td>\n",
       "      <td>0.935974</td>\n",
       "      <td>6.0</td>\n",
       "      <td>4.0</td>\n",
       "      <td>0.0</td>\n",
       "      <td>0.0</td>\n",
       "      <td>0.0</td>\n",
       "      <td>1.0</td>\n",
       "      <td>0.0</td>\n",
       "      <td>0.0</td>\n",
       "      <td>...</td>\n",
       "      <td>0.0</td>\n",
       "      <td>0.0</td>\n",
       "      <td>0.0</td>\n",
       "      <td>0.0</td>\n",
       "      <td>0.0</td>\n",
       "      <td>1.0</td>\n",
       "      <td>0.0</td>\n",
       "      <td>0.0</td>\n",
       "      <td>0.0</td>\n",
       "      <td>0.0</td>\n",
       "    </tr>\n",
       "    <tr>\n",
       "      <th>AMPSLEkid_cells_0137</th>\n",
       "      <td>1.0</td>\n",
       "      <td>-0.010301</td>\n",
       "      <td>3.0</td>\n",
       "      <td>5.0</td>\n",
       "      <td>0.0</td>\n",
       "      <td>1.0</td>\n",
       "      <td>2.0</td>\n",
       "      <td>0.0</td>\n",
       "      <td>0.0</td>\n",
       "      <td>1.0</td>\n",
       "      <td>...</td>\n",
       "      <td>0.0</td>\n",
       "      <td>0.0</td>\n",
       "      <td>0.0</td>\n",
       "      <td>0.0</td>\n",
       "      <td>0.0</td>\n",
       "      <td>1.0</td>\n",
       "      <td>0.0</td>\n",
       "      <td>0.0</td>\n",
       "      <td>0.0</td>\n",
       "      <td>0.0</td>\n",
       "    </tr>\n",
       "    <tr>\n",
       "      <th>AMPSLEkid_cells_0138</th>\n",
       "      <td>1.0</td>\n",
       "      <td>0.505849</td>\n",
       "      <td>0.0</td>\n",
       "      <td>0.0</td>\n",
       "      <td>1.0</td>\n",
       "      <td>1.0</td>\n",
       "      <td>2.0</td>\n",
       "      <td>0.0</td>\n",
       "      <td>0.0</td>\n",
       "      <td>0.0</td>\n",
       "      <td>...</td>\n",
       "      <td>0.0</td>\n",
       "      <td>0.0</td>\n",
       "      <td>0.0</td>\n",
       "      <td>0.0</td>\n",
       "      <td>0.0</td>\n",
       "      <td>1.0</td>\n",
       "      <td>0.0</td>\n",
       "      <td>0.0</td>\n",
       "      <td>0.0</td>\n",
       "      <td>0.0</td>\n",
       "    </tr>\n",
       "    <tr>\n",
       "      <th>AMPSLEkid_cells_0139</th>\n",
       "      <td>1.0</td>\n",
       "      <td>0.849949</td>\n",
       "      <td>3.0</td>\n",
       "      <td>2.0</td>\n",
       "      <td>0.0</td>\n",
       "      <td>1.0</td>\n",
       "      <td>2.0</td>\n",
       "      <td>0.0</td>\n",
       "      <td>0.0</td>\n",
       "      <td>1.0</td>\n",
       "      <td>...</td>\n",
       "      <td>0.0</td>\n",
       "      <td>0.0</td>\n",
       "      <td>0.0</td>\n",
       "      <td>0.0</td>\n",
       "      <td>0.0</td>\n",
       "      <td>1.0</td>\n",
       "      <td>0.0</td>\n",
       "      <td>0.0</td>\n",
       "      <td>0.0</td>\n",
       "      <td>0.0</td>\n",
       "    </tr>\n",
       "    <tr>\n",
       "      <th>AMPSLEkid_cells_0140</th>\n",
       "      <td>1.0</td>\n",
       "      <td>-0.784527</td>\n",
       "      <td>1.0</td>\n",
       "      <td>1.0</td>\n",
       "      <td>1.0</td>\n",
       "      <td>0.0</td>\n",
       "      <td>0.0</td>\n",
       "      <td>0.0</td>\n",
       "      <td>0.0</td>\n",
       "      <td>1.0</td>\n",
       "      <td>...</td>\n",
       "      <td>0.0</td>\n",
       "      <td>0.0</td>\n",
       "      <td>0.0</td>\n",
       "      <td>0.0</td>\n",
       "      <td>0.0</td>\n",
       "      <td>1.0</td>\n",
       "      <td>0.0</td>\n",
       "      <td>0.0</td>\n",
       "      <td>0.0</td>\n",
       "      <td>0.0</td>\n",
       "    </tr>\n",
       "  </tbody>\n",
       "</table>\n",
       "<p>5 rows × 31 columns</p>\n",
       "</div>"
      ],
      "text/plain": [
       "                      Sex       Age  Final_Chronicity  Final_Activity  \\\n",
       "sample                                                                  \n",
       "AMPSLEkid_cells_0134  1.0  0.935974               6.0             4.0   \n",
       "AMPSLEkid_cells_0137  1.0 -0.010301               3.0             5.0   \n",
       "AMPSLEkid_cells_0138  1.0  0.505849               0.0             0.0   \n",
       "AMPSLEkid_cells_0139  1.0  0.849949               3.0             2.0   \n",
       "AMPSLEkid_cells_0140  1.0 -0.784527               1.0             1.0   \n",
       "\n",
       "                      First_biop  Pred_use  Responder_Status  Race_[A]  \\\n",
       "sample                                                                   \n",
       "AMPSLEkid_cells_0134         0.0       0.0               0.0       1.0   \n",
       "AMPSLEkid_cells_0137         0.0       1.0               2.0       0.0   \n",
       "AMPSLEkid_cells_0138         1.0       1.0               2.0       0.0   \n",
       "AMPSLEkid_cells_0139         0.0       1.0               2.0       0.0   \n",
       "AMPSLEkid_cells_0140         1.0       0.0               0.0       0.0   \n",
       "\n",
       "                      Race_[A][B]  Race_[B]  ...  Final_Site_JHU  \\\n",
       "sample                                       ...                   \n",
       "AMPSLEkid_cells_0134          0.0       0.0  ...             0.0   \n",
       "AMPSLEkid_cells_0137          0.0       1.0  ...             0.0   \n",
       "AMPSLEkid_cells_0138          0.0       0.0  ...             0.0   \n",
       "AMPSLEkid_cells_0139          0.0       1.0  ...             0.0   \n",
       "AMPSLEkid_cells_0140          0.0       1.0  ...             0.0   \n",
       "\n",
       "                      Final_Site_Michigan  Final_Site_MUSC  \\\n",
       "sample                                                       \n",
       "AMPSLEkid_cells_0134                  0.0              0.0   \n",
       "AMPSLEkid_cells_0137                  0.0              0.0   \n",
       "AMPSLEkid_cells_0138                  0.0              0.0   \n",
       "AMPSLEkid_cells_0139                  0.0              0.0   \n",
       "AMPSLEkid_cells_0140                  0.0              0.0   \n",
       "\n",
       "                      Final_Site_Northwell  Final_Site_NYU  \\\n",
       "sample                                                       \n",
       "AMPSLEkid_cells_0134                   0.0             0.0   \n",
       "AMPSLEkid_cells_0137                   0.0             0.0   \n",
       "AMPSLEkid_cells_0138                   0.0             0.0   \n",
       "AMPSLEkid_cells_0139                   0.0             0.0   \n",
       "AMPSLEkid_cells_0140                   0.0             0.0   \n",
       "\n",
       "                      Final_Site_Rochester  Final_Site_Texas Tech  \\\n",
       "sample                                                              \n",
       "AMPSLEkid_cells_0134                   1.0                    0.0   \n",
       "AMPSLEkid_cells_0137                   1.0                    0.0   \n",
       "AMPSLEkid_cells_0138                   1.0                    0.0   \n",
       "AMPSLEkid_cells_0139                   1.0                    0.0   \n",
       "AMPSLEkid_cells_0140                   1.0                    0.0   \n",
       "\n",
       "                      Final_Site_UCLA  Final_Site_UCSD  Final_Site_UCSF  \n",
       "sample                                                                   \n",
       "AMPSLEkid_cells_0134              0.0              0.0              0.0  \n",
       "AMPSLEkid_cells_0137              0.0              0.0              0.0  \n",
       "AMPSLEkid_cells_0138              0.0              0.0              0.0  \n",
       "AMPSLEkid_cells_0139              0.0              0.0              0.0  \n",
       "AMPSLEkid_cells_0140              0.0              0.0              0.0  \n",
       "\n",
       "[5 rows x 31 columns]"
      ]
     },
     "execution_count": 107,
     "metadata": {},
     "output_type": "execute_result"
    }
   ],
   "source": [
    "# Start by making anndata object\n",
    "d = mad.MultiAnnData(X=harmony, obs=meta, sampleid=\"sample\")\n",
    "#d.obs_to_sample(['Type', 'Site',\n",
    "#                 'Responder_Status', 'Sex',\n",
    "#                 'Age', 'Race',\n",
    "#                'Ethnicity', 'ISN',\n",
    "#               'Activity', \"Chronicity\",\n",
    "#                 'processing_batch'])\n",
    "d.obs_to_sample(['Sex', 'Age', 'Final_Chronicity', 'Final_Activity', 'First_biop', 'Pred_use', 'Responder_Status', 'Race_[A]',\n",
    "       'Race_[A][B]', 'Race_[B]', 'Race_[B][AI]', 'Race_[B][W]', 'Race_[U]',\n",
    "       'Race_[W]', 'Final_ISN_[III]', 'Final_ISN_[III][V]', 'Final_ISN_[IV]',\n",
    "       'Final_ISN_[IV][V]', 'Final_ISN_[V]', 'Final_Site_Cincinnati',\n",
    "       'Final_Site_Einstein', 'Final_Site_JHU', 'Final_Site_Michigan',\n",
    "       'Final_Site_MUSC', 'Final_Site_Northwell', 'Final_Site_NYU',\n",
    "       'Final_Site_Rochester', 'Final_Site_Texas Tech', 'Final_Site_UCLA',\n",
    "       'Final_Site_UCSD', 'Final_Site_UCSF'])\n",
    "d.samplem.head()"
   ]
  },
  {
   "cell_type": "code",
   "execution_count": 108,
   "id": "768e1e40-92ee-4293-8727-4874ee1e5a57",
   "metadata": {},
   "outputs": [],
   "source": [
    "umap.index = d.obs.index\n",
    "d.obsm['X_umap'] = umap"
   ]
  },
  {
   "cell_type": "code",
   "execution_count": 109,
   "id": "8a99bb2a-b15f-4089-863d-771bbfaba861",
   "metadata": {},
   "outputs": [
    {
     "name": "stdout",
     "output_type": "stream",
     "text": [
      "computing default knn graph\n"
     ]
    }
   ],
   "source": [
    "np.random.seed(0) \n",
    "cna.pp.knn(d)"
   ]
  },
  {
   "cell_type": "code",
   "execution_count": 110,
   "id": "12c3892d-b8d9-451a-8d8f-9e2b28c63ac5",
   "metadata": {},
   "outputs": [
    {
     "name": "stdout",
     "output_type": "stream",
     "text": [
      "qcd NAM not found; computing and saving\n",
      "\ttaking step 1\n",
      "\tmedian kurtosis: 51.37150192260742\n",
      "\t20th percentile R2(t,t-1): nan\n",
      "\ttaking step 2\n",
      "\tmedian kurtosis: 34.00757598876953\n",
      "\t20th percentile R2(t,t-1): 0.7737238287925721\n",
      "\ttaking step 3\n",
      "\tmedian kurtosis: 24.5955810546875\n",
      "\t20th percentile R2(t,t-1): 0.9182487368583679\n",
      "\ttaking step 4\n",
      "\tmedian kurtosis: 18.904521942138672\n",
      "\t20th percentile R2(t,t-1): 0.9531392097473145\n",
      "\ttaking step 5\n",
      "\tmedian kurtosis: 15.179661750793457\n",
      "\t20th percentile R2(t,t-1): 0.9696611166000366\n",
      "\ttaking step 6\n",
      "\tmedian kurtosis: 12.74237060546875\n",
      "\t20th percentile R2(t,t-1): 0.9801829218864441\n",
      "stopping after 6 steps\n",
      "covariate-adjusted NAM not found; computing and saving\n"
     ]
    },
    {
     "name": "stderr",
     "output_type": "stream",
     "text": [
      "/PHShome/ssg34/.conda/envs/plswork/lib/python3.9/site-packages/cna/tools/_nam.py:79: UserWarning: only one unique batch supplied to qc\n",
      "  warnings.warn('only one unique batch supplied to qc')\n",
      "/PHShome/ssg34/.conda/envs/plswork/lib/python3.9/site-packages/cna/tools/_nam.py:101: UserWarning: only one unique batch supplied to prep\n",
      "  warnings.warn('only one unique batch supplied to prep')\n"
     ]
    },
    {
     "name": "stdout",
     "output_type": "stream",
     "text": [
      "computing SVD\n",
      "performing association test\n",
      "computing neighborhood-level FDRs\n",
      "1\n",
      "[1, 2, 3, 4, 5, 6, 7, 8, 9, 10, 11, 12, 13, 14, 15, 16, 17, 18, 19, 20]\n",
      "p = 0.010998900109989001 , 1 PCs used\n",
      "total r^2 between top 1 NAM PCs and outcome is 0.07\n"
     ]
    }
   ],
   "source": [
    "np.random.seed(0) \n",
    "res = cna.tl._association.association(d, #dataset \n",
    "                                      d.samplem.Pred_use, #phenotype\n",
    "#                                       batches=d.samplem.processing_batch, #batches\n",
    "                                      Nnull=10000, # number of null permutations to do (defaults to only 1e3)\n",
    "                                      ks=[1,2,3,4,5,6,7,8,9,10,11,12,13,14,15,16,17,18,19,20] # I asked the method to consider up to 10 PCs because\n",
    "                                                                #it chose the max number of PCs it considered the default set of [1,2,3,4]\n",
    "                                     )\n",
    "print(res.k)\n",
    "print(res.ks)\n",
    "print('p =', res.p, ',', res.k, 'PCs used')\n",
    "print('total r^2 between top {} NAM PCs and outcome is {:.2f}'.format(res.k, res.r2))"
   ]
  },
  {
   "cell_type": "code",
   "execution_count": 111,
   "id": "597f02ca-c5eb-4c07-9063-c8297c4f699b",
   "metadata": {},
   "outputs": [],
   "source": [
    "sc_uni['Prednisone_use'] = res.p"
   ]
  },
  {
   "cell_type": "code",
   "execution_count": 113,
   "id": "2559b57f-dfb3-421f-89dc-c8375243416e",
   "metadata": {},
   "outputs": [],
   "source": [
    "np.savetxt(\"/data/srlab/ssg34/SLE_kidney_v2/data/cna_new/myeloid/first_biop_pred_use_site/sc_ncorr_preduse.csv\", \n",
    "               res.ncorrs, delimiter=\",\")\n",
    "np.savetxt(\"/data/srlab/ssg34/SLE_kidney_v2/data/cna_new/myeloid/first_biop_pred_use_site/sc_fdrs_preduse.csv\", \n",
    "               res.fdrs, delimiter=\",\")"
   ]
  },
  {
   "cell_type": "markdown",
   "id": "eb224630-4c63-4885-8397-dff12957e49d",
   "metadata": {},
   "source": [
    "# Chronicity"
   ]
  },
  {
   "cell_type": "markdown",
   "id": "f1c89c0d-15f3-4388-a99b-bd14241b13ab",
   "metadata": {},
   "source": [
    "## Single Cell"
   ]
  },
  {
   "cell_type": "code",
   "execution_count": 5,
   "id": "6f716a63-b18d-40f4-babb-7e118104ceba",
   "metadata": {},
   "outputs": [
    {
     "name": "stdout",
     "output_type": "stream",
     "text": [
      "(21479, 39)\n"
     ]
    }
   ],
   "source": [
    "meta = pd.read_csv('/data/srlab/ssg34/SLE_kidney_v2/data/cna_new/myeloid/chronicity/sc_meta.csv')\n",
    "print(meta.shape)"
   ]
  },
  {
   "cell_type": "code",
   "execution_count": 6,
   "id": "2b7ed36b-f407-4d7f-b0fc-29cab8887935",
   "metadata": {},
   "outputs": [
    {
     "name": "stdout",
     "output_type": "stream",
     "text": [
      "(21479, 20)\n"
     ]
    }
   ],
   "source": [
    "harmony = pd.read_csv('/data/srlab/ssg34/SLE_kidney_v2/data/cna_new/myeloid/chronicity/sc_harmony.csv')\n",
    "print(harmony.shape)"
   ]
  },
  {
   "cell_type": "code",
   "execution_count": 7,
   "id": "8432d761-75f3-40ef-85d4-b48996ee1026",
   "metadata": {},
   "outputs": [
    {
     "name": "stdout",
     "output_type": "stream",
     "text": [
      "(21479, 2)\n"
     ]
    }
   ],
   "source": [
    "umap = pd.read_csv('/data/srlab/ssg34/SLE_kidney_v2/data/cna_new/myeloid/chronicity/sc_umap.csv')\n",
    "print(umap.shape)"
   ]
  },
  {
   "cell_type": "code",
   "execution_count": 8,
   "id": "4834f019-4328-4b7d-a2e8-96da148f6b1b",
   "metadata": {},
   "outputs": [
    {
     "name": "stdout",
     "output_type": "stream",
     "text": [
      "warning: the following columns of obs are non-numeric.\n",
      "['cell' 'sample' 'final_annotation' 'Responder.Status' 'Race' 'Final_ISN'\n",
      " 'Type' 'Final_Site']\n",
      "consider casting to numeric types where appropriate, and\n",
      "consider re-coding text-valued columns with pandas.get_dummies\n"
     ]
    },
    {
     "name": "stderr",
     "output_type": "stream",
     "text": [
      "/PHShome/ssg34/.conda/envs/plswork/lib/python3.9/site-packages/multianndata/core.py:17: FutureWarning: X.dtype being converted to np.float32 from float64. In the next version of anndata (0.9) conversion will not be automatic. Pass dtype explicitly to avoid this warning. Pass `AnnData(X, dtype=X.dtype, ...)` to get the future behavour.\n",
      "  super().__init__(*args, **kwargs)\n",
      "/PHShome/ssg34/.conda/envs/plswork/lib/python3.9/site-packages/anndata/_core/anndata.py:121: ImplicitModificationWarning: Transforming to str index.\n",
      "  warnings.warn(\"Transforming to str index.\", ImplicitModificationWarning)\n"
     ]
    },
    {
     "data": {
      "text/html": [
       "<div>\n",
       "<style scoped>\n",
       "    .dataframe tbody tr th:only-of-type {\n",
       "        vertical-align: middle;\n",
       "    }\n",
       "\n",
       "    .dataframe tbody tr th {\n",
       "        vertical-align: top;\n",
       "    }\n",
       "\n",
       "    .dataframe thead th {\n",
       "        text-align: right;\n",
       "    }\n",
       "</style>\n",
       "<table border=\"1\" class=\"dataframe\">\n",
       "  <thead>\n",
       "    <tr style=\"text-align: right;\">\n",
       "      <th></th>\n",
       "      <th>Sex</th>\n",
       "      <th>Age</th>\n",
       "      <th>Final_Chronicity</th>\n",
       "      <th>Final_Activity</th>\n",
       "      <th>First_biop</th>\n",
       "      <th>Pred_use</th>\n",
       "      <th>Responder_Status</th>\n",
       "      <th>Race_[A]</th>\n",
       "      <th>Race_[A][B]</th>\n",
       "      <th>Race_[B]</th>\n",
       "      <th>...</th>\n",
       "      <th>Final_Site_JHU</th>\n",
       "      <th>Final_Site_Michigan</th>\n",
       "      <th>Final_Site_MUSC</th>\n",
       "      <th>Final_Site_Northwell</th>\n",
       "      <th>Final_Site_NYU</th>\n",
       "      <th>Final_Site_Rochester</th>\n",
       "      <th>Final_Site_Texas Tech</th>\n",
       "      <th>Final_Site_UCLA</th>\n",
       "      <th>Final_Site_UCSD</th>\n",
       "      <th>Final_Site_UCSF</th>\n",
       "    </tr>\n",
       "    <tr>\n",
       "      <th>sample</th>\n",
       "      <th></th>\n",
       "      <th></th>\n",
       "      <th></th>\n",
       "      <th></th>\n",
       "      <th></th>\n",
       "      <th></th>\n",
       "      <th></th>\n",
       "      <th></th>\n",
       "      <th></th>\n",
       "      <th></th>\n",
       "      <th></th>\n",
       "      <th></th>\n",
       "      <th></th>\n",
       "      <th></th>\n",
       "      <th></th>\n",
       "      <th></th>\n",
       "      <th></th>\n",
       "      <th></th>\n",
       "      <th></th>\n",
       "      <th></th>\n",
       "      <th></th>\n",
       "    </tr>\n",
       "  </thead>\n",
       "  <tbody>\n",
       "    <tr>\n",
       "      <th>AMPSLEkid_cells_0134</th>\n",
       "      <td>1.0</td>\n",
       "      <td>0.888801</td>\n",
       "      <td>6.0</td>\n",
       "      <td>4.0</td>\n",
       "      <td>0.0</td>\n",
       "      <td>0.0</td>\n",
       "      <td>0.0</td>\n",
       "      <td>1.0</td>\n",
       "      <td>0.0</td>\n",
       "      <td>0.0</td>\n",
       "      <td>...</td>\n",
       "      <td>0.0</td>\n",
       "      <td>0.0</td>\n",
       "      <td>0.0</td>\n",
       "      <td>0.0</td>\n",
       "      <td>0.0</td>\n",
       "      <td>1.0</td>\n",
       "      <td>0.0</td>\n",
       "      <td>0.0</td>\n",
       "      <td>0.0</td>\n",
       "      <td>0.0</td>\n",
       "    </tr>\n",
       "    <tr>\n",
       "      <th>AMPSLEkid_cells_0137</th>\n",
       "      <td>1.0</td>\n",
       "      <td>-0.046086</td>\n",
       "      <td>3.0</td>\n",
       "      <td>5.0</td>\n",
       "      <td>0.0</td>\n",
       "      <td>1.0</td>\n",
       "      <td>2.0</td>\n",
       "      <td>0.0</td>\n",
       "      <td>0.0</td>\n",
       "      <td>1.0</td>\n",
       "      <td>...</td>\n",
       "      <td>0.0</td>\n",
       "      <td>0.0</td>\n",
       "      <td>0.0</td>\n",
       "      <td>0.0</td>\n",
       "      <td>0.0</td>\n",
       "      <td>1.0</td>\n",
       "      <td>0.0</td>\n",
       "      <td>0.0</td>\n",
       "      <td>0.0</td>\n",
       "      <td>0.0</td>\n",
       "    </tr>\n",
       "    <tr>\n",
       "      <th>AMPSLEkid_cells_0138</th>\n",
       "      <td>1.0</td>\n",
       "      <td>0.463853</td>\n",
       "      <td>0.0</td>\n",
       "      <td>0.0</td>\n",
       "      <td>1.0</td>\n",
       "      <td>1.0</td>\n",
       "      <td>2.0</td>\n",
       "      <td>0.0</td>\n",
       "      <td>0.0</td>\n",
       "      <td>0.0</td>\n",
       "      <td>...</td>\n",
       "      <td>0.0</td>\n",
       "      <td>0.0</td>\n",
       "      <td>0.0</td>\n",
       "      <td>0.0</td>\n",
       "      <td>0.0</td>\n",
       "      <td>1.0</td>\n",
       "      <td>0.0</td>\n",
       "      <td>0.0</td>\n",
       "      <td>0.0</td>\n",
       "      <td>0.0</td>\n",
       "    </tr>\n",
       "    <tr>\n",
       "      <th>AMPSLEkid_cells_0139</th>\n",
       "      <td>1.0</td>\n",
       "      <td>0.803812</td>\n",
       "      <td>3.0</td>\n",
       "      <td>2.0</td>\n",
       "      <td>0.0</td>\n",
       "      <td>1.0</td>\n",
       "      <td>2.0</td>\n",
       "      <td>0.0</td>\n",
       "      <td>0.0</td>\n",
       "      <td>1.0</td>\n",
       "      <td>...</td>\n",
       "      <td>0.0</td>\n",
       "      <td>0.0</td>\n",
       "      <td>0.0</td>\n",
       "      <td>0.0</td>\n",
       "      <td>0.0</td>\n",
       "      <td>1.0</td>\n",
       "      <td>0.0</td>\n",
       "      <td>0.0</td>\n",
       "      <td>0.0</td>\n",
       "      <td>0.0</td>\n",
       "    </tr>\n",
       "    <tr>\n",
       "      <th>AMPSLEkid_cells_0140</th>\n",
       "      <td>1.0</td>\n",
       "      <td>-0.810993</td>\n",
       "      <td>1.0</td>\n",
       "      <td>1.0</td>\n",
       "      <td>1.0</td>\n",
       "      <td>0.0</td>\n",
       "      <td>0.0</td>\n",
       "      <td>0.0</td>\n",
       "      <td>0.0</td>\n",
       "      <td>1.0</td>\n",
       "      <td>...</td>\n",
       "      <td>0.0</td>\n",
       "      <td>0.0</td>\n",
       "      <td>0.0</td>\n",
       "      <td>0.0</td>\n",
       "      <td>0.0</td>\n",
       "      <td>1.0</td>\n",
       "      <td>0.0</td>\n",
       "      <td>0.0</td>\n",
       "      <td>0.0</td>\n",
       "      <td>0.0</td>\n",
       "    </tr>\n",
       "  </tbody>\n",
       "</table>\n",
       "<p>5 rows × 31 columns</p>\n",
       "</div>"
      ],
      "text/plain": [
       "                      Sex       Age  Final_Chronicity  Final_Activity  \\\n",
       "sample                                                                  \n",
       "AMPSLEkid_cells_0134  1.0  0.888801               6.0             4.0   \n",
       "AMPSLEkid_cells_0137  1.0 -0.046086               3.0             5.0   \n",
       "AMPSLEkid_cells_0138  1.0  0.463853               0.0             0.0   \n",
       "AMPSLEkid_cells_0139  1.0  0.803812               3.0             2.0   \n",
       "AMPSLEkid_cells_0140  1.0 -0.810993               1.0             1.0   \n",
       "\n",
       "                      First_biop  Pred_use  Responder_Status  Race_[A]  \\\n",
       "sample                                                                   \n",
       "AMPSLEkid_cells_0134         0.0       0.0               0.0       1.0   \n",
       "AMPSLEkid_cells_0137         0.0       1.0               2.0       0.0   \n",
       "AMPSLEkid_cells_0138         1.0       1.0               2.0       0.0   \n",
       "AMPSLEkid_cells_0139         0.0       1.0               2.0       0.0   \n",
       "AMPSLEkid_cells_0140         1.0       0.0               0.0       0.0   \n",
       "\n",
       "                      Race_[A][B]  Race_[B]  ...  Final_Site_JHU  \\\n",
       "sample                                       ...                   \n",
       "AMPSLEkid_cells_0134          0.0       0.0  ...             0.0   \n",
       "AMPSLEkid_cells_0137          0.0       1.0  ...             0.0   \n",
       "AMPSLEkid_cells_0138          0.0       0.0  ...             0.0   \n",
       "AMPSLEkid_cells_0139          0.0       1.0  ...             0.0   \n",
       "AMPSLEkid_cells_0140          0.0       1.0  ...             0.0   \n",
       "\n",
       "                      Final_Site_Michigan  Final_Site_MUSC  \\\n",
       "sample                                                       \n",
       "AMPSLEkid_cells_0134                  0.0              0.0   \n",
       "AMPSLEkid_cells_0137                  0.0              0.0   \n",
       "AMPSLEkid_cells_0138                  0.0              0.0   \n",
       "AMPSLEkid_cells_0139                  0.0              0.0   \n",
       "AMPSLEkid_cells_0140                  0.0              0.0   \n",
       "\n",
       "                      Final_Site_Northwell  Final_Site_NYU  \\\n",
       "sample                                                       \n",
       "AMPSLEkid_cells_0134                   0.0             0.0   \n",
       "AMPSLEkid_cells_0137                   0.0             0.0   \n",
       "AMPSLEkid_cells_0138                   0.0             0.0   \n",
       "AMPSLEkid_cells_0139                   0.0             0.0   \n",
       "AMPSLEkid_cells_0140                   0.0             0.0   \n",
       "\n",
       "                      Final_Site_Rochester  Final_Site_Texas Tech  \\\n",
       "sample                                                              \n",
       "AMPSLEkid_cells_0134                   1.0                    0.0   \n",
       "AMPSLEkid_cells_0137                   1.0                    0.0   \n",
       "AMPSLEkid_cells_0138                   1.0                    0.0   \n",
       "AMPSLEkid_cells_0139                   1.0                    0.0   \n",
       "AMPSLEkid_cells_0140                   1.0                    0.0   \n",
       "\n",
       "                      Final_Site_UCLA  Final_Site_UCSD  Final_Site_UCSF  \n",
       "sample                                                                   \n",
       "AMPSLEkid_cells_0134              0.0              0.0              0.0  \n",
       "AMPSLEkid_cells_0137              0.0              0.0              0.0  \n",
       "AMPSLEkid_cells_0138              0.0              0.0              0.0  \n",
       "AMPSLEkid_cells_0139              0.0              0.0              0.0  \n",
       "AMPSLEkid_cells_0140              0.0              0.0              0.0  \n",
       "\n",
       "[5 rows x 31 columns]"
      ]
     },
     "execution_count": 8,
     "metadata": {},
     "output_type": "execute_result"
    }
   ],
   "source": [
    "# Start by making anndata object\n",
    "d = mad.MultiAnnData(X=harmony, obs=meta, sampleid=\"sample\")\n",
    "#d.obs_to_sample(['Type', 'Site',\n",
    "#                 'Responder_Status', 'Sex',\n",
    "#                 'Age', 'Race',\n",
    "#                'Ethnicity', 'ISN',\n",
    "#               'Activity', \"Chronicity\",\n",
    "#                 'processing_batch'])\n",
    "d.obs_to_sample(['Sex', 'Age', 'Final_Chronicity', 'Final_Activity', 'First_biop', 'Pred_use', 'Responder_Status', 'Race_[A]',\n",
    "       'Race_[A][B]', 'Race_[B]', 'Race_[B][AI]', 'Race_[B][W]', 'Race_[U]',\n",
    "       'Race_[W]', 'Final_ISN_[III]', 'Final_ISN_[III][V]', 'Final_ISN_[IV]',\n",
    "       'Final_ISN_[IV][V]', 'Final_ISN_[V]', 'Final_Site_Cincinnati',\n",
    "       'Final_Site_Einstein', 'Final_Site_JHU', 'Final_Site_Michigan',\n",
    "       'Final_Site_MUSC', 'Final_Site_Northwell', 'Final_Site_NYU',\n",
    "       'Final_Site_Rochester', 'Final_Site_Texas Tech', 'Final_Site_UCLA',\n",
    "       'Final_Site_UCSD', 'Final_Site_UCSF'])\n",
    "d.samplem.head()"
   ]
  },
  {
   "cell_type": "code",
   "execution_count": 9,
   "id": "2fee74a7-1e32-4b3b-8306-a6625eda49b6",
   "metadata": {},
   "outputs": [],
   "source": [
    "umap.index = d.obs.index\n",
    "d.obsm['X_umap'] = umap"
   ]
  },
  {
   "cell_type": "code",
   "execution_count": 10,
   "id": "603b12f7-4352-49d3-8734-72ca2e7619d9",
   "metadata": {},
   "outputs": [
    {
     "name": "stdout",
     "output_type": "stream",
     "text": [
      "computing default knn graph\n"
     ]
    },
    {
     "name": "stderr",
     "output_type": "stream",
     "text": [
      "/PHShome/ssg34/.conda/envs/plswork/lib/python3.9/site-packages/tqdm/auto.py:22: TqdmWarning: IProgress not found. Please update jupyter and ipywidgets. See https://ipywidgets.readthedocs.io/en/stable/user_install.html\n",
      "  from .autonotebook import tqdm as notebook_tqdm\n"
     ]
    }
   ],
   "source": [
    "np.random.seed(0) \n",
    "cna.pp.knn(d)"
   ]
  },
  {
   "cell_type": "code",
   "execution_count": 120,
   "id": "3618d72a-caaf-478f-bfc1-d5dbd0c54695",
   "metadata": {},
   "outputs": [
    {
     "name": "stdout",
     "output_type": "stream",
     "text": [
      "qcd NAM not found; computing and saving\n",
      "\ttaking step 1\n",
      "\tmedian kurtosis: 46.802528381347656\n",
      "\t20th percentile R2(t,t-1): nan\n",
      "\ttaking step 2\n",
      "\tmedian kurtosis: 31.071922302246094\n",
      "\t20th percentile R2(t,t-1): 0.775562047958374\n",
      "\ttaking step 3\n",
      "\tmedian kurtosis: 22.631181716918945\n",
      "\t20th percentile R2(t,t-1): 0.9188318848609924\n",
      "\ttaking step 4\n",
      "\tmedian kurtosis: 17.426891326904297\n",
      "\t20th percentile R2(t,t-1): 0.9540320038795471\n",
      "\ttaking step 5\n",
      "\tmedian kurtosis: 14.204331398010254\n",
      "\t20th percentile R2(t,t-1): 0.9702481627464294\n",
      "\ttaking step 6\n",
      "\tmedian kurtosis: 12.118790626525879\n",
      "\t20th percentile R2(t,t-1): 0.9805166721343994\n",
      "stopping after 6 steps\n",
      "covariate-adjusted NAM not found; computing and saving\n",
      "computing SVD\n",
      "performing association test\n"
     ]
    },
    {
     "name": "stderr",
     "output_type": "stream",
     "text": [
      "/PHShome/ssg34/.conda/envs/plswork/lib/python3.9/site-packages/cna/tools/_nam.py:79: UserWarning: only one unique batch supplied to qc\n",
      "  warnings.warn('only one unique batch supplied to qc')\n",
      "/PHShome/ssg34/.conda/envs/plswork/lib/python3.9/site-packages/cna/tools/_nam.py:101: UserWarning: only one unique batch supplied to prep\n",
      "  warnings.warn('only one unique batch supplied to prep')\n",
      "/PHShome/ssg34/.conda/envs/plswork/lib/python3.9/site-packages/cna/tools/_association.py:74: UserWarning: global association p-value attained minimal possible value. Consider increasing Nnull\n",
      "  warnings.warn('global association p-value attained minimal possible value. '+\\\n"
     ]
    },
    {
     "name": "stdout",
     "output_type": "stream",
     "text": [
      "computing neighborhood-level FDRs\n",
      "17\n",
      "[1, 2, 3, 4, 5, 6, 7, 8, 9, 10, 11, 12, 13, 14, 15, 16, 17, 18, 19, 20]\n",
      "p = 9.999000099990002e-05 , 17 PCs used\n",
      "total r^2 between top 17 NAM PCs and outcome is 0.41\n"
     ]
    }
   ],
   "source": [
    "np.random.seed(0) \n",
    "res = cna.tl._association.association(d, #dataset \n",
    "                                      d.samplem.Final_Chronicity, #phenotype\n",
    "#                                       batches=d.samplem.processing_batch, #batches\n",
    "                                      Nnull=10000, # number of null permutations to do (defaults to only 1e3)\n",
    "                                      ks=[1,2,3,4,5,6,7,8,9,10,11,12,13,14,15,16,17,18,19,20] # I asked the method to consider up to 10 PCs because\n",
    "                                                                #it chose the max number of PCs it considered the default set of [1,2,3,4]\n",
    "                                     )\n",
    "print(res.k)\n",
    "print(res.ks)\n",
    "print('p =', res.p, ',', res.k, 'PCs used')\n",
    "print('total r^2 between top {} NAM PCs and outcome is {:.2f}'.format(res.k, res.r2))"
   ]
  },
  {
   "cell_type": "code",
   "execution_count": 123,
   "id": "dc93dbd1-1a9c-4f1b-bcf0-427684de69f9",
   "metadata": {},
   "outputs": [],
   "source": [
    "np.savetxt(\"/data/srlab/ssg34/SLE_kidney_v2/data/cna_new/myeloid/chronicity/sc_ncorr.csv\", \n",
    "               res.ncorrs, delimiter=\",\")\n",
    "np.savetxt(\"/data/srlab/ssg34/SLE_kidney_v2/data/cna_new/myeloid/chronicity/sc_fdrs.csv\", \n",
    "               res.fdrs, delimiter=\",\")"
   ]
  },
  {
   "cell_type": "code",
   "execution_count": 124,
   "id": "4cab1795-1150-4c41-8763-4eb1f283d9a3",
   "metadata": {},
   "outputs": [],
   "source": [
    "sc_uni['Chronicity'] = res.p"
   ]
  },
  {
   "cell_type": "code",
   "execution_count": 152,
   "id": "0598e2b9-27ab-4c07-9245-7709a8a23b8e",
   "metadata": {},
   "outputs": [
    {
     "name": "stdout",
     "output_type": "stream",
     "text": [
      "qcd NAM not found; computing and saving\n",
      "\ttaking step 1\n",
      "\tmedian kurtosis: 46.802528381347656\n",
      "\t20th percentile R2(t,t-1): nan\n",
      "\ttaking step 2\n",
      "\tmedian kurtosis: 31.071922302246094\n",
      "\t20th percentile R2(t,t-1): 0.775562047958374\n",
      "\ttaking step 3\n",
      "\tmedian kurtosis: 22.631181716918945\n",
      "\t20th percentile R2(t,t-1): 0.9188318848609924\n",
      "\ttaking step 4\n",
      "\tmedian kurtosis: 17.426891326904297\n",
      "\t20th percentile R2(t,t-1): 0.9540320038795471\n",
      "\ttaking step 5\n",
      "\tmedian kurtosis: 14.204331398010254\n",
      "\t20th percentile R2(t,t-1): 0.9702481627464294\n",
      "\ttaking step 6\n",
      "\tmedian kurtosis: 12.118790626525879\n",
      "\t20th percentile R2(t,t-1): 0.9805166721343994\n",
      "stopping after 6 steps\n",
      "covariate-adjusted NAM not found; computing and saving\n",
      "computing SVD\n",
      "performing association test\n"
     ]
    },
    {
     "name": "stderr",
     "output_type": "stream",
     "text": [
      "/PHShome/ssg34/.conda/envs/plswork/lib/python3.9/site-packages/cna/tools/_nam.py:79: UserWarning: only one unique batch supplied to qc\n",
      "  warnings.warn('only one unique batch supplied to qc')\n",
      "/PHShome/ssg34/.conda/envs/plswork/lib/python3.9/site-packages/cna/tools/_nam.py:101: UserWarning: only one unique batch supplied to prep\n",
      "  warnings.warn('only one unique batch supplied to prep')\n",
      "/PHShome/ssg34/.conda/envs/plswork/lib/python3.9/site-packages/cna/tools/_association.py:74: UserWarning: global association p-value attained minimal possible value. Consider increasing Nnull\n",
      "  warnings.warn('global association p-value attained minimal possible value. '+\\\n"
     ]
    },
    {
     "name": "stdout",
     "output_type": "stream",
     "text": [
      "computing neighborhood-level FDRs\n",
      "17\n",
      "[1, 2, 3, 4, 5, 6, 7, 8, 9, 10, 11, 12, 13, 14, 15, 16, 17, 18, 19, 20]\n",
      "p = 9.999000099990002e-05 , 17 PCs used\n",
      "total r^2 between top 17 NAM PCs and outcome is 0.42\n"
     ]
    }
   ],
   "source": [
    "np.random.seed(0) \n",
    "res = cna.tl._association.association(d, #dataset \n",
    "                                      d.samplem.Final_Chronicity, #phenotype\n",
    "#                                       batches=d.samplem.processing_batch, #batches\n",
    "                                      covs = d.samplem[['Final_Activity']],\n",
    "                                      Nnull=10000, # number of null permutations to do (defaults to only 1e3)\n",
    "                                      ks=[1,2,3,4,5,6,7,8,9,10,11,12,13,14,15,16,17,18,19,20] # I asked the method to consider up to 10 PCs because\n",
    "                                                                #it chose the max number of PCs it considered the default set of [1,2,3,4]\n",
    "                                     )\n",
    "print(res.k)\n",
    "print(res.ks)\n",
    "print('p =', res.p, ',', res.k, 'PCs used')\n",
    "print('total r^2 between top {} NAM PCs and outcome is {:.2f}'.format(res.k, res.r2))"
   ]
  },
  {
   "cell_type": "code",
   "execution_count": 153,
   "id": "58f14db9-04e5-44b3-a58a-3d89d71ea139",
   "metadata": {},
   "outputs": [],
   "source": [
    "np.savetxt(\"/data/srlab/ssg34/SLE_kidney_v2/data/cna_new/myeloid/chronicity/sc_activity_cond_ncorr.csv\", \n",
    "               res.ncorrs, delimiter=\",\")\n",
    "np.savetxt(\"/data/srlab/ssg34/SLE_kidney_v2/data/cna_new/myeloid/chronicity/sc_activity_cond_fdrs.csv\", \n",
    "               res.fdrs, delimiter=\",\")"
   ]
  },
  {
   "cell_type": "code",
   "execution_count": 70,
   "id": "3ead9fab-4fe0-4330-b25e-337b644be940",
   "metadata": {},
   "outputs": [
    {
     "name": "stdout",
     "output_type": "stream",
     "text": [
      "covariate-adjusted NAM not found; computing and saving\n",
      "computing SVD\n",
      "performing association test\n"
     ]
    },
    {
     "name": "stderr",
     "output_type": "stream",
     "text": [
      "/PHShome/ssg34/.conda/envs/plswork/lib/python3.9/site-packages/cna/tools/_nam.py:101: UserWarning: only one unique batch supplied to prep\n",
      "  warnings.warn('only one unique batch supplied to prep')\n",
      "/PHShome/ssg34/.conda/envs/plswork/lib/python3.9/site-packages/cna/tools/_association.py:57: UserWarning: data supported use of 20 NAM PCs, which is the maximum considered. Consider allowing more PCs by using the \"ks\" argument.\n",
      "  warnings.warn(('data supported use of {} NAM PCs, which is the maximum considered. '+\\\n"
     ]
    },
    {
     "name": "stdout",
     "output_type": "stream",
     "text": [
      "computing neighborhood-level FDRs\n",
      "20\n",
      "[1, 2, 3, 4, 5, 6, 7, 8, 9, 10, 11, 12, 13, 14, 15, 16, 17, 18, 19, 20]\n",
      "p = 0.19358064193580643 , 20 PCs used\n",
      "total r^2 between top 20 NAM PCs and outcome is 0.29\n"
     ]
    }
   ],
   "source": [
    "np.random.seed(0) \n",
    "res = cna.tl._association.association(d, #dataset \n",
    "                                      d.samplem.Final_Site_Einstein, #phenotype\n",
    "#                                       batches=d.samplem.processing_batch, #batches\n",
    "                                      covs = d.samplem[['Final_Chronicity', 'Final_Activity', \n",
    "                                                        'First_biop', 'Pred_use', 'Responder_Status', 'Race_[A]',\n",
    "                                                        'Race_[A][B]', 'Race_[B]', \n",
    "                                                        'Race_[B][AI]', 'Race_[U]',\n",
    "                                                        'Race_[W]', \n",
    "                                                        'Final_ISN_[III][V]', 'Final_ISN_[IV]',\n",
    "                                                        'Final_ISN_[IV][V]', 'Final_ISN_[V]']], \n",
    "                                      Nnull=10000, # number of null permutations to do (defaults to only 1e3)\n",
    "                                      ks=[1,2,3,4,5,6,7,8,9,10,11,12,13,14,15,16,17,18,19,20] # I asked the method to consider up to 10 PCs because\n",
    "                                                                #it chose the max number of PCs it considered the default set of [1,2,3,4]\n",
    "                                     )\n",
    "print(res.k)\n",
    "print(res.ks)\n",
    "print('p =', res.p, ',', res.k, 'PCs used')\n",
    "print('total r^2 between top {} NAM PCs and outcome is {:.2f}'.format(res.k, res.r2))"
   ]
  },
  {
   "cell_type": "code",
   "execution_count": 71,
   "id": "002c3292-516c-4641-bc35-cabb1c6f1e9c",
   "metadata": {},
   "outputs": [],
   "source": [
    "sc_cond['Site'] = res.p"
   ]
  },
  {
   "cell_type": "code",
   "execution_count": 72,
   "id": "71af8841-17de-4934-9a56-5251be2d17e9",
   "metadata": {},
   "outputs": [
    {
     "name": "stdout",
     "output_type": "stream",
     "text": [
      "covariate-adjusted NAM not found; computing and saving\n",
      "computing SVD\n",
      "performing association test\n"
     ]
    },
    {
     "name": "stderr",
     "output_type": "stream",
     "text": [
      "/PHShome/ssg34/.conda/envs/plswork/lib/python3.9/site-packages/cna/tools/_nam.py:101: UserWarning: only one unique batch supplied to prep\n",
      "  warnings.warn('only one unique batch supplied to prep')\n",
      "/PHShome/ssg34/.conda/envs/plswork/lib/python3.9/site-packages/cna/tools/_association.py:57: UserWarning: data supported use of 20 NAM PCs, which is the maximum considered. Consider allowing more PCs by using the \"ks\" argument.\n",
      "  warnings.warn(('data supported use of {} NAM PCs, which is the maximum considered. '+\\\n"
     ]
    },
    {
     "name": "stdout",
     "output_type": "stream",
     "text": [
      "computing neighborhood-level FDRs\n",
      "20\n",
      "[1, 2, 3, 4, 5, 6, 7, 8, 9, 10, 11, 12, 13, 14, 15, 16, 17, 18, 19, 20]\n",
      "p = 0.015998400159984 , 20 PCs used\n",
      "total r^2 between top 20 NAM PCs and outcome is 0.30\n"
     ]
    }
   ],
   "source": [
    "np.random.seed(0) \n",
    "res = cna.tl._association.association(d, #dataset \n",
    "                                      d.samplem['Race_[A]'], #phenotype\n",
    "#                                       batches=d.samplem.processing_batch, #batches\n",
    "                                      covs = d.samplem[['Final_Activity', \n",
    "                                                        'First_biop', \n",
    "                                                        'Final_ISN_[III][V]', 'Final_ISN_[IV]',\n",
    "                                                        'Final_ISN_[IV][V]', 'Final_ISN_[V]',\n",
    "                                                        'Final_Site_Einstein', 'Final_Site_JHU', \n",
    "                                                        'Final_Site_MUSC', 'Final_Site_NYU',\n",
    "                                                        'Final_Site_Rochester', 'Final_Site_Texas Tech', \n",
    "                                                        'Final_Site_UCSD', 'Final_Site_UCSF']], \n",
    "                                      Nnull=10000, # number of null permutations to do (defaults to only 1e3)\n",
    "                                      ks=[1,2,3,4,5,6,7,8,9,10,11,12,13,14,15,16,17,18,19,20] # I asked the method to consider up to 10 PCs because\n",
    "                                                                #it chose the max number of PCs it considered the default set of [1,2,3,4]\n",
    "                                     )\n",
    "print(res.k)\n",
    "print(res.ks)\n",
    "print('p =', res.p, ',', res.k, 'PCs used')\n",
    "print('total r^2 between top {} NAM PCs and outcome is {:.2f}'.format(res.k, res.r2))"
   ]
  },
  {
   "cell_type": "code",
   "execution_count": 73,
   "id": "5e44ccd9-bc2d-4d70-a526-489be81fa4e2",
   "metadata": {},
   "outputs": [],
   "source": [
    "sc_cond['Race'] = res.p"
   ]
  },
  {
   "cell_type": "code",
   "execution_count": 74,
   "id": "1e32a4c1-b076-498d-b5a8-fe91ef8bd310",
   "metadata": {},
   "outputs": [
    {
     "name": "stdout",
     "output_type": "stream",
     "text": [
      "covariate-adjusted NAM not found; computing and saving\n",
      "computing SVD\n",
      "performing association test\n"
     ]
    },
    {
     "name": "stderr",
     "output_type": "stream",
     "text": [
      "/PHShome/ssg34/.conda/envs/plswork/lib/python3.9/site-packages/cna/tools/_nam.py:101: UserWarning: only one unique batch supplied to prep\n",
      "  warnings.warn('only one unique batch supplied to prep')\n"
     ]
    },
    {
     "name": "stdout",
     "output_type": "stream",
     "text": [
      "computing neighborhood-level FDRs\n",
      "10\n",
      "[1, 2, 3, 4, 5, 6, 7, 8, 9, 10, 11, 12, 13, 14, 15, 16, 17, 18, 19, 20]\n",
      "p = 0.08189181081891811 , 10 PCs used\n",
      "total r^2 between top 10 NAM PCs and outcome is 0.21\n"
     ]
    }
   ],
   "source": [
    "np.random.seed(0) \n",
    "res = cna.tl._association.association(d, #dataset \n",
    "                                      d.samplem.Pred_use, #phenotype\n",
    "#                                       batches=d.samplem.processing_batch, #batches\n",
    "                                      covs = d.samplem[['First_biop', 'Final_Activity', \n",
    "                                                        'Responder_Status', \n",
    "                                                        'Final_ISN_[III][V]', 'Final_ISN_[IV]',\n",
    "                                                        'Final_ISN_[IV][V]', 'Final_ISN_[V]',\n",
    "                                                        'Final_Site_Einstein', 'Final_Site_JHU', \n",
    "                                                        'Final_Site_MUSC', 'Final_Site_NYU',\n",
    "                                                        'Final_Site_Rochester', 'Final_Site_Texas Tech', \n",
    "                                                        'Final_Site_UCSD', 'Final_Site_UCSF']], \n",
    "                                      Nnull=10000, # number of null permutations to do (defaults to only 1e3)\n",
    "                                      ks=[1,2,3,4,5,6,7,8,9,10,11,12,13,14,15,16,17,18,19,20] # I asked the method to consider up to 10 PCs because\n",
    "                                                                #it chose the max number of PCs it considered the default set of [1,2,3,4]\n",
    "                                     )\n",
    "print(res.k)\n",
    "print(res.ks)\n",
    "print('p =', res.p, ',', res.k, 'PCs used')\n",
    "print('total r^2 between top {} NAM PCs and outcome is {:.2f}'.format(res.k, res.r2))"
   ]
  },
  {
   "cell_type": "code",
   "execution_count": 76,
   "id": "28ff9bad-8b1d-4d07-b2bd-f9230924fdc4",
   "metadata": {},
   "outputs": [],
   "source": [
    "sc_cond['Prednisone_use'] = res.p"
   ]
  },
  {
   "cell_type": "code",
   "execution_count": 78,
   "id": "9f6325b1-a7a0-4a86-b962-d17438821d55",
   "metadata": {},
   "outputs": [
    {
     "name": "stdout",
     "output_type": "stream",
     "text": [
      "covariate-adjusted NAM not found; computing and saving\n",
      "computing SVD\n",
      "performing association test\n"
     ]
    },
    {
     "name": "stderr",
     "output_type": "stream",
     "text": [
      "/PHShome/ssg34/.conda/envs/plswork/lib/python3.9/site-packages/cna/tools/_nam.py:101: UserWarning: only one unique batch supplied to prep\n",
      "  warnings.warn('only one unique batch supplied to prep')\n"
     ]
    },
    {
     "name": "stdout",
     "output_type": "stream",
     "text": [
      "computing neighborhood-level FDRs\n",
      "19\n",
      "[1, 2, 3, 4, 5, 6, 7, 8, 9, 10, 11, 12, 13, 14, 15, 16, 17, 18, 19, 20]\n",
      "p = 0.00039996000399960006 , 19 PCs used\n",
      "total r^2 between top 19 NAM PCs and outcome is 0.37\n"
     ]
    }
   ],
   "source": [
    "np.random.seed(0) \n",
    "res = cna.tl._association.association(d, #dataset \n",
    "                                      d.samplem['Final_ISN_[V]'], #phenotype\n",
    "#                                       batches=d.samplem.processing_batch, #batches\n",
    "                                      covs = d.samplem[['Final_Activity', \n",
    "                                                        'First_biop', 'Pred_use', \n",
    "                                                        'Race_[A]',\n",
    "                                                        'Race_[A][B]', 'Race_[B]', \n",
    "                                                        'Race_[B][AI]', 'Race_[U]',\n",
    "                                                        'Race_[W]', \n",
    "                                                        'Final_Site_Einstein', 'Final_Site_JHU', \n",
    "                                                        'Final_Site_MUSC', 'Final_Site_NYU',\n",
    "                                                        'Final_Site_Rochester', 'Final_Site_Texas Tech', \n",
    "                                                        'Final_Site_UCSD', 'Final_Site_UCSF']], \n",
    "                                      Nnull=10000, # number of null permutations to do (defaults to only 1e3)\n",
    "                                      ks=[1,2,3,4,5,6,7,8,9,10,11,12,13,14,15,16,17,18,19,20] # I asked the method to consider up to 10 PCs because\n",
    "                                                                #it chose the max number of PCs it considered the default set of [1,2,3,4]\n",
    "                                     )\n",
    "print(res.k)\n",
    "print(res.ks)\n",
    "print('p =', res.p, ',', res.k, 'PCs used')\n",
    "print('total r^2 between top {} NAM PCs and outcome is {:.2f}'.format(res.k, res.r2))"
   ]
  },
  {
   "cell_type": "code",
   "execution_count": 79,
   "id": "4f68b433-7d27-4514-840e-00bde4aa0985",
   "metadata": {},
   "outputs": [],
   "source": [
    "sc_cond['ISN'] = res.p"
   ]
  },
  {
   "cell_type": "code",
   "execution_count": null,
   "id": "5224f005-b7d5-485f-87d1-e1f5b4c14e2d",
   "metadata": {},
   "outputs": [
    {
     "name": "stdout",
     "output_type": "stream",
     "text": [
      "covariate-adjusted NAM not found; computing and saving\n",
      "computing SVD\n",
      "performing association test\n"
     ]
    },
    {
     "name": "stderr",
     "output_type": "stream",
     "text": [
      "/PHShome/ssg34/.conda/envs/plswork/lib/python3.9/site-packages/cna/tools/_nam.py:101: UserWarning: only one unique batch supplied to prep\n",
      "  warnings.warn('only one unique batch supplied to prep')\n"
     ]
    }
   ],
   "source": [
    "np.random.seed(0) \n",
    "res = cna.tl._association.association(d, #dataset \n",
    "                                      d.samplem.First_biop, #phenotype\n",
    "#                                       batches=d.samplem.processing_batch, #batches\n",
    "                                      covs = d.samplem[['Final_Chronicity', 'Responder_Status',\n",
    "                                                        'Final_ISN_[III][V]', 'Final_ISN_[IV]',\n",
    "                                                        'Final_ISN_[IV][V]', 'Final_ISN_[V]',\n",
    "                                                        'Pred_use', 'Race_[A]',\n",
    "                                                        'Race_[A][B]', 'Race_[B]', \n",
    "                                                        'Race_[B][AI]', 'Race_[U]',\n",
    "                                                        'Race_[W]', \n",
    "                                                        'Final_Site_Einstein', 'Final_Site_JHU', \n",
    "                                                        'Final_Site_MUSC', 'Final_Site_NYU',\n",
    "                                                        'Final_Site_Rochester', 'Final_Site_Texas Tech', \n",
    "                                                        'Final_Site_UCSD', 'Final_Site_UCSF']],\n",
    "                                      Nnull=10000, # number of null permutations to do (defaults to only 1e3)\n",
    "                                      ks=[1,2,3,4,5,6,7,8,9,10,11,12,13,14,15,16,17,18,19,20] # I asked the method to consider up to 10 PCs because\n",
    "                                                                #it chose the max number of PCs it considered the default set of [1,2,3,4]\n",
    "                                     )\n",
    "print(res.k)\n",
    "print(res.ks)\n",
    "print('p =', res.p, ',', res.k, 'PCs used')\n",
    "print('total r^2 between top {} NAM PCs and outcome is {:.2f}'.format(res.k, res.r2))"
   ]
  },
  {
   "cell_type": "markdown",
   "id": "0f811947-b79e-419a-943c-31eb8fecfda9",
   "metadata": {},
   "source": [
    "## Single Nuclei"
   ]
  },
  {
   "cell_type": "code",
   "execution_count": 166,
   "id": "fb8b8371-c14c-43fd-b238-0930622d60b8",
   "metadata": {},
   "outputs": [
    {
     "name": "stdout",
     "output_type": "stream",
     "text": [
      "(1310, 11)\n"
     ]
    }
   ],
   "source": [
    "meta = pd.read_csv('/data/srlab/ssg34/SLE_kidney_v2/data/cna_new/myeloid/chronicity/sn_meta.csv')\n",
    "print(meta.shape)"
   ]
  },
  {
   "cell_type": "code",
   "execution_count": 167,
   "id": "d064c884-0990-45ec-b946-1d90dc9b4f92",
   "metadata": {},
   "outputs": [
    {
     "name": "stdout",
     "output_type": "stream",
     "text": [
      "(1310, 20)\n"
     ]
    }
   ],
   "source": [
    "harmony = pd.read_csv('/data/srlab/ssg34/SLE_kidney_v2/data/cna_new/myeloid/chronicity/sn_harmony.csv')\n",
    "print(harmony.shape)"
   ]
  },
  {
   "cell_type": "code",
   "execution_count": 168,
   "id": "e006fd62-d08e-48e6-92ad-28438478bbc7",
   "metadata": {},
   "outputs": [
    {
     "name": "stdout",
     "output_type": "stream",
     "text": [
      "(1310, 2)\n"
     ]
    }
   ],
   "source": [
    "umap = pd.read_csv('/data/srlab/ssg34/SLE_kidney_v2/data/cna_new/myeloid/chronicity/sn_umap.csv')\n",
    "print(umap.shape)"
   ]
  },
  {
   "cell_type": "code",
   "execution_count": 169,
   "id": "26bca325-ee0e-407b-92b8-808035420a06",
   "metadata": {},
   "outputs": [
    {
     "name": "stdout",
     "output_type": "stream",
     "text": [
      "warning: the following columns of obs are non-numeric.\n",
      "['cell' 'Sex' 'sample' 'final_annotation' 'Responder.Status' 'Race'\n",
      " 'Final_ISN' 'Type']\n",
      "consider casting to numeric types where appropriate, and\n",
      "consider re-coding text-valued columns with pandas.get_dummies\n"
     ]
    },
    {
     "name": "stderr",
     "output_type": "stream",
     "text": [
      "/PHShome/ssg34/.conda/envs/plswork/lib/python3.9/site-packages/multianndata/core.py:17: FutureWarning: X.dtype being converted to np.float32 from float64. In the next version of anndata (0.9) conversion will not be automatic. Pass dtype explicitly to avoid this warning. Pass `AnnData(X, dtype=X.dtype, ...)` to get the future behavour.\n",
      "  super().__init__(*args, **kwargs)\n",
      "/PHShome/ssg34/.conda/envs/plswork/lib/python3.9/site-packages/anndata/_core/anndata.py:121: ImplicitModificationWarning: Transforming to str index.\n",
      "  warnings.warn(\"Transforming to str index.\", ImplicitModificationWarning)\n"
     ]
    },
    {
     "data": {
      "text/html": [
       "<div>\n",
       "<style scoped>\n",
       "    .dataframe tbody tr th:only-of-type {\n",
       "        vertical-align: middle;\n",
       "    }\n",
       "\n",
       "    .dataframe tbody tr th {\n",
       "        vertical-align: top;\n",
       "    }\n",
       "\n",
       "    .dataframe thead th {\n",
       "        text-align: right;\n",
       "    }\n",
       "</style>\n",
       "<table border=\"1\" class=\"dataframe\">\n",
       "  <thead>\n",
       "    <tr style=\"text-align: right;\">\n",
       "      <th></th>\n",
       "      <th>Final_Chronicity</th>\n",
       "    </tr>\n",
       "    <tr>\n",
       "      <th>sample</th>\n",
       "      <th></th>\n",
       "    </tr>\n",
       "  </thead>\n",
       "  <tbody>\n",
       "    <tr>\n",
       "      <th>AMPSLEkid_cells_0137</th>\n",
       "      <td>3.0</td>\n",
       "    </tr>\n",
       "    <tr>\n",
       "      <th>AMPSLEkid_cells_0138</th>\n",
       "      <td>0.0</td>\n",
       "    </tr>\n",
       "    <tr>\n",
       "      <th>AMPSLEkid_cells_0139</th>\n",
       "      <td>3.0</td>\n",
       "    </tr>\n",
       "    <tr>\n",
       "      <th>AMPSLEkid_cells_0147</th>\n",
       "      <td>9.0</td>\n",
       "    </tr>\n",
       "    <tr>\n",
       "      <th>AMPSLEkid_cells_0366</th>\n",
       "      <td>7.0</td>\n",
       "    </tr>\n",
       "  </tbody>\n",
       "</table>\n",
       "</div>"
      ],
      "text/plain": [
       "                      Final_Chronicity\n",
       "sample                                \n",
       "AMPSLEkid_cells_0137               3.0\n",
       "AMPSLEkid_cells_0138               0.0\n",
       "AMPSLEkid_cells_0139               3.0\n",
       "AMPSLEkid_cells_0147               9.0\n",
       "AMPSLEkid_cells_0366               7.0"
      ]
     },
     "execution_count": 169,
     "metadata": {},
     "output_type": "execute_result"
    }
   ],
   "source": [
    "# Start by making anndata object\n",
    "d = mad.MultiAnnData(X=harmony, obs=meta, sampleid=\"sample\")\n",
    "#d.obs_to_sample(['Type', 'Site',\n",
    "#                 'Responder_Status', 'Sex',\n",
    "#                 'Age', 'Race',\n",
    "#                'Ethnicity', 'ISN',\n",
    "#               'Activity', \"Chronicity\",\n",
    "#                 'processing_batch'])\n",
    "d.obs_to_sample(['Final_Chronicity'])\n",
    "d.samplem.head()"
   ]
  },
  {
   "cell_type": "code",
   "execution_count": 170,
   "id": "dde5903f-24a9-4542-9140-54e9cf33d380",
   "metadata": {},
   "outputs": [],
   "source": [
    "umap.index = d.obs.index\n",
    "d.obsm['X_umap'] = umap"
   ]
  },
  {
   "cell_type": "code",
   "execution_count": 171,
   "id": "3e9effd6-ab2d-4ca3-b2aa-9b703b72cdc4",
   "metadata": {},
   "outputs": [
    {
     "name": "stdout",
     "output_type": "stream",
     "text": [
      "computing default knn graph\n"
     ]
    }
   ],
   "source": [
    "np.random.seed(0) \n",
    "cna.pp.knn(d)"
   ]
  },
  {
   "cell_type": "code",
   "execution_count": 172,
   "id": "6f121119-50e5-4ca4-aff2-d1b12ce333eb",
   "metadata": {},
   "outputs": [
    {
     "name": "stdout",
     "output_type": "stream",
     "text": [
      "qcd NAM not found; computing and saving\n",
      "\ttaking step 1\n",
      "\tmedian kurtosis: 8.452367078580561\n",
      "\t20th percentile R2(t,t-1): nan\n",
      "\ttaking step 2\n",
      "\tmedian kurtosis: 6.326636363641104\n",
      "\t20th percentile R2(t,t-1): 0.755109441280365\n",
      "\ttaking step 3\n",
      "\tmedian kurtosis: 5.628824795997255\n",
      "\t20th percentile R2(t,t-1): 0.9261321544647216\n",
      "stopping after 3 steps\n",
      "covariate-adjusted NAM not found; computing and saving\n",
      "computing SVD\n",
      "performing association test\n"
     ]
    },
    {
     "name": "stderr",
     "output_type": "stream",
     "text": [
      "/PHShome/ssg34/.conda/envs/plswork/lib/python3.9/site-packages/cna/tools/_nam.py:79: UserWarning: only one unique batch supplied to qc\n",
      "  warnings.warn('only one unique batch supplied to qc')\n",
      "/PHShome/ssg34/.conda/envs/plswork/lib/python3.9/site-packages/cna/tools/_nam.py:101: UserWarning: only one unique batch supplied to prep\n",
      "  warnings.warn('only one unique batch supplied to prep')\n"
     ]
    },
    {
     "name": "stdout",
     "output_type": "stream",
     "text": [
      "computing neighborhood-level FDRs\n",
      "4\n",
      "[1, 2, 3, 4, 5, 6, 7, 8, 9, 10, 11, 12, 13, 14, 15, 16, 17, 18, 19, 20]\n",
      "p = 0.30286971302869714 , 4 PCs used\n",
      "total r^2 between top 4 NAM PCs and outcome is 0.35\n"
     ]
    }
   ],
   "source": [
    "np.random.seed(0) \n",
    "res = cna.tl._association.association(d, #dataset \n",
    "                                      d.samplem.Final_Chronicity, #phenotype\n",
    "#                                       batches=d.samplem.processing_batch, #batches\n",
    "                                      Nnull=10000, # number of null permutations to do (defaults to only 1e3)\n",
    "                                      ks=[1,2,3,4,5,6,7,8,9,10,11,12,13,14,15,16,17,18,19,20] # I asked the method to consider up to 10 PCs because\n",
    "                                                                #it chose the max number of PCs it considered the default set of [1,2,3,4]\n",
    "                                     )\n",
    "print(res.k)\n",
    "print(res.ks)\n",
    "print('p =', res.p, ',', res.k, 'PCs used')\n",
    "print('total r^2 between top {} NAM PCs and outcome is {:.2f}'.format(res.k, res.r2))"
   ]
  },
  {
   "cell_type": "code",
   "execution_count": 97,
   "id": "0ba230c2-642f-46d8-a724-f02af5140d1a",
   "metadata": {},
   "outputs": [],
   "source": [
    "np.savetxt(\"/data/srlab/ssg34/SLE_kidney_v2/data/cna_new/myeloid/chronicity/sn_ncorr.csv\", \n",
    "               res.ncorrs, delimiter=\",\")\n",
    "np.savetxt(\"/data/srlab/ssg34/SLE_kidney_v2/data/cna_new/myeloid/chronicity/sn_fdrs.csv\", \n",
    "               res.fdrs, delimiter=\",\")"
   ]
  },
  {
   "cell_type": "markdown",
   "id": "887a09dd-e222-4d3a-94dd-5fb51235b9ed",
   "metadata": {},
   "source": [
    "# Activity"
   ]
  },
  {
   "cell_type": "markdown",
   "id": "79f3bc72-f209-4e97-a472-a3b1522bb2cd",
   "metadata": {},
   "source": [
    "## Single Cell"
   ]
  },
  {
   "cell_type": "code",
   "execution_count": 125,
   "id": "b1704a08-80b0-4bbf-a16c-da364ba59ea3",
   "metadata": {},
   "outputs": [
    {
     "name": "stdout",
     "output_type": "stream",
     "text": [
      "(21479, 39)\n"
     ]
    }
   ],
   "source": [
    "meta = pd.read_csv('/data/srlab/ssg34/SLE_kidney_v2/data/cna_new/myeloid/activity/sc_meta.csv')\n",
    "print(meta.shape)"
   ]
  },
  {
   "cell_type": "code",
   "execution_count": 126,
   "id": "78f156f7-3e94-4150-ae48-de0cf264df2c",
   "metadata": {},
   "outputs": [
    {
     "name": "stdout",
     "output_type": "stream",
     "text": [
      "(21479, 20)\n"
     ]
    }
   ],
   "source": [
    "harmony = pd.read_csv('/data/srlab/ssg34/SLE_kidney_v2/data/cna_new/myeloid/activity/sc_harmony.csv')\n",
    "print(harmony.shape)"
   ]
  },
  {
   "cell_type": "code",
   "execution_count": 127,
   "id": "19050c57-cfaf-44ef-b177-be5254f34d2d",
   "metadata": {},
   "outputs": [
    {
     "name": "stdout",
     "output_type": "stream",
     "text": [
      "(21479, 2)\n"
     ]
    }
   ],
   "source": [
    "umap = pd.read_csv('/data/srlab/ssg34/SLE_kidney_v2/data/cna_new/myeloid/activity/sc_umap.csv')\n",
    "print(umap.shape)"
   ]
  },
  {
   "cell_type": "code",
   "execution_count": 128,
   "id": "8c00bb54-8723-4b27-bafe-960ad173d741",
   "metadata": {},
   "outputs": [
    {
     "name": "stdout",
     "output_type": "stream",
     "text": [
      "warning: the following columns of obs are non-numeric.\n",
      "['cell' 'sample' 'final_annotation' 'Responder.Status' 'Race' 'Final_ISN'\n",
      " 'Type' 'Final_Site']\n",
      "consider casting to numeric types where appropriate, and\n",
      "consider re-coding text-valued columns with pandas.get_dummies\n"
     ]
    },
    {
     "name": "stderr",
     "output_type": "stream",
     "text": [
      "/PHShome/ssg34/.conda/envs/plswork/lib/python3.9/site-packages/multianndata/core.py:17: FutureWarning: X.dtype being converted to np.float32 from float64. In the next version of anndata (0.9) conversion will not be automatic. Pass dtype explicitly to avoid this warning. Pass `AnnData(X, dtype=X.dtype, ...)` to get the future behavour.\n",
      "  super().__init__(*args, **kwargs)\n",
      "/PHShome/ssg34/.conda/envs/plswork/lib/python3.9/site-packages/anndata/_core/anndata.py:121: ImplicitModificationWarning: Transforming to str index.\n",
      "  warnings.warn(\"Transforming to str index.\", ImplicitModificationWarning)\n"
     ]
    },
    {
     "data": {
      "text/html": [
       "<div>\n",
       "<style scoped>\n",
       "    .dataframe tbody tr th:only-of-type {\n",
       "        vertical-align: middle;\n",
       "    }\n",
       "\n",
       "    .dataframe tbody tr th {\n",
       "        vertical-align: top;\n",
       "    }\n",
       "\n",
       "    .dataframe thead th {\n",
       "        text-align: right;\n",
       "    }\n",
       "</style>\n",
       "<table border=\"1\" class=\"dataframe\">\n",
       "  <thead>\n",
       "    <tr style=\"text-align: right;\">\n",
       "      <th></th>\n",
       "      <th>Sex</th>\n",
       "      <th>Age</th>\n",
       "      <th>Final_Chronicity</th>\n",
       "      <th>Final_Activity</th>\n",
       "      <th>First_biop</th>\n",
       "      <th>Pred_use</th>\n",
       "      <th>Responder_Status</th>\n",
       "      <th>Race_[A]</th>\n",
       "      <th>Race_[A][B]</th>\n",
       "      <th>Race_[B]</th>\n",
       "      <th>...</th>\n",
       "      <th>Final_Site_JHU</th>\n",
       "      <th>Final_Site_Michigan</th>\n",
       "      <th>Final_Site_MUSC</th>\n",
       "      <th>Final_Site_Northwell</th>\n",
       "      <th>Final_Site_NYU</th>\n",
       "      <th>Final_Site_Rochester</th>\n",
       "      <th>Final_Site_Texas Tech</th>\n",
       "      <th>Final_Site_UCLA</th>\n",
       "      <th>Final_Site_UCSD</th>\n",
       "      <th>Final_Site_UCSF</th>\n",
       "    </tr>\n",
       "    <tr>\n",
       "      <th>sample</th>\n",
       "      <th></th>\n",
       "      <th></th>\n",
       "      <th></th>\n",
       "      <th></th>\n",
       "      <th></th>\n",
       "      <th></th>\n",
       "      <th></th>\n",
       "      <th></th>\n",
       "      <th></th>\n",
       "      <th></th>\n",
       "      <th></th>\n",
       "      <th></th>\n",
       "      <th></th>\n",
       "      <th></th>\n",
       "      <th></th>\n",
       "      <th></th>\n",
       "      <th></th>\n",
       "      <th></th>\n",
       "      <th></th>\n",
       "      <th></th>\n",
       "      <th></th>\n",
       "    </tr>\n",
       "  </thead>\n",
       "  <tbody>\n",
       "    <tr>\n",
       "      <th>AMPSLEkid_cells_0134</th>\n",
       "      <td>1.0</td>\n",
       "      <td>0.888801</td>\n",
       "      <td>6.0</td>\n",
       "      <td>4.0</td>\n",
       "      <td>0.0</td>\n",
       "      <td>0.0</td>\n",
       "      <td>0.0</td>\n",
       "      <td>1.0</td>\n",
       "      <td>0.0</td>\n",
       "      <td>0.0</td>\n",
       "      <td>...</td>\n",
       "      <td>0.0</td>\n",
       "      <td>0.0</td>\n",
       "      <td>0.0</td>\n",
       "      <td>0.0</td>\n",
       "      <td>0.0</td>\n",
       "      <td>1.0</td>\n",
       "      <td>0.0</td>\n",
       "      <td>0.0</td>\n",
       "      <td>0.0</td>\n",
       "      <td>0.0</td>\n",
       "    </tr>\n",
       "    <tr>\n",
       "      <th>AMPSLEkid_cells_0137</th>\n",
       "      <td>1.0</td>\n",
       "      <td>-0.046086</td>\n",
       "      <td>3.0</td>\n",
       "      <td>5.0</td>\n",
       "      <td>0.0</td>\n",
       "      <td>1.0</td>\n",
       "      <td>2.0</td>\n",
       "      <td>0.0</td>\n",
       "      <td>0.0</td>\n",
       "      <td>1.0</td>\n",
       "      <td>...</td>\n",
       "      <td>0.0</td>\n",
       "      <td>0.0</td>\n",
       "      <td>0.0</td>\n",
       "      <td>0.0</td>\n",
       "      <td>0.0</td>\n",
       "      <td>1.0</td>\n",
       "      <td>0.0</td>\n",
       "      <td>0.0</td>\n",
       "      <td>0.0</td>\n",
       "      <td>0.0</td>\n",
       "    </tr>\n",
       "    <tr>\n",
       "      <th>AMPSLEkid_cells_0138</th>\n",
       "      <td>1.0</td>\n",
       "      <td>0.463853</td>\n",
       "      <td>0.0</td>\n",
       "      <td>0.0</td>\n",
       "      <td>1.0</td>\n",
       "      <td>1.0</td>\n",
       "      <td>2.0</td>\n",
       "      <td>0.0</td>\n",
       "      <td>0.0</td>\n",
       "      <td>0.0</td>\n",
       "      <td>...</td>\n",
       "      <td>0.0</td>\n",
       "      <td>0.0</td>\n",
       "      <td>0.0</td>\n",
       "      <td>0.0</td>\n",
       "      <td>0.0</td>\n",
       "      <td>1.0</td>\n",
       "      <td>0.0</td>\n",
       "      <td>0.0</td>\n",
       "      <td>0.0</td>\n",
       "      <td>0.0</td>\n",
       "    </tr>\n",
       "    <tr>\n",
       "      <th>AMPSLEkid_cells_0139</th>\n",
       "      <td>1.0</td>\n",
       "      <td>0.803812</td>\n",
       "      <td>3.0</td>\n",
       "      <td>2.0</td>\n",
       "      <td>0.0</td>\n",
       "      <td>1.0</td>\n",
       "      <td>2.0</td>\n",
       "      <td>0.0</td>\n",
       "      <td>0.0</td>\n",
       "      <td>1.0</td>\n",
       "      <td>...</td>\n",
       "      <td>0.0</td>\n",
       "      <td>0.0</td>\n",
       "      <td>0.0</td>\n",
       "      <td>0.0</td>\n",
       "      <td>0.0</td>\n",
       "      <td>1.0</td>\n",
       "      <td>0.0</td>\n",
       "      <td>0.0</td>\n",
       "      <td>0.0</td>\n",
       "      <td>0.0</td>\n",
       "    </tr>\n",
       "    <tr>\n",
       "      <th>AMPSLEkid_cells_0140</th>\n",
       "      <td>1.0</td>\n",
       "      <td>-0.810993</td>\n",
       "      <td>1.0</td>\n",
       "      <td>1.0</td>\n",
       "      <td>1.0</td>\n",
       "      <td>0.0</td>\n",
       "      <td>0.0</td>\n",
       "      <td>0.0</td>\n",
       "      <td>0.0</td>\n",
       "      <td>1.0</td>\n",
       "      <td>...</td>\n",
       "      <td>0.0</td>\n",
       "      <td>0.0</td>\n",
       "      <td>0.0</td>\n",
       "      <td>0.0</td>\n",
       "      <td>0.0</td>\n",
       "      <td>1.0</td>\n",
       "      <td>0.0</td>\n",
       "      <td>0.0</td>\n",
       "      <td>0.0</td>\n",
       "      <td>0.0</td>\n",
       "    </tr>\n",
       "  </tbody>\n",
       "</table>\n",
       "<p>5 rows × 31 columns</p>\n",
       "</div>"
      ],
      "text/plain": [
       "                      Sex       Age  Final_Chronicity  Final_Activity  \\\n",
       "sample                                                                  \n",
       "AMPSLEkid_cells_0134  1.0  0.888801               6.0             4.0   \n",
       "AMPSLEkid_cells_0137  1.0 -0.046086               3.0             5.0   \n",
       "AMPSLEkid_cells_0138  1.0  0.463853               0.0             0.0   \n",
       "AMPSLEkid_cells_0139  1.0  0.803812               3.0             2.0   \n",
       "AMPSLEkid_cells_0140  1.0 -0.810993               1.0             1.0   \n",
       "\n",
       "                      First_biop  Pred_use  Responder_Status  Race_[A]  \\\n",
       "sample                                                                   \n",
       "AMPSLEkid_cells_0134         0.0       0.0               0.0       1.0   \n",
       "AMPSLEkid_cells_0137         0.0       1.0               2.0       0.0   \n",
       "AMPSLEkid_cells_0138         1.0       1.0               2.0       0.0   \n",
       "AMPSLEkid_cells_0139         0.0       1.0               2.0       0.0   \n",
       "AMPSLEkid_cells_0140         1.0       0.0               0.0       0.0   \n",
       "\n",
       "                      Race_[A][B]  Race_[B]  ...  Final_Site_JHU  \\\n",
       "sample                                       ...                   \n",
       "AMPSLEkid_cells_0134          0.0       0.0  ...             0.0   \n",
       "AMPSLEkid_cells_0137          0.0       1.0  ...             0.0   \n",
       "AMPSLEkid_cells_0138          0.0       0.0  ...             0.0   \n",
       "AMPSLEkid_cells_0139          0.0       1.0  ...             0.0   \n",
       "AMPSLEkid_cells_0140          0.0       1.0  ...             0.0   \n",
       "\n",
       "                      Final_Site_Michigan  Final_Site_MUSC  \\\n",
       "sample                                                       \n",
       "AMPSLEkid_cells_0134                  0.0              0.0   \n",
       "AMPSLEkid_cells_0137                  0.0              0.0   \n",
       "AMPSLEkid_cells_0138                  0.0              0.0   \n",
       "AMPSLEkid_cells_0139                  0.0              0.0   \n",
       "AMPSLEkid_cells_0140                  0.0              0.0   \n",
       "\n",
       "                      Final_Site_Northwell  Final_Site_NYU  \\\n",
       "sample                                                       \n",
       "AMPSLEkid_cells_0134                   0.0             0.0   \n",
       "AMPSLEkid_cells_0137                   0.0             0.0   \n",
       "AMPSLEkid_cells_0138                   0.0             0.0   \n",
       "AMPSLEkid_cells_0139                   0.0             0.0   \n",
       "AMPSLEkid_cells_0140                   0.0             0.0   \n",
       "\n",
       "                      Final_Site_Rochester  Final_Site_Texas Tech  \\\n",
       "sample                                                              \n",
       "AMPSLEkid_cells_0134                   1.0                    0.0   \n",
       "AMPSLEkid_cells_0137                   1.0                    0.0   \n",
       "AMPSLEkid_cells_0138                   1.0                    0.0   \n",
       "AMPSLEkid_cells_0139                   1.0                    0.0   \n",
       "AMPSLEkid_cells_0140                   1.0                    0.0   \n",
       "\n",
       "                      Final_Site_UCLA  Final_Site_UCSD  Final_Site_UCSF  \n",
       "sample                                                                   \n",
       "AMPSLEkid_cells_0134              0.0              0.0              0.0  \n",
       "AMPSLEkid_cells_0137              0.0              0.0              0.0  \n",
       "AMPSLEkid_cells_0138              0.0              0.0              0.0  \n",
       "AMPSLEkid_cells_0139              0.0              0.0              0.0  \n",
       "AMPSLEkid_cells_0140              0.0              0.0              0.0  \n",
       "\n",
       "[5 rows x 31 columns]"
      ]
     },
     "execution_count": 128,
     "metadata": {},
     "output_type": "execute_result"
    }
   ],
   "source": [
    "# Start by making anndata object\n",
    "d = mad.MultiAnnData(X=harmony, obs=meta, sampleid=\"sample\")\n",
    "#d.obs_to_sample(['Type', 'Site',\n",
    "#                 'Responder_Status', 'Sex',\n",
    "#                 'Age', 'Race',\n",
    "#                'Ethnicity', 'ISN',\n",
    "#               'Activity', \"Chronicity\",\n",
    "#                 'processing_batch'])\n",
    "d.obs_to_sample(['Sex', 'Age', 'Final_Chronicity', 'Final_Activity', 'First_biop', 'Pred_use', 'Responder_Status', 'Race_[A]',\n",
    "       'Race_[A][B]', 'Race_[B]', 'Race_[B][AI]', 'Race_[B][W]', 'Race_[U]',\n",
    "       'Race_[W]', 'Final_ISN_[III]', 'Final_ISN_[III][V]', 'Final_ISN_[IV]',\n",
    "       'Final_ISN_[IV][V]', 'Final_ISN_[V]', 'Final_Site_Cincinnati',\n",
    "       'Final_Site_Einstein', 'Final_Site_JHU', 'Final_Site_Michigan',\n",
    "       'Final_Site_MUSC', 'Final_Site_Northwell', 'Final_Site_NYU',\n",
    "       'Final_Site_Rochester', 'Final_Site_Texas Tech', 'Final_Site_UCLA',\n",
    "       'Final_Site_UCSD', 'Final_Site_UCSF'])\n",
    "d.samplem.head()"
   ]
  },
  {
   "cell_type": "code",
   "execution_count": 129,
   "id": "307b7e38-d83d-4b82-913b-efd7549b6753",
   "metadata": {},
   "outputs": [],
   "source": [
    "umap.index = d.obs.index\n",
    "d.obsm['X_umap'] = umap"
   ]
  },
  {
   "cell_type": "code",
   "execution_count": 130,
   "id": "11aa9d95-b6a9-422b-a1b3-4a40f6c42285",
   "metadata": {},
   "outputs": [
    {
     "name": "stdout",
     "output_type": "stream",
     "text": [
      "computing default knn graph\n"
     ]
    }
   ],
   "source": [
    "np.random.seed(0) \n",
    "cna.pp.knn(d)"
   ]
  },
  {
   "cell_type": "code",
   "execution_count": 131,
   "id": "8d9188ec-b1c6-4092-b541-3dda1eccecad",
   "metadata": {},
   "outputs": [
    {
     "name": "stdout",
     "output_type": "stream",
     "text": [
      "qcd NAM not found; computing and saving\n",
      "\ttaking step 1\n",
      "\tmedian kurtosis: 46.802528381347656\n",
      "\t20th percentile R2(t,t-1): nan\n",
      "\ttaking step 2\n",
      "\tmedian kurtosis: 31.071922302246094\n",
      "\t20th percentile R2(t,t-1): 0.775562047958374\n",
      "\ttaking step 3\n",
      "\tmedian kurtosis: 22.631181716918945\n",
      "\t20th percentile R2(t,t-1): 0.9188318848609924\n",
      "\ttaking step 4\n",
      "\tmedian kurtosis: 17.426891326904297\n",
      "\t20th percentile R2(t,t-1): 0.9540320038795471\n",
      "\ttaking step 5\n",
      "\tmedian kurtosis: 14.204331398010254\n",
      "\t20th percentile R2(t,t-1): 0.9702481627464294\n",
      "\ttaking step 6\n",
      "\tmedian kurtosis: 12.118790626525879\n",
      "\t20th percentile R2(t,t-1): 0.9805166721343994\n",
      "stopping after 6 steps\n",
      "covariate-adjusted NAM not found; computing and saving\n",
      "computing SVD\n",
      "performing association test\n"
     ]
    },
    {
     "name": "stderr",
     "output_type": "stream",
     "text": [
      "/PHShome/ssg34/.conda/envs/plswork/lib/python3.9/site-packages/cna/tools/_nam.py:79: UserWarning: only one unique batch supplied to qc\n",
      "  warnings.warn('only one unique batch supplied to qc')\n",
      "/PHShome/ssg34/.conda/envs/plswork/lib/python3.9/site-packages/cna/tools/_nam.py:101: UserWarning: only one unique batch supplied to prep\n",
      "  warnings.warn('only one unique batch supplied to prep')\n",
      "/PHShome/ssg34/.conda/envs/plswork/lib/python3.9/site-packages/cna/tools/_association.py:74: UserWarning: global association p-value attained minimal possible value. Consider increasing Nnull\n",
      "  warnings.warn('global association p-value attained minimal possible value. '+\\\n"
     ]
    },
    {
     "name": "stdout",
     "output_type": "stream",
     "text": [
      "computing neighborhood-level FDRs\n",
      "3\n",
      "[1, 2, 3, 4, 5, 6, 7, 8, 9, 10, 11, 12, 13, 14, 15, 16, 17, 18, 19, 20]\n",
      "p = 9.999000099990002e-05 , 3 PCs used\n",
      "total r^2 between top 3 NAM PCs and outcome is 0.35\n"
     ]
    }
   ],
   "source": [
    "np.random.seed(0) \n",
    "res = cna.tl._association.association(d, #dataset \n",
    "                                      d.samplem.Final_Activity, #phenotype\n",
    "#                                       batches=d.samplem.processing_batch, #batches\n",
    "                                      Nnull=10000, # number of null permutations to do (defaults to only 1e3)\n",
    "                                      ks=[1,2,3,4,5,6,7,8,9,10,11,12,13,14,15,16,17,18,19,20] # I asked the method to consider up to 10 PCs because\n",
    "                                                                #it chose the max number of PCs it considered the default set of [1,2,3,4]\n",
    "                                     )\n",
    "print(res.k)\n",
    "print(res.ks)\n",
    "print('p =', res.p, ',', res.k, 'PCs used')\n",
    "print('total r^2 between top {} NAM PCs and outcome is {:.2f}'.format(res.k, res.r2))"
   ]
  },
  {
   "cell_type": "code",
   "execution_count": 132,
   "id": "0896de94-af52-42f9-a545-ac9e499b7592",
   "metadata": {},
   "outputs": [],
   "source": [
    "np.savetxt(\"/data/srlab/ssg34/SLE_kidney_v2/data/cna_new/myeloid/activity/sc_ncorr.csv\", \n",
    "               res.ncorrs, delimiter=\",\")\n",
    "np.savetxt(\"/data/srlab/ssg34/SLE_kidney_v2/data/cna_new/myeloid/activity/sc_fdrs.csv\", \n",
    "               res.fdrs, delimiter=\",\")"
   ]
  },
  {
   "cell_type": "code",
   "execution_count": 133,
   "id": "17db2556-b1a9-4ed1-83ff-c5e9f2b4cfef",
   "metadata": {},
   "outputs": [],
   "source": [
    "sc_uni['Activity'] = res.p"
   ]
  },
  {
   "cell_type": "code",
   "execution_count": 164,
   "id": "cb2283d5-53eb-48d7-9177-8f29051e7010",
   "metadata": {},
   "outputs": [
    {
     "name": "stdout",
     "output_type": "stream",
     "text": [
      "covariate-adjusted NAM not found; computing and saving\n",
      "computing SVD\n",
      "performing association test\n"
     ]
    },
    {
     "name": "stderr",
     "output_type": "stream",
     "text": [
      "/PHShome/ssg34/.conda/envs/plswork/lib/python3.9/site-packages/cna/tools/_nam.py:101: UserWarning: only one unique batch supplied to prep\n",
      "  warnings.warn('only one unique batch supplied to prep')\n",
      "/PHShome/ssg34/.conda/envs/plswork/lib/python3.9/site-packages/cna/tools/_association.py:74: UserWarning: global association p-value attained minimal possible value. Consider increasing Nnull\n",
      "  warnings.warn('global association p-value attained minimal possible value. '+\\\n"
     ]
    },
    {
     "name": "stdout",
     "output_type": "stream",
     "text": [
      "computing neighborhood-level FDRs\n",
      "11\n",
      "[1, 2, 3, 4, 5, 6, 7, 8, 9, 10, 11, 12, 13, 14, 15, 16, 17, 18, 19, 20]\n",
      "p = 9.999000099990002e-05 , 11 PCs used\n",
      "total r^2 between top 11 NAM PCs and outcome is 0.45\n"
     ]
    }
   ],
   "source": [
    "np.random.seed(0) \n",
    "res = cna.tl._association.association(d, #dataset \n",
    "                                      d.samplem.Final_Activity, #phenotype\n",
    "#                                       batches=d.samplem.processing_batch, #batches\n",
    "                                      covs = d.samplem[['Final_Chronicity']],\n",
    "                                      Nnull=10000, # number of null permutations to do (defaults to only 1e3)\n",
    "                                      ks=[1,2,3,4,5,6,7,8,9,10,11,12,13,14,15,16,17,18,19,20] # I asked the method to consider up to 10 PCs because\n",
    "                                                                #it chose the max number of PCs it considered the default set of [1,2,3,4]\n",
    "                                     )\n",
    "print(res.k)\n",
    "print(res.ks)\n",
    "print('p =', res.p, ',', res.k, 'PCs used')\n",
    "print('total r^2 between top {} NAM PCs and outcome is {:.2f}'.format(res.k, res.r2))"
   ]
  },
  {
   "cell_type": "code",
   "execution_count": 165,
   "id": "d0805b6a-f684-4b65-b8a2-dd16da7cc385",
   "metadata": {},
   "outputs": [],
   "source": [
    "np.savetxt(\"/data/srlab/ssg34/SLE_kidney_v2/data/cna_new/myeloid/activity/sc_chrnoicity_cond_ncorr.csv\", \n",
    "               res.ncorrs, delimiter=\",\")\n",
    "np.savetxt(\"/data/srlab/ssg34/SLE_kidney_v2/data/cna_new/myeloid/activity/sc_chronicity_cond_fdrs.csv\", \n",
    "               res.fdrs, delimiter=\",\")"
   ]
  },
  {
   "cell_type": "markdown",
   "id": "0409cf2e-140a-416f-b999-52e7376a382b",
   "metadata": {},
   "source": [
    "## Single Nuclei"
   ]
  },
  {
   "cell_type": "code",
   "execution_count": 106,
   "id": "cec90d9c-3447-45a9-b824-5dafb03d6dbd",
   "metadata": {},
   "outputs": [
    {
     "name": "stdout",
     "output_type": "stream",
     "text": [
      "(1590, 11)\n"
     ]
    }
   ],
   "source": [
    "meta = pd.read_csv('/data/srlab/ssg34/SLE_kidney_v2/data/cna_new/myeloid/activity/sn_meta.csv')\n",
    "print(meta.shape)"
   ]
  },
  {
   "cell_type": "code",
   "execution_count": 107,
   "id": "30cdc974-14e8-4ffa-99b6-2ec6117182e8",
   "metadata": {},
   "outputs": [
    {
     "name": "stdout",
     "output_type": "stream",
     "text": [
      "(1590, 20)\n"
     ]
    }
   ],
   "source": [
    "harmony = pd.read_csv('/data/srlab/ssg34/SLE_kidney_v2/data/cna_new/myeloid/activity/sn_harmony.csv')\n",
    "print(harmony.shape)"
   ]
  },
  {
   "cell_type": "code",
   "execution_count": 108,
   "id": "1ac7d8b4-fbb6-4f3b-abde-499ba5a52df5",
   "metadata": {},
   "outputs": [
    {
     "name": "stdout",
     "output_type": "stream",
     "text": [
      "(1590, 2)\n"
     ]
    }
   ],
   "source": [
    "umap = pd.read_csv('/data/srlab/ssg34/SLE_kidney_v2/data/cna_new/myeloid/activity/sn_umap.csv')\n",
    "print(umap.shape)"
   ]
  },
  {
   "cell_type": "code",
   "execution_count": 109,
   "id": "75221b35-ad71-4a81-8d5f-3c4ccfd4596f",
   "metadata": {},
   "outputs": [
    {
     "name": "stdout",
     "output_type": "stream",
     "text": [
      "warning: the following columns of obs are non-numeric.\n",
      "['cell' 'Sex' 'sample' 'final_annotation' 'Responder.Status' 'Race'\n",
      " 'Final_ISN' 'Type']\n",
      "consider casting to numeric types where appropriate, and\n",
      "consider re-coding text-valued columns with pandas.get_dummies\n"
     ]
    },
    {
     "name": "stderr",
     "output_type": "stream",
     "text": [
      "/PHShome/ssg34/.conda/envs/plswork/lib/python3.9/site-packages/multianndata/core.py:17: FutureWarning: X.dtype being converted to np.float32 from float64. In the next version of anndata (0.9) conversion will not be automatic. Pass dtype explicitly to avoid this warning. Pass `AnnData(X, dtype=X.dtype, ...)` to get the future behavour.\n",
      "  super().__init__(*args, **kwargs)\n",
      "/PHShome/ssg34/.conda/envs/plswork/lib/python3.9/site-packages/anndata/_core/anndata.py:121: ImplicitModificationWarning: Transforming to str index.\n",
      "  warnings.warn(\"Transforming to str index.\", ImplicitModificationWarning)\n"
     ]
    },
    {
     "data": {
      "text/html": [
       "<div>\n",
       "<style scoped>\n",
       "    .dataframe tbody tr th:only-of-type {\n",
       "        vertical-align: middle;\n",
       "    }\n",
       "\n",
       "    .dataframe tbody tr th {\n",
       "        vertical-align: top;\n",
       "    }\n",
       "\n",
       "    .dataframe thead th {\n",
       "        text-align: right;\n",
       "    }\n",
       "</style>\n",
       "<table border=\"1\" class=\"dataframe\">\n",
       "  <thead>\n",
       "    <tr style=\"text-align: right;\">\n",
       "      <th></th>\n",
       "      <th>Final_Activity</th>\n",
       "    </tr>\n",
       "    <tr>\n",
       "      <th>sample</th>\n",
       "      <th></th>\n",
       "    </tr>\n",
       "  </thead>\n",
       "  <tbody>\n",
       "    <tr>\n",
       "      <th>AMPSLEkid_cells_0137</th>\n",
       "      <td>5.000000</td>\n",
       "    </tr>\n",
       "    <tr>\n",
       "      <th>AMPSLEkid_cells_0138</th>\n",
       "      <td>0.000000</td>\n",
       "    </tr>\n",
       "    <tr>\n",
       "      <th>AMPSLEkid_cells_0139</th>\n",
       "      <td>2.000000</td>\n",
       "    </tr>\n",
       "    <tr>\n",
       "      <th>AMPSLEkid_cells_0147</th>\n",
       "      <td>1.000000</td>\n",
       "    </tr>\n",
       "    <tr>\n",
       "      <th>AMPSLEkid_cells_0366</th>\n",
       "      <td>6.333333</td>\n",
       "    </tr>\n",
       "  </tbody>\n",
       "</table>\n",
       "</div>"
      ],
      "text/plain": [
       "                      Final_Activity\n",
       "sample                              \n",
       "AMPSLEkid_cells_0137        5.000000\n",
       "AMPSLEkid_cells_0138        0.000000\n",
       "AMPSLEkid_cells_0139        2.000000\n",
       "AMPSLEkid_cells_0147        1.000000\n",
       "AMPSLEkid_cells_0366        6.333333"
      ]
     },
     "execution_count": 109,
     "metadata": {},
     "output_type": "execute_result"
    }
   ],
   "source": [
    "# Start by making anndata object\n",
    "d = mad.MultiAnnData(X=harmony, obs=meta, sampleid=\"sample\")\n",
    "#d.obs_to_sample(['Type', 'Site',\n",
    "#                 'Responder_Status', 'Sex',\n",
    "#                 'Age', 'Race',\n",
    "#                'Ethnicity', 'ISN',\n",
    "#               'Activity', \"Chronicity\",\n",
    "#                 'processing_batch'])\n",
    "d.obs_to_sample(['Final_Activity'])\n",
    "d.samplem.head()"
   ]
  },
  {
   "cell_type": "code",
   "execution_count": 110,
   "id": "9f4b5294-7bc5-4817-92e6-600e705adbc4",
   "metadata": {},
   "outputs": [],
   "source": [
    "umap.index = d.obs.index\n",
    "d.obsm['X_umap'] = umap"
   ]
  },
  {
   "cell_type": "code",
   "execution_count": 111,
   "id": "9003382d-0165-4832-8bae-a5c2177f3539",
   "metadata": {},
   "outputs": [
    {
     "name": "stdout",
     "output_type": "stream",
     "text": [
      "computing default knn graph\n"
     ]
    }
   ],
   "source": [
    "np.random.seed(0) \n",
    "cna.pp.knn(d)"
   ]
  },
  {
   "cell_type": "code",
   "execution_count": 112,
   "id": "8c8817ab-dede-4d6c-bfa5-9447f2acb91e",
   "metadata": {},
   "outputs": [
    {
     "name": "stdout",
     "output_type": "stream",
     "text": [
      "qcd NAM not found; computing and saving\n",
      "\ttaking step 1\n",
      "\tmedian kurtosis: 9.495479074247964\n",
      "\t20th percentile R2(t,t-1): nan\n",
      "\ttaking step 2\n",
      "\tmedian kurtosis: 7.22098166948354\n",
      "\t20th percentile R2(t,t-1): 0.7603078842163086\n",
      "\ttaking step 3\n",
      "\tmedian kurtosis: 6.4655592353747995\n",
      "\t20th percentile R2(t,t-1): 0.9297066450119018\n",
      "stopping after 3 steps\n",
      "covariate-adjusted NAM not found; computing and saving\n",
      "computing SVD\n",
      "performing association test\n"
     ]
    },
    {
     "name": "stderr",
     "output_type": "stream",
     "text": [
      "/PHShome/ssg34/.conda/envs/plswork/lib/python3.9/site-packages/cna/tools/_nam.py:79: UserWarning: only one unique batch supplied to qc\n",
      "  warnings.warn('only one unique batch supplied to qc')\n",
      "/PHShome/ssg34/.conda/envs/plswork/lib/python3.9/site-packages/cna/tools/_nam.py:101: UserWarning: only one unique batch supplied to prep\n",
      "  warnings.warn('only one unique batch supplied to prep')\n"
     ]
    },
    {
     "name": "stdout",
     "output_type": "stream",
     "text": [
      "computing neighborhood-level FDRs\n",
      "2\n",
      "[1, 2, 3, 4, 5, 6, 7, 8, 9, 10, 11, 12, 13, 14, 15, 16, 17, 18, 19, 20]\n",
      "p = 0.42925707429257076 , 2 PCs used\n",
      "total r^2 between top 2 NAM PCs and outcome is 0.23\n"
     ]
    }
   ],
   "source": [
    "np.random.seed(0) \n",
    "res = cna.tl._association.association(d, #dataset \n",
    "                                      d.samplem.Final_Activity, #phenotype\n",
    "#                                       batches=d.samplem.processing_batch, #batches\n",
    "                                      Nnull=10000, # number of null permutations to do (defaults to only 1e3)\n",
    "                                      ks=[1,2,3,4,5,6,7,8,9,10,11,12,13,14,15,16,17,18,19,20] # I asked the method to consider up to 10 PCs because\n",
    "                                                                #it chose the max number of PCs it considered the default set of [1,2,3,4]\n",
    "                                     )\n",
    "print(res.k)\n",
    "print(res.ks)\n",
    "print('p =', res.p, ',', res.k, 'PCs used')\n",
    "print('total r^2 between top {} NAM PCs and outcome is {:.2f}'.format(res.k, res.r2))"
   ]
  },
  {
   "cell_type": "code",
   "execution_count": 113,
   "id": "d17b6378-3bda-4218-be2a-d8e2b5aa39d9",
   "metadata": {},
   "outputs": [],
   "source": [
    "np.savetxt(\"/data/srlab/ssg34/SLE_kidney_v2/data/cna_new/myeloid/activity/sn_ncorr.csv\", \n",
    "               res.ncorrs, delimiter=\",\")\n",
    "np.savetxt(\"/data/srlab/ssg34/SLE_kidney_v2/data/cna_new/myeloid/activity/sn_fdrs.csv\", \n",
    "               res.fdrs, delimiter=\",\")"
   ]
  },
  {
   "cell_type": "markdown",
   "id": "1bcb7918-963a-4fe9-a4db-5c6ab284e6e7",
   "metadata": {},
   "source": [
    "# ISN"
   ]
  },
  {
   "cell_type": "markdown",
   "id": "cced28ef-3406-44f3-85e2-345fef8efa70",
   "metadata": {},
   "source": [
    "## Single Cell"
   ]
  },
  {
   "cell_type": "code",
   "execution_count": 134,
   "id": "6b8f61c5-d0e5-4638-bc48-03b418eaac05",
   "metadata": {},
   "outputs": [
    {
     "name": "stdout",
     "output_type": "stream",
     "text": [
      "(23491, 39)\n"
     ]
    }
   ],
   "source": [
    "meta = pd.read_csv('/data/srlab/ssg34/SLE_kidney_v2/data/cna_new/myeloid/ISN/sc_meta.csv')\n",
    "print(meta.shape)"
   ]
  },
  {
   "cell_type": "code",
   "execution_count": 135,
   "id": "58d8c3ff-f9bd-4bc7-9679-2a33e9a14d89",
   "metadata": {},
   "outputs": [
    {
     "name": "stdout",
     "output_type": "stream",
     "text": [
      "(23491, 20)\n"
     ]
    }
   ],
   "source": [
    "harmony = pd.read_csv('/data/srlab/ssg34/SLE_kidney_v2/data/cna_new/myeloid/ISN/sc_harmony.csv')\n",
    "print(harmony.shape)"
   ]
  },
  {
   "cell_type": "code",
   "execution_count": 136,
   "id": "e4ba456d-a879-436c-879e-dc7ff207edd8",
   "metadata": {},
   "outputs": [
    {
     "name": "stdout",
     "output_type": "stream",
     "text": [
      "(23491, 2)\n"
     ]
    }
   ],
   "source": [
    "umap = pd.read_csv('/data/srlab/ssg34/SLE_kidney_v2/data/cna_new/myeloid/ISN/sc_umap.csv')\n",
    "print(umap.shape)"
   ]
  },
  {
   "cell_type": "code",
   "execution_count": 137,
   "id": "b8175ecc-27d5-4b11-ae6b-73d7be67471b",
   "metadata": {},
   "outputs": [
    {
     "name": "stdout",
     "output_type": "stream",
     "text": [
      "warning: the following columns of obs are non-numeric.\n",
      "['cell' 'sample' 'final_annotation' 'Responder.Status' 'Race' 'Final_ISN'\n",
      " 'Type' 'Final_Site']\n",
      "consider casting to numeric types where appropriate, and\n",
      "consider re-coding text-valued columns with pandas.get_dummies\n"
     ]
    },
    {
     "name": "stderr",
     "output_type": "stream",
     "text": [
      "/PHShome/ssg34/.conda/envs/plswork/lib/python3.9/site-packages/multianndata/core.py:17: FutureWarning: X.dtype being converted to np.float32 from float64. In the next version of anndata (0.9) conversion will not be automatic. Pass dtype explicitly to avoid this warning. Pass `AnnData(X, dtype=X.dtype, ...)` to get the future behavour.\n",
      "  super().__init__(*args, **kwargs)\n",
      "/PHShome/ssg34/.conda/envs/plswork/lib/python3.9/site-packages/anndata/_core/anndata.py:121: ImplicitModificationWarning: Transforming to str index.\n",
      "  warnings.warn(\"Transforming to str index.\", ImplicitModificationWarning)\n"
     ]
    },
    {
     "data": {
      "text/html": [
       "<div>\n",
       "<style scoped>\n",
       "    .dataframe tbody tr th:only-of-type {\n",
       "        vertical-align: middle;\n",
       "    }\n",
       "\n",
       "    .dataframe tbody tr th {\n",
       "        vertical-align: top;\n",
       "    }\n",
       "\n",
       "    .dataframe thead th {\n",
       "        text-align: right;\n",
       "    }\n",
       "</style>\n",
       "<table border=\"1\" class=\"dataframe\">\n",
       "  <thead>\n",
       "    <tr style=\"text-align: right;\">\n",
       "      <th></th>\n",
       "      <th>Sex</th>\n",
       "      <th>Age</th>\n",
       "      <th>Final_Chronicity</th>\n",
       "      <th>Final_Activity</th>\n",
       "      <th>First_biop</th>\n",
       "      <th>Pred_use</th>\n",
       "      <th>Responder_Status</th>\n",
       "      <th>Race_[A]</th>\n",
       "      <th>Race_[A][B]</th>\n",
       "      <th>Race_[B]</th>\n",
       "      <th>...</th>\n",
       "      <th>Final_Site_JHU</th>\n",
       "      <th>Final_Site_Michigan</th>\n",
       "      <th>Final_Site_MUSC</th>\n",
       "      <th>Final_Site_Northwell</th>\n",
       "      <th>Final_Site_NYU</th>\n",
       "      <th>Final_Site_Rochester</th>\n",
       "      <th>Final_Site_Texas Tech</th>\n",
       "      <th>Final_Site_UCLA</th>\n",
       "      <th>Final_Site_UCSD</th>\n",
       "      <th>Final_Site_UCSF</th>\n",
       "    </tr>\n",
       "    <tr>\n",
       "      <th>sample</th>\n",
       "      <th></th>\n",
       "      <th></th>\n",
       "      <th></th>\n",
       "      <th></th>\n",
       "      <th></th>\n",
       "      <th></th>\n",
       "      <th></th>\n",
       "      <th></th>\n",
       "      <th></th>\n",
       "      <th></th>\n",
       "      <th></th>\n",
       "      <th></th>\n",
       "      <th></th>\n",
       "      <th></th>\n",
       "      <th></th>\n",
       "      <th></th>\n",
       "      <th></th>\n",
       "      <th></th>\n",
       "      <th></th>\n",
       "      <th></th>\n",
       "      <th></th>\n",
       "    </tr>\n",
       "  </thead>\n",
       "  <tbody>\n",
       "    <tr>\n",
       "      <th>AMPSLEkid_cells_0134</th>\n",
       "      <td>1.0</td>\n",
       "      <td>0.935974</td>\n",
       "      <td>6.0</td>\n",
       "      <td>4.0</td>\n",
       "      <td>0.0</td>\n",
       "      <td>0.0</td>\n",
       "      <td>0.0</td>\n",
       "      <td>1.0</td>\n",
       "      <td>0.0</td>\n",
       "      <td>0.0</td>\n",
       "      <td>...</td>\n",
       "      <td>0.0</td>\n",
       "      <td>0.0</td>\n",
       "      <td>0.0</td>\n",
       "      <td>0.0</td>\n",
       "      <td>0.0</td>\n",
       "      <td>1.0</td>\n",
       "      <td>0.0</td>\n",
       "      <td>0.0</td>\n",
       "      <td>0.0</td>\n",
       "      <td>0.0</td>\n",
       "    </tr>\n",
       "    <tr>\n",
       "      <th>AMPSLEkid_cells_0137</th>\n",
       "      <td>1.0</td>\n",
       "      <td>-0.010301</td>\n",
       "      <td>3.0</td>\n",
       "      <td>5.0</td>\n",
       "      <td>0.0</td>\n",
       "      <td>1.0</td>\n",
       "      <td>2.0</td>\n",
       "      <td>0.0</td>\n",
       "      <td>0.0</td>\n",
       "      <td>1.0</td>\n",
       "      <td>...</td>\n",
       "      <td>0.0</td>\n",
       "      <td>0.0</td>\n",
       "      <td>0.0</td>\n",
       "      <td>0.0</td>\n",
       "      <td>0.0</td>\n",
       "      <td>1.0</td>\n",
       "      <td>0.0</td>\n",
       "      <td>0.0</td>\n",
       "      <td>0.0</td>\n",
       "      <td>0.0</td>\n",
       "    </tr>\n",
       "    <tr>\n",
       "      <th>AMPSLEkid_cells_0138</th>\n",
       "      <td>1.0</td>\n",
       "      <td>0.505849</td>\n",
       "      <td>0.0</td>\n",
       "      <td>0.0</td>\n",
       "      <td>1.0</td>\n",
       "      <td>1.0</td>\n",
       "      <td>2.0</td>\n",
       "      <td>0.0</td>\n",
       "      <td>0.0</td>\n",
       "      <td>0.0</td>\n",
       "      <td>...</td>\n",
       "      <td>0.0</td>\n",
       "      <td>0.0</td>\n",
       "      <td>0.0</td>\n",
       "      <td>0.0</td>\n",
       "      <td>0.0</td>\n",
       "      <td>1.0</td>\n",
       "      <td>0.0</td>\n",
       "      <td>0.0</td>\n",
       "      <td>0.0</td>\n",
       "      <td>0.0</td>\n",
       "    </tr>\n",
       "    <tr>\n",
       "      <th>AMPSLEkid_cells_0139</th>\n",
       "      <td>1.0</td>\n",
       "      <td>0.849949</td>\n",
       "      <td>3.0</td>\n",
       "      <td>2.0</td>\n",
       "      <td>0.0</td>\n",
       "      <td>1.0</td>\n",
       "      <td>2.0</td>\n",
       "      <td>0.0</td>\n",
       "      <td>0.0</td>\n",
       "      <td>1.0</td>\n",
       "      <td>...</td>\n",
       "      <td>0.0</td>\n",
       "      <td>0.0</td>\n",
       "      <td>0.0</td>\n",
       "      <td>0.0</td>\n",
       "      <td>0.0</td>\n",
       "      <td>1.0</td>\n",
       "      <td>0.0</td>\n",
       "      <td>0.0</td>\n",
       "      <td>0.0</td>\n",
       "      <td>0.0</td>\n",
       "    </tr>\n",
       "    <tr>\n",
       "      <th>AMPSLEkid_cells_0140</th>\n",
       "      <td>1.0</td>\n",
       "      <td>-0.784527</td>\n",
       "      <td>1.0</td>\n",
       "      <td>1.0</td>\n",
       "      <td>1.0</td>\n",
       "      <td>0.0</td>\n",
       "      <td>0.0</td>\n",
       "      <td>0.0</td>\n",
       "      <td>0.0</td>\n",
       "      <td>1.0</td>\n",
       "      <td>...</td>\n",
       "      <td>0.0</td>\n",
       "      <td>0.0</td>\n",
       "      <td>0.0</td>\n",
       "      <td>0.0</td>\n",
       "      <td>0.0</td>\n",
       "      <td>1.0</td>\n",
       "      <td>0.0</td>\n",
       "      <td>0.0</td>\n",
       "      <td>0.0</td>\n",
       "      <td>0.0</td>\n",
       "    </tr>\n",
       "  </tbody>\n",
       "</table>\n",
       "<p>5 rows × 31 columns</p>\n",
       "</div>"
      ],
      "text/plain": [
       "                      Sex       Age  Final_Chronicity  Final_Activity  \\\n",
       "sample                                                                  \n",
       "AMPSLEkid_cells_0134  1.0  0.935974               6.0             4.0   \n",
       "AMPSLEkid_cells_0137  1.0 -0.010301               3.0             5.0   \n",
       "AMPSLEkid_cells_0138  1.0  0.505849               0.0             0.0   \n",
       "AMPSLEkid_cells_0139  1.0  0.849949               3.0             2.0   \n",
       "AMPSLEkid_cells_0140  1.0 -0.784527               1.0             1.0   \n",
       "\n",
       "                      First_biop  Pred_use  Responder_Status  Race_[A]  \\\n",
       "sample                                                                   \n",
       "AMPSLEkid_cells_0134         0.0       0.0               0.0       1.0   \n",
       "AMPSLEkid_cells_0137         0.0       1.0               2.0       0.0   \n",
       "AMPSLEkid_cells_0138         1.0       1.0               2.0       0.0   \n",
       "AMPSLEkid_cells_0139         0.0       1.0               2.0       0.0   \n",
       "AMPSLEkid_cells_0140         1.0       0.0               0.0       0.0   \n",
       "\n",
       "                      Race_[A][B]  Race_[B]  ...  Final_Site_JHU  \\\n",
       "sample                                       ...                   \n",
       "AMPSLEkid_cells_0134          0.0       0.0  ...             0.0   \n",
       "AMPSLEkid_cells_0137          0.0       1.0  ...             0.0   \n",
       "AMPSLEkid_cells_0138          0.0       0.0  ...             0.0   \n",
       "AMPSLEkid_cells_0139          0.0       1.0  ...             0.0   \n",
       "AMPSLEkid_cells_0140          0.0       1.0  ...             0.0   \n",
       "\n",
       "                      Final_Site_Michigan  Final_Site_MUSC  \\\n",
       "sample                                                       \n",
       "AMPSLEkid_cells_0134                  0.0              0.0   \n",
       "AMPSLEkid_cells_0137                  0.0              0.0   \n",
       "AMPSLEkid_cells_0138                  0.0              0.0   \n",
       "AMPSLEkid_cells_0139                  0.0              0.0   \n",
       "AMPSLEkid_cells_0140                  0.0              0.0   \n",
       "\n",
       "                      Final_Site_Northwell  Final_Site_NYU  \\\n",
       "sample                                                       \n",
       "AMPSLEkid_cells_0134                   0.0             0.0   \n",
       "AMPSLEkid_cells_0137                   0.0             0.0   \n",
       "AMPSLEkid_cells_0138                   0.0             0.0   \n",
       "AMPSLEkid_cells_0139                   0.0             0.0   \n",
       "AMPSLEkid_cells_0140                   0.0             0.0   \n",
       "\n",
       "                      Final_Site_Rochester  Final_Site_Texas Tech  \\\n",
       "sample                                                              \n",
       "AMPSLEkid_cells_0134                   1.0                    0.0   \n",
       "AMPSLEkid_cells_0137                   1.0                    0.0   \n",
       "AMPSLEkid_cells_0138                   1.0                    0.0   \n",
       "AMPSLEkid_cells_0139                   1.0                    0.0   \n",
       "AMPSLEkid_cells_0140                   1.0                    0.0   \n",
       "\n",
       "                      Final_Site_UCLA  Final_Site_UCSD  Final_Site_UCSF  \n",
       "sample                                                                   \n",
       "AMPSLEkid_cells_0134              0.0              0.0              0.0  \n",
       "AMPSLEkid_cells_0137              0.0              0.0              0.0  \n",
       "AMPSLEkid_cells_0138              0.0              0.0              0.0  \n",
       "AMPSLEkid_cells_0139              0.0              0.0              0.0  \n",
       "AMPSLEkid_cells_0140              0.0              0.0              0.0  \n",
       "\n",
       "[5 rows x 31 columns]"
      ]
     },
     "execution_count": 137,
     "metadata": {},
     "output_type": "execute_result"
    }
   ],
   "source": [
    "# Start by making anndata object\n",
    "d = mad.MultiAnnData(X=harmony, obs=meta, sampleid=\"sample\")\n",
    "#d.obs_to_sample(['Type', 'Site',\n",
    "#                 'Responder_Status', 'Sex',\n",
    "#                 'Age', 'Race',\n",
    "#                'Ethnicity', 'ISN',\n",
    "#               'Activity', \"Chronicity\",\n",
    "#                 'processing_batch'])\n",
    "d.obs_to_sample(['Sex', 'Age', 'Final_Chronicity', 'Final_Activity', 'First_biop', 'Pred_use', 'Responder_Status', 'Race_[A]',\n",
    "       'Race_[A][B]', 'Race_[B]', 'Race_[B][AI]', 'Race_[B][W]', 'Race_[U]',\n",
    "       'Race_[W]', 'Final_ISN_[III]', 'Final_ISN_[III][V]', 'Final_ISN_[IV]',\n",
    "       'Final_ISN_[IV][V]', 'Final_ISN_[V]', 'Final_Site_Cincinnati',\n",
    "       'Final_Site_Einstein', 'Final_Site_JHU', 'Final_Site_Michigan',\n",
    "       'Final_Site_MUSC', 'Final_Site_Northwell', 'Final_Site_NYU',\n",
    "       'Final_Site_Rochester', 'Final_Site_Texas Tech', 'Final_Site_UCLA',\n",
    "       'Final_Site_UCSD', 'Final_Site_UCSF'])\n",
    "d.samplem.head()"
   ]
  },
  {
   "cell_type": "code",
   "execution_count": 138,
   "id": "171e0683-e18c-48b3-a53a-35ed80bd8890",
   "metadata": {},
   "outputs": [],
   "source": [
    "umap.index = d.obs.index\n",
    "d.obsm['X_umap'] = umap"
   ]
  },
  {
   "cell_type": "code",
   "execution_count": 139,
   "id": "bb99a769-51fe-4d9f-907b-30446820efe4",
   "metadata": {},
   "outputs": [
    {
     "name": "stdout",
     "output_type": "stream",
     "text": [
      "computing default knn graph\n"
     ]
    }
   ],
   "source": [
    "np.random.seed(0) \n",
    "cna.pp.knn(d)"
   ]
  },
  {
   "cell_type": "code",
   "execution_count": null,
   "id": "1f8c2370-f494-4e81-a01f-a5f8f7f2f412",
   "metadata": {},
   "outputs": [],
   "source": [
    "np.random.seed(0) \n",
    "res = cna.tl._association.association(d, #dataset \n",
    "                                      d.samplem['Final_ISN_[III]'], #phenotype\n",
    "#                                       batches=d.samplem.processing_batch, #batches\n",
    "                                      Nnull=10000, # number of null permutations to do (defaults to only 1e3)\n",
    "                                      ks=[1,2,3,4,5,6,7,8,9,10,11,12,13,14,15,16,17,18,19,20] # I asked the method to consider up to 10 PCs because\n",
    "                                                                #it chose the max number of PCs it considered the default set of [1,2,3,4]\n",
    "                                     )\n",
    "print(res.k)\n",
    "print(res.ks)\n",
    "print('p =', res.p, ',', res.k, 'PCs used')\n",
    "print('total r^2 between top {} NAM PCs and outcome is {:.2f}'.format(res.k, res.r2))"
   ]
  },
  {
   "cell_type": "code",
   "execution_count": null,
   "id": "87e3f561-b54e-4635-83a6-3478602419fa",
   "metadata": {},
   "outputs": [],
   "source": [
    "np.random.seed(0) \n",
    "res = cna.tl._association.association(d, #dataset \n",
    "                                      d.samplem['Final_ISN_[III][V]'], #phenotype\n",
    "#                                       batches=d.samplem.processing_batch, #batches\n",
    "                                      Nnull=10000, # number of null permutations to do (defaults to only 1e3)\n",
    "                                      ks=[1,2,3,4,5,6,7,8,9,10,11,12,13,14,15,16,17,18,19,20] # I asked the method to consider up to 10 PCs because\n",
    "                                                                #it chose the max number of PCs it considered the default set of [1,2,3,4]\n",
    "                                     )\n",
    "print(res.k)\n",
    "print(res.ks)\n",
    "print('p =', res.p, ',', res.k, 'PCs used')\n",
    "print('total r^2 between top {} NAM PCs and outcome is {:.2f}'.format(res.k, res.r2))"
   ]
  },
  {
   "cell_type": "code",
   "execution_count": 201,
   "id": "757bedf8-c3ea-4dfe-bcbb-07105bc7e912",
   "metadata": {},
   "outputs": [
    {
     "name": "stdout",
     "output_type": "stream",
     "text": [
      "performing association test\n",
      "computing neighborhood-level FDRs\n",
      "1\n",
      "[1, 2, 3, 4, 5, 6, 7, 8, 9, 10, 11, 12, 13, 14, 15, 16, 17, 18, 19, 20]\n",
      "p = 0.0017998200179982 , 1 PCs used\n",
      "total r^2 between top 1 NAM PCs and outcome is 0.10\n"
     ]
    }
   ],
   "source": [
    "np.random.seed(0) \n",
    "res = cna.tl._association.association(d, #dataset \n",
    "                                      d.samplem['Final_ISN_[IV]'], #phenotype\n",
    "#                                       batches=d.samplem.processing_batch, #batches\n",
    "                                      Nnull=10000, # number of null permutations to do (defaults to only 1e3)\n",
    "                                      ks=[1,2,3,4,5,6,7,8,9,10,11,12,13,14,15,16,17,18,19,20] # I asked the method to consider up to 10 PCs because\n",
    "                                                                #it chose the max number of PCs it considered the default set of [1,2,3,4]\n",
    "                                     )\n",
    "print(res.k)\n",
    "print(res.ks)\n",
    "print('p =', res.p, ',', res.k, 'PCs used')\n",
    "print('total r^2 between top {} NAM PCs and outcome is {:.2f}'.format(res.k, res.r2))"
   ]
  },
  {
   "cell_type": "code",
   "execution_count": 202,
   "id": "5f9ae80a-03c9-4b81-ba76-8a0294785072",
   "metadata": {},
   "outputs": [],
   "source": [
    "np.savetxt(\"/data/srlab/ssg34/SLE_kidney_v2/data/cna_new/myeloid/ISN/sc_ISN_[IV]_ncorr.csv\", \n",
    "               res.ncorrs, delimiter=\",\")\n",
    "np.savetxt(\"/data/srlab/ssg34/SLE_kidney_v2/data/cna_new/myeloid/ISN/sc_ISN_[IV]_fdrs.csv\", \n",
    "               res.fdrs, delimiter=\",\")"
   ]
  },
  {
   "cell_type": "code",
   "execution_count": 203,
   "id": "4cf084b3-9bfe-467e-b51d-4a52f6668c87",
   "metadata": {},
   "outputs": [
    {
     "name": "stdout",
     "output_type": "stream",
     "text": [
      "performing association test\n",
      "computing neighborhood-level FDRs\n",
      "2\n",
      "[1, 2, 3, 4, 5, 6, 7, 8, 9, 10, 11, 12, 13, 14, 15, 16, 17, 18, 19, 20]\n",
      "p = 0.022397760223977603 , 2 PCs used\n",
      "total r^2 between top 2 NAM PCs and outcome is 0.08\n"
     ]
    }
   ],
   "source": [
    "np.random.seed(0) \n",
    "res = cna.tl._association.association(d, #dataset \n",
    "                                      d.samplem['Final_ISN_[IV][V]'], #phenotype\n",
    "#                                       batches=d.samplem.processing_batch, #batches\n",
    "                                      Nnull=10000, # number of null permutations to do (defaults to only 1e3)\n",
    "                                      ks=[1,2,3,4,5,6,7,8,9,10,11,12,13,14,15,16,17,18,19,20] # I asked the method to consider up to 10 PCs because\n",
    "                                                                #it chose the max number of PCs it considered the default set of [1,2,3,4]\n",
    "                                     )\n",
    "print(res.k)\n",
    "print(res.ks)\n",
    "print('p =', res.p, ',', res.k, 'PCs used')\n",
    "print('total r^2 between top {} NAM PCs and outcome is {:.2f}'.format(res.k, res.r2))"
   ]
  },
  {
   "cell_type": "code",
   "execution_count": 204,
   "id": "8d884823-a198-484c-85af-a1cc4e7fff1a",
   "metadata": {},
   "outputs": [],
   "source": [
    "np.savetxt(\"/data/srlab/ssg34/SLE_kidney_v2/data/cna_new/myeloid/ISN/sc_ISN_[IV][V]_ncorr.csv\", \n",
    "               res.ncorrs, delimiter=\",\")\n",
    "np.savetxt(\"/data/srlab/ssg34/SLE_kidney_v2/data/cna_new/myeloid/ISN/sc_ISN_[IV][V]_fdrs.csv\", \n",
    "               res.fdrs, delimiter=\",\")"
   ]
  },
  {
   "cell_type": "code",
   "execution_count": 140,
   "id": "c580a91d-5ef4-41d4-a537-803385ef0c28",
   "metadata": {},
   "outputs": [
    {
     "name": "stdout",
     "output_type": "stream",
     "text": [
      "qcd NAM not found; computing and saving\n",
      "\ttaking step 1\n",
      "\tmedian kurtosis: 51.37150192260742\n",
      "\t20th percentile R2(t,t-1): nan\n",
      "\ttaking step 2\n",
      "\tmedian kurtosis: 34.00757598876953\n",
      "\t20th percentile R2(t,t-1): 0.7737238287925721\n",
      "\ttaking step 3\n",
      "\tmedian kurtosis: 24.5955810546875\n",
      "\t20th percentile R2(t,t-1): 0.9182487368583679\n",
      "\ttaking step 4\n",
      "\tmedian kurtosis: 18.904521942138672\n",
      "\t20th percentile R2(t,t-1): 0.9531392097473145\n",
      "\ttaking step 5\n",
      "\tmedian kurtosis: 15.179661750793457\n",
      "\t20th percentile R2(t,t-1): 0.9696611166000366\n",
      "\ttaking step 6\n",
      "\tmedian kurtosis: 12.74237060546875\n",
      "\t20th percentile R2(t,t-1): 0.9801829218864441\n",
      "stopping after 6 steps\n",
      "covariate-adjusted NAM not found; computing and saving\n",
      "computing SVD\n",
      "performing association test\n"
     ]
    },
    {
     "name": "stderr",
     "output_type": "stream",
     "text": [
      "/PHShome/ssg34/.conda/envs/plswork/lib/python3.9/site-packages/cna/tools/_nam.py:79: UserWarning: only one unique batch supplied to qc\n",
      "  warnings.warn('only one unique batch supplied to qc')\n",
      "/PHShome/ssg34/.conda/envs/plswork/lib/python3.9/site-packages/cna/tools/_nam.py:101: UserWarning: only one unique batch supplied to prep\n",
      "  warnings.warn('only one unique batch supplied to prep')\n",
      "/PHShome/ssg34/.conda/envs/plswork/lib/python3.9/site-packages/cna/tools/_association.py:74: UserWarning: global association p-value attained minimal possible value. Consider increasing Nnull\n",
      "  warnings.warn('global association p-value attained minimal possible value. '+\\\n"
     ]
    },
    {
     "name": "stdout",
     "output_type": "stream",
     "text": [
      "computing neighborhood-level FDRs\n",
      "1\n",
      "[1, 2, 3, 4, 5, 6, 7, 8, 9, 10, 11, 12, 13, 14, 15, 16, 17, 18, 19, 20]\n",
      "p = 9.999000099990002e-05 , 1 PCs used\n",
      "total r^2 between top 1 NAM PCs and outcome is 0.22\n"
     ]
    }
   ],
   "source": [
    "np.random.seed(0) \n",
    "res = cna.tl._association.association(d, #dataset \n",
    "                                      d.samplem['Final_ISN_[V]'], #phenotype\n",
    "#                                       batches=d.samplem.processing_batch, #batches\n",
    "                                      Nnull=10000, # number of null permutations to do (defaults to only 1e3)\n",
    "                                      ks=[1,2,3,4,5,6,7,8,9,10,11,12,13,14,15,16,17,18,19,20] # I asked the method to consider up to 10 PCs because\n",
    "                                                                #it chose the max number of PCs it considered the default set of [1,2,3,4]\n",
    "                                     )\n",
    "print(res.k)\n",
    "print(res.ks)\n",
    "print('p =', res.p, ',', res.k, 'PCs used')\n",
    "print('total r^2 between top {} NAM PCs and outcome is {:.2f}'.format(res.k, res.r2))"
   ]
  },
  {
   "cell_type": "code",
   "execution_count": 141,
   "id": "83d362f4-5c8e-46fd-80bb-d7021700f5b6",
   "metadata": {},
   "outputs": [],
   "source": [
    "np.savetxt(\"/data/srlab/ssg34/SLE_kidney_v2/data/cna_new/myeloid/ISN/sc_ISN_[V]_ncorr.csv\", \n",
    "               res.ncorrs, delimiter=\",\")\n",
    "np.savetxt(\"/data/srlab/ssg34/SLE_kidney_v2/data/cna_new/myeloid/ISN/sc_ISN_[V]_fdrs.csv\", \n",
    "               res.fdrs, delimiter=\",\")"
   ]
  },
  {
   "cell_type": "code",
   "execution_count": 142,
   "id": "a901471d-bb0d-49cb-8033-86b99d69b3c1",
   "metadata": {},
   "outputs": [],
   "source": [
    "sc_uni['ISN'] = res.p"
   ]
  },
  {
   "cell_type": "markdown",
   "id": "b24ad501-63a2-452b-ae90-3a5e816849b3",
   "metadata": {},
   "source": [
    "## Single Nuclei"
   ]
  },
  {
   "cell_type": "code",
   "execution_count": 129,
   "id": "f3cd824c-0934-43bf-8512-6c6dd8ff3e19",
   "metadata": {},
   "outputs": [
    {
     "name": "stdout",
     "output_type": "stream",
     "text": [
      "(1767, 16)\n"
     ]
    }
   ],
   "source": [
    "meta = pd.read_csv('/data/srlab/ssg34/SLE_kidney_v2/data/cna_new/myeloid/ISN/sn_meta.csv')\n",
    "print(meta.shape)"
   ]
  },
  {
   "cell_type": "code",
   "execution_count": 130,
   "id": "04fda1ca-477a-4cde-842e-a1e5120c06b4",
   "metadata": {},
   "outputs": [
    {
     "name": "stdout",
     "output_type": "stream",
     "text": [
      "(1767, 20)\n"
     ]
    }
   ],
   "source": [
    "harmony = pd.read_csv('/data/srlab/ssg34/SLE_kidney_v2/data/cna_new/myeloid/ISN/sn_harmony.csv')\n",
    "print(harmony.shape)"
   ]
  },
  {
   "cell_type": "code",
   "execution_count": 131,
   "id": "9370f97f-6ccd-4475-ae41-90706c3a2423",
   "metadata": {},
   "outputs": [
    {
     "name": "stdout",
     "output_type": "stream",
     "text": [
      "(1767, 2)\n"
     ]
    }
   ],
   "source": [
    "umap = pd.read_csv('/data/srlab/ssg34/SLE_kidney_v2/data/cna_new/myeloid/ISN/sn_umap.csv')\n",
    "print(umap.shape)"
   ]
  },
  {
   "cell_type": "code",
   "execution_count": 132,
   "id": "85a4c923-53e7-4749-86d9-6b86c63cee2a",
   "metadata": {},
   "outputs": [
    {
     "name": "stdout",
     "output_type": "stream",
     "text": [
      "warning: the following columns of obs are non-numeric.\n",
      "['cell' 'Sex' 'sample' 'final_annotation' 'Responder.Status' 'Race'\n",
      " 'Final_ISN' 'Type']\n",
      "consider casting to numeric types where appropriate, and\n",
      "consider re-coding text-valued columns with pandas.get_dummies\n"
     ]
    },
    {
     "name": "stderr",
     "output_type": "stream",
     "text": [
      "/PHShome/ssg34/.conda/envs/plswork/lib/python3.9/site-packages/multianndata/core.py:17: FutureWarning: X.dtype being converted to np.float32 from float64. In the next version of anndata (0.9) conversion will not be automatic. Pass dtype explicitly to avoid this warning. Pass `AnnData(X, dtype=X.dtype, ...)` to get the future behavour.\n",
      "  super().__init__(*args, **kwargs)\n",
      "/PHShome/ssg34/.conda/envs/plswork/lib/python3.9/site-packages/anndata/_core/anndata.py:121: ImplicitModificationWarning: Transforming to str index.\n",
      "  warnings.warn(\"Transforming to str index.\", ImplicitModificationWarning)\n"
     ]
    },
    {
     "data": {
      "text/html": [
       "<div>\n",
       "<style scoped>\n",
       "    .dataframe tbody tr th:only-of-type {\n",
       "        vertical-align: middle;\n",
       "    }\n",
       "\n",
       "    .dataframe tbody tr th {\n",
       "        vertical-align: top;\n",
       "    }\n",
       "\n",
       "    .dataframe thead th {\n",
       "        text-align: right;\n",
       "    }\n",
       "</style>\n",
       "<table border=\"1\" class=\"dataframe\">\n",
       "  <thead>\n",
       "    <tr style=\"text-align: right;\">\n",
       "      <th></th>\n",
       "      <th>Final_ISN_[III]</th>\n",
       "      <th>Final_ISN_[III][V]</th>\n",
       "      <th>Final_ISN_[IV]</th>\n",
       "      <th>Final_ISN_[IV][V]</th>\n",
       "      <th>Final_ISN_[V]</th>\n",
       "    </tr>\n",
       "    <tr>\n",
       "      <th>sample</th>\n",
       "      <th></th>\n",
       "      <th></th>\n",
       "      <th></th>\n",
       "      <th></th>\n",
       "      <th></th>\n",
       "    </tr>\n",
       "  </thead>\n",
       "  <tbody>\n",
       "    <tr>\n",
       "      <th>AMPSLEkid_cells_0137</th>\n",
       "      <td>1.0</td>\n",
       "      <td>0.000000</td>\n",
       "      <td>0.0</td>\n",
       "      <td>0.000000</td>\n",
       "      <td>0.0</td>\n",
       "    </tr>\n",
       "    <tr>\n",
       "      <th>AMPSLEkid_cells_0138</th>\n",
       "      <td>0.0</td>\n",
       "      <td>1.000000</td>\n",
       "      <td>0.0</td>\n",
       "      <td>0.000000</td>\n",
       "      <td>0.0</td>\n",
       "    </tr>\n",
       "    <tr>\n",
       "      <th>AMPSLEkid_cells_0139</th>\n",
       "      <td>0.0</td>\n",
       "      <td>1.000000</td>\n",
       "      <td>0.0</td>\n",
       "      <td>0.000000</td>\n",
       "      <td>0.0</td>\n",
       "    </tr>\n",
       "    <tr>\n",
       "      <th>AMPSLEkid_cells_0147</th>\n",
       "      <td>1.0</td>\n",
       "      <td>0.000000</td>\n",
       "      <td>0.0</td>\n",
       "      <td>0.000000</td>\n",
       "      <td>0.0</td>\n",
       "    </tr>\n",
       "    <tr>\n",
       "      <th>AMPSLEkid_cells_0366</th>\n",
       "      <td>0.0</td>\n",
       "      <td>0.333333</td>\n",
       "      <td>0.0</td>\n",
       "      <td>0.666667</td>\n",
       "      <td>0.0</td>\n",
       "    </tr>\n",
       "  </tbody>\n",
       "</table>\n",
       "</div>"
      ],
      "text/plain": [
       "                      Final_ISN_[III]  Final_ISN_[III][V]  Final_ISN_[IV]  \\\n",
       "sample                                                                      \n",
       "AMPSLEkid_cells_0137              1.0            0.000000             0.0   \n",
       "AMPSLEkid_cells_0138              0.0            1.000000             0.0   \n",
       "AMPSLEkid_cells_0139              0.0            1.000000             0.0   \n",
       "AMPSLEkid_cells_0147              1.0            0.000000             0.0   \n",
       "AMPSLEkid_cells_0366              0.0            0.333333             0.0   \n",
       "\n",
       "                      Final_ISN_[IV][V]  Final_ISN_[V]  \n",
       "sample                                                  \n",
       "AMPSLEkid_cells_0137           0.000000            0.0  \n",
       "AMPSLEkid_cells_0138           0.000000            0.0  \n",
       "AMPSLEkid_cells_0139           0.000000            0.0  \n",
       "AMPSLEkid_cells_0147           0.000000            0.0  \n",
       "AMPSLEkid_cells_0366           0.666667            0.0  "
      ]
     },
     "execution_count": 132,
     "metadata": {},
     "output_type": "execute_result"
    }
   ],
   "source": [
    "# Start by making anndata object\n",
    "d = mad.MultiAnnData(X=harmony, obs=meta, sampleid=\"sample\")\n",
    "#d.obs_to_sample(['Type', 'Site',\n",
    "#                 'Responder_Status', 'Sex',\n",
    "#                 'Age', 'Race',\n",
    "#                'Ethnicity', 'ISN',\n",
    "#               'Activity', \"Chronicity\",\n",
    "#                 'processing_batch'])\n",
    "d.obs_to_sample(['Final_ISN_[III]', 'Final_ISN_[III][V]', 'Final_ISN_[IV]',\n",
    "                 'Final_ISN_[IV][V]', 'Final_ISN_[V]'])\n",
    "d.samplem.head()"
   ]
  },
  {
   "cell_type": "code",
   "execution_count": 143,
   "id": "64fb47a1-2d9c-49fd-bc42-d0ed3ad7a873",
   "metadata": {},
   "outputs": [],
   "source": [
    "pd.DataFrame.from_dict(sc_uni, orient='index').T.to_csv('/data/srlab/ssg34/SLE_kidney_v2/data/cna_new/myeloid/univariate_cna.csv')"
   ]
  }
 ],
 "metadata": {
  "kernelspec": {
   "display_name": "Python 3 (ipykernel)",
   "language": "python",
   "name": "python3"
  },
  "language_info": {
   "codemirror_mode": {
    "name": "ipython",
    "version": 3
   },
   "file_extension": ".py",
   "mimetype": "text/x-python",
   "name": "python",
   "nbconvert_exporter": "python",
   "pygments_lexer": "ipython3",
   "version": "3.9.13"
  }
 },
 "nbformat": 4,
 "nbformat_minor": 5
}
