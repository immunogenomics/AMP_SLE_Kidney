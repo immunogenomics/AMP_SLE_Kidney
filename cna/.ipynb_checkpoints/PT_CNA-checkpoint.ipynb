{
 "cells": [
  {
   "cell_type": "code",
   "execution_count": 1,
   "id": "fbf5a0bb-c666-4c58-b2fe-5349ede4a946",
   "metadata": {},
   "outputs": [],
   "source": [
    "import scanpy as sc\n",
    "import numpy as np\n",
    "import pandas as pd\n",
    "import matplotlib.pyplot as plt\n",
    "import scipy.stats as st\n",
    "import cna\n",
    "import multianndata as mad\n",
    "\n",
    "# For Aparna's Import\n",
    "import scipy.io\n",
    "\n",
    "# For reproducibility\n",
    "np.random.seed(0)  "
   ]
  },
  {
   "cell_type": "code",
   "execution_count": 2,
   "id": "6e5b7389-4076-438f-853f-6efcffd428e6",
   "metadata": {},
   "outputs": [],
   "source": [
    "sc_uni = dict()"
   ]
  },
  {
   "cell_type": "markdown",
   "id": "24c60efa-1137-41ab-b58c-2ac1b567e791",
   "metadata": {},
   "source": [
    "# AGE"
   ]
  },
  {
   "cell_type": "markdown",
   "id": "1c3c8b7a-e5d1-4d2a-ab5b-418230b49e4d",
   "metadata": {},
   "source": [
    "## Single Cell"
   ]
  },
  {
   "cell_type": "code",
   "execution_count": 3,
   "id": "4ea9afa3-0300-4a18-a682-59eb4e68aad6",
   "metadata": {},
   "outputs": [
    {
     "name": "stdout",
     "output_type": "stream",
     "text": [
      "(154032, 39)\n"
     ]
    }
   ],
   "source": [
    "meta = pd.read_csv('/data/srlab/ssg34/SLE_kidney_v2/data/cna_new/PT/age_sex_response_race/sc_meta_age.csv')\n",
    "print(meta.shape)"
   ]
  },
  {
   "cell_type": "code",
   "execution_count": 4,
   "id": "946408fb-40fb-410a-9c6a-993f641ff14d",
   "metadata": {},
   "outputs": [
    {
     "name": "stdout",
     "output_type": "stream",
     "text": [
      "(154032, 20)\n"
     ]
    }
   ],
   "source": [
    "harmony = pd.read_csv('/data/srlab/ssg34/SLE_kidney_v2/data/cna_new/PT/age_sex_response_race/sc_harmony_age.csv')\n",
    "print(harmony.shape)"
   ]
  },
  {
   "cell_type": "code",
   "execution_count": 5,
   "id": "9a6d6f91-cbe2-412b-bbb7-6643a05e05dd",
   "metadata": {},
   "outputs": [
    {
     "name": "stdout",
     "output_type": "stream",
     "text": [
      "(154032, 2)\n"
     ]
    }
   ],
   "source": [
    "umap = pd.read_csv('/data/srlab/ssg34/SLE_kidney_v2/data/cna_new/PT/age_sex_response_race/sc_umap_age.csv')\n",
    "print(umap.shape)"
   ]
  },
  {
   "cell_type": "code",
   "execution_count": 6,
   "id": "dc8b55cf-a046-42a7-b9e1-a215f35562b3",
   "metadata": {},
   "outputs": [
    {
     "name": "stderr",
     "output_type": "stream",
     "text": [
      "/PHShome/ssg34/.conda/envs/plswork/lib/python3.9/site-packages/multianndata/core.py:17: FutureWarning: X.dtype being converted to np.float32 from float64. In the next version of anndata (0.9) conversion will not be automatic. Pass dtype explicitly to avoid this warning. Pass `AnnData(X, dtype=X.dtype, ...)` to get the future behavour.\n",
      "  super().__init__(*args, **kwargs)\n",
      "/PHShome/ssg34/.conda/envs/plswork/lib/python3.9/site-packages/anndata/_core/anndata.py:121: ImplicitModificationWarning: Transforming to str index.\n",
      "  warnings.warn(\"Transforming to str index.\", ImplicitModificationWarning)\n"
     ]
    },
    {
     "name": "stdout",
     "output_type": "stream",
     "text": [
      "warning: the following columns of obs are non-numeric.\n",
      "['cell' 'sample' 'cluster_names' 'Responder.Status' 'Race' 'Final_ISN'\n",
      " 'Type' 'Final_Site']\n",
      "consider casting to numeric types where appropriate, and\n",
      "consider re-coding text-valued columns with pandas.get_dummies\n"
     ]
    },
    {
     "data": {
      "text/html": [
       "<div>\n",
       "<style scoped>\n",
       "    .dataframe tbody tr th:only-of-type {\n",
       "        vertical-align: middle;\n",
       "    }\n",
       "\n",
       "    .dataframe tbody tr th {\n",
       "        vertical-align: top;\n",
       "    }\n",
       "\n",
       "    .dataframe thead th {\n",
       "        text-align: right;\n",
       "    }\n",
       "</style>\n",
       "<table border=\"1\" class=\"dataframe\">\n",
       "  <thead>\n",
       "    <tr style=\"text-align: right;\">\n",
       "      <th></th>\n",
       "      <th>Sex</th>\n",
       "      <th>Age</th>\n",
       "      <th>Final_Chronicity</th>\n",
       "      <th>Final_Activity</th>\n",
       "      <th>First_biop</th>\n",
       "      <th>Pred_use</th>\n",
       "      <th>Responder_Status</th>\n",
       "      <th>Race_[A]</th>\n",
       "      <th>Race_[A][B]</th>\n",
       "      <th>Race_[B]</th>\n",
       "      <th>...</th>\n",
       "      <th>Final_Site_JHU</th>\n",
       "      <th>Final_Site_Michigan</th>\n",
       "      <th>Final_Site_MUSC</th>\n",
       "      <th>Final_Site_Northwell</th>\n",
       "      <th>Final_Site_NYU</th>\n",
       "      <th>Final_Site_Rochester</th>\n",
       "      <th>Final_Site_Texas Tech</th>\n",
       "      <th>Final_Site_UCLA</th>\n",
       "      <th>Final_Site_UCSD</th>\n",
       "      <th>Final_Site_UCSF</th>\n",
       "    </tr>\n",
       "    <tr>\n",
       "      <th>sample</th>\n",
       "      <th></th>\n",
       "      <th></th>\n",
       "      <th></th>\n",
       "      <th></th>\n",
       "      <th></th>\n",
       "      <th></th>\n",
       "      <th></th>\n",
       "      <th></th>\n",
       "      <th></th>\n",
       "      <th></th>\n",
       "      <th></th>\n",
       "      <th></th>\n",
       "      <th></th>\n",
       "      <th></th>\n",
       "      <th></th>\n",
       "      <th></th>\n",
       "      <th></th>\n",
       "      <th></th>\n",
       "      <th></th>\n",
       "      <th></th>\n",
       "      <th></th>\n",
       "    </tr>\n",
       "  </thead>\n",
       "  <tbody>\n",
       "    <tr>\n",
       "      <th>AMPSLEkid_cells_0142</th>\n",
       "      <td>1.0</td>\n",
       "      <td>1.489979</td>\n",
       "      <td>4.0</td>\n",
       "      <td>16.0</td>\n",
       "      <td>0.0</td>\n",
       "      <td>1.0</td>\n",
       "      <td>0.0</td>\n",
       "      <td>0.0</td>\n",
       "      <td>0.0</td>\n",
       "      <td>1.0</td>\n",
       "      <td>...</td>\n",
       "      <td>0.0</td>\n",
       "      <td>0.0</td>\n",
       "      <td>0.0</td>\n",
       "      <td>0.0</td>\n",
       "      <td>0.0</td>\n",
       "      <td>1.0</td>\n",
       "      <td>0.0</td>\n",
       "      <td>0.0</td>\n",
       "      <td>0.0</td>\n",
       "      <td>0.0</td>\n",
       "    </tr>\n",
       "    <tr>\n",
       "      <th>AMPSLEkid_cells_0366</th>\n",
       "      <td>2.0</td>\n",
       "      <td>-1.068691</td>\n",
       "      <td>7.0</td>\n",
       "      <td>2.0</td>\n",
       "      <td>0.0</td>\n",
       "      <td>1.0</td>\n",
       "      <td>0.0</td>\n",
       "      <td>0.0</td>\n",
       "      <td>0.0</td>\n",
       "      <td>0.0</td>\n",
       "      <td>...</td>\n",
       "      <td>0.0</td>\n",
       "      <td>0.0</td>\n",
       "      <td>0.0</td>\n",
       "      <td>0.0</td>\n",
       "      <td>0.0</td>\n",
       "      <td>0.0</td>\n",
       "      <td>0.0</td>\n",
       "      <td>0.0</td>\n",
       "      <td>0.0</td>\n",
       "      <td>1.0</td>\n",
       "    </tr>\n",
       "    <tr>\n",
       "      <th>AMPSLEkid_cells_0966</th>\n",
       "      <td>1.0</td>\n",
       "      <td>-0.794548</td>\n",
       "      <td>5.0</td>\n",
       "      <td>4.0</td>\n",
       "      <td>1.0</td>\n",
       "      <td>1.0</td>\n",
       "      <td>0.0</td>\n",
       "      <td>0.0</td>\n",
       "      <td>0.0</td>\n",
       "      <td>0.0</td>\n",
       "      <td>...</td>\n",
       "      <td>0.0</td>\n",
       "      <td>0.0</td>\n",
       "      <td>0.0</td>\n",
       "      <td>0.0</td>\n",
       "      <td>0.0</td>\n",
       "      <td>0.0</td>\n",
       "      <td>1.0</td>\n",
       "      <td>0.0</td>\n",
       "      <td>0.0</td>\n",
       "      <td>0.0</td>\n",
       "    </tr>\n",
       "    <tr>\n",
       "      <th>AMPSLEkid_cells_2748</th>\n",
       "      <td>1.0</td>\n",
       "      <td>-1.068691</td>\n",
       "      <td>8.0</td>\n",
       "      <td>1.0</td>\n",
       "      <td>0.0</td>\n",
       "      <td>0.0</td>\n",
       "      <td>0.0</td>\n",
       "      <td>0.0</td>\n",
       "      <td>0.0</td>\n",
       "      <td>1.0</td>\n",
       "      <td>...</td>\n",
       "      <td>1.0</td>\n",
       "      <td>0.0</td>\n",
       "      <td>0.0</td>\n",
       "      <td>0.0</td>\n",
       "      <td>0.0</td>\n",
       "      <td>0.0</td>\n",
       "      <td>0.0</td>\n",
       "      <td>0.0</td>\n",
       "      <td>0.0</td>\n",
       "      <td>0.0</td>\n",
       "    </tr>\n",
       "    <tr>\n",
       "      <th>AMPSLEkid_cells_0138</th>\n",
       "      <td>1.0</td>\n",
       "      <td>0.576169</td>\n",
       "      <td>0.0</td>\n",
       "      <td>0.0</td>\n",
       "      <td>1.0</td>\n",
       "      <td>1.0</td>\n",
       "      <td>2.0</td>\n",
       "      <td>0.0</td>\n",
       "      <td>0.0</td>\n",
       "      <td>0.0</td>\n",
       "      <td>...</td>\n",
       "      <td>0.0</td>\n",
       "      <td>0.0</td>\n",
       "      <td>0.0</td>\n",
       "      <td>0.0</td>\n",
       "      <td>0.0</td>\n",
       "      <td>1.0</td>\n",
       "      <td>0.0</td>\n",
       "      <td>0.0</td>\n",
       "      <td>0.0</td>\n",
       "      <td>0.0</td>\n",
       "    </tr>\n",
       "  </tbody>\n",
       "</table>\n",
       "<p>5 rows × 31 columns</p>\n",
       "</div>"
      ],
      "text/plain": [
       "                      Sex       Age  Final_Chronicity  Final_Activity  \\\n",
       "sample                                                                  \n",
       "AMPSLEkid_cells_0142  1.0  1.489979               4.0            16.0   \n",
       "AMPSLEkid_cells_0366  2.0 -1.068691               7.0             2.0   \n",
       "AMPSLEkid_cells_0966  1.0 -0.794548               5.0             4.0   \n",
       "AMPSLEkid_cells_2748  1.0 -1.068691               8.0             1.0   \n",
       "AMPSLEkid_cells_0138  1.0  0.576169               0.0             0.0   \n",
       "\n",
       "                      First_biop  Pred_use  Responder_Status  Race_[A]  \\\n",
       "sample                                                                   \n",
       "AMPSLEkid_cells_0142         0.0       1.0               0.0       0.0   \n",
       "AMPSLEkid_cells_0366         0.0       1.0               0.0       0.0   \n",
       "AMPSLEkid_cells_0966         1.0       1.0               0.0       0.0   \n",
       "AMPSLEkid_cells_2748         0.0       0.0               0.0       0.0   \n",
       "AMPSLEkid_cells_0138         1.0       1.0               2.0       0.0   \n",
       "\n",
       "                      Race_[A][B]  Race_[B]  ...  Final_Site_JHU  \\\n",
       "sample                                       ...                   \n",
       "AMPSLEkid_cells_0142          0.0       1.0  ...             0.0   \n",
       "AMPSLEkid_cells_0366          0.0       0.0  ...             0.0   \n",
       "AMPSLEkid_cells_0966          0.0       0.0  ...             0.0   \n",
       "AMPSLEkid_cells_2748          0.0       1.0  ...             1.0   \n",
       "AMPSLEkid_cells_0138          0.0       0.0  ...             0.0   \n",
       "\n",
       "                      Final_Site_Michigan  Final_Site_MUSC  \\\n",
       "sample                                                       \n",
       "AMPSLEkid_cells_0142                  0.0              0.0   \n",
       "AMPSLEkid_cells_0366                  0.0              0.0   \n",
       "AMPSLEkid_cells_0966                  0.0              0.0   \n",
       "AMPSLEkid_cells_2748                  0.0              0.0   \n",
       "AMPSLEkid_cells_0138                  0.0              0.0   \n",
       "\n",
       "                      Final_Site_Northwell  Final_Site_NYU  \\\n",
       "sample                                                       \n",
       "AMPSLEkid_cells_0142                   0.0             0.0   \n",
       "AMPSLEkid_cells_0366                   0.0             0.0   \n",
       "AMPSLEkid_cells_0966                   0.0             0.0   \n",
       "AMPSLEkid_cells_2748                   0.0             0.0   \n",
       "AMPSLEkid_cells_0138                   0.0             0.0   \n",
       "\n",
       "                      Final_Site_Rochester  Final_Site_Texas Tech  \\\n",
       "sample                                                              \n",
       "AMPSLEkid_cells_0142                   1.0                    0.0   \n",
       "AMPSLEkid_cells_0366                   0.0                    0.0   \n",
       "AMPSLEkid_cells_0966                   0.0                    1.0   \n",
       "AMPSLEkid_cells_2748                   0.0                    0.0   \n",
       "AMPSLEkid_cells_0138                   1.0                    0.0   \n",
       "\n",
       "                      Final_Site_UCLA  Final_Site_UCSD  Final_Site_UCSF  \n",
       "sample                                                                   \n",
       "AMPSLEkid_cells_0142              0.0              0.0              0.0  \n",
       "AMPSLEkid_cells_0366              0.0              0.0              1.0  \n",
       "AMPSLEkid_cells_0966              0.0              0.0              0.0  \n",
       "AMPSLEkid_cells_2748              0.0              0.0              0.0  \n",
       "AMPSLEkid_cells_0138              0.0              0.0              0.0  \n",
       "\n",
       "[5 rows x 31 columns]"
      ]
     },
     "execution_count": 6,
     "metadata": {},
     "output_type": "execute_result"
    }
   ],
   "source": [
    "# Start by making anndata object\n",
    "d = mad.MultiAnnData(X=harmony, obs=meta, sampleid=\"sample\")\n",
    "#d.obs_to_sample(['Type', 'Site',\n",
    "#                 'Responder_Status', 'Sex',\n",
    "#                 'Age', 'Race',\n",
    "#                'Ethnicity', 'ISN',\n",
    "#               'Activity', \"Chronicity\",\n",
    "#                 'processing_batch'])\n",
    "d.obs_to_sample(['Sex', 'Age', 'Final_Chronicity', 'Final_Activity', 'First_biop', 'Pred_use', 'Responder_Status', 'Race_[A]',\n",
    "       'Race_[A][B]', 'Race_[B]', 'Race_[B][AI]', 'Race_[B][W]', 'Race_[U]',\n",
    "       'Race_[W]', 'Final_ISN_[III]', 'Final_ISN_[III][V]', 'Final_ISN_[IV]',\n",
    "       'Final_ISN_[IV][V]', 'Final_ISN_[V]', 'Final_Site_Cincinnati',\n",
    "       'Final_Site_Einstein', 'Final_Site_JHU', 'Final_Site_Michigan',\n",
    "       'Final_Site_MUSC', 'Final_Site_Northwell', 'Final_Site_NYU',\n",
    "       'Final_Site_Rochester', 'Final_Site_Texas Tech', 'Final_Site_UCLA',\n",
    "       'Final_Site_UCSD', 'Final_Site_UCSF'])\n",
    "d.samplem.head()"
   ]
  },
  {
   "cell_type": "code",
   "execution_count": 7,
   "id": "e13f0b92-fb61-4c31-a6ef-e39aadb3a447",
   "metadata": {},
   "outputs": [],
   "source": [
    "umap.index = d.obs.index\n",
    "d.obsm['X_umap'] = umap"
   ]
  },
  {
   "cell_type": "code",
   "execution_count": 8,
   "id": "8b769a9c-a0ec-4dae-91ae-e67208165c90",
   "metadata": {},
   "outputs": [
    {
     "name": "stdout",
     "output_type": "stream",
     "text": [
      "computing default knn graph\n"
     ]
    },
    {
     "name": "stderr",
     "output_type": "stream",
     "text": [
      "/PHShome/ssg34/.conda/envs/plswork/lib/python3.9/site-packages/tqdm/auto.py:22: TqdmWarning: IProgress not found. Please update jupyter and ipywidgets. See https://ipywidgets.readthedocs.io/en/stable/user_install.html\n",
      "  from .autonotebook import tqdm as notebook_tqdm\n"
     ]
    }
   ],
   "source": [
    "np.random.seed(0) \n",
    "cna.pp.knn(d)"
   ]
  },
  {
   "cell_type": "code",
   "execution_count": 9,
   "id": "7e5dde00-2d80-4af4-8b7b-40e14c91e449",
   "metadata": {},
   "outputs": [
    {
     "name": "stdout",
     "output_type": "stream",
     "text": [
      "qcd NAM not found; computing and saving\n",
      "\ttaking step 1\n",
      "\tmedian kurtosis: 50.24106979370117\n",
      "\t20th percentile R2(t,t-1): nan\n",
      "\ttaking step 2\n",
      "\tmedian kurtosis: 33.02307891845703\n",
      "\t20th percentile R2(t,t-1): 0.7615886211395264\n",
      "\ttaking step 3\n",
      "\tmedian kurtosis: 22.02227783203125\n",
      "\t20th percentile R2(t,t-1): 0.9084737420082092\n",
      "\ttaking step 4\n",
      "\tmedian kurtosis: 14.879904747009277\n",
      "\t20th percentile R2(t,t-1): 0.9440323233604431\n",
      "\ttaking step 5\n",
      "\tmedian kurtosis: 10.545235633850098\n",
      "\t20th percentile R2(t,t-1): 0.9626616954803466\n",
      "\ttaking step 6\n",
      "\tmedian kurtosis: 7.996293544769287\n",
      "\t20th percentile R2(t,t-1): 0.9743828177452087\n",
      "stopping after 6 steps\n",
      "covariate-adjusted NAM not found; computing and saving\n"
     ]
    },
    {
     "name": "stderr",
     "output_type": "stream",
     "text": [
      "/PHShome/ssg34/.conda/envs/plswork/lib/python3.9/site-packages/cna/tools/_nam.py:79: UserWarning: only one unique batch supplied to qc\n",
      "  warnings.warn('only one unique batch supplied to qc')\n",
      "/PHShome/ssg34/.conda/envs/plswork/lib/python3.9/site-packages/cna/tools/_nam.py:101: UserWarning: only one unique batch supplied to prep\n",
      "  warnings.warn('only one unique batch supplied to prep')\n"
     ]
    },
    {
     "name": "stdout",
     "output_type": "stream",
     "text": [
      "computing SVD\n",
      "performing association test\n"
     ]
    },
    {
     "name": "stderr",
     "output_type": "stream",
     "text": [
      "/PHShome/ssg34/.conda/envs/plswork/lib/python3.9/site-packages/cna/tools/_association.py:57: UserWarning: data supported use of 20 NAM PCs, which is the maximum considered. Consider allowing more PCs by using the \"ks\" argument.\n",
      "  warnings.warn(('data supported use of {} NAM PCs, which is the maximum considered. '+\\\n"
     ]
    },
    {
     "name": "stdout",
     "output_type": "stream",
     "text": [
      "computing neighborhood-level FDRs\n",
      "20\n",
      "[1, 2, 3, 4, 5, 6, 7, 8, 9, 10, 11, 12, 13, 14, 15, 16, 17, 18, 19, 20]\n",
      "p = 0.043795620437956206 , 20 PCs used\n",
      "total r^2 between top 20 NAM PCs and outcome is 0.22\n"
     ]
    }
   ],
   "source": [
    "np.random.seed(0) \n",
    "res = cna.tl._association.association(d, #dataset \n",
    "                                      d.samplem.Age, #phenotype\n",
    "#                                       batches=d.samplem.processing_batch, #batches\n",
    "                                      Nnull=10000, # number of null permutations to do (defaults to only 1e3)\n",
    "                                      ks=[1,2,3,4,5,6,7,8,9,10,11,12,13,14,15,16,17,18,19,20] # I asked the method to consider up to 10 PCs because\n",
    "                                                                #it chose the max number of PCs it considered the default set of [1,2,3,4]\n",
    "                                     )\n",
    "print(res.k)\n",
    "print(res.ks)\n",
    "print('p =', res.p, ',', res.k, 'PCs used')\n",
    "print('total r^2 between top {} NAM PCs and outcome is {:.2f}'.format(res.k, res.r2))"
   ]
  },
  {
   "cell_type": "code",
   "execution_count": 10,
   "id": "b5d7734c-a66e-4d0d-bd8b-fe2fbbfbb109",
   "metadata": {},
   "outputs": [],
   "source": [
    "np.savetxt(\"/data/srlab/ssg34/SLE_kidney_v2/data/cna_new/ALL_TISSUE/age_sex_response_race/sc_age_ncorr.csv\", \n",
    "               res.ncorrs, delimiter=\",\")\n",
    "np.savetxt(\"/data/srlab/ssg34/SLE_kidney_v2/data/cna_new/ALL_TISSUE/age_sex_response_race/sc_age_fdrs.csv\", \n",
    "               res.fdrs, delimiter=\",\")"
   ]
  },
  {
   "cell_type": "code",
   "execution_count": 11,
   "id": "3dd7410e-ee95-4e81-ab25-47171e875af1",
   "metadata": {},
   "outputs": [],
   "source": [
    "sc_uni['Age'] = res.p"
   ]
  },
  {
   "cell_type": "markdown",
   "id": "13d76ed0-ce7b-4a88-bf73-c4a8093149de",
   "metadata": {},
   "source": [
    "## Single Nuclei"
   ]
  },
  {
   "cell_type": "code",
   "execution_count": 26,
   "id": "1e069dea-d72c-43b1-9070-39d0a2679c65",
   "metadata": {},
   "outputs": [
    {
     "name": "stdout",
     "output_type": "stream",
     "text": [
      "(50173, 9)\n"
     ]
    }
   ],
   "source": [
    "meta = pd.read_csv('/data/srlab/ssg34/SLE_kidney_v2/data/cna_new/PT/age_sex_response_race/sn_meta_age.csv')\n",
    "print(meta.shape)"
   ]
  },
  {
   "cell_type": "code",
   "execution_count": 27,
   "id": "801bda2e-8f9d-4d91-8e1c-6dcf0266b98b",
   "metadata": {},
   "outputs": [
    {
     "name": "stdout",
     "output_type": "stream",
     "text": [
      "(50173, 20)\n"
     ]
    }
   ],
   "source": [
    "harmony = pd.read_csv('/data/srlab/ssg34/SLE_kidney_v2/data/cna_new/PT/age_sex_response_race/sn_harmony_age.csv')\n",
    "print(harmony.shape)"
   ]
  },
  {
   "cell_type": "code",
   "execution_count": 28,
   "id": "e5f2c10d-4943-4d43-ab51-90bdee0aab5c",
   "metadata": {},
   "outputs": [
    {
     "name": "stdout",
     "output_type": "stream",
     "text": [
      "(50173, 2)\n"
     ]
    }
   ],
   "source": [
    "umap = pd.read_csv('/data/srlab/ssg34/SLE_kidney_v2/data/cna_new/PT/age_sex_response_race/sn_umap_age.csv')\n",
    "print(umap.shape)"
   ]
  },
  {
   "cell_type": "code",
   "execution_count": 29,
   "id": "b5241b9e-23d4-482b-bfa7-74112d461948",
   "metadata": {},
   "outputs": [
    {
     "name": "stdout",
     "output_type": "stream",
     "text": [
      "warning: the following columns of obs are non-numeric.\n",
      "['cell' 'Sex' 'sample' 'cluster_names' 'Responder.Status' 'Race' 'ISN'\n",
      " 'Type']\n",
      "consider casting to numeric types where appropriate, and\n",
      "consider re-coding text-valued columns with pandas.get_dummies\n"
     ]
    },
    {
     "name": "stderr",
     "output_type": "stream",
     "text": [
      "/PHShome/ssg34/.conda/envs/plswork/lib/python3.9/site-packages/multianndata/core.py:17: FutureWarning: X.dtype being converted to np.float32 from float64. In the next version of anndata (0.9) conversion will not be automatic. Pass dtype explicitly to avoid this warning. Pass `AnnData(X, dtype=X.dtype, ...)` to get the future behavour.\n",
      "  super().__init__(*args, **kwargs)\n",
      "/PHShome/ssg34/.conda/envs/plswork/lib/python3.9/site-packages/anndata/_core/anndata.py:121: ImplicitModificationWarning: Transforming to str index.\n",
      "  warnings.warn(\"Transforming to str index.\", ImplicitModificationWarning)\n"
     ]
    },
    {
     "data": {
      "text/html": [
       "<div>\n",
       "<style scoped>\n",
       "    .dataframe tbody tr th:only-of-type {\n",
       "        vertical-align: middle;\n",
       "    }\n",
       "\n",
       "    .dataframe tbody tr th {\n",
       "        vertical-align: top;\n",
       "    }\n",
       "\n",
       "    .dataframe thead th {\n",
       "        text-align: right;\n",
       "    }\n",
       "</style>\n",
       "<table border=\"1\" class=\"dataframe\">\n",
       "  <thead>\n",
       "    <tr style=\"text-align: right;\">\n",
       "      <th></th>\n",
       "      <th>Age</th>\n",
       "    </tr>\n",
       "    <tr>\n",
       "      <th>sample</th>\n",
       "      <th></th>\n",
       "    </tr>\n",
       "  </thead>\n",
       "  <tbody>\n",
       "    <tr>\n",
       "      <th>AMPSLEkid_cells_0137</th>\n",
       "      <td>10.0</td>\n",
       "    </tr>\n",
       "    <tr>\n",
       "      <th>AMPSLEkid_cells_0138</th>\n",
       "      <td>16.0</td>\n",
       "    </tr>\n",
       "    <tr>\n",
       "      <th>AMPSLEkid_cells_0139</th>\n",
       "      <td>20.0</td>\n",
       "    </tr>\n",
       "    <tr>\n",
       "      <th>AMPSLEkid_cells_0147</th>\n",
       "      <td>20.0</td>\n",
       "    </tr>\n",
       "    <tr>\n",
       "      <th>AMPSLEkid_cells_0366</th>\n",
       "      <td>3.0</td>\n",
       "    </tr>\n",
       "  </tbody>\n",
       "</table>\n",
       "</div>"
      ],
      "text/plain": [
       "                       Age\n",
       "sample                    \n",
       "AMPSLEkid_cells_0137  10.0\n",
       "AMPSLEkid_cells_0138  16.0\n",
       "AMPSLEkid_cells_0139  20.0\n",
       "AMPSLEkid_cells_0147  20.0\n",
       "AMPSLEkid_cells_0366   3.0"
      ]
     },
     "execution_count": 29,
     "metadata": {},
     "output_type": "execute_result"
    }
   ],
   "source": [
    "# Start by making anndata object\n",
    "d = mad.MultiAnnData(X=harmony, obs=meta, sampleid=\"sample\")\n",
    "#d.obs_to_sample(['Type', 'Site',\n",
    "#                 'Responder_Status', 'Sex',\n",
    "#                 'Age', 'Race',\n",
    "#                'Ethnicity', 'ISN',\n",
    "#               'Activity', \"Chronicity\",\n",
    "#                 'processing_batch'])\n",
    "d.obs_to_sample(['Age'])\n",
    "d.samplem.head()"
   ]
  },
  {
   "cell_type": "code",
   "execution_count": 30,
   "id": "44410a54-8816-4acd-bb42-460bfdb75c9c",
   "metadata": {},
   "outputs": [],
   "source": [
    "umap.index = d.obs.index\n",
    "d.obsm['X_umap'] = umap"
   ]
  },
  {
   "cell_type": "code",
   "execution_count": 31,
   "id": "727b3584-9af7-4ae5-9b75-6cf066a1192d",
   "metadata": {},
   "outputs": [
    {
     "name": "stdout",
     "output_type": "stream",
     "text": [
      "computing default knn graph\n"
     ]
    }
   ],
   "source": [
    "np.random.seed(0) \n",
    "cna.pp.knn(d)"
   ]
  },
  {
   "cell_type": "code",
   "execution_count": 32,
   "id": "1652f1c2-57c3-4f94-8477-984bc2ea90b5",
   "metadata": {},
   "outputs": [
    {
     "name": "stdout",
     "output_type": "stream",
     "text": [
      "qcd NAM not found; computing and saving\n",
      "\ttaking step 1\n",
      "\tmedian kurtosis: 13.259119033813477\n",
      "\t20th percentile R2(t,t-1): nan\n",
      "\ttaking step 2\n",
      "\tmedian kurtosis: 9.410001754760742\n",
      "\t20th percentile R2(t,t-1): 0.7799340009689331\n",
      "\ttaking step 3\n",
      "\tmedian kurtosis: 6.884187698364258\n",
      "\t20th percentile R2(t,t-1): 0.9179095029830933\n",
      "stopping after 3 steps\n",
      "covariate-adjusted NAM not found; computing and saving\n",
      "computing SVD\n",
      "performing association test\n"
     ]
    },
    {
     "name": "stderr",
     "output_type": "stream",
     "text": [
      "/PHShome/ssg34/.conda/envs/plswork/lib/python3.9/site-packages/cna/tools/_nam.py:79: UserWarning: only one unique batch supplied to qc\n",
      "  warnings.warn('only one unique batch supplied to qc')\n",
      "/PHShome/ssg34/.conda/envs/plswork/lib/python3.9/site-packages/cna/tools/_nam.py:101: UserWarning: only one unique batch supplied to prep\n",
      "  warnings.warn('only one unique batch supplied to prep')\n",
      "/PHShome/ssg34/.conda/envs/plswork/lib/python3.9/site-packages/cna/tools/_association.py:57: UserWarning: data supported use of 20 NAM PCs, which is the maximum considered. Consider allowing more PCs by using the \"ks\" argument.\n",
      "  warnings.warn(('data supported use of {} NAM PCs, which is the maximum considered. '+\\\n"
     ]
    },
    {
     "name": "stdout",
     "output_type": "stream",
     "text": [
      "computing neighborhood-level FDRs\n",
      "20\n",
      "[1, 2, 3, 4, 5, 6, 7, 8, 9, 10, 11, 12, 13, 14, 15, 16, 17, 18, 19, 20]\n",
      "p = 0.1740825917408259 , 20 PCs used\n",
      "total r^2 between top 20 NAM PCs and outcome is 0.63\n"
     ]
    }
   ],
   "source": [
    "np.random.seed(0) \n",
    "res = cna.tl._association.association(d, #dataset \n",
    "                                      d.samplem.Age, #phenotype\n",
    "#                                       batches=d.samplem.processing_batch, #batches\n",
    "                                      Nnull=10000, # number of null permutations to do (defaults to only 1e3)\n",
    "                                      ks=[1,2,3,4,5,6,7,8,9,10,11,12,13,14,15,16,17,18,19,20] # I asked the method to consider up to 10 PCs because\n",
    "                                                                #it chose the max number of PCs it considered the default set of [1,2,3,4]\n",
    "                                     )\n",
    "print(res.k)\n",
    "print(res.ks)\n",
    "print('p =', res.p, ',', res.k, 'PCs used')\n",
    "print('total r^2 between top {} NAM PCs and outcome is {:.2f}'.format(res.k, res.r2))"
   ]
  },
  {
   "cell_type": "code",
   "execution_count": 33,
   "id": "a4565b77-6367-4b41-9ed4-e86cab2dc9aa",
   "metadata": {},
   "outputs": [],
   "source": [
    "np.savetxt(\"/data/srlab/ssg34/SLE_kidney_v2/data/cna_new/ALL_TISSUE/age_sex_response_race/sn_age_ncorr.csv\", \n",
    "               res.ncorrs, delimiter=\",\")\n",
    "np.savetxt(\"/data/srlab/ssg34/SLE_kidney_v2/data/cna_new/ALL_TISSUE/age_sex_response_race/sn_age_fdrs.csv\", \n",
    "               res.fdrs, delimiter=\",\")"
   ]
  },
  {
   "cell_type": "markdown",
   "id": "d82a3436-8c0b-40f5-ab44-51c924fa8627",
   "metadata": {},
   "source": [
    "# SEX"
   ]
  },
  {
   "cell_type": "markdown",
   "id": "fee7b398-a2ab-47b6-96c7-99990ccf62f7",
   "metadata": {},
   "source": [
    "## Single Cell"
   ]
  },
  {
   "cell_type": "code",
   "execution_count": 12,
   "id": "5aa19783-9f31-4426-ac80-e43c0623dd8e",
   "metadata": {},
   "outputs": [
    {
     "name": "stdout",
     "output_type": "stream",
     "text": [
      "(154032, 39)\n"
     ]
    }
   ],
   "source": [
    "meta = pd.read_csv('/data/srlab/ssg34/SLE_kidney_v2/data/cna_new/PT/age_sex_response_race/sc_meta_sex.csv')\n",
    "print(meta.shape)"
   ]
  },
  {
   "cell_type": "code",
   "execution_count": 13,
   "id": "baf8457e-19ff-4802-8ae9-45de41e5b576",
   "metadata": {},
   "outputs": [
    {
     "name": "stdout",
     "output_type": "stream",
     "text": [
      "(154032, 20)\n"
     ]
    }
   ],
   "source": [
    "harmony = pd.read_csv('/data/srlab/ssg34/SLE_kidney_v2/data/cna_new/PT/age_sex_response_race/sc_harmony_sex.csv')\n",
    "print(harmony.shape)"
   ]
  },
  {
   "cell_type": "code",
   "execution_count": 14,
   "id": "00444031-1781-453c-a908-a1f7d74fc13c",
   "metadata": {},
   "outputs": [
    {
     "name": "stdout",
     "output_type": "stream",
     "text": [
      "(154032, 2)\n"
     ]
    }
   ],
   "source": [
    "umap = pd.read_csv('/data/srlab/ssg34/SLE_kidney_v2/data/cna_new/PT/age_sex_response_race/sc_umap_sex.csv')\n",
    "print(umap.shape)"
   ]
  },
  {
   "cell_type": "code",
   "execution_count": 15,
   "id": "16596ea0-250a-4353-bf09-28a8b4307e03",
   "metadata": {},
   "outputs": [
    {
     "name": "stderr",
     "output_type": "stream",
     "text": [
      "/PHShome/ssg34/.conda/envs/plswork/lib/python3.9/site-packages/multianndata/core.py:17: FutureWarning: X.dtype being converted to np.float32 from float64. In the next version of anndata (0.9) conversion will not be automatic. Pass dtype explicitly to avoid this warning. Pass `AnnData(X, dtype=X.dtype, ...)` to get the future behavour.\n",
      "  super().__init__(*args, **kwargs)\n",
      "/PHShome/ssg34/.conda/envs/plswork/lib/python3.9/site-packages/anndata/_core/anndata.py:121: ImplicitModificationWarning: Transforming to str index.\n",
      "  warnings.warn(\"Transforming to str index.\", ImplicitModificationWarning)\n"
     ]
    },
    {
     "name": "stdout",
     "output_type": "stream",
     "text": [
      "warning: the following columns of obs are non-numeric.\n",
      "['cell' 'sample' 'cluster_names' 'Responder.Status' 'Race' 'Final_ISN'\n",
      " 'Type' 'Final_Site']\n",
      "consider casting to numeric types where appropriate, and\n",
      "consider re-coding text-valued columns with pandas.get_dummies\n"
     ]
    },
    {
     "data": {
      "text/html": [
       "<div>\n",
       "<style scoped>\n",
       "    .dataframe tbody tr th:only-of-type {\n",
       "        vertical-align: middle;\n",
       "    }\n",
       "\n",
       "    .dataframe tbody tr th {\n",
       "        vertical-align: top;\n",
       "    }\n",
       "\n",
       "    .dataframe thead th {\n",
       "        text-align: right;\n",
       "    }\n",
       "</style>\n",
       "<table border=\"1\" class=\"dataframe\">\n",
       "  <thead>\n",
       "    <tr style=\"text-align: right;\">\n",
       "      <th></th>\n",
       "      <th>Sex</th>\n",
       "      <th>Age</th>\n",
       "      <th>Final_Chronicity</th>\n",
       "      <th>Final_Activity</th>\n",
       "      <th>First_biop</th>\n",
       "      <th>Pred_use</th>\n",
       "      <th>Responder_Status</th>\n",
       "      <th>Race_[A]</th>\n",
       "      <th>Race_[A][B]</th>\n",
       "      <th>Race_[B]</th>\n",
       "      <th>...</th>\n",
       "      <th>Final_Site_JHU</th>\n",
       "      <th>Final_Site_Michigan</th>\n",
       "      <th>Final_Site_MUSC</th>\n",
       "      <th>Final_Site_Northwell</th>\n",
       "      <th>Final_Site_NYU</th>\n",
       "      <th>Final_Site_Rochester</th>\n",
       "      <th>Final_Site_Texas Tech</th>\n",
       "      <th>Final_Site_UCLA</th>\n",
       "      <th>Final_Site_UCSD</th>\n",
       "      <th>Final_Site_UCSF</th>\n",
       "    </tr>\n",
       "    <tr>\n",
       "      <th>sample</th>\n",
       "      <th></th>\n",
       "      <th></th>\n",
       "      <th></th>\n",
       "      <th></th>\n",
       "      <th></th>\n",
       "      <th></th>\n",
       "      <th></th>\n",
       "      <th></th>\n",
       "      <th></th>\n",
       "      <th></th>\n",
       "      <th></th>\n",
       "      <th></th>\n",
       "      <th></th>\n",
       "      <th></th>\n",
       "      <th></th>\n",
       "      <th></th>\n",
       "      <th></th>\n",
       "      <th></th>\n",
       "      <th></th>\n",
       "      <th></th>\n",
       "      <th></th>\n",
       "    </tr>\n",
       "  </thead>\n",
       "  <tbody>\n",
       "    <tr>\n",
       "      <th>AMPSLEkid_cells_0142</th>\n",
       "      <td>1.0</td>\n",
       "      <td>1.489979</td>\n",
       "      <td>4.0</td>\n",
       "      <td>16.0</td>\n",
       "      <td>0.0</td>\n",
       "      <td>1.0</td>\n",
       "      <td>0.0</td>\n",
       "      <td>0.0</td>\n",
       "      <td>0.0</td>\n",
       "      <td>1.0</td>\n",
       "      <td>...</td>\n",
       "      <td>0.0</td>\n",
       "      <td>0.0</td>\n",
       "      <td>0.0</td>\n",
       "      <td>0.0</td>\n",
       "      <td>0.0</td>\n",
       "      <td>1.0</td>\n",
       "      <td>0.0</td>\n",
       "      <td>0.0</td>\n",
       "      <td>0.0</td>\n",
       "      <td>0.0</td>\n",
       "    </tr>\n",
       "    <tr>\n",
       "      <th>AMPSLEkid_cells_0366</th>\n",
       "      <td>2.0</td>\n",
       "      <td>-1.068691</td>\n",
       "      <td>7.0</td>\n",
       "      <td>2.0</td>\n",
       "      <td>0.0</td>\n",
       "      <td>1.0</td>\n",
       "      <td>0.0</td>\n",
       "      <td>0.0</td>\n",
       "      <td>0.0</td>\n",
       "      <td>0.0</td>\n",
       "      <td>...</td>\n",
       "      <td>0.0</td>\n",
       "      <td>0.0</td>\n",
       "      <td>0.0</td>\n",
       "      <td>0.0</td>\n",
       "      <td>0.0</td>\n",
       "      <td>0.0</td>\n",
       "      <td>0.0</td>\n",
       "      <td>0.0</td>\n",
       "      <td>0.0</td>\n",
       "      <td>1.0</td>\n",
       "    </tr>\n",
       "    <tr>\n",
       "      <th>AMPSLEkid_cells_0966</th>\n",
       "      <td>1.0</td>\n",
       "      <td>-0.794548</td>\n",
       "      <td>5.0</td>\n",
       "      <td>4.0</td>\n",
       "      <td>1.0</td>\n",
       "      <td>1.0</td>\n",
       "      <td>0.0</td>\n",
       "      <td>0.0</td>\n",
       "      <td>0.0</td>\n",
       "      <td>0.0</td>\n",
       "      <td>...</td>\n",
       "      <td>0.0</td>\n",
       "      <td>0.0</td>\n",
       "      <td>0.0</td>\n",
       "      <td>0.0</td>\n",
       "      <td>0.0</td>\n",
       "      <td>0.0</td>\n",
       "      <td>1.0</td>\n",
       "      <td>0.0</td>\n",
       "      <td>0.0</td>\n",
       "      <td>0.0</td>\n",
       "    </tr>\n",
       "    <tr>\n",
       "      <th>AMPSLEkid_cells_2748</th>\n",
       "      <td>1.0</td>\n",
       "      <td>-1.068691</td>\n",
       "      <td>8.0</td>\n",
       "      <td>1.0</td>\n",
       "      <td>0.0</td>\n",
       "      <td>0.0</td>\n",
       "      <td>0.0</td>\n",
       "      <td>0.0</td>\n",
       "      <td>0.0</td>\n",
       "      <td>1.0</td>\n",
       "      <td>...</td>\n",
       "      <td>1.0</td>\n",
       "      <td>0.0</td>\n",
       "      <td>0.0</td>\n",
       "      <td>0.0</td>\n",
       "      <td>0.0</td>\n",
       "      <td>0.0</td>\n",
       "      <td>0.0</td>\n",
       "      <td>0.0</td>\n",
       "      <td>0.0</td>\n",
       "      <td>0.0</td>\n",
       "    </tr>\n",
       "    <tr>\n",
       "      <th>AMPSLEkid_cells_0138</th>\n",
       "      <td>1.0</td>\n",
       "      <td>0.576169</td>\n",
       "      <td>0.0</td>\n",
       "      <td>0.0</td>\n",
       "      <td>1.0</td>\n",
       "      <td>1.0</td>\n",
       "      <td>2.0</td>\n",
       "      <td>0.0</td>\n",
       "      <td>0.0</td>\n",
       "      <td>0.0</td>\n",
       "      <td>...</td>\n",
       "      <td>0.0</td>\n",
       "      <td>0.0</td>\n",
       "      <td>0.0</td>\n",
       "      <td>0.0</td>\n",
       "      <td>0.0</td>\n",
       "      <td>1.0</td>\n",
       "      <td>0.0</td>\n",
       "      <td>0.0</td>\n",
       "      <td>0.0</td>\n",
       "      <td>0.0</td>\n",
       "    </tr>\n",
       "  </tbody>\n",
       "</table>\n",
       "<p>5 rows × 31 columns</p>\n",
       "</div>"
      ],
      "text/plain": [
       "                      Sex       Age  Final_Chronicity  Final_Activity  \\\n",
       "sample                                                                  \n",
       "AMPSLEkid_cells_0142  1.0  1.489979               4.0            16.0   \n",
       "AMPSLEkid_cells_0366  2.0 -1.068691               7.0             2.0   \n",
       "AMPSLEkid_cells_0966  1.0 -0.794548               5.0             4.0   \n",
       "AMPSLEkid_cells_2748  1.0 -1.068691               8.0             1.0   \n",
       "AMPSLEkid_cells_0138  1.0  0.576169               0.0             0.0   \n",
       "\n",
       "                      First_biop  Pred_use  Responder_Status  Race_[A]  \\\n",
       "sample                                                                   \n",
       "AMPSLEkid_cells_0142         0.0       1.0               0.0       0.0   \n",
       "AMPSLEkid_cells_0366         0.0       1.0               0.0       0.0   \n",
       "AMPSLEkid_cells_0966         1.0       1.0               0.0       0.0   \n",
       "AMPSLEkid_cells_2748         0.0       0.0               0.0       0.0   \n",
       "AMPSLEkid_cells_0138         1.0       1.0               2.0       0.0   \n",
       "\n",
       "                      Race_[A][B]  Race_[B]  ...  Final_Site_JHU  \\\n",
       "sample                                       ...                   \n",
       "AMPSLEkid_cells_0142          0.0       1.0  ...             0.0   \n",
       "AMPSLEkid_cells_0366          0.0       0.0  ...             0.0   \n",
       "AMPSLEkid_cells_0966          0.0       0.0  ...             0.0   \n",
       "AMPSLEkid_cells_2748          0.0       1.0  ...             1.0   \n",
       "AMPSLEkid_cells_0138          0.0       0.0  ...             0.0   \n",
       "\n",
       "                      Final_Site_Michigan  Final_Site_MUSC  \\\n",
       "sample                                                       \n",
       "AMPSLEkid_cells_0142                  0.0              0.0   \n",
       "AMPSLEkid_cells_0366                  0.0              0.0   \n",
       "AMPSLEkid_cells_0966                  0.0              0.0   \n",
       "AMPSLEkid_cells_2748                  0.0              0.0   \n",
       "AMPSLEkid_cells_0138                  0.0              0.0   \n",
       "\n",
       "                      Final_Site_Northwell  Final_Site_NYU  \\\n",
       "sample                                                       \n",
       "AMPSLEkid_cells_0142                   0.0             0.0   \n",
       "AMPSLEkid_cells_0366                   0.0             0.0   \n",
       "AMPSLEkid_cells_0966                   0.0             0.0   \n",
       "AMPSLEkid_cells_2748                   0.0             0.0   \n",
       "AMPSLEkid_cells_0138                   0.0             0.0   \n",
       "\n",
       "                      Final_Site_Rochester  Final_Site_Texas Tech  \\\n",
       "sample                                                              \n",
       "AMPSLEkid_cells_0142                   1.0                    0.0   \n",
       "AMPSLEkid_cells_0366                   0.0                    0.0   \n",
       "AMPSLEkid_cells_0966                   0.0                    1.0   \n",
       "AMPSLEkid_cells_2748                   0.0                    0.0   \n",
       "AMPSLEkid_cells_0138                   1.0                    0.0   \n",
       "\n",
       "                      Final_Site_UCLA  Final_Site_UCSD  Final_Site_UCSF  \n",
       "sample                                                                   \n",
       "AMPSLEkid_cells_0142              0.0              0.0              0.0  \n",
       "AMPSLEkid_cells_0366              0.0              0.0              1.0  \n",
       "AMPSLEkid_cells_0966              0.0              0.0              0.0  \n",
       "AMPSLEkid_cells_2748              0.0              0.0              0.0  \n",
       "AMPSLEkid_cells_0138              0.0              0.0              0.0  \n",
       "\n",
       "[5 rows x 31 columns]"
      ]
     },
     "execution_count": 15,
     "metadata": {},
     "output_type": "execute_result"
    }
   ],
   "source": [
    "# Start by making anndata object\n",
    "d = mad.MultiAnnData(X=harmony, obs=meta, sampleid=\"sample\")\n",
    "#d.obs_to_sample(['Type', 'Site',\n",
    "#                 'Responder_Status', 'Sex',\n",
    "#                 'Age', 'Race',\n",
    "#                'Ethnicity', 'ISN',\n",
    "#               'Activity', \"Chronicity\",\n",
    "#                 'processing_batch'])\n",
    "d.obs_to_sample(['Sex', 'Age', 'Final_Chronicity', 'Final_Activity', 'First_biop', 'Pred_use', 'Responder_Status', 'Race_[A]',\n",
    "       'Race_[A][B]', 'Race_[B]', 'Race_[B][AI]', 'Race_[B][W]', 'Race_[U]',\n",
    "       'Race_[W]', 'Final_ISN_[III]', 'Final_ISN_[III][V]', 'Final_ISN_[IV]',\n",
    "       'Final_ISN_[IV][V]', 'Final_ISN_[V]', 'Final_Site_Cincinnati',\n",
    "       'Final_Site_Einstein', 'Final_Site_JHU', 'Final_Site_Michigan',\n",
    "       'Final_Site_MUSC', 'Final_Site_Northwell', 'Final_Site_NYU',\n",
    "       'Final_Site_Rochester', 'Final_Site_Texas Tech', 'Final_Site_UCLA',\n",
    "       'Final_Site_UCSD', 'Final_Site_UCSF'])\n",
    "d.samplem.head()"
   ]
  },
  {
   "cell_type": "code",
   "execution_count": 16,
   "id": "1a8018a5-ba8d-4bf6-9e1d-fc0062da7826",
   "metadata": {},
   "outputs": [],
   "source": [
    "umap.index = d.obs.index\n",
    "d.obsm['X_umap'] = umap"
   ]
  },
  {
   "cell_type": "code",
   "execution_count": 17,
   "id": "441309b2-7420-4d0b-9fe3-4272d1b1d060",
   "metadata": {},
   "outputs": [
    {
     "name": "stdout",
     "output_type": "stream",
     "text": [
      "computing default knn graph\n"
     ]
    }
   ],
   "source": [
    "np.random.seed(0) \n",
    "cna.pp.knn(d)"
   ]
  },
  {
   "cell_type": "code",
   "execution_count": 18,
   "id": "15350614-70c3-4b81-aade-b72eb7344a2b",
   "metadata": {},
   "outputs": [
    {
     "name": "stdout",
     "output_type": "stream",
     "text": [
      "qcd NAM not found; computing and saving\n",
      "\ttaking step 1\n",
      "\tmedian kurtosis: 50.24106979370117\n",
      "\t20th percentile R2(t,t-1): nan\n",
      "\ttaking step 2\n",
      "\tmedian kurtosis: 33.02307891845703\n",
      "\t20th percentile R2(t,t-1): 0.7615886211395264\n",
      "\ttaking step 3\n",
      "\tmedian kurtosis: 22.02227783203125\n",
      "\t20th percentile R2(t,t-1): 0.9084737420082092\n",
      "\ttaking step 4\n",
      "\tmedian kurtosis: 14.879904747009277\n",
      "\t20th percentile R2(t,t-1): 0.9440323233604431\n",
      "\ttaking step 5\n",
      "\tmedian kurtosis: 10.545235633850098\n",
      "\t20th percentile R2(t,t-1): 0.9626616954803466\n",
      "\ttaking step 6\n",
      "\tmedian kurtosis: 7.996293544769287\n",
      "\t20th percentile R2(t,t-1): 0.9743828177452087\n",
      "stopping after 6 steps\n",
      "covariate-adjusted NAM not found; computing and saving\n"
     ]
    },
    {
     "name": "stderr",
     "output_type": "stream",
     "text": [
      "/PHShome/ssg34/.conda/envs/plswork/lib/python3.9/site-packages/cna/tools/_nam.py:79: UserWarning: only one unique batch supplied to qc\n",
      "  warnings.warn('only one unique batch supplied to qc')\n",
      "/PHShome/ssg34/.conda/envs/plswork/lib/python3.9/site-packages/cna/tools/_nam.py:101: UserWarning: only one unique batch supplied to prep\n",
      "  warnings.warn('only one unique batch supplied to prep')\n"
     ]
    },
    {
     "name": "stdout",
     "output_type": "stream",
     "text": [
      "computing SVD\n",
      "performing association test\n",
      "computing neighborhood-level FDRs\n",
      "9\n",
      "[1, 2, 3, 4, 5, 6, 7, 8, 9, 10, 11, 12, 13, 14, 15, 16, 17, 18, 19, 20]\n",
      "p = 0.1571842815718428 , 9 PCs used\n",
      "total r^2 between top 9 NAM PCs and outcome is 0.12\n"
     ]
    }
   ],
   "source": [
    "np.random.seed(0) \n",
    "res = cna.tl._association.association(d, #dataset \n",
    "                                      d.samplem.Sex, #phenotype\n",
    "#                                       batches=d.samplem.processing_batch, #batches\n",
    "                                      Nnull=10000, # number of null permutations to do (defaults to only 1e3)\n",
    "                                      ks=[1,2,3,4,5,6,7,8,9,10,11,12,13,14,15,16,17,18,19,20] # I asked the method to consider up to 10 PCs because\n",
    "                                                                #it chose the max number of PCs it considered the default set of [1,2,3,4]\n",
    "                                     )\n",
    "print(res.k)\n",
    "print(res.ks)\n",
    "print('p =', res.p, ',', res.k, 'PCs used')\n",
    "print('total r^2 between top {} NAM PCs and outcome is {:.2f}'.format(res.k, res.r2))"
   ]
  },
  {
   "cell_type": "code",
   "execution_count": 19,
   "id": "5a3b5aab-4f75-49c2-b021-75c6f7370112",
   "metadata": {},
   "outputs": [],
   "source": [
    "sc_uni['Sex'] = res.p"
   ]
  },
  {
   "cell_type": "markdown",
   "id": "c13fe24a-cb5b-42ce-9cd1-5e0d3be39fa4",
   "metadata": {},
   "source": [
    "# RESPONSE"
   ]
  },
  {
   "cell_type": "markdown",
   "id": "91b407fa-0841-4ffe-83f3-34548c15f13c",
   "metadata": {},
   "source": [
    "## Single Cell"
   ]
  },
  {
   "cell_type": "code",
   "execution_count": 20,
   "id": "6fcfa28d-d6bc-4ca2-8bff-d2ecdd342974",
   "metadata": {},
   "outputs": [
    {
     "name": "stdout",
     "output_type": "stream",
     "text": [
      "(130904, 36)\n"
     ]
    }
   ],
   "source": [
    "meta = pd.read_csv('/data/srlab/ssg34/SLE_kidney_v2/data/cna_new/PT/age_sex_response_race/sc_meta_response.csv')\n",
    "print(meta.shape)"
   ]
  },
  {
   "cell_type": "code",
   "execution_count": 21,
   "id": "f158c557-4d71-48c3-9023-3d37fae7e14e",
   "metadata": {},
   "outputs": [
    {
     "name": "stdout",
     "output_type": "stream",
     "text": [
      "(130904, 20)\n"
     ]
    }
   ],
   "source": [
    "harmony = pd.read_csv('/data/srlab/ssg34/SLE_kidney_v2/data/cna_new/PT/age_sex_response_race/sc_harmony_response.csv')\n",
    "print(harmony.shape)"
   ]
  },
  {
   "cell_type": "code",
   "execution_count": 22,
   "id": "89d215dd-3f3d-45cb-aa37-826731241c66",
   "metadata": {},
   "outputs": [
    {
     "name": "stdout",
     "output_type": "stream",
     "text": [
      "(130904, 2)\n"
     ]
    }
   ],
   "source": [
    "umap = pd.read_csv('/data/srlab/ssg34/SLE_kidney_v2/data/cna_new/PT/age_sex_response_race/sc_umap_response.csv')\n",
    "print(umap.shape)"
   ]
  },
  {
   "cell_type": "code",
   "execution_count": 26,
   "id": "322ebdd9-0703-4ea1-9d95-ca26e7e5da16",
   "metadata": {},
   "outputs": [
    {
     "name": "stderr",
     "output_type": "stream",
     "text": [
      "/PHShome/ssg34/.conda/envs/plswork/lib/python3.9/site-packages/multianndata/core.py:17: FutureWarning: X.dtype being converted to np.float32 from float64. In the next version of anndata (0.9) conversion will not be automatic. Pass dtype explicitly to avoid this warning. Pass `AnnData(X, dtype=X.dtype, ...)` to get the future behavour.\n",
      "  super().__init__(*args, **kwargs)\n",
      "/PHShome/ssg34/.conda/envs/plswork/lib/python3.9/site-packages/anndata/_core/anndata.py:121: ImplicitModificationWarning: Transforming to str index.\n",
      "  warnings.warn(\"Transforming to str index.\", ImplicitModificationWarning)\n"
     ]
    },
    {
     "name": "stdout",
     "output_type": "stream",
     "text": [
      "warning: the following columns of obs are non-numeric.\n",
      "['cell' 'sample' 'cluster_names' 'Responder.Status' 'Race' 'Final_ISN'\n",
      " 'Type' 'Final_Site']\n",
      "consider casting to numeric types where appropriate, and\n",
      "consider re-coding text-valued columns with pandas.get_dummies\n"
     ]
    },
    {
     "data": {
      "text/html": [
       "<div>\n",
       "<style scoped>\n",
       "    .dataframe tbody tr th:only-of-type {\n",
       "        vertical-align: middle;\n",
       "    }\n",
       "\n",
       "    .dataframe tbody tr th {\n",
       "        vertical-align: top;\n",
       "    }\n",
       "\n",
       "    .dataframe thead th {\n",
       "        text-align: right;\n",
       "    }\n",
       "</style>\n",
       "<table border=\"1\" class=\"dataframe\">\n",
       "  <thead>\n",
       "    <tr style=\"text-align: right;\">\n",
       "      <th></th>\n",
       "      <th>Sex</th>\n",
       "      <th>Age</th>\n",
       "      <th>Final_Chronicity</th>\n",
       "      <th>Final_Activity</th>\n",
       "      <th>First_biop</th>\n",
       "      <th>Pred_use</th>\n",
       "      <th>Responder_Status</th>\n",
       "      <th>Race_[A]</th>\n",
       "      <th>Race_[A][B]</th>\n",
       "      <th>Race_[B]</th>\n",
       "      <th>...</th>\n",
       "      <th>Final_Site_Einstein</th>\n",
       "      <th>Final_Site_JHU</th>\n",
       "      <th>Final_Site_Michigan</th>\n",
       "      <th>Final_Site_MUSC</th>\n",
       "      <th>Final_Site_Northwell</th>\n",
       "      <th>Final_Site_NYU</th>\n",
       "      <th>Final_Site_Rochester</th>\n",
       "      <th>Final_Site_Texas Tech</th>\n",
       "      <th>Final_Site_UCSD</th>\n",
       "      <th>Final_Site_UCSF</th>\n",
       "    </tr>\n",
       "    <tr>\n",
       "      <th>sample</th>\n",
       "      <th></th>\n",
       "      <th></th>\n",
       "      <th></th>\n",
       "      <th></th>\n",
       "      <th></th>\n",
       "      <th></th>\n",
       "      <th></th>\n",
       "      <th></th>\n",
       "      <th></th>\n",
       "      <th></th>\n",
       "      <th></th>\n",
       "      <th></th>\n",
       "      <th></th>\n",
       "      <th></th>\n",
       "      <th></th>\n",
       "      <th></th>\n",
       "      <th></th>\n",
       "      <th></th>\n",
       "      <th></th>\n",
       "      <th></th>\n",
       "      <th></th>\n",
       "    </tr>\n",
       "  </thead>\n",
       "  <tbody>\n",
       "    <tr>\n",
       "      <th>AMPSLEkid_cells_0142</th>\n",
       "      <td>1.0</td>\n",
       "      <td>1.612695</td>\n",
       "      <td>4.0</td>\n",
       "      <td>16.0</td>\n",
       "      <td>0.0</td>\n",
       "      <td>1.0</td>\n",
       "      <td>0.0</td>\n",
       "      <td>0.0</td>\n",
       "      <td>0.0</td>\n",
       "      <td>1.0</td>\n",
       "      <td>...</td>\n",
       "      <td>0.0</td>\n",
       "      <td>0.0</td>\n",
       "      <td>0.0</td>\n",
       "      <td>0.0</td>\n",
       "      <td>0.0</td>\n",
       "      <td>0.0</td>\n",
       "      <td>1.0</td>\n",
       "      <td>0.0</td>\n",
       "      <td>0.0</td>\n",
       "      <td>0.0</td>\n",
       "    </tr>\n",
       "    <tr>\n",
       "      <th>AMPSLEkid_cells_0366</th>\n",
       "      <td>2.0</td>\n",
       "      <td>-1.030751</td>\n",
       "      <td>7.0</td>\n",
       "      <td>2.0</td>\n",
       "      <td>0.0</td>\n",
       "      <td>1.0</td>\n",
       "      <td>0.0</td>\n",
       "      <td>0.0</td>\n",
       "      <td>0.0</td>\n",
       "      <td>0.0</td>\n",
       "      <td>...</td>\n",
       "      <td>0.0</td>\n",
       "      <td>0.0</td>\n",
       "      <td>0.0</td>\n",
       "      <td>0.0</td>\n",
       "      <td>0.0</td>\n",
       "      <td>0.0</td>\n",
       "      <td>0.0</td>\n",
       "      <td>0.0</td>\n",
       "      <td>0.0</td>\n",
       "      <td>1.0</td>\n",
       "    </tr>\n",
       "    <tr>\n",
       "      <th>AMPSLEkid_cells_0966</th>\n",
       "      <td>1.0</td>\n",
       "      <td>-0.747524</td>\n",
       "      <td>5.0</td>\n",
       "      <td>4.0</td>\n",
       "      <td>1.0</td>\n",
       "      <td>1.0</td>\n",
       "      <td>0.0</td>\n",
       "      <td>0.0</td>\n",
       "      <td>0.0</td>\n",
       "      <td>0.0</td>\n",
       "      <td>...</td>\n",
       "      <td>0.0</td>\n",
       "      <td>0.0</td>\n",
       "      <td>0.0</td>\n",
       "      <td>0.0</td>\n",
       "      <td>0.0</td>\n",
       "      <td>0.0</td>\n",
       "      <td>0.0</td>\n",
       "      <td>1.0</td>\n",
       "      <td>0.0</td>\n",
       "      <td>0.0</td>\n",
       "    </tr>\n",
       "    <tr>\n",
       "      <th>AMPSLEkid_cells_2748</th>\n",
       "      <td>1.0</td>\n",
       "      <td>-1.030751</td>\n",
       "      <td>8.0</td>\n",
       "      <td>1.0</td>\n",
       "      <td>0.0</td>\n",
       "      <td>0.0</td>\n",
       "      <td>0.0</td>\n",
       "      <td>0.0</td>\n",
       "      <td>0.0</td>\n",
       "      <td>1.0</td>\n",
       "      <td>...</td>\n",
       "      <td>0.0</td>\n",
       "      <td>1.0</td>\n",
       "      <td>0.0</td>\n",
       "      <td>0.0</td>\n",
       "      <td>0.0</td>\n",
       "      <td>0.0</td>\n",
       "      <td>0.0</td>\n",
       "      <td>0.0</td>\n",
       "      <td>0.0</td>\n",
       "      <td>0.0</td>\n",
       "    </tr>\n",
       "    <tr>\n",
       "      <th>AMPSLEkid_cells_0138</th>\n",
       "      <td>1.0</td>\n",
       "      <td>0.668607</td>\n",
       "      <td>0.0</td>\n",
       "      <td>0.0</td>\n",
       "      <td>1.0</td>\n",
       "      <td>1.0</td>\n",
       "      <td>2.0</td>\n",
       "      <td>0.0</td>\n",
       "      <td>0.0</td>\n",
       "      <td>0.0</td>\n",
       "      <td>...</td>\n",
       "      <td>0.0</td>\n",
       "      <td>0.0</td>\n",
       "      <td>0.0</td>\n",
       "      <td>0.0</td>\n",
       "      <td>0.0</td>\n",
       "      <td>0.0</td>\n",
       "      <td>1.0</td>\n",
       "      <td>0.0</td>\n",
       "      <td>0.0</td>\n",
       "      <td>0.0</td>\n",
       "    </tr>\n",
       "  </tbody>\n",
       "</table>\n",
       "<p>5 rows × 28 columns</p>\n",
       "</div>"
      ],
      "text/plain": [
       "                      Sex       Age  Final_Chronicity  Final_Activity  \\\n",
       "sample                                                                  \n",
       "AMPSLEkid_cells_0142  1.0  1.612695               4.0            16.0   \n",
       "AMPSLEkid_cells_0366  2.0 -1.030751               7.0             2.0   \n",
       "AMPSLEkid_cells_0966  1.0 -0.747524               5.0             4.0   \n",
       "AMPSLEkid_cells_2748  1.0 -1.030751               8.0             1.0   \n",
       "AMPSLEkid_cells_0138  1.0  0.668607               0.0             0.0   \n",
       "\n",
       "                      First_biop  Pred_use  Responder_Status  Race_[A]  \\\n",
       "sample                                                                   \n",
       "AMPSLEkid_cells_0142         0.0       1.0               0.0       0.0   \n",
       "AMPSLEkid_cells_0366         0.0       1.0               0.0       0.0   \n",
       "AMPSLEkid_cells_0966         1.0       1.0               0.0       0.0   \n",
       "AMPSLEkid_cells_2748         0.0       0.0               0.0       0.0   \n",
       "AMPSLEkid_cells_0138         1.0       1.0               2.0       0.0   \n",
       "\n",
       "                      Race_[A][B]  Race_[B]  ...  Final_Site_Einstein  \\\n",
       "sample                                       ...                        \n",
       "AMPSLEkid_cells_0142          0.0       1.0  ...                  0.0   \n",
       "AMPSLEkid_cells_0366          0.0       0.0  ...                  0.0   \n",
       "AMPSLEkid_cells_0966          0.0       0.0  ...                  0.0   \n",
       "AMPSLEkid_cells_2748          0.0       1.0  ...                  0.0   \n",
       "AMPSLEkid_cells_0138          0.0       0.0  ...                  0.0   \n",
       "\n",
       "                      Final_Site_JHU  Final_Site_Michigan  Final_Site_MUSC  \\\n",
       "sample                                                                       \n",
       "AMPSLEkid_cells_0142             0.0                  0.0              0.0   \n",
       "AMPSLEkid_cells_0366             0.0                  0.0              0.0   \n",
       "AMPSLEkid_cells_0966             0.0                  0.0              0.0   \n",
       "AMPSLEkid_cells_2748             1.0                  0.0              0.0   \n",
       "AMPSLEkid_cells_0138             0.0                  0.0              0.0   \n",
       "\n",
       "                      Final_Site_Northwell  Final_Site_NYU  \\\n",
       "sample                                                       \n",
       "AMPSLEkid_cells_0142                   0.0             0.0   \n",
       "AMPSLEkid_cells_0366                   0.0             0.0   \n",
       "AMPSLEkid_cells_0966                   0.0             0.0   \n",
       "AMPSLEkid_cells_2748                   0.0             0.0   \n",
       "AMPSLEkid_cells_0138                   0.0             0.0   \n",
       "\n",
       "                      Final_Site_Rochester  Final_Site_Texas Tech  \\\n",
       "sample                                                              \n",
       "AMPSLEkid_cells_0142                   1.0                    0.0   \n",
       "AMPSLEkid_cells_0366                   0.0                    0.0   \n",
       "AMPSLEkid_cells_0966                   0.0                    1.0   \n",
       "AMPSLEkid_cells_2748                   0.0                    0.0   \n",
       "AMPSLEkid_cells_0138                   1.0                    0.0   \n",
       "\n",
       "                      Final_Site_UCSD  Final_Site_UCSF  \n",
       "sample                                                  \n",
       "AMPSLEkid_cells_0142              0.0              0.0  \n",
       "AMPSLEkid_cells_0366              0.0              1.0  \n",
       "AMPSLEkid_cells_0966              0.0              0.0  \n",
       "AMPSLEkid_cells_2748              0.0              0.0  \n",
       "AMPSLEkid_cells_0138              0.0              0.0  \n",
       "\n",
       "[5 rows x 28 columns]"
      ]
     },
     "execution_count": 26,
     "metadata": {},
     "output_type": "execute_result"
    }
   ],
   "source": [
    "# Start by making anndata object\n",
    "d = mad.MultiAnnData(X=harmony, obs=meta, sampleid=\"sample\")\n",
    "#d.obs_to_sample(['Type', 'Site',\n",
    "#                 'Responder_Status', 'Sex',\n",
    "#                 'Age', 'Race',\n",
    "#                'Ethnicity', 'ISN',\n",
    "#               'Activity', \"Chronicity\",\n",
    "#                 'processing_batch'])\n",
    "d.obs_to_sample(['Sex', 'Age', 'Final_Chronicity', 'Final_Activity', 'First_biop', 'Pred_use', 'Responder_Status', 'Race_[A]',\n",
    "       'Race_[A][B]', 'Race_[B]', 'Race_[B][AI]', 'Race_[U]',\n",
    "       'Race_[W]', 'Final_ISN_[III]', 'Final_ISN_[III][V]', 'Final_ISN_[IV]',\n",
    "       'Final_ISN_[IV][V]', 'Final_ISN_[V]', \n",
    "       'Final_Site_Einstein', 'Final_Site_JHU', 'Final_Site_Michigan',\n",
    "       'Final_Site_MUSC', 'Final_Site_Northwell', 'Final_Site_NYU',\n",
    "       'Final_Site_Rochester', 'Final_Site_Texas Tech', \n",
    "       'Final_Site_UCSD', 'Final_Site_UCSF'])\n",
    "d.samplem.head()"
   ]
  },
  {
   "cell_type": "code",
   "execution_count": 27,
   "id": "cf46ab82-49cd-4200-8cd5-64750b74e485",
   "metadata": {},
   "outputs": [],
   "source": [
    "umap.index = d.obs.index\n",
    "d.obsm['X_umap'] = umap"
   ]
  },
  {
   "cell_type": "code",
   "execution_count": 28,
   "id": "0907b9a0-532d-462f-b733-5dabe882b7d7",
   "metadata": {},
   "outputs": [
    {
     "name": "stdout",
     "output_type": "stream",
     "text": [
      "computing default knn graph\n"
     ]
    }
   ],
   "source": [
    "np.random.seed(0) \n",
    "cna.pp.knn(d)"
   ]
  },
  {
   "cell_type": "code",
   "execution_count": 29,
   "id": "4806306b-2177-4699-ab29-8fffc2e3fb56",
   "metadata": {},
   "outputs": [
    {
     "name": "stdout",
     "output_type": "stream",
     "text": [
      "qcd NAM not found; computing and saving\n",
      "\ttaking step 1\n",
      "\tmedian kurtosis: 40.874427795410156\n",
      "\t20th percentile R2(t,t-1): nan\n",
      "\ttaking step 2\n",
      "\tmedian kurtosis: 26.85399627685547\n",
      "\t20th percentile R2(t,t-1): 0.7663337349891662\n",
      "\ttaking step 3\n",
      "\tmedian kurtosis: 18.085410118103027\n",
      "\t20th percentile R2(t,t-1): 0.9100850939750671\n",
      "\ttaking step 4\n",
      "\tmedian kurtosis: 12.471662521362305\n",
      "\t20th percentile R2(t,t-1): 0.9460514187812805\n",
      "\ttaking step 5\n",
      "\tmedian kurtosis: 9.115138053894043\n",
      "\t20th percentile R2(t,t-1): 0.9641231536865235\n",
      "\ttaking step 6\n",
      "\tmedian kurtosis: 7.136253356933594\n",
      "\t20th percentile R2(t,t-1): 0.9752503514289856\n",
      "stopping after 6 steps\n",
      "covariate-adjusted NAM not found; computing and saving\n"
     ]
    },
    {
     "name": "stderr",
     "output_type": "stream",
     "text": [
      "/PHShome/ssg34/.conda/envs/plswork/lib/python3.9/site-packages/cna/tools/_nam.py:79: UserWarning: only one unique batch supplied to qc\n",
      "  warnings.warn('only one unique batch supplied to qc')\n",
      "/PHShome/ssg34/.conda/envs/plswork/lib/python3.9/site-packages/cna/tools/_nam.py:101: UserWarning: only one unique batch supplied to prep\n",
      "  warnings.warn('only one unique batch supplied to prep')\n"
     ]
    },
    {
     "name": "stdout",
     "output_type": "stream",
     "text": [
      "computing SVD\n",
      "performing association test\n",
      "computing neighborhood-level FDRs\n",
      "1\n",
      "[1, 2, 3, 4, 5, 6, 7, 8, 9, 10, 11, 12, 13, 14, 15, 16, 17, 18, 19, 20]\n",
      "p = 0.15308469153084692 , 1 PCs used\n",
      "total r^2 between top 1 NAM PCs and outcome is 0.04\n"
     ]
    }
   ],
   "source": [
    "np.random.seed(0) \n",
    "res = cna.tl._association.association(d, #dataset \n",
    "                                      d.samplem.Responder_Status, #phenotype\n",
    "#                                       batches=d.samplem.processing_batch, #batches\n",
    "                                      Nnull=10000, # number of null permutations to do (defaults to only 1e3)\n",
    "                                      ks=[1,2,3,4,5,6,7,8,9,10,11,12,13,14,15,16,17,18,19,20] # I asked the method to consider up to 10 PCs because\n",
    "                                                                #it chose the max number of PCs it considered the default set of [1,2,3,4]\n",
    "                                     )\n",
    "print(res.k)\n",
    "print(res.ks)\n",
    "print('p =', res.p, ',', res.k, 'PCs used')\n",
    "print('total r^2 between top {} NAM PCs and outcome is {:.2f}'.format(res.k, res.r2))"
   ]
  },
  {
   "cell_type": "code",
   "execution_count": 30,
   "id": "005e4d5c-b937-49dc-b6aa-92d59f6aae2b",
   "metadata": {},
   "outputs": [],
   "source": [
    "sc_uni['Responder_Status'] = res.p"
   ]
  },
  {
   "cell_type": "markdown",
   "id": "bf7fe710-e313-4fc9-8fba-aad83fc5644a",
   "metadata": {},
   "source": [
    "# RACE"
   ]
  },
  {
   "cell_type": "markdown",
   "id": "bfdc60c6-8168-4fa0-ace1-50faae1ea98f",
   "metadata": {},
   "source": [
    "## Single Cell"
   ]
  },
  {
   "cell_type": "code",
   "execution_count": 31,
   "id": "c895364a-84bb-456e-bc17-244339669da1",
   "metadata": {},
   "outputs": [
    {
     "name": "stdout",
     "output_type": "stream",
     "text": [
      "(154032, 39)\n"
     ]
    }
   ],
   "source": [
    "meta = pd.read_csv('/data/srlab/ssg34/SLE_kidney_v2/data/cna_new/PT/age_sex_response_race/sc_meta_race.csv')\n",
    "print(meta.shape)"
   ]
  },
  {
   "cell_type": "code",
   "execution_count": 32,
   "id": "38a8b151-979c-43a5-9553-fa10ffc4cfc5",
   "metadata": {},
   "outputs": [
    {
     "name": "stdout",
     "output_type": "stream",
     "text": [
      "(154032, 20)\n"
     ]
    }
   ],
   "source": [
    "harmony = pd.read_csv('/data/srlab/ssg34/SLE_kidney_v2/data/cna_new/PT/age_sex_response_race/sc_harmony_race.csv')\n",
    "print(harmony.shape)"
   ]
  },
  {
   "cell_type": "code",
   "execution_count": 33,
   "id": "ebc5d530-2ced-4609-8b17-41d158cd2e7f",
   "metadata": {},
   "outputs": [
    {
     "name": "stdout",
     "output_type": "stream",
     "text": [
      "(154032, 2)\n"
     ]
    }
   ],
   "source": [
    "umap = pd.read_csv('/data/srlab/ssg34/SLE_kidney_v2/data/cna_new/PT/age_sex_response_race/sc_umap_race.csv')\n",
    "print(umap.shape)"
   ]
  },
  {
   "cell_type": "code",
   "execution_count": 34,
   "id": "8d83e3f6-8dab-42b9-b4ef-ddfeda34eb61",
   "metadata": {},
   "outputs": [
    {
     "name": "stderr",
     "output_type": "stream",
     "text": [
      "/PHShome/ssg34/.conda/envs/plswork/lib/python3.9/site-packages/multianndata/core.py:17: FutureWarning: X.dtype being converted to np.float32 from float64. In the next version of anndata (0.9) conversion will not be automatic. Pass dtype explicitly to avoid this warning. Pass `AnnData(X, dtype=X.dtype, ...)` to get the future behavour.\n",
      "  super().__init__(*args, **kwargs)\n",
      "/PHShome/ssg34/.conda/envs/plswork/lib/python3.9/site-packages/anndata/_core/anndata.py:121: ImplicitModificationWarning: Transforming to str index.\n",
      "  warnings.warn(\"Transforming to str index.\", ImplicitModificationWarning)\n"
     ]
    },
    {
     "name": "stdout",
     "output_type": "stream",
     "text": [
      "warning: the following columns of obs are non-numeric.\n",
      "['cell' 'sample' 'cluster_names' 'Responder.Status' 'Race' 'Final_ISN'\n",
      " 'Type' 'Final_Site']\n",
      "consider casting to numeric types where appropriate, and\n",
      "consider re-coding text-valued columns with pandas.get_dummies\n"
     ]
    },
    {
     "data": {
      "text/html": [
       "<div>\n",
       "<style scoped>\n",
       "    .dataframe tbody tr th:only-of-type {\n",
       "        vertical-align: middle;\n",
       "    }\n",
       "\n",
       "    .dataframe tbody tr th {\n",
       "        vertical-align: top;\n",
       "    }\n",
       "\n",
       "    .dataframe thead th {\n",
       "        text-align: right;\n",
       "    }\n",
       "</style>\n",
       "<table border=\"1\" class=\"dataframe\">\n",
       "  <thead>\n",
       "    <tr style=\"text-align: right;\">\n",
       "      <th></th>\n",
       "      <th>Sex</th>\n",
       "      <th>Age</th>\n",
       "      <th>Final_Chronicity</th>\n",
       "      <th>Final_Activity</th>\n",
       "      <th>First_biop</th>\n",
       "      <th>Pred_use</th>\n",
       "      <th>Responder_Status</th>\n",
       "      <th>Race_[A]</th>\n",
       "      <th>Race_[A][B]</th>\n",
       "      <th>Race_[B]</th>\n",
       "      <th>...</th>\n",
       "      <th>Final_Site_JHU</th>\n",
       "      <th>Final_Site_Michigan</th>\n",
       "      <th>Final_Site_MUSC</th>\n",
       "      <th>Final_Site_Northwell</th>\n",
       "      <th>Final_Site_NYU</th>\n",
       "      <th>Final_Site_Rochester</th>\n",
       "      <th>Final_Site_Texas Tech</th>\n",
       "      <th>Final_Site_UCLA</th>\n",
       "      <th>Final_Site_UCSD</th>\n",
       "      <th>Final_Site_UCSF</th>\n",
       "    </tr>\n",
       "    <tr>\n",
       "      <th>sample</th>\n",
       "      <th></th>\n",
       "      <th></th>\n",
       "      <th></th>\n",
       "      <th></th>\n",
       "      <th></th>\n",
       "      <th></th>\n",
       "      <th></th>\n",
       "      <th></th>\n",
       "      <th></th>\n",
       "      <th></th>\n",
       "      <th></th>\n",
       "      <th></th>\n",
       "      <th></th>\n",
       "      <th></th>\n",
       "      <th></th>\n",
       "      <th></th>\n",
       "      <th></th>\n",
       "      <th></th>\n",
       "      <th></th>\n",
       "      <th></th>\n",
       "      <th></th>\n",
       "    </tr>\n",
       "  </thead>\n",
       "  <tbody>\n",
       "    <tr>\n",
       "      <th>AMPSLEkid_cells_0142</th>\n",
       "      <td>1.0</td>\n",
       "      <td>1.489979</td>\n",
       "      <td>4.0</td>\n",
       "      <td>16.0</td>\n",
       "      <td>0.0</td>\n",
       "      <td>1.0</td>\n",
       "      <td>0.0</td>\n",
       "      <td>0.0</td>\n",
       "      <td>0.0</td>\n",
       "      <td>1.0</td>\n",
       "      <td>...</td>\n",
       "      <td>0.0</td>\n",
       "      <td>0.0</td>\n",
       "      <td>0.0</td>\n",
       "      <td>0.0</td>\n",
       "      <td>0.0</td>\n",
       "      <td>1.0</td>\n",
       "      <td>0.0</td>\n",
       "      <td>0.0</td>\n",
       "      <td>0.0</td>\n",
       "      <td>0.0</td>\n",
       "    </tr>\n",
       "    <tr>\n",
       "      <th>AMPSLEkid_cells_0366</th>\n",
       "      <td>2.0</td>\n",
       "      <td>-1.068691</td>\n",
       "      <td>7.0</td>\n",
       "      <td>2.0</td>\n",
       "      <td>0.0</td>\n",
       "      <td>1.0</td>\n",
       "      <td>0.0</td>\n",
       "      <td>0.0</td>\n",
       "      <td>0.0</td>\n",
       "      <td>0.0</td>\n",
       "      <td>...</td>\n",
       "      <td>0.0</td>\n",
       "      <td>0.0</td>\n",
       "      <td>0.0</td>\n",
       "      <td>0.0</td>\n",
       "      <td>0.0</td>\n",
       "      <td>0.0</td>\n",
       "      <td>0.0</td>\n",
       "      <td>0.0</td>\n",
       "      <td>0.0</td>\n",
       "      <td>1.0</td>\n",
       "    </tr>\n",
       "    <tr>\n",
       "      <th>AMPSLEkid_cells_0966</th>\n",
       "      <td>1.0</td>\n",
       "      <td>-0.794548</td>\n",
       "      <td>5.0</td>\n",
       "      <td>4.0</td>\n",
       "      <td>1.0</td>\n",
       "      <td>1.0</td>\n",
       "      <td>0.0</td>\n",
       "      <td>0.0</td>\n",
       "      <td>0.0</td>\n",
       "      <td>0.0</td>\n",
       "      <td>...</td>\n",
       "      <td>0.0</td>\n",
       "      <td>0.0</td>\n",
       "      <td>0.0</td>\n",
       "      <td>0.0</td>\n",
       "      <td>0.0</td>\n",
       "      <td>0.0</td>\n",
       "      <td>1.0</td>\n",
       "      <td>0.0</td>\n",
       "      <td>0.0</td>\n",
       "      <td>0.0</td>\n",
       "    </tr>\n",
       "    <tr>\n",
       "      <th>AMPSLEkid_cells_2748</th>\n",
       "      <td>1.0</td>\n",
       "      <td>-1.068691</td>\n",
       "      <td>8.0</td>\n",
       "      <td>1.0</td>\n",
       "      <td>0.0</td>\n",
       "      <td>0.0</td>\n",
       "      <td>0.0</td>\n",
       "      <td>0.0</td>\n",
       "      <td>0.0</td>\n",
       "      <td>1.0</td>\n",
       "      <td>...</td>\n",
       "      <td>1.0</td>\n",
       "      <td>0.0</td>\n",
       "      <td>0.0</td>\n",
       "      <td>0.0</td>\n",
       "      <td>0.0</td>\n",
       "      <td>0.0</td>\n",
       "      <td>0.0</td>\n",
       "      <td>0.0</td>\n",
       "      <td>0.0</td>\n",
       "      <td>0.0</td>\n",
       "    </tr>\n",
       "    <tr>\n",
       "      <th>AMPSLEkid_cells_0138</th>\n",
       "      <td>1.0</td>\n",
       "      <td>0.576169</td>\n",
       "      <td>0.0</td>\n",
       "      <td>0.0</td>\n",
       "      <td>1.0</td>\n",
       "      <td>1.0</td>\n",
       "      <td>2.0</td>\n",
       "      <td>0.0</td>\n",
       "      <td>0.0</td>\n",
       "      <td>0.0</td>\n",
       "      <td>...</td>\n",
       "      <td>0.0</td>\n",
       "      <td>0.0</td>\n",
       "      <td>0.0</td>\n",
       "      <td>0.0</td>\n",
       "      <td>0.0</td>\n",
       "      <td>1.0</td>\n",
       "      <td>0.0</td>\n",
       "      <td>0.0</td>\n",
       "      <td>0.0</td>\n",
       "      <td>0.0</td>\n",
       "    </tr>\n",
       "  </tbody>\n",
       "</table>\n",
       "<p>5 rows × 31 columns</p>\n",
       "</div>"
      ],
      "text/plain": [
       "                      Sex       Age  Final_Chronicity  Final_Activity  \\\n",
       "sample                                                                  \n",
       "AMPSLEkid_cells_0142  1.0  1.489979               4.0            16.0   \n",
       "AMPSLEkid_cells_0366  2.0 -1.068691               7.0             2.0   \n",
       "AMPSLEkid_cells_0966  1.0 -0.794548               5.0             4.0   \n",
       "AMPSLEkid_cells_2748  1.0 -1.068691               8.0             1.0   \n",
       "AMPSLEkid_cells_0138  1.0  0.576169               0.0             0.0   \n",
       "\n",
       "                      First_biop  Pred_use  Responder_Status  Race_[A]  \\\n",
       "sample                                                                   \n",
       "AMPSLEkid_cells_0142         0.0       1.0               0.0       0.0   \n",
       "AMPSLEkid_cells_0366         0.0       1.0               0.0       0.0   \n",
       "AMPSLEkid_cells_0966         1.0       1.0               0.0       0.0   \n",
       "AMPSLEkid_cells_2748         0.0       0.0               0.0       0.0   \n",
       "AMPSLEkid_cells_0138         1.0       1.0               2.0       0.0   \n",
       "\n",
       "                      Race_[A][B]  Race_[B]  ...  Final_Site_JHU  \\\n",
       "sample                                       ...                   \n",
       "AMPSLEkid_cells_0142          0.0       1.0  ...             0.0   \n",
       "AMPSLEkid_cells_0366          0.0       0.0  ...             0.0   \n",
       "AMPSLEkid_cells_0966          0.0       0.0  ...             0.0   \n",
       "AMPSLEkid_cells_2748          0.0       1.0  ...             1.0   \n",
       "AMPSLEkid_cells_0138          0.0       0.0  ...             0.0   \n",
       "\n",
       "                      Final_Site_Michigan  Final_Site_MUSC  \\\n",
       "sample                                                       \n",
       "AMPSLEkid_cells_0142                  0.0              0.0   \n",
       "AMPSLEkid_cells_0366                  0.0              0.0   \n",
       "AMPSLEkid_cells_0966                  0.0              0.0   \n",
       "AMPSLEkid_cells_2748                  0.0              0.0   \n",
       "AMPSLEkid_cells_0138                  0.0              0.0   \n",
       "\n",
       "                      Final_Site_Northwell  Final_Site_NYU  \\\n",
       "sample                                                       \n",
       "AMPSLEkid_cells_0142                   0.0             0.0   \n",
       "AMPSLEkid_cells_0366                   0.0             0.0   \n",
       "AMPSLEkid_cells_0966                   0.0             0.0   \n",
       "AMPSLEkid_cells_2748                   0.0             0.0   \n",
       "AMPSLEkid_cells_0138                   0.0             0.0   \n",
       "\n",
       "                      Final_Site_Rochester  Final_Site_Texas Tech  \\\n",
       "sample                                                              \n",
       "AMPSLEkid_cells_0142                   1.0                    0.0   \n",
       "AMPSLEkid_cells_0366                   0.0                    0.0   \n",
       "AMPSLEkid_cells_0966                   0.0                    1.0   \n",
       "AMPSLEkid_cells_2748                   0.0                    0.0   \n",
       "AMPSLEkid_cells_0138                   1.0                    0.0   \n",
       "\n",
       "                      Final_Site_UCLA  Final_Site_UCSD  Final_Site_UCSF  \n",
       "sample                                                                   \n",
       "AMPSLEkid_cells_0142              0.0              0.0              0.0  \n",
       "AMPSLEkid_cells_0366              0.0              0.0              1.0  \n",
       "AMPSLEkid_cells_0966              0.0              0.0              0.0  \n",
       "AMPSLEkid_cells_2748              0.0              0.0              0.0  \n",
       "AMPSLEkid_cells_0138              0.0              0.0              0.0  \n",
       "\n",
       "[5 rows x 31 columns]"
      ]
     },
     "execution_count": 34,
     "metadata": {},
     "output_type": "execute_result"
    }
   ],
   "source": [
    "# Start by making anndata object\n",
    "d = mad.MultiAnnData(X=harmony, obs=meta, sampleid=\"sample\")\n",
    "#d.obs_to_sample(['Type', 'Site',\n",
    "#                 'Responder_Status', 'Sex',\n",
    "#                 'Age', 'Race',\n",
    "#                'Ethnicity', 'ISN',\n",
    "#               'Activity', \"Chronicity\",\n",
    "#                 'processing_batch'])\n",
    "d.obs_to_sample(['Sex', 'Age', 'Final_Chronicity', 'Final_Activity', 'First_biop', 'Pred_use', 'Responder_Status', 'Race_[A]',\n",
    "       'Race_[A][B]', 'Race_[B]', 'Race_[B][AI]', 'Race_[B][W]', 'Race_[U]',\n",
    "       'Race_[W]', 'Final_ISN_[III]', 'Final_ISN_[III][V]', 'Final_ISN_[IV]',\n",
    "       'Final_ISN_[IV][V]', 'Final_ISN_[V]', 'Final_Site_Cincinnati',\n",
    "       'Final_Site_Einstein', 'Final_Site_JHU', 'Final_Site_Michigan',\n",
    "       'Final_Site_MUSC', 'Final_Site_Northwell', 'Final_Site_NYU',\n",
    "       'Final_Site_Rochester', 'Final_Site_Texas Tech', 'Final_Site_UCLA',\n",
    "       'Final_Site_UCSD', 'Final_Site_UCSF'])\n",
    "d.samplem.head()"
   ]
  },
  {
   "cell_type": "code",
   "execution_count": 35,
   "id": "a8b528e0-2d22-4cd3-afd7-dd427164c2cb",
   "metadata": {},
   "outputs": [],
   "source": [
    "umap.index = d.obs.index\n",
    "d.obsm['X_umap'] = umap"
   ]
  },
  {
   "cell_type": "code",
   "execution_count": 36,
   "id": "2a7b70c7-c9bf-44ff-8fbe-4455d8b22035",
   "metadata": {},
   "outputs": [
    {
     "name": "stdout",
     "output_type": "stream",
     "text": [
      "computing default knn graph\n"
     ]
    }
   ],
   "source": [
    "np.random.seed(0) \n",
    "cna.pp.knn(d)"
   ]
  },
  {
   "cell_type": "code",
   "execution_count": 56,
   "id": "8122c974-915a-4a7c-b30f-7b8c2558f968",
   "metadata": {},
   "outputs": [
    {
     "name": "stdout",
     "output_type": "stream",
     "text": [
      "qcd NAM not found; computing and saving\n",
      "\ttaking step 1\n",
      "\tmedian kurtosis: 50.24106979370117\n",
      "\t20th percentile R2(t,t-1): nan\n",
      "\ttaking step 2\n",
      "\tmedian kurtosis: 33.02307891845703\n",
      "\t20th percentile R2(t,t-1): 0.7615886211395264\n",
      "\ttaking step 3\n",
      "\tmedian kurtosis: 22.02227783203125\n",
      "\t20th percentile R2(t,t-1): 0.9084737420082092\n",
      "\ttaking step 4\n",
      "\tmedian kurtosis: 14.879904747009277\n",
      "\t20th percentile R2(t,t-1): 0.9440323233604431\n",
      "\ttaking step 5\n",
      "\tmedian kurtosis: 10.545235633850098\n",
      "\t20th percentile R2(t,t-1): 0.9626616954803466\n",
      "\ttaking step 6\n",
      "\tmedian kurtosis: 7.996293544769287\n",
      "\t20th percentile R2(t,t-1): 0.9743828177452087\n",
      "stopping after 6 steps\n",
      "covariate-adjusted NAM not found; computing and saving\n"
     ]
    },
    {
     "name": "stderr",
     "output_type": "stream",
     "text": [
      "/PHShome/ssg34/.conda/envs/plswork/lib/python3.9/site-packages/cna/tools/_nam.py:79: UserWarning: only one unique batch supplied to qc\n",
      "  warnings.warn('only one unique batch supplied to qc')\n",
      "/PHShome/ssg34/.conda/envs/plswork/lib/python3.9/site-packages/cna/tools/_nam.py:101: UserWarning: only one unique batch supplied to prep\n",
      "  warnings.warn('only one unique batch supplied to prep')\n"
     ]
    },
    {
     "name": "stdout",
     "output_type": "stream",
     "text": [
      "computing SVD\n",
      "performing association test\n",
      "computing neighborhood-level FDRs\n",
      "18\n",
      "[1, 2, 3, 4, 5, 6, 7, 8, 9, 10, 11, 12, 13, 14, 15, 16, 17, 18, 19, 20]\n",
      "p = 0.09499050094990501 , 18 PCs used\n",
      "total r^2 between top 18 NAM PCs and outcome is 0.19\n"
     ]
    }
   ],
   "source": [
    "np.random.seed(0) \n",
    "res = cna.tl._association.association(d, #dataset \n",
    "                                      d.samplem['Race_[A]'], #phenotype\n",
    "#                                       batches=d.samplem.processing_batch, #batches\n",
    "                                      Nnull=10000, # number of null permutations to do (defaults to only 1e3)\n",
    "                                      ks=[1,2,3,4,5,6,7,8,9,10,11,12,13,14,15,16,17,18,19,20] # I asked the method to consider up to 10 PCs because\n",
    "                                                                #it chose the max number of PCs it considered the default set of [1,2,3,4]\n",
    "                                     )\n",
    "print(res.k)\n",
    "print(res.ks)\n",
    "print('p =', res.p, ',', res.k, 'PCs used')\n",
    "print('total r^2 between top {} NAM PCs and outcome is {:.2f}'.format(res.k, res.r2))"
   ]
  },
  {
   "cell_type": "code",
   "execution_count": 57,
   "id": "e2f292aa-b4b4-4d92-8247-1a7ef7c32137",
   "metadata": {},
   "outputs": [
    {
     "name": "stdout",
     "output_type": "stream",
     "text": [
      "performing association test\n",
      "computing neighborhood-level FDRs\n",
      "6\n",
      "[1, 2, 3, 4, 5, 6, 7, 8, 9, 10, 11, 12, 13, 14, 15, 16, 17, 18, 19, 20]\n",
      "p = 0.36196380361963804 , 6 PCs used\n",
      "total r^2 between top 6 NAM PCs and outcome is 0.06\n"
     ]
    }
   ],
   "source": [
    "np.random.seed(0) \n",
    "res = cna.tl._association.association(d, #dataset \n",
    "                                      d.samplem['Race_[A][B]'], #phenotype\n",
    "#                                       batches=d.samplem.processing_batch, #batches\n",
    "                                      Nnull=10000, # number of null permutations to do (defaults to only 1e3)\n",
    "                                      ks=[1,2,3,4,5,6,7,8,9,10,11,12,13,14,15,16,17,18,19,20] # I asked the method to consider up to 10 PCs because\n",
    "                                                                #it chose the max number of PCs it considered the default set of [1,2,3,4]\n",
    "                                     )\n",
    "print(res.k)\n",
    "print(res.ks)\n",
    "print('p =', res.p, ',', res.k, 'PCs used')\n",
    "print('total r^2 between top {} NAM PCs and outcome is {:.2f}'.format(res.k, res.r2))"
   ]
  },
  {
   "cell_type": "code",
   "execution_count": 95,
   "id": "1d96d79f-88f2-481a-8886-1dea28cb1949",
   "metadata": {},
   "outputs": [
    {
     "name": "stdout",
     "output_type": "stream",
     "text": [
      "qcd NAM not found; computing and saving\n",
      "\ttaking step 1\n",
      "\tmedian kurtosis: 50.24106979370117\n",
      "\t20th percentile R2(t,t-1): nan\n",
      "\ttaking step 2\n",
      "\tmedian kurtosis: 33.02307891845703\n",
      "\t20th percentile R2(t,t-1): 0.7615886211395264\n",
      "\ttaking step 3\n",
      "\tmedian kurtosis: 22.02227783203125\n",
      "\t20th percentile R2(t,t-1): 0.9084737420082092\n",
      "\ttaking step 4\n",
      "\tmedian kurtosis: 14.879904747009277\n",
      "\t20th percentile R2(t,t-1): 0.9440323233604431\n",
      "\ttaking step 5\n",
      "\tmedian kurtosis: 10.545235633850098\n",
      "\t20th percentile R2(t,t-1): 0.9626616954803466\n",
      "\ttaking step 6\n",
      "\tmedian kurtosis: 7.996293544769287\n",
      "\t20th percentile R2(t,t-1): 0.9743828177452087\n",
      "stopping after 6 steps\n",
      "covariate-adjusted NAM not found; computing and saving\n"
     ]
    },
    {
     "name": "stderr",
     "output_type": "stream",
     "text": [
      "/PHShome/ssg34/.conda/envs/plswork/lib/python3.9/site-packages/cna/tools/_nam.py:79: UserWarning: only one unique batch supplied to qc\n",
      "  warnings.warn('only one unique batch supplied to qc')\n",
      "/PHShome/ssg34/.conda/envs/plswork/lib/python3.9/site-packages/cna/tools/_nam.py:101: UserWarning: only one unique batch supplied to prep\n",
      "  warnings.warn('only one unique batch supplied to prep')\n"
     ]
    },
    {
     "name": "stdout",
     "output_type": "stream",
     "text": [
      "computing SVD\n",
      "performing association test\n",
      "computing neighborhood-level FDRs\n",
      "16\n",
      "[1, 2, 3, 4, 5, 6, 7, 8, 9, 10, 11, 12, 13, 14, 15, 16, 17, 18, 19, 20]\n",
      "p = 0.049795020497950204 , 16 PCs used\n",
      "total r^2 between top 16 NAM PCs and outcome is 0.19\n"
     ]
    }
   ],
   "source": [
    "np.random.seed(0) \n",
    "res = cna.tl._association.association(d, #dataset \n",
    "                                      d.samplem['Race_[B]'], #phenotype\n",
    "#                                       batches=d.samplem.processing_batch, #batches\n",
    "                                      Nnull=10000, # number of null permutations to do (defaults to only 1e3)\n",
    "                                      ks=[1,2,3,4,5,6,7,8,9,10,11,12,13,14,15,16,17,18,19,20] # I asked the method to consider up to 10 PCs because\n",
    "                                                                #it chose the max number of PCs it considered the default set of [1,2,3,4]\n",
    "                                     )\n",
    "print(res.k)\n",
    "print(res.ks)\n",
    "print('p =', res.p, ',', res.k, 'PCs used')\n",
    "print('total r^2 between top {} NAM PCs and outcome is {:.2f}'.format(res.k, res.r2))"
   ]
  },
  {
   "cell_type": "code",
   "execution_count": 97,
   "id": "c6152973-aea6-41c0-96b1-0a897b69ad68",
   "metadata": {},
   "outputs": [],
   "source": [
    "np.savetxt(\"/data/srlab/ssg34/SLE_kidney_v2/data/cna_new/PT/age_sex_response_race/sc_race_[B]_ncorr.csv\", \n",
    "               res.ncorrs, delimiter=\",\")\n",
    "np.savetxt(\"/data/srlab/ssg34/SLE_kidney_v2/data/cna_new/PT/age_sex_response_race/sc_race_[B]_fdrs.csv\", \n",
    "               res.fdrs, delimiter=\",\")"
   ]
  },
  {
   "cell_type": "code",
   "execution_count": 59,
   "id": "84ce81fc-c870-42bc-b9dd-5d9280f65a47",
   "metadata": {},
   "outputs": [
    {
     "name": "stdout",
     "output_type": "stream",
     "text": [
      "performing association test\n",
      "computing neighborhood-level FDRs\n",
      "6\n",
      "[1, 2, 3, 4, 5, 6, 7, 8, 9, 10, 11, 12, 13, 14, 15, 16, 17, 18, 19, 20]\n",
      "p = 0.33556644335566443 , 6 PCs used\n",
      "total r^2 between top 6 NAM PCs and outcome is 0.06\n"
     ]
    }
   ],
   "source": [
    "np.random.seed(0) \n",
    "res = cna.tl._association.association(d, #dataset \n",
    "                                      d.samplem['Race_[B][AI]'], #phenotype\n",
    "#                                       batches=d.samplem.processing_batch, #batches\n",
    "                                      Nnull=10000, # number of null permutations to do (defaults to only 1e3)\n",
    "                                      ks=[1,2,3,4,5,6,7,8,9,10,11,12,13,14,15,16,17,18,19,20] # I asked the method to consider up to 10 PCs because\n",
    "                                                                #it chose the max number of PCs it considered the default set of [1,2,3,4]\n",
    "                                     )\n",
    "print(res.k)\n",
    "print(res.ks)\n",
    "print('p =', res.p, ',', res.k, 'PCs used')\n",
    "print('total r^2 between top {} NAM PCs and outcome is {:.2f}'.format(res.k, res.r2))"
   ]
  },
  {
   "cell_type": "code",
   "execution_count": 60,
   "id": "29614e0b-8dd3-4c69-bfee-44ced4f53901",
   "metadata": {},
   "outputs": [
    {
     "name": "stdout",
     "output_type": "stream",
     "text": [
      "performing association test\n",
      "computing neighborhood-level FDRs\n",
      "1\n",
      "[1, 2, 3, 4, 5, 6, 7, 8, 9, 10, 11, 12, 13, 14, 15, 16, 17, 18, 19, 20]\n",
      "p = 0.8569143085691431 , 1 PCs used\n",
      "total r^2 between top 1 NAM PCs and outcome is 0.00\n"
     ]
    }
   ],
   "source": [
    "np.random.seed(0) \n",
    "res = cna.tl._association.association(d, #dataset \n",
    "                                      d.samplem['Race_[B][W]'], #phenotype\n",
    "#                                       batches=d.samplem.processing_batch, #batches\n",
    "                                      Nnull=10000, # number of null permutations to do (defaults to only 1e3)\n",
    "                                      ks=[1,2,3,4,5,6,7,8,9,10,11,12,13,14,15,16,17,18,19,20] # I asked the method to consider up to 10 PCs because\n",
    "                                                                #it chose the max number of PCs it considered the default set of [1,2,3,4]\n",
    "                                     )\n",
    "print(res.k)\n",
    "print(res.ks)\n",
    "print('p =', res.p, ',', res.k, 'PCs used')\n",
    "print('total r^2 between top {} NAM PCs and outcome is {:.2f}'.format(res.k, res.r2))"
   ]
  },
  {
   "cell_type": "code",
   "execution_count": 61,
   "id": "84cb11d5-2008-4f64-816e-2a127d442d70",
   "metadata": {},
   "outputs": [
    {
     "name": "stdout",
     "output_type": "stream",
     "text": [
      "performing association test\n"
     ]
    },
    {
     "name": "stderr",
     "output_type": "stream",
     "text": [
      "/PHShome/ssg34/.conda/envs/plswork/lib/python3.9/site-packages/cna/tools/_association.py:57: UserWarning: data supported use of 20 NAM PCs, which is the maximum considered. Consider allowing more PCs by using the \"ks\" argument.\n",
      "  warnings.warn(('data supported use of {} NAM PCs, which is the maximum considered. '+\\\n"
     ]
    },
    {
     "name": "stdout",
     "output_type": "stream",
     "text": [
      "computing neighborhood-level FDRs\n",
      "20\n",
      "[1, 2, 3, 4, 5, 6, 7, 8, 9, 10, 11, 12, 13, 14, 15, 16, 17, 18, 19, 20]\n",
      "p = 0.16598340165983402 , 20 PCs used\n",
      "total r^2 between top 20 NAM PCs and outcome is 0.20\n"
     ]
    }
   ],
   "source": [
    "np.random.seed(0) \n",
    "res = cna.tl._association.association(d, #dataset \n",
    "                                      d.samplem['Race_[U]'], #phenotype\n",
    "#                                       batches=d.samplem.processing_batch, #batches\n",
    "                                      Nnull=10000, # number of null permutations to do (defaults to only 1e3)\n",
    "                                      ks=[1,2,3,4,5,6,7,8,9,10,11,12,13,14,15,16,17,18,19,20] # I asked the method to consider up to 10 PCs because\n",
    "                                                                #it chose the max number of PCs it considered the default set of [1,2,3,4]\n",
    "                                     )\n",
    "print(res.k)\n",
    "print(res.ks)\n",
    "print('p =', res.p, ',', res.k, 'PCs used')\n",
    "print('total r^2 between top {} NAM PCs and outcome is {:.2f}'.format(res.k, res.r2))"
   ]
  },
  {
   "cell_type": "code",
   "execution_count": 37,
   "id": "fed4f593-b3a5-4a92-b899-61ee2ec9f948",
   "metadata": {},
   "outputs": [
    {
     "name": "stdout",
     "output_type": "stream",
     "text": [
      "qcd NAM not found; computing and saving\n",
      "\ttaking step 1\n",
      "\tmedian kurtosis: 50.24106979370117\n",
      "\t20th percentile R2(t,t-1): nan\n",
      "\ttaking step 2\n",
      "\tmedian kurtosis: 33.02307891845703\n",
      "\t20th percentile R2(t,t-1): 0.7615886211395264\n",
      "\ttaking step 3\n",
      "\tmedian kurtosis: 22.02227783203125\n",
      "\t20th percentile R2(t,t-1): 0.9084737420082092\n",
      "\ttaking step 4\n",
      "\tmedian kurtosis: 14.879904747009277\n",
      "\t20th percentile R2(t,t-1): 0.9440323233604431\n",
      "\ttaking step 5\n",
      "\tmedian kurtosis: 10.545235633850098\n",
      "\t20th percentile R2(t,t-1): 0.9626616954803466\n",
      "\ttaking step 6\n",
      "\tmedian kurtosis: 7.996293544769287\n",
      "\t20th percentile R2(t,t-1): 0.9743828177452087\n",
      "stopping after 6 steps\n",
      "covariate-adjusted NAM not found; computing and saving\n"
     ]
    },
    {
     "name": "stderr",
     "output_type": "stream",
     "text": [
      "/PHShome/ssg34/.conda/envs/plswork/lib/python3.9/site-packages/cna/tools/_nam.py:79: UserWarning: only one unique batch supplied to qc\n",
      "  warnings.warn('only one unique batch supplied to qc')\n",
      "/PHShome/ssg34/.conda/envs/plswork/lib/python3.9/site-packages/cna/tools/_nam.py:101: UserWarning: only one unique batch supplied to prep\n",
      "  warnings.warn('only one unique batch supplied to prep')\n"
     ]
    },
    {
     "name": "stdout",
     "output_type": "stream",
     "text": [
      "computing SVD\n",
      "performing association test\n",
      "computing neighborhood-level FDRs\n",
      "3\n",
      "[1, 2, 3, 4, 5, 6, 7, 8, 9, 10, 11, 12, 13, 14, 15, 16, 17, 18, 19, 20]\n",
      "p = 0.0337966203379662 , 3 PCs used\n",
      "total r^2 between top 3 NAM PCs and outcome is 0.08\n"
     ]
    }
   ],
   "source": [
    "np.random.seed(0) \n",
    "res = cna.tl._association.association(d, #dataset \n",
    "                                      d.samplem['Race_[W]'], #phenotype\n",
    "#                                       batches=d.samplem.processing_batch, #batches\n",
    "                                      Nnull=10000, # number of null permutations to do (defaults to only 1e3)\n",
    "                                      ks=[1,2,3,4,5,6,7,8,9,10,11,12,13,14,15,16,17,18,19,20] # I asked the method to consider up to 10 PCs because\n",
    "                                                                #it chose the max number of PCs it considered the default set of [1,2,3,4]\n",
    "                                     )\n",
    "print(res.k)\n",
    "print(res.ks)\n",
    "print('p =', res.p, ',', res.k, 'PCs used')\n",
    "print('total r^2 between top {} NAM PCs and outcome is {:.2f}'.format(res.k, res.r2))"
   ]
  },
  {
   "cell_type": "code",
   "execution_count": 63,
   "id": "15c919f3-c9d6-41bb-9e09-6104a8068e8f",
   "metadata": {},
   "outputs": [],
   "source": [
    "np.savetxt(\"/data/srlab/ssg34/SLE_kidney_v2/data/cna_new/PT/age_sex_response_race/sc_race_[W]_ncorr.csv\", \n",
    "               res.ncorrs, delimiter=\",\")\n",
    "np.savetxt(\"/data/srlab/ssg34/SLE_kidney_v2/data/cna_new/PT/age_sex_response_race/sc_race_[W]_fdrs.csv\", \n",
    "               res.fdrs, delimiter=\",\")"
   ]
  },
  {
   "cell_type": "code",
   "execution_count": 38,
   "id": "49500621-89e1-447e-9b99-f0ab06b34b15",
   "metadata": {},
   "outputs": [],
   "source": [
    "sc_uni['Race'] = res.p"
   ]
  },
  {
   "cell_type": "markdown",
   "id": "9d528e8f-fc50-448f-b56a-63faa5a28fa8",
   "metadata": {},
   "source": [
    "## Single Nuclei"
   ]
  },
  {
   "cell_type": "code",
   "execution_count": 64,
   "id": "dcbb111c-c9a1-49f7-b050-6f5b6247ef20",
   "metadata": {},
   "outputs": [
    {
     "name": "stdout",
     "output_type": "stream",
     "text": [
      "(50173, 13)\n"
     ]
    }
   ],
   "source": [
    "meta = pd.read_csv('/data/srlab/ssg34/SLE_kidney_v2/data/cna_new/PT/age_sex_response_race/sn_meta_race.csv')\n",
    "print(meta.shape)"
   ]
  },
  {
   "cell_type": "code",
   "execution_count": 65,
   "id": "7a58a752-b286-4cd0-b87b-6bcf91177b86",
   "metadata": {},
   "outputs": [
    {
     "name": "stdout",
     "output_type": "stream",
     "text": [
      "(50173, 20)\n"
     ]
    }
   ],
   "source": [
    "harmony = pd.read_csv('/data/srlab/ssg34/SLE_kidney_v2/data/cna_new/PT/age_sex_response_race/sn_harmony_race.csv')\n",
    "print(harmony.shape)"
   ]
  },
  {
   "cell_type": "code",
   "execution_count": 66,
   "id": "15645878-3255-4494-a10f-6eea8d1706e9",
   "metadata": {},
   "outputs": [
    {
     "name": "stdout",
     "output_type": "stream",
     "text": [
      "(50173, 2)\n"
     ]
    }
   ],
   "source": [
    "umap = pd.read_csv('/data/srlab/ssg34/SLE_kidney_v2/data/cna_new/PT/age_sex_response_race/sn_umap_race.csv')\n",
    "print(umap.shape)"
   ]
  },
  {
   "cell_type": "code",
   "execution_count": 67,
   "id": "d7e394d4-a8c9-45cf-bb0a-909a0dea34db",
   "metadata": {},
   "outputs": [
    {
     "name": "stdout",
     "output_type": "stream",
     "text": [
      "warning: the following columns of obs are non-numeric.\n",
      "['cell' 'Sex' 'sample' 'cluster_names' 'Responder.Status' 'Race' 'ISN'\n",
      " 'Type']\n",
      "consider casting to numeric types where appropriate, and\n",
      "consider re-coding text-valued columns with pandas.get_dummies\n"
     ]
    },
    {
     "name": "stderr",
     "output_type": "stream",
     "text": [
      "/PHShome/ssg34/.conda/envs/plswork/lib/python3.9/site-packages/multianndata/core.py:17: FutureWarning: X.dtype being converted to np.float32 from float64. In the next version of anndata (0.9) conversion will not be automatic. Pass dtype explicitly to avoid this warning. Pass `AnnData(X, dtype=X.dtype, ...)` to get the future behavour.\n",
      "  super().__init__(*args, **kwargs)\n",
      "/PHShome/ssg34/.conda/envs/plswork/lib/python3.9/site-packages/anndata/_core/anndata.py:121: ImplicitModificationWarning: Transforming to str index.\n",
      "  warnings.warn(\"Transforming to str index.\", ImplicitModificationWarning)\n"
     ]
    },
    {
     "data": {
      "text/html": [
       "<div>\n",
       "<style scoped>\n",
       "    .dataframe tbody tr th:only-of-type {\n",
       "        vertical-align: middle;\n",
       "    }\n",
       "\n",
       "    .dataframe tbody tr th {\n",
       "        vertical-align: top;\n",
       "    }\n",
       "\n",
       "    .dataframe thead th {\n",
       "        text-align: right;\n",
       "    }\n",
       "</style>\n",
       "<table border=\"1\" class=\"dataframe\">\n",
       "  <thead>\n",
       "    <tr style=\"text-align: right;\">\n",
       "      <th></th>\n",
       "      <th>Race_[A]</th>\n",
       "      <th>Race_[B]</th>\n",
       "      <th>Race_[U]</th>\n",
       "      <th>Race_[W]</th>\n",
       "    </tr>\n",
       "    <tr>\n",
       "      <th>sample</th>\n",
       "      <th></th>\n",
       "      <th></th>\n",
       "      <th></th>\n",
       "      <th></th>\n",
       "    </tr>\n",
       "  </thead>\n",
       "  <tbody>\n",
       "    <tr>\n",
       "      <th>AMPSLEkid_cells_0137</th>\n",
       "      <td>0.0</td>\n",
       "      <td>1.0</td>\n",
       "      <td>0.0</td>\n",
       "      <td>0.0</td>\n",
       "    </tr>\n",
       "    <tr>\n",
       "      <th>AMPSLEkid_cells_0138</th>\n",
       "      <td>0.0</td>\n",
       "      <td>0.0</td>\n",
       "      <td>1.0</td>\n",
       "      <td>0.0</td>\n",
       "    </tr>\n",
       "    <tr>\n",
       "      <th>AMPSLEkid_cells_0139</th>\n",
       "      <td>0.0</td>\n",
       "      <td>1.0</td>\n",
       "      <td>0.0</td>\n",
       "      <td>0.0</td>\n",
       "    </tr>\n",
       "    <tr>\n",
       "      <th>AMPSLEkid_cells_0147</th>\n",
       "      <td>0.0</td>\n",
       "      <td>0.0</td>\n",
       "      <td>1.0</td>\n",
       "      <td>0.0</td>\n",
       "    </tr>\n",
       "    <tr>\n",
       "      <th>AMPSLEkid_cells_0366</th>\n",
       "      <td>0.0</td>\n",
       "      <td>0.0</td>\n",
       "      <td>0.0</td>\n",
       "      <td>1.0</td>\n",
       "    </tr>\n",
       "  </tbody>\n",
       "</table>\n",
       "</div>"
      ],
      "text/plain": [
       "                      Race_[A]  Race_[B]  Race_[U]  Race_[W]\n",
       "sample                                                      \n",
       "AMPSLEkid_cells_0137       0.0       1.0       0.0       0.0\n",
       "AMPSLEkid_cells_0138       0.0       0.0       1.0       0.0\n",
       "AMPSLEkid_cells_0139       0.0       1.0       0.0       0.0\n",
       "AMPSLEkid_cells_0147       0.0       0.0       1.0       0.0\n",
       "AMPSLEkid_cells_0366       0.0       0.0       0.0       1.0"
      ]
     },
     "execution_count": 67,
     "metadata": {},
     "output_type": "execute_result"
    }
   ],
   "source": [
    "# Start by making anndata object\n",
    "d = mad.MultiAnnData(X=harmony, obs=meta, sampleid=\"sample\")\n",
    "#d.obs_to_sample(['Type', 'Site',\n",
    "#                 'Responder_Status', 'Sex',\n",
    "#                 'Age', 'Race',\n",
    "#                'Ethnicity', 'ISN',\n",
    "#               'Activity', \"Chronicity\",\n",
    "#                 'processing_batch'])\n",
    "d.obs_to_sample(['Race_[A]', 'Race_[B]', \n",
    "                 'Race_[U]', 'Race_[W]'])\n",
    "d.samplem.head()"
   ]
  },
  {
   "cell_type": "code",
   "execution_count": 79,
   "id": "3bcdc584-02ef-4e22-ab8a-a93f80121a0f",
   "metadata": {},
   "outputs": [],
   "source": [
    "umap.index = d.obs.index\n",
    "d.obsm['X_umap'] = umap"
   ]
  },
  {
   "cell_type": "code",
   "execution_count": 83,
   "id": "9549bec8-cec3-4fad-bd26-1233f4c4d508",
   "metadata": {},
   "outputs": [
    {
     "name": "stdout",
     "output_type": "stream",
     "text": [
      "computing default knn graph\n"
     ]
    }
   ],
   "source": [
    "np.random.seed(0) \n",
    "cna.pp.knn(d)"
   ]
  },
  {
   "cell_type": "code",
   "execution_count": 87,
   "id": "2dcd99c6-66b6-4fca-b873-076a7c69f385",
   "metadata": {},
   "outputs": [
    {
     "name": "stdout",
     "output_type": "stream",
     "text": [
      "performing association test\n",
      "computing neighborhood-level FDRs\n",
      "17\n",
      "[1, 2, 3, 4, 5, 6, 7, 8, 9, 10, 11, 12, 13, 14, 15, 16, 17, 18, 19, 20]\n",
      "p = 0.0160983901609839 , 17 PCs used\n",
      "total r^2 between top 17 NAM PCs and outcome is 0.69\n"
     ]
    }
   ],
   "source": [
    "np.random.seed(0) \n",
    "res = cna.tl._association.association(d, #dataset \n",
    "                                      d.samplem['Race_[B]'], #phenotype\n",
    "#                                       batches=d.samplem.processing_batch, #batches\n",
    "                                      Nnull=10000, # number of null permutations to do (defaults to only 1e3)\n",
    "                                      ks=[1,2,3,4,5,6,7,8,9,10,11,12,13,14,15,16,17,18,19,20] # I asked the method to consider up to 10 PCs because\n",
    "                                                                #it chose the max number of PCs it considered the default set of [1,2,3,4]\n",
    "                                     )\n",
    "print(res.k)\n",
    "print(res.ks)\n",
    "print('p =', res.p, ',', res.k, 'PCs used')\n",
    "print('total r^2 between top {} NAM PCs and outcome is {:.2f}'.format(res.k, res.r2))"
   ]
  },
  {
   "cell_type": "code",
   "execution_count": 88,
   "id": "83adf8ee-c8d5-4aaf-b00c-a1e3ddf00723",
   "metadata": {},
   "outputs": [],
   "source": [
    "np.savetxt(\"/data/srlab/ssg34/SLE_kidney_v2/data/cna_new/PT/age_sex_response_race/sn_race_[B]_ncorr.csv\", \n",
    "               res.ncorrs, delimiter=\",\")\n",
    "np.savetxt(\"/data/srlab/ssg34/SLE_kidney_v2/data/cna_new/PT/age_sex_response_race/sn_race_[B]_fdrs.csv\", \n",
    "               res.fdrs, delimiter=\",\")"
   ]
  },
  {
   "cell_type": "code",
   "execution_count": 84,
   "id": "16107ae7-e03d-464d-a8b8-cc7e578075b2",
   "metadata": {},
   "outputs": [
    {
     "name": "stdout",
     "output_type": "stream",
     "text": [
      "qcd NAM not found; computing and saving\n",
      "\ttaking step 1\n",
      "\tmedian kurtosis: 13.259119033813477\n",
      "\t20th percentile R2(t,t-1): nan\n",
      "\ttaking step 2\n",
      "\tmedian kurtosis: 9.410001754760742\n",
      "\t20th percentile R2(t,t-1): 0.7799340009689331\n",
      "\ttaking step 3\n",
      "\tmedian kurtosis: 6.884187698364258\n",
      "\t20th percentile R2(t,t-1): 0.9179095029830933\n",
      "stopping after 3 steps\n",
      "covariate-adjusted NAM not found; computing and saving\n",
      "computing SVD\n",
      "performing association test\n"
     ]
    },
    {
     "name": "stderr",
     "output_type": "stream",
     "text": [
      "/PHShome/ssg34/.conda/envs/plswork/lib/python3.9/site-packages/cna/tools/_nam.py:79: UserWarning: only one unique batch supplied to qc\n",
      "  warnings.warn('only one unique batch supplied to qc')\n",
      "/PHShome/ssg34/.conda/envs/plswork/lib/python3.9/site-packages/cna/tools/_nam.py:101: UserWarning: only one unique batch supplied to prep\n",
      "  warnings.warn('only one unique batch supplied to prep')\n"
     ]
    },
    {
     "name": "stdout",
     "output_type": "stream",
     "text": [
      "computing neighborhood-level FDRs\n",
      "4\n",
      "[1, 2, 3, 4, 5, 6, 7, 8, 9, 10, 11, 12, 13, 14, 15, 16, 17, 18, 19, 20]\n",
      "p = 0.0165983401659834 , 4 PCs used\n",
      "total r^2 between top 4 NAM PCs and outcome is 0.43\n"
     ]
    }
   ],
   "source": [
    "np.random.seed(0) \n",
    "res = cna.tl._association.association(d, #dataset \n",
    "                                      d.samplem['Race_[W]'], #phenotype\n",
    "#                                       batches=d.samplem.processing_batch, #batches\n",
    "                                      Nnull=10000, # number of null permutations to do (defaults to only 1e3)\n",
    "                                      ks=[1,2,3,4,5,6,7,8,9,10,11,12,13,14,15,16,17,18,19,20] # I asked the method to consider up to 10 PCs because\n",
    "                                                                #it chose the max number of PCs it considered the default set of [1,2,3,4]\n",
    "                                     )\n",
    "print(res.k)\n",
    "print(res.ks)\n",
    "print('p =', res.p, ',', res.k, 'PCs used')\n",
    "print('total r^2 between top {} NAM PCs and outcome is {:.2f}'.format(res.k, res.r2))"
   ]
  },
  {
   "cell_type": "code",
   "execution_count": 86,
   "id": "803c0efa-8c86-417d-b75a-c3df29401f48",
   "metadata": {},
   "outputs": [],
   "source": [
    "np.savetxt(\"/data/srlab/ssg34/SLE_kidney_v2/data/cna_new/PT/age_sex_response_race/sn_race_[W]_ncorr.csv\", \n",
    "               res.ncorrs, delimiter=\",\")\n",
    "np.savetxt(\"/data/srlab/ssg34/SLE_kidney_v2/data/cna_new/PT/age_sex_response_race/sn_race_[W]_fdrs.csv\", \n",
    "               res.fdrs, delimiter=\",\")"
   ]
  },
  {
   "cell_type": "markdown",
   "id": "482ff962-d33e-496d-983d-0ed8f754a8cd",
   "metadata": {},
   "source": [
    "# SITE"
   ]
  },
  {
   "cell_type": "markdown",
   "id": "164e444a-fefc-4e2b-86d3-6000ca6fe3c3",
   "metadata": {},
   "source": [
    "## Single Cell"
   ]
  },
  {
   "cell_type": "code",
   "execution_count": 39,
   "id": "1b9463d2-134e-4cf8-ac19-33a7986e7706",
   "metadata": {},
   "outputs": [
    {
     "name": "stdout",
     "output_type": "stream",
     "text": [
      "(154032, 39)\n"
     ]
    }
   ],
   "source": [
    "meta = pd.read_csv('/data/srlab/ssg34/SLE_kidney_v2/data/cna_new/PT/first_biop_pred_use_site/sc_meta_site.csv')\n",
    "print(meta.shape)"
   ]
  },
  {
   "cell_type": "code",
   "execution_count": 40,
   "id": "aca561fc-bf45-4169-ab87-79fee538dd21",
   "metadata": {},
   "outputs": [
    {
     "name": "stdout",
     "output_type": "stream",
     "text": [
      "(154032, 20)\n"
     ]
    }
   ],
   "source": [
    "harmony = pd.read_csv('/data/srlab/ssg34/SLE_kidney_v2/data/cna_new/PT/first_biop_pred_use_site/sc_harmony_site.csv')\n",
    "print(harmony.shape)"
   ]
  },
  {
   "cell_type": "code",
   "execution_count": 41,
   "id": "d70d7420-7b93-4332-9eb7-9596e27322f6",
   "metadata": {},
   "outputs": [
    {
     "name": "stdout",
     "output_type": "stream",
     "text": [
      "(154032, 2)\n"
     ]
    }
   ],
   "source": [
    "umap = pd.read_csv('/data/srlab/ssg34/SLE_kidney_v2/data/cna_new/PT/first_biop_pred_use_site/sc_umap_site.csv')\n",
    "print(umap.shape)"
   ]
  },
  {
   "cell_type": "code",
   "execution_count": 42,
   "id": "90a8a3b8-1bc0-4eab-836f-bf04cf0b053e",
   "metadata": {},
   "outputs": [
    {
     "name": "stderr",
     "output_type": "stream",
     "text": [
      "/PHShome/ssg34/.conda/envs/plswork/lib/python3.9/site-packages/multianndata/core.py:17: FutureWarning: X.dtype being converted to np.float32 from float64. In the next version of anndata (0.9) conversion will not be automatic. Pass dtype explicitly to avoid this warning. Pass `AnnData(X, dtype=X.dtype, ...)` to get the future behavour.\n",
      "  super().__init__(*args, **kwargs)\n",
      "/PHShome/ssg34/.conda/envs/plswork/lib/python3.9/site-packages/anndata/_core/anndata.py:121: ImplicitModificationWarning: Transforming to str index.\n",
      "  warnings.warn(\"Transforming to str index.\", ImplicitModificationWarning)\n"
     ]
    },
    {
     "name": "stdout",
     "output_type": "stream",
     "text": [
      "warning: the following columns of obs are non-numeric.\n",
      "['cell' 'sample' 'cluster_names' 'Responder.Status' 'Race' 'Final_ISN'\n",
      " 'Type' 'Final_Site']\n",
      "consider casting to numeric types where appropriate, and\n",
      "consider re-coding text-valued columns with pandas.get_dummies\n"
     ]
    },
    {
     "data": {
      "text/html": [
       "<div>\n",
       "<style scoped>\n",
       "    .dataframe tbody tr th:only-of-type {\n",
       "        vertical-align: middle;\n",
       "    }\n",
       "\n",
       "    .dataframe tbody tr th {\n",
       "        vertical-align: top;\n",
       "    }\n",
       "\n",
       "    .dataframe thead th {\n",
       "        text-align: right;\n",
       "    }\n",
       "</style>\n",
       "<table border=\"1\" class=\"dataframe\">\n",
       "  <thead>\n",
       "    <tr style=\"text-align: right;\">\n",
       "      <th></th>\n",
       "      <th>Sex</th>\n",
       "      <th>Age</th>\n",
       "      <th>Final_Chronicity</th>\n",
       "      <th>Final_Activity</th>\n",
       "      <th>First_biop</th>\n",
       "      <th>Pred_use</th>\n",
       "      <th>Responder_Status</th>\n",
       "      <th>Race_[A]</th>\n",
       "      <th>Race_[A][B]</th>\n",
       "      <th>Race_[B]</th>\n",
       "      <th>...</th>\n",
       "      <th>Final_Site_JHU</th>\n",
       "      <th>Final_Site_Michigan</th>\n",
       "      <th>Final_Site_MUSC</th>\n",
       "      <th>Final_Site_Northwell</th>\n",
       "      <th>Final_Site_NYU</th>\n",
       "      <th>Final_Site_Rochester</th>\n",
       "      <th>Final_Site_Texas Tech</th>\n",
       "      <th>Final_Site_UCLA</th>\n",
       "      <th>Final_Site_UCSD</th>\n",
       "      <th>Final_Site_UCSF</th>\n",
       "    </tr>\n",
       "    <tr>\n",
       "      <th>sample</th>\n",
       "      <th></th>\n",
       "      <th></th>\n",
       "      <th></th>\n",
       "      <th></th>\n",
       "      <th></th>\n",
       "      <th></th>\n",
       "      <th></th>\n",
       "      <th></th>\n",
       "      <th></th>\n",
       "      <th></th>\n",
       "      <th></th>\n",
       "      <th></th>\n",
       "      <th></th>\n",
       "      <th></th>\n",
       "      <th></th>\n",
       "      <th></th>\n",
       "      <th></th>\n",
       "      <th></th>\n",
       "      <th></th>\n",
       "      <th></th>\n",
       "      <th></th>\n",
       "    </tr>\n",
       "  </thead>\n",
       "  <tbody>\n",
       "    <tr>\n",
       "      <th>AMPSLEkid_cells_0142</th>\n",
       "      <td>1.0</td>\n",
       "      <td>1.489979</td>\n",
       "      <td>4.0</td>\n",
       "      <td>16.0</td>\n",
       "      <td>0.0</td>\n",
       "      <td>1.0</td>\n",
       "      <td>0.0</td>\n",
       "      <td>0.0</td>\n",
       "      <td>0.0</td>\n",
       "      <td>1.0</td>\n",
       "      <td>...</td>\n",
       "      <td>0.0</td>\n",
       "      <td>0.0</td>\n",
       "      <td>0.0</td>\n",
       "      <td>0.0</td>\n",
       "      <td>0.0</td>\n",
       "      <td>1.0</td>\n",
       "      <td>0.0</td>\n",
       "      <td>0.0</td>\n",
       "      <td>0.0</td>\n",
       "      <td>0.0</td>\n",
       "    </tr>\n",
       "    <tr>\n",
       "      <th>AMPSLEkid_cells_0366</th>\n",
       "      <td>2.0</td>\n",
       "      <td>-1.068691</td>\n",
       "      <td>7.0</td>\n",
       "      <td>2.0</td>\n",
       "      <td>0.0</td>\n",
       "      <td>1.0</td>\n",
       "      <td>0.0</td>\n",
       "      <td>0.0</td>\n",
       "      <td>0.0</td>\n",
       "      <td>0.0</td>\n",
       "      <td>...</td>\n",
       "      <td>0.0</td>\n",
       "      <td>0.0</td>\n",
       "      <td>0.0</td>\n",
       "      <td>0.0</td>\n",
       "      <td>0.0</td>\n",
       "      <td>0.0</td>\n",
       "      <td>0.0</td>\n",
       "      <td>0.0</td>\n",
       "      <td>0.0</td>\n",
       "      <td>1.0</td>\n",
       "    </tr>\n",
       "    <tr>\n",
       "      <th>AMPSLEkid_cells_0966</th>\n",
       "      <td>1.0</td>\n",
       "      <td>-0.794548</td>\n",
       "      <td>5.0</td>\n",
       "      <td>4.0</td>\n",
       "      <td>1.0</td>\n",
       "      <td>1.0</td>\n",
       "      <td>0.0</td>\n",
       "      <td>0.0</td>\n",
       "      <td>0.0</td>\n",
       "      <td>0.0</td>\n",
       "      <td>...</td>\n",
       "      <td>0.0</td>\n",
       "      <td>0.0</td>\n",
       "      <td>0.0</td>\n",
       "      <td>0.0</td>\n",
       "      <td>0.0</td>\n",
       "      <td>0.0</td>\n",
       "      <td>1.0</td>\n",
       "      <td>0.0</td>\n",
       "      <td>0.0</td>\n",
       "      <td>0.0</td>\n",
       "    </tr>\n",
       "    <tr>\n",
       "      <th>AMPSLEkid_cells_2748</th>\n",
       "      <td>1.0</td>\n",
       "      <td>-1.068691</td>\n",
       "      <td>8.0</td>\n",
       "      <td>1.0</td>\n",
       "      <td>0.0</td>\n",
       "      <td>0.0</td>\n",
       "      <td>0.0</td>\n",
       "      <td>0.0</td>\n",
       "      <td>0.0</td>\n",
       "      <td>1.0</td>\n",
       "      <td>...</td>\n",
       "      <td>1.0</td>\n",
       "      <td>0.0</td>\n",
       "      <td>0.0</td>\n",
       "      <td>0.0</td>\n",
       "      <td>0.0</td>\n",
       "      <td>0.0</td>\n",
       "      <td>0.0</td>\n",
       "      <td>0.0</td>\n",
       "      <td>0.0</td>\n",
       "      <td>0.0</td>\n",
       "    </tr>\n",
       "    <tr>\n",
       "      <th>AMPSLEkid_cells_0138</th>\n",
       "      <td>1.0</td>\n",
       "      <td>0.576169</td>\n",
       "      <td>0.0</td>\n",
       "      <td>0.0</td>\n",
       "      <td>1.0</td>\n",
       "      <td>1.0</td>\n",
       "      <td>2.0</td>\n",
       "      <td>0.0</td>\n",
       "      <td>0.0</td>\n",
       "      <td>0.0</td>\n",
       "      <td>...</td>\n",
       "      <td>0.0</td>\n",
       "      <td>0.0</td>\n",
       "      <td>0.0</td>\n",
       "      <td>0.0</td>\n",
       "      <td>0.0</td>\n",
       "      <td>1.0</td>\n",
       "      <td>0.0</td>\n",
       "      <td>0.0</td>\n",
       "      <td>0.0</td>\n",
       "      <td>0.0</td>\n",
       "    </tr>\n",
       "  </tbody>\n",
       "</table>\n",
       "<p>5 rows × 31 columns</p>\n",
       "</div>"
      ],
      "text/plain": [
       "                      Sex       Age  Final_Chronicity  Final_Activity  \\\n",
       "sample                                                                  \n",
       "AMPSLEkid_cells_0142  1.0  1.489979               4.0            16.0   \n",
       "AMPSLEkid_cells_0366  2.0 -1.068691               7.0             2.0   \n",
       "AMPSLEkid_cells_0966  1.0 -0.794548               5.0             4.0   \n",
       "AMPSLEkid_cells_2748  1.0 -1.068691               8.0             1.0   \n",
       "AMPSLEkid_cells_0138  1.0  0.576169               0.0             0.0   \n",
       "\n",
       "                      First_biop  Pred_use  Responder_Status  Race_[A]  \\\n",
       "sample                                                                   \n",
       "AMPSLEkid_cells_0142         0.0       1.0               0.0       0.0   \n",
       "AMPSLEkid_cells_0366         0.0       1.0               0.0       0.0   \n",
       "AMPSLEkid_cells_0966         1.0       1.0               0.0       0.0   \n",
       "AMPSLEkid_cells_2748         0.0       0.0               0.0       0.0   \n",
       "AMPSLEkid_cells_0138         1.0       1.0               2.0       0.0   \n",
       "\n",
       "                      Race_[A][B]  Race_[B]  ...  Final_Site_JHU  \\\n",
       "sample                                       ...                   \n",
       "AMPSLEkid_cells_0142          0.0       1.0  ...             0.0   \n",
       "AMPSLEkid_cells_0366          0.0       0.0  ...             0.0   \n",
       "AMPSLEkid_cells_0966          0.0       0.0  ...             0.0   \n",
       "AMPSLEkid_cells_2748          0.0       1.0  ...             1.0   \n",
       "AMPSLEkid_cells_0138          0.0       0.0  ...             0.0   \n",
       "\n",
       "                      Final_Site_Michigan  Final_Site_MUSC  \\\n",
       "sample                                                       \n",
       "AMPSLEkid_cells_0142                  0.0              0.0   \n",
       "AMPSLEkid_cells_0366                  0.0              0.0   \n",
       "AMPSLEkid_cells_0966                  0.0              0.0   \n",
       "AMPSLEkid_cells_2748                  0.0              0.0   \n",
       "AMPSLEkid_cells_0138                  0.0              0.0   \n",
       "\n",
       "                      Final_Site_Northwell  Final_Site_NYU  \\\n",
       "sample                                                       \n",
       "AMPSLEkid_cells_0142                   0.0             0.0   \n",
       "AMPSLEkid_cells_0366                   0.0             0.0   \n",
       "AMPSLEkid_cells_0966                   0.0             0.0   \n",
       "AMPSLEkid_cells_2748                   0.0             0.0   \n",
       "AMPSLEkid_cells_0138                   0.0             0.0   \n",
       "\n",
       "                      Final_Site_Rochester  Final_Site_Texas Tech  \\\n",
       "sample                                                              \n",
       "AMPSLEkid_cells_0142                   1.0                    0.0   \n",
       "AMPSLEkid_cells_0366                   0.0                    0.0   \n",
       "AMPSLEkid_cells_0966                   0.0                    1.0   \n",
       "AMPSLEkid_cells_2748                   0.0                    0.0   \n",
       "AMPSLEkid_cells_0138                   1.0                    0.0   \n",
       "\n",
       "                      Final_Site_UCLA  Final_Site_UCSD  Final_Site_UCSF  \n",
       "sample                                                                   \n",
       "AMPSLEkid_cells_0142              0.0              0.0              0.0  \n",
       "AMPSLEkid_cells_0366              0.0              0.0              1.0  \n",
       "AMPSLEkid_cells_0966              0.0              0.0              0.0  \n",
       "AMPSLEkid_cells_2748              0.0              0.0              0.0  \n",
       "AMPSLEkid_cells_0138              0.0              0.0              0.0  \n",
       "\n",
       "[5 rows x 31 columns]"
      ]
     },
     "execution_count": 42,
     "metadata": {},
     "output_type": "execute_result"
    }
   ],
   "source": [
    "# Start by making anndata object\n",
    "d = mad.MultiAnnData(X=harmony, obs=meta, sampleid=\"sample\")\n",
    "#d.obs_to_sample(['Type', 'Site',\n",
    "#                 'Responder_Status', 'Sex',\n",
    "#                 'Age', 'Race',\n",
    "#                'Ethnicity', 'ISN',\n",
    "#               'Activity', \"Chronicity\",\n",
    "#                 'processing_batch'])\n",
    "d.obs_to_sample(['Sex', 'Age', 'Final_Chronicity', 'Final_Activity', 'First_biop', 'Pred_use', 'Responder_Status', 'Race_[A]',\n",
    "       'Race_[A][B]', 'Race_[B]', 'Race_[B][AI]', 'Race_[B][W]', 'Race_[U]',\n",
    "       'Race_[W]', 'Final_ISN_[III]', 'Final_ISN_[III][V]', 'Final_ISN_[IV]',\n",
    "       'Final_ISN_[IV][V]', 'Final_ISN_[V]', 'Final_Site_Cincinnati',\n",
    "       'Final_Site_Einstein', 'Final_Site_JHU', 'Final_Site_Michigan',\n",
    "       'Final_Site_MUSC', 'Final_Site_Northwell', 'Final_Site_NYU',\n",
    "       'Final_Site_Rochester', 'Final_Site_Texas Tech', 'Final_Site_UCLA',\n",
    "       'Final_Site_UCSD', 'Final_Site_UCSF'])\n",
    "d.samplem.head()"
   ]
  },
  {
   "cell_type": "code",
   "execution_count": 43,
   "id": "60fa5c7c-174b-44df-8277-aecd96e6015b",
   "metadata": {},
   "outputs": [],
   "source": [
    "umap.index = d.obs.index\n",
    "d.obsm['X_umap'] = umap"
   ]
  },
  {
   "cell_type": "code",
   "execution_count": null,
   "id": "67501a84-a24a-4fa1-8a75-0e15b4a9f774",
   "metadata": {},
   "outputs": [
    {
     "name": "stdout",
     "output_type": "stream",
     "text": [
      "computing default knn graph\n"
     ]
    }
   ],
   "source": [
    "np.random.seed(0) \n",
    "cna.pp.knn(d)"
   ]
  },
  {
   "cell_type": "markdown",
   "id": "0ac2caf7-ea8d-4bd3-b253-eeb800e6a8d1",
   "metadata": {},
   "source": [
    "# CHRONICITY"
   ]
  },
  {
   "cell_type": "markdown",
   "id": "34fb77c0-427a-41cc-b3f3-d7de9098bc41",
   "metadata": {},
   "source": [
    "## Single Cell"
   ]
  },
  {
   "cell_type": "code",
   "execution_count": 99,
   "id": "ebfd6134-49b9-4868-b2d1-2e42231bd1c8",
   "metadata": {},
   "outputs": [
    {
     "name": "stdout",
     "output_type": "stream",
     "text": [
      "(140034, 11)\n"
     ]
    }
   ],
   "source": [
    "meta = pd.read_csv('/data/srlab/ssg34/SLE_kidney_v2/data/cna_new/PT/chronicity/sc_meta.csv')\n",
    "print(meta.shape)"
   ]
  },
  {
   "cell_type": "code",
   "execution_count": 100,
   "id": "754eafbb-486e-4ba7-a15c-c17a75fda2a5",
   "metadata": {},
   "outputs": [
    {
     "name": "stdout",
     "output_type": "stream",
     "text": [
      "(140034, 20)\n"
     ]
    }
   ],
   "source": [
    "harmony = pd.read_csv('/data/srlab/ssg34/SLE_kidney_v2/data/cna_new/PT/chronicity/sc_harmony.csv')\n",
    "print(harmony.shape)"
   ]
  },
  {
   "cell_type": "code",
   "execution_count": 101,
   "id": "2f477972-0b78-499a-8291-bc40ae61f4ef",
   "metadata": {},
   "outputs": [
    {
     "name": "stdout",
     "output_type": "stream",
     "text": [
      "(140034, 2)\n"
     ]
    }
   ],
   "source": [
    "umap = pd.read_csv('/data/srlab/ssg34/SLE_kidney_v2/data/cna_new/PT/chronicity/sc_umap.csv')\n",
    "print(umap.shape)"
   ]
  },
  {
   "cell_type": "code",
   "execution_count": 102,
   "id": "1daf5f27-c653-43fe-b66f-2d5aa45acfbd",
   "metadata": {},
   "outputs": [
    {
     "name": "stderr",
     "output_type": "stream",
     "text": [
      "/PHShome/ssg34/.conda/envs/plswork/lib/python3.9/site-packages/multianndata/core.py:17: FutureWarning: X.dtype being converted to np.float32 from float64. In the next version of anndata (0.9) conversion will not be automatic. Pass dtype explicitly to avoid this warning. Pass `AnnData(X, dtype=X.dtype, ...)` to get the future behavour.\n",
      "  super().__init__(*args, **kwargs)\n",
      "/PHShome/ssg34/.conda/envs/plswork/lib/python3.9/site-packages/anndata/_core/anndata.py:121: ImplicitModificationWarning: Transforming to str index.\n",
      "  warnings.warn(\"Transforming to str index.\", ImplicitModificationWarning)\n"
     ]
    },
    {
     "name": "stdout",
     "output_type": "stream",
     "text": [
      "warning: the following columns of obs are non-numeric.\n",
      "['cell' 'Sex' 'sample' 'cluster_names' 'Responder.Status' 'Race'\n",
      " 'Final_ISN' 'Type']\n",
      "consider casting to numeric types where appropriate, and\n",
      "consider re-coding text-valued columns with pandas.get_dummies\n"
     ]
    },
    {
     "data": {
      "text/html": [
       "<div>\n",
       "<style scoped>\n",
       "    .dataframe tbody tr th:only-of-type {\n",
       "        vertical-align: middle;\n",
       "    }\n",
       "\n",
       "    .dataframe tbody tr th {\n",
       "        vertical-align: top;\n",
       "    }\n",
       "\n",
       "    .dataframe thead th {\n",
       "        text-align: right;\n",
       "    }\n",
       "</style>\n",
       "<table border=\"1\" class=\"dataframe\">\n",
       "  <thead>\n",
       "    <tr style=\"text-align: right;\">\n",
       "      <th></th>\n",
       "      <th>Final_Chronicity</th>\n",
       "      <th>Final_Activity</th>\n",
       "    </tr>\n",
       "    <tr>\n",
       "      <th>sample</th>\n",
       "      <th></th>\n",
       "      <th></th>\n",
       "    </tr>\n",
       "  </thead>\n",
       "  <tbody>\n",
       "    <tr>\n",
       "      <th>AMPSLEkid_cells_0142</th>\n",
       "      <td>4.0</td>\n",
       "      <td>16.0</td>\n",
       "    </tr>\n",
       "    <tr>\n",
       "      <th>AMPSLEkid_cells_0366</th>\n",
       "      <td>7.0</td>\n",
       "      <td>2.0</td>\n",
       "    </tr>\n",
       "    <tr>\n",
       "      <th>AMPSLEkid_cells_0966</th>\n",
       "      <td>5.0</td>\n",
       "      <td>4.0</td>\n",
       "    </tr>\n",
       "    <tr>\n",
       "      <th>AMPSLEkid_cells_2748</th>\n",
       "      <td>8.0</td>\n",
       "      <td>1.0</td>\n",
       "    </tr>\n",
       "    <tr>\n",
       "      <th>AMPSLEkid_cells_0138</th>\n",
       "      <td>0.0</td>\n",
       "      <td>0.0</td>\n",
       "    </tr>\n",
       "  </tbody>\n",
       "</table>\n",
       "</div>"
      ],
      "text/plain": [
       "                      Final_Chronicity  Final_Activity\n",
       "sample                                                \n",
       "AMPSLEkid_cells_0142               4.0            16.0\n",
       "AMPSLEkid_cells_0366               7.0             2.0\n",
       "AMPSLEkid_cells_0966               5.0             4.0\n",
       "AMPSLEkid_cells_2748               8.0             1.0\n",
       "AMPSLEkid_cells_0138               0.0             0.0"
      ]
     },
     "execution_count": 102,
     "metadata": {},
     "output_type": "execute_result"
    }
   ],
   "source": [
    "# Start by making anndata object\n",
    "d = mad.MultiAnnData(X=harmony, obs=meta, sampleid=\"sample\")\n",
    "#d.obs_to_sample(['Type', 'Site',\n",
    "#                 'Responder_Status', 'Sex',\n",
    "#                 'Age', 'Race',\n",
    "#                'Ethnicity', 'ISN',\n",
    "#               'Activity', \"Chronicity\",\n",
    "#                 'processing_batch'])\n",
    "d.obs_to_sample(['Final_Chronicity', 'Final_Activity'])\n",
    "d.samplem.head()"
   ]
  },
  {
   "cell_type": "code",
   "execution_count": 103,
   "id": "c99b3799-55ca-4c88-9551-f6d0e8a35dbc",
   "metadata": {},
   "outputs": [],
   "source": [
    "umap.index = d.obs.index\n",
    "d.obsm['X_umap'] = umap"
   ]
  },
  {
   "cell_type": "code",
   "execution_count": 104,
   "id": "7459fe44-deec-476e-8615-f99c7d9ebeaf",
   "metadata": {},
   "outputs": [
    {
     "name": "stdout",
     "output_type": "stream",
     "text": [
      "computing default knn graph\n"
     ]
    }
   ],
   "source": [
    "np.random.seed(0) \n",
    "cna.pp.knn(d)"
   ]
  },
  {
   "cell_type": "code",
   "execution_count": 105,
   "id": "7893e2bd-bd57-44d0-85af-560687fc17a9",
   "metadata": {},
   "outputs": [
    {
     "name": "stdout",
     "output_type": "stream",
     "text": [
      "qcd NAM not found; computing and saving\n",
      "\ttaking step 1\n",
      "\tmedian kurtosis: 46.349185943603516\n",
      "\t20th percentile R2(t,t-1): nan\n",
      "\ttaking step 2\n",
      "\tmedian kurtosis: 30.39740753173828\n",
      "\t20th percentile R2(t,t-1): 0.7639257311820984\n",
      "\ttaking step 3\n",
      "\tmedian kurtosis: 20.410869598388672\n",
      "\t20th percentile R2(t,t-1): 0.908935010433197\n",
      "\ttaking step 4\n",
      "\tmedian kurtosis: 13.953994750976562\n",
      "\t20th percentile R2(t,t-1): 0.9450386166572571\n",
      "\ttaking step 5\n",
      "\tmedian kurtosis: 9.980635643005371\n",
      "\t20th percentile R2(t,t-1): 0.963342547416687\n",
      "\ttaking step 6\n",
      "\tmedian kurtosis: 7.617109298706055\n",
      "\t20th percentile R2(t,t-1): 0.9739270806312561\n",
      "stopping after 6 steps\n",
      "covariate-adjusted NAM not found; computing and saving\n"
     ]
    },
    {
     "name": "stderr",
     "output_type": "stream",
     "text": [
      "/PHShome/ssg34/.conda/envs/plswork/lib/python3.9/site-packages/cna/tools/_nam.py:79: UserWarning: only one unique batch supplied to qc\n",
      "  warnings.warn('only one unique batch supplied to qc')\n",
      "/PHShome/ssg34/.conda/envs/plswork/lib/python3.9/site-packages/cna/tools/_nam.py:101: UserWarning: only one unique batch supplied to prep\n",
      "  warnings.warn('only one unique batch supplied to prep')\n"
     ]
    },
    {
     "name": "stdout",
     "output_type": "stream",
     "text": [
      "computing SVD\n",
      "performing association test\n"
     ]
    },
    {
     "name": "stderr",
     "output_type": "stream",
     "text": [
      "/PHShome/ssg34/.conda/envs/plswork/lib/python3.9/site-packages/cna/tools/_association.py:57: UserWarning: data supported use of 20 NAM PCs, which is the maximum considered. Consider allowing more PCs by using the \"ks\" argument.\n",
      "  warnings.warn(('data supported use of {} NAM PCs, which is the maximum considered. '+\\\n",
      "/PHShome/ssg34/.conda/envs/plswork/lib/python3.9/site-packages/cna/tools/_association.py:74: UserWarning: global association p-value attained minimal possible value. Consider increasing Nnull\n",
      "  warnings.warn('global association p-value attained minimal possible value. '+\\\n"
     ]
    },
    {
     "name": "stdout",
     "output_type": "stream",
     "text": [
      "computing neighborhood-level FDRs\n",
      "20\n",
      "[1, 2, 3, 4, 5, 6, 7, 8, 9, 10, 11, 12, 13, 14, 15, 16, 17, 18, 19, 20]\n",
      "p = 9.999000099990002e-05 , 20 PCs used\n",
      "total r^2 between top 20 NAM PCs and outcome is 0.55\n"
     ]
    }
   ],
   "source": [
    "np.random.seed(0) \n",
    "res = cna.tl._association.association(d, #dataset \n",
    "                                      d.samplem.Final_Chronicity, #phenotype\n",
    "#                                       batches=d.samplem.processing_batch, #batches\n",
    "                                      Nnull=10000, # number of null permutations to do (defaults to only 1e3)\n",
    "                                      ks=[1,2,3,4,5,6,7,8,9,10,11,12,13,14,15,16,17,18,19,20] # I asked the method to consider up to 10 PCs because\n",
    "                                                                #it chose the max number of PCs it considered the default set of [1,2,3,4]\n",
    "                                     )\n",
    "print(res.k)\n",
    "print(res.ks)\n",
    "print('p =', res.p, ',', res.k, 'PCs used')\n",
    "print('total r^2 between top {} NAM PCs and outcome is {:.2f}'.format(res.k, res.r2))"
   ]
  },
  {
   "cell_type": "code",
   "execution_count": 106,
   "id": "3e300996-59f4-4af0-af53-20778d7b690d",
   "metadata": {},
   "outputs": [
    {
     "name": "stdout",
     "output_type": "stream",
     "text": [
      "covariate-adjusted NAM not found; computing and saving\n"
     ]
    },
    {
     "name": "stderr",
     "output_type": "stream",
     "text": [
      "/PHShome/ssg34/.conda/envs/plswork/lib/python3.9/site-packages/cna/tools/_nam.py:101: UserWarning: only one unique batch supplied to prep\n",
      "  warnings.warn('only one unique batch supplied to prep')\n"
     ]
    },
    {
     "name": "stdout",
     "output_type": "stream",
     "text": [
      "computing SVD\n",
      "performing association test\n"
     ]
    },
    {
     "name": "stderr",
     "output_type": "stream",
     "text": [
      "/PHShome/ssg34/.conda/envs/plswork/lib/python3.9/site-packages/cna/tools/_association.py:74: UserWarning: global association p-value attained minimal possible value. Consider increasing Nnull\n",
      "  warnings.warn('global association p-value attained minimal possible value. '+\\\n"
     ]
    },
    {
     "name": "stdout",
     "output_type": "stream",
     "text": [
      "computing neighborhood-level FDRs\n",
      "19\n",
      "[1, 2, 3, 4, 5, 6, 7, 8, 9, 10, 11, 12, 13, 14, 15, 16, 17, 18, 19, 20]\n",
      "p = 9.999000099990002e-05 , 19 PCs used\n",
      "total r^2 between top 19 NAM PCs and outcome is 0.54\n"
     ]
    }
   ],
   "source": [
    "np.random.seed(0) \n",
    "res = cna.tl._association.association(d, #dataset \n",
    "                                      d.samplem.Final_Chronicity, #phenotype\n",
    "#                                       batches=d.samplem.processing_batch, #batches\n",
    "                                      covs = d.samplem[['Final_Activity']], \n",
    "                                      Nnull=10000, # number of null permutations to do (defaults to only 1e3)\n",
    "                                      ks=[1,2,3,4,5,6,7,8,9,10,11,12,13,14,15,16,17,18,19,20] # I asked the method to consider up to 10 PCs because\n",
    "                                                                #it chose the max number of PCs it considered the default set of [1,2,3,4]\n",
    "                                     )\n",
    "print(res.k)\n",
    "print(res.ks)\n",
    "print('p =', res.p, ',', res.k, 'PCs used')\n",
    "print('total r^2 between top {} NAM PCs and outcome is {:.2f}'.format(res.k, res.r2))"
   ]
  },
  {
   "cell_type": "code",
   "execution_count": 107,
   "id": "ef2a077a-7599-4b41-bf3a-b9c810a58f63",
   "metadata": {},
   "outputs": [],
   "source": [
    "np.savetxt(\"/data/srlab/ssg34/SLE_kidney_v2/data/cna_new/PT/chronicity/sc_activity_cond_ncorr.csv\", \n",
    "               res.ncorrs, delimiter=\",\")\n",
    "np.savetxt(\"/data/srlab/ssg34/SLE_kidney_v2/data/cna_new/PT/chronicity/sc_activity_cond_fdrs.csv\", \n",
    "               res.fdrs, delimiter=\",\")"
   ]
  },
  {
   "cell_type": "markdown",
   "id": "2b610bf3-f890-404e-9cc7-7129b9f08e59",
   "metadata": {},
   "source": [
    "## Single Nuclear"
   ]
  },
  {
   "cell_type": "code",
   "execution_count": 108,
   "id": "88607ab5-b64c-4c3a-ba38-179e0940b56f",
   "metadata": {},
   "outputs": [
    {
     "name": "stdout",
     "output_type": "stream",
     "text": [
      "(40416, 11)\n"
     ]
    }
   ],
   "source": [
    "meta = pd.read_csv('/data/srlab/ssg34/SLE_kidney_v2/data/cna_new/PT/chronicity/sn_meta.csv')\n",
    "print(meta.shape)"
   ]
  },
  {
   "cell_type": "code",
   "execution_count": 109,
   "id": "897f752f-88f5-4ca6-9f52-e715027e5979",
   "metadata": {},
   "outputs": [
    {
     "name": "stdout",
     "output_type": "stream",
     "text": [
      "(40416, 20)\n"
     ]
    }
   ],
   "source": [
    "harmony = pd.read_csv('/data/srlab/ssg34/SLE_kidney_v2/data/cna_new/PT/chronicity/sn_harmony.csv')\n",
    "print(harmony.shape)"
   ]
  },
  {
   "cell_type": "code",
   "execution_count": 110,
   "id": "31d94193-a2e9-4b92-acbd-fb826628d27d",
   "metadata": {},
   "outputs": [
    {
     "name": "stdout",
     "output_type": "stream",
     "text": [
      "(40416, 2)\n"
     ]
    }
   ],
   "source": [
    "umap = pd.read_csv('/data/srlab/ssg34/SLE_kidney_v2/data/cna_new/PT/chronicity/sn_umap.csv')\n",
    "print(umap.shape)"
   ]
  },
  {
   "cell_type": "code",
   "execution_count": 111,
   "id": "edadb3ff-649b-47f1-9aed-f2531be9ae7e",
   "metadata": {},
   "outputs": [
    {
     "name": "stdout",
     "output_type": "stream",
     "text": [
      "warning: the following columns of obs are non-numeric.\n",
      "['cell' 'Sex' 'sample' 'cluster_names' 'Responder.Status' 'Race'\n",
      " 'Final_ISN' 'Type']\n",
      "consider casting to numeric types where appropriate, and\n",
      "consider re-coding text-valued columns with pandas.get_dummies\n"
     ]
    },
    {
     "name": "stderr",
     "output_type": "stream",
     "text": [
      "/PHShome/ssg34/.conda/envs/plswork/lib/python3.9/site-packages/multianndata/core.py:17: FutureWarning: X.dtype being converted to np.float32 from float64. In the next version of anndata (0.9) conversion will not be automatic. Pass dtype explicitly to avoid this warning. Pass `AnnData(X, dtype=X.dtype, ...)` to get the future behavour.\n",
      "  super().__init__(*args, **kwargs)\n",
      "/PHShome/ssg34/.conda/envs/plswork/lib/python3.9/site-packages/anndata/_core/anndata.py:121: ImplicitModificationWarning: Transforming to str index.\n",
      "  warnings.warn(\"Transforming to str index.\", ImplicitModificationWarning)\n"
     ]
    },
    {
     "data": {
      "text/html": [
       "<div>\n",
       "<style scoped>\n",
       "    .dataframe tbody tr th:only-of-type {\n",
       "        vertical-align: middle;\n",
       "    }\n",
       "\n",
       "    .dataframe tbody tr th {\n",
       "        vertical-align: top;\n",
       "    }\n",
       "\n",
       "    .dataframe thead th {\n",
       "        text-align: right;\n",
       "    }\n",
       "</style>\n",
       "<table border=\"1\" class=\"dataframe\">\n",
       "  <thead>\n",
       "    <tr style=\"text-align: right;\">\n",
       "      <th></th>\n",
       "      <th>Final_Chronicity</th>\n",
       "      <th>Final_Activity</th>\n",
       "    </tr>\n",
       "    <tr>\n",
       "      <th>sample</th>\n",
       "      <th></th>\n",
       "      <th></th>\n",
       "    </tr>\n",
       "  </thead>\n",
       "  <tbody>\n",
       "    <tr>\n",
       "      <th>AMPSLEkid_cells_0137</th>\n",
       "      <td>3.0</td>\n",
       "      <td>5.0</td>\n",
       "    </tr>\n",
       "    <tr>\n",
       "      <th>AMPSLEkid_cells_0138</th>\n",
       "      <td>0.0</td>\n",
       "      <td>0.0</td>\n",
       "    </tr>\n",
       "    <tr>\n",
       "      <th>AMPSLEkid_cells_0139</th>\n",
       "      <td>3.0</td>\n",
       "      <td>2.0</td>\n",
       "    </tr>\n",
       "    <tr>\n",
       "      <th>AMPSLEkid_cells_0147</th>\n",
       "      <td>9.0</td>\n",
       "      <td>1.0</td>\n",
       "    </tr>\n",
       "    <tr>\n",
       "      <th>AMPSLEkid_cells_0366</th>\n",
       "      <td>7.0</td>\n",
       "      <td>2.0</td>\n",
       "    </tr>\n",
       "  </tbody>\n",
       "</table>\n",
       "</div>"
      ],
      "text/plain": [
       "                      Final_Chronicity  Final_Activity\n",
       "sample                                                \n",
       "AMPSLEkid_cells_0137               3.0             5.0\n",
       "AMPSLEkid_cells_0138               0.0             0.0\n",
       "AMPSLEkid_cells_0139               3.0             2.0\n",
       "AMPSLEkid_cells_0147               9.0             1.0\n",
       "AMPSLEkid_cells_0366               7.0             2.0"
      ]
     },
     "execution_count": 111,
     "metadata": {},
     "output_type": "execute_result"
    }
   ],
   "source": [
    "# Start by making anndata object\n",
    "d = mad.MultiAnnData(X=harmony, obs=meta, sampleid=\"sample\")\n",
    "#d.obs_to_sample(['Type', 'Site',\n",
    "#                 'Responder_Status', 'Sex',\n",
    "#                 'Age', 'Race',\n",
    "#                'Ethnicity', 'ISN',\n",
    "#               'Activity', \"Chronicity\",\n",
    "#                 'processing_batch'])\n",
    "d.obs_to_sample(['Final_Chronicity', 'Final_Activity'])\n",
    "d.samplem.head()"
   ]
  },
  {
   "cell_type": "code",
   "execution_count": 112,
   "id": "03cb854d-abe5-4245-aaeb-8a833d3bb632",
   "metadata": {},
   "outputs": [],
   "source": [
    "umap.index = d.obs.index\n",
    "d.obsm['X_umap'] = umap"
   ]
  },
  {
   "cell_type": "code",
   "execution_count": 113,
   "id": "a28dcb40-f9b1-405c-a2bd-6c30de71eaaf",
   "metadata": {},
   "outputs": [
    {
     "name": "stdout",
     "output_type": "stream",
     "text": [
      "computing default knn graph\n"
     ]
    }
   ],
   "source": [
    "np.random.seed(0) \n",
    "cna.pp.knn(d)"
   ]
  },
  {
   "cell_type": "code",
   "execution_count": 114,
   "id": "4026f5f5-3bc7-41dd-8593-5293542c0973",
   "metadata": {},
   "outputs": [
    {
     "name": "stdout",
     "output_type": "stream",
     "text": [
      "qcd NAM not found; computing and saving\n",
      "\ttaking step 1\n",
      "\tmedian kurtosis: 11.842386245727539\n",
      "\t20th percentile R2(t,t-1): nan\n",
      "\ttaking step 2\n",
      "\tmedian kurtosis: 8.491312503814697\n",
      "\t20th percentile R2(t,t-1): 0.786330497264862\n",
      "\ttaking step 3\n",
      "\tmedian kurtosis: 6.386176347732544\n",
      "\t20th percentile R2(t,t-1): 0.9200137615203857\n",
      "stopping after 3 steps\n",
      "covariate-adjusted NAM not found; computing and saving\n",
      "computing SVD\n",
      "performing association test\n"
     ]
    },
    {
     "name": "stderr",
     "output_type": "stream",
     "text": [
      "/PHShome/ssg34/.conda/envs/plswork/lib/python3.9/site-packages/cna/tools/_nam.py:79: UserWarning: only one unique batch supplied to qc\n",
      "  warnings.warn('only one unique batch supplied to qc')\n",
      "/PHShome/ssg34/.conda/envs/plswork/lib/python3.9/site-packages/cna/tools/_nam.py:101: UserWarning: only one unique batch supplied to prep\n",
      "  warnings.warn('only one unique batch supplied to prep')\n"
     ]
    },
    {
     "name": "stdout",
     "output_type": "stream",
     "text": [
      "computing neighborhood-level FDRs\n",
      "12\n",
      "[1, 2, 3, 4, 5, 6, 7, 8, 9, 10, 11, 12, 13, 14, 15, 16, 17, 18, 19, 20]\n",
      "p = 0.00029997000299970003 , 12 PCs used\n",
      "total r^2 between top 12 NAM PCs and outcome is 0.80\n"
     ]
    }
   ],
   "source": [
    "np.random.seed(0) \n",
    "res = cna.tl._association.association(d, #dataset \n",
    "                                      d.samplem.Final_Chronicity, #phenotype\n",
    "#                                       batches=d.samplem.processing_batch, #batches\n",
    "                                      Nnull=10000, # number of null permutations to do (defaults to only 1e3)\n",
    "                                      ks=[1,2,3,4,5,6,7,8,9,10,11,12,13,14,15,16,17,18,19,20] # I asked the method to consider up to 10 PCs because\n",
    "                                                                #it chose the max number of PCs it considered the default set of [1,2,3,4]\n",
    "                                     )\n",
    "print(res.k)\n",
    "print(res.ks)\n",
    "print('p =', res.p, ',', res.k, 'PCs used')\n",
    "print('total r^2 between top {} NAM PCs and outcome is {:.2f}'.format(res.k, res.r2))"
   ]
  },
  {
   "cell_type": "code",
   "execution_count": 115,
   "id": "efe4d035-780a-4f89-a50c-3807eb776921",
   "metadata": {},
   "outputs": [
    {
     "name": "stdout",
     "output_type": "stream",
     "text": [
      "covariate-adjusted NAM not found; computing and saving\n",
      "computing SVD\n",
      "performing association test\n"
     ]
    },
    {
     "name": "stderr",
     "output_type": "stream",
     "text": [
      "/PHShome/ssg34/.conda/envs/plswork/lib/python3.9/site-packages/cna/tools/_nam.py:101: UserWarning: only one unique batch supplied to prep\n",
      "  warnings.warn('only one unique batch supplied to prep')\n"
     ]
    },
    {
     "name": "stdout",
     "output_type": "stream",
     "text": [
      "computing neighborhood-level FDRs\n",
      "15\n",
      "[1, 2, 3, 4, 5, 6, 7, 8, 9, 10, 11, 12, 13, 14, 15, 16, 17, 18, 19, 20]\n",
      "p = 0.0004999500049995 , 15 PCs used\n",
      "total r^2 between top 15 NAM PCs and outcome is 0.84\n"
     ]
    }
   ],
   "source": [
    "np.random.seed(0) \n",
    "res = cna.tl._association.association(d, #dataset \n",
    "                                      d.samplem.Final_Chronicity, #phenotype\n",
    "#                                       batches=d.samplem.processing_batch, #batches\n",
    "                                      Nnull=10000, # number of null permutations to do (defaults to only 1e3)\n",
    "                                      covs = d.samplem[['Final_Activity']], \n",
    "                                      ks=[1,2,3,4,5,6,7,8,9,10,11,12,13,14,15,16,17,18,19,20] # I asked the method to consider up to 10 PCs because\n",
    "                                                                #it chose the max number of PCs it considered the default set of [1,2,3,4]\n",
    "                                     )\n",
    "print(res.k)\n",
    "print(res.ks)\n",
    "print('p =', res.p, ',', res.k, 'PCs used')\n",
    "print('total r^2 between top {} NAM PCs and outcome is {:.2f}'.format(res.k, res.r2))"
   ]
  },
  {
   "cell_type": "code",
   "execution_count": 117,
   "id": "e9e3fe58-8bb3-47bd-8247-150d6c3793ed",
   "metadata": {},
   "outputs": [],
   "source": [
    "np.savetxt(\"/data/srlab/ssg34/SLE_kidney_v2/data/cna_new/PT/chronicity/sn_activity_cond_ncorr.csv\", \n",
    "               res.ncorrs, delimiter=\",\")\n",
    "np.savetxt(\"/data/srlab/ssg34/SLE_kidney_v2/data/cna_new/PT/chronicity/sn_activity_cond_fdrs.csv\", \n",
    "               res.fdrs, delimiter=\",\")"
   ]
  },
  {
   "cell_type": "markdown",
   "id": "28eaa9b5-9030-42e9-877d-ad51bcb76fb5",
   "metadata": {},
   "source": [
    "# ACTIVITY"
   ]
  },
  {
   "cell_type": "markdown",
   "id": "eec76e75-6d46-4878-8ae4-e13608917b63",
   "metadata": {},
   "source": [
    "## Single Cell"
   ]
  },
  {
   "cell_type": "code",
   "execution_count": 118,
   "id": "39b5bf8e-6fad-4d58-b716-eddaad102c35",
   "metadata": {},
   "outputs": [
    {
     "name": "stdout",
     "output_type": "stream",
     "text": [
      "(140034, 11)\n"
     ]
    }
   ],
   "source": [
    "meta = pd.read_csv('/data/srlab/ssg34/SLE_kidney_v2/data/cna_new/PT/activity/sc_meta.csv')\n",
    "print(meta.shape)"
   ]
  },
  {
   "cell_type": "code",
   "execution_count": 119,
   "id": "724c0f3f-8540-47ce-aa98-22a4d234161f",
   "metadata": {},
   "outputs": [
    {
     "name": "stdout",
     "output_type": "stream",
     "text": [
      "(140034, 20)\n"
     ]
    }
   ],
   "source": [
    "harmony = pd.read_csv('/data/srlab/ssg34/SLE_kidney_v2/data/cna_new/PT/activity/sc_harmony.csv')\n",
    "print(harmony.shape)"
   ]
  },
  {
   "cell_type": "code",
   "execution_count": 120,
   "id": "c29a9cf0-ed13-4a32-bf68-d9e342655a36",
   "metadata": {},
   "outputs": [
    {
     "name": "stdout",
     "output_type": "stream",
     "text": [
      "(140034, 2)\n"
     ]
    }
   ],
   "source": [
    "umap = pd.read_csv('/data/srlab/ssg34/SLE_kidney_v2/data/cna_new/PT/activity/sc_umap.csv')\n",
    "print(umap.shape)"
   ]
  },
  {
   "cell_type": "code",
   "execution_count": 121,
   "id": "225eb799-8997-4843-81db-771786abbd86",
   "metadata": {},
   "outputs": [
    {
     "name": "stderr",
     "output_type": "stream",
     "text": [
      "/PHShome/ssg34/.conda/envs/plswork/lib/python3.9/site-packages/multianndata/core.py:17: FutureWarning: X.dtype being converted to np.float32 from float64. In the next version of anndata (0.9) conversion will not be automatic. Pass dtype explicitly to avoid this warning. Pass `AnnData(X, dtype=X.dtype, ...)` to get the future behavour.\n",
      "  super().__init__(*args, **kwargs)\n",
      "/PHShome/ssg34/.conda/envs/plswork/lib/python3.9/site-packages/anndata/_core/anndata.py:121: ImplicitModificationWarning: Transforming to str index.\n",
      "  warnings.warn(\"Transforming to str index.\", ImplicitModificationWarning)\n"
     ]
    },
    {
     "name": "stdout",
     "output_type": "stream",
     "text": [
      "warning: the following columns of obs are non-numeric.\n",
      "['cell' 'Sex' 'sample' 'cluster_names' 'Responder.Status' 'Race'\n",
      " 'Final_ISN' 'Type']\n",
      "consider casting to numeric types where appropriate, and\n",
      "consider re-coding text-valued columns with pandas.get_dummies\n"
     ]
    },
    {
     "data": {
      "text/html": [
       "<div>\n",
       "<style scoped>\n",
       "    .dataframe tbody tr th:only-of-type {\n",
       "        vertical-align: middle;\n",
       "    }\n",
       "\n",
       "    .dataframe tbody tr th {\n",
       "        vertical-align: top;\n",
       "    }\n",
       "\n",
       "    .dataframe thead th {\n",
       "        text-align: right;\n",
       "    }\n",
       "</style>\n",
       "<table border=\"1\" class=\"dataframe\">\n",
       "  <thead>\n",
       "    <tr style=\"text-align: right;\">\n",
       "      <th></th>\n",
       "      <th>Final_Chronicity</th>\n",
       "      <th>Final_Activity</th>\n",
       "    </tr>\n",
       "    <tr>\n",
       "      <th>sample</th>\n",
       "      <th></th>\n",
       "      <th></th>\n",
       "    </tr>\n",
       "  </thead>\n",
       "  <tbody>\n",
       "    <tr>\n",
       "      <th>AMPSLEkid_cells_0142</th>\n",
       "      <td>4.0</td>\n",
       "      <td>16.0</td>\n",
       "    </tr>\n",
       "    <tr>\n",
       "      <th>AMPSLEkid_cells_0366</th>\n",
       "      <td>7.0</td>\n",
       "      <td>2.0</td>\n",
       "    </tr>\n",
       "    <tr>\n",
       "      <th>AMPSLEkid_cells_0966</th>\n",
       "      <td>5.0</td>\n",
       "      <td>4.0</td>\n",
       "    </tr>\n",
       "    <tr>\n",
       "      <th>AMPSLEkid_cells_2748</th>\n",
       "      <td>8.0</td>\n",
       "      <td>1.0</td>\n",
       "    </tr>\n",
       "    <tr>\n",
       "      <th>AMPSLEkid_cells_0138</th>\n",
       "      <td>0.0</td>\n",
       "      <td>0.0</td>\n",
       "    </tr>\n",
       "  </tbody>\n",
       "</table>\n",
       "</div>"
      ],
      "text/plain": [
       "                      Final_Chronicity  Final_Activity\n",
       "sample                                                \n",
       "AMPSLEkid_cells_0142               4.0            16.0\n",
       "AMPSLEkid_cells_0366               7.0             2.0\n",
       "AMPSLEkid_cells_0966               5.0             4.0\n",
       "AMPSLEkid_cells_2748               8.0             1.0\n",
       "AMPSLEkid_cells_0138               0.0             0.0"
      ]
     },
     "execution_count": 121,
     "metadata": {},
     "output_type": "execute_result"
    }
   ],
   "source": [
    "# Start by making anndata object\n",
    "d = mad.MultiAnnData(X=harmony, obs=meta, sampleid=\"sample\")\n",
    "#d.obs_to_sample(['Type', 'Site',\n",
    "#                 'Responder_Status', 'Sex',\n",
    "#                 'Age', 'Race',\n",
    "#                'Ethnicity', 'ISN',\n",
    "#               'Activity', \"Chronicity\",\n",
    "#                 'processing_batch'])\n",
    "d.obs_to_sample(['Final_Chronicity', 'Final_Activity'])\n",
    "d.samplem.head()"
   ]
  },
  {
   "cell_type": "code",
   "execution_count": 122,
   "id": "ccd3921a-27af-42e9-86b2-e8d49c077a18",
   "metadata": {},
   "outputs": [],
   "source": [
    "umap.index = d.obs.index\n",
    "d.obsm['X_umap'] = umap"
   ]
  },
  {
   "cell_type": "code",
   "execution_count": 123,
   "id": "09f8315e-e854-4ac9-bcdc-e7cee6e71dd5",
   "metadata": {},
   "outputs": [
    {
     "name": "stdout",
     "output_type": "stream",
     "text": [
      "computing default knn graph\n"
     ]
    }
   ],
   "source": [
    "np.random.seed(0) \n",
    "cna.pp.knn(d)"
   ]
  },
  {
   "cell_type": "code",
   "execution_count": 124,
   "id": "00821712-097d-4f4a-91f4-4ce1c212fc8d",
   "metadata": {},
   "outputs": [
    {
     "name": "stdout",
     "output_type": "stream",
     "text": [
      "qcd NAM not found; computing and saving\n",
      "\ttaking step 1\n",
      "\tmedian kurtosis: 46.349185943603516\n",
      "\t20th percentile R2(t,t-1): nan\n",
      "\ttaking step 2\n",
      "\tmedian kurtosis: 30.39740753173828\n",
      "\t20th percentile R2(t,t-1): 0.7639257311820984\n",
      "\ttaking step 3\n",
      "\tmedian kurtosis: 20.410869598388672\n",
      "\t20th percentile R2(t,t-1): 0.908935010433197\n",
      "\ttaking step 4\n",
      "\tmedian kurtosis: 13.953994750976562\n",
      "\t20th percentile R2(t,t-1): 0.9450386166572571\n",
      "\ttaking step 5\n",
      "\tmedian kurtosis: 9.980635643005371\n",
      "\t20th percentile R2(t,t-1): 0.963342547416687\n",
      "\ttaking step 6\n",
      "\tmedian kurtosis: 7.617109298706055\n",
      "\t20th percentile R2(t,t-1): 0.9739270806312561\n",
      "stopping after 6 steps\n",
      "covariate-adjusted NAM not found; computing and saving\n"
     ]
    },
    {
     "name": "stderr",
     "output_type": "stream",
     "text": [
      "/PHShome/ssg34/.conda/envs/plswork/lib/python3.9/site-packages/cna/tools/_nam.py:79: UserWarning: only one unique batch supplied to qc\n",
      "  warnings.warn('only one unique batch supplied to qc')\n",
      "/PHShome/ssg34/.conda/envs/plswork/lib/python3.9/site-packages/cna/tools/_nam.py:101: UserWarning: only one unique batch supplied to prep\n",
      "  warnings.warn('only one unique batch supplied to prep')\n"
     ]
    },
    {
     "name": "stdout",
     "output_type": "stream",
     "text": [
      "computing SVD\n",
      "performing association test\n",
      "computing neighborhood-level FDRs\n",
      "4\n",
      "[1, 2, 3, 4, 5, 6, 7, 8, 9, 10, 11, 12, 13, 14, 15, 16, 17, 18, 19, 20]\n",
      "p = 0.007599240075992401 , 4 PCs used\n",
      "total r^2 between top 4 NAM PCs and outcome is 0.13\n"
     ]
    }
   ],
   "source": [
    "np.random.seed(0) \n",
    "res = cna.tl._association.association(d, #dataset \n",
    "                                      d.samplem.Final_Activity, #phenotype\n",
    "#                                       batches=d.samplem.processing_batch, #batches\n",
    "                                      Nnull=10000, # number of null permutations to do (defaults to only 1e3)\n",
    "                                      ks=[1,2,3,4,5,6,7,8,9,10,11,12,13,14,15,16,17,18,19,20] # I asked the method to consider up to 10 PCs because\n",
    "                                                                #it chose the max number of PCs it considered the default set of [1,2,3,4]\n",
    "                                     )\n",
    "print(res.k)\n",
    "print(res.ks)\n",
    "print('p =', res.p, ',', res.k, 'PCs used')\n",
    "print('total r^2 between top {} NAM PCs and outcome is {:.2f}'.format(res.k, res.r2))"
   ]
  },
  {
   "cell_type": "code",
   "execution_count": 125,
   "id": "9e8f477c-f587-445e-b038-2843ab2d4c57",
   "metadata": {},
   "outputs": [
    {
     "name": "stdout",
     "output_type": "stream",
     "text": [
      "covariate-adjusted NAM not found; computing and saving\n"
     ]
    },
    {
     "name": "stderr",
     "output_type": "stream",
     "text": [
      "/PHShome/ssg34/.conda/envs/plswork/lib/python3.9/site-packages/cna/tools/_nam.py:101: UserWarning: only one unique batch supplied to prep\n",
      "  warnings.warn('only one unique batch supplied to prep')\n"
     ]
    },
    {
     "name": "stdout",
     "output_type": "stream",
     "text": [
      "computing SVD\n",
      "performing association test\n",
      "computing neighborhood-level FDRs\n",
      "4\n",
      "[1, 2, 3, 4, 5, 6, 7, 8, 9, 10, 11, 12, 13, 14, 15, 16, 17, 18, 19, 20]\n",
      "p = 0.0072992700729927005 , 4 PCs used\n",
      "total r^2 between top 4 NAM PCs and outcome is 0.13\n"
     ]
    }
   ],
   "source": [
    "np.random.seed(0) \n",
    "res = cna.tl._association.association(d, #dataset \n",
    "                                      d.samplem.Final_Activity, #phenotype\n",
    "#                                       batches=d.samplem.processing_batch, #batches\n",
    "                                      Nnull=10000, # number of null permutations to do (defaults to only 1e3)\n",
    "                                      covs = d.samplem[['Final_Chronicity']], \n",
    "                                      ks=[1,2,3,4,5,6,7,8,9,10,11,12,13,14,15,16,17,18,19,20] # I asked the method to consider up to 10 PCs because\n",
    "                                                                #it chose the max number of PCs it considered the default set of [1,2,3,4]\n",
    "                                     )\n",
    "print(res.k)\n",
    "print(res.ks)\n",
    "print('p =', res.p, ',', res.k, 'PCs used')\n",
    "print('total r^2 between top {} NAM PCs and outcome is {:.2f}'.format(res.k, res.r2))"
   ]
  },
  {
   "cell_type": "code",
   "execution_count": 126,
   "id": "8a8e382e-7f11-44d5-b7f5-30d57e795077",
   "metadata": {},
   "outputs": [],
   "source": [
    "np.savetxt(\"/data/srlab/ssg34/SLE_kidney_v2/data/cna_new/PT/activity/sc_chronicity_cond_ncorr.csv\", \n",
    "               res.ncorrs, delimiter=\",\")\n",
    "np.savetxt(\"/data/srlab/ssg34/SLE_kidney_v2/data/cna_new/PT/activity/sc_chronicity_cond_fdrs.csv\", \n",
    "               res.fdrs, delimiter=\",\")"
   ]
  },
  {
   "cell_type": "markdown",
   "id": "4ad4b176-5bfd-4439-97ca-e8a749e82a6b",
   "metadata": {},
   "source": [
    "## Single Nuclear"
   ]
  },
  {
   "cell_type": "code",
   "execution_count": 127,
   "id": "56ba3bc6-8d53-4076-82c9-5c8fb6a93215",
   "metadata": {},
   "outputs": [
    {
     "name": "stdout",
     "output_type": "stream",
     "text": [
      "(40416, 11)\n"
     ]
    }
   ],
   "source": [
    "meta = pd.read_csv('/data/srlab/ssg34/SLE_kidney_v2/data/cna_new/PT/activity/sn_meta.csv')\n",
    "print(meta.shape)"
   ]
  },
  {
   "cell_type": "code",
   "execution_count": 128,
   "id": "1779c3ec-2323-457c-afc3-e7d419e30321",
   "metadata": {},
   "outputs": [
    {
     "name": "stdout",
     "output_type": "stream",
     "text": [
      "(40416, 20)\n"
     ]
    }
   ],
   "source": [
    "harmony = pd.read_csv('/data/srlab/ssg34/SLE_kidney_v2/data/cna_new/PT/activity/sn_harmony.csv')\n",
    "print(harmony.shape)"
   ]
  },
  {
   "cell_type": "code",
   "execution_count": 129,
   "id": "9c592c35-aac7-4952-a506-99b57393268f",
   "metadata": {},
   "outputs": [
    {
     "name": "stdout",
     "output_type": "stream",
     "text": [
      "(40416, 2)\n"
     ]
    }
   ],
   "source": [
    "umap = pd.read_csv('/data/srlab/ssg34/SLE_kidney_v2/data/cna_new/PT/activity/sn_umap.csv')\n",
    "print(umap.shape)"
   ]
  },
  {
   "cell_type": "code",
   "execution_count": 130,
   "id": "876f25ee-699e-48db-a174-8f20eaf4defe",
   "metadata": {},
   "outputs": [
    {
     "name": "stdout",
     "output_type": "stream",
     "text": [
      "warning: the following columns of obs are non-numeric.\n",
      "['cell' 'Sex' 'sample' 'cluster_names' 'Responder.Status' 'Race'\n",
      " 'Final_ISN' 'Type']\n",
      "consider casting to numeric types where appropriate, and\n",
      "consider re-coding text-valued columns with pandas.get_dummies\n"
     ]
    },
    {
     "name": "stderr",
     "output_type": "stream",
     "text": [
      "/PHShome/ssg34/.conda/envs/plswork/lib/python3.9/site-packages/multianndata/core.py:17: FutureWarning: X.dtype being converted to np.float32 from float64. In the next version of anndata (0.9) conversion will not be automatic. Pass dtype explicitly to avoid this warning. Pass `AnnData(X, dtype=X.dtype, ...)` to get the future behavour.\n",
      "  super().__init__(*args, **kwargs)\n",
      "/PHShome/ssg34/.conda/envs/plswork/lib/python3.9/site-packages/anndata/_core/anndata.py:121: ImplicitModificationWarning: Transforming to str index.\n",
      "  warnings.warn(\"Transforming to str index.\", ImplicitModificationWarning)\n"
     ]
    },
    {
     "data": {
      "text/html": [
       "<div>\n",
       "<style scoped>\n",
       "    .dataframe tbody tr th:only-of-type {\n",
       "        vertical-align: middle;\n",
       "    }\n",
       "\n",
       "    .dataframe tbody tr th {\n",
       "        vertical-align: top;\n",
       "    }\n",
       "\n",
       "    .dataframe thead th {\n",
       "        text-align: right;\n",
       "    }\n",
       "</style>\n",
       "<table border=\"1\" class=\"dataframe\">\n",
       "  <thead>\n",
       "    <tr style=\"text-align: right;\">\n",
       "      <th></th>\n",
       "      <th>Final_Chronicity</th>\n",
       "      <th>Final_Activity</th>\n",
       "    </tr>\n",
       "    <tr>\n",
       "      <th>sample</th>\n",
       "      <th></th>\n",
       "      <th></th>\n",
       "    </tr>\n",
       "  </thead>\n",
       "  <tbody>\n",
       "    <tr>\n",
       "      <th>AMPSLEkid_cells_0137</th>\n",
       "      <td>3.0</td>\n",
       "      <td>5.0</td>\n",
       "    </tr>\n",
       "    <tr>\n",
       "      <th>AMPSLEkid_cells_0138</th>\n",
       "      <td>0.0</td>\n",
       "      <td>0.0</td>\n",
       "    </tr>\n",
       "    <tr>\n",
       "      <th>AMPSLEkid_cells_0139</th>\n",
       "      <td>3.0</td>\n",
       "      <td>2.0</td>\n",
       "    </tr>\n",
       "    <tr>\n",
       "      <th>AMPSLEkid_cells_0147</th>\n",
       "      <td>9.0</td>\n",
       "      <td>1.0</td>\n",
       "    </tr>\n",
       "    <tr>\n",
       "      <th>AMPSLEkid_cells_0366</th>\n",
       "      <td>7.0</td>\n",
       "      <td>2.0</td>\n",
       "    </tr>\n",
       "  </tbody>\n",
       "</table>\n",
       "</div>"
      ],
      "text/plain": [
       "                      Final_Chronicity  Final_Activity\n",
       "sample                                                \n",
       "AMPSLEkid_cells_0137               3.0             5.0\n",
       "AMPSLEkid_cells_0138               0.0             0.0\n",
       "AMPSLEkid_cells_0139               3.0             2.0\n",
       "AMPSLEkid_cells_0147               9.0             1.0\n",
       "AMPSLEkid_cells_0366               7.0             2.0"
      ]
     },
     "execution_count": 130,
     "metadata": {},
     "output_type": "execute_result"
    }
   ],
   "source": [
    "# Start by making anndata object\n",
    "d = mad.MultiAnnData(X=harmony, obs=meta, sampleid=\"sample\")\n",
    "#d.obs_to_sample(['Type', 'Site',\n",
    "#                 'Responder_Status', 'Sex',\n",
    "#                 'Age', 'Race',\n",
    "#                'Ethnicity', 'ISN',\n",
    "#               'Activity', \"Chronicity\",\n",
    "#                 'processing_batch'])\n",
    "d.obs_to_sample(['Final_Chronicity', 'Final_Activity'])\n",
    "d.samplem.head()"
   ]
  },
  {
   "cell_type": "code",
   "execution_count": 131,
   "id": "6d9ef14a-2479-4f93-bdba-40d4cdf9c714",
   "metadata": {},
   "outputs": [],
   "source": [
    "umap.index = d.obs.index\n",
    "d.obsm['X_umap'] = umap"
   ]
  },
  {
   "cell_type": "code",
   "execution_count": 132,
   "id": "d3240414-a6f2-4009-996a-784b1883cb8c",
   "metadata": {},
   "outputs": [
    {
     "name": "stdout",
     "output_type": "stream",
     "text": [
      "computing default knn graph\n"
     ]
    }
   ],
   "source": [
    "np.random.seed(0) \n",
    "cna.pp.knn(d)"
   ]
  },
  {
   "cell_type": "code",
   "execution_count": 133,
   "id": "1b5c10e9-c6d3-4fb0-bda0-99f76055aeb0",
   "metadata": {},
   "outputs": [
    {
     "name": "stdout",
     "output_type": "stream",
     "text": [
      "qcd NAM not found; computing and saving\n",
      "\ttaking step 1\n",
      "\tmedian kurtosis: 11.842386245727539\n",
      "\t20th percentile R2(t,t-1): nan\n",
      "\ttaking step 2\n",
      "\tmedian kurtosis: 8.491312503814697\n",
      "\t20th percentile R2(t,t-1): 0.786330497264862\n",
      "\ttaking step 3\n",
      "\tmedian kurtosis: 6.386176347732544\n",
      "\t20th percentile R2(t,t-1): 0.9200137615203857\n",
      "stopping after 3 steps\n",
      "covariate-adjusted NAM not found; computing and saving\n",
      "computing SVD\n",
      "performing association test\n"
     ]
    },
    {
     "name": "stderr",
     "output_type": "stream",
     "text": [
      "/PHShome/ssg34/.conda/envs/plswork/lib/python3.9/site-packages/cna/tools/_nam.py:79: UserWarning: only one unique batch supplied to qc\n",
      "  warnings.warn('only one unique batch supplied to qc')\n",
      "/PHShome/ssg34/.conda/envs/plswork/lib/python3.9/site-packages/cna/tools/_nam.py:101: UserWarning: only one unique batch supplied to prep\n",
      "  warnings.warn('only one unique batch supplied to prep')\n"
     ]
    },
    {
     "name": "stdout",
     "output_type": "stream",
     "text": [
      "computing neighborhood-level FDRs\n",
      "17\n",
      "[1, 2, 3, 4, 5, 6, 7, 8, 9, 10, 11, 12, 13, 14, 15, 16, 17, 18, 19, 20]\n",
      "p = 0.36136386361363865 , 17 PCs used\n",
      "total r^2 between top 17 NAM PCs and outcome is 0.61\n"
     ]
    }
   ],
   "source": [
    "np.random.seed(0) \n",
    "res = cna.tl._association.association(d, #dataset \n",
    "                                      d.samplem.Final_Activity, #phenotype\n",
    "#                                       batches=d.samplem.processing_batch, #batches\n",
    "                                      Nnull=10000, # number of null permutations to do (defaults to only 1e3)\n",
    "                                      ks=[1,2,3,4,5,6,7,8,9,10,11,12,13,14,15,16,17,18,19,20] # I asked the method to consider up to 10 PCs because\n",
    "                                                                #it chose the max number of PCs it considered the default set of [1,2,3,4]\n",
    "                                     )\n",
    "print(res.k)\n",
    "print(res.ks)\n",
    "print('p =', res.p, ',', res.k, 'PCs used')\n",
    "print('total r^2 between top {} NAM PCs and outcome is {:.2f}'.format(res.k, res.r2))"
   ]
  },
  {
   "cell_type": "code",
   "execution_count": 135,
   "id": "b15bdd9c-0bbd-4773-a87b-e24e0539f4ed",
   "metadata": {},
   "outputs": [
    {
     "name": "stdout",
     "output_type": "stream",
     "text": [
      "covariate-adjusted NAM not found; computing and saving\n",
      "computing SVD\n",
      "performing association test\n"
     ]
    },
    {
     "name": "stderr",
     "output_type": "stream",
     "text": [
      "/PHShome/ssg34/.conda/envs/plswork/lib/python3.9/site-packages/cna/tools/_nam.py:101: UserWarning: only one unique batch supplied to prep\n",
      "  warnings.warn('only one unique batch supplied to prep')\n"
     ]
    },
    {
     "name": "stdout",
     "output_type": "stream",
     "text": [
      "computing neighborhood-level FDRs\n",
      "16\n",
      "[1, 2, 3, 4, 5, 6, 7, 8, 9, 10, 11, 12, 13, 14, 15, 16, 17, 18, 19, 20]\n",
      "p = 0.47535246475352466 , 16 PCs used\n",
      "total r^2 between top 16 NAM PCs and outcome is 0.57\n"
     ]
    }
   ],
   "source": [
    "np.random.seed(0) \n",
    "res = cna.tl._association.association(d, #dataset \n",
    "                                      d.samplem.Final_Activity, #phenotype\n",
    "#                                       batches=d.samplem.processing_batch, #batches\n",
    "                                      covs = d.samplem[['Final_Chronicity']], \n",
    "                                      Nnull=10000, # number of null permutations to do (defaults to only 1e3)\n",
    "                                      ks=[1,2,3,4,5,6,7,8,9,10,11,12,13,14,15,16,17,18,19,20] # I asked the method to consider up to 10 PCs because\n",
    "                                                                #it chose the max number of PCs it considered the default set of [1,2,3,4]\n",
    "                                     )\n",
    "print(res.k)\n",
    "print(res.ks)\n",
    "print('p =', res.p, ',', res.k, 'PCs used')\n",
    "print('total r^2 between top {} NAM PCs and outcome is {:.2f}'.format(res.k, res.r2)) "
   ]
  },
  {
   "cell_type": "markdown",
   "id": "d063e2b1-759d-438a-a516-233313f3d115",
   "metadata": {},
   "source": [
    "# ISN"
   ]
  },
  {
   "cell_type": "markdown",
   "id": "1f1d9e1e-0033-4dbe-9051-ce3f51e15d3e",
   "metadata": {},
   "source": [
    "## Single Cell"
   ]
  },
  {
   "cell_type": "code",
   "execution_count": 136,
   "id": "e72af0da-db0c-4bea-9428-5df649c0a2db",
   "metadata": {},
   "outputs": [
    {
     "name": "stdout",
     "output_type": "stream",
     "text": [
      "(154032, 27)\n"
     ]
    }
   ],
   "source": [
    "meta = pd.read_csv('/data/srlab/ssg34/SLE_kidney_v2/data/cna_new/PT/ISN/sc_meta.csv')\n",
    "print(meta.shape)"
   ]
  },
  {
   "cell_type": "code",
   "execution_count": 137,
   "id": "5abfebb3-92a8-488f-9364-0dab76cd6c3e",
   "metadata": {},
   "outputs": [
    {
     "name": "stdout",
     "output_type": "stream",
     "text": [
      "(154032, 20)\n"
     ]
    }
   ],
   "source": [
    "harmony = pd.read_csv('/data/srlab/ssg34/SLE_kidney_v2/data/cna_new/PT/ISN/sc_harmony.csv')\n",
    "print(harmony.shape)"
   ]
  },
  {
   "cell_type": "code",
   "execution_count": 138,
   "id": "f4deb58e-bc61-49c0-aa2f-661661acbd99",
   "metadata": {},
   "outputs": [
    {
     "name": "stdout",
     "output_type": "stream",
     "text": [
      "(154032, 2)\n"
     ]
    }
   ],
   "source": [
    "umap = pd.read_csv('/data/srlab/ssg34/SLE_kidney_v2/data/cna_new/PT/ISN/sc_umap.csv')\n",
    "print(umap.shape)"
   ]
  },
  {
   "cell_type": "code",
   "execution_count": 139,
   "id": "4879a749-0242-41fd-bf5d-8be1620a959b",
   "metadata": {},
   "outputs": [
    {
     "name": "stderr",
     "output_type": "stream",
     "text": [
      "/PHShome/ssg34/.conda/envs/plswork/lib/python3.9/site-packages/multianndata/core.py:17: FutureWarning: X.dtype being converted to np.float32 from float64. In the next version of anndata (0.9) conversion will not be automatic. Pass dtype explicitly to avoid this warning. Pass `AnnData(X, dtype=X.dtype, ...)` to get the future behavour.\n",
      "  super().__init__(*args, **kwargs)\n",
      "/PHShome/ssg34/.conda/envs/plswork/lib/python3.9/site-packages/anndata/_core/anndata.py:121: ImplicitModificationWarning: Transforming to str index.\n",
      "  warnings.warn(\"Transforming to str index.\", ImplicitModificationWarning)\n"
     ]
    },
    {
     "name": "stdout",
     "output_type": "stream",
     "text": [
      "warning: the following columns of obs are non-numeric.\n",
      "['cell' 'Sex' 'sample' 'cluster_names' 'Responder.Status' 'Race'\n",
      " 'Final_ISN' 'Type' 'cell.1' 'Sex.1' 'sample.1' 'cluster_names.1'\n",
      " 'Responder.Status.1' 'Race.1' 'Final_ISN.1' 'Type.1']\n",
      "consider casting to numeric types where appropriate, and\n",
      "consider re-coding text-valued columns with pandas.get_dummies\n"
     ]
    },
    {
     "data": {
      "text/html": [
       "<div>\n",
       "<style scoped>\n",
       "    .dataframe tbody tr th:only-of-type {\n",
       "        vertical-align: middle;\n",
       "    }\n",
       "\n",
       "    .dataframe tbody tr th {\n",
       "        vertical-align: top;\n",
       "    }\n",
       "\n",
       "    .dataframe thead th {\n",
       "        text-align: right;\n",
       "    }\n",
       "</style>\n",
       "<table border=\"1\" class=\"dataframe\">\n",
       "  <thead>\n",
       "    <tr style=\"text-align: right;\">\n",
       "      <th></th>\n",
       "      <th>Final_ISN_[III]</th>\n",
       "      <th>Final_ISN_[III][V]</th>\n",
       "      <th>Final_ISN_[IV]</th>\n",
       "      <th>Final_ISN_[IV][V]</th>\n",
       "      <th>Final_ISN_[V]</th>\n",
       "    </tr>\n",
       "    <tr>\n",
       "      <th>sample</th>\n",
       "      <th></th>\n",
       "      <th></th>\n",
       "      <th></th>\n",
       "      <th></th>\n",
       "      <th></th>\n",
       "    </tr>\n",
       "  </thead>\n",
       "  <tbody>\n",
       "    <tr>\n",
       "      <th>AMPSLEkid_cells_0142</th>\n",
       "      <td>0.0</td>\n",
       "      <td>0.0</td>\n",
       "      <td>1.0</td>\n",
       "      <td>0.0</td>\n",
       "      <td>0.0</td>\n",
       "    </tr>\n",
       "    <tr>\n",
       "      <th>AMPSLEkid_cells_0366</th>\n",
       "      <td>0.0</td>\n",
       "      <td>1.0</td>\n",
       "      <td>0.0</td>\n",
       "      <td>0.0</td>\n",
       "      <td>0.0</td>\n",
       "    </tr>\n",
       "    <tr>\n",
       "      <th>AMPSLEkid_cells_0966</th>\n",
       "      <td>0.0</td>\n",
       "      <td>0.0</td>\n",
       "      <td>1.0</td>\n",
       "      <td>0.0</td>\n",
       "      <td>0.0</td>\n",
       "    </tr>\n",
       "    <tr>\n",
       "      <th>AMPSLEkid_cells_2748</th>\n",
       "      <td>0.0</td>\n",
       "      <td>0.0</td>\n",
       "      <td>0.0</td>\n",
       "      <td>0.0</td>\n",
       "      <td>1.0</td>\n",
       "    </tr>\n",
       "    <tr>\n",
       "      <th>AMPSLEkid_cells_0138</th>\n",
       "      <td>0.0</td>\n",
       "      <td>1.0</td>\n",
       "      <td>0.0</td>\n",
       "      <td>0.0</td>\n",
       "      <td>0.0</td>\n",
       "    </tr>\n",
       "  </tbody>\n",
       "</table>\n",
       "</div>"
      ],
      "text/plain": [
       "                      Final_ISN_[III]  Final_ISN_[III][V]  Final_ISN_[IV]  \\\n",
       "sample                                                                      \n",
       "AMPSLEkid_cells_0142              0.0                 0.0             1.0   \n",
       "AMPSLEkid_cells_0366              0.0                 1.0             0.0   \n",
       "AMPSLEkid_cells_0966              0.0                 0.0             1.0   \n",
       "AMPSLEkid_cells_2748              0.0                 0.0             0.0   \n",
       "AMPSLEkid_cells_0138              0.0                 1.0             0.0   \n",
       "\n",
       "                      Final_ISN_[IV][V]  Final_ISN_[V]  \n",
       "sample                                                  \n",
       "AMPSLEkid_cells_0142                0.0            0.0  \n",
       "AMPSLEkid_cells_0366                0.0            0.0  \n",
       "AMPSLEkid_cells_0966                0.0            0.0  \n",
       "AMPSLEkid_cells_2748                0.0            1.0  \n",
       "AMPSLEkid_cells_0138                0.0            0.0  "
      ]
     },
     "execution_count": 139,
     "metadata": {},
     "output_type": "execute_result"
    }
   ],
   "source": [
    "# Start by making anndata object\n",
    "d = mad.MultiAnnData(X=harmony, obs=meta, sampleid=\"sample\")\n",
    "#d.obs_to_sample(['Type', 'Site',\n",
    "#                 'Responder_Status', 'Sex',\n",
    "#                 'Age', 'Race',\n",
    "#                'Ethnicity', 'ISN',\n",
    "#               'Activity', \"Chronicity\",\n",
    "#                 'processing_batch'])\n",
    "d.obs_to_sample(['Final_ISN_[III]', 'Final_ISN_[III][V]', 'Final_ISN_[IV]',\n",
    "                 'Final_ISN_[IV][V]', 'Final_ISN_[V]'])\n",
    "d.samplem.head()"
   ]
  },
  {
   "cell_type": "code",
   "execution_count": 140,
   "id": "6835ef57-589d-47e5-aa10-b998678b7b4b",
   "metadata": {},
   "outputs": [],
   "source": [
    "umap.index = d.obs.index\n",
    "d.obsm['X_umap'] = umap"
   ]
  },
  {
   "cell_type": "code",
   "execution_count": 141,
   "id": "9a766eeb-eedb-4054-a7c4-065ea16e50a2",
   "metadata": {},
   "outputs": [
    {
     "name": "stdout",
     "output_type": "stream",
     "text": [
      "computing default knn graph\n"
     ]
    }
   ],
   "source": [
    "np.random.seed(0) \n",
    "cna.pp.knn(d)"
   ]
  },
  {
   "cell_type": "code",
   "execution_count": 142,
   "id": "7bbd3cd5-2d49-49b6-940a-cf2cb02f09df",
   "metadata": {},
   "outputs": [
    {
     "name": "stdout",
     "output_type": "stream",
     "text": [
      "qcd NAM not found; computing and saving\n",
      "\ttaking step 1\n",
      "\tmedian kurtosis: 50.24106979370117\n",
      "\t20th percentile R2(t,t-1): nan\n",
      "\ttaking step 2\n",
      "\tmedian kurtosis: 33.02307891845703\n",
      "\t20th percentile R2(t,t-1): 0.7615886211395264\n",
      "\ttaking step 3\n",
      "\tmedian kurtosis: 22.02227783203125\n",
      "\t20th percentile R2(t,t-1): 0.9084737420082092\n",
      "\ttaking step 4\n",
      "\tmedian kurtosis: 14.879904747009277\n",
      "\t20th percentile R2(t,t-1): 0.9440323233604431\n",
      "\ttaking step 5\n",
      "\tmedian kurtosis: 10.545235633850098\n",
      "\t20th percentile R2(t,t-1): 0.9626616954803466\n",
      "\ttaking step 6\n",
      "\tmedian kurtosis: 7.996293544769287\n",
      "\t20th percentile R2(t,t-1): 0.9743828177452087\n",
      "stopping after 6 steps\n",
      "covariate-adjusted NAM not found; computing and saving\n"
     ]
    },
    {
     "name": "stderr",
     "output_type": "stream",
     "text": [
      "/PHShome/ssg34/.conda/envs/plswork/lib/python3.9/site-packages/cna/tools/_nam.py:79: UserWarning: only one unique batch supplied to qc\n",
      "  warnings.warn('only one unique batch supplied to qc')\n",
      "/PHShome/ssg34/.conda/envs/plswork/lib/python3.9/site-packages/cna/tools/_nam.py:101: UserWarning: only one unique batch supplied to prep\n",
      "  warnings.warn('only one unique batch supplied to prep')\n"
     ]
    },
    {
     "name": "stdout",
     "output_type": "stream",
     "text": [
      "computing SVD\n",
      "performing association test\n",
      "computing neighborhood-level FDRs\n",
      "10\n",
      "[1, 2, 3, 4, 5, 6, 7, 8, 9, 10, 11, 12, 13, 14, 15, 16, 17, 18, 19, 20]\n",
      "p = 0.06619338066193381 , 10 PCs used\n",
      "total r^2 between top 10 NAM PCs and outcome is 0.14\n"
     ]
    }
   ],
   "source": [
    "np.random.seed(0) \n",
    "res = cna.tl._association.association(d, #dataset \n",
    "                                      d.samplem['Final_ISN_[III]'], #phenotype\n",
    "#                                       batches=d.samplem.processing_batch, #batches\n",
    "                                      Nnull=10000, # number of null permutations to do (defaults to only 1e3)\n",
    "                                      ks=[1,2,3,4,5,6,7,8,9,10,11,12,13,14,15,16,17,18,19,20] # I asked the method to consider up to 10 PCs because\n",
    "                                                                #it chose the max number of PCs it considered the default set of [1,2,3,4]\n",
    "                                     )\n",
    "print(res.k)\n",
    "print(res.ks)\n",
    "print('p =', res.p, ',', res.k, 'PCs used')\n",
    "print('total r^2 between top {} NAM PCs and outcome is {:.2f}'.format(res.k, res.r2))"
   ]
  },
  {
   "cell_type": "code",
   "execution_count": 143,
   "id": "43dedee5-a438-4203-a488-c0ba0c17f34e",
   "metadata": {},
   "outputs": [
    {
     "name": "stdout",
     "output_type": "stream",
     "text": [
      "performing association test\n",
      "computing neighborhood-level FDRs\n",
      "8\n",
      "[1, 2, 3, 4, 5, 6, 7, 8, 9, 10, 11, 12, 13, 14, 15, 16, 17, 18, 19, 20]\n",
      "p = 0.27747225277472254 , 8 PCs used\n",
      "total r^2 between top 8 NAM PCs and outcome is 0.09\n"
     ]
    }
   ],
   "source": [
    "np.random.seed(0) \n",
    "res = cna.tl._association.association(d, #dataset \n",
    "                                      d.samplem['Final_ISN_[III][V]'], #phenotype\n",
    "#                                       batches=d.samplem.processing_batch, #batches\n",
    "                                      Nnull=10000, # number of null permutations to do (defaults to only 1e3)\n",
    "                                      ks=[1,2,3,4,5,6,7,8,9,10,11,12,13,14,15,16,17,18,19,20] # I asked the method to consider up to 10 PCs because\n",
    "                                                                #it chose the max number of PCs it considered the default set of [1,2,3,4]\n",
    "                                     )\n",
    "print(res.k)\n",
    "print(res.ks)\n",
    "print('p =', res.p, ',', res.k, 'PCs used')\n",
    "print('total r^2 between top {} NAM PCs and outcome is {:.2f}'.format(res.k, res.r2))"
   ]
  },
  {
   "cell_type": "code",
   "execution_count": 148,
   "id": "194bfc32-42cd-431f-a4d0-aaa798173556",
   "metadata": {},
   "outputs": [
    {
     "name": "stdout",
     "output_type": "stream",
     "text": [
      "performing association test\n",
      "computing neighborhood-level FDRs\n",
      "4\n",
      "[1, 2, 3, 4, 5, 6, 7, 8, 9, 10, 11, 12, 13, 14, 15, 16, 17, 18, 19, 20]\n",
      "p = 0.025597440255974404 , 4 PCs used\n",
      "total r^2 between top 4 NAM PCs and outcome is 0.10\n"
     ]
    }
   ],
   "source": [
    "np.random.seed(0) \n",
    "res = cna.tl._association.association(d, #dataset \n",
    "                                      d.samplem['Final_ISN_[IV]'], #phenotype\n",
    "#                                       batches=d.samplem.processing_batch, #batches\n",
    "                                      Nnull=10000, # number of null permutations to do (defaults to only 1e3)\n",
    "                                      ks=[1,2,3,4,5,6,7,8,9,10,11,12,13,14,15,16,17,18,19,20] # I asked the method to consider up to 10 PCs because\n",
    "                                                                #it chose the max number of PCs it considered the default set of [1,2,3,4]\n",
    "                                     )\n",
    "print(res.k)\n",
    "print(res.ks)\n",
    "print('p =', res.p, ',', res.k, 'PCs used')\n",
    "print('total r^2 between top {} NAM PCs and outcome is {:.2f}'.format(res.k, res.r2))"
   ]
  },
  {
   "cell_type": "code",
   "execution_count": 149,
   "id": "f899a2ac-bc88-47e6-8c60-f65fbd0f8cc2",
   "metadata": {},
   "outputs": [],
   "source": [
    "np.savetxt(\"/data/srlab/ssg34/SLE_kidney_v2/data/cna_new/myeloid/ISN/sc_ISN_[IV]_ncorr.csv\", \n",
    "               res.ncorrs, delimiter=\",\")\n",
    "np.savetxt(\"/data/srlab/ssg34/SLE_kidney_v2/data/cna_new/myeloid/ISN/sc_ISN_[IV]_fdrs.csv\", \n",
    "               res.fdrs, delimiter=\",\")"
   ]
  },
  {
   "cell_type": "code",
   "execution_count": 145,
   "id": "73c26d14-c859-4004-9812-969b70704d24",
   "metadata": {},
   "outputs": [
    {
     "name": "stdout",
     "output_type": "stream",
     "text": [
      "performing association test\n",
      "computing neighborhood-level FDRs\n",
      "1\n",
      "[1, 2, 3, 4, 5, 6, 7, 8, 9, 10, 11, 12, 13, 14, 15, 16, 17, 18, 19, 20]\n",
      "p = 0.7454254574542546 , 1 PCs used\n",
      "total r^2 between top 1 NAM PCs and outcome is 0.01\n"
     ]
    }
   ],
   "source": [
    "np.random.seed(0) \n",
    "res = cna.tl._association.association(d, #dataset \n",
    "                                      d.samplem['Final_ISN_[IV][V]'], #phenotype\n",
    "#                                       batches=d.samplem.processing_batch, #batches\n",
    "                                      Nnull=10000, # number of null permutations to do (defaults to only 1e3)\n",
    "                                      ks=[1,2,3,4,5,6,7,8,9,10,11,12,13,14,15,16,17,18,19,20] # I asked the method to consider up to 10 PCs because\n",
    "                                                                #it chose the max number of PCs it considered the default set of [1,2,3,4]\n",
    "                                     )\n",
    "print(res.k)\n",
    "print(res.ks)\n",
    "print('p =', res.p, ',', res.k, 'PCs used')\n",
    "print('total r^2 between top {} NAM PCs and outcome is {:.2f}'.format(res.k, res.r2))"
   ]
  },
  {
   "cell_type": "code",
   "execution_count": 150,
   "id": "cea68376-b378-4d2d-ae25-0de998a5ad2b",
   "metadata": {},
   "outputs": [
    {
     "name": "stdout",
     "output_type": "stream",
     "text": [
      "performing association test\n",
      "computing neighborhood-level FDRs\n",
      "3\n",
      "[1, 2, 3, 4, 5, 6, 7, 8, 9, 10, 11, 12, 13, 14, 15, 16, 17, 18, 19, 20]\n",
      "p = 0.023797620237976203 , 3 PCs used\n",
      "total r^2 between top 3 NAM PCs and outcome is 0.09\n"
     ]
    }
   ],
   "source": [
    "np.random.seed(0) \n",
    "res = cna.tl._association.association(d, #dataset \n",
    "                                      d.samplem['Final_ISN_[V]'], #phenotype\n",
    "#                                       batches=d.samplem.processing_batch, #batches\n",
    "                                      Nnull=10000, # number of null permutations to do (defaults to only 1e3)\n",
    "                                      ks=[1,2,3,4,5,6,7,8,9,10,11,12,13,14,15,16,17,18,19,20] # I asked the method to consider up to 10 PCs because\n",
    "                                                                #it chose the max number of PCs it considered the default set of [1,2,3,4]\n",
    "                                     )\n",
    "print(res.k)\n",
    "print(res.ks)\n",
    "print('p =', res.p, ',', res.k, 'PCs used')\n",
    "print('total r^2 between top {} NAM PCs and outcome is {:.2f}'.format(res.k, res.r2))"
   ]
  },
  {
   "cell_type": "code",
   "execution_count": 151,
   "id": "53f5e90a-bb1a-4ce8-93c5-cd76cedfe8a0",
   "metadata": {},
   "outputs": [],
   "source": [
    "np.savetxt(\"/data/srlab/ssg34/SLE_kidney_v2/data/cna_new/myeloid/ISN/sc_ISN_[V]_ncorr.csv\", \n",
    "               res.ncorrs, delimiter=\",\")\n",
    "np.savetxt(\"/data/srlab/ssg34/SLE_kidney_v2/data/cna_new/myeloid/ISN/sc_ISN_[V]_fdrs.csv\", \n",
    "               res.fdrs, delimiter=\",\")"
   ]
  },
  {
   "cell_type": "markdown",
   "id": "2ce9d325-9fe5-4bfa-92f5-ca80a224f31a",
   "metadata": {},
   "source": [
    "## Single Nuclear"
   ]
  },
  {
   "cell_type": "code",
   "execution_count": 152,
   "id": "88266d24-d5a6-4599-a3ae-f0096cee5b44",
   "metadata": {},
   "outputs": [
    {
     "name": "stdout",
     "output_type": "stream",
     "text": [
      "(50173, 27)\n"
     ]
    }
   ],
   "source": [
    "meta = pd.read_csv('/data/srlab/ssg34/SLE_kidney_v2/data/cna_new/PT/ISN/sn_meta.csv')\n",
    "print(meta.shape)"
   ]
  },
  {
   "cell_type": "code",
   "execution_count": 153,
   "id": "6b21013b-64ba-44cc-a0f3-a6404eb4d21c",
   "metadata": {},
   "outputs": [
    {
     "name": "stdout",
     "output_type": "stream",
     "text": [
      "(50173, 20)\n"
     ]
    }
   ],
   "source": [
    "harmony = pd.read_csv('/data/srlab/ssg34/SLE_kidney_v2/data/cna_new/PT/ISN/sn_harmony.csv')\n",
    "print(harmony.shape)"
   ]
  },
  {
   "cell_type": "code",
   "execution_count": 154,
   "id": "03bdfeae-94f4-44f1-91f2-85e618e3b4fb",
   "metadata": {},
   "outputs": [
    {
     "name": "stdout",
     "output_type": "stream",
     "text": [
      "(50173, 2)\n"
     ]
    }
   ],
   "source": [
    "umap = pd.read_csv('/data/srlab/ssg34/SLE_kidney_v2/data/cna_new/PT/ISN/sn_umap.csv')\n",
    "print(umap.shape)"
   ]
  },
  {
   "cell_type": "code",
   "execution_count": 155,
   "id": "83cde1e4-dd9e-4d6e-b8a8-91f752772fff",
   "metadata": {},
   "outputs": [
    {
     "name": "stdout",
     "output_type": "stream",
     "text": [
      "warning: the following columns of obs are non-numeric.\n",
      "['cell' 'Sex' 'sample' 'cluster_names' 'Responder.Status' 'Race'\n",
      " 'Final_ISN' 'Type' 'cell.1' 'Sex.1' 'sample.1' 'cluster_names.1'\n",
      " 'Responder.Status.1' 'Race.1' 'Final_ISN.1' 'Type.1']\n",
      "consider casting to numeric types where appropriate, and\n",
      "consider re-coding text-valued columns with pandas.get_dummies\n"
     ]
    },
    {
     "name": "stderr",
     "output_type": "stream",
     "text": [
      "/PHShome/ssg34/.conda/envs/plswork/lib/python3.9/site-packages/multianndata/core.py:17: FutureWarning: X.dtype being converted to np.float32 from float64. In the next version of anndata (0.9) conversion will not be automatic. Pass dtype explicitly to avoid this warning. Pass `AnnData(X, dtype=X.dtype, ...)` to get the future behavour.\n",
      "  super().__init__(*args, **kwargs)\n",
      "/PHShome/ssg34/.conda/envs/plswork/lib/python3.9/site-packages/anndata/_core/anndata.py:121: ImplicitModificationWarning: Transforming to str index.\n",
      "  warnings.warn(\"Transforming to str index.\", ImplicitModificationWarning)\n"
     ]
    },
    {
     "data": {
      "text/html": [
       "<div>\n",
       "<style scoped>\n",
       "    .dataframe tbody tr th:only-of-type {\n",
       "        vertical-align: middle;\n",
       "    }\n",
       "\n",
       "    .dataframe tbody tr th {\n",
       "        vertical-align: top;\n",
       "    }\n",
       "\n",
       "    .dataframe thead th {\n",
       "        text-align: right;\n",
       "    }\n",
       "</style>\n",
       "<table border=\"1\" class=\"dataframe\">\n",
       "  <thead>\n",
       "    <tr style=\"text-align: right;\">\n",
       "      <th></th>\n",
       "      <th>Final_ISN_[III]</th>\n",
       "      <th>Final_ISN_[III][V]</th>\n",
       "      <th>Final_ISN_[IV]</th>\n",
       "      <th>Final_ISN_[IV][V]</th>\n",
       "      <th>Final_ISN_[V]</th>\n",
       "    </tr>\n",
       "    <tr>\n",
       "      <th>sample</th>\n",
       "      <th></th>\n",
       "      <th></th>\n",
       "      <th></th>\n",
       "      <th></th>\n",
       "      <th></th>\n",
       "    </tr>\n",
       "  </thead>\n",
       "  <tbody>\n",
       "    <tr>\n",
       "      <th>AMPSLEkid_cells_0137</th>\n",
       "      <td>1.0</td>\n",
       "      <td>0.0</td>\n",
       "      <td>0.0</td>\n",
       "      <td>0.0</td>\n",
       "      <td>0.0</td>\n",
       "    </tr>\n",
       "    <tr>\n",
       "      <th>AMPSLEkid_cells_0138</th>\n",
       "      <td>0.0</td>\n",
       "      <td>1.0</td>\n",
       "      <td>0.0</td>\n",
       "      <td>0.0</td>\n",
       "      <td>0.0</td>\n",
       "    </tr>\n",
       "    <tr>\n",
       "      <th>AMPSLEkid_cells_0139</th>\n",
       "      <td>0.0</td>\n",
       "      <td>1.0</td>\n",
       "      <td>0.0</td>\n",
       "      <td>0.0</td>\n",
       "      <td>0.0</td>\n",
       "    </tr>\n",
       "    <tr>\n",
       "      <th>AMPSLEkid_cells_0147</th>\n",
       "      <td>1.0</td>\n",
       "      <td>0.0</td>\n",
       "      <td>0.0</td>\n",
       "      <td>0.0</td>\n",
       "      <td>0.0</td>\n",
       "    </tr>\n",
       "    <tr>\n",
       "      <th>AMPSLEkid_cells_0366</th>\n",
       "      <td>0.0</td>\n",
       "      <td>1.0</td>\n",
       "      <td>0.0</td>\n",
       "      <td>0.0</td>\n",
       "      <td>0.0</td>\n",
       "    </tr>\n",
       "  </tbody>\n",
       "</table>\n",
       "</div>"
      ],
      "text/plain": [
       "                      Final_ISN_[III]  Final_ISN_[III][V]  Final_ISN_[IV]  \\\n",
       "sample                                                                      \n",
       "AMPSLEkid_cells_0137              1.0                 0.0             0.0   \n",
       "AMPSLEkid_cells_0138              0.0                 1.0             0.0   \n",
       "AMPSLEkid_cells_0139              0.0                 1.0             0.0   \n",
       "AMPSLEkid_cells_0147              1.0                 0.0             0.0   \n",
       "AMPSLEkid_cells_0366              0.0                 1.0             0.0   \n",
       "\n",
       "                      Final_ISN_[IV][V]  Final_ISN_[V]  \n",
       "sample                                                  \n",
       "AMPSLEkid_cells_0137                0.0            0.0  \n",
       "AMPSLEkid_cells_0138                0.0            0.0  \n",
       "AMPSLEkid_cells_0139                0.0            0.0  \n",
       "AMPSLEkid_cells_0147                0.0            0.0  \n",
       "AMPSLEkid_cells_0366                0.0            0.0  "
      ]
     },
     "execution_count": 155,
     "metadata": {},
     "output_type": "execute_result"
    }
   ],
   "source": [
    "# Start by making anndata object\n",
    "d = mad.MultiAnnData(X=harmony, obs=meta, sampleid=\"sample\")\n",
    "#d.obs_to_sample(['Type', 'Site',\n",
    "#                 'Responder_Status', 'Sex',\n",
    "#                 'Age', 'Race',\n",
    "#                'Ethnicity', 'ISN',\n",
    "#               'Activity', \"Chronicity\",\n",
    "#                 'processing_batch'])\n",
    "d.obs_to_sample(['Final_ISN_[III]', 'Final_ISN_[III][V]', 'Final_ISN_[IV]',\n",
    "                 'Final_ISN_[IV][V]', 'Final_ISN_[V]'])\n",
    "d.samplem.head()"
   ]
  },
  {
   "cell_type": "code",
   "execution_count": 156,
   "id": "d222bdf4-35c2-4e19-9d2e-63c9708212e7",
   "metadata": {},
   "outputs": [],
   "source": [
    "umap.index = d.obs.index\n",
    "d.obsm['X_umap'] = umap"
   ]
  },
  {
   "cell_type": "code",
   "execution_count": 157,
   "id": "226a8088-a052-4b90-8bec-be1f04b2e35f",
   "metadata": {},
   "outputs": [
    {
     "name": "stdout",
     "output_type": "stream",
     "text": [
      "computing default knn graph\n"
     ]
    }
   ],
   "source": [
    "np.random.seed(0) \n",
    "cna.pp.knn(d)"
   ]
  },
  {
   "cell_type": "code",
   "execution_count": 158,
   "id": "f6b5ffca-3db4-48ca-9443-b8923468222c",
   "metadata": {},
   "outputs": [
    {
     "name": "stdout",
     "output_type": "stream",
     "text": [
      "qcd NAM not found; computing and saving\n",
      "\ttaking step 1\n",
      "\tmedian kurtosis: 13.259119033813477\n",
      "\t20th percentile R2(t,t-1): nan\n",
      "\ttaking step 2\n",
      "\tmedian kurtosis: 9.410001754760742\n",
      "\t20th percentile R2(t,t-1): 0.7799340009689331\n",
      "\ttaking step 3\n",
      "\tmedian kurtosis: 6.884187698364258\n",
      "\t20th percentile R2(t,t-1): 0.9179095029830933\n",
      "stopping after 3 steps\n",
      "covariate-adjusted NAM not found; computing and saving\n",
      "computing SVD\n",
      "performing association test\n"
     ]
    },
    {
     "name": "stderr",
     "output_type": "stream",
     "text": [
      "/PHShome/ssg34/.conda/envs/plswork/lib/python3.9/site-packages/cna/tools/_nam.py:79: UserWarning: only one unique batch supplied to qc\n",
      "  warnings.warn('only one unique batch supplied to qc')\n",
      "/PHShome/ssg34/.conda/envs/plswork/lib/python3.9/site-packages/cna/tools/_nam.py:101: UserWarning: only one unique batch supplied to prep\n",
      "  warnings.warn('only one unique batch supplied to prep')\n"
     ]
    },
    {
     "name": "stdout",
     "output_type": "stream",
     "text": [
      "computing neighborhood-level FDRs\n",
      "18\n",
      "[1, 2, 3, 4, 5, 6, 7, 8, 9, 10, 11, 12, 13, 14, 15, 16, 17, 18, 19, 20]\n",
      "p = 0.9583041695830417 , 18 PCs used\n",
      "total r^2 between top 18 NAM PCs and outcome is 0.34\n"
     ]
    }
   ],
   "source": [
    "np.random.seed(0) \n",
    "res = cna.tl._association.association(d, #dataset \n",
    "                                      d.samplem['Final_ISN_[IV]'], #phenotype\n",
    "#                                       batches=d.samplem.processing_batch, #batches\n",
    "                                      Nnull=10000, # number of null permutations to do (defaults to only 1e3)\n",
    "                                      ks=[1,2,3,4,5,6,7,8,9,10,11,12,13,14,15,16,17,18,19,20] # I asked the method to consider up to 10 PCs because\n",
    "                                                                #it chose the max number of PCs it considered the default set of [1,2,3,4]\n",
    "                                     )\n",
    "print(res.k)\n",
    "print(res.ks)\n",
    "print('p =', res.p, ',', res.k, 'PCs used')\n",
    "print('total r^2 between top {} NAM PCs and outcome is {:.2f}'.format(res.k, res.r2))"
   ]
  },
  {
   "cell_type": "code",
   "execution_count": 159,
   "id": "ec19f1cf-6dbd-4ca5-83cb-b2c975b2e1cd",
   "metadata": {},
   "outputs": [
    {
     "name": "stdout",
     "output_type": "stream",
     "text": [
      "performing association test\n",
      "computing neighborhood-level FDRs\n",
      "12\n",
      "[1, 2, 3, 4, 5, 6, 7, 8, 9, 10, 11, 12, 13, 14, 15, 16, 17, 18, 19, 20]\n",
      "p = 0.7552244775522448 , 12 PCs used\n",
      "total r^2 between top 12 NAM PCs and outcome is 0.34\n"
     ]
    }
   ],
   "source": [
    "np.random.seed(0) \n",
    "res = cna.tl._association.association(d, #dataset \n",
    "                                      d.samplem['Final_ISN_[V]'], #phenotype\n",
    "#                                       batches=d.samplem.processing_batch, #batches\n",
    "                                      Nnull=10000, # number of null permutations to do (defaults to only 1e3)\n",
    "                                      ks=[1,2,3,4,5,6,7,8,9,10,11,12,13,14,15,16,17,18,19,20] # I asked the method to consider up to 10 PCs because\n",
    "                                                                #it chose the max number of PCs it considered the default set of [1,2,3,4]\n",
    "                                     )\n",
    "print(res.k)\n",
    "print(res.ks)\n",
    "print('p =', res.p, ',', res.k, 'PCs used')\n",
    "print('total r^2 between top {} NAM PCs and outcome is {:.2f}'.format(res.k, res.r2))"
   ]
  }
 ],
 "metadata": {
  "kernelspec": {
   "display_name": "Python 3 (ipykernel)",
   "language": "python",
   "name": "python3"
  },
  "language_info": {
   "codemirror_mode": {
    "name": "ipython",
    "version": 3
   },
   "file_extension": ".py",
   "mimetype": "text/x-python",
   "name": "python",
   "nbconvert_exporter": "python",
   "pygments_lexer": "ipython3",
   "version": "3.9.13"
  }
 },
 "nbformat": 4,
 "nbformat_minor": 5
}
