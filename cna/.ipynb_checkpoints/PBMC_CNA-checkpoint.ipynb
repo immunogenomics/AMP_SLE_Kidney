{
 "cells": [
  {
   "cell_type": "markdown",
   "id": "f9c46b28-8100-4faf-9acf-b8452cda48c4",
   "metadata": {},
   "source": [
    "# SLE PBMC CNA\n",
    "## SID GURAJALA\n",
    "## 08/04/2023"
   ]
  },
  {
   "cell_type": "code",
   "execution_count": 1,
   "id": "693910a6-2da7-4e85-9790-8dd58a79dda3",
   "metadata": {},
   "outputs": [],
   "source": [
    "import scanpy as sc\n",
    "import numpy as np\n",
    "import pandas as pd\n",
    "import matplotlib.pyplot as plt\n",
    "import scipy.stats as st\n",
    "import cna\n",
    "import multianndata as mad\n",
    "\n",
    "# For Aparna's Import\n",
    "import scipy.io\n",
    "\n",
    "# For reproducibility\n",
    "np.random.seed(0) "
   ]
  },
  {
   "cell_type": "code",
   "execution_count": 36,
   "id": "86bd5e0f-0f7f-4c63-9fa8-c2ced171990e",
   "metadata": {},
   "outputs": [],
   "source": [
    "def run_cna(variable, cna_obj, covs = None):\n",
    "    if covs is not None:\n",
    "        cna_res = cna.tl._association.association(cna_obj, #dataset \n",
    "                                                  cna_obj.samplem[variable], #phenotype\n",
    "            #                                       batches=d.samplem.processing_batch, #batches\n",
    "                                                  covs = cna_obj.samplem[covs],\n",
    "                                                  Nnull=10000, # number of null permutations to do (defaults to only 1e3)\n",
    "                                                  ks=[1,2,3,4,5,6,7,8,9,10,11,12,13,14,15,16,17,18,19,20] # I asked the method to consider up to 10 PCs because\n",
    "                                                                            #it chose the max number of PCs it considered the default set of [1,2,3,4]\n",
    "                                                 )\n",
    "    else:\n",
    "        cna_res = cna.tl._association.association(cna_obj, #dataset \n",
    "                                                  cna_obj.samplem[variable], #phenotype\n",
    "            #                                       batches=d.samplem.processing_batch, #batches\n",
    "                                                 # covs = d.samplem[covs]\n",
    "                                                  Nnull=10000, # number of null permutations to do (defaults to only 1e3)\n",
    "                                                  ks=[1,2,3,4,5,6,7,8,9,10,11,12,13,14,15,16,17,18,19,20] # I asked the method to consider up to 10 PCs because\n",
    "                                                                            #it chose the max number of PCs it considered the default set of [1,2,3,4]\n",
    "                                                 )\n",
    "        \n",
    "    return cna_res\n",
    "def cna_test(meta_df, harmony_df, umap_df, variable, covars = None):\n",
    "    print(meta_df.shape)\n",
    "    print(harmony_df.shape)\n",
    "    print(umap_df.shape)\n",
    "    cna_object = mad.MultiAnnData(X=harmony_df, obs=meta_df, sampleid=\"Unified_Visit\")\n",
    "    if covars is not None:   \n",
    "        cna_object.obs_to_sample(covars + [variable])\n",
    "        umap_df.index = cna_object.obs.index\n",
    "        cna_object.obsm['X_umap'] = umap_df\n",
    "        cna.pp.knn(cna_object)\n",
    "        np.random.seed(0) \n",
    "        final_res = run_cna(variable, cna_object, covs = covars)\n",
    "    else:\n",
    "        cna_object.obs_to_sample([variable])\n",
    "        umap_df.index = cna_object.obs.index\n",
    "        cna_object.obsm['X_umap'] = umap_df\n",
    "        cna.pp.knn(cna_object)\n",
    "        np.random.seed(0) \n",
    "        final_res = run_cna(variable, cna_object, covs = None)\n",
    "    print(final_res.k)\n",
    "    print(final_res.ks)\n",
    "    print('p =', final_res.p, ',', final_res.k, 'PCs used')\n",
    "    print('total r^2 between top {} NAM PCs and outcome is {:.2f}'.format(final_res.k, final_res.r2))\n",
    "    return cna_object, final_res"
   ]
  },
  {
   "cell_type": "markdown",
   "id": "de6673e4-2e7a-4f8c-a3eb-2624a7e50257",
   "metadata": {},
   "source": [
    "# ALL PBMC"
   ]
  },
  {
   "cell_type": "markdown",
   "id": "33ffb279-cf54-4c3c-91e8-4df45bb32150",
   "metadata": {},
   "source": [
    "## CASE/CONTROL"
   ]
  },
  {
   "cell_type": "code",
   "execution_count": 11,
   "id": "d34fb69b-b65a-4036-ae6b-efe53e6bf34f",
   "metadata": {},
   "outputs": [
    {
     "name": "stderr",
     "output_type": "stream",
     "text": [
      "/tmp/ipykernel_58117/1310800355.py:1: DtypeWarning: Columns (11,24,25,32,33,37,38,40,42,47,48,50,64) have mixed types. Specify dtype option on import or set low_memory=False.\n",
      "  meta = pd.read_csv('/data/srlab/ssg34/SLE_kidney_v2/data/pbmc/case_control/meta.csv')\n"
     ]
    },
    {
     "name": "stdout",
     "output_type": "stream",
     "text": [
      "(327326, 71)\n"
     ]
    }
   ],
   "source": [
    "meta = pd.read_csv('/data/srlab/ssg34/SLE_kidney_v2/data/pbmc/case_control/meta.csv')\n",
    "print(meta.shape)"
   ]
  },
  {
   "cell_type": "code",
   "execution_count": 12,
   "id": "38540797-e01f-499d-bac2-64d260191ff0",
   "metadata": {},
   "outputs": [
    {
     "name": "stdout",
     "output_type": "stream",
     "text": [
      "(327326, 20)\n"
     ]
    }
   ],
   "source": [
    "harmony = pd.read_csv('/data/srlab/ssg34/SLE_kidney_v2/data/pbmc/case_control/harmony.csv')\n",
    "print(harmony.shape)"
   ]
  },
  {
   "cell_type": "code",
   "execution_count": 13,
   "id": "81cab4b6-e83e-46f1-821b-3febbd2c6187",
   "metadata": {},
   "outputs": [
    {
     "name": "stdout",
     "output_type": "stream",
     "text": [
      "(327326, 2)\n"
     ]
    }
   ],
   "source": [
    "umap = pd.read_csv('/data/srlab/ssg34/SLE_kidney_v2/data/pbmc/case_control/umap.csv')\n",
    "print(umap.shape)"
   ]
  },
  {
   "cell_type": "code",
   "execution_count": 14,
   "id": "b0ef36fd-a53a-477b-b7dc-f4a4ef8f0554",
   "metadata": {},
   "outputs": [
    {
     "name": "stdout",
     "output_type": "stream",
     "text": [
      "(327326, 71)\n",
      "(327326, 20)\n",
      "(327326, 2)\n"
     ]
    },
    {
     "name": "stderr",
     "output_type": "stream",
     "text": [
      "/PHShome/ssg34/.conda/envs/plswork/lib/python3.9/site-packages/multianndata/core.py:17: FutureWarning: X.dtype being converted to np.float32 from float64. In the next version of anndata (0.9) conversion will not be automatic. Pass dtype explicitly to avoid this warning. Pass `AnnData(X, dtype=X.dtype, ...)` to get the future behavour.\n",
      "  super().__init__(*args, **kwargs)\n",
      "/PHShome/ssg34/.conda/envs/plswork/lib/python3.9/site-packages/anndata/_core/anndata.py:121: ImplicitModificationWarning: Transforming to str index.\n",
      "  warnings.warn(\"Transforming to str index.\", ImplicitModificationWarning)\n"
     ]
    },
    {
     "name": "stdout",
     "output_type": "stream",
     "text": [
      "warning: the following columns of obs are non-numeric.\n",
      "['orig.ident' 'BARCODE' 'SNG.1ST' 'Cell' 'Scrublet_Sample'\n",
      " 'doublet_prediction' 'Unified_Visit' 'Donor' 'cell.type.ids' 'broad.ids'\n",
      " 'mono.ids' 'AMP.ID' 'Site' 'Race' 'Ethnicity' 'sample' 'processing.date'\n",
      " 'XTR.WTA.batch' 'DASH.batch' 'index' 'seq.submission.date' 'Flow.cell'\n",
      " 'AMP.Subject_ID']\n",
      "consider casting to numeric types where appropriate, and\n",
      "consider re-coding text-valued columns with pandas.get_dummies\n",
      "computing default knn graph\n"
     ]
    },
    {
     "name": "stderr",
     "output_type": "stream",
     "text": [
      "/PHShome/ssg34/.conda/envs/plswork/lib/python3.9/site-packages/tqdm/auto.py:22: TqdmWarning: IProgress not found. Please update jupyter and ipywidgets. See https://ipywidgets.readthedocs.io/en/stable/user_install.html\n",
      "  from .autonotebook import tqdm as notebook_tqdm\n"
     ]
    },
    {
     "name": "stdout",
     "output_type": "stream",
     "text": [
      "qcd NAM not found; computing and saving\n",
      "\ttaking step 1\n",
      "\tmedian kurtosis: 33.316904067993164\n",
      "\t20th percentile R2(t,t-1): nan\n",
      "\ttaking step 2\n",
      "\tmedian kurtosis: 23.834857940673828\n",
      "\t20th percentile R2(t,t-1): 0.7511872768402099\n",
      "\ttaking step 3\n",
      "\tmedian kurtosis: 14.018280982971191\n",
      "\t20th percentile R2(t,t-1): 0.9037248492240906\n",
      "\ttaking step 4\n",
      "\tmedian kurtosis: 10.01632833480835\n",
      "\t20th percentile R2(t,t-1): 0.9467000961303711\n",
      "\ttaking step 5\n",
      "\tmedian kurtosis: 8.10494089126587\n",
      "\t20th percentile R2(t,t-1): 0.9690328717231751\n",
      "stopping after 5 steps\n",
      "covariate-adjusted NAM not found; computing and saving\n",
      "\twith ridge 100000.0 median batch kurtosis =  nan\n",
      "\twith ridge 10000.0 median batch kurtosis =  nan\n",
      "\twith ridge 1000.0 median batch kurtosis =  nan\n",
      "\twith ridge 100.0 median batch kurtosis =  nan\n",
      "\twith ridge 10.0 median batch kurtosis =  nan\n",
      "\twith ridge 1.0 median batch kurtosis =  nan\n",
      "\twith ridge 0.1 median batch kurtosis =  nan\n",
      "\twith ridge 0.01 median batch kurtosis =  nan\n",
      "\twith ridge 0.001 median batch kurtosis =  nan\n",
      "\twith ridge 0.0001 median batch kurtosis =  nan\n",
      "\twith ridge 0 median batch kurtosis =  nan\n",
      "computing SVD\n"
     ]
    },
    {
     "name": "stderr",
     "output_type": "stream",
     "text": [
      "/PHShome/ssg34/.conda/envs/plswork/lib/python3.9/site-packages/cna/tools/_nam.py:79: UserWarning: only one unique batch supplied to qc\n",
      "  warnings.warn('only one unique batch supplied to qc')\n",
      "/PHShome/ssg34/.conda/envs/plswork/lib/python3.9/site-packages/cna/tools/_nam.py:94: RuntimeWarning: Mean of empty slice.\n",
      "  NAM_ = NAM - NAM.mean(axis=0)\n",
      "/PHShome/ssg34/.conda/envs/plswork/lib/python3.9/site-packages/numpy/core/_methods.py:181: RuntimeWarning: invalid value encountered in true_divide\n",
      "  ret = um.true_divide(\n",
      "/PHShome/ssg34/.conda/envs/plswork/lib/python3.9/site-packages/cna/tools/_nam.py:98: RuntimeWarning: Mean of empty slice.\n",
      "  covs = (covs - covs.mean(axis=0))/covs.std(axis=0)\n",
      "/PHShome/ssg34/.conda/envs/plswork/lib/python3.9/site-packages/numpy/core/_methods.py:264: RuntimeWarning: Degrees of freedom <= 0 for slice\n",
      "  ret = _var(a, axis=axis, dtype=dtype, out=out, ddof=ddof,\n",
      "/PHShome/ssg34/.conda/envs/plswork/lib/python3.9/site-packages/numpy/core/_methods.py:222: RuntimeWarning: invalid value encountered in true_divide\n",
      "  arrmean = um.true_divide(arrmean, div, out=arrmean, casting='unsafe',\n",
      "/PHShome/ssg34/.conda/envs/plswork/lib/python3.9/site-packages/numpy/core/_methods.py:253: RuntimeWarning: invalid value encountered in true_divide\n",
      "  ret = um.true_divide(\n",
      "/PHShome/ssg34/.conda/envs/plswork/lib/python3.9/site-packages/cna/tools/_nam.py:110: RuntimeWarning: Mean of empty slice.\n",
      "  B = (B - B.mean(axis=0))/B.std(axis=0)\n",
      "/PHShome/ssg34/.conda/envs/plswork/lib/python3.9/site-packages/scipy/stats/_stats_py.py:1452: RuntimeWarning: Mean of empty slice.\n",
      "  mean = a.mean(axis, keepdims=True)\n",
      "/PHShome/ssg34/.conda/envs/plswork/lib/python3.9/site-packages/numpy/core/fromnumeric.py:3474: RuntimeWarning: Mean of empty slice.\n",
      "  return _methods._mean(a, axis=axis, dtype=dtype,\n",
      "/PHShome/ssg34/.conda/envs/plswork/lib/python3.9/site-packages/numpy/core/_methods.py:189: RuntimeWarning: invalid value encountered in double_scalars\n",
      "  ret = ret.dtype.type(ret / rcount)\n"
     ]
    },
    {
     "name": "stdout",
     "output_type": "stream",
     "text": [
      "performing association test\n"
     ]
    },
    {
     "name": "stderr",
     "output_type": "stream",
     "text": [
      "/PHShome/ssg34/.conda/envs/plswork/lib/python3.9/site-packages/cna/tools/_association.py:18: RuntimeWarning: Mean of empty slice.\n",
      "  y = (y - y.mean())/y.std()\n",
      "/PHShome/ssg34/.conda/envs/plswork/lib/python3.9/site-packages/numpy/core/_methods.py:189: RuntimeWarning: invalid value encountered in double_scalars\n",
      "  ret = ret.dtype.type(ret / rcount)\n",
      "/PHShome/ssg34/.conda/envs/plswork/lib/python3.9/site-packages/numpy/core/_methods.py:264: RuntimeWarning: Degrees of freedom <= 0 for slice\n",
      "  ret = _var(a, axis=axis, dtype=dtype, out=out, ddof=ddof,\n",
      "/PHShome/ssg34/.conda/envs/plswork/lib/python3.9/site-packages/numpy/core/_methods.py:222: RuntimeWarning: invalid value encountered in true_divide\n",
      "  arrmean = um.true_divide(arrmean, div, out=arrmean, casting='unsafe',\n",
      "/PHShome/ssg34/.conda/envs/plswork/lib/python3.9/site-packages/numpy/core/_methods.py:256: RuntimeWarning: invalid value encountered in double_scalars\n",
      "  ret = ret.dtype.type(ret / rcount)\n",
      "/PHShome/ssg34/.conda/envs/plswork/lib/python3.9/site-packages/cna/tools/_association.py:36: RuntimeWarning: invalid value encountered in double_scalars\n",
      "  f = (deltasse / k) / (ssefull/n)\n",
      "/PHShome/ssg34/.conda/envs/plswork/lib/python3.9/site-packages/cna/tools/_association.py:38: RuntimeWarning: invalid value encountered in double_scalars\n",
      "  r2 = 1 - ssefull/ssered\n"
     ]
    },
    {
     "ename": "ValueError",
     "evalue": "need at least one array to concatenate",
     "output_type": "error",
     "traceback": [
      "\u001b[0;31m---------------------------------------------------------------------------\u001b[0m",
      "\u001b[0;31mValueError\u001b[0m                                Traceback (most recent call last)",
      "Input \u001b[0;32mIn [14]\u001b[0m, in \u001b[0;36m<cell line: 1>\u001b[0;34m()\u001b[0m\n\u001b[0;32m----> 1\u001b[0m \u001b[43mcna_test\u001b[49m\u001b[43m(\u001b[49m\u001b[43mmeta_df\u001b[49m\u001b[43m \u001b[49m\u001b[38;5;241;43m=\u001b[39;49m\u001b[43m \u001b[49m\u001b[43mmeta\u001b[49m\u001b[43m,\u001b[49m\u001b[43m \u001b[49m\u001b[43mharmony_df\u001b[49m\u001b[43m \u001b[49m\u001b[38;5;241;43m=\u001b[39;49m\u001b[43m \u001b[49m\u001b[43mharmony\u001b[49m\u001b[43m,\u001b[49m\u001b[43m \u001b[49m\n\u001b[1;32m      2\u001b[0m \u001b[43m                  \u001b[49m\u001b[43mumap_df\u001b[49m\u001b[43m \u001b[49m\u001b[38;5;241;43m=\u001b[39;49m\u001b[43m \u001b[49m\u001b[43mumap\u001b[49m\u001b[43m,\u001b[49m\u001b[43m \u001b[49m\u001b[43mvariable\u001b[49m\u001b[43m \u001b[49m\u001b[38;5;241;43m=\u001b[39;49m\u001b[43m \u001b[49m\u001b[38;5;124;43m'\u001b[39;49m\u001b[38;5;124;43mType\u001b[39;49m\u001b[38;5;124;43m'\u001b[39;49m\u001b[43m,\u001b[49m\u001b[43m \u001b[49m\n\u001b[1;32m      3\u001b[0m \u001b[43m         \u001b[49m\u001b[43mcovars\u001b[49m\u001b[43m \u001b[49m\u001b[38;5;241;43m=\u001b[39;49m\u001b[43m \u001b[49m\u001b[43m[\u001b[49m\u001b[38;5;124;43m'\u001b[39;49m\u001b[38;5;124;43mAge\u001b[39;49m\u001b[38;5;124;43m'\u001b[39;49m\u001b[43m,\u001b[49m\u001b[43m \u001b[49m\u001b[38;5;124;43m'\u001b[39;49m\u001b[38;5;124;43mSex\u001b[39;49m\u001b[38;5;124;43m'\u001b[39;49m\u001b[43m]\u001b[49m\u001b[43m)\u001b[49m\n",
      "Input \u001b[0;32mIn [2]\u001b[0m, in \u001b[0;36mcna_test\u001b[0;34m(meta_df, harmony_df, umap_df, variable, covars)\u001b[0m\n\u001b[1;32m     31\u001b[0m     cna\u001b[38;5;241m.\u001b[39mpp\u001b[38;5;241m.\u001b[39mknn(cna_object)\n\u001b[1;32m     32\u001b[0m     np\u001b[38;5;241m.\u001b[39mrandom\u001b[38;5;241m.\u001b[39mseed(\u001b[38;5;241m0\u001b[39m) \n\u001b[0;32m---> 33\u001b[0m     final_res \u001b[38;5;241m=\u001b[39m \u001b[43mrun_cna\u001b[49m\u001b[43m(\u001b[49m\u001b[43mvariable\u001b[49m\u001b[43m,\u001b[49m\u001b[43m \u001b[49m\u001b[43mcna_object\u001b[49m\u001b[43m,\u001b[49m\u001b[43m \u001b[49m\u001b[43mcovs\u001b[49m\u001b[43m \u001b[49m\u001b[38;5;241;43m=\u001b[39;49m\u001b[43m \u001b[49m\u001b[43mcovars\u001b[49m\u001b[43m)\u001b[49m\n\u001b[1;32m     34\u001b[0m \u001b[38;5;28;01melse\u001b[39;00m:\n\u001b[1;32m     35\u001b[0m     cna_object\u001b[38;5;241m.\u001b[39mobs_to_sample([variable])\n",
      "Input \u001b[0;32mIn [2]\u001b[0m, in \u001b[0;36mrun_cna\u001b[0;34m(variable, cna_obj, covs)\u001b[0m\n\u001b[1;32m      1\u001b[0m \u001b[38;5;28;01mdef\u001b[39;00m \u001b[38;5;21mrun_cna\u001b[39m(variable, cna_obj, covs \u001b[38;5;241m=\u001b[39m \u001b[38;5;28;01mNone\u001b[39;00m):\n\u001b[1;32m      2\u001b[0m     \u001b[38;5;28;01mif\u001b[39;00m covs \u001b[38;5;129;01mis\u001b[39;00m \u001b[38;5;129;01mnot\u001b[39;00m \u001b[38;5;28;01mNone\u001b[39;00m:\n\u001b[0;32m----> 3\u001b[0m         cna_res \u001b[38;5;241m=\u001b[39m \u001b[43mcna\u001b[49m\u001b[38;5;241;43m.\u001b[39;49m\u001b[43mtl\u001b[49m\u001b[38;5;241;43m.\u001b[39;49m\u001b[43m_association\u001b[49m\u001b[38;5;241;43m.\u001b[39;49m\u001b[43massociation\u001b[49m\u001b[43m(\u001b[49m\u001b[43mcna_obj\u001b[49m\u001b[43m,\u001b[49m\u001b[43m \u001b[49m\u001b[38;5;66;43;03m#dataset \u001b[39;49;00m\n\u001b[1;32m      4\u001b[0m \u001b[43m                                                  \u001b[49m\u001b[43mcna_obj\u001b[49m\u001b[38;5;241;43m.\u001b[39;49m\u001b[43msamplem\u001b[49m\u001b[43m[\u001b[49m\u001b[43mvariable\u001b[49m\u001b[43m]\u001b[49m\u001b[43m,\u001b[49m\u001b[43m \u001b[49m\u001b[38;5;66;43;03m#phenotype\u001b[39;49;00m\n\u001b[1;32m      5\u001b[0m \u001b[43m            \u001b[49m\u001b[38;5;66;43;03m#                                       batches=d.samplem.processing_batch, #batches\u001b[39;49;00m\n\u001b[1;32m      6\u001b[0m \u001b[43m                                                  \u001b[49m\u001b[43mcovs\u001b[49m\u001b[43m \u001b[49m\u001b[38;5;241;43m=\u001b[39;49m\u001b[43m \u001b[49m\u001b[43mcna_obj\u001b[49m\u001b[38;5;241;43m.\u001b[39;49m\u001b[43msamplem\u001b[49m\u001b[43m[\u001b[49m\u001b[43mcovs\u001b[49m\u001b[43m]\u001b[49m\u001b[43m,\u001b[49m\n\u001b[1;32m      7\u001b[0m \u001b[43m                                                  \u001b[49m\u001b[43mNnull\u001b[49m\u001b[38;5;241;43m=\u001b[39;49m\u001b[38;5;241;43m10000\u001b[39;49m\u001b[43m,\u001b[49m\u001b[43m \u001b[49m\u001b[38;5;66;43;03m# number of null permutations to do (defaults to only 1e3)\u001b[39;49;00m\n\u001b[1;32m      8\u001b[0m \u001b[43m                                                  \u001b[49m\u001b[43mks\u001b[49m\u001b[38;5;241;43m=\u001b[39;49m\u001b[43m[\u001b[49m\u001b[38;5;241;43m1\u001b[39;49m\u001b[43m,\u001b[49m\u001b[38;5;241;43m2\u001b[39;49m\u001b[43m,\u001b[49m\u001b[38;5;241;43m3\u001b[39;49m\u001b[43m,\u001b[49m\u001b[38;5;241;43m4\u001b[39;49m\u001b[43m,\u001b[49m\u001b[38;5;241;43m5\u001b[39;49m\u001b[43m,\u001b[49m\u001b[38;5;241;43m6\u001b[39;49m\u001b[43m,\u001b[49m\u001b[38;5;241;43m7\u001b[39;49m\u001b[43m,\u001b[49m\u001b[38;5;241;43m8\u001b[39;49m\u001b[43m,\u001b[49m\u001b[38;5;241;43m9\u001b[39;49m\u001b[43m,\u001b[49m\u001b[38;5;241;43m10\u001b[39;49m\u001b[43m,\u001b[49m\u001b[38;5;241;43m11\u001b[39;49m\u001b[43m,\u001b[49m\u001b[38;5;241;43m12\u001b[39;49m\u001b[43m,\u001b[49m\u001b[38;5;241;43m13\u001b[39;49m\u001b[43m,\u001b[49m\u001b[38;5;241;43m14\u001b[39;49m\u001b[43m,\u001b[49m\u001b[38;5;241;43m15\u001b[39;49m\u001b[43m,\u001b[49m\u001b[38;5;241;43m16\u001b[39;49m\u001b[43m,\u001b[49m\u001b[38;5;241;43m17\u001b[39;49m\u001b[43m,\u001b[49m\u001b[38;5;241;43m18\u001b[39;49m\u001b[43m,\u001b[49m\u001b[38;5;241;43m19\u001b[39;49m\u001b[43m,\u001b[49m\u001b[38;5;241;43m20\u001b[39;49m\u001b[43m]\u001b[49m\u001b[43m \u001b[49m\u001b[38;5;66;43;03m# I asked the method to consider up to 10 PCs because\u001b[39;49;00m\n\u001b[1;32m      9\u001b[0m \u001b[43m                                                                            \u001b[49m\u001b[38;5;66;43;03m#it chose the max number of PCs it considered the default set of [1,2,3,4]\u001b[39;49;00m\n\u001b[1;32m     10\u001b[0m \u001b[43m                                                 \u001b[49m\u001b[43m)\u001b[49m\n\u001b[1;32m     11\u001b[0m     \u001b[38;5;28;01melse\u001b[39;00m:\n\u001b[1;32m     12\u001b[0m         cna_res \u001b[38;5;241m=\u001b[39m cna\u001b[38;5;241m.\u001b[39mtl\u001b[38;5;241m.\u001b[39m_association\u001b[38;5;241m.\u001b[39massociation(cna_obj, \u001b[38;5;66;03m#dataset \u001b[39;00m\n\u001b[1;32m     13\u001b[0m                                                   cna_obj\u001b[38;5;241m.\u001b[39msamplem[variable], \u001b[38;5;66;03m#phenotype\u001b[39;00m\n\u001b[1;32m     14\u001b[0m             \u001b[38;5;66;03m#                                       batches=d.samplem.processing_batch, #batches\u001b[39;00m\n\u001b[0;32m   (...)\u001b[0m\n\u001b[1;32m     18\u001b[0m                                                                             \u001b[38;5;66;03m#it chose the max number of PCs it considered the default set of [1,2,3,4]\u001b[39;00m\n\u001b[1;32m     19\u001b[0m                                                  )\n",
      "File \u001b[0;32m~/.conda/envs/plswork/lib/python3.9/site-packages/cna/tools/_association.py:147\u001b[0m, in \u001b[0;36massociation\u001b[0;34m(data, y, batches, covs, nsteps, suffix, force_recompute, **kwargs)\u001b[0m\n\u001b[1;32m    140\u001b[0m NAMsvd \u001b[38;5;241m=\u001b[39m (\n\u001b[1;32m    141\u001b[0m     du[\u001b[38;5;124m'\u001b[39m\u001b[38;5;124mNAM_sampleXpc\u001b[39m\u001b[38;5;124m'\u001b[39m\u001b[38;5;241m+\u001b[39msuffix]\u001b[38;5;241m.\u001b[39mvalues,\n\u001b[1;32m    142\u001b[0m     du[\u001b[38;5;124m'\u001b[39m\u001b[38;5;124mNAM_svs\u001b[39m\u001b[38;5;124m'\u001b[39m\u001b[38;5;241m+\u001b[39msuffix],\n\u001b[1;32m    143\u001b[0m     du[\u001b[38;5;124m'\u001b[39m\u001b[38;5;124mNAM_nbhdXpc\u001b[39m\u001b[38;5;124m'\u001b[39m\u001b[38;5;241m+\u001b[39msuffix]\u001b[38;5;241m.\u001b[39mvalues\n\u001b[1;32m    144\u001b[0m     )\n\u001b[1;32m    146\u001b[0m \u001b[38;5;28mprint\u001b[39m(\u001b[38;5;124m'\u001b[39m\u001b[38;5;124mperforming association test\u001b[39m\u001b[38;5;124m'\u001b[39m)\n\u001b[0;32m--> 147\u001b[0m res \u001b[38;5;241m=\u001b[39m \u001b[43m_association\u001b[49m\u001b[43m(\u001b[49m\u001b[43mNAMsvd\u001b[49m\u001b[43m,\u001b[49m\u001b[43m \u001b[49m\u001b[43mdu\u001b[49m\u001b[43m[\u001b[49m\u001b[38;5;124;43m'\u001b[39;49m\u001b[38;5;124;43m_M\u001b[39;49m\u001b[38;5;124;43m'\u001b[39;49m\u001b[38;5;241;43m+\u001b[39;49m\u001b[43msuffix\u001b[49m\u001b[43m]\u001b[49m\u001b[43m,\u001b[49m\u001b[43m \u001b[49m\u001b[43mdu\u001b[49m\u001b[43m[\u001b[49m\u001b[38;5;124;43m'\u001b[39;49m\u001b[38;5;124;43m_r\u001b[39;49m\u001b[38;5;124;43m'\u001b[39;49m\u001b[38;5;241;43m+\u001b[39;49m\u001b[43msuffix\u001b[49m\u001b[43m]\u001b[49m\u001b[43m,\u001b[49m\n\u001b[1;32m    148\u001b[0m \u001b[43m    \u001b[49m\u001b[43my\u001b[49m\u001b[43m[\u001b[49m\u001b[43mdu\u001b[49m\u001b[43m[\u001b[49m\u001b[38;5;124;43m'\u001b[39;49m\u001b[38;5;124;43m_filter_samples\u001b[39;49m\u001b[38;5;124;43m'\u001b[39;49m\u001b[38;5;241;43m+\u001b[39;49m\u001b[43msuffix\u001b[49m\u001b[43m]\u001b[49m\u001b[43m]\u001b[49m\u001b[43m,\u001b[49m\u001b[43m \u001b[49m\u001b[43mbatches\u001b[49m\u001b[43m[\u001b[49m\u001b[43mdu\u001b[49m\u001b[43m[\u001b[49m\u001b[38;5;124;43m'\u001b[39;49m\u001b[38;5;124;43m_filter_samples\u001b[39;49m\u001b[38;5;124;43m'\u001b[39;49m\u001b[38;5;241;43m+\u001b[39;49m\u001b[43msuffix\u001b[49m\u001b[43m]\u001b[49m\u001b[43m]\u001b[49m\u001b[43m,\u001b[49m\n\u001b[1;32m    149\u001b[0m \u001b[43m    \u001b[49m\u001b[38;5;241;43m*\u001b[39;49m\u001b[38;5;241;43m*\u001b[39;49m\u001b[43mkwargs\u001b[49m\u001b[43m)\u001b[49m\n\u001b[1;32m    151\u001b[0m \u001b[38;5;66;03m# add info about kept cells\u001b[39;00m\n\u001b[1;32m    152\u001b[0m \u001b[38;5;28mvars\u001b[39m(res)[\u001b[38;5;124m'\u001b[39m\u001b[38;5;124mkept\u001b[39m\u001b[38;5;124m'\u001b[39m] \u001b[38;5;241m=\u001b[39m du[\u001b[38;5;124m'\u001b[39m\u001b[38;5;124mkeptcells\u001b[39m\u001b[38;5;124m'\u001b[39m\u001b[38;5;241m+\u001b[39msuffix]\n",
      "File \u001b[0;32m~/.conda/envs/plswork/lib/python3.9/site-packages/cna/tools/_association.py:70\u001b[0m, in \u001b[0;36m_association\u001b[0;34m(NAMsvd, M, r, y, batches, ks, Nnull, force_permute_all, local_test, seed)\u001b[0m\n\u001b[1;32m     67\u001b[0m ncorrs \u001b[38;5;241m=\u001b[39m (np\u001b[38;5;241m.\u001b[39msqrt(sv[:k])\u001b[38;5;241m*\u001b[39mbeta\u001b[38;5;241m/\u001b[39mn)\u001b[38;5;241m.\u001b[39mdot(V[:,:k]\u001b[38;5;241m.\u001b[39mT)\n\u001b[1;32m     69\u001b[0m \u001b[38;5;66;03m# compute final p-value using Nnull null f-test p-values\u001b[39;00m\n\u001b[0;32m---> 70\u001b[0m y_ \u001b[38;5;241m=\u001b[39m \u001b[43mconditional_permutation\u001b[49m\u001b[43m(\u001b[49m\u001b[43mbatches\u001b[49m\u001b[43m,\u001b[49m\u001b[43m \u001b[49m\u001b[43my\u001b[49m\u001b[43m,\u001b[49m\u001b[43m \u001b[49m\u001b[43mNnull\u001b[49m\u001b[43m)\u001b[49m\n\u001b[1;32m     71\u001b[0m nullminps, nullr2s \u001b[38;5;241m=\u001b[39m np\u001b[38;5;241m.\u001b[39marray([_minp_stats(y__)[\u001b[38;5;241m1\u001b[39m:] \u001b[38;5;28;01mfor\u001b[39;00m y__ \u001b[38;5;129;01min\u001b[39;00m y_\u001b[38;5;241m.\u001b[39mT])\u001b[38;5;241m.\u001b[39mT\n\u001b[1;32m     72\u001b[0m pfinal \u001b[38;5;241m=\u001b[39m ((nullminps \u001b[38;5;241m<\u001b[39m\u001b[38;5;241m=\u001b[39m p\u001b[38;5;241m+\u001b[39m\u001b[38;5;241m1e-8\u001b[39m)\u001b[38;5;241m.\u001b[39msum() \u001b[38;5;241m+\u001b[39m \u001b[38;5;241m1\u001b[39m)\u001b[38;5;241m/\u001b[39m(Nnull \u001b[38;5;241m+\u001b[39m \u001b[38;5;241m1\u001b[39m)\n",
      "File \u001b[0;32m~/.conda/envs/plswork/lib/python3.9/site-packages/cna/tools/_stats.py:11\u001b[0m, in \u001b[0;36mconditional_permutation\u001b[0;34m(B, Y, num)\u001b[0m\n\u001b[1;32m      5\u001b[0m \u001b[38;5;124;03m\"\"\"\u001b[39;00m\n\u001b[1;32m      6\u001b[0m \u001b[38;5;124;03mPermutes Y conditioned on B num different times.\u001b[39;00m\n\u001b[1;32m      7\u001b[0m \u001b[38;5;124;03m\"\"\"\u001b[39;00m\n\u001b[1;32m      8\u001b[0m batchind \u001b[38;5;241m=\u001b[39m np\u001b[38;5;241m.\u001b[39marray([\n\u001b[1;32m      9\u001b[0m     np\u001b[38;5;241m.\u001b[39mwhere(B \u001b[38;5;241m==\u001b[39m b)[\u001b[38;5;241m0\u001b[39m] \u001b[38;5;28;01mfor\u001b[39;00m b \u001b[38;5;129;01min\u001b[39;00m np\u001b[38;5;241m.\u001b[39munique(B)\n\u001b[1;32m     10\u001b[0m     ])\n\u001b[0;32m---> 11\u001b[0m ix \u001b[38;5;241m=\u001b[39m \u001b[43mnp\u001b[49m\u001b[38;5;241;43m.\u001b[39;49m\u001b[43mconcatenate\u001b[49m\u001b[43m(\u001b[49m\u001b[43m[\u001b[49m\n\u001b[1;32m     12\u001b[0m \u001b[43m    \u001b[49m\u001b[43mbi\u001b[49m\u001b[43m[\u001b[49m\u001b[43mnp\u001b[49m\u001b[38;5;241;43m.\u001b[39;49m\u001b[43margsort\u001b[49m\u001b[43m(\u001b[49m\u001b[43mnp\u001b[49m\u001b[38;5;241;43m.\u001b[39;49m\u001b[43mrandom\u001b[49m\u001b[38;5;241;43m.\u001b[39;49m\u001b[43mrandn\u001b[49m\u001b[43m(\u001b[49m\u001b[38;5;28;43mlen\u001b[39;49m\u001b[43m(\u001b[49m\u001b[43mbi\u001b[49m\u001b[43m)\u001b[49m\u001b[43m,\u001b[49m\u001b[43m \u001b[49m\u001b[43mnum\u001b[49m\u001b[43m)\u001b[49m\u001b[43m,\u001b[49m\u001b[43m \u001b[49m\u001b[43maxis\u001b[49m\u001b[38;5;241;43m=\u001b[39;49m\u001b[38;5;241;43m0\u001b[39;49m\u001b[43m)\u001b[49m\u001b[43m]\u001b[49m\n\u001b[1;32m     13\u001b[0m \u001b[43m    \u001b[49m\u001b[38;5;28;43;01mfor\u001b[39;49;00m\u001b[43m \u001b[49m\u001b[43mbi\u001b[49m\u001b[43m \u001b[49m\u001b[38;5;129;43;01min\u001b[39;49;00m\u001b[43m \u001b[49m\u001b[43mbatchind\u001b[49m\n\u001b[1;32m     14\u001b[0m \u001b[43m    \u001b[49m\u001b[43m]\u001b[49m\u001b[43m)\u001b[49m\n\u001b[1;32m     15\u001b[0m bix \u001b[38;5;241m=\u001b[39m np\u001b[38;5;241m.\u001b[39mzeros((\u001b[38;5;28mlen\u001b[39m(Y), num))\u001b[38;5;241m.\u001b[39mastype(np\u001b[38;5;241m.\u001b[39mint)\n\u001b[1;32m     16\u001b[0m bix[np\u001b[38;5;241m.\u001b[39mconcatenate(batchind)] \u001b[38;5;241m=\u001b[39m ix\n",
      "File \u001b[0;32m<__array_function__ internals>:180\u001b[0m, in \u001b[0;36mconcatenate\u001b[0;34m(*args, **kwargs)\u001b[0m\n",
      "\u001b[0;31mValueError\u001b[0m: need at least one array to concatenate"
     ]
    }
   ],
   "source": [
    "cna_test(meta_df = meta, \n",
    "         harmony_df = harmony, \n",
    "         umap_df = umap, \n",
    "         variable = 'Type', \n",
    "         covars = ['Age', 'Sex'])"
   ]
  },
  {
   "cell_type": "code",
   "execution_count": null,
   "id": "b4ca0561-b449-4765-add0-02ce8c213eec",
   "metadata": {},
   "outputs": [],
   "source": [
    "np.savetxt(\"/data/srlab/ssg34/SLE_kidney_v2/data/pbmc/cond_case_control/ncorr.csv\", \n",
    "               res.ncorrs, delimiter=\",\")\n",
    "np.savetxt(\"/data/srlab/ssg34/SLE_kidney_v2/data/pbmc/cond_case_control/fdrs.csv\", \n",
    "               res.fdrs, delimiter=\",\")"
   ]
  },
  {
   "cell_type": "markdown",
   "id": "466693a9-5edf-496b-828e-e0412f33dc62",
   "metadata": {},
   "source": [
    "## AGE"
   ]
  },
  {
   "cell_type": "code",
   "execution_count": 191,
   "id": "7e719ea5-56f2-4594-bdfd-b4db86b6c653",
   "metadata": {},
   "outputs": [
    {
     "name": "stdout",
     "output_type": "stream",
     "text": [
      "(256786, 41)\n"
     ]
    }
   ],
   "source": [
    "meta = pd.read_csv('/data/srlab/ssg34/SLE_kidney_v2/data/pbmc/age/meta.csv')\n",
    "print(meta.shape)"
   ]
  },
  {
   "cell_type": "code",
   "execution_count": 192,
   "id": "903ded76-4457-4aeb-8ea4-70301dc20207",
   "metadata": {},
   "outputs": [
    {
     "name": "stdout",
     "output_type": "stream",
     "text": [
      "(256786, 20)\n"
     ]
    }
   ],
   "source": [
    "harmony = pd.read_csv('/data/srlab/ssg34/SLE_kidney_v2/data/pbmc/age/harmony.csv')\n",
    "print(harmony.shape)"
   ]
  },
  {
   "cell_type": "code",
   "execution_count": 193,
   "id": "6e452e9d-7887-4052-beca-9fae2087e5f4",
   "metadata": {},
   "outputs": [
    {
     "name": "stdout",
     "output_type": "stream",
     "text": [
      "(256786, 2)\n"
     ]
    }
   ],
   "source": [
    "umap = pd.read_csv('/data/srlab/ssg34/SLE_kidney_v2/data/pbmc/age/umap.csv')\n",
    "print(umap.shape)"
   ]
  },
  {
   "cell_type": "code",
   "execution_count": 194,
   "id": "594e9986-a575-4695-9283-805cd2b26107",
   "metadata": {},
   "outputs": [
    {
     "name": "stderr",
     "output_type": "stream",
     "text": [
      "/PHShome/ssg34/.conda/envs/plswork/lib/python3.9/site-packages/multianndata/core.py:17: FutureWarning: X.dtype being converted to np.float32 from float64. In the next version of anndata (0.9) conversion will not be automatic. Pass dtype explicitly to avoid this warning. Pass `AnnData(X, dtype=X.dtype, ...)` to get the future behavour.\n",
      "  super().__init__(*args, **kwargs)\n",
      "/PHShome/ssg34/.conda/envs/plswork/lib/python3.9/site-packages/anndata/_core/anndata.py:121: ImplicitModificationWarning: Transforming to str index.\n",
      "  warnings.warn(\"Transforming to str index.\", ImplicitModificationWarning)\n"
     ]
    },
    {
     "name": "stdout",
     "output_type": "stream",
     "text": [
      "warning: the following columns of obs are non-numeric.\n",
      "['Cell' 'BARCODE' 'cell.type.ids' 'Unified_Visit' 'AMP.Subject_ID'\n",
      " 'Responder.Status' 'Race' 'Final_ISN' 'Type' 'Final_Site']\n",
      "consider casting to numeric types where appropriate, and\n",
      "consider re-coding text-valued columns with pandas.get_dummies\n"
     ]
    },
    {
     "data": {
      "text/html": [
       "<div>\n",
       "<style scoped>\n",
       "    .dataframe tbody tr th:only-of-type {\n",
       "        vertical-align: middle;\n",
       "    }\n",
       "\n",
       "    .dataframe tbody tr th {\n",
       "        vertical-align: top;\n",
       "    }\n",
       "\n",
       "    .dataframe thead th {\n",
       "        text-align: right;\n",
       "    }\n",
       "</style>\n",
       "<table border=\"1\" class=\"dataframe\">\n",
       "  <thead>\n",
       "    <tr style=\"text-align: right;\">\n",
       "      <th></th>\n",
       "      <th>Sex</th>\n",
       "      <th>Age</th>\n",
       "      <th>Final_Chronicity</th>\n",
       "      <th>Final_Activity</th>\n",
       "      <th>First_biop</th>\n",
       "      <th>Pred_use</th>\n",
       "      <th>Responder_Status</th>\n",
       "      <th>Race_[A]</th>\n",
       "      <th>Race_[A][B]</th>\n",
       "      <th>Race_[B]</th>\n",
       "      <th>...</th>\n",
       "      <th>Final_Site_Einstein</th>\n",
       "      <th>Final_Site_JHU</th>\n",
       "      <th>Final_Site_Michigan</th>\n",
       "      <th>Final_Site_MUSC</th>\n",
       "      <th>Final_Site_Northwell</th>\n",
       "      <th>Final_Site_NYU</th>\n",
       "      <th>Final_Site_Rochester</th>\n",
       "      <th>Final_Site_Texas Tech</th>\n",
       "      <th>Final_Site_UCLA</th>\n",
       "      <th>Final_Site_UCSF</th>\n",
       "    </tr>\n",
       "    <tr>\n",
       "      <th>Unified_Visit</th>\n",
       "      <th></th>\n",
       "      <th></th>\n",
       "      <th></th>\n",
       "      <th></th>\n",
       "      <th></th>\n",
       "      <th></th>\n",
       "      <th></th>\n",
       "      <th></th>\n",
       "      <th></th>\n",
       "      <th></th>\n",
       "      <th></th>\n",
       "      <th></th>\n",
       "      <th></th>\n",
       "      <th></th>\n",
       "      <th></th>\n",
       "      <th></th>\n",
       "      <th></th>\n",
       "      <th></th>\n",
       "      <th></th>\n",
       "      <th></th>\n",
       "      <th></th>\n",
       "    </tr>\n",
       "  </thead>\n",
       "  <tbody>\n",
       "    <tr>\n",
       "      <th>200-2741-V0</th>\n",
       "      <td>1.0</td>\n",
       "      <td>1.407794</td>\n",
       "      <td>8.0</td>\n",
       "      <td>0.0</td>\n",
       "      <td>0.0</td>\n",
       "      <td>0.0</td>\n",
       "      <td>0.0</td>\n",
       "      <td>0.0</td>\n",
       "      <td>0.0</td>\n",
       "      <td>1.0</td>\n",
       "      <td>...</td>\n",
       "      <td>0.0</td>\n",
       "      <td>1.0</td>\n",
       "      <td>0.0</td>\n",
       "      <td>0.0</td>\n",
       "      <td>0.0</td>\n",
       "      <td>0.0</td>\n",
       "      <td>0.0</td>\n",
       "      <td>0.0</td>\n",
       "      <td>0.0</td>\n",
       "      <td>0.0</td>\n",
       "    </tr>\n",
       "    <tr>\n",
       "      <th>200-2729-V0</th>\n",
       "      <td>2.0</td>\n",
       "      <td>-1.320891</td>\n",
       "      <td>0.0</td>\n",
       "      <td>0.0</td>\n",
       "      <td>1.0</td>\n",
       "      <td>0.0</td>\n",
       "      <td>2.0</td>\n",
       "      <td>0.0</td>\n",
       "      <td>0.0</td>\n",
       "      <td>1.0</td>\n",
       "      <td>...</td>\n",
       "      <td>0.0</td>\n",
       "      <td>1.0</td>\n",
       "      <td>0.0</td>\n",
       "      <td>0.0</td>\n",
       "      <td>0.0</td>\n",
       "      <td>0.0</td>\n",
       "      <td>0.0</td>\n",
       "      <td>0.0</td>\n",
       "      <td>0.0</td>\n",
       "      <td>0.0</td>\n",
       "    </tr>\n",
       "    <tr>\n",
       "      <th>200-1240-V0</th>\n",
       "      <td>1.0</td>\n",
       "      <td>-0.931079</td>\n",
       "      <td>0.0</td>\n",
       "      <td>5.0</td>\n",
       "      <td>1.0</td>\n",
       "      <td>1.0</td>\n",
       "      <td>1.0</td>\n",
       "      <td>0.0</td>\n",
       "      <td>0.0</td>\n",
       "      <td>1.0</td>\n",
       "      <td>...</td>\n",
       "      <td>0.0</td>\n",
       "      <td>1.0</td>\n",
       "      <td>0.0</td>\n",
       "      <td>0.0</td>\n",
       "      <td>0.0</td>\n",
       "      <td>0.0</td>\n",
       "      <td>0.0</td>\n",
       "      <td>0.0</td>\n",
       "      <td>0.0</td>\n",
       "      <td>0.0</td>\n",
       "    </tr>\n",
       "    <tr>\n",
       "      <th>200-1137-V0</th>\n",
       "      <td>1.0</td>\n",
       "      <td>2.967042</td>\n",
       "      <td>3.0</td>\n",
       "      <td>5.0</td>\n",
       "      <td>1.0</td>\n",
       "      <td>1.0</td>\n",
       "      <td>2.0</td>\n",
       "      <td>0.0</td>\n",
       "      <td>0.0</td>\n",
       "      <td>0.0</td>\n",
       "      <td>...</td>\n",
       "      <td>0.0</td>\n",
       "      <td>0.0</td>\n",
       "      <td>0.0</td>\n",
       "      <td>0.0</td>\n",
       "      <td>0.0</td>\n",
       "      <td>1.0</td>\n",
       "      <td>0.0</td>\n",
       "      <td>0.0</td>\n",
       "      <td>0.0</td>\n",
       "      <td>0.0</td>\n",
       "    </tr>\n",
       "    <tr>\n",
       "      <th>200-1152-V0</th>\n",
       "      <td>1.0</td>\n",
       "      <td>0.394282</td>\n",
       "      <td>0.0</td>\n",
       "      <td>1.0</td>\n",
       "      <td>1.0</td>\n",
       "      <td>1.0</td>\n",
       "      <td>2.0</td>\n",
       "      <td>1.0</td>\n",
       "      <td>0.0</td>\n",
       "      <td>0.0</td>\n",
       "      <td>...</td>\n",
       "      <td>0.0</td>\n",
       "      <td>0.0</td>\n",
       "      <td>0.0</td>\n",
       "      <td>0.0</td>\n",
       "      <td>0.0</td>\n",
       "      <td>1.0</td>\n",
       "      <td>0.0</td>\n",
       "      <td>0.0</td>\n",
       "      <td>0.0</td>\n",
       "      <td>0.0</td>\n",
       "    </tr>\n",
       "  </tbody>\n",
       "</table>\n",
       "<p>5 rows × 30 columns</p>\n",
       "</div>"
      ],
      "text/plain": [
       "               Sex       Age  Final_Chronicity  Final_Activity  First_biop  \\\n",
       "Unified_Visit                                                                \n",
       "200-2741-V0    1.0  1.407794               8.0             0.0         0.0   \n",
       "200-2729-V0    2.0 -1.320891               0.0             0.0         1.0   \n",
       "200-1240-V0    1.0 -0.931079               0.0             5.0         1.0   \n",
       "200-1137-V0    1.0  2.967042               3.0             5.0         1.0   \n",
       "200-1152-V0    1.0  0.394282               0.0             1.0         1.0   \n",
       "\n",
       "               Pred_use  Responder_Status  Race_[A]  Race_[A][B]  Race_[B]  \\\n",
       "Unified_Visit                                                                \n",
       "200-2741-V0         0.0               0.0       0.0          0.0       1.0   \n",
       "200-2729-V0         0.0               2.0       0.0          0.0       1.0   \n",
       "200-1240-V0         1.0               1.0       0.0          0.0       1.0   \n",
       "200-1137-V0         1.0               2.0       0.0          0.0       0.0   \n",
       "200-1152-V0         1.0               2.0       1.0          0.0       0.0   \n",
       "\n",
       "               ...  Final_Site_Einstein  Final_Site_JHU  Final_Site_Michigan  \\\n",
       "Unified_Visit  ...                                                             \n",
       "200-2741-V0    ...                  0.0             1.0                  0.0   \n",
       "200-2729-V0    ...                  0.0             1.0                  0.0   \n",
       "200-1240-V0    ...                  0.0             1.0                  0.0   \n",
       "200-1137-V0    ...                  0.0             0.0                  0.0   \n",
       "200-1152-V0    ...                  0.0             0.0                  0.0   \n",
       "\n",
       "               Final_Site_MUSC  Final_Site_Northwell  Final_Site_NYU  \\\n",
       "Unified_Visit                                                          \n",
       "200-2741-V0                0.0                   0.0             0.0   \n",
       "200-2729-V0                0.0                   0.0             0.0   \n",
       "200-1240-V0                0.0                   0.0             0.0   \n",
       "200-1137-V0                0.0                   0.0             1.0   \n",
       "200-1152-V0                0.0                   0.0             1.0   \n",
       "\n",
       "               Final_Site_Rochester  Final_Site_Texas Tech  Final_Site_UCLA  \\\n",
       "Unified_Visit                                                                 \n",
       "200-2741-V0                     0.0                    0.0              0.0   \n",
       "200-2729-V0                     0.0                    0.0              0.0   \n",
       "200-1240-V0                     0.0                    0.0              0.0   \n",
       "200-1137-V0                     0.0                    0.0              0.0   \n",
       "200-1152-V0                     0.0                    0.0              0.0   \n",
       "\n",
       "               Final_Site_UCSF  \n",
       "Unified_Visit                   \n",
       "200-2741-V0                0.0  \n",
       "200-2729-V0                0.0  \n",
       "200-1240-V0                0.0  \n",
       "200-1137-V0                0.0  \n",
       "200-1152-V0                0.0  \n",
       "\n",
       "[5 rows x 30 columns]"
      ]
     },
     "execution_count": 194,
     "metadata": {},
     "output_type": "execute_result"
    }
   ],
   "source": [
    "# Start by making anndata object\n",
    "d = mad.MultiAnnData(X=harmony, obs=meta, sampleid=\"Unified_Visit\")\n",
    "#d.obs_to_sample(['Type', 'Site',\n",
    "#                 'Responder_Status', 'Sex',\n",
    "#                 'Age', 'Race',\n",
    "#                'Ethnicity', 'ISN',\n",
    "#               'Activity', \"Chronicity\",\n",
    "#                 'processing_batch'])\n",
    "d.obs_to_sample(['Sex', 'Age', 'Final_Chronicity', 'Final_Activity', 'First_biop', 'Pred_use', 'Responder_Status', 'Race_[A]',\n",
    "       'Race_[A][B]', 'Race_[B]', 'Race_[B][AI]', 'Race_[B][W]', 'Race_[U]',\n",
    "       'Race_[W]', 'Final_ISN_[III]', 'Final_ISN_[III][V]', 'Final_ISN_[IV]',\n",
    "       'Final_ISN_[IV][V]', 'Final_ISN_[V]', 'Final_Site_Cincinnati',\n",
    "       'Final_Site_Einstein', 'Final_Site_JHU', 'Final_Site_Michigan',\n",
    "       'Final_Site_MUSC', 'Final_Site_Northwell', 'Final_Site_NYU',\n",
    "       'Final_Site_Rochester', 'Final_Site_Texas Tech', 'Final_Site_UCLA',\n",
    "       'Final_Site_UCSF'])\n",
    "d.samplem.head()"
   ]
  },
  {
   "cell_type": "code",
   "execution_count": 195,
   "id": "258ca137-9b15-47f4-a7a2-95a55bcc6339",
   "metadata": {},
   "outputs": [],
   "source": [
    "umap.index = d.obs.index\n",
    "d.obsm['X_umap'] = umap"
   ]
  },
  {
   "cell_type": "code",
   "execution_count": 196,
   "id": "b3cf5cb6-7656-4104-b624-c3ef76f13747",
   "metadata": {},
   "outputs": [
    {
     "name": "stdout",
     "output_type": "stream",
     "text": [
      "computing default knn graph\n"
     ]
    }
   ],
   "source": [
    "np.random.seed(0) \n",
    "cna.pp.knn(d)"
   ]
  },
  {
   "cell_type": "code",
   "execution_count": 197,
   "id": "a1285a16-c41e-4bae-a6fc-042b58dbd348",
   "metadata": {},
   "outputs": [
    {
     "name": "stdout",
     "output_type": "stream",
     "text": [
      "qcd NAM not found; computing and saving\n",
      "\ttaking step 1\n",
      "\tmedian kurtosis: 26.74811553955078\n",
      "\t20th percentile R2(t,t-1): nan\n",
      "\ttaking step 2\n",
      "\tmedian kurtosis: 19.00851821899414\n",
      "\t20th percentile R2(t,t-1): 0.756097388267517\n",
      "\ttaking step 3\n",
      "\tmedian kurtosis: 11.73455810546875\n",
      "\t20th percentile R2(t,t-1): 0.9074835300445556\n",
      "\ttaking step 4\n",
      "\tmedian kurtosis: 8.783553123474121\n",
      "\t20th percentile R2(t,t-1): 0.9506416082382202\n",
      "stopping after 4 steps\n",
      "covariate-adjusted NAM not found; computing and saving\n"
     ]
    },
    {
     "name": "stderr",
     "output_type": "stream",
     "text": [
      "/PHShome/ssg34/.conda/envs/plswork/lib/python3.9/site-packages/cna/tools/_nam.py:79: UserWarning: only one unique batch supplied to qc\n",
      "  warnings.warn('only one unique batch supplied to qc')\n",
      "/PHShome/ssg34/.conda/envs/plswork/lib/python3.9/site-packages/cna/tools/_nam.py:101: UserWarning: only one unique batch supplied to prep\n",
      "  warnings.warn('only one unique batch supplied to prep')\n"
     ]
    },
    {
     "name": "stdout",
     "output_type": "stream",
     "text": [
      "computing SVD\n",
      "performing association test\n",
      "computing neighborhood-level FDRs\n",
      "19\n",
      "[1, 2, 3, 4, 5, 6, 7, 8, 9, 10, 11, 12, 13, 14, 15, 16, 17, 18, 19, 20]\n",
      "p = 0.016998300169983 , 19 PCs used\n",
      "total r^2 between top 19 NAM PCs and outcome is 0.32\n"
     ]
    }
   ],
   "source": [
    "np.random.seed(0) \n",
    "res = cna.tl._association.association(d, #dataset \n",
    "                                      d.samplem.Age, #phenotype\n",
    "#                                       batches=d.samplem.processing_batch, #batches\n",
    "                                      Nnull=10000, # number of null permutations to do (defaults to only 1e3)\n",
    "                                      ks=[1,2,3,4,5,6,7,8,9,10,11,12,13,14,15,16,17,18,19,20] # I asked the method to consider up to 10 PCs because\n",
    "                                                                #it chose the max number of PCs it considered the default set of [1,2,3,4]\n",
    "                                     )\n",
    "print(res.k)\n",
    "print(res.ks)\n",
    "print('p =', res.p, ',', res.k, 'PCs used')\n",
    "print('total r^2 between top {} NAM PCs and outcome is {:.2f}'.format(res.k, res.r2))"
   ]
  },
  {
   "cell_type": "code",
   "execution_count": 203,
   "id": "362c823c-8082-4acd-88f3-ddaaba9560e0",
   "metadata": {},
   "outputs": [],
   "source": [
    "pbmc_uni['Age'] = res.p"
   ]
  },
  {
   "cell_type": "code",
   "execution_count": 204,
   "id": "33e54649-acaf-4029-8a19-6a14c59a22f7",
   "metadata": {},
   "outputs": [],
   "source": [
    "np.savetxt(\"/data/srlab/ssg34/SLE_kidney_v2/data/pbmc/age/ncorr.csv\", \n",
    "               res.ncorrs, delimiter=\",\")\n",
    "np.savetxt(\"/data/srlab/ssg34/SLE_kidney_v2/data/pbmc/age/fdrs.csv\", \n",
    "               res.fdrs, delimiter=\",\")"
   ]
  },
  {
   "cell_type": "markdown",
   "id": "c40de258-4a7a-4f8e-a2f9-9aebc6927140",
   "metadata": {},
   "source": [
    "## SEX"
   ]
  },
  {
   "cell_type": "code",
   "execution_count": 182,
   "id": "1c5130d4-60d7-4c4a-8d4d-78818f8eed2f",
   "metadata": {},
   "outputs": [
    {
     "name": "stdout",
     "output_type": "stream",
     "text": [
      "(256786, 41)\n"
     ]
    }
   ],
   "source": [
    "meta = pd.read_csv('/data/srlab/ssg34/SLE_kidney_v2/data/pbmc/sex/meta.csv')\n",
    "print(meta.shape)"
   ]
  },
  {
   "cell_type": "code",
   "execution_count": 183,
   "id": "6ccc439a-c4ed-4397-bba6-722a843ee9cf",
   "metadata": {},
   "outputs": [
    {
     "name": "stdout",
     "output_type": "stream",
     "text": [
      "(256786, 20)\n"
     ]
    }
   ],
   "source": [
    "harmony = pd.read_csv('/data/srlab/ssg34/SLE_kidney_v2/data/pbmc/sex/harmony.csv')\n",
    "print(harmony.shape)"
   ]
  },
  {
   "cell_type": "code",
   "execution_count": 184,
   "id": "fcc662ff-221b-4cf5-85c2-5c2c2dc383a3",
   "metadata": {},
   "outputs": [
    {
     "name": "stdout",
     "output_type": "stream",
     "text": [
      "(256786, 2)\n"
     ]
    }
   ],
   "source": [
    "umap = pd.read_csv('/data/srlab/ssg34/SLE_kidney_v2/data/pbmc/sex/umap.csv')\n",
    "print(umap.shape)"
   ]
  },
  {
   "cell_type": "code",
   "execution_count": 185,
   "id": "c59111c9-22d2-4508-b5f5-d73ab40c441c",
   "metadata": {},
   "outputs": [
    {
     "name": "stderr",
     "output_type": "stream",
     "text": [
      "/PHShome/ssg34/.conda/envs/plswork/lib/python3.9/site-packages/multianndata/core.py:17: FutureWarning: X.dtype being converted to np.float32 from float64. In the next version of anndata (0.9) conversion will not be automatic. Pass dtype explicitly to avoid this warning. Pass `AnnData(X, dtype=X.dtype, ...)` to get the future behavour.\n",
      "  super().__init__(*args, **kwargs)\n",
      "/PHShome/ssg34/.conda/envs/plswork/lib/python3.9/site-packages/anndata/_core/anndata.py:121: ImplicitModificationWarning: Transforming to str index.\n",
      "  warnings.warn(\"Transforming to str index.\", ImplicitModificationWarning)\n"
     ]
    },
    {
     "name": "stdout",
     "output_type": "stream",
     "text": [
      "warning: the following columns of obs are non-numeric.\n",
      "['Cell' 'BARCODE' 'cell.type.ids' 'Unified_Visit' 'AMP.Subject_ID'\n",
      " 'Responder.Status' 'Race' 'Final_ISN' 'Type' 'Final_Site']\n",
      "consider casting to numeric types where appropriate, and\n",
      "consider re-coding text-valued columns with pandas.get_dummies\n"
     ]
    },
    {
     "data": {
      "text/html": [
       "<div>\n",
       "<style scoped>\n",
       "    .dataframe tbody tr th:only-of-type {\n",
       "        vertical-align: middle;\n",
       "    }\n",
       "\n",
       "    .dataframe tbody tr th {\n",
       "        vertical-align: top;\n",
       "    }\n",
       "\n",
       "    .dataframe thead th {\n",
       "        text-align: right;\n",
       "    }\n",
       "</style>\n",
       "<table border=\"1\" class=\"dataframe\">\n",
       "  <thead>\n",
       "    <tr style=\"text-align: right;\">\n",
       "      <th></th>\n",
       "      <th>Sex</th>\n",
       "      <th>Age</th>\n",
       "      <th>Final_Chronicity</th>\n",
       "      <th>Final_Activity</th>\n",
       "      <th>First_biop</th>\n",
       "      <th>Pred_use</th>\n",
       "      <th>Responder_Status</th>\n",
       "      <th>Race_[A]</th>\n",
       "      <th>Race_[A][B]</th>\n",
       "      <th>Race_[B]</th>\n",
       "      <th>...</th>\n",
       "      <th>Final_Site_Einstein</th>\n",
       "      <th>Final_Site_JHU</th>\n",
       "      <th>Final_Site_Michigan</th>\n",
       "      <th>Final_Site_MUSC</th>\n",
       "      <th>Final_Site_Northwell</th>\n",
       "      <th>Final_Site_NYU</th>\n",
       "      <th>Final_Site_Rochester</th>\n",
       "      <th>Final_Site_Texas Tech</th>\n",
       "      <th>Final_Site_UCLA</th>\n",
       "      <th>Final_Site_UCSF</th>\n",
       "    </tr>\n",
       "    <tr>\n",
       "      <th>Unified_Visit</th>\n",
       "      <th></th>\n",
       "      <th></th>\n",
       "      <th></th>\n",
       "      <th></th>\n",
       "      <th></th>\n",
       "      <th></th>\n",
       "      <th></th>\n",
       "      <th></th>\n",
       "      <th></th>\n",
       "      <th></th>\n",
       "      <th></th>\n",
       "      <th></th>\n",
       "      <th></th>\n",
       "      <th></th>\n",
       "      <th></th>\n",
       "      <th></th>\n",
       "      <th></th>\n",
       "      <th></th>\n",
       "      <th></th>\n",
       "      <th></th>\n",
       "      <th></th>\n",
       "    </tr>\n",
       "  </thead>\n",
       "  <tbody>\n",
       "    <tr>\n",
       "      <th>200-2741-V0</th>\n",
       "      <td>1.0</td>\n",
       "      <td>1.407794</td>\n",
       "      <td>8.0</td>\n",
       "      <td>0.0</td>\n",
       "      <td>0.0</td>\n",
       "      <td>0.0</td>\n",
       "      <td>0.0</td>\n",
       "      <td>0.0</td>\n",
       "      <td>0.0</td>\n",
       "      <td>1.0</td>\n",
       "      <td>...</td>\n",
       "      <td>0.0</td>\n",
       "      <td>1.0</td>\n",
       "      <td>0.0</td>\n",
       "      <td>0.0</td>\n",
       "      <td>0.0</td>\n",
       "      <td>0.0</td>\n",
       "      <td>0.0</td>\n",
       "      <td>0.0</td>\n",
       "      <td>0.0</td>\n",
       "      <td>0.0</td>\n",
       "    </tr>\n",
       "    <tr>\n",
       "      <th>200-2729-V0</th>\n",
       "      <td>2.0</td>\n",
       "      <td>-1.320891</td>\n",
       "      <td>0.0</td>\n",
       "      <td>0.0</td>\n",
       "      <td>1.0</td>\n",
       "      <td>0.0</td>\n",
       "      <td>2.0</td>\n",
       "      <td>0.0</td>\n",
       "      <td>0.0</td>\n",
       "      <td>1.0</td>\n",
       "      <td>...</td>\n",
       "      <td>0.0</td>\n",
       "      <td>1.0</td>\n",
       "      <td>0.0</td>\n",
       "      <td>0.0</td>\n",
       "      <td>0.0</td>\n",
       "      <td>0.0</td>\n",
       "      <td>0.0</td>\n",
       "      <td>0.0</td>\n",
       "      <td>0.0</td>\n",
       "      <td>0.0</td>\n",
       "    </tr>\n",
       "    <tr>\n",
       "      <th>200-1240-V0</th>\n",
       "      <td>1.0</td>\n",
       "      <td>-0.931079</td>\n",
       "      <td>0.0</td>\n",
       "      <td>5.0</td>\n",
       "      <td>1.0</td>\n",
       "      <td>1.0</td>\n",
       "      <td>1.0</td>\n",
       "      <td>0.0</td>\n",
       "      <td>0.0</td>\n",
       "      <td>1.0</td>\n",
       "      <td>...</td>\n",
       "      <td>0.0</td>\n",
       "      <td>1.0</td>\n",
       "      <td>0.0</td>\n",
       "      <td>0.0</td>\n",
       "      <td>0.0</td>\n",
       "      <td>0.0</td>\n",
       "      <td>0.0</td>\n",
       "      <td>0.0</td>\n",
       "      <td>0.0</td>\n",
       "      <td>0.0</td>\n",
       "    </tr>\n",
       "    <tr>\n",
       "      <th>200-1137-V0</th>\n",
       "      <td>1.0</td>\n",
       "      <td>2.967042</td>\n",
       "      <td>3.0</td>\n",
       "      <td>5.0</td>\n",
       "      <td>1.0</td>\n",
       "      <td>1.0</td>\n",
       "      <td>2.0</td>\n",
       "      <td>0.0</td>\n",
       "      <td>0.0</td>\n",
       "      <td>0.0</td>\n",
       "      <td>...</td>\n",
       "      <td>0.0</td>\n",
       "      <td>0.0</td>\n",
       "      <td>0.0</td>\n",
       "      <td>0.0</td>\n",
       "      <td>0.0</td>\n",
       "      <td>1.0</td>\n",
       "      <td>0.0</td>\n",
       "      <td>0.0</td>\n",
       "      <td>0.0</td>\n",
       "      <td>0.0</td>\n",
       "    </tr>\n",
       "    <tr>\n",
       "      <th>200-1152-V0</th>\n",
       "      <td>1.0</td>\n",
       "      <td>0.394282</td>\n",
       "      <td>0.0</td>\n",
       "      <td>1.0</td>\n",
       "      <td>1.0</td>\n",
       "      <td>1.0</td>\n",
       "      <td>2.0</td>\n",
       "      <td>1.0</td>\n",
       "      <td>0.0</td>\n",
       "      <td>0.0</td>\n",
       "      <td>...</td>\n",
       "      <td>0.0</td>\n",
       "      <td>0.0</td>\n",
       "      <td>0.0</td>\n",
       "      <td>0.0</td>\n",
       "      <td>0.0</td>\n",
       "      <td>1.0</td>\n",
       "      <td>0.0</td>\n",
       "      <td>0.0</td>\n",
       "      <td>0.0</td>\n",
       "      <td>0.0</td>\n",
       "    </tr>\n",
       "  </tbody>\n",
       "</table>\n",
       "<p>5 rows × 30 columns</p>\n",
       "</div>"
      ],
      "text/plain": [
       "               Sex       Age  Final_Chronicity  Final_Activity  First_biop  \\\n",
       "Unified_Visit                                                                \n",
       "200-2741-V0    1.0  1.407794               8.0             0.0         0.0   \n",
       "200-2729-V0    2.0 -1.320891               0.0             0.0         1.0   \n",
       "200-1240-V0    1.0 -0.931079               0.0             5.0         1.0   \n",
       "200-1137-V0    1.0  2.967042               3.0             5.0         1.0   \n",
       "200-1152-V0    1.0  0.394282               0.0             1.0         1.0   \n",
       "\n",
       "               Pred_use  Responder_Status  Race_[A]  Race_[A][B]  Race_[B]  \\\n",
       "Unified_Visit                                                                \n",
       "200-2741-V0         0.0               0.0       0.0          0.0       1.0   \n",
       "200-2729-V0         0.0               2.0       0.0          0.0       1.0   \n",
       "200-1240-V0         1.0               1.0       0.0          0.0       1.0   \n",
       "200-1137-V0         1.0               2.0       0.0          0.0       0.0   \n",
       "200-1152-V0         1.0               2.0       1.0          0.0       0.0   \n",
       "\n",
       "               ...  Final_Site_Einstein  Final_Site_JHU  Final_Site_Michigan  \\\n",
       "Unified_Visit  ...                                                             \n",
       "200-2741-V0    ...                  0.0             1.0                  0.0   \n",
       "200-2729-V0    ...                  0.0             1.0                  0.0   \n",
       "200-1240-V0    ...                  0.0             1.0                  0.0   \n",
       "200-1137-V0    ...                  0.0             0.0                  0.0   \n",
       "200-1152-V0    ...                  0.0             0.0                  0.0   \n",
       "\n",
       "               Final_Site_MUSC  Final_Site_Northwell  Final_Site_NYU  \\\n",
       "Unified_Visit                                                          \n",
       "200-2741-V0                0.0                   0.0             0.0   \n",
       "200-2729-V0                0.0                   0.0             0.0   \n",
       "200-1240-V0                0.0                   0.0             0.0   \n",
       "200-1137-V0                0.0                   0.0             1.0   \n",
       "200-1152-V0                0.0                   0.0             1.0   \n",
       "\n",
       "               Final_Site_Rochester  Final_Site_Texas Tech  Final_Site_UCLA  \\\n",
       "Unified_Visit                                                                 \n",
       "200-2741-V0                     0.0                    0.0              0.0   \n",
       "200-2729-V0                     0.0                    0.0              0.0   \n",
       "200-1240-V0                     0.0                    0.0              0.0   \n",
       "200-1137-V0                     0.0                    0.0              0.0   \n",
       "200-1152-V0                     0.0                    0.0              0.0   \n",
       "\n",
       "               Final_Site_UCSF  \n",
       "Unified_Visit                   \n",
       "200-2741-V0                0.0  \n",
       "200-2729-V0                0.0  \n",
       "200-1240-V0                0.0  \n",
       "200-1137-V0                0.0  \n",
       "200-1152-V0                0.0  \n",
       "\n",
       "[5 rows x 30 columns]"
      ]
     },
     "execution_count": 185,
     "metadata": {},
     "output_type": "execute_result"
    }
   ],
   "source": [
    "# Start by making anndata object\n",
    "d = mad.MultiAnnData(X=harmony, obs=meta, sampleid=\"Unified_Visit\")\n",
    "#d.obs_to_sample(['Type', 'Site',\n",
    "#                 'Responder_Status', 'Sex',\n",
    "#                 'Age', 'Race',\n",
    "#                'Ethnicity', 'ISN',\n",
    "#               'Activity', \"Chronicity\",\n",
    "#                 'processing_batch'])\n",
    "d.obs_to_sample(['Sex', 'Age', 'Final_Chronicity', 'Final_Activity', 'First_biop', 'Pred_use', 'Responder_Status', 'Race_[A]',\n",
    "       'Race_[A][B]', 'Race_[B]', 'Race_[B][AI]', 'Race_[B][W]', 'Race_[U]',\n",
    "       'Race_[W]', 'Final_ISN_[III]', 'Final_ISN_[III][V]', 'Final_ISN_[IV]',\n",
    "       'Final_ISN_[IV][V]', 'Final_ISN_[V]', 'Final_Site_Cincinnati',\n",
    "       'Final_Site_Einstein', 'Final_Site_JHU', 'Final_Site_Michigan',\n",
    "       'Final_Site_MUSC', 'Final_Site_Northwell', 'Final_Site_NYU',\n",
    "       'Final_Site_Rochester', 'Final_Site_Texas Tech', 'Final_Site_UCLA',\n",
    "       'Final_Site_UCSF'])\n",
    "d.samplem.head()"
   ]
  },
  {
   "cell_type": "code",
   "execution_count": 186,
   "id": "be91bc51-e686-470f-ac34-8791d64ef0b4",
   "metadata": {},
   "outputs": [],
   "source": [
    "umap.index = d.obs.index\n",
    "d.obsm['X_umap'] = umap"
   ]
  },
  {
   "cell_type": "code",
   "execution_count": 187,
   "id": "6c618f55-763d-431d-9717-4b220386e9d3",
   "metadata": {},
   "outputs": [
    {
     "name": "stdout",
     "output_type": "stream",
     "text": [
      "computing default knn graph\n"
     ]
    }
   ],
   "source": [
    "np.random.seed(0) \n",
    "cna.pp.knn(d)"
   ]
  },
  {
   "cell_type": "code",
   "execution_count": 188,
   "id": "545cee1f-d7d8-4fa2-aa7d-0d94a2523710",
   "metadata": {},
   "outputs": [
    {
     "name": "stdout",
     "output_type": "stream",
     "text": [
      "qcd NAM not found; computing and saving\n",
      "\ttaking step 1\n",
      "\tmedian kurtosis: 26.74811553955078\n",
      "\t20th percentile R2(t,t-1): nan\n",
      "\ttaking step 2\n",
      "\tmedian kurtosis: 19.00851821899414\n",
      "\t20th percentile R2(t,t-1): 0.756097388267517\n",
      "\ttaking step 3\n",
      "\tmedian kurtosis: 11.73455810546875\n",
      "\t20th percentile R2(t,t-1): 0.9074835300445556\n",
      "\ttaking step 4\n",
      "\tmedian kurtosis: 8.783553123474121\n",
      "\t20th percentile R2(t,t-1): 0.9506416082382202\n",
      "stopping after 4 steps\n",
      "covariate-adjusted NAM not found; computing and saving\n"
     ]
    },
    {
     "name": "stderr",
     "output_type": "stream",
     "text": [
      "/PHShome/ssg34/.conda/envs/plswork/lib/python3.9/site-packages/cna/tools/_nam.py:79: UserWarning: only one unique batch supplied to qc\n",
      "  warnings.warn('only one unique batch supplied to qc')\n",
      "/PHShome/ssg34/.conda/envs/plswork/lib/python3.9/site-packages/cna/tools/_nam.py:101: UserWarning: only one unique batch supplied to prep\n",
      "  warnings.warn('only one unique batch supplied to prep')\n"
     ]
    },
    {
     "name": "stdout",
     "output_type": "stream",
     "text": [
      "computing SVD\n",
      "performing association test\n",
      "computing neighborhood-level FDRs\n",
      "2\n",
      "[1, 2, 3, 4, 5, 6, 7, 8, 9, 10, 11, 12, 13, 14, 15, 16, 17, 18, 19, 20]\n",
      "p = 0.7365263473652635 , 2 PCs used\n",
      "total r^2 between top 2 NAM PCs and outcome is 0.02\n"
     ]
    }
   ],
   "source": [
    "np.random.seed(0) \n",
    "res = cna.tl._association.association(d, #dataset \n",
    "                                      d.samplem.Sex, #phenotype\n",
    "#                                       batches=d.samplem.processing_batch, #batches\n",
    "                                      Nnull=10000, # number of null permutations to do (defaults to only 1e3)\n",
    "                                      ks=[1,2,3,4,5,6,7,8,9,10,11,12,13,14,15,16,17,18,19,20] # I asked the method to consider up to 10 PCs because\n",
    "                                                                #it chose the max number of PCs it considered the default set of [1,2,3,4]\n",
    "                                     )\n",
    "print(res.k)\n",
    "print(res.ks)\n",
    "print('p =', res.p, ',', res.k, 'PCs used')\n",
    "print('total r^2 between top {} NAM PCs and outcome is {:.2f}'.format(res.k, res.r2))"
   ]
  },
  {
   "cell_type": "code",
   "execution_count": 189,
   "id": "a0f58814-e4c1-4480-9908-a79e9dc9ae8c",
   "metadata": {},
   "outputs": [],
   "source": [
    "pbmc_uni['Sex'] = res.p"
   ]
  },
  {
   "cell_type": "code",
   "execution_count": 190,
   "id": "951f2742-2637-4572-83c1-72452663d313",
   "metadata": {},
   "outputs": [],
   "source": [
    "np.savetxt(\"/data/srlab/ssg34/SLE_kidney_v2/data/pbmc/sex/ncorr.csv\", \n",
    "               res.ncorrs, delimiter=\",\")\n",
    "np.savetxt(\"/data/srlab/ssg34/SLE_kidney_v2/data/pbmc/sex/fdrs.csv\", \n",
    "               res.fdrs, delimiter=\",\")"
   ]
  },
  {
   "cell_type": "markdown",
   "id": "a216f152-b762-49ce-90e4-b6649d9890d8",
   "metadata": {},
   "source": [
    "## RESPONSE"
   ]
  },
  {
   "cell_type": "code",
   "execution_count": 9,
   "id": "c794182f-8c9b-449e-a2f1-9316379216ac",
   "metadata": {},
   "outputs": [
    {
     "name": "stdout",
     "output_type": "stream",
     "text": [
      "(216531, 37)\n"
     ]
    }
   ],
   "source": [
    "meta = pd.read_csv('/data/srlab/ssg34/SLE_kidney_v2/data/pbmc/response/meta.csv')\n",
    "print(meta.shape)"
   ]
  },
  {
   "cell_type": "code",
   "execution_count": 10,
   "id": "17b5a5e4-bc42-4dc1-a361-a13e95cc1bbf",
   "metadata": {},
   "outputs": [
    {
     "name": "stdout",
     "output_type": "stream",
     "text": [
      "(216531, 20)\n"
     ]
    }
   ],
   "source": [
    "harmony = pd.read_csv('/data/srlab/ssg34/SLE_kidney_v2/data/pbmc/response/harmony.csv')\n",
    "print(harmony.shape)"
   ]
  },
  {
   "cell_type": "code",
   "execution_count": 11,
   "id": "a0cd2a87-cb36-45d3-b91a-2579e1c19e35",
   "metadata": {},
   "outputs": [
    {
     "name": "stdout",
     "output_type": "stream",
     "text": [
      "(216531, 2)\n"
     ]
    }
   ],
   "source": [
    "umap = pd.read_csv('/data/srlab/ssg34/SLE_kidney_v2/data/pbmc/response/umap.csv')\n",
    "print(umap.shape)"
   ]
  },
  {
   "cell_type": "code",
   "execution_count": 13,
   "id": "6d4e7233-c458-4a82-889a-b0ff5b0f7c54",
   "metadata": {},
   "outputs": [
    {
     "name": "stderr",
     "output_type": "stream",
     "text": [
      "/PHShome/ssg34/.conda/envs/plswork/lib/python3.9/site-packages/multianndata/core.py:17: FutureWarning: X.dtype being converted to np.float32 from float64. In the next version of anndata (0.9) conversion will not be automatic. Pass dtype explicitly to avoid this warning. Pass `AnnData(X, dtype=X.dtype, ...)` to get the future behavour.\n",
      "  super().__init__(*args, **kwargs)\n",
      "/PHShome/ssg34/.conda/envs/plswork/lib/python3.9/site-packages/anndata/_core/anndata.py:121: ImplicitModificationWarning: Transforming to str index.\n",
      "  warnings.warn(\"Transforming to str index.\", ImplicitModificationWarning)\n"
     ]
    },
    {
     "name": "stdout",
     "output_type": "stream",
     "text": [
      "warning: the following columns of obs are non-numeric.\n",
      "['Cell' 'BARCODE' 'cell.type.ids' 'Unified_Visit' 'AMP.Subject_ID'\n",
      " 'Responder.Status' 'Race' 'Final_ISN' 'Type' 'Final_Site']\n",
      "consider casting to numeric types where appropriate, and\n",
      "consider re-coding text-valued columns with pandas.get_dummies\n"
     ]
    },
    {
     "data": {
      "text/html": [
       "<div>\n",
       "<style scoped>\n",
       "    .dataframe tbody tr th:only-of-type {\n",
       "        vertical-align: middle;\n",
       "    }\n",
       "\n",
       "    .dataframe tbody tr th {\n",
       "        vertical-align: top;\n",
       "    }\n",
       "\n",
       "    .dataframe thead th {\n",
       "        text-align: right;\n",
       "    }\n",
       "</style>\n",
       "<table border=\"1\" class=\"dataframe\">\n",
       "  <thead>\n",
       "    <tr style=\"text-align: right;\">\n",
       "      <th></th>\n",
       "      <th>Sex</th>\n",
       "      <th>Age</th>\n",
       "      <th>Final_Chronicity</th>\n",
       "      <th>Final_Activity</th>\n",
       "      <th>First_biop</th>\n",
       "      <th>Pred_use</th>\n",
       "      <th>Responder_Status</th>\n",
       "      <th>Race_[A]</th>\n",
       "      <th>Race_[A][B]</th>\n",
       "      <th>Race_[B]</th>\n",
       "      <th>...</th>\n",
       "      <th>Final_ISN_[IV][V]</th>\n",
       "      <th>Final_ISN_[V]</th>\n",
       "      <th>Final_Site_Einstein</th>\n",
       "      <th>Final_Site_JHU</th>\n",
       "      <th>Final_Site_Michigan</th>\n",
       "      <th>Final_Site_MUSC</th>\n",
       "      <th>Final_Site_NYU</th>\n",
       "      <th>Final_Site_Rochester</th>\n",
       "      <th>Final_Site_Texas Tech</th>\n",
       "      <th>Final_Site_UCSF</th>\n",
       "    </tr>\n",
       "    <tr>\n",
       "      <th>Unified_Visit</th>\n",
       "      <th></th>\n",
       "      <th></th>\n",
       "      <th></th>\n",
       "      <th></th>\n",
       "      <th></th>\n",
       "      <th></th>\n",
       "      <th></th>\n",
       "      <th></th>\n",
       "      <th></th>\n",
       "      <th></th>\n",
       "      <th></th>\n",
       "      <th></th>\n",
       "      <th></th>\n",
       "      <th></th>\n",
       "      <th></th>\n",
       "      <th></th>\n",
       "      <th></th>\n",
       "      <th></th>\n",
       "      <th></th>\n",
       "      <th></th>\n",
       "      <th></th>\n",
       "    </tr>\n",
       "  </thead>\n",
       "  <tbody>\n",
       "    <tr>\n",
       "      <th>200-2741-V0</th>\n",
       "      <td>1.0</td>\n",
       "      <td>1.428560</td>\n",
       "      <td>8.0</td>\n",
       "      <td>0.0</td>\n",
       "      <td>0.0</td>\n",
       "      <td>0.0</td>\n",
       "      <td>0.0</td>\n",
       "      <td>0.0</td>\n",
       "      <td>0.0</td>\n",
       "      <td>1.0</td>\n",
       "      <td>...</td>\n",
       "      <td>0.0</td>\n",
       "      <td>1.0</td>\n",
       "      <td>0.0</td>\n",
       "      <td>1.0</td>\n",
       "      <td>0.0</td>\n",
       "      <td>0.0</td>\n",
       "      <td>0.0</td>\n",
       "      <td>0.0</td>\n",
       "      <td>0.0</td>\n",
       "      <td>0.0</td>\n",
       "    </tr>\n",
       "    <tr>\n",
       "      <th>200-2729-V0</th>\n",
       "      <td>2.0</td>\n",
       "      <td>-1.272530</td>\n",
       "      <td>0.0</td>\n",
       "      <td>0.0</td>\n",
       "      <td>1.0</td>\n",
       "      <td>0.0</td>\n",
       "      <td>2.0</td>\n",
       "      <td>0.0</td>\n",
       "      <td>0.0</td>\n",
       "      <td>1.0</td>\n",
       "      <td>...</td>\n",
       "      <td>0.0</td>\n",
       "      <td>1.0</td>\n",
       "      <td>0.0</td>\n",
       "      <td>1.0</td>\n",
       "      <td>0.0</td>\n",
       "      <td>0.0</td>\n",
       "      <td>0.0</td>\n",
       "      <td>0.0</td>\n",
       "      <td>0.0</td>\n",
       "      <td>0.0</td>\n",
       "    </tr>\n",
       "    <tr>\n",
       "      <th>200-1240-V0</th>\n",
       "      <td>1.0</td>\n",
       "      <td>-0.886660</td>\n",
       "      <td>0.0</td>\n",
       "      <td>5.0</td>\n",
       "      <td>1.0</td>\n",
       "      <td>1.0</td>\n",
       "      <td>1.0</td>\n",
       "      <td>0.0</td>\n",
       "      <td>0.0</td>\n",
       "      <td>1.0</td>\n",
       "      <td>...</td>\n",
       "      <td>0.0</td>\n",
       "      <td>0.0</td>\n",
       "      <td>0.0</td>\n",
       "      <td>1.0</td>\n",
       "      <td>0.0</td>\n",
       "      <td>0.0</td>\n",
       "      <td>0.0</td>\n",
       "      <td>0.0</td>\n",
       "      <td>0.0</td>\n",
       "      <td>0.0</td>\n",
       "    </tr>\n",
       "    <tr>\n",
       "      <th>200-1137-V0</th>\n",
       "      <td>1.0</td>\n",
       "      <td>2.972040</td>\n",
       "      <td>3.0</td>\n",
       "      <td>5.0</td>\n",
       "      <td>1.0</td>\n",
       "      <td>1.0</td>\n",
       "      <td>2.0</td>\n",
       "      <td>0.0</td>\n",
       "      <td>0.0</td>\n",
       "      <td>0.0</td>\n",
       "      <td>...</td>\n",
       "      <td>0.0</td>\n",
       "      <td>0.0</td>\n",
       "      <td>0.0</td>\n",
       "      <td>0.0</td>\n",
       "      <td>0.0</td>\n",
       "      <td>0.0</td>\n",
       "      <td>1.0</td>\n",
       "      <td>0.0</td>\n",
       "      <td>0.0</td>\n",
       "      <td>0.0</td>\n",
       "    </tr>\n",
       "    <tr>\n",
       "      <th>200-1152-V0</th>\n",
       "      <td>1.0</td>\n",
       "      <td>0.425298</td>\n",
       "      <td>0.0</td>\n",
       "      <td>1.0</td>\n",
       "      <td>1.0</td>\n",
       "      <td>1.0</td>\n",
       "      <td>2.0</td>\n",
       "      <td>1.0</td>\n",
       "      <td>0.0</td>\n",
       "      <td>0.0</td>\n",
       "      <td>...</td>\n",
       "      <td>0.0</td>\n",
       "      <td>0.0</td>\n",
       "      <td>0.0</td>\n",
       "      <td>0.0</td>\n",
       "      <td>0.0</td>\n",
       "      <td>0.0</td>\n",
       "      <td>1.0</td>\n",
       "      <td>0.0</td>\n",
       "      <td>0.0</td>\n",
       "      <td>0.0</td>\n",
       "    </tr>\n",
       "  </tbody>\n",
       "</table>\n",
       "<p>5 rows × 26 columns</p>\n",
       "</div>"
      ],
      "text/plain": [
       "               Sex       Age  Final_Chronicity  Final_Activity  First_biop  \\\n",
       "Unified_Visit                                                                \n",
       "200-2741-V0    1.0  1.428560               8.0             0.0         0.0   \n",
       "200-2729-V0    2.0 -1.272530               0.0             0.0         1.0   \n",
       "200-1240-V0    1.0 -0.886660               0.0             5.0         1.0   \n",
       "200-1137-V0    1.0  2.972040               3.0             5.0         1.0   \n",
       "200-1152-V0    1.0  0.425298               0.0             1.0         1.0   \n",
       "\n",
       "               Pred_use  Responder_Status  Race_[A]  Race_[A][B]  Race_[B]  \\\n",
       "Unified_Visit                                                                \n",
       "200-2741-V0         0.0               0.0       0.0          0.0       1.0   \n",
       "200-2729-V0         0.0               2.0       0.0          0.0       1.0   \n",
       "200-1240-V0         1.0               1.0       0.0          0.0       1.0   \n",
       "200-1137-V0         1.0               2.0       0.0          0.0       0.0   \n",
       "200-1152-V0         1.0               2.0       1.0          0.0       0.0   \n",
       "\n",
       "               ...  Final_ISN_[IV][V]  Final_ISN_[V]  Final_Site_Einstein  \\\n",
       "Unified_Visit  ...                                                          \n",
       "200-2741-V0    ...                0.0            1.0                  0.0   \n",
       "200-2729-V0    ...                0.0            1.0                  0.0   \n",
       "200-1240-V0    ...                0.0            0.0                  0.0   \n",
       "200-1137-V0    ...                0.0            0.0                  0.0   \n",
       "200-1152-V0    ...                0.0            0.0                  0.0   \n",
       "\n",
       "               Final_Site_JHU  Final_Site_Michigan  Final_Site_MUSC  \\\n",
       "Unified_Visit                                                         \n",
       "200-2741-V0               1.0                  0.0              0.0   \n",
       "200-2729-V0               1.0                  0.0              0.0   \n",
       "200-1240-V0               1.0                  0.0              0.0   \n",
       "200-1137-V0               0.0                  0.0              0.0   \n",
       "200-1152-V0               0.0                  0.0              0.0   \n",
       "\n",
       "               Final_Site_NYU  Final_Site_Rochester  Final_Site_Texas Tech  \\\n",
       "Unified_Visit                                                                \n",
       "200-2741-V0               0.0                   0.0                    0.0   \n",
       "200-2729-V0               0.0                   0.0                    0.0   \n",
       "200-1240-V0               0.0                   0.0                    0.0   \n",
       "200-1137-V0               1.0                   0.0                    0.0   \n",
       "200-1152-V0               1.0                   0.0                    0.0   \n",
       "\n",
       "               Final_Site_UCSF  \n",
       "Unified_Visit                   \n",
       "200-2741-V0                0.0  \n",
       "200-2729-V0                0.0  \n",
       "200-1240-V0                0.0  \n",
       "200-1137-V0                0.0  \n",
       "200-1152-V0                0.0  \n",
       "\n",
       "[5 rows x 26 columns]"
      ]
     },
     "execution_count": 13,
     "metadata": {},
     "output_type": "execute_result"
    }
   ],
   "source": [
    "# Start by making anndata object\n",
    "d = mad.MultiAnnData(X=harmony, obs=meta, sampleid=\"Unified_Visit\")\n",
    "#d.obs_to_sample(['Type', 'Site',\n",
    "#                 'Responder_Status', 'Sex',\n",
    "#                 'Age', 'Race',\n",
    "#                'Ethnicity', 'ISN',\n",
    "#               'Activity', \"Chronicity\",\n",
    "#                 'processing_batch'])\n",
    "d.obs_to_sample(['Sex', 'Age', 'Final_Chronicity', 'Final_Activity', 'First_biop', 'Pred_use', 'Responder_Status', 'Race_[A]',\n",
    "       'Race_[A][B]', 'Race_[B]', 'Race_[B][AI]', 'Race_[U]',\n",
    "       'Race_[W]', 'Final_ISN_[III]', 'Final_ISN_[III][V]', 'Final_ISN_[IV]',\n",
    "       'Final_ISN_[IV][V]', 'Final_ISN_[V]', \n",
    "       'Final_Site_Einstein', 'Final_Site_JHU', 'Final_Site_Michigan',\n",
    "       'Final_Site_MUSC', 'Final_Site_NYU',\n",
    "       'Final_Site_Rochester', 'Final_Site_Texas Tech', \n",
    "       'Final_Site_UCSF', 'Responder_Status'])\n",
    "d.samplem.head()"
   ]
  },
  {
   "cell_type": "code",
   "execution_count": 14,
   "id": "f4164f56-dc3e-4649-938a-696d2ba43fcf",
   "metadata": {},
   "outputs": [],
   "source": [
    "umap.index = d.obs.index\n",
    "d.obsm['X_umap'] = umap"
   ]
  },
  {
   "cell_type": "code",
   "execution_count": 15,
   "id": "0082ac2b-874f-498c-a016-4ef818e181df",
   "metadata": {},
   "outputs": [
    {
     "name": "stdout",
     "output_type": "stream",
     "text": [
      "computing default knn graph\n"
     ]
    }
   ],
   "source": [
    "np.random.seed(0) \n",
    "cna.pp.knn(d)"
   ]
  },
  {
   "cell_type": "code",
   "execution_count": 16,
   "id": "db53f863-31a3-4fd6-8aed-e53405acc7cf",
   "metadata": {},
   "outputs": [
    {
     "name": "stdout",
     "output_type": "stream",
     "text": [
      "qcd NAM not found; computing and saving\n",
      "\ttaking step 1\n",
      "\tmedian kurtosis: 23.00143051147461\n",
      "\t20th percentile R2(t,t-1): nan\n",
      "\ttaking step 2\n",
      "\tmedian kurtosis: 16.383115768432617\n",
      "\t20th percentile R2(t,t-1): 0.760385024547577\n",
      "\ttaking step 3\n",
      "\tmedian kurtosis: 10.459860801696777\n",
      "\t20th percentile R2(t,t-1): 0.9103264927864074\n",
      "\ttaking step 4\n",
      "\tmedian kurtosis: 8.136070251464844\n",
      "\t20th percentile R2(t,t-1): 0.9526617050170898\n",
      "stopping after 4 steps\n",
      "covariate-adjusted NAM not found; computing and saving\n"
     ]
    },
    {
     "name": "stderr",
     "output_type": "stream",
     "text": [
      "/PHShome/ssg34/.conda/envs/plswork/lib/python3.9/site-packages/cna/tools/_nam.py:79: UserWarning: only one unique batch supplied to qc\n",
      "  warnings.warn('only one unique batch supplied to qc')\n",
      "/PHShome/ssg34/.conda/envs/plswork/lib/python3.9/site-packages/cna/tools/_nam.py:101: UserWarning: only one unique batch supplied to prep\n",
      "  warnings.warn('only one unique batch supplied to prep')\n"
     ]
    },
    {
     "name": "stdout",
     "output_type": "stream",
     "text": [
      "computing SVD\n",
      "performing association test\n",
      "computing neighborhood-level FDRs\n",
      "11\n",
      "[1, 2, 3, 4, 5, 6, 7, 8, 9, 10, 11, 12, 13, 14, 15, 16, 17, 18, 19, 20]\n",
      "p = 0.7814218578142186 , 11 PCs used\n",
      "total r^2 between top 11 NAM PCs and outcome is 0.13\n"
     ]
    }
   ],
   "source": [
    "np.random.seed(0) \n",
    "res = cna.tl._association.association(d, #dataset \n",
    "                                      d.samplem.Responder_Status, #phenotype\n",
    "#                                       batches=d.samplem.processing_batch, #batches\n",
    "                                      Nnull=10000, # number of null permutations to do (defaults to only 1e3)\n",
    "                                      ks=[1,2,3,4,5,6,7,8,9,10,11,12,13,14,15,16,17,18,19,20] # I asked the method to consider up to 10 PCs because\n",
    "                                                                #it chose the max number of PCs it considered the default set of [1,2,3,4]\n",
    "                                     )\n",
    "print(res.k)\n",
    "print(res.ks)\n",
    "print('p =', res.p, ',', res.k, 'PCs used')\n",
    "print('total r^2 between top {} NAM PCs and outcome is {:.2f}'.format(res.k, res.r2))"
   ]
  },
  {
   "cell_type": "code",
   "execution_count": 180,
   "id": "7c118330-8489-4197-ac0f-3afb9ee76053",
   "metadata": {},
   "outputs": [],
   "source": [
    "pbmc_uni['Responder_Status'] = res.p"
   ]
  },
  {
   "cell_type": "code",
   "execution_count": 181,
   "id": "3d061c97-3ca8-4ffc-a060-dc9ef6d9d768",
   "metadata": {},
   "outputs": [],
   "source": [
    "np.savetxt(\"/data/srlab/ssg34/SLE_kidney_v2/data/pbmc/response/ncorr.csv\", \n",
    "               res.ncorrs, delimiter=\",\")\n",
    "np.savetxt(\"/data/srlab/ssg34/SLE_kidney_v2/data/pbmc/response/fdrs.csv\", \n",
    "               res.fdrs, delimiter=\",\")"
   ]
  },
  {
   "cell_type": "markdown",
   "id": "a22eed72-6dff-4537-b8c1-8ba579cf304a",
   "metadata": {},
   "source": [
    "## RACE"
   ]
  },
  {
   "cell_type": "code",
   "execution_count": 151,
   "id": "d900c86b-3dcb-4263-960d-276f63476bc6",
   "metadata": {},
   "outputs": [
    {
     "name": "stdout",
     "output_type": "stream",
     "text": [
      "(256786, 41)\n"
     ]
    }
   ],
   "source": [
    "meta = pd.read_csv('/data/srlab/ssg34/SLE_kidney_v2/data/pbmc/race/meta.csv')\n",
    "print(meta.shape)"
   ]
  },
  {
   "cell_type": "code",
   "execution_count": 152,
   "id": "ba966146-e89f-4107-8a9c-e339e7a0a914",
   "metadata": {},
   "outputs": [
    {
     "name": "stdout",
     "output_type": "stream",
     "text": [
      "(256786, 20)\n"
     ]
    }
   ],
   "source": [
    "harmony = pd.read_csv('/data/srlab/ssg34/SLE_kidney_v2/data/pbmc/race/harmony.csv')\n",
    "print(harmony.shape)"
   ]
  },
  {
   "cell_type": "code",
   "execution_count": 153,
   "id": "0dc3f32d-452b-4446-9876-a6249f816fb4",
   "metadata": {},
   "outputs": [
    {
     "name": "stdout",
     "output_type": "stream",
     "text": [
      "(256786, 2)\n"
     ]
    }
   ],
   "source": [
    "umap = pd.read_csv('/data/srlab/ssg34/SLE_kidney_v2/data/pbmc/race/umap.csv')\n",
    "print(umap.shape)"
   ]
  },
  {
   "cell_type": "code",
   "execution_count": 155,
   "id": "5d93b378-a913-450d-92a8-43e87806d211",
   "metadata": {},
   "outputs": [
    {
     "name": "stderr",
     "output_type": "stream",
     "text": [
      "/PHShome/ssg34/.conda/envs/plswork/lib/python3.9/site-packages/multianndata/core.py:17: FutureWarning: X.dtype being converted to np.float32 from float64. In the next version of anndata (0.9) conversion will not be automatic. Pass dtype explicitly to avoid this warning. Pass `AnnData(X, dtype=X.dtype, ...)` to get the future behavour.\n",
      "  super().__init__(*args, **kwargs)\n",
      "/PHShome/ssg34/.conda/envs/plswork/lib/python3.9/site-packages/anndata/_core/anndata.py:121: ImplicitModificationWarning: Transforming to str index.\n",
      "  warnings.warn(\"Transforming to str index.\", ImplicitModificationWarning)\n"
     ]
    },
    {
     "name": "stdout",
     "output_type": "stream",
     "text": [
      "warning: the following columns of obs are non-numeric.\n",
      "['Cell' 'BARCODE' 'cell.type.ids' 'Unified_Visit' 'AMP.Subject_ID'\n",
      " 'Responder.Status' 'Race' 'Final_ISN' 'Type' 'Final_Site']\n",
      "consider casting to numeric types where appropriate, and\n",
      "consider re-coding text-valued columns with pandas.get_dummies\n"
     ]
    },
    {
     "data": {
      "text/html": [
       "<div>\n",
       "<style scoped>\n",
       "    .dataframe tbody tr th:only-of-type {\n",
       "        vertical-align: middle;\n",
       "    }\n",
       "\n",
       "    .dataframe tbody tr th {\n",
       "        vertical-align: top;\n",
       "    }\n",
       "\n",
       "    .dataframe thead th {\n",
       "        text-align: right;\n",
       "    }\n",
       "</style>\n",
       "<table border=\"1\" class=\"dataframe\">\n",
       "  <thead>\n",
       "    <tr style=\"text-align: right;\">\n",
       "      <th></th>\n",
       "      <th>Sex</th>\n",
       "      <th>Age</th>\n",
       "      <th>Final_Chronicity</th>\n",
       "      <th>Final_Activity</th>\n",
       "      <th>First_biop</th>\n",
       "      <th>Pred_use</th>\n",
       "      <th>Responder_Status</th>\n",
       "      <th>Race_[A]</th>\n",
       "      <th>Race_[A][B]</th>\n",
       "      <th>Race_[B]</th>\n",
       "      <th>...</th>\n",
       "      <th>Final_Site_Einstein</th>\n",
       "      <th>Final_Site_JHU</th>\n",
       "      <th>Final_Site_Michigan</th>\n",
       "      <th>Final_Site_MUSC</th>\n",
       "      <th>Final_Site_Northwell</th>\n",
       "      <th>Final_Site_NYU</th>\n",
       "      <th>Final_Site_Rochester</th>\n",
       "      <th>Final_Site_Texas Tech</th>\n",
       "      <th>Final_Site_UCLA</th>\n",
       "      <th>Final_Site_UCSF</th>\n",
       "    </tr>\n",
       "    <tr>\n",
       "      <th>Unified_Visit</th>\n",
       "      <th></th>\n",
       "      <th></th>\n",
       "      <th></th>\n",
       "      <th></th>\n",
       "      <th></th>\n",
       "      <th></th>\n",
       "      <th></th>\n",
       "      <th></th>\n",
       "      <th></th>\n",
       "      <th></th>\n",
       "      <th></th>\n",
       "      <th></th>\n",
       "      <th></th>\n",
       "      <th></th>\n",
       "      <th></th>\n",
       "      <th></th>\n",
       "      <th></th>\n",
       "      <th></th>\n",
       "      <th></th>\n",
       "      <th></th>\n",
       "      <th></th>\n",
       "    </tr>\n",
       "  </thead>\n",
       "  <tbody>\n",
       "    <tr>\n",
       "      <th>200-2741-V0</th>\n",
       "      <td>1.0</td>\n",
       "      <td>1.407794</td>\n",
       "      <td>8.0</td>\n",
       "      <td>0.0</td>\n",
       "      <td>0.0</td>\n",
       "      <td>0.0</td>\n",
       "      <td>0.0</td>\n",
       "      <td>0.0</td>\n",
       "      <td>0.0</td>\n",
       "      <td>1.0</td>\n",
       "      <td>...</td>\n",
       "      <td>0.0</td>\n",
       "      <td>1.0</td>\n",
       "      <td>0.0</td>\n",
       "      <td>0.0</td>\n",
       "      <td>0.0</td>\n",
       "      <td>0.0</td>\n",
       "      <td>0.0</td>\n",
       "      <td>0.0</td>\n",
       "      <td>0.0</td>\n",
       "      <td>0.0</td>\n",
       "    </tr>\n",
       "    <tr>\n",
       "      <th>200-2729-V0</th>\n",
       "      <td>2.0</td>\n",
       "      <td>-1.320891</td>\n",
       "      <td>0.0</td>\n",
       "      <td>0.0</td>\n",
       "      <td>1.0</td>\n",
       "      <td>0.0</td>\n",
       "      <td>2.0</td>\n",
       "      <td>0.0</td>\n",
       "      <td>0.0</td>\n",
       "      <td>1.0</td>\n",
       "      <td>...</td>\n",
       "      <td>0.0</td>\n",
       "      <td>1.0</td>\n",
       "      <td>0.0</td>\n",
       "      <td>0.0</td>\n",
       "      <td>0.0</td>\n",
       "      <td>0.0</td>\n",
       "      <td>0.0</td>\n",
       "      <td>0.0</td>\n",
       "      <td>0.0</td>\n",
       "      <td>0.0</td>\n",
       "    </tr>\n",
       "    <tr>\n",
       "      <th>200-1240-V0</th>\n",
       "      <td>1.0</td>\n",
       "      <td>-0.931079</td>\n",
       "      <td>0.0</td>\n",
       "      <td>5.0</td>\n",
       "      <td>1.0</td>\n",
       "      <td>1.0</td>\n",
       "      <td>1.0</td>\n",
       "      <td>0.0</td>\n",
       "      <td>0.0</td>\n",
       "      <td>1.0</td>\n",
       "      <td>...</td>\n",
       "      <td>0.0</td>\n",
       "      <td>1.0</td>\n",
       "      <td>0.0</td>\n",
       "      <td>0.0</td>\n",
       "      <td>0.0</td>\n",
       "      <td>0.0</td>\n",
       "      <td>0.0</td>\n",
       "      <td>0.0</td>\n",
       "      <td>0.0</td>\n",
       "      <td>0.0</td>\n",
       "    </tr>\n",
       "    <tr>\n",
       "      <th>200-1137-V0</th>\n",
       "      <td>1.0</td>\n",
       "      <td>2.967042</td>\n",
       "      <td>3.0</td>\n",
       "      <td>5.0</td>\n",
       "      <td>1.0</td>\n",
       "      <td>1.0</td>\n",
       "      <td>2.0</td>\n",
       "      <td>0.0</td>\n",
       "      <td>0.0</td>\n",
       "      <td>0.0</td>\n",
       "      <td>...</td>\n",
       "      <td>0.0</td>\n",
       "      <td>0.0</td>\n",
       "      <td>0.0</td>\n",
       "      <td>0.0</td>\n",
       "      <td>0.0</td>\n",
       "      <td>1.0</td>\n",
       "      <td>0.0</td>\n",
       "      <td>0.0</td>\n",
       "      <td>0.0</td>\n",
       "      <td>0.0</td>\n",
       "    </tr>\n",
       "    <tr>\n",
       "      <th>200-1152-V0</th>\n",
       "      <td>1.0</td>\n",
       "      <td>0.394282</td>\n",
       "      <td>0.0</td>\n",
       "      <td>1.0</td>\n",
       "      <td>1.0</td>\n",
       "      <td>1.0</td>\n",
       "      <td>2.0</td>\n",
       "      <td>1.0</td>\n",
       "      <td>0.0</td>\n",
       "      <td>0.0</td>\n",
       "      <td>...</td>\n",
       "      <td>0.0</td>\n",
       "      <td>0.0</td>\n",
       "      <td>0.0</td>\n",
       "      <td>0.0</td>\n",
       "      <td>0.0</td>\n",
       "      <td>1.0</td>\n",
       "      <td>0.0</td>\n",
       "      <td>0.0</td>\n",
       "      <td>0.0</td>\n",
       "      <td>0.0</td>\n",
       "    </tr>\n",
       "  </tbody>\n",
       "</table>\n",
       "<p>5 rows × 30 columns</p>\n",
       "</div>"
      ],
      "text/plain": [
       "               Sex       Age  Final_Chronicity  Final_Activity  First_biop  \\\n",
       "Unified_Visit                                                                \n",
       "200-2741-V0    1.0  1.407794               8.0             0.0         0.0   \n",
       "200-2729-V0    2.0 -1.320891               0.0             0.0         1.0   \n",
       "200-1240-V0    1.0 -0.931079               0.0             5.0         1.0   \n",
       "200-1137-V0    1.0  2.967042               3.0             5.0         1.0   \n",
       "200-1152-V0    1.0  0.394282               0.0             1.0         1.0   \n",
       "\n",
       "               Pred_use  Responder_Status  Race_[A]  Race_[A][B]  Race_[B]  \\\n",
       "Unified_Visit                                                                \n",
       "200-2741-V0         0.0               0.0       0.0          0.0       1.0   \n",
       "200-2729-V0         0.0               2.0       0.0          0.0       1.0   \n",
       "200-1240-V0         1.0               1.0       0.0          0.0       1.0   \n",
       "200-1137-V0         1.0               2.0       0.0          0.0       0.0   \n",
       "200-1152-V0         1.0               2.0       1.0          0.0       0.0   \n",
       "\n",
       "               ...  Final_Site_Einstein  Final_Site_JHU  Final_Site_Michigan  \\\n",
       "Unified_Visit  ...                                                             \n",
       "200-2741-V0    ...                  0.0             1.0                  0.0   \n",
       "200-2729-V0    ...                  0.0             1.0                  0.0   \n",
       "200-1240-V0    ...                  0.0             1.0                  0.0   \n",
       "200-1137-V0    ...                  0.0             0.0                  0.0   \n",
       "200-1152-V0    ...                  0.0             0.0                  0.0   \n",
       "\n",
       "               Final_Site_MUSC  Final_Site_Northwell  Final_Site_NYU  \\\n",
       "Unified_Visit                                                          \n",
       "200-2741-V0                0.0                   0.0             0.0   \n",
       "200-2729-V0                0.0                   0.0             0.0   \n",
       "200-1240-V0                0.0                   0.0             0.0   \n",
       "200-1137-V0                0.0                   0.0             1.0   \n",
       "200-1152-V0                0.0                   0.0             1.0   \n",
       "\n",
       "               Final_Site_Rochester  Final_Site_Texas Tech  Final_Site_UCLA  \\\n",
       "Unified_Visit                                                                 \n",
       "200-2741-V0                     0.0                    0.0              0.0   \n",
       "200-2729-V0                     0.0                    0.0              0.0   \n",
       "200-1240-V0                     0.0                    0.0              0.0   \n",
       "200-1137-V0                     0.0                    0.0              0.0   \n",
       "200-1152-V0                     0.0                    0.0              0.0   \n",
       "\n",
       "               Final_Site_UCSF  \n",
       "Unified_Visit                   \n",
       "200-2741-V0                0.0  \n",
       "200-2729-V0                0.0  \n",
       "200-1240-V0                0.0  \n",
       "200-1137-V0                0.0  \n",
       "200-1152-V0                0.0  \n",
       "\n",
       "[5 rows x 30 columns]"
      ]
     },
     "execution_count": 155,
     "metadata": {},
     "output_type": "execute_result"
    }
   ],
   "source": [
    "# Start by making anndata object\n",
    "d = mad.MultiAnnData(X=harmony, obs=meta, sampleid=\"Unified_Visit\")\n",
    "#d.obs_to_sample(['Type', 'Site',\n",
    "#                 'Responder_Status', 'Sex',\n",
    "#                 'Age', 'Race',\n",
    "#                'Ethnicity', 'ISN',\n",
    "#               'Activity', \"Chronicity\",\n",
    "#                 'processing_batch'])\n",
    "d.obs_to_sample(['Sex', 'Age', 'Final_Chronicity', 'Final_Activity', 'First_biop', 'Pred_use', 'Responder_Status', 'Race_[A]',\n",
    "       'Race_[A][B]', 'Race_[B]', 'Race_[B][AI]', 'Race_[B][W]', 'Race_[U]',\n",
    "       'Race_[W]', 'Final_ISN_[III]', 'Final_ISN_[III][V]', 'Final_ISN_[IV]',\n",
    "       'Final_ISN_[IV][V]', 'Final_ISN_[V]', 'Final_Site_Cincinnati',\n",
    "       'Final_Site_Einstein', 'Final_Site_JHU', 'Final_Site_Michigan',\n",
    "       'Final_Site_MUSC', 'Final_Site_Northwell', 'Final_Site_NYU',\n",
    "       'Final_Site_Rochester', 'Final_Site_Texas Tech', 'Final_Site_UCLA',\n",
    "       'Final_Site_UCSF'])\n",
    "d.samplem.head()"
   ]
  },
  {
   "cell_type": "code",
   "execution_count": 156,
   "id": "89c258cb-ce87-4b0a-a647-5ad247699384",
   "metadata": {},
   "outputs": [],
   "source": [
    "umap.index = d.obs.index\n",
    "d.obsm['X_umap'] = umap"
   ]
  },
  {
   "cell_type": "code",
   "execution_count": 157,
   "id": "024b01f0-a37e-4ddc-b610-7c230807785a",
   "metadata": {},
   "outputs": [
    {
     "name": "stdout",
     "output_type": "stream",
     "text": [
      "computing default knn graph\n"
     ]
    }
   ],
   "source": [
    "np.random.seed(0) \n",
    "cna.pp.knn(d)"
   ]
  },
  {
   "cell_type": "code",
   "execution_count": 61,
   "id": "c97e35ff-0274-4c8a-b771-27e4d3af352b",
   "metadata": {},
   "outputs": [
    {
     "name": "stdout",
     "output_type": "stream",
     "text": [
      "qcd NAM not found; computing and saving\n",
      "\ttaking step 1\n",
      "\tmedian kurtosis: 26.74811553955078\n",
      "\t20th percentile R2(t,t-1): nan\n",
      "\ttaking step 2\n",
      "\tmedian kurtosis: 19.00851821899414\n",
      "\t20th percentile R2(t,t-1): 0.756097388267517\n",
      "\ttaking step 3\n",
      "\tmedian kurtosis: 11.73455810546875\n",
      "\t20th percentile R2(t,t-1): 0.9074835300445556\n",
      "\ttaking step 4\n",
      "\tmedian kurtosis: 8.783553123474121\n",
      "\t20th percentile R2(t,t-1): 0.9506416082382202\n",
      "stopping after 4 steps\n",
      "covariate-adjusted NAM not found; computing and saving\n"
     ]
    },
    {
     "name": "stderr",
     "output_type": "stream",
     "text": [
      "/PHShome/ssg34/.conda/envs/plswork/lib/python3.9/site-packages/cna/tools/_nam.py:79: UserWarning: only one unique batch supplied to qc\n",
      "  warnings.warn('only one unique batch supplied to qc')\n",
      "/PHShome/ssg34/.conda/envs/plswork/lib/python3.9/site-packages/cna/tools/_nam.py:101: UserWarning: only one unique batch supplied to prep\n",
      "  warnings.warn('only one unique batch supplied to prep')\n"
     ]
    },
    {
     "name": "stdout",
     "output_type": "stream",
     "text": [
      "computing SVD\n",
      "performing association test\n",
      "computing neighborhood-level FDRs\n",
      "19\n",
      "[1, 2, 3, 4, 5, 6, 7, 8, 9, 10, 11, 12, 13, 14, 15, 16, 17, 18, 19, 20]\n",
      "p = 0.0684931506849315 , 19 PCs used\n",
      "total r^2 between top 19 NAM PCs and outcome is 0.29\n"
     ]
    }
   ],
   "source": [
    "np.random.seed(0) \n",
    "res = cna.tl._association.association(d, #dataset \n",
    "                                      d.samplem['Race_[A]'], #phenotype\n",
    "#                                       batches=d.samplem.processing_batch, #batches\n",
    "                                      Nnull=10000, # number of null permutations to do (defaults to only 1e3)\n",
    "                                      ks=[1,2,3,4,5,6,7,8,9,10,11,12,13,14,15,16,17,18,19,20] # I asked the method to consider up to 10 PCs because\n",
    "                                                                #it chose the max number of PCs it considered the default set of [1,2,3,4]\n",
    "                                     )\n",
    "print(res.k)\n",
    "print(res.ks)\n",
    "print('p =', res.p, ',', res.k, 'PCs used')\n",
    "print('total r^2 between top {} NAM PCs and outcome is {:.2f}'.format(res.k, res.r2))"
   ]
  },
  {
   "cell_type": "code",
   "execution_count": 62,
   "id": "4d1a68ce-1d06-4c2d-a537-7e490e87554c",
   "metadata": {},
   "outputs": [
    {
     "name": "stdout",
     "output_type": "stream",
     "text": [
      "performing association test\n",
      "computing neighborhood-level FDRs\n",
      "8\n",
      "[1, 2, 3, 4, 5, 6, 7, 8, 9, 10, 11, 12, 13, 14, 15, 16, 17, 18, 19, 20]\n",
      "p = 0.24647535246475352 , 8 PCs used\n",
      "total r^2 between top 8 NAM PCs and outcome is 0.14\n"
     ]
    }
   ],
   "source": [
    "np.random.seed(0) \n",
    "res = cna.tl._association.association(d, #dataset \n",
    "                                      d.samplem['Race_[A][B]'], #phenotype\n",
    "#                                       batches=d.samplem.processing_batch, #batches\n",
    "                                      Nnull=10000, # number of null permutations to do (defaults to only 1e3)\n",
    "                                      ks=[1,2,3,4,5,6,7,8,9,10,11,12,13,14,15,16,17,18,19,20] # I asked the method to consider up to 10 PCs because\n",
    "                                                                #it chose the max number of PCs it considered the default set of [1,2,3,4]\n",
    "                                     )\n",
    "print(res.k)\n",
    "print(res.ks)\n",
    "print('p =', res.p, ',', res.k, 'PCs used')\n",
    "print('total r^2 between top {} NAM PCs and outcome is {:.2f}'.format(res.k, res.r2))"
   ]
  },
  {
   "cell_type": "code",
   "execution_count": 63,
   "id": "b25cfea8-d3d9-424e-8010-4de20856aa66",
   "metadata": {},
   "outputs": [
    {
     "name": "stdout",
     "output_type": "stream",
     "text": [
      "performing association test\n",
      "computing neighborhood-level FDRs\n",
      "16\n",
      "[1, 2, 3, 4, 5, 6, 7, 8, 9, 10, 11, 12, 13, 14, 15, 16, 17, 18, 19, 20]\n",
      "p = 0.07789221077892211 , 16 PCs used\n",
      "total r^2 between top 16 NAM PCs and outcome is 0.25\n"
     ]
    }
   ],
   "source": [
    "np.random.seed(0) \n",
    "res = cna.tl._association.association(d, #dataset \n",
    "                                      d.samplem['Race_[B]'], #phenotype\n",
    "#                                       batches=d.samplem.processing_batch, #batches\n",
    "                                      Nnull=10000, # number of null permutations to do (defaults to only 1e3)\n",
    "                                      ks=[1,2,3,4,5,6,7,8,9,10,11,12,13,14,15,16,17,18,19,20] # I asked the method to consider up to 10 PCs because\n",
    "                                                                #it chose the max number of PCs it considered the default set of [1,2,3,4]\n",
    "                                     )\n",
    "print(res.k)\n",
    "print(res.ks)\n",
    "print('p =', res.p, ',', res.k, 'PCs used')\n",
    "print('total r^2 between top {} NAM PCs and outcome is {:.2f}'.format(res.k, res.r2))"
   ]
  },
  {
   "cell_type": "code",
   "execution_count": 64,
   "id": "0c81e1ae-78ab-4c99-a4c1-17650cec747e",
   "metadata": {},
   "outputs": [
    {
     "name": "stdout",
     "output_type": "stream",
     "text": [
      "performing association test\n"
     ]
    },
    {
     "name": "stderr",
     "output_type": "stream",
     "text": [
      "/PHShome/ssg34/.conda/envs/plswork/lib/python3.9/site-packages/cna/tools/_association.py:57: UserWarning: data supported use of 20 NAM PCs, which is the maximum considered. Consider allowing more PCs by using the \"ks\" argument.\n",
      "  warnings.warn(('data supported use of {} NAM PCs, which is the maximum considered. '+\\\n"
     ]
    },
    {
     "name": "stdout",
     "output_type": "stream",
     "text": [
      "computing neighborhood-level FDRs\n",
      "20\n",
      "[1, 2, 3, 4, 5, 6, 7, 8, 9, 10, 11, 12, 13, 14, 15, 16, 17, 18, 19, 20]\n",
      "p = 0.11138886111388861 , 20 PCs used\n",
      "total r^2 between top 20 NAM PCs and outcome is 0.33\n"
     ]
    }
   ],
   "source": [
    "np.random.seed(0) \n",
    "res = cna.tl._association.association(d, #dataset \n",
    "                                      d.samplem['Race_[B][AI]'], #phenotype\n",
    "#                                       batches=d.samplem.processing_batch, #batches\n",
    "                                      Nnull=10000, # number of null permutations to do (defaults to only 1e3)\n",
    "                                      ks=[1,2,3,4,5,6,7,8,9,10,11,12,13,14,15,16,17,18,19,20] # I asked the method to consider up to 10 PCs because\n",
    "                                                                #it chose the max number of PCs it considered the default set of [1,2,3,4]\n",
    "                                     )\n",
    "print(res.k)\n",
    "print(res.ks)\n",
    "print('p =', res.p, ',', res.k, 'PCs used')\n",
    "print('total r^2 between top {} NAM PCs and outcome is {:.2f}'.format(res.k, res.r2))"
   ]
  },
  {
   "cell_type": "code",
   "execution_count": 65,
   "id": "259a7099-0b40-4b70-a7af-eb8a4c9a1212",
   "metadata": {},
   "outputs": [
    {
     "name": "stdout",
     "output_type": "stream",
     "text": [
      "performing association test\n",
      "computing neighborhood-level FDRs\n",
      "8\n",
      "[1, 2, 3, 4, 5, 6, 7, 8, 9, 10, 11, 12, 13, 14, 15, 16, 17, 18, 19, 20]\n",
      "p = 0.81001899810019 , 8 PCs used\n",
      "total r^2 between top 8 NAM PCs and outcome is 0.07\n"
     ]
    }
   ],
   "source": [
    "np.random.seed(0) \n",
    "res = cna.tl._association.association(d, #dataset \n",
    "                                      d.samplem['Race_[B][W]'], #phenotype\n",
    "#                                       batches=d.samplem.processing_batch, #batches\n",
    "                                      Nnull=10000, # number of null permutations to do (defaults to only 1e3)\n",
    "                                      ks=[1,2,3,4,5,6,7,8,9,10,11,12,13,14,15,16,17,18,19,20] # I asked the method to consider up to 10 PCs because\n",
    "                                                                #it chose the max number of PCs it considered the default set of [1,2,3,4]\n",
    "                                     )\n",
    "print(res.k)\n",
    "print(res.ks)\n",
    "print('p =', res.p, ',', res.k, 'PCs used')\n",
    "print('total r^2 between top {} NAM PCs and outcome is {:.2f}'.format(res.k, res.r2))"
   ]
  },
  {
   "cell_type": "code",
   "execution_count": 159,
   "id": "1af79313-f7b8-4920-b1b7-f8c9d8b184c8",
   "metadata": {},
   "outputs": [
    {
     "name": "stdout",
     "output_type": "stream",
     "text": [
      "qcd NAM not found; computing and saving\n",
      "\ttaking step 1\n",
      "\tmedian kurtosis: 26.74811553955078\n",
      "\t20th percentile R2(t,t-1): nan\n",
      "\ttaking step 2\n",
      "\tmedian kurtosis: 19.00851821899414\n",
      "\t20th percentile R2(t,t-1): 0.756097388267517\n",
      "\ttaking step 3\n",
      "\tmedian kurtosis: 11.73455810546875\n",
      "\t20th percentile R2(t,t-1): 0.9074835300445556\n",
      "\ttaking step 4\n",
      "\tmedian kurtosis: 8.783553123474121\n",
      "\t20th percentile R2(t,t-1): 0.9506416082382202\n",
      "stopping after 4 steps\n",
      "covariate-adjusted NAM not found; computing and saving\n"
     ]
    },
    {
     "name": "stderr",
     "output_type": "stream",
     "text": [
      "/PHShome/ssg34/.conda/envs/plswork/lib/python3.9/site-packages/cna/tools/_nam.py:79: UserWarning: only one unique batch supplied to qc\n",
      "  warnings.warn('only one unique batch supplied to qc')\n",
      "/PHShome/ssg34/.conda/envs/plswork/lib/python3.9/site-packages/cna/tools/_nam.py:101: UserWarning: only one unique batch supplied to prep\n",
      "  warnings.warn('only one unique batch supplied to prep')\n"
     ]
    },
    {
     "name": "stdout",
     "output_type": "stream",
     "text": [
      "computing SVD\n",
      "performing association test\n"
     ]
    },
    {
     "name": "stderr",
     "output_type": "stream",
     "text": [
      "/PHShome/ssg34/.conda/envs/plswork/lib/python3.9/site-packages/cna/tools/_association.py:57: UserWarning: data supported use of 20 NAM PCs, which is the maximum considered. Consider allowing more PCs by using the \"ks\" argument.\n",
      "  warnings.warn(('data supported use of {} NAM PCs, which is the maximum considered. '+\\\n"
     ]
    },
    {
     "name": "stdout",
     "output_type": "stream",
     "text": [
      "computing neighborhood-level FDRs\n",
      "20\n",
      "[1, 2, 3, 4, 5, 6, 7, 8, 9, 10, 11, 12, 13, 14, 15, 16, 17, 18, 19, 20]\n",
      "p = 0.015598440155984402 , 20 PCs used\n",
      "total r^2 between top 20 NAM PCs and outcome is 0.35\n"
     ]
    }
   ],
   "source": [
    "np.random.seed(0) \n",
    "res = cna.tl._association.association(d, #dataset \n",
    "                                      d.samplem['Race_[U]'], #phenotype\n",
    "#                                       batches=d.samplem.processing_batch, #batches\n",
    "                                      Nnull=10000, # number of null permutations to do (defaults to only 1e3)\n",
    "                                      ks=[1,2,3,4,5,6,7,8,9,10,11,12,13,14,15,16,17,18,19,20] # I asked the method to consider up to 10 PCs because\n",
    "                                                                #it chose the max number of PCs it considered the default set of [1,2,3,4]\n",
    "                                     )\n",
    "print(res.k)\n",
    "print(res.ks)\n",
    "print('p =', res.p, ',', res.k, 'PCs used')\n",
    "print('total r^2 between top {} NAM PCs and outcome is {:.2f}'.format(res.k, res.r2))"
   ]
  },
  {
   "cell_type": "code",
   "execution_count": 160,
   "id": "7c34fda3-23a0-4293-b0de-7e88f67f41d8",
   "metadata": {},
   "outputs": [],
   "source": [
    "pbmc_uni['Race'] = res.p"
   ]
  },
  {
   "cell_type": "code",
   "execution_count": 162,
   "id": "2d1bc612-0112-4182-afe1-4be72cc3a407",
   "metadata": {},
   "outputs": [],
   "source": [
    "np.savetxt(\"/data/srlab/ssg34/SLE_kidney_v2/data/pbmc/race/ncorr.csv\", \n",
    "               res.ncorrs, delimiter=\",\")\n",
    "np.savetxt(\"/data/srlab/ssg34/SLE_kidney_v2/data/pbmc/race/fdrs.csv\", \n",
    "               res.fdrs, delimiter=\",\")"
   ]
  },
  {
   "cell_type": "code",
   "execution_count": 67,
   "id": "504803a9-3d6d-41dd-b228-0b039dc51f8a",
   "metadata": {},
   "outputs": [
    {
     "name": "stdout",
     "output_type": "stream",
     "text": [
      "performing association test\n",
      "computing neighborhood-level FDRs\n",
      "20\n",
      "[1, 2, 3, 4, 5, 6, 7, 8, 9, 10, 11, 12, 13, 14, 15, 16, 17, 18, 19, 20]\n",
      "p = 0.2226777322267773 , 20 PCs used\n",
      "total r^2 between top 20 NAM PCs and outcome is 0.25\n"
     ]
    }
   ],
   "source": [
    "np.random.seed(0) \n",
    "res = cna.tl._association.association(d, #dataset \n",
    "                                      d.samplem['Race_[W]'], #phenotype\n",
    "#                                       batches=d.samplem.processing_batch, #batches\n",
    "                                      Nnull=10000, # number of null permutations to do (defaults to only 1e3)\n",
    "                                      ks=[1,2,3,4,5,6,7,8,9,10,11,12,13,14,15,16,17,18,19,20] # I asked the method to consider up to 10 PCs because\n",
    "                                                                #it chose the max number of PCs it considered the default set of [1,2,3,4]\n",
    "                                     )\n",
    "print(res.k)\n",
    "print(res.ks)\n",
    "print('p =', res.p, ',', res.k, 'PCs used')\n",
    "print('total r^2 between top {} NAM PCs and outcome is {:.2f}'.format(res.k, res.r2))"
   ]
  },
  {
   "cell_type": "markdown",
   "id": "2af06112-6ad3-49d6-8489-b1c25b96654b",
   "metadata": {},
   "source": [
    "## SITE"
   ]
  },
  {
   "cell_type": "code",
   "execution_count": 163,
   "id": "1ecf938c-220b-4328-a8d8-f071c93a2ef4",
   "metadata": {},
   "outputs": [
    {
     "name": "stdout",
     "output_type": "stream",
     "text": [
      "(256786, 41)\n"
     ]
    }
   ],
   "source": [
    "meta = pd.read_csv('/data/srlab/ssg34/SLE_kidney_v2/data/pbmc/site/meta.csv')\n",
    "print(meta.shape)"
   ]
  },
  {
   "cell_type": "code",
   "execution_count": 164,
   "id": "954c8547-24bf-4cf4-8e4e-408d216e5ea3",
   "metadata": {},
   "outputs": [
    {
     "name": "stdout",
     "output_type": "stream",
     "text": [
      "(256786, 20)\n"
     ]
    }
   ],
   "source": [
    "harmony = pd.read_csv('/data/srlab/ssg34/SLE_kidney_v2/data/pbmc/site/harmony.csv')\n",
    "print(harmony.shape)"
   ]
  },
  {
   "cell_type": "code",
   "execution_count": 165,
   "id": "ab66032b-fe9c-4a1a-8637-328e9c7573a0",
   "metadata": {},
   "outputs": [
    {
     "name": "stdout",
     "output_type": "stream",
     "text": [
      "(256786, 2)\n"
     ]
    }
   ],
   "source": [
    "umap = pd.read_csv('/data/srlab/ssg34/SLE_kidney_v2/data/pbmc/site/umap.csv')\n",
    "print(umap.shape)"
   ]
  },
  {
   "cell_type": "code",
   "execution_count": 166,
   "id": "e76454ca-6c8e-4026-9ec1-1cbacc78d838",
   "metadata": {},
   "outputs": [
    {
     "name": "stderr",
     "output_type": "stream",
     "text": [
      "/PHShome/ssg34/.conda/envs/plswork/lib/python3.9/site-packages/multianndata/core.py:17: FutureWarning: X.dtype being converted to np.float32 from float64. In the next version of anndata (0.9) conversion will not be automatic. Pass dtype explicitly to avoid this warning. Pass `AnnData(X, dtype=X.dtype, ...)` to get the future behavour.\n",
      "  super().__init__(*args, **kwargs)\n",
      "/PHShome/ssg34/.conda/envs/plswork/lib/python3.9/site-packages/anndata/_core/anndata.py:121: ImplicitModificationWarning: Transforming to str index.\n",
      "  warnings.warn(\"Transforming to str index.\", ImplicitModificationWarning)\n"
     ]
    },
    {
     "name": "stdout",
     "output_type": "stream",
     "text": [
      "warning: the following columns of obs are non-numeric.\n",
      "['Cell' 'BARCODE' 'cell.type.ids' 'Unified_Visit' 'AMP.Subject_ID'\n",
      " 'Responder.Status' 'Race' 'Final_ISN' 'Type' 'Final_Site']\n",
      "consider casting to numeric types where appropriate, and\n",
      "consider re-coding text-valued columns with pandas.get_dummies\n"
     ]
    },
    {
     "data": {
      "text/html": [
       "<div>\n",
       "<style scoped>\n",
       "    .dataframe tbody tr th:only-of-type {\n",
       "        vertical-align: middle;\n",
       "    }\n",
       "\n",
       "    .dataframe tbody tr th {\n",
       "        vertical-align: top;\n",
       "    }\n",
       "\n",
       "    .dataframe thead th {\n",
       "        text-align: right;\n",
       "    }\n",
       "</style>\n",
       "<table border=\"1\" class=\"dataframe\">\n",
       "  <thead>\n",
       "    <tr style=\"text-align: right;\">\n",
       "      <th></th>\n",
       "      <th>Sex</th>\n",
       "      <th>Age</th>\n",
       "      <th>Final_Chronicity</th>\n",
       "      <th>Final_Activity</th>\n",
       "      <th>First_biop</th>\n",
       "      <th>Pred_use</th>\n",
       "      <th>Responder_Status</th>\n",
       "      <th>Race_[A]</th>\n",
       "      <th>Race_[A][B]</th>\n",
       "      <th>Race_[B]</th>\n",
       "      <th>...</th>\n",
       "      <th>Final_Site_Einstein</th>\n",
       "      <th>Final_Site_JHU</th>\n",
       "      <th>Final_Site_Michigan</th>\n",
       "      <th>Final_Site_MUSC</th>\n",
       "      <th>Final_Site_Northwell</th>\n",
       "      <th>Final_Site_NYU</th>\n",
       "      <th>Final_Site_Rochester</th>\n",
       "      <th>Final_Site_Texas Tech</th>\n",
       "      <th>Final_Site_UCLA</th>\n",
       "      <th>Final_Site_UCSF</th>\n",
       "    </tr>\n",
       "    <tr>\n",
       "      <th>Unified_Visit</th>\n",
       "      <th></th>\n",
       "      <th></th>\n",
       "      <th></th>\n",
       "      <th></th>\n",
       "      <th></th>\n",
       "      <th></th>\n",
       "      <th></th>\n",
       "      <th></th>\n",
       "      <th></th>\n",
       "      <th></th>\n",
       "      <th></th>\n",
       "      <th></th>\n",
       "      <th></th>\n",
       "      <th></th>\n",
       "      <th></th>\n",
       "      <th></th>\n",
       "      <th></th>\n",
       "      <th></th>\n",
       "      <th></th>\n",
       "      <th></th>\n",
       "      <th></th>\n",
       "    </tr>\n",
       "  </thead>\n",
       "  <tbody>\n",
       "    <tr>\n",
       "      <th>200-2741-V0</th>\n",
       "      <td>1.0</td>\n",
       "      <td>1.407794</td>\n",
       "      <td>8.0</td>\n",
       "      <td>0.0</td>\n",
       "      <td>0.0</td>\n",
       "      <td>0.0</td>\n",
       "      <td>0.0</td>\n",
       "      <td>0.0</td>\n",
       "      <td>0.0</td>\n",
       "      <td>1.0</td>\n",
       "      <td>...</td>\n",
       "      <td>0.0</td>\n",
       "      <td>1.0</td>\n",
       "      <td>0.0</td>\n",
       "      <td>0.0</td>\n",
       "      <td>0.0</td>\n",
       "      <td>0.0</td>\n",
       "      <td>0.0</td>\n",
       "      <td>0.0</td>\n",
       "      <td>0.0</td>\n",
       "      <td>0.0</td>\n",
       "    </tr>\n",
       "    <tr>\n",
       "      <th>200-2729-V0</th>\n",
       "      <td>2.0</td>\n",
       "      <td>-1.320891</td>\n",
       "      <td>0.0</td>\n",
       "      <td>0.0</td>\n",
       "      <td>1.0</td>\n",
       "      <td>0.0</td>\n",
       "      <td>2.0</td>\n",
       "      <td>0.0</td>\n",
       "      <td>0.0</td>\n",
       "      <td>1.0</td>\n",
       "      <td>...</td>\n",
       "      <td>0.0</td>\n",
       "      <td>1.0</td>\n",
       "      <td>0.0</td>\n",
       "      <td>0.0</td>\n",
       "      <td>0.0</td>\n",
       "      <td>0.0</td>\n",
       "      <td>0.0</td>\n",
       "      <td>0.0</td>\n",
       "      <td>0.0</td>\n",
       "      <td>0.0</td>\n",
       "    </tr>\n",
       "    <tr>\n",
       "      <th>200-1240-V0</th>\n",
       "      <td>1.0</td>\n",
       "      <td>-0.931079</td>\n",
       "      <td>0.0</td>\n",
       "      <td>5.0</td>\n",
       "      <td>1.0</td>\n",
       "      <td>1.0</td>\n",
       "      <td>1.0</td>\n",
       "      <td>0.0</td>\n",
       "      <td>0.0</td>\n",
       "      <td>1.0</td>\n",
       "      <td>...</td>\n",
       "      <td>0.0</td>\n",
       "      <td>1.0</td>\n",
       "      <td>0.0</td>\n",
       "      <td>0.0</td>\n",
       "      <td>0.0</td>\n",
       "      <td>0.0</td>\n",
       "      <td>0.0</td>\n",
       "      <td>0.0</td>\n",
       "      <td>0.0</td>\n",
       "      <td>0.0</td>\n",
       "    </tr>\n",
       "    <tr>\n",
       "      <th>200-1137-V0</th>\n",
       "      <td>1.0</td>\n",
       "      <td>2.967042</td>\n",
       "      <td>3.0</td>\n",
       "      <td>5.0</td>\n",
       "      <td>1.0</td>\n",
       "      <td>1.0</td>\n",
       "      <td>2.0</td>\n",
       "      <td>0.0</td>\n",
       "      <td>0.0</td>\n",
       "      <td>0.0</td>\n",
       "      <td>...</td>\n",
       "      <td>0.0</td>\n",
       "      <td>0.0</td>\n",
       "      <td>0.0</td>\n",
       "      <td>0.0</td>\n",
       "      <td>0.0</td>\n",
       "      <td>1.0</td>\n",
       "      <td>0.0</td>\n",
       "      <td>0.0</td>\n",
       "      <td>0.0</td>\n",
       "      <td>0.0</td>\n",
       "    </tr>\n",
       "    <tr>\n",
       "      <th>200-1152-V0</th>\n",
       "      <td>1.0</td>\n",
       "      <td>0.394282</td>\n",
       "      <td>0.0</td>\n",
       "      <td>1.0</td>\n",
       "      <td>1.0</td>\n",
       "      <td>1.0</td>\n",
       "      <td>2.0</td>\n",
       "      <td>1.0</td>\n",
       "      <td>0.0</td>\n",
       "      <td>0.0</td>\n",
       "      <td>...</td>\n",
       "      <td>0.0</td>\n",
       "      <td>0.0</td>\n",
       "      <td>0.0</td>\n",
       "      <td>0.0</td>\n",
       "      <td>0.0</td>\n",
       "      <td>1.0</td>\n",
       "      <td>0.0</td>\n",
       "      <td>0.0</td>\n",
       "      <td>0.0</td>\n",
       "      <td>0.0</td>\n",
       "    </tr>\n",
       "  </tbody>\n",
       "</table>\n",
       "<p>5 rows × 30 columns</p>\n",
       "</div>"
      ],
      "text/plain": [
       "               Sex       Age  Final_Chronicity  Final_Activity  First_biop  \\\n",
       "Unified_Visit                                                                \n",
       "200-2741-V0    1.0  1.407794               8.0             0.0         0.0   \n",
       "200-2729-V0    2.0 -1.320891               0.0             0.0         1.0   \n",
       "200-1240-V0    1.0 -0.931079               0.0             5.0         1.0   \n",
       "200-1137-V0    1.0  2.967042               3.0             5.0         1.0   \n",
       "200-1152-V0    1.0  0.394282               0.0             1.0         1.0   \n",
       "\n",
       "               Pred_use  Responder_Status  Race_[A]  Race_[A][B]  Race_[B]  \\\n",
       "Unified_Visit                                                                \n",
       "200-2741-V0         0.0               0.0       0.0          0.0       1.0   \n",
       "200-2729-V0         0.0               2.0       0.0          0.0       1.0   \n",
       "200-1240-V0         1.0               1.0       0.0          0.0       1.0   \n",
       "200-1137-V0         1.0               2.0       0.0          0.0       0.0   \n",
       "200-1152-V0         1.0               2.0       1.0          0.0       0.0   \n",
       "\n",
       "               ...  Final_Site_Einstein  Final_Site_JHU  Final_Site_Michigan  \\\n",
       "Unified_Visit  ...                                                             \n",
       "200-2741-V0    ...                  0.0             1.0                  0.0   \n",
       "200-2729-V0    ...                  0.0             1.0                  0.0   \n",
       "200-1240-V0    ...                  0.0             1.0                  0.0   \n",
       "200-1137-V0    ...                  0.0             0.0                  0.0   \n",
       "200-1152-V0    ...                  0.0             0.0                  0.0   \n",
       "\n",
       "               Final_Site_MUSC  Final_Site_Northwell  Final_Site_NYU  \\\n",
       "Unified_Visit                                                          \n",
       "200-2741-V0                0.0                   0.0             0.0   \n",
       "200-2729-V0                0.0                   0.0             0.0   \n",
       "200-1240-V0                0.0                   0.0             0.0   \n",
       "200-1137-V0                0.0                   0.0             1.0   \n",
       "200-1152-V0                0.0                   0.0             1.0   \n",
       "\n",
       "               Final_Site_Rochester  Final_Site_Texas Tech  Final_Site_UCLA  \\\n",
       "Unified_Visit                                                                 \n",
       "200-2741-V0                     0.0                    0.0              0.0   \n",
       "200-2729-V0                     0.0                    0.0              0.0   \n",
       "200-1240-V0                     0.0                    0.0              0.0   \n",
       "200-1137-V0                     0.0                    0.0              0.0   \n",
       "200-1152-V0                     0.0                    0.0              0.0   \n",
       "\n",
       "               Final_Site_UCSF  \n",
       "Unified_Visit                   \n",
       "200-2741-V0                0.0  \n",
       "200-2729-V0                0.0  \n",
       "200-1240-V0                0.0  \n",
       "200-1137-V0                0.0  \n",
       "200-1152-V0                0.0  \n",
       "\n",
       "[5 rows x 30 columns]"
      ]
     },
     "execution_count": 166,
     "metadata": {},
     "output_type": "execute_result"
    }
   ],
   "source": [
    "# Start by making anndata object\n",
    "d = mad.MultiAnnData(X=harmony, obs=meta, sampleid=\"Unified_Visit\")\n",
    "#d.obs_to_sample(['Type', 'Site',\n",
    "#                 'Responder_Status', 'Sex',\n",
    "#                 'Age', 'Race',\n",
    "#                'Ethnicity', 'ISN',\n",
    "#               'Activity', \"Chronicity\",\n",
    "#                 'processing_batch'])\n",
    "d.obs_to_sample(['Sex', 'Age', 'Final_Chronicity', 'Final_Activity', 'First_biop', 'Pred_use', 'Responder_Status', 'Race_[A]',\n",
    "       'Race_[A][B]', 'Race_[B]', 'Race_[B][AI]', 'Race_[B][W]', 'Race_[U]',\n",
    "       'Race_[W]', 'Final_ISN_[III]', 'Final_ISN_[III][V]', 'Final_ISN_[IV]',\n",
    "       'Final_ISN_[IV][V]', 'Final_ISN_[V]', 'Final_Site_Cincinnati',\n",
    "       'Final_Site_Einstein', 'Final_Site_JHU', 'Final_Site_Michigan',\n",
    "       'Final_Site_MUSC', 'Final_Site_Northwell', 'Final_Site_NYU',\n",
    "       'Final_Site_Rochester', 'Final_Site_Texas Tech', 'Final_Site_UCLA',\n",
    "       'Final_Site_UCSF'])\n",
    "d.samplem.head()"
   ]
  },
  {
   "cell_type": "code",
   "execution_count": 167,
   "id": "46522737-a090-4110-96ec-8ba680f48f67",
   "metadata": {},
   "outputs": [],
   "source": [
    "umap.index = d.obs.index\n",
    "d.obsm['X_umap'] = umap"
   ]
  },
  {
   "cell_type": "code",
   "execution_count": 168,
   "id": "9b2e71a3-18ec-44c0-b1a5-6eaaacd041bb",
   "metadata": {},
   "outputs": [
    {
     "name": "stdout",
     "output_type": "stream",
     "text": [
      "computing default knn graph\n"
     ]
    }
   ],
   "source": [
    "np.random.seed(0) \n",
    "cna.pp.knn(d)"
   ]
  },
  {
   "cell_type": "code",
   "execution_count": 77,
   "id": "a9c3bca0-19f7-4254-be21-ad8a1cdb4fef",
   "metadata": {},
   "outputs": [
    {
     "name": "stdout",
     "output_type": "stream",
     "text": [
      "qcd NAM not found; computing and saving\n",
      "\ttaking step 1\n",
      "\tmedian kurtosis: 26.74811553955078\n",
      "\t20th percentile R2(t,t-1): nan\n",
      "\ttaking step 2\n",
      "\tmedian kurtosis: 19.00851821899414\n",
      "\t20th percentile R2(t,t-1): 0.756097388267517\n",
      "\ttaking step 3\n",
      "\tmedian kurtosis: 11.73455810546875\n",
      "\t20th percentile R2(t,t-1): 0.9074835300445556\n",
      "\ttaking step 4\n",
      "\tmedian kurtosis: 8.783553123474121\n",
      "\t20th percentile R2(t,t-1): 0.9506416082382202\n",
      "stopping after 4 steps\n",
      "covariate-adjusted NAM not found; computing and saving\n"
     ]
    },
    {
     "name": "stderr",
     "output_type": "stream",
     "text": [
      "/PHShome/ssg34/.conda/envs/plswork/lib/python3.9/site-packages/cna/tools/_nam.py:79: UserWarning: only one unique batch supplied to qc\n",
      "  warnings.warn('only one unique batch supplied to qc')\n",
      "/PHShome/ssg34/.conda/envs/plswork/lib/python3.9/site-packages/cna/tools/_nam.py:101: UserWarning: only one unique batch supplied to prep\n",
      "  warnings.warn('only one unique batch supplied to prep')\n"
     ]
    },
    {
     "name": "stdout",
     "output_type": "stream",
     "text": [
      "computing SVD\n",
      "performing association test\n",
      "computing neighborhood-level FDRs\n",
      "4\n",
      "[1, 2, 3, 4, 5, 6, 7, 8, 9, 10, 11, 12, 13, 14, 15, 16, 17, 18, 19, 20]\n",
      "p = 0.3000699930006999 , 4 PCs used\n",
      "total r^2 between top 4 NAM PCs and outcome is 0.08\n"
     ]
    }
   ],
   "source": [
    "np.random.seed(0) \n",
    "res = cna.tl._association.association(d, #dataset \n",
    "                                      d.samplem.Final_Site_Cincinnati, #phenotype\n",
    "#                                       batches=d.samplem.processing_batch, #batches\n",
    "                                      Nnull=10000, # number of null permutations to do (defaults to only 1e3)\n",
    "                                      ks=[1,2,3,4,5,6,7,8,9,10,11,12,13,14,15,16,17,18,19,20] # I asked the method to consider up to 10 PCs because\n",
    "                                                                #it chose the max number of PCs it considered the default set of [1,2,3,4]\n",
    "                                     )\n",
    "print(res.k)\n",
    "print(res.ks)\n",
    "print('p =', res.p, ',', res.k, 'PCs used')\n",
    "print('total r^2 between top {} NAM PCs and outcome is {:.2f}'.format(res.k, res.r2))"
   ]
  },
  {
   "cell_type": "code",
   "execution_count": 169,
   "id": "f6c1c42f-40b2-49a3-872d-cd854e31a258",
   "metadata": {},
   "outputs": [
    {
     "name": "stdout",
     "output_type": "stream",
     "text": [
      "qcd NAM not found; computing and saving\n",
      "\ttaking step 1\n",
      "\tmedian kurtosis: 26.74811553955078\n",
      "\t20th percentile R2(t,t-1): nan\n",
      "\ttaking step 2\n",
      "\tmedian kurtosis: 19.00851821899414\n",
      "\t20th percentile R2(t,t-1): 0.756097388267517\n",
      "\ttaking step 3\n",
      "\tmedian kurtosis: 11.73455810546875\n",
      "\t20th percentile R2(t,t-1): 0.9074835300445556\n",
      "\ttaking step 4\n",
      "\tmedian kurtosis: 8.783553123474121\n",
      "\t20th percentile R2(t,t-1): 0.9506416082382202\n",
      "stopping after 4 steps\n",
      "covariate-adjusted NAM not found; computing and saving\n"
     ]
    },
    {
     "name": "stderr",
     "output_type": "stream",
     "text": [
      "/PHShome/ssg34/.conda/envs/plswork/lib/python3.9/site-packages/cna/tools/_nam.py:79: UserWarning: only one unique batch supplied to qc\n",
      "  warnings.warn('only one unique batch supplied to qc')\n",
      "/PHShome/ssg34/.conda/envs/plswork/lib/python3.9/site-packages/cna/tools/_nam.py:101: UserWarning: only one unique batch supplied to prep\n",
      "  warnings.warn('only one unique batch supplied to prep')\n"
     ]
    },
    {
     "name": "stdout",
     "output_type": "stream",
     "text": [
      "computing SVD\n",
      "performing association test\n",
      "computing neighborhood-level FDRs\n",
      "17\n",
      "[1, 2, 3, 4, 5, 6, 7, 8, 9, 10, 11, 12, 13, 14, 15, 16, 17, 18, 19, 20]\n",
      "p = 0.006899310068993101 , 17 PCs used\n",
      "total r^2 between top 17 NAM PCs and outcome is 0.38\n"
     ]
    }
   ],
   "source": [
    "np.random.seed(0) \n",
    "res = cna.tl._association.association(d, #dataset \n",
    "                                      d.samplem.Final_Site_Einstein, #phenotype\n",
    "#                                       batches=d.samplem.processing_batch, #batches\n",
    "                                      Nnull=10000, # number of null permutations to do (defaults to only 1e3)\n",
    "                                      ks=[1,2,3,4,5,6,7,8,9,10,11,12,13,14,15,16,17,18,19,20] # I asked the method to consider up to 10 PCs because\n",
    "                                                                #it chose the max number of PCs it considered the default set of [1,2,3,4]\n",
    "                                     )\n",
    "print(res.k)\n",
    "print(res.ks)\n",
    "print('p =', res.p, ',', res.k, 'PCs used')\n",
    "print('total r^2 between top {} NAM PCs and outcome is {:.2f}'.format(res.k, res.r2))"
   ]
  },
  {
   "cell_type": "code",
   "execution_count": 170,
   "id": "982449c3-4df5-45bb-9016-c41e1c967abd",
   "metadata": {},
   "outputs": [],
   "source": [
    "pbmc_uni['Site'] = res.p"
   ]
  },
  {
   "cell_type": "code",
   "execution_count": 171,
   "id": "00a1e75e-9fa0-405f-a7cc-c8c4153d19ed",
   "metadata": {},
   "outputs": [],
   "source": [
    "np.savetxt(\"/data/srlab/ssg34/SLE_kidney_v2/data/pbmc/site/ncorr.csv\", \n",
    "               res.ncorrs, delimiter=\",\")\n",
    "np.savetxt(\"/data/srlab/ssg34/SLE_kidney_v2/data/pbmc/site/fdrs.csv\", \n",
    "               res.fdrs, delimiter=\",\")"
   ]
  },
  {
   "cell_type": "code",
   "execution_count": 79,
   "id": "5ebc3970-ea96-4340-8c1c-8308fcfd11dc",
   "metadata": {},
   "outputs": [
    {
     "name": "stdout",
     "output_type": "stream",
     "text": [
      "performing association test\n",
      "computing neighborhood-level FDRs\n",
      "8\n",
      "[1, 2, 3, 4, 5, 6, 7, 8, 9, 10, 11, 12, 13, 14, 15, 16, 17, 18, 19, 20]\n",
      "p = 0.1812818718128187 , 8 PCs used\n",
      "total r^2 between top 8 NAM PCs and outcome is 0.15\n"
     ]
    }
   ],
   "source": [
    "np.random.seed(0) \n",
    "res = cna.tl._association.association(d, #dataset \n",
    "                                      d.samplem.Final_Site_JHU, #phenotype\n",
    "#                                       batches=d.samplem.processing_batch, #batches\n",
    "                                      Nnull=10000, # number of null permutations to do (defaults to only 1e3)\n",
    "                                      ks=[1,2,3,4,5,6,7,8,9,10,11,12,13,14,15,16,17,18,19,20] # I asked the method to consider up to 10 PCs because\n",
    "                                                                #it chose the max number of PCs it considered the default set of [1,2,3,4]\n",
    "                                     )\n",
    "print(res.k)\n",
    "print(res.ks)\n",
    "print('p =', res.p, ',', res.k, 'PCs used')\n",
    "print('total r^2 between top {} NAM PCs and outcome is {:.2f}'.format(res.k, res.r2))"
   ]
  },
  {
   "cell_type": "code",
   "execution_count": 80,
   "id": "92e3aca1-1e05-47cd-862c-b2c73caee9f8",
   "metadata": {},
   "outputs": [
    {
     "name": "stdout",
     "output_type": "stream",
     "text": [
      "performing association test\n",
      "computing neighborhood-level FDRs\n",
      "1\n",
      "[1, 2, 3, 4, 5, 6, 7, 8, 9, 10, 11, 12, 13, 14, 15, 16, 17, 18, 19, 20]\n",
      "p = 0.991000899910009 , 1 PCs used\n",
      "total r^2 between top 1 NAM PCs and outcome is 0.00\n"
     ]
    }
   ],
   "source": [
    "np.random.seed(0) \n",
    "res = cna.tl._association.association(d, #dataset \n",
    "                                      d.samplem.Final_Site_Michigan, #phenotype\n",
    "#                                       batches=d.samplem.processing_batch, #batches\n",
    "                                      Nnull=10000, # number of null permutations to do (defaults to only 1e3)\n",
    "                                      ks=[1,2,3,4,5,6,7,8,9,10,11,12,13,14,15,16,17,18,19,20] # I asked the method to consider up to 10 PCs because\n",
    "                                                                #it chose the max number of PCs it considered the default set of [1,2,3,4]\n",
    "                                     )\n",
    "print(res.k)\n",
    "print(res.ks)\n",
    "print('p =', res.p, ',', res.k, 'PCs used')\n",
    "print('total r^2 between top {} NAM PCs and outcome is {:.2f}'.format(res.k, res.r2))"
   ]
  },
  {
   "cell_type": "code",
   "execution_count": 81,
   "id": "c5ae277d-63ee-43d5-aa74-1146c3cb0680",
   "metadata": {},
   "outputs": [
    {
     "name": "stdout",
     "output_type": "stream",
     "text": [
      "performing association test\n",
      "computing neighborhood-level FDRs\n",
      "8\n",
      "[1, 2, 3, 4, 5, 6, 7, 8, 9, 10, 11, 12, 13, 14, 15, 16, 17, 18, 19, 20]\n",
      "p = 0.15708429157084292 , 8 PCs used\n",
      "total r^2 between top 8 NAM PCs and outcome is 0.16\n"
     ]
    }
   ],
   "source": [
    "np.random.seed(0) \n",
    "res = cna.tl._association.association(d, #dataset \n",
    "                                      d.samplem.Final_Site_MUSC, #phenotype\n",
    "#                                       batches=d.samplem.processing_batch, #batches\n",
    "                                      Nnull=10000, # number of null permutations to do (defaults to only 1e3)\n",
    "                                      ks=[1,2,3,4,5,6,7,8,9,10,11,12,13,14,15,16,17,18,19,20] # I asked the method to consider up to 10 PCs because\n",
    "                                                                #it chose the max number of PCs it considered the default set of [1,2,3,4]\n",
    "                                     )\n",
    "print(res.k)\n",
    "print(res.ks)\n",
    "print('p =', res.p, ',', res.k, 'PCs used')\n",
    "print('total r^2 between top {} NAM PCs and outcome is {:.2f}'.format(res.k, res.r2))"
   ]
  },
  {
   "cell_type": "code",
   "execution_count": 82,
   "id": "17ad3ae3-a0c3-4181-8bb1-d98568b97586",
   "metadata": {},
   "outputs": [
    {
     "name": "stdout",
     "output_type": "stream",
     "text": [
      "performing association test\n",
      "computing neighborhood-level FDRs\n",
      "19\n",
      "[1, 2, 3, 4, 5, 6, 7, 8, 9, 10, 11, 12, 13, 14, 15, 16, 17, 18, 19, 20]\n",
      "p = 0.05849415058494151 , 19 PCs used\n",
      "total r^2 between top 19 NAM PCs and outcome is 0.59\n"
     ]
    }
   ],
   "source": [
    "np.random.seed(0) \n",
    "res = cna.tl._association.association(d, #dataset \n",
    "                                      d.samplem.Final_Site_Northwell, #phenotype\n",
    "#                                       batches=d.samplem.processing_batch, #batches\n",
    "                                      Nnull=10000, # number of null permutations to do (defaults to only 1e3)\n",
    "                                      ks=[1,2,3,4,5,6,7,8,9,10,11,12,13,14,15,16,17,18,19,20] # I asked the method to consider up to 10 PCs because\n",
    "                                                                #it chose the max number of PCs it considered the default set of [1,2,3,4]\n",
    "                                     )\n",
    "print(res.k)\n",
    "print(res.ks)\n",
    "print('p =', res.p, ',', res.k, 'PCs used')\n",
    "print('total r^2 between top {} NAM PCs and outcome is {:.2f}'.format(res.k, res.r2))"
   ]
  },
  {
   "cell_type": "code",
   "execution_count": 83,
   "id": "8099ae01-d128-4819-a977-336d9e8daaeb",
   "metadata": {},
   "outputs": [
    {
     "name": "stdout",
     "output_type": "stream",
     "text": [
      "performing association test\n",
      "computing neighborhood-level FDRs\n",
      "3\n",
      "[1, 2, 3, 4, 5, 6, 7, 8, 9, 10, 11, 12, 13, 14, 15, 16, 17, 18, 19, 20]\n",
      "p = 0.8287171282871713 , 3 PCs used\n",
      "total r^2 between top 3 NAM PCs and outcome is 0.03\n"
     ]
    }
   ],
   "source": [
    "np.random.seed(0) \n",
    "res = cna.tl._association.association(d, #dataset \n",
    "                                      d.samplem.Final_Site_NYU, #phenotype\n",
    "#                                       batches=d.samplem.processing_batch, #batches\n",
    "                                      Nnull=10000, # number of null permutations to do (defaults to only 1e3)\n",
    "                                      ks=[1,2,3,4,5,6,7,8,9,10,11,12,13,14,15,16,17,18,19,20] # I asked the method to consider up to 10 PCs because\n",
    "                                                                #it chose the max number of PCs it considered the default set of [1,2,3,4]\n",
    "                                     )\n",
    "print(res.k)\n",
    "print(res.ks)\n",
    "print('p =', res.p, ',', res.k, 'PCs used')\n",
    "print('total r^2 between top {} NAM PCs and outcome is {:.2f}'.format(res.k, res.r2))"
   ]
  },
  {
   "cell_type": "code",
   "execution_count": 84,
   "id": "7c279f1d-5345-4a3e-a67c-0ac2f610a1f3",
   "metadata": {},
   "outputs": [
    {
     "name": "stdout",
     "output_type": "stream",
     "text": [
      "performing association test\n"
     ]
    },
    {
     "name": "stderr",
     "output_type": "stream",
     "text": [
      "/PHShome/ssg34/.conda/envs/plswork/lib/python3.9/site-packages/cna/tools/_association.py:57: UserWarning: data supported use of 20 NAM PCs, which is the maximum considered. Consider allowing more PCs by using the \"ks\" argument.\n",
      "  warnings.warn(('data supported use of {} NAM PCs, which is the maximum considered. '+\\\n"
     ]
    },
    {
     "name": "stdout",
     "output_type": "stream",
     "text": [
      "computing neighborhood-level FDRs\n",
      "20\n",
      "[1, 2, 3, 4, 5, 6, 7, 8, 9, 10, 11, 12, 13, 14, 15, 16, 17, 18, 19, 20]\n",
      "p = 0.8144185581441856 , 20 PCs used\n",
      "total r^2 between top 20 NAM PCs and outcome is 0.17\n"
     ]
    }
   ],
   "source": [
    "np.random.seed(0) \n",
    "res = cna.tl._association.association(d, #dataset \n",
    "                                      d.samplem.Final_Site_Rochester, #phenotype\n",
    "#                                       batches=d.samplem.processing_batch, #batches\n",
    "                                      Nnull=10000, # number of null permutations to do (defaults to only 1e3)\n",
    "                                      ks=[1,2,3,4,5,6,7,8,9,10,11,12,13,14,15,16,17,18,19,20] # I asked the method to consider up to 10 PCs because\n",
    "                                                                #it chose the max number of PCs it considered the default set of [1,2,3,4]\n",
    "                                     )\n",
    "print(res.k)\n",
    "print(res.ks)\n",
    "print('p =', res.p, ',', res.k, 'PCs used')\n",
    "print('total r^2 between top {} NAM PCs and outcome is {:.2f}'.format(res.k, res.r2))"
   ]
  },
  {
   "cell_type": "code",
   "execution_count": 85,
   "id": "5eec28a4-49d4-458a-9e63-664c7966c118",
   "metadata": {},
   "outputs": [
    {
     "name": "stdout",
     "output_type": "stream",
     "text": [
      "performing association test\n",
      "computing neighborhood-level FDRs\n",
      "20\n",
      "[1, 2, 3, 4, 5, 6, 7, 8, 9, 10, 11, 12, 13, 14, 15, 16, 17, 18, 19, 20]\n",
      "p = 0.0117988201179882 , 20 PCs used\n",
      "total r^2 between top 20 NAM PCs and outcome is 0.54\n"
     ]
    }
   ],
   "source": [
    "np.random.seed(0) \n",
    "res = cna.tl._association.association(d, #dataset \n",
    "                                      d.samplem['Final_Site_Texas Tech'], #phenotype\n",
    "#                                       batches=d.samplem.processing_batch, #batches\n",
    "                                      Nnull=10000, # number of null permutations to do (defaults to only 1e3)\n",
    "                                      ks=[1,2,3,4,5,6,7,8,9,10,11,12,13,14,15,16,17,18,19,20] # I asked the method to consider up to 10 PCs because\n",
    "                                                                #it chose the max number of PCs it considered the default set of [1,2,3,4]\n",
    "                                     )\n",
    "print(res.k)\n",
    "print(res.ks)\n",
    "print('p =', res.p, ',', res.k, 'PCs used')\n",
    "print('total r^2 between top {} NAM PCs and outcome is {:.2f}'.format(res.k, res.r2))"
   ]
  },
  {
   "cell_type": "code",
   "execution_count": 86,
   "id": "15ce83f1-421b-4263-b6b9-a5de63d19788",
   "metadata": {},
   "outputs": [
    {
     "name": "stdout",
     "output_type": "stream",
     "text": [
      "performing association test\n",
      "computing neighborhood-level FDRs\n",
      "4\n",
      "[1, 2, 3, 4, 5, 6, 7, 8, 9, 10, 11, 12, 13, 14, 15, 16, 17, 18, 19, 20]\n",
      "p = 0.3104689531046895 , 4 PCs used\n",
      "total r^2 between top 4 NAM PCs and outcome is 0.08\n"
     ]
    }
   ],
   "source": [
    "np.random.seed(0) \n",
    "res = cna.tl._association.association(d, #dataset \n",
    "                                      d.samplem['Final_Site_UCLA'], #phenotype\n",
    "#                                       batches=d.samplem.processing_batch, #batches\n",
    "                                      Nnull=10000, # number of null permutations to do (defaults to only 1e3)\n",
    "                                      ks=[1,2,3,4,5,6,7,8,9,10,11,12,13,14,15,16,17,18,19,20] # I asked the method to consider up to 10 PCs because\n",
    "                                                                #it chose the max number of PCs it considered the default set of [1,2,3,4]\n",
    "                                     )\n",
    "print(res.k)\n",
    "print(res.ks)\n",
    "print('p =', res.p, ',', res.k, 'PCs used')\n",
    "print('total r^2 between top {} NAM PCs and outcome is {:.2f}'.format(res.k, res.r2))"
   ]
  },
  {
   "cell_type": "code",
   "execution_count": 87,
   "id": "434ce336-3124-4fdf-92a6-6d227fe996bd",
   "metadata": {},
   "outputs": [
    {
     "name": "stdout",
     "output_type": "stream",
     "text": [
      "performing association test\n",
      "computing neighborhood-level FDRs\n",
      "2\n",
      "[1, 2, 3, 4, 5, 6, 7, 8, 9, 10, 11, 12, 13, 14, 15, 16, 17, 18, 19, 20]\n",
      "p = 0.43895610438956106 , 2 PCs used\n",
      "total r^2 between top 2 NAM PCs and outcome is 0.04\n"
     ]
    }
   ],
   "source": [
    "np.random.seed(0) \n",
    "res = cna.tl._association.association(d, #dataset \n",
    "                                      d.samplem['Final_Site_UCSF'], #phenotype\n",
    "#                                       batches=d.samplem.processing_batch, #batches\n",
    "                                      Nnull=10000, # number of null permutations to do (defaults to only 1e3)\n",
    "                                      ks=[1,2,3,4,5,6,7,8,9,10,11,12,13,14,15,16,17,18,19,20] # I asked the method to consider up to 10 PCs because\n",
    "                                                                #it chose the max number of PCs it considered the default set of [1,2,3,4]\n",
    "                                     )\n",
    "print(res.k)\n",
    "print(res.ks)\n",
    "print('p =', res.p, ',', res.k, 'PCs used')\n",
    "print('total r^2 between top {} NAM PCs and outcome is {:.2f}'.format(res.k, res.r2))"
   ]
  },
  {
   "cell_type": "markdown",
   "id": "32f2c1f9-395e-4c10-be9b-be1290e09c95",
   "metadata": {},
   "source": [
    "## FIRST BIOPSY"
   ]
  },
  {
   "cell_type": "code",
   "execution_count": 214,
   "id": "016f94b8-83c7-4247-9996-b57ee09b0f24",
   "metadata": {},
   "outputs": [
    {
     "name": "stdout",
     "output_type": "stream",
     "text": [
      "(267973, 44)\n"
     ]
    }
   ],
   "source": [
    "meta = pd.read_csv('/data/srlab/ssg34/SLE_kidney_v2/data/pbmc/first_biop/meta.csv')\n",
    "print(meta.shape)"
   ]
  },
  {
   "cell_type": "code",
   "execution_count": 215,
   "id": "761be3b1-2f9c-43b8-a526-212f46491aab",
   "metadata": {},
   "outputs": [
    {
     "name": "stdout",
     "output_type": "stream",
     "text": [
      "(267973, 20)\n"
     ]
    }
   ],
   "source": [
    "harmony = pd.read_csv('/data/srlab/ssg34/SLE_kidney_v2/data/pbmc/first_biop/harmony.csv')\n",
    "print(harmony.shape)"
   ]
  },
  {
   "cell_type": "code",
   "execution_count": 216,
   "id": "b518a039-1e55-46eb-a444-a044b8014d52",
   "metadata": {},
   "outputs": [
    {
     "name": "stdout",
     "output_type": "stream",
     "text": [
      "(267973, 2)\n"
     ]
    }
   ],
   "source": [
    "umap = pd.read_csv('/data/srlab/ssg34/SLE_kidney_v2/data/pbmc/first_biop/umap.csv')\n",
    "print(umap.shape)"
   ]
  },
  {
   "cell_type": "code",
   "execution_count": 217,
   "id": "781093ea-08bb-42cd-aea8-b1076eccc0ac",
   "metadata": {},
   "outputs": [
    {
     "name": "stderr",
     "output_type": "stream",
     "text": [
      "/PHShome/ssg34/.conda/envs/plswork/lib/python3.9/site-packages/multianndata/core.py:17: FutureWarning: X.dtype being converted to np.float32 from float64. In the next version of anndata (0.9) conversion will not be automatic. Pass dtype explicitly to avoid this warning. Pass `AnnData(X, dtype=X.dtype, ...)` to get the future behavour.\n",
      "  super().__init__(*args, **kwargs)\n",
      "/PHShome/ssg34/.conda/envs/plswork/lib/python3.9/site-packages/anndata/_core/anndata.py:121: ImplicitModificationWarning: Transforming to str index.\n",
      "  warnings.warn(\"Transforming to str index.\", ImplicitModificationWarning)\n"
     ]
    },
    {
     "name": "stdout",
     "output_type": "stream",
     "text": [
      "warning: the following columns of obs are non-numeric.\n",
      "['Cell' 'BARCODE' 'cell.type.ids' 'Unified_Visit' 'AMP.Subject_ID'\n",
      " 'Responder.Status' 'Race' 'Final_ISN' 'Type' 'Final_Site']\n",
      "consider casting to numeric types where appropriate, and\n",
      "consider re-coding text-valued columns with pandas.get_dummies\n"
     ]
    },
    {
     "data": {
      "text/html": [
       "<div>\n",
       "<style scoped>\n",
       "    .dataframe tbody tr th:only-of-type {\n",
       "        vertical-align: middle;\n",
       "    }\n",
       "\n",
       "    .dataframe tbody tr th {\n",
       "        vertical-align: top;\n",
       "    }\n",
       "\n",
       "    .dataframe thead th {\n",
       "        text-align: right;\n",
       "    }\n",
       "</style>\n",
       "<table border=\"1\" class=\"dataframe\">\n",
       "  <thead>\n",
       "    <tr style=\"text-align: right;\">\n",
       "      <th></th>\n",
       "      <th>Sex</th>\n",
       "      <th>Age</th>\n",
       "      <th>Final_Chronicity</th>\n",
       "      <th>Final_Activity</th>\n",
       "      <th>First_biop</th>\n",
       "      <th>Pred_use</th>\n",
       "      <th>Responder_Status</th>\n",
       "      <th>Race_[A]</th>\n",
       "      <th>Race_[A][B]</th>\n",
       "      <th>Race_[B]</th>\n",
       "      <th>...</th>\n",
       "      <th>Final_Site_Einstein</th>\n",
       "      <th>Final_Site_JHU</th>\n",
       "      <th>Final_Site_Michigan</th>\n",
       "      <th>Final_Site_MUSC</th>\n",
       "      <th>Final_Site_Northwell</th>\n",
       "      <th>Final_Site_NYU</th>\n",
       "      <th>Final_Site_Rochester</th>\n",
       "      <th>Final_Site_Texas Tech</th>\n",
       "      <th>Final_Site_UCLA</th>\n",
       "      <th>Final_Site_UCSF</th>\n",
       "    </tr>\n",
       "    <tr>\n",
       "      <th>Unified_Visit</th>\n",
       "      <th></th>\n",
       "      <th></th>\n",
       "      <th></th>\n",
       "      <th></th>\n",
       "      <th></th>\n",
       "      <th></th>\n",
       "      <th></th>\n",
       "      <th></th>\n",
       "      <th></th>\n",
       "      <th></th>\n",
       "      <th></th>\n",
       "      <th></th>\n",
       "      <th></th>\n",
       "      <th></th>\n",
       "      <th></th>\n",
       "      <th></th>\n",
       "      <th></th>\n",
       "      <th></th>\n",
       "      <th></th>\n",
       "      <th></th>\n",
       "      <th></th>\n",
       "    </tr>\n",
       "  </thead>\n",
       "  <tbody>\n",
       "    <tr>\n",
       "      <th>200-2741-V0</th>\n",
       "      <td>1.0</td>\n",
       "      <td>1.407794</td>\n",
       "      <td>8.0</td>\n",
       "      <td>0.0</td>\n",
       "      <td>0.0</td>\n",
       "      <td>0.0</td>\n",
       "      <td>0.0</td>\n",
       "      <td>0.0</td>\n",
       "      <td>0.0</td>\n",
       "      <td>1.0</td>\n",
       "      <td>...</td>\n",
       "      <td>0.0</td>\n",
       "      <td>1.0</td>\n",
       "      <td>0.0</td>\n",
       "      <td>0.0</td>\n",
       "      <td>0.0</td>\n",
       "      <td>0.0</td>\n",
       "      <td>0.0</td>\n",
       "      <td>0.0</td>\n",
       "      <td>0.0</td>\n",
       "      <td>0.0</td>\n",
       "    </tr>\n",
       "    <tr>\n",
       "      <th>200-2729-V0</th>\n",
       "      <td>2.0</td>\n",
       "      <td>-1.320891</td>\n",
       "      <td>0.0</td>\n",
       "      <td>0.0</td>\n",
       "      <td>1.0</td>\n",
       "      <td>0.0</td>\n",
       "      <td>2.0</td>\n",
       "      <td>0.0</td>\n",
       "      <td>0.0</td>\n",
       "      <td>1.0</td>\n",
       "      <td>...</td>\n",
       "      <td>0.0</td>\n",
       "      <td>1.0</td>\n",
       "      <td>0.0</td>\n",
       "      <td>0.0</td>\n",
       "      <td>0.0</td>\n",
       "      <td>0.0</td>\n",
       "      <td>0.0</td>\n",
       "      <td>0.0</td>\n",
       "      <td>0.0</td>\n",
       "      <td>0.0</td>\n",
       "    </tr>\n",
       "    <tr>\n",
       "      <th>200-2747-V0</th>\n",
       "      <td>NaN</td>\n",
       "      <td>NaN</td>\n",
       "      <td>NaN</td>\n",
       "      <td>NaN</td>\n",
       "      <td>0.0</td>\n",
       "      <td>1.0</td>\n",
       "      <td>NaN</td>\n",
       "      <td>NaN</td>\n",
       "      <td>NaN</td>\n",
       "      <td>NaN</td>\n",
       "      <td>...</td>\n",
       "      <td>NaN</td>\n",
       "      <td>NaN</td>\n",
       "      <td>NaN</td>\n",
       "      <td>NaN</td>\n",
       "      <td>NaN</td>\n",
       "      <td>NaN</td>\n",
       "      <td>NaN</td>\n",
       "      <td>NaN</td>\n",
       "      <td>NaN</td>\n",
       "      <td>NaN</td>\n",
       "    </tr>\n",
       "    <tr>\n",
       "      <th>200-1240-V0</th>\n",
       "      <td>1.0</td>\n",
       "      <td>-0.931079</td>\n",
       "      <td>0.0</td>\n",
       "      <td>5.0</td>\n",
       "      <td>1.0</td>\n",
       "      <td>1.0</td>\n",
       "      <td>1.0</td>\n",
       "      <td>0.0</td>\n",
       "      <td>0.0</td>\n",
       "      <td>1.0</td>\n",
       "      <td>...</td>\n",
       "      <td>0.0</td>\n",
       "      <td>1.0</td>\n",
       "      <td>0.0</td>\n",
       "      <td>0.0</td>\n",
       "      <td>0.0</td>\n",
       "      <td>0.0</td>\n",
       "      <td>0.0</td>\n",
       "      <td>0.0</td>\n",
       "      <td>0.0</td>\n",
       "      <td>0.0</td>\n",
       "    </tr>\n",
       "    <tr>\n",
       "      <th>200-1137-V0</th>\n",
       "      <td>1.0</td>\n",
       "      <td>2.967042</td>\n",
       "      <td>3.0</td>\n",
       "      <td>5.0</td>\n",
       "      <td>1.0</td>\n",
       "      <td>1.0</td>\n",
       "      <td>2.0</td>\n",
       "      <td>0.0</td>\n",
       "      <td>0.0</td>\n",
       "      <td>0.0</td>\n",
       "      <td>...</td>\n",
       "      <td>0.0</td>\n",
       "      <td>0.0</td>\n",
       "      <td>0.0</td>\n",
       "      <td>0.0</td>\n",
       "      <td>0.0</td>\n",
       "      <td>1.0</td>\n",
       "      <td>0.0</td>\n",
       "      <td>0.0</td>\n",
       "      <td>0.0</td>\n",
       "      <td>0.0</td>\n",
       "    </tr>\n",
       "  </tbody>\n",
       "</table>\n",
       "<p>5 rows × 30 columns</p>\n",
       "</div>"
      ],
      "text/plain": [
       "               Sex       Age  Final_Chronicity  Final_Activity  First_biop  \\\n",
       "Unified_Visit                                                                \n",
       "200-2741-V0    1.0  1.407794               8.0             0.0         0.0   \n",
       "200-2729-V0    2.0 -1.320891               0.0             0.0         1.0   \n",
       "200-2747-V0    NaN       NaN               NaN             NaN         0.0   \n",
       "200-1240-V0    1.0 -0.931079               0.0             5.0         1.0   \n",
       "200-1137-V0    1.0  2.967042               3.0             5.0         1.0   \n",
       "\n",
       "               Pred_use  Responder_Status  Race_[A]  Race_[A][B]  Race_[B]  \\\n",
       "Unified_Visit                                                                \n",
       "200-2741-V0         0.0               0.0       0.0          0.0       1.0   \n",
       "200-2729-V0         0.0               2.0       0.0          0.0       1.0   \n",
       "200-2747-V0         1.0               NaN       NaN          NaN       NaN   \n",
       "200-1240-V0         1.0               1.0       0.0          0.0       1.0   \n",
       "200-1137-V0         1.0               2.0       0.0          0.0       0.0   \n",
       "\n",
       "               ...  Final_Site_Einstein  Final_Site_JHU  Final_Site_Michigan  \\\n",
       "Unified_Visit  ...                                                             \n",
       "200-2741-V0    ...                  0.0             1.0                  0.0   \n",
       "200-2729-V0    ...                  0.0             1.0                  0.0   \n",
       "200-2747-V0    ...                  NaN             NaN                  NaN   \n",
       "200-1240-V0    ...                  0.0             1.0                  0.0   \n",
       "200-1137-V0    ...                  0.0             0.0                  0.0   \n",
       "\n",
       "               Final_Site_MUSC  Final_Site_Northwell  Final_Site_NYU  \\\n",
       "Unified_Visit                                                          \n",
       "200-2741-V0                0.0                   0.0             0.0   \n",
       "200-2729-V0                0.0                   0.0             0.0   \n",
       "200-2747-V0                NaN                   NaN             NaN   \n",
       "200-1240-V0                0.0                   0.0             0.0   \n",
       "200-1137-V0                0.0                   0.0             1.0   \n",
       "\n",
       "               Final_Site_Rochester  Final_Site_Texas Tech  Final_Site_UCLA  \\\n",
       "Unified_Visit                                                                 \n",
       "200-2741-V0                     0.0                    0.0              0.0   \n",
       "200-2729-V0                     0.0                    0.0              0.0   \n",
       "200-2747-V0                     NaN                    NaN              NaN   \n",
       "200-1240-V0                     0.0                    0.0              0.0   \n",
       "200-1137-V0                     0.0                    0.0              0.0   \n",
       "\n",
       "               Final_Site_UCSF  \n",
       "Unified_Visit                   \n",
       "200-2741-V0                0.0  \n",
       "200-2729-V0                0.0  \n",
       "200-2747-V0                NaN  \n",
       "200-1240-V0                0.0  \n",
       "200-1137-V0                0.0  \n",
       "\n",
       "[5 rows x 30 columns]"
      ]
     },
     "execution_count": 217,
     "metadata": {},
     "output_type": "execute_result"
    }
   ],
   "source": [
    "# Start by making anndata object\n",
    "d = mad.MultiAnnData(X=harmony, obs=meta, sampleid=\"Unified_Visit\")\n",
    "#d.obs_to_sample(['Type', 'Site',\n",
    "#                 'Responder_Status', 'Sex',\n",
    "#                 'Age', 'Race',\n",
    "#                'Ethnicity', 'ISN',\n",
    "#               'Activity', \"Chronicity\",\n",
    "#                 'processing_batch'])\n",
    "d.obs_to_sample(['Sex', 'Age', 'Final_Chronicity', 'Final_Activity', 'First_biop',\n",
    "                 'Pred_use', 'Responder_Status', 'Race_[A]',\n",
    "                   'Race_[A][B]', 'Race_[B]', 'Race_[B][AI]', 'Race_[B][W]', 'Race_[U]',\n",
    "                    'Race_[W]', 'Final_ISN_[III]', 'Final_ISN_[III][V]', 'Final_ISN_[IV]',\n",
    "                   'Final_ISN_[IV][V]', 'Final_ISN_[V]', 'Final_Site_Cincinnati',\n",
    "                    'Final_Site_Einstein', 'Final_Site_JHU', 'Final_Site_Michigan',\n",
    "                   'Final_Site_MUSC', 'Final_Site_Northwell', 'Final_Site_NYU',\n",
    "                   'Final_Site_Rochester', 'Final_Site_Texas Tech', 'Final_Site_UCLA',\n",
    "                   'Final_Site_UCSF'])\n",
    "d.samplem.head()"
   ]
  },
  {
   "cell_type": "code",
   "execution_count": 218,
   "id": "c321fc5d-a9ea-4b72-99ae-0b667ed5e8f4",
   "metadata": {},
   "outputs": [],
   "source": [
    "umap.index = d.obs.index\n",
    "d.obsm['X_umap'] = umap"
   ]
  },
  {
   "cell_type": "code",
   "execution_count": 219,
   "id": "cbfd832e-2d76-44ff-adfb-49fb75e67b92",
   "metadata": {},
   "outputs": [
    {
     "name": "stdout",
     "output_type": "stream",
     "text": [
      "computing default knn graph\n"
     ]
    }
   ],
   "source": [
    "np.random.seed(0) \n",
    "cna.pp.knn(d)"
   ]
  },
  {
   "cell_type": "code",
   "execution_count": 220,
   "id": "53f1c5af-a71e-4d63-ad6b-7f3e22fa2e6f",
   "metadata": {},
   "outputs": [
    {
     "name": "stdout",
     "output_type": "stream",
     "text": [
      "qcd NAM not found; computing and saving\n",
      "\ttaking step 1\n",
      "\tmedian kurtosis: 27.589542388916016\n",
      "\t20th percentile R2(t,t-1): nan\n",
      "\ttaking step 2\n",
      "\tmedian kurtosis: 19.639324188232422\n",
      "\t20th percentile R2(t,t-1): 0.7556583523750305\n",
      "\ttaking step 3\n",
      "\tmedian kurtosis: 12.039770126342773\n",
      "\t20th percentile R2(t,t-1): 0.9075999617576599\n",
      "\ttaking step 4\n",
      "\tmedian kurtosis: 8.958882331848145\n",
      "\t20th percentile R2(t,t-1): 0.9500444173812866\n",
      "\ttaking step 5\n",
      "\tmedian kurtosis: 7.481902599334717\n",
      "\t20th percentile R2(t,t-1): 0.9714594960212708\n",
      "stopping after 5 steps\n",
      "covariate-adjusted NAM not found; computing and saving\n"
     ]
    },
    {
     "name": "stderr",
     "output_type": "stream",
     "text": [
      "/PHShome/ssg34/.conda/envs/plswork/lib/python3.9/site-packages/cna/tools/_nam.py:79: UserWarning: only one unique batch supplied to qc\n",
      "  warnings.warn('only one unique batch supplied to qc')\n",
      "/PHShome/ssg34/.conda/envs/plswork/lib/python3.9/site-packages/cna/tools/_nam.py:101: UserWarning: only one unique batch supplied to prep\n",
      "  warnings.warn('only one unique batch supplied to prep')\n"
     ]
    },
    {
     "name": "stdout",
     "output_type": "stream",
     "text": [
      "computing SVD\n",
      "performing association test\n",
      "computing neighborhood-level FDRs\n",
      "4\n",
      "[1, 2, 3, 4, 5, 6, 7, 8, 9, 10, 11, 12, 13, 14, 15, 16, 17, 18, 19, 20]\n",
      "p = 0.015598440155984402 , 4 PCs used\n",
      "total r^2 between top 4 NAM PCs and outcome is 0.14\n"
     ]
    }
   ],
   "source": [
    "np.random.seed(0) \n",
    "res = cna.tl._association.association(d, #dataset \n",
    "                                      d.samplem.First_biop, #phenotype\n",
    "#                                       batches=d.samplem.processing_batch, #batches\n",
    "                                      Nnull=10000, # number of null permutations to do (defaults to only 1e3)\n",
    "                                      ks=[1,2,3,4,5,6,7,8,9,10,11,12,13,14,15,16,17,18,19,20] # I asked the method to consider up to 10 PCs because\n",
    "                                                                #it chose the max number of PCs it considered the default set of [1,2,3,4]\n",
    "                                     )\n",
    "print(res.k)\n",
    "print(res.ks)\n",
    "print('p =', res.p, ',', res.k, 'PCs used')\n",
    "print('total r^2 between top {} NAM PCs and outcome is {:.2f}'.format(res.k, res.r2))"
   ]
  },
  {
   "cell_type": "code",
   "execution_count": 221,
   "id": "903954ad-5d58-4a22-834b-2410a9a07aa2",
   "metadata": {},
   "outputs": [],
   "source": [
    "pbmc_uni['First_biopsy'] = res.p"
   ]
  },
  {
   "cell_type": "code",
   "execution_count": 222,
   "id": "eb47e934-c8f9-4c6c-bd15-797992be0d2e",
   "metadata": {},
   "outputs": [],
   "source": [
    "np.savetxt(\"/data/srlab/ssg34/SLE_kidney_v2/data/pbmc/first_biop/ncorr.csv\", \n",
    "               res.ncorrs, delimiter=\",\")\n",
    "np.savetxt(\"/data/srlab/ssg34/SLE_kidney_v2/data/pbmc/first_biop/fdrs.csv\", \n",
    "               res.fdrs, delimiter=\",\")"
   ]
  },
  {
   "cell_type": "markdown",
   "id": "c47307f9-a91e-4f12-844b-3d02ba49b241",
   "metadata": {},
   "source": [
    "## PREDNISONE USE"
   ]
  },
  {
   "cell_type": "code",
   "execution_count": 205,
   "id": "bce39e03-40cd-4559-925c-f7a4fd742daa",
   "metadata": {},
   "outputs": [
    {
     "name": "stdout",
     "output_type": "stream",
     "text": [
      "(267973, 44)\n"
     ]
    }
   ],
   "source": [
    "meta = pd.read_csv('/data/srlab/ssg34/SLE_kidney_v2/data/pbmc/pred_use/meta.csv')\n",
    "print(meta.shape)"
   ]
  },
  {
   "cell_type": "code",
   "execution_count": 206,
   "id": "00a67b40-06fe-4256-a080-45200950a3af",
   "metadata": {},
   "outputs": [
    {
     "name": "stdout",
     "output_type": "stream",
     "text": [
      "(267973, 20)\n"
     ]
    }
   ],
   "source": [
    "harmony = pd.read_csv('/data/srlab/ssg34/SLE_kidney_v2/data/pbmc/pred_use/harmony.csv')\n",
    "print(harmony.shape)"
   ]
  },
  {
   "cell_type": "code",
   "execution_count": 207,
   "id": "b4dba2a6-68e6-45f7-8864-a1d3bc05468a",
   "metadata": {},
   "outputs": [
    {
     "name": "stdout",
     "output_type": "stream",
     "text": [
      "(267973, 2)\n"
     ]
    }
   ],
   "source": [
    "umap = pd.read_csv('/data/srlab/ssg34/SLE_kidney_v2/data/pbmc/pred_use/umap.csv')\n",
    "print(umap.shape)"
   ]
  },
  {
   "cell_type": "code",
   "execution_count": 208,
   "id": "56a670d2-8522-4d24-b374-b39dfb121c04",
   "metadata": {},
   "outputs": [
    {
     "name": "stderr",
     "output_type": "stream",
     "text": [
      "/PHShome/ssg34/.conda/envs/plswork/lib/python3.9/site-packages/multianndata/core.py:17: FutureWarning: X.dtype being converted to np.float32 from float64. In the next version of anndata (0.9) conversion will not be automatic. Pass dtype explicitly to avoid this warning. Pass `AnnData(X, dtype=X.dtype, ...)` to get the future behavour.\n",
      "  super().__init__(*args, **kwargs)\n",
      "/PHShome/ssg34/.conda/envs/plswork/lib/python3.9/site-packages/anndata/_core/anndata.py:121: ImplicitModificationWarning: Transforming to str index.\n",
      "  warnings.warn(\"Transforming to str index.\", ImplicitModificationWarning)\n"
     ]
    },
    {
     "name": "stdout",
     "output_type": "stream",
     "text": [
      "warning: the following columns of obs are non-numeric.\n",
      "['Cell' 'BARCODE' 'cell.type.ids' 'Unified_Visit' 'AMP.Subject_ID'\n",
      " 'Responder.Status' 'Race' 'Final_ISN' 'Type' 'Final_Site']\n",
      "consider casting to numeric types where appropriate, and\n",
      "consider re-coding text-valued columns with pandas.get_dummies\n"
     ]
    },
    {
     "data": {
      "text/html": [
       "<div>\n",
       "<style scoped>\n",
       "    .dataframe tbody tr th:only-of-type {\n",
       "        vertical-align: middle;\n",
       "    }\n",
       "\n",
       "    .dataframe tbody tr th {\n",
       "        vertical-align: top;\n",
       "    }\n",
       "\n",
       "    .dataframe thead th {\n",
       "        text-align: right;\n",
       "    }\n",
       "</style>\n",
       "<table border=\"1\" class=\"dataframe\">\n",
       "  <thead>\n",
       "    <tr style=\"text-align: right;\">\n",
       "      <th></th>\n",
       "      <th>Sex</th>\n",
       "      <th>Age</th>\n",
       "      <th>Final_Chronicity</th>\n",
       "      <th>Final_Activity</th>\n",
       "      <th>First_biop</th>\n",
       "      <th>Pred_use</th>\n",
       "      <th>Responder_Status</th>\n",
       "      <th>Race_[A]</th>\n",
       "      <th>Race_[A][B]</th>\n",
       "      <th>Race_[B]</th>\n",
       "      <th>...</th>\n",
       "      <th>Final_Site_Einstein</th>\n",
       "      <th>Final_Site_JHU</th>\n",
       "      <th>Final_Site_Michigan</th>\n",
       "      <th>Final_Site_MUSC</th>\n",
       "      <th>Final_Site_Northwell</th>\n",
       "      <th>Final_Site_NYU</th>\n",
       "      <th>Final_Site_Rochester</th>\n",
       "      <th>Final_Site_Texas Tech</th>\n",
       "      <th>Final_Site_UCLA</th>\n",
       "      <th>Final_Site_UCSF</th>\n",
       "    </tr>\n",
       "    <tr>\n",
       "      <th>Unified_Visit</th>\n",
       "      <th></th>\n",
       "      <th></th>\n",
       "      <th></th>\n",
       "      <th></th>\n",
       "      <th></th>\n",
       "      <th></th>\n",
       "      <th></th>\n",
       "      <th></th>\n",
       "      <th></th>\n",
       "      <th></th>\n",
       "      <th></th>\n",
       "      <th></th>\n",
       "      <th></th>\n",
       "      <th></th>\n",
       "      <th></th>\n",
       "      <th></th>\n",
       "      <th></th>\n",
       "      <th></th>\n",
       "      <th></th>\n",
       "      <th></th>\n",
       "      <th></th>\n",
       "    </tr>\n",
       "  </thead>\n",
       "  <tbody>\n",
       "    <tr>\n",
       "      <th>200-2741-V0</th>\n",
       "      <td>1.0</td>\n",
       "      <td>1.407794</td>\n",
       "      <td>8.0</td>\n",
       "      <td>0.0</td>\n",
       "      <td>0.0</td>\n",
       "      <td>0.0</td>\n",
       "      <td>0.0</td>\n",
       "      <td>0.0</td>\n",
       "      <td>0.0</td>\n",
       "      <td>1.0</td>\n",
       "      <td>...</td>\n",
       "      <td>0.0</td>\n",
       "      <td>1.0</td>\n",
       "      <td>0.0</td>\n",
       "      <td>0.0</td>\n",
       "      <td>0.0</td>\n",
       "      <td>0.0</td>\n",
       "      <td>0.0</td>\n",
       "      <td>0.0</td>\n",
       "      <td>0.0</td>\n",
       "      <td>0.0</td>\n",
       "    </tr>\n",
       "    <tr>\n",
       "      <th>200-2729-V0</th>\n",
       "      <td>2.0</td>\n",
       "      <td>-1.320891</td>\n",
       "      <td>0.0</td>\n",
       "      <td>0.0</td>\n",
       "      <td>1.0</td>\n",
       "      <td>0.0</td>\n",
       "      <td>2.0</td>\n",
       "      <td>0.0</td>\n",
       "      <td>0.0</td>\n",
       "      <td>1.0</td>\n",
       "      <td>...</td>\n",
       "      <td>0.0</td>\n",
       "      <td>1.0</td>\n",
       "      <td>0.0</td>\n",
       "      <td>0.0</td>\n",
       "      <td>0.0</td>\n",
       "      <td>0.0</td>\n",
       "      <td>0.0</td>\n",
       "      <td>0.0</td>\n",
       "      <td>0.0</td>\n",
       "      <td>0.0</td>\n",
       "    </tr>\n",
       "    <tr>\n",
       "      <th>200-2747-V0</th>\n",
       "      <td>NaN</td>\n",
       "      <td>NaN</td>\n",
       "      <td>NaN</td>\n",
       "      <td>NaN</td>\n",
       "      <td>0.0</td>\n",
       "      <td>1.0</td>\n",
       "      <td>NaN</td>\n",
       "      <td>NaN</td>\n",
       "      <td>NaN</td>\n",
       "      <td>NaN</td>\n",
       "      <td>...</td>\n",
       "      <td>NaN</td>\n",
       "      <td>NaN</td>\n",
       "      <td>NaN</td>\n",
       "      <td>NaN</td>\n",
       "      <td>NaN</td>\n",
       "      <td>NaN</td>\n",
       "      <td>NaN</td>\n",
       "      <td>NaN</td>\n",
       "      <td>NaN</td>\n",
       "      <td>NaN</td>\n",
       "    </tr>\n",
       "    <tr>\n",
       "      <th>200-1240-V0</th>\n",
       "      <td>1.0</td>\n",
       "      <td>-0.931079</td>\n",
       "      <td>0.0</td>\n",
       "      <td>5.0</td>\n",
       "      <td>1.0</td>\n",
       "      <td>1.0</td>\n",
       "      <td>1.0</td>\n",
       "      <td>0.0</td>\n",
       "      <td>0.0</td>\n",
       "      <td>1.0</td>\n",
       "      <td>...</td>\n",
       "      <td>0.0</td>\n",
       "      <td>1.0</td>\n",
       "      <td>0.0</td>\n",
       "      <td>0.0</td>\n",
       "      <td>0.0</td>\n",
       "      <td>0.0</td>\n",
       "      <td>0.0</td>\n",
       "      <td>0.0</td>\n",
       "      <td>0.0</td>\n",
       "      <td>0.0</td>\n",
       "    </tr>\n",
       "    <tr>\n",
       "      <th>200-1137-V0</th>\n",
       "      <td>1.0</td>\n",
       "      <td>2.967042</td>\n",
       "      <td>3.0</td>\n",
       "      <td>5.0</td>\n",
       "      <td>1.0</td>\n",
       "      <td>1.0</td>\n",
       "      <td>2.0</td>\n",
       "      <td>0.0</td>\n",
       "      <td>0.0</td>\n",
       "      <td>0.0</td>\n",
       "      <td>...</td>\n",
       "      <td>0.0</td>\n",
       "      <td>0.0</td>\n",
       "      <td>0.0</td>\n",
       "      <td>0.0</td>\n",
       "      <td>0.0</td>\n",
       "      <td>1.0</td>\n",
       "      <td>0.0</td>\n",
       "      <td>0.0</td>\n",
       "      <td>0.0</td>\n",
       "      <td>0.0</td>\n",
       "    </tr>\n",
       "  </tbody>\n",
       "</table>\n",
       "<p>5 rows × 30 columns</p>\n",
       "</div>"
      ],
      "text/plain": [
       "               Sex       Age  Final_Chronicity  Final_Activity  First_biop  \\\n",
       "Unified_Visit                                                                \n",
       "200-2741-V0    1.0  1.407794               8.0             0.0         0.0   \n",
       "200-2729-V0    2.0 -1.320891               0.0             0.0         1.0   \n",
       "200-2747-V0    NaN       NaN               NaN             NaN         0.0   \n",
       "200-1240-V0    1.0 -0.931079               0.0             5.0         1.0   \n",
       "200-1137-V0    1.0  2.967042               3.0             5.0         1.0   \n",
       "\n",
       "               Pred_use  Responder_Status  Race_[A]  Race_[A][B]  Race_[B]  \\\n",
       "Unified_Visit                                                                \n",
       "200-2741-V0         0.0               0.0       0.0          0.0       1.0   \n",
       "200-2729-V0         0.0               2.0       0.0          0.0       1.0   \n",
       "200-2747-V0         1.0               NaN       NaN          NaN       NaN   \n",
       "200-1240-V0         1.0               1.0       0.0          0.0       1.0   \n",
       "200-1137-V0         1.0               2.0       0.0          0.0       0.0   \n",
       "\n",
       "               ...  Final_Site_Einstein  Final_Site_JHU  Final_Site_Michigan  \\\n",
       "Unified_Visit  ...                                                             \n",
       "200-2741-V0    ...                  0.0             1.0                  0.0   \n",
       "200-2729-V0    ...                  0.0             1.0                  0.0   \n",
       "200-2747-V0    ...                  NaN             NaN                  NaN   \n",
       "200-1240-V0    ...                  0.0             1.0                  0.0   \n",
       "200-1137-V0    ...                  0.0             0.0                  0.0   \n",
       "\n",
       "               Final_Site_MUSC  Final_Site_Northwell  Final_Site_NYU  \\\n",
       "Unified_Visit                                                          \n",
       "200-2741-V0                0.0                   0.0             0.0   \n",
       "200-2729-V0                0.0                   0.0             0.0   \n",
       "200-2747-V0                NaN                   NaN             NaN   \n",
       "200-1240-V0                0.0                   0.0             0.0   \n",
       "200-1137-V0                0.0                   0.0             1.0   \n",
       "\n",
       "               Final_Site_Rochester  Final_Site_Texas Tech  Final_Site_UCLA  \\\n",
       "Unified_Visit                                                                 \n",
       "200-2741-V0                     0.0                    0.0              0.0   \n",
       "200-2729-V0                     0.0                    0.0              0.0   \n",
       "200-2747-V0                     NaN                    NaN              NaN   \n",
       "200-1240-V0                     0.0                    0.0              0.0   \n",
       "200-1137-V0                     0.0                    0.0              0.0   \n",
       "\n",
       "               Final_Site_UCSF  \n",
       "Unified_Visit                   \n",
       "200-2741-V0                0.0  \n",
       "200-2729-V0                0.0  \n",
       "200-2747-V0                NaN  \n",
       "200-1240-V0                0.0  \n",
       "200-1137-V0                0.0  \n",
       "\n",
       "[5 rows x 30 columns]"
      ]
     },
     "execution_count": 208,
     "metadata": {},
     "output_type": "execute_result"
    }
   ],
   "source": [
    "# Start by making anndata object\n",
    "d = mad.MultiAnnData(X=harmony, obs=meta, sampleid=\"Unified_Visit\")\n",
    "#d.obs_to_sample(['Type', 'Site',\n",
    "#                 'Responder_Status', 'Sex',\n",
    "#                 'Age', 'Race',\n",
    "#                'Ethnicity', 'ISN',\n",
    "#               'Activity', \"Chronicity\",\n",
    "#                 'processing_batch'])\n",
    "d.obs_to_sample(['Sex', 'Age', 'Final_Chronicity', 'Final_Activity', 'First_biop',\n",
    "                 'Pred_use', 'Responder_Status', 'Race_[A]',\n",
    "                   'Race_[A][B]', 'Race_[B]', 'Race_[B][AI]', 'Race_[B][W]', 'Race_[U]',\n",
    "                    'Race_[W]', 'Final_ISN_[III]', 'Final_ISN_[III][V]', 'Final_ISN_[IV]',\n",
    "                   'Final_ISN_[IV][V]', 'Final_ISN_[V]', 'Final_Site_Cincinnati',\n",
    "                    'Final_Site_Einstein', 'Final_Site_JHU', 'Final_Site_Michigan',\n",
    "                   'Final_Site_MUSC', 'Final_Site_Northwell', 'Final_Site_NYU',\n",
    "                   'Final_Site_Rochester', 'Final_Site_Texas Tech', 'Final_Site_UCLA',\n",
    "                   'Final_Site_UCSF'])\n",
    "d.samplem.head()"
   ]
  },
  {
   "cell_type": "code",
   "execution_count": 209,
   "id": "d59b3dcd-9941-40fe-b93c-d692e0a0ace1",
   "metadata": {},
   "outputs": [],
   "source": [
    "umap.index = d.obs.index\n",
    "d.obsm['X_umap'] = umap"
   ]
  },
  {
   "cell_type": "code",
   "execution_count": 210,
   "id": "ab00c799-d248-4e2b-bd75-d35ec68bb834",
   "metadata": {},
   "outputs": [
    {
     "name": "stdout",
     "output_type": "stream",
     "text": [
      "computing default knn graph\n"
     ]
    }
   ],
   "source": [
    "np.random.seed(0) \n",
    "cna.pp.knn(d)"
   ]
  },
  {
   "cell_type": "code",
   "execution_count": 211,
   "id": "7dd9c5ce-94e8-4c0e-9d9b-de0d512ac5f3",
   "metadata": {},
   "outputs": [
    {
     "name": "stdout",
     "output_type": "stream",
     "text": [
      "qcd NAM not found; computing and saving\n",
      "\ttaking step 1\n",
      "\tmedian kurtosis: 27.589542388916016\n",
      "\t20th percentile R2(t,t-1): nan\n",
      "\ttaking step 2\n",
      "\tmedian kurtosis: 19.639324188232422\n",
      "\t20th percentile R2(t,t-1): 0.7556583523750305\n",
      "\ttaking step 3\n",
      "\tmedian kurtosis: 12.039770126342773\n",
      "\t20th percentile R2(t,t-1): 0.9075999617576599\n",
      "\ttaking step 4\n",
      "\tmedian kurtosis: 8.958882331848145\n",
      "\t20th percentile R2(t,t-1): 0.9500444173812866\n",
      "\ttaking step 5\n",
      "\tmedian kurtosis: 7.481902599334717\n",
      "\t20th percentile R2(t,t-1): 0.9714594960212708\n",
      "stopping after 5 steps\n",
      "covariate-adjusted NAM not found; computing and saving\n"
     ]
    },
    {
     "name": "stderr",
     "output_type": "stream",
     "text": [
      "/PHShome/ssg34/.conda/envs/plswork/lib/python3.9/site-packages/cna/tools/_nam.py:79: UserWarning: only one unique batch supplied to qc\n",
      "  warnings.warn('only one unique batch supplied to qc')\n",
      "/PHShome/ssg34/.conda/envs/plswork/lib/python3.9/site-packages/cna/tools/_nam.py:101: UserWarning: only one unique batch supplied to prep\n",
      "  warnings.warn('only one unique batch supplied to prep')\n"
     ]
    },
    {
     "name": "stdout",
     "output_type": "stream",
     "text": [
      "computing SVD\n",
      "performing association test\n",
      "computing neighborhood-level FDRs\n",
      "1\n",
      "[1, 2, 3, 4, 5, 6, 7, 8, 9, 10, 11, 12, 13, 14, 15, 16, 17, 18, 19, 20]\n",
      "p = 0.043695630436956304 , 1 PCs used\n",
      "total r^2 between top 1 NAM PCs and outcome is 0.07\n"
     ]
    }
   ],
   "source": [
    "np.random.seed(0) \n",
    "res = cna.tl._association.association(d, #dataset \n",
    "                                      d.samplem.Pred_use, #phenotype\n",
    "#                                       batches=d.samplem.processing_batch, #batches\n",
    "                                      Nnull=10000, # number of null permutations to do (defaults to only 1e3)\n",
    "                                      ks=[1,2,3,4,5,6,7,8,9,10,11,12,13,14,15,16,17,18,19,20] # I asked the method to consider up to 10 PCs because\n",
    "                                                                #it chose the max number of PCs it considered the default set of [1,2,3,4]\n",
    "                                     )\n",
    "print(res.k)\n",
    "print(res.ks)\n",
    "print('p =', res.p, ',', res.k, 'PCs used')\n",
    "print('total r^2 between top {} NAM PCs and outcome is {:.2f}'.format(res.k, res.r2))"
   ]
  },
  {
   "cell_type": "code",
   "execution_count": 212,
   "id": "05966ff2-1a66-48c6-9a81-ed93731343e8",
   "metadata": {},
   "outputs": [],
   "source": [
    "pbmc_uni['Prednisone_use'] = res.p"
   ]
  },
  {
   "cell_type": "code",
   "execution_count": 213,
   "id": "1562ce38-c3cc-4b5c-b6b2-869a9191b188",
   "metadata": {},
   "outputs": [],
   "source": [
    "np.savetxt(\"/data/srlab/ssg34/SLE_kidney_v2/data/pbmc/pred_use/ncorr.csv\", \n",
    "               res.ncorrs, delimiter=\",\")\n",
    "np.savetxt(\"/data/srlab/ssg34/SLE_kidney_v2/data/pbmc/pred_use/fdrs.csv\", \n",
    "               res.fdrs, delimiter=\",\")"
   ]
  },
  {
   "cell_type": "markdown",
   "id": "e1c53cc9-28f3-43c6-8637-204bd8ac26ee",
   "metadata": {},
   "source": [
    "## CHRONICITY"
   ]
  },
  {
   "cell_type": "code",
   "execution_count": 5,
   "id": "2c0dbefd-ac11-471a-b1b5-c018df535242",
   "metadata": {},
   "outputs": [
    {
     "name": "stdout",
     "output_type": "stream",
     "text": [
      "(256786, 41)\n"
     ]
    }
   ],
   "source": [
    "meta = pd.read_csv('/data/srlab/ssg34/SLE_kidney_v2/data/pbmc/chronicity/meta.csv')\n",
    "print(meta.shape)"
   ]
  },
  {
   "cell_type": "code",
   "execution_count": 6,
   "id": "426b16c8-3c79-4d48-a0c3-05938d45d358",
   "metadata": {},
   "outputs": [
    {
     "name": "stdout",
     "output_type": "stream",
     "text": [
      "(256786, 20)\n"
     ]
    }
   ],
   "source": [
    "harmony = pd.read_csv('/data/srlab/ssg34/SLE_kidney_v2/data/pbmc/chronicity/harmony.csv')\n",
    "print(harmony.shape)"
   ]
  },
  {
   "cell_type": "code",
   "execution_count": 7,
   "id": "d7d37834-f032-4e7d-b845-efad1a0e3d5f",
   "metadata": {},
   "outputs": [
    {
     "name": "stdout",
     "output_type": "stream",
     "text": [
      "(256786, 2)\n"
     ]
    }
   ],
   "source": [
    "umap = pd.read_csv('/data/srlab/ssg34/SLE_kidney_v2/data/pbmc/chronicity/umap.csv')\n",
    "print(umap.shape)"
   ]
  },
  {
   "cell_type": "code",
   "execution_count": 12,
   "id": "3c1d4ef7-429d-445b-932d-1948ef44c586",
   "metadata": {},
   "outputs": [
    {
     "name": "stdout",
     "output_type": "stream",
     "text": [
      "(256786, 41)\n",
      "(256786, 20)\n",
      "(256786, 2)\n"
     ]
    },
    {
     "name": "stderr",
     "output_type": "stream",
     "text": [
      "/PHShome/ssg34/.conda/envs/plswork/lib/python3.9/site-packages/multianndata/core.py:17: FutureWarning: X.dtype being converted to np.float32 from float64. In the next version of anndata (0.9) conversion will not be automatic. Pass dtype explicitly to avoid this warning. Pass `AnnData(X, dtype=X.dtype, ...)` to get the future behavour.\n",
      "  super().__init__(*args, **kwargs)\n",
      "/PHShome/ssg34/.conda/envs/plswork/lib/python3.9/site-packages/anndata/_core/anndata.py:121: ImplicitModificationWarning: Transforming to str index.\n",
      "  warnings.warn(\"Transforming to str index.\", ImplicitModificationWarning)\n"
     ]
    },
    {
     "name": "stdout",
     "output_type": "stream",
     "text": [
      "warning: the following columns of obs are non-numeric.\n",
      "['Cell' 'BARCODE' 'cell.type.ids' 'Unified_Visit' 'AMP.Subject_ID'\n",
      " 'Responder.Status' 'Race' 'Final_ISN' 'Type' 'Final_Site']\n",
      "consider casting to numeric types where appropriate, and\n",
      "consider re-coding text-valued columns with pandas.get_dummies\n",
      "computing default knn graph\n"
     ]
    },
    {
     "name": "stderr",
     "output_type": "stream",
     "text": [
      "/PHShome/ssg34/.conda/envs/plswork/lib/python3.9/site-packages/tqdm/auto.py:22: TqdmWarning: IProgress not found. Please update jupyter and ipywidgets. See https://ipywidgets.readthedocs.io/en/stable/user_install.html\n",
      "  from .autonotebook import tqdm as notebook_tqdm\n"
     ]
    },
    {
     "name": "stdout",
     "output_type": "stream",
     "text": [
      "qcd NAM not found; computing and saving\n",
      "\ttaking step 1\n",
      "\tmedian kurtosis: 26.74811553955078\n",
      "\t20th percentile R2(t,t-1): nan\n",
      "\ttaking step 2\n",
      "\tmedian kurtosis: 19.00851821899414\n",
      "\t20th percentile R2(t,t-1): 0.756097388267517\n",
      "\ttaking step 3\n",
      "\tmedian kurtosis: 11.73455810546875\n",
      "\t20th percentile R2(t,t-1): 0.9074835300445556\n",
      "\ttaking step 4\n",
      "\tmedian kurtosis: 8.783553123474121\n",
      "\t20th percentile R2(t,t-1): 0.9506416082382202\n",
      "stopping after 4 steps\n",
      "covariate-adjusted NAM not found; computing and saving\n"
     ]
    },
    {
     "name": "stderr",
     "output_type": "stream",
     "text": [
      "/PHShome/ssg34/.conda/envs/plswork/lib/python3.9/site-packages/cna/tools/_nam.py:79: UserWarning: only one unique batch supplied to qc\n",
      "  warnings.warn('only one unique batch supplied to qc')\n",
      "/PHShome/ssg34/.conda/envs/plswork/lib/python3.9/site-packages/cna/tools/_nam.py:101: UserWarning: only one unique batch supplied to prep\n",
      "  warnings.warn('only one unique batch supplied to prep')\n"
     ]
    },
    {
     "name": "stdout",
     "output_type": "stream",
     "text": [
      "computing SVD\n",
      "performing association test\n",
      "computing neighborhood-level FDRs\n",
      "15\n",
      "[1, 2, 3, 4, 5, 6, 7, 8, 9, 10, 11, 12, 13, 14, 15, 16, 17, 18, 19, 20]\n",
      "p = 0.07939206079392061 , 15 PCs used\n",
      "total r^2 between top 15 NAM PCs and outcome is 0.29\n"
     ]
    },
    {
     "data": {
      "text/plain": [
       "Namespace(p=0.07939206079392061, nullminps=array([0.01313801, 0.3955064 , 0.02058729, ..., 0.4676309 , 0.32053936,\n",
       "       0.42651001]), k=15, ncorrs=array([ 0.21331989, -0.07559256, -0.07962778, ..., -0.11687978,\n",
       "       -0.17812014,  0.15327026]), fdrs=     threshold        fdr  num_detected\n",
       "0     0.083131   0.667301        117166\n",
       "1     0.083962   0.663341        116043\n",
       "2     0.084793   0.659056        114981\n",
       "3     0.085624   0.655037        113878\n",
       "4     0.086456   0.650941        112800\n",
       "..         ...        ...           ...\n",
       "295   0.328366  29.949000             1\n",
       "296   0.329197  28.744000             1\n",
       "297   0.330028  27.516000             1\n",
       "298   0.330860  26.477000             1\n",
       "299   0.331691  25.416000             1\n",
       "\n",
       "[300 rows x 3 columns], fdr_5p_t=None, fdr_10p_t=None, yresid_hat=array([ 6.00068348e-01, -5.75270807e-01, -4.31598047e-01,  5.91062586e-02,\n",
       "        3.00166371e-02, -2.55569031e-01,  8.09206714e-01,  1.36253952e+00,\n",
       "       -1.21043241e+00,  2.86667743e-01,  1.12195808e-01, -7.17983743e-01,\n",
       "       -4.52983159e-01, -7.18598642e-01,  1.18454938e-01, -2.70778340e-01,\n",
       "        2.61161539e-01,  5.52012406e-01, -4.17482986e-01,  8.72482557e-01,\n",
       "       -1.60281609e-01, -6.83959657e-03, -1.19978480e+00, -2.31292923e-01,\n",
       "        1.52422634e-01,  5.32965572e-01,  5.80373394e-01,  6.97585132e-01,\n",
       "       -6.77475534e-01, -3.10732652e-01, -2.83354266e-01,  4.24358755e-02,\n",
       "       -8.50130978e-02, -1.60372922e-01,  2.12701328e-01, -9.39962401e-02,\n",
       "        4.12934821e-03,  1.49130099e-01,  3.22497728e-01,  6.69249079e-01,\n",
       "        4.91101780e-01,  4.70681183e-01, -7.77730975e-01, -5.28714469e-01,\n",
       "        1.09506775e-01,  2.66389489e-01, -6.53364183e-03,  1.62094658e-01,\n",
       "       -3.48933656e-01, -6.81112967e-01, -6.63384308e-01,  1.34222605e-01,\n",
       "        1.07526462e+00,  4.03606389e-02,  3.10712483e-01, -8.16673461e-02,\n",
       "       -6.16416054e-01,  6.38148482e-01, -2.84206848e-03,  7.06233266e-01,\n",
       "        2.69909570e-01, -4.06189904e-01,  2.77815931e-01,  5.04395991e-02,\n",
       "        2.69572664e-01, -1.03017578e-01, -3.70788299e-01, -5.51218675e-01,\n",
       "        2.36853738e-01, -3.56280798e-01,  4.34108313e-01, -8.29621842e-02,\n",
       "        1.13523693e+00,  2.63712169e-01,  9.23258466e-01,  5.13686900e-01,\n",
       "        3.79009361e-01,  2.27733411e-01, -1.35325464e+00, -8.24647703e-02,\n",
       "       -5.63329133e-01,  1.78655718e-01, -2.15755568e-01,  1.10251165e-03,\n",
       "       -1.56760054e-01, -9.01533815e-01,  1.04040553e+00, -1.24971062e+00,\n",
       "        4.19861705e-01, -7.19948804e-01,  7.89154792e-02, -1.93359920e-01,\n",
       "       -2.58645580e-01]), yresid=array([ 1.31696565, -0.43715227, -0.70859914, -0.23044112, -0.94093612,\n",
       "       -1.0847914 ,  1.9470111 ,  2.25534306, -0.68485565,  0.23650024,\n",
       "        0.52381612,  0.29231151, -0.22240897, -0.926182  , -1.25908983,\n",
       "        1.20301329, -0.41146153, -0.28271492, -0.65135284, -0.06513206,\n",
       "       -0.46816759, -0.9630671 , -0.61339547,  0.67886575,  0.89245404,\n",
       "        0.14712374, -0.6759287 ,  2.21734557,  0.09930451, -0.70637186,\n",
       "        0.13592939,  0.7070415 , -0.93626395,  0.37946072,  2.82058787,\n",
       "       -0.99235525, -0.68935034, -0.40786163,  1.54574286,  1.32589259,\n",
       "        1.42646344,  1.12123125, -1.06248294,  0.49478569, -1.25908983,\n",
       "        1.55934198, -0.60220112,  0.09930451,  0.09570462, -0.38328577,\n",
       "       -0.62904439, -0.35644251,  0.34373063,  0.09797202,  0.52381612,\n",
       "        0.51576166, -1.27247134,  1.88670514, -1.35739328, -0.96777939,\n",
       "       -0.24475755, -0.13525976, -0.27156069, -0.24609004, -1.27247134,\n",
       "       -0.89937886,  0.330309  , -0.01015317,  0.95725467, -0.21258723,\n",
       "        1.49792362, -0.22018169,  1.20301329, -0.70277197,  0.54500969,\n",
       "       -0.4324375 ,  0.70811378,  1.01533334, -2.45438009, -1.97851178,\n",
       "       -1.44676978, -0.35870991, -0.57677059,  0.02784433,  0.84196983,\n",
       "       -0.47598213,  1.43761767, -0.86587605,  0.69361986, -0.82787856,\n",
       "        1.61720304, -0.96777939, -0.91636026]), ks=[1, 2, 3, 4, 5, 6, 7, 8, 9, 10, 11, 12, 13, 14, 15, 16, 17, 18, 19, 20], beta=array([-1.70320857, -1.10910019,  0.1604541 ,  0.94611745, -1.12031987,\n",
       "       -0.96675067,  0.95854206,  1.85417358,  2.60332229,  0.48886858,\n",
       "        0.26694631, -1.21832348,  2.1665854 , -0.2335293 ,  1.46250088]), r2=0.2909438856299462, r2_perpc=array([0.03119268, 0.01322692, 0.00027683, 0.00962514, 0.01349588,\n",
       "       0.01004954, 0.0098796 , 0.03696731, 0.07287405, 0.00256981,\n",
       "       0.00076624, 0.01596035, 0.05047411, 0.00058641, 0.02299902]), nullr2_mean=0.1654588801224465, nullr2_std=0.10069545807548326, kept=array([ True,  True,  True, ...,  True,  True,  True]))"
      ]
     },
     "execution_count": 12,
     "metadata": {},
     "output_type": "execute_result"
    }
   ],
   "source": [
    "cna_test(meta_df = meta, harmony_df = harmony, \n",
    "                  umap_df = umap, variable = 'Final_Chronicity', \n",
    "         covars = ['Age', 'Sex', 'Responder_Status', 'First_biop'])"
   ]
  },
  {
   "cell_type": "code",
   "execution_count": 236,
   "id": "8026d5b5-b3b4-4124-a123-10ed317a29c5",
   "metadata": {},
   "outputs": [],
   "source": [
    "np.savetxt(\"/data/srlab/ssg34/SLE_kidney_v2/data/pbmc/chronicity/ncorr.csv\", \n",
    "               res.ncorrs, delimiter=\",\")\n",
    "np.savetxt(\"/data/srlab/ssg34/SLE_kidney_v2/data/pbmc/chronicity/fdrs.csv\", \n",
    "               res.fdrs, delimiter=\",\")"
   ]
  },
  {
   "cell_type": "code",
   "execution_count": 237,
   "id": "af5f66fe-d5c2-4b23-a718-f07239f02a57",
   "metadata": {},
   "outputs": [],
   "source": [
    "pbmc_uni['Chronicity'] = res.p"
   ]
  },
  {
   "cell_type": "markdown",
   "id": "8ecd0640-a79d-408d-9c9f-325311fe5964",
   "metadata": {},
   "source": [
    "## ACTIVITY"
   ]
  },
  {
   "cell_type": "code",
   "execution_count": 238,
   "id": "ba418737-1507-4168-9037-6d6018dd5248",
   "metadata": {},
   "outputs": [
    {
     "name": "stdout",
     "output_type": "stream",
     "text": [
      "(256786, 41)\n"
     ]
    }
   ],
   "source": [
    "meta = pd.read_csv('/data/srlab/ssg34/SLE_kidney_v2/data/pbmc/activity/meta.csv')\n",
    "print(meta.shape)"
   ]
  },
  {
   "cell_type": "code",
   "execution_count": 239,
   "id": "ebc3e2cf-5540-4f06-bce6-b1ee0078034c",
   "metadata": {},
   "outputs": [
    {
     "name": "stdout",
     "output_type": "stream",
     "text": [
      "(256786, 20)\n"
     ]
    }
   ],
   "source": [
    "harmony = pd.read_csv('/data/srlab/ssg34/SLE_kidney_v2/data/pbmc/activity/harmony.csv')\n",
    "print(harmony.shape)"
   ]
  },
  {
   "cell_type": "code",
   "execution_count": 240,
   "id": "1b11b41e-f7a4-4505-88a3-9835ad5aba08",
   "metadata": {},
   "outputs": [
    {
     "name": "stdout",
     "output_type": "stream",
     "text": [
      "(256786, 2)\n"
     ]
    }
   ],
   "source": [
    "umap = pd.read_csv('/data/srlab/ssg34/SLE_kidney_v2/data/pbmc/activity/umap.csv')\n",
    "print(umap.shape)"
   ]
  },
  {
   "cell_type": "code",
   "execution_count": 241,
   "id": "4e8af84a-c159-4a14-999c-8df5f9edadf5",
   "metadata": {},
   "outputs": [
    {
     "name": "stderr",
     "output_type": "stream",
     "text": [
      "/PHShome/ssg34/.conda/envs/plswork/lib/python3.9/site-packages/multianndata/core.py:17: FutureWarning: X.dtype being converted to np.float32 from float64. In the next version of anndata (0.9) conversion will not be automatic. Pass dtype explicitly to avoid this warning. Pass `AnnData(X, dtype=X.dtype, ...)` to get the future behavour.\n",
      "  super().__init__(*args, **kwargs)\n",
      "/PHShome/ssg34/.conda/envs/plswork/lib/python3.9/site-packages/anndata/_core/anndata.py:121: ImplicitModificationWarning: Transforming to str index.\n",
      "  warnings.warn(\"Transforming to str index.\", ImplicitModificationWarning)\n"
     ]
    },
    {
     "name": "stdout",
     "output_type": "stream",
     "text": [
      "warning: the following columns of obs are non-numeric.\n",
      "['Cell' 'BARCODE' 'cell.type.ids' 'Unified_Visit' 'AMP.Subject_ID'\n",
      " 'Responder.Status' 'Race' 'Final_ISN' 'Type' 'Final_Site']\n",
      "consider casting to numeric types where appropriate, and\n",
      "consider re-coding text-valued columns with pandas.get_dummies\n"
     ]
    },
    {
     "data": {
      "text/html": [
       "<div>\n",
       "<style scoped>\n",
       "    .dataframe tbody tr th:only-of-type {\n",
       "        vertical-align: middle;\n",
       "    }\n",
       "\n",
       "    .dataframe tbody tr th {\n",
       "        vertical-align: top;\n",
       "    }\n",
       "\n",
       "    .dataframe thead th {\n",
       "        text-align: right;\n",
       "    }\n",
       "</style>\n",
       "<table border=\"1\" class=\"dataframe\">\n",
       "  <thead>\n",
       "    <tr style=\"text-align: right;\">\n",
       "      <th></th>\n",
       "      <th>Sex</th>\n",
       "      <th>Age</th>\n",
       "      <th>Final_Chronicity</th>\n",
       "      <th>Final_Activity</th>\n",
       "      <th>First_biop</th>\n",
       "      <th>Pred_use</th>\n",
       "      <th>Responder_Status</th>\n",
       "      <th>Race_[A]</th>\n",
       "      <th>Race_[A][B]</th>\n",
       "      <th>Race_[B]</th>\n",
       "      <th>...</th>\n",
       "      <th>Final_Site_Einstein</th>\n",
       "      <th>Final_Site_JHU</th>\n",
       "      <th>Final_Site_Michigan</th>\n",
       "      <th>Final_Site_MUSC</th>\n",
       "      <th>Final_Site_Northwell</th>\n",
       "      <th>Final_Site_NYU</th>\n",
       "      <th>Final_Site_Rochester</th>\n",
       "      <th>Final_Site_Texas Tech</th>\n",
       "      <th>Final_Site_UCLA</th>\n",
       "      <th>Final_Site_UCSF</th>\n",
       "    </tr>\n",
       "    <tr>\n",
       "      <th>Unified_Visit</th>\n",
       "      <th></th>\n",
       "      <th></th>\n",
       "      <th></th>\n",
       "      <th></th>\n",
       "      <th></th>\n",
       "      <th></th>\n",
       "      <th></th>\n",
       "      <th></th>\n",
       "      <th></th>\n",
       "      <th></th>\n",
       "      <th></th>\n",
       "      <th></th>\n",
       "      <th></th>\n",
       "      <th></th>\n",
       "      <th></th>\n",
       "      <th></th>\n",
       "      <th></th>\n",
       "      <th></th>\n",
       "      <th></th>\n",
       "      <th></th>\n",
       "      <th></th>\n",
       "    </tr>\n",
       "  </thead>\n",
       "  <tbody>\n",
       "    <tr>\n",
       "      <th>200-2741-V0</th>\n",
       "      <td>1.0</td>\n",
       "      <td>1.407794</td>\n",
       "      <td>8.0</td>\n",
       "      <td>0.0</td>\n",
       "      <td>0.0</td>\n",
       "      <td>0.0</td>\n",
       "      <td>0.0</td>\n",
       "      <td>0.0</td>\n",
       "      <td>0.0</td>\n",
       "      <td>1.0</td>\n",
       "      <td>...</td>\n",
       "      <td>0.0</td>\n",
       "      <td>1.0</td>\n",
       "      <td>0.0</td>\n",
       "      <td>0.0</td>\n",
       "      <td>0.0</td>\n",
       "      <td>0.0</td>\n",
       "      <td>0.0</td>\n",
       "      <td>0.0</td>\n",
       "      <td>0.0</td>\n",
       "      <td>0.0</td>\n",
       "    </tr>\n",
       "    <tr>\n",
       "      <th>200-2729-V0</th>\n",
       "      <td>2.0</td>\n",
       "      <td>-1.320891</td>\n",
       "      <td>0.0</td>\n",
       "      <td>0.0</td>\n",
       "      <td>1.0</td>\n",
       "      <td>0.0</td>\n",
       "      <td>2.0</td>\n",
       "      <td>0.0</td>\n",
       "      <td>0.0</td>\n",
       "      <td>1.0</td>\n",
       "      <td>...</td>\n",
       "      <td>0.0</td>\n",
       "      <td>1.0</td>\n",
       "      <td>0.0</td>\n",
       "      <td>0.0</td>\n",
       "      <td>0.0</td>\n",
       "      <td>0.0</td>\n",
       "      <td>0.0</td>\n",
       "      <td>0.0</td>\n",
       "      <td>0.0</td>\n",
       "      <td>0.0</td>\n",
       "    </tr>\n",
       "    <tr>\n",
       "      <th>200-1240-V0</th>\n",
       "      <td>1.0</td>\n",
       "      <td>-0.931079</td>\n",
       "      <td>0.0</td>\n",
       "      <td>5.0</td>\n",
       "      <td>1.0</td>\n",
       "      <td>1.0</td>\n",
       "      <td>1.0</td>\n",
       "      <td>0.0</td>\n",
       "      <td>0.0</td>\n",
       "      <td>1.0</td>\n",
       "      <td>...</td>\n",
       "      <td>0.0</td>\n",
       "      <td>1.0</td>\n",
       "      <td>0.0</td>\n",
       "      <td>0.0</td>\n",
       "      <td>0.0</td>\n",
       "      <td>0.0</td>\n",
       "      <td>0.0</td>\n",
       "      <td>0.0</td>\n",
       "      <td>0.0</td>\n",
       "      <td>0.0</td>\n",
       "    </tr>\n",
       "    <tr>\n",
       "      <th>200-1137-V0</th>\n",
       "      <td>1.0</td>\n",
       "      <td>2.967042</td>\n",
       "      <td>3.0</td>\n",
       "      <td>5.0</td>\n",
       "      <td>1.0</td>\n",
       "      <td>1.0</td>\n",
       "      <td>2.0</td>\n",
       "      <td>0.0</td>\n",
       "      <td>0.0</td>\n",
       "      <td>0.0</td>\n",
       "      <td>...</td>\n",
       "      <td>0.0</td>\n",
       "      <td>0.0</td>\n",
       "      <td>0.0</td>\n",
       "      <td>0.0</td>\n",
       "      <td>0.0</td>\n",
       "      <td>1.0</td>\n",
       "      <td>0.0</td>\n",
       "      <td>0.0</td>\n",
       "      <td>0.0</td>\n",
       "      <td>0.0</td>\n",
       "    </tr>\n",
       "    <tr>\n",
       "      <th>200-1152-V0</th>\n",
       "      <td>1.0</td>\n",
       "      <td>0.394282</td>\n",
       "      <td>0.0</td>\n",
       "      <td>1.0</td>\n",
       "      <td>1.0</td>\n",
       "      <td>1.0</td>\n",
       "      <td>2.0</td>\n",
       "      <td>1.0</td>\n",
       "      <td>0.0</td>\n",
       "      <td>0.0</td>\n",
       "      <td>...</td>\n",
       "      <td>0.0</td>\n",
       "      <td>0.0</td>\n",
       "      <td>0.0</td>\n",
       "      <td>0.0</td>\n",
       "      <td>0.0</td>\n",
       "      <td>1.0</td>\n",
       "      <td>0.0</td>\n",
       "      <td>0.0</td>\n",
       "      <td>0.0</td>\n",
       "      <td>0.0</td>\n",
       "    </tr>\n",
       "  </tbody>\n",
       "</table>\n",
       "<p>5 rows × 30 columns</p>\n",
       "</div>"
      ],
      "text/plain": [
       "               Sex       Age  Final_Chronicity  Final_Activity  First_biop  \\\n",
       "Unified_Visit                                                                \n",
       "200-2741-V0    1.0  1.407794               8.0             0.0         0.0   \n",
       "200-2729-V0    2.0 -1.320891               0.0             0.0         1.0   \n",
       "200-1240-V0    1.0 -0.931079               0.0             5.0         1.0   \n",
       "200-1137-V0    1.0  2.967042               3.0             5.0         1.0   \n",
       "200-1152-V0    1.0  0.394282               0.0             1.0         1.0   \n",
       "\n",
       "               Pred_use  Responder_Status  Race_[A]  Race_[A][B]  Race_[B]  \\\n",
       "Unified_Visit                                                                \n",
       "200-2741-V0         0.0               0.0       0.0          0.0       1.0   \n",
       "200-2729-V0         0.0               2.0       0.0          0.0       1.0   \n",
       "200-1240-V0         1.0               1.0       0.0          0.0       1.0   \n",
       "200-1137-V0         1.0               2.0       0.0          0.0       0.0   \n",
       "200-1152-V0         1.0               2.0       1.0          0.0       0.0   \n",
       "\n",
       "               ...  Final_Site_Einstein  Final_Site_JHU  Final_Site_Michigan  \\\n",
       "Unified_Visit  ...                                                             \n",
       "200-2741-V0    ...                  0.0             1.0                  0.0   \n",
       "200-2729-V0    ...                  0.0             1.0                  0.0   \n",
       "200-1240-V0    ...                  0.0             1.0                  0.0   \n",
       "200-1137-V0    ...                  0.0             0.0                  0.0   \n",
       "200-1152-V0    ...                  0.0             0.0                  0.0   \n",
       "\n",
       "               Final_Site_MUSC  Final_Site_Northwell  Final_Site_NYU  \\\n",
       "Unified_Visit                                                          \n",
       "200-2741-V0                0.0                   0.0             0.0   \n",
       "200-2729-V0                0.0                   0.0             0.0   \n",
       "200-1240-V0                0.0                   0.0             0.0   \n",
       "200-1137-V0                0.0                   0.0             1.0   \n",
       "200-1152-V0                0.0                   0.0             1.0   \n",
       "\n",
       "               Final_Site_Rochester  Final_Site_Texas Tech  Final_Site_UCLA  \\\n",
       "Unified_Visit                                                                 \n",
       "200-2741-V0                     0.0                    0.0              0.0   \n",
       "200-2729-V0                     0.0                    0.0              0.0   \n",
       "200-1240-V0                     0.0                    0.0              0.0   \n",
       "200-1137-V0                     0.0                    0.0              0.0   \n",
       "200-1152-V0                     0.0                    0.0              0.0   \n",
       "\n",
       "               Final_Site_UCSF  \n",
       "Unified_Visit                   \n",
       "200-2741-V0                0.0  \n",
       "200-2729-V0                0.0  \n",
       "200-1240-V0                0.0  \n",
       "200-1137-V0                0.0  \n",
       "200-1152-V0                0.0  \n",
       "\n",
       "[5 rows x 30 columns]"
      ]
     },
     "execution_count": 241,
     "metadata": {},
     "output_type": "execute_result"
    }
   ],
   "source": [
    "# Start by making anndata object\n",
    "d = mad.MultiAnnData(X=harmony, obs=meta, sampleid=\"Unified_Visit\")\n",
    "#d.obs_to_sample(['Type', 'Site',\n",
    "#                 'Responder_Status', 'Sex',\n",
    "#                 'Age', 'Race',\n",
    "#                'Ethnicity', 'ISN',\n",
    "#               'Activity', \"Chronicity\",\n",
    "#                 'processing_batch'])\n",
    "d.obs_to_sample(['Sex', 'Age', 'Final_Chronicity', 'Final_Activity', 'First_biop', 'Pred_use', 'Responder_Status', 'Race_[A]',\n",
    "       'Race_[A][B]', 'Race_[B]', 'Race_[B][AI]', 'Race_[B][W]', 'Race_[U]',\n",
    "       'Race_[W]', 'Final_ISN_[III]', 'Final_ISN_[III][V]', 'Final_ISN_[IV]',\n",
    "       'Final_ISN_[IV][V]', 'Final_ISN_[V]', 'Final_Site_Cincinnati',\n",
    "       'Final_Site_Einstein', 'Final_Site_JHU', 'Final_Site_Michigan',\n",
    "       'Final_Site_MUSC', 'Final_Site_Northwell', 'Final_Site_NYU',\n",
    "       'Final_Site_Rochester', 'Final_Site_Texas Tech', 'Final_Site_UCLA',\n",
    "        'Final_Site_UCSF'])\n",
    "d.samplem.head()"
   ]
  },
  {
   "cell_type": "code",
   "execution_count": 242,
   "id": "b4f79958-6096-4b1f-98d8-9f45cbc389aa",
   "metadata": {},
   "outputs": [],
   "source": [
    "umap.index = d.obs.index\n",
    "d.obsm['X_umap'] = umap"
   ]
  },
  {
   "cell_type": "code",
   "execution_count": 243,
   "id": "4d6365e2-bb92-4c34-afbf-e7106df6ad56",
   "metadata": {},
   "outputs": [
    {
     "name": "stdout",
     "output_type": "stream",
     "text": [
      "computing default knn graph\n"
     ]
    }
   ],
   "source": [
    "np.random.seed(0) \n",
    "cna.pp.knn(d)"
   ]
  },
  {
   "cell_type": "code",
   "execution_count": 244,
   "id": "83d013e4-7841-4434-8f80-8a991617ac85",
   "metadata": {},
   "outputs": [
    {
     "name": "stdout",
     "output_type": "stream",
     "text": [
      "qcd NAM not found; computing and saving\n",
      "\ttaking step 1\n",
      "\tmedian kurtosis: 26.74811553955078\n",
      "\t20th percentile R2(t,t-1): nan\n",
      "\ttaking step 2\n",
      "\tmedian kurtosis: 19.00851821899414\n",
      "\t20th percentile R2(t,t-1): 0.756097388267517\n",
      "\ttaking step 3\n",
      "\tmedian kurtosis: 11.73455810546875\n",
      "\t20th percentile R2(t,t-1): 0.9074835300445556\n",
      "\ttaking step 4\n",
      "\tmedian kurtosis: 8.783553123474121\n",
      "\t20th percentile R2(t,t-1): 0.9506416082382202\n",
      "stopping after 4 steps\n",
      "covariate-adjusted NAM not found; computing and saving\n"
     ]
    },
    {
     "name": "stderr",
     "output_type": "stream",
     "text": [
      "/PHShome/ssg34/.conda/envs/plswork/lib/python3.9/site-packages/cna/tools/_nam.py:79: UserWarning: only one unique batch supplied to qc\n",
      "  warnings.warn('only one unique batch supplied to qc')\n",
      "/PHShome/ssg34/.conda/envs/plswork/lib/python3.9/site-packages/cna/tools/_nam.py:101: UserWarning: only one unique batch supplied to prep\n",
      "  warnings.warn('only one unique batch supplied to prep')\n"
     ]
    },
    {
     "name": "stdout",
     "output_type": "stream",
     "text": [
      "computing SVD\n",
      "performing association test\n",
      "computing neighborhood-level FDRs\n",
      "9\n",
      "[1, 2, 3, 4, 5, 6, 7, 8, 9, 10, 11, 12, 13, 14, 15, 16, 17, 18, 19, 20]\n",
      "p = 0.12058794120587941 , 9 PCs used\n",
      "total r^2 between top 9 NAM PCs and outcome is 0.17\n"
     ]
    }
   ],
   "source": [
    "np.random.seed(0) \n",
    "res = cna.tl._association.association(d, #dataset \n",
    "                                      d.samplem.Final_Activity, #phenotype\n",
    "#                                       batches=d.samplem.processing_batch, #batches\n",
    "                                      Nnull=10000, # number of null permutations to do (defaults to only 1e3)\n",
    "                                      ks=[1,2,3,4,5,6,7,8,9,10,11,12,13,14,15,16,17,18,19,20] # I asked the method to consider up to 10 PCs because\n",
    "                                                                #it chose the max number of PCs it considered the default set of [1,2,3,4]\n",
    "                                     )\n",
    "print(res.k)\n",
    "print(res.ks)\n",
    "print('p =', res.p, ',', res.k, 'PCs used')\n",
    "print('total r^2 between top {} NAM PCs and outcome is {:.2f}'.format(res.k, res.r2))"
   ]
  },
  {
   "cell_type": "code",
   "execution_count": 245,
   "id": "c7a19068-f91b-4818-9482-2b84ce230b3a",
   "metadata": {},
   "outputs": [],
   "source": [
    "pbmc_uni['Activity'] = res.p"
   ]
  },
  {
   "cell_type": "code",
   "execution_count": 246,
   "id": "6993f90a-7463-4e53-a9eb-47e14bcd8dc7",
   "metadata": {},
   "outputs": [],
   "source": [
    "np.savetxt(\"/data/srlab/ssg34/SLE_kidney_v2/data/pbmc/activity/ncorr.csv\", \n",
    "               res.ncorrs, delimiter=\",\")\n",
    "np.savetxt(\"/data/srlab/ssg34/SLE_kidney_v2/data/pbmc/activity/fdrs.csv\", \n",
    "               res.fdrs, delimiter=\",\")"
   ]
  },
  {
   "cell_type": "markdown",
   "id": "d0a5737e-679c-498f-a375-e5862a270aab",
   "metadata": {},
   "source": [
    "## ISN"
   ]
  },
  {
   "cell_type": "code",
   "execution_count": 3,
   "id": "aaf15e1d-1ee3-4653-ba48-35608433a650",
   "metadata": {},
   "outputs": [
    {
     "name": "stdout",
     "output_type": "stream",
     "text": [
      "(256786, 41)\n"
     ]
    }
   ],
   "source": [
    "meta = pd.read_csv('/data/srlab/ssg34/SLE_kidney_v2/data/pbmc/isn/meta.csv')\n",
    "print(meta.shape)"
   ]
  },
  {
   "cell_type": "code",
   "execution_count": 4,
   "id": "c1a26c13-c4f1-4135-b966-eee4f7067cf1",
   "metadata": {},
   "outputs": [
    {
     "name": "stdout",
     "output_type": "stream",
     "text": [
      "(256786, 20)\n"
     ]
    }
   ],
   "source": [
    "harmony = pd.read_csv('/data/srlab/ssg34/SLE_kidney_v2/data/pbmc/isn/harmony.csv')\n",
    "print(harmony.shape)"
   ]
  },
  {
   "cell_type": "code",
   "execution_count": 5,
   "id": "10ed7b49-29b5-4f6f-aa7d-d73763476206",
   "metadata": {},
   "outputs": [
    {
     "name": "stdout",
     "output_type": "stream",
     "text": [
      "(256786, 2)\n"
     ]
    }
   ],
   "source": [
    "umap = pd.read_csv('/data/srlab/ssg34/SLE_kidney_v2/data/pbmc/isn/umap.csv')\n",
    "print(umap.shape)"
   ]
  },
  {
   "cell_type": "code",
   "execution_count": 9,
   "id": "a17abba7-f751-4a25-8de4-7af4fc0b5266",
   "metadata": {},
   "outputs": [
    {
     "name": "stdout",
     "output_type": "stream",
     "text": [
      "(256786, 41)\n",
      "(256786, 20)\n",
      "(256786, 2)\n"
     ]
    },
    {
     "name": "stderr",
     "output_type": "stream",
     "text": [
      "/PHShome/ssg34/.conda/envs/plswork/lib/python3.9/site-packages/multianndata/core.py:17: FutureWarning: X.dtype being converted to np.float32 from float64. In the next version of anndata (0.9) conversion will not be automatic. Pass dtype explicitly to avoid this warning. Pass `AnnData(X, dtype=X.dtype, ...)` to get the future behavour.\n",
      "  super().__init__(*args, **kwargs)\n",
      "/PHShome/ssg34/.conda/envs/plswork/lib/python3.9/site-packages/anndata/_core/anndata.py:121: ImplicitModificationWarning: Transforming to str index.\n",
      "  warnings.warn(\"Transforming to str index.\", ImplicitModificationWarning)\n"
     ]
    },
    {
     "name": "stdout",
     "output_type": "stream",
     "text": [
      "warning: the following columns of obs are non-numeric.\n",
      "['Cell' 'BARCODE' 'cell.type.ids' 'Unified_Visit' 'AMP.Subject_ID'\n",
      " 'Responder.Status' 'Race' 'Final_ISN' 'Type' 'Final_Site']\n",
      "consider casting to numeric types where appropriate, and\n",
      "consider re-coding text-valued columns with pandas.get_dummies\n",
      "computing default knn graph\n"
     ]
    },
    {
     "name": "stderr",
     "output_type": "stream",
     "text": [
      "/PHShome/ssg34/.conda/envs/plswork/lib/python3.9/site-packages/tqdm/auto.py:22: TqdmWarning: IProgress not found. Please update jupyter and ipywidgets. See https://ipywidgets.readthedocs.io/en/stable/user_install.html\n",
      "  from .autonotebook import tqdm as notebook_tqdm\n"
     ]
    },
    {
     "name": "stdout",
     "output_type": "stream",
     "text": [
      "qcd NAM not found; computing and saving\n",
      "\ttaking step 1\n",
      "\tmedian kurtosis: 26.74811553955078\n",
      "\t20th percentile R2(t,t-1): nan\n",
      "\ttaking step 2\n",
      "\tmedian kurtosis: 19.00851821899414\n",
      "\t20th percentile R2(t,t-1): 0.756097388267517\n",
      "\ttaking step 3\n",
      "\tmedian kurtosis: 11.73455810546875\n",
      "\t20th percentile R2(t,t-1): 0.9074835300445556\n",
      "\ttaking step 4\n",
      "\tmedian kurtosis: 8.783553123474121\n",
      "\t20th percentile R2(t,t-1): 0.9506416082382202\n",
      "stopping after 4 steps\n",
      "covariate-adjusted NAM not found; computing and saving\n"
     ]
    },
    {
     "name": "stderr",
     "output_type": "stream",
     "text": [
      "/PHShome/ssg34/.conda/envs/plswork/lib/python3.9/site-packages/cna/tools/_nam.py:79: UserWarning: only one unique batch supplied to qc\n",
      "  warnings.warn('only one unique batch supplied to qc')\n",
      "/PHShome/ssg34/.conda/envs/plswork/lib/python3.9/site-packages/cna/tools/_nam.py:101: UserWarning: only one unique batch supplied to prep\n",
      "  warnings.warn('only one unique batch supplied to prep')\n"
     ]
    },
    {
     "name": "stdout",
     "output_type": "stream",
     "text": [
      "computing SVD\n",
      "performing association test\n"
     ]
    },
    {
     "name": "stderr",
     "output_type": "stream",
     "text": [
      "/PHShome/ssg34/.conda/envs/plswork/lib/python3.9/site-packages/cna/tools/_association.py:57: UserWarning: data supported use of 20 NAM PCs, which is the maximum considered. Consider allowing more PCs by using the \"ks\" argument.\n",
      "  warnings.warn(('data supported use of {} NAM PCs, which is the maximum considered. '+\\\n"
     ]
    },
    {
     "name": "stdout",
     "output_type": "stream",
     "text": [
      "computing neighborhood-level FDRs\n",
      "20\n",
      "[1, 2, 3, 4, 5, 6, 7, 8, 9, 10, 11, 12, 13, 14, 15, 16, 17, 18, 19, 20]\n",
      "p = 0.0112988701129887 , 20 PCs used\n",
      "total r^2 between top 20 NAM PCs and outcome is 0.34\n"
     ]
    }
   ],
   "source": [
    "res = cna_test(meta, harmony, umap, 'Final_ISN_[IV]')"
   ]
  },
  {
   "cell_type": "code",
   "execution_count": 10,
   "id": "30b26934-0eca-4ae5-9e4b-ad1dbf1d184f",
   "metadata": {},
   "outputs": [],
   "source": [
    "np.savetxt(\"/data/srlab/ssg34/SLE_kidney_v2/data/pbmc/isn/class_4_ncorr.csv\", \n",
    "               res.ncorrs, delimiter=\",\")\n",
    "np.savetxt(\"/data/srlab/ssg34/SLE_kidney_v2/data/pbmc/isn/class_4_fdrs.csv\", \n",
    "               res.fdrs, delimiter=\",\")"
   ]
  },
  {
   "cell_type": "code",
   "execution_count": 11,
   "id": "c266280b-b5f2-4113-b935-f6beb41b2ab4",
   "metadata": {},
   "outputs": [
    {
     "name": "stdout",
     "output_type": "stream",
     "text": [
      "(256786, 41)\n",
      "(256786, 20)\n",
      "(256786, 2)\n"
     ]
    },
    {
     "name": "stderr",
     "output_type": "stream",
     "text": [
      "/PHShome/ssg34/.conda/envs/plswork/lib/python3.9/site-packages/multianndata/core.py:17: FutureWarning: X.dtype being converted to np.float32 from float64. In the next version of anndata (0.9) conversion will not be automatic. Pass dtype explicitly to avoid this warning. Pass `AnnData(X, dtype=X.dtype, ...)` to get the future behavour.\n",
      "  super().__init__(*args, **kwargs)\n",
      "/PHShome/ssg34/.conda/envs/plswork/lib/python3.9/site-packages/anndata/_core/anndata.py:121: ImplicitModificationWarning: Transforming to str index.\n",
      "  warnings.warn(\"Transforming to str index.\", ImplicitModificationWarning)\n"
     ]
    },
    {
     "name": "stdout",
     "output_type": "stream",
     "text": [
      "warning: the following columns of obs are non-numeric.\n",
      "['Cell' 'BARCODE' 'cell.type.ids' 'Unified_Visit' 'AMP.Subject_ID'\n",
      " 'Responder.Status' 'Race' 'Final_ISN' 'Type' 'Final_Site']\n",
      "consider casting to numeric types where appropriate, and\n",
      "consider re-coding text-valued columns with pandas.get_dummies\n",
      "computing default knn graph\n",
      "qcd NAM not found; computing and saving\n",
      "\ttaking step 1\n",
      "\tmedian kurtosis: 26.74811553955078\n",
      "\t20th percentile R2(t,t-1): nan\n",
      "\ttaking step 2\n",
      "\tmedian kurtosis: 19.00851821899414\n",
      "\t20th percentile R2(t,t-1): 0.756097388267517\n",
      "\ttaking step 3\n",
      "\tmedian kurtosis: 11.73455810546875\n",
      "\t20th percentile R2(t,t-1): 0.9074835300445556\n",
      "\ttaking step 4\n",
      "\tmedian kurtosis: 8.783553123474121\n",
      "\t20th percentile R2(t,t-1): 0.9506416082382202\n",
      "stopping after 4 steps\n",
      "covariate-adjusted NAM not found; computing and saving\n"
     ]
    },
    {
     "name": "stderr",
     "output_type": "stream",
     "text": [
      "/PHShome/ssg34/.conda/envs/plswork/lib/python3.9/site-packages/cna/tools/_nam.py:79: UserWarning: only one unique batch supplied to qc\n",
      "  warnings.warn('only one unique batch supplied to qc')\n",
      "/PHShome/ssg34/.conda/envs/plswork/lib/python3.9/site-packages/cna/tools/_nam.py:101: UserWarning: only one unique batch supplied to prep\n",
      "  warnings.warn('only one unique batch supplied to prep')\n"
     ]
    },
    {
     "name": "stdout",
     "output_type": "stream",
     "text": [
      "computing SVD\n",
      "performing association test\n",
      "computing neighborhood-level FDRs\n",
      "18\n",
      "[1, 2, 3, 4, 5, 6, 7, 8, 9, 10, 11, 12, 13, 14, 15, 16, 17, 18, 19, 20]\n",
      "p = 0.1630836916308369 , 18 PCs used\n",
      "total r^2 between top 18 NAM PCs and outcome is 0.25\n"
     ]
    }
   ],
   "source": [
    "res = cna_test(meta, harmony, umap, \n",
    "               'Final_ISN_[IV]', covars = ['Final_Activity', 'Age', 'Sex'])"
   ]
  },
  {
   "cell_type": "code",
   "execution_count": null,
   "id": "7f21c199-0352-413a-a62f-01238eb11283",
   "metadata": {},
   "outputs": [],
   "source": [
    "np.savetxt(\"/data/srlab/ssg34/SLE_kidney_v2/data/pbmc/isn/cond_class_4_ncorr.csv\", \n",
    "               res.ncorrs, delimiter=\",\")\n",
    "np.savetxt(\"/data/srlab/ssg34/SLE_kidney_v2/data/pbmc/isn/cond_class_4_fdrs.csv\", \n",
    "               res.fdrs, delimiter=\",\")"
   ]
  },
  {
   "cell_type": "code",
   "execution_count": 260,
   "id": "1711fbc8-2057-4372-8287-8965a12d4e78",
   "metadata": {},
   "outputs": [
    {
     "name": "stdout",
     "output_type": "stream",
     "text": [
      "performing association test\n",
      "computing neighborhood-level FDRs\n",
      "1\n",
      "[1, 2, 3, 4, 5, 6, 7, 8, 9, 10, 11, 12, 13, 14, 15, 16, 17, 18, 19, 20]\n",
      "p = 0.9659034096590341 , 1 PCs used\n",
      "total r^2 between top 1 NAM PCs and outcome is 0.00\n"
     ]
    }
   ],
   "source": [
    "np.random.seed(0) \n",
    "res = cna.tl._association.association(d, #dataset \n",
    "                                      d.samplem['Final_ISN_[IV][V]'], #phenotype\n",
    "#                                       batches=d.samplem.processing_batch, #batches\n",
    "                                      Nnull=10000, # number of null permutations to do (defaults to only 1e3)\n",
    "                                      ks=[1,2,3,4,5,6,7,8,9,10,11,12,13,14,15,16,17,18,19,20] # I asked the method to consider up to 10 PCs because\n",
    "                                                                #it chose the max number of PCs it considered the default set of [1,2,3,4]\n",
    "                                     )\n",
    "print(res.k)\n",
    "print(res.ks)\n",
    "print('p =', res.p, ',', res.k, 'PCs used')\n",
    "print('total r^2 between top {} NAM PCs and outcome is {:.2f}'.format(res.k, res.r2))"
   ]
  },
  {
   "cell_type": "code",
   "execution_count": null,
   "id": "46edb683-2f89-40ee-b0bc-dd2c0fa8d362",
   "metadata": {},
   "outputs": [],
   "source": [
    "res = cna_test(meta, harmony, umap, 'Final_ISN_[V]')"
   ]
  },
  {
   "cell_type": "code",
   "execution_count": null,
   "id": "f03212eb-aa37-483b-919d-b11616dd700a",
   "metadata": {},
   "outputs": [],
   "source": [
    "np.savetxt(\"/data/srlab/ssg34/SLE_kidney_v2/data/pbmc/isn/class_5_ncorr.csv\", \n",
    "               res.ncorrs, delimiter=\",\")\n",
    "np.savetxt(\"/data/srlab/ssg34/SLE_kidney_v2/data/pbmc/isn/class_5_fdrs.csv\", \n",
    "               res.fdrs, delimiter=\",\")"
   ]
  },
  {
   "cell_type": "code",
   "execution_count": 15,
   "id": "164b446a-5491-4e94-8d4b-bc808c0f5e1e",
   "metadata": {},
   "outputs": [
    {
     "name": "stdout",
     "output_type": "stream",
     "text": [
      "(256786, 41)\n",
      "(256786, 20)\n",
      "(256786, 2)\n"
     ]
    },
    {
     "name": "stderr",
     "output_type": "stream",
     "text": [
      "/PHShome/ssg34/.conda/envs/plswork/lib/python3.9/site-packages/multianndata/core.py:17: FutureWarning: X.dtype being converted to np.float32 from float64. In the next version of anndata (0.9) conversion will not be automatic. Pass dtype explicitly to avoid this warning. Pass `AnnData(X, dtype=X.dtype, ...)` to get the future behavour.\n",
      "  super().__init__(*args, **kwargs)\n",
      "/PHShome/ssg34/.conda/envs/plswork/lib/python3.9/site-packages/anndata/_core/anndata.py:121: ImplicitModificationWarning: Transforming to str index.\n",
      "  warnings.warn(\"Transforming to str index.\", ImplicitModificationWarning)\n"
     ]
    },
    {
     "name": "stdout",
     "output_type": "stream",
     "text": [
      "warning: the following columns of obs are non-numeric.\n",
      "['Cell' 'BARCODE' 'cell.type.ids' 'Unified_Visit' 'AMP.Subject_ID'\n",
      " 'Responder.Status' 'Race' 'Final_ISN' 'Type' 'Final_Site']\n",
      "consider casting to numeric types where appropriate, and\n",
      "consider re-coding text-valued columns with pandas.get_dummies\n",
      "computing default knn graph\n"
     ]
    },
    {
     "ename": "SystemError",
     "evalue": "CPUDispatcher(<function smooth_knn_dist at 0x7fa7b89095e0>) returned a result with an error set",
     "output_type": "error",
     "traceback": [
      "\u001b[0;31m---------------------------------------------------------------------------\u001b[0m",
      "\u001b[0;31mKeyboardInterrupt\u001b[0m                         Traceback (most recent call last)",
      "File \u001b[0;32m~/.conda/envs/plswork/lib/python3.9/site-packages/numba/core/serialize.py:29\u001b[0m, in \u001b[0;36m_numba_unpickle\u001b[0;34m(address, bytedata, hashed)\u001b[0m\n\u001b[1;32m     26\u001b[0m _unpickled_memo \u001b[38;5;241m=\u001b[39m {}\n\u001b[0;32m---> 29\u001b[0m \u001b[38;5;28;01mdef\u001b[39;00m \u001b[38;5;21m_numba_unpickle\u001b[39m(address, bytedata, hashed):\n\u001b[1;32m     30\u001b[0m     \u001b[38;5;124;03m\"\"\"Used by `numba_unpickle` from _helperlib.c\u001b[39;00m\n\u001b[1;32m     31\u001b[0m \n\u001b[1;32m     32\u001b[0m \u001b[38;5;124;03m    Parameters\u001b[39;00m\n\u001b[0;32m   (...)\u001b[0m\n\u001b[1;32m     41\u001b[0m \u001b[38;5;124;03m        unpickled object\u001b[39;00m\n\u001b[1;32m     42\u001b[0m \u001b[38;5;124;03m    \"\"\"\u001b[39;00m\n",
      "\u001b[0;31mKeyboardInterrupt\u001b[0m: ",
      "\nThe above exception was the direct cause of the following exception:\n",
      "\u001b[0;31mSystemError\u001b[0m                               Traceback (most recent call last)",
      "\u001b[0;31mSystemError\u001b[0m: _PyEval_EvalFrameDefault returned a result with an error set",
      "\nThe above exception was the direct cause of the following exception:\n",
      "\u001b[0;31mSystemError\u001b[0m                               Traceback (most recent call last)",
      "Input \u001b[0;32mIn [15]\u001b[0m, in \u001b[0;36m<cell line: 1>\u001b[0;34m()\u001b[0m\n\u001b[0;32m----> 1\u001b[0m res \u001b[38;5;241m=\u001b[39m \u001b[43mcna_test\u001b[49m\u001b[43m(\u001b[49m\u001b[43mmeta\u001b[49m\u001b[43m,\u001b[49m\u001b[43m \u001b[49m\u001b[43mharmony\u001b[49m\u001b[43m,\u001b[49m\u001b[43m \u001b[49m\u001b[43mumap\u001b[49m\u001b[43m,\u001b[49m\u001b[43m \u001b[49m\u001b[38;5;124;43m'\u001b[39;49m\u001b[38;5;124;43mFinal_ISN_[V]\u001b[39;49m\u001b[38;5;124;43m'\u001b[39;49m\u001b[43m,\u001b[49m\u001b[43m \u001b[49m\n\u001b[1;32m      2\u001b[0m \u001b[43m               \u001b[49m\u001b[43mcovars\u001b[49m\u001b[43m \u001b[49m\u001b[38;5;241;43m=\u001b[39;49m\u001b[43m \u001b[49m\u001b[43m[\u001b[49m\u001b[38;5;124;43m'\u001b[39;49m\u001b[38;5;124;43mFinal_Activity\u001b[39;49m\u001b[38;5;124;43m'\u001b[39;49m\u001b[43m,\u001b[49m\u001b[43m \u001b[49m\n\u001b[1;32m      3\u001b[0m \u001b[43m                         \u001b[49m\u001b[38;5;124;43m'\u001b[39;49m\u001b[38;5;124;43mPred_use\u001b[39;49m\u001b[38;5;124;43m'\u001b[39;49m\u001b[43m,\u001b[49m\n\u001b[1;32m      4\u001b[0m \u001b[43m                         \u001b[49m\u001b[38;5;124;43m'\u001b[39;49m\u001b[38;5;124;43mRace_[A]\u001b[39;49m\u001b[38;5;124;43m'\u001b[39;49m\u001b[43m,\u001b[49m\n\u001b[1;32m      5\u001b[0m \u001b[43m                         \u001b[49m\u001b[38;5;124;43m'\u001b[39;49m\u001b[38;5;124;43mRace_[B]\u001b[39;49m\u001b[38;5;124;43m'\u001b[39;49m\u001b[43m,\u001b[49m\n\u001b[1;32m      6\u001b[0m \u001b[43m                         \u001b[49m\u001b[38;5;124;43m'\u001b[39;49m\u001b[38;5;124;43mRace_[W]\u001b[39;49m\u001b[38;5;124;43m'\u001b[39;49m\u001b[43m,\u001b[49m\n\u001b[1;32m      7\u001b[0m \u001b[43m                         \u001b[49m\u001b[38;5;124;43m'\u001b[39;49m\u001b[38;5;124;43mFirst_biop\u001b[39;49m\u001b[38;5;124;43m'\u001b[39;49m\u001b[43m,\u001b[49m\n\u001b[1;32m      8\u001b[0m \u001b[43m                         \u001b[49m\u001b[38;5;124;43m'\u001b[39;49m\u001b[38;5;124;43mFinal_Site_JHU\u001b[39;49m\u001b[38;5;124;43m'\u001b[39;49m\u001b[43m,\u001b[49m\n\u001b[1;32m      9\u001b[0m \u001b[43m                         \u001b[49m\u001b[38;5;124;43m'\u001b[39;49m\u001b[38;5;124;43mFinal_Site_NYU\u001b[39;49m\u001b[38;5;124;43m'\u001b[39;49m\u001b[43m,\u001b[49m\n\u001b[1;32m     10\u001b[0m \u001b[43m                         \u001b[49m\u001b[38;5;124;43m'\u001b[39;49m\u001b[38;5;124;43mAge\u001b[39;49m\u001b[38;5;124;43m'\u001b[39;49m\u001b[43m,\u001b[49m\u001b[43m \u001b[49m\u001b[38;5;124;43m'\u001b[39;49m\u001b[38;5;124;43mSex\u001b[39;49m\u001b[38;5;124;43m'\u001b[39;49m\u001b[43m]\u001b[49m\u001b[43m)\u001b[49m\n",
      "Input \u001b[0;32mIn [8]\u001b[0m, in \u001b[0;36mcna_test\u001b[0;34m(meta_df, harmony_df, umap_df, variable, covars)\u001b[0m\n\u001b[1;32m     29\u001b[0m umap_df\u001b[38;5;241m.\u001b[39mindex \u001b[38;5;241m=\u001b[39m cna_object\u001b[38;5;241m.\u001b[39mobs\u001b[38;5;241m.\u001b[39mindex\n\u001b[1;32m     30\u001b[0m cna_object\u001b[38;5;241m.\u001b[39mobsm[\u001b[38;5;124m'\u001b[39m\u001b[38;5;124mX_umap\u001b[39m\u001b[38;5;124m'\u001b[39m] \u001b[38;5;241m=\u001b[39m umap_df\n\u001b[0;32m---> 31\u001b[0m \u001b[43mcna\u001b[49m\u001b[38;5;241;43m.\u001b[39;49m\u001b[43mpp\u001b[49m\u001b[38;5;241;43m.\u001b[39;49m\u001b[43mknn\u001b[49m\u001b[43m(\u001b[49m\u001b[43mcna_object\u001b[49m\u001b[43m)\u001b[49m\n\u001b[1;32m     32\u001b[0m np\u001b[38;5;241m.\u001b[39mrandom\u001b[38;5;241m.\u001b[39mseed(\u001b[38;5;241m0\u001b[39m) \n\u001b[1;32m     33\u001b[0m final_res \u001b[38;5;241m=\u001b[39m run_cna(variable, cna_object, covs \u001b[38;5;241m=\u001b[39m covars)\n",
      "File \u001b[0;32m~/.conda/envs/plswork/lib/python3.9/site-packages/cna/preprocessing/_knn.py:5\u001b[0m, in \u001b[0;36mknn\u001b[0;34m(data)\u001b[0m\n\u001b[1;32m      3\u001b[0m \u001b[38;5;28;01mdef\u001b[39;00m \u001b[38;5;21mknn\u001b[39m(data):\n\u001b[1;32m      4\u001b[0m     \u001b[38;5;28mprint\u001b[39m(\u001b[38;5;124m'\u001b[39m\u001b[38;5;124mcomputing default knn graph\u001b[39m\u001b[38;5;124m'\u001b[39m)\n\u001b[0;32m----> 5\u001b[0m     \u001b[43msc\u001b[49m\u001b[38;5;241;43m.\u001b[39;49m\u001b[43mpp\u001b[49m\u001b[38;5;241;43m.\u001b[39;49m\u001b[43mneighbors\u001b[49m\u001b[43m(\u001b[49m\u001b[43mdata\u001b[49m\u001b[43m)\u001b[49m\n",
      "File \u001b[0;32m~/.conda/envs/plswork/lib/python3.9/site-packages/scanpy/neighbors/__init__.py:139\u001b[0m, in \u001b[0;36mneighbors\u001b[0;34m(adata, n_neighbors, n_pcs, use_rep, knn, random_state, method, metric, metric_kwds, key_added, copy)\u001b[0m\n\u001b[1;32m    137\u001b[0m     adata\u001b[38;5;241m.\u001b[39m_init_as_actual(adata\u001b[38;5;241m.\u001b[39mcopy())\n\u001b[1;32m    138\u001b[0m neighbors \u001b[38;5;241m=\u001b[39m Neighbors(adata)\n\u001b[0;32m--> 139\u001b[0m \u001b[43mneighbors\u001b[49m\u001b[38;5;241;43m.\u001b[39;49m\u001b[43mcompute_neighbors\u001b[49m\u001b[43m(\u001b[49m\n\u001b[1;32m    140\u001b[0m \u001b[43m    \u001b[49m\u001b[43mn_neighbors\u001b[49m\u001b[38;5;241;43m=\u001b[39;49m\u001b[43mn_neighbors\u001b[49m\u001b[43m,\u001b[49m\n\u001b[1;32m    141\u001b[0m \u001b[43m    \u001b[49m\u001b[43mknn\u001b[49m\u001b[38;5;241;43m=\u001b[39;49m\u001b[43mknn\u001b[49m\u001b[43m,\u001b[49m\n\u001b[1;32m    142\u001b[0m \u001b[43m    \u001b[49m\u001b[43mn_pcs\u001b[49m\u001b[38;5;241;43m=\u001b[39;49m\u001b[43mn_pcs\u001b[49m\u001b[43m,\u001b[49m\n\u001b[1;32m    143\u001b[0m \u001b[43m    \u001b[49m\u001b[43muse_rep\u001b[49m\u001b[38;5;241;43m=\u001b[39;49m\u001b[43muse_rep\u001b[49m\u001b[43m,\u001b[49m\n\u001b[1;32m    144\u001b[0m \u001b[43m    \u001b[49m\u001b[43mmethod\u001b[49m\u001b[38;5;241;43m=\u001b[39;49m\u001b[43mmethod\u001b[49m\u001b[43m,\u001b[49m\n\u001b[1;32m    145\u001b[0m \u001b[43m    \u001b[49m\u001b[43mmetric\u001b[49m\u001b[38;5;241;43m=\u001b[39;49m\u001b[43mmetric\u001b[49m\u001b[43m,\u001b[49m\n\u001b[1;32m    146\u001b[0m \u001b[43m    \u001b[49m\u001b[43mmetric_kwds\u001b[49m\u001b[38;5;241;43m=\u001b[39;49m\u001b[43mmetric_kwds\u001b[49m\u001b[43m,\u001b[49m\n\u001b[1;32m    147\u001b[0m \u001b[43m    \u001b[49m\u001b[43mrandom_state\u001b[49m\u001b[38;5;241;43m=\u001b[39;49m\u001b[43mrandom_state\u001b[49m\u001b[43m,\u001b[49m\n\u001b[1;32m    148\u001b[0m \u001b[43m\u001b[49m\u001b[43m)\u001b[49m\n\u001b[1;32m    150\u001b[0m \u001b[38;5;28;01mif\u001b[39;00m key_added \u001b[38;5;129;01mis\u001b[39;00m \u001b[38;5;28;01mNone\u001b[39;00m:\n\u001b[1;32m    151\u001b[0m     key_added \u001b[38;5;241m=\u001b[39m \u001b[38;5;124m'\u001b[39m\u001b[38;5;124mneighbors\u001b[39m\u001b[38;5;124m'\u001b[39m\n",
      "File \u001b[0;32m~/.conda/envs/plswork/lib/python3.9/site-packages/scanpy/neighbors/__init__.py:808\u001b[0m, in \u001b[0;36mNeighbors.compute_neighbors\u001b[0;34m(self, n_neighbors, knn, n_pcs, use_rep, method, random_state, write_knn_indices, metric, metric_kwds)\u001b[0m\n\u001b[1;32m    804\u001b[0m start_connect \u001b[38;5;241m=\u001b[39m logg\u001b[38;5;241m.\u001b[39mdebug(\u001b[38;5;124m'\u001b[39m\u001b[38;5;124mcomputed neighbors\u001b[39m\u001b[38;5;124m'\u001b[39m, time\u001b[38;5;241m=\u001b[39mstart_neighbors)\n\u001b[1;32m    805\u001b[0m \u001b[38;5;28;01mif\u001b[39;00m \u001b[38;5;129;01mnot\u001b[39;00m use_dense_distances \u001b[38;5;129;01mor\u001b[39;00m method \u001b[38;5;129;01min\u001b[39;00m {\u001b[38;5;124m'\u001b[39m\u001b[38;5;124mumap\u001b[39m\u001b[38;5;124m'\u001b[39m, \u001b[38;5;124m'\u001b[39m\u001b[38;5;124mrapids\u001b[39m\u001b[38;5;124m'\u001b[39m}:\n\u001b[1;32m    806\u001b[0m     \u001b[38;5;66;03m# we need self._distances also for method == 'gauss' if we didn't\u001b[39;00m\n\u001b[1;32m    807\u001b[0m     \u001b[38;5;66;03m# use dense distances\u001b[39;00m\n\u001b[0;32m--> 808\u001b[0m     \u001b[38;5;28mself\u001b[39m\u001b[38;5;241m.\u001b[39m_distances, \u001b[38;5;28mself\u001b[39m\u001b[38;5;241m.\u001b[39m_connectivities \u001b[38;5;241m=\u001b[39m \u001b[43m_compute_connectivities_umap\u001b[49m\u001b[43m(\u001b[49m\n\u001b[1;32m    809\u001b[0m \u001b[43m        \u001b[49m\u001b[43mknn_indices\u001b[49m\u001b[43m,\u001b[49m\n\u001b[1;32m    810\u001b[0m \u001b[43m        \u001b[49m\u001b[43mknn_distances\u001b[49m\u001b[43m,\u001b[49m\n\u001b[1;32m    811\u001b[0m \u001b[43m        \u001b[49m\u001b[38;5;28;43mself\u001b[39;49m\u001b[38;5;241;43m.\u001b[39;49m\u001b[43m_adata\u001b[49m\u001b[38;5;241;43m.\u001b[39;49m\u001b[43mshape\u001b[49m\u001b[43m[\u001b[49m\u001b[38;5;241;43m0\u001b[39;49m\u001b[43m]\u001b[49m\u001b[43m,\u001b[49m\n\u001b[1;32m    812\u001b[0m \u001b[43m        \u001b[49m\u001b[38;5;28;43mself\u001b[39;49m\u001b[38;5;241;43m.\u001b[39;49m\u001b[43mn_neighbors\u001b[49m\u001b[43m,\u001b[49m\n\u001b[1;32m    813\u001b[0m \u001b[43m    \u001b[49m\u001b[43m)\u001b[49m\n\u001b[1;32m    814\u001b[0m \u001b[38;5;66;03m# overwrite the umap connectivities if method is 'gauss'\u001b[39;00m\n\u001b[1;32m    815\u001b[0m \u001b[38;5;66;03m# self._distances is unaffected by this\u001b[39;00m\n\u001b[1;32m    816\u001b[0m \u001b[38;5;28;01mif\u001b[39;00m method \u001b[38;5;241m==\u001b[39m \u001b[38;5;124m'\u001b[39m\u001b[38;5;124mgauss\u001b[39m\u001b[38;5;124m'\u001b[39m:\n",
      "File \u001b[0;32m~/.conda/envs/plswork/lib/python3.9/site-packages/scanpy/neighbors/__init__.py:390\u001b[0m, in \u001b[0;36m_compute_connectivities_umap\u001b[0;34m(knn_indices, knn_dists, n_obs, n_neighbors, set_op_mix_ratio, local_connectivity)\u001b[0m\n\u001b[1;32m    387\u001b[0m     \u001b[38;5;28;01mfrom\u001b[39;00m \u001b[38;5;21;01mumap\u001b[39;00m\u001b[38;5;21;01m.\u001b[39;00m\u001b[38;5;21;01mumap_\u001b[39;00m \u001b[38;5;28;01mimport\u001b[39;00m fuzzy_simplicial_set\n\u001b[1;32m    389\u001b[0m X \u001b[38;5;241m=\u001b[39m coo_matrix(([], ([], [])), shape\u001b[38;5;241m=\u001b[39m(n_obs, \u001b[38;5;241m1\u001b[39m))\n\u001b[0;32m--> 390\u001b[0m connectivities \u001b[38;5;241m=\u001b[39m \u001b[43mfuzzy_simplicial_set\u001b[49m\u001b[43m(\u001b[49m\n\u001b[1;32m    391\u001b[0m \u001b[43m    \u001b[49m\u001b[43mX\u001b[49m\u001b[43m,\u001b[49m\n\u001b[1;32m    392\u001b[0m \u001b[43m    \u001b[49m\u001b[43mn_neighbors\u001b[49m\u001b[43m,\u001b[49m\n\u001b[1;32m    393\u001b[0m \u001b[43m    \u001b[49m\u001b[38;5;28;43;01mNone\u001b[39;49;00m\u001b[43m,\u001b[49m\n\u001b[1;32m    394\u001b[0m \u001b[43m    \u001b[49m\u001b[38;5;28;43;01mNone\u001b[39;49;00m\u001b[43m,\u001b[49m\n\u001b[1;32m    395\u001b[0m \u001b[43m    \u001b[49m\u001b[43mknn_indices\u001b[49m\u001b[38;5;241;43m=\u001b[39;49m\u001b[43mknn_indices\u001b[49m\u001b[43m,\u001b[49m\n\u001b[1;32m    396\u001b[0m \u001b[43m    \u001b[49m\u001b[43mknn_dists\u001b[49m\u001b[38;5;241;43m=\u001b[39;49m\u001b[43mknn_dists\u001b[49m\u001b[43m,\u001b[49m\n\u001b[1;32m    397\u001b[0m \u001b[43m    \u001b[49m\u001b[43mset_op_mix_ratio\u001b[49m\u001b[38;5;241;43m=\u001b[39;49m\u001b[43mset_op_mix_ratio\u001b[49m\u001b[43m,\u001b[49m\n\u001b[1;32m    398\u001b[0m \u001b[43m    \u001b[49m\u001b[43mlocal_connectivity\u001b[49m\u001b[38;5;241;43m=\u001b[39;49m\u001b[43mlocal_connectivity\u001b[49m\u001b[43m,\u001b[49m\n\u001b[1;32m    399\u001b[0m \u001b[43m\u001b[49m\u001b[43m)\u001b[49m\n\u001b[1;32m    401\u001b[0m \u001b[38;5;28;01mif\u001b[39;00m \u001b[38;5;28misinstance\u001b[39m(connectivities, \u001b[38;5;28mtuple\u001b[39m):\n\u001b[1;32m    402\u001b[0m     \u001b[38;5;66;03m# In umap-learn 0.4, this returns (result, sigmas, rhos)\u001b[39;00m\n\u001b[1;32m    403\u001b[0m     connectivities \u001b[38;5;241m=\u001b[39m connectivities[\u001b[38;5;241m0\u001b[39m]\n",
      "File \u001b[0;32m~/.conda/envs/plswork/lib/python3.9/site-packages/umap/umap_.py:575\u001b[0m, in \u001b[0;36mfuzzy_simplicial_set\u001b[0;34m(X, n_neighbors, random_state, metric, metric_kwds, knn_indices, knn_dists, angular, set_op_mix_ratio, local_connectivity, apply_set_operations, verbose, return_dists)\u001b[0m\n\u001b[1;32m    563\u001b[0m     knn_indices, knn_dists, _ \u001b[38;5;241m=\u001b[39m nearest_neighbors(\n\u001b[1;32m    564\u001b[0m         X,\n\u001b[1;32m    565\u001b[0m         n_neighbors,\n\u001b[0;32m   (...)\u001b[0m\n\u001b[1;32m    570\u001b[0m         verbose\u001b[38;5;241m=\u001b[39mverbose,\n\u001b[1;32m    571\u001b[0m     )\n\u001b[1;32m    573\u001b[0m knn_dists \u001b[38;5;241m=\u001b[39m knn_dists\u001b[38;5;241m.\u001b[39mastype(np\u001b[38;5;241m.\u001b[39mfloat32)\n\u001b[0;32m--> 575\u001b[0m sigmas, rhos \u001b[38;5;241m=\u001b[39m \u001b[43msmooth_knn_dist\u001b[49m\u001b[43m(\u001b[49m\n\u001b[1;32m    576\u001b[0m \u001b[43m    \u001b[49m\u001b[43mknn_dists\u001b[49m\u001b[43m,\u001b[49m\n\u001b[1;32m    577\u001b[0m \u001b[43m    \u001b[49m\u001b[38;5;28;43mfloat\u001b[39;49m\u001b[43m(\u001b[49m\u001b[43mn_neighbors\u001b[49m\u001b[43m)\u001b[49m\u001b[43m,\u001b[49m\n\u001b[1;32m    578\u001b[0m \u001b[43m    \u001b[49m\u001b[43mlocal_connectivity\u001b[49m\u001b[38;5;241;43m=\u001b[39;49m\u001b[38;5;28;43mfloat\u001b[39;49m\u001b[43m(\u001b[49m\u001b[43mlocal_connectivity\u001b[49m\u001b[43m)\u001b[49m\u001b[43m,\u001b[49m\n\u001b[1;32m    579\u001b[0m \u001b[43m\u001b[49m\u001b[43m)\u001b[49m\n\u001b[1;32m    581\u001b[0m rows, cols, vals, dists \u001b[38;5;241m=\u001b[39m compute_membership_strengths(\n\u001b[1;32m    582\u001b[0m     knn_indices, knn_dists, sigmas, rhos, return_dists\n\u001b[1;32m    583\u001b[0m )\n\u001b[1;32m    585\u001b[0m result \u001b[38;5;241m=\u001b[39m scipy\u001b[38;5;241m.\u001b[39msparse\u001b[38;5;241m.\u001b[39mcoo_matrix(\n\u001b[1;32m    586\u001b[0m     (vals, (rows, cols)), shape\u001b[38;5;241m=\u001b[39m(X\u001b[38;5;241m.\u001b[39mshape[\u001b[38;5;241m0\u001b[39m], X\u001b[38;5;241m.\u001b[39mshape[\u001b[38;5;241m0\u001b[39m])\n\u001b[1;32m    587\u001b[0m )\n",
      "\u001b[0;31mSystemError\u001b[0m: CPUDispatcher(<function smooth_knn_dist at 0x7fa7b89095e0>) returned a result with an error set"
     ]
    }
   ],
   "source": [
    "res = cna_test(meta, harmony, umap, 'Final_ISN_[V]', \n",
    "               covars = ['Final_Activity', \n",
    "                         'Pred_use',\n",
    "                         'Race_[A]',\n",
    "                         'Race_[B]',\n",
    "                         'Race_[W]',\n",
    "                         'First_biop',\n",
    "                         'Final_Site_JHU',\n",
    "                         'Final_Site_NYU',\n",
    "                         'Age', 'Sex'])"
   ]
  },
  {
   "cell_type": "code",
   "execution_count": null,
   "id": "acbb4c98-a91a-4adf-9d6f-84f99732a513",
   "metadata": {},
   "outputs": [],
   "source": [
    "np.savetxt(\"/data/srlab/ssg34/SLE_kidney_v2/data/pbmc/isn/cond_class_5_ncorr.csv\", \n",
    "               res.ncorrs, delimiter=\",\")\n",
    "np.savetxt(\"/data/srlab/ssg34/SLE_kidney_v2/data/pbmc/isn/cond_class_5_fdrs.csv\", \n",
    "               res.fdrs, delimiter=\",\")"
   ]
  },
  {
   "cell_type": "markdown",
   "id": "ad286350-01f8-4d62-aa5c-f0375dd2173d",
   "metadata": {},
   "source": [
    "## INJURED PT"
   ]
  },
  {
   "cell_type": "code",
   "execution_count": 133,
   "id": "c3d61689-30df-4aa9-b4de-b74bd5576112",
   "metadata": {},
   "outputs": [
    {
     "name": "stdout",
     "output_type": "stream",
     "text": [
      "(37309, 41)\n"
     ]
    }
   ],
   "source": [
    "meta = pd.read_csv('/data/srlab/ssg34/SLE_kidney_v2/data/pbmc/injured_pt/meta.csv')\n",
    "print(meta.shape)"
   ]
  },
  {
   "cell_type": "markdown",
   "id": "9902c699-1560-4a61-ba5f-ce92efcc11c0",
   "metadata": {},
   "source": [
    "# T/NK Cells"
   ]
  },
  {
   "cell_type": "code",
   "execution_count": 1,
   "id": "d208614d-4b96-4a99-85aa-6705e9756f75",
   "metadata": {},
   "outputs": [],
   "source": [
    "t_nk_uni = dict()\n",
    "t_nk_cond = dict() "
   ]
  },
  {
   "cell_type": "markdown",
   "id": "a563f5c5-8780-4738-bf58-3201a24e2087",
   "metadata": {},
   "source": [
    "## CASE/CONTROL"
   ]
  },
  {
   "cell_type": "code",
   "execution_count": 2,
   "id": "786e20d7-687a-4061-a714-ae23d4559bfe",
   "metadata": {},
   "outputs": [
    {
     "name": "stdout",
     "output_type": "stream",
     "text": [
      "(164106, 25)\n"
     ]
    },
    {
     "name": "stderr",
     "output_type": "stream",
     "text": [
      "/tmp/ipykernel_33176/1230513292.py:1: DtypeWarning: Columns (11) have mixed types. Specify dtype option on import or set low_memory=False.\n",
      "  meta = pd.read_csv('/data/srlab/ssg34/SLE_kidney_v2/data/pbmc/t_nk/case_control/meta.csv')\n"
     ]
    }
   ],
   "source": [
    "meta = pd.read_csv('/data/srlab/ssg34/SLE_kidney_v2/data/pbmc/t_nk/case_control/meta.csv')\n",
    "print(meta.shape)"
   ]
  },
  {
   "cell_type": "code",
   "execution_count": 3,
   "id": "f9f9a7b8-012d-4a95-97d6-3db30c3cd1e3",
   "metadata": {},
   "outputs": [
    {
     "name": "stdout",
     "output_type": "stream",
     "text": [
      "(164106, 20)\n"
     ]
    }
   ],
   "source": [
    "harmony = pd.read_csv('/data/srlab/ssg34/SLE_kidney_v2/data/pbmc/t_nk/case_control/harmony.csv')\n",
    "print(harmony.shape)"
   ]
  },
  {
   "cell_type": "code",
   "execution_count": 18,
   "id": "d3caca66-96c1-4bce-af53-de1785d1c8ad",
   "metadata": {},
   "outputs": [
    {
     "name": "stdout",
     "output_type": "stream",
     "text": [
      "(164106, 2)\n"
     ]
    }
   ],
   "source": [
    "umap = pd.read_csv('/data/srlab/ssg34/SLE_kidney_v2/data/pbmc/t_nk/case_control/umap.csv')\n",
    "print(umap.shape)"
   ]
  },
  {
   "cell_type": "code",
   "execution_count": 19,
   "id": "46985a2c-1d69-4187-8dea-a06a68925a45",
   "metadata": {},
   "outputs": [
    {
     "name": "stderr",
     "output_type": "stream",
     "text": [
      "/PHShome/ssg34/.conda/envs/plswork/lib/python3.9/site-packages/multianndata/core.py:17: FutureWarning: X.dtype being converted to np.float32 from float64. In the next version of anndata (0.9) conversion will not be automatic. Pass dtype explicitly to avoid this warning. Pass `AnnData(X, dtype=X.dtype, ...)` to get the future behavour.\n",
      "  super().__init__(*args, **kwargs)\n",
      "/PHShome/ssg34/.conda/envs/plswork/lib/python3.9/site-packages/anndata/_core/anndata.py:121: ImplicitModificationWarning: Transforming to str index.\n",
      "  warnings.warn(\"Transforming to str index.\", ImplicitModificationWarning)\n"
     ]
    },
    {
     "name": "stdout",
     "output_type": "stream",
     "text": [
      "warning: the following columns of obs are non-numeric.\n",
      "['orig.ident' 'BARCODE' 'SNG.1ST' 'Cell' 'Scrublet_Sample'\n",
      " 'doublet_prediction' 'Unified_Visit' 'Donor' 'cell.type.ids' 'broad.ids'\n",
      " 'mono.ids']\n",
      "consider casting to numeric types where appropriate, and\n",
      "consider re-coding text-valued columns with pandas.get_dummies\n"
     ]
    },
    {
     "data": {
      "text/html": [
       "<div>\n",
       "<style scoped>\n",
       "    .dataframe tbody tr th:only-of-type {\n",
       "        vertical-align: middle;\n",
       "    }\n",
       "\n",
       "    .dataframe tbody tr th {\n",
       "        vertical-align: top;\n",
       "    }\n",
       "\n",
       "    .dataframe thead th {\n",
       "        text-align: right;\n",
       "    }\n",
       "</style>\n",
       "<table border=\"1\" class=\"dataframe\">\n",
       "  <thead>\n",
       "    <tr style=\"text-align: right;\">\n",
       "      <th></th>\n",
       "      <th>Type</th>\n",
       "    </tr>\n",
       "    <tr>\n",
       "      <th>Unified_Visit</th>\n",
       "      <th></th>\n",
       "    </tr>\n",
       "  </thead>\n",
       "  <tbody>\n",
       "    <tr>\n",
       "      <th>200-2741-V0</th>\n",
       "      <td>1.0</td>\n",
       "    </tr>\n",
       "    <tr>\n",
       "      <th>200-1137-V0</th>\n",
       "      <td>1.0</td>\n",
       "    </tr>\n",
       "    <tr>\n",
       "      <th>200-1157-V0</th>\n",
       "      <td>1.0</td>\n",
       "    </tr>\n",
       "    <tr>\n",
       "      <th>200-1152-V0</th>\n",
       "      <td>1.0</td>\n",
       "    </tr>\n",
       "    <tr>\n",
       "      <th>200-2729-V0</th>\n",
       "      <td>1.0</td>\n",
       "    </tr>\n",
       "  </tbody>\n",
       "</table>\n",
       "</div>"
      ],
      "text/plain": [
       "               Type\n",
       "Unified_Visit      \n",
       "200-2741-V0     1.0\n",
       "200-1137-V0     1.0\n",
       "200-1157-V0     1.0\n",
       "200-1152-V0     1.0\n",
       "200-2729-V0     1.0"
      ]
     },
     "execution_count": 19,
     "metadata": {},
     "output_type": "execute_result"
    }
   ],
   "source": [
    "# Start by making anndata object\n",
    "d = mad.MultiAnnData(X=harmony, obs=meta, sampleid=\"Unified_Visit\")\n",
    "#d.obs_to_sample(['Type', 'Site',\n",
    "#                 'Responder_Status', 'Sex',\n",
    "#                 'Age', 'Race',\n",
    "#                'Ethnicity', 'ISN',\n",
    "#               'Activity', \"Chronicity\",\n",
    "#                 'processing_batch'])\n",
    "d.obs_to_sample(['Type'])\n",
    "d.samplem.head()"
   ]
  },
  {
   "cell_type": "code",
   "execution_count": 20,
   "id": "938894ea-4acc-4cb7-b118-89feb1cc032c",
   "metadata": {},
   "outputs": [],
   "source": [
    "umap.index = d.obs.index\n",
    "d.obsm['X_umap'] = umap"
   ]
  },
  {
   "cell_type": "code",
   "execution_count": 21,
   "id": "e89b903a-4b69-4819-b3b1-000409d6f7c1",
   "metadata": {},
   "outputs": [
    {
     "name": "stdout",
     "output_type": "stream",
     "text": [
      "computing default knn graph\n"
     ]
    }
   ],
   "source": [
    "np.random.seed(0) \n",
    "cna.pp.knn(d)"
   ]
  },
  {
   "cell_type": "code",
   "execution_count": 22,
   "id": "d04694e3-5453-43ee-9535-a36e28978259",
   "metadata": {},
   "outputs": [
    {
     "name": "stdout",
     "output_type": "stream",
     "text": [
      "qcd NAM not found; computing and saving\n",
      "\ttaking step 1\n",
      "\tmedian kurtosis: 35.9001350402832\n",
      "\t20th percentile R2(t,t-1): nan\n",
      "\ttaking step 2\n",
      "\tmedian kurtosis: 24.645586013793945\n",
      "\t20th percentile R2(t,t-1): 0.7423223733901978\n",
      "\ttaking step 3\n",
      "\tmedian kurtosis: 14.873880386352539\n",
      "\t20th percentile R2(t,t-1): 0.8968681335449219\n",
      "\ttaking step 4\n",
      "\tmedian kurtosis: 9.713356494903564\n",
      "\t20th percentile R2(t,t-1): 0.9374328970909118\n",
      "\ttaking step 5\n",
      "\tmedian kurtosis: 6.997939586639404\n",
      "\t20th percentile R2(t,t-1): 0.9604845881462097\n",
      "stopping after 5 steps\n",
      "covariate-adjusted NAM not found; computing and saving\n"
     ]
    },
    {
     "name": "stderr",
     "output_type": "stream",
     "text": [
      "/PHShome/ssg34/.conda/envs/plswork/lib/python3.9/site-packages/cna/tools/_nam.py:79: UserWarning: only one unique batch supplied to qc\n",
      "  warnings.warn('only one unique batch supplied to qc')\n",
      "/PHShome/ssg34/.conda/envs/plswork/lib/python3.9/site-packages/cna/tools/_nam.py:101: UserWarning: only one unique batch supplied to prep\n",
      "  warnings.warn('only one unique batch supplied to prep')\n"
     ]
    },
    {
     "name": "stdout",
     "output_type": "stream",
     "text": [
      "computing SVD\n",
      "performing association test\n"
     ]
    },
    {
     "name": "stderr",
     "output_type": "stream",
     "text": [
      "/PHShome/ssg34/.conda/envs/plswork/lib/python3.9/site-packages/cna/tools/_association.py:74: UserWarning: global association p-value attained minimal possible value. Consider increasing Nnull\n",
      "  warnings.warn('global association p-value attained minimal possible value. '+\\\n"
     ]
    },
    {
     "name": "stdout",
     "output_type": "stream",
     "text": [
      "computing neighborhood-level FDRs\n",
      "8\n",
      "[1, 2, 3, 4, 5, 6, 7, 8, 9, 10, 11, 12, 13, 14, 15, 16, 17, 18, 19, 20]\n",
      "p = 9.999000099990002e-05 , 8 PCs used\n",
      "total r^2 between top 8 NAM PCs and outcome is 0.47\n"
     ]
    }
   ],
   "source": [
    "np.random.seed(0) \n",
    "res = cna.tl._association.association(d, #dataset \n",
    "                                      d.samplem.Type, #phenotype\n",
    "#                                       batches=d.samplem.processing_batch, #batches\n",
    "                                      Nnull=10000, # number of null permutations to do (defaults to only 1e3)\n",
    "                                      ks=[1,2,3,4,5,6,7,8,9,10,11,12,13,14,15,16,17,18,19,20] # I asked the method to consider up to 10 PCs because\n",
    "                                                                #it chose the max number of PCs it considered the default set of [1,2,3,4]\n",
    "                                     )\n",
    "print(res.k)\n",
    "print(res.ks)\n",
    "print('p =', res.p, ',', res.k, 'PCs used')\n",
    "print('total r^2 between top {} NAM PCs and outcome is {:.2f}'.format(res.k, res.r2))"
   ]
  },
  {
   "cell_type": "code",
   "execution_count": 23,
   "id": "e8488552-1274-49d9-b8e2-57ba46c1e9a6",
   "metadata": {},
   "outputs": [],
   "source": [
    "np.savetxt(\"/data/srlab/ssg34/SLE_kidney_v2/data/pbmc/t_nk/case_control/ncorr.csv\", \n",
    "               res.ncorrs, delimiter=\",\")\n",
    "np.savetxt(\"/data/srlab/ssg34/SLE_kidney_v2/data/pbmc/t_nk/case_control/fdrs.csv\", \n",
    "               res.fdrs, delimiter=\",\")"
   ]
  },
  {
   "cell_type": "markdown",
   "id": "af413b4a-0bea-4d6c-b962-3c87ac519847",
   "metadata": {},
   "source": [
    "## RESPONSE"
   ]
  },
  {
   "cell_type": "code",
   "execution_count": 4,
   "id": "d8449029-fa2d-4860-b624-712db5daf733",
   "metadata": {},
   "outputs": [
    {
     "name": "stdout",
     "output_type": "stream",
     "text": [
      "(108534, 37)\n"
     ]
    }
   ],
   "source": [
    "meta = pd.read_csv('/data/srlab/ssg34/SLE_kidney_v2/data/pbmc/t_nk/response/meta.csv')\n",
    "print(meta.shape)"
   ]
  },
  {
   "cell_type": "code",
   "execution_count": 5,
   "id": "ce93fc90-c4c9-42d3-b0c8-4e837d775917",
   "metadata": {},
   "outputs": [
    {
     "name": "stdout",
     "output_type": "stream",
     "text": [
      "(108534, 20)\n"
     ]
    }
   ],
   "source": [
    "harmony = pd.read_csv('/data/srlab/ssg34/SLE_kidney_v2/data/pbmc/t_nk/response/harmony.csv')\n",
    "print(harmony.shape)"
   ]
  },
  {
   "cell_type": "code",
   "execution_count": 6,
   "id": "5af6b5ae-7a4f-49bc-8688-4c242f2ed24c",
   "metadata": {},
   "outputs": [
    {
     "name": "stdout",
     "output_type": "stream",
     "text": [
      "(108534, 2)\n"
     ]
    }
   ],
   "source": [
    "umap = pd.read_csv('/data/srlab/ssg34/SLE_kidney_v2/data/pbmc/t_nk/response/umap.csv')\n",
    "print(umap.shape)"
   ]
  },
  {
   "cell_type": "code",
   "execution_count": 7,
   "id": "d0109e79-f788-4cda-a87f-4c9f4e1997fb",
   "metadata": {},
   "outputs": [
    {
     "name": "stderr",
     "output_type": "stream",
     "text": [
      "/PHShome/ssg34/.conda/envs/plswork/lib/python3.9/site-packages/multianndata/core.py:17: FutureWarning: X.dtype being converted to np.float32 from float64. In the next version of anndata (0.9) conversion will not be automatic. Pass dtype explicitly to avoid this warning. Pass `AnnData(X, dtype=X.dtype, ...)` to get the future behavour.\n",
      "  super().__init__(*args, **kwargs)\n",
      "/PHShome/ssg34/.conda/envs/plswork/lib/python3.9/site-packages/anndata/_core/anndata.py:121: ImplicitModificationWarning: Transforming to str index.\n",
      "  warnings.warn(\"Transforming to str index.\", ImplicitModificationWarning)\n"
     ]
    },
    {
     "name": "stdout",
     "output_type": "stream",
     "text": [
      "warning: the following columns of obs are non-numeric.\n",
      "['Cell' 'BARCODE' 'cell.type.ids' 'Unified_Visit' 'AMP.Subject_ID'\n",
      " 'Responder.Status' 'Race' 'Final_ISN' 'Type' 'Final_Site']\n",
      "consider casting to numeric types where appropriate, and\n",
      "consider re-coding text-valued columns with pandas.get_dummies\n"
     ]
    },
    {
     "data": {
      "text/html": [
       "<div>\n",
       "<style scoped>\n",
       "    .dataframe tbody tr th:only-of-type {\n",
       "        vertical-align: middle;\n",
       "    }\n",
       "\n",
       "    .dataframe tbody tr th {\n",
       "        vertical-align: top;\n",
       "    }\n",
       "\n",
       "    .dataframe thead th {\n",
       "        text-align: right;\n",
       "    }\n",
       "</style>\n",
       "<table border=\"1\" class=\"dataframe\">\n",
       "  <thead>\n",
       "    <tr style=\"text-align: right;\">\n",
       "      <th></th>\n",
       "      <th>Sex</th>\n",
       "      <th>Age</th>\n",
       "      <th>Final_Chronicity</th>\n",
       "      <th>Final_Activity</th>\n",
       "      <th>First_biop</th>\n",
       "      <th>Pred_use</th>\n",
       "      <th>Responder_Status</th>\n",
       "      <th>Race_[A]</th>\n",
       "      <th>Race_[A][B]</th>\n",
       "      <th>Race_[B]</th>\n",
       "      <th>...</th>\n",
       "      <th>Final_ISN_[IV][V]</th>\n",
       "      <th>Final_ISN_[V]</th>\n",
       "      <th>Final_Site_Einstein</th>\n",
       "      <th>Final_Site_JHU</th>\n",
       "      <th>Final_Site_Michigan</th>\n",
       "      <th>Final_Site_MUSC</th>\n",
       "      <th>Final_Site_NYU</th>\n",
       "      <th>Final_Site_Rochester</th>\n",
       "      <th>Final_Site_Texas Tech</th>\n",
       "      <th>Final_Site_UCSF</th>\n",
       "    </tr>\n",
       "    <tr>\n",
       "      <th>Unified_Visit</th>\n",
       "      <th></th>\n",
       "      <th></th>\n",
       "      <th></th>\n",
       "      <th></th>\n",
       "      <th></th>\n",
       "      <th></th>\n",
       "      <th></th>\n",
       "      <th></th>\n",
       "      <th></th>\n",
       "      <th></th>\n",
       "      <th></th>\n",
       "      <th></th>\n",
       "      <th></th>\n",
       "      <th></th>\n",
       "      <th></th>\n",
       "      <th></th>\n",
       "      <th></th>\n",
       "      <th></th>\n",
       "      <th></th>\n",
       "      <th></th>\n",
       "      <th></th>\n",
       "    </tr>\n",
       "  </thead>\n",
       "  <tbody>\n",
       "    <tr>\n",
       "      <th>200-2741-V0</th>\n",
       "      <td>1.0</td>\n",
       "      <td>1.448904</td>\n",
       "      <td>8.0</td>\n",
       "      <td>0.0</td>\n",
       "      <td>0.0</td>\n",
       "      <td>0.0</td>\n",
       "      <td>0.0</td>\n",
       "      <td>0.0</td>\n",
       "      <td>0.0</td>\n",
       "      <td>1.0</td>\n",
       "      <td>...</td>\n",
       "      <td>0.0</td>\n",
       "      <td>1.0</td>\n",
       "      <td>0.0</td>\n",
       "      <td>1.0</td>\n",
       "      <td>0.0</td>\n",
       "      <td>0.0</td>\n",
       "      <td>0.0</td>\n",
       "      <td>0.0</td>\n",
       "      <td>0.0</td>\n",
       "      <td>0.0</td>\n",
       "    </tr>\n",
       "    <tr>\n",
       "      <th>200-1137-V0</th>\n",
       "      <td>1.0</td>\n",
       "      <td>3.023506</td>\n",
       "      <td>3.0</td>\n",
       "      <td>5.0</td>\n",
       "      <td>1.0</td>\n",
       "      <td>1.0</td>\n",
       "      <td>2.0</td>\n",
       "      <td>0.0</td>\n",
       "      <td>0.0</td>\n",
       "      <td>0.0</td>\n",
       "      <td>...</td>\n",
       "      <td>0.0</td>\n",
       "      <td>0.0</td>\n",
       "      <td>0.0</td>\n",
       "      <td>0.0</td>\n",
       "      <td>0.0</td>\n",
       "      <td>0.0</td>\n",
       "      <td>1.0</td>\n",
       "      <td>0.0</td>\n",
       "      <td>0.0</td>\n",
       "      <td>0.0</td>\n",
       "    </tr>\n",
       "    <tr>\n",
       "      <th>200-1240-V0</th>\n",
       "      <td>1.0</td>\n",
       "      <td>-0.912999</td>\n",
       "      <td>0.0</td>\n",
       "      <td>5.0</td>\n",
       "      <td>1.0</td>\n",
       "      <td>1.0</td>\n",
       "      <td>1.0</td>\n",
       "      <td>0.0</td>\n",
       "      <td>0.0</td>\n",
       "      <td>1.0</td>\n",
       "      <td>...</td>\n",
       "      <td>0.0</td>\n",
       "      <td>0.0</td>\n",
       "      <td>0.0</td>\n",
       "      <td>1.0</td>\n",
       "      <td>0.0</td>\n",
       "      <td>0.0</td>\n",
       "      <td>0.0</td>\n",
       "      <td>0.0</td>\n",
       "      <td>0.0</td>\n",
       "      <td>0.0</td>\n",
       "    </tr>\n",
       "    <tr>\n",
       "      <th>200-1157-V0</th>\n",
       "      <td>1.0</td>\n",
       "      <td>0.582873</td>\n",
       "      <td>2.0</td>\n",
       "      <td>8.0</td>\n",
       "      <td>0.0</td>\n",
       "      <td>1.0</td>\n",
       "      <td>2.0</td>\n",
       "      <td>0.0</td>\n",
       "      <td>0.0</td>\n",
       "      <td>0.0</td>\n",
       "      <td>...</td>\n",
       "      <td>0.0</td>\n",
       "      <td>0.0</td>\n",
       "      <td>0.0</td>\n",
       "      <td>0.0</td>\n",
       "      <td>0.0</td>\n",
       "      <td>0.0</td>\n",
       "      <td>1.0</td>\n",
       "      <td>0.0</td>\n",
       "      <td>0.0</td>\n",
       "      <td>0.0</td>\n",
       "    </tr>\n",
       "    <tr>\n",
       "      <th>200-1152-V0</th>\n",
       "      <td>1.0</td>\n",
       "      <td>0.425413</td>\n",
       "      <td>0.0</td>\n",
       "      <td>1.0</td>\n",
       "      <td>1.0</td>\n",
       "      <td>1.0</td>\n",
       "      <td>2.0</td>\n",
       "      <td>1.0</td>\n",
       "      <td>0.0</td>\n",
       "      <td>0.0</td>\n",
       "      <td>...</td>\n",
       "      <td>0.0</td>\n",
       "      <td>0.0</td>\n",
       "      <td>0.0</td>\n",
       "      <td>0.0</td>\n",
       "      <td>0.0</td>\n",
       "      <td>0.0</td>\n",
       "      <td>1.0</td>\n",
       "      <td>0.0</td>\n",
       "      <td>0.0</td>\n",
       "      <td>0.0</td>\n",
       "    </tr>\n",
       "  </tbody>\n",
       "</table>\n",
       "<p>5 rows × 26 columns</p>\n",
       "</div>"
      ],
      "text/plain": [
       "               Sex       Age  Final_Chronicity  Final_Activity  First_biop  \\\n",
       "Unified_Visit                                                                \n",
       "200-2741-V0    1.0  1.448904               8.0             0.0         0.0   \n",
       "200-1137-V0    1.0  3.023506               3.0             5.0         1.0   \n",
       "200-1240-V0    1.0 -0.912999               0.0             5.0         1.0   \n",
       "200-1157-V0    1.0  0.582873               2.0             8.0         0.0   \n",
       "200-1152-V0    1.0  0.425413               0.0             1.0         1.0   \n",
       "\n",
       "               Pred_use  Responder_Status  Race_[A]  Race_[A][B]  Race_[B]  \\\n",
       "Unified_Visit                                                                \n",
       "200-2741-V0         0.0               0.0       0.0          0.0       1.0   \n",
       "200-1137-V0         1.0               2.0       0.0          0.0       0.0   \n",
       "200-1240-V0         1.0               1.0       0.0          0.0       1.0   \n",
       "200-1157-V0         1.0               2.0       0.0          0.0       0.0   \n",
       "200-1152-V0         1.0               2.0       1.0          0.0       0.0   \n",
       "\n",
       "               ...  Final_ISN_[IV][V]  Final_ISN_[V]  Final_Site_Einstein  \\\n",
       "Unified_Visit  ...                                                          \n",
       "200-2741-V0    ...                0.0            1.0                  0.0   \n",
       "200-1137-V0    ...                0.0            0.0                  0.0   \n",
       "200-1240-V0    ...                0.0            0.0                  0.0   \n",
       "200-1157-V0    ...                0.0            0.0                  0.0   \n",
       "200-1152-V0    ...                0.0            0.0                  0.0   \n",
       "\n",
       "               Final_Site_JHU  Final_Site_Michigan  Final_Site_MUSC  \\\n",
       "Unified_Visit                                                         \n",
       "200-2741-V0               1.0                  0.0              0.0   \n",
       "200-1137-V0               0.0                  0.0              0.0   \n",
       "200-1240-V0               1.0                  0.0              0.0   \n",
       "200-1157-V0               0.0                  0.0              0.0   \n",
       "200-1152-V0               0.0                  0.0              0.0   \n",
       "\n",
       "               Final_Site_NYU  Final_Site_Rochester  Final_Site_Texas Tech  \\\n",
       "Unified_Visit                                                                \n",
       "200-2741-V0               0.0                   0.0                    0.0   \n",
       "200-1137-V0               1.0                   0.0                    0.0   \n",
       "200-1240-V0               0.0                   0.0                    0.0   \n",
       "200-1157-V0               1.0                   0.0                    0.0   \n",
       "200-1152-V0               1.0                   0.0                    0.0   \n",
       "\n",
       "               Final_Site_UCSF  \n",
       "Unified_Visit                   \n",
       "200-2741-V0                0.0  \n",
       "200-1137-V0                0.0  \n",
       "200-1240-V0                0.0  \n",
       "200-1157-V0                0.0  \n",
       "200-1152-V0                0.0  \n",
       "\n",
       "[5 rows x 26 columns]"
      ]
     },
     "execution_count": 7,
     "metadata": {},
     "output_type": "execute_result"
    }
   ],
   "source": [
    "# Start by making anndata object\n",
    "d = mad.MultiAnnData(X=harmony, obs=meta, sampleid=\"Unified_Visit\")\n",
    "#d.obs_to_sample(['Type', 'Site',\n",
    "#                 'Responder_Status', 'Sex',\n",
    "#                 'Age', 'Race',\n",
    "#                'Ethnicity', 'ISN',\n",
    "#               'Activity', \"Chronicity\",\n",
    "#                 'processing_batch'])\n",
    "d.obs_to_sample(['Sex', 'Age', 'Final_Chronicity', 'Final_Activity', 'First_biop', 'Pred_use', 'Responder_Status', 'Race_[A]',\n",
    "       'Race_[A][B]', 'Race_[B]', 'Race_[B][AI]', 'Race_[U]',\n",
    "       'Race_[W]', 'Final_ISN_[III]', 'Final_ISN_[III][V]', 'Final_ISN_[IV]',\n",
    "       'Final_ISN_[IV][V]', 'Final_ISN_[V]', \n",
    "       'Final_Site_Einstein', 'Final_Site_JHU', 'Final_Site_Michigan',\n",
    "       'Final_Site_MUSC', 'Final_Site_NYU',\n",
    "       'Final_Site_Rochester', 'Final_Site_Texas Tech', \n",
    "       'Final_Site_UCSF', 'Responder_Status'])\n",
    "d.samplem.head()"
   ]
  },
  {
   "cell_type": "code",
   "execution_count": 8,
   "id": "fea54c34-9225-494c-8b4b-9a7984486a8e",
   "metadata": {},
   "outputs": [],
   "source": [
    "umap.index = d.obs.index\n",
    "d.obsm['X_umap'] = umap"
   ]
  },
  {
   "cell_type": "code",
   "execution_count": 9,
   "id": "7b6e15e1-5d6b-402b-9bc2-eeed6f7e8223",
   "metadata": {},
   "outputs": [
    {
     "name": "stdout",
     "output_type": "stream",
     "text": [
      "computing default knn graph\n"
     ]
    },
    {
     "name": "stderr",
     "output_type": "stream",
     "text": [
      "/PHShome/ssg34/.conda/envs/plswork/lib/python3.9/site-packages/tqdm/auto.py:22: TqdmWarning: IProgress not found. Please update jupyter and ipywidgets. See https://ipywidgets.readthedocs.io/en/stable/user_install.html\n",
      "  from .autonotebook import tqdm as notebook_tqdm\n"
     ]
    }
   ],
   "source": [
    "np.random.seed(0) \n",
    "cna.pp.knn(d)"
   ]
  },
  {
   "cell_type": "code",
   "execution_count": 10,
   "id": "86ca59ca-8000-4b65-b0d6-4ec47193d102",
   "metadata": {},
   "outputs": [
    {
     "name": "stdout",
     "output_type": "stream",
     "text": [
      "qcd NAM not found; computing and saving\n",
      "\ttaking step 1\n",
      "\tmedian kurtosis: 25.24092674255371\n",
      "\t20th percentile R2(t,t-1): nan\n",
      "\ttaking step 2\n",
      "\tmedian kurtosis: 17.07674789428711\n",
      "\t20th percentile R2(t,t-1): 0.7470940589904785\n",
      "\ttaking step 3\n",
      "\tmedian kurtosis: 10.647568225860596\n",
      "\t20th percentile R2(t,t-1): 0.8990102291107178\n",
      "\ttaking step 4\n",
      "\tmedian kurtosis: 7.400661945343018\n",
      "\t20th percentile R2(t,t-1): 0.9412572026252747\n",
      "\ttaking step 5\n",
      "\tmedian kurtosis: 5.749207496643066\n",
      "\t20th percentile R2(t,t-1): 0.965095603466034\n",
      "stopping after 5 steps\n",
      "covariate-adjusted NAM not found; computing and saving\n"
     ]
    },
    {
     "name": "stderr",
     "output_type": "stream",
     "text": [
      "/PHShome/ssg34/.conda/envs/plswork/lib/python3.9/site-packages/cna/tools/_nam.py:79: UserWarning: only one unique batch supplied to qc\n",
      "  warnings.warn('only one unique batch supplied to qc')\n",
      "/PHShome/ssg34/.conda/envs/plswork/lib/python3.9/site-packages/cna/tools/_nam.py:101: UserWarning: only one unique batch supplied to prep\n",
      "  warnings.warn('only one unique batch supplied to prep')\n"
     ]
    },
    {
     "name": "stdout",
     "output_type": "stream",
     "text": [
      "computing SVD\n",
      "performing association test\n"
     ]
    },
    {
     "name": "stderr",
     "output_type": "stream",
     "text": [
      "/PHShome/ssg34/.conda/envs/plswork/lib/python3.9/site-packages/cna/tools/_association.py:57: UserWarning: data supported use of 20 NAM PCs, which is the maximum considered. Consider allowing more PCs by using the \"ks\" argument.\n",
      "  warnings.warn(('data supported use of {} NAM PCs, which is the maximum considered. '+\\\n"
     ]
    },
    {
     "name": "stdout",
     "output_type": "stream",
     "text": [
      "computing neighborhood-level FDRs\n",
      "20\n",
      "[1, 2, 3, 4, 5, 6, 7, 8, 9, 10, 11, 12, 13, 14, 15, 16, 17, 18, 19, 20]\n",
      "p = 0.5565443455654434 , 20 PCs used\n",
      "total r^2 between top 20 NAM PCs and outcome is 0.23\n"
     ]
    }
   ],
   "source": [
    "np.random.seed(0) \n",
    "res = cna.tl._association.association(d, #dataset \n",
    "                                      d.samplem.Responder_Status, #phenotype\n",
    "#                                       batches=d.samplem.processing_batch, #batches\n",
    "                                      Nnull=10000, # number of null permutations to do (defaults to only 1e3)\n",
    "                                      ks=[1,2,3,4,5,6,7,8,9,10,11,12,13,14,15,16,17,18,19,20] # I asked the method to consider up to 10 PCs because\n",
    "                                                                #it chose the max number of PCs it considered the default set of [1,2,3,4]\n",
    "                                     )\n",
    "print(res.k)\n",
    "print(res.ks)\n",
    "print('p =', res.p, ',', res.k, 'PCs used')\n",
    "print('total r^2 between top {} NAM PCs and outcome is {:.2f}'.format(res.k, res.r2))"
   ]
  },
  {
   "cell_type": "code",
   "execution_count": 11,
   "id": "af1a68e3-903e-4637-80a6-83919394d4a2",
   "metadata": {},
   "outputs": [],
   "source": [
    "t_nk_uni['Responder.Status'] = res.p"
   ]
  },
  {
   "cell_type": "code",
   "execution_count": 30,
   "id": "7d901f63-fa12-4f01-ac47-c14e252f3f28",
   "metadata": {},
   "outputs": [],
   "source": [
    "t_nk_cond['Responder.Status'] = \"NA\""
   ]
  },
  {
   "cell_type": "markdown",
   "id": "e7353304-3b25-48f5-a62b-bfbd17ad0262",
   "metadata": {},
   "source": [
    "## CHRONICITY"
   ]
  },
  {
   "cell_type": "code",
   "execution_count": 15,
   "id": "2b0c2507-c1f2-4b31-9e29-a66a7d10d561",
   "metadata": {},
   "outputs": [
    {
     "name": "stdout",
     "output_type": "stream",
     "text": [
      "(128686, 41)\n"
     ]
    }
   ],
   "source": [
    "meta = pd.read_csv('/data/srlab/ssg34/SLE_kidney_v2/data/pbmc/t_nk/chronicity/meta.csv')\n",
    "print(meta.shape)"
   ]
  },
  {
   "cell_type": "code",
   "execution_count": 16,
   "id": "3a996fb0-d38f-403c-82a1-359153550438",
   "metadata": {},
   "outputs": [
    {
     "name": "stdout",
     "output_type": "stream",
     "text": [
      "(128686, 20)\n"
     ]
    }
   ],
   "source": [
    "harmony = pd.read_csv('/data/srlab/ssg34/SLE_kidney_v2/data/pbmc/t_nk/chronicity/harmony.csv')\n",
    "print(harmony.shape)"
   ]
  },
  {
   "cell_type": "code",
   "execution_count": 17,
   "id": "643ec8ef-e6c5-4eed-a6d7-d062cb6cb10b",
   "metadata": {},
   "outputs": [
    {
     "name": "stdout",
     "output_type": "stream",
     "text": [
      "(128686, 2)\n"
     ]
    }
   ],
   "source": [
    "umap = pd.read_csv('/data/srlab/ssg34/SLE_kidney_v2/data/pbmc/t_nk/chronicity/umap.csv')\n",
    "print(umap.shape)"
   ]
  },
  {
   "cell_type": "code",
   "execution_count": 18,
   "id": "2975f614-4a86-4c2e-976b-6aea5f1a5f26",
   "metadata": {},
   "outputs": [
    {
     "name": "stdout",
     "output_type": "stream",
     "text": [
      "(128686, 41)\n",
      "(128686, 20)\n",
      "(128686, 2)\n",
      "warning: the following columns of obs are non-numeric.\n",
      "['Cell' 'BARCODE' 'cell.type.ids' 'Unified_Visit' 'AMP.Subject_ID'\n",
      " 'Responder.Status' 'Race' 'Final_ISN' 'Type' 'Final_Site']\n",
      "consider casting to numeric types where appropriate, and\n",
      "consider re-coding text-valued columns with pandas.get_dummies\n",
      "computing default knn graph\n"
     ]
    },
    {
     "name": "stderr",
     "output_type": "stream",
     "text": [
      "/PHShome/ssg34/.conda/envs/plswork/lib/python3.9/site-packages/multianndata/core.py:17: FutureWarning: X.dtype being converted to np.float32 from float64. In the next version of anndata (0.9) conversion will not be automatic. Pass dtype explicitly to avoid this warning. Pass `AnnData(X, dtype=X.dtype, ...)` to get the future behavour.\n",
      "  super().__init__(*args, **kwargs)\n",
      "/PHShome/ssg34/.conda/envs/plswork/lib/python3.9/site-packages/anndata/_core/anndata.py:121: ImplicitModificationWarning: Transforming to str index.\n",
      "  warnings.warn(\"Transforming to str index.\", ImplicitModificationWarning)\n"
     ]
    },
    {
     "name": "stdout",
     "output_type": "stream",
     "text": [
      "qcd NAM not found; computing and saving\n",
      "\ttaking step 1\n",
      "\tmedian kurtosis: 29.123920440673828\n",
      "\t20th percentile R2(t,t-1): nan\n",
      "\ttaking step 2\n",
      "\tmedian kurtosis: 19.906023025512695\n",
      "\t20th percentile R2(t,t-1): 0.7447261691093445\n",
      "\ttaking step 3\n",
      "\tmedian kurtosis: 12.182461738586426\n",
      "\t20th percentile R2(t,t-1): 0.8977096676826477\n",
      "\ttaking step 4\n",
      "\tmedian kurtosis: 8.255959033966064\n",
      "\t20th percentile R2(t,t-1): 0.9394636511802673\n",
      "\ttaking step 5\n",
      "\tmedian kurtosis: 6.25445032119751\n",
      "\t20th percentile R2(t,t-1): 0.9634482502937317\n",
      "stopping after 5 steps\n",
      "covariate-adjusted NAM not found; computing and saving\n"
     ]
    },
    {
     "name": "stderr",
     "output_type": "stream",
     "text": [
      "/PHShome/ssg34/.conda/envs/plswork/lib/python3.9/site-packages/cna/tools/_nam.py:79: UserWarning: only one unique batch supplied to qc\n",
      "  warnings.warn('only one unique batch supplied to qc')\n",
      "/PHShome/ssg34/.conda/envs/plswork/lib/python3.9/site-packages/cna/tools/_nam.py:101: UserWarning: only one unique batch supplied to prep\n",
      "  warnings.warn('only one unique batch supplied to prep')\n"
     ]
    },
    {
     "name": "stdout",
     "output_type": "stream",
     "text": [
      "computing SVD\n",
      "performing association test\n"
     ]
    },
    {
     "name": "stderr",
     "output_type": "stream",
     "text": [
      "\n",
      "KeyboardInterrupt\n",
      "\n"
     ]
    }
   ],
   "source": [
    "res = cna_test(meta_df = meta, harmony_df = harmony, \n",
    "                  umap_df = umap, variable = 'Final_Chronicity', \n",
    "         covars = ['Age', 'Sex', 'Responder_Status', 'First_biop'])"
   ]
  },
  {
   "cell_type": "code",
   "execution_count": 17,
   "id": "8d2e8964-5200-4a39-8afa-1386864fd62b",
   "metadata": {},
   "outputs": [],
   "source": [
    "np.savetxt(\"/data/srlab/ssg34/SLE_kidney_v2/data/pbmc/t_nk/chronicity/cond_ncorr.csv\", \n",
    "               res.ncorrs, delimiter=\",\")\n",
    "np.savetxt(\"/data/srlab/ssg34/SLE_kidney_v2/data/pbmc/t_nk/chronicity/cond_fdrs.csv\", \n",
    "               res.fdrs, delimiter=\",\")"
   ]
  },
  {
   "cell_type": "markdown",
   "id": "e68ba6b3-a10a-43e4-a838-5b17b97535d5",
   "metadata": {},
   "source": [
    "## ACTIVITY"
   ]
  },
  {
   "cell_type": "code",
   "execution_count": 31,
   "id": "dcd5a8a6-8755-4466-8f67-5f98c1dd9a33",
   "metadata": {},
   "outputs": [
    {
     "name": "stdout",
     "output_type": "stream",
     "text": [
      "(128686, 41)\n"
     ]
    }
   ],
   "source": [
    "meta = pd.read_csv('/data/srlab/ssg34/SLE_kidney_v2/data/pbmc/t_nk/activity/meta.csv')\n",
    "print(meta.shape)"
   ]
  },
  {
   "cell_type": "code",
   "execution_count": 32,
   "id": "d4b4ab9b-10a3-4a73-ace0-7b2cd6af24c7",
   "metadata": {},
   "outputs": [
    {
     "name": "stdout",
     "output_type": "stream",
     "text": [
      "(128686, 20)\n"
     ]
    }
   ],
   "source": [
    "harmony = pd.read_csv('/data/srlab/ssg34/SLE_kidney_v2/data/pbmc/t_nk/activity/harmony.csv')\n",
    "print(harmony.shape)"
   ]
  },
  {
   "cell_type": "code",
   "execution_count": 33,
   "id": "0e5af369-ac35-4a52-a49e-abd947367b9c",
   "metadata": {},
   "outputs": [
    {
     "name": "stdout",
     "output_type": "stream",
     "text": [
      "(128686, 2)\n"
     ]
    }
   ],
   "source": [
    "umap = pd.read_csv('/data/srlab/ssg34/SLE_kidney_v2/data/pbmc/t_nk/activity/umap.csv')\n",
    "print(umap.shape)"
   ]
  },
  {
   "cell_type": "code",
   "execution_count": 34,
   "id": "89dcf419-2950-4ae9-81f7-9c7bcc47ffba",
   "metadata": {},
   "outputs": [
    {
     "name": "stderr",
     "output_type": "stream",
     "text": [
      "/PHShome/ssg34/.conda/envs/plswork/lib/python3.9/site-packages/multianndata/core.py:17: FutureWarning: X.dtype being converted to np.float32 from float64. In the next version of anndata (0.9) conversion will not be automatic. Pass dtype explicitly to avoid this warning. Pass `AnnData(X, dtype=X.dtype, ...)` to get the future behavour.\n",
      "  super().__init__(*args, **kwargs)\n",
      "/PHShome/ssg34/.conda/envs/plswork/lib/python3.9/site-packages/anndata/_core/anndata.py:121: ImplicitModificationWarning: Transforming to str index.\n",
      "  warnings.warn(\"Transforming to str index.\", ImplicitModificationWarning)\n"
     ]
    },
    {
     "name": "stdout",
     "output_type": "stream",
     "text": [
      "warning: the following columns of obs are non-numeric.\n",
      "['Cell' 'BARCODE' 'cell.type.ids' 'Unified_Visit' 'AMP.Subject_ID'\n",
      " 'Responder.Status' 'Race' 'Final_ISN' 'Type' 'Final_Site']\n",
      "consider casting to numeric types where appropriate, and\n",
      "consider re-coding text-valued columns with pandas.get_dummies\n"
     ]
    },
    {
     "data": {
      "text/html": [
       "<div>\n",
       "<style scoped>\n",
       "    .dataframe tbody tr th:only-of-type {\n",
       "        vertical-align: middle;\n",
       "    }\n",
       "\n",
       "    .dataframe tbody tr th {\n",
       "        vertical-align: top;\n",
       "    }\n",
       "\n",
       "    .dataframe thead th {\n",
       "        text-align: right;\n",
       "    }\n",
       "</style>\n",
       "<table border=\"1\" class=\"dataframe\">\n",
       "  <thead>\n",
       "    <tr style=\"text-align: right;\">\n",
       "      <th></th>\n",
       "      <th>Sex</th>\n",
       "      <th>Age</th>\n",
       "      <th>Final_Chronicity</th>\n",
       "      <th>Final_Activity</th>\n",
       "      <th>First_biop</th>\n",
       "      <th>Pred_use</th>\n",
       "      <th>Responder_Status</th>\n",
       "      <th>Race_[A]</th>\n",
       "      <th>Race_[A][B]</th>\n",
       "      <th>Race_[B]</th>\n",
       "      <th>...</th>\n",
       "      <th>Final_Site_Einstein</th>\n",
       "      <th>Final_Site_JHU</th>\n",
       "      <th>Final_Site_Michigan</th>\n",
       "      <th>Final_Site_MUSC</th>\n",
       "      <th>Final_Site_Northwell</th>\n",
       "      <th>Final_Site_NYU</th>\n",
       "      <th>Final_Site_Rochester</th>\n",
       "      <th>Final_Site_Texas Tech</th>\n",
       "      <th>Final_Site_UCLA</th>\n",
       "      <th>Final_Site_UCSF</th>\n",
       "    </tr>\n",
       "    <tr>\n",
       "      <th>Unified_Visit</th>\n",
       "      <th></th>\n",
       "      <th></th>\n",
       "      <th></th>\n",
       "      <th></th>\n",
       "      <th></th>\n",
       "      <th></th>\n",
       "      <th></th>\n",
       "      <th></th>\n",
       "      <th></th>\n",
       "      <th></th>\n",
       "      <th></th>\n",
       "      <th></th>\n",
       "      <th></th>\n",
       "      <th></th>\n",
       "      <th></th>\n",
       "      <th></th>\n",
       "      <th></th>\n",
       "      <th></th>\n",
       "      <th></th>\n",
       "      <th></th>\n",
       "      <th></th>\n",
       "    </tr>\n",
       "  </thead>\n",
       "  <tbody>\n",
       "    <tr>\n",
       "      <th>200-2741-V0</th>\n",
       "      <td>1.0</td>\n",
       "      <td>1.403931</td>\n",
       "      <td>8.0</td>\n",
       "      <td>0.0</td>\n",
       "      <td>0.0</td>\n",
       "      <td>0.0</td>\n",
       "      <td>0.0</td>\n",
       "      <td>0.0</td>\n",
       "      <td>0.0</td>\n",
       "      <td>1.0</td>\n",
       "      <td>...</td>\n",
       "      <td>0.0</td>\n",
       "      <td>1.0</td>\n",
       "      <td>0.0</td>\n",
       "      <td>0.0</td>\n",
       "      <td>0.0</td>\n",
       "      <td>0.0</td>\n",
       "      <td>0.0</td>\n",
       "      <td>0.0</td>\n",
       "      <td>0.0</td>\n",
       "      <td>0.0</td>\n",
       "    </tr>\n",
       "    <tr>\n",
       "      <th>200-1137-V0</th>\n",
       "      <td>1.0</td>\n",
       "      <td>2.981888</td>\n",
       "      <td>3.0</td>\n",
       "      <td>5.0</td>\n",
       "      <td>1.0</td>\n",
       "      <td>1.0</td>\n",
       "      <td>2.0</td>\n",
       "      <td>0.0</td>\n",
       "      <td>0.0</td>\n",
       "      <td>0.0</td>\n",
       "      <td>...</td>\n",
       "      <td>0.0</td>\n",
       "      <td>0.0</td>\n",
       "      <td>0.0</td>\n",
       "      <td>0.0</td>\n",
       "      <td>0.0</td>\n",
       "      <td>1.0</td>\n",
       "      <td>0.0</td>\n",
       "      <td>0.0</td>\n",
       "      <td>0.0</td>\n",
       "      <td>0.0</td>\n",
       "    </tr>\n",
       "    <tr>\n",
       "      <th>200-1240-V0</th>\n",
       "      <td>1.0</td>\n",
       "      <td>-0.963004</td>\n",
       "      <td>0.0</td>\n",
       "      <td>5.0</td>\n",
       "      <td>1.0</td>\n",
       "      <td>1.0</td>\n",
       "      <td>1.0</td>\n",
       "      <td>0.0</td>\n",
       "      <td>0.0</td>\n",
       "      <td>1.0</td>\n",
       "      <td>...</td>\n",
       "      <td>0.0</td>\n",
       "      <td>1.0</td>\n",
       "      <td>0.0</td>\n",
       "      <td>0.0</td>\n",
       "      <td>0.0</td>\n",
       "      <td>0.0</td>\n",
       "      <td>0.0</td>\n",
       "      <td>0.0</td>\n",
       "      <td>0.0</td>\n",
       "      <td>0.0</td>\n",
       "    </tr>\n",
       "    <tr>\n",
       "      <th>200-1157-V0</th>\n",
       "      <td>1.0</td>\n",
       "      <td>0.536055</td>\n",
       "      <td>2.0</td>\n",
       "      <td>8.0</td>\n",
       "      <td>0.0</td>\n",
       "      <td>1.0</td>\n",
       "      <td>2.0</td>\n",
       "      <td>0.0</td>\n",
       "      <td>0.0</td>\n",
       "      <td>0.0</td>\n",
       "      <td>...</td>\n",
       "      <td>0.0</td>\n",
       "      <td>0.0</td>\n",
       "      <td>0.0</td>\n",
       "      <td>0.0</td>\n",
       "      <td>0.0</td>\n",
       "      <td>1.0</td>\n",
       "      <td>0.0</td>\n",
       "      <td>0.0</td>\n",
       "      <td>0.0</td>\n",
       "      <td>0.0</td>\n",
       "    </tr>\n",
       "    <tr>\n",
       "      <th>200-1152-V0</th>\n",
       "      <td>1.0</td>\n",
       "      <td>0.378259</td>\n",
       "      <td>0.0</td>\n",
       "      <td>1.0</td>\n",
       "      <td>1.0</td>\n",
       "      <td>1.0</td>\n",
       "      <td>2.0</td>\n",
       "      <td>1.0</td>\n",
       "      <td>0.0</td>\n",
       "      <td>0.0</td>\n",
       "      <td>...</td>\n",
       "      <td>0.0</td>\n",
       "      <td>0.0</td>\n",
       "      <td>0.0</td>\n",
       "      <td>0.0</td>\n",
       "      <td>0.0</td>\n",
       "      <td>1.0</td>\n",
       "      <td>0.0</td>\n",
       "      <td>0.0</td>\n",
       "      <td>0.0</td>\n",
       "      <td>0.0</td>\n",
       "    </tr>\n",
       "  </tbody>\n",
       "</table>\n",
       "<p>5 rows × 30 columns</p>\n",
       "</div>"
      ],
      "text/plain": [
       "               Sex       Age  Final_Chronicity  Final_Activity  First_biop  \\\n",
       "Unified_Visit                                                                \n",
       "200-2741-V0    1.0  1.403931               8.0             0.0         0.0   \n",
       "200-1137-V0    1.0  2.981888               3.0             5.0         1.0   \n",
       "200-1240-V0    1.0 -0.963004               0.0             5.0         1.0   \n",
       "200-1157-V0    1.0  0.536055               2.0             8.0         0.0   \n",
       "200-1152-V0    1.0  0.378259               0.0             1.0         1.0   \n",
       "\n",
       "               Pred_use  Responder_Status  Race_[A]  Race_[A][B]  Race_[B]  \\\n",
       "Unified_Visit                                                                \n",
       "200-2741-V0         0.0               0.0       0.0          0.0       1.0   \n",
       "200-1137-V0         1.0               2.0       0.0          0.0       0.0   \n",
       "200-1240-V0         1.0               1.0       0.0          0.0       1.0   \n",
       "200-1157-V0         1.0               2.0       0.0          0.0       0.0   \n",
       "200-1152-V0         1.0               2.0       1.0          0.0       0.0   \n",
       "\n",
       "               ...  Final_Site_Einstein  Final_Site_JHU  Final_Site_Michigan  \\\n",
       "Unified_Visit  ...                                                             \n",
       "200-2741-V0    ...                  0.0             1.0                  0.0   \n",
       "200-1137-V0    ...                  0.0             0.0                  0.0   \n",
       "200-1240-V0    ...                  0.0             1.0                  0.0   \n",
       "200-1157-V0    ...                  0.0             0.0                  0.0   \n",
       "200-1152-V0    ...                  0.0             0.0                  0.0   \n",
       "\n",
       "               Final_Site_MUSC  Final_Site_Northwell  Final_Site_NYU  \\\n",
       "Unified_Visit                                                          \n",
       "200-2741-V0                0.0                   0.0             0.0   \n",
       "200-1137-V0                0.0                   0.0             1.0   \n",
       "200-1240-V0                0.0                   0.0             0.0   \n",
       "200-1157-V0                0.0                   0.0             1.0   \n",
       "200-1152-V0                0.0                   0.0             1.0   \n",
       "\n",
       "               Final_Site_Rochester  Final_Site_Texas Tech  Final_Site_UCLA  \\\n",
       "Unified_Visit                                                                 \n",
       "200-2741-V0                     0.0                    0.0              0.0   \n",
       "200-1137-V0                     0.0                    0.0              0.0   \n",
       "200-1240-V0                     0.0                    0.0              0.0   \n",
       "200-1157-V0                     0.0                    0.0              0.0   \n",
       "200-1152-V0                     0.0                    0.0              0.0   \n",
       "\n",
       "               Final_Site_UCSF  \n",
       "Unified_Visit                   \n",
       "200-2741-V0                0.0  \n",
       "200-1137-V0                0.0  \n",
       "200-1240-V0                0.0  \n",
       "200-1157-V0                0.0  \n",
       "200-1152-V0                0.0  \n",
       "\n",
       "[5 rows x 30 columns]"
      ]
     },
     "execution_count": 34,
     "metadata": {},
     "output_type": "execute_result"
    }
   ],
   "source": [
    "# Start by making anndata object\n",
    "d = mad.MultiAnnData(X=harmony, obs=meta, sampleid=\"Unified_Visit\")\n",
    "#d.obs_to_sample(['Type', 'Site',\n",
    "#                 'Responder_Status', 'Sex',\n",
    "#                 'Age', 'Race',\n",
    "#                'Ethnicity', 'ISN',\n",
    "#               'Activity', \"Chronicity\",\n",
    "#                 'processing_batch'])\n",
    "d.obs_to_sample(['Sex', 'Age', 'Final_Chronicity', 'Final_Activity', 'First_biop', 'Pred_use', 'Responder_Status', 'Race_[A]',\n",
    "       'Race_[A][B]', 'Race_[B]', 'Race_[B][AI]', 'Race_[B][W]', 'Race_[U]',\n",
    "       'Race_[W]', 'Final_ISN_[III]', 'Final_ISN_[III][V]', 'Final_ISN_[IV]',\n",
    "       'Final_ISN_[IV][V]', 'Final_ISN_[V]', 'Final_Site_Cincinnati',\n",
    "       'Final_Site_Einstein', 'Final_Site_JHU', 'Final_Site_Michigan',\n",
    "       'Final_Site_MUSC', 'Final_Site_Northwell', 'Final_Site_NYU',\n",
    "       'Final_Site_Rochester', 'Final_Site_Texas Tech', 'Final_Site_UCLA',\n",
    "        'Final_Site_UCSF'])\n",
    "d.samplem.head()"
   ]
  },
  {
   "cell_type": "code",
   "execution_count": 35,
   "id": "a42316be-e940-4dc4-933a-b055d07c6473",
   "metadata": {},
   "outputs": [],
   "source": [
    "umap.index = d.obs.index\n",
    "d.obsm['X_umap'] = umap"
   ]
  },
  {
   "cell_type": "code",
   "execution_count": 36,
   "id": "854edc9e-05bf-430b-bdcc-8ab0558566d0",
   "metadata": {},
   "outputs": [
    {
     "name": "stdout",
     "output_type": "stream",
     "text": [
      "computing default knn graph\n"
     ]
    }
   ],
   "source": [
    "np.random.seed(0) \n",
    "cna.pp.knn(d)"
   ]
  },
  {
   "cell_type": "code",
   "execution_count": 37,
   "id": "da75727f-a535-4a84-b287-757307006734",
   "metadata": {},
   "outputs": [
    {
     "name": "stdout",
     "output_type": "stream",
     "text": [
      "qcd NAM not found; computing and saving\n",
      "\ttaking step 1\n",
      "\tmedian kurtosis: 29.123920440673828\n",
      "\t20th percentile R2(t,t-1): nan\n",
      "\ttaking step 2\n",
      "\tmedian kurtosis: 19.906023025512695\n",
      "\t20th percentile R2(t,t-1): 0.7447261691093445\n",
      "\ttaking step 3\n",
      "\tmedian kurtosis: 12.182461738586426\n",
      "\t20th percentile R2(t,t-1): 0.8977096676826477\n",
      "\ttaking step 4\n",
      "\tmedian kurtosis: 8.255959033966064\n",
      "\t20th percentile R2(t,t-1): 0.9394636511802673\n",
      "\ttaking step 5\n",
      "\tmedian kurtosis: 6.25445032119751\n",
      "\t20th percentile R2(t,t-1): 0.9634482502937317\n",
      "stopping after 5 steps\n",
      "covariate-adjusted NAM not found; computing and saving\n"
     ]
    },
    {
     "name": "stderr",
     "output_type": "stream",
     "text": [
      "/PHShome/ssg34/.conda/envs/plswork/lib/python3.9/site-packages/cna/tools/_nam.py:79: UserWarning: only one unique batch supplied to qc\n",
      "  warnings.warn('only one unique batch supplied to qc')\n",
      "/PHShome/ssg34/.conda/envs/plswork/lib/python3.9/site-packages/cna/tools/_nam.py:101: UserWarning: only one unique batch supplied to prep\n",
      "  warnings.warn('only one unique batch supplied to prep')\n"
     ]
    },
    {
     "name": "stdout",
     "output_type": "stream",
     "text": [
      "computing SVD\n",
      "performing association test\n",
      "computing neighborhood-level FDRs\n",
      "10\n",
      "[1, 2, 3, 4, 5, 6, 7, 8, 9, 10, 11, 12, 13, 14, 15, 16, 17, 18, 19, 20]\n",
      "p = 0.09519048095190481 , 10 PCs used\n",
      "total r^2 between top 10 NAM PCs and outcome is 0.19\n"
     ]
    }
   ],
   "source": [
    "np.random.seed(0) \n",
    "res = cna.tl._association.association(d, #dataset \n",
    "                                      d.samplem.Final_Activity, #phenotype\n",
    "#                                       batches=d.samplem.processing_batch, #batches\n",
    "                                      Nnull=10000, # number of null permutations to do (defaults to only 1e3)\n",
    "                                      ks=[1,2,3,4,5,6,7,8,9,10,11,12,13,14,15,16,17,18,19,20] # I asked the method to consider up to 10 PCs because\n",
    "                                                                #it chose the max number of PCs it considered the default set of [1,2,3,4]\n",
    "                                     )\n",
    "print(res.k)\n",
    "print(res.ks)\n",
    "print('p =', res.p, ',', res.k, 'PCs used')\n",
    "print('total r^2 between top {} NAM PCs and outcome is {:.2f}'.format(res.k, res.r2))"
   ]
  },
  {
   "cell_type": "code",
   "execution_count": 38,
   "id": "e0a8049d-2da4-443c-8b2b-b43f56f75a79",
   "metadata": {},
   "outputs": [],
   "source": [
    "t_nk_uni['Activity'] = res.p\n",
    "t_nk_cond['Activity'] = \"NA\""
   ]
  },
  {
   "cell_type": "markdown",
   "id": "34012826-62fa-488b-b36b-344ea10c16ec",
   "metadata": {},
   "source": [
    "## ISN"
   ]
  },
  {
   "cell_type": "code",
   "execution_count": 39,
   "id": "31c49370-357b-4979-be2c-e875983ec34b",
   "metadata": {},
   "outputs": [
    {
     "name": "stdout",
     "output_type": "stream",
     "text": [
      "(128686, 41)\n"
     ]
    }
   ],
   "source": [
    "meta = pd.read_csv('/data/srlab/ssg34/SLE_kidney_v2/data/pbmc/t_nk/isn/meta.csv')\n",
    "print(meta.shape)"
   ]
  },
  {
   "cell_type": "code",
   "execution_count": 40,
   "id": "51853486-59be-4b1e-ac3c-a552d39f03af",
   "metadata": {},
   "outputs": [
    {
     "name": "stdout",
     "output_type": "stream",
     "text": [
      "(128686, 20)\n"
     ]
    }
   ],
   "source": [
    "harmony = pd.read_csv('/data/srlab/ssg34/SLE_kidney_v2/data/pbmc/t_nk/isn/harmony.csv')\n",
    "print(harmony.shape)"
   ]
  },
  {
   "cell_type": "code",
   "execution_count": 41,
   "id": "7d44b82b-ca6c-4af5-bd87-5bda95514838",
   "metadata": {},
   "outputs": [
    {
     "name": "stdout",
     "output_type": "stream",
     "text": [
      "(128686, 2)\n"
     ]
    }
   ],
   "source": [
    "umap = pd.read_csv('/data/srlab/ssg34/SLE_kidney_v2/data/pbmc/t_nk/isn/umap.csv')\n",
    "print(umap.shape)"
   ]
  },
  {
   "cell_type": "code",
   "execution_count": 42,
   "id": "005a771f-12e4-4de8-a19b-3254134fac37",
   "metadata": {},
   "outputs": [
    {
     "name": "stderr",
     "output_type": "stream",
     "text": [
      "/PHShome/ssg34/.conda/envs/plswork/lib/python3.9/site-packages/multianndata/core.py:17: FutureWarning: X.dtype being converted to np.float32 from float64. In the next version of anndata (0.9) conversion will not be automatic. Pass dtype explicitly to avoid this warning. Pass `AnnData(X, dtype=X.dtype, ...)` to get the future behavour.\n",
      "  super().__init__(*args, **kwargs)\n",
      "/PHShome/ssg34/.conda/envs/plswork/lib/python3.9/site-packages/anndata/_core/anndata.py:121: ImplicitModificationWarning: Transforming to str index.\n",
      "  warnings.warn(\"Transforming to str index.\", ImplicitModificationWarning)\n"
     ]
    },
    {
     "name": "stdout",
     "output_type": "stream",
     "text": [
      "warning: the following columns of obs are non-numeric.\n",
      "['Cell' 'BARCODE' 'cell.type.ids' 'Unified_Visit' 'AMP.Subject_ID'\n",
      " 'Responder.Status' 'Race' 'Final_ISN' 'Type' 'Final_Site']\n",
      "consider casting to numeric types where appropriate, and\n",
      "consider re-coding text-valued columns with pandas.get_dummies\n"
     ]
    },
    {
     "data": {
      "text/html": [
       "<div>\n",
       "<style scoped>\n",
       "    .dataframe tbody tr th:only-of-type {\n",
       "        vertical-align: middle;\n",
       "    }\n",
       "\n",
       "    .dataframe tbody tr th {\n",
       "        vertical-align: top;\n",
       "    }\n",
       "\n",
       "    .dataframe thead th {\n",
       "        text-align: right;\n",
       "    }\n",
       "</style>\n",
       "<table border=\"1\" class=\"dataframe\">\n",
       "  <thead>\n",
       "    <tr style=\"text-align: right;\">\n",
       "      <th></th>\n",
       "      <th>Sex</th>\n",
       "      <th>Age</th>\n",
       "      <th>Final_Chronicity</th>\n",
       "      <th>Final_Activity</th>\n",
       "      <th>First_biop</th>\n",
       "      <th>Pred_use</th>\n",
       "      <th>Responder_Status</th>\n",
       "      <th>Race_[A]</th>\n",
       "      <th>Race_[A][B]</th>\n",
       "      <th>Race_[B]</th>\n",
       "      <th>...</th>\n",
       "      <th>Final_Site_Einstein</th>\n",
       "      <th>Final_Site_JHU</th>\n",
       "      <th>Final_Site_Michigan</th>\n",
       "      <th>Final_Site_MUSC</th>\n",
       "      <th>Final_Site_Northwell</th>\n",
       "      <th>Final_Site_NYU</th>\n",
       "      <th>Final_Site_Rochester</th>\n",
       "      <th>Final_Site_Texas Tech</th>\n",
       "      <th>Final_Site_UCLA</th>\n",
       "      <th>Final_Site_UCSF</th>\n",
       "    </tr>\n",
       "    <tr>\n",
       "      <th>Unified_Visit</th>\n",
       "      <th></th>\n",
       "      <th></th>\n",
       "      <th></th>\n",
       "      <th></th>\n",
       "      <th></th>\n",
       "      <th></th>\n",
       "      <th></th>\n",
       "      <th></th>\n",
       "      <th></th>\n",
       "      <th></th>\n",
       "      <th></th>\n",
       "      <th></th>\n",
       "      <th></th>\n",
       "      <th></th>\n",
       "      <th></th>\n",
       "      <th></th>\n",
       "      <th></th>\n",
       "      <th></th>\n",
       "      <th></th>\n",
       "      <th></th>\n",
       "      <th></th>\n",
       "    </tr>\n",
       "  </thead>\n",
       "  <tbody>\n",
       "    <tr>\n",
       "      <th>200-2741-V0</th>\n",
       "      <td>1.0</td>\n",
       "      <td>1.403931</td>\n",
       "      <td>8.0</td>\n",
       "      <td>0.0</td>\n",
       "      <td>0.0</td>\n",
       "      <td>0.0</td>\n",
       "      <td>0.0</td>\n",
       "      <td>0.0</td>\n",
       "      <td>0.0</td>\n",
       "      <td>1.0</td>\n",
       "      <td>...</td>\n",
       "      <td>0.0</td>\n",
       "      <td>1.0</td>\n",
       "      <td>0.0</td>\n",
       "      <td>0.0</td>\n",
       "      <td>0.0</td>\n",
       "      <td>0.0</td>\n",
       "      <td>0.0</td>\n",
       "      <td>0.0</td>\n",
       "      <td>0.0</td>\n",
       "      <td>0.0</td>\n",
       "    </tr>\n",
       "    <tr>\n",
       "      <th>200-1137-V0</th>\n",
       "      <td>1.0</td>\n",
       "      <td>2.981888</td>\n",
       "      <td>3.0</td>\n",
       "      <td>5.0</td>\n",
       "      <td>1.0</td>\n",
       "      <td>1.0</td>\n",
       "      <td>2.0</td>\n",
       "      <td>0.0</td>\n",
       "      <td>0.0</td>\n",
       "      <td>0.0</td>\n",
       "      <td>...</td>\n",
       "      <td>0.0</td>\n",
       "      <td>0.0</td>\n",
       "      <td>0.0</td>\n",
       "      <td>0.0</td>\n",
       "      <td>0.0</td>\n",
       "      <td>1.0</td>\n",
       "      <td>0.0</td>\n",
       "      <td>0.0</td>\n",
       "      <td>0.0</td>\n",
       "      <td>0.0</td>\n",
       "    </tr>\n",
       "    <tr>\n",
       "      <th>200-1240-V0</th>\n",
       "      <td>1.0</td>\n",
       "      <td>-0.963004</td>\n",
       "      <td>0.0</td>\n",
       "      <td>5.0</td>\n",
       "      <td>1.0</td>\n",
       "      <td>1.0</td>\n",
       "      <td>1.0</td>\n",
       "      <td>0.0</td>\n",
       "      <td>0.0</td>\n",
       "      <td>1.0</td>\n",
       "      <td>...</td>\n",
       "      <td>0.0</td>\n",
       "      <td>1.0</td>\n",
       "      <td>0.0</td>\n",
       "      <td>0.0</td>\n",
       "      <td>0.0</td>\n",
       "      <td>0.0</td>\n",
       "      <td>0.0</td>\n",
       "      <td>0.0</td>\n",
       "      <td>0.0</td>\n",
       "      <td>0.0</td>\n",
       "    </tr>\n",
       "    <tr>\n",
       "      <th>200-1157-V0</th>\n",
       "      <td>1.0</td>\n",
       "      <td>0.536055</td>\n",
       "      <td>2.0</td>\n",
       "      <td>8.0</td>\n",
       "      <td>0.0</td>\n",
       "      <td>1.0</td>\n",
       "      <td>2.0</td>\n",
       "      <td>0.0</td>\n",
       "      <td>0.0</td>\n",
       "      <td>0.0</td>\n",
       "      <td>...</td>\n",
       "      <td>0.0</td>\n",
       "      <td>0.0</td>\n",
       "      <td>0.0</td>\n",
       "      <td>0.0</td>\n",
       "      <td>0.0</td>\n",
       "      <td>1.0</td>\n",
       "      <td>0.0</td>\n",
       "      <td>0.0</td>\n",
       "      <td>0.0</td>\n",
       "      <td>0.0</td>\n",
       "    </tr>\n",
       "    <tr>\n",
       "      <th>200-1152-V0</th>\n",
       "      <td>1.0</td>\n",
       "      <td>0.378259</td>\n",
       "      <td>0.0</td>\n",
       "      <td>1.0</td>\n",
       "      <td>1.0</td>\n",
       "      <td>1.0</td>\n",
       "      <td>2.0</td>\n",
       "      <td>1.0</td>\n",
       "      <td>0.0</td>\n",
       "      <td>0.0</td>\n",
       "      <td>...</td>\n",
       "      <td>0.0</td>\n",
       "      <td>0.0</td>\n",
       "      <td>0.0</td>\n",
       "      <td>0.0</td>\n",
       "      <td>0.0</td>\n",
       "      <td>1.0</td>\n",
       "      <td>0.0</td>\n",
       "      <td>0.0</td>\n",
       "      <td>0.0</td>\n",
       "      <td>0.0</td>\n",
       "    </tr>\n",
       "  </tbody>\n",
       "</table>\n",
       "<p>5 rows × 30 columns</p>\n",
       "</div>"
      ],
      "text/plain": [
       "               Sex       Age  Final_Chronicity  Final_Activity  First_biop  \\\n",
       "Unified_Visit                                                                \n",
       "200-2741-V0    1.0  1.403931               8.0             0.0         0.0   \n",
       "200-1137-V0    1.0  2.981888               3.0             5.0         1.0   \n",
       "200-1240-V0    1.0 -0.963004               0.0             5.0         1.0   \n",
       "200-1157-V0    1.0  0.536055               2.0             8.0         0.0   \n",
       "200-1152-V0    1.0  0.378259               0.0             1.0         1.0   \n",
       "\n",
       "               Pred_use  Responder_Status  Race_[A]  Race_[A][B]  Race_[B]  \\\n",
       "Unified_Visit                                                                \n",
       "200-2741-V0         0.0               0.0       0.0          0.0       1.0   \n",
       "200-1137-V0         1.0               2.0       0.0          0.0       0.0   \n",
       "200-1240-V0         1.0               1.0       0.0          0.0       1.0   \n",
       "200-1157-V0         1.0               2.0       0.0          0.0       0.0   \n",
       "200-1152-V0         1.0               2.0       1.0          0.0       0.0   \n",
       "\n",
       "               ...  Final_Site_Einstein  Final_Site_JHU  Final_Site_Michigan  \\\n",
       "Unified_Visit  ...                                                             \n",
       "200-2741-V0    ...                  0.0             1.0                  0.0   \n",
       "200-1137-V0    ...                  0.0             0.0                  0.0   \n",
       "200-1240-V0    ...                  0.0             1.0                  0.0   \n",
       "200-1157-V0    ...                  0.0             0.0                  0.0   \n",
       "200-1152-V0    ...                  0.0             0.0                  0.0   \n",
       "\n",
       "               Final_Site_MUSC  Final_Site_Northwell  Final_Site_NYU  \\\n",
       "Unified_Visit                                                          \n",
       "200-2741-V0                0.0                   0.0             0.0   \n",
       "200-1137-V0                0.0                   0.0             1.0   \n",
       "200-1240-V0                0.0                   0.0             0.0   \n",
       "200-1157-V0                0.0                   0.0             1.0   \n",
       "200-1152-V0                0.0                   0.0             1.0   \n",
       "\n",
       "               Final_Site_Rochester  Final_Site_Texas Tech  Final_Site_UCLA  \\\n",
       "Unified_Visit                                                                 \n",
       "200-2741-V0                     0.0                    0.0              0.0   \n",
       "200-1137-V0                     0.0                    0.0              0.0   \n",
       "200-1240-V0                     0.0                    0.0              0.0   \n",
       "200-1157-V0                     0.0                    0.0              0.0   \n",
       "200-1152-V0                     0.0                    0.0              0.0   \n",
       "\n",
       "               Final_Site_UCSF  \n",
       "Unified_Visit                   \n",
       "200-2741-V0                0.0  \n",
       "200-1137-V0                0.0  \n",
       "200-1240-V0                0.0  \n",
       "200-1157-V0                0.0  \n",
       "200-1152-V0                0.0  \n",
       "\n",
       "[5 rows x 30 columns]"
      ]
     },
     "execution_count": 42,
     "metadata": {},
     "output_type": "execute_result"
    }
   ],
   "source": [
    "# Start by making anndata object\n",
    "d = mad.MultiAnnData(X=harmony, obs=meta, sampleid=\"Unified_Visit\")\n",
    "#d.obs_to_sample(['Type', 'Site',\n",
    "#                 'Responder_Status', 'Sex',\n",
    "#                 'Age', 'Race',\n",
    "#                'Ethnicity', 'ISN',\n",
    "#               'Activity', \"Chronicity\",\n",
    "#                 'processing_batch'])\n",
    "d.obs_to_sample(['Sex', 'Age', 'Final_Chronicity', 'Final_Activity', 'First_biop', 'Pred_use', 'Responder_Status', 'Race_[A]',\n",
    "       'Race_[A][B]', 'Race_[B]', 'Race_[B][AI]', 'Race_[B][W]', 'Race_[U]',\n",
    "       'Race_[W]', 'Final_ISN_[III]', 'Final_ISN_[III][V]', 'Final_ISN_[IV]',\n",
    "       'Final_ISN_[IV][V]', 'Final_ISN_[V]', 'Final_Site_Cincinnati',\n",
    "       'Final_Site_Einstein', 'Final_Site_JHU', 'Final_Site_Michigan',\n",
    "       'Final_Site_MUSC', 'Final_Site_Northwell', 'Final_Site_NYU',\n",
    "       'Final_Site_Rochester', 'Final_Site_Texas Tech', 'Final_Site_UCLA',\n",
    "        'Final_Site_UCSF'])\n",
    "d.samplem.head()"
   ]
  },
  {
   "cell_type": "code",
   "execution_count": 43,
   "id": "524c3399-e98c-4c75-bf15-8d30a1717202",
   "metadata": {},
   "outputs": [],
   "source": [
    "umap.index = d.obs.index\n",
    "d.obsm['X_umap'] = umap"
   ]
  },
  {
   "cell_type": "code",
   "execution_count": 44,
   "id": "ca7a28d7-265c-4a56-b779-b701efda7ef1",
   "metadata": {},
   "outputs": [
    {
     "name": "stdout",
     "output_type": "stream",
     "text": [
      "computing default knn graph\n"
     ]
    }
   ],
   "source": [
    "np.random.seed(0) \n",
    "cna.pp.knn(d)"
   ]
  },
  {
   "cell_type": "code",
   "execution_count": 45,
   "id": "df6796fc-03ae-49b3-ab0b-04de7fda86bf",
   "metadata": {},
   "outputs": [
    {
     "name": "stdout",
     "output_type": "stream",
     "text": [
      "qcd NAM not found; computing and saving\n",
      "\ttaking step 1\n",
      "\tmedian kurtosis: 29.123920440673828\n",
      "\t20th percentile R2(t,t-1): nan\n",
      "\ttaking step 2\n",
      "\tmedian kurtosis: 19.906023025512695\n",
      "\t20th percentile R2(t,t-1): 0.7447261691093445\n",
      "\ttaking step 3\n",
      "\tmedian kurtosis: 12.182461738586426\n",
      "\t20th percentile R2(t,t-1): 0.8977096676826477\n",
      "\ttaking step 4\n",
      "\tmedian kurtosis: 8.255959033966064\n",
      "\t20th percentile R2(t,t-1): 0.9394636511802673\n",
      "\ttaking step 5\n",
      "\tmedian kurtosis: 6.25445032119751\n",
      "\t20th percentile R2(t,t-1): 0.9634482502937317\n",
      "stopping after 5 steps\n",
      "covariate-adjusted NAM not found; computing and saving\n"
     ]
    },
    {
     "name": "stderr",
     "output_type": "stream",
     "text": [
      "/PHShome/ssg34/.conda/envs/plswork/lib/python3.9/site-packages/cna/tools/_nam.py:79: UserWarning: only one unique batch supplied to qc\n",
      "  warnings.warn('only one unique batch supplied to qc')\n",
      "/PHShome/ssg34/.conda/envs/plswork/lib/python3.9/site-packages/cna/tools/_nam.py:101: UserWarning: only one unique batch supplied to prep\n",
      "  warnings.warn('only one unique batch supplied to prep')\n"
     ]
    },
    {
     "name": "stdout",
     "output_type": "stream",
     "text": [
      "computing SVD\n",
      "performing association test\n"
     ]
    },
    {
     "ename": "KeyboardInterrupt",
     "evalue": "",
     "output_type": "error",
     "traceback": [
      "\u001b[0;31m---------------------------------------------------------------------------\u001b[0m",
      "\u001b[0;31mKeyboardInterrupt\u001b[0m                         Traceback (most recent call last)",
      "Input \u001b[0;32mIn [45]\u001b[0m, in \u001b[0;36m<cell line: 2>\u001b[0;34m()\u001b[0m\n\u001b[1;32m      1\u001b[0m np\u001b[38;5;241m.\u001b[39mrandom\u001b[38;5;241m.\u001b[39mseed(\u001b[38;5;241m0\u001b[39m) \n\u001b[0;32m----> 2\u001b[0m res \u001b[38;5;241m=\u001b[39m \u001b[43mcna\u001b[49m\u001b[38;5;241;43m.\u001b[39;49m\u001b[43mtl\u001b[49m\u001b[38;5;241;43m.\u001b[39;49m\u001b[43m_association\u001b[49m\u001b[38;5;241;43m.\u001b[39;49m\u001b[43massociation\u001b[49m\u001b[43m(\u001b[49m\u001b[43md\u001b[49m\u001b[43m,\u001b[49m\u001b[43m \u001b[49m\u001b[38;5;66;43;03m#dataset \u001b[39;49;00m\n\u001b[1;32m      3\u001b[0m \u001b[43m                                      \u001b[49m\u001b[43md\u001b[49m\u001b[38;5;241;43m.\u001b[39;49m\u001b[43msamplem\u001b[49m\u001b[43m[\u001b[49m\u001b[38;5;124;43m'\u001b[39;49m\u001b[38;5;124;43mFinal_ISN_[III]\u001b[39;49m\u001b[38;5;124;43m'\u001b[39;49m\u001b[43m]\u001b[49m\u001b[43m,\u001b[49m\u001b[43m \u001b[49m\u001b[38;5;66;43;03m#phenotype\u001b[39;49;00m\n\u001b[1;32m      4\u001b[0m \u001b[38;5;66;43;03m#                                       batches=d.samplem.processing_batch, #batches\u001b[39;49;00m\n\u001b[1;32m      5\u001b[0m \u001b[43m                                      \u001b[49m\u001b[43mNnull\u001b[49m\u001b[38;5;241;43m=\u001b[39;49m\u001b[38;5;241;43m10000\u001b[39;49m\u001b[43m,\u001b[49m\u001b[43m \u001b[49m\u001b[38;5;66;43;03m# number of null permutations to do (defaults to only 1e3)\u001b[39;49;00m\n\u001b[1;32m      6\u001b[0m \u001b[43m                                      \u001b[49m\u001b[43mks\u001b[49m\u001b[38;5;241;43m=\u001b[39;49m\u001b[43m[\u001b[49m\u001b[38;5;241;43m1\u001b[39;49m\u001b[43m,\u001b[49m\u001b[38;5;241;43m2\u001b[39;49m\u001b[43m,\u001b[49m\u001b[38;5;241;43m3\u001b[39;49m\u001b[43m,\u001b[49m\u001b[38;5;241;43m4\u001b[39;49m\u001b[43m,\u001b[49m\u001b[38;5;241;43m5\u001b[39;49m\u001b[43m,\u001b[49m\u001b[38;5;241;43m6\u001b[39;49m\u001b[43m,\u001b[49m\u001b[38;5;241;43m7\u001b[39;49m\u001b[43m,\u001b[49m\u001b[38;5;241;43m8\u001b[39;49m\u001b[43m,\u001b[49m\u001b[38;5;241;43m9\u001b[39;49m\u001b[43m,\u001b[49m\u001b[38;5;241;43m10\u001b[39;49m\u001b[43m,\u001b[49m\u001b[38;5;241;43m11\u001b[39;49m\u001b[43m,\u001b[49m\u001b[38;5;241;43m12\u001b[39;49m\u001b[43m,\u001b[49m\u001b[38;5;241;43m13\u001b[39;49m\u001b[43m,\u001b[49m\u001b[38;5;241;43m14\u001b[39;49m\u001b[43m,\u001b[49m\u001b[38;5;241;43m15\u001b[39;49m\u001b[43m,\u001b[49m\u001b[38;5;241;43m16\u001b[39;49m\u001b[43m,\u001b[49m\u001b[38;5;241;43m17\u001b[39;49m\u001b[43m,\u001b[49m\u001b[38;5;241;43m18\u001b[39;49m\u001b[43m,\u001b[49m\u001b[38;5;241;43m19\u001b[39;49m\u001b[43m,\u001b[49m\u001b[38;5;241;43m20\u001b[39;49m\u001b[43m]\u001b[49m\u001b[43m \u001b[49m\u001b[38;5;66;43;03m# I asked the method to consider up to 10 PCs because\u001b[39;49;00m\n\u001b[1;32m      7\u001b[0m \u001b[43m                                                                \u001b[49m\u001b[38;5;66;43;03m#it chose the max number of PCs it considered the default set of [1,2,3,4]\u001b[39;49;00m\n\u001b[1;32m      8\u001b[0m \u001b[43m                                     \u001b[49m\u001b[43m)\u001b[49m\n\u001b[1;32m      9\u001b[0m \u001b[38;5;28mprint\u001b[39m(res\u001b[38;5;241m.\u001b[39mk)\n\u001b[1;32m     10\u001b[0m \u001b[38;5;28mprint\u001b[39m(res\u001b[38;5;241m.\u001b[39mks)\n",
      "File \u001b[0;32m~/.conda/envs/plswork/lib/python3.9/site-packages/cna/tools/_association.py:147\u001b[0m, in \u001b[0;36massociation\u001b[0;34m(data, y, batches, covs, nsteps, suffix, force_recompute, **kwargs)\u001b[0m\n\u001b[1;32m    140\u001b[0m NAMsvd \u001b[38;5;241m=\u001b[39m (\n\u001b[1;32m    141\u001b[0m     du[\u001b[38;5;124m'\u001b[39m\u001b[38;5;124mNAM_sampleXpc\u001b[39m\u001b[38;5;124m'\u001b[39m\u001b[38;5;241m+\u001b[39msuffix]\u001b[38;5;241m.\u001b[39mvalues,\n\u001b[1;32m    142\u001b[0m     du[\u001b[38;5;124m'\u001b[39m\u001b[38;5;124mNAM_svs\u001b[39m\u001b[38;5;124m'\u001b[39m\u001b[38;5;241m+\u001b[39msuffix],\n\u001b[1;32m    143\u001b[0m     du[\u001b[38;5;124m'\u001b[39m\u001b[38;5;124mNAM_nbhdXpc\u001b[39m\u001b[38;5;124m'\u001b[39m\u001b[38;5;241m+\u001b[39msuffix]\u001b[38;5;241m.\u001b[39mvalues\n\u001b[1;32m    144\u001b[0m     )\n\u001b[1;32m    146\u001b[0m \u001b[38;5;28mprint\u001b[39m(\u001b[38;5;124m'\u001b[39m\u001b[38;5;124mperforming association test\u001b[39m\u001b[38;5;124m'\u001b[39m)\n\u001b[0;32m--> 147\u001b[0m res \u001b[38;5;241m=\u001b[39m \u001b[43m_association\u001b[49m\u001b[43m(\u001b[49m\u001b[43mNAMsvd\u001b[49m\u001b[43m,\u001b[49m\u001b[43m \u001b[49m\u001b[43mdu\u001b[49m\u001b[43m[\u001b[49m\u001b[38;5;124;43m'\u001b[39;49m\u001b[38;5;124;43m_M\u001b[39;49m\u001b[38;5;124;43m'\u001b[39;49m\u001b[38;5;241;43m+\u001b[39;49m\u001b[43msuffix\u001b[49m\u001b[43m]\u001b[49m\u001b[43m,\u001b[49m\u001b[43m \u001b[49m\u001b[43mdu\u001b[49m\u001b[43m[\u001b[49m\u001b[38;5;124;43m'\u001b[39;49m\u001b[38;5;124;43m_r\u001b[39;49m\u001b[38;5;124;43m'\u001b[39;49m\u001b[38;5;241;43m+\u001b[39;49m\u001b[43msuffix\u001b[49m\u001b[43m]\u001b[49m\u001b[43m,\u001b[49m\n\u001b[1;32m    148\u001b[0m \u001b[43m    \u001b[49m\u001b[43my\u001b[49m\u001b[43m[\u001b[49m\u001b[43mdu\u001b[49m\u001b[43m[\u001b[49m\u001b[38;5;124;43m'\u001b[39;49m\u001b[38;5;124;43m_filter_samples\u001b[39;49m\u001b[38;5;124;43m'\u001b[39;49m\u001b[38;5;241;43m+\u001b[39;49m\u001b[43msuffix\u001b[49m\u001b[43m]\u001b[49m\u001b[43m]\u001b[49m\u001b[43m,\u001b[49m\u001b[43m \u001b[49m\u001b[43mbatches\u001b[49m\u001b[43m[\u001b[49m\u001b[43mdu\u001b[49m\u001b[43m[\u001b[49m\u001b[38;5;124;43m'\u001b[39;49m\u001b[38;5;124;43m_filter_samples\u001b[39;49m\u001b[38;5;124;43m'\u001b[39;49m\u001b[38;5;241;43m+\u001b[39;49m\u001b[43msuffix\u001b[49m\u001b[43m]\u001b[49m\u001b[43m]\u001b[49m\u001b[43m,\u001b[49m\n\u001b[1;32m    149\u001b[0m \u001b[43m    \u001b[49m\u001b[38;5;241;43m*\u001b[39;49m\u001b[38;5;241;43m*\u001b[39;49m\u001b[43mkwargs\u001b[49m\u001b[43m)\u001b[49m\n\u001b[1;32m    151\u001b[0m \u001b[38;5;66;03m# add info about kept cells\u001b[39;00m\n\u001b[1;32m    152\u001b[0m \u001b[38;5;28mvars\u001b[39m(res)[\u001b[38;5;124m'\u001b[39m\u001b[38;5;124mkept\u001b[39m\u001b[38;5;124m'\u001b[39m] \u001b[38;5;241m=\u001b[39m du[\u001b[38;5;124m'\u001b[39m\u001b[38;5;124mkeptcells\u001b[39m\u001b[38;5;124m'\u001b[39m\u001b[38;5;241m+\u001b[39msuffix]\n",
      "File \u001b[0;32m~/.conda/envs/plswork/lib/python3.9/site-packages/cna/tools/_association.py:71\u001b[0m, in \u001b[0;36m_association\u001b[0;34m(NAMsvd, M, r, y, batches, ks, Nnull, force_permute_all, local_test, seed)\u001b[0m\n\u001b[1;32m     69\u001b[0m \u001b[38;5;66;03m# compute final p-value using Nnull null f-test p-values\u001b[39;00m\n\u001b[1;32m     70\u001b[0m y_ \u001b[38;5;241m=\u001b[39m conditional_permutation(batches, y, Nnull)\n\u001b[0;32m---> 71\u001b[0m nullminps, nullr2s \u001b[38;5;241m=\u001b[39m np\u001b[38;5;241m.\u001b[39marray([_minp_stats(y__)[\u001b[38;5;241m1\u001b[39m:] \u001b[38;5;28;01mfor\u001b[39;00m y__ \u001b[38;5;129;01min\u001b[39;00m y_\u001b[38;5;241m.\u001b[39mT])\u001b[38;5;241m.\u001b[39mT\n\u001b[1;32m     72\u001b[0m pfinal \u001b[38;5;241m=\u001b[39m ((nullminps \u001b[38;5;241m<\u001b[39m\u001b[38;5;241m=\u001b[39m p\u001b[38;5;241m+\u001b[39m\u001b[38;5;241m1e-8\u001b[39m)\u001b[38;5;241m.\u001b[39msum() \u001b[38;5;241m+\u001b[39m \u001b[38;5;241m1\u001b[39m)\u001b[38;5;241m/\u001b[39m(Nnull \u001b[38;5;241m+\u001b[39m \u001b[38;5;241m1\u001b[39m)\n\u001b[1;32m     73\u001b[0m \u001b[38;5;28;01mif\u001b[39;00m (nullminps \u001b[38;5;241m<\u001b[39m\u001b[38;5;241m=\u001b[39m p\u001b[38;5;241m+\u001b[39m\u001b[38;5;241m1e-8\u001b[39m)\u001b[38;5;241m.\u001b[39msum() \u001b[38;5;241m==\u001b[39m \u001b[38;5;241m0\u001b[39m:\n",
      "File \u001b[0;32m~/.conda/envs/plswork/lib/python3.9/site-packages/cna/tools/_association.py:71\u001b[0m, in \u001b[0;36m<listcomp>\u001b[0;34m(.0)\u001b[0m\n\u001b[1;32m     69\u001b[0m \u001b[38;5;66;03m# compute final p-value using Nnull null f-test p-values\u001b[39;00m\n\u001b[1;32m     70\u001b[0m y_ \u001b[38;5;241m=\u001b[39m conditional_permutation(batches, y, Nnull)\n\u001b[0;32m---> 71\u001b[0m nullminps, nullr2s \u001b[38;5;241m=\u001b[39m np\u001b[38;5;241m.\u001b[39marray([\u001b[43m_minp_stats\u001b[49m\u001b[43m(\u001b[49m\u001b[43my__\u001b[49m\u001b[43m)\u001b[49m[\u001b[38;5;241m1\u001b[39m:] \u001b[38;5;28;01mfor\u001b[39;00m y__ \u001b[38;5;129;01min\u001b[39;00m y_\u001b[38;5;241m.\u001b[39mT])\u001b[38;5;241m.\u001b[39mT\n\u001b[1;32m     72\u001b[0m pfinal \u001b[38;5;241m=\u001b[39m ((nullminps \u001b[38;5;241m<\u001b[39m\u001b[38;5;241m=\u001b[39m p\u001b[38;5;241m+\u001b[39m\u001b[38;5;241m1e-8\u001b[39m)\u001b[38;5;241m.\u001b[39msum() \u001b[38;5;241m+\u001b[39m \u001b[38;5;241m1\u001b[39m)\u001b[38;5;241m/\u001b[39m(Nnull \u001b[38;5;241m+\u001b[39m \u001b[38;5;241m1\u001b[39m)\n\u001b[1;32m     73\u001b[0m \u001b[38;5;28;01mif\u001b[39;00m (nullminps \u001b[38;5;241m<\u001b[39m\u001b[38;5;241m=\u001b[39m p\u001b[38;5;241m+\u001b[39m\u001b[38;5;241m1e-8\u001b[39m)\u001b[38;5;241m.\u001b[39msum() \u001b[38;5;241m==\u001b[39m \u001b[38;5;241m0\u001b[39m:\n",
      "File \u001b[0;32m~/.conda/envs/plswork/lib/python3.9/site-packages/cna/tools/_association.py:44\u001b[0m, in \u001b[0;36m_association.<locals>._minp_stats\u001b[0;34m(z)\u001b[0m\n\u001b[1;32m     42\u001b[0m zcond \u001b[38;5;241m=\u001b[39m M\u001b[38;5;241m.\u001b[39mdot(z)\n\u001b[1;32m     43\u001b[0m zcond \u001b[38;5;241m=\u001b[39m zcond \u001b[38;5;241m/\u001b[39m zcond\u001b[38;5;241m.\u001b[39mstd()\n\u001b[0;32m---> 44\u001b[0m ps, r2s \u001b[38;5;241m=\u001b[39m np\u001b[38;5;241m.\u001b[39marray([\n\u001b[1;32m     45\u001b[0m     _stats(\n\u001b[1;32m     46\u001b[0m         _reg(zcond, k)[\u001b[38;5;241m0\u001b[39m],\n\u001b[1;32m     47\u001b[0m         zcond,\n\u001b[1;32m     48\u001b[0m         k)\n\u001b[1;32m     49\u001b[0m     \u001b[38;5;28;01mfor\u001b[39;00m k \u001b[38;5;129;01min\u001b[39;00m ks\n\u001b[1;32m     50\u001b[0m ])\u001b[38;5;241m.\u001b[39mT\n\u001b[1;32m     51\u001b[0m k_ \u001b[38;5;241m=\u001b[39m np\u001b[38;5;241m.\u001b[39margmin(ps)\n\u001b[1;32m     52\u001b[0m \u001b[38;5;28;01mreturn\u001b[39;00m ks[k_], ps[k_], r2s[k_]\n",
      "File \u001b[0;32m~/.conda/envs/plswork/lib/python3.9/site-packages/cna/tools/_association.py:45\u001b[0m, in \u001b[0;36m<listcomp>\u001b[0;34m(.0)\u001b[0m\n\u001b[1;32m     42\u001b[0m zcond \u001b[38;5;241m=\u001b[39m M\u001b[38;5;241m.\u001b[39mdot(z)\n\u001b[1;32m     43\u001b[0m zcond \u001b[38;5;241m=\u001b[39m zcond \u001b[38;5;241m/\u001b[39m zcond\u001b[38;5;241m.\u001b[39mstd()\n\u001b[1;32m     44\u001b[0m ps, r2s \u001b[38;5;241m=\u001b[39m np\u001b[38;5;241m.\u001b[39marray([\n\u001b[0;32m---> 45\u001b[0m     \u001b[43m_stats\u001b[49m\u001b[43m(\u001b[49m\n\u001b[1;32m     46\u001b[0m \u001b[43m        \u001b[49m\u001b[43m_reg\u001b[49m\u001b[43m(\u001b[49m\u001b[43mzcond\u001b[49m\u001b[43m,\u001b[49m\u001b[43m \u001b[49m\u001b[43mk\u001b[49m\u001b[43m)\u001b[49m\u001b[43m[\u001b[49m\u001b[38;5;241;43m0\u001b[39;49m\u001b[43m]\u001b[49m\u001b[43m,\u001b[49m\n\u001b[1;32m     47\u001b[0m \u001b[43m        \u001b[49m\u001b[43mzcond\u001b[49m\u001b[43m,\u001b[49m\n\u001b[1;32m     48\u001b[0m \u001b[43m        \u001b[49m\u001b[43mk\u001b[49m\u001b[43m)\u001b[49m\n\u001b[1;32m     49\u001b[0m     \u001b[38;5;28;01mfor\u001b[39;00m k \u001b[38;5;129;01min\u001b[39;00m ks\n\u001b[1;32m     50\u001b[0m ])\u001b[38;5;241m.\u001b[39mT\n\u001b[1;32m     51\u001b[0m k_ \u001b[38;5;241m=\u001b[39m np\u001b[38;5;241m.\u001b[39margmin(ps)\n\u001b[1;32m     52\u001b[0m \u001b[38;5;28;01mreturn\u001b[39;00m ks[k_], ps[k_], r2s[k_]\n",
      "File \u001b[0;32m~/.conda/envs/plswork/lib/python3.9/site-packages/cna/tools/_association.py:37\u001b[0m, in \u001b[0;36m_association.<locals>._stats\u001b[0;34m(yhat, ycond, k)\u001b[0m\n\u001b[1;32m     35\u001b[0m deltasse \u001b[38;5;241m=\u001b[39m  ssered \u001b[38;5;241m-\u001b[39m ssefull\n\u001b[1;32m     36\u001b[0m f \u001b[38;5;241m=\u001b[39m (deltasse \u001b[38;5;241m/\u001b[39m k) \u001b[38;5;241m/\u001b[39m (ssefull\u001b[38;5;241m/\u001b[39mn)\n\u001b[0;32m---> 37\u001b[0m p \u001b[38;5;241m=\u001b[39m \u001b[43mst\u001b[49m\u001b[38;5;241;43m.\u001b[39;49m\u001b[43mf\u001b[49m\u001b[38;5;241;43m.\u001b[39;49m\u001b[43msf\u001b[49m\u001b[43m(\u001b[49m\u001b[43mf\u001b[49m\u001b[43m,\u001b[49m\u001b[43m \u001b[49m\u001b[43mk\u001b[49m\u001b[43m,\u001b[49m\u001b[43m \u001b[49m\u001b[43mn\u001b[49m\u001b[38;5;241;43m-\u001b[39;49m\u001b[43m(\u001b[49m\u001b[38;5;241;43m1\u001b[39;49m\u001b[38;5;241;43m+\u001b[39;49m\u001b[43mr\u001b[49m\u001b[38;5;241;43m+\u001b[39;49m\u001b[43mk\u001b[49m\u001b[43m)\u001b[49m\u001b[43m)\u001b[49m \u001b[38;5;66;03m# F test\u001b[39;00m\n\u001b[1;32m     38\u001b[0m r2 \u001b[38;5;241m=\u001b[39m \u001b[38;5;241m1\u001b[39m \u001b[38;5;241m-\u001b[39m ssefull\u001b[38;5;241m/\u001b[39mssered\n\u001b[1;32m     39\u001b[0m \u001b[38;5;28;01mreturn\u001b[39;00m p, r2\n",
      "File \u001b[0;32m~/.conda/envs/plswork/lib/python3.9/site-packages/scipy/stats/_distn_infrastructure.py:2257\u001b[0m, in \u001b[0;36mrv_continuous.sf\u001b[0;34m(self, x, *args, **kwds)\u001b[0m\n\u001b[1;32m   2255\u001b[0m cond \u001b[38;5;241m=\u001b[39m cond0 \u001b[38;5;241m&\u001b[39m cond1\n\u001b[1;32m   2256\u001b[0m output \u001b[38;5;241m=\u001b[39m zeros(shape(cond), dtyp)\n\u001b[0;32m-> 2257\u001b[0m place(output, \u001b[43m(\u001b[49m\u001b[38;5;241;43m1\u001b[39;49m\u001b[38;5;241;43m-\u001b[39;49m\u001b[43mcond0\u001b[49m\u001b[43m)\u001b[49m\u001b[38;5;241;43m+\u001b[39;49m\u001b[43mnp\u001b[49m\u001b[38;5;241;43m.\u001b[39;49m\u001b[43misnan\u001b[49m\u001b[43m(\u001b[49m\u001b[43mx\u001b[49m\u001b[43m)\u001b[49m, \u001b[38;5;28mself\u001b[39m\u001b[38;5;241m.\u001b[39mbadvalue)\n\u001b[1;32m   2258\u001b[0m place(output, cond2, \u001b[38;5;241m1.0\u001b[39m)\n\u001b[1;32m   2259\u001b[0m \u001b[38;5;28;01mif\u001b[39;00m np\u001b[38;5;241m.\u001b[39many(cond):\n",
      "\u001b[0;31mKeyboardInterrupt\u001b[0m: "
     ]
    }
   ],
   "source": [
    "np.random.seed(0) \n",
    "res = cna.tl._association.association(d, #dataset \n",
    "                                      d.samplem['Final_ISN_[III]'], #phenotype\n",
    "#                                       batches=d.samplem.processing_batch, #batches\n",
    "                                      Nnull=10000, # number of null permutations to do (defaults to only 1e3)\n",
    "                                      ks=[1,2,3,4,5,6,7,8,9,10,11,12,13,14,15,16,17,18,19,20] # I asked the method to consider up to 10 PCs because\n",
    "                                                                #it chose the max number of PCs it considered the default set of [1,2,3,4]\n",
    "                                     )\n",
    "print(res.k)\n",
    "print(res.ks)\n",
    "print('p =', res.p, ',', res.k, 'PCs used')\n",
    "print('total r^2 between top {} NAM PCs and outcome is {:.2f}'.format(res.k, res.r2))"
   ]
  },
  {
   "cell_type": "code",
   "execution_count": 53,
   "id": "e38f0d8d-52f7-4077-96ce-995ed7910d83",
   "metadata": {},
   "outputs": [
    {
     "name": "stdout",
     "output_type": "stream",
     "text": [
      "performing association test\n",
      "computing neighborhood-level FDRs\n",
      "2\n",
      "[1, 2, 3, 4, 5, 6, 7, 8, 9, 10, 11, 12, 13, 14, 15, 16, 17, 18, 19, 20]\n",
      "p = 0.7496250374962504 , 2 PCs used\n",
      "total r^2 between top 2 NAM PCs and outcome is 0.02\n"
     ]
    }
   ],
   "source": [
    "np.random.seed(0) \n",
    "res = cna.tl._association.association(d, #dataset \n",
    "                                      d.samplem['Final_ISN_[III][V]'], #phenotype\n",
    "#                                       batches=d.samplem.processing_batch, #batches\n",
    "                                      Nnull=10000, # number of null permutations to do (defaults to only 1e3)\n",
    "                                      ks=[1,2,3,4,5,6,7,8,9,10,11,12,13,14,15,16,17,18,19,20] # I asked the method to consider up to 10 PCs because\n",
    "                                                                #it chose the max number of PCs it considered the default set of [1,2,3,4]\n",
    "                                     )\n",
    "print(res.k)\n",
    "print(res.ks)\n",
    "print('p =', res.p, ',', res.k, 'PCs used')\n",
    "print('total r^2 between top {} NAM PCs and outcome is {:.2f}'.format(res.k, res.r2))"
   ]
  },
  {
   "cell_type": "code",
   "execution_count": 46,
   "id": "36abd6d9-365b-4bcb-86d9-685090dd6159",
   "metadata": {},
   "outputs": [
    {
     "name": "stdout",
     "output_type": "stream",
     "text": [
      "performing association test\n",
      "computing neighborhood-level FDRs\n",
      "9\n",
      "[1, 2, 3, 4, 5, 6, 7, 8, 9, 10, 11, 12, 13, 14, 15, 16, 17, 18, 19, 20]\n",
      "p = 0.0006999300069993001 , 9 PCs used\n",
      "total r^2 between top 9 NAM PCs and outcome is 0.30\n"
     ]
    }
   ],
   "source": [
    "np.random.seed(0) \n",
    "res = cna.tl._association.association(d, #dataset \n",
    "                                      d.samplem['Final_ISN_[IV]'], #phenotype\n",
    "#                                       batches=d.samplem.processing_batch, #batches\n",
    "                                      Nnull=10000, # number of null permutations to do (defaults to only 1e3)\n",
    "                                      ks=[1,2,3,4,5,6,7,8,9,10,11,12,13,14,15,16,17,18,19,20] # I asked the method to consider up to 10 PCs because\n",
    "                                                                #it chose the max number of PCs it considered the default set of [1,2,3,4]\n",
    "                                     )\n",
    "print(res.k)\n",
    "print(res.ks)\n",
    "print('p =', res.p, ',', res.k, 'PCs used')\n",
    "print('total r^2 between top {} NAM PCs and outcome is {:.2f}'.format(res.k, res.r2))"
   ]
  },
  {
   "cell_type": "code",
   "execution_count": 59,
   "id": "0a823ab5-6f78-45b3-a2b7-f9bf1fa79cf2",
   "metadata": {},
   "outputs": [],
   "source": [
    "np.savetxt(\"/data/srlab/ssg34/SLE_kidney_v2/data/pbmc/t_nk/isn/class_4_ncorr.csv\", \n",
    "               res.ncorrs, delimiter=\",\")\n",
    "np.savetxt(\"/data/srlab/ssg34/SLE_kidney_v2/data/pbmc/t_nk/isn/class_4_fdrs.csv\", \n",
    "               res.fdrs, delimiter=\",\")"
   ]
  },
  {
   "cell_type": "code",
   "execution_count": 55,
   "id": "83e23d5a-95d4-4b27-bf9d-25a3245c1f21",
   "metadata": {},
   "outputs": [
    {
     "name": "stdout",
     "output_type": "stream",
     "text": [
      "performing association test\n",
      "computing neighborhood-level FDRs\n",
      "4\n",
      "[1, 2, 3, 4, 5, 6, 7, 8, 9, 10, 11, 12, 13, 14, 15, 16, 17, 18, 19, 20]\n",
      "p = 0.49805019498050196 , 4 PCs used\n",
      "total r^2 between top 4 NAM PCs and outcome is 0.07\n"
     ]
    }
   ],
   "source": [
    "np.random.seed(0) \n",
    "res = cna.tl._association.association(d, #dataset \n",
    "                                      d.samplem['Final_ISN_[IV][V]'], #phenotype\n",
    "#                                       batches=d.samplem.processing_batch, #batches\n",
    "                                      Nnull=10000, # number of null permutations to do (defaults to only 1e3)\n",
    "                                      ks=[1,2,3,4,5,6,7,8,9,10,11,12,13,14,15,16,17,18,19,20] # I asked the method to consider up to 10 PCs because\n",
    "                                                                #it chose the max number of PCs it considered the default set of [1,2,3,4]\n",
    "                                     )\n",
    "print(res.k)\n",
    "print(res.ks)\n",
    "print('p =', res.p, ',', res.k, 'PCs used')\n",
    "print('total r^2 between top {} NAM PCs and outcome is {:.2f}'.format(res.k, res.r2))"
   ]
  },
  {
   "cell_type": "code",
   "execution_count": 47,
   "id": "6deb9370-72e4-4920-b290-27a1be972edf",
   "metadata": {},
   "outputs": [
    {
     "name": "stdout",
     "output_type": "stream",
     "text": [
      "performing association test\n",
      "computing neighborhood-level FDRs\n",
      "19\n",
      "[1, 2, 3, 4, 5, 6, 7, 8, 9, 10, 11, 12, 13, 14, 15, 16, 17, 18, 19, 20]\n",
      "p = 0.036896310368963105 , 19 PCs used\n",
      "total r^2 between top 19 NAM PCs and outcome is 0.29\n"
     ]
    }
   ],
   "source": [
    "np.random.seed(0) \n",
    "res = cna.tl._association.association(d, #dataset \n",
    "                                      d.samplem['Final_ISN_[V]'], #phenotype\n",
    "#                                       batches=d.samplem.processing_batch, #batches\n",
    "                                      Nnull=10000, # number of null permutations to do (defaults to only 1e3)\n",
    "                                      ks=[1,2,3,4,5,6,7,8,9,10,11,12,13,14,15,16,17,18,19,20] # I asked the method to consider up to 10 PCs because\n",
    "                                                                #it chose the max number of PCs it considered the default set of [1,2,3,4]\n",
    "                                     )\n",
    "print(res.k)\n",
    "print(res.ks)\n",
    "print('p =', res.p, ',', res.k, 'PCs used')\n",
    "print('total r^2 between top {} NAM PCs and outcome is {:.2f}'.format(res.k, res.r2))"
   ]
  },
  {
   "cell_type": "code",
   "execution_count": 51,
   "id": "0f346e0a-6037-444a-8dc3-abbb213a9b52",
   "metadata": {},
   "outputs": [],
   "source": [
    "t_nk_uni[\"ISN_Class_Five\"] = res.p"
   ]
  },
  {
   "cell_type": "code",
   "execution_count": 50,
   "id": "9ed51f2b-2f06-4329-ba6d-2f679824dbbb",
   "metadata": {},
   "outputs": [],
   "source": [
    "np.savetxt(\"/data/srlab/ssg34/SLE_kidney_v2/data/pbmc/t_nk/isn/class_5_ncorr.csv\", \n",
    "               res.ncorrs, delimiter=\",\")\n",
    "np.savetxt(\"/data/srlab/ssg34/SLE_kidney_v2/data/pbmc/t_nk/isn/class_5_fdrs.csv\", \n",
    "               res.fdrs, delimiter=\",\")"
   ]
  },
  {
   "cell_type": "code",
   "execution_count": 54,
   "id": "1be74e89-94ea-4c1f-b9ff-242fc16980a2",
   "metadata": {},
   "outputs": [
    {
     "name": "stdout",
     "output_type": "stream",
     "text": [
      "covariate-adjusted NAM not found; computing and saving\n"
     ]
    },
    {
     "name": "stderr",
     "output_type": "stream",
     "text": [
      "/PHShome/ssg34/.conda/envs/plswork/lib/python3.9/site-packages/cna/tools/_nam.py:101: UserWarning: only one unique batch supplied to prep\n",
      "  warnings.warn('only one unique batch supplied to prep')\n"
     ]
    },
    {
     "name": "stdout",
     "output_type": "stream",
     "text": [
      "computing SVD\n",
      "performing association test\n",
      "computing neighborhood-level FDRs\n",
      "19\n",
      "[1, 2, 3, 4, 5, 6, 7, 8, 9, 10, 11, 12, 13, 14, 15, 16, 17, 18, 19, 20]\n",
      "p = 0.0927907209279072 , 19 PCs used\n",
      "total r^2 between top 19 NAM PCs and outcome is 0.27\n"
     ]
    }
   ],
   "source": [
    "np.random.seed(0) \n",
    "res = cna.tl._association.association(d, #dataset \n",
    "                                      d.samplem['Final_ISN_[V]'], #phenotype\n",
    "#                                       batches=d.samplem.processing_batch, #batches\n",
    "                                      covs = d.samplem[['Age', 'Sex']],\n",
    "                                      Nnull=10000, # number of null permutations to do (defaults to only 1e3)\n",
    "                                      ks=[1,2,3,4,5,6,7,8,9,10,11,12,13,14,15,16,17,18,19,20] # I asked the method to consider up to 10 PCs because\n",
    "                                                                #it chose the max number of PCs it considered the default set of [1,2,3,4]\n",
    "                                     )\n",
    "print(res.k)\n",
    "print(res.ks)\n",
    "print('p =', res.p, ',', res.k, 'PCs used')\n",
    "print('total r^2 between top {} NAM PCs and outcome is {:.2f}'.format(res.k, res.r2))"
   ]
  },
  {
   "cell_type": "code",
   "execution_count": 56,
   "id": "bfeb43c2-065d-40c5-ad69-5d8f0c980b94",
   "metadata": {},
   "outputs": [],
   "source": [
    "t_nk_cond[\"ISN_Class_Five\"] = res.p"
   ]
  },
  {
   "cell_type": "markdown",
   "id": "623930d8-6da6-456f-889e-65d3824a5456",
   "metadata": {},
   "source": [
    "# MONOCYTES/DCs"
   ]
  },
  {
   "cell_type": "code",
   "execution_count": 58,
   "id": "00d34f88-3fc3-4ef4-b948-661137a4a751",
   "metadata": {},
   "outputs": [],
   "source": [
    "mono_uni = dict()\n",
    "mono_cond = dict()"
   ]
  },
  {
   "cell_type": "markdown",
   "id": "dc6881d3-2821-44e1-960d-b2ee7f92a4bc",
   "metadata": {},
   "source": [
    "## CASE/CONTROL"
   ]
  },
  {
   "cell_type": "code",
   "execution_count": 4,
   "id": "36b777fb-0147-4939-b7ee-cb35a4b915e6",
   "metadata": {},
   "outputs": [
    {
     "name": "stdout",
     "output_type": "stream",
     "text": [
      "(106436, 25)\n"
     ]
    },
    {
     "name": "stderr",
     "output_type": "stream",
     "text": [
      "/tmp/ipykernel_33176/1117673414.py:1: DtypeWarning: Columns (11) have mixed types. Specify dtype option on import or set low_memory=False.\n",
      "  meta = pd.read_csv('/data/srlab/ssg34/SLE_kidney_v2/data/pbmc/mono_dc/case_control/meta.csv')\n"
     ]
    }
   ],
   "source": [
    "meta = pd.read_csv('/data/srlab/ssg34/SLE_kidney_v2/data/pbmc/mono_dc/case_control/meta.csv')\n",
    "print(meta.shape)"
   ]
  },
  {
   "cell_type": "code",
   "execution_count": 5,
   "id": "cac3477f-6054-4e0d-8f0b-d5202ae045f1",
   "metadata": {},
   "outputs": [
    {
     "name": "stdout",
     "output_type": "stream",
     "text": [
      "(106436, 20)\n"
     ]
    }
   ],
   "source": [
    "harmony = pd.read_csv('/data/srlab/ssg34/SLE_kidney_v2/data/pbmc/mono_dc/case_control/harmony.csv')\n",
    "print(harmony.shape)"
   ]
  },
  {
   "cell_type": "code",
   "execution_count": 6,
   "id": "140de022-3d3e-45ad-a39e-d5379434edb4",
   "metadata": {},
   "outputs": [
    {
     "name": "stdout",
     "output_type": "stream",
     "text": [
      "(106436, 2)\n"
     ]
    }
   ],
   "source": [
    "umap = pd.read_csv('/data/srlab/ssg34/SLE_kidney_v2/data/pbmc/mono_dc/case_control/umap.csv')\n",
    "print(umap.shape)"
   ]
  },
  {
   "cell_type": "code",
   "execution_count": 7,
   "id": "f032cfbb-0a3c-4007-8c9e-72eb544baac1",
   "metadata": {},
   "outputs": [
    {
     "name": "stdout",
     "output_type": "stream",
     "text": [
      "warning: the following columns of obs are non-numeric.\n",
      "['orig.ident' 'BARCODE' 'SNG.1ST' 'Cell' 'Scrublet_Sample'\n",
      " 'doublet_prediction' 'Unified_Visit' 'Donor' 'cell.type.ids' 'broad.ids'\n",
      " 'mono.ids']\n",
      "consider casting to numeric types where appropriate, and\n",
      "consider re-coding text-valued columns with pandas.get_dummies\n"
     ]
    },
    {
     "name": "stderr",
     "output_type": "stream",
     "text": [
      "/PHShome/ssg34/.conda/envs/plswork/lib/python3.9/site-packages/multianndata/core.py:17: FutureWarning: X.dtype being converted to np.float32 from float64. In the next version of anndata (0.9) conversion will not be automatic. Pass dtype explicitly to avoid this warning. Pass `AnnData(X, dtype=X.dtype, ...)` to get the future behavour.\n",
      "  super().__init__(*args, **kwargs)\n",
      "/PHShome/ssg34/.conda/envs/plswork/lib/python3.9/site-packages/anndata/_core/anndata.py:121: ImplicitModificationWarning: Transforming to str index.\n",
      "  warnings.warn(\"Transforming to str index.\", ImplicitModificationWarning)\n"
     ]
    },
    {
     "data": {
      "text/html": [
       "<div>\n",
       "<style scoped>\n",
       "    .dataframe tbody tr th:only-of-type {\n",
       "        vertical-align: middle;\n",
       "    }\n",
       "\n",
       "    .dataframe tbody tr th {\n",
       "        vertical-align: top;\n",
       "    }\n",
       "\n",
       "    .dataframe thead th {\n",
       "        text-align: right;\n",
       "    }\n",
       "</style>\n",
       "<table border=\"1\" class=\"dataframe\">\n",
       "  <thead>\n",
       "    <tr style=\"text-align: right;\">\n",
       "      <th></th>\n",
       "      <th>Type</th>\n",
       "    </tr>\n",
       "    <tr>\n",
       "      <th>Unified_Visit</th>\n",
       "      <th></th>\n",
       "    </tr>\n",
       "  </thead>\n",
       "  <tbody>\n",
       "    <tr>\n",
       "      <th>200-2741-V0</th>\n",
       "      <td>1.0</td>\n",
       "    </tr>\n",
       "    <tr>\n",
       "      <th>200-1137-V0</th>\n",
       "      <td>1.0</td>\n",
       "    </tr>\n",
       "    <tr>\n",
       "      <th>200-1152-V0</th>\n",
       "      <td>1.0</td>\n",
       "    </tr>\n",
       "    <tr>\n",
       "      <th>200-1157-V0</th>\n",
       "      <td>1.0</td>\n",
       "    </tr>\n",
       "    <tr>\n",
       "      <th>200-2729-V0</th>\n",
       "      <td>1.0</td>\n",
       "    </tr>\n",
       "  </tbody>\n",
       "</table>\n",
       "</div>"
      ],
      "text/plain": [
       "               Type\n",
       "Unified_Visit      \n",
       "200-2741-V0     1.0\n",
       "200-1137-V0     1.0\n",
       "200-1152-V0     1.0\n",
       "200-1157-V0     1.0\n",
       "200-2729-V0     1.0"
      ]
     },
     "execution_count": 7,
     "metadata": {},
     "output_type": "execute_result"
    }
   ],
   "source": [
    "# Start by making anndata object\n",
    "d = mad.MultiAnnData(X=harmony, obs=meta, sampleid=\"Unified_Visit\")\n",
    "#d.obs_to_sample(['Type', 'Site',\n",
    "#                 'Responder_Status', 'Sex',\n",
    "#                 'Age', 'Race',\n",
    "#                'Ethnicity', 'ISN',\n",
    "#               'Activity', \"Chronicity\",\n",
    "#                 'processing_batch'])\n",
    "d.obs_to_sample(['Type'])\n",
    "d.samplem.head()"
   ]
  },
  {
   "cell_type": "code",
   "execution_count": 8,
   "id": "10bb9feb-7911-4915-b922-b633c1689e7c",
   "metadata": {},
   "outputs": [],
   "source": [
    "umap.index = d.obs.index\n",
    "d.obsm['X_umap'] = umap"
   ]
  },
  {
   "cell_type": "code",
   "execution_count": 9,
   "id": "25a40882-f8d0-4223-b136-18f1d8093b1e",
   "metadata": {},
   "outputs": [
    {
     "name": "stdout",
     "output_type": "stream",
     "text": [
      "computing default knn graph\n"
     ]
    },
    {
     "name": "stderr",
     "output_type": "stream",
     "text": [
      "/PHShome/ssg34/.conda/envs/plswork/lib/python3.9/site-packages/tqdm/auto.py:22: TqdmWarning: IProgress not found. Please update jupyter and ipywidgets. See https://ipywidgets.readthedocs.io/en/stable/user_install.html\n",
      "  from .autonotebook import tqdm as notebook_tqdm\n"
     ]
    }
   ],
   "source": [
    "np.random.seed(0) \n",
    "cna.pp.knn(d)"
   ]
  },
  {
   "cell_type": "code",
   "execution_count": 10,
   "id": "5259ed92-9f6d-4181-8726-e7f6901d41bb",
   "metadata": {},
   "outputs": [
    {
     "name": "stdout",
     "output_type": "stream",
     "text": [
      "qcd NAM not found; computing and saving\n",
      "\ttaking step 1\n",
      "\tmedian kurtosis: 35.39288330078125\n",
      "\t20th percentile R2(t,t-1): nan\n",
      "\ttaking step 2\n",
      "\tmedian kurtosis: 24.210243225097656\n",
      "\t20th percentile R2(t,t-1): 0.7428652048110962\n",
      "\ttaking step 3\n",
      "\tmedian kurtosis: 14.919307708740234\n",
      "\t20th percentile R2(t,t-1): 0.8983067274093628\n",
      "\ttaking step 4\n",
      "\tmedian kurtosis: 9.606063842773438\n",
      "\t20th percentile R2(t,t-1): 0.9357231259346008\n",
      "\ttaking step 5\n",
      "\tmedian kurtosis: 6.775773286819458\n",
      "\t20th percentile R2(t,t-1): 0.9571501612663269\n",
      "stopping after 5 steps\n",
      "covariate-adjusted NAM not found; computing and saving\n"
     ]
    },
    {
     "name": "stderr",
     "output_type": "stream",
     "text": [
      "/PHShome/ssg34/.conda/envs/plswork/lib/python3.9/site-packages/cna/tools/_nam.py:79: UserWarning: only one unique batch supplied to qc\n",
      "  warnings.warn('only one unique batch supplied to qc')\n",
      "/PHShome/ssg34/.conda/envs/plswork/lib/python3.9/site-packages/cna/tools/_nam.py:101: UserWarning: only one unique batch supplied to prep\n",
      "  warnings.warn('only one unique batch supplied to prep')\n"
     ]
    },
    {
     "name": "stdout",
     "output_type": "stream",
     "text": [
      "computing SVD\n",
      "performing association test\n",
      "computing neighborhood-level FDRs\n",
      "13\n",
      "[1, 2, 3, 4, 5, 6, 7, 8, 9, 10, 11, 12, 13, 14, 15, 16, 17, 18, 19, 20]\n",
      "p = 0.00019998000199980003 , 13 PCs used\n",
      "total r^2 between top 13 NAM PCs and outcome is 0.43\n"
     ]
    }
   ],
   "source": [
    "np.random.seed(0) \n",
    "res = cna.tl._association.association(d, #dataset \n",
    "                                      d.samplem.Type, #phenotype\n",
    "#                                       batches=d.samplem.processing_batch, #batches\n",
    "                                      Nnull=10000, # number of null permutations to do (defaults to only 1e3)\n",
    "                                      ks=[1,2,3,4,5,6,7,8,9,10,11,12,13,14,15,16,17,18,19,20] # I asked the method to consider up to 10 PCs because\n",
    "                                                                #it chose the max number of PCs it considered the default set of [1,2,3,4]\n",
    "                                     )\n",
    "print(res.k)\n",
    "print(res.ks)\n",
    "print('p =', res.p, ',', res.k, 'PCs used')\n",
    "print('total r^2 between top {} NAM PCs and outcome is {:.2f}'.format(res.k, res.r2))"
   ]
  },
  {
   "cell_type": "code",
   "execution_count": 11,
   "id": "e4480b26-5cc3-4726-b528-26137b14b15b",
   "metadata": {},
   "outputs": [],
   "source": [
    "np.savetxt(\"/data/srlab/ssg34/SLE_kidney_v2/data/pbmc/mono_dc/case_control/ncorr.csv\", \n",
    "               res.ncorrs, delimiter=\",\")\n",
    "np.savetxt(\"/data/srlab/ssg34/SLE_kidney_v2/data/pbmc/mono_dc/case_control/fdrs.csv\", \n",
    "               res.fdrs, delimiter=\",\")"
   ]
  },
  {
   "cell_type": "markdown",
   "id": "8a8969d9-d076-4ee1-a91d-171900365ce3",
   "metadata": {},
   "source": [
    "## RESPONSE"
   ]
  },
  {
   "cell_type": "code",
   "execution_count": 78,
   "id": "0015d709-57ed-449f-9ee8-67e9c06f8628",
   "metadata": {},
   "outputs": [
    {
     "name": "stdout",
     "output_type": "stream",
     "text": [
      "(72612, 40)\n"
     ]
    }
   ],
   "source": [
    "meta = pd.read_csv('/data/srlab/ssg34/SLE_kidney_v2/data/pbmc/mono_dc/response/meta.csv')\n",
    "print(meta.shape)"
   ]
  },
  {
   "cell_type": "code",
   "execution_count": 79,
   "id": "7c6f2876-0624-4005-b609-5907c81562e3",
   "metadata": {},
   "outputs": [
    {
     "name": "stdout",
     "output_type": "stream",
     "text": [
      "(72612, 20)\n"
     ]
    }
   ],
   "source": [
    "harmony = pd.read_csv('/data/srlab/ssg34/SLE_kidney_v2/data/pbmc/mono_dc/response/harmony.csv')\n",
    "print(harmony.shape)"
   ]
  },
  {
   "cell_type": "code",
   "execution_count": 80,
   "id": "b9ce3490-a081-4fd2-b1bb-1cb461c8648c",
   "metadata": {},
   "outputs": [
    {
     "name": "stdout",
     "output_type": "stream",
     "text": [
      "(72612, 2)\n"
     ]
    }
   ],
   "source": [
    "umap = pd.read_csv('/data/srlab/ssg34/SLE_kidney_v2/data/pbmc/mono_dc/response/umap.csv')\n",
    "print(umap.shape)"
   ]
  },
  {
   "cell_type": "code",
   "execution_count": 81,
   "id": "58aad621-b884-4100-87ea-4156e1214c5b",
   "metadata": {},
   "outputs": [
    {
     "name": "stderr",
     "output_type": "stream",
     "text": [
      "/PHShome/ssg34/.conda/envs/plswork/lib/python3.9/site-packages/multianndata/core.py:17: FutureWarning: X.dtype being converted to np.float32 from float64. In the next version of anndata (0.9) conversion will not be automatic. Pass dtype explicitly to avoid this warning. Pass `AnnData(X, dtype=X.dtype, ...)` to get the future behavour.\n",
      "  super().__init__(*args, **kwargs)\n",
      "/PHShome/ssg34/.conda/envs/plswork/lib/python3.9/site-packages/anndata/_core/anndata.py:121: ImplicitModificationWarning: Transforming to str index.\n",
      "  warnings.warn(\"Transforming to str index.\", ImplicitModificationWarning)\n"
     ]
    },
    {
     "name": "stdout",
     "output_type": "stream",
     "text": [
      "warning: the following columns of obs are non-numeric.\n",
      "['Cell' 'BARCODE' 'cell.type.ids' 'Unified_Visit' 'AMP.Subject_ID'\n",
      " 'Responder.Status' 'Race' 'Final_ISN' 'Type' 'Final_Site']\n",
      "consider casting to numeric types where appropriate, and\n",
      "consider re-coding text-valued columns with pandas.get_dummies\n"
     ]
    },
    {
     "data": {
      "text/html": [
       "<div>\n",
       "<style scoped>\n",
       "    .dataframe tbody tr th:only-of-type {\n",
       "        vertical-align: middle;\n",
       "    }\n",
       "\n",
       "    .dataframe tbody tr th {\n",
       "        vertical-align: top;\n",
       "    }\n",
       "\n",
       "    .dataframe thead th {\n",
       "        text-align: right;\n",
       "    }\n",
       "</style>\n",
       "<table border=\"1\" class=\"dataframe\">\n",
       "  <thead>\n",
       "    <tr style=\"text-align: right;\">\n",
       "      <th></th>\n",
       "      <th>Sex</th>\n",
       "      <th>Age</th>\n",
       "      <th>Final_Chronicity</th>\n",
       "      <th>Final_Activity</th>\n",
       "      <th>First_biop</th>\n",
       "      <th>Pred_use</th>\n",
       "      <th>Responder_Status</th>\n",
       "      <th>Race_[A]</th>\n",
       "      <th>Race_[A][B]</th>\n",
       "      <th>Race_[B]</th>\n",
       "      <th>...</th>\n",
       "      <th>Final_ISN_[IV][V]</th>\n",
       "      <th>Final_ISN_[V]</th>\n",
       "      <th>Final_Site_Einstein</th>\n",
       "      <th>Final_Site_JHU</th>\n",
       "      <th>Final_Site_Michigan</th>\n",
       "      <th>Final_Site_MUSC</th>\n",
       "      <th>Final_Site_NYU</th>\n",
       "      <th>Final_Site_Rochester</th>\n",
       "      <th>Final_Site_Texas Tech</th>\n",
       "      <th>Final_Site_UCSF</th>\n",
       "    </tr>\n",
       "    <tr>\n",
       "      <th>Unified_Visit</th>\n",
       "      <th></th>\n",
       "      <th></th>\n",
       "      <th></th>\n",
       "      <th></th>\n",
       "      <th></th>\n",
       "      <th></th>\n",
       "      <th></th>\n",
       "      <th></th>\n",
       "      <th></th>\n",
       "      <th></th>\n",
       "      <th></th>\n",
       "      <th></th>\n",
       "      <th></th>\n",
       "      <th></th>\n",
       "      <th></th>\n",
       "      <th></th>\n",
       "      <th></th>\n",
       "      <th></th>\n",
       "      <th></th>\n",
       "      <th></th>\n",
       "      <th></th>\n",
       "    </tr>\n",
       "  </thead>\n",
       "  <tbody>\n",
       "    <tr>\n",
       "      <th>200-1240-V0</th>\n",
       "      <td>1.0</td>\n",
       "      <td>-0.843512</td>\n",
       "      <td>0.0</td>\n",
       "      <td>5.0</td>\n",
       "      <td>1.0</td>\n",
       "      <td>1.0</td>\n",
       "      <td>1.0</td>\n",
       "      <td>0.0</td>\n",
       "      <td>0.0</td>\n",
       "      <td>1.0</td>\n",
       "      <td>...</td>\n",
       "      <td>0.0</td>\n",
       "      <td>0.0</td>\n",
       "      <td>0.0</td>\n",
       "      <td>1.0</td>\n",
       "      <td>0.0</td>\n",
       "      <td>0.0</td>\n",
       "      <td>0.0</td>\n",
       "      <td>0.0</td>\n",
       "      <td>0.0</td>\n",
       "      <td>0.0</td>\n",
       "    </tr>\n",
       "    <tr>\n",
       "      <th>200-2741-V0</th>\n",
       "      <td>1.0</td>\n",
       "      <td>1.466134</td>\n",
       "      <td>8.0</td>\n",
       "      <td>0.0</td>\n",
       "      <td>0.0</td>\n",
       "      <td>0.0</td>\n",
       "      <td>0.0</td>\n",
       "      <td>0.0</td>\n",
       "      <td>0.0</td>\n",
       "      <td>1.0</td>\n",
       "      <td>...</td>\n",
       "      <td>0.0</td>\n",
       "      <td>1.0</td>\n",
       "      <td>0.0</td>\n",
       "      <td>1.0</td>\n",
       "      <td>0.0</td>\n",
       "      <td>0.0</td>\n",
       "      <td>0.0</td>\n",
       "      <td>0.0</td>\n",
       "      <td>0.0</td>\n",
       "      <td>0.0</td>\n",
       "    </tr>\n",
       "    <tr>\n",
       "      <th>200-1137-V0</th>\n",
       "      <td>1.0</td>\n",
       "      <td>3.005898</td>\n",
       "      <td>3.0</td>\n",
       "      <td>5.0</td>\n",
       "      <td>1.0</td>\n",
       "      <td>1.0</td>\n",
       "      <td>2.0</td>\n",
       "      <td>0.0</td>\n",
       "      <td>0.0</td>\n",
       "      <td>0.0</td>\n",
       "      <td>...</td>\n",
       "      <td>0.0</td>\n",
       "      <td>0.0</td>\n",
       "      <td>0.0</td>\n",
       "      <td>0.0</td>\n",
       "      <td>0.0</td>\n",
       "      <td>0.0</td>\n",
       "      <td>1.0</td>\n",
       "      <td>0.0</td>\n",
       "      <td>0.0</td>\n",
       "      <td>0.0</td>\n",
       "    </tr>\n",
       "    <tr>\n",
       "      <th>200-1152-V0</th>\n",
       "      <td>1.0</td>\n",
       "      <td>0.465287</td>\n",
       "      <td>0.0</td>\n",
       "      <td>1.0</td>\n",
       "      <td>1.0</td>\n",
       "      <td>1.0</td>\n",
       "      <td>2.0</td>\n",
       "      <td>1.0</td>\n",
       "      <td>0.0</td>\n",
       "      <td>0.0</td>\n",
       "      <td>...</td>\n",
       "      <td>0.0</td>\n",
       "      <td>0.0</td>\n",
       "      <td>0.0</td>\n",
       "      <td>0.0</td>\n",
       "      <td>0.0</td>\n",
       "      <td>0.0</td>\n",
       "      <td>1.0</td>\n",
       "      <td>0.0</td>\n",
       "      <td>0.0</td>\n",
       "      <td>0.0</td>\n",
       "    </tr>\n",
       "    <tr>\n",
       "      <th>200-1157-V0</th>\n",
       "      <td>1.0</td>\n",
       "      <td>0.619263</td>\n",
       "      <td>2.0</td>\n",
       "      <td>8.0</td>\n",
       "      <td>0.0</td>\n",
       "      <td>1.0</td>\n",
       "      <td>2.0</td>\n",
       "      <td>0.0</td>\n",
       "      <td>0.0</td>\n",
       "      <td>0.0</td>\n",
       "      <td>...</td>\n",
       "      <td>0.0</td>\n",
       "      <td>0.0</td>\n",
       "      <td>0.0</td>\n",
       "      <td>0.0</td>\n",
       "      <td>0.0</td>\n",
       "      <td>0.0</td>\n",
       "      <td>1.0</td>\n",
       "      <td>0.0</td>\n",
       "      <td>0.0</td>\n",
       "      <td>0.0</td>\n",
       "    </tr>\n",
       "  </tbody>\n",
       "</table>\n",
       "<p>5 rows × 26 columns</p>\n",
       "</div>"
      ],
      "text/plain": [
       "               Sex       Age  Final_Chronicity  Final_Activity  First_biop  \\\n",
       "Unified_Visit                                                                \n",
       "200-1240-V0    1.0 -0.843512               0.0             5.0         1.0   \n",
       "200-2741-V0    1.0  1.466134               8.0             0.0         0.0   \n",
       "200-1137-V0    1.0  3.005898               3.0             5.0         1.0   \n",
       "200-1152-V0    1.0  0.465287               0.0             1.0         1.0   \n",
       "200-1157-V0    1.0  0.619263               2.0             8.0         0.0   \n",
       "\n",
       "               Pred_use  Responder_Status  Race_[A]  Race_[A][B]  Race_[B]  \\\n",
       "Unified_Visit                                                                \n",
       "200-1240-V0         1.0               1.0       0.0          0.0       1.0   \n",
       "200-2741-V0         0.0               0.0       0.0          0.0       1.0   \n",
       "200-1137-V0         1.0               2.0       0.0          0.0       0.0   \n",
       "200-1152-V0         1.0               2.0       1.0          0.0       0.0   \n",
       "200-1157-V0         1.0               2.0       0.0          0.0       0.0   \n",
       "\n",
       "               ...  Final_ISN_[IV][V]  Final_ISN_[V]  Final_Site_Einstein  \\\n",
       "Unified_Visit  ...                                                          \n",
       "200-1240-V0    ...                0.0            0.0                  0.0   \n",
       "200-2741-V0    ...                0.0            1.0                  0.0   \n",
       "200-1137-V0    ...                0.0            0.0                  0.0   \n",
       "200-1152-V0    ...                0.0            0.0                  0.0   \n",
       "200-1157-V0    ...                0.0            0.0                  0.0   \n",
       "\n",
       "               Final_Site_JHU  Final_Site_Michigan  Final_Site_MUSC  \\\n",
       "Unified_Visit                                                         \n",
       "200-1240-V0               1.0                  0.0              0.0   \n",
       "200-2741-V0               1.0                  0.0              0.0   \n",
       "200-1137-V0               0.0                  0.0              0.0   \n",
       "200-1152-V0               0.0                  0.0              0.0   \n",
       "200-1157-V0               0.0                  0.0              0.0   \n",
       "\n",
       "               Final_Site_NYU  Final_Site_Rochester  Final_Site_Texas Tech  \\\n",
       "Unified_Visit                                                                \n",
       "200-1240-V0               0.0                   0.0                    0.0   \n",
       "200-2741-V0               0.0                   0.0                    0.0   \n",
       "200-1137-V0               1.0                   0.0                    0.0   \n",
       "200-1152-V0               1.0                   0.0                    0.0   \n",
       "200-1157-V0               1.0                   0.0                    0.0   \n",
       "\n",
       "               Final_Site_UCSF  \n",
       "Unified_Visit                   \n",
       "200-1240-V0                0.0  \n",
       "200-2741-V0                0.0  \n",
       "200-1137-V0                0.0  \n",
       "200-1152-V0                0.0  \n",
       "200-1157-V0                0.0  \n",
       "\n",
       "[5 rows x 26 columns]"
      ]
     },
     "execution_count": 81,
     "metadata": {},
     "output_type": "execute_result"
    }
   ],
   "source": [
    "# Start by making anndata object\n",
    "d = mad.MultiAnnData(X=harmony, obs=meta, sampleid=\"Unified_Visit\")\n",
    "#d.obs_to_sample(['Type', 'Site',\n",
    "#                 'Responder_Status', 'Sex',\n",
    "#                 'Age', 'Race',\n",
    "#                'Ethnicity', 'ISN',\n",
    "#               'Activity', \"Chronicity\",\n",
    "#                 'processing_batch'])\n",
    "d.obs_to_sample(['Sex', 'Age', 'Final_Chronicity', 'Final_Activity', 'First_biop', 'Pred_use', 'Responder_Status', 'Race_[A]',\n",
    "       'Race_[A][B]', 'Race_[B]', 'Race_[B][AI]', 'Race_[U]',\n",
    "       'Race_[W]', 'Final_ISN_[III]', 'Final_ISN_[III][V]', 'Final_ISN_[IV]',\n",
    "       'Final_ISN_[IV][V]', 'Final_ISN_[V]', \n",
    "       'Final_Site_Einstein', 'Final_Site_JHU', 'Final_Site_Michigan',\n",
    "       'Final_Site_MUSC', 'Final_Site_NYU',\n",
    "       'Final_Site_Rochester', 'Final_Site_Texas Tech', \n",
    "       'Final_Site_UCSF', 'Responder_Status'])\n",
    "d.samplem.head()"
   ]
  },
  {
   "cell_type": "code",
   "execution_count": 82,
   "id": "4a49fdcf-63c9-459d-9225-2cbedf5dbc84",
   "metadata": {},
   "outputs": [],
   "source": [
    "umap.index = d.obs.index\n",
    "d.obsm['X_umap'] = umap"
   ]
  },
  {
   "cell_type": "code",
   "execution_count": 83,
   "id": "da6ff224-a177-40ab-afd7-df59c1c5a93e",
   "metadata": {},
   "outputs": [
    {
     "name": "stdout",
     "output_type": "stream",
     "text": [
      "computing default knn graph\n"
     ]
    }
   ],
   "source": [
    "np.random.seed(0) \n",
    "cna.pp.knn(d)"
   ]
  },
  {
   "cell_type": "code",
   "execution_count": 84,
   "id": "a7f7416b-a0cd-4d26-8ba8-296cb6cb8363",
   "metadata": {},
   "outputs": [
    {
     "name": "stdout",
     "output_type": "stream",
     "text": [
      "qcd NAM not found; computing and saving\n",
      "\ttaking step 1\n",
      "\tmedian kurtosis: 23.467453002929688\n",
      "\t20th percentile R2(t,t-1): nan\n",
      "\ttaking step 2\n",
      "\tmedian kurtosis: 16.20685386657715\n",
      "\t20th percentile R2(t,t-1): 0.7481982111930847\n",
      "\ttaking step 3\n",
      "\tmedian kurtosis: 10.068595886230469\n",
      "\t20th percentile R2(t,t-1): 0.8978980779647827\n",
      "\ttaking step 4\n",
      "\tmedian kurtosis: 6.828096151351929\n",
      "\t20th percentile R2(t,t-1): 0.9370571374893188\n",
      "\ttaking step 5\n",
      "\tmedian kurtosis: 5.194486141204834\n",
      "\t20th percentile R2(t,t-1): 0.9602590203285217\n",
      "stopping after 5 steps\n",
      "covariate-adjusted NAM not found; computing and saving\n",
      "computing SVD\n"
     ]
    },
    {
     "name": "stderr",
     "output_type": "stream",
     "text": [
      "/PHShome/ssg34/.conda/envs/plswork/lib/python3.9/site-packages/cna/tools/_nam.py:79: UserWarning: only one unique batch supplied to qc\n",
      "  warnings.warn('only one unique batch supplied to qc')\n",
      "/PHShome/ssg34/.conda/envs/plswork/lib/python3.9/site-packages/cna/tools/_nam.py:101: UserWarning: only one unique batch supplied to prep\n",
      "  warnings.warn('only one unique batch supplied to prep')\n"
     ]
    },
    {
     "name": "stdout",
     "output_type": "stream",
     "text": [
      "performing association test\n",
      "computing neighborhood-level FDRs\n",
      "8\n",
      "[1, 2, 3, 4, 5, 6, 7, 8, 9, 10, 11, 12, 13, 14, 15, 16, 17, 18, 19, 20]\n",
      "p = 0.7178282171782822 , 8 PCs used\n",
      "total r^2 between top 8 NAM PCs and outcome is 0.11\n"
     ]
    }
   ],
   "source": [
    "np.random.seed(0) \n",
    "res = cna.tl._association.association(d, #dataset \n",
    "                                      d.samplem.Responder_Status, #phenotype\n",
    "#                                       batches=d.samplem.processing_batch, #batches\n",
    "                                      Nnull=10000, # number of null permutations to do (defaults to only 1e3)\n",
    "                                      ks=[1,2,3,4,5,6,7,8,9,10,11,12,13,14,15,16,17,18,19,20] # I asked the method to consider up to 10 PCs because\n",
    "                                                                #it chose the max number of PCs it considered the default set of [1,2,3,4]\n",
    "                                     )\n",
    "print(res.k)\n",
    "print(res.ks)\n",
    "print('p =', res.p, ',', res.k, 'PCs used')\n",
    "print('total r^2 between top {} NAM PCs and outcome is {:.2f}'.format(res.k, res.r2))"
   ]
  },
  {
   "cell_type": "code",
   "execution_count": 85,
   "id": "609aaef1-e3c1-4667-bbd4-0c90341ad955",
   "metadata": {},
   "outputs": [],
   "source": [
    "mono_uni['Responder.Status'] = res.p\n",
    "mono_cond['Responder.Status'] = \"NA\""
   ]
  },
  {
   "cell_type": "markdown",
   "id": "63b500f5-88d6-4927-be5d-89b8a8ae9f49",
   "metadata": {},
   "source": [
    "## CHRONICITY"
   ]
  },
  {
   "cell_type": "code",
   "execution_count": 19,
   "id": "f3b8e134-b60e-417e-ad7d-c0a3c46f36d5",
   "metadata": {},
   "outputs": [
    {
     "name": "stdout",
     "output_type": "stream",
     "text": [
      "(83963, 44)\n"
     ]
    }
   ],
   "source": [
    "meta = pd.read_csv('/data/srlab/ssg34/SLE_kidney_v2/data/pbmc/mono_dc/chronicity/meta.csv')\n",
    "print(meta.shape)"
   ]
  },
  {
   "cell_type": "code",
   "execution_count": 20,
   "id": "4466f587-4db9-4b69-9963-903bb8a5f602",
   "metadata": {},
   "outputs": [
    {
     "name": "stdout",
     "output_type": "stream",
     "text": [
      "(83963, 20)\n"
     ]
    }
   ],
   "source": [
    "harmony = pd.read_csv('/data/srlab/ssg34/SLE_kidney_v2/data/pbmc/mono_dc/chronicity/harmony.csv')\n",
    "print(harmony.shape)"
   ]
  },
  {
   "cell_type": "code",
   "execution_count": 21,
   "id": "0dedb864-9c82-428a-ab49-d3265fe035fe",
   "metadata": {},
   "outputs": [
    {
     "name": "stdout",
     "output_type": "stream",
     "text": [
      "(83963, 2)\n"
     ]
    }
   ],
   "source": [
    "umap = pd.read_csv('/data/srlab/ssg34/SLE_kidney_v2/data/pbmc/mono_dc/chronicity/umap.csv')\n",
    "print(umap.shape)"
   ]
  },
  {
   "cell_type": "code",
   "execution_count": 37,
   "id": "320ed391-0faa-47ef-93da-fbdff5cc54bf",
   "metadata": {},
   "outputs": [
    {
     "name": "stdout",
     "output_type": "stream",
     "text": [
      "(83963, 44)\n",
      "(83963, 20)\n",
      "(83963, 2)\n",
      "warning: the following columns of obs are non-numeric.\n",
      "['Cell' 'BARCODE' 'cell.type.ids' 'Unified_Visit' 'AMP.Subject_ID'\n",
      " 'Responder.Status' 'Race' 'Final_ISN' 'Type' 'Final_Site']\n",
      "consider casting to numeric types where appropriate, and\n",
      "consider re-coding text-valued columns with pandas.get_dummies\n",
      "computing default knn graph\n"
     ]
    },
    {
     "name": "stderr",
     "output_type": "stream",
     "text": [
      "/PHShome/ssg34/.conda/envs/plswork/lib/python3.9/site-packages/multianndata/core.py:17: FutureWarning: X.dtype being converted to np.float32 from float64. In the next version of anndata (0.9) conversion will not be automatic. Pass dtype explicitly to avoid this warning. Pass `AnnData(X, dtype=X.dtype, ...)` to get the future behavour.\n",
      "  super().__init__(*args, **kwargs)\n",
      "/PHShome/ssg34/.conda/envs/plswork/lib/python3.9/site-packages/anndata/_core/anndata.py:121: ImplicitModificationWarning: Transforming to str index.\n",
      "  warnings.warn(\"Transforming to str index.\", ImplicitModificationWarning)\n"
     ]
    },
    {
     "name": "stdout",
     "output_type": "stream",
     "text": [
      "qcd NAM not found; computing and saving\n",
      "\ttaking step 1\n",
      "\tmedian kurtosis: 27.982099533081055\n",
      "\t20th percentile R2(t,t-1): nan\n",
      "\ttaking step 2\n",
      "\tmedian kurtosis: 19.15191650390625\n",
      "\t20th percentile R2(t,t-1): 0.7480363607406616\n",
      "\ttaking step 3\n",
      "\tmedian kurtosis: 11.953389167785645\n",
      "\t20th percentile R2(t,t-1): 0.8987291336059571\n",
      "\ttaking step 4\n",
      "\tmedian kurtosis: 7.992730140686035\n",
      "\t20th percentile R2(t,t-1): 0.9367852330207824\n",
      "\ttaking step 5\n",
      "\tmedian kurtosis: 5.942493915557861\n",
      "\t20th percentile R2(t,t-1): 0.9599226474761963\n",
      "stopping after 5 steps\n",
      "covariate-adjusted NAM not found; computing and saving\n",
      "computing SVD\n"
     ]
    },
    {
     "name": "stderr",
     "output_type": "stream",
     "text": [
      "/PHShome/ssg34/.conda/envs/plswork/lib/python3.9/site-packages/cna/tools/_nam.py:79: UserWarning: only one unique batch supplied to qc\n",
      "  warnings.warn('only one unique batch supplied to qc')\n",
      "/PHShome/ssg34/.conda/envs/plswork/lib/python3.9/site-packages/cna/tools/_nam.py:101: UserWarning: only one unique batch supplied to prep\n",
      "  warnings.warn('only one unique batch supplied to prep')\n"
     ]
    },
    {
     "name": "stdout",
     "output_type": "stream",
     "text": [
      "performing association test\n",
      "computing neighborhood-level FDRs\n",
      "4\n",
      "[1, 2, 3, 4, 5, 6, 7, 8, 9, 10, 11, 12, 13, 14, 15, 16, 17, 18, 19, 20]\n",
      "p = 0.029397060293970604 , 4 PCs used\n",
      "total r^2 between top 4 NAM PCs and outcome is 0.18\n"
     ]
    }
   ],
   "source": [
    "res = cna_test(meta_df = meta, harmony_df = harmony, \n",
    "                  umap_df = umap, variable = 'Final_Chronicity', \n",
    "             covars = ['Age', 'Sex', 'Responder_Status', 'First_biop'])"
   ]
  },
  {
   "cell_type": "code",
   "execution_count": 23,
   "id": "e1c9ea0b-da22-4667-b7e1-7eef7ea4f386",
   "metadata": {},
   "outputs": [],
   "source": [
    "np.savetxt(\"/data/srlab/ssg34/SLE_kidney_v2/data/pbmc/mono_dc/chronicity/cond_ncorr.csv\", \n",
    "               res.ncorrs, delimiter=\",\")\n",
    "np.savetxt(\"/data/srlab/ssg34/SLE_kidney_v2/data/pbmc/mono_dc/chronicity/cond_fdrs.csv\", \n",
    "               res.fdrs, delimiter=\",\")"
   ]
  },
  {
   "cell_type": "markdown",
   "id": "340ebe00-2ead-4685-8718-df66a88cda5e",
   "metadata": {},
   "source": [
    "## ACTIVITY"
   ]
  },
  {
   "cell_type": "code",
   "execution_count": 99,
   "id": "8826f519-5891-4c13-b9bd-72647294e92d",
   "metadata": {},
   "outputs": [
    {
     "name": "stdout",
     "output_type": "stream",
     "text": [
      "(83963, 44)\n"
     ]
    }
   ],
   "source": [
    "meta = pd.read_csv('/data/srlab/ssg34/SLE_kidney_v2/data/pbmc/mono_dc/activity/meta.csv')\n",
    "print(meta.shape)"
   ]
  },
  {
   "cell_type": "code",
   "execution_count": 100,
   "id": "f9d9255c-5cb7-4a73-ae6d-690e6b96fc0d",
   "metadata": {},
   "outputs": [
    {
     "name": "stdout",
     "output_type": "stream",
     "text": [
      "(83963, 20)\n"
     ]
    }
   ],
   "source": [
    "harmony = pd.read_csv('/data/srlab/ssg34/SLE_kidney_v2/data/pbmc/mono_dc/activity/harmony.csv')\n",
    "print(harmony.shape)"
   ]
  },
  {
   "cell_type": "code",
   "execution_count": 101,
   "id": "3c33b1da-71a8-4c5f-8ee6-bbf4644154ca",
   "metadata": {},
   "outputs": [
    {
     "name": "stdout",
     "output_type": "stream",
     "text": [
      "(83963, 2)\n"
     ]
    }
   ],
   "source": [
    "umap = pd.read_csv('/data/srlab/ssg34/SLE_kidney_v2/data/pbmc/mono_dc/activity/umap.csv')\n",
    "print(umap.shape)"
   ]
  },
  {
   "cell_type": "code",
   "execution_count": 102,
   "id": "40181e4d-4f00-4a71-a128-1211ae6ebe4e",
   "metadata": {},
   "outputs": [
    {
     "name": "stderr",
     "output_type": "stream",
     "text": [
      "/PHShome/ssg34/.conda/envs/plswork/lib/python3.9/site-packages/multianndata/core.py:17: FutureWarning: X.dtype being converted to np.float32 from float64. In the next version of anndata (0.9) conversion will not be automatic. Pass dtype explicitly to avoid this warning. Pass `AnnData(X, dtype=X.dtype, ...)` to get the future behavour.\n",
      "  super().__init__(*args, **kwargs)\n",
      "/PHShome/ssg34/.conda/envs/plswork/lib/python3.9/site-packages/anndata/_core/anndata.py:121: ImplicitModificationWarning: Transforming to str index.\n",
      "  warnings.warn(\"Transforming to str index.\", ImplicitModificationWarning)\n"
     ]
    },
    {
     "name": "stdout",
     "output_type": "stream",
     "text": [
      "warning: the following columns of obs are non-numeric.\n",
      "['Cell' 'BARCODE' 'cell.type.ids' 'Unified_Visit' 'AMP.Subject_ID'\n",
      " 'Responder.Status' 'Race' 'Final_ISN' 'Type' 'Final_Site']\n",
      "consider casting to numeric types where appropriate, and\n",
      "consider re-coding text-valued columns with pandas.get_dummies\n"
     ]
    },
    {
     "data": {
      "text/html": [
       "<div>\n",
       "<style scoped>\n",
       "    .dataframe tbody tr th:only-of-type {\n",
       "        vertical-align: middle;\n",
       "    }\n",
       "\n",
       "    .dataframe tbody tr th {\n",
       "        vertical-align: top;\n",
       "    }\n",
       "\n",
       "    .dataframe thead th {\n",
       "        text-align: right;\n",
       "    }\n",
       "</style>\n",
       "<table border=\"1\" class=\"dataframe\">\n",
       "  <thead>\n",
       "    <tr style=\"text-align: right;\">\n",
       "      <th></th>\n",
       "      <th>Sex</th>\n",
       "      <th>Age</th>\n",
       "      <th>Final_Chronicity</th>\n",
       "      <th>Final_Activity</th>\n",
       "      <th>First_biop</th>\n",
       "      <th>Pred_use</th>\n",
       "      <th>Responder_Status</th>\n",
       "      <th>Race_[A]</th>\n",
       "      <th>Race_[A][B]</th>\n",
       "      <th>Race_[B]</th>\n",
       "      <th>...</th>\n",
       "      <th>Final_Site_Einstein</th>\n",
       "      <th>Final_Site_JHU</th>\n",
       "      <th>Final_Site_Michigan</th>\n",
       "      <th>Final_Site_MUSC</th>\n",
       "      <th>Final_Site_Northwell</th>\n",
       "      <th>Final_Site_NYU</th>\n",
       "      <th>Final_Site_Rochester</th>\n",
       "      <th>Final_Site_Texas Tech</th>\n",
       "      <th>Final_Site_UCLA</th>\n",
       "      <th>Final_Site_UCSF</th>\n",
       "    </tr>\n",
       "    <tr>\n",
       "      <th>Unified_Visit</th>\n",
       "      <th></th>\n",
       "      <th></th>\n",
       "      <th></th>\n",
       "      <th></th>\n",
       "      <th></th>\n",
       "      <th></th>\n",
       "      <th></th>\n",
       "      <th></th>\n",
       "      <th></th>\n",
       "      <th></th>\n",
       "      <th></th>\n",
       "      <th></th>\n",
       "      <th></th>\n",
       "      <th></th>\n",
       "      <th></th>\n",
       "      <th></th>\n",
       "      <th></th>\n",
       "      <th></th>\n",
       "      <th></th>\n",
       "      <th></th>\n",
       "      <th></th>\n",
       "    </tr>\n",
       "  </thead>\n",
       "  <tbody>\n",
       "    <tr>\n",
       "      <th>200-1240-V0</th>\n",
       "      <td>1.0</td>\n",
       "      <td>-0.893094</td>\n",
       "      <td>0.0</td>\n",
       "      <td>5.0</td>\n",
       "      <td>1.0</td>\n",
       "      <td>1.0</td>\n",
       "      <td>1.0</td>\n",
       "      <td>0.0</td>\n",
       "      <td>0.0</td>\n",
       "      <td>1.0</td>\n",
       "      <td>...</td>\n",
       "      <td>0.0</td>\n",
       "      <td>1.0</td>\n",
       "      <td>0.0</td>\n",
       "      <td>0.0</td>\n",
       "      <td>0.0</td>\n",
       "      <td>0.0</td>\n",
       "      <td>0.0</td>\n",
       "      <td>0.0</td>\n",
       "      <td>0.0</td>\n",
       "      <td>0.0</td>\n",
       "    </tr>\n",
       "    <tr>\n",
       "      <th>200-2741-V0</th>\n",
       "      <td>1.0</td>\n",
       "      <td>1.461301</td>\n",
       "      <td>8.0</td>\n",
       "      <td>0.0</td>\n",
       "      <td>0.0</td>\n",
       "      <td>0.0</td>\n",
       "      <td>0.0</td>\n",
       "      <td>0.0</td>\n",
       "      <td>0.0</td>\n",
       "      <td>1.0</td>\n",
       "      <td>...</td>\n",
       "      <td>0.0</td>\n",
       "      <td>1.0</td>\n",
       "      <td>0.0</td>\n",
       "      <td>0.0</td>\n",
       "      <td>0.0</td>\n",
       "      <td>0.0</td>\n",
       "      <td>0.0</td>\n",
       "      <td>0.0</td>\n",
       "      <td>0.0</td>\n",
       "      <td>0.0</td>\n",
       "    </tr>\n",
       "    <tr>\n",
       "      <th>200-1137-V0</th>\n",
       "      <td>1.0</td>\n",
       "      <td>3.030897</td>\n",
       "      <td>3.0</td>\n",
       "      <td>5.0</td>\n",
       "      <td>1.0</td>\n",
       "      <td>1.0</td>\n",
       "      <td>2.0</td>\n",
       "      <td>0.0</td>\n",
       "      <td>0.0</td>\n",
       "      <td>0.0</td>\n",
       "      <td>...</td>\n",
       "      <td>0.0</td>\n",
       "      <td>0.0</td>\n",
       "      <td>0.0</td>\n",
       "      <td>0.0</td>\n",
       "      <td>0.0</td>\n",
       "      <td>1.0</td>\n",
       "      <td>0.0</td>\n",
       "      <td>0.0</td>\n",
       "      <td>0.0</td>\n",
       "      <td>0.0</td>\n",
       "    </tr>\n",
       "    <tr>\n",
       "      <th>200-1152-V0</th>\n",
       "      <td>1.0</td>\n",
       "      <td>0.441063</td>\n",
       "      <td>0.0</td>\n",
       "      <td>1.0</td>\n",
       "      <td>1.0</td>\n",
       "      <td>1.0</td>\n",
       "      <td>2.0</td>\n",
       "      <td>1.0</td>\n",
       "      <td>0.0</td>\n",
       "      <td>0.0</td>\n",
       "      <td>...</td>\n",
       "      <td>0.0</td>\n",
       "      <td>0.0</td>\n",
       "      <td>0.0</td>\n",
       "      <td>0.0</td>\n",
       "      <td>0.0</td>\n",
       "      <td>1.0</td>\n",
       "      <td>0.0</td>\n",
       "      <td>0.0</td>\n",
       "      <td>0.0</td>\n",
       "      <td>0.0</td>\n",
       "    </tr>\n",
       "    <tr>\n",
       "      <th>200-1157-V0</th>\n",
       "      <td>1.0</td>\n",
       "      <td>0.598023</td>\n",
       "      <td>2.0</td>\n",
       "      <td>8.0</td>\n",
       "      <td>0.0</td>\n",
       "      <td>1.0</td>\n",
       "      <td>2.0</td>\n",
       "      <td>0.0</td>\n",
       "      <td>0.0</td>\n",
       "      <td>0.0</td>\n",
       "      <td>...</td>\n",
       "      <td>0.0</td>\n",
       "      <td>0.0</td>\n",
       "      <td>0.0</td>\n",
       "      <td>0.0</td>\n",
       "      <td>0.0</td>\n",
       "      <td>1.0</td>\n",
       "      <td>0.0</td>\n",
       "      <td>0.0</td>\n",
       "      <td>0.0</td>\n",
       "      <td>0.0</td>\n",
       "    </tr>\n",
       "  </tbody>\n",
       "</table>\n",
       "<p>5 rows × 30 columns</p>\n",
       "</div>"
      ],
      "text/plain": [
       "               Sex       Age  Final_Chronicity  Final_Activity  First_biop  \\\n",
       "Unified_Visit                                                                \n",
       "200-1240-V0    1.0 -0.893094               0.0             5.0         1.0   \n",
       "200-2741-V0    1.0  1.461301               8.0             0.0         0.0   \n",
       "200-1137-V0    1.0  3.030897               3.0             5.0         1.0   \n",
       "200-1152-V0    1.0  0.441063               0.0             1.0         1.0   \n",
       "200-1157-V0    1.0  0.598023               2.0             8.0         0.0   \n",
       "\n",
       "               Pred_use  Responder_Status  Race_[A]  Race_[A][B]  Race_[B]  \\\n",
       "Unified_Visit                                                                \n",
       "200-1240-V0         1.0               1.0       0.0          0.0       1.0   \n",
       "200-2741-V0         0.0               0.0       0.0          0.0       1.0   \n",
       "200-1137-V0         1.0               2.0       0.0          0.0       0.0   \n",
       "200-1152-V0         1.0               2.0       1.0          0.0       0.0   \n",
       "200-1157-V0         1.0               2.0       0.0          0.0       0.0   \n",
       "\n",
       "               ...  Final_Site_Einstein  Final_Site_JHU  Final_Site_Michigan  \\\n",
       "Unified_Visit  ...                                                             \n",
       "200-1240-V0    ...                  0.0             1.0                  0.0   \n",
       "200-2741-V0    ...                  0.0             1.0                  0.0   \n",
       "200-1137-V0    ...                  0.0             0.0                  0.0   \n",
       "200-1152-V0    ...                  0.0             0.0                  0.0   \n",
       "200-1157-V0    ...                  0.0             0.0                  0.0   \n",
       "\n",
       "               Final_Site_MUSC  Final_Site_Northwell  Final_Site_NYU  \\\n",
       "Unified_Visit                                                          \n",
       "200-1240-V0                0.0                   0.0             0.0   \n",
       "200-2741-V0                0.0                   0.0             0.0   \n",
       "200-1137-V0                0.0                   0.0             1.0   \n",
       "200-1152-V0                0.0                   0.0             1.0   \n",
       "200-1157-V0                0.0                   0.0             1.0   \n",
       "\n",
       "               Final_Site_Rochester  Final_Site_Texas Tech  Final_Site_UCLA  \\\n",
       "Unified_Visit                                                                 \n",
       "200-1240-V0                     0.0                    0.0              0.0   \n",
       "200-2741-V0                     0.0                    0.0              0.0   \n",
       "200-1137-V0                     0.0                    0.0              0.0   \n",
       "200-1152-V0                     0.0                    0.0              0.0   \n",
       "200-1157-V0                     0.0                    0.0              0.0   \n",
       "\n",
       "               Final_Site_UCSF  \n",
       "Unified_Visit                   \n",
       "200-1240-V0                0.0  \n",
       "200-2741-V0                0.0  \n",
       "200-1137-V0                0.0  \n",
       "200-1152-V0                0.0  \n",
       "200-1157-V0                0.0  \n",
       "\n",
       "[5 rows x 30 columns]"
      ]
     },
     "execution_count": 102,
     "metadata": {},
     "output_type": "execute_result"
    }
   ],
   "source": [
    "# Start by making anndata object\n",
    "d = mad.MultiAnnData(X=harmony, obs=meta, sampleid=\"Unified_Visit\")\n",
    "#d.obs_to_sample(['Type', 'Site',\n",
    "#                 'Responder_Status', 'Sex',\n",
    "#                 'Age', 'Race',\n",
    "#                'Ethnicity', 'ISN',\n",
    "#               'Activity', \"Chronicity\",\n",
    "#                 'processing_batch'])\n",
    "d.obs_to_sample(['Sex', 'Age', 'Final_Chronicity', 'Final_Activity', 'First_biop', 'Pred_use', 'Responder_Status', 'Race_[A]',\n",
    "       'Race_[A][B]', 'Race_[B]', 'Race_[B][AI]', 'Race_[B][W]', 'Race_[U]',\n",
    "       'Race_[W]', 'Final_ISN_[III]', 'Final_ISN_[III][V]', 'Final_ISN_[IV]',\n",
    "       'Final_ISN_[IV][V]', 'Final_ISN_[V]', 'Final_Site_Cincinnati',\n",
    "       'Final_Site_Einstein', 'Final_Site_JHU', 'Final_Site_Michigan',\n",
    "       'Final_Site_MUSC', 'Final_Site_Northwell', 'Final_Site_NYU',\n",
    "       'Final_Site_Rochester', 'Final_Site_Texas Tech', 'Final_Site_UCLA',\n",
    "        'Final_Site_UCSF'])\n",
    "d.samplem.head()"
   ]
  },
  {
   "cell_type": "code",
   "execution_count": 103,
   "id": "366bc75e-0f5e-4562-9061-34a2b5a087a2",
   "metadata": {},
   "outputs": [],
   "source": [
    "umap.index = d.obs.index\n",
    "d.obsm['X_umap'] = umap"
   ]
  },
  {
   "cell_type": "code",
   "execution_count": 104,
   "id": "c6ff18a7-9376-4694-ab35-48c209d8669b",
   "metadata": {},
   "outputs": [
    {
     "name": "stdout",
     "output_type": "stream",
     "text": [
      "computing default knn graph\n"
     ]
    }
   ],
   "source": [
    "np.random.seed(0) \n",
    "cna.pp.knn(d)"
   ]
  },
  {
   "cell_type": "code",
   "execution_count": 105,
   "id": "fadf4d0f-586e-4f38-892f-09d70b4358d3",
   "metadata": {},
   "outputs": [
    {
     "name": "stdout",
     "output_type": "stream",
     "text": [
      "qcd NAM not found; computing and saving\n",
      "\ttaking step 1\n",
      "\tmedian kurtosis: 27.982099533081055\n",
      "\t20th percentile R2(t,t-1): nan\n",
      "\ttaking step 2\n",
      "\tmedian kurtosis: 19.15191650390625\n",
      "\t20th percentile R2(t,t-1): 0.7480363607406616\n",
      "\ttaking step 3\n",
      "\tmedian kurtosis: 11.953389167785645\n",
      "\t20th percentile R2(t,t-1): 0.8987291336059571\n",
      "\ttaking step 4\n",
      "\tmedian kurtosis: 7.992730140686035\n",
      "\t20th percentile R2(t,t-1): 0.9367852330207824\n",
      "\ttaking step 5\n",
      "\tmedian kurtosis: 5.942493915557861\n",
      "\t20th percentile R2(t,t-1): 0.9599226474761963\n",
      "stopping after 5 steps\n",
      "covariate-adjusted NAM not found; computing and saving\n"
     ]
    },
    {
     "name": "stderr",
     "output_type": "stream",
     "text": [
      "/PHShome/ssg34/.conda/envs/plswork/lib/python3.9/site-packages/cna/tools/_nam.py:79: UserWarning: only one unique batch supplied to qc\n",
      "  warnings.warn('only one unique batch supplied to qc')\n",
      "/PHShome/ssg34/.conda/envs/plswork/lib/python3.9/site-packages/cna/tools/_nam.py:101: UserWarning: only one unique batch supplied to prep\n",
      "  warnings.warn('only one unique batch supplied to prep')\n"
     ]
    },
    {
     "name": "stdout",
     "output_type": "stream",
     "text": [
      "computing SVD\n",
      "performing association test\n",
      "computing neighborhood-level FDRs\n",
      "1\n",
      "[1, 2, 3, 4, 5, 6, 7, 8, 9, 10, 11, 12, 13, 14, 15, 16, 17, 18, 19, 20]\n",
      "p = 0.45755424457554245 , 1 PCs used\n",
      "total r^2 between top 1 NAM PCs and outcome is 0.02\n"
     ]
    }
   ],
   "source": [
    "np.random.seed(0) \n",
    "res = cna.tl._association.association(d, #dataset \n",
    "                                      d.samplem.Final_Activity, #phenotype\n",
    "#                                       batches=d.samplem.processing_batch, #batches\n",
    "                                      Nnull=10000, # number of null permutations to do (defaults to only 1e3)\n",
    "                                      ks=[1,2,3,4,5,6,7,8,9,10,11,12,13,14,15,16,17,18,19,20] # I asked the method to consider up to 10 PCs because\n",
    "                                                                #it chose the max number of PCs it considered the default set of [1,2,3,4]\n",
    "                                     )\n",
    "print(res.k)\n",
    "print(res.ks)\n",
    "print('p =', res.p, ',', res.k, 'PCs used')\n",
    "print('total r^2 between top {} NAM PCs and outcome is {:.2f}'.format(res.k, res.r2))"
   ]
  },
  {
   "cell_type": "code",
   "execution_count": 106,
   "id": "2e893434-2867-46c8-a4f9-3061ecb60c32",
   "metadata": {},
   "outputs": [],
   "source": [
    "mono_uni['Activity'] = res.p\n",
    "mono_cond['ACtivity'] = \"NA\""
   ]
  },
  {
   "cell_type": "markdown",
   "id": "e9df69ea-12d3-4604-ba21-40c579b6ec25",
   "metadata": {},
   "source": [
    "## ISN"
   ]
  },
  {
   "cell_type": "code",
   "execution_count": 3,
   "id": "26332a9f-058e-4cda-8c83-ac68d98848fc",
   "metadata": {},
   "outputs": [
    {
     "name": "stdout",
     "output_type": "stream",
     "text": [
      "(83963, 44)\n"
     ]
    }
   ],
   "source": [
    "meta = pd.read_csv('/data/srlab/ssg34/SLE_kidney_v2/data/pbmc/mono_dc/isn/meta.csv')\n",
    "print(meta.shape)"
   ]
  },
  {
   "cell_type": "code",
   "execution_count": 4,
   "id": "51c56c90-89fc-4d73-b5f5-53fc8ef6f117",
   "metadata": {},
   "outputs": [
    {
     "name": "stdout",
     "output_type": "stream",
     "text": [
      "(83963, 20)\n"
     ]
    }
   ],
   "source": [
    "harmony = pd.read_csv('/data/srlab/ssg34/SLE_kidney_v2/data/pbmc/mono_dc/isn/harmony.csv')\n",
    "print(harmony.shape)"
   ]
  },
  {
   "cell_type": "code",
   "execution_count": 5,
   "id": "dcfd5539-4411-4004-a35f-4114432e6c89",
   "metadata": {},
   "outputs": [
    {
     "name": "stdout",
     "output_type": "stream",
     "text": [
      "(83963, 2)\n"
     ]
    }
   ],
   "source": [
    "umap = pd.read_csv('/data/srlab/ssg34/SLE_kidney_v2/data/pbmc/mono_dc/isn/umap.csv')\n",
    "print(umap.shape)"
   ]
  },
  {
   "cell_type": "code",
   "execution_count": 6,
   "id": "086e319e-af8c-4557-a430-cd07b29ecd9e",
   "metadata": {},
   "outputs": [
    {
     "name": "stdout",
     "output_type": "stream",
     "text": [
      "warning: the following columns of obs are non-numeric.\n",
      "['Cell' 'BARCODE' 'cell.type.ids' 'Unified_Visit' 'AMP.Subject_ID'\n",
      " 'Responder.Status' 'Race' 'Final_ISN' 'Type' 'Final_Site']\n",
      "consider casting to numeric types where appropriate, and\n",
      "consider re-coding text-valued columns with pandas.get_dummies\n"
     ]
    },
    {
     "name": "stderr",
     "output_type": "stream",
     "text": [
      "/PHShome/ssg34/.conda/envs/plswork/lib/python3.9/site-packages/multianndata/core.py:17: FutureWarning: X.dtype being converted to np.float32 from float64. In the next version of anndata (0.9) conversion will not be automatic. Pass dtype explicitly to avoid this warning. Pass `AnnData(X, dtype=X.dtype, ...)` to get the future behavour.\n",
      "  super().__init__(*args, **kwargs)\n",
      "/PHShome/ssg34/.conda/envs/plswork/lib/python3.9/site-packages/anndata/_core/anndata.py:121: ImplicitModificationWarning: Transforming to str index.\n",
      "  warnings.warn(\"Transforming to str index.\", ImplicitModificationWarning)\n"
     ]
    },
    {
     "data": {
      "text/html": [
       "<div>\n",
       "<style scoped>\n",
       "    .dataframe tbody tr th:only-of-type {\n",
       "        vertical-align: middle;\n",
       "    }\n",
       "\n",
       "    .dataframe tbody tr th {\n",
       "        vertical-align: top;\n",
       "    }\n",
       "\n",
       "    .dataframe thead th {\n",
       "        text-align: right;\n",
       "    }\n",
       "</style>\n",
       "<table border=\"1\" class=\"dataframe\">\n",
       "  <thead>\n",
       "    <tr style=\"text-align: right;\">\n",
       "      <th></th>\n",
       "      <th>Sex</th>\n",
       "      <th>Age</th>\n",
       "      <th>Final_Chronicity</th>\n",
       "      <th>Final_Activity</th>\n",
       "      <th>First_biop</th>\n",
       "      <th>Pred_use</th>\n",
       "      <th>Responder_Status</th>\n",
       "      <th>Race_[A]</th>\n",
       "      <th>Race_[A][B]</th>\n",
       "      <th>Race_[B]</th>\n",
       "      <th>...</th>\n",
       "      <th>Final_Site_Einstein</th>\n",
       "      <th>Final_Site_JHU</th>\n",
       "      <th>Final_Site_Michigan</th>\n",
       "      <th>Final_Site_MUSC</th>\n",
       "      <th>Final_Site_Northwell</th>\n",
       "      <th>Final_Site_NYU</th>\n",
       "      <th>Final_Site_Rochester</th>\n",
       "      <th>Final_Site_Texas Tech</th>\n",
       "      <th>Final_Site_UCLA</th>\n",
       "      <th>Final_Site_UCSF</th>\n",
       "    </tr>\n",
       "    <tr>\n",
       "      <th>Unified_Visit</th>\n",
       "      <th></th>\n",
       "      <th></th>\n",
       "      <th></th>\n",
       "      <th></th>\n",
       "      <th></th>\n",
       "      <th></th>\n",
       "      <th></th>\n",
       "      <th></th>\n",
       "      <th></th>\n",
       "      <th></th>\n",
       "      <th></th>\n",
       "      <th></th>\n",
       "      <th></th>\n",
       "      <th></th>\n",
       "      <th></th>\n",
       "      <th></th>\n",
       "      <th></th>\n",
       "      <th></th>\n",
       "      <th></th>\n",
       "      <th></th>\n",
       "      <th></th>\n",
       "    </tr>\n",
       "  </thead>\n",
       "  <tbody>\n",
       "    <tr>\n",
       "      <th>200-1240-V0</th>\n",
       "      <td>1.0</td>\n",
       "      <td>-0.893094</td>\n",
       "      <td>0.0</td>\n",
       "      <td>5.0</td>\n",
       "      <td>1.0</td>\n",
       "      <td>1.0</td>\n",
       "      <td>1.0</td>\n",
       "      <td>0.0</td>\n",
       "      <td>0.0</td>\n",
       "      <td>1.0</td>\n",
       "      <td>...</td>\n",
       "      <td>0.0</td>\n",
       "      <td>1.0</td>\n",
       "      <td>0.0</td>\n",
       "      <td>0.0</td>\n",
       "      <td>0.0</td>\n",
       "      <td>0.0</td>\n",
       "      <td>0.0</td>\n",
       "      <td>0.0</td>\n",
       "      <td>0.0</td>\n",
       "      <td>0.0</td>\n",
       "    </tr>\n",
       "    <tr>\n",
       "      <th>200-2741-V0</th>\n",
       "      <td>1.0</td>\n",
       "      <td>1.461301</td>\n",
       "      <td>8.0</td>\n",
       "      <td>0.0</td>\n",
       "      <td>0.0</td>\n",
       "      <td>0.0</td>\n",
       "      <td>0.0</td>\n",
       "      <td>0.0</td>\n",
       "      <td>0.0</td>\n",
       "      <td>1.0</td>\n",
       "      <td>...</td>\n",
       "      <td>0.0</td>\n",
       "      <td>1.0</td>\n",
       "      <td>0.0</td>\n",
       "      <td>0.0</td>\n",
       "      <td>0.0</td>\n",
       "      <td>0.0</td>\n",
       "      <td>0.0</td>\n",
       "      <td>0.0</td>\n",
       "      <td>0.0</td>\n",
       "      <td>0.0</td>\n",
       "    </tr>\n",
       "    <tr>\n",
       "      <th>200-1137-V0</th>\n",
       "      <td>1.0</td>\n",
       "      <td>3.030897</td>\n",
       "      <td>3.0</td>\n",
       "      <td>5.0</td>\n",
       "      <td>1.0</td>\n",
       "      <td>1.0</td>\n",
       "      <td>2.0</td>\n",
       "      <td>0.0</td>\n",
       "      <td>0.0</td>\n",
       "      <td>0.0</td>\n",
       "      <td>...</td>\n",
       "      <td>0.0</td>\n",
       "      <td>0.0</td>\n",
       "      <td>0.0</td>\n",
       "      <td>0.0</td>\n",
       "      <td>0.0</td>\n",
       "      <td>1.0</td>\n",
       "      <td>0.0</td>\n",
       "      <td>0.0</td>\n",
       "      <td>0.0</td>\n",
       "      <td>0.0</td>\n",
       "    </tr>\n",
       "    <tr>\n",
       "      <th>200-1152-V0</th>\n",
       "      <td>1.0</td>\n",
       "      <td>0.441063</td>\n",
       "      <td>0.0</td>\n",
       "      <td>1.0</td>\n",
       "      <td>1.0</td>\n",
       "      <td>1.0</td>\n",
       "      <td>2.0</td>\n",
       "      <td>1.0</td>\n",
       "      <td>0.0</td>\n",
       "      <td>0.0</td>\n",
       "      <td>...</td>\n",
       "      <td>0.0</td>\n",
       "      <td>0.0</td>\n",
       "      <td>0.0</td>\n",
       "      <td>0.0</td>\n",
       "      <td>0.0</td>\n",
       "      <td>1.0</td>\n",
       "      <td>0.0</td>\n",
       "      <td>0.0</td>\n",
       "      <td>0.0</td>\n",
       "      <td>0.0</td>\n",
       "    </tr>\n",
       "    <tr>\n",
       "      <th>200-1157-V0</th>\n",
       "      <td>1.0</td>\n",
       "      <td>0.598023</td>\n",
       "      <td>2.0</td>\n",
       "      <td>8.0</td>\n",
       "      <td>0.0</td>\n",
       "      <td>1.0</td>\n",
       "      <td>2.0</td>\n",
       "      <td>0.0</td>\n",
       "      <td>0.0</td>\n",
       "      <td>0.0</td>\n",
       "      <td>...</td>\n",
       "      <td>0.0</td>\n",
       "      <td>0.0</td>\n",
       "      <td>0.0</td>\n",
       "      <td>0.0</td>\n",
       "      <td>0.0</td>\n",
       "      <td>1.0</td>\n",
       "      <td>0.0</td>\n",
       "      <td>0.0</td>\n",
       "      <td>0.0</td>\n",
       "      <td>0.0</td>\n",
       "    </tr>\n",
       "  </tbody>\n",
       "</table>\n",
       "<p>5 rows × 30 columns</p>\n",
       "</div>"
      ],
      "text/plain": [
       "               Sex       Age  Final_Chronicity  Final_Activity  First_biop  \\\n",
       "Unified_Visit                                                                \n",
       "200-1240-V0    1.0 -0.893094               0.0             5.0         1.0   \n",
       "200-2741-V0    1.0  1.461301               8.0             0.0         0.0   \n",
       "200-1137-V0    1.0  3.030897               3.0             5.0         1.0   \n",
       "200-1152-V0    1.0  0.441063               0.0             1.0         1.0   \n",
       "200-1157-V0    1.0  0.598023               2.0             8.0         0.0   \n",
       "\n",
       "               Pred_use  Responder_Status  Race_[A]  Race_[A][B]  Race_[B]  \\\n",
       "Unified_Visit                                                                \n",
       "200-1240-V0         1.0               1.0       0.0          0.0       1.0   \n",
       "200-2741-V0         0.0               0.0       0.0          0.0       1.0   \n",
       "200-1137-V0         1.0               2.0       0.0          0.0       0.0   \n",
       "200-1152-V0         1.0               2.0       1.0          0.0       0.0   \n",
       "200-1157-V0         1.0               2.0       0.0          0.0       0.0   \n",
       "\n",
       "               ...  Final_Site_Einstein  Final_Site_JHU  Final_Site_Michigan  \\\n",
       "Unified_Visit  ...                                                             \n",
       "200-1240-V0    ...                  0.0             1.0                  0.0   \n",
       "200-2741-V0    ...                  0.0             1.0                  0.0   \n",
       "200-1137-V0    ...                  0.0             0.0                  0.0   \n",
       "200-1152-V0    ...                  0.0             0.0                  0.0   \n",
       "200-1157-V0    ...                  0.0             0.0                  0.0   \n",
       "\n",
       "               Final_Site_MUSC  Final_Site_Northwell  Final_Site_NYU  \\\n",
       "Unified_Visit                                                          \n",
       "200-1240-V0                0.0                   0.0             0.0   \n",
       "200-2741-V0                0.0                   0.0             0.0   \n",
       "200-1137-V0                0.0                   0.0             1.0   \n",
       "200-1152-V0                0.0                   0.0             1.0   \n",
       "200-1157-V0                0.0                   0.0             1.0   \n",
       "\n",
       "               Final_Site_Rochester  Final_Site_Texas Tech  Final_Site_UCLA  \\\n",
       "Unified_Visit                                                                 \n",
       "200-1240-V0                     0.0                    0.0              0.0   \n",
       "200-2741-V0                     0.0                    0.0              0.0   \n",
       "200-1137-V0                     0.0                    0.0              0.0   \n",
       "200-1152-V0                     0.0                    0.0              0.0   \n",
       "200-1157-V0                     0.0                    0.0              0.0   \n",
       "\n",
       "               Final_Site_UCSF  \n",
       "Unified_Visit                   \n",
       "200-1240-V0                0.0  \n",
       "200-2741-V0                0.0  \n",
       "200-1137-V0                0.0  \n",
       "200-1152-V0                0.0  \n",
       "200-1157-V0                0.0  \n",
       "\n",
       "[5 rows x 30 columns]"
      ]
     },
     "execution_count": 6,
     "metadata": {},
     "output_type": "execute_result"
    }
   ],
   "source": [
    "# Start by making anndata object\n",
    "d = mad.MultiAnnData(X=harmony, obs=meta, sampleid=\"Unified_Visit\")\n",
    "#d.obs_to_sample(['Type', 'Site',\n",
    "#                 'Responder_Status', 'Sex',\n",
    "#                 'Age', 'Race',\n",
    "#                'Ethnicity', 'ISN',\n",
    "#               'Activity', \"Chronicity\",\n",
    "#                 'processing_batch'])\n",
    "d.obs_to_sample(['Sex', 'Age', 'Final_Chronicity', 'Final_Activity', 'First_biop', 'Pred_use', 'Responder_Status', 'Race_[A]',\n",
    "       'Race_[A][B]', 'Race_[B]', 'Race_[B][AI]', 'Race_[B][W]', 'Race_[U]',\n",
    "       'Race_[W]', 'Final_ISN_[III]', 'Final_ISN_[III][V]', 'Final_ISN_[IV]',\n",
    "       'Final_ISN_[IV][V]', 'Final_ISN_[V]', 'Final_Site_Cincinnati',\n",
    "       'Final_Site_Einstein', 'Final_Site_JHU', 'Final_Site_Michigan',\n",
    "       'Final_Site_MUSC', 'Final_Site_Northwell', 'Final_Site_NYU',\n",
    "       'Final_Site_Rochester', 'Final_Site_Texas Tech', 'Final_Site_UCLA',\n",
    "        'Final_Site_UCSF'])\n",
    "d.samplem.head()"
   ]
  },
  {
   "cell_type": "code",
   "execution_count": 7,
   "id": "554859d2-32f7-4d85-bcb4-9d76755a465d",
   "metadata": {},
   "outputs": [],
   "source": [
    "umap.index = d.obs.index\n",
    "d.obsm['X_umap'] = umap"
   ]
  },
  {
   "cell_type": "code",
   "execution_count": 8,
   "id": "338f12bc-8c66-42d9-842a-2ceff45c80c5",
   "metadata": {},
   "outputs": [
    {
     "name": "stdout",
     "output_type": "stream",
     "text": [
      "computing default knn graph\n"
     ]
    },
    {
     "name": "stderr",
     "output_type": "stream",
     "text": [
      "/PHShome/ssg34/.conda/envs/plswork/lib/python3.9/site-packages/tqdm/auto.py:22: TqdmWarning: IProgress not found. Please update jupyter and ipywidgets. See https://ipywidgets.readthedocs.io/en/stable/user_install.html\n",
      "  from .autonotebook import tqdm as notebook_tqdm\n"
     ]
    },
    {
     "ename": "KeyboardInterrupt",
     "evalue": "",
     "output_type": "error",
     "traceback": [
      "\u001b[0;31m---------------------------------------------------------------------------\u001b[0m",
      "\u001b[0;31mKeyboardInterrupt\u001b[0m                         Traceback (most recent call last)",
      "Input \u001b[0;32mIn [8]\u001b[0m, in \u001b[0;36m<cell line: 2>\u001b[0;34m()\u001b[0m\n\u001b[1;32m      1\u001b[0m np\u001b[38;5;241m.\u001b[39mrandom\u001b[38;5;241m.\u001b[39mseed(\u001b[38;5;241m0\u001b[39m) \n\u001b[0;32m----> 2\u001b[0m \u001b[43mcna\u001b[49m\u001b[38;5;241;43m.\u001b[39;49m\u001b[43mpp\u001b[49m\u001b[38;5;241;43m.\u001b[39;49m\u001b[43mknn\u001b[49m\u001b[43m(\u001b[49m\u001b[43md\u001b[49m\u001b[43m)\u001b[49m\n",
      "File \u001b[0;32m~/.conda/envs/plswork/lib/python3.9/site-packages/cna/preprocessing/_knn.py:5\u001b[0m, in \u001b[0;36mknn\u001b[0;34m(data)\u001b[0m\n\u001b[1;32m      3\u001b[0m \u001b[38;5;28;01mdef\u001b[39;00m \u001b[38;5;21mknn\u001b[39m(data):\n\u001b[1;32m      4\u001b[0m     \u001b[38;5;28mprint\u001b[39m(\u001b[38;5;124m'\u001b[39m\u001b[38;5;124mcomputing default knn graph\u001b[39m\u001b[38;5;124m'\u001b[39m)\n\u001b[0;32m----> 5\u001b[0m     \u001b[43msc\u001b[49m\u001b[38;5;241;43m.\u001b[39;49m\u001b[43mpp\u001b[49m\u001b[38;5;241;43m.\u001b[39;49m\u001b[43mneighbors\u001b[49m\u001b[43m(\u001b[49m\u001b[43mdata\u001b[49m\u001b[43m)\u001b[49m\n",
      "File \u001b[0;32m~/.conda/envs/plswork/lib/python3.9/site-packages/scanpy/neighbors/__init__.py:139\u001b[0m, in \u001b[0;36mneighbors\u001b[0;34m(adata, n_neighbors, n_pcs, use_rep, knn, random_state, method, metric, metric_kwds, key_added, copy)\u001b[0m\n\u001b[1;32m    137\u001b[0m     adata\u001b[38;5;241m.\u001b[39m_init_as_actual(adata\u001b[38;5;241m.\u001b[39mcopy())\n\u001b[1;32m    138\u001b[0m neighbors \u001b[38;5;241m=\u001b[39m Neighbors(adata)\n\u001b[0;32m--> 139\u001b[0m \u001b[43mneighbors\u001b[49m\u001b[38;5;241;43m.\u001b[39;49m\u001b[43mcompute_neighbors\u001b[49m\u001b[43m(\u001b[49m\n\u001b[1;32m    140\u001b[0m \u001b[43m    \u001b[49m\u001b[43mn_neighbors\u001b[49m\u001b[38;5;241;43m=\u001b[39;49m\u001b[43mn_neighbors\u001b[49m\u001b[43m,\u001b[49m\n\u001b[1;32m    141\u001b[0m \u001b[43m    \u001b[49m\u001b[43mknn\u001b[49m\u001b[38;5;241;43m=\u001b[39;49m\u001b[43mknn\u001b[49m\u001b[43m,\u001b[49m\n\u001b[1;32m    142\u001b[0m \u001b[43m    \u001b[49m\u001b[43mn_pcs\u001b[49m\u001b[38;5;241;43m=\u001b[39;49m\u001b[43mn_pcs\u001b[49m\u001b[43m,\u001b[49m\n\u001b[1;32m    143\u001b[0m \u001b[43m    \u001b[49m\u001b[43muse_rep\u001b[49m\u001b[38;5;241;43m=\u001b[39;49m\u001b[43muse_rep\u001b[49m\u001b[43m,\u001b[49m\n\u001b[1;32m    144\u001b[0m \u001b[43m    \u001b[49m\u001b[43mmethod\u001b[49m\u001b[38;5;241;43m=\u001b[39;49m\u001b[43mmethod\u001b[49m\u001b[43m,\u001b[49m\n\u001b[1;32m    145\u001b[0m \u001b[43m    \u001b[49m\u001b[43mmetric\u001b[49m\u001b[38;5;241;43m=\u001b[39;49m\u001b[43mmetric\u001b[49m\u001b[43m,\u001b[49m\n\u001b[1;32m    146\u001b[0m \u001b[43m    \u001b[49m\u001b[43mmetric_kwds\u001b[49m\u001b[38;5;241;43m=\u001b[39;49m\u001b[43mmetric_kwds\u001b[49m\u001b[43m,\u001b[49m\n\u001b[1;32m    147\u001b[0m \u001b[43m    \u001b[49m\u001b[43mrandom_state\u001b[49m\u001b[38;5;241;43m=\u001b[39;49m\u001b[43mrandom_state\u001b[49m\u001b[43m,\u001b[49m\n\u001b[1;32m    148\u001b[0m \u001b[43m\u001b[49m\u001b[43m)\u001b[49m\n\u001b[1;32m    150\u001b[0m \u001b[38;5;28;01mif\u001b[39;00m key_added \u001b[38;5;129;01mis\u001b[39;00m \u001b[38;5;28;01mNone\u001b[39;00m:\n\u001b[1;32m    151\u001b[0m     key_added \u001b[38;5;241m=\u001b[39m \u001b[38;5;124m'\u001b[39m\u001b[38;5;124mneighbors\u001b[39m\u001b[38;5;124m'\u001b[39m\n",
      "File \u001b[0;32m~/.conda/envs/plswork/lib/python3.9/site-packages/scanpy/neighbors/__init__.py:791\u001b[0m, in \u001b[0;36mNeighbors.compute_neighbors\u001b[0;34m(self, n_neighbors, knn, n_pcs, use_rep, method, random_state, write_knn_indices, metric, metric_kwds)\u001b[0m\n\u001b[1;32m    789\u001b[0m     X \u001b[38;5;241m=\u001b[39m pairwise_distances(X, metric\u001b[38;5;241m=\u001b[39mmetric, \u001b[38;5;241m*\u001b[39m\u001b[38;5;241m*\u001b[39mmetric_kwds)\n\u001b[1;32m    790\u001b[0m     metric \u001b[38;5;241m=\u001b[39m \u001b[38;5;124m'\u001b[39m\u001b[38;5;124mprecomputed\u001b[39m\u001b[38;5;124m'\u001b[39m\n\u001b[0;32m--> 791\u001b[0m knn_indices, knn_distances, forest \u001b[38;5;241m=\u001b[39m \u001b[43mcompute_neighbors_umap\u001b[49m\u001b[43m(\u001b[49m\n\u001b[1;32m    792\u001b[0m \u001b[43m    \u001b[49m\u001b[43mX\u001b[49m\u001b[43m,\u001b[49m\u001b[43m \u001b[49m\u001b[43mn_neighbors\u001b[49m\u001b[43m,\u001b[49m\u001b[43m \u001b[49m\u001b[43mrandom_state\u001b[49m\u001b[43m,\u001b[49m\u001b[43m \u001b[49m\u001b[43mmetric\u001b[49m\u001b[38;5;241;43m=\u001b[39;49m\u001b[43mmetric\u001b[49m\u001b[43m,\u001b[49m\u001b[43m \u001b[49m\u001b[43mmetric_kwds\u001b[49m\u001b[38;5;241;43m=\u001b[39;49m\u001b[43mmetric_kwds\u001b[49m\n\u001b[1;32m    793\u001b[0m \u001b[43m\u001b[49m\u001b[43m)\u001b[49m\n\u001b[1;32m    794\u001b[0m \u001b[38;5;66;03m# very cautious here\u001b[39;00m\n\u001b[1;32m    795\u001b[0m \u001b[38;5;28;01mtry\u001b[39;00m:\n",
      "File \u001b[0;32m~/.conda/envs/plswork/lib/python3.9/site-packages/scanpy/neighbors/__init__.py:305\u001b[0m, in \u001b[0;36mcompute_neighbors_umap\u001b[0;34m(X, n_neighbors, random_state, metric, metric_kwds, angular, verbose)\u001b[0m\n\u001b[1;32m    301\u001b[0m     \u001b[38;5;28;01mfrom\u001b[39;00m \u001b[38;5;21;01mumap\u001b[39;00m\u001b[38;5;21;01m.\u001b[39;00m\u001b[38;5;21;01mumap_\u001b[39;00m \u001b[38;5;28;01mimport\u001b[39;00m nearest_neighbors\n\u001b[1;32m    303\u001b[0m random_state \u001b[38;5;241m=\u001b[39m check_random_state(random_state)\n\u001b[0;32m--> 305\u001b[0m knn_indices, knn_dists, forest \u001b[38;5;241m=\u001b[39m \u001b[43mnearest_neighbors\u001b[49m\u001b[43m(\u001b[49m\n\u001b[1;32m    306\u001b[0m \u001b[43m    \u001b[49m\u001b[43mX\u001b[49m\u001b[43m,\u001b[49m\n\u001b[1;32m    307\u001b[0m \u001b[43m    \u001b[49m\u001b[43mn_neighbors\u001b[49m\u001b[43m,\u001b[49m\n\u001b[1;32m    308\u001b[0m \u001b[43m    \u001b[49m\u001b[43mrandom_state\u001b[49m\u001b[38;5;241;43m=\u001b[39;49m\u001b[43mrandom_state\u001b[49m\u001b[43m,\u001b[49m\n\u001b[1;32m    309\u001b[0m \u001b[43m    \u001b[49m\u001b[43mmetric\u001b[49m\u001b[38;5;241;43m=\u001b[39;49m\u001b[43mmetric\u001b[49m\u001b[43m,\u001b[49m\n\u001b[1;32m    310\u001b[0m \u001b[43m    \u001b[49m\u001b[43mmetric_kwds\u001b[49m\u001b[38;5;241;43m=\u001b[39;49m\u001b[43mmetric_kwds\u001b[49m\u001b[43m,\u001b[49m\n\u001b[1;32m    311\u001b[0m \u001b[43m    \u001b[49m\u001b[43mangular\u001b[49m\u001b[38;5;241;43m=\u001b[39;49m\u001b[43mangular\u001b[49m\u001b[43m,\u001b[49m\n\u001b[1;32m    312\u001b[0m \u001b[43m    \u001b[49m\u001b[43mverbose\u001b[49m\u001b[38;5;241;43m=\u001b[39;49m\u001b[43mverbose\u001b[49m\u001b[43m,\u001b[49m\n\u001b[1;32m    313\u001b[0m \u001b[43m\u001b[49m\u001b[43m)\u001b[49m\n\u001b[1;32m    315\u001b[0m \u001b[38;5;28;01mreturn\u001b[39;00m knn_indices, knn_dists, forest\n",
      "File \u001b[0;32m~/.conda/envs/plswork/lib/python3.9/site-packages/umap/umap_.py:328\u001b[0m, in \u001b[0;36mnearest_neighbors\u001b[0;34m(X, n_neighbors, metric, metric_kwds, angular, random_state, low_memory, use_pynndescent, n_jobs, verbose)\u001b[0m\n\u001b[1;32m    325\u001b[0m     n_trees \u001b[38;5;241m=\u001b[39m \u001b[38;5;28mmin\u001b[39m(\u001b[38;5;241m64\u001b[39m, \u001b[38;5;241m5\u001b[39m \u001b[38;5;241m+\u001b[39m \u001b[38;5;28mint\u001b[39m(\u001b[38;5;28mround\u001b[39m((X\u001b[38;5;241m.\u001b[39mshape[\u001b[38;5;241m0\u001b[39m]) \u001b[38;5;241m*\u001b[39m\u001b[38;5;241m*\u001b[39m \u001b[38;5;241m0.5\u001b[39m \u001b[38;5;241m/\u001b[39m \u001b[38;5;241m20.0\u001b[39m)))\n\u001b[1;32m    326\u001b[0m     n_iters \u001b[38;5;241m=\u001b[39m \u001b[38;5;28mmax\u001b[39m(\u001b[38;5;241m5\u001b[39m, \u001b[38;5;28mint\u001b[39m(\u001b[38;5;28mround\u001b[39m(np\u001b[38;5;241m.\u001b[39mlog2(X\u001b[38;5;241m.\u001b[39mshape[\u001b[38;5;241m0\u001b[39m]))))\n\u001b[0;32m--> 328\u001b[0m     knn_search_index \u001b[38;5;241m=\u001b[39m \u001b[43mNNDescent\u001b[49m\u001b[43m(\u001b[49m\n\u001b[1;32m    329\u001b[0m \u001b[43m        \u001b[49m\u001b[43mX\u001b[49m\u001b[43m,\u001b[49m\n\u001b[1;32m    330\u001b[0m \u001b[43m        \u001b[49m\u001b[43mn_neighbors\u001b[49m\u001b[38;5;241;43m=\u001b[39;49m\u001b[43mn_neighbors\u001b[49m\u001b[43m,\u001b[49m\n\u001b[1;32m    331\u001b[0m \u001b[43m        \u001b[49m\u001b[43mmetric\u001b[49m\u001b[38;5;241;43m=\u001b[39;49m\u001b[43mmetric\u001b[49m\u001b[43m,\u001b[49m\n\u001b[1;32m    332\u001b[0m \u001b[43m        \u001b[49m\u001b[43mmetric_kwds\u001b[49m\u001b[38;5;241;43m=\u001b[39;49m\u001b[43mmetric_kwds\u001b[49m\u001b[43m,\u001b[49m\n\u001b[1;32m    333\u001b[0m \u001b[43m        \u001b[49m\u001b[43mrandom_state\u001b[49m\u001b[38;5;241;43m=\u001b[39;49m\u001b[43mrandom_state\u001b[49m\u001b[43m,\u001b[49m\n\u001b[1;32m    334\u001b[0m \u001b[43m        \u001b[49m\u001b[43mn_trees\u001b[49m\u001b[38;5;241;43m=\u001b[39;49m\u001b[43mn_trees\u001b[49m\u001b[43m,\u001b[49m\n\u001b[1;32m    335\u001b[0m \u001b[43m        \u001b[49m\u001b[43mn_iters\u001b[49m\u001b[38;5;241;43m=\u001b[39;49m\u001b[43mn_iters\u001b[49m\u001b[43m,\u001b[49m\n\u001b[1;32m    336\u001b[0m \u001b[43m        \u001b[49m\u001b[43mmax_candidates\u001b[49m\u001b[38;5;241;43m=\u001b[39;49m\u001b[38;5;241;43m60\u001b[39;49m\u001b[43m,\u001b[49m\n\u001b[1;32m    337\u001b[0m \u001b[43m        \u001b[49m\u001b[43mlow_memory\u001b[49m\u001b[38;5;241;43m=\u001b[39;49m\u001b[43mlow_memory\u001b[49m\u001b[43m,\u001b[49m\n\u001b[1;32m    338\u001b[0m \u001b[43m        \u001b[49m\u001b[43mn_jobs\u001b[49m\u001b[38;5;241;43m=\u001b[39;49m\u001b[43mn_jobs\u001b[49m\u001b[43m,\u001b[49m\n\u001b[1;32m    339\u001b[0m \u001b[43m        \u001b[49m\u001b[43mverbose\u001b[49m\u001b[38;5;241;43m=\u001b[39;49m\u001b[43mverbose\u001b[49m\u001b[43m,\u001b[49m\n\u001b[1;32m    340\u001b[0m \u001b[43m        \u001b[49m\u001b[43mcompressed\u001b[49m\u001b[38;5;241;43m=\u001b[39;49m\u001b[38;5;28;43;01mFalse\u001b[39;49;00m\u001b[43m,\u001b[49m\n\u001b[1;32m    341\u001b[0m \u001b[43m    \u001b[49m\u001b[43m)\u001b[49m\n\u001b[1;32m    342\u001b[0m     knn_indices, knn_dists \u001b[38;5;241m=\u001b[39m knn_search_index\u001b[38;5;241m.\u001b[39mneighbor_graph\n\u001b[1;32m    344\u001b[0m \u001b[38;5;28;01mif\u001b[39;00m verbose:\n",
      "File \u001b[0;32m~/.conda/envs/plswork/lib/python3.9/site-packages/pynndescent/pynndescent_.py:890\u001b[0m, in \u001b[0;36mNNDescent.__init__\u001b[0;34m(self, data, metric, metric_kwds, n_neighbors, n_trees, leaf_size, pruning_degree_multiplier, diversify_prob, n_search_trees, tree_init, init_graph, random_state, low_memory, max_candidates, n_iters, delta, n_jobs, compressed, parallel_batch_queries, verbose)\u001b[0m\n\u001b[1;32m    887\u001b[0m     \u001b[38;5;28;01mif\u001b[39;00m verbose:\n\u001b[1;32m    888\u001b[0m         \u001b[38;5;28mprint\u001b[39m(ts(), \u001b[38;5;124m\"\u001b[39m\u001b[38;5;124mNN descent for\u001b[39m\u001b[38;5;124m\"\u001b[39m, \u001b[38;5;28mstr\u001b[39m(n_iters), \u001b[38;5;124m\"\u001b[39m\u001b[38;5;124miterations\u001b[39m\u001b[38;5;124m\"\u001b[39m)\n\u001b[0;32m--> 890\u001b[0m     \u001b[38;5;28mself\u001b[39m\u001b[38;5;241m.\u001b[39m_neighbor_graph \u001b[38;5;241m=\u001b[39m \u001b[43mnn_descent\u001b[49m\u001b[43m(\u001b[49m\n\u001b[1;32m    891\u001b[0m \u001b[43m        \u001b[49m\u001b[38;5;28;43mself\u001b[39;49m\u001b[38;5;241;43m.\u001b[39;49m\u001b[43m_raw_data\u001b[49m\u001b[43m,\u001b[49m\n\u001b[1;32m    892\u001b[0m \u001b[43m        \u001b[49m\u001b[38;5;28;43mself\u001b[39;49m\u001b[38;5;241;43m.\u001b[39;49m\u001b[43mn_neighbors\u001b[49m\u001b[43m,\u001b[49m\n\u001b[1;32m    893\u001b[0m \u001b[43m        \u001b[49m\u001b[38;5;28;43mself\u001b[39;49m\u001b[38;5;241;43m.\u001b[39;49m\u001b[43mrng_state\u001b[49m\u001b[43m,\u001b[49m\n\u001b[1;32m    894\u001b[0m \u001b[43m        \u001b[49m\u001b[43meffective_max_candidates\u001b[49m\u001b[43m,\u001b[49m\n\u001b[1;32m    895\u001b[0m \u001b[43m        \u001b[49m\u001b[38;5;28;43mself\u001b[39;49m\u001b[38;5;241;43m.\u001b[39;49m\u001b[43m_distance_func\u001b[49m\u001b[43m,\u001b[49m\n\u001b[1;32m    896\u001b[0m \u001b[43m        \u001b[49m\u001b[38;5;28;43mself\u001b[39;49m\u001b[38;5;241;43m.\u001b[39;49m\u001b[43mn_iters\u001b[49m\u001b[43m,\u001b[49m\n\u001b[1;32m    897\u001b[0m \u001b[43m        \u001b[49m\u001b[38;5;28;43mself\u001b[39;49m\u001b[38;5;241;43m.\u001b[39;49m\u001b[43mdelta\u001b[49m\u001b[43m,\u001b[49m\n\u001b[1;32m    898\u001b[0m \u001b[43m        \u001b[49m\u001b[43mlow_memory\u001b[49m\u001b[38;5;241;43m=\u001b[39;49m\u001b[38;5;28;43mself\u001b[39;49m\u001b[38;5;241;43m.\u001b[39;49m\u001b[43mlow_memory\u001b[49m\u001b[43m,\u001b[49m\n\u001b[1;32m    899\u001b[0m \u001b[43m        \u001b[49m\u001b[43mrp_tree_init\u001b[49m\u001b[38;5;241;43m=\u001b[39;49m\u001b[38;5;28;43;01mTrue\u001b[39;49;00m\u001b[43m,\u001b[49m\n\u001b[1;32m    900\u001b[0m \u001b[43m        \u001b[49m\u001b[43minit_graph\u001b[49m\u001b[38;5;241;43m=\u001b[39;49m\u001b[43m_init_graph\u001b[49m\u001b[43m,\u001b[49m\n\u001b[1;32m    901\u001b[0m \u001b[43m        \u001b[49m\u001b[43mleaf_array\u001b[49m\u001b[38;5;241;43m=\u001b[39;49m\u001b[43mleaf_array\u001b[49m\u001b[43m,\u001b[49m\n\u001b[1;32m    902\u001b[0m \u001b[43m        \u001b[49m\u001b[43mverbose\u001b[49m\u001b[38;5;241;43m=\u001b[39;49m\u001b[43mverbose\u001b[49m\u001b[43m,\u001b[49m\n\u001b[1;32m    903\u001b[0m \u001b[43m    \u001b[49m\u001b[43m)\u001b[49m\n\u001b[1;32m    905\u001b[0m \u001b[38;5;28;01mif\u001b[39;00m np\u001b[38;5;241m.\u001b[39many(\u001b[38;5;28mself\u001b[39m\u001b[38;5;241m.\u001b[39m_neighbor_graph[\u001b[38;5;241m0\u001b[39m] \u001b[38;5;241m<\u001b[39m \u001b[38;5;241m0\u001b[39m):\n\u001b[1;32m    906\u001b[0m     warn(\n\u001b[1;32m    907\u001b[0m         \u001b[38;5;124m\"\u001b[39m\u001b[38;5;124mFailed to correctly find n_neighbors for some samples.\u001b[39m\u001b[38;5;124m\"\u001b[39m\n\u001b[1;32m    908\u001b[0m         \u001b[38;5;124m\"\u001b[39m\u001b[38;5;124mResults may be less than ideal. Try re-running with\u001b[39m\u001b[38;5;124m\"\u001b[39m\n\u001b[1;32m    909\u001b[0m         \u001b[38;5;124m\"\u001b[39m\u001b[38;5;124mdifferent parameters.\u001b[39m\u001b[38;5;124m\"\u001b[39m\n\u001b[1;32m    910\u001b[0m     )\n",
      "File \u001b[0;32m~/.conda/envs/plswork/lib/python3.9/site-packages/numba/core/dispatcher.py:420\u001b[0m, in \u001b[0;36m_DispatcherBase._compile_for_args\u001b[0;34m(self, *args, **kws)\u001b[0m\n\u001b[1;32m    418\u001b[0m return_val \u001b[38;5;241m=\u001b[39m \u001b[38;5;28;01mNone\u001b[39;00m\n\u001b[1;32m    419\u001b[0m \u001b[38;5;28;01mtry\u001b[39;00m:\n\u001b[0;32m--> 420\u001b[0m     return_val \u001b[38;5;241m=\u001b[39m \u001b[38;5;28;43mself\u001b[39;49m\u001b[38;5;241;43m.\u001b[39;49m\u001b[43mcompile\u001b[49m\u001b[43m(\u001b[49m\u001b[38;5;28;43mtuple\u001b[39;49m\u001b[43m(\u001b[49m\u001b[43margtypes\u001b[49m\u001b[43m)\u001b[49m\u001b[43m)\u001b[49m\n\u001b[1;32m    421\u001b[0m \u001b[38;5;28;01mexcept\u001b[39;00m errors\u001b[38;5;241m.\u001b[39mForceLiteralArg \u001b[38;5;28;01mas\u001b[39;00m e:\n\u001b[1;32m    422\u001b[0m     \u001b[38;5;66;03m# Received request for compiler re-entry with the list of arguments\u001b[39;00m\n\u001b[1;32m    423\u001b[0m     \u001b[38;5;66;03m# indicated by e.requested_args.\u001b[39;00m\n\u001b[1;32m    424\u001b[0m     \u001b[38;5;66;03m# First, check if any of these args are already Literal-ized\u001b[39;00m\n\u001b[1;32m    425\u001b[0m     already_lit_pos \u001b[38;5;241m=\u001b[39m [i \u001b[38;5;28;01mfor\u001b[39;00m i \u001b[38;5;129;01min\u001b[39;00m e\u001b[38;5;241m.\u001b[39mrequested_args\n\u001b[1;32m    426\u001b[0m                        \u001b[38;5;28;01mif\u001b[39;00m \u001b[38;5;28misinstance\u001b[39m(args[i], types\u001b[38;5;241m.\u001b[39mLiteral)]\n",
      "File \u001b[0;32m~/.conda/envs/plswork/lib/python3.9/site-packages/numba/core/dispatcher.py:965\u001b[0m, in \u001b[0;36mDispatcher.compile\u001b[0;34m(self, sig)\u001b[0m\n\u001b[1;32m    963\u001b[0m \u001b[38;5;28;01mwith\u001b[39;00m ev\u001b[38;5;241m.\u001b[39mtrigger_event(\u001b[38;5;124m\"\u001b[39m\u001b[38;5;124mnumba:compile\u001b[39m\u001b[38;5;124m\"\u001b[39m, data\u001b[38;5;241m=\u001b[39mev_details):\n\u001b[1;32m    964\u001b[0m     \u001b[38;5;28;01mtry\u001b[39;00m:\n\u001b[0;32m--> 965\u001b[0m         cres \u001b[38;5;241m=\u001b[39m \u001b[38;5;28;43mself\u001b[39;49m\u001b[38;5;241;43m.\u001b[39;49m\u001b[43m_compiler\u001b[49m\u001b[38;5;241;43m.\u001b[39;49m\u001b[43mcompile\u001b[49m\u001b[43m(\u001b[49m\u001b[43margs\u001b[49m\u001b[43m,\u001b[49m\u001b[43m \u001b[49m\u001b[43mreturn_type\u001b[49m\u001b[43m)\u001b[49m\n\u001b[1;32m    966\u001b[0m     \u001b[38;5;28;01mexcept\u001b[39;00m errors\u001b[38;5;241m.\u001b[39mForceLiteralArg \u001b[38;5;28;01mas\u001b[39;00m e:\n\u001b[1;32m    967\u001b[0m         \u001b[38;5;28;01mdef\u001b[39;00m \u001b[38;5;21mfolded\u001b[39m(args, kws):\n",
      "File \u001b[0;32m~/.conda/envs/plswork/lib/python3.9/site-packages/numba/core/dispatcher.py:125\u001b[0m, in \u001b[0;36m_FunctionCompiler.compile\u001b[0;34m(self, args, return_type)\u001b[0m\n\u001b[1;32m    124\u001b[0m \u001b[38;5;28;01mdef\u001b[39;00m \u001b[38;5;21mcompile\u001b[39m(\u001b[38;5;28mself\u001b[39m, args, return_type):\n\u001b[0;32m--> 125\u001b[0m     status, retval \u001b[38;5;241m=\u001b[39m \u001b[38;5;28;43mself\u001b[39;49m\u001b[38;5;241;43m.\u001b[39;49m\u001b[43m_compile_cached\u001b[49m\u001b[43m(\u001b[49m\u001b[43margs\u001b[49m\u001b[43m,\u001b[49m\u001b[43m \u001b[49m\u001b[43mreturn_type\u001b[49m\u001b[43m)\u001b[49m\n\u001b[1;32m    126\u001b[0m     \u001b[38;5;28;01mif\u001b[39;00m status:\n\u001b[1;32m    127\u001b[0m         \u001b[38;5;28;01mreturn\u001b[39;00m retval\n",
      "File \u001b[0;32m~/.conda/envs/plswork/lib/python3.9/site-packages/numba/core/dispatcher.py:139\u001b[0m, in \u001b[0;36m_FunctionCompiler._compile_cached\u001b[0;34m(self, args, return_type)\u001b[0m\n\u001b[1;32m    136\u001b[0m     \u001b[38;5;28;01mpass\u001b[39;00m\n\u001b[1;32m    138\u001b[0m \u001b[38;5;28;01mtry\u001b[39;00m:\n\u001b[0;32m--> 139\u001b[0m     retval \u001b[38;5;241m=\u001b[39m \u001b[38;5;28;43mself\u001b[39;49m\u001b[38;5;241;43m.\u001b[39;49m\u001b[43m_compile_core\u001b[49m\u001b[43m(\u001b[49m\u001b[43margs\u001b[49m\u001b[43m,\u001b[49m\u001b[43m \u001b[49m\u001b[43mreturn_type\u001b[49m\u001b[43m)\u001b[49m\n\u001b[1;32m    140\u001b[0m \u001b[38;5;28;01mexcept\u001b[39;00m errors\u001b[38;5;241m.\u001b[39mTypingError \u001b[38;5;28;01mas\u001b[39;00m e:\n\u001b[1;32m    141\u001b[0m     \u001b[38;5;28mself\u001b[39m\u001b[38;5;241m.\u001b[39m_failed_cache[key] \u001b[38;5;241m=\u001b[39m e\n",
      "File \u001b[0;32m~/.conda/envs/plswork/lib/python3.9/site-packages/numba/core/dispatcher.py:152\u001b[0m, in \u001b[0;36m_FunctionCompiler._compile_core\u001b[0;34m(self, args, return_type)\u001b[0m\n\u001b[1;32m    149\u001b[0m flags \u001b[38;5;241m=\u001b[39m \u001b[38;5;28mself\u001b[39m\u001b[38;5;241m.\u001b[39m_customize_flags(flags)\n\u001b[1;32m    151\u001b[0m impl \u001b[38;5;241m=\u001b[39m \u001b[38;5;28mself\u001b[39m\u001b[38;5;241m.\u001b[39m_get_implementation(args, {})\n\u001b[0;32m--> 152\u001b[0m cres \u001b[38;5;241m=\u001b[39m \u001b[43mcompiler\u001b[49m\u001b[38;5;241;43m.\u001b[39;49m\u001b[43mcompile_extra\u001b[49m\u001b[43m(\u001b[49m\u001b[38;5;28;43mself\u001b[39;49m\u001b[38;5;241;43m.\u001b[39;49m\u001b[43mtargetdescr\u001b[49m\u001b[38;5;241;43m.\u001b[39;49m\u001b[43mtyping_context\u001b[49m\u001b[43m,\u001b[49m\n\u001b[1;32m    153\u001b[0m \u001b[43m                              \u001b[49m\u001b[38;5;28;43mself\u001b[39;49m\u001b[38;5;241;43m.\u001b[39;49m\u001b[43mtargetdescr\u001b[49m\u001b[38;5;241;43m.\u001b[39;49m\u001b[43mtarget_context\u001b[49m\u001b[43m,\u001b[49m\n\u001b[1;32m    154\u001b[0m \u001b[43m                              \u001b[49m\u001b[43mimpl\u001b[49m\u001b[43m,\u001b[49m\n\u001b[1;32m    155\u001b[0m \u001b[43m                              \u001b[49m\u001b[43margs\u001b[49m\u001b[38;5;241;43m=\u001b[39;49m\u001b[43margs\u001b[49m\u001b[43m,\u001b[49m\u001b[43m \u001b[49m\u001b[43mreturn_type\u001b[49m\u001b[38;5;241;43m=\u001b[39;49m\u001b[43mreturn_type\u001b[49m\u001b[43m,\u001b[49m\n\u001b[1;32m    156\u001b[0m \u001b[43m                              \u001b[49m\u001b[43mflags\u001b[49m\u001b[38;5;241;43m=\u001b[39;49m\u001b[43mflags\u001b[49m\u001b[43m,\u001b[49m\u001b[43m \u001b[49m\u001b[38;5;28;43mlocals\u001b[39;49m\u001b[38;5;241;43m=\u001b[39;49m\u001b[38;5;28;43mself\u001b[39;49m\u001b[38;5;241;43m.\u001b[39;49m\u001b[43mlocals\u001b[49m\u001b[43m,\u001b[49m\n\u001b[1;32m    157\u001b[0m \u001b[43m                              \u001b[49m\u001b[43mpipeline_class\u001b[49m\u001b[38;5;241;43m=\u001b[39;49m\u001b[38;5;28;43mself\u001b[39;49m\u001b[38;5;241;43m.\u001b[39;49m\u001b[43mpipeline_class\u001b[49m\u001b[43m)\u001b[49m\n\u001b[1;32m    158\u001b[0m \u001b[38;5;66;03m# Check typing error if object mode is used\u001b[39;00m\n\u001b[1;32m    159\u001b[0m \u001b[38;5;28;01mif\u001b[39;00m cres\u001b[38;5;241m.\u001b[39mtyping_error \u001b[38;5;129;01mis\u001b[39;00m \u001b[38;5;129;01mnot\u001b[39;00m \u001b[38;5;28;01mNone\u001b[39;00m \u001b[38;5;129;01mand\u001b[39;00m \u001b[38;5;129;01mnot\u001b[39;00m flags\u001b[38;5;241m.\u001b[39menable_pyobject:\n",
      "File \u001b[0;32m~/.conda/envs/plswork/lib/python3.9/site-packages/numba/core/compiler.py:693\u001b[0m, in \u001b[0;36mcompile_extra\u001b[0;34m(typingctx, targetctx, func, args, return_type, flags, locals, library, pipeline_class)\u001b[0m\n\u001b[1;32m    669\u001b[0m \u001b[38;5;124;03m\"\"\"Compiler entry point\u001b[39;00m\n\u001b[1;32m    670\u001b[0m \n\u001b[1;32m    671\u001b[0m \u001b[38;5;124;03mParameter\u001b[39;00m\n\u001b[0;32m   (...)\u001b[0m\n\u001b[1;32m    689\u001b[0m \u001b[38;5;124;03m    compiler pipeline\u001b[39;00m\n\u001b[1;32m    690\u001b[0m \u001b[38;5;124;03m\"\"\"\u001b[39;00m\n\u001b[1;32m    691\u001b[0m pipeline \u001b[38;5;241m=\u001b[39m pipeline_class(typingctx, targetctx, library,\n\u001b[1;32m    692\u001b[0m                           args, return_type, flags, \u001b[38;5;28mlocals\u001b[39m)\n\u001b[0;32m--> 693\u001b[0m \u001b[38;5;28;01mreturn\u001b[39;00m \u001b[43mpipeline\u001b[49m\u001b[38;5;241;43m.\u001b[39;49m\u001b[43mcompile_extra\u001b[49m\u001b[43m(\u001b[49m\u001b[43mfunc\u001b[49m\u001b[43m)\u001b[49m\n",
      "File \u001b[0;32m~/.conda/envs/plswork/lib/python3.9/site-packages/numba/core/compiler.py:429\u001b[0m, in \u001b[0;36mCompilerBase.compile_extra\u001b[0;34m(self, func)\u001b[0m\n\u001b[1;32m    427\u001b[0m \u001b[38;5;28mself\u001b[39m\u001b[38;5;241m.\u001b[39mstate\u001b[38;5;241m.\u001b[39mlifted \u001b[38;5;241m=\u001b[39m ()\n\u001b[1;32m    428\u001b[0m \u001b[38;5;28mself\u001b[39m\u001b[38;5;241m.\u001b[39mstate\u001b[38;5;241m.\u001b[39mlifted_from \u001b[38;5;241m=\u001b[39m \u001b[38;5;28;01mNone\u001b[39;00m\n\u001b[0;32m--> 429\u001b[0m \u001b[38;5;28;01mreturn\u001b[39;00m \u001b[38;5;28;43mself\u001b[39;49m\u001b[38;5;241;43m.\u001b[39;49m\u001b[43m_compile_bytecode\u001b[49m\u001b[43m(\u001b[49m\u001b[43m)\u001b[49m\n",
      "File \u001b[0;32m~/.conda/envs/plswork/lib/python3.9/site-packages/numba/core/compiler.py:497\u001b[0m, in \u001b[0;36mCompilerBase._compile_bytecode\u001b[0;34m(self)\u001b[0m\n\u001b[1;32m    493\u001b[0m \u001b[38;5;124;03m\"\"\"\u001b[39;00m\n\u001b[1;32m    494\u001b[0m \u001b[38;5;124;03mPopulate and run pipeline for bytecode input\u001b[39;00m\n\u001b[1;32m    495\u001b[0m \u001b[38;5;124;03m\"\"\"\u001b[39;00m\n\u001b[1;32m    496\u001b[0m \u001b[38;5;28;01massert\u001b[39;00m \u001b[38;5;28mself\u001b[39m\u001b[38;5;241m.\u001b[39mstate\u001b[38;5;241m.\u001b[39mfunc_ir \u001b[38;5;129;01mis\u001b[39;00m \u001b[38;5;28;01mNone\u001b[39;00m\n\u001b[0;32m--> 497\u001b[0m \u001b[38;5;28;01mreturn\u001b[39;00m \u001b[38;5;28;43mself\u001b[39;49m\u001b[38;5;241;43m.\u001b[39;49m\u001b[43m_compile_core\u001b[49m\u001b[43m(\u001b[49m\u001b[43m)\u001b[49m\n",
      "File \u001b[0;32m~/.conda/envs/plswork/lib/python3.9/site-packages/numba/core/compiler.py:463\u001b[0m, in \u001b[0;36mCompilerBase._compile_core\u001b[0;34m(self)\u001b[0m\n\u001b[1;32m    461\u001b[0m res \u001b[38;5;241m=\u001b[39m \u001b[38;5;28;01mNone\u001b[39;00m\n\u001b[1;32m    462\u001b[0m \u001b[38;5;28;01mtry\u001b[39;00m:\n\u001b[0;32m--> 463\u001b[0m     \u001b[43mpm\u001b[49m\u001b[38;5;241;43m.\u001b[39;49m\u001b[43mrun\u001b[49m\u001b[43m(\u001b[49m\u001b[38;5;28;43mself\u001b[39;49m\u001b[38;5;241;43m.\u001b[39;49m\u001b[43mstate\u001b[49m\u001b[43m)\u001b[49m\n\u001b[1;32m    464\u001b[0m     \u001b[38;5;28;01mif\u001b[39;00m \u001b[38;5;28mself\u001b[39m\u001b[38;5;241m.\u001b[39mstate\u001b[38;5;241m.\u001b[39mcr \u001b[38;5;129;01mis\u001b[39;00m \u001b[38;5;129;01mnot\u001b[39;00m \u001b[38;5;28;01mNone\u001b[39;00m:\n\u001b[1;32m    465\u001b[0m         \u001b[38;5;28;01mbreak\u001b[39;00m\n",
      "File \u001b[0;32m~/.conda/envs/plswork/lib/python3.9/site-packages/numba/core/compiler_machinery.py:341\u001b[0m, in \u001b[0;36mPassManager.run\u001b[0;34m(self, state)\u001b[0m\n\u001b[1;32m    339\u001b[0m pass_inst \u001b[38;5;241m=\u001b[39m _pass_registry\u001b[38;5;241m.\u001b[39mget(pss)\u001b[38;5;241m.\u001b[39mpass_inst\n\u001b[1;32m    340\u001b[0m \u001b[38;5;28;01mif\u001b[39;00m \u001b[38;5;28misinstance\u001b[39m(pass_inst, CompilerPass):\n\u001b[0;32m--> 341\u001b[0m     \u001b[38;5;28;43mself\u001b[39;49m\u001b[38;5;241;43m.\u001b[39;49m\u001b[43m_runPass\u001b[49m\u001b[43m(\u001b[49m\u001b[43midx\u001b[49m\u001b[43m,\u001b[49m\u001b[43m \u001b[49m\u001b[43mpass_inst\u001b[49m\u001b[43m,\u001b[49m\u001b[43m \u001b[49m\u001b[43mstate\u001b[49m\u001b[43m)\u001b[49m\n\u001b[1;32m    342\u001b[0m \u001b[38;5;28;01melse\u001b[39;00m:\n\u001b[1;32m    343\u001b[0m     \u001b[38;5;28;01mraise\u001b[39;00m \u001b[38;5;167;01mBaseException\u001b[39;00m(\u001b[38;5;124m\"\u001b[39m\u001b[38;5;124mLegacy pass in use\u001b[39m\u001b[38;5;124m\"\u001b[39m)\n",
      "File \u001b[0;32m~/.conda/envs/plswork/lib/python3.9/site-packages/numba/core/compiler_lock.py:35\u001b[0m, in \u001b[0;36m_CompilerLock.__call__.<locals>._acquire_compile_lock\u001b[0;34m(*args, **kwargs)\u001b[0m\n\u001b[1;32m     32\u001b[0m \u001b[38;5;129m@functools\u001b[39m\u001b[38;5;241m.\u001b[39mwraps(func)\n\u001b[1;32m     33\u001b[0m \u001b[38;5;28;01mdef\u001b[39;00m \u001b[38;5;21m_acquire_compile_lock\u001b[39m(\u001b[38;5;241m*\u001b[39margs, \u001b[38;5;241m*\u001b[39m\u001b[38;5;241m*\u001b[39mkwargs):\n\u001b[1;32m     34\u001b[0m     \u001b[38;5;28;01mwith\u001b[39;00m \u001b[38;5;28mself\u001b[39m:\n\u001b[0;32m---> 35\u001b[0m         \u001b[38;5;28;01mreturn\u001b[39;00m \u001b[43mfunc\u001b[49m\u001b[43m(\u001b[49m\u001b[38;5;241;43m*\u001b[39;49m\u001b[43margs\u001b[49m\u001b[43m,\u001b[49m\u001b[43m \u001b[49m\u001b[38;5;241;43m*\u001b[39;49m\u001b[38;5;241;43m*\u001b[39;49m\u001b[43mkwargs\u001b[49m\u001b[43m)\u001b[49m\n",
      "File \u001b[0;32m~/.conda/envs/plswork/lib/python3.9/site-packages/numba/core/compiler_machinery.py:296\u001b[0m, in \u001b[0;36mPassManager._runPass\u001b[0;34m(self, index, pss, internal_state)\u001b[0m\n\u001b[1;32m    294\u001b[0m     mutated \u001b[38;5;241m|\u001b[39m\u001b[38;5;241m=\u001b[39m check(pss\u001b[38;5;241m.\u001b[39mrun_initialization, internal_state)\n\u001b[1;32m    295\u001b[0m \u001b[38;5;28;01mwith\u001b[39;00m SimpleTimer() \u001b[38;5;28;01mas\u001b[39;00m pass_time:\n\u001b[0;32m--> 296\u001b[0m     mutated \u001b[38;5;241m|\u001b[39m\u001b[38;5;241m=\u001b[39m \u001b[43mcheck\u001b[49m\u001b[43m(\u001b[49m\u001b[43mpss\u001b[49m\u001b[38;5;241;43m.\u001b[39;49m\u001b[43mrun_pass\u001b[49m\u001b[43m,\u001b[49m\u001b[43m \u001b[49m\u001b[43minternal_state\u001b[49m\u001b[43m)\u001b[49m\n\u001b[1;32m    297\u001b[0m \u001b[38;5;28;01mwith\u001b[39;00m SimpleTimer() \u001b[38;5;28;01mas\u001b[39;00m finalize_time:\n\u001b[1;32m    298\u001b[0m     mutated \u001b[38;5;241m|\u001b[39m\u001b[38;5;241m=\u001b[39m check(pss\u001b[38;5;241m.\u001b[39mrun_finalizer, internal_state)\n",
      "File \u001b[0;32m~/.conda/envs/plswork/lib/python3.9/site-packages/numba/core/compiler_machinery.py:269\u001b[0m, in \u001b[0;36mPassManager._runPass.<locals>.check\u001b[0;34m(func, compiler_state)\u001b[0m\n\u001b[1;32m    268\u001b[0m \u001b[38;5;28;01mdef\u001b[39;00m \u001b[38;5;21mcheck\u001b[39m(func, compiler_state):\n\u001b[0;32m--> 269\u001b[0m     mangled \u001b[38;5;241m=\u001b[39m \u001b[43mfunc\u001b[49m\u001b[43m(\u001b[49m\u001b[43mcompiler_state\u001b[49m\u001b[43m)\u001b[49m\n\u001b[1;32m    270\u001b[0m     \u001b[38;5;28;01mif\u001b[39;00m mangled \u001b[38;5;129;01mnot\u001b[39;00m \u001b[38;5;129;01min\u001b[39;00m (\u001b[38;5;28;01mTrue\u001b[39;00m, \u001b[38;5;28;01mFalse\u001b[39;00m):\n\u001b[1;32m    271\u001b[0m         msg \u001b[38;5;241m=\u001b[39m (\u001b[38;5;124m\"\u001b[39m\u001b[38;5;124mCompilerPass implementations should return True/False. \u001b[39m\u001b[38;5;124m\"\u001b[39m\n\u001b[1;32m    272\u001b[0m                \u001b[38;5;124m\"\u001b[39m\u001b[38;5;124mCompilerPass with name \u001b[39m\u001b[38;5;124m'\u001b[39m\u001b[38;5;132;01m%s\u001b[39;00m\u001b[38;5;124m'\u001b[39m\u001b[38;5;124m did not.\u001b[39m\u001b[38;5;124m\"\u001b[39m)\n",
      "File \u001b[0;32m~/.conda/envs/plswork/lib/python3.9/site-packages/numba/core/typed_passes.py:423\u001b[0m, in \u001b[0;36mNativeLowering.run_pass\u001b[0;34m(self, state)\u001b[0m\n\u001b[1;32m    417\u001b[0m     state[\u001b[38;5;124m'\u001b[39m\u001b[38;5;124mcr\u001b[39m\u001b[38;5;124m'\u001b[39m] \u001b[38;5;241m=\u001b[39m _LowerResult(fndesc, call_helper,\n\u001b[1;32m    418\u001b[0m                                cfunc\u001b[38;5;241m=\u001b[39m\u001b[38;5;28;01mNone\u001b[39;00m, env\u001b[38;5;241m=\u001b[39menv)\n\u001b[1;32m    419\u001b[0m \u001b[38;5;28;01melse\u001b[39;00m:\n\u001b[1;32m    420\u001b[0m     \u001b[38;5;66;03m# Prepare for execution\u001b[39;00m\n\u001b[1;32m    421\u001b[0m     \u001b[38;5;66;03m# Insert native function for use by other jitted-functions.\u001b[39;00m\n\u001b[1;32m    422\u001b[0m     \u001b[38;5;66;03m# We also register its library to allow for inlining.\u001b[39;00m\n\u001b[0;32m--> 423\u001b[0m     cfunc \u001b[38;5;241m=\u001b[39m \u001b[43mtargetctx\u001b[49m\u001b[38;5;241;43m.\u001b[39;49m\u001b[43mget_executable\u001b[49m\u001b[43m(\u001b[49m\u001b[43mlibrary\u001b[49m\u001b[43m,\u001b[49m\u001b[43m \u001b[49m\u001b[43mfndesc\u001b[49m\u001b[43m,\u001b[49m\u001b[43m \u001b[49m\u001b[43menv\u001b[49m\u001b[43m)\u001b[49m\n\u001b[1;32m    424\u001b[0m     targetctx\u001b[38;5;241m.\u001b[39minsert_user_function(cfunc, fndesc, [library])\n\u001b[1;32m    425\u001b[0m     state[\u001b[38;5;124m'\u001b[39m\u001b[38;5;124mcr\u001b[39m\u001b[38;5;124m'\u001b[39m] \u001b[38;5;241m=\u001b[39m _LowerResult(fndesc, call_helper,\n\u001b[1;32m    426\u001b[0m                                cfunc\u001b[38;5;241m=\u001b[39mcfunc, env\u001b[38;5;241m=\u001b[39menv)\n",
      "File \u001b[0;32m~/.conda/envs/plswork/lib/python3.9/site-packages/numba/core/cpu.py:230\u001b[0m, in \u001b[0;36mCPUContext.get_executable\u001b[0;34m(self, library, fndesc, env)\u001b[0m\n\u001b[1;32m    217\u001b[0m \u001b[38;5;124;03m\"\"\"\u001b[39;00m\n\u001b[1;32m    218\u001b[0m \u001b[38;5;124;03mReturns\u001b[39;00m\n\u001b[1;32m    219\u001b[0m \u001b[38;5;124;03m-------\u001b[39;00m\n\u001b[0;32m   (...)\u001b[0m\n\u001b[1;32m    227\u001b[0m \u001b[38;5;124;03m    an execution environment (from _dynfunc)\u001b[39;00m\n\u001b[1;32m    228\u001b[0m \u001b[38;5;124;03m\"\"\"\u001b[39;00m\n\u001b[1;32m    229\u001b[0m \u001b[38;5;66;03m# Code generation\u001b[39;00m\n\u001b[0;32m--> 230\u001b[0m baseptr \u001b[38;5;241m=\u001b[39m \u001b[43mlibrary\u001b[49m\u001b[38;5;241;43m.\u001b[39;49m\u001b[43mget_pointer_to_function\u001b[49m\u001b[43m(\u001b[49m\u001b[43mfndesc\u001b[49m\u001b[38;5;241;43m.\u001b[39;49m\u001b[43mllvm_func_name\u001b[49m\u001b[43m)\u001b[49m\n\u001b[1;32m    231\u001b[0m fnptr \u001b[38;5;241m=\u001b[39m library\u001b[38;5;241m.\u001b[39mget_pointer_to_function(fndesc\u001b[38;5;241m.\u001b[39mllvm_cpython_wrapper_name)\n\u001b[1;32m    233\u001b[0m \u001b[38;5;66;03m# Note: we avoid reusing the original docstring to avoid encoding\u001b[39;00m\n\u001b[1;32m    234\u001b[0m \u001b[38;5;66;03m# issues on Python 2, see issue #1908\u001b[39;00m\n",
      "File \u001b[0;32m~/.conda/envs/plswork/lib/python3.9/site-packages/numba/core/codegen.py:990\u001b[0m, in \u001b[0;36mJITCodeLibrary.get_pointer_to_function\u001b[0;34m(self, name)\u001b[0m\n\u001b[1;32m    976\u001b[0m \u001b[38;5;28;01mdef\u001b[39;00m \u001b[38;5;21mget_pointer_to_function\u001b[39m(\u001b[38;5;28mself\u001b[39m, name):\n\u001b[1;32m    977\u001b[0m     \u001b[38;5;124;03m\"\"\"\u001b[39;00m\n\u001b[1;32m    978\u001b[0m \u001b[38;5;124;03m    Generate native code for function named *name* and return a pointer\u001b[39;00m\n\u001b[1;32m    979\u001b[0m \u001b[38;5;124;03m    to the start of the function (as an integer).\u001b[39;00m\n\u001b[0;32m   (...)\u001b[0m\n\u001b[1;32m    988\u001b[0m \u001b[38;5;124;03m        - non-zero if the symbol is defined.\u001b[39;00m\n\u001b[1;32m    989\u001b[0m \u001b[38;5;124;03m    \"\"\"\u001b[39;00m\n\u001b[0;32m--> 990\u001b[0m     \u001b[38;5;28;43mself\u001b[39;49m\u001b[38;5;241;43m.\u001b[39;49m\u001b[43m_ensure_finalized\u001b[49m\u001b[43m(\u001b[49m\u001b[43m)\u001b[49m\n\u001b[1;32m    991\u001b[0m     ee \u001b[38;5;241m=\u001b[39m \u001b[38;5;28mself\u001b[39m\u001b[38;5;241m.\u001b[39m_codegen\u001b[38;5;241m.\u001b[39m_engine\n\u001b[1;32m    992\u001b[0m     \u001b[38;5;28;01mif\u001b[39;00m \u001b[38;5;129;01mnot\u001b[39;00m ee\u001b[38;5;241m.\u001b[39mis_symbol_defined(name):\n",
      "File \u001b[0;32m~/.conda/envs/plswork/lib/python3.9/site-packages/numba/core/codegen.py:568\u001b[0m, in \u001b[0;36mCodeLibrary._ensure_finalized\u001b[0;34m(self)\u001b[0m\n\u001b[1;32m    566\u001b[0m \u001b[38;5;28;01mdef\u001b[39;00m \u001b[38;5;21m_ensure_finalized\u001b[39m(\u001b[38;5;28mself\u001b[39m):\n\u001b[1;32m    567\u001b[0m     \u001b[38;5;28;01mif\u001b[39;00m \u001b[38;5;129;01mnot\u001b[39;00m \u001b[38;5;28mself\u001b[39m\u001b[38;5;241m.\u001b[39m_finalized:\n\u001b[0;32m--> 568\u001b[0m         \u001b[38;5;28;43mself\u001b[39;49m\u001b[38;5;241;43m.\u001b[39;49m\u001b[43mfinalize\u001b[49m\u001b[43m(\u001b[49m\u001b[43m)\u001b[49m\n",
      "File \u001b[0;32m~/.conda/envs/plswork/lib/python3.9/site-packages/numba/core/codegen.py:766\u001b[0m, in \u001b[0;36mCPUCodeLibrary.finalize\u001b[0;34m(self)\u001b[0m\n\u001b[1;32m    763\u001b[0m \u001b[38;5;28mself\u001b[39m\u001b[38;5;241m.\u001b[39m_optimize_final_module()\n\u001b[1;32m    765\u001b[0m \u001b[38;5;28mself\u001b[39m\u001b[38;5;241m.\u001b[39m_final_module\u001b[38;5;241m.\u001b[39mverify()\n\u001b[0;32m--> 766\u001b[0m \u001b[38;5;28;43mself\u001b[39;49m\u001b[38;5;241;43m.\u001b[39;49m\u001b[43m_finalize_final_module\u001b[49m\u001b[43m(\u001b[49m\u001b[43m)\u001b[49m\n",
      "File \u001b[0;32m~/.conda/envs/plswork/lib/python3.9/site-packages/numba/core/codegen.py:787\u001b[0m, in \u001b[0;36mCPUCodeLibrary._finalize_final_module\u001b[0;34m(self)\u001b[0m\n\u001b[1;32m    783\u001b[0m \u001b[38;5;124;03m\"\"\"\u001b[39;00m\n\u001b[1;32m    784\u001b[0m \u001b[38;5;124;03mMake the underlying LLVM module ready to use.\u001b[39;00m\n\u001b[1;32m    785\u001b[0m \u001b[38;5;124;03m\"\"\"\u001b[39;00m\n\u001b[1;32m    786\u001b[0m \u001b[38;5;28mself\u001b[39m\u001b[38;5;241m.\u001b[39m_finalize_dynamic_globals()\n\u001b[0;32m--> 787\u001b[0m \u001b[38;5;28;43mself\u001b[39;49m\u001b[38;5;241;43m.\u001b[39;49m\u001b[43m_verify_declare_only_symbols\u001b[49m\u001b[43m(\u001b[49m\u001b[43m)\u001b[49m\n\u001b[1;32m    789\u001b[0m \u001b[38;5;66;03m# Remember this on the module, for the object cache hooks\u001b[39;00m\n\u001b[1;32m    790\u001b[0m \u001b[38;5;28mself\u001b[39m\u001b[38;5;241m.\u001b[39m_final_module\u001b[38;5;241m.\u001b[39m__library \u001b[38;5;241m=\u001b[39m weakref\u001b[38;5;241m.\u001b[39mproxy(\u001b[38;5;28mself\u001b[39m)\n",
      "File \u001b[0;32m~/.conda/envs/plswork/lib/python3.9/site-packages/numba/core/codegen.py:778\u001b[0m, in \u001b[0;36mCPUCodeLibrary._verify_declare_only_symbols\u001b[0;34m(self)\u001b[0m\n\u001b[1;32m    774\u001b[0m \u001b[38;5;28;01mdef\u001b[39;00m \u001b[38;5;21m_verify_declare_only_symbols\u001b[39m(\u001b[38;5;28mself\u001b[39m):\n\u001b[1;32m    775\u001b[0m     \u001b[38;5;66;03m# Verify that no declare-only function compiled by numba.\u001b[39;00m\n\u001b[1;32m    776\u001b[0m     \u001b[38;5;28;01mfor\u001b[39;00m fn \u001b[38;5;129;01min\u001b[39;00m \u001b[38;5;28mself\u001b[39m\u001b[38;5;241m.\u001b[39m_final_module\u001b[38;5;241m.\u001b[39mfunctions:\n\u001b[1;32m    777\u001b[0m         \u001b[38;5;66;03m# We will only check for symbol name starting with '_ZN5numba'\u001b[39;00m\n\u001b[0;32m--> 778\u001b[0m         \u001b[38;5;28;01mif\u001b[39;00m \u001b[43mfn\u001b[49m\u001b[38;5;241;43m.\u001b[39;49m\u001b[43mis_declaration\u001b[49m \u001b[38;5;129;01mand\u001b[39;00m fn\u001b[38;5;241m.\u001b[39mname\u001b[38;5;241m.\u001b[39mstartswith(\u001b[38;5;124m'\u001b[39m\u001b[38;5;124m_ZN5numba\u001b[39m\u001b[38;5;124m'\u001b[39m):\n\u001b[1;32m    779\u001b[0m             msg \u001b[38;5;241m=\u001b[39m \u001b[38;5;124m'\u001b[39m\u001b[38;5;124mSymbol \u001b[39m\u001b[38;5;132;01m{}\u001b[39;00m\u001b[38;5;124m not linked properly\u001b[39m\u001b[38;5;124m'\u001b[39m\n\u001b[1;32m    780\u001b[0m             \u001b[38;5;28;01mraise\u001b[39;00m \u001b[38;5;167;01mAssertionError\u001b[39;00m(msg\u001b[38;5;241m.\u001b[39mformat(fn\u001b[38;5;241m.\u001b[39mname))\n",
      "File \u001b[0;32m~/.conda/envs/plswork/lib/python3.9/site-packages/llvmlite/binding/value.py:215\u001b[0m, in \u001b[0;36mValueRef.is_declaration\u001b[0;34m(self)\u001b[0m\n\u001b[1;32m    212\u001b[0m \u001b[38;5;28;01mif\u001b[39;00m \u001b[38;5;129;01mnot\u001b[39;00m (\u001b[38;5;28mself\u001b[39m\u001b[38;5;241m.\u001b[39mis_global \u001b[38;5;129;01mor\u001b[39;00m \u001b[38;5;28mself\u001b[39m\u001b[38;5;241m.\u001b[39mis_function):\n\u001b[1;32m    213\u001b[0m     \u001b[38;5;28;01mraise\u001b[39;00m \u001b[38;5;167;01mValueError\u001b[39;00m(\u001b[38;5;124m'\u001b[39m\u001b[38;5;124mexpected global or function value, got \u001b[39m\u001b[38;5;132;01m%s\u001b[39;00m\u001b[38;5;124m'\u001b[39m\n\u001b[1;32m    214\u001b[0m                      \u001b[38;5;241m%\u001b[39m (\u001b[38;5;28mself\u001b[39m\u001b[38;5;241m.\u001b[39m_kind,))\n\u001b[0;32m--> 215\u001b[0m \u001b[38;5;28;01mreturn\u001b[39;00m \u001b[43mffi\u001b[49m\u001b[38;5;241;43m.\u001b[39;49m\u001b[43mlib\u001b[49m\u001b[38;5;241;43m.\u001b[39;49m\u001b[43mLLVMPY_IsDeclaration\u001b[49m(\u001b[38;5;28mself\u001b[39m)\n",
      "File \u001b[0;32m~/.conda/envs/plswork/lib/python3.9/site-packages/llvmlite/binding/ffi.py:95\u001b[0m, in \u001b[0;36m_lib_wrapper.__getattr__\u001b[0;34m(self, name)\u001b[0m\n\u001b[1;32m     93\u001b[0m \u001b[38;5;28;01mdef\u001b[39;00m \u001b[38;5;21m__getattr__\u001b[39m(\u001b[38;5;28mself\u001b[39m, name):\n\u001b[1;32m     94\u001b[0m     \u001b[38;5;28;01mtry\u001b[39;00m:\n\u001b[0;32m---> 95\u001b[0m         \u001b[38;5;28;01mreturn\u001b[39;00m \u001b[38;5;28;43mself\u001b[39;49m\u001b[38;5;241;43m.\u001b[39;49m\u001b[43m_fntab\u001b[49m[name]\n\u001b[1;32m     96\u001b[0m     \u001b[38;5;28;01mexcept\u001b[39;00m \u001b[38;5;167;01mKeyError\u001b[39;00m:\n\u001b[1;32m     97\u001b[0m         \u001b[38;5;66;03m# Lazily wraps new functions as they are requested\u001b[39;00m\n\u001b[1;32m     98\u001b[0m         cfn \u001b[38;5;241m=\u001b[39m \u001b[38;5;28mgetattr\u001b[39m(\u001b[38;5;28mself\u001b[39m\u001b[38;5;241m.\u001b[39m_lib, name)\n",
      "\u001b[0;31mKeyboardInterrupt\u001b[0m: "
     ]
    }
   ],
   "source": [
    "np.random.seed(0) \n",
    "cna.pp.knn(d)"
   ]
  },
  {
   "cell_type": "code",
   "execution_count": 89,
   "id": "84a70d4f-5f9e-4aae-bddd-c13154a4da91",
   "metadata": {},
   "outputs": [
    {
     "name": "stdout",
     "output_type": "stream",
     "text": [
      "qcd NAM not found; computing and saving\n",
      "\ttaking step 1\n",
      "\tmedian kurtosis: 28.004392623901367\n",
      "\t20th percentile R2(t,t-1): nan\n",
      "\ttaking step 2\n",
      "\tmedian kurtosis: 19.150562286376953\n",
      "\t20th percentile R2(t,t-1): 0.7480589747428894\n",
      "\ttaking step 3\n",
      "\tmedian kurtosis: 11.970285415649414\n",
      "\t20th percentile R2(t,t-1): 0.8986006021499634\n",
      "\ttaking step 4\n",
      "\tmedian kurtosis: 8.01153564453125\n",
      "\t20th percentile R2(t,t-1): 0.9367965221405029\n",
      "\ttaking step 5\n",
      "\tmedian kurtosis: 5.956489086151123\n",
      "\t20th percentile R2(t,t-1): 0.9601739645004272\n",
      "stopping after 5 steps\n",
      "covariate-adjusted NAM not found; computing and saving\n"
     ]
    },
    {
     "name": "stderr",
     "output_type": "stream",
     "text": [
      "/PHShome/ssg34/.conda/envs/plswork/lib/python3.9/site-packages/cna/tools/_nam.py:79: UserWarning: only one unique batch supplied to qc\n",
      "  warnings.warn('only one unique batch supplied to qc')\n",
      "/PHShome/ssg34/.conda/envs/plswork/lib/python3.9/site-packages/cna/tools/_nam.py:101: UserWarning: only one unique batch supplied to prep\n",
      "  warnings.warn('only one unique batch supplied to prep')\n"
     ]
    },
    {
     "name": "stdout",
     "output_type": "stream",
     "text": [
      "computing SVD\n",
      "performing association test\n",
      "computing neighborhood-level FDRs\n",
      "8\n",
      "[1, 2, 3, 4, 5, 6, 7, 8, 9, 10, 11, 12, 13, 14, 15, 16, 17, 18, 19, 20]\n",
      "p = 0.17428257174282571 , 8 PCs used\n",
      "total r^2 between top 8 NAM PCs and outcome is 0.15\n"
     ]
    }
   ],
   "source": [
    "np.random.seed(0) \n",
    "res = cna.tl._association.association(d, #dataset \n",
    "                                      d.samplem['Final_ISN_[III]'], #phenotype\n",
    "#                                       batches=d.samplem.processing_batch, #batches\n",
    "                                      Nnull=10000, # number of null permutations to do (defaults to only 1e3)\n",
    "                                      ks=[1,2,3,4,5,6,7,8,9,10,11,12,13,14,15,16,17,18,19,20] # I asked the method to consider up to 10 PCs because\n",
    "                                                                #it chose the max number of PCs it considered the default set of [1,2,3,4]\n",
    "                                     )\n",
    "print(res.k)\n",
    "print(res.ks)\n",
    "print('p =', res.p, ',', res.k, 'PCs used')\n",
    "print('total r^2 between top {} NAM PCs and outcome is {:.2f}'.format(res.k, res.r2))"
   ]
  },
  {
   "cell_type": "code",
   "execution_count": 90,
   "id": "af6c7277-fbc9-4ac0-81b7-bda0dc8866b9",
   "metadata": {},
   "outputs": [
    {
     "name": "stdout",
     "output_type": "stream",
     "text": [
      "performing association test\n"
     ]
    },
    {
     "name": "stderr",
     "output_type": "stream",
     "text": [
      "/PHShome/ssg34/.conda/envs/plswork/lib/python3.9/site-packages/cna/tools/_association.py:57: UserWarning: data supported use of 20 NAM PCs, which is the maximum considered. Consider allowing more PCs by using the \"ks\" argument.\n",
      "  warnings.warn(('data supported use of {} NAM PCs, which is the maximum considered. '+\\\n"
     ]
    },
    {
     "name": "stdout",
     "output_type": "stream",
     "text": [
      "computing neighborhood-level FDRs\n",
      "20\n",
      "[1, 2, 3, 4, 5, 6, 7, 8, 9, 10, 11, 12, 13, 14, 15, 16, 17, 18, 19, 20]\n",
      "p = 0.17518248175182483 , 20 PCs used\n",
      "total r^2 between top 20 NAM PCs and outcome is 0.27\n"
     ]
    }
   ],
   "source": [
    "np.random.seed(0) \n",
    "res = cna.tl._association.association(d, #dataset \n",
    "                                      d.samplem['Final_ISN_[III][V]'], #phenotype\n",
    "#                                       batches=d.samplem.processing_batch, #batches\n",
    "                                      Nnull=10000, # number of null permutations to do (defaults to only 1e3)\n",
    "                                      ks=[1,2,3,4,5,6,7,8,9,10,11,12,13,14,15,16,17,18,19,20] # I asked the method to consider up to 10 PCs because\n",
    "                                                                #it chose the max number of PCs it considered the default set of [1,2,3,4]\n",
    "                                     )\n",
    "print(res.k)\n",
    "print(res.ks)\n",
    "print('p =', res.p, ',', res.k, 'PCs used')\n",
    "print('total r^2 between top {} NAM PCs and outcome is {:.2f}'.format(res.k, res.r2))"
   ]
  },
  {
   "cell_type": "code",
   "execution_count": 91,
   "id": "11bda4fe-3fed-494d-af78-1ea14f512d3b",
   "metadata": {},
   "outputs": [
    {
     "name": "stdout",
     "output_type": "stream",
     "text": [
      "performing association test\n",
      "computing neighborhood-level FDRs\n",
      "19\n",
      "[1, 2, 3, 4, 5, 6, 7, 8, 9, 10, 11, 12, 13, 14, 15, 16, 17, 18, 19, 20]\n",
      "p = 0.5727427257274272 , 19 PCs used\n",
      "total r^2 between top 19 NAM PCs and outcome is 0.20\n"
     ]
    }
   ],
   "source": [
    "np.random.seed(0) \n",
    "res = cna.tl._association.association(d, #dataset \n",
    "                                      d.samplem['Final_ISN_[IV]'], #phenotype\n",
    "#                                       batches=d.samplem.processing_batch, #batches\n",
    "                                      Nnull=10000, # number of null permutations to do (defaults to only 1e3)\n",
    "                                      ks=[1,2,3,4,5,6,7,8,9,10,11,12,13,14,15,16,17,18,19,20] # I asked the method to consider up to 10 PCs because\n",
    "                                                                #it chose the max number of PCs it considered the default set of [1,2,3,4]\n",
    "                                     )\n",
    "print(res.k)\n",
    "print(res.ks)\n",
    "print('p =', res.p, ',', res.k, 'PCs used')\n",
    "print('total r^2 between top {} NAM PCs and outcome is {:.2f}'.format(res.k, res.r2))"
   ]
  },
  {
   "cell_type": "code",
   "execution_count": 92,
   "id": "1570f83f-53d1-4ce8-9a51-6cba7af8d3b6",
   "metadata": {},
   "outputs": [
    {
     "name": "stdout",
     "output_type": "stream",
     "text": [
      "performing association test\n",
      "computing neighborhood-level FDRs\n",
      "1\n",
      "[1, 2, 3, 4, 5, 6, 7, 8, 9, 10, 11, 12, 13, 14, 15, 16, 17, 18, 19, 20]\n",
      "p = 0.907009299070093 , 1 PCs used\n",
      "total r^2 between top 1 NAM PCs and outcome is 0.01\n"
     ]
    }
   ],
   "source": [
    "np.random.seed(0) \n",
    "res = cna.tl._association.association(d, #dataset \n",
    "                                      d.samplem['Final_ISN_[IV][V]'], #phenotype\n",
    "#                                       batches=d.samplem.processing_batch, #batches\n",
    "                                      Nnull=10000, # number of null permutations to do (defaults to only 1e3)\n",
    "                                      ks=[1,2,3,4,5,6,7,8,9,10,11,12,13,14,15,16,17,18,19,20] # I asked the method to consider up to 10 PCs because\n",
    "                                                                #it chose the max number of PCs it considered the default set of [1,2,3,4]\n",
    "                                     )\n",
    "print(res.k)\n",
    "print(res.ks)\n",
    "print('p =', res.p, ',', res.k, 'PCs used')\n",
    "print('total r^2 between top {} NAM PCs and outcome is {:.2f}'.format(res.k, res.r2))"
   ]
  },
  {
   "cell_type": "code",
   "execution_count": 113,
   "id": "2dbf919b-f0ef-4d43-81d2-725bbcc10fad",
   "metadata": {},
   "outputs": [
    {
     "name": "stdout",
     "output_type": "stream",
     "text": [
      "qcd NAM not found; computing and saving\n",
      "\ttaking step 1\n",
      "\tmedian kurtosis: 27.982099533081055\n",
      "\t20th percentile R2(t,t-1): nan\n",
      "\ttaking step 2\n",
      "\tmedian kurtosis: 19.15191650390625\n",
      "\t20th percentile R2(t,t-1): 0.7480363607406616\n",
      "\ttaking step 3\n",
      "\tmedian kurtosis: 11.953389167785645\n",
      "\t20th percentile R2(t,t-1): 0.8987291336059571\n",
      "\ttaking step 4\n",
      "\tmedian kurtosis: 7.992730140686035\n",
      "\t20th percentile R2(t,t-1): 0.9367852330207824\n",
      "\ttaking step 5\n",
      "\tmedian kurtosis: 5.942493915557861\n",
      "\t20th percentile R2(t,t-1): 0.9599226474761963\n",
      "stopping after 5 steps\n",
      "covariate-adjusted NAM not found; computing and saving\n",
      "computing SVD\n"
     ]
    },
    {
     "name": "stderr",
     "output_type": "stream",
     "text": [
      "/PHShome/ssg34/.conda/envs/plswork/lib/python3.9/site-packages/cna/tools/_nam.py:79: UserWarning: only one unique batch supplied to qc\n",
      "  warnings.warn('only one unique batch supplied to qc')\n",
      "/PHShome/ssg34/.conda/envs/plswork/lib/python3.9/site-packages/cna/tools/_nam.py:101: UserWarning: only one unique batch supplied to prep\n",
      "  warnings.warn('only one unique batch supplied to prep')\n"
     ]
    },
    {
     "name": "stdout",
     "output_type": "stream",
     "text": [
      "performing association test\n"
     ]
    },
    {
     "name": "stderr",
     "output_type": "stream",
     "text": [
      "/PHShome/ssg34/.conda/envs/plswork/lib/python3.9/site-packages/cna/tools/_association.py:57: UserWarning: data supported use of 20 NAM PCs, which is the maximum considered. Consider allowing more PCs by using the \"ks\" argument.\n",
      "  warnings.warn(('data supported use of {} NAM PCs, which is the maximum considered. '+\\\n"
     ]
    },
    {
     "name": "stdout",
     "output_type": "stream",
     "text": [
      "computing neighborhood-level FDRs\n",
      "20\n",
      "[1, 2, 3, 4, 5, 6, 7, 8, 9, 10, 11, 12, 13, 14, 15, 16, 17, 18, 19, 20]\n",
      "p = 0.028597140285971403 , 20 PCs used\n",
      "total r^2 between top 20 NAM PCs and outcome is 0.31\n"
     ]
    }
   ],
   "source": [
    "np.random.seed(0) \n",
    "res = cna.tl._association.association(d, #dataset \n",
    "                                      d.samplem['Final_ISN_[V]'], #phenotype\n",
    "#                                       batches=d.samplem.processing_batch, #batches\n",
    "                                      Nnull=10000, # number of null permutations to do (defaults to only 1e3)\n",
    "                                      ks=[1,2,3,4,5,6,7,8,9,10,11,12,13,14,15,16,17,18,19,20] # I asked the method to consider up to 10 PCs because\n",
    "                                                                #it chose the max number of PCs it considered the default set of [1,2,3,4]\n",
    "                                     )\n",
    "print(res.k)\n",
    "print(res.ks)\n",
    "print('p =', res.p, ',', res.k, 'PCs used')\n",
    "print('total r^2 between top {} NAM PCs and outcome is {:.2f}'.format(res.k, res.r2))"
   ]
  },
  {
   "cell_type": "code",
   "execution_count": 114,
   "id": "417005d5-f90f-4d99-bc60-4c1ce2f86abb",
   "metadata": {},
   "outputs": [],
   "source": [
    "mono_uni['ISN_Class_Five'] = res.p"
   ]
  },
  {
   "cell_type": "code",
   "execution_count": 115,
   "id": "d3d7bad3-6d8e-499b-a28e-2ae33aa09557",
   "metadata": {},
   "outputs": [],
   "source": [
    "np.savetxt(\"/data/srlab/ssg34/SLE_kidney_v2/data/pbmc/mono_dc/isn/class_5_ncorr.csv\", \n",
    "               res.ncorrs, delimiter=\",\")\n",
    "np.savetxt(\"/data/srlab/ssg34/SLE_kidney_v2/data/pbmc/mono_dc/isn/class_5_fdrs.csv\", \n",
    "               res.fdrs, delimiter=\",\")"
   ]
  },
  {
   "cell_type": "code",
   "execution_count": 116,
   "id": "acea9015-dcc0-4e57-a747-5ce418893519",
   "metadata": {},
   "outputs": [
    {
     "name": "stdout",
     "output_type": "stream",
     "text": [
      "covariate-adjusted NAM not found; computing and saving\n",
      "computing SVD\n"
     ]
    },
    {
     "name": "stderr",
     "output_type": "stream",
     "text": [
      "/PHShome/ssg34/.conda/envs/plswork/lib/python3.9/site-packages/cna/tools/_nam.py:101: UserWarning: only one unique batch supplied to prep\n",
      "  warnings.warn('only one unique batch supplied to prep')\n"
     ]
    },
    {
     "name": "stdout",
     "output_type": "stream",
     "text": [
      "performing association test\n",
      "computing neighborhood-level FDRs\n",
      "1\n",
      "[1, 2, 3, 4, 5, 6, 7, 8, 9, 10, 11, 12, 13, 14, 15, 16, 17, 18, 19, 20]\n",
      "p = 0.05829417058294171 , 1 PCs used\n",
      "total r^2 between top 1 NAM PCs and outcome is 0.07\n"
     ]
    }
   ],
   "source": [
    "np.random.seed(0) \n",
    "res = cna.tl._association.association(d, #dataset \n",
    "                                      d.samplem['Final_ISN_[V]'], #phenotype\n",
    "#                                       batches=d.samplem.processing_batch, #batches\n",
    "                                      covs = d.samplem[['Age', 'Sex']],\n",
    "                                      Nnull=10000, # number of null permutations to do (defaults to only 1e3)\n",
    "                                      ks=[1,2,3,4,5,6,7,8,9,10,11,12,13,14,15,16,17,18,19,20] # I asked the method to consider up to 10 PCs because\n",
    "                                                                #it chose the max number of PCs it considered the default set of [1,2,3,4]\n",
    "                                     )\n",
    "print(res.k)\n",
    "print(res.ks)\n",
    "print('p =', res.p, ',', res.k, 'PCs used')\n",
    "print('total r^2 between top {} NAM PCs and outcome is {:.2f}'.format(res.k, res.r2))"
   ]
  },
  {
   "cell_type": "code",
   "execution_count": 118,
   "id": "727cf443-477a-4f26-bac6-87303f9761c8",
   "metadata": {},
   "outputs": [],
   "source": [
    "mono_cond['ISN_Class_Five'] = res.p"
   ]
  },
  {
   "cell_type": "markdown",
   "id": "af13a717-8940-484c-a06d-1e4549952f0d",
   "metadata": {},
   "source": [
    "# B CELL"
   ]
  },
  {
   "cell_type": "code",
   "execution_count": 119,
   "id": "fe33baac-4084-4a5f-975d-5448f20843f3",
   "metadata": {},
   "outputs": [],
   "source": [
    "b_uni = dict()\n",
    "b_cond = dict()"
   ]
  },
  {
   "cell_type": "markdown",
   "id": "8a1ae4ab-3802-47a3-83d6-4381c2ee0277",
   "metadata": {},
   "source": [
    "## CASE/CONTROL"
   ]
  },
  {
   "cell_type": "code",
   "execution_count": 19,
   "id": "75189815-2e41-48a6-8b4d-34e4b2fcea73",
   "metadata": {},
   "outputs": [
    {
     "name": "stdout",
     "output_type": "stream",
     "text": [
      "(52424, 25)\n"
     ]
    },
    {
     "name": "stderr",
     "output_type": "stream",
     "text": [
      "/tmp/ipykernel_3407/3856340457.py:1: DtypeWarning: Columns (11) have mixed types. Specify dtype option on import or set low_memory=False.\n",
      "  meta = pd.read_csv('/data/srlab/ssg34/SLE_kidney_v2/data/pbmc/b_cell/case_control/meta.csv')\n"
     ]
    }
   ],
   "source": [
    "meta = pd.read_csv('/data/srlab/ssg34/SLE_kidney_v2/data/pbmc/b_cell/case_control/meta.csv')\n",
    "print(meta.shape)"
   ]
  },
  {
   "cell_type": "code",
   "execution_count": 20,
   "id": "485ce4d0-c5a8-4826-8c53-083f47c30657",
   "metadata": {},
   "outputs": [
    {
     "name": "stdout",
     "output_type": "stream",
     "text": [
      "(52424, 20)\n"
     ]
    }
   ],
   "source": [
    "harmony = pd.read_csv('/data/srlab/ssg34/SLE_kidney_v2/data/pbmc/b_cell/case_control/harmony.csv')\n",
    "print(harmony.shape)"
   ]
  },
  {
   "cell_type": "code",
   "execution_count": 21,
   "id": "73c33f58-fbd6-48fc-b544-a5b02e4ebddd",
   "metadata": {},
   "outputs": [
    {
     "name": "stdout",
     "output_type": "stream",
     "text": [
      "(52424, 2)\n"
     ]
    }
   ],
   "source": [
    "umap = pd.read_csv('/data/srlab/ssg34/SLE_kidney_v2/data/pbmc/b_cell/case_control/umap.csv')\n",
    "print(umap.shape)"
   ]
  },
  {
   "cell_type": "code",
   "execution_count": 22,
   "id": "d95afe83-8b42-4879-8c9f-3e97b93f77ec",
   "metadata": {},
   "outputs": [
    {
     "name": "stdout",
     "output_type": "stream",
     "text": [
      "warning: the following columns of obs are non-numeric.\n",
      "['orig.ident' 'BARCODE' 'SNG.1ST' 'Cell' 'Scrublet_Sample'\n",
      " 'doublet_prediction' 'Unified_Visit' 'Donor' 'cell.type.ids' 'broad.ids'\n",
      " 'mono.ids']\n",
      "consider casting to numeric types where appropriate, and\n",
      "consider re-coding text-valued columns with pandas.get_dummies\n"
     ]
    },
    {
     "name": "stderr",
     "output_type": "stream",
     "text": [
      "/PHShome/ssg34/.conda/envs/plswork/lib/python3.9/site-packages/multianndata/core.py:17: FutureWarning: X.dtype being converted to np.float32 from float64. In the next version of anndata (0.9) conversion will not be automatic. Pass dtype explicitly to avoid this warning. Pass `AnnData(X, dtype=X.dtype, ...)` to get the future behavour.\n",
      "  super().__init__(*args, **kwargs)\n",
      "/PHShome/ssg34/.conda/envs/plswork/lib/python3.9/site-packages/anndata/_core/anndata.py:121: ImplicitModificationWarning: Transforming to str index.\n",
      "  warnings.warn(\"Transforming to str index.\", ImplicitModificationWarning)\n"
     ]
    },
    {
     "data": {
      "text/html": [
       "<div>\n",
       "<style scoped>\n",
       "    .dataframe tbody tr th:only-of-type {\n",
       "        vertical-align: middle;\n",
       "    }\n",
       "\n",
       "    .dataframe tbody tr th {\n",
       "        vertical-align: top;\n",
       "    }\n",
       "\n",
       "    .dataframe thead th {\n",
       "        text-align: right;\n",
       "    }\n",
       "</style>\n",
       "<table border=\"1\" class=\"dataframe\">\n",
       "  <thead>\n",
       "    <tr style=\"text-align: right;\">\n",
       "      <th></th>\n",
       "      <th>Type</th>\n",
       "    </tr>\n",
       "    <tr>\n",
       "      <th>Unified_Visit</th>\n",
       "      <th></th>\n",
       "    </tr>\n",
       "  </thead>\n",
       "  <tbody>\n",
       "    <tr>\n",
       "      <th>200-2729-V0</th>\n",
       "      <td>1.0</td>\n",
       "    </tr>\n",
       "    <tr>\n",
       "      <th>200-2741-V0</th>\n",
       "      <td>1.0</td>\n",
       "    </tr>\n",
       "    <tr>\n",
       "      <th>200-1152-V0</th>\n",
       "      <td>1.0</td>\n",
       "    </tr>\n",
       "    <tr>\n",
       "      <th>200-1157-V0</th>\n",
       "      <td>1.0</td>\n",
       "    </tr>\n",
       "    <tr>\n",
       "      <th>200-1137-V0</th>\n",
       "      <td>1.0</td>\n",
       "    </tr>\n",
       "  </tbody>\n",
       "</table>\n",
       "</div>"
      ],
      "text/plain": [
       "               Type\n",
       "Unified_Visit      \n",
       "200-2729-V0     1.0\n",
       "200-2741-V0     1.0\n",
       "200-1152-V0     1.0\n",
       "200-1157-V0     1.0\n",
       "200-1137-V0     1.0"
      ]
     },
     "execution_count": 22,
     "metadata": {},
     "output_type": "execute_result"
    }
   ],
   "source": [
    "# Start by making anndata object\n",
    "d = mad.MultiAnnData(X=harmony, obs=meta, sampleid=\"Unified_Visit\")\n",
    "#d.obs_to_sample(['Type', 'Site',\n",
    "#                 'Responder_Status', 'Sex',\n",
    "#                 'Age', 'Race',\n",
    "#                'Ethnicity', 'ISN',\n",
    "#               'Activity', \"Chronicity\",\n",
    "#                 'processing_batch'])\n",
    "d.obs_to_sample(['Type'])\n",
    "d.samplem.head()"
   ]
  },
  {
   "cell_type": "code",
   "execution_count": 23,
   "id": "09aa50c5-d9e6-4434-b35f-ddf353868893",
   "metadata": {},
   "outputs": [],
   "source": [
    "umap.index = d.obs.index\n",
    "d.obsm['X_umap'] = umap"
   ]
  },
  {
   "cell_type": "code",
   "execution_count": 24,
   "id": "948f684b-b999-4568-9420-8881bcf00149",
   "metadata": {},
   "outputs": [
    {
     "name": "stdout",
     "output_type": "stream",
     "text": [
      "computing default knn graph\n"
     ]
    }
   ],
   "source": [
    "np.random.seed(0) \n",
    "cna.pp.knn(d)"
   ]
  },
  {
   "cell_type": "code",
   "execution_count": 25,
   "id": "83c50d71-d3ad-497a-a7ad-962db4a4d67d",
   "metadata": {},
   "outputs": [
    {
     "name": "stdout",
     "output_type": "stream",
     "text": [
      "qcd NAM not found; computing and saving\n",
      "\ttaking step 1\n",
      "\tmedian kurtosis: 40.20246887207031\n",
      "\t20th percentile R2(t,t-1): nan\n",
      "\ttaking step 2\n",
      "\tmedian kurtosis: 27.030744552612305\n",
      "\t20th percentile R2(t,t-1): 0.7370762825012207\n",
      "\ttaking step 3\n",
      "\tmedian kurtosis: 17.846521377563477\n",
      "\t20th percentile R2(t,t-1): 0.8920154571533203\n",
      "\ttaking step 4\n",
      "\tmedian kurtosis: 12.304370880126953\n",
      "\t20th percentile R2(t,t-1): 0.9345900416374207\n",
      "\ttaking step 5\n",
      "\tmedian kurtosis: 9.174970626831055\n",
      "\t20th percentile R2(t,t-1): 0.957785427570343\n",
      "\ttaking step 6\n",
      "\tmedian kurtosis: 7.594967842102051\n",
      "\t20th percentile R2(t,t-1): 0.9733709096908569\n",
      "stopping after 6 steps\n",
      "covariate-adjusted NAM not found; computing and saving\n",
      "computing SVD\n"
     ]
    },
    {
     "name": "stderr",
     "output_type": "stream",
     "text": [
      "/PHShome/ssg34/.conda/envs/plswork/lib/python3.9/site-packages/cna/tools/_nam.py:79: UserWarning: only one unique batch supplied to qc\n",
      "  warnings.warn('only one unique batch supplied to qc')\n",
      "/PHShome/ssg34/.conda/envs/plswork/lib/python3.9/site-packages/cna/tools/_nam.py:101: UserWarning: only one unique batch supplied to prep\n",
      "  warnings.warn('only one unique batch supplied to prep')\n"
     ]
    },
    {
     "name": "stdout",
     "output_type": "stream",
     "text": [
      "performing association test\n",
      "computing neighborhood-level FDRs\n",
      "19\n",
      "[1, 2, 3, 4, 5, 6, 7, 8, 9, 10, 11, 12, 13, 14, 15, 16, 17, 18, 19, 20]\n",
      "p = 0.00039996000399960006 , 19 PCs used\n",
      "total r^2 between top 19 NAM PCs and outcome is 0.50\n"
     ]
    }
   ],
   "source": [
    "np.random.seed(0) \n",
    "res = cna.tl._association.association(d, #dataset \n",
    "                                      d.samplem.Type, #phenotype\n",
    "#                                       batches=d.samplem.processing_batch, #batches\n",
    "                                      Nnull=10000, # number of null permutations to do (defaults to only 1e3)\n",
    "                                      ks=[1,2,3,4,5,6,7,8,9,10,11,12,13,14,15,16,17,18,19,20] # I asked the method to consider up to 10 PCs because\n",
    "                                                                #it chose the max number of PCs it considered the default set of [1,2,3,4]\n",
    "                                     )\n",
    "print(res.k)\n",
    "print(res.ks)\n",
    "print('p =', res.p, ',', res.k, 'PCs used')\n",
    "print('total r^2 between top {} NAM PCs and outcome is {:.2f}'.format(res.k, res.r2))"
   ]
  },
  {
   "cell_type": "code",
   "execution_count": 26,
   "id": "785d0727-d3e3-4089-94ca-ca61db9fc25e",
   "metadata": {},
   "outputs": [],
   "source": [
    "np.savetxt(\"/data/srlab/ssg34/SLE_kidney_v2/data/pbmc/b_cell/case_control/ncorr.csv\", \n",
    "               res.ncorrs, delimiter=\",\")\n",
    "np.savetxt(\"/data/srlab/ssg34/SLE_kidney_v2/data/pbmc/b_cell/case_control/fdrs.csv\", \n",
    "               res.fdrs, delimiter=\",\")"
   ]
  },
  {
   "cell_type": "markdown",
   "id": "351ec638-716f-4628-9d13-8f9bcaa13b9f",
   "metadata": {},
   "source": [
    "## RESPONSE"
   ]
  },
  {
   "cell_type": "code",
   "execution_count": 120,
   "id": "94bfd4e2-a80b-4246-b845-2dd676549268",
   "metadata": {},
   "outputs": [
    {
     "name": "stdout",
     "output_type": "stream",
     "text": [
      "(33509, 36)\n"
     ]
    }
   ],
   "source": [
    "meta = pd.read_csv('/data/srlab/ssg34/SLE_kidney_v2/data/pbmc/b_cell/response/meta.csv')\n",
    "print(meta.shape)"
   ]
  },
  {
   "cell_type": "code",
   "execution_count": 121,
   "id": "6ceea66f-7b60-40b5-b952-4ef665cd7fa2",
   "metadata": {},
   "outputs": [
    {
     "name": "stdout",
     "output_type": "stream",
     "text": [
      "(33509, 20)\n"
     ]
    }
   ],
   "source": [
    "harmony = pd.read_csv('/data/srlab/ssg34/SLE_kidney_v2/data/pbmc/b_cell/response/harmony.csv')\n",
    "print(harmony.shape)"
   ]
  },
  {
   "cell_type": "code",
   "execution_count": 122,
   "id": "fd899424-c01b-4db7-9164-5479cd4923f6",
   "metadata": {},
   "outputs": [
    {
     "name": "stdout",
     "output_type": "stream",
     "text": [
      "(33509, 2)\n"
     ]
    }
   ],
   "source": [
    "umap = pd.read_csv('/data/srlab/ssg34/SLE_kidney_v2/data/pbmc/b_cell/response/umap.csv')\n",
    "print(umap.shape)"
   ]
  },
  {
   "cell_type": "code",
   "execution_count": 123,
   "id": "aba38f9e-c1e1-4ab5-8934-f65e6ca0399b",
   "metadata": {},
   "outputs": [
    {
     "name": "stdout",
     "output_type": "stream",
     "text": [
      "warning: the following columns of obs are non-numeric.\n",
      "['Cell' 'BARCODE' 'cell.type.ids' 'Unified_Visit' 'AMP.Subject_ID'\n",
      " 'Responder.Status' 'Race' 'Final_ISN' 'Type' 'Final_Site']\n",
      "consider casting to numeric types where appropriate, and\n",
      "consider re-coding text-valued columns with pandas.get_dummies\n"
     ]
    },
    {
     "name": "stderr",
     "output_type": "stream",
     "text": [
      "/PHShome/ssg34/.conda/envs/plswork/lib/python3.9/site-packages/multianndata/core.py:17: FutureWarning: X.dtype being converted to np.float32 from float64. In the next version of anndata (0.9) conversion will not be automatic. Pass dtype explicitly to avoid this warning. Pass `AnnData(X, dtype=X.dtype, ...)` to get the future behavour.\n",
      "  super().__init__(*args, **kwargs)\n",
      "/PHShome/ssg34/.conda/envs/plswork/lib/python3.9/site-packages/anndata/_core/anndata.py:121: ImplicitModificationWarning: Transforming to str index.\n",
      "  warnings.warn(\"Transforming to str index.\", ImplicitModificationWarning)\n"
     ]
    },
    {
     "data": {
      "text/html": [
       "<div>\n",
       "<style scoped>\n",
       "    .dataframe tbody tr th:only-of-type {\n",
       "        vertical-align: middle;\n",
       "    }\n",
       "\n",
       "    .dataframe tbody tr th {\n",
       "        vertical-align: top;\n",
       "    }\n",
       "\n",
       "    .dataframe thead th {\n",
       "        text-align: right;\n",
       "    }\n",
       "</style>\n",
       "<table border=\"1\" class=\"dataframe\">\n",
       "  <thead>\n",
       "    <tr style=\"text-align: right;\">\n",
       "      <th></th>\n",
       "      <th>Sex</th>\n",
       "      <th>Age</th>\n",
       "      <th>Final_Chronicity</th>\n",
       "      <th>Final_Activity</th>\n",
       "      <th>First_biop</th>\n",
       "      <th>Pred_use</th>\n",
       "      <th>Responder_Status</th>\n",
       "      <th>Race_[A]</th>\n",
       "      <th>Race_[A][B]</th>\n",
       "      <th>Race_[B]</th>\n",
       "      <th>...</th>\n",
       "      <th>Final_ISN_[IV][V]</th>\n",
       "      <th>Final_ISN_[V]</th>\n",
       "      <th>Final_Site_Einstein</th>\n",
       "      <th>Final_Site_JHU</th>\n",
       "      <th>Final_Site_Michigan</th>\n",
       "      <th>Final_Site_MUSC</th>\n",
       "      <th>Final_Site_NYU</th>\n",
       "      <th>Final_Site_Rochester</th>\n",
       "      <th>Final_Site_Texas Tech</th>\n",
       "      <th>Final_Site_UCSF</th>\n",
       "    </tr>\n",
       "    <tr>\n",
       "      <th>Unified_Visit</th>\n",
       "      <th></th>\n",
       "      <th></th>\n",
       "      <th></th>\n",
       "      <th></th>\n",
       "      <th></th>\n",
       "      <th></th>\n",
       "      <th></th>\n",
       "      <th></th>\n",
       "      <th></th>\n",
       "      <th></th>\n",
       "      <th></th>\n",
       "      <th></th>\n",
       "      <th></th>\n",
       "      <th></th>\n",
       "      <th></th>\n",
       "      <th></th>\n",
       "      <th></th>\n",
       "      <th></th>\n",
       "      <th></th>\n",
       "      <th></th>\n",
       "      <th></th>\n",
       "    </tr>\n",
       "  </thead>\n",
       "  <tbody>\n",
       "    <tr>\n",
       "      <th>200-2729-V0</th>\n",
       "      <td>2.0</td>\n",
       "      <td>-1.274876</td>\n",
       "      <td>0.0</td>\n",
       "      <td>0.0</td>\n",
       "      <td>1.0</td>\n",
       "      <td>0.0</td>\n",
       "      <td>2.0</td>\n",
       "      <td>0.0</td>\n",
       "      <td>0.0</td>\n",
       "      <td>1.0</td>\n",
       "      <td>...</td>\n",
       "      <td>0.0</td>\n",
       "      <td>1.0</td>\n",
       "      <td>0.0</td>\n",
       "      <td>1.0</td>\n",
       "      <td>0.0</td>\n",
       "      <td>0.0</td>\n",
       "      <td>0.0</td>\n",
       "      <td>0.0</td>\n",
       "      <td>0.0</td>\n",
       "      <td>0.0</td>\n",
       "    </tr>\n",
       "    <tr>\n",
       "      <th>200-2741-V0</th>\n",
       "      <td>1.0</td>\n",
       "      <td>1.297394</td>\n",
       "      <td>8.0</td>\n",
       "      <td>0.0</td>\n",
       "      <td>0.0</td>\n",
       "      <td>0.0</td>\n",
       "      <td>0.0</td>\n",
       "      <td>0.0</td>\n",
       "      <td>0.0</td>\n",
       "      <td>1.0</td>\n",
       "      <td>...</td>\n",
       "      <td>0.0</td>\n",
       "      <td>1.0</td>\n",
       "      <td>0.0</td>\n",
       "      <td>1.0</td>\n",
       "      <td>0.0</td>\n",
       "      <td>0.0</td>\n",
       "      <td>0.0</td>\n",
       "      <td>0.0</td>\n",
       "      <td>0.0</td>\n",
       "      <td>0.0</td>\n",
       "    </tr>\n",
       "    <tr>\n",
       "      <th>200-1152-V0</th>\n",
       "      <td>1.0</td>\n",
       "      <td>0.341980</td>\n",
       "      <td>0.0</td>\n",
       "      <td>1.0</td>\n",
       "      <td>1.0</td>\n",
       "      <td>1.0</td>\n",
       "      <td>2.0</td>\n",
       "      <td>1.0</td>\n",
       "      <td>0.0</td>\n",
       "      <td>0.0</td>\n",
       "      <td>...</td>\n",
       "      <td>0.0</td>\n",
       "      <td>0.0</td>\n",
       "      <td>0.0</td>\n",
       "      <td>0.0</td>\n",
       "      <td>0.0</td>\n",
       "      <td>0.0</td>\n",
       "      <td>1.0</td>\n",
       "      <td>0.0</td>\n",
       "      <td>0.0</td>\n",
       "      <td>0.0</td>\n",
       "    </tr>\n",
       "    <tr>\n",
       "      <th>200-1157-V0</th>\n",
       "      <td>1.0</td>\n",
       "      <td>0.488966</td>\n",
       "      <td>2.0</td>\n",
       "      <td>8.0</td>\n",
       "      <td>0.0</td>\n",
       "      <td>1.0</td>\n",
       "      <td>2.0</td>\n",
       "      <td>0.0</td>\n",
       "      <td>0.0</td>\n",
       "      <td>0.0</td>\n",
       "      <td>...</td>\n",
       "      <td>0.0</td>\n",
       "      <td>0.0</td>\n",
       "      <td>0.0</td>\n",
       "      <td>0.0</td>\n",
       "      <td>0.0</td>\n",
       "      <td>0.0</td>\n",
       "      <td>1.0</td>\n",
       "      <td>0.0</td>\n",
       "      <td>0.0</td>\n",
       "      <td>0.0</td>\n",
       "    </tr>\n",
       "    <tr>\n",
       "      <th>200-1137-V0</th>\n",
       "      <td>1.0</td>\n",
       "      <td>2.767263</td>\n",
       "      <td>3.0</td>\n",
       "      <td>5.0</td>\n",
       "      <td>1.0</td>\n",
       "      <td>1.0</td>\n",
       "      <td>2.0</td>\n",
       "      <td>0.0</td>\n",
       "      <td>0.0</td>\n",
       "      <td>0.0</td>\n",
       "      <td>...</td>\n",
       "      <td>0.0</td>\n",
       "      <td>0.0</td>\n",
       "      <td>0.0</td>\n",
       "      <td>0.0</td>\n",
       "      <td>0.0</td>\n",
       "      <td>0.0</td>\n",
       "      <td>1.0</td>\n",
       "      <td>0.0</td>\n",
       "      <td>0.0</td>\n",
       "      <td>0.0</td>\n",
       "    </tr>\n",
       "  </tbody>\n",
       "</table>\n",
       "<p>5 rows × 25 columns</p>\n",
       "</div>"
      ],
      "text/plain": [
       "               Sex       Age  Final_Chronicity  Final_Activity  First_biop  \\\n",
       "Unified_Visit                                                                \n",
       "200-2729-V0    2.0 -1.274876               0.0             0.0         1.0   \n",
       "200-2741-V0    1.0  1.297394               8.0             0.0         0.0   \n",
       "200-1152-V0    1.0  0.341980               0.0             1.0         1.0   \n",
       "200-1157-V0    1.0  0.488966               2.0             8.0         0.0   \n",
       "200-1137-V0    1.0  2.767263               3.0             5.0         1.0   \n",
       "\n",
       "               Pred_use  Responder_Status  Race_[A]  Race_[A][B]  Race_[B]  \\\n",
       "Unified_Visit                                                                \n",
       "200-2729-V0         0.0               2.0       0.0          0.0       1.0   \n",
       "200-2741-V0         0.0               0.0       0.0          0.0       1.0   \n",
       "200-1152-V0         1.0               2.0       1.0          0.0       0.0   \n",
       "200-1157-V0         1.0               2.0       0.0          0.0       0.0   \n",
       "200-1137-V0         1.0               2.0       0.0          0.0       0.0   \n",
       "\n",
       "               ...  Final_ISN_[IV][V]  Final_ISN_[V]  Final_Site_Einstein  \\\n",
       "Unified_Visit  ...                                                          \n",
       "200-2729-V0    ...                0.0            1.0                  0.0   \n",
       "200-2741-V0    ...                0.0            1.0                  0.0   \n",
       "200-1152-V0    ...                0.0            0.0                  0.0   \n",
       "200-1157-V0    ...                0.0            0.0                  0.0   \n",
       "200-1137-V0    ...                0.0            0.0                  0.0   \n",
       "\n",
       "               Final_Site_JHU  Final_Site_Michigan  Final_Site_MUSC  \\\n",
       "Unified_Visit                                                         \n",
       "200-2729-V0               1.0                  0.0              0.0   \n",
       "200-2741-V0               1.0                  0.0              0.0   \n",
       "200-1152-V0               0.0                  0.0              0.0   \n",
       "200-1157-V0               0.0                  0.0              0.0   \n",
       "200-1137-V0               0.0                  0.0              0.0   \n",
       "\n",
       "               Final_Site_NYU  Final_Site_Rochester  Final_Site_Texas Tech  \\\n",
       "Unified_Visit                                                                \n",
       "200-2729-V0               0.0                   0.0                    0.0   \n",
       "200-2741-V0               0.0                   0.0                    0.0   \n",
       "200-1152-V0               1.0                   0.0                    0.0   \n",
       "200-1157-V0               1.0                   0.0                    0.0   \n",
       "200-1137-V0               1.0                   0.0                    0.0   \n",
       "\n",
       "               Final_Site_UCSF  \n",
       "Unified_Visit                   \n",
       "200-2729-V0                0.0  \n",
       "200-2741-V0                0.0  \n",
       "200-1152-V0                0.0  \n",
       "200-1157-V0                0.0  \n",
       "200-1137-V0                0.0  \n",
       "\n",
       "[5 rows x 25 columns]"
      ]
     },
     "execution_count": 123,
     "metadata": {},
     "output_type": "execute_result"
    }
   ],
   "source": [
    "# Start by making anndata object\n",
    "d = mad.MultiAnnData(X=harmony, obs=meta, sampleid=\"Unified_Visit\")\n",
    "#d.obs_to_sample(['Type', 'Site',\n",
    "#                 'Responder_Status', 'Sex',\n",
    "#                 'Age', 'Race',\n",
    "#                'Ethnicity', 'ISN',\n",
    "#               'Activity', \"Chronicity\",\n",
    "#                 'processing_batch'])\n",
    "d.obs_to_sample(['Sex', 'Age', 'Final_Chronicity', 'Final_Activity', 'First_biop', 'Pred_use', 'Responder_Status', 'Race_[A]',\n",
    "       'Race_[A][B]', 'Race_[B]', 'Race_[U]',\n",
    "       'Race_[W]', 'Final_ISN_[III]', 'Final_ISN_[III][V]', 'Final_ISN_[IV]',\n",
    "       'Final_ISN_[IV][V]', 'Final_ISN_[V]', \n",
    "       'Final_Site_Einstein', 'Final_Site_JHU', 'Final_Site_Michigan',\n",
    "       'Final_Site_MUSC', 'Final_Site_NYU',\n",
    "       'Final_Site_Rochester', 'Final_Site_Texas Tech', \n",
    "       'Final_Site_UCSF', 'Responder_Status'])\n",
    "d.samplem.head()"
   ]
  },
  {
   "cell_type": "code",
   "execution_count": 124,
   "id": "fdab8861-eb0f-492f-b4d0-70829eaf0c86",
   "metadata": {},
   "outputs": [],
   "source": [
    "umap.index = d.obs.index\n",
    "d.obsm['X_umap'] = umap"
   ]
  },
  {
   "cell_type": "code",
   "execution_count": 125,
   "id": "c3856853-d56a-4e21-aeaf-c7b439ed7d33",
   "metadata": {},
   "outputs": [
    {
     "name": "stdout",
     "output_type": "stream",
     "text": [
      "computing default knn graph\n"
     ]
    }
   ],
   "source": [
    "np.random.seed(0) \n",
    "cna.pp.knn(d)"
   ]
  },
  {
   "cell_type": "code",
   "execution_count": 126,
   "id": "0c7a4733-0c03-4fc5-9f32-33257c42ab73",
   "metadata": {},
   "outputs": [
    {
     "name": "stdout",
     "output_type": "stream",
     "text": [
      "qcd NAM not found; computing and saving\n",
      "\ttaking step 1\n",
      "\tmedian kurtosis: 27.369579315185547\n",
      "\t20th percentile R2(t,t-1): nan\n",
      "\ttaking step 2\n",
      "\tmedian kurtosis: 18.271455764770508\n",
      "\t20th percentile R2(t,t-1): 0.7412717938423157\n",
      "\ttaking step 3\n",
      "\tmedian kurtosis: 12.463104248046875\n",
      "\t20th percentile R2(t,t-1): 0.8937297344207764\n",
      "\ttaking step 4\n",
      "\tmedian kurtosis: 9.123239517211914\n",
      "\t20th percentile R2(t,t-1): 0.9382340312004089\n",
      "\ttaking step 5\n",
      "\tmedian kurtosis: 7.526583194732666\n",
      "\t20th percentile R2(t,t-1): 0.9621348977088928\n",
      "stopping after 5 steps\n",
      "covariate-adjusted NAM not found; computing and saving\n",
      "computing SVD\n"
     ]
    },
    {
     "name": "stderr",
     "output_type": "stream",
     "text": [
      "/PHShome/ssg34/.conda/envs/plswork/lib/python3.9/site-packages/cna/tools/_nam.py:79: UserWarning: only one unique batch supplied to qc\n",
      "  warnings.warn('only one unique batch supplied to qc')\n",
      "/PHShome/ssg34/.conda/envs/plswork/lib/python3.9/site-packages/cna/tools/_nam.py:101: UserWarning: only one unique batch supplied to prep\n",
      "  warnings.warn('only one unique batch supplied to prep')\n"
     ]
    },
    {
     "name": "stdout",
     "output_type": "stream",
     "text": [
      "performing association test\n",
      "computing neighborhood-level FDRs\n",
      "12\n",
      "[1, 2, 3, 4, 5, 6, 7, 8, 9, 10, 11, 12, 13, 14, 15, 16, 17, 18, 19, 20]\n",
      "p = 0.6599340065993401 , 12 PCs used\n",
      "total r^2 between top 12 NAM PCs and outcome is 0.16\n"
     ]
    }
   ],
   "source": [
    "np.random.seed(0) \n",
    "res = cna.tl._association.association(d, #dataset \n",
    "                                      d.samplem.Responder_Status, #phenotype\n",
    "#                                       batches=d.samplem.processing_batch, #batches\n",
    "                                      Nnull=10000, # number of null permutations to do (defaults to only 1e3)\n",
    "                                      ks=[1,2,3,4,5,6,7,8,9,10,11,12,13,14,15,16,17,18,19,20] # I asked the method to consider up to 10 PCs because\n",
    "                                                                #it chose the max number of PCs it considered the default set of [1,2,3,4]\n",
    "                                     )\n",
    "print(res.k)\n",
    "print(res.ks)\n",
    "print('p =', res.p, ',', res.k, 'PCs used')\n",
    "print('total r^2 between top {} NAM PCs and outcome is {:.2f}'.format(res.k, res.r2))"
   ]
  },
  {
   "cell_type": "code",
   "execution_count": 127,
   "id": "54339d70-90d6-448c-a2d4-5ea763e6d69c",
   "metadata": {},
   "outputs": [],
   "source": [
    "b_uni['Responder.Status'] = res.p\n",
    "b_cond['Responder.Status'] = \"NA\""
   ]
  },
  {
   "cell_type": "markdown",
   "id": "fe2277e9-c36c-4121-b98c-d8d0f98bd1c6",
   "metadata": {},
   "source": [
    "## CHRONICITY"
   ]
  },
  {
   "cell_type": "code",
   "execution_count": 24,
   "id": "d709e1b0-4abd-4086-9ef2-0a9d0e53ee33",
   "metadata": {},
   "outputs": [
    {
     "name": "stdout",
     "output_type": "stream",
     "text": [
      "(41584, 40)\n"
     ]
    }
   ],
   "source": [
    "meta = pd.read_csv('/data/srlab/ssg34/SLE_kidney_v2/data/pbmc/b_cell/chronicity/meta.csv')\n",
    "print(meta.shape)"
   ]
  },
  {
   "cell_type": "code",
   "execution_count": 25,
   "id": "df8607b9-6d82-4306-839c-20500df9aab0",
   "metadata": {},
   "outputs": [
    {
     "name": "stdout",
     "output_type": "stream",
     "text": [
      "(41584, 20)\n"
     ]
    }
   ],
   "source": [
    "harmony = pd.read_csv('/data/srlab/ssg34/SLE_kidney_v2/data/pbmc/b_cell/chronicity/harmony.csv')\n",
    "print(harmony.shape)"
   ]
  },
  {
   "cell_type": "code",
   "execution_count": 26,
   "id": "845b88ac-7c6a-40af-9e1f-c638efbea1e8",
   "metadata": {},
   "outputs": [
    {
     "name": "stdout",
     "output_type": "stream",
     "text": [
      "(41584, 2)\n"
     ]
    }
   ],
   "source": [
    "umap = pd.read_csv('/data/srlab/ssg34/SLE_kidney_v2/data/pbmc/b_cell/chronicity/umap.csv')\n",
    "print(umap.shape)"
   ]
  },
  {
   "cell_type": "code",
   "execution_count": 27,
   "id": "70386782-cd1d-460a-a323-9a0dc1205564",
   "metadata": {},
   "outputs": [
    {
     "name": "stdout",
     "output_type": "stream",
     "text": [
      "(41584, 40)\n",
      "(41584, 20)\n",
      "(41584, 2)\n",
      "warning: the following columns of obs are non-numeric.\n",
      "['Cell' 'BARCODE' 'cell.type.ids' 'Unified_Visit' 'AMP.Subject_ID'\n",
      " 'Responder.Status' 'Race' 'Final_ISN' 'Type' 'Final_Site']\n",
      "consider casting to numeric types where appropriate, and\n",
      "consider re-coding text-valued columns with pandas.get_dummies\n",
      "computing default knn graph\n"
     ]
    },
    {
     "name": "stderr",
     "output_type": "stream",
     "text": [
      "/PHShome/ssg34/.conda/envs/plswork/lib/python3.9/site-packages/multianndata/core.py:17: FutureWarning: X.dtype being converted to np.float32 from float64. In the next version of anndata (0.9) conversion will not be automatic. Pass dtype explicitly to avoid this warning. Pass `AnnData(X, dtype=X.dtype, ...)` to get the future behavour.\n",
      "  super().__init__(*args, **kwargs)\n",
      "/PHShome/ssg34/.conda/envs/plswork/lib/python3.9/site-packages/anndata/_core/anndata.py:121: ImplicitModificationWarning: Transforming to str index.\n",
      "  warnings.warn(\"Transforming to str index.\", ImplicitModificationWarning)\n"
     ]
    },
    {
     "name": "stdout",
     "output_type": "stream",
     "text": [
      "qcd NAM not found; computing and saving\n",
      "\ttaking step 1\n",
      "\tmedian kurtosis: 32.946027755737305\n",
      "\t20th percentile R2(t,t-1): nan\n",
      "\ttaking step 2\n",
      "\tmedian kurtosis: 21.901161193847656\n",
      "\t20th percentile R2(t,t-1): 0.7399209499359131\n",
      "\ttaking step 3\n",
      "\tmedian kurtosis: 15.033285140991211\n",
      "\t20th percentile R2(t,t-1): 0.8935788154602051\n",
      "\ttaking step 4\n",
      "\tmedian kurtosis: 10.746626377105713\n",
      "\t20th percentile R2(t,t-1): 0.9380986213684082\n",
      "\ttaking step 5\n",
      "\tmedian kurtosis: 8.452843189239502\n",
      "\t20th percentile R2(t,t-1): 0.960534143447876\n",
      "stopping after 5 steps\n",
      "covariate-adjusted NAM not found; computing and saving\n",
      "computing SVD\n",
      "performing association test\n"
     ]
    },
    {
     "name": "stderr",
     "output_type": "stream",
     "text": [
      "/PHShome/ssg34/.conda/envs/plswork/lib/python3.9/site-packages/cna/tools/_nam.py:79: UserWarning: only one unique batch supplied to qc\n",
      "  warnings.warn('only one unique batch supplied to qc')\n",
      "/PHShome/ssg34/.conda/envs/plswork/lib/python3.9/site-packages/cna/tools/_nam.py:101: UserWarning: only one unique batch supplied to prep\n",
      "  warnings.warn('only one unique batch supplied to prep')\n"
     ]
    },
    {
     "name": "stdout",
     "output_type": "stream",
     "text": [
      "computing neighborhood-level FDRs\n",
      "17\n",
      "[1, 2, 3, 4, 5, 6, 7, 8, 9, 10, 11, 12, 13, 14, 15, 16, 17, 18, 19, 20]\n",
      "p = 0.00029997000299970003 , 17 PCs used\n",
      "total r^2 between top 17 NAM PCs and outcome is 0.47\n"
     ]
    }
   ],
   "source": [
    "res = cna_test(meta_df = meta, harmony_df = harmony, \n",
    "                  umap_df = umap, variable = 'Final_Chronicity', \n",
    "         covars = ['Age', 'Sex', 'Responder_Status', 'First_biop'])"
   ]
  },
  {
   "cell_type": "code",
   "execution_count": 28,
   "id": "d5f2d160-bf51-48d8-91e0-310301e13e89",
   "metadata": {},
   "outputs": [],
   "source": [
    "np.savetxt(\"/data/srlab/ssg34/SLE_kidney_v2/data/pbmc/b_cell/chronicity/cond_ncorr.csv\", \n",
    "               res.ncorrs, delimiter=\",\")\n",
    "np.savetxt(\"/data/srlab/ssg34/SLE_kidney_v2/data/pbmc/b_cell/chronicity/cond_fdrs.csv\", \n",
    "               res.fdrs, delimiter=\",\")"
   ]
  },
  {
   "cell_type": "markdown",
   "id": "07a7450e-15e7-4c86-b834-4fe8890a573c",
   "metadata": {},
   "source": [
    "## ACTIVITY"
   ]
  },
  {
   "cell_type": "code",
   "execution_count": 144,
   "id": "06d5e172-0a71-4ee9-a2af-b6e1e5bfa230",
   "metadata": {},
   "outputs": [
    {
     "name": "stdout",
     "output_type": "stream",
     "text": [
      "(41584, 40)\n"
     ]
    }
   ],
   "source": [
    "meta = pd.read_csv('/data/srlab/ssg34/SLE_kidney_v2/data/pbmc/b_cell/activity/meta.csv')\n",
    "print(meta.shape)"
   ]
  },
  {
   "cell_type": "code",
   "execution_count": 145,
   "id": "a7f1e508-d67b-461c-a95d-7fe7543dcc3b",
   "metadata": {},
   "outputs": [
    {
     "name": "stdout",
     "output_type": "stream",
     "text": [
      "(41584, 20)\n"
     ]
    }
   ],
   "source": [
    "harmony = pd.read_csv('/data/srlab/ssg34/SLE_kidney_v2/data/pbmc/b_cell/activity/harmony.csv')\n",
    "print(harmony.shape)"
   ]
  },
  {
   "cell_type": "code",
   "execution_count": 146,
   "id": "a16d48d7-e4b1-4aa1-8346-2b0fad8ac982",
   "metadata": {},
   "outputs": [
    {
     "name": "stdout",
     "output_type": "stream",
     "text": [
      "(41584, 2)\n"
     ]
    }
   ],
   "source": [
    "umap = pd.read_csv('/data/srlab/ssg34/SLE_kidney_v2/data/pbmc/b_cell/activity/umap.csv')\n",
    "print(umap.shape)"
   ]
  },
  {
   "cell_type": "code",
   "execution_count": 147,
   "id": "0bf3bd84-cd0f-4400-9f9d-6a02a65dcf1d",
   "metadata": {},
   "outputs": [
    {
     "name": "stderr",
     "output_type": "stream",
     "text": [
      "/PHShome/ssg34/.conda/envs/plswork/lib/python3.9/site-packages/multianndata/core.py:17: FutureWarning: X.dtype being converted to np.float32 from float64. In the next version of anndata (0.9) conversion will not be automatic. Pass dtype explicitly to avoid this warning. Pass `AnnData(X, dtype=X.dtype, ...)` to get the future behavour.\n",
      "  super().__init__(*args, **kwargs)\n",
      "/PHShome/ssg34/.conda/envs/plswork/lib/python3.9/site-packages/anndata/_core/anndata.py:121: ImplicitModificationWarning: Transforming to str index.\n",
      "  warnings.warn(\"Transforming to str index.\", ImplicitModificationWarning)\n"
     ]
    },
    {
     "name": "stdout",
     "output_type": "stream",
     "text": [
      "warning: the following columns of obs are non-numeric.\n",
      "['Cell' 'BARCODE' 'cell.type.ids' 'Unified_Visit' 'AMP.Subject_ID'\n",
      " 'Responder.Status' 'Race' 'Final_ISN' 'Type' 'Final_Site']\n",
      "consider casting to numeric types where appropriate, and\n",
      "consider re-coding text-valued columns with pandas.get_dummies\n"
     ]
    },
    {
     "data": {
      "text/html": [
       "<div>\n",
       "<style scoped>\n",
       "    .dataframe tbody tr th:only-of-type {\n",
       "        vertical-align: middle;\n",
       "    }\n",
       "\n",
       "    .dataframe tbody tr th {\n",
       "        vertical-align: top;\n",
       "    }\n",
       "\n",
       "    .dataframe thead th {\n",
       "        text-align: right;\n",
       "    }\n",
       "</style>\n",
       "<table border=\"1\" class=\"dataframe\">\n",
       "  <thead>\n",
       "    <tr style=\"text-align: right;\">\n",
       "      <th></th>\n",
       "      <th>Sex</th>\n",
       "      <th>Age</th>\n",
       "      <th>Final_Chronicity</th>\n",
       "      <th>Final_Activity</th>\n",
       "      <th>First_biop</th>\n",
       "      <th>Pred_use</th>\n",
       "      <th>Responder_Status</th>\n",
       "      <th>Race_[A]</th>\n",
       "      <th>Race_[A][B]</th>\n",
       "      <th>Race_[B]</th>\n",
       "      <th>...</th>\n",
       "      <th>Final_Site_Einstein</th>\n",
       "      <th>Final_Site_JHU</th>\n",
       "      <th>Final_Site_Michigan</th>\n",
       "      <th>Final_Site_MUSC</th>\n",
       "      <th>Final_Site_Northwell</th>\n",
       "      <th>Final_Site_NYU</th>\n",
       "      <th>Final_Site_Rochester</th>\n",
       "      <th>Final_Site_Texas Tech</th>\n",
       "      <th>Final_Site_UCLA</th>\n",
       "      <th>Final_Site_UCSF</th>\n",
       "    </tr>\n",
       "    <tr>\n",
       "      <th>Unified_Visit</th>\n",
       "      <th></th>\n",
       "      <th></th>\n",
       "      <th></th>\n",
       "      <th></th>\n",
       "      <th></th>\n",
       "      <th></th>\n",
       "      <th></th>\n",
       "      <th></th>\n",
       "      <th></th>\n",
       "      <th></th>\n",
       "      <th></th>\n",
       "      <th></th>\n",
       "      <th></th>\n",
       "      <th></th>\n",
       "      <th></th>\n",
       "      <th></th>\n",
       "      <th></th>\n",
       "      <th></th>\n",
       "      <th></th>\n",
       "      <th></th>\n",
       "      <th></th>\n",
       "    </tr>\n",
       "  </thead>\n",
       "  <tbody>\n",
       "    <tr>\n",
       "      <th>200-2729-V0</th>\n",
       "      <td>2.0</td>\n",
       "      <td>-1.300212</td>\n",
       "      <td>0.0</td>\n",
       "      <td>0.0</td>\n",
       "      <td>1.0</td>\n",
       "      <td>0.0</td>\n",
       "      <td>2.0</td>\n",
       "      <td>0.0</td>\n",
       "      <td>0.0</td>\n",
       "      <td>1.0</td>\n",
       "      <td>...</td>\n",
       "      <td>0.0</td>\n",
       "      <td>1.0</td>\n",
       "      <td>0.0</td>\n",
       "      <td>0.0</td>\n",
       "      <td>0.0</td>\n",
       "      <td>0.0</td>\n",
       "      <td>0.0</td>\n",
       "      <td>0.0</td>\n",
       "      <td>0.0</td>\n",
       "      <td>0.0</td>\n",
       "    </tr>\n",
       "    <tr>\n",
       "      <th>200-2741-V0</th>\n",
       "      <td>1.0</td>\n",
       "      <td>1.313707</td>\n",
       "      <td>8.0</td>\n",
       "      <td>0.0</td>\n",
       "      <td>0.0</td>\n",
       "      <td>0.0</td>\n",
       "      <td>0.0</td>\n",
       "      <td>0.0</td>\n",
       "      <td>0.0</td>\n",
       "      <td>1.0</td>\n",
       "      <td>...</td>\n",
       "      <td>0.0</td>\n",
       "      <td>1.0</td>\n",
       "      <td>0.0</td>\n",
       "      <td>0.0</td>\n",
       "      <td>0.0</td>\n",
       "      <td>0.0</td>\n",
       "      <td>0.0</td>\n",
       "      <td>0.0</td>\n",
       "      <td>0.0</td>\n",
       "      <td>0.0</td>\n",
       "    </tr>\n",
       "    <tr>\n",
       "      <th>200-1152-V0</th>\n",
       "      <td>1.0</td>\n",
       "      <td>0.342823</td>\n",
       "      <td>0.0</td>\n",
       "      <td>1.0</td>\n",
       "      <td>1.0</td>\n",
       "      <td>1.0</td>\n",
       "      <td>2.0</td>\n",
       "      <td>1.0</td>\n",
       "      <td>0.0</td>\n",
       "      <td>0.0</td>\n",
       "      <td>...</td>\n",
       "      <td>0.0</td>\n",
       "      <td>0.0</td>\n",
       "      <td>0.0</td>\n",
       "      <td>0.0</td>\n",
       "      <td>0.0</td>\n",
       "      <td>1.0</td>\n",
       "      <td>0.0</td>\n",
       "      <td>0.0</td>\n",
       "      <td>0.0</td>\n",
       "      <td>0.0</td>\n",
       "    </tr>\n",
       "    <tr>\n",
       "      <th>200-1157-V0</th>\n",
       "      <td>1.0</td>\n",
       "      <td>0.492189</td>\n",
       "      <td>2.0</td>\n",
       "      <td>8.0</td>\n",
       "      <td>0.0</td>\n",
       "      <td>1.0</td>\n",
       "      <td>2.0</td>\n",
       "      <td>0.0</td>\n",
       "      <td>0.0</td>\n",
       "      <td>0.0</td>\n",
       "      <td>...</td>\n",
       "      <td>0.0</td>\n",
       "      <td>0.0</td>\n",
       "      <td>0.0</td>\n",
       "      <td>0.0</td>\n",
       "      <td>0.0</td>\n",
       "      <td>1.0</td>\n",
       "      <td>0.0</td>\n",
       "      <td>0.0</td>\n",
       "      <td>0.0</td>\n",
       "      <td>0.0</td>\n",
       "    </tr>\n",
       "    <tr>\n",
       "      <th>200-1137-V0</th>\n",
       "      <td>1.0</td>\n",
       "      <td>2.807374</td>\n",
       "      <td>3.0</td>\n",
       "      <td>5.0</td>\n",
       "      <td>1.0</td>\n",
       "      <td>1.0</td>\n",
       "      <td>2.0</td>\n",
       "      <td>0.0</td>\n",
       "      <td>0.0</td>\n",
       "      <td>0.0</td>\n",
       "      <td>...</td>\n",
       "      <td>0.0</td>\n",
       "      <td>0.0</td>\n",
       "      <td>0.0</td>\n",
       "      <td>0.0</td>\n",
       "      <td>0.0</td>\n",
       "      <td>1.0</td>\n",
       "      <td>0.0</td>\n",
       "      <td>0.0</td>\n",
       "      <td>0.0</td>\n",
       "      <td>0.0</td>\n",
       "    </tr>\n",
       "  </tbody>\n",
       "</table>\n",
       "<p>5 rows × 29 columns</p>\n",
       "</div>"
      ],
      "text/plain": [
       "               Sex       Age  Final_Chronicity  Final_Activity  First_biop  \\\n",
       "Unified_Visit                                                                \n",
       "200-2729-V0    2.0 -1.300212               0.0             0.0         1.0   \n",
       "200-2741-V0    1.0  1.313707               8.0             0.0         0.0   \n",
       "200-1152-V0    1.0  0.342823               0.0             1.0         1.0   \n",
       "200-1157-V0    1.0  0.492189               2.0             8.0         0.0   \n",
       "200-1137-V0    1.0  2.807374               3.0             5.0         1.0   \n",
       "\n",
       "               Pred_use  Responder_Status  Race_[A]  Race_[A][B]  Race_[B]  \\\n",
       "Unified_Visit                                                                \n",
       "200-2729-V0         0.0               2.0       0.0          0.0       1.0   \n",
       "200-2741-V0         0.0               0.0       0.0          0.0       1.0   \n",
       "200-1152-V0         1.0               2.0       1.0          0.0       0.0   \n",
       "200-1157-V0         1.0               2.0       0.0          0.0       0.0   \n",
       "200-1137-V0         1.0               2.0       0.0          0.0       0.0   \n",
       "\n",
       "               ...  Final_Site_Einstein  Final_Site_JHU  Final_Site_Michigan  \\\n",
       "Unified_Visit  ...                                                             \n",
       "200-2729-V0    ...                  0.0             1.0                  0.0   \n",
       "200-2741-V0    ...                  0.0             1.0                  0.0   \n",
       "200-1152-V0    ...                  0.0             0.0                  0.0   \n",
       "200-1157-V0    ...                  0.0             0.0                  0.0   \n",
       "200-1137-V0    ...                  0.0             0.0                  0.0   \n",
       "\n",
       "               Final_Site_MUSC  Final_Site_Northwell  Final_Site_NYU  \\\n",
       "Unified_Visit                                                          \n",
       "200-2729-V0                0.0                   0.0             0.0   \n",
       "200-2741-V0                0.0                   0.0             0.0   \n",
       "200-1152-V0                0.0                   0.0             1.0   \n",
       "200-1157-V0                0.0                   0.0             1.0   \n",
       "200-1137-V0                0.0                   0.0             1.0   \n",
       "\n",
       "               Final_Site_Rochester  Final_Site_Texas Tech  Final_Site_UCLA  \\\n",
       "Unified_Visit                                                                 \n",
       "200-2729-V0                     0.0                    0.0              0.0   \n",
       "200-2741-V0                     0.0                    0.0              0.0   \n",
       "200-1152-V0                     0.0                    0.0              0.0   \n",
       "200-1157-V0                     0.0                    0.0              0.0   \n",
       "200-1137-V0                     0.0                    0.0              0.0   \n",
       "\n",
       "               Final_Site_UCSF  \n",
       "Unified_Visit                   \n",
       "200-2729-V0                0.0  \n",
       "200-2741-V0                0.0  \n",
       "200-1152-V0                0.0  \n",
       "200-1157-V0                0.0  \n",
       "200-1137-V0                0.0  \n",
       "\n",
       "[5 rows x 29 columns]"
      ]
     },
     "execution_count": 147,
     "metadata": {},
     "output_type": "execute_result"
    }
   ],
   "source": [
    "# Start by making anndata object\n",
    "d = mad.MultiAnnData(X=harmony, obs=meta, sampleid=\"Unified_Visit\")\n",
    "#d.obs_to_sample(['Type', 'Site',\n",
    "#                 'Responder_Status', 'Sex',\n",
    "#                 'Age', 'Race',\n",
    "#                'Ethnicity', 'ISN',\n",
    "#               'Activity', \"Chronicity\",\n",
    "#                 'processing_batch'])\n",
    "d.obs_to_sample(['Sex', 'Age', 'Final_Chronicity', 'Final_Activity', 'First_biop', 'Pred_use', 'Responder_Status', 'Race_[A]',\n",
    "       'Race_[A][B]', 'Race_[B]',  'Race_[B][W]', 'Race_[U]',\n",
    "       'Race_[W]', 'Final_ISN_[III]', 'Final_ISN_[III][V]', 'Final_ISN_[IV]',\n",
    "       'Final_ISN_[IV][V]', 'Final_ISN_[V]', 'Final_Site_Cincinnati',\n",
    "       'Final_Site_Einstein', 'Final_Site_JHU', 'Final_Site_Michigan',\n",
    "       'Final_Site_MUSC', 'Final_Site_Northwell', 'Final_Site_NYU',\n",
    "       'Final_Site_Rochester', 'Final_Site_Texas Tech', 'Final_Site_UCLA',\n",
    "        'Final_Site_UCSF'])\n",
    "d.samplem.head()"
   ]
  },
  {
   "cell_type": "code",
   "execution_count": 148,
   "id": "4e0dc7cb-60c6-466a-951e-daebcc397408",
   "metadata": {},
   "outputs": [],
   "source": [
    "umap.index = d.obs.index\n",
    "d.obsm['X_umap'] = umap"
   ]
  },
  {
   "cell_type": "code",
   "execution_count": 149,
   "id": "eeefb4e9-be67-4d2d-8675-1089bff012d0",
   "metadata": {},
   "outputs": [
    {
     "name": "stdout",
     "output_type": "stream",
     "text": [
      "computing default knn graph\n"
     ]
    }
   ],
   "source": [
    "np.random.seed(0) \n",
    "cna.pp.knn(d)"
   ]
  },
  {
   "cell_type": "code",
   "execution_count": 150,
   "id": "68479298-8655-48c5-8fa2-08a365bb0bb5",
   "metadata": {},
   "outputs": [
    {
     "name": "stdout",
     "output_type": "stream",
     "text": [
      "qcd NAM not found; computing and saving\n",
      "\ttaking step 1\n",
      "\tmedian kurtosis: 32.946027755737305\n",
      "\t20th percentile R2(t,t-1): nan\n",
      "\ttaking step 2\n",
      "\tmedian kurtosis: 21.901161193847656\n",
      "\t20th percentile R2(t,t-1): 0.7399209499359131\n",
      "\ttaking step 3\n",
      "\tmedian kurtosis: 15.033285140991211\n",
      "\t20th percentile R2(t,t-1): 0.8935788154602051\n",
      "\ttaking step 4\n",
      "\tmedian kurtosis: 10.746626377105713\n",
      "\t20th percentile R2(t,t-1): 0.9380986213684082\n",
      "\ttaking step 5\n",
      "\tmedian kurtosis: 8.452843189239502\n",
      "\t20th percentile R2(t,t-1): 0.960534143447876\n",
      "stopping after 5 steps\n",
      "covariate-adjusted NAM not found; computing and saving\n",
      "computing SVD\n",
      "performing association test\n"
     ]
    },
    {
     "name": "stderr",
     "output_type": "stream",
     "text": [
      "/PHShome/ssg34/.conda/envs/plswork/lib/python3.9/site-packages/cna/tools/_nam.py:79: UserWarning: only one unique batch supplied to qc\n",
      "  warnings.warn('only one unique batch supplied to qc')\n",
      "/PHShome/ssg34/.conda/envs/plswork/lib/python3.9/site-packages/cna/tools/_nam.py:101: UserWarning: only one unique batch supplied to prep\n",
      "  warnings.warn('only one unique batch supplied to prep')\n",
      "/PHShome/ssg34/.conda/envs/plswork/lib/python3.9/site-packages/cna/tools/_association.py:57: UserWarning: data supported use of 20 NAM PCs, which is the maximum considered. Consider allowing more PCs by using the \"ks\" argument.\n",
      "  warnings.warn(('data supported use of {} NAM PCs, which is the maximum considered. '+\\\n"
     ]
    },
    {
     "name": "stdout",
     "output_type": "stream",
     "text": [
      "computing neighborhood-level FDRs\n",
      "20\n",
      "[1, 2, 3, 4, 5, 6, 7, 8, 9, 10, 11, 12, 13, 14, 15, 16, 17, 18, 19, 20]\n",
      "p = 0.865013498650135 , 20 PCs used\n",
      "total r^2 between top 20 NAM PCs and outcome is 0.17\n"
     ]
    }
   ],
   "source": [
    "np.random.seed(0) \n",
    "res = cna.tl._association.association(d, #dataset \n",
    "                                      d.samplem.Final_Activity, #phenotype\n",
    "#                                       batches=d.samplem.processing_batch, #batches\n",
    "                                      Nnull=10000, # number of null permutations to do (defaults to only 1e3)\n",
    "                                      ks=[1,2,3,4,5,6,7,8,9,10,11,12,13,14,15,16,17,18,19,20] # I asked the method to consider up to 10 PCs because\n",
    "                                                                #it chose the max number of PCs it considered the default set of [1,2,3,4]\n",
    "                                     )\n",
    "print(res.k)\n",
    "print(res.ks)\n",
    "print('p =', res.p, ',', res.k, 'PCs used')\n",
    "print('total r^2 between top {} NAM PCs and outcome is {:.2f}'.format(res.k, res.r2))"
   ]
  },
  {
   "cell_type": "code",
   "execution_count": 151,
   "id": "aaf2fffb-2ed0-4a8b-923d-8d7fb1b89136",
   "metadata": {},
   "outputs": [],
   "source": [
    "b_uni['Activity'] = res.p"
   ]
  },
  {
   "cell_type": "code",
   "execution_count": 175,
   "id": "2c934a6d-f230-4608-a2ce-fed7e801d949",
   "metadata": {},
   "outputs": [],
   "source": [
    "b_cond['Activity'] = \"NA\""
   ]
  },
  {
   "cell_type": "markdown",
   "id": "85b5ec93-89b7-434c-8e75-b74a7e9d46ee",
   "metadata": {},
   "source": [
    "## ISN"
   ]
  },
  {
   "cell_type": "code",
   "execution_count": 152,
   "id": "96c7d334-427f-492f-9320-d1a00b8f263a",
   "metadata": {},
   "outputs": [
    {
     "name": "stdout",
     "output_type": "stream",
     "text": [
      "(41584, 40)\n"
     ]
    }
   ],
   "source": [
    "meta = pd.read_csv('/data/srlab/ssg34/SLE_kidney_v2/data/pbmc/b_cell/isn/meta.csv')\n",
    "print(meta.shape)"
   ]
  },
  {
   "cell_type": "code",
   "execution_count": 153,
   "id": "4b237cea-f205-454a-b817-60a2c1fa98e7",
   "metadata": {},
   "outputs": [
    {
     "name": "stdout",
     "output_type": "stream",
     "text": [
      "(41584, 20)\n"
     ]
    }
   ],
   "source": [
    "harmony = pd.read_csv('/data/srlab/ssg34/SLE_kidney_v2/data/pbmc/b_cell/isn/harmony.csv')\n",
    "print(harmony.shape)"
   ]
  },
  {
   "cell_type": "code",
   "execution_count": 154,
   "id": "79e40697-a751-41cc-a259-1eed2663ccc3",
   "metadata": {},
   "outputs": [
    {
     "name": "stdout",
     "output_type": "stream",
     "text": [
      "(41584, 2)\n"
     ]
    }
   ],
   "source": [
    "umap = pd.read_csv('/data/srlab/ssg34/SLE_kidney_v2/data/pbmc/b_cell/isn/umap.csv')\n",
    "print(umap.shape)"
   ]
  },
  {
   "cell_type": "code",
   "execution_count": 155,
   "id": "40eba14e-166a-448e-a4ec-f8ffd7e214b1",
   "metadata": {},
   "outputs": [
    {
     "name": "stdout",
     "output_type": "stream",
     "text": [
      "warning: the following columns of obs are non-numeric.\n",
      "['Cell' 'BARCODE' 'cell.type.ids' 'Unified_Visit' 'AMP.Subject_ID'\n",
      " 'Responder.Status' 'Race' 'Final_ISN' 'Type' 'Final_Site']\n",
      "consider casting to numeric types where appropriate, and\n",
      "consider re-coding text-valued columns with pandas.get_dummies\n"
     ]
    },
    {
     "name": "stderr",
     "output_type": "stream",
     "text": [
      "/PHShome/ssg34/.conda/envs/plswork/lib/python3.9/site-packages/multianndata/core.py:17: FutureWarning: X.dtype being converted to np.float32 from float64. In the next version of anndata (0.9) conversion will not be automatic. Pass dtype explicitly to avoid this warning. Pass `AnnData(X, dtype=X.dtype, ...)` to get the future behavour.\n",
      "  super().__init__(*args, **kwargs)\n",
      "/PHShome/ssg34/.conda/envs/plswork/lib/python3.9/site-packages/anndata/_core/anndata.py:121: ImplicitModificationWarning: Transforming to str index.\n",
      "  warnings.warn(\"Transforming to str index.\", ImplicitModificationWarning)\n"
     ]
    },
    {
     "data": {
      "text/html": [
       "<div>\n",
       "<style scoped>\n",
       "    .dataframe tbody tr th:only-of-type {\n",
       "        vertical-align: middle;\n",
       "    }\n",
       "\n",
       "    .dataframe tbody tr th {\n",
       "        vertical-align: top;\n",
       "    }\n",
       "\n",
       "    .dataframe thead th {\n",
       "        text-align: right;\n",
       "    }\n",
       "</style>\n",
       "<table border=\"1\" class=\"dataframe\">\n",
       "  <thead>\n",
       "    <tr style=\"text-align: right;\">\n",
       "      <th></th>\n",
       "      <th>Sex</th>\n",
       "      <th>Age</th>\n",
       "      <th>Final_Chronicity</th>\n",
       "      <th>Final_Activity</th>\n",
       "      <th>First_biop</th>\n",
       "      <th>Pred_use</th>\n",
       "      <th>Responder_Status</th>\n",
       "      <th>Race_[A]</th>\n",
       "      <th>Race_[A][B]</th>\n",
       "      <th>Race_[B]</th>\n",
       "      <th>...</th>\n",
       "      <th>Final_Site_Einstein</th>\n",
       "      <th>Final_Site_JHU</th>\n",
       "      <th>Final_Site_Michigan</th>\n",
       "      <th>Final_Site_MUSC</th>\n",
       "      <th>Final_Site_Northwell</th>\n",
       "      <th>Final_Site_NYU</th>\n",
       "      <th>Final_Site_Rochester</th>\n",
       "      <th>Final_Site_Texas Tech</th>\n",
       "      <th>Final_Site_UCLA</th>\n",
       "      <th>Final_Site_UCSF</th>\n",
       "    </tr>\n",
       "    <tr>\n",
       "      <th>Unified_Visit</th>\n",
       "      <th></th>\n",
       "      <th></th>\n",
       "      <th></th>\n",
       "      <th></th>\n",
       "      <th></th>\n",
       "      <th></th>\n",
       "      <th></th>\n",
       "      <th></th>\n",
       "      <th></th>\n",
       "      <th></th>\n",
       "      <th></th>\n",
       "      <th></th>\n",
       "      <th></th>\n",
       "      <th></th>\n",
       "      <th></th>\n",
       "      <th></th>\n",
       "      <th></th>\n",
       "      <th></th>\n",
       "      <th></th>\n",
       "      <th></th>\n",
       "      <th></th>\n",
       "    </tr>\n",
       "  </thead>\n",
       "  <tbody>\n",
       "    <tr>\n",
       "      <th>200-2729-V0</th>\n",
       "      <td>2.0</td>\n",
       "      <td>-1.300212</td>\n",
       "      <td>0.0</td>\n",
       "      <td>0.0</td>\n",
       "      <td>1.0</td>\n",
       "      <td>0.0</td>\n",
       "      <td>2.0</td>\n",
       "      <td>0.0</td>\n",
       "      <td>0.0</td>\n",
       "      <td>1.0</td>\n",
       "      <td>...</td>\n",
       "      <td>0.0</td>\n",
       "      <td>1.0</td>\n",
       "      <td>0.0</td>\n",
       "      <td>0.0</td>\n",
       "      <td>0.0</td>\n",
       "      <td>0.0</td>\n",
       "      <td>0.0</td>\n",
       "      <td>0.0</td>\n",
       "      <td>0.0</td>\n",
       "      <td>0.0</td>\n",
       "    </tr>\n",
       "    <tr>\n",
       "      <th>200-2741-V0</th>\n",
       "      <td>1.0</td>\n",
       "      <td>1.313707</td>\n",
       "      <td>8.0</td>\n",
       "      <td>0.0</td>\n",
       "      <td>0.0</td>\n",
       "      <td>0.0</td>\n",
       "      <td>0.0</td>\n",
       "      <td>0.0</td>\n",
       "      <td>0.0</td>\n",
       "      <td>1.0</td>\n",
       "      <td>...</td>\n",
       "      <td>0.0</td>\n",
       "      <td>1.0</td>\n",
       "      <td>0.0</td>\n",
       "      <td>0.0</td>\n",
       "      <td>0.0</td>\n",
       "      <td>0.0</td>\n",
       "      <td>0.0</td>\n",
       "      <td>0.0</td>\n",
       "      <td>0.0</td>\n",
       "      <td>0.0</td>\n",
       "    </tr>\n",
       "    <tr>\n",
       "      <th>200-1152-V0</th>\n",
       "      <td>1.0</td>\n",
       "      <td>0.342823</td>\n",
       "      <td>0.0</td>\n",
       "      <td>1.0</td>\n",
       "      <td>1.0</td>\n",
       "      <td>1.0</td>\n",
       "      <td>2.0</td>\n",
       "      <td>1.0</td>\n",
       "      <td>0.0</td>\n",
       "      <td>0.0</td>\n",
       "      <td>...</td>\n",
       "      <td>0.0</td>\n",
       "      <td>0.0</td>\n",
       "      <td>0.0</td>\n",
       "      <td>0.0</td>\n",
       "      <td>0.0</td>\n",
       "      <td>1.0</td>\n",
       "      <td>0.0</td>\n",
       "      <td>0.0</td>\n",
       "      <td>0.0</td>\n",
       "      <td>0.0</td>\n",
       "    </tr>\n",
       "    <tr>\n",
       "      <th>200-1157-V0</th>\n",
       "      <td>1.0</td>\n",
       "      <td>0.492189</td>\n",
       "      <td>2.0</td>\n",
       "      <td>8.0</td>\n",
       "      <td>0.0</td>\n",
       "      <td>1.0</td>\n",
       "      <td>2.0</td>\n",
       "      <td>0.0</td>\n",
       "      <td>0.0</td>\n",
       "      <td>0.0</td>\n",
       "      <td>...</td>\n",
       "      <td>0.0</td>\n",
       "      <td>0.0</td>\n",
       "      <td>0.0</td>\n",
       "      <td>0.0</td>\n",
       "      <td>0.0</td>\n",
       "      <td>1.0</td>\n",
       "      <td>0.0</td>\n",
       "      <td>0.0</td>\n",
       "      <td>0.0</td>\n",
       "      <td>0.0</td>\n",
       "    </tr>\n",
       "    <tr>\n",
       "      <th>200-1137-V0</th>\n",
       "      <td>1.0</td>\n",
       "      <td>2.807374</td>\n",
       "      <td>3.0</td>\n",
       "      <td>5.0</td>\n",
       "      <td>1.0</td>\n",
       "      <td>1.0</td>\n",
       "      <td>2.0</td>\n",
       "      <td>0.0</td>\n",
       "      <td>0.0</td>\n",
       "      <td>0.0</td>\n",
       "      <td>...</td>\n",
       "      <td>0.0</td>\n",
       "      <td>0.0</td>\n",
       "      <td>0.0</td>\n",
       "      <td>0.0</td>\n",
       "      <td>0.0</td>\n",
       "      <td>1.0</td>\n",
       "      <td>0.0</td>\n",
       "      <td>0.0</td>\n",
       "      <td>0.0</td>\n",
       "      <td>0.0</td>\n",
       "    </tr>\n",
       "  </tbody>\n",
       "</table>\n",
       "<p>5 rows × 29 columns</p>\n",
       "</div>"
      ],
      "text/plain": [
       "               Sex       Age  Final_Chronicity  Final_Activity  First_biop  \\\n",
       "Unified_Visit                                                                \n",
       "200-2729-V0    2.0 -1.300212               0.0             0.0         1.0   \n",
       "200-2741-V0    1.0  1.313707               8.0             0.0         0.0   \n",
       "200-1152-V0    1.0  0.342823               0.0             1.0         1.0   \n",
       "200-1157-V0    1.0  0.492189               2.0             8.0         0.0   \n",
       "200-1137-V0    1.0  2.807374               3.0             5.0         1.0   \n",
       "\n",
       "               Pred_use  Responder_Status  Race_[A]  Race_[A][B]  Race_[B]  \\\n",
       "Unified_Visit                                                                \n",
       "200-2729-V0         0.0               2.0       0.0          0.0       1.0   \n",
       "200-2741-V0         0.0               0.0       0.0          0.0       1.0   \n",
       "200-1152-V0         1.0               2.0       1.0          0.0       0.0   \n",
       "200-1157-V0         1.0               2.0       0.0          0.0       0.0   \n",
       "200-1137-V0         1.0               2.0       0.0          0.0       0.0   \n",
       "\n",
       "               ...  Final_Site_Einstein  Final_Site_JHU  Final_Site_Michigan  \\\n",
       "Unified_Visit  ...                                                             \n",
       "200-2729-V0    ...                  0.0             1.0                  0.0   \n",
       "200-2741-V0    ...                  0.0             1.0                  0.0   \n",
       "200-1152-V0    ...                  0.0             0.0                  0.0   \n",
       "200-1157-V0    ...                  0.0             0.0                  0.0   \n",
       "200-1137-V0    ...                  0.0             0.0                  0.0   \n",
       "\n",
       "               Final_Site_MUSC  Final_Site_Northwell  Final_Site_NYU  \\\n",
       "Unified_Visit                                                          \n",
       "200-2729-V0                0.0                   0.0             0.0   \n",
       "200-2741-V0                0.0                   0.0             0.0   \n",
       "200-1152-V0                0.0                   0.0             1.0   \n",
       "200-1157-V0                0.0                   0.0             1.0   \n",
       "200-1137-V0                0.0                   0.0             1.0   \n",
       "\n",
       "               Final_Site_Rochester  Final_Site_Texas Tech  Final_Site_UCLA  \\\n",
       "Unified_Visit                                                                 \n",
       "200-2729-V0                     0.0                    0.0              0.0   \n",
       "200-2741-V0                     0.0                    0.0              0.0   \n",
       "200-1152-V0                     0.0                    0.0              0.0   \n",
       "200-1157-V0                     0.0                    0.0              0.0   \n",
       "200-1137-V0                     0.0                    0.0              0.0   \n",
       "\n",
       "               Final_Site_UCSF  \n",
       "Unified_Visit                   \n",
       "200-2729-V0                0.0  \n",
       "200-2741-V0                0.0  \n",
       "200-1152-V0                0.0  \n",
       "200-1157-V0                0.0  \n",
       "200-1137-V0                0.0  \n",
       "\n",
       "[5 rows x 29 columns]"
      ]
     },
     "execution_count": 155,
     "metadata": {},
     "output_type": "execute_result"
    }
   ],
   "source": [
    "# Start by making anndata object\n",
    "d = mad.MultiAnnData(X=harmony, obs=meta, sampleid=\"Unified_Visit\")\n",
    "#d.obs_to_sample(['Type', 'Site',\n",
    "#                 'Responder_Status', 'Sex',\n",
    "#                 'Age', 'Race',\n",
    "#                'Ethnicity', 'ISN',\n",
    "#               'Activity', \"Chronicity\",\n",
    "#                 'processing_batch'])\n",
    "d.obs_to_sample(['Sex', 'Age', 'Final_Chronicity', 'Final_Activity', 'First_biop', 'Pred_use', 'Responder_Status', 'Race_[A]',\n",
    "       'Race_[A][B]', 'Race_[B]', 'Race_[B][W]', 'Race_[U]',\n",
    "       'Race_[W]', 'Final_ISN_[III]', 'Final_ISN_[III][V]', 'Final_ISN_[IV]',\n",
    "       'Final_ISN_[IV][V]', 'Final_ISN_[V]', 'Final_Site_Cincinnati',\n",
    "       'Final_Site_Einstein', 'Final_Site_JHU', 'Final_Site_Michigan',\n",
    "       'Final_Site_MUSC', 'Final_Site_Northwell', 'Final_Site_NYU',\n",
    "       'Final_Site_Rochester', 'Final_Site_Texas Tech', 'Final_Site_UCLA',\n",
    "        'Final_Site_UCSF'])\n",
    "d.samplem.head()"
   ]
  },
  {
   "cell_type": "code",
   "execution_count": 156,
   "id": "4745bf90-09b7-4453-89e7-3593cb133d71",
   "metadata": {},
   "outputs": [],
   "source": [
    "umap.index = d.obs.index\n",
    "d.obsm['X_umap'] = umap"
   ]
  },
  {
   "cell_type": "code",
   "execution_count": 157,
   "id": "5e15396e-f044-4e68-a45d-c0d8c85cc6d4",
   "metadata": {},
   "outputs": [
    {
     "name": "stdout",
     "output_type": "stream",
     "text": [
      "computing default knn graph\n"
     ]
    }
   ],
   "source": [
    "np.random.seed(0) \n",
    "cna.pp.knn(d)"
   ]
  },
  {
   "cell_type": "code",
   "execution_count": 127,
   "id": "148bcbde-7bc7-4799-a47c-06bbe036d729",
   "metadata": {},
   "outputs": [
    {
     "name": "stdout",
     "output_type": "stream",
     "text": [
      "qcd NAM not found; computing and saving\n",
      "\ttaking step 1\n",
      "\tmedian kurtosis: 32.946027755737305\n",
      "\t20th percentile R2(t,t-1): nan\n",
      "\ttaking step 2\n",
      "\tmedian kurtosis: 21.901161193847656\n",
      "\t20th percentile R2(t,t-1): 0.7399209499359131\n",
      "\ttaking step 3\n",
      "\tmedian kurtosis: 15.033285140991211\n",
      "\t20th percentile R2(t,t-1): 0.8935788154602051\n",
      "\ttaking step 4\n",
      "\tmedian kurtosis: 10.746626377105713\n",
      "\t20th percentile R2(t,t-1): 0.9380986213684082\n",
      "\ttaking step 5\n",
      "\tmedian kurtosis: 8.452843189239502\n",
      "\t20th percentile R2(t,t-1): 0.960534143447876\n",
      "stopping after 5 steps\n"
     ]
    },
    {
     "name": "stderr",
     "output_type": "stream",
     "text": [
      "/PHShome/ssg34/.conda/envs/plswork/lib/python3.9/site-packages/cna/tools/_nam.py:79: UserWarning: only one unique batch supplied to qc\n",
      "  warnings.warn('only one unique batch supplied to qc')\n",
      "/PHShome/ssg34/.conda/envs/plswork/lib/python3.9/site-packages/cna/tools/_nam.py:101: UserWarning: only one unique batch supplied to prep\n",
      "  warnings.warn('only one unique batch supplied to prep')\n"
     ]
    },
    {
     "name": "stdout",
     "output_type": "stream",
     "text": [
      "covariate-adjusted NAM not found; computing and saving\n",
      "computing SVD\n",
      "performing association test\n",
      "computing neighborhood-level FDRs\n",
      "17\n",
      "[1, 2, 3, 4, 5, 6, 7, 8, 9, 10, 11, 12, 13, 14, 15, 16, 17, 18, 19, 20]\n",
      "p = 0.8661133886611339 , 17 PCs used\n",
      "total r^2 between top 17 NAM PCs and outcome is 0.15\n"
     ]
    }
   ],
   "source": [
    "np.random.seed(0) \n",
    "res = cna.tl._association.association(d, #dataset \n",
    "                                      d.samplem['Final_ISN_[III]'], #phenotype\n",
    "#                                       batches=d.samplem.processing_batch, #batches\n",
    "                                      Nnull=10000, # number of null permutations to do (defaults to only 1e3)\n",
    "                                      ks=[1,2,3,4,5,6,7,8,9,10,11,12,13,14,15,16,17,18,19,20] # I asked the method to consider up to 10 PCs because\n",
    "                                                                #it chose the max number of PCs it considered the default set of [1,2,3,4]\n",
    "                                     )\n",
    "print(res.k)\n",
    "print(res.ks)\n",
    "print('p =', res.p, ',', res.k, 'PCs used')\n",
    "print('total r^2 between top {} NAM PCs and outcome is {:.2f}'.format(res.k, res.r2))"
   ]
  },
  {
   "cell_type": "code",
   "execution_count": 128,
   "id": "d209ab7a-25dc-4760-9b66-010fea22b9bc",
   "metadata": {},
   "outputs": [
    {
     "name": "stdout",
     "output_type": "stream",
     "text": [
      "performing association test\n"
     ]
    },
    {
     "name": "stderr",
     "output_type": "stream",
     "text": [
      "/PHShome/ssg34/.conda/envs/plswork/lib/python3.9/site-packages/cna/tools/_association.py:57: UserWarning: data supported use of 20 NAM PCs, which is the maximum considered. Consider allowing more PCs by using the \"ks\" argument.\n",
      "  warnings.warn(('data supported use of {} NAM PCs, which is the maximum considered. '+\\\n"
     ]
    },
    {
     "name": "stdout",
     "output_type": "stream",
     "text": [
      "computing neighborhood-level FDRs\n",
      "20\n",
      "[1, 2, 3, 4, 5, 6, 7, 8, 9, 10, 11, 12, 13, 14, 15, 16, 17, 18, 19, 20]\n",
      "p = 0.8506149385061493 , 20 PCs used\n",
      "total r^2 between top 20 NAM PCs and outcome is 0.17\n"
     ]
    }
   ],
   "source": [
    "np.random.seed(0) \n",
    "res = cna.tl._association.association(d, #dataset \n",
    "                                      d.samplem['Final_ISN_[III][V]'], #phenotype\n",
    "#                                       batches=d.samplem.processing_batch, #batches\n",
    "                                      Nnull=10000, # number of null permutations to do (defaults to only 1e3)\n",
    "                                      ks=[1,2,3,4,5,6,7,8,9,10,11,12,13,14,15,16,17,18,19,20] # I asked the method to consider up to 10 PCs because\n",
    "                                                                #it chose the max number of PCs it considered the default set of [1,2,3,4]\n",
    "                                     )\n",
    "print(res.k)\n",
    "print(res.ks)\n",
    "print('p =', res.p, ',', res.k, 'PCs used')\n",
    "print('total r^2 between top {} NAM PCs and outcome is {:.2f}'.format(res.k, res.r2))"
   ]
  },
  {
   "cell_type": "code",
   "execution_count": 129,
   "id": "3519be6a-a23f-4f11-9be7-fcdbef0fdc24",
   "metadata": {},
   "outputs": [
    {
     "name": "stdout",
     "output_type": "stream",
     "text": [
      "performing association test\n",
      "computing neighborhood-level FDRs\n",
      "14\n",
      "[1, 2, 3, 4, 5, 6, 7, 8, 9, 10, 11, 12, 13, 14, 15, 16, 17, 18, 19, 20]\n",
      "p = 0.524047595240476 , 14 PCs used\n",
      "total r^2 between top 14 NAM PCs and outcome is 0.17\n"
     ]
    }
   ],
   "source": [
    "np.random.seed(0) \n",
    "res = cna.tl._association.association(d, #dataset \n",
    "                                      d.samplem['Final_ISN_[IV]'], #phenotype\n",
    "#                                       batches=d.samplem.processing_batch, #batches\n",
    "                                      Nnull=10000, # number of null permutations to do (defaults to only 1e3)\n",
    "                                      ks=[1,2,3,4,5,6,7,8,9,10,11,12,13,14,15,16,17,18,19,20] # I asked the method to consider up to 10 PCs because\n",
    "                                                                #it chose the max number of PCs it considered the default set of [1,2,3,4]\n",
    "                                     )\n",
    "print(res.k)\n",
    "print(res.ks)\n",
    "print('p =', res.p, ',', res.k, 'PCs used')\n",
    "print('total r^2 between top {} NAM PCs and outcome is {:.2f}'.format(res.k, res.r2))"
   ]
  },
  {
   "cell_type": "code",
   "execution_count": 130,
   "id": "0c7454f0-9850-4b44-a159-7e1ed569dd9f",
   "metadata": {},
   "outputs": [
    {
     "name": "stdout",
     "output_type": "stream",
     "text": [
      "performing association test\n",
      "computing neighborhood-level FDRs\n",
      "12\n",
      "[1, 2, 3, 4, 5, 6, 7, 8, 9, 10, 11, 12, 13, 14, 15, 16, 17, 18, 19, 20]\n",
      "p = 0.25007499250074994 , 12 PCs used\n",
      "total r^2 between top 12 NAM PCs and outcome is 0.19\n"
     ]
    }
   ],
   "source": [
    "np.random.seed(0) \n",
    "res = cna.tl._association.association(d, #dataset \n",
    "                                      d.samplem['Final_ISN_[IV][V]'], #phenotype\n",
    "#                                       batches=d.samplem.processing_batch, #batches\n",
    "                                      Nnull=10000, # number of null permutations to do (defaults to only 1e3)\n",
    "                                      ks=[1,2,3,4,5,6,7,8,9,10,11,12,13,14,15,16,17,18,19,20] # I asked the method to consider up to 10 PCs because\n",
    "                                                                #it chose the max number of PCs it considered the default set of [1,2,3,4]\n",
    "                                     )\n",
    "print(res.k)\n",
    "print(res.ks)\n",
    "print('p =', res.p, ',', res.k, 'PCs used')\n",
    "print('total r^2 between top {} NAM PCs and outcome is {:.2f}'.format(res.k, res.r2))"
   ]
  },
  {
   "cell_type": "code",
   "execution_count": 158,
   "id": "28caedf4-d7b2-446f-986c-8c50439c7a80",
   "metadata": {},
   "outputs": [
    {
     "name": "stdout",
     "output_type": "stream",
     "text": [
      "qcd NAM not found; computing and saving\n",
      "\ttaking step 1\n",
      "\tmedian kurtosis: 32.946027755737305\n",
      "\t20th percentile R2(t,t-1): nan\n",
      "\ttaking step 2\n",
      "\tmedian kurtosis: 21.901161193847656\n",
      "\t20th percentile R2(t,t-1): 0.7399209499359131\n",
      "\ttaking step 3\n",
      "\tmedian kurtosis: 15.033285140991211\n",
      "\t20th percentile R2(t,t-1): 0.8935788154602051\n",
      "\ttaking step 4\n",
      "\tmedian kurtosis: 10.746626377105713\n",
      "\t20th percentile R2(t,t-1): 0.9380986213684082\n",
      "\ttaking step 5\n",
      "\tmedian kurtosis: 8.452843189239502\n",
      "\t20th percentile R2(t,t-1): 0.960534143447876\n",
      "stopping after 5 steps\n",
      "covariate-adjusted NAM not found; computing and saving\n",
      "computing SVD\n",
      "performing association test\n"
     ]
    },
    {
     "name": "stderr",
     "output_type": "stream",
     "text": [
      "/PHShome/ssg34/.conda/envs/plswork/lib/python3.9/site-packages/cna/tools/_nam.py:79: UserWarning: only one unique batch supplied to qc\n",
      "  warnings.warn('only one unique batch supplied to qc')\n",
      "/PHShome/ssg34/.conda/envs/plswork/lib/python3.9/site-packages/cna/tools/_nam.py:101: UserWarning: only one unique batch supplied to prep\n",
      "  warnings.warn('only one unique batch supplied to prep')\n",
      "/PHShome/ssg34/.conda/envs/plswork/lib/python3.9/site-packages/cna/tools/_association.py:57: UserWarning: data supported use of 20 NAM PCs, which is the maximum considered. Consider allowing more PCs by using the \"ks\" argument.\n",
      "  warnings.warn(('data supported use of {} NAM PCs, which is the maximum considered. '+\\\n"
     ]
    },
    {
     "name": "stdout",
     "output_type": "stream",
     "text": [
      "computing neighborhood-level FDRs\n",
      "20\n",
      "[1, 2, 3, 4, 5, 6, 7, 8, 9, 10, 11, 12, 13, 14, 15, 16, 17, 18, 19, 20]\n",
      "p = 0.014498550144985502 , 20 PCs used\n",
      "total r^2 between top 20 NAM PCs and outcome is 0.33\n"
     ]
    }
   ],
   "source": [
    "np.random.seed(0) \n",
    "res = cna.tl._association.association(d, #dataset \n",
    "                                      d.samplem['Final_ISN_[V]'], #phenotype\n",
    "#                                       batches=d.samplem.processing_batch, #batches\n",
    "                                      Nnull=10000, # number of null permutations to do (defaults to only 1e3)\n",
    "                                      ks=[1,2,3,4,5,6,7,8,9,10,11,12,13,14,15,16,17,18,19,20] # I asked the method to consider up to 10 PCs because\n",
    "                                                                #it chose the max number of PCs it considered the default set of [1,2,3,4]\n",
    "                                     )\n",
    "print(res.k)\n",
    "print(res.ks)\n",
    "print('p =', res.p, ',', res.k, 'PCs used')\n",
    "print('total r^2 between top {} NAM PCs and outcome is {:.2f}'.format(res.k, res.r2))"
   ]
  },
  {
   "cell_type": "code",
   "execution_count": 159,
   "id": "fec96de6-2969-476d-905c-ca791c0f1ea3",
   "metadata": {},
   "outputs": [],
   "source": [
    "b_uni['ISN_Class_Five'] = res.p"
   ]
  },
  {
   "cell_type": "code",
   "execution_count": 160,
   "id": "494b5403-0b57-4338-b823-67858899794f",
   "metadata": {},
   "outputs": [],
   "source": [
    "np.savetxt(\"/data/srlab/ssg34/SLE_kidney_v2/data/pbmc/b_cell/isn/class_5_ncorr.csv\", \n",
    "               res.ncorrs, delimiter=\",\")\n",
    "np.savetxt(\"/data/srlab/ssg34/SLE_kidney_v2/data/pbmc/b_cell/isn/class_5_fdrs.csv\", \n",
    "               res.fdrs, delimiter=\",\")"
   ]
  },
  {
   "cell_type": "code",
   "execution_count": 161,
   "id": "bc69985b-4eff-471e-a61b-65fd32633924",
   "metadata": {},
   "outputs": [
    {
     "name": "stdout",
     "output_type": "stream",
     "text": [
      "covariate-adjusted NAM not found; computing and saving\n",
      "computing SVD\n",
      "performing association test\n"
     ]
    },
    {
     "name": "stderr",
     "output_type": "stream",
     "text": [
      "/PHShome/ssg34/.conda/envs/plswork/lib/python3.9/site-packages/cna/tools/_nam.py:101: UserWarning: only one unique batch supplied to prep\n",
      "  warnings.warn('only one unique batch supplied to prep')\n"
     ]
    },
    {
     "name": "stdout",
     "output_type": "stream",
     "text": [
      "computing neighborhood-level FDRs\n",
      "19\n",
      "[1, 2, 3, 4, 5, 6, 7, 8, 9, 10, 11, 12, 13, 14, 15, 16, 17, 18, 19, 20]\n",
      "p = 0.013898610138986101 , 19 PCs used\n",
      "total r^2 between top 19 NAM PCs and outcome is 0.33\n"
     ]
    }
   ],
   "source": [
    "np.random.seed(0) \n",
    "res = cna.tl._association.association(d, #dataset \n",
    "                                      d.samplem['Final_ISN_[V]'], #phenotype\n",
    "#                                       batches=d.samplem.processing_batch, #batches\n",
    "                                      covs = d.samplem[['Age', 'Sex']],\n",
    "                                      Nnull=10000, # number of null permutations to do (defaults to only 1e3)\n",
    "                                      ks=[1,2,3,4,5,6,7,8,9,10,11,12,13,14,15,16,17,18,19,20] # I asked the method to consider up to 10 PCs because\n",
    "                                                                #it chose the max number of PCs it considered the default set of [1,2,3,4]\n",
    "                                     )\n",
    "print(res.k)\n",
    "print(res.ks)\n",
    "print('p =', res.p, ',', res.k, 'PCs used')\n",
    "print('total r^2 between top {} NAM PCs and outcome is {:.2f}'.format(res.k, res.r2))"
   ]
  },
  {
   "cell_type": "code",
   "execution_count": 163,
   "id": "627b5a9e-f4bc-4f2c-a1c8-9b9efe3d767c",
   "metadata": {},
   "outputs": [],
   "source": [
    "b_cond['ISN_Class_Five'] = res.p"
   ]
  },
  {
   "cell_type": "code",
   "execution_count": 164,
   "id": "11f4b8a6-4c52-47e3-84d2-112fc291cb27",
   "metadata": {},
   "outputs": [],
   "source": [
    "np.savetxt(\"/data/srlab/ssg34/SLE_kidney_v2/data/pbmc/b_cell/isn/cond_class_5_ncorr.csv\", \n",
    "               res.ncorrs, delimiter=\",\")\n",
    "np.savetxt(\"/data/srlab/ssg34/SLE_kidney_v2/data/pbmc/b_cell/isn/cond_class_5_fdrs.csv\", \n",
    "               res.fdrs, delimiter=\",\")"
   ]
  },
  {
   "cell_type": "code",
   "execution_count": 205,
   "id": "faea3dba-979e-451b-b295-82661b24ce70",
   "metadata": {},
   "outputs": [],
   "source": [
    "b_res = pd.DataFrame([b_uni, b_cond]).T[:-2]\n",
    "b_res['Cell.Type'] = \"B Cell\""
   ]
  },
  {
   "cell_type": "code",
   "execution_count": 207,
   "id": "4e2d8c79-6ecc-4659-a321-7e1b535084ae",
   "metadata": {},
   "outputs": [],
   "source": [
    "t_nk_res = pd.DataFrame([t_nk_uni, t_nk_cond]).T[:-1]\n",
    "t_nk_res['Cell.Type'] = \"T/NK Cell\""
   ]
  },
  {
   "cell_type": "code",
   "execution_count": 209,
   "id": "36301ab1-e995-4e54-a3fa-af335581528a",
   "metadata": {},
   "outputs": [],
   "source": [
    "mono_res = pd.DataFrame([mono_uni, mono_cond]).T[:-2]\n",
    "mono_res['Cell.Type'] = \"Monocytes/DC\""
   ]
  },
  {
   "cell_type": "code",
   "execution_count": 210,
   "id": "26261cb2-d00e-4d8d-acc7-6a90dd9a4b4c",
   "metadata": {},
   "outputs": [],
   "source": [
    "full_res = pd.concat([b_res, t_nk_res, mono_res])"
   ]
  },
  {
   "cell_type": "code",
   "execution_count": 211,
   "id": "d2e7a273-aba5-49ce-b04a-7d9efcb84c1d",
   "metadata": {},
   "outputs": [],
   "source": [
    "full_res.columns = ['Univariate', 'Conditional', 'Cell.Type']"
   ]
  },
  {
   "cell_type": "code",
   "execution_count": 212,
   "id": "0cd08a41-0ec6-4a0b-8833-a51f7d075d24",
   "metadata": {},
   "outputs": [],
   "source": [
    "full_res['variable'] = full_res.index"
   ]
  },
  {
   "cell_type": "code",
   "execution_count": 214,
   "id": "fabc2ca3-d69e-4b08-ab4a-36264715c1e9",
   "metadata": {},
   "outputs": [
    {
     "data": {
      "text/html": [
       "<div>\n",
       "<style scoped>\n",
       "    .dataframe tbody tr th:only-of-type {\n",
       "        vertical-align: middle;\n",
       "    }\n",
       "\n",
       "    .dataframe tbody tr th {\n",
       "        vertical-align: top;\n",
       "    }\n",
       "\n",
       "    .dataframe thead th {\n",
       "        text-align: right;\n",
       "    }\n",
       "</style>\n",
       "<table border=\"1\" class=\"dataframe\">\n",
       "  <thead>\n",
       "    <tr style=\"text-align: right;\">\n",
       "      <th></th>\n",
       "      <th>Univariate</th>\n",
       "      <th>Conditional</th>\n",
       "      <th>Cell.Type</th>\n",
       "      <th>variable</th>\n",
       "    </tr>\n",
       "  </thead>\n",
       "  <tbody>\n",
       "    <tr>\n",
       "      <th>Responder.Status</th>\n",
       "      <td>0.659934</td>\n",
       "      <td>NA</td>\n",
       "      <td>B Cell</td>\n",
       "      <td>Responder.Status</td>\n",
       "    </tr>\n",
       "    <tr>\n",
       "      <th>Chronicity</th>\n",
       "      <td>0.027297</td>\n",
       "      <td>0.040396</td>\n",
       "      <td>B Cell</td>\n",
       "      <td>Chronicity</td>\n",
       "    </tr>\n",
       "    <tr>\n",
       "      <th>Activity</th>\n",
       "      <td>0.865013</td>\n",
       "      <td>NA</td>\n",
       "      <td>B Cell</td>\n",
       "      <td>Activity</td>\n",
       "    </tr>\n",
       "    <tr>\n",
       "      <th>ISN_Class_Five</th>\n",
       "      <td>0.014499</td>\n",
       "      <td>0.013899</td>\n",
       "      <td>B Cell</td>\n",
       "      <td>ISN_Class_Five</td>\n",
       "    </tr>\n",
       "    <tr>\n",
       "      <th>Responder.Status</th>\n",
       "      <td>0.556544</td>\n",
       "      <td>NA</td>\n",
       "      <td>T/NK Cell</td>\n",
       "      <td>Responder.Status</td>\n",
       "    </tr>\n",
       "    <tr>\n",
       "      <th>Chronicity</th>\n",
       "      <td>0.043496</td>\n",
       "      <td>0.049795</td>\n",
       "      <td>T/NK Cell</td>\n",
       "      <td>Chronicity</td>\n",
       "    </tr>\n",
       "    <tr>\n",
       "      <th>Activity</th>\n",
       "      <td>0.09519</td>\n",
       "      <td>NA</td>\n",
       "      <td>T/NK Cell</td>\n",
       "      <td>Activity</td>\n",
       "    </tr>\n",
       "    <tr>\n",
       "      <th>ISN_Class_Five</th>\n",
       "      <td>0.036896</td>\n",
       "      <td>0.092791</td>\n",
       "      <td>T/NK Cell</td>\n",
       "      <td>ISN_Class_Five</td>\n",
       "    </tr>\n",
       "    <tr>\n",
       "      <th>Responder.Status</th>\n",
       "      <td>0.717828</td>\n",
       "      <td>NA</td>\n",
       "      <td>Monocytes/DC</td>\n",
       "      <td>Responder.Status</td>\n",
       "    </tr>\n",
       "    <tr>\n",
       "      <th>Chronicity</th>\n",
       "      <td>0.008099</td>\n",
       "      <td>0.012699</td>\n",
       "      <td>Monocytes/DC</td>\n",
       "      <td>Chronicity</td>\n",
       "    </tr>\n",
       "    <tr>\n",
       "      <th>Activity</th>\n",
       "      <td>0.457554</td>\n",
       "      <td>NaN</td>\n",
       "      <td>Monocytes/DC</td>\n",
       "      <td>Activity</td>\n",
       "    </tr>\n",
       "    <tr>\n",
       "      <th>ISN_Class_Five</th>\n",
       "      <td>0.028597</td>\n",
       "      <td>0.058294</td>\n",
       "      <td>Monocytes/DC</td>\n",
       "      <td>ISN_Class_Five</td>\n",
       "    </tr>\n",
       "  </tbody>\n",
       "</table>\n",
       "</div>"
      ],
      "text/plain": [
       "                 Univariate Conditional     Cell.Type          variable\n",
       "Responder.Status   0.659934          NA        B Cell  Responder.Status\n",
       "Chronicity         0.027297    0.040396        B Cell        Chronicity\n",
       "Activity           0.865013          NA        B Cell          Activity\n",
       "ISN_Class_Five     0.014499    0.013899        B Cell    ISN_Class_Five\n",
       "Responder.Status   0.556544          NA     T/NK Cell  Responder.Status\n",
       "Chronicity         0.043496    0.049795     T/NK Cell        Chronicity\n",
       "Activity            0.09519          NA     T/NK Cell          Activity\n",
       "ISN_Class_Five     0.036896    0.092791     T/NK Cell    ISN_Class_Five\n",
       "Responder.Status   0.717828          NA  Monocytes/DC  Responder.Status\n",
       "Chronicity         0.008099    0.012699  Monocytes/DC        Chronicity\n",
       "Activity           0.457554         NaN  Monocytes/DC          Activity\n",
       "ISN_Class_Five     0.028597    0.058294  Monocytes/DC    ISN_Class_Five"
      ]
     },
     "execution_count": 214,
     "metadata": {},
     "output_type": "execute_result"
    }
   ],
   "source": [
    "full_res"
   ]
  },
  {
   "cell_type": "code",
   "execution_count": 215,
   "id": "a6eaa45e-12c4-40d1-a013-08d965c10db0",
   "metadata": {},
   "outputs": [],
   "source": [
    "full_res.to_csv('/data/srlab/ssg34/SLE_kidney_v2/data/pbmc/full_res_cna_four_var.csv',\n",
    "                index = False, header = True)"
   ]
  }
 ],
 "metadata": {
  "kernelspec": {
   "display_name": "Python 3 (ipykernel)",
   "language": "python",
   "name": "python3"
  },
  "language_info": {
   "codemirror_mode": {
    "name": "ipython",
    "version": 3
   },
   "file_extension": ".py",
   "mimetype": "text/x-python",
   "name": "python",
   "nbconvert_exporter": "python",
   "pygments_lexer": "ipython3",
   "version": "3.9.13"
  }
 },
 "nbformat": 4,
 "nbformat_minor": 5
}
