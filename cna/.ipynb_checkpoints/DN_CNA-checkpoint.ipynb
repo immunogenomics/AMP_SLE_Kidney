{
 "cells": [
  {
   "cell_type": "code",
   "execution_count": 1,
   "id": "cacd617b-91c9-4b3b-9e6f-7a134b070a4d",
   "metadata": {},
   "outputs": [],
   "source": [
    "import scanpy as sc\n",
    "import numpy as np\n",
    "import pandas as pd\n",
    "import matplotlib.pyplot as plt\n",
    "import scipy.stats as st\n",
    "import cna\n",
    "import multianndata as mad\n",
    "\n",
    "# For Aparna's Import\n",
    "import scipy.io\n",
    "\n",
    "# For reproducibility\n",
    "np.random.seed(0)  "
   ]
  },
  {
   "cell_type": "markdown",
   "id": "344be499-a473-4e42-aa0b-a76ceb2a43a4",
   "metadata": {},
   "source": [
    "# AGE"
   ]
  },
  {
   "cell_type": "markdown",
   "id": "6fb0a953-bec1-49ee-bb74-a2b7c73f3036",
   "metadata": {},
   "source": [
    "## Single Cell"
   ]
  },
  {
   "cell_type": "code",
   "execution_count": 2,
   "id": "5219bd0c-3a82-468a-82d5-f40d4ae91c00",
   "metadata": {},
   "outputs": [
    {
     "name": "stdout",
     "output_type": "stream",
     "text": [
      "(91794, 9)\n"
     ]
    }
   ],
   "source": [
    "meta = pd.read_csv('/data/srlab/ssg34/SLE_kidney_v2/data/cna_new/DN/age_sex_response_race/sc_meta_age.csv')\n",
    "print(meta.shape)"
   ]
  },
  {
   "cell_type": "code",
   "execution_count": 3,
   "id": "1cecc796-c1b8-4e7b-a2be-e8e3f3f49a7f",
   "metadata": {},
   "outputs": [
    {
     "name": "stdout",
     "output_type": "stream",
     "text": [
      "(91794, 20)\n"
     ]
    }
   ],
   "source": [
    "harmony = pd.read_csv('/data/srlab/ssg34/SLE_kidney_v2/data/cna_new/DN/age_sex_response_race/sc_harmony_age.csv')\n",
    "print(harmony.shape)"
   ]
  },
  {
   "cell_type": "code",
   "execution_count": 4,
   "id": "cfe0aa68-8d06-4252-b31d-c0da73cd175e",
   "metadata": {},
   "outputs": [
    {
     "name": "stdout",
     "output_type": "stream",
     "text": [
      "(91794, 2)\n"
     ]
    }
   ],
   "source": [
    "umap = pd.read_csv('/data/srlab/ssg34/SLE_kidney_v2/data/cna_new/DN/age_sex_response_race/sc_umap_age.csv')\n",
    "print(umap.shape)"
   ]
  },
  {
   "cell_type": "code",
   "execution_count": 5,
   "id": "9c64ca7d-42cc-46b3-b0bd-202f6155c6e7",
   "metadata": {},
   "outputs": [
    {
     "name": "stdout",
     "output_type": "stream",
     "text": [
      "warning: the following columns of obs are non-numeric.\n",
      "['cell' 'Sex' 'sample' 'cluster_names' 'Responder.Status' 'Race' 'ISN'\n",
      " 'Type']\n",
      "consider casting to numeric types where appropriate, and\n",
      "consider re-coding text-valued columns with pandas.get_dummies\n"
     ]
    },
    {
     "name": "stderr",
     "output_type": "stream",
     "text": [
      "/PHShome/ssg34/.conda/envs/plswork/lib/python3.9/site-packages/multianndata/core.py:17: FutureWarning: X.dtype being converted to np.float32 from float64. In the next version of anndata (0.9) conversion will not be automatic. Pass dtype explicitly to avoid this warning. Pass `AnnData(X, dtype=X.dtype, ...)` to get the future behavour.\n",
      "  super().__init__(*args, **kwargs)\n",
      "/PHShome/ssg34/.conda/envs/plswork/lib/python3.9/site-packages/anndata/_core/anndata.py:121: ImplicitModificationWarning: Transforming to str index.\n",
      "  warnings.warn(\"Transforming to str index.\", ImplicitModificationWarning)\n"
     ]
    },
    {
     "data": {
      "text/html": [
       "<div>\n",
       "<style scoped>\n",
       "    .dataframe tbody tr th:only-of-type {\n",
       "        vertical-align: middle;\n",
       "    }\n",
       "\n",
       "    .dataframe tbody tr th {\n",
       "        vertical-align: top;\n",
       "    }\n",
       "\n",
       "    .dataframe thead th {\n",
       "        text-align: right;\n",
       "    }\n",
       "</style>\n",
       "<table border=\"1\" class=\"dataframe\">\n",
       "  <thead>\n",
       "    <tr style=\"text-align: right;\">\n",
       "      <th></th>\n",
       "      <th>Age</th>\n",
       "    </tr>\n",
       "    <tr>\n",
       "      <th>sample</th>\n",
       "      <th></th>\n",
       "    </tr>\n",
       "  </thead>\n",
       "  <tbody>\n",
       "    <tr>\n",
       "      <th>AMPSLEkid_cells_2748</th>\n",
       "      <td>6.0</td>\n",
       "    </tr>\n",
       "    <tr>\n",
       "      <th>AMPSLEkid_cells_0148</th>\n",
       "      <td>4.0</td>\n",
       "    </tr>\n",
       "    <tr>\n",
       "      <th>AMPSLEkid_cells_1639</th>\n",
       "      <td>7.0</td>\n",
       "    </tr>\n",
       "    <tr>\n",
       "      <th>AMPSLEkid_cells_0377</th>\n",
       "      <td>7.0</td>\n",
       "    </tr>\n",
       "    <tr>\n",
       "      <th>AMPSLEkid_cells_0850</th>\n",
       "      <td>26.0</td>\n",
       "    </tr>\n",
       "  </tbody>\n",
       "</table>\n",
       "</div>"
      ],
      "text/plain": [
       "                       Age\n",
       "sample                    \n",
       "AMPSLEkid_cells_2748   6.0\n",
       "AMPSLEkid_cells_0148   4.0\n",
       "AMPSLEkid_cells_1639   7.0\n",
       "AMPSLEkid_cells_0377   7.0\n",
       "AMPSLEkid_cells_0850  26.0"
      ]
     },
     "execution_count": 5,
     "metadata": {},
     "output_type": "execute_result"
    }
   ],
   "source": [
    "# Start by making anndata object\n",
    "d = mad.MultiAnnData(X=harmony, obs=meta, sampleid=\"sample\")\n",
    "#d.obs_to_sample(['Type', 'Site',\n",
    "#                 'Responder_Status', 'Sex',\n",
    "#                 'Age', 'Race',\n",
    "#                'Ethnicity', 'ISN',\n",
    "#               'Activity', \"Chronicity\",\n",
    "#                 'processing_batch'])\n",
    "d.obs_to_sample(['Age'])\n",
    "d.samplem.head()"
   ]
  },
  {
   "cell_type": "code",
   "execution_count": 6,
   "id": "b1ec1866-bd96-4e6e-bd32-caee33ed7ea8",
   "metadata": {},
   "outputs": [],
   "source": [
    "umap.index = d.obs.index\n",
    "d.obsm['X_umap'] = umap"
   ]
  },
  {
   "cell_type": "code",
   "execution_count": 7,
   "id": "35f67bcc-db0c-4ec0-bb33-0e1f639e264e",
   "metadata": {},
   "outputs": [
    {
     "name": "stdout",
     "output_type": "stream",
     "text": [
      "computing default knn graph\n"
     ]
    },
    {
     "name": "stderr",
     "output_type": "stream",
     "text": [
      "/PHShome/ssg34/.conda/envs/plswork/lib/python3.9/site-packages/tqdm/auto.py:22: TqdmWarning: IProgress not found. Please update jupyter and ipywidgets. See https://ipywidgets.readthedocs.io/en/stable/user_install.html\n",
      "  from .autonotebook import tqdm as notebook_tqdm\n"
     ]
    }
   ],
   "source": [
    "np.random.seed(0) \n",
    "cna.pp.knn(d)"
   ]
  },
  {
   "cell_type": "code",
   "execution_count": 8,
   "id": "b8ac1597-c76d-457c-8bc2-c9ff18cdb5fe",
   "metadata": {},
   "outputs": [
    {
     "name": "stdout",
     "output_type": "stream",
     "text": [
      "qcd NAM not found; computing and saving\n",
      "\ttaking step 1\n",
      "\tmedian kurtosis: 49.091880798339844\n",
      "\t20th percentile R2(t,t-1): nan\n",
      "\ttaking step 2\n",
      "\tmedian kurtosis: 33.26131248474121\n",
      "\t20th percentile R2(t,t-1): 0.7894942760467529\n",
      "\ttaking step 3\n",
      "\tmedian kurtosis: 22.813119888305664\n",
      "\t20th percentile R2(t,t-1): 0.9220971465110779\n",
      "\ttaking step 4\n",
      "\tmedian kurtosis: 16.663640022277832\n",
      "\t20th percentile R2(t,t-1): 0.9542869925498962\n",
      "\ttaking step 5\n",
      "\tmedian kurtosis: 13.027698516845703\n",
      "\t20th percentile R2(t,t-1): 0.9693898558616638\n",
      "\ttaking step 6\n",
      "\tmedian kurtosis: 10.858315467834473\n",
      "\t20th percentile R2(t,t-1): 0.9789156913757324\n",
      "stopping after 6 steps\n",
      "covariate-adjusted NAM not found; computing and saving\n"
     ]
    },
    {
     "name": "stderr",
     "output_type": "stream",
     "text": [
      "/PHShome/ssg34/.conda/envs/plswork/lib/python3.9/site-packages/cna/tools/_nam.py:79: UserWarning: only one unique batch supplied to qc\n",
      "  warnings.warn('only one unique batch supplied to qc')\n",
      "/PHShome/ssg34/.conda/envs/plswork/lib/python3.9/site-packages/cna/tools/_nam.py:101: UserWarning: only one unique batch supplied to prep\n",
      "  warnings.warn('only one unique batch supplied to prep')\n"
     ]
    },
    {
     "name": "stdout",
     "output_type": "stream",
     "text": [
      "computing SVD\n",
      "performing association test\n",
      "computing neighborhood-level FDRs\n",
      "10\n",
      "[1, 2, 3, 4, 5, 6, 7, 8, 9, 10, 11, 12, 13, 14, 15, 16, 17, 18, 19, 20]\n",
      "p = 0.042695730426957304 , 10 PCs used\n",
      "total r^2 between top 10 NAM PCs and outcome is 0.15\n"
     ]
    }
   ],
   "source": [
    "np.random.seed(0) \n",
    "res = cna.tl._association.association(d, #dataset \n",
    "                                      d.samplem.Age, #phenotype\n",
    "#                                       batches=d.samplem.processing_batch, #batches\n",
    "                                      Nnull=10000, # number of null permutations to do (defaults to only 1e3)\n",
    "                                      ks=[1,2,3,4,5,6,7,8,9,10,11,12,13,14,15,16,17,18,19,20] # I asked the method to consider up to 10 PCs because\n",
    "                                                                #it chose the max number of PCs it considered the default set of [1,2,3,4]\n",
    "                                     )\n",
    "print(res.k)\n",
    "print(res.ks)\n",
    "print('p =', res.p, ',', res.k, 'PCs used')\n",
    "print('total r^2 between top {} NAM PCs and outcome is {:.2f}'.format(res.k, res.r2))"
   ]
  },
  {
   "cell_type": "code",
   "execution_count": 9,
   "id": "43593a30-f0fe-4e87-9e48-cd80a52abc43",
   "metadata": {},
   "outputs": [],
   "source": [
    "np.savetxt(\"/data/srlab/ssg34/SLE_kidney_v2/data/cna_new/DN/age_sex_response_race/sc_age_ncorr.csv\", \n",
    "               res.ncorrs, delimiter=\",\")\n",
    "np.savetxt(\"/data/srlab/ssg34/SLE_kidney_v2/data/cna_new/DN/age_sex_response_race/sc_age_fdrs.csv\", \n",
    "               res.fdrs, delimiter=\",\")"
   ]
  },
  {
   "cell_type": "markdown",
   "id": "3d5fd8bf-47dd-4f7e-8769-2e1972ef2f5f",
   "metadata": {},
   "source": [
    "## Single Nuclei"
   ]
  },
  {
   "cell_type": "code",
   "execution_count": 10,
   "id": "cd8dbdee-f59d-4e76-bc29-2615e90afd8c",
   "metadata": {},
   "outputs": [
    {
     "name": "stdout",
     "output_type": "stream",
     "text": [
      "(25927, 9)\n"
     ]
    }
   ],
   "source": [
    "meta = pd.read_csv('/data/srlab/ssg34/SLE_kidney_v2/data/cna_new/DN/age_sex_response_race/sn_meta_age.csv')\n",
    "print(meta.shape)"
   ]
  },
  {
   "cell_type": "code",
   "execution_count": 11,
   "id": "b866a21a-1f66-450e-81e3-d727b2097353",
   "metadata": {},
   "outputs": [
    {
     "name": "stdout",
     "output_type": "stream",
     "text": [
      "(25927, 20)\n"
     ]
    }
   ],
   "source": [
    "harmony = pd.read_csv('/data/srlab/ssg34/SLE_kidney_v2/data/cna_new/DN/age_sex_response_race/sn_harmony_age.csv')\n",
    "print(harmony.shape)"
   ]
  },
  {
   "cell_type": "code",
   "execution_count": 12,
   "id": "83d2fd68-df7c-475d-acf5-fbd90b7c2b3f",
   "metadata": {},
   "outputs": [
    {
     "name": "stdout",
     "output_type": "stream",
     "text": [
      "(25927, 2)\n"
     ]
    }
   ],
   "source": [
    "umap = pd.read_csv('/data/srlab/ssg34/SLE_kidney_v2/data/cna_new/DN/age_sex_response_race/sn_umap_age.csv')\n",
    "print(umap.shape)"
   ]
  },
  {
   "cell_type": "code",
   "execution_count": 13,
   "id": "3b75cdcf-3b4e-4200-b2bc-7051ae0a5866",
   "metadata": {},
   "outputs": [
    {
     "name": "stdout",
     "output_type": "stream",
     "text": [
      "warning: the following columns of obs are non-numeric.\n",
      "['cell' 'Sex' 'sample' 'cluster_names' 'Responder.Status' 'Race' 'ISN'\n",
      " 'Type']\n",
      "consider casting to numeric types where appropriate, and\n",
      "consider re-coding text-valued columns with pandas.get_dummies\n"
     ]
    },
    {
     "name": "stderr",
     "output_type": "stream",
     "text": [
      "/PHShome/ssg34/.conda/envs/plswork/lib/python3.9/site-packages/multianndata/core.py:17: FutureWarning: X.dtype being converted to np.float32 from float64. In the next version of anndata (0.9) conversion will not be automatic. Pass dtype explicitly to avoid this warning. Pass `AnnData(X, dtype=X.dtype, ...)` to get the future behavour.\n",
      "  super().__init__(*args, **kwargs)\n",
      "/PHShome/ssg34/.conda/envs/plswork/lib/python3.9/site-packages/anndata/_core/anndata.py:121: ImplicitModificationWarning: Transforming to str index.\n",
      "  warnings.warn(\"Transforming to str index.\", ImplicitModificationWarning)\n"
     ]
    },
    {
     "data": {
      "text/html": [
       "<div>\n",
       "<style scoped>\n",
       "    .dataframe tbody tr th:only-of-type {\n",
       "        vertical-align: middle;\n",
       "    }\n",
       "\n",
       "    .dataframe tbody tr th {\n",
       "        vertical-align: top;\n",
       "    }\n",
       "\n",
       "    .dataframe thead th {\n",
       "        text-align: right;\n",
       "    }\n",
       "</style>\n",
       "<table border=\"1\" class=\"dataframe\">\n",
       "  <thead>\n",
       "    <tr style=\"text-align: right;\">\n",
       "      <th></th>\n",
       "      <th>Age</th>\n",
       "    </tr>\n",
       "    <tr>\n",
       "      <th>sample</th>\n",
       "      <th></th>\n",
       "    </tr>\n",
       "  </thead>\n",
       "  <tbody>\n",
       "    <tr>\n",
       "      <th>AMPSLEkid_cells_0137</th>\n",
       "      <td>10.0</td>\n",
       "    </tr>\n",
       "    <tr>\n",
       "      <th>AMPSLEkid_cells_1131</th>\n",
       "      <td>16.0</td>\n",
       "    </tr>\n",
       "    <tr>\n",
       "      <th>AMPSLEkid_cells_1136</th>\n",
       "      <td>5.0</td>\n",
       "    </tr>\n",
       "    <tr>\n",
       "      <th>AMPSLEkid_cells_1150</th>\n",
       "      <td>23.0</td>\n",
       "    </tr>\n",
       "    <tr>\n",
       "      <th>AMPSLEkid_cells_1222</th>\n",
       "      <td>19.0</td>\n",
       "    </tr>\n",
       "  </tbody>\n",
       "</table>\n",
       "</div>"
      ],
      "text/plain": [
       "                       Age\n",
       "sample                    \n",
       "AMPSLEkid_cells_0137  10.0\n",
       "AMPSLEkid_cells_1131  16.0\n",
       "AMPSLEkid_cells_1136   5.0\n",
       "AMPSLEkid_cells_1150  23.0\n",
       "AMPSLEkid_cells_1222  19.0"
      ]
     },
     "execution_count": 13,
     "metadata": {},
     "output_type": "execute_result"
    }
   ],
   "source": [
    "# Start by making anndata object\n",
    "d = mad.MultiAnnData(X=harmony, obs=meta, sampleid=\"sample\")\n",
    "#d.obs_to_sample(['Type', 'Site',\n",
    "#                 'Responder_Status', 'Sex',\n",
    "#                 'Age', 'Race',\n",
    "#                'Ethnicity', 'ISN',\n",
    "#               'Activity', \"Chronicity\",\n",
    "#                 'processing_batch'])\n",
    "d.obs_to_sample(['Age'])\n",
    "d.samplem.head()"
   ]
  },
  {
   "cell_type": "code",
   "execution_count": 14,
   "id": "a80fa6b7-dd3a-45e1-a9e1-91576c84d817",
   "metadata": {},
   "outputs": [],
   "source": [
    "umap.index = d.obs.index\n",
    "d.obsm['X_umap'] = umap"
   ]
  },
  {
   "cell_type": "code",
   "execution_count": 15,
   "id": "73768a74-5508-4c62-aa39-0e4be66869f7",
   "metadata": {},
   "outputs": [
    {
     "name": "stdout",
     "output_type": "stream",
     "text": [
      "computing default knn graph\n"
     ]
    }
   ],
   "source": [
    "np.random.seed(0) \n",
    "cna.pp.knn(d)"
   ]
  },
  {
   "cell_type": "code",
   "execution_count": 16,
   "id": "994e7c9b-815d-4610-9279-506946f24b19",
   "metadata": {},
   "outputs": [
    {
     "name": "stdout",
     "output_type": "stream",
     "text": [
      "qcd NAM not found; computing and saving\n",
      "\ttaking step 1\n",
      "\tmedian kurtosis: 11.86831283569336\n",
      "\t20th percentile R2(t,t-1): nan\n",
      "\ttaking step 2\n",
      "\tmedian kurtosis: 8.700092315673828\n",
      "\t20th percentile R2(t,t-1): 0.7872881889343262\n",
      "\ttaking step 3\n",
      "\tmedian kurtosis: 6.338837146759033\n",
      "\t20th percentile R2(t,t-1): 0.9215906143188477\n",
      "stopping after 3 steps\n",
      "covariate-adjusted NAM not found; computing and saving\n",
      "computing SVD\n",
      "performing association test\n"
     ]
    },
    {
     "name": "stderr",
     "output_type": "stream",
     "text": [
      "/PHShome/ssg34/.conda/envs/plswork/lib/python3.9/site-packages/cna/tools/_nam.py:79: UserWarning: only one unique batch supplied to qc\n",
      "  warnings.warn('only one unique batch supplied to qc')\n",
      "/PHShome/ssg34/.conda/envs/plswork/lib/python3.9/site-packages/cna/tools/_nam.py:101: UserWarning: only one unique batch supplied to prep\n",
      "  warnings.warn('only one unique batch supplied to prep')\n"
     ]
    },
    {
     "name": "stdout",
     "output_type": "stream",
     "text": [
      "computing neighborhood-level FDRs\n",
      "19\n",
      "[1, 2, 3, 4, 5, 6, 7, 8, 9, 10, 11, 12, 13, 14, 15, 16, 17, 18, 19, 20]\n",
      "p = 0.019598040195980403 , 19 PCs used\n",
      "total r^2 between top 19 NAM PCs and outcome is 0.73\n"
     ]
    }
   ],
   "source": [
    "np.random.seed(0) \n",
    "res = cna.tl._association.association(d, #dataset \n",
    "                                      d.samplem.Age, #phenotype\n",
    "#                                       batches=d.samplem.processing_batch, #batches\n",
    "                                      Nnull=10000, # number of null permutations to do (defaults to only 1e3)\n",
    "                                      ks=[1,2,3,4,5,6,7,8,9,10,11,12,13,14,15,16,17,18,19,20] # I asked the method to consider up to 10 PCs because\n",
    "                                                                #it chose the max number of PCs it considered the default set of [1,2,3,4]\n",
    "                                     )\n",
    "print(res.k)\n",
    "print(res.ks)\n",
    "print('p =', res.p, ',', res.k, 'PCs used')\n",
    "print('total r^2 between top {} NAM PCs and outcome is {:.2f}'.format(res.k, res.r2))"
   ]
  },
  {
   "cell_type": "code",
   "execution_count": 17,
   "id": "714248a3-5657-4ac9-90b7-b8aa2eeb2769",
   "metadata": {},
   "outputs": [],
   "source": [
    "np.savetxt(\"/data/srlab/ssg34/SLE_kidney_v2/data/cna_new/DN/age_sex_response_race/sn_age_ncorr.csv\", \n",
    "               res.ncorrs, delimiter=\",\")\n",
    "np.savetxt(\"/data/srlab/ssg34/SLE_kidney_v2/data/cna_new/DN/age_sex_response_race/sn_age_fdrs.csv\", \n",
    "               res.fdrs, delimiter=\",\")"
   ]
  },
  {
   "cell_type": "markdown",
   "id": "c79976af-5515-459c-b1e6-9c3d41661cdb",
   "metadata": {},
   "source": [
    "# SEX"
   ]
  },
  {
   "cell_type": "markdown",
   "id": "5d334a6e-0465-46e9-a839-a41215debd5b",
   "metadata": {},
   "source": [
    "## Single Cell"
   ]
  },
  {
   "cell_type": "code",
   "execution_count": 18,
   "id": "47e61360-fe60-453f-8934-dadf105ada98",
   "metadata": {},
   "outputs": [
    {
     "name": "stdout",
     "output_type": "stream",
     "text": [
      "(91794, 9)\n"
     ]
    }
   ],
   "source": [
    "meta = pd.read_csv('/data/srlab/ssg34/SLE_kidney_v2/data/cna_new/DN/age_sex_response_race/sc_meta_sex.csv')\n",
    "print(meta.shape)"
   ]
  },
  {
   "cell_type": "code",
   "execution_count": 19,
   "id": "2c7aab01-2a61-42e7-be6b-5c252208eca5",
   "metadata": {},
   "outputs": [
    {
     "name": "stdout",
     "output_type": "stream",
     "text": [
      "(91794, 20)\n"
     ]
    }
   ],
   "source": [
    "harmony = pd.read_csv('/data/srlab/ssg34/SLE_kidney_v2/data/cna_new/DN/age_sex_response_race/sc_harmony_sex.csv')\n",
    "print(harmony.shape)"
   ]
  },
  {
   "cell_type": "code",
   "execution_count": 20,
   "id": "2e858506-4e64-413a-bff3-d4ec27332305",
   "metadata": {},
   "outputs": [
    {
     "name": "stdout",
     "output_type": "stream",
     "text": [
      "(91794, 2)\n"
     ]
    }
   ],
   "source": [
    "umap = pd.read_csv('/data/srlab/ssg34/SLE_kidney_v2/data/cna_new/DN/age_sex_response_race/sc_umap_sex.csv')\n",
    "print(umap.shape)"
   ]
  },
  {
   "cell_type": "code",
   "execution_count": 21,
   "id": "e6c516ff-a7a4-4678-a9a4-713d8073782d",
   "metadata": {},
   "outputs": [
    {
     "name": "stdout",
     "output_type": "stream",
     "text": [
      "warning: the following columns of obs are non-numeric.\n",
      "['cell' 'sample' 'cluster_names' 'Responder.Status' 'Race' 'ISN' 'Type']\n",
      "consider casting to numeric types where appropriate, and\n",
      "consider re-coding text-valued columns with pandas.get_dummies\n"
     ]
    },
    {
     "name": "stderr",
     "output_type": "stream",
     "text": [
      "/PHShome/ssg34/.conda/envs/plswork/lib/python3.9/site-packages/multianndata/core.py:17: FutureWarning: X.dtype being converted to np.float32 from float64. In the next version of anndata (0.9) conversion will not be automatic. Pass dtype explicitly to avoid this warning. Pass `AnnData(X, dtype=X.dtype, ...)` to get the future behavour.\n",
      "  super().__init__(*args, **kwargs)\n",
      "/PHShome/ssg34/.conda/envs/plswork/lib/python3.9/site-packages/anndata/_core/anndata.py:121: ImplicitModificationWarning: Transforming to str index.\n",
      "  warnings.warn(\"Transforming to str index.\", ImplicitModificationWarning)\n"
     ]
    },
    {
     "data": {
      "text/html": [
       "<div>\n",
       "<style scoped>\n",
       "    .dataframe tbody tr th:only-of-type {\n",
       "        vertical-align: middle;\n",
       "    }\n",
       "\n",
       "    .dataframe tbody tr th {\n",
       "        vertical-align: top;\n",
       "    }\n",
       "\n",
       "    .dataframe thead th {\n",
       "        text-align: right;\n",
       "    }\n",
       "</style>\n",
       "<table border=\"1\" class=\"dataframe\">\n",
       "  <thead>\n",
       "    <tr style=\"text-align: right;\">\n",
       "      <th></th>\n",
       "      <th>Sex</th>\n",
       "    </tr>\n",
       "    <tr>\n",
       "      <th>sample</th>\n",
       "      <th></th>\n",
       "    </tr>\n",
       "  </thead>\n",
       "  <tbody>\n",
       "    <tr>\n",
       "      <th>AMPSLEkid_cells_2748</th>\n",
       "      <td>1.0</td>\n",
       "    </tr>\n",
       "    <tr>\n",
       "      <th>AMPSLEkid_cells_0148</th>\n",
       "      <td>1.0</td>\n",
       "    </tr>\n",
       "    <tr>\n",
       "      <th>AMPSLEkid_cells_1639</th>\n",
       "      <td>1.0</td>\n",
       "    </tr>\n",
       "    <tr>\n",
       "      <th>AMPSLEkid_cells_0377</th>\n",
       "      <td>1.0</td>\n",
       "    </tr>\n",
       "    <tr>\n",
       "      <th>AMPSLEkid_cells_0850</th>\n",
       "      <td>1.0</td>\n",
       "    </tr>\n",
       "  </tbody>\n",
       "</table>\n",
       "</div>"
      ],
      "text/plain": [
       "                      Sex\n",
       "sample                   \n",
       "AMPSLEkid_cells_2748  1.0\n",
       "AMPSLEkid_cells_0148  1.0\n",
       "AMPSLEkid_cells_1639  1.0\n",
       "AMPSLEkid_cells_0377  1.0\n",
       "AMPSLEkid_cells_0850  1.0"
      ]
     },
     "execution_count": 21,
     "metadata": {},
     "output_type": "execute_result"
    }
   ],
   "source": [
    "# Start by making anndata object\n",
    "d = mad.MultiAnnData(X=harmony, obs=meta, sampleid=\"sample\")\n",
    "#d.obs_to_sample(['Type', 'Site',\n",
    "#                 'Responder_Status', 'Sex',\n",
    "#                 'Age', 'Race',\n",
    "#                'Ethnicity', 'ISN',\n",
    "#               'Activity', \"Chronicity\",\n",
    "#                 'processing_batch'])\n",
    "d.obs_to_sample(['Sex'])\n",
    "d.samplem.head()"
   ]
  },
  {
   "cell_type": "code",
   "execution_count": 22,
   "id": "011c039e-d73b-4fab-95da-21945efbe25f",
   "metadata": {},
   "outputs": [],
   "source": [
    "umap.index = d.obs.index\n",
    "d.obsm['X_umap'] = umap"
   ]
  },
  {
   "cell_type": "code",
   "execution_count": 23,
   "id": "e28c133a-3777-4321-98f9-9e1aeea8af54",
   "metadata": {},
   "outputs": [
    {
     "name": "stdout",
     "output_type": "stream",
     "text": [
      "computing default knn graph\n"
     ]
    }
   ],
   "source": [
    "np.random.seed(0) \n",
    "cna.pp.knn(d)"
   ]
  },
  {
   "cell_type": "code",
   "execution_count": 24,
   "id": "e14a0265-3d34-4e5f-b7f0-ccd62ba8c3ed",
   "metadata": {},
   "outputs": [
    {
     "name": "stdout",
     "output_type": "stream",
     "text": [
      "qcd NAM not found; computing and saving\n",
      "\ttaking step 1\n",
      "\tmedian kurtosis: 49.091880798339844\n",
      "\t20th percentile R2(t,t-1): nan\n",
      "\ttaking step 2\n",
      "\tmedian kurtosis: 33.26131248474121\n",
      "\t20th percentile R2(t,t-1): 0.7894942760467529\n",
      "\ttaking step 3\n",
      "\tmedian kurtosis: 22.813119888305664\n",
      "\t20th percentile R2(t,t-1): 0.9220971465110779\n",
      "\ttaking step 4\n",
      "\tmedian kurtosis: 16.663640022277832\n",
      "\t20th percentile R2(t,t-1): 0.9542869925498962\n",
      "\ttaking step 5\n",
      "\tmedian kurtosis: 13.027698516845703\n",
      "\t20th percentile R2(t,t-1): 0.9693898558616638\n",
      "\ttaking step 6\n",
      "\tmedian kurtosis: 10.858315467834473\n",
      "\t20th percentile R2(t,t-1): 0.9789156913757324\n",
      "stopping after 6 steps\n",
      "covariate-adjusted NAM not found; computing and saving\n"
     ]
    },
    {
     "name": "stderr",
     "output_type": "stream",
     "text": [
      "/PHShome/ssg34/.conda/envs/plswork/lib/python3.9/site-packages/cna/tools/_nam.py:79: UserWarning: only one unique batch supplied to qc\n",
      "  warnings.warn('only one unique batch supplied to qc')\n",
      "/PHShome/ssg34/.conda/envs/plswork/lib/python3.9/site-packages/cna/tools/_nam.py:101: UserWarning: only one unique batch supplied to prep\n",
      "  warnings.warn('only one unique batch supplied to prep')\n"
     ]
    },
    {
     "name": "stdout",
     "output_type": "stream",
     "text": [
      "computing SVD\n",
      "performing association test\n",
      "computing neighborhood-level FDRs\n",
      "10\n",
      "[1, 2, 3, 4, 5, 6, 7, 8, 9, 10, 11, 12, 13, 14, 15, 16, 17, 18, 19, 20]\n",
      "p = 0.5051494850514948 , 10 PCs used\n",
      "total r^2 between top 10 NAM PCs and outcome is 0.09\n"
     ]
    }
   ],
   "source": [
    "np.random.seed(0) \n",
    "res = cna.tl._association.association(d, #dataset \n",
    "                                      d.samplem.Sex, #phenotype\n",
    "#                                       batches=d.samplem.processing_batch, #batches\n",
    "                                      Nnull=10000, # number of null permutations to do (defaults to only 1e3)\n",
    "                                      ks=[1,2,3,4,5,6,7,8,9,10,11,12,13,14,15,16,17,18,19,20] # I asked the method to consider up to 10 PCs because\n",
    "                                                                #it chose the max number of PCs it considered the default set of [1,2,3,4]\n",
    "                                     )\n",
    "print(res.k)\n",
    "print(res.ks)\n",
    "print('p =', res.p, ',', res.k, 'PCs used')\n",
    "print('total r^2 between top {} NAM PCs and outcome is {:.2f}'.format(res.k, res.r2))"
   ]
  },
  {
   "cell_type": "markdown",
   "id": "80b0f682-52dc-44be-a54b-c30ef457ceae",
   "metadata": {},
   "source": [
    "# RESPONSE"
   ]
  },
  {
   "cell_type": "markdown",
   "id": "ae2732cd-4b51-48b9-9eaa-d6c4c84919db",
   "metadata": {},
   "source": [
    "## Single Cell"
   ]
  },
  {
   "cell_type": "code",
   "execution_count": 26,
   "id": "9aad0476-c9cd-4731-bad1-ca5a2b9ec585",
   "metadata": {},
   "outputs": [
    {
     "name": "stdout",
     "output_type": "stream",
     "text": [
      "(75287, 10)\n"
     ]
    }
   ],
   "source": [
    "meta = pd.read_csv('/data/srlab/ssg34/SLE_kidney_v2/data/cna_new/DN/age_sex_response_race/sc_meta_response.csv')\n",
    "print(meta.shape)"
   ]
  },
  {
   "cell_type": "code",
   "execution_count": 27,
   "id": "255f0aa6-614d-4b84-afb2-c2963f88cb93",
   "metadata": {},
   "outputs": [
    {
     "name": "stdout",
     "output_type": "stream",
     "text": [
      "(75287, 20)\n"
     ]
    }
   ],
   "source": [
    "harmony = pd.read_csv('/data/srlab/ssg34/SLE_kidney_v2/data/cna_new/DN/age_sex_response_race/sc_harmony_response.csv')\n",
    "print(harmony.shape)"
   ]
  },
  {
   "cell_type": "code",
   "execution_count": 28,
   "id": "fc9f22b0-3489-4584-9166-f42d4902c599",
   "metadata": {},
   "outputs": [
    {
     "name": "stdout",
     "output_type": "stream",
     "text": [
      "(75287, 2)\n"
     ]
    }
   ],
   "source": [
    "umap = pd.read_csv('/data/srlab/ssg34/SLE_kidney_v2/data/cna_new/DN/age_sex_response_race/sc_umap_response.csv')\n",
    "print(umap.shape)"
   ]
  },
  {
   "cell_type": "code",
   "execution_count": 29,
   "id": "a5377c62-e2c2-4750-9ab9-b2e2e9dbe3a5",
   "metadata": {},
   "outputs": [
    {
     "name": "stdout",
     "output_type": "stream",
     "text": [
      "warning: the following columns of obs are non-numeric.\n",
      "['cell' 'Sex' 'sample' 'cluster_names' 'Responder.Status' 'Race' 'ISN'\n",
      " 'Type']\n",
      "consider casting to numeric types where appropriate, and\n",
      "consider re-coding text-valued columns with pandas.get_dummies\n"
     ]
    },
    {
     "name": "stderr",
     "output_type": "stream",
     "text": [
      "/PHShome/ssg34/.conda/envs/plswork/lib/python3.9/site-packages/multianndata/core.py:17: FutureWarning: X.dtype being converted to np.float32 from float64. In the next version of anndata (0.9) conversion will not be automatic. Pass dtype explicitly to avoid this warning. Pass `AnnData(X, dtype=X.dtype, ...)` to get the future behavour.\n",
      "  super().__init__(*args, **kwargs)\n",
      "/PHShome/ssg34/.conda/envs/plswork/lib/python3.9/site-packages/anndata/_core/anndata.py:121: ImplicitModificationWarning: Transforming to str index.\n",
      "  warnings.warn(\"Transforming to str index.\", ImplicitModificationWarning)\n"
     ]
    },
    {
     "data": {
      "text/html": [
       "<div>\n",
       "<style scoped>\n",
       "    .dataframe tbody tr th:only-of-type {\n",
       "        vertical-align: middle;\n",
       "    }\n",
       "\n",
       "    .dataframe tbody tr th {\n",
       "        vertical-align: top;\n",
       "    }\n",
       "\n",
       "    .dataframe thead th {\n",
       "        text-align: right;\n",
       "    }\n",
       "</style>\n",
       "<table border=\"1\" class=\"dataframe\">\n",
       "  <thead>\n",
       "    <tr style=\"text-align: right;\">\n",
       "      <th></th>\n",
       "      <th>Responder_Status</th>\n",
       "    </tr>\n",
       "    <tr>\n",
       "      <th>sample</th>\n",
       "      <th></th>\n",
       "    </tr>\n",
       "  </thead>\n",
       "  <tbody>\n",
       "    <tr>\n",
       "      <th>AMPSLEkid_cells_2748</th>\n",
       "      <td>0.0</td>\n",
       "    </tr>\n",
       "    <tr>\n",
       "      <th>AMPSLEkid_cells_0148</th>\n",
       "      <td>1.0</td>\n",
       "    </tr>\n",
       "    <tr>\n",
       "      <th>AMPSLEkid_cells_1639</th>\n",
       "      <td>1.0</td>\n",
       "    </tr>\n",
       "    <tr>\n",
       "      <th>AMPSLEkid_cells_0377</th>\n",
       "      <td>1.0</td>\n",
       "    </tr>\n",
       "    <tr>\n",
       "      <th>AMPSLEkid_cells_1142</th>\n",
       "      <td>0.0</td>\n",
       "    </tr>\n",
       "  </tbody>\n",
       "</table>\n",
       "</div>"
      ],
      "text/plain": [
       "                      Responder_Status\n",
       "sample                                \n",
       "AMPSLEkid_cells_2748               0.0\n",
       "AMPSLEkid_cells_0148               1.0\n",
       "AMPSLEkid_cells_1639               1.0\n",
       "AMPSLEkid_cells_0377               1.0\n",
       "AMPSLEkid_cells_1142               0.0"
      ]
     },
     "execution_count": 29,
     "metadata": {},
     "output_type": "execute_result"
    }
   ],
   "source": [
    "# Start by making anndata object\n",
    "d = mad.MultiAnnData(X=harmony, obs=meta, sampleid=\"sample\")\n",
    "#d.obs_to_sample(['Type', 'Site',\n",
    "#                 'Responder_Status', 'Sex',\n",
    "#                 'Age', 'Race',\n",
    "#                'Ethnicity', 'ISN',\n",
    "#               'Activity', \"Chronicity\",\n",
    "#                 'processing_batch'])\n",
    "d.obs_to_sample(['Responder_Status'])\n",
    "d.samplem.head()"
   ]
  },
  {
   "cell_type": "code",
   "execution_count": 30,
   "id": "9f045d02-034c-4a87-90c0-bb4fbd85124f",
   "metadata": {},
   "outputs": [],
   "source": [
    "umap.index = d.obs.index\n",
    "d.obsm['X_umap'] = umap"
   ]
  },
  {
   "cell_type": "code",
   "execution_count": 31,
   "id": "fca8085b-aa98-41a0-acec-4abb54dde414",
   "metadata": {},
   "outputs": [
    {
     "name": "stdout",
     "output_type": "stream",
     "text": [
      "computing default knn graph\n"
     ]
    }
   ],
   "source": [
    "np.random.seed(0) \n",
    "cna.pp.knn(d)"
   ]
  },
  {
   "cell_type": "code",
   "execution_count": 32,
   "id": "531b6e36-bc64-4639-a72d-dc6fe95822d4",
   "metadata": {},
   "outputs": [
    {
     "name": "stdout",
     "output_type": "stream",
     "text": [
      "qcd NAM not found; computing and saving\n",
      "\ttaking step 1\n",
      "\tmedian kurtosis: 40.22004699707031\n",
      "\t20th percentile R2(t,t-1): nan\n",
      "\ttaking step 2\n",
      "\tmedian kurtosis: 27.479278564453125\n",
      "\t20th percentile R2(t,t-1): 0.7913006544113159\n",
      "\ttaking step 3\n",
      "\tmedian kurtosis: 19.07167625427246\n",
      "\t20th percentile R2(t,t-1): 0.9234589338302612\n",
      "\ttaking step 4\n",
      "\tmedian kurtosis: 14.223419189453125\n",
      "\t20th percentile R2(t,t-1): 0.9550284743309021\n",
      "\ttaking step 5\n",
      "\tmedian kurtosis: 11.362435340881348\n",
      "\t20th percentile R2(t,t-1): 0.9707659482955933\n",
      "stopping after 5 steps\n",
      "covariate-adjusted NAM not found; computing and saving\n"
     ]
    },
    {
     "name": "stderr",
     "output_type": "stream",
     "text": [
      "/PHShome/ssg34/.conda/envs/plswork/lib/python3.9/site-packages/cna/tools/_nam.py:79: UserWarning: only one unique batch supplied to qc\n",
      "  warnings.warn('only one unique batch supplied to qc')\n",
      "/PHShome/ssg34/.conda/envs/plswork/lib/python3.9/site-packages/cna/tools/_nam.py:101: UserWarning: only one unique batch supplied to prep\n",
      "  warnings.warn('only one unique batch supplied to prep')\n"
     ]
    },
    {
     "name": "stdout",
     "output_type": "stream",
     "text": [
      "computing SVD\n",
      "performing association test\n",
      "computing neighborhood-level FDRs\n",
      "18\n",
      "[1, 2, 3, 4, 5, 6, 7, 8, 9, 10, 11, 12, 13, 14, 15, 16, 17, 18, 19, 20]\n",
      "p = 0.2625737426257374 , 18 PCs used\n",
      "total r^2 between top 18 NAM PCs and outcome is 0.20\n"
     ]
    }
   ],
   "source": [
    "np.random.seed(0) \n",
    "res = cna.tl._association.association(d, #dataset \n",
    "                                      d.samplem.Responder_Status, #phenotype\n",
    "#                                       batches=d.samplem.processing_batch, #batches\n",
    "                                      Nnull=10000, # number of null permutations to do (defaults to only 1e3)\n",
    "                                      ks=[1,2,3,4,5,6,7,8,9,10,11,12,13,14,15,16,17,18,19,20] # I asked the method to consider up to 10 PCs because\n",
    "                                                                #it chose the max number of PCs it considered the default set of [1,2,3,4]\n",
    "                                     )\n",
    "print(res.k)\n",
    "print(res.ks)\n",
    "print('p =', res.p, ',', res.k, 'PCs used')\n",
    "print('total r^2 between top {} NAM PCs and outcome is {:.2f}'.format(res.k, res.r2))"
   ]
  },
  {
   "cell_type": "markdown",
   "id": "0b540bb8-e866-427a-b41a-5b723fee8f03",
   "metadata": {},
   "source": [
    "# RACE"
   ]
  },
  {
   "cell_type": "markdown",
   "id": "ae6bd69a-dae7-481e-9d35-724d31ef8daf",
   "metadata": {},
   "source": [
    "## Single Cell"
   ]
  },
  {
   "cell_type": "code",
   "execution_count": 33,
   "id": "c8f7bb2c-8ec1-44b2-a3d1-3d405caa5c2c",
   "metadata": {},
   "outputs": [
    {
     "name": "stdout",
     "output_type": "stream",
     "text": [
      "(91794, 16)\n"
     ]
    }
   ],
   "source": [
    "meta = pd.read_csv('/data/srlab/ssg34/SLE_kidney_v2/data/cna_new/DN/age_sex_response_race/sc_meta_race.csv')\n",
    "print(meta.shape)"
   ]
  },
  {
   "cell_type": "code",
   "execution_count": 34,
   "id": "50b59d44-5ce6-44be-bf56-3ba5e3b80317",
   "metadata": {},
   "outputs": [
    {
     "name": "stdout",
     "output_type": "stream",
     "text": [
      "(91794, 20)\n"
     ]
    }
   ],
   "source": [
    "harmony = pd.read_csv('/data/srlab/ssg34/SLE_kidney_v2/data/cna_new/DN/age_sex_response_race/sc_harmony_race.csv')\n",
    "print(harmony.shape)"
   ]
  },
  {
   "cell_type": "code",
   "execution_count": 35,
   "id": "4101b691-9e8b-4f7d-9996-bd4fee8de78e",
   "metadata": {},
   "outputs": [
    {
     "name": "stdout",
     "output_type": "stream",
     "text": [
      "(91794, 2)\n"
     ]
    }
   ],
   "source": [
    "umap = pd.read_csv('/data/srlab/ssg34/SLE_kidney_v2/data/cna_new/DN/age_sex_response_race/sc_umap_race.csv')\n",
    "print(umap.shape)"
   ]
  },
  {
   "cell_type": "code",
   "execution_count": 36,
   "id": "b2820d58-d5e6-49a0-a9ff-f4c7f2c66a9e",
   "metadata": {},
   "outputs": [
    {
     "name": "stdout",
     "output_type": "stream",
     "text": [
      "warning: the following columns of obs are non-numeric.\n",
      "['cell' 'Sex' 'sample' 'cluster_names' 'Responder.Status' 'Race' 'ISN'\n",
      " 'Type']\n",
      "consider casting to numeric types where appropriate, and\n",
      "consider re-coding text-valued columns with pandas.get_dummies\n"
     ]
    },
    {
     "name": "stderr",
     "output_type": "stream",
     "text": [
      "/PHShome/ssg34/.conda/envs/plswork/lib/python3.9/site-packages/multianndata/core.py:17: FutureWarning: X.dtype being converted to np.float32 from float64. In the next version of anndata (0.9) conversion will not be automatic. Pass dtype explicitly to avoid this warning. Pass `AnnData(X, dtype=X.dtype, ...)` to get the future behavour.\n",
      "  super().__init__(*args, **kwargs)\n",
      "/PHShome/ssg34/.conda/envs/plswork/lib/python3.9/site-packages/anndata/_core/anndata.py:121: ImplicitModificationWarning: Transforming to str index.\n",
      "  warnings.warn(\"Transforming to str index.\", ImplicitModificationWarning)\n"
     ]
    },
    {
     "data": {
      "text/html": [
       "<div>\n",
       "<style scoped>\n",
       "    .dataframe tbody tr th:only-of-type {\n",
       "        vertical-align: middle;\n",
       "    }\n",
       "\n",
       "    .dataframe tbody tr th {\n",
       "        vertical-align: top;\n",
       "    }\n",
       "\n",
       "    .dataframe thead th {\n",
       "        text-align: right;\n",
       "    }\n",
       "</style>\n",
       "<table border=\"1\" class=\"dataframe\">\n",
       "  <thead>\n",
       "    <tr style=\"text-align: right;\">\n",
       "      <th></th>\n",
       "      <th>Race_[A]</th>\n",
       "      <th>Race_[A][B]</th>\n",
       "      <th>Race_[B]</th>\n",
       "      <th>Race_[B][AI]</th>\n",
       "      <th>Race_[B][W]</th>\n",
       "      <th>Race_[U]</th>\n",
       "      <th>Race_[W]</th>\n",
       "    </tr>\n",
       "    <tr>\n",
       "      <th>sample</th>\n",
       "      <th></th>\n",
       "      <th></th>\n",
       "      <th></th>\n",
       "      <th></th>\n",
       "      <th></th>\n",
       "      <th></th>\n",
       "      <th></th>\n",
       "    </tr>\n",
       "  </thead>\n",
       "  <tbody>\n",
       "    <tr>\n",
       "      <th>AMPSLEkid_cells_2748</th>\n",
       "      <td>0.0</td>\n",
       "      <td>0.0</td>\n",
       "      <td>1.0</td>\n",
       "      <td>0.0</td>\n",
       "      <td>0.0</td>\n",
       "      <td>0.0</td>\n",
       "      <td>0.0</td>\n",
       "    </tr>\n",
       "    <tr>\n",
       "      <th>AMPSLEkid_cells_0148</th>\n",
       "      <td>0.0</td>\n",
       "      <td>0.0</td>\n",
       "      <td>0.0</td>\n",
       "      <td>0.0</td>\n",
       "      <td>0.0</td>\n",
       "      <td>0.0</td>\n",
       "      <td>1.0</td>\n",
       "    </tr>\n",
       "    <tr>\n",
       "      <th>AMPSLEkid_cells_1639</th>\n",
       "      <td>0.0</td>\n",
       "      <td>0.0</td>\n",
       "      <td>1.0</td>\n",
       "      <td>0.0</td>\n",
       "      <td>0.0</td>\n",
       "      <td>0.0</td>\n",
       "      <td>0.0</td>\n",
       "    </tr>\n",
       "    <tr>\n",
       "      <th>AMPSLEkid_cells_0377</th>\n",
       "      <td>1.0</td>\n",
       "      <td>0.0</td>\n",
       "      <td>0.0</td>\n",
       "      <td>0.0</td>\n",
       "      <td>0.0</td>\n",
       "      <td>0.0</td>\n",
       "      <td>0.0</td>\n",
       "    </tr>\n",
       "    <tr>\n",
       "      <th>AMPSLEkid_cells_0850</th>\n",
       "      <td>0.0</td>\n",
       "      <td>0.0</td>\n",
       "      <td>1.0</td>\n",
       "      <td>0.0</td>\n",
       "      <td>0.0</td>\n",
       "      <td>0.0</td>\n",
       "      <td>0.0</td>\n",
       "    </tr>\n",
       "  </tbody>\n",
       "</table>\n",
       "</div>"
      ],
      "text/plain": [
       "                      Race_[A]  Race_[A][B]  Race_[B]  Race_[B][AI]  \\\n",
       "sample                                                                \n",
       "AMPSLEkid_cells_2748       0.0          0.0       1.0           0.0   \n",
       "AMPSLEkid_cells_0148       0.0          0.0       0.0           0.0   \n",
       "AMPSLEkid_cells_1639       0.0          0.0       1.0           0.0   \n",
       "AMPSLEkid_cells_0377       1.0          0.0       0.0           0.0   \n",
       "AMPSLEkid_cells_0850       0.0          0.0       1.0           0.0   \n",
       "\n",
       "                      Race_[B][W]  Race_[U]  Race_[W]  \n",
       "sample                                                 \n",
       "AMPSLEkid_cells_2748          0.0       0.0       0.0  \n",
       "AMPSLEkid_cells_0148          0.0       0.0       1.0  \n",
       "AMPSLEkid_cells_1639          0.0       0.0       0.0  \n",
       "AMPSLEkid_cells_0377          0.0       0.0       0.0  \n",
       "AMPSLEkid_cells_0850          0.0       0.0       0.0  "
      ]
     },
     "execution_count": 36,
     "metadata": {},
     "output_type": "execute_result"
    }
   ],
   "source": [
    "# Start by making anndata object\n",
    "d = mad.MultiAnnData(X=harmony, obs=meta, sampleid=\"sample\")\n",
    "#d.obs_to_sample(['Type', 'Site',\n",
    "#                 'Responder_Status', 'Sex',\n",
    "#                 'Age', 'Race',\n",
    "#                'Ethnicity', 'ISN',\n",
    "#               'Activity', \"Chronicity\",\n",
    "#                 'processing_batch'])\n",
    "d.obs_to_sample(['Race_[A]', 'Race_[A][B]', 'Race_[B]', \n",
    "                 'Race_[B][AI]', 'Race_[B][W]', 'Race_[U]', 'Race_[W]'])\n",
    "d.samplem.head()"
   ]
  },
  {
   "cell_type": "code",
   "execution_count": 37,
   "id": "95fc6ff0-1c10-48f9-8d1b-b1f4f64508ae",
   "metadata": {},
   "outputs": [],
   "source": [
    "umap.index = d.obs.index\n",
    "d.obsm['X_umap'] = umap"
   ]
  },
  {
   "cell_type": "code",
   "execution_count": 38,
   "id": "647834b3-69e1-46dd-88e7-96b2563f306d",
   "metadata": {},
   "outputs": [
    {
     "name": "stdout",
     "output_type": "stream",
     "text": [
      "computing default knn graph\n"
     ]
    }
   ],
   "source": [
    "np.random.seed(0) \n",
    "cna.pp.knn(d)"
   ]
  },
  {
   "cell_type": "code",
   "execution_count": 39,
   "id": "4ccff1dc-9efc-42c1-9bdf-6d1eb42a99c9",
   "metadata": {},
   "outputs": [
    {
     "name": "stdout",
     "output_type": "stream",
     "text": [
      "qcd NAM not found; computing and saving\n",
      "\ttaking step 1\n",
      "\tmedian kurtosis: 49.091880798339844\n",
      "\t20th percentile R2(t,t-1): nan\n",
      "\ttaking step 2\n",
      "\tmedian kurtosis: 33.26131248474121\n",
      "\t20th percentile R2(t,t-1): 0.7894942760467529\n",
      "\ttaking step 3\n",
      "\tmedian kurtosis: 22.813119888305664\n",
      "\t20th percentile R2(t,t-1): 0.9220971465110779\n",
      "\ttaking step 4\n",
      "\tmedian kurtosis: 16.663640022277832\n",
      "\t20th percentile R2(t,t-1): 0.9542869925498962\n",
      "\ttaking step 5\n",
      "\tmedian kurtosis: 13.027698516845703\n",
      "\t20th percentile R2(t,t-1): 0.9693898558616638\n",
      "\ttaking step 6\n",
      "\tmedian kurtosis: 10.858315467834473\n",
      "\t20th percentile R2(t,t-1): 0.9789156913757324\n",
      "stopping after 6 steps\n",
      "covariate-adjusted NAM not found; computing and saving\n"
     ]
    },
    {
     "name": "stderr",
     "output_type": "stream",
     "text": [
      "/PHShome/ssg34/.conda/envs/plswork/lib/python3.9/site-packages/cna/tools/_nam.py:79: UserWarning: only one unique batch supplied to qc\n",
      "  warnings.warn('only one unique batch supplied to qc')\n",
      "/PHShome/ssg34/.conda/envs/plswork/lib/python3.9/site-packages/cna/tools/_nam.py:101: UserWarning: only one unique batch supplied to prep\n",
      "  warnings.warn('only one unique batch supplied to prep')\n"
     ]
    },
    {
     "name": "stdout",
     "output_type": "stream",
     "text": [
      "computing SVD\n",
      "performing association test\n",
      "computing neighborhood-level FDRs\n",
      "11\n",
      "[1, 2, 3, 4, 5, 6, 7, 8, 9, 10, 11, 12, 13, 14, 15, 16, 17, 18, 19, 20]\n",
      "p = 0.3096690330966903 , 11 PCs used\n",
      "total r^2 between top 11 NAM PCs and outcome is 0.11\n"
     ]
    }
   ],
   "source": [
    "np.random.seed(0) \n",
    "res = cna.tl._association.association(d, #dataset \n",
    "                                      d.samplem['Race_[A]'], #phenotype\n",
    "#                                       batches=d.samplem.processing_batch, #batches\n",
    "                                      Nnull=10000, # number of null permutations to do (defaults to only 1e3)\n",
    "                                      ks=[1,2,3,4,5,6,7,8,9,10,11,12,13,14,15,16,17,18,19,20] # I asked the method to consider up to 10 PCs because\n",
    "                                                                #it chose the max number of PCs it considered the default set of [1,2,3,4]\n",
    "                                     )\n",
    "print(res.k)\n",
    "print(res.ks)\n",
    "print('p =', res.p, ',', res.k, 'PCs used')\n",
    "print('total r^2 between top {} NAM PCs and outcome is {:.2f}'.format(res.k, res.r2))"
   ]
  },
  {
   "cell_type": "code",
   "execution_count": 40,
   "id": "5645d2d0-43c9-4c63-bb88-e63e89859f90",
   "metadata": {},
   "outputs": [
    {
     "name": "stdout",
     "output_type": "stream",
     "text": [
      "performing association test\n",
      "computing neighborhood-level FDRs\n",
      "17\n",
      "[1, 2, 3, 4, 5, 6, 7, 8, 9, 10, 11, 12, 13, 14, 15, 16, 17, 18, 19, 20]\n",
      "p = 0.1085891410858914 , 17 PCs used\n",
      "total r^2 between top 17 NAM PCs and outcome is 0.21\n"
     ]
    }
   ],
   "source": [
    "np.random.seed(0) \n",
    "res = cna.tl._association.association(d, #dataset \n",
    "                                      d.samplem['Race_[A][B]'], #phenotype\n",
    "#                                       batches=d.samplem.processing_batch, #batches\n",
    "                                      Nnull=10000, # number of null permutations to do (defaults to only 1e3)\n",
    "                                      ks=[1,2,3,4,5,6,7,8,9,10,11,12,13,14,15,16,17,18,19,20] # I asked the method to consider up to 10 PCs because\n",
    "                                                                #it chose the max number of PCs it considered the default set of [1,2,3,4]\n",
    "                                     )\n",
    "print(res.k)\n",
    "print(res.ks)\n",
    "print('p =', res.p, ',', res.k, 'PCs used')\n",
    "print('total r^2 between top {} NAM PCs and outcome is {:.2f}'.format(res.k, res.r2))"
   ]
  },
  {
   "cell_type": "code",
   "execution_count": 41,
   "id": "7976463c-4141-472f-8c57-623dcd50d2fb",
   "metadata": {},
   "outputs": [
    {
     "name": "stdout",
     "output_type": "stream",
     "text": [
      "performing association test\n",
      "computing neighborhood-level FDRs\n",
      "16\n",
      "[1, 2, 3, 4, 5, 6, 7, 8, 9, 10, 11, 12, 13, 14, 15, 16, 17, 18, 19, 20]\n",
      "p = 0.007599240075992401 , 16 PCs used\n",
      "total r^2 between top 16 NAM PCs and outcome is 0.22\n"
     ]
    }
   ],
   "source": [
    "np.random.seed(0) \n",
    "res = cna.tl._association.association(d, #dataset \n",
    "                                      d.samplem['Race_[B]'], #phenotype\n",
    "#                                       batches=d.samplem.processing_batch, #batches\n",
    "                                      Nnull=10000, # number of null permutations to do (defaults to only 1e3)\n",
    "                                      ks=[1,2,3,4,5,6,7,8,9,10,11,12,13,14,15,16,17,18,19,20] # I asked the method to consider up to 10 PCs because\n",
    "                                                                #it chose the max number of PCs it considered the default set of [1,2,3,4]\n",
    "                                     )\n",
    "print(res.k)\n",
    "print(res.ks)\n",
    "print('p =', res.p, ',', res.k, 'PCs used')\n",
    "print('total r^2 between top {} NAM PCs and outcome is {:.2f}'.format(res.k, res.r2))"
   ]
  },
  {
   "cell_type": "code",
   "execution_count": 42,
   "id": "94fa5b6b-2370-43f1-ae7f-78ee56f3e779",
   "metadata": {},
   "outputs": [],
   "source": [
    "np.savetxt(\"/data/srlab/ssg34/SLE_kidney_v2/data/cna_new/DN/age_sex_response_race/sc_race_[B]_ncorr.csv\", \n",
    "               res.ncorrs, delimiter=\",\")\n",
    "np.savetxt(\"/data/srlab/ssg34/SLE_kidney_v2/data/cna_new/DN/age_sex_response_race/sc_race_[B]_fdrs.csv\", \n",
    "               res.fdrs, delimiter=\",\")"
   ]
  },
  {
   "cell_type": "code",
   "execution_count": 43,
   "id": "a45d668d-1669-4373-bbd7-67f93f5ffa1e",
   "metadata": {},
   "outputs": [
    {
     "name": "stdout",
     "output_type": "stream",
     "text": [
      "performing association test\n",
      "computing neighborhood-level FDRs\n",
      "1\n",
      "[1, 2, 3, 4, 5, 6, 7, 8, 9, 10, 11, 12, 13, 14, 15, 16, 17, 18, 19, 20]\n",
      "p = 0.8143185681431857 , 1 PCs used\n",
      "total r^2 between top 1 NAM PCs and outcome is 0.00\n"
     ]
    }
   ],
   "source": [
    "np.random.seed(0) \n",
    "res = cna.tl._association.association(d, #dataset \n",
    "                                      d.samplem['Race_[B][AI]'], #phenotype\n",
    "#                                       batches=d.samplem.processing_batch, #batches\n",
    "                                      Nnull=10000, # number of null permutations to do (defaults to only 1e3)\n",
    "                                      ks=[1,2,3,4,5,6,7,8,9,10,11,12,13,14,15,16,17,18,19,20] # I asked the method to consider up to 10 PCs because\n",
    "                                                                #it chose the max number of PCs it considered the default set of [1,2,3,4]\n",
    "                                     )\n",
    "print(res.k)\n",
    "print(res.ks)\n",
    "print('p =', res.p, ',', res.k, 'PCs used')\n",
    "print('total r^2 between top {} NAM PCs and outcome is {:.2f}'.format(res.k, res.r2))"
   ]
  },
  {
   "cell_type": "code",
   "execution_count": 44,
   "id": "df706320-3fab-4b84-b342-011899d5b1ae",
   "metadata": {},
   "outputs": [
    {
     "name": "stdout",
     "output_type": "stream",
     "text": [
      "performing association test\n",
      "computing neighborhood-level FDRs\n",
      "10\n",
      "[1, 2, 3, 4, 5, 6, 7, 8, 9, 10, 11, 12, 13, 14, 15, 16, 17, 18, 19, 20]\n",
      "p = 0.38616138386161386 , 10 PCs used\n",
      "total r^2 between top 10 NAM PCs and outcome is 0.09\n"
     ]
    }
   ],
   "source": [
    "np.random.seed(0) \n",
    "res = cna.tl._association.association(d, #dataset \n",
    "                                      d.samplem['Race_[B][W]'], #phenotype\n",
    "#                                       batches=d.samplem.processing_batch, #batches\n",
    "                                      Nnull=10000, # number of null permutations to do (defaults to only 1e3)\n",
    "                                      ks=[1,2,3,4,5,6,7,8,9,10,11,12,13,14,15,16,17,18,19,20] # I asked the method to consider up to 10 PCs because\n",
    "                                                                #it chose the max number of PCs it considered the default set of [1,2,3,4]\n",
    "                                     )\n",
    "print(res.k)\n",
    "print(res.ks)\n",
    "print('p =', res.p, ',', res.k, 'PCs used')\n",
    "print('total r^2 between top {} NAM PCs and outcome is {:.2f}'.format(res.k, res.r2))"
   ]
  },
  {
   "cell_type": "code",
   "execution_count": 45,
   "id": "60990799-b66b-4d9e-86e4-29d50fc2bbcb",
   "metadata": {},
   "outputs": [
    {
     "name": "stdout",
     "output_type": "stream",
     "text": [
      "performing association test\n",
      "computing neighborhood-level FDRs\n",
      "16\n",
      "[1, 2, 3, 4, 5, 6, 7, 8, 9, 10, 11, 12, 13, 14, 15, 16, 17, 18, 19, 20]\n",
      "p = 0.37396260373962603 , 16 PCs used\n",
      "total r^2 between top 16 NAM PCs and outcome is 0.14\n"
     ]
    }
   ],
   "source": [
    "np.random.seed(0) \n",
    "res = cna.tl._association.association(d, #dataset \n",
    "                                      d.samplem['Race_[U]'], #phenotype\n",
    "#                                       batches=d.samplem.processing_batch, #batches\n",
    "                                      Nnull=10000, # number of null permutations to do (defaults to only 1e3)\n",
    "                                      ks=[1,2,3,4,5,6,7,8,9,10,11,12,13,14,15,16,17,18,19,20] # I asked the method to consider up to 10 PCs because\n",
    "                                                                #it chose the max number of PCs it considered the default set of [1,2,3,4]\n",
    "                                     )\n",
    "print(res.k)\n",
    "print(res.ks)\n",
    "print('p =', res.p, ',', res.k, 'PCs used')\n",
    "print('total r^2 between top {} NAM PCs and outcome is {:.2f}'.format(res.k, res.r2))"
   ]
  },
  {
   "cell_type": "code",
   "execution_count": 46,
   "id": "12ea79a9-b3bb-4973-a967-1d5da7736016",
   "metadata": {},
   "outputs": [
    {
     "name": "stdout",
     "output_type": "stream",
     "text": [
      "performing association test\n",
      "computing neighborhood-level FDRs\n",
      "6\n",
      "[1, 2, 3, 4, 5, 6, 7, 8, 9, 10, 11, 12, 13, 14, 15, 16, 17, 18, 19, 20]\n",
      "p = 0.03799620037996201 , 6 PCs used\n",
      "total r^2 between top 6 NAM PCs and outcome is 0.11\n"
     ]
    }
   ],
   "source": [
    "np.random.seed(0) \n",
    "res = cna.tl._association.association(d, #dataset \n",
    "                                      d.samplem['Race_[W]'], #phenotype\n",
    "#                                       batches=d.samplem.processing_batch, #batches\n",
    "                                      Nnull=10000, # number of null permutations to do (defaults to only 1e3)\n",
    "                                      ks=[1,2,3,4,5,6,7,8,9,10,11,12,13,14,15,16,17,18,19,20] # I asked the method to consider up to 10 PCs because\n",
    "                                                                #it chose the max number of PCs it considered the default set of [1,2,3,4]\n",
    "                                     )\n",
    "print(res.k)\n",
    "print(res.ks)\n",
    "print('p =', res.p, ',', res.k, 'PCs used')\n",
    "print('total r^2 between top {} NAM PCs and outcome is {:.2f}'.format(res.k, res.r2))"
   ]
  },
  {
   "cell_type": "code",
   "execution_count": 47,
   "id": "ae3fe33a-6192-4d9f-832f-dd47d211ad54",
   "metadata": {},
   "outputs": [],
   "source": [
    "np.savetxt(\"/data/srlab/ssg34/SLE_kidney_v2/data/cna_new/DN/age_sex_response_race/sc_race_[W]_ncorr.csv\", \n",
    "               res.ncorrs, delimiter=\",\")\n",
    "np.savetxt(\"/data/srlab/ssg34/SLE_kidney_v2/data/cna_new/DN/age_sex_response_race/sc_race_[W]_fdrs.csv\", \n",
    "               res.fdrs, delimiter=\",\")"
   ]
  },
  {
   "cell_type": "markdown",
   "id": "2b0ebb5c-57f2-47a7-bad4-6418c56e75e6",
   "metadata": {},
   "source": [
    "## Single Nuclei"
   ]
  },
  {
   "cell_type": "code",
   "execution_count": 48,
   "id": "dcddf624-7462-4e88-bf97-0676f03dcd8b",
   "metadata": {},
   "outputs": [
    {
     "name": "stdout",
     "output_type": "stream",
     "text": [
      "(25927, 13)\n"
     ]
    }
   ],
   "source": [
    "meta = pd.read_csv('/data/srlab/ssg34/SLE_kidney_v2/data/cna_new/DN/age_sex_response_race/sn_meta_race.csv')\n",
    "print(meta.shape)"
   ]
  },
  {
   "cell_type": "code",
   "execution_count": 49,
   "id": "9f008dbf-d14c-49cb-ac88-c41a728dbfc8",
   "metadata": {},
   "outputs": [
    {
     "name": "stdout",
     "output_type": "stream",
     "text": [
      "(25927, 20)\n"
     ]
    }
   ],
   "source": [
    "harmony = pd.read_csv('/data/srlab/ssg34/SLE_kidney_v2/data/cna_new/DN/age_sex_response_race/sn_harmony_race.csv')\n",
    "print(harmony.shape)"
   ]
  },
  {
   "cell_type": "code",
   "execution_count": 50,
   "id": "cf83f275-d22b-4d80-9443-a300806adbec",
   "metadata": {},
   "outputs": [
    {
     "name": "stdout",
     "output_type": "stream",
     "text": [
      "(25927, 2)\n"
     ]
    }
   ],
   "source": [
    "umap = pd.read_csv('/data/srlab/ssg34/SLE_kidney_v2/data/cna_new/DN/age_sex_response_race/sn_umap_race.csv')\n",
    "print(umap.shape)"
   ]
  },
  {
   "cell_type": "code",
   "execution_count": 51,
   "id": "f097c293-476e-4ba2-866c-32bf34576433",
   "metadata": {},
   "outputs": [
    {
     "name": "stdout",
     "output_type": "stream",
     "text": [
      "warning: the following columns of obs are non-numeric.\n",
      "['cell' 'Sex' 'sample' 'cluster_names' 'Responder.Status' 'Race' 'ISN'\n",
      " 'Type']\n",
      "consider casting to numeric types where appropriate, and\n",
      "consider re-coding text-valued columns with pandas.get_dummies\n"
     ]
    },
    {
     "name": "stderr",
     "output_type": "stream",
     "text": [
      "/PHShome/ssg34/.conda/envs/plswork/lib/python3.9/site-packages/multianndata/core.py:17: FutureWarning: X.dtype being converted to np.float32 from float64. In the next version of anndata (0.9) conversion will not be automatic. Pass dtype explicitly to avoid this warning. Pass `AnnData(X, dtype=X.dtype, ...)` to get the future behavour.\n",
      "  super().__init__(*args, **kwargs)\n",
      "/PHShome/ssg34/.conda/envs/plswork/lib/python3.9/site-packages/anndata/_core/anndata.py:121: ImplicitModificationWarning: Transforming to str index.\n",
      "  warnings.warn(\"Transforming to str index.\", ImplicitModificationWarning)\n"
     ]
    },
    {
     "data": {
      "text/html": [
       "<div>\n",
       "<style scoped>\n",
       "    .dataframe tbody tr th:only-of-type {\n",
       "        vertical-align: middle;\n",
       "    }\n",
       "\n",
       "    .dataframe tbody tr th {\n",
       "        vertical-align: top;\n",
       "    }\n",
       "\n",
       "    .dataframe thead th {\n",
       "        text-align: right;\n",
       "    }\n",
       "</style>\n",
       "<table border=\"1\" class=\"dataframe\">\n",
       "  <thead>\n",
       "    <tr style=\"text-align: right;\">\n",
       "      <th></th>\n",
       "      <th>Race_[A]</th>\n",
       "      <th>Race_[B]</th>\n",
       "      <th>Race_[U]</th>\n",
       "      <th>Race_[W]</th>\n",
       "    </tr>\n",
       "    <tr>\n",
       "      <th>sample</th>\n",
       "      <th></th>\n",
       "      <th></th>\n",
       "      <th></th>\n",
       "      <th></th>\n",
       "    </tr>\n",
       "  </thead>\n",
       "  <tbody>\n",
       "    <tr>\n",
       "      <th>AMPSLEkid_cells_0137</th>\n",
       "      <td>0.0</td>\n",
       "      <td>1.0</td>\n",
       "      <td>0.0</td>\n",
       "      <td>0.0</td>\n",
       "    </tr>\n",
       "    <tr>\n",
       "      <th>AMPSLEkid_cells_1131</th>\n",
       "      <td>0.0</td>\n",
       "      <td>0.0</td>\n",
       "      <td>0.0</td>\n",
       "      <td>1.0</td>\n",
       "    </tr>\n",
       "    <tr>\n",
       "      <th>AMPSLEkid_cells_1136</th>\n",
       "      <td>0.0</td>\n",
       "      <td>0.0</td>\n",
       "      <td>0.0</td>\n",
       "      <td>1.0</td>\n",
       "    </tr>\n",
       "    <tr>\n",
       "      <th>AMPSLEkid_cells_1150</th>\n",
       "      <td>1.0</td>\n",
       "      <td>0.0</td>\n",
       "      <td>0.0</td>\n",
       "      <td>0.0</td>\n",
       "    </tr>\n",
       "    <tr>\n",
       "      <th>AMPSLEkid_cells_1222</th>\n",
       "      <td>0.0</td>\n",
       "      <td>0.0</td>\n",
       "      <td>0.0</td>\n",
       "      <td>1.0</td>\n",
       "    </tr>\n",
       "  </tbody>\n",
       "</table>\n",
       "</div>"
      ],
      "text/plain": [
       "                      Race_[A]  Race_[B]  Race_[U]  Race_[W]\n",
       "sample                                                      \n",
       "AMPSLEkid_cells_0137       0.0       1.0       0.0       0.0\n",
       "AMPSLEkid_cells_1131       0.0       0.0       0.0       1.0\n",
       "AMPSLEkid_cells_1136       0.0       0.0       0.0       1.0\n",
       "AMPSLEkid_cells_1150       1.0       0.0       0.0       0.0\n",
       "AMPSLEkid_cells_1222       0.0       0.0       0.0       1.0"
      ]
     },
     "execution_count": 51,
     "metadata": {},
     "output_type": "execute_result"
    }
   ],
   "source": [
    "# Start by making anndata object\n",
    "d = mad.MultiAnnData(X=harmony, obs=meta, sampleid=\"sample\")\n",
    "#d.obs_to_sample(['Type', 'Site',\n",
    "#                 'Responder_Status', 'Sex',\n",
    "#                 'Age', 'Race',\n",
    "#                'Ethnicity', 'ISN',\n",
    "#               'Activity', \"Chronicity\",\n",
    "#                 'processing_batch'])\n",
    "d.obs_to_sample(['Race_[A]', 'Race_[B]', \n",
    "                 'Race_[U]', 'Race_[W]'])\n",
    "d.samplem.head()"
   ]
  },
  {
   "cell_type": "code",
   "execution_count": 52,
   "id": "eebea7d8-f4fb-40fa-8f43-60eb2433eb49",
   "metadata": {},
   "outputs": [],
   "source": [
    "umap.index = d.obs.index\n",
    "d.obsm['X_umap'] = umap"
   ]
  },
  {
   "cell_type": "code",
   "execution_count": 53,
   "id": "e81eaa56-e1e6-4149-8810-f67fbae22483",
   "metadata": {},
   "outputs": [
    {
     "name": "stdout",
     "output_type": "stream",
     "text": [
      "computing default knn graph\n"
     ]
    }
   ],
   "source": [
    "np.random.seed(0) \n",
    "cna.pp.knn(d)"
   ]
  },
  {
   "cell_type": "code",
   "execution_count": 54,
   "id": "d7200d5b-8256-4f15-85fb-170ea1be6dce",
   "metadata": {},
   "outputs": [
    {
     "name": "stdout",
     "output_type": "stream",
     "text": [
      "qcd NAM not found; computing and saving\n",
      "\ttaking step 1\n",
      "\tmedian kurtosis: 11.86831283569336\n",
      "\t20th percentile R2(t,t-1): nan\n",
      "\ttaking step 2\n",
      "\tmedian kurtosis: 8.700092315673828\n",
      "\t20th percentile R2(t,t-1): 0.7872881889343262\n",
      "\ttaking step 3\n",
      "\tmedian kurtosis: 6.338837146759033\n",
      "\t20th percentile R2(t,t-1): 0.9215906143188477\n",
      "stopping after 3 steps\n",
      "covariate-adjusted NAM not found; computing and saving\n",
      "computing SVD\n"
     ]
    },
    {
     "name": "stderr",
     "output_type": "stream",
     "text": [
      "/PHShome/ssg34/.conda/envs/plswork/lib/python3.9/site-packages/cna/tools/_nam.py:79: UserWarning: only one unique batch supplied to qc\n",
      "  warnings.warn('only one unique batch supplied to qc')\n",
      "/PHShome/ssg34/.conda/envs/plswork/lib/python3.9/site-packages/cna/tools/_nam.py:101: UserWarning: only one unique batch supplied to prep\n",
      "  warnings.warn('only one unique batch supplied to prep')\n"
     ]
    },
    {
     "name": "stdout",
     "output_type": "stream",
     "text": [
      "performing association test\n",
      "computing neighborhood-level FDRs\n",
      "19\n",
      "[1, 2, 3, 4, 5, 6, 7, 8, 9, 10, 11, 12, 13, 14, 15, 16, 17, 18, 19, 20]\n",
      "p = 0.10888911108889111 , 19 PCs used\n",
      "total r^2 between top 19 NAM PCs and outcome is 0.64\n"
     ]
    }
   ],
   "source": [
    "np.random.seed(0) \n",
    "res = cna.tl._association.association(d, #dataset \n",
    "                                      d.samplem['Race_[B]'], #phenotype\n",
    "#                                       batches=d.samplem.processing_batch, #batches\n",
    "                                      Nnull=10000, # number of null permutations to do (defaults to only 1e3)\n",
    "                                      ks=[1,2,3,4,5,6,7,8,9,10,11,12,13,14,15,16,17,18,19,20] # I asked the method to consider up to 10 PCs because\n",
    "                                                                #it chose the max number of PCs it considered the default set of [1,2,3,4]\n",
    "                                     )\n",
    "print(res.k)\n",
    "print(res.ks)\n",
    "print('p =', res.p, ',', res.k, 'PCs used')\n",
    "print('total r^2 between top {} NAM PCs and outcome is {:.2f}'.format(res.k, res.r2))"
   ]
  },
  {
   "cell_type": "code",
   "execution_count": 55,
   "id": "1e19d15b-8412-432b-afe0-a53e0c1e3e3d",
   "metadata": {},
   "outputs": [],
   "source": [
    "np.savetxt(\"/data/srlab/ssg34/SLE_kidney_v2/data/cna_new/DN/age_sex_response_race/sn_race_[B]_ncorr.csv\", \n",
    "               res.ncorrs, delimiter=\",\")\n",
    "np.savetxt(\"/data/srlab/ssg34/SLE_kidney_v2/data/cna_new/DN/age_sex_response_race/sn_race_[B]_fdrs.csv\", \n",
    "               res.fdrs, delimiter=\",\")"
   ]
  },
  {
   "cell_type": "code",
   "execution_count": 56,
   "id": "6cde41e8-2e88-4527-9efb-69730b3d686c",
   "metadata": {},
   "outputs": [
    {
     "name": "stdout",
     "output_type": "stream",
     "text": [
      "performing association test\n",
      "computing neighborhood-level FDRs\n",
      "6\n",
      "[1, 2, 3, 4, 5, 6, 7, 8, 9, 10, 11, 12, 13, 14, 15, 16, 17, 18, 19, 20]\n",
      "p = 0.000999900009999 , 6 PCs used\n",
      "total r^2 between top 6 NAM PCs and outcome is 0.59\n"
     ]
    }
   ],
   "source": [
    "np.random.seed(0) \n",
    "res = cna.tl._association.association(d, #dataset \n",
    "                                      d.samplem['Race_[W]'], #phenotype\n",
    "#                                       batches=d.samplem.processing_batch, #batches\n",
    "                                      Nnull=10000, # number of null permutations to do (defaults to only 1e3)\n",
    "                                      ks=[1,2,3,4,5,6,7,8,9,10,11,12,13,14,15,16,17,18,19,20] # I asked the method to consider up to 10 PCs because\n",
    "                                                                #it chose the max number of PCs it considered the default set of [1,2,3,4]\n",
    "                                     )\n",
    "print(res.k)\n",
    "print(res.ks)\n",
    "print('p =', res.p, ',', res.k, 'PCs used')\n",
    "print('total r^2 between top {} NAM PCs and outcome is {:.2f}'.format(res.k, res.r2))"
   ]
  },
  {
   "cell_type": "code",
   "execution_count": 57,
   "id": "fc252223-28bb-4b34-a47b-1e25aca8c3d2",
   "metadata": {},
   "outputs": [],
   "source": [
    "np.savetxt(\"/data/srlab/ssg34/SLE_kidney_v2/data/cna_new/DN/age_sex_response_race/sn_race_[W]_ncorr.csv\", \n",
    "               res.ncorrs, delimiter=\",\")\n",
    "np.savetxt(\"/data/srlab/ssg34/SLE_kidney_v2/data/cna_new/DN/age_sex_response_race/sn_race_[W]_fdrs.csv\", \n",
    "               res.fdrs, delimiter=\",\")"
   ]
  },
  {
   "cell_type": "markdown",
   "id": "83f86c5c-47d2-4230-8bc5-5e22d6194f7b",
   "metadata": {},
   "source": [
    "# CHRONICITY"
   ]
  },
  {
   "cell_type": "markdown",
   "id": "3de6e30a-01c5-4874-a072-d375591bc4a6",
   "metadata": {},
   "source": [
    "## Single Cell"
   ]
  },
  {
   "cell_type": "code",
   "execution_count": 58,
   "id": "12136354-7dc7-427f-ad37-028e70a7f292",
   "metadata": {},
   "outputs": [
    {
     "name": "stdout",
     "output_type": "stream",
     "text": [
      "(85490, 11)\n"
     ]
    }
   ],
   "source": [
    "meta = pd.read_csv('/data/srlab/ssg34/SLE_kidney_v2/data/cna_new/DN/chronicity/sc_meta.csv')\n",
    "print(meta.shape)"
   ]
  },
  {
   "cell_type": "code",
   "execution_count": 59,
   "id": "ed9c079f-6645-4179-8006-fe4995b1dbc0",
   "metadata": {},
   "outputs": [
    {
     "name": "stdout",
     "output_type": "stream",
     "text": [
      "(85490, 20)\n"
     ]
    }
   ],
   "source": [
    "harmony = pd.read_csv('/data/srlab/ssg34/SLE_kidney_v2/data/cna_new/DN/chronicity/sc_harmony.csv')\n",
    "print(harmony.shape)"
   ]
  },
  {
   "cell_type": "code",
   "execution_count": 60,
   "id": "4b2caf17-25fc-4516-bf89-7eb3846916dc",
   "metadata": {},
   "outputs": [
    {
     "name": "stdout",
     "output_type": "stream",
     "text": [
      "(85490, 2)\n"
     ]
    }
   ],
   "source": [
    "umap = pd.read_csv('/data/srlab/ssg34/SLE_kidney_v2/data/cna_new/DN/chronicity/sc_umap.csv')\n",
    "print(umap.shape)"
   ]
  },
  {
   "cell_type": "code",
   "execution_count": 61,
   "id": "9c25a3f7-e64f-4417-978f-bda8ae49cc56",
   "metadata": {},
   "outputs": [
    {
     "name": "stdout",
     "output_type": "stream",
     "text": [
      "warning: the following columns of obs are non-numeric.\n",
      "['cell' 'Sex' 'sample' 'cluster_names' 'Responder.Status' 'Race'\n",
      " 'Final_ISN' 'Type']\n",
      "consider casting to numeric types where appropriate, and\n",
      "consider re-coding text-valued columns with pandas.get_dummies\n"
     ]
    },
    {
     "name": "stderr",
     "output_type": "stream",
     "text": [
      "/PHShome/ssg34/.conda/envs/plswork/lib/python3.9/site-packages/multianndata/core.py:17: FutureWarning: X.dtype being converted to np.float32 from float64. In the next version of anndata (0.9) conversion will not be automatic. Pass dtype explicitly to avoid this warning. Pass `AnnData(X, dtype=X.dtype, ...)` to get the future behavour.\n",
      "  super().__init__(*args, **kwargs)\n",
      "/PHShome/ssg34/.conda/envs/plswork/lib/python3.9/site-packages/anndata/_core/anndata.py:121: ImplicitModificationWarning: Transforming to str index.\n",
      "  warnings.warn(\"Transforming to str index.\", ImplicitModificationWarning)\n"
     ]
    },
    {
     "data": {
      "text/html": [
       "<div>\n",
       "<style scoped>\n",
       "    .dataframe tbody tr th:only-of-type {\n",
       "        vertical-align: middle;\n",
       "    }\n",
       "\n",
       "    .dataframe tbody tr th {\n",
       "        vertical-align: top;\n",
       "    }\n",
       "\n",
       "    .dataframe thead th {\n",
       "        text-align: right;\n",
       "    }\n",
       "</style>\n",
       "<table border=\"1\" class=\"dataframe\">\n",
       "  <thead>\n",
       "    <tr style=\"text-align: right;\">\n",
       "      <th></th>\n",
       "      <th>Final_Chronicity</th>\n",
       "      <th>Final_Activity</th>\n",
       "    </tr>\n",
       "    <tr>\n",
       "      <th>sample</th>\n",
       "      <th></th>\n",
       "      <th></th>\n",
       "    </tr>\n",
       "  </thead>\n",
       "  <tbody>\n",
       "    <tr>\n",
       "      <th>AMPSLEkid_cells_2748</th>\n",
       "      <td>8.0</td>\n",
       "      <td>1.0</td>\n",
       "    </tr>\n",
       "    <tr>\n",
       "      <th>AMPSLEkid_cells_1639</th>\n",
       "      <td>2.0</td>\n",
       "      <td>9.0</td>\n",
       "    </tr>\n",
       "    <tr>\n",
       "      <th>AMPSLEkid_cells_0377</th>\n",
       "      <td>3.0</td>\n",
       "      <td>2.0</td>\n",
       "    </tr>\n",
       "    <tr>\n",
       "      <th>AMPSLEkid_cells_0850</th>\n",
       "      <td>3.0</td>\n",
       "      <td>10.0</td>\n",
       "    </tr>\n",
       "    <tr>\n",
       "      <th>AMPSLEkid_cells_1142</th>\n",
       "      <td>6.0</td>\n",
       "      <td>5.0</td>\n",
       "    </tr>\n",
       "  </tbody>\n",
       "</table>\n",
       "</div>"
      ],
      "text/plain": [
       "                      Final_Chronicity  Final_Activity\n",
       "sample                                                \n",
       "AMPSLEkid_cells_2748               8.0             1.0\n",
       "AMPSLEkid_cells_1639               2.0             9.0\n",
       "AMPSLEkid_cells_0377               3.0             2.0\n",
       "AMPSLEkid_cells_0850               3.0            10.0\n",
       "AMPSLEkid_cells_1142               6.0             5.0"
      ]
     },
     "execution_count": 61,
     "metadata": {},
     "output_type": "execute_result"
    }
   ],
   "source": [
    "# Start by making anndata object\n",
    "d = mad.MultiAnnData(X=harmony, obs=meta, sampleid=\"sample\")\n",
    "#d.obs_to_sample(['Type', 'Site',\n",
    "#                 'Responder_Status', 'Sex',\n",
    "#                 'Age', 'Race',\n",
    "#                'Ethnicity', 'ISN',\n",
    "#               'Activity', \"Chronicity\",\n",
    "#                 'processing_batch'])\n",
    "d.obs_to_sample(['Final_Chronicity', 'Final_Activity'])\n",
    "d.samplem.head()"
   ]
  },
  {
   "cell_type": "code",
   "execution_count": 62,
   "id": "15f79afd-cc77-47f4-956c-0a3161f0e69c",
   "metadata": {},
   "outputs": [],
   "source": [
    "umap.index = d.obs.index\n",
    "d.obsm['X_umap'] = umap"
   ]
  },
  {
   "cell_type": "code",
   "execution_count": 63,
   "id": "7f3785f7-1998-4a76-a854-f71dce42050e",
   "metadata": {},
   "outputs": [
    {
     "name": "stdout",
     "output_type": "stream",
     "text": [
      "computing default knn graph\n"
     ]
    }
   ],
   "source": [
    "np.random.seed(0) \n",
    "cna.pp.knn(d)"
   ]
  },
  {
   "cell_type": "code",
   "execution_count": 64,
   "id": "9db12f1e-c791-4d08-a5ac-88a81ea11ef4",
   "metadata": {},
   "outputs": [
    {
     "name": "stdout",
     "output_type": "stream",
     "text": [
      "qcd NAM not found; computing and saving\n",
      "\ttaking step 1\n",
      "\tmedian kurtosis: 45.50755310058594\n",
      "\t20th percentile R2(t,t-1): nan\n",
      "\ttaking step 2\n",
      "\tmedian kurtosis: 30.943496704101562\n",
      "\t20th percentile R2(t,t-1): 0.790517520904541\n",
      "\ttaking step 3\n",
      "\tmedian kurtosis: 21.39699363708496\n",
      "\t20th percentile R2(t,t-1): 0.9226983904838562\n",
      "\ttaking step 4\n",
      "\tmedian kurtosis: 15.812188148498535\n",
      "\t20th percentile R2(t,t-1): 0.9546174645423889\n",
      "\ttaking step 5\n",
      "\tmedian kurtosis: 12.490133285522461\n",
      "\t20th percentile R2(t,t-1): 0.9704028964042664\n",
      "\ttaking step 6\n",
      "\tmedian kurtosis: 10.479520797729492\n",
      "\t20th percentile R2(t,t-1): 0.9792832732200623\n",
      "stopping after 6 steps\n",
      "covariate-adjusted NAM not found; computing and saving\n"
     ]
    },
    {
     "name": "stderr",
     "output_type": "stream",
     "text": [
      "/PHShome/ssg34/.conda/envs/plswork/lib/python3.9/site-packages/cna/tools/_nam.py:79: UserWarning: only one unique batch supplied to qc\n",
      "  warnings.warn('only one unique batch supplied to qc')\n",
      "/PHShome/ssg34/.conda/envs/plswork/lib/python3.9/site-packages/cna/tools/_nam.py:101: UserWarning: only one unique batch supplied to prep\n",
      "  warnings.warn('only one unique batch supplied to prep')\n"
     ]
    },
    {
     "name": "stdout",
     "output_type": "stream",
     "text": [
      "computing SVD\n",
      "performing association test\n"
     ]
    },
    {
     "name": "stderr",
     "output_type": "stream",
     "text": [
      "/PHShome/ssg34/.conda/envs/plswork/lib/python3.9/site-packages/cna/tools/_association.py:74: UserWarning: global association p-value attained minimal possible value. Consider increasing Nnull\n",
      "  warnings.warn('global association p-value attained minimal possible value. '+\\\n"
     ]
    },
    {
     "name": "stdout",
     "output_type": "stream",
     "text": [
      "computing neighborhood-level FDRs\n",
      "10\n",
      "[1, 2, 3, 4, 5, 6, 7, 8, 9, 10, 11, 12, 13, 14, 15, 16, 17, 18, 19, 20]\n",
      "p = 9.999000099990002e-05 , 10 PCs used\n",
      "total r^2 between top 10 NAM PCs and outcome is 0.53\n"
     ]
    }
   ],
   "source": [
    "np.random.seed(0) \n",
    "res = cna.tl._association.association(d, #dataset \n",
    "                                      d.samplem.Final_Chronicity, #phenotype\n",
    "#                                       batches=d.samplem.processing_batch, #batches\n",
    "                                      Nnull=10000, # number of null permutations to do (defaults to only 1e3)\n",
    "                                      ks=[1,2,3,4,5,6,7,8,9,10,11,12,13,14,15,16,17,18,19,20] # I asked the method to consider up to 10 PCs because\n",
    "                                                                #it chose the max number of PCs it considered the default set of [1,2,3,4]\n",
    "                                     )\n",
    "print(res.k)\n",
    "print(res.ks)\n",
    "print('p =', res.p, ',', res.k, 'PCs used')\n",
    "print('total r^2 between top {} NAM PCs and outcome is {:.2f}'.format(res.k, res.r2))"
   ]
  },
  {
   "cell_type": "code",
   "execution_count": 65,
   "id": "7a4c01e6-9006-44ae-be5c-5549208432ee",
   "metadata": {},
   "outputs": [
    {
     "name": "stdout",
     "output_type": "stream",
     "text": [
      "covariate-adjusted NAM not found; computing and saving\n"
     ]
    },
    {
     "name": "stderr",
     "output_type": "stream",
     "text": [
      "/PHShome/ssg34/.conda/envs/plswork/lib/python3.9/site-packages/cna/tools/_nam.py:101: UserWarning: only one unique batch supplied to prep\n",
      "  warnings.warn('only one unique batch supplied to prep')\n"
     ]
    },
    {
     "name": "stdout",
     "output_type": "stream",
     "text": [
      "computing SVD\n",
      "performing association test\n"
     ]
    },
    {
     "name": "stderr",
     "output_type": "stream",
     "text": [
      "/PHShome/ssg34/.conda/envs/plswork/lib/python3.9/site-packages/cna/tools/_association.py:74: UserWarning: global association p-value attained minimal possible value. Consider increasing Nnull\n",
      "  warnings.warn('global association p-value attained minimal possible value. '+\\\n"
     ]
    },
    {
     "name": "stdout",
     "output_type": "stream",
     "text": [
      "computing neighborhood-level FDRs\n",
      "10\n",
      "[1, 2, 3, 4, 5, 6, 7, 8, 9, 10, 11, 12, 13, 14, 15, 16, 17, 18, 19, 20]\n",
      "p = 9.999000099990002e-05 , 10 PCs used\n",
      "total r^2 between top 10 NAM PCs and outcome is 0.53\n"
     ]
    }
   ],
   "source": [
    "np.random.seed(0) \n",
    "res = cna.tl._association.association(d, #dataset \n",
    "                                      d.samplem.Final_Chronicity, #phenotype\n",
    "#                                       batches=d.samplem.processing_batch, #batches\n",
    "                                      covs = d.samplem[['Final_Activity']], \n",
    "                                      Nnull=10000, # number of null permutations to do (defaults to only 1e3)\n",
    "                                      ks=[1,2,3,4,5,6,7,8,9,10,11,12,13,14,15,16,17,18,19,20] # I asked the method to consider up to 10 PCs because\n",
    "                                                                #it chose the max number of PCs it considered the default set of [1,2,3,4]\n",
    "                                     )\n",
    "print(res.k)\n",
    "print(res.ks)\n",
    "print('p =', res.p, ',', res.k, 'PCs used')\n",
    "print('total r^2 between top {} NAM PCs and outcome is {:.2f}'.format(res.k, res.r2))"
   ]
  },
  {
   "cell_type": "code",
   "execution_count": 66,
   "id": "26d71334-cdee-4503-920f-527a63aab75f",
   "metadata": {},
   "outputs": [],
   "source": [
    "np.savetxt(\"/data/srlab/ssg34/SLE_kidney_v2/data/cna_new/DN/chronicity/sc_activity_cond_ncorr.csv\", \n",
    "               res.ncorrs, delimiter=\",\")\n",
    "np.savetxt(\"/data/srlab/ssg34/SLE_kidney_v2/data/cna_new/DN/chronicity/sc_activity_cond_fdrs.csv\", \n",
    "               res.fdrs, delimiter=\",\")"
   ]
  },
  {
   "cell_type": "markdown",
   "id": "27ea4972-825c-477f-b0ec-9662f0f92ddd",
   "metadata": {},
   "source": [
    "## Single Nuclear"
   ]
  },
  {
   "cell_type": "code",
   "execution_count": 67,
   "id": "f7e34300-3592-4cde-96a8-ec36d65d53c4",
   "metadata": {},
   "outputs": [
    {
     "name": "stdout",
     "output_type": "stream",
     "text": [
      "(23322, 11)\n"
     ]
    }
   ],
   "source": [
    "meta = pd.read_csv('/data/srlab/ssg34/SLE_kidney_v2/data/cna_new/DN/chronicity/sn_meta.csv')\n",
    "print(meta.shape)"
   ]
  },
  {
   "cell_type": "code",
   "execution_count": 68,
   "id": "f13dcca5-07d0-44f0-8708-2560787914da",
   "metadata": {},
   "outputs": [
    {
     "name": "stdout",
     "output_type": "stream",
     "text": [
      "(23322, 20)\n"
     ]
    }
   ],
   "source": [
    "harmony = pd.read_csv('/data/srlab/ssg34/SLE_kidney_v2/data/cna_new/DN/chronicity/sn_harmony.csv')\n",
    "print(harmony.shape)"
   ]
  },
  {
   "cell_type": "code",
   "execution_count": 69,
   "id": "ddf7cdaf-fecb-446e-b8a9-8a7ca81ab1af",
   "metadata": {},
   "outputs": [
    {
     "name": "stdout",
     "output_type": "stream",
     "text": [
      "(23322, 2)\n"
     ]
    }
   ],
   "source": [
    "umap = pd.read_csv('/data/srlab/ssg34/SLE_kidney_v2/data/cna_new/DN/chronicity/sn_umap.csv')\n",
    "print(umap.shape)"
   ]
  },
  {
   "cell_type": "code",
   "execution_count": 70,
   "id": "29994679-43f4-4893-9ae4-eacdb391f627",
   "metadata": {},
   "outputs": [
    {
     "name": "stdout",
     "output_type": "stream",
     "text": [
      "warning: the following columns of obs are non-numeric.\n",
      "['cell' 'Sex' 'sample' 'cluster_names' 'Responder.Status' 'Race'\n",
      " 'Final_ISN' 'Type']\n",
      "consider casting to numeric types where appropriate, and\n",
      "consider re-coding text-valued columns with pandas.get_dummies\n"
     ]
    },
    {
     "name": "stderr",
     "output_type": "stream",
     "text": [
      "/PHShome/ssg34/.conda/envs/plswork/lib/python3.9/site-packages/multianndata/core.py:17: FutureWarning: X.dtype being converted to np.float32 from float64. In the next version of anndata (0.9) conversion will not be automatic. Pass dtype explicitly to avoid this warning. Pass `AnnData(X, dtype=X.dtype, ...)` to get the future behavour.\n",
      "  super().__init__(*args, **kwargs)\n",
      "/PHShome/ssg34/.conda/envs/plswork/lib/python3.9/site-packages/anndata/_core/anndata.py:121: ImplicitModificationWarning: Transforming to str index.\n",
      "  warnings.warn(\"Transforming to str index.\", ImplicitModificationWarning)\n"
     ]
    },
    {
     "data": {
      "text/html": [
       "<div>\n",
       "<style scoped>\n",
       "    .dataframe tbody tr th:only-of-type {\n",
       "        vertical-align: middle;\n",
       "    }\n",
       "\n",
       "    .dataframe tbody tr th {\n",
       "        vertical-align: top;\n",
       "    }\n",
       "\n",
       "    .dataframe thead th {\n",
       "        text-align: right;\n",
       "    }\n",
       "</style>\n",
       "<table border=\"1\" class=\"dataframe\">\n",
       "  <thead>\n",
       "    <tr style=\"text-align: right;\">\n",
       "      <th></th>\n",
       "      <th>Final_Chronicity</th>\n",
       "      <th>Final_Activity</th>\n",
       "    </tr>\n",
       "    <tr>\n",
       "      <th>sample</th>\n",
       "      <th></th>\n",
       "      <th></th>\n",
       "    </tr>\n",
       "  </thead>\n",
       "  <tbody>\n",
       "    <tr>\n",
       "      <th>AMPSLEkid_cells_0137</th>\n",
       "      <td>3.0</td>\n",
       "      <td>5.0</td>\n",
       "    </tr>\n",
       "    <tr>\n",
       "      <th>AMPSLEkid_cells_1131</th>\n",
       "      <td>2.0</td>\n",
       "      <td>10.0</td>\n",
       "    </tr>\n",
       "    <tr>\n",
       "      <th>AMPSLEkid_cells_1136</th>\n",
       "      <td>2.0</td>\n",
       "      <td>4.0</td>\n",
       "    </tr>\n",
       "    <tr>\n",
       "      <th>AMPSLEkid_cells_1150</th>\n",
       "      <td>6.0</td>\n",
       "      <td>6.0</td>\n",
       "    </tr>\n",
       "    <tr>\n",
       "      <th>AMPSLEkid_cells_1222</th>\n",
       "      <td>5.0</td>\n",
       "      <td>9.0</td>\n",
       "    </tr>\n",
       "  </tbody>\n",
       "</table>\n",
       "</div>"
      ],
      "text/plain": [
       "                      Final_Chronicity  Final_Activity\n",
       "sample                                                \n",
       "AMPSLEkid_cells_0137               3.0             5.0\n",
       "AMPSLEkid_cells_1131               2.0            10.0\n",
       "AMPSLEkid_cells_1136               2.0             4.0\n",
       "AMPSLEkid_cells_1150               6.0             6.0\n",
       "AMPSLEkid_cells_1222               5.0             9.0"
      ]
     },
     "execution_count": 70,
     "metadata": {},
     "output_type": "execute_result"
    }
   ],
   "source": [
    "# Start by making anndata object\n",
    "d = mad.MultiAnnData(X=harmony, obs=meta, sampleid=\"sample\")\n",
    "#d.obs_to_sample(['Type', 'Site',\n",
    "#                 'Responder_Status', 'Sex',\n",
    "#                 'Age', 'Race',\n",
    "#                'Ethnicity', 'ISN',\n",
    "#               'Activity', \"Chronicity\",\n",
    "#                 'processing_batch'])\n",
    "d.obs_to_sample(['Final_Chronicity', 'Final_Activity'])\n",
    "d.samplem.head()"
   ]
  },
  {
   "cell_type": "code",
   "execution_count": 71,
   "id": "fb8b3911-2fec-41b7-a5f0-58d2b16f0bcc",
   "metadata": {},
   "outputs": [],
   "source": [
    "umap.index = d.obs.index\n",
    "d.obsm['X_umap'] = umap"
   ]
  },
  {
   "cell_type": "code",
   "execution_count": 73,
   "id": "f86ec90e-7c4f-4184-9631-c9906967bc20",
   "metadata": {},
   "outputs": [
    {
     "name": "stdout",
     "output_type": "stream",
     "text": [
      "computing default knn graph\n"
     ]
    }
   ],
   "source": [
    "np.random.seed(0) \n",
    "cna.pp.knn(d)"
   ]
  },
  {
   "cell_type": "code",
   "execution_count": 74,
   "id": "1144f7d9-6eb1-4ba1-ac55-c1b4a56d6f1c",
   "metadata": {},
   "outputs": [
    {
     "name": "stdout",
     "output_type": "stream",
     "text": [
      "qcd NAM not found; computing and saving\n",
      "\ttaking step 1\n",
      "\tmedian kurtosis: 10.50347020112089\n",
      "\t20th percentile R2(t,t-1): nan\n",
      "\ttaking step 2\n",
      "\tmedian kurtosis: 7.873913922444737\n",
      "\t20th percentile R2(t,t-1): 0.792587423324585\n",
      "\ttaking step 3\n",
      "\tmedian kurtosis: 5.889709164158221\n",
      "\t20th percentile R2(t,t-1): 0.9248867154121398\n",
      "stopping after 3 steps\n",
      "covariate-adjusted NAM not found; computing and saving\n",
      "computing SVD\n",
      "performing association test\n"
     ]
    },
    {
     "name": "stderr",
     "output_type": "stream",
     "text": [
      "/PHShome/ssg34/.conda/envs/plswork/lib/python3.9/site-packages/cna/tools/_nam.py:79: UserWarning: only one unique batch supplied to qc\n",
      "  warnings.warn('only one unique batch supplied to qc')\n",
      "/PHShome/ssg34/.conda/envs/plswork/lib/python3.9/site-packages/cna/tools/_nam.py:101: UserWarning: only one unique batch supplied to prep\n",
      "  warnings.warn('only one unique batch supplied to prep')\n"
     ]
    },
    {
     "name": "stdout",
     "output_type": "stream",
     "text": [
      "computing neighborhood-level FDRs\n",
      "12\n",
      "[1, 2, 3, 4, 5, 6, 7, 8, 9, 10, 11, 12, 13, 14, 15, 16, 17, 18, 19, 20]\n",
      "p = 0.00029997000299970003 , 12 PCs used\n",
      "total r^2 between top 12 NAM PCs and outcome is 0.83\n"
     ]
    }
   ],
   "source": [
    "np.random.seed(0) \n",
    "res = cna.tl._association.association(d, #dataset \n",
    "                                      d.samplem.Final_Chronicity, #phenotype\n",
    "#                                       batches=d.samplem.processing_batch, #batches\n",
    "                                      Nnull=10000, # number of null permutations to do (defaults to only 1e3)\n",
    "                                      ks=[1,2,3,4,5,6,7,8,9,10,11,12,13,14,15,16,17,18,19,20] # I asked the method to consider up to 10 PCs because\n",
    "                                                                #it chose the max number of PCs it considered the default set of [1,2,3,4]\n",
    "                                     )\n",
    "print(res.k)\n",
    "print(res.ks)\n",
    "print('p =', res.p, ',', res.k, 'PCs used')\n",
    "print('total r^2 between top {} NAM PCs and outcome is {:.2f}'.format(res.k, res.r2))"
   ]
  },
  {
   "cell_type": "code",
   "execution_count": null,
   "id": "c8436253-3069-4545-a67b-07214fd3c654",
   "metadata": {},
   "outputs": [
    {
     "name": "stdout",
     "output_type": "stream",
     "text": [
      "covariate-adjusted NAM not found; computing and saving\n",
      "computing SVD\n",
      "performing association test\n"
     ]
    },
    {
     "name": "stderr",
     "output_type": "stream",
     "text": [
      "/PHShome/ssg34/.conda/envs/plswork/lib/python3.9/site-packages/cna/tools/_nam.py:101: UserWarning: only one unique batch supplied to prep\n",
      "  warnings.warn('only one unique batch supplied to prep')\n"
     ]
    }
   ],
   "source": [
    "np.random.seed(0) \n",
    "res = cna.tl._association.association(d, #dataset \n",
    "                                      d.samplem.Final_Chronicity, #phenotype\n",
    "#                                       batches=d.samplem.processing_batch, #batches\n",
    "                                      covs = d.samplem[['Final_Activity']], \n",
    "                                      Nnull=10000, # number of null permutations to do (defaults to only 1e3)\n",
    "                                      ks=[1,2,3,4,5,6,7,8,9,10,11,12,13,14,15,16,17,18,19,20] # I asked the method to consider up to 10 PCs because\n",
    "                                                                #it chose the max number of PCs it considered the default set of [1,2,3,4]\n",
    "                                     )\n",
    "print(res.k)\n",
    "print(res.ks)\n",
    "print('p =', res.p, ',', res.k, 'PCs used')\n",
    "print('total r^2 between top {} NAM PCs and outcome is {:.2f}'.format(res.k, res.r2))"
   ]
  }
 ],
 "metadata": {
  "kernelspec": {
   "display_name": "Python 3 (ipykernel)",
   "language": "python",
   "name": "python3"
  },
  "language_info": {
   "codemirror_mode": {
    "name": "ipython",
    "version": 3
   },
   "file_extension": ".py",
   "mimetype": "text/x-python",
   "name": "python",
   "nbconvert_exporter": "python",
   "pygments_lexer": "ipython3",
   "version": "3.9.13"
  }
 },
 "nbformat": 4,
 "nbformat_minor": 5
}
