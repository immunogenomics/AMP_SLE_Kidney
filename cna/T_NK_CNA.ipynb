{
 "cells": [
  {
   "cell_type": "code",
   "execution_count": 8,
   "id": "2b3a02be-a104-44d7-ac99-617066a003b1",
   "metadata": {},
   "outputs": [],
   "source": [
    "import sys\n",
    "sys.path.append(\"../\") \n",
    "from libs.cna_utils import run_cna, cna_test\n",
    "# For reproducibility\n",
    "np.random.seed(0) "
   ]
  },
  {
   "cell_type": "markdown",
   "id": "b73b38de-5deb-4252-9d5a-cf550c77a0ee",
   "metadata": {
    "tags": []
   },
   "source": [
    "# AGE"
   ]
  },
  {
   "cell_type": "markdown",
   "id": "da203c54-335f-4ebf-813b-4bc36cf12bd5",
   "metadata": {},
   "source": [
    "## Single Cell"
   ]
  },
  {
   "cell_type": "code",
   "execution_count": 17,
   "id": "f6b9b554-c369-4587-8c03-539677a77fb8",
   "metadata": {},
   "outputs": [
    {
     "name": "stdout",
     "output_type": "stream",
     "text": [
      "(35187, 39)\n"
     ]
    }
   ],
   "source": [
    "meta = pd.read_csv('/data/srlab/ssg34/SLE_kidney_v2/data/cna_new/t_nk/age_sex_response_race/sc_meta_age.csv')\n",
    "print(meta.shape)"
   ]
  },
  {
   "cell_type": "code",
   "execution_count": 18,
   "id": "bb5c5ad9-071e-4e9f-b611-48470128cea5",
   "metadata": {},
   "outputs": [
    {
     "name": "stdout",
     "output_type": "stream",
     "text": [
      "(35187, 20)\n"
     ]
    }
   ],
   "source": [
    "harmony = pd.read_csv('/data/srlab/ssg34/SLE_kidney_v2/data/cna_new/t_nk/age_sex_response_race/sc_harmony_age.csv')\n",
    "print(harmony.shape)"
   ]
  },
  {
   "cell_type": "code",
   "execution_count": 19,
   "id": "efb81ea3-d61b-44e6-9e2f-af2f6a2075b3",
   "metadata": {},
   "outputs": [
    {
     "name": "stdout",
     "output_type": "stream",
     "text": [
      "(35187, 20)\n"
     ]
    }
   ],
   "source": [
    "umap = pd.read_csv('/data/srlab/ssg34/SLE_kidney_v2/data/cna_new/t_nk/age_sex_response_race/sc_umap_age.csv')\n",
    "print(harmony.shape)"
   ]
  },
  {
   "cell_type": "code",
   "execution_count": 20,
   "id": "d67cbf98-c400-45ea-b82f-08cf9608b0e4",
   "metadata": {},
   "outputs": [
    {
     "data": {
      "text/plain": [
       "Index(['cell', 'Sex', 'sample', 'final_annotation', 'Responder.Status', 'Age',\n",
       "       'Race', 'Final_ISN', 'Final_Chronicity', 'Final_Activity', 'Type',\n",
       "       'Final_Site', 'First_biop', 'Pred_use', 'Responder_Status', 'Race_[A]',\n",
       "       'Race_[A][B]', 'Race_[B]', 'Race_[B][AI]', 'Race_[B][W]', 'Race_[U]',\n",
       "       'Race_[W]', 'Final_ISN_[III]', 'Final_ISN_[III][V]', 'Final_ISN_[IV]',\n",
       "       'Final_ISN_[IV][V]', 'Final_ISN_[V]', 'Final_Site_Cincinnati',\n",
       "       'Final_Site_Einstein', 'Final_Site_JHU', 'Final_Site_Michigan',\n",
       "       'Final_Site_MUSC', 'Final_Site_Northwell', 'Final_Site_NYU',\n",
       "       'Final_Site_Rochester', 'Final_Site_Texas Tech', 'Final_Site_UCLA',\n",
       "       'Final_Site_UCSD', 'Final_Site_UCSF'],\n",
       "      dtype='object')"
      ]
     },
     "execution_count": 20,
     "metadata": {},
     "output_type": "execute_result"
    }
   ],
   "source": [
    "meta.columns"
   ]
  },
  {
   "cell_type": "code",
   "execution_count": 21,
   "id": "c7fa853b-73d8-4ac9-a448-c050ad6c73ae",
   "metadata": {},
   "outputs": [
    {
     "name": "stderr",
     "output_type": "stream",
     "text": [
      "/PHShome/ssg34/.conda/envs/plswork/lib/python3.9/site-packages/multianndata/core.py:17: FutureWarning: X.dtype being converted to np.float32 from float64. In the next version of anndata (0.9) conversion will not be automatic. Pass dtype explicitly to avoid this warning. Pass `AnnData(X, dtype=X.dtype, ...)` to get the future behavour.\n",
      "  super().__init__(*args, **kwargs)\n",
      "/PHShome/ssg34/.conda/envs/plswork/lib/python3.9/site-packages/anndata/_core/anndata.py:121: ImplicitModificationWarning: Transforming to str index.\n",
      "  warnings.warn(\"Transforming to str index.\", ImplicitModificationWarning)\n"
     ]
    },
    {
     "name": "stdout",
     "output_type": "stream",
     "text": [
      "warning: the following columns of obs are non-numeric.\n",
      "['cell' 'sample' 'final_annotation' 'Responder.Status' 'Race' 'Final_ISN'\n",
      " 'Type' 'Final_Site']\n",
      "consider casting to numeric types where appropriate, and\n",
      "consider re-coding text-valued columns with pandas.get_dummies\n"
     ]
    },
    {
     "data": {
      "text/html": [
       "<div>\n",
       "<style scoped>\n",
       "    .dataframe tbody tr th:only-of-type {\n",
       "        vertical-align: middle;\n",
       "    }\n",
       "\n",
       "    .dataframe tbody tr th {\n",
       "        vertical-align: top;\n",
       "    }\n",
       "\n",
       "    .dataframe thead th {\n",
       "        text-align: right;\n",
       "    }\n",
       "</style>\n",
       "<table border=\"1\" class=\"dataframe\">\n",
       "  <thead>\n",
       "    <tr style=\"text-align: right;\">\n",
       "      <th></th>\n",
       "      <th>Sex</th>\n",
       "      <th>Age</th>\n",
       "      <th>Final_Chronicity</th>\n",
       "      <th>Final_Activity</th>\n",
       "      <th>First_biop</th>\n",
       "      <th>Pred_use</th>\n",
       "      <th>Responder_Status</th>\n",
       "      <th>Race_[A]</th>\n",
       "      <th>Race_[A][B]</th>\n",
       "      <th>Race_[B]</th>\n",
       "      <th>...</th>\n",
       "      <th>Final_Site_JHU</th>\n",
       "      <th>Final_Site_Michigan</th>\n",
       "      <th>Final_Site_MUSC</th>\n",
       "      <th>Final_Site_Northwell</th>\n",
       "      <th>Final_Site_NYU</th>\n",
       "      <th>Final_Site_Rochester</th>\n",
       "      <th>Final_Site_Texas Tech</th>\n",
       "      <th>Final_Site_UCLA</th>\n",
       "      <th>Final_Site_UCSD</th>\n",
       "      <th>Final_Site_UCSF</th>\n",
       "    </tr>\n",
       "    <tr>\n",
       "      <th>sample</th>\n",
       "      <th></th>\n",
       "      <th></th>\n",
       "      <th></th>\n",
       "      <th></th>\n",
       "      <th></th>\n",
       "      <th></th>\n",
       "      <th></th>\n",
       "      <th></th>\n",
       "      <th></th>\n",
       "      <th></th>\n",
       "      <th></th>\n",
       "      <th></th>\n",
       "      <th></th>\n",
       "      <th></th>\n",
       "      <th></th>\n",
       "      <th></th>\n",
       "      <th></th>\n",
       "      <th></th>\n",
       "      <th></th>\n",
       "      <th></th>\n",
       "      <th></th>\n",
       "    </tr>\n",
       "  </thead>\n",
       "  <tbody>\n",
       "    <tr>\n",
       "      <th>AMPSLEkid_cells_0134</th>\n",
       "      <td>1.0</td>\n",
       "      <td>0.760126</td>\n",
       "      <td>6.0</td>\n",
       "      <td>4.0</td>\n",
       "      <td>0.0</td>\n",
       "      <td>0.0</td>\n",
       "      <td>0.0</td>\n",
       "      <td>1.0</td>\n",
       "      <td>0.0</td>\n",
       "      <td>0.0</td>\n",
       "      <td>...</td>\n",
       "      <td>0.0</td>\n",
       "      <td>0.0</td>\n",
       "      <td>0.0</td>\n",
       "      <td>0.0</td>\n",
       "      <td>0.0</td>\n",
       "      <td>1.0</td>\n",
       "      <td>0.0</td>\n",
       "      <td>0.0</td>\n",
       "      <td>0.0</td>\n",
       "      <td>0.0</td>\n",
       "    </tr>\n",
       "    <tr>\n",
       "      <th>AMPSLEkid_cells_0137</th>\n",
       "      <td>1.0</td>\n",
       "      <td>-0.183948</td>\n",
       "      <td>3.0</td>\n",
       "      <td>5.0</td>\n",
       "      <td>0.0</td>\n",
       "      <td>1.0</td>\n",
       "      <td>2.0</td>\n",
       "      <td>0.0</td>\n",
       "      <td>0.0</td>\n",
       "      <td>1.0</td>\n",
       "      <td>...</td>\n",
       "      <td>0.0</td>\n",
       "      <td>0.0</td>\n",
       "      <td>0.0</td>\n",
       "      <td>0.0</td>\n",
       "      <td>0.0</td>\n",
       "      <td>1.0</td>\n",
       "      <td>0.0</td>\n",
       "      <td>0.0</td>\n",
       "      <td>0.0</td>\n",
       "      <td>0.0</td>\n",
       "    </tr>\n",
       "    <tr>\n",
       "      <th>AMPSLEkid_cells_0138</th>\n",
       "      <td>1.0</td>\n",
       "      <td>0.331002</td>\n",
       "      <td>0.0</td>\n",
       "      <td>0.0</td>\n",
       "      <td>1.0</td>\n",
       "      <td>1.0</td>\n",
       "      <td>2.0</td>\n",
       "      <td>0.0</td>\n",
       "      <td>0.0</td>\n",
       "      <td>0.0</td>\n",
       "      <td>...</td>\n",
       "      <td>0.0</td>\n",
       "      <td>0.0</td>\n",
       "      <td>0.0</td>\n",
       "      <td>0.0</td>\n",
       "      <td>0.0</td>\n",
       "      <td>1.0</td>\n",
       "      <td>0.0</td>\n",
       "      <td>0.0</td>\n",
       "      <td>0.0</td>\n",
       "      <td>0.0</td>\n",
       "    </tr>\n",
       "    <tr>\n",
       "      <th>AMPSLEkid_cells_0139</th>\n",
       "      <td>1.0</td>\n",
       "      <td>0.674301</td>\n",
       "      <td>3.0</td>\n",
       "      <td>2.0</td>\n",
       "      <td>0.0</td>\n",
       "      <td>1.0</td>\n",
       "      <td>2.0</td>\n",
       "      <td>0.0</td>\n",
       "      <td>0.0</td>\n",
       "      <td>1.0</td>\n",
       "      <td>...</td>\n",
       "      <td>0.0</td>\n",
       "      <td>0.0</td>\n",
       "      <td>0.0</td>\n",
       "      <td>0.0</td>\n",
       "      <td>0.0</td>\n",
       "      <td>1.0</td>\n",
       "      <td>0.0</td>\n",
       "      <td>0.0</td>\n",
       "      <td>0.0</td>\n",
       "      <td>0.0</td>\n",
       "    </tr>\n",
       "    <tr>\n",
       "      <th>AMPSLEkid_cells_0140</th>\n",
       "      <td>1.0</td>\n",
       "      <td>-0.956372</td>\n",
       "      <td>1.0</td>\n",
       "      <td>1.0</td>\n",
       "      <td>1.0</td>\n",
       "      <td>0.0</td>\n",
       "      <td>0.0</td>\n",
       "      <td>0.0</td>\n",
       "      <td>0.0</td>\n",
       "      <td>1.0</td>\n",
       "      <td>...</td>\n",
       "      <td>0.0</td>\n",
       "      <td>0.0</td>\n",
       "      <td>0.0</td>\n",
       "      <td>0.0</td>\n",
       "      <td>0.0</td>\n",
       "      <td>1.0</td>\n",
       "      <td>0.0</td>\n",
       "      <td>0.0</td>\n",
       "      <td>0.0</td>\n",
       "      <td>0.0</td>\n",
       "    </tr>\n",
       "  </tbody>\n",
       "</table>\n",
       "<p>5 rows × 31 columns</p>\n",
       "</div>"
      ],
      "text/plain": [
       "                      Sex       Age  Final_Chronicity  Final_Activity  \\\n",
       "sample                                                                  \n",
       "AMPSLEkid_cells_0134  1.0  0.760126               6.0             4.0   \n",
       "AMPSLEkid_cells_0137  1.0 -0.183948               3.0             5.0   \n",
       "AMPSLEkid_cells_0138  1.0  0.331002               0.0             0.0   \n",
       "AMPSLEkid_cells_0139  1.0  0.674301               3.0             2.0   \n",
       "AMPSLEkid_cells_0140  1.0 -0.956372               1.0             1.0   \n",
       "\n",
       "                      First_biop  Pred_use  Responder_Status  Race_[A]  \\\n",
       "sample                                                                   \n",
       "AMPSLEkid_cells_0134         0.0       0.0               0.0       1.0   \n",
       "AMPSLEkid_cells_0137         0.0       1.0               2.0       0.0   \n",
       "AMPSLEkid_cells_0138         1.0       1.0               2.0       0.0   \n",
       "AMPSLEkid_cells_0139         0.0       1.0               2.0       0.0   \n",
       "AMPSLEkid_cells_0140         1.0       0.0               0.0       0.0   \n",
       "\n",
       "                      Race_[A][B]  Race_[B]  ...  Final_Site_JHU  \\\n",
       "sample                                       ...                   \n",
       "AMPSLEkid_cells_0134          0.0       0.0  ...             0.0   \n",
       "AMPSLEkid_cells_0137          0.0       1.0  ...             0.0   \n",
       "AMPSLEkid_cells_0138          0.0       0.0  ...             0.0   \n",
       "AMPSLEkid_cells_0139          0.0       1.0  ...             0.0   \n",
       "AMPSLEkid_cells_0140          0.0       1.0  ...             0.0   \n",
       "\n",
       "                      Final_Site_Michigan  Final_Site_MUSC  \\\n",
       "sample                                                       \n",
       "AMPSLEkid_cells_0134                  0.0              0.0   \n",
       "AMPSLEkid_cells_0137                  0.0              0.0   \n",
       "AMPSLEkid_cells_0138                  0.0              0.0   \n",
       "AMPSLEkid_cells_0139                  0.0              0.0   \n",
       "AMPSLEkid_cells_0140                  0.0              0.0   \n",
       "\n",
       "                      Final_Site_Northwell  Final_Site_NYU  \\\n",
       "sample                                                       \n",
       "AMPSLEkid_cells_0134                   0.0             0.0   \n",
       "AMPSLEkid_cells_0137                   0.0             0.0   \n",
       "AMPSLEkid_cells_0138                   0.0             0.0   \n",
       "AMPSLEkid_cells_0139                   0.0             0.0   \n",
       "AMPSLEkid_cells_0140                   0.0             0.0   \n",
       "\n",
       "                      Final_Site_Rochester  Final_Site_Texas Tech  \\\n",
       "sample                                                              \n",
       "AMPSLEkid_cells_0134                   1.0                    0.0   \n",
       "AMPSLEkid_cells_0137                   1.0                    0.0   \n",
       "AMPSLEkid_cells_0138                   1.0                    0.0   \n",
       "AMPSLEkid_cells_0139                   1.0                    0.0   \n",
       "AMPSLEkid_cells_0140                   1.0                    0.0   \n",
       "\n",
       "                      Final_Site_UCLA  Final_Site_UCSD  Final_Site_UCSF  \n",
       "sample                                                                   \n",
       "AMPSLEkid_cells_0134              0.0              0.0              0.0  \n",
       "AMPSLEkid_cells_0137              0.0              0.0              0.0  \n",
       "AMPSLEkid_cells_0138              0.0              0.0              0.0  \n",
       "AMPSLEkid_cells_0139              0.0              0.0              0.0  \n",
       "AMPSLEkid_cells_0140              0.0              0.0              0.0  \n",
       "\n",
       "[5 rows x 31 columns]"
      ]
     },
     "execution_count": 21,
     "metadata": {},
     "output_type": "execute_result"
    }
   ],
   "source": [
    "# Start by making anndata object\n",
    "d = mad.MultiAnnData(X=harmony, obs=meta, sampleid=\"sample\")\n",
    "#d.obs_to_sample(['Type', 'Site',\n",
    "#                 'Responder_Status', 'Sex',\n",
    "#                 'Age', 'Race',\n",
    "#                'Ethnicity', 'ISN',\n",
    "#               'Activity', \"Chronicity\",\n",
    "#                 'processing_batch'])\n",
    "d.obs_to_sample(['Sex', 'Age', 'Final_Chronicity', 'Final_Activity', 'First_biop', 'Pred_use', 'Responder_Status', 'Race_[A]',\n",
    "       'Race_[A][B]', 'Race_[B]', 'Race_[B][AI]', 'Race_[B][W]', 'Race_[U]',\n",
    "       'Race_[W]', 'Final_ISN_[III]', 'Final_ISN_[III][V]', 'Final_ISN_[IV]',\n",
    "       'Final_ISN_[IV][V]', 'Final_ISN_[V]', 'Final_Site_Cincinnati',\n",
    "       'Final_Site_Einstein', 'Final_Site_JHU', 'Final_Site_Michigan',\n",
    "       'Final_Site_MUSC', 'Final_Site_Northwell', 'Final_Site_NYU',\n",
    "       'Final_Site_Rochester', 'Final_Site_Texas Tech', 'Final_Site_UCLA',\n",
    "       'Final_Site_UCSD', 'Final_Site_UCSF'])\n",
    "d.samplem.head()"
   ]
  },
  {
   "cell_type": "code",
   "execution_count": 23,
   "id": "4f417c3d-f5cc-4371-9e28-a03e0e2993b3",
   "metadata": {},
   "outputs": [],
   "source": [
    "umap.index = d.obs.index\n",
    "d.obsm['X_umap'] = umap"
   ]
  },
  {
   "cell_type": "code",
   "execution_count": 24,
   "id": "31914e42-62bb-4247-9a75-bf992dff2d2c",
   "metadata": {},
   "outputs": [
    {
     "name": "stdout",
     "output_type": "stream",
     "text": [
      "computing default knn graph\n"
     ]
    }
   ],
   "source": [
    "np.random.seed(0) \n",
    "cna.pp.knn(d)"
   ]
  },
  {
   "cell_type": "code",
   "execution_count": 25,
   "id": "25ae6368-869f-46cb-be09-474135431f61",
   "metadata": {},
   "outputs": [
    {
     "name": "stdout",
     "output_type": "stream",
     "text": [
      "qcd NAM not found; computing and saving\n",
      "\ttaking step 1\n",
      "\tmedian kurtosis: 52.71991729736328\n",
      "\t20th percentile R2(t,t-1): nan\n",
      "\ttaking step 2\n",
      "\tmedian kurtosis: 33.68928527832031\n",
      "\t20th percentile R2(t,t-1): 0.7436593174934387\n",
      "\ttaking step 3\n",
      "\tmedian kurtosis: 23.012622833251953\n",
      "\t20th percentile R2(t,t-1): 0.8982551097869873\n",
      "\ttaking step 4\n",
      "\tmedian kurtosis: 16.160520553588867\n",
      "\t20th percentile R2(t,t-1): 0.93894362449646\n",
      "\ttaking step 5\n",
      "\tmedian kurtosis: 12.253840446472168\n",
      "\t20th percentile R2(t,t-1): 0.9611961245536804\n",
      "\ttaking step 6\n",
      "\tmedian kurtosis: 10.029513359069824\n",
      "\t20th percentile R2(t,t-1): 0.976091206073761\n",
      "stopping after 6 steps\n",
      "covariate-adjusted NAM not found; computing and saving\n",
      "computing SVD\n"
     ]
    },
    {
     "name": "stderr",
     "output_type": "stream",
     "text": [
      "/PHShome/ssg34/.conda/envs/plswork/lib/python3.9/site-packages/cna/tools/_nam.py:79: UserWarning: only one unique batch supplied to qc\n",
      "  warnings.warn('only one unique batch supplied to qc')\n",
      "/PHShome/ssg34/.conda/envs/plswork/lib/python3.9/site-packages/cna/tools/_nam.py:101: UserWarning: only one unique batch supplied to prep\n",
      "  warnings.warn('only one unique batch supplied to prep')\n"
     ]
    },
    {
     "name": "stdout",
     "output_type": "stream",
     "text": [
      "performing association test\n",
      "computing neighborhood-level FDRs\n",
      "1\n",
      "[1, 2, 3, 4, 5, 6, 7, 8, 9, 10, 11, 12, 13, 14, 15, 16, 17, 18, 19, 20]\n",
      "p = 0.0745925407459254 , 1 PCs used\n",
      "total r^2 between top 1 NAM PCs and outcome is 0.04\n"
     ]
    }
   ],
   "source": [
    "np.random.seed(0) \n",
    "res = cna.tl._association.association(d, #dataset \n",
    "                                      d.samplem.Age, #phenotype\n",
    "#                                       batches=d.samplem.processing_batch, #batches\n",
    "                                      Nnull=10000, # number of null permutations to do (defaults to only 1e3)\n",
    "                                      ks=[1,2,3,4,5,6,7,8,9,10,11,12,13,14,15,16,17,18,19,20] # I asked the method to consider up to 10 PCs because\n",
    "                                                                #it chose the max number of PCs it considered the default set of [1,2,3,4]\n",
    "                                     )\n",
    "print(res.k)\n",
    "print(res.ks)\n",
    "print('p =', res.p, ',', res.k, 'PCs used')\n",
    "print('total r^2 between top {} NAM PCs and outcome is {:.2f}'.format(res.k, res.r2))"
   ]
  },
  {
   "cell_type": "code",
   "execution_count": 29,
   "id": "990f5d10-4402-48b6-8f07-68e4f07c3d8c",
   "metadata": {},
   "outputs": [],
   "source": [
    "sc_uni['Age'] = res.p"
   ]
  },
  {
   "cell_type": "code",
   "execution_count": 26,
   "id": "6947fba7-b765-42fb-a77e-f124115d4c5b",
   "metadata": {},
   "outputs": [],
   "source": [
    "np.savetxt(\"/data/srlab/ssg34/SLE_kidney_v2/data/cna_new/t_nk/age_sex_response_race/sc_age_ncorr.csv\", \n",
    "               res.ncorrs, delimiter=\",\")\n",
    "np.savetxt(\"/data/srlab/ssg34/SLE_kidney_v2/data/cna_new/t_nk/age_sex_response_race/sc_age_fdrs.csv\", \n",
    "               res.fdrs, delimiter=\",\")"
   ]
  },
  {
   "cell_type": "markdown",
   "id": "f1c8d8e3-03d5-4638-b96a-1d7bc980f179",
   "metadata": {},
   "source": [
    "## Single Nuclei"
   ]
  },
  {
   "cell_type": "code",
   "execution_count": 95,
   "id": "8e926f40-c200-4859-8213-c752e20d6f44",
   "metadata": {},
   "outputs": [
    {
     "name": "stdout",
     "output_type": "stream",
     "text": [
      "(2458, 9)\n"
     ]
    }
   ],
   "source": [
    "meta = pd.read_csv('/data/srlab/ssg34/SLE_kidney_v2/data/cna_new/t_nk/age_sex_response_race/sn_meta_age.csv')\n",
    "print(meta.shape)"
   ]
  },
  {
   "cell_type": "code",
   "execution_count": 96,
   "id": "00af8e7c-925d-40cf-a19c-092e1f5832b9",
   "metadata": {},
   "outputs": [
    {
     "name": "stdout",
     "output_type": "stream",
     "text": [
      "(2458, 2)\n"
     ]
    }
   ],
   "source": [
    "harmony = pd.read_csv('/data/srlab/ssg34/SLE_kidney_v2/data/cna_new/t_nk/age_sex_response_race/sn_harmony_age.csv')\n",
    "print(harmony.shape)"
   ]
  },
  {
   "cell_type": "code",
   "execution_count": 97,
   "id": "00dda6b9-7b8b-430e-803f-6ba8b7f30822",
   "metadata": {},
   "outputs": [
    {
     "name": "stdout",
     "output_type": "stream",
     "text": [
      "(2458, 2)\n"
     ]
    }
   ],
   "source": [
    "umap = pd.read_csv('/data/srlab/ssg34/SLE_kidney_v2/data/cna_new/t_nk/age_sex_response_race/sn_umap_age.csv')\n",
    "print(harmony.shape)"
   ]
  },
  {
   "cell_type": "code",
   "execution_count": 98,
   "id": "b4464b23-abc2-409b-85b3-6846ea88043b",
   "metadata": {},
   "outputs": [
    {
     "name": "stdout",
     "output_type": "stream",
     "text": [
      "warning: the following columns of obs are non-numeric.\n",
      "['cell' 'Sex' 'sample' 'final_annotation' 'Responder.Status' 'Race' 'ISN'\n",
      " 'Type']\n",
      "consider casting to numeric types where appropriate, and\n",
      "consider re-coding text-valued columns with pandas.get_dummies\n"
     ]
    },
    {
     "name": "stderr",
     "output_type": "stream",
     "text": [
      "/PHShome/ssg34/.conda/envs/plswork/lib/python3.9/site-packages/multianndata/core.py:17: FutureWarning: X.dtype being converted to np.float32 from float64. In the next version of anndata (0.9) conversion will not be automatic. Pass dtype explicitly to avoid this warning. Pass `AnnData(X, dtype=X.dtype, ...)` to get the future behavour.\n",
      "  super().__init__(*args, **kwargs)\n",
      "/PHShome/ssg34/.conda/envs/plswork/lib/python3.9/site-packages/anndata/_core/anndata.py:121: ImplicitModificationWarning: Transforming to str index.\n",
      "  warnings.warn(\"Transforming to str index.\", ImplicitModificationWarning)\n"
     ]
    },
    {
     "data": {
      "text/html": [
       "<div>\n",
       "<style scoped>\n",
       "    .dataframe tbody tr th:only-of-type {\n",
       "        vertical-align: middle;\n",
       "    }\n",
       "\n",
       "    .dataframe tbody tr th {\n",
       "        vertical-align: top;\n",
       "    }\n",
       "\n",
       "    .dataframe thead th {\n",
       "        text-align: right;\n",
       "    }\n",
       "</style>\n",
       "<table border=\"1\" class=\"dataframe\">\n",
       "  <thead>\n",
       "    <tr style=\"text-align: right;\">\n",
       "      <th></th>\n",
       "      <th>Age</th>\n",
       "    </tr>\n",
       "    <tr>\n",
       "      <th>sample</th>\n",
       "      <th></th>\n",
       "    </tr>\n",
       "  </thead>\n",
       "  <tbody>\n",
       "    <tr>\n",
       "      <th>AMPSLEkid_cells_0137</th>\n",
       "      <td>10.0</td>\n",
       "    </tr>\n",
       "    <tr>\n",
       "      <th>AMPSLEkid_cells_0138</th>\n",
       "      <td>16.0</td>\n",
       "    </tr>\n",
       "    <tr>\n",
       "      <th>AMPSLEkid_cells_0139</th>\n",
       "      <td>20.0</td>\n",
       "    </tr>\n",
       "    <tr>\n",
       "      <th>AMPSLEkid_cells_0147</th>\n",
       "      <td>20.0</td>\n",
       "    </tr>\n",
       "    <tr>\n",
       "      <th>AMPSLEkid_cells_0366</th>\n",
       "      <td>3.0</td>\n",
       "    </tr>\n",
       "  </tbody>\n",
       "</table>\n",
       "</div>"
      ],
      "text/plain": [
       "                       Age\n",
       "sample                    \n",
       "AMPSLEkid_cells_0137  10.0\n",
       "AMPSLEkid_cells_0138  16.0\n",
       "AMPSLEkid_cells_0139  20.0\n",
       "AMPSLEkid_cells_0147  20.0\n",
       "AMPSLEkid_cells_0366   3.0"
      ]
     },
     "execution_count": 98,
     "metadata": {},
     "output_type": "execute_result"
    }
   ],
   "source": [
    "# Start by making anndata object\n",
    "d = mad.MultiAnnData(X=harmony, obs=meta, sampleid=\"sample\")\n",
    "#d.obs_to_sample(['Type', 'Site',\n",
    "#                 'Responder_Status', 'Sex',\n",
    "#                 'Age', 'Race',\n",
    "#                'Ethnicity', 'ISN',\n",
    "#               'Activity', \"Chronicity\",\n",
    "#                 'processing_batch'])\n",
    "d.obs_to_sample(['Age'])\n",
    "d.samplem.head()"
   ]
  },
  {
   "cell_type": "code",
   "execution_count": 65,
   "id": "18d7c29e-46ac-4332-a27b-be42c9a8ae1f",
   "metadata": {},
   "outputs": [],
   "source": [
    "umap.index = d.obs.index\n",
    "d.obsm['X_umap'] = umap"
   ]
  },
  {
   "cell_type": "code",
   "execution_count": 66,
   "id": "5b7d591e-7c47-4b75-9a95-f0f9702a3d2b",
   "metadata": {},
   "outputs": [
    {
     "name": "stdout",
     "output_type": "stream",
     "text": [
      "computing default knn graph\n"
     ]
    }
   ],
   "source": [
    "np.random.seed(0) \n",
    "cna.pp.knn(d)"
   ]
  },
  {
   "cell_type": "code",
   "execution_count": 67,
   "id": "610a16f9-5658-4ce4-9cbd-f5307fde3431",
   "metadata": {},
   "outputs": [
    {
     "name": "stdout",
     "output_type": "stream",
     "text": [
      "qcd NAM not found; computing and saving\n",
      "\ttaking step 1\n",
      "\tmedian kurtosis: 12.301113833105543\n",
      "\t20th percentile R2(t,t-1): nan\n",
      "\ttaking step 2\n",
      "\tmedian kurtosis: 9.702449771227254\n",
      "\t20th percentile R2(t,t-1): 0.8935939192771911\n",
      "\ttaking step 3\n",
      "\tmedian kurtosis: 8.353166446189142\n",
      "\t20th percentile R2(t,t-1): 0.9651938438415527\n",
      "stopping after 3 steps\n",
      "covariate-adjusted NAM not found; computing and saving\n",
      "computing SVD\n",
      "performing association test\n"
     ]
    },
    {
     "name": "stderr",
     "output_type": "stream",
     "text": [
      "/PHShome/ssg34/.conda/envs/plswork/lib/python3.9/site-packages/cna/tools/_nam.py:79: UserWarning: only one unique batch supplied to qc\n",
      "  warnings.warn('only one unique batch supplied to qc')\n",
      "/PHShome/ssg34/.conda/envs/plswork/lib/python3.9/site-packages/cna/tools/_nam.py:101: UserWarning: only one unique batch supplied to prep\n",
      "  warnings.warn('only one unique batch supplied to prep')\n"
     ]
    },
    {
     "name": "stdout",
     "output_type": "stream",
     "text": [
      "computing neighborhood-level FDRs\n",
      "19\n",
      "[1, 2, 3, 4, 5, 6, 7, 8, 9, 10, 11, 12, 13, 14, 15, 16, 17, 18, 19, 20]\n",
      "p = 0.6993300669933007 , 19 PCs used\n",
      "total r^2 between top 19 NAM PCs and outcome is 0.49\n"
     ]
    }
   ],
   "source": [
    "np.random.seed(0) \n",
    "res = cna.tl._association.association(d, #dataset \n",
    "                                      d.samplem.Age, #phenotype\n",
    "#                                       batches=d.samplem.processing_batch, #batches\n",
    "                                      Nnull=10000, # number of null permutations to do (defaults to only 1e3)\n",
    "                                      ks=[1,2,3,4,5,6,7,8,9,10,11,12,13,14,15,16,17,18,19,20] # I asked the method to consider up to 10 PCs because\n",
    "                                                                #it chose the max number of PCs it considered the default set of [1,2,3,4]\n",
    "                                     )\n",
    "print(res.k)\n",
    "print(res.ks)\n",
    "print('p =', res.p, ',', res.k, 'PCs used')\n",
    "print('total r^2 between top {} NAM PCs and outcome is {:.2f}'.format(res.k, res.r2))"
   ]
  },
  {
   "cell_type": "code",
   "execution_count": 68,
   "id": "ffa6cfd0-8c0d-431f-a004-fb4490c56ad5",
   "metadata": {},
   "outputs": [],
   "source": [
    "np.savetxt(\"/data/srlab/ssg34/SLE_kidney_v2/data/cna_new/t_nk/age_sex_response_race/sn_age_ncorr.csv\", \n",
    "               res.ncorrs, delimiter=\",\")\n",
    "np.savetxt(\"/data/srlab/ssg34/SLE_kidney_v2/data/cna_new/t_nk/age_sex_response_race/sn_age_fdrs.csv\", \n",
    "               res.fdrs, delimiter=\",\")"
   ]
  },
  {
   "cell_type": "markdown",
   "id": "7080d124-fd8c-4a96-beb1-da2f2957293c",
   "metadata": {},
   "source": [
    "# SEX"
   ]
  },
  {
   "cell_type": "markdown",
   "id": "1895bae9-62b0-4413-968a-1b5921c279e3",
   "metadata": {},
   "source": [
    "## Single Cell"
   ]
  },
  {
   "cell_type": "code",
   "execution_count": 34,
   "id": "54e8b783-81e5-4883-b706-ff283ddee3ed",
   "metadata": {},
   "outputs": [
    {
     "name": "stdout",
     "output_type": "stream",
     "text": [
      "(35187, 39)\n"
     ]
    }
   ],
   "source": [
    "meta = pd.read_csv('/data/srlab/ssg34/SLE_kidney_v2/data/cna_new/t_nk/age_sex_response_race/sc_meta_sex.csv')\n",
    "print(meta.shape)"
   ]
  },
  {
   "cell_type": "code",
   "execution_count": 35,
   "id": "a6c7af39-26e6-4304-923a-5399f8e96774",
   "metadata": {},
   "outputs": [
    {
     "name": "stdout",
     "output_type": "stream",
     "text": [
      "(35187, 20)\n"
     ]
    }
   ],
   "source": [
    "harmony = pd.read_csv('/data/srlab/ssg34/SLE_kidney_v2/data/cna_new/t_nk/age_sex_response_race/sc_harmony_sex.csv')\n",
    "print(harmony.shape)"
   ]
  },
  {
   "cell_type": "code",
   "execution_count": 36,
   "id": "371628e0-4583-4a4c-a6c2-1fc30d0d06ba",
   "metadata": {},
   "outputs": [
    {
     "name": "stdout",
     "output_type": "stream",
     "text": [
      "(35187, 20)\n"
     ]
    }
   ],
   "source": [
    "umap = pd.read_csv('/data/srlab/ssg34/SLE_kidney_v2/data/cna_new/t_nk/age_sex_response_race/sc_umap_sex.csv')\n",
    "print(harmony.shape)"
   ]
  },
  {
   "cell_type": "code",
   "execution_count": 37,
   "id": "8dc2e9a2-28b3-42ec-8bed-6bea0c1bef37",
   "metadata": {},
   "outputs": [
    {
     "name": "stdout",
     "output_type": "stream",
     "text": [
      "warning: the following columns of obs are non-numeric.\n",
      "['cell' 'sample' 'final_annotation' 'Responder.Status' 'Race' 'Final_ISN'\n",
      " 'Type' 'Final_Site']\n",
      "consider casting to numeric types where appropriate, and\n",
      "consider re-coding text-valued columns with pandas.get_dummies\n"
     ]
    },
    {
     "name": "stderr",
     "output_type": "stream",
     "text": [
      "/PHShome/ssg34/.conda/envs/plswork/lib/python3.9/site-packages/multianndata/core.py:17: FutureWarning: X.dtype being converted to np.float32 from float64. In the next version of anndata (0.9) conversion will not be automatic. Pass dtype explicitly to avoid this warning. Pass `AnnData(X, dtype=X.dtype, ...)` to get the future behavour.\n",
      "  super().__init__(*args, **kwargs)\n",
      "/PHShome/ssg34/.conda/envs/plswork/lib/python3.9/site-packages/anndata/_core/anndata.py:121: ImplicitModificationWarning: Transforming to str index.\n",
      "  warnings.warn(\"Transforming to str index.\", ImplicitModificationWarning)\n"
     ]
    },
    {
     "data": {
      "text/html": [
       "<div>\n",
       "<style scoped>\n",
       "    .dataframe tbody tr th:only-of-type {\n",
       "        vertical-align: middle;\n",
       "    }\n",
       "\n",
       "    .dataframe tbody tr th {\n",
       "        vertical-align: top;\n",
       "    }\n",
       "\n",
       "    .dataframe thead th {\n",
       "        text-align: right;\n",
       "    }\n",
       "</style>\n",
       "<table border=\"1\" class=\"dataframe\">\n",
       "  <thead>\n",
       "    <tr style=\"text-align: right;\">\n",
       "      <th></th>\n",
       "      <th>Sex</th>\n",
       "      <th>Age</th>\n",
       "      <th>Final_Chronicity</th>\n",
       "      <th>Final_Activity</th>\n",
       "      <th>First_biop</th>\n",
       "      <th>Pred_use</th>\n",
       "      <th>Responder_Status</th>\n",
       "      <th>Race_[A]</th>\n",
       "      <th>Race_[A][B]</th>\n",
       "      <th>Race_[B]</th>\n",
       "      <th>...</th>\n",
       "      <th>Final_Site_JHU</th>\n",
       "      <th>Final_Site_Michigan</th>\n",
       "      <th>Final_Site_MUSC</th>\n",
       "      <th>Final_Site_Northwell</th>\n",
       "      <th>Final_Site_NYU</th>\n",
       "      <th>Final_Site_Rochester</th>\n",
       "      <th>Final_Site_Texas Tech</th>\n",
       "      <th>Final_Site_UCLA</th>\n",
       "      <th>Final_Site_UCSD</th>\n",
       "      <th>Final_Site_UCSF</th>\n",
       "    </tr>\n",
       "    <tr>\n",
       "      <th>sample</th>\n",
       "      <th></th>\n",
       "      <th></th>\n",
       "      <th></th>\n",
       "      <th></th>\n",
       "      <th></th>\n",
       "      <th></th>\n",
       "      <th></th>\n",
       "      <th></th>\n",
       "      <th></th>\n",
       "      <th></th>\n",
       "      <th></th>\n",
       "      <th></th>\n",
       "      <th></th>\n",
       "      <th></th>\n",
       "      <th></th>\n",
       "      <th></th>\n",
       "      <th></th>\n",
       "      <th></th>\n",
       "      <th></th>\n",
       "      <th></th>\n",
       "      <th></th>\n",
       "    </tr>\n",
       "  </thead>\n",
       "  <tbody>\n",
       "    <tr>\n",
       "      <th>AMPSLEkid_cells_0134</th>\n",
       "      <td>1.0</td>\n",
       "      <td>0.760126</td>\n",
       "      <td>6.0</td>\n",
       "      <td>4.0</td>\n",
       "      <td>0.0</td>\n",
       "      <td>0.0</td>\n",
       "      <td>0.0</td>\n",
       "      <td>1.0</td>\n",
       "      <td>0.0</td>\n",
       "      <td>0.0</td>\n",
       "      <td>...</td>\n",
       "      <td>0.0</td>\n",
       "      <td>0.0</td>\n",
       "      <td>0.0</td>\n",
       "      <td>0.0</td>\n",
       "      <td>0.0</td>\n",
       "      <td>1.0</td>\n",
       "      <td>0.0</td>\n",
       "      <td>0.0</td>\n",
       "      <td>0.0</td>\n",
       "      <td>0.0</td>\n",
       "    </tr>\n",
       "    <tr>\n",
       "      <th>AMPSLEkid_cells_0137</th>\n",
       "      <td>1.0</td>\n",
       "      <td>-0.183948</td>\n",
       "      <td>3.0</td>\n",
       "      <td>5.0</td>\n",
       "      <td>0.0</td>\n",
       "      <td>1.0</td>\n",
       "      <td>2.0</td>\n",
       "      <td>0.0</td>\n",
       "      <td>0.0</td>\n",
       "      <td>1.0</td>\n",
       "      <td>...</td>\n",
       "      <td>0.0</td>\n",
       "      <td>0.0</td>\n",
       "      <td>0.0</td>\n",
       "      <td>0.0</td>\n",
       "      <td>0.0</td>\n",
       "      <td>1.0</td>\n",
       "      <td>0.0</td>\n",
       "      <td>0.0</td>\n",
       "      <td>0.0</td>\n",
       "      <td>0.0</td>\n",
       "    </tr>\n",
       "    <tr>\n",
       "      <th>AMPSLEkid_cells_0138</th>\n",
       "      <td>1.0</td>\n",
       "      <td>0.331002</td>\n",
       "      <td>0.0</td>\n",
       "      <td>0.0</td>\n",
       "      <td>1.0</td>\n",
       "      <td>1.0</td>\n",
       "      <td>2.0</td>\n",
       "      <td>0.0</td>\n",
       "      <td>0.0</td>\n",
       "      <td>0.0</td>\n",
       "      <td>...</td>\n",
       "      <td>0.0</td>\n",
       "      <td>0.0</td>\n",
       "      <td>0.0</td>\n",
       "      <td>0.0</td>\n",
       "      <td>0.0</td>\n",
       "      <td>1.0</td>\n",
       "      <td>0.0</td>\n",
       "      <td>0.0</td>\n",
       "      <td>0.0</td>\n",
       "      <td>0.0</td>\n",
       "    </tr>\n",
       "    <tr>\n",
       "      <th>AMPSLEkid_cells_0139</th>\n",
       "      <td>1.0</td>\n",
       "      <td>0.674301</td>\n",
       "      <td>3.0</td>\n",
       "      <td>2.0</td>\n",
       "      <td>0.0</td>\n",
       "      <td>1.0</td>\n",
       "      <td>2.0</td>\n",
       "      <td>0.0</td>\n",
       "      <td>0.0</td>\n",
       "      <td>1.0</td>\n",
       "      <td>...</td>\n",
       "      <td>0.0</td>\n",
       "      <td>0.0</td>\n",
       "      <td>0.0</td>\n",
       "      <td>0.0</td>\n",
       "      <td>0.0</td>\n",
       "      <td>1.0</td>\n",
       "      <td>0.0</td>\n",
       "      <td>0.0</td>\n",
       "      <td>0.0</td>\n",
       "      <td>0.0</td>\n",
       "    </tr>\n",
       "    <tr>\n",
       "      <th>AMPSLEkid_cells_0140</th>\n",
       "      <td>1.0</td>\n",
       "      <td>-0.956372</td>\n",
       "      <td>1.0</td>\n",
       "      <td>1.0</td>\n",
       "      <td>1.0</td>\n",
       "      <td>0.0</td>\n",
       "      <td>0.0</td>\n",
       "      <td>0.0</td>\n",
       "      <td>0.0</td>\n",
       "      <td>1.0</td>\n",
       "      <td>...</td>\n",
       "      <td>0.0</td>\n",
       "      <td>0.0</td>\n",
       "      <td>0.0</td>\n",
       "      <td>0.0</td>\n",
       "      <td>0.0</td>\n",
       "      <td>1.0</td>\n",
       "      <td>0.0</td>\n",
       "      <td>0.0</td>\n",
       "      <td>0.0</td>\n",
       "      <td>0.0</td>\n",
       "    </tr>\n",
       "  </tbody>\n",
       "</table>\n",
       "<p>5 rows × 31 columns</p>\n",
       "</div>"
      ],
      "text/plain": [
       "                      Sex       Age  Final_Chronicity  Final_Activity  \\\n",
       "sample                                                                  \n",
       "AMPSLEkid_cells_0134  1.0  0.760126               6.0             4.0   \n",
       "AMPSLEkid_cells_0137  1.0 -0.183948               3.0             5.0   \n",
       "AMPSLEkid_cells_0138  1.0  0.331002               0.0             0.0   \n",
       "AMPSLEkid_cells_0139  1.0  0.674301               3.0             2.0   \n",
       "AMPSLEkid_cells_0140  1.0 -0.956372               1.0             1.0   \n",
       "\n",
       "                      First_biop  Pred_use  Responder_Status  Race_[A]  \\\n",
       "sample                                                                   \n",
       "AMPSLEkid_cells_0134         0.0       0.0               0.0       1.0   \n",
       "AMPSLEkid_cells_0137         0.0       1.0               2.0       0.0   \n",
       "AMPSLEkid_cells_0138         1.0       1.0               2.0       0.0   \n",
       "AMPSLEkid_cells_0139         0.0       1.0               2.0       0.0   \n",
       "AMPSLEkid_cells_0140         1.0       0.0               0.0       0.0   \n",
       "\n",
       "                      Race_[A][B]  Race_[B]  ...  Final_Site_JHU  \\\n",
       "sample                                       ...                   \n",
       "AMPSLEkid_cells_0134          0.0       0.0  ...             0.0   \n",
       "AMPSLEkid_cells_0137          0.0       1.0  ...             0.0   \n",
       "AMPSLEkid_cells_0138          0.0       0.0  ...             0.0   \n",
       "AMPSLEkid_cells_0139          0.0       1.0  ...             0.0   \n",
       "AMPSLEkid_cells_0140          0.0       1.0  ...             0.0   \n",
       "\n",
       "                      Final_Site_Michigan  Final_Site_MUSC  \\\n",
       "sample                                                       \n",
       "AMPSLEkid_cells_0134                  0.0              0.0   \n",
       "AMPSLEkid_cells_0137                  0.0              0.0   \n",
       "AMPSLEkid_cells_0138                  0.0              0.0   \n",
       "AMPSLEkid_cells_0139                  0.0              0.0   \n",
       "AMPSLEkid_cells_0140                  0.0              0.0   \n",
       "\n",
       "                      Final_Site_Northwell  Final_Site_NYU  \\\n",
       "sample                                                       \n",
       "AMPSLEkid_cells_0134                   0.0             0.0   \n",
       "AMPSLEkid_cells_0137                   0.0             0.0   \n",
       "AMPSLEkid_cells_0138                   0.0             0.0   \n",
       "AMPSLEkid_cells_0139                   0.0             0.0   \n",
       "AMPSLEkid_cells_0140                   0.0             0.0   \n",
       "\n",
       "                      Final_Site_Rochester  Final_Site_Texas Tech  \\\n",
       "sample                                                              \n",
       "AMPSLEkid_cells_0134                   1.0                    0.0   \n",
       "AMPSLEkid_cells_0137                   1.0                    0.0   \n",
       "AMPSLEkid_cells_0138                   1.0                    0.0   \n",
       "AMPSLEkid_cells_0139                   1.0                    0.0   \n",
       "AMPSLEkid_cells_0140                   1.0                    0.0   \n",
       "\n",
       "                      Final_Site_UCLA  Final_Site_UCSD  Final_Site_UCSF  \n",
       "sample                                                                   \n",
       "AMPSLEkid_cells_0134              0.0              0.0              0.0  \n",
       "AMPSLEkid_cells_0137              0.0              0.0              0.0  \n",
       "AMPSLEkid_cells_0138              0.0              0.0              0.0  \n",
       "AMPSLEkid_cells_0139              0.0              0.0              0.0  \n",
       "AMPSLEkid_cells_0140              0.0              0.0              0.0  \n",
       "\n",
       "[5 rows x 31 columns]"
      ]
     },
     "execution_count": 37,
     "metadata": {},
     "output_type": "execute_result"
    }
   ],
   "source": [
    "# Start by making anndata object\n",
    "d = mad.MultiAnnData(X=harmony, obs=meta, sampleid=\"sample\")\n",
    "#d.obs_to_sample(['Type', 'Site',\n",
    "#                 'Responder_Status', 'Sex',\n",
    "#                 'Age', 'Race',\n",
    "#                'Ethnicity', 'ISN',\n",
    "#               'Activity', \"Chronicity\",\n",
    "#                 'processing_batch'])\n",
    "d.obs_to_sample(['Sex', 'Age', 'Final_Chronicity', 'Final_Activity', 'First_biop', 'Pred_use', 'Responder_Status', 'Race_[A]',\n",
    "       'Race_[A][B]', 'Race_[B]', 'Race_[B][AI]', 'Race_[B][W]', 'Race_[U]',\n",
    "       'Race_[W]', 'Final_ISN_[III]', 'Final_ISN_[III][V]', 'Final_ISN_[IV]',\n",
    "       'Final_ISN_[IV][V]', 'Final_ISN_[V]', 'Final_Site_Cincinnati',\n",
    "       'Final_Site_Einstein', 'Final_Site_JHU', 'Final_Site_Michigan',\n",
    "       'Final_Site_MUSC', 'Final_Site_Northwell', 'Final_Site_NYU',\n",
    "       'Final_Site_Rochester', 'Final_Site_Texas Tech', 'Final_Site_UCLA',\n",
    "       'Final_Site_UCSD', 'Final_Site_UCSF'])\n",
    "d.samplem.head()"
   ]
  },
  {
   "cell_type": "code",
   "execution_count": 38,
   "id": "f61fbaa7-5af2-4ce6-8de2-8c3a9476273c",
   "metadata": {},
   "outputs": [],
   "source": [
    "umap.index = d.obs.index\n",
    "d.obsm['X_umap'] = umap"
   ]
  },
  {
   "cell_type": "code",
   "execution_count": 39,
   "id": "47a14f41-837c-4546-8322-28964ae4717f",
   "metadata": {},
   "outputs": [
    {
     "name": "stdout",
     "output_type": "stream",
     "text": [
      "computing default knn graph\n"
     ]
    }
   ],
   "source": [
    "np.random.seed(0) \n",
    "cna.pp.knn(d)"
   ]
  },
  {
   "cell_type": "code",
   "execution_count": 40,
   "id": "2ba460fb-a006-4716-a9f1-f2ed7379b83a",
   "metadata": {},
   "outputs": [
    {
     "name": "stdout",
     "output_type": "stream",
     "text": [
      "qcd NAM not found; computing and saving\n",
      "\ttaking step 1\n",
      "\tmedian kurtosis: 52.71991729736328\n",
      "\t20th percentile R2(t,t-1): nan\n",
      "\ttaking step 2\n",
      "\tmedian kurtosis: 33.68928527832031\n",
      "\t20th percentile R2(t,t-1): 0.7436593174934387\n",
      "\ttaking step 3\n",
      "\tmedian kurtosis: 23.012622833251953\n",
      "\t20th percentile R2(t,t-1): 0.8982551097869873\n",
      "\ttaking step 4\n",
      "\tmedian kurtosis: 16.160520553588867\n",
      "\t20th percentile R2(t,t-1): 0.93894362449646\n",
      "\ttaking step 5\n",
      "\tmedian kurtosis: 12.253840446472168\n",
      "\t20th percentile R2(t,t-1): 0.9611961245536804\n",
      "\ttaking step 6\n",
      "\tmedian kurtosis: 10.029513359069824\n",
      "\t20th percentile R2(t,t-1): 0.976091206073761\n",
      "stopping after 6 steps\n",
      "covariate-adjusted NAM not found; computing and saving\n",
      "computing SVD\n"
     ]
    },
    {
     "name": "stderr",
     "output_type": "stream",
     "text": [
      "/PHShome/ssg34/.conda/envs/plswork/lib/python3.9/site-packages/cna/tools/_nam.py:79: UserWarning: only one unique batch supplied to qc\n",
      "  warnings.warn('only one unique batch supplied to qc')\n",
      "/PHShome/ssg34/.conda/envs/plswork/lib/python3.9/site-packages/cna/tools/_nam.py:101: UserWarning: only one unique batch supplied to prep\n",
      "  warnings.warn('only one unique batch supplied to prep')\n"
     ]
    },
    {
     "name": "stdout",
     "output_type": "stream",
     "text": [
      "performing association test\n",
      "computing neighborhood-level FDRs\n",
      "1\n",
      "[1, 2, 3, 4, 5, 6, 7, 8, 9, 10, 11, 12, 13, 14, 15, 16, 17, 18, 19, 20]\n",
      "p = 0.28717128287171284 , 1 PCs used\n",
      "total r^2 between top 1 NAM PCs and outcome is 0.02\n"
     ]
    }
   ],
   "source": [
    "np.random.seed(0) \n",
    "res = cna.tl._association.association(d, #dataset \n",
    "                                      d.samplem.Sex, #phenotype\n",
    "#                                       batches=d.samplem.processing_batch, #batches\n",
    "                                      Nnull=10000, # number of null permutations to do (defaults to only 1e3)\n",
    "                                      ks=[1,2,3,4,5,6,7,8,9,10,11,12,13,14,15,16,17,18,19,20] # I asked the method to consider up to 10 PCs because\n",
    "                                                                #it chose the max number of PCs it considered the default set of [1,2,3,4]\n",
    "                                     )\n",
    "print(res.k)\n",
    "print(res.ks)\n",
    "print('p =', res.p, ',', res.k, 'PCs used')\n",
    "print('total r^2 between top {} NAM PCs and outcome is {:.2f}'.format(res.k, res.r2))"
   ]
  },
  {
   "cell_type": "code",
   "execution_count": 41,
   "id": "50dba982-bf9a-429f-b22f-032572d23041",
   "metadata": {},
   "outputs": [],
   "source": [
    "sc_uni['Sex'] = res.p"
   ]
  },
  {
   "cell_type": "markdown",
   "id": "dfdab2ee-f39d-4ff0-ad61-38c008e4815a",
   "metadata": {},
   "source": [
    "# RESPONSE"
   ]
  },
  {
   "cell_type": "markdown",
   "id": "e4bc22bd-d951-4789-895a-0325e36d65ff",
   "metadata": {},
   "source": [
    "## Single Cell"
   ]
  },
  {
   "cell_type": "code",
   "execution_count": 2,
   "id": "de99e651-532b-4db5-ae2d-73ea49b2e656",
   "metadata": {},
   "outputs": [
    {
     "name": "stdout",
     "output_type": "stream",
     "text": [
      "(27974, 37)\n"
     ]
    }
   ],
   "source": [
    "meta = pd.read_csv('/data/srlab/ssg34/SLE_kidney_v2/data/cna_new/t_nk/age_sex_response_race/sc_meta_response.csv')\n",
    "print(meta.shape)"
   ]
  },
  {
   "cell_type": "code",
   "execution_count": 3,
   "id": "4e83dd47-2199-4642-a2c2-ee5eefea81a4",
   "metadata": {},
   "outputs": [
    {
     "name": "stdout",
     "output_type": "stream",
     "text": [
      "(27974, 20)\n"
     ]
    }
   ],
   "source": [
    "harmony = pd.read_csv('/data/srlab/ssg34/SLE_kidney_v2/data/cna_new/t_nk/age_sex_response_race/sc_harmony_response.csv')\n",
    "print(harmony.shape)"
   ]
  },
  {
   "cell_type": "code",
   "execution_count": 4,
   "id": "bd54dbb8-b056-494d-9f14-e0da7dbdd71d",
   "metadata": {},
   "outputs": [
    {
     "name": "stdout",
     "output_type": "stream",
     "text": [
      "(27974, 2)\n"
     ]
    }
   ],
   "source": [
    "umap = pd.read_csv('/data/srlab/ssg34/SLE_kidney_v2/data/cna_new/t_nk/age_sex_response_race/sc_umap_response.csv')\n",
    "print(umap.shape)"
   ]
  },
  {
   "cell_type": "code",
   "execution_count": 5,
   "id": "25efb4f7-b9dd-48e1-a16d-b2e98a5a4aaf",
   "metadata": {},
   "outputs": [
    {
     "name": "stdout",
     "output_type": "stream",
     "text": [
      "warning: the following columns of obs are non-numeric.\n",
      "['cell' 'sample' 'final_annotation' 'Responder.Status' 'Race' 'Final_ISN'\n",
      " 'Type' 'Final_Site']\n",
      "consider casting to numeric types where appropriate, and\n",
      "consider re-coding text-valued columns with pandas.get_dummies\n"
     ]
    },
    {
     "name": "stderr",
     "output_type": "stream",
     "text": [
      "/PHShome/ssg34/.conda/envs/plswork/lib/python3.9/site-packages/multianndata/core.py:17: FutureWarning: X.dtype being converted to np.float32 from float64. In the next version of anndata (0.9) conversion will not be automatic. Pass dtype explicitly to avoid this warning. Pass `AnnData(X, dtype=X.dtype, ...)` to get the future behavour.\n",
      "  super().__init__(*args, **kwargs)\n",
      "/PHShome/ssg34/.conda/envs/plswork/lib/python3.9/site-packages/anndata/_core/anndata.py:121: ImplicitModificationWarning: Transforming to str index.\n",
      "  warnings.warn(\"Transforming to str index.\", ImplicitModificationWarning)\n"
     ]
    },
    {
     "data": {
      "text/html": [
       "<div>\n",
       "<style scoped>\n",
       "    .dataframe tbody tr th:only-of-type {\n",
       "        vertical-align: middle;\n",
       "    }\n",
       "\n",
       "    .dataframe tbody tr th {\n",
       "        vertical-align: top;\n",
       "    }\n",
       "\n",
       "    .dataframe thead th {\n",
       "        text-align: right;\n",
       "    }\n",
       "</style>\n",
       "<table border=\"1\" class=\"dataframe\">\n",
       "  <thead>\n",
       "    <tr style=\"text-align: right;\">\n",
       "      <th></th>\n",
       "      <th>Sex</th>\n",
       "      <th>Age</th>\n",
       "      <th>Final_Chronicity</th>\n",
       "      <th>Final_Activity</th>\n",
       "      <th>First_biop</th>\n",
       "      <th>Pred_use</th>\n",
       "      <th>Responder_Status</th>\n",
       "      <th>Race_[A]</th>\n",
       "      <th>Race_[A][B]</th>\n",
       "      <th>Race_[B]</th>\n",
       "      <th>...</th>\n",
       "      <th>Final_Site_JHU</th>\n",
       "      <th>Final_Site_Michigan</th>\n",
       "      <th>Final_Site_MUSC</th>\n",
       "      <th>Final_Site_Northwell</th>\n",
       "      <th>Final_Site_NYU</th>\n",
       "      <th>Final_Site_Rochester</th>\n",
       "      <th>Final_Site_Texas Tech</th>\n",
       "      <th>Final_Site_UCSD</th>\n",
       "      <th>Final_Site_UCSF</th>\n",
       "      <th>injured_pt_prop</th>\n",
       "    </tr>\n",
       "    <tr>\n",
       "      <th>sample</th>\n",
       "      <th></th>\n",
       "      <th></th>\n",
       "      <th></th>\n",
       "      <th></th>\n",
       "      <th></th>\n",
       "      <th></th>\n",
       "      <th></th>\n",
       "      <th></th>\n",
       "      <th></th>\n",
       "      <th></th>\n",
       "      <th></th>\n",
       "      <th></th>\n",
       "      <th></th>\n",
       "      <th></th>\n",
       "      <th></th>\n",
       "      <th></th>\n",
       "      <th></th>\n",
       "      <th></th>\n",
       "      <th></th>\n",
       "      <th></th>\n",
       "      <th></th>\n",
       "    </tr>\n",
       "  </thead>\n",
       "  <tbody>\n",
       "    <tr>\n",
       "      <th>AMPSLEkid_cells_0134</th>\n",
       "      <td>1.0</td>\n",
       "      <td>0.849071</td>\n",
       "      <td>6.0</td>\n",
       "      <td>4.0</td>\n",
       "      <td>0.0</td>\n",
       "      <td>0.0</td>\n",
       "      <td>0.0</td>\n",
       "      <td>1.0</td>\n",
       "      <td>0.0</td>\n",
       "      <td>0.0</td>\n",
       "      <td>...</td>\n",
       "      <td>0.0</td>\n",
       "      <td>0.0</td>\n",
       "      <td>0.0</td>\n",
       "      <td>0.0</td>\n",
       "      <td>0.0</td>\n",
       "      <td>1.0</td>\n",
       "      <td>0.0</td>\n",
       "      <td>0.0</td>\n",
       "      <td>0.0</td>\n",
       "      <td>16.551724</td>\n",
       "    </tr>\n",
       "    <tr>\n",
       "      <th>AMPSLEkid_cells_0137</th>\n",
       "      <td>1.0</td>\n",
       "      <td>-0.129795</td>\n",
       "      <td>3.0</td>\n",
       "      <td>5.0</td>\n",
       "      <td>0.0</td>\n",
       "      <td>1.0</td>\n",
       "      <td>2.0</td>\n",
       "      <td>0.0</td>\n",
       "      <td>0.0</td>\n",
       "      <td>1.0</td>\n",
       "      <td>...</td>\n",
       "      <td>0.0</td>\n",
       "      <td>0.0</td>\n",
       "      <td>0.0</td>\n",
       "      <td>0.0</td>\n",
       "      <td>0.0</td>\n",
       "      <td>1.0</td>\n",
       "      <td>0.0</td>\n",
       "      <td>0.0</td>\n",
       "      <td>0.0</td>\n",
       "      <td>14.341498</td>\n",
       "    </tr>\n",
       "    <tr>\n",
       "      <th>AMPSLEkid_cells_0138</th>\n",
       "      <td>1.0</td>\n",
       "      <td>0.404132</td>\n",
       "      <td>0.0</td>\n",
       "      <td>0.0</td>\n",
       "      <td>1.0</td>\n",
       "      <td>1.0</td>\n",
       "      <td>2.0</td>\n",
       "      <td>0.0</td>\n",
       "      <td>0.0</td>\n",
       "      <td>0.0</td>\n",
       "      <td>...</td>\n",
       "      <td>0.0</td>\n",
       "      <td>0.0</td>\n",
       "      <td>0.0</td>\n",
       "      <td>0.0</td>\n",
       "      <td>0.0</td>\n",
       "      <td>1.0</td>\n",
       "      <td>0.0</td>\n",
       "      <td>0.0</td>\n",
       "      <td>0.0</td>\n",
       "      <td>5.629663</td>\n",
       "    </tr>\n",
       "    <tr>\n",
       "      <th>AMPSLEkid_cells_0139</th>\n",
       "      <td>1.0</td>\n",
       "      <td>0.760083</td>\n",
       "      <td>3.0</td>\n",
       "      <td>2.0</td>\n",
       "      <td>0.0</td>\n",
       "      <td>1.0</td>\n",
       "      <td>2.0</td>\n",
       "      <td>0.0</td>\n",
       "      <td>0.0</td>\n",
       "      <td>1.0</td>\n",
       "      <td>...</td>\n",
       "      <td>0.0</td>\n",
       "      <td>0.0</td>\n",
       "      <td>0.0</td>\n",
       "      <td>0.0</td>\n",
       "      <td>0.0</td>\n",
       "      <td>1.0</td>\n",
       "      <td>0.0</td>\n",
       "      <td>0.0</td>\n",
       "      <td>0.0</td>\n",
       "      <td>4.405520</td>\n",
       "    </tr>\n",
       "    <tr>\n",
       "      <th>AMPSLEkid_cells_0140</th>\n",
       "      <td>1.0</td>\n",
       "      <td>-0.930685</td>\n",
       "      <td>1.0</td>\n",
       "      <td>1.0</td>\n",
       "      <td>1.0</td>\n",
       "      <td>0.0</td>\n",
       "      <td>0.0</td>\n",
       "      <td>0.0</td>\n",
       "      <td>0.0</td>\n",
       "      <td>1.0</td>\n",
       "      <td>...</td>\n",
       "      <td>0.0</td>\n",
       "      <td>0.0</td>\n",
       "      <td>0.0</td>\n",
       "      <td>0.0</td>\n",
       "      <td>0.0</td>\n",
       "      <td>1.0</td>\n",
       "      <td>0.0</td>\n",
       "      <td>0.0</td>\n",
       "      <td>0.0</td>\n",
       "      <td>6.399412</td>\n",
       "    </tr>\n",
       "  </tbody>\n",
       "</table>\n",
       "<p>5 rows × 29 columns</p>\n",
       "</div>"
      ],
      "text/plain": [
       "                      Sex       Age  Final_Chronicity  Final_Activity  \\\n",
       "sample                                                                  \n",
       "AMPSLEkid_cells_0134  1.0  0.849071               6.0             4.0   \n",
       "AMPSLEkid_cells_0137  1.0 -0.129795               3.0             5.0   \n",
       "AMPSLEkid_cells_0138  1.0  0.404132               0.0             0.0   \n",
       "AMPSLEkid_cells_0139  1.0  0.760083               3.0             2.0   \n",
       "AMPSLEkid_cells_0140  1.0 -0.930685               1.0             1.0   \n",
       "\n",
       "                      First_biop  Pred_use  Responder_Status  Race_[A]  \\\n",
       "sample                                                                   \n",
       "AMPSLEkid_cells_0134         0.0       0.0               0.0       1.0   \n",
       "AMPSLEkid_cells_0137         0.0       1.0               2.0       0.0   \n",
       "AMPSLEkid_cells_0138         1.0       1.0               2.0       0.0   \n",
       "AMPSLEkid_cells_0139         0.0       1.0               2.0       0.0   \n",
       "AMPSLEkid_cells_0140         1.0       0.0               0.0       0.0   \n",
       "\n",
       "                      Race_[A][B]  Race_[B]  ...  Final_Site_JHU  \\\n",
       "sample                                       ...                   \n",
       "AMPSLEkid_cells_0134          0.0       0.0  ...             0.0   \n",
       "AMPSLEkid_cells_0137          0.0       1.0  ...             0.0   \n",
       "AMPSLEkid_cells_0138          0.0       0.0  ...             0.0   \n",
       "AMPSLEkid_cells_0139          0.0       1.0  ...             0.0   \n",
       "AMPSLEkid_cells_0140          0.0       1.0  ...             0.0   \n",
       "\n",
       "                      Final_Site_Michigan  Final_Site_MUSC  \\\n",
       "sample                                                       \n",
       "AMPSLEkid_cells_0134                  0.0              0.0   \n",
       "AMPSLEkid_cells_0137                  0.0              0.0   \n",
       "AMPSLEkid_cells_0138                  0.0              0.0   \n",
       "AMPSLEkid_cells_0139                  0.0              0.0   \n",
       "AMPSLEkid_cells_0140                  0.0              0.0   \n",
       "\n",
       "                      Final_Site_Northwell  Final_Site_NYU  \\\n",
       "sample                                                       \n",
       "AMPSLEkid_cells_0134                   0.0             0.0   \n",
       "AMPSLEkid_cells_0137                   0.0             0.0   \n",
       "AMPSLEkid_cells_0138                   0.0             0.0   \n",
       "AMPSLEkid_cells_0139                   0.0             0.0   \n",
       "AMPSLEkid_cells_0140                   0.0             0.0   \n",
       "\n",
       "                      Final_Site_Rochester  Final_Site_Texas Tech  \\\n",
       "sample                                                              \n",
       "AMPSLEkid_cells_0134                   1.0                    0.0   \n",
       "AMPSLEkid_cells_0137                   1.0                    0.0   \n",
       "AMPSLEkid_cells_0138                   1.0                    0.0   \n",
       "AMPSLEkid_cells_0139                   1.0                    0.0   \n",
       "AMPSLEkid_cells_0140                   1.0                    0.0   \n",
       "\n",
       "                      Final_Site_UCSD  Final_Site_UCSF  injured_pt_prop  \n",
       "sample                                                                   \n",
       "AMPSLEkid_cells_0134              0.0              0.0        16.551724  \n",
       "AMPSLEkid_cells_0137              0.0              0.0        14.341498  \n",
       "AMPSLEkid_cells_0138              0.0              0.0         5.629663  \n",
       "AMPSLEkid_cells_0139              0.0              0.0         4.405520  \n",
       "AMPSLEkid_cells_0140              0.0              0.0         6.399412  \n",
       "\n",
       "[5 rows x 29 columns]"
      ]
     },
     "execution_count": 5,
     "metadata": {},
     "output_type": "execute_result"
    }
   ],
   "source": [
    "# Start by making anndata object\n",
    "d = mad.MultiAnnData(X=harmony, obs=meta, sampleid=\"sample\")\n",
    "#d.obs_to_sample(['Type', 'Site',\n",
    "#                 'Responder_Status', 'Sex',\n",
    "#                 'Age', 'Race',\n",
    "#                'Ethnicity', 'ISN',\n",
    "#               'Activity', \"Chronicity\",\n",
    "#                 'processing_batch'])\n",
    "d.obs_to_sample(['Sex', 'Age', 'Final_Chronicity', 'Final_Activity', 'First_biop', 'Pred_use', 'Responder_Status', 'Race_[A]',\n",
    "       'Race_[A][B]', 'Race_[B]', 'Race_[B][AI]', 'Race_[U]',\n",
    "       'Race_[W]', 'Final_ISN_[III]', 'Final_ISN_[III][V]', 'Final_ISN_[IV]',\n",
    "       'Final_ISN_[IV][V]', 'Final_ISN_[V]', \n",
    "       'Final_Site_Einstein', 'Final_Site_JHU', 'Final_Site_Michigan',\n",
    "       'Final_Site_MUSC', 'Final_Site_Northwell', 'Final_Site_NYU',\n",
    "       'Final_Site_Rochester', 'Final_Site_Texas Tech', \n",
    "       'Final_Site_UCSD', 'Final_Site_UCSF', 'Responder_Status', 'injured_pt_prop'])\n",
    "d.samplem.head()"
   ]
  },
  {
   "cell_type": "code",
   "execution_count": 6,
   "id": "9d1b0313-3d97-4edc-b9c1-81600d1324b9",
   "metadata": {},
   "outputs": [],
   "source": [
    "umap.index = d.obs.index\n",
    "d.obsm['X_umap'] = umap"
   ]
  },
  {
   "cell_type": "code",
   "execution_count": 7,
   "id": "641d1805-9f9a-4b75-bbd8-d0ac630930c2",
   "metadata": {},
   "outputs": [
    {
     "name": "stdout",
     "output_type": "stream",
     "text": [
      "computing default knn graph\n"
     ]
    },
    {
     "name": "stderr",
     "output_type": "stream",
     "text": [
      "/PHShome/ssg34/.conda/envs/plswork/lib/python3.9/site-packages/tqdm/auto.py:22: TqdmWarning: IProgress not found. Please update jupyter and ipywidgets. See https://ipywidgets.readthedocs.io/en/stable/user_install.html\n",
      "  from .autonotebook import tqdm as notebook_tqdm\n"
     ]
    }
   ],
   "source": [
    "np.random.seed(0) \n",
    "cna.pp.knn(d)"
   ]
  },
  {
   "cell_type": "code",
   "execution_count": 8,
   "id": "a57ef2a6-bdac-4809-a85b-aac5d9d4536c",
   "metadata": {},
   "outputs": [
    {
     "name": "stdout",
     "output_type": "stream",
     "text": [
      "qcd NAM not found; computing and saving\n",
      "\ttaking step 1\n",
      "\tmedian kurtosis: 41.67474365234375\n",
      "\t20th percentile R2(t,t-1): nan\n",
      "\ttaking step 2\n",
      "\tmedian kurtosis: 26.450233459472656\n",
      "\t20th percentile R2(t,t-1): 0.746048092842102\n",
      "\ttaking step 3\n",
      "\tmedian kurtosis: 18.167381286621094\n",
      "\t20th percentile R2(t,t-1): 0.8998205661773682\n",
      "\ttaking step 4\n",
      "\tmedian kurtosis: 12.966375350952148\n",
      "\t20th percentile R2(t,t-1): 0.940981924533844\n",
      "\ttaking step 5\n",
      "\tmedian kurtosis: 10.036448955535889\n",
      "\t20th percentile R2(t,t-1): 0.9636072516441345\n",
      "stopping after 5 steps\n",
      "covariate-adjusted NAM not found; computing and saving\n"
     ]
    },
    {
     "name": "stderr",
     "output_type": "stream",
     "text": [
      "/PHShome/ssg34/.conda/envs/plswork/lib/python3.9/site-packages/cna/tools/_nam.py:79: UserWarning: only one unique batch supplied to qc\n",
      "  warnings.warn('only one unique batch supplied to qc')\n",
      "/PHShome/ssg34/.conda/envs/plswork/lib/python3.9/site-packages/cna/tools/_nam.py:101: UserWarning: only one unique batch supplied to prep\n",
      "  warnings.warn('only one unique batch supplied to prep')\n"
     ]
    },
    {
     "name": "stdout",
     "output_type": "stream",
     "text": [
      "computing SVD\n",
      "performing association test\n",
      "computing neighborhood-level FDRs\n",
      "12\n",
      "[1, 2, 3, 4, 5, 6, 7, 8, 9, 10, 11, 12, 13, 14, 15, 16, 17, 18, 19, 20]\n",
      "p = 0.0047995200479952005 , 12 PCs used\n",
      "total r^2 between top 12 NAM PCs and outcome is 0.25\n"
     ]
    }
   ],
   "source": [
    "np.random.seed(0) \n",
    "res = cna.tl._association.association(d, #dataset \n",
    "                                      d.samplem.Responder_Status, #phenotype\n",
    "#                                       batches=d.samplem.processing_batch, #batches\n",
    "                                      Nnull=10000, # number of null permutations to do (defaults to only 1e3)\n",
    "                                      ks=[1,2,3,4,5,6,7,8,9,10,11,12,13,14,15,16,17,18,19,20] # I asked the method to consider up to 10 PCs because\n",
    "                                                                #it chose the max number of PCs it considered the default set of [1,2,3,4]\n",
    "                                     )\n",
    "print(res.k)\n",
    "print(res.ks)\n",
    "print('p =', res.p, ',', res.k, 'PCs used')\n",
    "print('total r^2 between top {} NAM PCs and outcome is {:.2f}'.format(res.k, res.r2))"
   ]
  },
  {
   "cell_type": "code",
   "execution_count": 9,
   "id": "7f07b4ee-202f-4b22-92ef-a4dfdeeeb903",
   "metadata": {},
   "outputs": [],
   "source": [
    "response_uni = res.p"
   ]
  },
  {
   "cell_type": "code",
   "execution_count": 10,
   "id": "a1a23636-7166-4e7e-a8cf-4dc39a8da7c3",
   "metadata": {},
   "outputs": [
    {
     "name": "stdout",
     "output_type": "stream",
     "text": [
      "covariate-adjusted NAM not found; computing and saving\n",
      "computing SVD\n",
      "performing association test\n"
     ]
    },
    {
     "name": "stderr",
     "output_type": "stream",
     "text": [
      "/PHShome/ssg34/.conda/envs/plswork/lib/python3.9/site-packages/cna/tools/_nam.py:101: UserWarning: only one unique batch supplied to prep\n",
      "  warnings.warn('only one unique batch supplied to prep')\n"
     ]
    },
    {
     "name": "stdout",
     "output_type": "stream",
     "text": [
      "computing neighborhood-level FDRs\n",
      "12\n",
      "[1, 2, 3, 4, 5, 6, 7, 8, 9, 10, 11, 12, 13, 14, 15, 16, 17, 18, 19, 20]\n",
      "p = 0.21547845215478453 , 12 PCs used\n",
      "total r^2 between top 12 NAM PCs and outcome is 0.18\n"
     ]
    }
   ],
   "source": [
    "np.random.seed(0) \n",
    "res = cna.tl._association.association(d, #dataset \n",
    "                                      d.samplem.Responder_Status, #phenotype\n",
    "#                                       batches=d.samplem.processing_batch, #batches\n",
    "                                      covs = d.samplem[['Final_Chronicity']],\n",
    "                                      Nnull=10000, # number of null permutations to do (defaults to only 1e3)\n",
    "                                      ks=[1,2,3,4,5,6,7,8,9,10,11,12,13,14,15,16,17,18,19,20] # I asked the method to consider up to 10 PCs because\n",
    "                                                                #it chose the max number of PCs it considered the default set of [1,2,3,4]\n",
    "                                     )\n",
    "print(res.k)\n",
    "print(res.ks)\n",
    "print('p =', res.p, ',', res.k, 'PCs used')\n",
    "print('total r^2 between top {} NAM PCs and outcome is {:.2f}'.format(res.k, res.r2))"
   ]
  },
  {
   "cell_type": "code",
   "execution_count": 11,
   "id": "4576f37f-1ed2-4279-b21b-0e38ffd76fef",
   "metadata": {},
   "outputs": [],
   "source": [
    "response_cond = res.p"
   ]
  },
  {
   "cell_type": "code",
   "execution_count": 59,
   "id": "0b0ce55d-be06-4d7e-9acd-e98b924503d8",
   "metadata": {},
   "outputs": [],
   "source": [
    "sc_uni['Responder_Status'] = res.p"
   ]
  },
  {
   "cell_type": "code",
   "execution_count": 60,
   "id": "aae587bf-3e20-4d1a-9665-f0f5c5eac078",
   "metadata": {},
   "outputs": [],
   "source": [
    "np.savetxt(\"/data/srlab/ssg34/SLE_kidney_v2/data/cna_new/t_nk/age_sex_response_race/sc_response_ncorr.csv\", \n",
    "               res.ncorrs, delimiter=\",\")\n",
    "np.savetxt(\"/data/srlab/ssg34/SLE_kidney_v2/data/cna_new/t_nk/age_sex_response_race/sc_response_fdrs.csv\", \n",
    "               res.fdrs, delimiter=\",\")"
   ]
  },
  {
   "cell_type": "code",
   "execution_count": 39,
   "id": "f5ae8033-ae28-43de-b94f-35ec3b01ad02",
   "metadata": {},
   "outputs": [
    {
     "name": "stdout",
     "output_type": "stream",
     "text": [
      "qcd NAM not found; computing and saving\n",
      "\ttaking step 1\n",
      "\tmedian kurtosis: 41.67474365234375\n",
      "\t20th percentile R2(t,t-1): nan\n",
      "\ttaking step 2\n",
      "\tmedian kurtosis: 26.450233459472656\n",
      "\t20th percentile R2(t,t-1): 0.746048092842102\n",
      "\ttaking step 3\n",
      "\tmedian kurtosis: 18.167381286621094\n",
      "\t20th percentile R2(t,t-1): 0.8998205661773682\n",
      "\ttaking step 4\n",
      "\tmedian kurtosis: 12.966375350952148\n",
      "\t20th percentile R2(t,t-1): 0.940981924533844\n",
      "\ttaking step 5\n",
      "\tmedian kurtosis: 10.036448955535889\n",
      "\t20th percentile R2(t,t-1): 0.9636072516441345\n",
      "stopping after 5 steps\n",
      "covariate-adjusted NAM not found; computing and saving\n",
      "computing SVD\n"
     ]
    },
    {
     "name": "stderr",
     "output_type": "stream",
     "text": [
      "/PHShome/ssg34/.conda/envs/plswork/lib/python3.9/site-packages/cna/tools/_nam.py:79: UserWarning: only one unique batch supplied to qc\n",
      "  warnings.warn('only one unique batch supplied to qc')\n",
      "/PHShome/ssg34/.conda/envs/plswork/lib/python3.9/site-packages/cna/tools/_nam.py:101: UserWarning: only one unique batch supplied to prep\n",
      "  warnings.warn('only one unique batch supplied to prep')\n"
     ]
    },
    {
     "name": "stdout",
     "output_type": "stream",
     "text": [
      "performing association test\n",
      "computing neighborhood-level FDRs\n",
      "12\n",
      "[1, 2, 3, 4, 5, 6, 7, 8, 9, 10, 11, 12, 13, 14, 15, 16, 17, 18, 19, 20]\n",
      "p = 0.1146885311468853 , 12 PCs used\n",
      "total r^2 between top 12 NAM PCs and outcome is 0.20\n"
     ]
    }
   ],
   "source": [
    "np.random.seed(0) \n",
    "res = cna.tl._association.association(d, #dataset \n",
    "                                      d.samplem.Responder_Status, #phenotype\n",
    "#                                       batches=d.samplem.processing_batch, #batches\n",
    "                                      covs = d.samplem[['Final_Chronicity', 'First_biop']],\n",
    "                                      Nnull=10000, # number of null permutations to do (defaults to only 1e3)\n",
    "                                      ks=[1,2,3,4,5,6,7,8,9,10,11,12,13,14,15,16,17,18,19,20] # I asked the method to consider up to 10 PCs because\n",
    "                                                                #it chose the max number of PCs it considered the default set of [1,2,3,4]\n",
    "                                     )\n",
    "print(res.k)\n",
    "print(res.ks)\n",
    "print('p =', res.p, ',', res.k, 'PCs used')\n",
    "print('total r^2 between top {} NAM PCs and outcome is {:.2f}'.format(res.k, res.r2))"
   ]
  },
  {
   "cell_type": "code",
   "execution_count": 40,
   "id": "0932eb6b-3f55-47c4-95ba-b2b3510e9919",
   "metadata": {},
   "outputs": [],
   "source": [
    "sc_cond['Responder_Status'] = res.p"
   ]
  },
  {
   "cell_type": "code",
   "execution_count": 13,
   "id": "84e4f3d0-5375-4f36-af7d-3d3db5c3f14b",
   "metadata": {},
   "outputs": [
    {
     "name": "stdout",
     "output_type": "stream",
     "text": [
      "qcd NAM not found; computing and saving\n",
      "\ttaking step 1\n",
      "\tmedian kurtosis: 41.67474365234375\n",
      "\t20th percentile R2(t,t-1): nan\n",
      "\ttaking step 2\n",
      "\tmedian kurtosis: 26.450233459472656\n",
      "\t20th percentile R2(t,t-1): 0.746048092842102\n",
      "\ttaking step 3\n",
      "\tmedian kurtosis: 18.167381286621094\n",
      "\t20th percentile R2(t,t-1): 0.8998205661773682\n",
      "\ttaking step 4\n",
      "\tmedian kurtosis: 12.966375350952148\n",
      "\t20th percentile R2(t,t-1): 0.940981924533844\n",
      "\ttaking step 5\n",
      "\tmedian kurtosis: 10.036448955535889\n",
      "\t20th percentile R2(t,t-1): 0.9636072516441345\n",
      "stopping after 5 steps\n",
      "covariate-adjusted NAM not found; computing and saving\n"
     ]
    },
    {
     "name": "stderr",
     "output_type": "stream",
     "text": [
      "/PHShome/ssg34/.conda/envs/plswork/lib/python3.9/site-packages/cna/tools/_nam.py:79: UserWarning: only one unique batch supplied to qc\n",
      "  warnings.warn('only one unique batch supplied to qc')\n",
      "/PHShome/ssg34/.conda/envs/plswork/lib/python3.9/site-packages/cna/tools/_nam.py:101: UserWarning: only one unique batch supplied to prep\n",
      "  warnings.warn('only one unique batch supplied to prep')\n"
     ]
    },
    {
     "name": "stdout",
     "output_type": "stream",
     "text": [
      "computing SVD\n",
      "performing association test\n",
      "computing neighborhood-level FDRs\n",
      "11\n",
      "[1, 2, 3, 4, 5, 6, 7, 8, 9, 10, 11, 12, 13, 14, 15, 16, 17, 18, 19, 20]\n",
      "p = 0.027997200279972004 , 11 PCs used\n",
      "total r^2 between top 11 NAM PCs and outcome is 0.21\n"
     ]
    }
   ],
   "source": [
    "np.random.seed(0) \n",
    "res = cna.tl._association.association(d, #dataset \n",
    "                                      d.samplem.Responder_Status, #phenotype\n",
    "#                                       batches=d.samplem.processing_batch, #batches\n",
    "                                      covs = d.samplem[['injured_pt_prop']], \n",
    "                                      Nnull=10000, # number of null permutations to do (defaults to only 1e3)\n",
    "                                      ks=[1,2,3,4,5,6,7,8,9,10,11,12,13,14,15,16,17,18,19,20] # I asked the method to consider up to 10 PCs because\n",
    "                                                                #it chose the max number of PCs it considered the default set of [1,2,3,4]\n",
    "                                     )\n",
    "print(res.k)\n",
    "print(res.ks)\n",
    "print('p =', res.p, ',', res.k, 'PCs used')\n",
    "print('total r^2 between top {} NAM PCs and outcome is {:.2f}'.format(res.k, res.r2))"
   ]
  },
  {
   "cell_type": "code",
   "execution_count": 16,
   "id": "c72c7b12-a228-4169-9610-7f75ec57ca30",
   "metadata": {},
   "outputs": [
    {
     "name": "stdout",
     "output_type": "stream",
     "text": [
      "covariate-adjusted NAM not found; computing and saving\n",
      "computing SVD\n",
      "performing association test\n"
     ]
    },
    {
     "name": "stderr",
     "output_type": "stream",
     "text": [
      "/PHShome/ssg34/.conda/envs/plswork/lib/python3.9/site-packages/cna/tools/_nam.py:101: UserWarning: only one unique batch supplied to prep\n",
      "  warnings.warn('only one unique batch supplied to prep')\n"
     ]
    },
    {
     "name": "stdout",
     "output_type": "stream",
     "text": [
      "computing neighborhood-level FDRs\n",
      "13\n",
      "[1, 2, 3, 4, 5, 6, 7, 8, 9, 10, 11, 12, 13, 14, 15, 16, 17, 18, 19, 20]\n",
      "p = 0.0008999100089991 , 13 PCs used\n",
      "total r^2 between top 13 NAM PCs and outcome is 0.31\n"
     ]
    }
   ],
   "source": [
    "np.random.seed(0) \n",
    "res = cna.tl._association.association(d, #dataset \n",
    "                                      d.samplem.injured_pt_prop, #phenotype\n",
    "#                                       batches=d.samplem.processing_batch, #batches\n",
    "                                      covs = d.samplem[['Responder_Status']], \n",
    "                                      Nnull=10000, # number of null permutations to do (defaults to only 1e3)\n",
    "                                      ks=[1,2,3,4,5,6,7,8,9,10,11,12,13,14,15,16,17,18,19,20] # I asked the method to consider up to 10 PCs because\n",
    "                                                                #it chose the max number of PCs it considered the default set of [1,2,3,4]\n",
    "                                     )\n",
    "print(res.k)\n",
    "print(res.ks)\n",
    "print('p =', res.p, ',', res.k, 'PCs used')\n",
    "print('total r^2 between top {} NAM PCs and outcome is {:.2f}'.format(res.k, res.r2))"
   ]
  },
  {
   "cell_type": "code",
   "execution_count": 15,
   "id": "3799193a-85dc-4fd4-97fc-0ae8aa938942",
   "metadata": {},
   "outputs": [],
   "source": [
    "np.savetxt(\"/data/srlab/ssg34/SLE_kidney_v2/data/cna_new/t_nk/age_sex_response_race/sc_injured_pt_ncorr.csv\", \n",
    "               res.ncorrs, delimiter=\",\")\n",
    "np.savetxt(\"/data/srlab/ssg34/SLE_kidney_v2/data/cna_new/t_nk/age_sex_response_race/sc_injured_pt_fdrs.csv\", \n",
    "               res.fdrs, delimiter=\",\")"
   ]
  },
  {
   "cell_type": "code",
   "execution_count": 12,
   "id": "cf991b07-123a-45dc-95db-90ec987ca95d",
   "metadata": {},
   "outputs": [
    {
     "name": "stdout",
     "output_type": "stream",
     "text": [
      "covariate-adjusted NAM not found; computing and saving\n",
      "computing SVD\n",
      "performing association test\n"
     ]
    },
    {
     "name": "stderr",
     "output_type": "stream",
     "text": [
      "/PHShome/ssg34/.conda/envs/plswork/lib/python3.9/site-packages/cna/tools/_nam.py:101: UserWarning: only one unique batch supplied to prep\n",
      "  warnings.warn('only one unique batch supplied to prep')\n",
      "/PHShome/ssg34/.conda/envs/plswork/lib/python3.9/site-packages/cna/tools/_association.py:74: UserWarning: global association p-value attained minimal possible value. Consider increasing Nnull\n",
      "  warnings.warn('global association p-value attained minimal possible value. '+\\\n"
     ]
    },
    {
     "name": "stdout",
     "output_type": "stream",
     "text": [
      "computing neighborhood-level FDRs\n",
      "11\n",
      "[1, 2, 3, 4, 5, 6, 7, 8, 9, 10, 11, 12, 13, 14, 15, 16, 17, 18, 19, 20]\n",
      "p = 9.999000099990002e-05 , 11 PCs used\n",
      "total r^2 between top 11 NAM PCs and outcome is 0.35\n"
     ]
    }
   ],
   "source": [
    "np.random.seed(0) \n",
    "res = cna.tl._association.association(d, #dataset \n",
    "                                      d.samplem.Final_Chronicity, #phenotype\n",
    "#                                       batches=d.samplem.processing_batch, #batches\n",
    "                                      Nnull=10000, # number of null permutations to do (defaults to only 1e3)\n",
    "                                      ks=[1,2,3,4,5,6,7,8,9,10,11,12,13,14,15,16,17,18,19,20] # I asked the method to consider up to 10 PCs because\n",
    "                                                                #it chose the max number of PCs it considered the default set of [1,2,3,4]\n",
    "                                     )\n",
    "print(res.k)\n",
    "print(res.ks)\n",
    "print('p =', res.p, ',', res.k, 'PCs used')\n",
    "print('total r^2 between top {} NAM PCs and outcome is {:.2f}'.format(res.k, res.r2))"
   ]
  },
  {
   "cell_type": "code",
   "execution_count": 13,
   "id": "1ba752f3-f266-4808-97b0-f5210ce23a93",
   "metadata": {},
   "outputs": [],
   "source": [
    "chron_uni = res.p"
   ]
  },
  {
   "cell_type": "code",
   "execution_count": 14,
   "id": "b326cdda-a10c-4679-ae83-17c011d12465",
   "metadata": {},
   "outputs": [
    {
     "name": "stdout",
     "output_type": "stream",
     "text": [
      "covariate-adjusted NAM not found; computing and saving\n",
      "computing SVD\n",
      "performing association test\n"
     ]
    },
    {
     "name": "stderr",
     "output_type": "stream",
     "text": [
      "/PHShome/ssg34/.conda/envs/plswork/lib/python3.9/site-packages/cna/tools/_nam.py:101: UserWarning: only one unique batch supplied to prep\n",
      "  warnings.warn('only one unique batch supplied to prep')\n"
     ]
    },
    {
     "name": "stdout",
     "output_type": "stream",
     "text": [
      "computing neighborhood-level FDRs\n",
      "11\n",
      "[1, 2, 3, 4, 5, 6, 7, 8, 9, 10, 11, 12, 13, 14, 15, 16, 17, 18, 19, 20]\n",
      "p = 0.000999900009999 , 11 PCs used\n",
      "total r^2 between top 11 NAM PCs and outcome is 0.30\n"
     ]
    }
   ],
   "source": [
    "np.random.seed(0) \n",
    "res = cna.tl._association.association(d, #dataset \n",
    "                                      d.samplem.Final_Chronicity, #phenotype\n",
    "#                                       batches=d.samplem.processing_batch, #batches\n",
    "                                      covs = d.samplem[['Responder_Status']],\n",
    "                                      Nnull=10000, # number of null permutations to do (defaults to only 1e3)\n",
    "                                      ks=[1,2,3,4,5,6,7,8,9,10,11,12,13,14,15,16,17,18,19,20] # I asked the method to consider up to 10 PCs because\n",
    "                                                                #it chose the max number of PCs it considered the default set of [1,2,3,4]\n",
    "                                     )\n",
    "print(res.k)\n",
    "print(res.ks)\n",
    "print('p =', res.p, ',', res.k, 'PCs used')\n",
    "print('total r^2 between top {} NAM PCs and outcome is {:.2f}'.format(res.k, res.r2))"
   ]
  },
  {
   "cell_type": "code",
   "execution_count": 15,
   "id": "e894b435-434f-48bd-a612-2bdf05dce184",
   "metadata": {},
   "outputs": [],
   "source": [
    "chron_cond = res.p"
   ]
  },
  {
   "cell_type": "code",
   "execution_count": 16,
   "id": "3b88a40d-bb08-46c5-a982-4822f247fc12",
   "metadata": {},
   "outputs": [],
   "source": [
    "pd.DataFrame(dict(pval = [response_uni, response_cond, chron_uni, chron_cond],\n",
    "             variable = ['Responder Status', 'Responder Status', 'Chronicity', 'Chronicity'],\n",
    "             test = ['Univariate', 'Conditional', 'Univariate', 'Conditional'],\n",
    "             cell_type = ['T/NK', 'T/NK', 'T/NK', 'T/NK'])).to_csv('/data/srlab/ssg34/SLE_kidney_v2/data/cna_new/t_nk/age_sex_response_race/response_chronicity_cond.csv')"
   ]
  },
  {
   "cell_type": "markdown",
   "id": "8023e228-11d4-4bd9-a836-4c201de61c2f",
   "metadata": {},
   "source": [
    "## Single Nuclei"
   ]
  },
  {
   "cell_type": "code",
   "execution_count": 99,
   "id": "73c75faa-71db-4a1e-8fbd-00a0a91929b9",
   "metadata": {},
   "outputs": [
    {
     "name": "stdout",
     "output_type": "stream",
     "text": [
      "(2394, 10)\n"
     ]
    }
   ],
   "source": [
    "meta = pd.read_csv('/data/srlab/ssg34/SLE_kidney_v2/data/cna_new/t_nk/age_sex_response_race/sn_meta_response.csv')\n",
    "print(meta.shape)"
   ]
  },
  {
   "cell_type": "code",
   "execution_count": 100,
   "id": "92fd6d00-ab16-4301-a475-bbfacb0feccd",
   "metadata": {},
   "outputs": [
    {
     "name": "stdout",
     "output_type": "stream",
     "text": [
      "(2394, 20)\n"
     ]
    }
   ],
   "source": [
    "harmony = pd.read_csv('/data/srlab/ssg34/SLE_kidney_v2/data/cna_new/t_nk/age_sex_response_race/sn_harmony_response.csv')\n",
    "print(harmony.shape)"
   ]
  },
  {
   "cell_type": "code",
   "execution_count": 101,
   "id": "d9991fea-46c1-499c-9d79-c2b4cbe429d1",
   "metadata": {},
   "outputs": [
    {
     "name": "stdout",
     "output_type": "stream",
     "text": [
      "(2394, 2)\n"
     ]
    }
   ],
   "source": [
    "umap = pd.read_csv('/data/srlab/ssg34/SLE_kidney_v2/data/cna_new/t_nk/age_sex_response_race/sn_umap_response.csv')\n",
    "print(umap.shape)"
   ]
  },
  {
   "cell_type": "code",
   "execution_count": 102,
   "id": "e636dbad-5dff-4a11-96e5-c86355d1375d",
   "metadata": {},
   "outputs": [
    {
     "name": "stdout",
     "output_type": "stream",
     "text": [
      "warning: the following columns of obs are non-numeric.\n",
      "['cell' 'Sex' 'sample' 'final_annotation' 'Responder.Status' 'Race' 'ISN'\n",
      " 'Type']\n",
      "consider casting to numeric types where appropriate, and\n",
      "consider re-coding text-valued columns with pandas.get_dummies\n"
     ]
    },
    {
     "name": "stderr",
     "output_type": "stream",
     "text": [
      "/PHShome/ssg34/.conda/envs/plswork/lib/python3.9/site-packages/multianndata/core.py:17: FutureWarning: X.dtype being converted to np.float32 from float64. In the next version of anndata (0.9) conversion will not be automatic. Pass dtype explicitly to avoid this warning. Pass `AnnData(X, dtype=X.dtype, ...)` to get the future behavour.\n",
      "  super().__init__(*args, **kwargs)\n",
      "/PHShome/ssg34/.conda/envs/plswork/lib/python3.9/site-packages/anndata/_core/anndata.py:121: ImplicitModificationWarning: Transforming to str index.\n",
      "  warnings.warn(\"Transforming to str index.\", ImplicitModificationWarning)\n"
     ]
    },
    {
     "data": {
      "text/html": [
       "<div>\n",
       "<style scoped>\n",
       "    .dataframe tbody tr th:only-of-type {\n",
       "        vertical-align: middle;\n",
       "    }\n",
       "\n",
       "    .dataframe tbody tr th {\n",
       "        vertical-align: top;\n",
       "    }\n",
       "\n",
       "    .dataframe thead th {\n",
       "        text-align: right;\n",
       "    }\n",
       "</style>\n",
       "<table border=\"1\" class=\"dataframe\">\n",
       "  <thead>\n",
       "    <tr style=\"text-align: right;\">\n",
       "      <th></th>\n",
       "      <th>Responder_Status</th>\n",
       "    </tr>\n",
       "    <tr>\n",
       "      <th>sample</th>\n",
       "      <th></th>\n",
       "    </tr>\n",
       "  </thead>\n",
       "  <tbody>\n",
       "    <tr>\n",
       "      <th>AMPSLEkid_cells_0137</th>\n",
       "      <td>2.0</td>\n",
       "    </tr>\n",
       "    <tr>\n",
       "      <th>AMPSLEkid_cells_0138</th>\n",
       "      <td>2.0</td>\n",
       "    </tr>\n",
       "    <tr>\n",
       "      <th>AMPSLEkid_cells_0139</th>\n",
       "      <td>2.0</td>\n",
       "    </tr>\n",
       "    <tr>\n",
       "      <th>AMPSLEkid_cells_0147</th>\n",
       "      <td>1.0</td>\n",
       "    </tr>\n",
       "    <tr>\n",
       "      <th>AMPSLEkid_cells_0366</th>\n",
       "      <td>0.0</td>\n",
       "    </tr>\n",
       "  </tbody>\n",
       "</table>\n",
       "</div>"
      ],
      "text/plain": [
       "                      Responder_Status\n",
       "sample                                \n",
       "AMPSLEkid_cells_0137               2.0\n",
       "AMPSLEkid_cells_0138               2.0\n",
       "AMPSLEkid_cells_0139               2.0\n",
       "AMPSLEkid_cells_0147               1.0\n",
       "AMPSLEkid_cells_0366               0.0"
      ]
     },
     "execution_count": 102,
     "metadata": {},
     "output_type": "execute_result"
    }
   ],
   "source": [
    "# Start by making anndata object\n",
    "d = mad.MultiAnnData(X=harmony, obs=meta, sampleid=\"sample\")\n",
    "#d.obs_to_sample(['Type', 'Site',\n",
    "#                 'Responder_Status', 'Sex',\n",
    "#                 'Age', 'Race',\n",
    "#                'Ethnicity', 'ISN',\n",
    "#               'Activity', \"Chronicity\",\n",
    "#                 'processing_batch'])\n",
    "d.obs_to_sample(['Responder_Status'])\n",
    "d.samplem.head()"
   ]
  },
  {
   "cell_type": "code",
   "execution_count": 103,
   "id": "076d27ae-49a7-4f73-867f-01f11662a998",
   "metadata": {},
   "outputs": [],
   "source": [
    "umap.index = d.obs.index\n",
    "d.obsm['X_umap'] = umap"
   ]
  },
  {
   "cell_type": "code",
   "execution_count": 104,
   "id": "d306c320-36bf-4ed3-b7f1-3f48d1b2ec1c",
   "metadata": {},
   "outputs": [
    {
     "name": "stdout",
     "output_type": "stream",
     "text": [
      "computing default knn graph\n"
     ]
    }
   ],
   "source": [
    "np.random.seed(0) \n",
    "cna.pp.knn(d)"
   ]
  },
  {
   "cell_type": "code",
   "execution_count": 105,
   "id": "5e7efe92-b019-463f-9b33-b21d949c0e38",
   "metadata": {},
   "outputs": [
    {
     "name": "stdout",
     "output_type": "stream",
     "text": [
      "qcd NAM not found; computing and saving\n",
      "\ttaking step 1\n",
      "\tmedian kurtosis: 9.336187625789051\n",
      "\t20th percentile R2(t,t-1): nan\n",
      "\ttaking step 2\n",
      "\tmedian kurtosis: 5.902152485751815\n",
      "\t20th percentile R2(t,t-1): 0.7219850659370423\n",
      "\ttaking step 3\n",
      "\tmedian kurtosis: 4.588057901388883\n",
      "\t20th percentile R2(t,t-1): 0.9186734914779663\n",
      "stopping after 3 steps\n",
      "covariate-adjusted NAM not found; computing and saving\n",
      "computing SVD\n",
      "performing association test\n"
     ]
    },
    {
     "name": "stderr",
     "output_type": "stream",
     "text": [
      "/PHShome/ssg34/.conda/envs/plswork/lib/python3.9/site-packages/cna/tools/_nam.py:79: UserWarning: only one unique batch supplied to qc\n",
      "  warnings.warn('only one unique batch supplied to qc')\n",
      "/PHShome/ssg34/.conda/envs/plswork/lib/python3.9/site-packages/cna/tools/_nam.py:101: UserWarning: only one unique batch supplied to prep\n",
      "  warnings.warn('only one unique batch supplied to prep')\n"
     ]
    },
    {
     "name": "stdout",
     "output_type": "stream",
     "text": [
      "computing neighborhood-level FDRs\n",
      "12\n",
      "[1, 2, 3, 4, 5, 6, 7, 8, 9, 10, 11, 12, 13, 14, 15, 16, 17, 18, 19, 20]\n",
      "p = 0.675032496750325 , 12 PCs used\n",
      "total r^2 between top 12 NAM PCs and outcome is 0.39\n"
     ]
    }
   ],
   "source": [
    "np.random.seed(0) \n",
    "res = cna.tl._association.association(d, #dataset \n",
    "                                      d.samplem.Responder_Status, #phenotype\n",
    "#                                       batches=d.samplem.processing_batch, #batches\n",
    "                                      Nnull=10000, # number of null permutations to do (defaults to only 1e3)\n",
    "                                      ks=[1,2,3,4,5,6,7,8,9,10,11,12,13,14,15,16,17,18,19,20] # I asked the method to consider up to 10 PCs because\n",
    "                                                                #it chose the max number of PCs it considered the default set of [1,2,3,4]\n",
    "                                     )\n",
    "print(res.k)\n",
    "print(res.ks)\n",
    "print('p =', res.p, ',', res.k, 'PCs used')\n",
    "print('total r^2 between top {} NAM PCs and outcome is {:.2f}'.format(res.k, res.r2))"
   ]
  },
  {
   "cell_type": "code",
   "execution_count": 106,
   "id": "550fdf81-3e21-4e5f-88eb-ca62ca3e6932",
   "metadata": {},
   "outputs": [],
   "source": [
    "np.savetxt(\"/data/srlab/ssg34/SLE_kidney_v2/data/cna_new/t_nk/age_sex_response_race/sn_response_ncorr.csv\", \n",
    "               res.ncorrs, delimiter=\",\")\n",
    "np.savetxt(\"/data/srlab/ssg34/SLE_kidney_v2/data/cna_new/t_nk/age_sex_response_race/sn_response_fdrs.csv\", \n",
    "               res.fdrs, delimiter=\",\")"
   ]
  },
  {
   "cell_type": "markdown",
   "id": "f088c53f-366f-45a9-ad94-b56ca4787cc7",
   "metadata": {},
   "source": [
    "# RACE"
   ]
  },
  {
   "cell_type": "markdown",
   "id": "c496d423-18e6-4c3a-8aa0-c32d36b88142",
   "metadata": {},
   "source": [
    "## Single Cell"
   ]
  },
  {
   "cell_type": "code",
   "execution_count": 62,
   "id": "f7093def-802e-4718-9f6a-04bcb4607ea1",
   "metadata": {},
   "outputs": [
    {
     "name": "stdout",
     "output_type": "stream",
     "text": [
      "(35187, 39)\n"
     ]
    }
   ],
   "source": [
    "meta = pd.read_csv('/data/srlab/ssg34/SLE_kidney_v2/data/cna_new/t_nk/age_sex_response_race/sc_meta_race.csv')\n",
    "print(meta.shape)"
   ]
  },
  {
   "cell_type": "code",
   "execution_count": 63,
   "id": "99d4daff-f867-4215-b4a1-bee320bad258",
   "metadata": {},
   "outputs": [
    {
     "name": "stdout",
     "output_type": "stream",
     "text": [
      "(35187, 20)\n"
     ]
    }
   ],
   "source": [
    "harmony = pd.read_csv('/data/srlab/ssg34/SLE_kidney_v2/data/cna_new/t_nk/age_sex_response_race/sc_harmony_race.csv')\n",
    "print(harmony.shape)"
   ]
  },
  {
   "cell_type": "code",
   "execution_count": 64,
   "id": "463c6e15-d116-4399-85ce-f28ce59fdfcb",
   "metadata": {},
   "outputs": [
    {
     "name": "stdout",
     "output_type": "stream",
     "text": [
      "(35187, 2)\n"
     ]
    }
   ],
   "source": [
    "umap = pd.read_csv('/data/srlab/ssg34/SLE_kidney_v2/data/cna_new/t_nk/age_sex_response_race/sc_umap_race.csv')\n",
    "print(umap.shape)"
   ]
  },
  {
   "cell_type": "code",
   "execution_count": 65,
   "id": "3cfdd7ef-23dc-4903-90ca-cb7e90c032b8",
   "metadata": {},
   "outputs": [
    {
     "name": "stderr",
     "output_type": "stream",
     "text": [
      "/PHShome/ssg34/.conda/envs/plswork/lib/python3.9/site-packages/multianndata/core.py:17: FutureWarning: X.dtype being converted to np.float32 from float64. In the next version of anndata (0.9) conversion will not be automatic. Pass dtype explicitly to avoid this warning. Pass `AnnData(X, dtype=X.dtype, ...)` to get the future behavour.\n",
      "  super().__init__(*args, **kwargs)\n",
      "/PHShome/ssg34/.conda/envs/plswork/lib/python3.9/site-packages/anndata/_core/anndata.py:121: ImplicitModificationWarning: Transforming to str index.\n",
      "  warnings.warn(\"Transforming to str index.\", ImplicitModificationWarning)\n"
     ]
    },
    {
     "name": "stdout",
     "output_type": "stream",
     "text": [
      "warning: the following columns of obs are non-numeric.\n",
      "['cell' 'sample' 'final_annotation' 'Responder.Status' 'Race' 'Final_ISN'\n",
      " 'Type' 'Final_Site']\n",
      "consider casting to numeric types where appropriate, and\n",
      "consider re-coding text-valued columns with pandas.get_dummies\n"
     ]
    },
    {
     "data": {
      "text/html": [
       "<div>\n",
       "<style scoped>\n",
       "    .dataframe tbody tr th:only-of-type {\n",
       "        vertical-align: middle;\n",
       "    }\n",
       "\n",
       "    .dataframe tbody tr th {\n",
       "        vertical-align: top;\n",
       "    }\n",
       "\n",
       "    .dataframe thead th {\n",
       "        text-align: right;\n",
       "    }\n",
       "</style>\n",
       "<table border=\"1\" class=\"dataframe\">\n",
       "  <thead>\n",
       "    <tr style=\"text-align: right;\">\n",
       "      <th></th>\n",
       "      <th>Sex</th>\n",
       "      <th>Age</th>\n",
       "      <th>Final_Chronicity</th>\n",
       "      <th>Final_Activity</th>\n",
       "      <th>First_biop</th>\n",
       "      <th>Pred_use</th>\n",
       "      <th>Responder_Status</th>\n",
       "      <th>Race_[A]</th>\n",
       "      <th>Race_[A][B]</th>\n",
       "      <th>Race_[B]</th>\n",
       "      <th>...</th>\n",
       "      <th>Final_Site_JHU</th>\n",
       "      <th>Final_Site_Michigan</th>\n",
       "      <th>Final_Site_MUSC</th>\n",
       "      <th>Final_Site_Northwell</th>\n",
       "      <th>Final_Site_NYU</th>\n",
       "      <th>Final_Site_Rochester</th>\n",
       "      <th>Final_Site_Texas Tech</th>\n",
       "      <th>Final_Site_UCLA</th>\n",
       "      <th>Final_Site_UCSD</th>\n",
       "      <th>Final_Site_UCSF</th>\n",
       "    </tr>\n",
       "    <tr>\n",
       "      <th>sample</th>\n",
       "      <th></th>\n",
       "      <th></th>\n",
       "      <th></th>\n",
       "      <th></th>\n",
       "      <th></th>\n",
       "      <th></th>\n",
       "      <th></th>\n",
       "      <th></th>\n",
       "      <th></th>\n",
       "      <th></th>\n",
       "      <th></th>\n",
       "      <th></th>\n",
       "      <th></th>\n",
       "      <th></th>\n",
       "      <th></th>\n",
       "      <th></th>\n",
       "      <th></th>\n",
       "      <th></th>\n",
       "      <th></th>\n",
       "      <th></th>\n",
       "      <th></th>\n",
       "    </tr>\n",
       "  </thead>\n",
       "  <tbody>\n",
       "    <tr>\n",
       "      <th>AMPSLEkid_cells_0134</th>\n",
       "      <td>1.0</td>\n",
       "      <td>0.760126</td>\n",
       "      <td>6.0</td>\n",
       "      <td>4.0</td>\n",
       "      <td>0.0</td>\n",
       "      <td>0.0</td>\n",
       "      <td>0.0</td>\n",
       "      <td>1.0</td>\n",
       "      <td>0.0</td>\n",
       "      <td>0.0</td>\n",
       "      <td>...</td>\n",
       "      <td>0.0</td>\n",
       "      <td>0.0</td>\n",
       "      <td>0.0</td>\n",
       "      <td>0.0</td>\n",
       "      <td>0.0</td>\n",
       "      <td>1.0</td>\n",
       "      <td>0.0</td>\n",
       "      <td>0.0</td>\n",
       "      <td>0.0</td>\n",
       "      <td>0.0</td>\n",
       "    </tr>\n",
       "    <tr>\n",
       "      <th>AMPSLEkid_cells_0137</th>\n",
       "      <td>1.0</td>\n",
       "      <td>-0.183948</td>\n",
       "      <td>3.0</td>\n",
       "      <td>5.0</td>\n",
       "      <td>0.0</td>\n",
       "      <td>1.0</td>\n",
       "      <td>2.0</td>\n",
       "      <td>0.0</td>\n",
       "      <td>0.0</td>\n",
       "      <td>1.0</td>\n",
       "      <td>...</td>\n",
       "      <td>0.0</td>\n",
       "      <td>0.0</td>\n",
       "      <td>0.0</td>\n",
       "      <td>0.0</td>\n",
       "      <td>0.0</td>\n",
       "      <td>1.0</td>\n",
       "      <td>0.0</td>\n",
       "      <td>0.0</td>\n",
       "      <td>0.0</td>\n",
       "      <td>0.0</td>\n",
       "    </tr>\n",
       "    <tr>\n",
       "      <th>AMPSLEkid_cells_0138</th>\n",
       "      <td>1.0</td>\n",
       "      <td>0.331002</td>\n",
       "      <td>0.0</td>\n",
       "      <td>0.0</td>\n",
       "      <td>1.0</td>\n",
       "      <td>1.0</td>\n",
       "      <td>2.0</td>\n",
       "      <td>0.0</td>\n",
       "      <td>0.0</td>\n",
       "      <td>0.0</td>\n",
       "      <td>...</td>\n",
       "      <td>0.0</td>\n",
       "      <td>0.0</td>\n",
       "      <td>0.0</td>\n",
       "      <td>0.0</td>\n",
       "      <td>0.0</td>\n",
       "      <td>1.0</td>\n",
       "      <td>0.0</td>\n",
       "      <td>0.0</td>\n",
       "      <td>0.0</td>\n",
       "      <td>0.0</td>\n",
       "    </tr>\n",
       "    <tr>\n",
       "      <th>AMPSLEkid_cells_0139</th>\n",
       "      <td>1.0</td>\n",
       "      <td>0.674301</td>\n",
       "      <td>3.0</td>\n",
       "      <td>2.0</td>\n",
       "      <td>0.0</td>\n",
       "      <td>1.0</td>\n",
       "      <td>2.0</td>\n",
       "      <td>0.0</td>\n",
       "      <td>0.0</td>\n",
       "      <td>1.0</td>\n",
       "      <td>...</td>\n",
       "      <td>0.0</td>\n",
       "      <td>0.0</td>\n",
       "      <td>0.0</td>\n",
       "      <td>0.0</td>\n",
       "      <td>0.0</td>\n",
       "      <td>1.0</td>\n",
       "      <td>0.0</td>\n",
       "      <td>0.0</td>\n",
       "      <td>0.0</td>\n",
       "      <td>0.0</td>\n",
       "    </tr>\n",
       "    <tr>\n",
       "      <th>AMPSLEkid_cells_0140</th>\n",
       "      <td>1.0</td>\n",
       "      <td>-0.956372</td>\n",
       "      <td>1.0</td>\n",
       "      <td>1.0</td>\n",
       "      <td>1.0</td>\n",
       "      <td>0.0</td>\n",
       "      <td>0.0</td>\n",
       "      <td>0.0</td>\n",
       "      <td>0.0</td>\n",
       "      <td>1.0</td>\n",
       "      <td>...</td>\n",
       "      <td>0.0</td>\n",
       "      <td>0.0</td>\n",
       "      <td>0.0</td>\n",
       "      <td>0.0</td>\n",
       "      <td>0.0</td>\n",
       "      <td>1.0</td>\n",
       "      <td>0.0</td>\n",
       "      <td>0.0</td>\n",
       "      <td>0.0</td>\n",
       "      <td>0.0</td>\n",
       "    </tr>\n",
       "  </tbody>\n",
       "</table>\n",
       "<p>5 rows × 31 columns</p>\n",
       "</div>"
      ],
      "text/plain": [
       "                      Sex       Age  Final_Chronicity  Final_Activity  \\\n",
       "sample                                                                  \n",
       "AMPSLEkid_cells_0134  1.0  0.760126               6.0             4.0   \n",
       "AMPSLEkid_cells_0137  1.0 -0.183948               3.0             5.0   \n",
       "AMPSLEkid_cells_0138  1.0  0.331002               0.0             0.0   \n",
       "AMPSLEkid_cells_0139  1.0  0.674301               3.0             2.0   \n",
       "AMPSLEkid_cells_0140  1.0 -0.956372               1.0             1.0   \n",
       "\n",
       "                      First_biop  Pred_use  Responder_Status  Race_[A]  \\\n",
       "sample                                                                   \n",
       "AMPSLEkid_cells_0134         0.0       0.0               0.0       1.0   \n",
       "AMPSLEkid_cells_0137         0.0       1.0               2.0       0.0   \n",
       "AMPSLEkid_cells_0138         1.0       1.0               2.0       0.0   \n",
       "AMPSLEkid_cells_0139         0.0       1.0               2.0       0.0   \n",
       "AMPSLEkid_cells_0140         1.0       0.0               0.0       0.0   \n",
       "\n",
       "                      Race_[A][B]  Race_[B]  ...  Final_Site_JHU  \\\n",
       "sample                                       ...                   \n",
       "AMPSLEkid_cells_0134          0.0       0.0  ...             0.0   \n",
       "AMPSLEkid_cells_0137          0.0       1.0  ...             0.0   \n",
       "AMPSLEkid_cells_0138          0.0       0.0  ...             0.0   \n",
       "AMPSLEkid_cells_0139          0.0       1.0  ...             0.0   \n",
       "AMPSLEkid_cells_0140          0.0       1.0  ...             0.0   \n",
       "\n",
       "                      Final_Site_Michigan  Final_Site_MUSC  \\\n",
       "sample                                                       \n",
       "AMPSLEkid_cells_0134                  0.0              0.0   \n",
       "AMPSLEkid_cells_0137                  0.0              0.0   \n",
       "AMPSLEkid_cells_0138                  0.0              0.0   \n",
       "AMPSLEkid_cells_0139                  0.0              0.0   \n",
       "AMPSLEkid_cells_0140                  0.0              0.0   \n",
       "\n",
       "                      Final_Site_Northwell  Final_Site_NYU  \\\n",
       "sample                                                       \n",
       "AMPSLEkid_cells_0134                   0.0             0.0   \n",
       "AMPSLEkid_cells_0137                   0.0             0.0   \n",
       "AMPSLEkid_cells_0138                   0.0             0.0   \n",
       "AMPSLEkid_cells_0139                   0.0             0.0   \n",
       "AMPSLEkid_cells_0140                   0.0             0.0   \n",
       "\n",
       "                      Final_Site_Rochester  Final_Site_Texas Tech  \\\n",
       "sample                                                              \n",
       "AMPSLEkid_cells_0134                   1.0                    0.0   \n",
       "AMPSLEkid_cells_0137                   1.0                    0.0   \n",
       "AMPSLEkid_cells_0138                   1.0                    0.0   \n",
       "AMPSLEkid_cells_0139                   1.0                    0.0   \n",
       "AMPSLEkid_cells_0140                   1.0                    0.0   \n",
       "\n",
       "                      Final_Site_UCLA  Final_Site_UCSD  Final_Site_UCSF  \n",
       "sample                                                                   \n",
       "AMPSLEkid_cells_0134              0.0              0.0              0.0  \n",
       "AMPSLEkid_cells_0137              0.0              0.0              0.0  \n",
       "AMPSLEkid_cells_0138              0.0              0.0              0.0  \n",
       "AMPSLEkid_cells_0139              0.0              0.0              0.0  \n",
       "AMPSLEkid_cells_0140              0.0              0.0              0.0  \n",
       "\n",
       "[5 rows x 31 columns]"
      ]
     },
     "execution_count": 65,
     "metadata": {},
     "output_type": "execute_result"
    }
   ],
   "source": [
    "# Start by making anndata object\n",
    "d = mad.MultiAnnData(X=harmony, obs=meta, sampleid=\"sample\")\n",
    "#d.obs_to_sample(['Type', 'Site',\n",
    "#                 'Responder_Status', 'Sex',\n",
    "#                 'Age', 'Race',\n",
    "#                'Ethnicity', 'ISN',\n",
    "#               'Activity', \"Chronicity\",\n",
    "#                 'processing_batch'])\n",
    "d.obs_to_sample(['Sex', 'Age', 'Final_Chronicity', 'Final_Activity', 'First_biop', 'Pred_use', 'Responder_Status', 'Race_[A]',\n",
    "       'Race_[A][B]', 'Race_[B]', 'Race_[B][AI]', 'Race_[B][W]', 'Race_[U]',\n",
    "       'Race_[W]', 'Final_ISN_[III]', 'Final_ISN_[III][V]', 'Final_ISN_[IV]',\n",
    "       'Final_ISN_[IV][V]', 'Final_ISN_[V]', 'Final_Site_Cincinnati',\n",
    "       'Final_Site_Einstein', 'Final_Site_JHU', 'Final_Site_Michigan',\n",
    "       'Final_Site_MUSC', 'Final_Site_Northwell', 'Final_Site_NYU',\n",
    "       'Final_Site_Rochester', 'Final_Site_Texas Tech', 'Final_Site_UCLA',\n",
    "       'Final_Site_UCSD', 'Final_Site_UCSF'])\n",
    "d.samplem.head()"
   ]
  },
  {
   "cell_type": "code",
   "execution_count": 66,
   "id": "37974148-f551-46dc-aceb-5091ca75a50e",
   "metadata": {},
   "outputs": [],
   "source": [
    "umap.index = d.obs.index\n",
    "d.obsm['X_umap'] = umap"
   ]
  },
  {
   "cell_type": "code",
   "execution_count": 67,
   "id": "0d19ce85-3e8a-435f-8414-6c659ab97c51",
   "metadata": {},
   "outputs": [
    {
     "name": "stdout",
     "output_type": "stream",
     "text": [
      "computing default knn graph\n"
     ]
    }
   ],
   "source": [
    "np.random.seed(0) \n",
    "cna.pp.knn(d)"
   ]
  },
  {
   "cell_type": "code",
   "execution_count": 68,
   "id": "83277163-bd4e-45f7-a9f2-19b0088a1e67",
   "metadata": {},
   "outputs": [
    {
     "name": "stdout",
     "output_type": "stream",
     "text": [
      "qcd NAM not found; computing and saving\n",
      "\ttaking step 1\n",
      "\tmedian kurtosis: 52.71991729736328\n",
      "\t20th percentile R2(t,t-1): nan\n",
      "\ttaking step 2\n",
      "\tmedian kurtosis: 33.68928527832031\n",
      "\t20th percentile R2(t,t-1): 0.7436593174934387\n",
      "\ttaking step 3\n",
      "\tmedian kurtosis: 23.012622833251953\n",
      "\t20th percentile R2(t,t-1): 0.8982551097869873\n",
      "\ttaking step 4\n",
      "\tmedian kurtosis: 16.160520553588867\n",
      "\t20th percentile R2(t,t-1): 0.93894362449646\n",
      "\ttaking step 5\n",
      "\tmedian kurtosis: 12.253840446472168\n",
      "\t20th percentile R2(t,t-1): 0.9611961245536804\n",
      "\ttaking step 6\n",
      "\tmedian kurtosis: 10.029513359069824\n",
      "\t20th percentile R2(t,t-1): 0.976091206073761\n",
      "stopping after 6 steps\n",
      "covariate-adjusted NAM not found; computing and saving\n",
      "computing SVD\n"
     ]
    },
    {
     "name": "stderr",
     "output_type": "stream",
     "text": [
      "/PHShome/ssg34/.conda/envs/plswork/lib/python3.9/site-packages/cna/tools/_nam.py:79: UserWarning: only one unique batch supplied to qc\n",
      "  warnings.warn('only one unique batch supplied to qc')\n",
      "/PHShome/ssg34/.conda/envs/plswork/lib/python3.9/site-packages/cna/tools/_nam.py:101: UserWarning: only one unique batch supplied to prep\n",
      "  warnings.warn('only one unique batch supplied to prep')\n"
     ]
    },
    {
     "name": "stdout",
     "output_type": "stream",
     "text": [
      "performing association test\n"
     ]
    },
    {
     "name": "stderr",
     "output_type": "stream",
     "text": [
      "/PHShome/ssg34/.conda/envs/plswork/lib/python3.9/site-packages/cna/tools/_association.py:57: UserWarning: data supported use of 20 NAM PCs, which is the maximum considered. Consider allowing more PCs by using the \"ks\" argument.\n",
      "  warnings.warn(('data supported use of {} NAM PCs, which is the maximum considered. '+\\\n"
     ]
    },
    {
     "name": "stdout",
     "output_type": "stream",
     "text": [
      "computing neighborhood-level FDRs\n",
      "20\n",
      "[1, 2, 3, 4, 5, 6, 7, 8, 9, 10, 11, 12, 13, 14, 15, 16, 17, 18, 19, 20]\n",
      "p = 0.9258074192580742 , 20 PCs used\n",
      "total r^2 between top 20 NAM PCs and outcome is 0.11\n"
     ]
    }
   ],
   "source": [
    "np.random.seed(0) \n",
    "res = cna.tl._association.association(d, #dataset \n",
    "                                      d.samplem['Race_[A]'], #phenotype\n",
    "#                                       batches=d.samplem.processing_batch, #batches\n",
    "                                      Nnull=10000, # number of null permutations to do (defaults to only 1e3)\n",
    "                                      ks=[1,2,3,4,5,6,7,8,9,10,11,12,13,14,15,16,17,18,19,20] # I asked the method to consider up to 10 PCs because\n",
    "                                                                #it chose the max number of PCs it considered the default set of [1,2,3,4]\n",
    "                                     )\n",
    "print(res.k)\n",
    "print(res.ks)\n",
    "print('p =', res.p, ',', res.k, 'PCs used')\n",
    "print('total r^2 between top {} NAM PCs and outcome is {:.2f}'.format(res.k, res.r2))"
   ]
  },
  {
   "cell_type": "code",
   "execution_count": 117,
   "id": "6c38f27b-2e50-409b-94d9-60e6788db484",
   "metadata": {},
   "outputs": [
    {
     "name": "stdout",
     "output_type": "stream",
     "text": [
      "performing association test\n",
      "computing neighborhood-level FDRs\n",
      "1\n",
      "[1, 2, 3, 4, 5, 6, 7, 8, 9, 10, 11, 12, 13, 14, 15, 16, 17, 18, 19, 20]\n",
      "p = 0.6378362163783622 , 1 PCs used\n",
      "total r^2 between top 1 NAM PCs and outcome is 0.01\n"
     ]
    }
   ],
   "source": [
    "np.random.seed(0) \n",
    "res = cna.tl._association.association(d, #dataset \n",
    "                                      d.samplem['Race_[A][B]'], #phenotype\n",
    "#                                       batches=d.samplem.processing_batch, #batches\n",
    "                                      Nnull=10000, # number of null permutations to do (defaults to only 1e3)\n",
    "                                      ks=[1,2,3,4,5,6,7,8,9,10,11,12,13,14,15,16,17,18,19,20] # I asked the method to consider up to 10 PCs because\n",
    "                                                                #it chose the max number of PCs it considered the default set of [1,2,3,4]\n",
    "                                     )\n",
    "print(res.k)\n",
    "print(res.ks)\n",
    "print('p =', res.p, ',', res.k, 'PCs used')\n",
    "print('total r^2 between top {} NAM PCs and outcome is {:.2f}'.format(res.k, res.r2))"
   ]
  },
  {
   "cell_type": "code",
   "execution_count": 118,
   "id": "dacd851f-0c07-4141-ba44-5e832ee4a723",
   "metadata": {},
   "outputs": [
    {
     "name": "stdout",
     "output_type": "stream",
     "text": [
      "performing association test\n",
      "computing neighborhood-level FDRs\n",
      "2\n",
      "[1, 2, 3, 4, 5, 6, 7, 8, 9, 10, 11, 12, 13, 14, 15, 16, 17, 18, 19, 20]\n",
      "p = 0.6702329767023297 , 2 PCs used\n",
      "total r^2 between top 2 NAM PCs and outcome is 0.02\n"
     ]
    }
   ],
   "source": [
    "np.random.seed(0) \n",
    "res = cna.tl._association.association(d, #dataset \n",
    "                                      d.samplem['Race_[B]'], #phenotype\n",
    "#                                       batches=d.samplem.processing_batch, #batches\n",
    "                                      Nnull=10000, # number of null permutations to do (defaults to only 1e3)\n",
    "                                      ks=[1,2,3,4,5,6,7,8,9,10,11,12,13,14,15,16,17,18,19,20] # I asked the method to consider up to 10 PCs because\n",
    "                                                                #it chose the max number of PCs it considered the default set of [1,2,3,4]\n",
    "                                     )\n",
    "print(res.k)\n",
    "print(res.ks)\n",
    "print('p =', res.p, ',', res.k, 'PCs used')\n",
    "print('total r^2 between top {} NAM PCs and outcome is {:.2f}'.format(res.k, res.r2))"
   ]
  },
  {
   "cell_type": "code",
   "execution_count": 73,
   "id": "a7b1f596-0afc-432f-9cce-c8696b7cad33",
   "metadata": {},
   "outputs": [
    {
     "name": "stdout",
     "output_type": "stream",
     "text": [
      "performing association test\n",
      "computing neighborhood-level FDRs\n",
      "5\n",
      "[1, 2, 3, 4, 5, 6, 7, 8, 9, 10, 11, 12, 13, 14, 15, 16, 17, 18, 19, 20]\n",
      "p = 0.5034496550344966 , 5 PCs used\n",
      "total r^2 between top 5 NAM PCs and outcome is 0.04\n"
     ]
    }
   ],
   "source": [
    "np.random.seed(0) \n",
    "res = cna.tl._association.association(d, #dataset \n",
    "                                      d.samplem['Race_[B][AI]'], #phenotype\n",
    "#                                       batches=d.samplem.processing_batch, #batches\n",
    "                                      Nnull=10000, # number of null permutations to do (defaults to only 1e3)\n",
    "                                      ks=[1,2,3,4,5,6,7,8,9,10,11,12,13,14,15,16,17,18,19,20] # I asked the method to consider up to 10 PCs because\n",
    "                                                                #it chose the max number of PCs it considered the default set of [1,2,3,4]\n",
    "                                     )\n",
    "print(res.k)\n",
    "print(res.ks)\n",
    "print('p =', res.p, ',', res.k, 'PCs used')\n",
    "print('total r^2 between top {} NAM PCs and outcome is {:.2f}'.format(res.k, res.r2))"
   ]
  },
  {
   "cell_type": "code",
   "execution_count": 74,
   "id": "fdbe4637-452f-4a1a-bb33-f4667e6dc87e",
   "metadata": {},
   "outputs": [],
   "source": [
    "sc_uni['Race'] = res.p"
   ]
  },
  {
   "cell_type": "code",
   "execution_count": 70,
   "id": "cbc63d50-093b-4ca7-94d5-43a770035710",
   "metadata": {},
   "outputs": [
    {
     "name": "stdout",
     "output_type": "stream",
     "text": [
      "performing association test\n",
      "computing neighborhood-level FDRs\n",
      "1\n",
      "[1, 2, 3, 4, 5, 6, 7, 8, 9, 10, 11, 12, 13, 14, 15, 16, 17, 18, 19, 20]\n",
      "p = 0.5848415158484151 , 1 PCs used\n",
      "total r^2 between top 1 NAM PCs and outcome is 0.01\n"
     ]
    }
   ],
   "source": [
    "np.random.seed(0) \n",
    "res = cna.tl._association.association(d, #dataset \n",
    "                                      d.samplem['Race_[B][W]'], #phenotype\n",
    "#                                       batches=d.samplem.processing_batch, #batches\n",
    "                                      Nnull=10000, # number of null permutations to do (defaults to only 1e3)\n",
    "                                      ks=[1,2,3,4,5,6,7,8,9,10,11,12,13,14,15,16,17,18,19,20] # I asked the method to consider up to 10 PCs because\n",
    "                                                                #it chose the max number of PCs it considered the default set of [1,2,3,4]\n",
    "                                     )\n",
    "print(res.k)\n",
    "print(res.ks)\n",
    "print('p =', res.p, ',', res.k, 'PCs used')\n",
    "print('total r^2 between top {} NAM PCs and outcome is {:.2f}'.format(res.k, res.r2))"
   ]
  },
  {
   "cell_type": "code",
   "execution_count": 71,
   "id": "671f6aec-3498-4b2c-8c57-ab053ee3cda7",
   "metadata": {},
   "outputs": [
    {
     "name": "stdout",
     "output_type": "stream",
     "text": [
      "performing association test\n",
      "computing neighborhood-level FDRs\n",
      "5\n",
      "[1, 2, 3, 4, 5, 6, 7, 8, 9, 10, 11, 12, 13, 14, 15, 16, 17, 18, 19, 20]\n",
      "p = 0.8163183681631837 , 5 PCs used\n",
      "total r^2 between top 5 NAM PCs and outcome is 0.03\n"
     ]
    }
   ],
   "source": [
    "np.random.seed(0) \n",
    "res = cna.tl._association.association(d, #dataset \n",
    "                                      d.samplem['Race_[U]'], #phenotype\n",
    "#                                       batches=d.samplem.processing_batch, #batches\n",
    "                                      Nnull=10000, # number of null permutations to do (defaults to only 1e3)\n",
    "                                      ks=[1,2,3,4,5,6,7,8,9,10,11,12,13,14,15,16,17,18,19,20] # I asked the method to consider up to 10 PCs because\n",
    "                                                                #it chose the max number of PCs it considered the default set of [1,2,3,4]\n",
    "                                     )\n",
    "print(res.k)\n",
    "print(res.ks)\n",
    "print('p =', res.p, ',', res.k, 'PCs used')\n",
    "print('total r^2 between top {} NAM PCs and outcome is {:.2f}'.format(res.k, res.r2))"
   ]
  },
  {
   "cell_type": "code",
   "execution_count": 72,
   "id": "245b7ac2-ca83-4347-a032-49132f2fac8c",
   "metadata": {},
   "outputs": [
    {
     "name": "stdout",
     "output_type": "stream",
     "text": [
      "performing association test\n",
      "computing neighborhood-level FDRs\n",
      "16\n",
      "[1, 2, 3, 4, 5, 6, 7, 8, 9, 10, 11, 12, 13, 14, 15, 16, 17, 18, 19, 20]\n",
      "p = 0.5138486151384861 , 16 PCs used\n",
      "total r^2 between top 16 NAM PCs and outcome is 0.13\n"
     ]
    }
   ],
   "source": [
    "np.random.seed(0) \n",
    "res = cna.tl._association.association(d, #dataset \n",
    "                                      d.samplem['Race_[W]'], #phenotype\n",
    "#                                       batches=d.samplem.processing_batch, #batches\n",
    "                                      Nnull=10000, # number of null permutations to do (defaults to only 1e3)\n",
    "                                      ks=[1,2,3,4,5,6,7,8,9,10,11,12,13,14,15,16,17,18,19,20] # I asked the method to consider up to 10 PCs because\n",
    "                                                                #it chose the max number of PCs it considered the default set of [1,2,3,4]\n",
    "                                     )\n",
    "print(res.k)\n",
    "print(res.ks)\n",
    "print('p =', res.p, ',', res.k, 'PCs used')\n",
    "print('total r^2 between top {} NAM PCs and outcome is {:.2f}'.format(res.k, res.r2))"
   ]
  },
  {
   "cell_type": "markdown",
   "id": "1324e48a-174b-48b9-acd9-3454c6563288",
   "metadata": {},
   "source": [
    "# CASE/CONTROL"
   ]
  },
  {
   "cell_type": "markdown",
   "id": "07a63008-aee6-40f6-92e7-21dbc5bbdf26",
   "metadata": {},
   "source": [
    "## Single Cell"
   ]
  },
  {
   "cell_type": "code",
   "execution_count": 9,
   "id": "54cfa6c8-e76d-4fa8-9e91-c6b05957569d",
   "metadata": {},
   "outputs": [
    {
     "name": "stdout",
     "output_type": "stream",
     "text": [
      "(35131, 77)\n"
     ]
    },
    {
     "name": "stderr",
     "output_type": "stream",
     "text": [
      "/tmp/ipykernel_46924/3609899025.py:1: DtypeWarning: Columns (58) have mixed types. Specify dtype option on import or set low_memory=False.\n",
      "  meta = pd.read_csv('/data/srlab/ssg34/SLE_kidney_v2/data/cna/t_nk/sc_t_nk_casecontrol_meta.csv')\n"
     ]
    }
   ],
   "source": [
    "meta = pd.read_csv('/data/srlab/ssg34/SLE_kidney_v2/data/cna/t_nk/sc_t_nk_casecontrol_meta.csv')\n",
    "print(meta.shape)"
   ]
  },
  {
   "cell_type": "code",
   "execution_count": 10,
   "id": "036d4113-61d0-4a1a-be80-41f062cfd2c4",
   "metadata": {},
   "outputs": [
    {
     "name": "stdout",
     "output_type": "stream",
     "text": [
      "(35131, 20)\n"
     ]
    }
   ],
   "source": [
    "harmony = pd.read_csv('/data/srlab/ssg34/SLE_kidney_v2/data/cna/t_nk/sc_t_nk_casecontrol_harmony.csv')\n",
    "print(harmony.shape)"
   ]
  },
  {
   "cell_type": "code",
   "execution_count": 11,
   "id": "e5e65c77-0074-4e0d-871b-02798eef6813",
   "metadata": {},
   "outputs": [
    {
     "name": "stdout",
     "output_type": "stream",
     "text": [
      "(35131, 2)\n"
     ]
    }
   ],
   "source": [
    "umap = pd.read_csv('/data/srlab/ssg34/SLE_kidney_v2/data/cna/t_nk/sc_t_nk_casecontrol_umap.csv')\n",
    "print(umap.shape)"
   ]
  },
  {
   "cell_type": "code",
   "execution_count": 12,
   "id": "3a55b933-2526-4471-9e67-66055b43e320",
   "metadata": {},
   "outputs": [
    {
     "name": "stdout",
     "output_type": "stream",
     "text": [
      "warning: the following columns of obs are non-numeric.\n",
      "['cell' 'Annot.separate' 'dataset' 'Site' 'broad.type'\n",
      " 'doublet_classification' 'arnon_annotations' 'annotation'\n",
      " 'final_annotation' 'kid_sample' 'AMP.ID' 'Final_Site'\n",
      " 'Clinical.Response.at.12.weeks' 'Clinical.Response.at.26.weeks'\n",
      " 'Clinical.Response.at.52.weeks' 'Responder.Status' 'Type' 'Sex' 'Race'\n",
      " 'Ethnicity' 'ISN' 'sample' 'processing.date' 'XTR.WTA.batch' 'DASH.batch'\n",
      " 'index' 'seq.submission.date' 'Flow.cell' 'Rituximab.stop.date'\n",
      " 'biopsy.length.from.site.mm' 'AMP.Subject_ID' 'Central_ISN' 'Final_ISN']\n",
      "consider casting to numeric types where appropriate, and\n",
      "consider re-coding text-valued columns with pandas.get_dummies\n"
     ]
    },
    {
     "name": "stderr",
     "output_type": "stream",
     "text": [
      "/PHShome/ssg34/.conda/envs/plswork/lib/python3.9/site-packages/multianndata/core.py:17: FutureWarning: X.dtype being converted to np.float32 from float64. In the next version of anndata (0.9) conversion will not be automatic. Pass dtype explicitly to avoid this warning. Pass `AnnData(X, dtype=X.dtype, ...)` to get the future behavour.\n",
      "  super().__init__(*args, **kwargs)\n",
      "/PHShome/ssg34/.conda/envs/plswork/lib/python3.9/site-packages/anndata/_core/anndata.py:121: ImplicitModificationWarning: Transforming to str index.\n",
      "  warnings.warn(\"Transforming to str index.\", ImplicitModificationWarning)\n"
     ]
    },
    {
     "data": {
      "text/html": [
       "<div>\n",
       "<style scoped>\n",
       "    .dataframe tbody tr th:only-of-type {\n",
       "        vertical-align: middle;\n",
       "    }\n",
       "\n",
       "    .dataframe tbody tr th {\n",
       "        vertical-align: top;\n",
       "    }\n",
       "\n",
       "    .dataframe thead th {\n",
       "        text-align: right;\n",
       "    }\n",
       "</style>\n",
       "<table border=\"1\" class=\"dataframe\">\n",
       "  <thead>\n",
       "    <tr style=\"text-align: right;\">\n",
       "      <th></th>\n",
       "      <th>Type_numeric</th>\n",
       "    </tr>\n",
       "    <tr>\n",
       "      <th>individual</th>\n",
       "      <th></th>\n",
       "    </tr>\n",
       "  </thead>\n",
       "  <tbody>\n",
       "    <tr>\n",
       "      <th>134</th>\n",
       "      <td>1.0</td>\n",
       "    </tr>\n",
       "    <tr>\n",
       "      <th>137</th>\n",
       "      <td>1.0</td>\n",
       "    </tr>\n",
       "    <tr>\n",
       "      <th>138</th>\n",
       "      <td>1.0</td>\n",
       "    </tr>\n",
       "    <tr>\n",
       "      <th>139</th>\n",
       "      <td>1.0</td>\n",
       "    </tr>\n",
       "    <tr>\n",
       "      <th>140</th>\n",
       "      <td>1.0</td>\n",
       "    </tr>\n",
       "  </tbody>\n",
       "</table>\n",
       "</div>"
      ],
      "text/plain": [
       "            Type_numeric\n",
       "individual              \n",
       "134                  1.0\n",
       "137                  1.0\n",
       "138                  1.0\n",
       "139                  1.0\n",
       "140                  1.0"
      ]
     },
     "execution_count": 12,
     "metadata": {},
     "output_type": "execute_result"
    }
   ],
   "source": [
    "# Start by making anndata object\n",
    "d = mad.MultiAnnData(X=harmony, obs=meta, sampleid=\"individual\")\n",
    "#d.obs_to_sample(['Type', 'Site',\n",
    "#                 'Responder_Status', 'Sex',\n",
    "#                 'Age', 'Race',\n",
    "#                'Ethnicity', 'ISN',\n",
    "#               'Activity', \"Chronicity\",\n",
    "#                 'processing_batch'])\n",
    "d.obs_to_sample(['Type_numeric'])\n",
    "d.samplem.head()"
   ]
  },
  {
   "cell_type": "code",
   "execution_count": 13,
   "id": "55187183-6ca5-4ed8-a1e9-85874b364a83",
   "metadata": {},
   "outputs": [],
   "source": [
    "umap.index = d.obs.index\n",
    "d.obsm['X_umap'] = umap"
   ]
  },
  {
   "cell_type": "code",
   "execution_count": 14,
   "id": "0461a217-41dd-4244-b2c9-699af90a0893",
   "metadata": {},
   "outputs": [
    {
     "name": "stdout",
     "output_type": "stream",
     "text": [
      "computing default knn graph\n"
     ]
    },
    {
     "name": "stderr",
     "output_type": "stream",
     "text": [
      "/PHShome/ssg34/.conda/envs/plswork/lib/python3.9/site-packages/tqdm/auto.py:22: TqdmWarning: IProgress not found. Please update jupyter and ipywidgets. See https://ipywidgets.readthedocs.io/en/stable/user_install.html\n",
      "  from .autonotebook import tqdm as notebook_tqdm\n"
     ]
    }
   ],
   "source": [
    "np.random.seed(0) \n",
    "cna.pp.knn(d)"
   ]
  },
  {
   "cell_type": "code",
   "execution_count": 15,
   "id": "70c66d02-d8de-4e30-a2b5-140c926d7979",
   "metadata": {},
   "outputs": [
    {
     "name": "stdout",
     "output_type": "stream",
     "text": [
      "qcd NAM not found; computing and saving\n",
      "\ttaking step 1\n",
      "\tmedian kurtosis: 66.03807067871094\n",
      "\t20th percentile R2(t,t-1): nan\n",
      "\ttaking step 2\n",
      "\tmedian kurtosis: 42.36387252807617\n",
      "\t20th percentile R2(t,t-1): 0.7422828674316406\n",
      "\ttaking step 3\n",
      "\tmedian kurtosis: 29.72708511352539\n",
      "\t20th percentile R2(t,t-1): 0.8985448956489563\n",
      "\ttaking step 4\n",
      "\tmedian kurtosis: 21.421955108642578\n",
      "\t20th percentile R2(t,t-1): 0.9385355114936829\n",
      "\ttaking step 5\n",
      "\tmedian kurtosis: 16.20050621032715\n",
      "\t20th percentile R2(t,t-1): 0.9598562240600585\n",
      "\ttaking step 6\n",
      "\tmedian kurtosis: 13.17811107635498\n",
      "\t20th percentile R2(t,t-1): 0.9743244886398316\n",
      "\ttaking step 7\n",
      "\tmedian kurtosis: 11.303744316101074\n",
      "\t20th percentile R2(t,t-1): 0.9841291069984436\n",
      "stopping after 7 steps\n",
      "covariate-adjusted NAM not found; computing and saving\n"
     ]
    },
    {
     "name": "stderr",
     "output_type": "stream",
     "text": [
      "/PHShome/ssg34/.conda/envs/plswork/lib/python3.9/site-packages/cna/tools/_nam.py:79: UserWarning: only one unique batch supplied to qc\n",
      "  warnings.warn('only one unique batch supplied to qc')\n",
      "/PHShome/ssg34/.conda/envs/plswork/lib/python3.9/site-packages/cna/tools/_nam.py:101: UserWarning: only one unique batch supplied to prep\n",
      "  warnings.warn('only one unique batch supplied to prep')\n"
     ]
    },
    {
     "name": "stdout",
     "output_type": "stream",
     "text": [
      "computing SVD\n",
      "performing association test\n"
     ]
    },
    {
     "name": "stderr",
     "output_type": "stream",
     "text": [
      "/PHShome/ssg34/.conda/envs/plswork/lib/python3.9/site-packages/cna/tools/_association.py:74: UserWarning: global association p-value attained minimal possible value. Consider increasing Nnull\n",
      "  warnings.warn('global association p-value attained minimal possible value. '+\\\n"
     ]
    },
    {
     "name": "stdout",
     "output_type": "stream",
     "text": [
      "computing neighborhood-level FDRs\n",
      "19\n",
      "[1, 2, 3, 4, 5, 6, 7, 8, 9, 10, 11, 12, 13, 14, 15, 16, 17, 18, 19, 20]\n",
      "p = 9.999000099990002e-05 , 19 PCs used\n",
      "total r^2 between top 19 NAM PCs and outcome is 0.61\n"
     ]
    }
   ],
   "source": [
    "np.random.seed(0) \n",
    "res = cna.tl._association.association(d, #dataset \n",
    "                                      d.samplem.Type_numeric, #phenotype\n",
    "#                                       batches=d.samplem.processing_batch, #batches\n",
    "                                      Nnull=10000, # number of null permutations to do (defaults to only 1e3)\n",
    "                                      ks=[1,2,3,4,5,6,7,8,9,10,11,12,13,14,15,16,17,18,19,20] # I asked the method to consider up to 10 PCs because\n",
    "                                                                #it chose the max number of PCs it considered the default set of [1,2,3,4]\n",
    "                                     )\n",
    "print(res.k)\n",
    "print(res.ks)\n",
    "print('p =', res.p, ',', res.k, 'PCs used')\n",
    "print('total r^2 between top {} NAM PCs and outcome is {:.2f}'.format(res.k, res.r2))"
   ]
  },
  {
   "cell_type": "code",
   "execution_count": 16,
   "id": "1e4bb311-b03b-4c03-81b0-773de86b5ff8",
   "metadata": {},
   "outputs": [],
   "source": [
    "np.savetxt(\"/data/srlab/ssg34/SLE_kidney_v2/data/cna/t_nk/sc_t_nk_casecontrol.kept.csv\", res.kept, delimiter=\",\")\n",
    "np.savetxt(\"/data/srlab/ssg34/SLE_kidney_v2/data/cna/t_nk/sc_t_nk_casecontrol.ncorrs.csv\", res.ncorrs, delimiter=\",\")\n",
    "np.savetxt(\"/data/srlab/ssg34/SLE_kidney_v2/data/cna/t_nk/sc_t_nk_casecontrol.fdrs.csv\", res.fdrs, delimiter=\",\")\n",
    "np.savetxt(\"/data/srlab/ssg34/SLE_kidney_v2/data/cna/t_nk/sc_t_nk_casecontrol.thresh.csv\", [res.fdr_5p_t, res.fdr_10p_t], delimiter=\",\")"
   ]
  },
  {
   "cell_type": "markdown",
   "id": "b6715ac3-dff6-4b1b-b088-ce328f2ffdd8",
   "metadata": {},
   "source": [
    "# SITE"
   ]
  },
  {
   "cell_type": "markdown",
   "id": "4ae813f2-88af-4a45-b746-193375b914ca",
   "metadata": {},
   "source": [
    "## Single Cell"
   ]
  },
  {
   "cell_type": "code",
   "execution_count": 3,
   "id": "a744fa73-47b0-48bd-96f1-a38c44b99f68",
   "metadata": {},
   "outputs": [
    {
     "name": "stdout",
     "output_type": "stream",
     "text": [
      "(35187, 39)\n"
     ]
    }
   ],
   "source": [
    "meta = pd.read_csv('/data/srlab/ssg34/SLE_kidney_v2/data/cna_new/t_nk/first_biop_pred_use_site/sc_meta_site.csv')\n",
    "print(meta.shape)"
   ]
  },
  {
   "cell_type": "code",
   "execution_count": 185,
   "id": "f12da1b0-4665-4f10-b681-506d51f1469d",
   "metadata": {},
   "outputs": [
    {
     "name": "stdout",
     "output_type": "stream",
     "text": [
      "(35187, 20)\n"
     ]
    }
   ],
   "source": [
    "harmony = pd.read_csv('/data/srlab/ssg34/SLE_kidney_v2/data/cna_new/t_nk/first_biop_pred_use_site/sc_harmony_site.csv')\n",
    "print(harmony.shape)"
   ]
  },
  {
   "cell_type": "code",
   "execution_count": 186,
   "id": "147b3816-f2a7-463d-ad83-de6bc42cc729",
   "metadata": {},
   "outputs": [
    {
     "name": "stdout",
     "output_type": "stream",
     "text": [
      "(35187, 2)\n"
     ]
    }
   ],
   "source": [
    "umap = pd.read_csv('/data/srlab/ssg34/SLE_kidney_v2/data/cna_new/t_nk/first_biop_pred_use_site/sc_umap_site.csv')\n",
    "print(umap.shape)"
   ]
  },
  {
   "cell_type": "code",
   "execution_count": 187,
   "id": "001f2a41-47e7-4c0f-b30c-1bbeeccc38ad",
   "metadata": {},
   "outputs": [
    {
     "name": "stderr",
     "output_type": "stream",
     "text": [
      "/PHShome/ssg34/.conda/envs/plswork/lib/python3.9/site-packages/multianndata/core.py:17: FutureWarning: X.dtype being converted to np.float32 from float64. In the next version of anndata (0.9) conversion will not be automatic. Pass dtype explicitly to avoid this warning. Pass `AnnData(X, dtype=X.dtype, ...)` to get the future behavour.\n",
      "  super().__init__(*args, **kwargs)\n",
      "/PHShome/ssg34/.conda/envs/plswork/lib/python3.9/site-packages/anndata/_core/anndata.py:121: ImplicitModificationWarning: Transforming to str index.\n",
      "  warnings.warn(\"Transforming to str index.\", ImplicitModificationWarning)\n"
     ]
    },
    {
     "name": "stdout",
     "output_type": "stream",
     "text": [
      "warning: the following columns of obs are non-numeric.\n",
      "['cell' 'sample' 'final_annotation' 'Responder.Status' 'Race' 'Final_ISN'\n",
      " 'Type' 'Final_Site']\n",
      "consider casting to numeric types where appropriate, and\n",
      "consider re-coding text-valued columns with pandas.get_dummies\n"
     ]
    },
    {
     "data": {
      "text/html": [
       "<div>\n",
       "<style scoped>\n",
       "    .dataframe tbody tr th:only-of-type {\n",
       "        vertical-align: middle;\n",
       "    }\n",
       "\n",
       "    .dataframe tbody tr th {\n",
       "        vertical-align: top;\n",
       "    }\n",
       "\n",
       "    .dataframe thead th {\n",
       "        text-align: right;\n",
       "    }\n",
       "</style>\n",
       "<table border=\"1\" class=\"dataframe\">\n",
       "  <thead>\n",
       "    <tr style=\"text-align: right;\">\n",
       "      <th></th>\n",
       "      <th>Sex</th>\n",
       "      <th>Age</th>\n",
       "      <th>Final_Chronicity</th>\n",
       "      <th>Final_Activity</th>\n",
       "      <th>First_biop</th>\n",
       "      <th>Pred_use</th>\n",
       "      <th>Responder_Status</th>\n",
       "      <th>Race_[A]</th>\n",
       "      <th>Race_[A][B]</th>\n",
       "      <th>Race_[B]</th>\n",
       "      <th>...</th>\n",
       "      <th>Final_Site_JHU</th>\n",
       "      <th>Final_Site_Michigan</th>\n",
       "      <th>Final_Site_MUSC</th>\n",
       "      <th>Final_Site_Northwell</th>\n",
       "      <th>Final_Site_NYU</th>\n",
       "      <th>Final_Site_Rochester</th>\n",
       "      <th>Final_Site_Texas Tech</th>\n",
       "      <th>Final_Site_UCLA</th>\n",
       "      <th>Final_Site_UCSD</th>\n",
       "      <th>Final_Site_UCSF</th>\n",
       "    </tr>\n",
       "    <tr>\n",
       "      <th>sample</th>\n",
       "      <th></th>\n",
       "      <th></th>\n",
       "      <th></th>\n",
       "      <th></th>\n",
       "      <th></th>\n",
       "      <th></th>\n",
       "      <th></th>\n",
       "      <th></th>\n",
       "      <th></th>\n",
       "      <th></th>\n",
       "      <th></th>\n",
       "      <th></th>\n",
       "      <th></th>\n",
       "      <th></th>\n",
       "      <th></th>\n",
       "      <th></th>\n",
       "      <th></th>\n",
       "      <th></th>\n",
       "      <th></th>\n",
       "      <th></th>\n",
       "      <th></th>\n",
       "    </tr>\n",
       "  </thead>\n",
       "  <tbody>\n",
       "    <tr>\n",
       "      <th>AMPSLEkid_cells_0134</th>\n",
       "      <td>1.0</td>\n",
       "      <td>0.760126</td>\n",
       "      <td>6.0</td>\n",
       "      <td>4.0</td>\n",
       "      <td>0.0</td>\n",
       "      <td>0.0</td>\n",
       "      <td>0.0</td>\n",
       "      <td>1.0</td>\n",
       "      <td>0.0</td>\n",
       "      <td>0.0</td>\n",
       "      <td>...</td>\n",
       "      <td>0.0</td>\n",
       "      <td>0.0</td>\n",
       "      <td>0.0</td>\n",
       "      <td>0.0</td>\n",
       "      <td>0.0</td>\n",
       "      <td>1.0</td>\n",
       "      <td>0.0</td>\n",
       "      <td>0.0</td>\n",
       "      <td>0.0</td>\n",
       "      <td>0.0</td>\n",
       "    </tr>\n",
       "    <tr>\n",
       "      <th>AMPSLEkid_cells_0137</th>\n",
       "      <td>1.0</td>\n",
       "      <td>-0.183948</td>\n",
       "      <td>3.0</td>\n",
       "      <td>5.0</td>\n",
       "      <td>0.0</td>\n",
       "      <td>1.0</td>\n",
       "      <td>2.0</td>\n",
       "      <td>0.0</td>\n",
       "      <td>0.0</td>\n",
       "      <td>1.0</td>\n",
       "      <td>...</td>\n",
       "      <td>0.0</td>\n",
       "      <td>0.0</td>\n",
       "      <td>0.0</td>\n",
       "      <td>0.0</td>\n",
       "      <td>0.0</td>\n",
       "      <td>1.0</td>\n",
       "      <td>0.0</td>\n",
       "      <td>0.0</td>\n",
       "      <td>0.0</td>\n",
       "      <td>0.0</td>\n",
       "    </tr>\n",
       "    <tr>\n",
       "      <th>AMPSLEkid_cells_0138</th>\n",
       "      <td>1.0</td>\n",
       "      <td>0.331002</td>\n",
       "      <td>0.0</td>\n",
       "      <td>0.0</td>\n",
       "      <td>1.0</td>\n",
       "      <td>1.0</td>\n",
       "      <td>2.0</td>\n",
       "      <td>0.0</td>\n",
       "      <td>0.0</td>\n",
       "      <td>0.0</td>\n",
       "      <td>...</td>\n",
       "      <td>0.0</td>\n",
       "      <td>0.0</td>\n",
       "      <td>0.0</td>\n",
       "      <td>0.0</td>\n",
       "      <td>0.0</td>\n",
       "      <td>1.0</td>\n",
       "      <td>0.0</td>\n",
       "      <td>0.0</td>\n",
       "      <td>0.0</td>\n",
       "      <td>0.0</td>\n",
       "    </tr>\n",
       "    <tr>\n",
       "      <th>AMPSLEkid_cells_0139</th>\n",
       "      <td>1.0</td>\n",
       "      <td>0.674301</td>\n",
       "      <td>3.0</td>\n",
       "      <td>2.0</td>\n",
       "      <td>0.0</td>\n",
       "      <td>1.0</td>\n",
       "      <td>2.0</td>\n",
       "      <td>0.0</td>\n",
       "      <td>0.0</td>\n",
       "      <td>1.0</td>\n",
       "      <td>...</td>\n",
       "      <td>0.0</td>\n",
       "      <td>0.0</td>\n",
       "      <td>0.0</td>\n",
       "      <td>0.0</td>\n",
       "      <td>0.0</td>\n",
       "      <td>1.0</td>\n",
       "      <td>0.0</td>\n",
       "      <td>0.0</td>\n",
       "      <td>0.0</td>\n",
       "      <td>0.0</td>\n",
       "    </tr>\n",
       "    <tr>\n",
       "      <th>AMPSLEkid_cells_0140</th>\n",
       "      <td>1.0</td>\n",
       "      <td>-0.956372</td>\n",
       "      <td>1.0</td>\n",
       "      <td>1.0</td>\n",
       "      <td>1.0</td>\n",
       "      <td>0.0</td>\n",
       "      <td>0.0</td>\n",
       "      <td>0.0</td>\n",
       "      <td>0.0</td>\n",
       "      <td>1.0</td>\n",
       "      <td>...</td>\n",
       "      <td>0.0</td>\n",
       "      <td>0.0</td>\n",
       "      <td>0.0</td>\n",
       "      <td>0.0</td>\n",
       "      <td>0.0</td>\n",
       "      <td>1.0</td>\n",
       "      <td>0.0</td>\n",
       "      <td>0.0</td>\n",
       "      <td>0.0</td>\n",
       "      <td>0.0</td>\n",
       "    </tr>\n",
       "  </tbody>\n",
       "</table>\n",
       "<p>5 rows × 31 columns</p>\n",
       "</div>"
      ],
      "text/plain": [
       "                      Sex       Age  Final_Chronicity  Final_Activity  \\\n",
       "sample                                                                  \n",
       "AMPSLEkid_cells_0134  1.0  0.760126               6.0             4.0   \n",
       "AMPSLEkid_cells_0137  1.0 -0.183948               3.0             5.0   \n",
       "AMPSLEkid_cells_0138  1.0  0.331002               0.0             0.0   \n",
       "AMPSLEkid_cells_0139  1.0  0.674301               3.0             2.0   \n",
       "AMPSLEkid_cells_0140  1.0 -0.956372               1.0             1.0   \n",
       "\n",
       "                      First_biop  Pred_use  Responder_Status  Race_[A]  \\\n",
       "sample                                                                   \n",
       "AMPSLEkid_cells_0134         0.0       0.0               0.0       1.0   \n",
       "AMPSLEkid_cells_0137         0.0       1.0               2.0       0.0   \n",
       "AMPSLEkid_cells_0138         1.0       1.0               2.0       0.0   \n",
       "AMPSLEkid_cells_0139         0.0       1.0               2.0       0.0   \n",
       "AMPSLEkid_cells_0140         1.0       0.0               0.0       0.0   \n",
       "\n",
       "                      Race_[A][B]  Race_[B]  ...  Final_Site_JHU  \\\n",
       "sample                                       ...                   \n",
       "AMPSLEkid_cells_0134          0.0       0.0  ...             0.0   \n",
       "AMPSLEkid_cells_0137          0.0       1.0  ...             0.0   \n",
       "AMPSLEkid_cells_0138          0.0       0.0  ...             0.0   \n",
       "AMPSLEkid_cells_0139          0.0       1.0  ...             0.0   \n",
       "AMPSLEkid_cells_0140          0.0       1.0  ...             0.0   \n",
       "\n",
       "                      Final_Site_Michigan  Final_Site_MUSC  \\\n",
       "sample                                                       \n",
       "AMPSLEkid_cells_0134                  0.0              0.0   \n",
       "AMPSLEkid_cells_0137                  0.0              0.0   \n",
       "AMPSLEkid_cells_0138                  0.0              0.0   \n",
       "AMPSLEkid_cells_0139                  0.0              0.0   \n",
       "AMPSLEkid_cells_0140                  0.0              0.0   \n",
       "\n",
       "                      Final_Site_Northwell  Final_Site_NYU  \\\n",
       "sample                                                       \n",
       "AMPSLEkid_cells_0134                   0.0             0.0   \n",
       "AMPSLEkid_cells_0137                   0.0             0.0   \n",
       "AMPSLEkid_cells_0138                   0.0             0.0   \n",
       "AMPSLEkid_cells_0139                   0.0             0.0   \n",
       "AMPSLEkid_cells_0140                   0.0             0.0   \n",
       "\n",
       "                      Final_Site_Rochester  Final_Site_Texas Tech  \\\n",
       "sample                                                              \n",
       "AMPSLEkid_cells_0134                   1.0                    0.0   \n",
       "AMPSLEkid_cells_0137                   1.0                    0.0   \n",
       "AMPSLEkid_cells_0138                   1.0                    0.0   \n",
       "AMPSLEkid_cells_0139                   1.0                    0.0   \n",
       "AMPSLEkid_cells_0140                   1.0                    0.0   \n",
       "\n",
       "                      Final_Site_UCLA  Final_Site_UCSD  Final_Site_UCSF  \n",
       "sample                                                                   \n",
       "AMPSLEkid_cells_0134              0.0              0.0              0.0  \n",
       "AMPSLEkid_cells_0137              0.0              0.0              0.0  \n",
       "AMPSLEkid_cells_0138              0.0              0.0              0.0  \n",
       "AMPSLEkid_cells_0139              0.0              0.0              0.0  \n",
       "AMPSLEkid_cells_0140              0.0              0.0              0.0  \n",
       "\n",
       "[5 rows x 31 columns]"
      ]
     },
     "execution_count": 187,
     "metadata": {},
     "output_type": "execute_result"
    }
   ],
   "source": [
    "# Start by making anndata object\n",
    "d = mad.MultiAnnData(X=harmony, obs=meta, sampleid=\"sample\")\n",
    "#d.obs_to_sample(['Type', 'Site',\n",
    "#                 'Responder_Status', 'Sex',\n",
    "#                 'Age', 'Race',\n",
    "#                'Ethnicity', 'ISN',\n",
    "#               'Activity', \"Chronicity\",\n",
    "#                 'processing_batch'])\n",
    "d.obs_to_sample(['Sex', 'Age', 'Final_Chronicity', 'Final_Activity', 'First_biop', 'Pred_use', 'Responder_Status', 'Race_[A]',\n",
    "       'Race_[A][B]', 'Race_[B]', 'Race_[B][AI]', 'Race_[B][W]', 'Race_[U]',\n",
    "       'Race_[W]', 'Final_ISN_[III]', 'Final_ISN_[III][V]', 'Final_ISN_[IV]',\n",
    "       'Final_ISN_[IV][V]', 'Final_ISN_[V]', 'Final_Site_Cincinnati',\n",
    "       'Final_Site_Einstein', 'Final_Site_JHU', 'Final_Site_Michigan',\n",
    "       'Final_Site_MUSC', 'Final_Site_Northwell', 'Final_Site_NYU',\n",
    "       'Final_Site_Rochester', 'Final_Site_Texas Tech', 'Final_Site_UCLA',\n",
    "       'Final_Site_UCSD', 'Final_Site_UCSF'])\n",
    "d.samplem.head()"
   ]
  },
  {
   "cell_type": "code",
   "execution_count": 188,
   "id": "b2997987-fc7b-48d8-b3c6-3c17d5cef1ae",
   "metadata": {},
   "outputs": [],
   "source": [
    "umap.index = d.obs.index\n",
    "d.obsm['X_umap'] = umap"
   ]
  },
  {
   "cell_type": "code",
   "execution_count": 189,
   "id": "a830f004-cdb7-4ee7-b18f-1d91072a5a21",
   "metadata": {},
   "outputs": [
    {
     "name": "stdout",
     "output_type": "stream",
     "text": [
      "computing default knn graph\n"
     ]
    }
   ],
   "source": [
    "np.random.seed(0) \n",
    "cna.pp.knn(d)"
   ]
  },
  {
   "cell_type": "code",
   "execution_count": 131,
   "id": "c950a928-622d-4904-ae0d-7d061d3710ca",
   "metadata": {},
   "outputs": [
    {
     "name": "stdout",
     "output_type": "stream",
     "text": [
      "performing association test\n",
      "computing neighborhood-level FDRs\n",
      "1\n",
      "[1, 2, 3, 4, 5, 6, 7, 8, 9, 10, 11, 12, 13, 14, 15, 16, 17, 18, 19, 20]\n",
      "p = 0.7523247675232477 , 1 PCs used\n",
      "total r^2 between top 1 NAM PCs and outcome is 0.00\n"
     ]
    }
   ],
   "source": [
    "np.random.seed(0) \n",
    "res = cna.tl._association.association(d, #dataset \n",
    "                                      d.samplem.Final_Site_Cincinnati, #phenotype\n",
    "#                                       batches=d.samplem.processing_batch, #batches\n",
    "                                      Nnull=10000, # number of null permutations to do (defaults to only 1e3)\n",
    "                                      ks=[1,2,3,4,5,6,7,8,9,10,11,12,13,14,15,16,17,18,19,20] # I asked the method to consider up to 10 PCs because\n",
    "                                                                #it chose the max number of PCs it considered the default set of [1,2,3,4]\n",
    "                                     )\n",
    "print(res.k)\n",
    "print(res.ks)\n",
    "print('p =', res.p, ',', res.k, 'PCs used')\n",
    "print('total r^2 between top {} NAM PCs and outcome is {:.2f}'.format(res.k, res.r2))"
   ]
  },
  {
   "cell_type": "code",
   "execution_count": 132,
   "id": "d563e58c-138e-402f-ae7f-99b2dc7f4d3b",
   "metadata": {},
   "outputs": [
    {
     "name": "stdout",
     "output_type": "stream",
     "text": [
      "performing association test\n",
      "computing neighborhood-level FDRs\n",
      "19\n",
      "[1, 2, 3, 4, 5, 6, 7, 8, 9, 10, 11, 12, 13, 14, 15, 16, 17, 18, 19, 20]\n",
      "p = 0.15728427157284272 , 19 PCs used\n",
      "total r^2 between top 19 NAM PCs and outcome is 0.20\n"
     ]
    }
   ],
   "source": [
    "np.random.seed(0) \n",
    "res = cna.tl._association.association(d, #dataset \n",
    "                                      d.samplem.Final_Site_Einstein, #phenotype\n",
    "#                                       batches=d.samplem.processing_batch, #batches\n",
    "                                      Nnull=10000, # number of null permutations to do (defaults to only 1e3)\n",
    "                                      ks=[1,2,3,4,5,6,7,8,9,10,11,12,13,14,15,16,17,18,19,20] # I asked the method to consider up to 10 PCs because\n",
    "                                                                #it chose the max number of PCs it considered the default set of [1,2,3,4]\n",
    "                                     )\n",
    "print(res.k)\n",
    "print(res.ks)\n",
    "print('p =', res.p, ',', res.k, 'PCs used')\n",
    "print('total r^2 between top {} NAM PCs and outcome is {:.2f}'.format(res.k, res.r2))"
   ]
  },
  {
   "cell_type": "code",
   "execution_count": 190,
   "id": "ae46fcdd-70e8-40e2-97f4-ec30c23b3088",
   "metadata": {},
   "outputs": [
    {
     "name": "stdout",
     "output_type": "stream",
     "text": [
      "qcd NAM not found; computing and saving\n",
      "\ttaking step 1\n",
      "\tmedian kurtosis: 52.71991729736328\n",
      "\t20th percentile R2(t,t-1): nan\n",
      "\ttaking step 2\n",
      "\tmedian kurtosis: 33.68928527832031\n",
      "\t20th percentile R2(t,t-1): 0.7436593174934387\n",
      "\ttaking step 3\n",
      "\tmedian kurtosis: 23.012622833251953\n",
      "\t20th percentile R2(t,t-1): 0.8982551097869873\n",
      "\ttaking step 4\n",
      "\tmedian kurtosis: 16.160520553588867\n",
      "\t20th percentile R2(t,t-1): 0.93894362449646\n",
      "\ttaking step 5\n",
      "\tmedian kurtosis: 12.253840446472168\n",
      "\t20th percentile R2(t,t-1): 0.9611961245536804\n",
      "\ttaking step 6\n",
      "\tmedian kurtosis: 10.029513359069824\n",
      "\t20th percentile R2(t,t-1): 0.976091206073761\n",
      "stopping after 6 steps\n",
      "covariate-adjusted NAM not found; computing and saving\n",
      "computing SVD\n"
     ]
    },
    {
     "name": "stderr",
     "output_type": "stream",
     "text": [
      "/PHShome/ssg34/.conda/envs/plswork/lib/python3.9/site-packages/cna/tools/_nam.py:79: UserWarning: only one unique batch supplied to qc\n",
      "  warnings.warn('only one unique batch supplied to qc')\n",
      "/PHShome/ssg34/.conda/envs/plswork/lib/python3.9/site-packages/cna/tools/_nam.py:101: UserWarning: only one unique batch supplied to prep\n",
      "  warnings.warn('only one unique batch supplied to prep')\n"
     ]
    },
    {
     "name": "stdout",
     "output_type": "stream",
     "text": [
      "performing association test\n",
      "computing neighborhood-level FDRs\n",
      "18\n",
      "[1, 2, 3, 4, 5, 6, 7, 8, 9, 10, 11, 12, 13, 14, 15, 16, 17, 18, 19, 20]\n",
      "p = 0.05729427057294271 , 18 PCs used\n",
      "total r^2 between top 18 NAM PCs and outcome is 0.20\n"
     ]
    }
   ],
   "source": [
    "np.random.seed(0) \n",
    "res = cna.tl._association.association(d, #dataset \n",
    "                                      d.samplem.Final_Site_JHU, #phenotype\n",
    "#                                       batches=d.samplem.processing_batch, #batches\n",
    "                                      Nnull=10000, # number of null permutations to do (defaults to only 1e3)\n",
    "                                      ks=[1,2,3,4,5,6,7,8,9,10,11,12,13,14,15,16,17,18,19,20] # I asked the method to consider up to 10 PCs because\n",
    "                                                                #it chose the max number of PCs it considered the default set of [1,2,3,4]\n",
    "                                     )\n",
    "print(res.k)\n",
    "print(res.ks)\n",
    "print('p =', res.p, ',', res.k, 'PCs used')\n",
    "print('total r^2 between top {} NAM PCs and outcome is {:.2f}'.format(res.k, res.r2))"
   ]
  },
  {
   "cell_type": "code",
   "execution_count": 192,
   "id": "a0452a99-f35f-4c82-be35-f9df60d51016",
   "metadata": {},
   "outputs": [
    {
     "data": {
      "text/plain": [
       "{'Age': 0.0745925407459254,\n",
       " 'Sex': 0.28717128287171284,\n",
       " 'Responder_Status': 0.0047995200479952005,\n",
       " 'Race': 0.5034496550344966,\n",
       " 'First_biopsy': 0.0010998900109989002,\n",
       " 'Prednisone_use': 0.12378762123787622,\n",
       " 'Chronicity': 0.00019998000199980003,\n",
       " 'Activity': 0.3812618738126187,\n",
       " 'ISN': 0.24777522247775222,\n",
       " 'Site': 0.05729427057294271}"
      ]
     },
     "execution_count": 192,
     "metadata": {},
     "output_type": "execute_result"
    }
   ],
   "source": [
    "sc_uni"
   ]
  },
  {
   "cell_type": "code",
   "execution_count": 191,
   "id": "67d4a57d-11af-4995-9734-4b024af2a909",
   "metadata": {},
   "outputs": [],
   "source": [
    "sc_uni['Site'] = res.p"
   ]
  },
  {
   "cell_type": "code",
   "execution_count": 134,
   "id": "f4ad2bb4-1300-4087-b46a-c48cedc1e88c",
   "metadata": {},
   "outputs": [
    {
     "name": "stdout",
     "output_type": "stream",
     "text": [
      "performing association test\n",
      "computing neighborhood-level FDRs\n",
      "15\n",
      "[1, 2, 3, 4, 5, 6, 7, 8, 9, 10, 11, 12, 13, 14, 15, 16, 17, 18, 19, 20]\n",
      "p = 0.15808419158084192 , 15 PCs used\n",
      "total r^2 between top 15 NAM PCs and outcome is 0.21\n"
     ]
    }
   ],
   "source": [
    "np.random.seed(0) \n",
    "res = cna.tl._association.association(d, #dataset \n",
    "                                      d.samplem.Final_Site_Michigan, #phenotype\n",
    "#                                       batches=d.samplem.processing_batch, #batches\n",
    "                                      Nnull=10000, # number of null permutations to do (defaults to only 1e3)\n",
    "                                      ks=[1,2,3,4,5,6,7,8,9,10,11,12,13,14,15,16,17,18,19,20] # I asked the method to consider up to 10 PCs because\n",
    "                                                                #it chose the max number of PCs it considered the default set of [1,2,3,4]\n",
    "                                     )\n",
    "print(res.k)\n",
    "print(res.ks)\n",
    "print('p =', res.p, ',', res.k, 'PCs used')\n",
    "print('total r^2 between top {} NAM PCs and outcome is {:.2f}'.format(res.k, res.r2))"
   ]
  },
  {
   "cell_type": "code",
   "execution_count": 135,
   "id": "5bbebb2b-3c4d-48ba-9047-fb31ed1ed0a1",
   "metadata": {},
   "outputs": [
    {
     "name": "stdout",
     "output_type": "stream",
     "text": [
      "performing association test\n",
      "computing neighborhood-level FDRs\n",
      "2\n",
      "[1, 2, 3, 4, 5, 6, 7, 8, 9, 10, 11, 12, 13, 14, 15, 16, 17, 18, 19, 20]\n",
      "p = 0.4861513848615138 , 2 PCs used\n",
      "total r^2 between top 2 NAM PCs and outcome is 0.03\n"
     ]
    }
   ],
   "source": [
    "np.random.seed(0) \n",
    "res = cna.tl._association.association(d, #dataset \n",
    "                                      d.samplem.Final_Site_MUSC, #phenotype\n",
    "#                                       batches=d.samplem.processing_batch, #batches\n",
    "                                      Nnull=10000, # number of null permutations to do (defaults to only 1e3)\n",
    "                                      ks=[1,2,3,4,5,6,7,8,9,10,11,12,13,14,15,16,17,18,19,20] # I asked the method to consider up to 10 PCs because\n",
    "                                                                #it chose the max number of PCs it considered the default set of [1,2,3,4]\n",
    "                                     )\n",
    "print(res.k)\n",
    "print(res.ks)\n",
    "print('p =', res.p, ',', res.k, 'PCs used')\n",
    "print('total r^2 between top {} NAM PCs and outcome is {:.2f}'.format(res.k, res.r2))"
   ]
  },
  {
   "cell_type": "code",
   "execution_count": 136,
   "id": "9c3af2ec-07e2-46ee-928b-e5bfd1d0a775",
   "metadata": {},
   "outputs": [
    {
     "name": "stdout",
     "output_type": "stream",
     "text": [
      "performing association test\n",
      "computing neighborhood-level FDRs\n",
      "10\n",
      "[1, 2, 3, 4, 5, 6, 7, 8, 9, 10, 11, 12, 13, 14, 15, 16, 17, 18, 19, 20]\n",
      "p = 0.762023797620238 , 10 PCs used\n",
      "total r^2 between top 10 NAM PCs and outcome is 0.07\n"
     ]
    }
   ],
   "source": [
    "np.random.seed(0) \n",
    "res = cna.tl._association.association(d, #dataset \n",
    "                                      d.samplem.Final_Site_Northwell, #phenotype\n",
    "#                                       batches=d.samplem.processing_batch, #batches\n",
    "                                      Nnull=10000, # number of null permutations to do (defaults to only 1e3)\n",
    "                                      ks=[1,2,3,4,5,6,7,8,9,10,11,12,13,14,15,16,17,18,19,20] # I asked the method to consider up to 10 PCs because\n",
    "                                                                #it chose the max number of PCs it considered the default set of [1,2,3,4]\n",
    "                                     )\n",
    "print(res.k)\n",
    "print(res.ks)\n",
    "print('p =', res.p, ',', res.k, 'PCs used')\n",
    "print('total r^2 between top {} NAM PCs and outcome is {:.2f}'.format(res.k, res.r2))"
   ]
  },
  {
   "cell_type": "code",
   "execution_count": 137,
   "id": "90b3a77c-d25a-4b73-9d14-53e99648c2c0",
   "metadata": {},
   "outputs": [
    {
     "name": "stdout",
     "output_type": "stream",
     "text": [
      "performing association test\n",
      "computing neighborhood-level FDRs\n",
      "10\n",
      "[1, 2, 3, 4, 5, 6, 7, 8, 9, 10, 11, 12, 13, 14, 15, 16, 17, 18, 19, 20]\n",
      "p = 0.762023797620238 , 10 PCs used\n",
      "total r^2 between top 10 NAM PCs and outcome is 0.07\n"
     ]
    }
   ],
   "source": [
    "np.random.seed(0) \n",
    "res = cna.tl._association.association(d, #dataset \n",
    "                                      d.samplem.Final_Site_Northwell, #phenotype\n",
    "#                                       batches=d.samplem.processing_batch, #batches\n",
    "                                      Nnull=10000, # number of null permutations to do (defaults to only 1e3)\n",
    "                                      ks=[1,2,3,4,5,6,7,8,9,10,11,12,13,14,15,16,17,18,19,20] # I asked the method to consider up to 10 PCs because\n",
    "                                                                #it chose the max number of PCs it considered the default set of [1,2,3,4]\n",
    "                                     )\n",
    "print(res.k)\n",
    "print(res.ks)\n",
    "print('p =', res.p, ',', res.k, 'PCs used')\n",
    "print('total r^2 between top {} NAM PCs and outcome is {:.2f}'.format(res.k, res.r2))"
   ]
  },
  {
   "cell_type": "code",
   "execution_count": 138,
   "id": "2c80cd94-390c-403b-a838-22bf02700a3e",
   "metadata": {},
   "outputs": [
    {
     "name": "stdout",
     "output_type": "stream",
     "text": [
      "performing association test\n",
      "computing neighborhood-level FDRs\n",
      "18\n",
      "[1, 2, 3, 4, 5, 6, 7, 8, 9, 10, 11, 12, 13, 14, 15, 16, 17, 18, 19, 20]\n",
      "p = 0.2976702329767023 , 18 PCs used\n",
      "total r^2 between top 18 NAM PCs and outcome is 0.16\n"
     ]
    }
   ],
   "source": [
    "np.random.seed(0) \n",
    "res = cna.tl._association.association(d, #dataset \n",
    "                                      d.samplem.Final_Site_NYU, #phenotype\n",
    "#                                       batches=d.samplem.processing_batch, #batches\n",
    "                                      Nnull=10000, # number of null permutations to do (defaults to only 1e3)\n",
    "                                      ks=[1,2,3,4,5,6,7,8,9,10,11,12,13,14,15,16,17,18,19,20] # I asked the method to consider up to 10 PCs because\n",
    "                                                                #it chose the max number of PCs it considered the default set of [1,2,3,4]\n",
    "                                     )\n",
    "print(res.k)\n",
    "print(res.ks)\n",
    "print('p =', res.p, ',', res.k, 'PCs used')\n",
    "print('total r^2 between top {} NAM PCs and outcome is {:.2f}'.format(res.k, res.r2))"
   ]
  },
  {
   "cell_type": "code",
   "execution_count": 139,
   "id": "7ed83c7b-f85c-402d-9667-42d3c8011ed5",
   "metadata": {},
   "outputs": [
    {
     "name": "stdout",
     "output_type": "stream",
     "text": [
      "performing association test\n",
      "computing neighborhood-level FDRs\n",
      "18\n",
      "[1, 2, 3, 4, 5, 6, 7, 8, 9, 10, 11, 12, 13, 14, 15, 16, 17, 18, 19, 20]\n",
      "p = 0.22947705229477053 , 18 PCs used\n",
      "total r^2 between top 18 NAM PCs and outcome is 0.18\n"
     ]
    }
   ],
   "source": [
    "np.random.seed(0) \n",
    "res = cna.tl._association.association(d, #dataset \n",
    "                                      d.samplem.Final_Site_Rochester, #phenotype\n",
    "#                                       batches=d.samplem.processing_batch, #batches\n",
    "                                      Nnull=10000, # number of null permutations to do (defaults to only 1e3)\n",
    "                                      ks=[1,2,3,4,5,6,7,8,9,10,11,12,13,14,15,16,17,18,19,20] # I asked the method to consider up to 10 PCs because\n",
    "                                                                #it chose the max number of PCs it considered the default set of [1,2,3,4]\n",
    "                                     )\n",
    "print(res.k)\n",
    "print(res.ks)\n",
    "print('p =', res.p, ',', res.k, 'PCs used')\n",
    "print('total r^2 between top {} NAM PCs and outcome is {:.2f}'.format(res.k, res.r2))"
   ]
  },
  {
   "cell_type": "code",
   "execution_count": 140,
   "id": "8a52204a-e4b6-4f31-9351-df781a3a0caa",
   "metadata": {},
   "outputs": [
    {
     "name": "stdout",
     "output_type": "stream",
     "text": [
      "performing association test\n"
     ]
    },
    {
     "name": "stderr",
     "output_type": "stream",
     "text": [
      "/PHShome/ssg34/.conda/envs/plswork/lib/python3.9/site-packages/cna/tools/_association.py:57: UserWarning: data supported use of 20 NAM PCs, which is the maximum considered. Consider allowing more PCs by using the \"ks\" argument.\n",
      "  warnings.warn(('data supported use of {} NAM PCs, which is the maximum considered. '+\\\n"
     ]
    },
    {
     "name": "stdout",
     "output_type": "stream",
     "text": [
      "computing neighborhood-level FDRs\n",
      "20\n",
      "[1, 2, 3, 4, 5, 6, 7, 8, 9, 10, 11, 12, 13, 14, 15, 16, 17, 18, 19, 20]\n",
      "p = 0.1297870212978702 , 20 PCs used\n",
      "total r^2 between top 20 NAM PCs and outcome is 0.26\n"
     ]
    }
   ],
   "source": [
    "np.random.seed(0) \n",
    "res = cna.tl._association.association(d, #dataset \n",
    "                                      d.samplem['Final_Site_Texas Tech'], #phenotype\n",
    "#                                       batches=d.samplem.processing_batch, #batches\n",
    "                                      Nnull=10000, # number of null permutations to do (defaults to only 1e3)\n",
    "                                      ks=[1,2,3,4,5,6,7,8,9,10,11,12,13,14,15,16,17,18,19,20] # I asked the method to consider up to 10 PCs because\n",
    "                                                                #it chose the max number of PCs it considered the default set of [1,2,3,4]\n",
    "                                     )\n",
    "print(res.k)\n",
    "print(res.ks)\n",
    "print('p =', res.p, ',', res.k, 'PCs used')\n",
    "print('total r^2 between top {} NAM PCs and outcome is {:.2f}'.format(res.k, res.r2))"
   ]
  },
  {
   "cell_type": "code",
   "execution_count": 141,
   "id": "8a1eebeb-65fa-449f-ad9d-014f2faa8349",
   "metadata": {},
   "outputs": [
    {
     "name": "stdout",
     "output_type": "stream",
     "text": [
      "performing association test\n",
      "computing neighborhood-level FDRs\n",
      "3\n",
      "[1, 2, 3, 4, 5, 6, 7, 8, 9, 10, 11, 12, 13, 14, 15, 16, 17, 18, 19, 20]\n",
      "p = 0.3337666233376662 , 3 PCs used\n",
      "total r^2 between top 3 NAM PCs and outcome is 0.04\n"
     ]
    }
   ],
   "source": [
    "np.random.seed(0) \n",
    "res = cna.tl._association.association(d, #dataset \n",
    "                                      d.samplem['Final_Site_UCLA'], #phenotype\n",
    "#                                       batches=d.samplem.processing_batch, #batches\n",
    "                                      Nnull=10000, # number of null permutations to do (defaults to only 1e3)\n",
    "                                      ks=[1,2,3,4,5,6,7,8,9,10,11,12,13,14,15,16,17,18,19,20] # I asked the method to consider up to 10 PCs because\n",
    "                                                                #it chose the max number of PCs it considered the default set of [1,2,3,4]\n",
    "                                     )\n",
    "print(res.k)\n",
    "print(res.ks)\n",
    "print('p =', res.p, ',', res.k, 'PCs used')\n",
    "print('total r^2 between top {} NAM PCs and outcome is {:.2f}'.format(res.k, res.r2))"
   ]
  },
  {
   "cell_type": "code",
   "execution_count": 142,
   "id": "be7871b5-d817-4cf8-be48-b55fc92ccdbf",
   "metadata": {},
   "outputs": [
    {
     "name": "stdout",
     "output_type": "stream",
     "text": [
      "performing association test\n",
      "computing neighborhood-level FDRs\n",
      "5\n",
      "[1, 2, 3, 4, 5, 6, 7, 8, 9, 10, 11, 12, 13, 14, 15, 16, 17, 18, 19, 20]\n",
      "p = 0.8033196680331967 , 5 PCs used\n",
      "total r^2 between top 5 NAM PCs and outcome is 0.03\n"
     ]
    }
   ],
   "source": [
    "np.random.seed(0) \n",
    "res = cna.tl._association.association(d, #dataset \n",
    "                                      d.samplem['Final_Site_UCSD'], #phenotype\n",
    "#                                       batches=d.samplem.processing_batch, #batches\n",
    "                                      Nnull=10000, # number of null permutations to do (defaults to only 1e3)\n",
    "                                      ks=[1,2,3,4,5,6,7,8,9,10,11,12,13,14,15,16,17,18,19,20] # I asked the method to consider up to 10 PCs because\n",
    "                                                                #it chose the max number of PCs it considered the default set of [1,2,3,4]\n",
    "                                     )\n",
    "print(res.k)\n",
    "print(res.ks)\n",
    "print('p =', res.p, ',', res.k, 'PCs used')\n",
    "print('total r^2 between top {} NAM PCs and outcome is {:.2f}'.format(res.k, res.r2))"
   ]
  },
  {
   "cell_type": "code",
   "execution_count": 143,
   "id": "664d1968-cfe0-458f-acd8-cb3bfeb9686e",
   "metadata": {},
   "outputs": [
    {
     "name": "stdout",
     "output_type": "stream",
     "text": [
      "performing association test\n",
      "computing neighborhood-level FDRs\n",
      "17\n",
      "[1, 2, 3, 4, 5, 6, 7, 8, 9, 10, 11, 12, 13, 14, 15, 16, 17, 18, 19, 20]\n",
      "p = 0.633036696330367 , 17 PCs used\n",
      "total r^2 between top 17 NAM PCs and outcome is 0.13\n"
     ]
    }
   ],
   "source": [
    "np.random.seed(0) \n",
    "res = cna.tl._association.association(d, #dataset \n",
    "                                      d.samplem['Final_Site_UCSF'], #phenotype\n",
    "#                                       batches=d.samplem.processing_batch, #batches\n",
    "                                      Nnull=10000, # number of null permutations to do (defaults to only 1e3)\n",
    "                                      ks=[1,2,3,4,5,6,7,8,9,10,11,12,13,14,15,16,17,18,19,20] # I asked the method to consider up to 10 PCs because\n",
    "                                                                #it chose the max number of PCs it considered the default set of [1,2,3,4]\n",
    "                                     )\n",
    "print(res.k)\n",
    "print(res.ks)\n",
    "print('p =', res.p, ',', res.k, 'PCs used')\n",
    "print('total r^2 between top {} NAM PCs and outcome is {:.2f}'.format(res.k, res.r2))"
   ]
  },
  {
   "cell_type": "markdown",
   "id": "217c5edc-9408-45be-a0f8-0de515e85171",
   "metadata": {},
   "source": [
    "# FIRST BIOPSY"
   ]
  },
  {
   "cell_type": "markdown",
   "id": "32944abd-a3ae-4092-b981-29542626e826",
   "metadata": {},
   "source": [
    "## Single Cell"
   ]
  },
  {
   "cell_type": "code",
   "execution_count": 13,
   "id": "aa4472d3-95db-4c8c-b66a-44e91dc858ab",
   "metadata": {},
   "outputs": [
    {
     "name": "stdout",
     "output_type": "stream",
     "text": [
      "(35187, 39)\n"
     ]
    }
   ],
   "source": [
    "meta = pd.read_csv('/data/srlab/ssg34/SLE_kidney_v2/data/cna_new/t_nk/first_biop_pred_use_site/sc_meta_firstbiop.csv')\n",
    "print(meta.shape)"
   ]
  },
  {
   "cell_type": "code",
   "execution_count": 25,
   "id": "23efc395-198e-4718-94dc-723606f036d3",
   "metadata": {},
   "outputs": [
    {
     "name": "stdout",
     "output_type": "stream",
     "text": [
      "(35187, 20)\n"
     ]
    }
   ],
   "source": [
    "harmony = pd.read_csv('/data/srlab/ssg34/SLE_kidney_v2/data/cna_new/t_nk/first_biop_pred_use_site/sc_harmony_firstbiop.csv')\n",
    "print(harmony.shape)"
   ]
  },
  {
   "cell_type": "code",
   "execution_count": 26,
   "id": "f5077dc6-e96a-427d-94d8-ca12854b0ea5",
   "metadata": {},
   "outputs": [
    {
     "name": "stdout",
     "output_type": "stream",
     "text": [
      "(35187, 2)\n"
     ]
    }
   ],
   "source": [
    "umap = pd.read_csv('/data/srlab/ssg34/SLE_kidney_v2/data/cna_new/t_nk/first_biop_pred_use_site/sc_umap_firstbiop.csv')\n",
    "print(umap.shape)"
   ]
  },
  {
   "cell_type": "code",
   "execution_count": 27,
   "id": "0c0e7dc6-b2f9-4d33-a06f-2c6686b00998",
   "metadata": {},
   "outputs": [
    {
     "name": "stderr",
     "output_type": "stream",
     "text": [
      "/PHShome/ssg34/.conda/envs/plswork/lib/python3.9/site-packages/multianndata/core.py:17: FutureWarning: X.dtype being converted to np.float32 from float64. In the next version of anndata (0.9) conversion will not be automatic. Pass dtype explicitly to avoid this warning. Pass `AnnData(X, dtype=X.dtype, ...)` to get the future behavour.\n",
      "  super().__init__(*args, **kwargs)\n",
      "/PHShome/ssg34/.conda/envs/plswork/lib/python3.9/site-packages/anndata/_core/anndata.py:121: ImplicitModificationWarning: Transforming to str index.\n",
      "  warnings.warn(\"Transforming to str index.\", ImplicitModificationWarning)\n"
     ]
    },
    {
     "name": "stdout",
     "output_type": "stream",
     "text": [
      "warning: the following columns of obs are non-numeric.\n",
      "['cell' 'sample' 'final_annotation' 'Responder.Status' 'Race' 'Final_ISN'\n",
      " 'Type' 'Final_Site']\n",
      "consider casting to numeric types where appropriate, and\n",
      "consider re-coding text-valued columns with pandas.get_dummies\n"
     ]
    },
    {
     "data": {
      "text/html": [
       "<div>\n",
       "<style scoped>\n",
       "    .dataframe tbody tr th:only-of-type {\n",
       "        vertical-align: middle;\n",
       "    }\n",
       "\n",
       "    .dataframe tbody tr th {\n",
       "        vertical-align: top;\n",
       "    }\n",
       "\n",
       "    .dataframe thead th {\n",
       "        text-align: right;\n",
       "    }\n",
       "</style>\n",
       "<table border=\"1\" class=\"dataframe\">\n",
       "  <thead>\n",
       "    <tr style=\"text-align: right;\">\n",
       "      <th></th>\n",
       "      <th>Sex</th>\n",
       "      <th>Age</th>\n",
       "      <th>Final_Chronicity</th>\n",
       "      <th>Final_Activity</th>\n",
       "      <th>First_biop</th>\n",
       "      <th>Pred_use</th>\n",
       "      <th>Responder_Status</th>\n",
       "      <th>Race_[A]</th>\n",
       "      <th>Race_[A][B]</th>\n",
       "      <th>Race_[B]</th>\n",
       "      <th>...</th>\n",
       "      <th>Final_Site_JHU</th>\n",
       "      <th>Final_Site_Michigan</th>\n",
       "      <th>Final_Site_MUSC</th>\n",
       "      <th>Final_Site_Northwell</th>\n",
       "      <th>Final_Site_NYU</th>\n",
       "      <th>Final_Site_Rochester</th>\n",
       "      <th>Final_Site_Texas Tech</th>\n",
       "      <th>Final_Site_UCLA</th>\n",
       "      <th>Final_Site_UCSD</th>\n",
       "      <th>Final_Site_UCSF</th>\n",
       "    </tr>\n",
       "    <tr>\n",
       "      <th>sample</th>\n",
       "      <th></th>\n",
       "      <th></th>\n",
       "      <th></th>\n",
       "      <th></th>\n",
       "      <th></th>\n",
       "      <th></th>\n",
       "      <th></th>\n",
       "      <th></th>\n",
       "      <th></th>\n",
       "      <th></th>\n",
       "      <th></th>\n",
       "      <th></th>\n",
       "      <th></th>\n",
       "      <th></th>\n",
       "      <th></th>\n",
       "      <th></th>\n",
       "      <th></th>\n",
       "      <th></th>\n",
       "      <th></th>\n",
       "      <th></th>\n",
       "      <th></th>\n",
       "    </tr>\n",
       "  </thead>\n",
       "  <tbody>\n",
       "    <tr>\n",
       "      <th>AMPSLEkid_cells_0134</th>\n",
       "      <td>1.0</td>\n",
       "      <td>0.760126</td>\n",
       "      <td>6.0</td>\n",
       "      <td>4.0</td>\n",
       "      <td>0.0</td>\n",
       "      <td>0.0</td>\n",
       "      <td>0.0</td>\n",
       "      <td>1.0</td>\n",
       "      <td>0.0</td>\n",
       "      <td>0.0</td>\n",
       "      <td>...</td>\n",
       "      <td>0.0</td>\n",
       "      <td>0.0</td>\n",
       "      <td>0.0</td>\n",
       "      <td>0.0</td>\n",
       "      <td>0.0</td>\n",
       "      <td>1.0</td>\n",
       "      <td>0.0</td>\n",
       "      <td>0.0</td>\n",
       "      <td>0.0</td>\n",
       "      <td>0.0</td>\n",
       "    </tr>\n",
       "    <tr>\n",
       "      <th>AMPSLEkid_cells_0137</th>\n",
       "      <td>1.0</td>\n",
       "      <td>-0.183948</td>\n",
       "      <td>3.0</td>\n",
       "      <td>5.0</td>\n",
       "      <td>0.0</td>\n",
       "      <td>1.0</td>\n",
       "      <td>2.0</td>\n",
       "      <td>0.0</td>\n",
       "      <td>0.0</td>\n",
       "      <td>1.0</td>\n",
       "      <td>...</td>\n",
       "      <td>0.0</td>\n",
       "      <td>0.0</td>\n",
       "      <td>0.0</td>\n",
       "      <td>0.0</td>\n",
       "      <td>0.0</td>\n",
       "      <td>1.0</td>\n",
       "      <td>0.0</td>\n",
       "      <td>0.0</td>\n",
       "      <td>0.0</td>\n",
       "      <td>0.0</td>\n",
       "    </tr>\n",
       "    <tr>\n",
       "      <th>AMPSLEkid_cells_0138</th>\n",
       "      <td>1.0</td>\n",
       "      <td>0.331002</td>\n",
       "      <td>0.0</td>\n",
       "      <td>0.0</td>\n",
       "      <td>1.0</td>\n",
       "      <td>1.0</td>\n",
       "      <td>2.0</td>\n",
       "      <td>0.0</td>\n",
       "      <td>0.0</td>\n",
       "      <td>0.0</td>\n",
       "      <td>...</td>\n",
       "      <td>0.0</td>\n",
       "      <td>0.0</td>\n",
       "      <td>0.0</td>\n",
       "      <td>0.0</td>\n",
       "      <td>0.0</td>\n",
       "      <td>1.0</td>\n",
       "      <td>0.0</td>\n",
       "      <td>0.0</td>\n",
       "      <td>0.0</td>\n",
       "      <td>0.0</td>\n",
       "    </tr>\n",
       "    <tr>\n",
       "      <th>AMPSLEkid_cells_0139</th>\n",
       "      <td>1.0</td>\n",
       "      <td>0.674301</td>\n",
       "      <td>3.0</td>\n",
       "      <td>2.0</td>\n",
       "      <td>0.0</td>\n",
       "      <td>1.0</td>\n",
       "      <td>2.0</td>\n",
       "      <td>0.0</td>\n",
       "      <td>0.0</td>\n",
       "      <td>1.0</td>\n",
       "      <td>...</td>\n",
       "      <td>0.0</td>\n",
       "      <td>0.0</td>\n",
       "      <td>0.0</td>\n",
       "      <td>0.0</td>\n",
       "      <td>0.0</td>\n",
       "      <td>1.0</td>\n",
       "      <td>0.0</td>\n",
       "      <td>0.0</td>\n",
       "      <td>0.0</td>\n",
       "      <td>0.0</td>\n",
       "    </tr>\n",
       "    <tr>\n",
       "      <th>AMPSLEkid_cells_0140</th>\n",
       "      <td>1.0</td>\n",
       "      <td>-0.956372</td>\n",
       "      <td>1.0</td>\n",
       "      <td>1.0</td>\n",
       "      <td>1.0</td>\n",
       "      <td>0.0</td>\n",
       "      <td>0.0</td>\n",
       "      <td>0.0</td>\n",
       "      <td>0.0</td>\n",
       "      <td>1.0</td>\n",
       "      <td>...</td>\n",
       "      <td>0.0</td>\n",
       "      <td>0.0</td>\n",
       "      <td>0.0</td>\n",
       "      <td>0.0</td>\n",
       "      <td>0.0</td>\n",
       "      <td>1.0</td>\n",
       "      <td>0.0</td>\n",
       "      <td>0.0</td>\n",
       "      <td>0.0</td>\n",
       "      <td>0.0</td>\n",
       "    </tr>\n",
       "  </tbody>\n",
       "</table>\n",
       "<p>5 rows × 31 columns</p>\n",
       "</div>"
      ],
      "text/plain": [
       "                      Sex       Age  Final_Chronicity  Final_Activity  \\\n",
       "sample                                                                  \n",
       "AMPSLEkid_cells_0134  1.0  0.760126               6.0             4.0   \n",
       "AMPSLEkid_cells_0137  1.0 -0.183948               3.0             5.0   \n",
       "AMPSLEkid_cells_0138  1.0  0.331002               0.0             0.0   \n",
       "AMPSLEkid_cells_0139  1.0  0.674301               3.0             2.0   \n",
       "AMPSLEkid_cells_0140  1.0 -0.956372               1.0             1.0   \n",
       "\n",
       "                      First_biop  Pred_use  Responder_Status  Race_[A]  \\\n",
       "sample                                                                   \n",
       "AMPSLEkid_cells_0134         0.0       0.0               0.0       1.0   \n",
       "AMPSLEkid_cells_0137         0.0       1.0               2.0       0.0   \n",
       "AMPSLEkid_cells_0138         1.0       1.0               2.0       0.0   \n",
       "AMPSLEkid_cells_0139         0.0       1.0               2.0       0.0   \n",
       "AMPSLEkid_cells_0140         1.0       0.0               0.0       0.0   \n",
       "\n",
       "                      Race_[A][B]  Race_[B]  ...  Final_Site_JHU  \\\n",
       "sample                                       ...                   \n",
       "AMPSLEkid_cells_0134          0.0       0.0  ...             0.0   \n",
       "AMPSLEkid_cells_0137          0.0       1.0  ...             0.0   \n",
       "AMPSLEkid_cells_0138          0.0       0.0  ...             0.0   \n",
       "AMPSLEkid_cells_0139          0.0       1.0  ...             0.0   \n",
       "AMPSLEkid_cells_0140          0.0       1.0  ...             0.0   \n",
       "\n",
       "                      Final_Site_Michigan  Final_Site_MUSC  \\\n",
       "sample                                                       \n",
       "AMPSLEkid_cells_0134                  0.0              0.0   \n",
       "AMPSLEkid_cells_0137                  0.0              0.0   \n",
       "AMPSLEkid_cells_0138                  0.0              0.0   \n",
       "AMPSLEkid_cells_0139                  0.0              0.0   \n",
       "AMPSLEkid_cells_0140                  0.0              0.0   \n",
       "\n",
       "                      Final_Site_Northwell  Final_Site_NYU  \\\n",
       "sample                                                       \n",
       "AMPSLEkid_cells_0134                   0.0             0.0   \n",
       "AMPSLEkid_cells_0137                   0.0             0.0   \n",
       "AMPSLEkid_cells_0138                   0.0             0.0   \n",
       "AMPSLEkid_cells_0139                   0.0             0.0   \n",
       "AMPSLEkid_cells_0140                   0.0             0.0   \n",
       "\n",
       "                      Final_Site_Rochester  Final_Site_Texas Tech  \\\n",
       "sample                                                              \n",
       "AMPSLEkid_cells_0134                   1.0                    0.0   \n",
       "AMPSLEkid_cells_0137                   1.0                    0.0   \n",
       "AMPSLEkid_cells_0138                   1.0                    0.0   \n",
       "AMPSLEkid_cells_0139                   1.0                    0.0   \n",
       "AMPSLEkid_cells_0140                   1.0                    0.0   \n",
       "\n",
       "                      Final_Site_UCLA  Final_Site_UCSD  Final_Site_UCSF  \n",
       "sample                                                                   \n",
       "AMPSLEkid_cells_0134              0.0              0.0              0.0  \n",
       "AMPSLEkid_cells_0137              0.0              0.0              0.0  \n",
       "AMPSLEkid_cells_0138              0.0              0.0              0.0  \n",
       "AMPSLEkid_cells_0139              0.0              0.0              0.0  \n",
       "AMPSLEkid_cells_0140              0.0              0.0              0.0  \n",
       "\n",
       "[5 rows x 31 columns]"
      ]
     },
     "execution_count": 27,
     "metadata": {},
     "output_type": "execute_result"
    }
   ],
   "source": [
    "# Start by making anndata object\n",
    "d = mad.MultiAnnData(X=harmony, obs=meta, sampleid=\"sample\")\n",
    "#d.obs_to_sample(['Type', 'Site',\n",
    "#                 'Responder_Status', 'Sex',\n",
    "#                 'Age', 'Race',\n",
    "#                'Ethnicity', 'ISN',\n",
    "#               'Activity', \"Chronicity\",\n",
    "#                 'processing_batch'])\n",
    "d.obs_to_sample(['Sex', 'Age', 'Final_Chronicity', 'Final_Activity', 'First_biop', 'Pred_use', 'Responder_Status', 'Race_[A]',\n",
    "       'Race_[A][B]', 'Race_[B]', 'Race_[B][AI]', 'Race_[B][W]', 'Race_[U]',\n",
    "       'Race_[W]', 'Final_ISN_[III]', 'Final_ISN_[III][V]', 'Final_ISN_[IV]',\n",
    "       'Final_ISN_[IV][V]', 'Final_ISN_[V]', 'Final_Site_Cincinnati',\n",
    "       'Final_Site_Einstein', 'Final_Site_JHU', 'Final_Site_Michigan',\n",
    "       'Final_Site_MUSC', 'Final_Site_Northwell', 'Final_Site_NYU',\n",
    "       'Final_Site_Rochester', 'Final_Site_Texas Tech', 'Final_Site_UCLA',\n",
    "       'Final_Site_UCSD', 'Final_Site_UCSF'])\n",
    "d.samplem.head()"
   ]
  },
  {
   "cell_type": "code",
   "execution_count": 28,
   "id": "715a845b-6d22-48b8-8733-06932ea7726b",
   "metadata": {},
   "outputs": [],
   "source": [
    "umap.index = d.obs.index\n",
    "d.obsm['X_umap'] = umap"
   ]
  },
  {
   "cell_type": "code",
   "execution_count": 29,
   "id": "af08aae0-6501-4cbb-b527-f6c11c6100b2",
   "metadata": {},
   "outputs": [
    {
     "name": "stdout",
     "output_type": "stream",
     "text": [
      "computing default knn graph\n"
     ]
    }
   ],
   "source": [
    "np.random.seed(0) \n",
    "cna.pp.knn(d)"
   ]
  },
  {
   "cell_type": "code",
   "execution_count": 170,
   "id": "9407f82f-54bc-4af3-879b-0b74640cc17c",
   "metadata": {},
   "outputs": [
    {
     "name": "stdout",
     "output_type": "stream",
     "text": [
      "qcd NAM not found; computing and saving\n",
      "\ttaking step 1\n",
      "\tmedian kurtosis: 52.71991729736328\n",
      "\t20th percentile R2(t,t-1): nan\n",
      "\ttaking step 2\n",
      "\tmedian kurtosis: 33.68928527832031\n",
      "\t20th percentile R2(t,t-1): 0.7436593174934387\n",
      "\ttaking step 3\n",
      "\tmedian kurtosis: 23.012622833251953\n",
      "\t20th percentile R2(t,t-1): 0.8982551097869873\n",
      "\ttaking step 4\n",
      "\tmedian kurtosis: 16.160520553588867\n",
      "\t20th percentile R2(t,t-1): 0.93894362449646\n",
      "\ttaking step 5\n",
      "\tmedian kurtosis: 12.253840446472168\n",
      "\t20th percentile R2(t,t-1): 0.9611961245536804\n",
      "\ttaking step 6\n",
      "\tmedian kurtosis: 10.029513359069824\n",
      "\t20th percentile R2(t,t-1): 0.976091206073761\n",
      "stopping after 6 steps\n",
      "covariate-adjusted NAM not found; computing and saving\n",
      "computing SVD\n"
     ]
    },
    {
     "name": "stderr",
     "output_type": "stream",
     "text": [
      "/PHShome/ssg34/.conda/envs/plswork/lib/python3.9/site-packages/cna/tools/_nam.py:79: UserWarning: only one unique batch supplied to qc\n",
      "  warnings.warn('only one unique batch supplied to qc')\n",
      "/PHShome/ssg34/.conda/envs/plswork/lib/python3.9/site-packages/cna/tools/_nam.py:101: UserWarning: only one unique batch supplied to prep\n",
      "  warnings.warn('only one unique batch supplied to prep')\n"
     ]
    },
    {
     "name": "stdout",
     "output_type": "stream",
     "text": [
      "performing association test\n",
      "computing neighborhood-level FDRs\n",
      "1\n",
      "[1, 2, 3, 4, 5, 6, 7, 8, 9, 10, 11, 12, 13, 14, 15, 16, 17, 18, 19, 20]\n",
      "p = 0.0010998900109989002 , 1 PCs used\n",
      "total r^2 between top 1 NAM PCs and outcome is 0.09\n"
     ]
    }
   ],
   "source": [
    "np.random.seed(0) \n",
    "res = cna.tl._association.association(d, #dataset \n",
    "                                      d.samplem.First_biop, #phenotype\n",
    "#                                       batches=d.samplem.processing_batch, #batches\n",
    "                                      Nnull=10000, # number of null permutations to do (defaults to only 1e3)\n",
    "                                      ks=[1,2,3,4,5,6,7,8,9,10,11,12,13,14,15,16,17,18,19,20] # I asked the method to consider up to 10 PCs because\n",
    "                                                                #it chose the max number of PCs it considered the default set of [1,2,3,4]\n",
    "                                     )\n",
    "print(res.k)\n",
    "print(res.ks)\n",
    "print('p =', res.p, ',', res.k, 'PCs used')\n",
    "print('total r^2 between top {} NAM PCs and outcome is {:.2f}'.format(res.k, res.r2))"
   ]
  },
  {
   "cell_type": "code",
   "execution_count": 171,
   "id": "1ee99af2-583c-457a-b0c9-bd2e6d17befa",
   "metadata": {},
   "outputs": [],
   "source": [
    "np.savetxt(\"/data/srlab/ssg34/SLE_kidney_v2/data/cna_new/t_nk/first_biop_pred_use_site/sc_response_ncorr_firstbiop.csv\", \n",
    "               res.ncorrs, delimiter=\",\")\n",
    "np.savetxt(\"/data/srlab/ssg34/SLE_kidney_v2/data/cna_new/t_nk/first_biop_pred_use_site/sc_response_fdrs_firstbiop.csv\", \n",
    "               res.fdrs, delimiter=\",\")"
   ]
  },
  {
   "cell_type": "code",
   "execution_count": 172,
   "id": "b7f88af6-de4b-4a5b-8d51-479b1646bfd1",
   "metadata": {},
   "outputs": [],
   "source": [
    "sc_uni['First_biopsy'] = res.p"
   ]
  },
  {
   "cell_type": "code",
   "execution_count": 30,
   "id": "342d4f56-b2a6-474f-af50-4e4e1b06f0c8",
   "metadata": {},
   "outputs": [
    {
     "name": "stdout",
     "output_type": "stream",
     "text": [
      "qcd NAM not found; computing and saving\n",
      "\ttaking step 1\n",
      "\tmedian kurtosis: 52.71991729736328\n",
      "\t20th percentile R2(t,t-1): nan\n",
      "\ttaking step 2\n",
      "\tmedian kurtosis: 33.68928527832031\n",
      "\t20th percentile R2(t,t-1): 0.7436593174934387\n",
      "\ttaking step 3\n",
      "\tmedian kurtosis: 23.012622833251953\n",
      "\t20th percentile R2(t,t-1): 0.8982551097869873\n",
      "\ttaking step 4\n",
      "\tmedian kurtosis: 16.160520553588867\n",
      "\t20th percentile R2(t,t-1): 0.93894362449646\n",
      "\ttaking step 5\n",
      "\tmedian kurtosis: 12.253840446472168\n",
      "\t20th percentile R2(t,t-1): 0.9611961245536804\n",
      "\ttaking step 6\n",
      "\tmedian kurtosis: 10.029513359069824\n",
      "\t20th percentile R2(t,t-1): 0.976091206073761\n",
      "stopping after 6 steps\n",
      "covariate-adjusted NAM not found; computing and saving\n",
      "computing SVD\n",
      "performing association test\n"
     ]
    },
    {
     "name": "stderr",
     "output_type": "stream",
     "text": [
      "/PHShome/ssg34/.conda/envs/plswork/lib/python3.9/site-packages/cna/tools/_nam.py:79: UserWarning: only one unique batch supplied to qc\n",
      "  warnings.warn('only one unique batch supplied to qc')\n",
      "/PHShome/ssg34/.conda/envs/plswork/lib/python3.9/site-packages/cna/tools/_nam.py:101: UserWarning: only one unique batch supplied to prep\n",
      "  warnings.warn('only one unique batch supplied to prep')\n"
     ]
    },
    {
     "name": "stdout",
     "output_type": "stream",
     "text": [
      "computing neighborhood-level FDRs\n",
      "8\n",
      "[1, 2, 3, 4, 5, 6, 7, 8, 9, 10, 11, 12, 13, 14, 15, 16, 17, 18, 19, 20]\n",
      "p = 0.18318168183181682 , 8 PCs used\n",
      "total r^2 between top 8 NAM PCs and outcome is 0.15\n"
     ]
    }
   ],
   "source": [
    "np.random.seed(0) \n",
    "res = cna.tl._association.association(d, #dataset \n",
    "                                      d.samplem.First_biop, #phenotype\n",
    "#                                       batches=d.samplem.processing_batch, #batches\n",
    "                                      covs = d.samplem[['Final_Chronicity', 'Responder_Status']],\n",
    "                                      Nnull=10000, # number of null permutations to do (defaults to only 1e3)\n",
    "                                      ks=[1,2,3,4,5,6,7,8,9,10,11,12,13,14,15,16,17,18,19,20] # I asked the method to consider up to 10 PCs because\n",
    "                                                                #it chose the max number of PCs it considered the default set of [1,2,3,4]\n",
    "                                     )\n",
    "print(res.k)\n",
    "print(res.ks)\n",
    "print('p =', res.p, ',', res.k, 'PCs used')\n",
    "print('total r^2 between top {} NAM PCs and outcome is {:.2f}'.format(res.k, res.r2))"
   ]
  },
  {
   "cell_type": "code",
   "execution_count": 32,
   "id": "d0c2940b-b143-4ae0-a16c-196bfebca4e2",
   "metadata": {},
   "outputs": [],
   "source": [
    "sc_cond['First_biopsy'] = res.p"
   ]
  },
  {
   "cell_type": "markdown",
   "id": "d1fa8015-40dd-4257-9912-ea2a1b4043e0",
   "metadata": {},
   "source": [
    "# PREDNISONE USE"
   ]
  },
  {
   "cell_type": "markdown",
   "id": "80402f5c-a9d8-412e-9c69-434db95cf14a",
   "metadata": {},
   "source": [
    "## Single Cell"
   ]
  },
  {
   "cell_type": "code",
   "execution_count": 47,
   "id": "cbfee3a8-1382-4f8d-bde9-78f413d4701b",
   "metadata": {},
   "outputs": [
    {
     "name": "stdout",
     "output_type": "stream",
     "text": [
      "(35187, 39)\n"
     ]
    }
   ],
   "source": [
    "meta = pd.read_csv('/data/srlab/ssg34/SLE_kidney_v2/data/cna_new/t_nk/first_biop_pred_use_site/sc_meta_preduse.csv')\n",
    "print(meta.shape)"
   ]
  },
  {
   "cell_type": "code",
   "execution_count": 48,
   "id": "fe109879-f5c9-40cc-a944-7e869dbd0905",
   "metadata": {},
   "outputs": [
    {
     "name": "stdout",
     "output_type": "stream",
     "text": [
      "(35187, 20)\n"
     ]
    }
   ],
   "source": [
    "harmony = pd.read_csv('/data/srlab/ssg34/SLE_kidney_v2/data/cna_new/t_nk/first_biop_pred_use_site/sc_harmony_preduse.csv')\n",
    "print(harmony.shape)"
   ]
  },
  {
   "cell_type": "code",
   "execution_count": 49,
   "id": "58efd069-1eba-4a46-a205-b95fa7b4e7c8",
   "metadata": {},
   "outputs": [
    {
     "name": "stdout",
     "output_type": "stream",
     "text": [
      "(35187, 2)\n"
     ]
    }
   ],
   "source": [
    "umap = pd.read_csv('/data/srlab/ssg34/SLE_kidney_v2/data/cna_new/t_nk/first_biop_pred_use_site/sc_umap_preduse.csv')\n",
    "print(umap.shape)"
   ]
  },
  {
   "cell_type": "code",
   "execution_count": 50,
   "id": "0a65178b-e698-4eb2-8d69-2779c40af3ec",
   "metadata": {},
   "outputs": [
    {
     "name": "stdout",
     "output_type": "stream",
     "text": [
      "warning: the following columns of obs are non-numeric.\n",
      "['cell' 'sample' 'final_annotation' 'Responder.Status' 'Race' 'Final_ISN'\n",
      " 'Type' 'Final_Site']\n",
      "consider casting to numeric types where appropriate, and\n",
      "consider re-coding text-valued columns with pandas.get_dummies\n"
     ]
    },
    {
     "name": "stderr",
     "output_type": "stream",
     "text": [
      "/PHShome/ssg34/.conda/envs/plswork/lib/python3.9/site-packages/multianndata/core.py:17: FutureWarning: X.dtype being converted to np.float32 from float64. In the next version of anndata (0.9) conversion will not be automatic. Pass dtype explicitly to avoid this warning. Pass `AnnData(X, dtype=X.dtype, ...)` to get the future behavour.\n",
      "  super().__init__(*args, **kwargs)\n",
      "/PHShome/ssg34/.conda/envs/plswork/lib/python3.9/site-packages/anndata/_core/anndata.py:121: ImplicitModificationWarning: Transforming to str index.\n",
      "  warnings.warn(\"Transforming to str index.\", ImplicitModificationWarning)\n"
     ]
    },
    {
     "data": {
      "text/html": [
       "<div>\n",
       "<style scoped>\n",
       "    .dataframe tbody tr th:only-of-type {\n",
       "        vertical-align: middle;\n",
       "    }\n",
       "\n",
       "    .dataframe tbody tr th {\n",
       "        vertical-align: top;\n",
       "    }\n",
       "\n",
       "    .dataframe thead th {\n",
       "        text-align: right;\n",
       "    }\n",
       "</style>\n",
       "<table border=\"1\" class=\"dataframe\">\n",
       "  <thead>\n",
       "    <tr style=\"text-align: right;\">\n",
       "      <th></th>\n",
       "      <th>Sex</th>\n",
       "      <th>Age</th>\n",
       "      <th>Final_Chronicity</th>\n",
       "      <th>Final_Activity</th>\n",
       "      <th>First_biop</th>\n",
       "      <th>Pred_use</th>\n",
       "      <th>Responder_Status</th>\n",
       "      <th>Race_[A]</th>\n",
       "      <th>Race_[A][B]</th>\n",
       "      <th>Race_[B]</th>\n",
       "      <th>...</th>\n",
       "      <th>Final_Site_JHU</th>\n",
       "      <th>Final_Site_Michigan</th>\n",
       "      <th>Final_Site_MUSC</th>\n",
       "      <th>Final_Site_Northwell</th>\n",
       "      <th>Final_Site_NYU</th>\n",
       "      <th>Final_Site_Rochester</th>\n",
       "      <th>Final_Site_Texas Tech</th>\n",
       "      <th>Final_Site_UCLA</th>\n",
       "      <th>Final_Site_UCSD</th>\n",
       "      <th>Final_Site_UCSF</th>\n",
       "    </tr>\n",
       "    <tr>\n",
       "      <th>sample</th>\n",
       "      <th></th>\n",
       "      <th></th>\n",
       "      <th></th>\n",
       "      <th></th>\n",
       "      <th></th>\n",
       "      <th></th>\n",
       "      <th></th>\n",
       "      <th></th>\n",
       "      <th></th>\n",
       "      <th></th>\n",
       "      <th></th>\n",
       "      <th></th>\n",
       "      <th></th>\n",
       "      <th></th>\n",
       "      <th></th>\n",
       "      <th></th>\n",
       "      <th></th>\n",
       "      <th></th>\n",
       "      <th></th>\n",
       "      <th></th>\n",
       "      <th></th>\n",
       "    </tr>\n",
       "  </thead>\n",
       "  <tbody>\n",
       "    <tr>\n",
       "      <th>AMPSLEkid_cells_0134</th>\n",
       "      <td>1.0</td>\n",
       "      <td>0.760126</td>\n",
       "      <td>6.0</td>\n",
       "      <td>4.0</td>\n",
       "      <td>0.0</td>\n",
       "      <td>0.0</td>\n",
       "      <td>0.0</td>\n",
       "      <td>1.0</td>\n",
       "      <td>0.0</td>\n",
       "      <td>0.0</td>\n",
       "      <td>...</td>\n",
       "      <td>0.0</td>\n",
       "      <td>0.0</td>\n",
       "      <td>0.0</td>\n",
       "      <td>0.0</td>\n",
       "      <td>0.0</td>\n",
       "      <td>1.0</td>\n",
       "      <td>0.0</td>\n",
       "      <td>0.0</td>\n",
       "      <td>0.0</td>\n",
       "      <td>0.0</td>\n",
       "    </tr>\n",
       "    <tr>\n",
       "      <th>AMPSLEkid_cells_0137</th>\n",
       "      <td>1.0</td>\n",
       "      <td>-0.183948</td>\n",
       "      <td>3.0</td>\n",
       "      <td>5.0</td>\n",
       "      <td>0.0</td>\n",
       "      <td>1.0</td>\n",
       "      <td>2.0</td>\n",
       "      <td>0.0</td>\n",
       "      <td>0.0</td>\n",
       "      <td>1.0</td>\n",
       "      <td>...</td>\n",
       "      <td>0.0</td>\n",
       "      <td>0.0</td>\n",
       "      <td>0.0</td>\n",
       "      <td>0.0</td>\n",
       "      <td>0.0</td>\n",
       "      <td>1.0</td>\n",
       "      <td>0.0</td>\n",
       "      <td>0.0</td>\n",
       "      <td>0.0</td>\n",
       "      <td>0.0</td>\n",
       "    </tr>\n",
       "    <tr>\n",
       "      <th>AMPSLEkid_cells_0138</th>\n",
       "      <td>1.0</td>\n",
       "      <td>0.331002</td>\n",
       "      <td>0.0</td>\n",
       "      <td>0.0</td>\n",
       "      <td>1.0</td>\n",
       "      <td>1.0</td>\n",
       "      <td>2.0</td>\n",
       "      <td>0.0</td>\n",
       "      <td>0.0</td>\n",
       "      <td>0.0</td>\n",
       "      <td>...</td>\n",
       "      <td>0.0</td>\n",
       "      <td>0.0</td>\n",
       "      <td>0.0</td>\n",
       "      <td>0.0</td>\n",
       "      <td>0.0</td>\n",
       "      <td>1.0</td>\n",
       "      <td>0.0</td>\n",
       "      <td>0.0</td>\n",
       "      <td>0.0</td>\n",
       "      <td>0.0</td>\n",
       "    </tr>\n",
       "    <tr>\n",
       "      <th>AMPSLEkid_cells_0139</th>\n",
       "      <td>1.0</td>\n",
       "      <td>0.674301</td>\n",
       "      <td>3.0</td>\n",
       "      <td>2.0</td>\n",
       "      <td>0.0</td>\n",
       "      <td>1.0</td>\n",
       "      <td>2.0</td>\n",
       "      <td>0.0</td>\n",
       "      <td>0.0</td>\n",
       "      <td>1.0</td>\n",
       "      <td>...</td>\n",
       "      <td>0.0</td>\n",
       "      <td>0.0</td>\n",
       "      <td>0.0</td>\n",
       "      <td>0.0</td>\n",
       "      <td>0.0</td>\n",
       "      <td>1.0</td>\n",
       "      <td>0.0</td>\n",
       "      <td>0.0</td>\n",
       "      <td>0.0</td>\n",
       "      <td>0.0</td>\n",
       "    </tr>\n",
       "    <tr>\n",
       "      <th>AMPSLEkid_cells_0140</th>\n",
       "      <td>1.0</td>\n",
       "      <td>-0.956372</td>\n",
       "      <td>1.0</td>\n",
       "      <td>1.0</td>\n",
       "      <td>1.0</td>\n",
       "      <td>0.0</td>\n",
       "      <td>0.0</td>\n",
       "      <td>0.0</td>\n",
       "      <td>0.0</td>\n",
       "      <td>1.0</td>\n",
       "      <td>...</td>\n",
       "      <td>0.0</td>\n",
       "      <td>0.0</td>\n",
       "      <td>0.0</td>\n",
       "      <td>0.0</td>\n",
       "      <td>0.0</td>\n",
       "      <td>1.0</td>\n",
       "      <td>0.0</td>\n",
       "      <td>0.0</td>\n",
       "      <td>0.0</td>\n",
       "      <td>0.0</td>\n",
       "    </tr>\n",
       "  </tbody>\n",
       "</table>\n",
       "<p>5 rows × 31 columns</p>\n",
       "</div>"
      ],
      "text/plain": [
       "                      Sex       Age  Final_Chronicity  Final_Activity  \\\n",
       "sample                                                                  \n",
       "AMPSLEkid_cells_0134  1.0  0.760126               6.0             4.0   \n",
       "AMPSLEkid_cells_0137  1.0 -0.183948               3.0             5.0   \n",
       "AMPSLEkid_cells_0138  1.0  0.331002               0.0             0.0   \n",
       "AMPSLEkid_cells_0139  1.0  0.674301               3.0             2.0   \n",
       "AMPSLEkid_cells_0140  1.0 -0.956372               1.0             1.0   \n",
       "\n",
       "                      First_biop  Pred_use  Responder_Status  Race_[A]  \\\n",
       "sample                                                                   \n",
       "AMPSLEkid_cells_0134         0.0       0.0               0.0       1.0   \n",
       "AMPSLEkid_cells_0137         0.0       1.0               2.0       0.0   \n",
       "AMPSLEkid_cells_0138         1.0       1.0               2.0       0.0   \n",
       "AMPSLEkid_cells_0139         0.0       1.0               2.0       0.0   \n",
       "AMPSLEkid_cells_0140         1.0       0.0               0.0       0.0   \n",
       "\n",
       "                      Race_[A][B]  Race_[B]  ...  Final_Site_JHU  \\\n",
       "sample                                       ...                   \n",
       "AMPSLEkid_cells_0134          0.0       0.0  ...             0.0   \n",
       "AMPSLEkid_cells_0137          0.0       1.0  ...             0.0   \n",
       "AMPSLEkid_cells_0138          0.0       0.0  ...             0.0   \n",
       "AMPSLEkid_cells_0139          0.0       1.0  ...             0.0   \n",
       "AMPSLEkid_cells_0140          0.0       1.0  ...             0.0   \n",
       "\n",
       "                      Final_Site_Michigan  Final_Site_MUSC  \\\n",
       "sample                                                       \n",
       "AMPSLEkid_cells_0134                  0.0              0.0   \n",
       "AMPSLEkid_cells_0137                  0.0              0.0   \n",
       "AMPSLEkid_cells_0138                  0.0              0.0   \n",
       "AMPSLEkid_cells_0139                  0.0              0.0   \n",
       "AMPSLEkid_cells_0140                  0.0              0.0   \n",
       "\n",
       "                      Final_Site_Northwell  Final_Site_NYU  \\\n",
       "sample                                                       \n",
       "AMPSLEkid_cells_0134                   0.0             0.0   \n",
       "AMPSLEkid_cells_0137                   0.0             0.0   \n",
       "AMPSLEkid_cells_0138                   0.0             0.0   \n",
       "AMPSLEkid_cells_0139                   0.0             0.0   \n",
       "AMPSLEkid_cells_0140                   0.0             0.0   \n",
       "\n",
       "                      Final_Site_Rochester  Final_Site_Texas Tech  \\\n",
       "sample                                                              \n",
       "AMPSLEkid_cells_0134                   1.0                    0.0   \n",
       "AMPSLEkid_cells_0137                   1.0                    0.0   \n",
       "AMPSLEkid_cells_0138                   1.0                    0.0   \n",
       "AMPSLEkid_cells_0139                   1.0                    0.0   \n",
       "AMPSLEkid_cells_0140                   1.0                    0.0   \n",
       "\n",
       "                      Final_Site_UCLA  Final_Site_UCSD  Final_Site_UCSF  \n",
       "sample                                                                   \n",
       "AMPSLEkid_cells_0134              0.0              0.0              0.0  \n",
       "AMPSLEkid_cells_0137              0.0              0.0              0.0  \n",
       "AMPSLEkid_cells_0138              0.0              0.0              0.0  \n",
       "AMPSLEkid_cells_0139              0.0              0.0              0.0  \n",
       "AMPSLEkid_cells_0140              0.0              0.0              0.0  \n",
       "\n",
       "[5 rows x 31 columns]"
      ]
     },
     "execution_count": 50,
     "metadata": {},
     "output_type": "execute_result"
    }
   ],
   "source": [
    "# Start by making anndata object\n",
    "d = mad.MultiAnnData(X=harmony, obs=meta, sampleid=\"sample\")\n",
    "#d.obs_to_sample(['Type', 'Site',\n",
    "#                 'Responder_Status', 'Sex',\n",
    "#                 'Age', 'Race',\n",
    "#                'Ethnicity', 'ISN',\n",
    "#               'Activity', \"Chronicity\",\n",
    "#                 'processing_batch'])\n",
    "d.obs_to_sample(['Sex', 'Age', 'Final_Chronicity', 'Final_Activity', 'First_biop', 'Pred_use', 'Responder_Status', 'Race_[A]',\n",
    "       'Race_[A][B]', 'Race_[B]', 'Race_[B][AI]', 'Race_[B][W]', 'Race_[U]',\n",
    "       'Race_[W]', 'Final_ISN_[III]', 'Final_ISN_[III][V]', 'Final_ISN_[IV]',\n",
    "       'Final_ISN_[IV][V]', 'Final_ISN_[V]', 'Final_Site_Cincinnati',\n",
    "       'Final_Site_Einstein', 'Final_Site_JHU', 'Final_Site_Michigan',\n",
    "       'Final_Site_MUSC', 'Final_Site_Northwell', 'Final_Site_NYU',\n",
    "       'Final_Site_Rochester', 'Final_Site_Texas Tech', 'Final_Site_UCLA',\n",
    "       'Final_Site_UCSD', 'Final_Site_UCSF'])\n",
    "d.samplem.head()"
   ]
  },
  {
   "cell_type": "code",
   "execution_count": 51,
   "id": "1a29b0ca-5f80-4554-a290-71042719513c",
   "metadata": {},
   "outputs": [],
   "source": [
    "umap.index = d.obs.index\n",
    "d.obsm['X_umap'] = umap"
   ]
  },
  {
   "cell_type": "code",
   "execution_count": 52,
   "id": "9287c428-c394-4aa4-a524-d2af6cd3818f",
   "metadata": {},
   "outputs": [
    {
     "name": "stdout",
     "output_type": "stream",
     "text": [
      "computing default knn graph\n"
     ]
    }
   ],
   "source": [
    "np.random.seed(0) \n",
    "cna.pp.knn(d)"
   ]
  },
  {
   "cell_type": "code",
   "execution_count": 180,
   "id": "dd75231d-ad61-4e59-988e-d07877489746",
   "metadata": {},
   "outputs": [
    {
     "name": "stdout",
     "output_type": "stream",
     "text": [
      "qcd NAM not found; computing and saving\n",
      "\ttaking step 1\n",
      "\tmedian kurtosis: 52.71991729736328\n",
      "\t20th percentile R2(t,t-1): nan\n",
      "\ttaking step 2\n",
      "\tmedian kurtosis: 33.68928527832031\n",
      "\t20th percentile R2(t,t-1): 0.7436593174934387\n",
      "\ttaking step 3\n",
      "\tmedian kurtosis: 23.012622833251953\n",
      "\t20th percentile R2(t,t-1): 0.8982551097869873\n",
      "\ttaking step 4\n",
      "\tmedian kurtosis: 16.160520553588867\n",
      "\t20th percentile R2(t,t-1): 0.93894362449646\n",
      "\ttaking step 5\n",
      "\tmedian kurtosis: 12.253840446472168\n",
      "\t20th percentile R2(t,t-1): 0.9611961245536804\n",
      "\ttaking step 6\n",
      "\tmedian kurtosis: 10.029513359069824\n",
      "\t20th percentile R2(t,t-1): 0.976091206073761\n",
      "stopping after 6 steps\n",
      "covariate-adjusted NAM not found; computing and saving\n",
      "computing SVD\n"
     ]
    },
    {
     "name": "stderr",
     "output_type": "stream",
     "text": [
      "/PHShome/ssg34/.conda/envs/plswork/lib/python3.9/site-packages/cna/tools/_nam.py:79: UserWarning: only one unique batch supplied to qc\n",
      "  warnings.warn('only one unique batch supplied to qc')\n",
      "/PHShome/ssg34/.conda/envs/plswork/lib/python3.9/site-packages/cna/tools/_nam.py:101: UserWarning: only one unique batch supplied to prep\n",
      "  warnings.warn('only one unique batch supplied to prep')\n"
     ]
    },
    {
     "name": "stdout",
     "output_type": "stream",
     "text": [
      "performing association test\n",
      "computing neighborhood-level FDRs\n",
      "11\n",
      "[1, 2, 3, 4, 5, 6, 7, 8, 9, 10, 11, 12, 13, 14, 15, 16, 17, 18, 19, 20]\n",
      "p = 0.12378762123787622 , 11 PCs used\n",
      "total r^2 between top 11 NAM PCs and outcome is 0.14\n"
     ]
    }
   ],
   "source": [
    "np.random.seed(0) \n",
    "res = cna.tl._association.association(d, #dataset \n",
    "                                      d.samplem.Pred_use, #phenotype\n",
    "#                                       batches=d.samplem.processing_batch, #batches\n",
    "                                      Nnull=10000, # number of null permutations to do (defaults to only 1e3)\n",
    "                                      ks=[1,2,3,4,5,6,7,8,9,10,11,12,13,14,15,16,17,18,19,20] # I asked the method to consider up to 10 PCs because\n",
    "                                                                #it chose the max number of PCs it considered the default set of [1,2,3,4]\n",
    "                                     )\n",
    "print(res.k)\n",
    "print(res.ks)\n",
    "print('p =', res.p, ',', res.k, 'PCs used')\n",
    "print('total r^2 between top {} NAM PCs and outcome is {:.2f}'.format(res.k, res.r2))"
   ]
  },
  {
   "cell_type": "code",
   "execution_count": 181,
   "id": "9c1306e2-46fe-48a9-bc31-6431ef7778c1",
   "metadata": {},
   "outputs": [],
   "source": [
    "sc_uni['Prednisone_use'] = res.p"
   ]
  },
  {
   "cell_type": "markdown",
   "id": "6d820274-5625-4fc1-86fe-a1760ad18e5a",
   "metadata": {},
   "source": [
    "# Chronicity"
   ]
  },
  {
   "cell_type": "markdown",
   "id": "fffc6681-e696-4f94-bd0c-a163c9af7221",
   "metadata": {},
   "source": [
    "## Single Cell"
   ]
  },
  {
   "cell_type": "code",
   "execution_count": 7,
   "id": "d431822f-933a-4728-beae-cf30b95a7e78",
   "metadata": {},
   "outputs": [
    {
     "name": "stdout",
     "output_type": "stream",
     "text": [
      "(31561, 39)\n"
     ]
    }
   ],
   "source": [
    "meta = pd.read_csv('/data/srlab/ssg34/SLE_kidney_v2/data/cna_new/t_nk/chronicity/sc_meta.csv')\n",
    "print(meta.shape)"
   ]
  },
  {
   "cell_type": "code",
   "execution_count": 8,
   "id": "ca981d59-9281-4ef7-89da-db545085d34a",
   "metadata": {},
   "outputs": [
    {
     "name": "stdout",
     "output_type": "stream",
     "text": [
      "(31561, 20)\n"
     ]
    }
   ],
   "source": [
    "harmony = pd.read_csv('/data/srlab/ssg34/SLE_kidney_v2/data/cna_new/t_nk/chronicity/sc_harmony.csv')\n",
    "print(harmony.shape)"
   ]
  },
  {
   "cell_type": "code",
   "execution_count": 9,
   "id": "df538703-9793-49bf-84da-0a2013dbbf5b",
   "metadata": {},
   "outputs": [
    {
     "name": "stdout",
     "output_type": "stream",
     "text": [
      "(31561, 2)\n"
     ]
    }
   ],
   "source": [
    "umap = pd.read_csv('/data/srlab/ssg34/SLE_kidney_v2/data/cna_new/t_nk/chronicity/sc_umap.csv')\n",
    "print(umap.shape)"
   ]
  },
  {
   "cell_type": "code",
   "execution_count": 10,
   "id": "b1f43c89-1f56-4656-b58b-5d3930cfbec4",
   "metadata": {},
   "outputs": [
    {
     "name": "stdout",
     "output_type": "stream",
     "text": [
      "(31561, 39)\n",
      "(31561, 20)\n",
      "(31561, 2)\n",
      "warning: the following columns of obs are non-numeric.\n",
      "['cell' 'sample' 'final_annotation' 'Responder.Status' 'Race' 'Final_ISN'\n",
      " 'Type' 'Final_Site']\n",
      "consider casting to numeric types where appropriate, and\n",
      "consider re-coding text-valued columns with pandas.get_dummies\n",
      "computing default knn graph\n"
     ]
    },
    {
     "name": "stderr",
     "output_type": "stream",
     "text": [
      "/PHShome/ssg34/.conda/envs/plswork/lib/python3.9/site-packages/multianndata/core.py:17: FutureWarning: X.dtype being converted to np.float32 from float64. In the next version of anndata (0.9) conversion will not be automatic. Pass dtype explicitly to avoid this warning. Pass `AnnData(X, dtype=X.dtype, ...)` to get the future behavour.\n",
      "  super().__init__(*args, **kwargs)\n",
      "/PHShome/ssg34/.conda/envs/plswork/lib/python3.9/site-packages/anndata/_core/anndata.py:121: ImplicitModificationWarning: Transforming to str index.\n",
      "  warnings.warn(\"Transforming to str index.\", ImplicitModificationWarning)\n",
      "/PHShome/ssg34/.conda/envs/plswork/lib/python3.9/site-packages/tqdm/auto.py:22: TqdmWarning: IProgress not found. Please update jupyter and ipywidgets. See https://ipywidgets.readthedocs.io/en/stable/user_install.html\n",
      "  from .autonotebook import tqdm as notebook_tqdm\n"
     ]
    },
    {
     "name": "stdout",
     "output_type": "stream",
     "text": [
      "qcd NAM not found; computing and saving\n",
      "\ttaking step 1\n",
      "\tmedian kurtosis: 47.986328125\n",
      "\t20th percentile R2(t,t-1): nan\n",
      "\ttaking step 2\n",
      "\tmedian kurtosis: 30.828720092773438\n",
      "\t20th percentile R2(t,t-1): 0.7443044185638428\n",
      "\ttaking step 3\n",
      "\tmedian kurtosis: 21.22922706604004\n",
      "\t20th percentile R2(t,t-1): 0.8989471077919007\n",
      "\ttaking step 4\n",
      "\tmedian kurtosis: 15.12545108795166\n",
      "\t20th percentile R2(t,t-1): 0.9395679831504822\n",
      "\ttaking step 5\n",
      "\tmedian kurtosis: 11.710641860961914\n",
      "\t20th percentile R2(t,t-1): 0.9621577382087707\n",
      "\ttaking step 6\n",
      "\tmedian kurtosis: 9.634602546691895\n",
      "\t20th percentile R2(t,t-1): 0.9768100500106811\n",
      "stopping after 6 steps\n",
      "covariate-adjusted NAM not found; computing and saving\n"
     ]
    },
    {
     "name": "stderr",
     "output_type": "stream",
     "text": [
      "/PHShome/ssg34/.conda/envs/plswork/lib/python3.9/site-packages/cna/tools/_nam.py:79: UserWarning: only one unique batch supplied to qc\n",
      "  warnings.warn('only one unique batch supplied to qc')\n",
      "/PHShome/ssg34/.conda/envs/plswork/lib/python3.9/site-packages/cna/tools/_nam.py:101: UserWarning: only one unique batch supplied to prep\n",
      "  warnings.warn('only one unique batch supplied to prep')\n"
     ]
    },
    {
     "name": "stdout",
     "output_type": "stream",
     "text": [
      "computing SVD\n",
      "performing association test\n",
      "computing neighborhood-level FDRs\n",
      "12\n",
      "[1, 2, 3, 4, 5, 6, 7, 8, 9, 10, 11, 12, 13, 14, 15, 16, 17, 18, 19, 20]\n",
      "p = 0.00019998000199980003 , 12 PCs used\n",
      "total r^2 between top 12 NAM PCs and outcome is 0.34\n"
     ]
    }
   ],
   "source": [
    "res = cna_test(meta, harmony, umap, 'Final_Chronicity')"
   ]
  },
  {
   "cell_type": "code",
   "execution_count": 11,
   "id": "49025f7d-fec1-455e-9735-8eeabf9b783d",
   "metadata": {},
   "outputs": [
    {
     "name": "stdout",
     "output_type": "stream",
     "text": [
      "(31561, 39)\n",
      "(31561, 20)\n",
      "(31561, 2)\n",
      "warning: the following columns of obs are non-numeric.\n",
      "['cell' 'sample' 'final_annotation' 'Responder.Status' 'Race' 'Final_ISN'\n",
      " 'Type' 'Final_Site']\n",
      "consider casting to numeric types where appropriate, and\n",
      "consider re-coding text-valued columns with pandas.get_dummies\n",
      "computing default knn graph\n"
     ]
    },
    {
     "name": "stderr",
     "output_type": "stream",
     "text": [
      "/PHShome/ssg34/.conda/envs/plswork/lib/python3.9/site-packages/multianndata/core.py:17: FutureWarning: X.dtype being converted to np.float32 from float64. In the next version of anndata (0.9) conversion will not be automatic. Pass dtype explicitly to avoid this warning. Pass `AnnData(X, dtype=X.dtype, ...)` to get the future behavour.\n",
      "  super().__init__(*args, **kwargs)\n",
      "/PHShome/ssg34/.conda/envs/plswork/lib/python3.9/site-packages/anndata/_core/anndata.py:121: ImplicitModificationWarning: Transforming to str index.\n",
      "  warnings.warn(\"Transforming to str index.\", ImplicitModificationWarning)\n"
     ]
    },
    {
     "name": "stdout",
     "output_type": "stream",
     "text": [
      "qcd NAM not found; computing and saving\n",
      "\ttaking step 1\n",
      "\tmedian kurtosis: 47.986328125\n",
      "\t20th percentile R2(t,t-1): nan\n",
      "\ttaking step 2\n",
      "\tmedian kurtosis: 30.828720092773438\n",
      "\t20th percentile R2(t,t-1): 0.7443044185638428\n",
      "\ttaking step 3\n",
      "\tmedian kurtosis: 21.22922706604004\n",
      "\t20th percentile R2(t,t-1): 0.8989471077919007\n",
      "\ttaking step 4\n",
      "\tmedian kurtosis: 15.12545108795166\n",
      "\t20th percentile R2(t,t-1): 0.9395679831504822\n",
      "\ttaking step 5\n",
      "\tmedian kurtosis: 11.710641860961914\n",
      "\t20th percentile R2(t,t-1): 0.9621577382087707\n",
      "\ttaking step 6\n",
      "\tmedian kurtosis: 9.634602546691895\n",
      "\t20th percentile R2(t,t-1): 0.9768100500106811\n",
      "stopping after 6 steps\n",
      "covariate-adjusted NAM not found; computing and saving\n",
      "computing SVD\n"
     ]
    },
    {
     "name": "stderr",
     "output_type": "stream",
     "text": [
      "/PHShome/ssg34/.conda/envs/plswork/lib/python3.9/site-packages/cna/tools/_nam.py:79: UserWarning: only one unique batch supplied to qc\n",
      "  warnings.warn('only one unique batch supplied to qc')\n",
      "/PHShome/ssg34/.conda/envs/plswork/lib/python3.9/site-packages/cna/tools/_nam.py:101: UserWarning: only one unique batch supplied to prep\n",
      "  warnings.warn('only one unique batch supplied to prep')\n"
     ]
    },
    {
     "name": "stdout",
     "output_type": "stream",
     "text": [
      "performing association test\n",
      "computing neighborhood-level FDRs\n",
      "11\n",
      "[1, 2, 3, 4, 5, 6, 7, 8, 9, 10, 11, 12, 13, 14, 15, 16, 17, 18, 19, 20]\n",
      "p = 0.0057994200579942 , 11 PCs used\n",
      "total r^2 between top 11 NAM PCs and outcome is 0.27\n"
     ]
    }
   ],
   "source": [
    "res = cna_test(meta,harmony, umap, 'Final_Chronicity', covars = ['First_biop', 'Responder_Status'])"
   ]
  },
  {
   "cell_type": "code",
   "execution_count": 12,
   "id": "9dbc833f-0c83-452c-8d04-3a76383337c3",
   "metadata": {},
   "outputs": [],
   "source": [
    "np.savetxt(\"/data/srlab/ssg34/SLE_kidney_v2/data/cna_new/t_nk/chronicity/sc_conditional_ncorr.csv\", \n",
    "               res.ncorrs, delimiter=\",\")\n",
    "np.savetxt(\"/data/srlab/ssg34/SLE_kidney_v2/data/cna_new/t_nk/chronicity/sc_conditional_fdrs.csv\", \n",
    "               res.fdrs, delimiter=\",\")"
   ]
  },
  {
   "cell_type": "markdown",
   "id": "f7a50a81-6ab3-4002-9b0f-57d3b13fcdfa",
   "metadata": {},
   "source": [
    "## Single Nuclei"
   ]
  },
  {
   "cell_type": "code",
   "execution_count": 13,
   "id": "b5a358a8-1834-4268-8b53-330fb9c9edd9",
   "metadata": {},
   "outputs": [
    {
     "name": "stdout",
     "output_type": "stream",
     "text": [
      "(2120, 32)\n"
     ]
    }
   ],
   "source": [
    "meta = pd.read_csv('/data/srlab/ssg34/SLE_kidney_v2/data/cna_new/t_nk/chronicity/sn_meta.csv')\n",
    "print(meta.shape)"
   ]
  },
  {
   "cell_type": "code",
   "execution_count": 14,
   "id": "dcd88174-9f81-48d0-831e-cf2f9ca93f27",
   "metadata": {},
   "outputs": [
    {
     "name": "stdout",
     "output_type": "stream",
     "text": [
      "(2120, 20)\n"
     ]
    }
   ],
   "source": [
    "harmony = pd.read_csv('/data/srlab/ssg34/SLE_kidney_v2/data/cna_new/t_nk/chronicity/sn_harmony.csv')\n",
    "print(harmony.shape)"
   ]
  },
  {
   "cell_type": "code",
   "execution_count": 15,
   "id": "40a50c93-cb0c-437d-8486-f28fdab0cbc2",
   "metadata": {},
   "outputs": [
    {
     "name": "stdout",
     "output_type": "stream",
     "text": [
      "(2120, 2)\n"
     ]
    }
   ],
   "source": [
    "umap = pd.read_csv('/data/srlab/ssg34/SLE_kidney_v2/data/cna_new/t_nk/chronicity/sn_umap.csv')\n",
    "print(umap.shape)"
   ]
  },
  {
   "cell_type": "code",
   "execution_count": 17,
   "id": "0c8583c4-07c7-436f-874d-f48c15a907a5",
   "metadata": {},
   "outputs": [
    {
     "name": "stdout",
     "output_type": "stream",
     "text": [
      "(2120, 32)\n",
      "(2120, 20)\n",
      "(2120, 2)\n",
      "warning: the following columns of obs are non-numeric.\n",
      "['cell' 'sample' 'final_annotation' 'Responder.Status' 'Race' 'Final_ISN'\n",
      " 'Type' 'Final_Site']\n",
      "consider casting to numeric types where appropriate, and\n",
      "consider re-coding text-valued columns with pandas.get_dummies\n",
      "computing default knn graph\n"
     ]
    },
    {
     "name": "stderr",
     "output_type": "stream",
     "text": [
      "/PHShome/ssg34/.conda/envs/plswork/lib/python3.9/site-packages/multianndata/core.py:17: FutureWarning: X.dtype being converted to np.float32 from float64. In the next version of anndata (0.9) conversion will not be automatic. Pass dtype explicitly to avoid this warning. Pass `AnnData(X, dtype=X.dtype, ...)` to get the future behavour.\n",
      "  super().__init__(*args, **kwargs)\n",
      "/PHShome/ssg34/.conda/envs/plswork/lib/python3.9/site-packages/anndata/_core/anndata.py:121: ImplicitModificationWarning: Transforming to str index.\n",
      "  warnings.warn(\"Transforming to str index.\", ImplicitModificationWarning)\n"
     ]
    },
    {
     "name": "stdout",
     "output_type": "stream",
     "text": [
      "qcd NAM not found; computing and saving\n",
      "\ttaking step 1\n",
      "\tmedian kurtosis: 8.153996863617243\n",
      "\t20th percentile R2(t,t-1): nan\n",
      "\ttaking step 2\n",
      "\tmedian kurtosis: 5.191700621962467\n",
      "\t20th percentile R2(t,t-1): 0.729617440700531\n",
      "\ttaking step 3\n",
      "\tmedian kurtosis: 4.031588959218854\n",
      "\t20th percentile R2(t,t-1): 0.9231990098953247\n",
      "stopping after 3 steps\n",
      "covariate-adjusted NAM not found; computing and saving\n",
      "computing SVD\n",
      "performing association test\n"
     ]
    },
    {
     "name": "stderr",
     "output_type": "stream",
     "text": [
      "/PHShome/ssg34/.conda/envs/plswork/lib/python3.9/site-packages/cna/tools/_nam.py:79: UserWarning: only one unique batch supplied to qc\n",
      "  warnings.warn('only one unique batch supplied to qc')\n",
      "/PHShome/ssg34/.conda/envs/plswork/lib/python3.9/site-packages/cna/tools/_nam.py:101: UserWarning: only one unique batch supplied to prep\n",
      "  warnings.warn('only one unique batch supplied to prep')\n"
     ]
    },
    {
     "name": "stdout",
     "output_type": "stream",
     "text": [
      "computing neighborhood-level FDRs\n",
      "1\n",
      "[1, 2, 3, 4, 5, 6, 7, 8, 9, 10, 11, 12, 13, 14, 15, 16, 17, 18, 19, 20]\n",
      "p = 0.2703729627037296 , 1 PCs used\n",
      "total r^2 between top 1 NAM PCs and outcome is 0.20\n"
     ]
    }
   ],
   "source": [
    "res = cna_test(meta, harmony, umap, 'Final_Chronicity')"
   ]
  },
  {
   "cell_type": "code",
   "execution_count": null,
   "id": "66183fb1-8176-42e9-bb31-30f96280abf6",
   "metadata": {},
   "outputs": [],
   "source": [
    "res = cna_test(meta,harmony, umap, 'Final_Chronicity', covars = ['First_biop', 'Responder_Status'])"
   ]
  },
  {
   "cell_type": "code",
   "execution_count": 160,
   "id": "0f100510-ffd2-4118-bb95-c35c5661bd88",
   "metadata": {},
   "outputs": [],
   "source": [
    "np.savetxt(\"/data/srlab/ssg34/SLE_kidney_v2/data/cna_new/t_nk/chronicity/sn_ncorr.csv\", \n",
    "               res.ncorrs, delimiter=\",\")\n",
    "np.savetxt(\"/data/srlab/ssg34/SLE_kidney_v2/data/cna_new/t_nk/chronicity/sn_fdrs.csv\", \n",
    "               res.fdrs, delimiter=\",\")"
   ]
  },
  {
   "cell_type": "markdown",
   "id": "dc09cf88-4d5c-46cd-bc21-5ad009d40396",
   "metadata": {},
   "source": [
    "# Activity"
   ]
  },
  {
   "cell_type": "markdown",
   "id": "3c376d8e-6ef0-4a0a-ba16-20c1f8aed073",
   "metadata": {},
   "source": [
    "## Single Cell"
   ]
  },
  {
   "cell_type": "code",
   "execution_count": 103,
   "id": "05c09e71-34bc-4bd8-be21-55f28700c4da",
   "metadata": {},
   "outputs": [
    {
     "name": "stdout",
     "output_type": "stream",
     "text": [
      "(32485, 39)\n"
     ]
    }
   ],
   "source": [
    "meta = pd.read_csv('/data/srlab/ssg34/SLE_kidney_v2/data/cna_new/t_nk/activity/sc_meta.csv')\n",
    "print(meta.shape)"
   ]
  },
  {
   "cell_type": "code",
   "execution_count": 104,
   "id": "3fbaff63-917c-4e44-97d7-f345ffceadff",
   "metadata": {},
   "outputs": [
    {
     "name": "stdout",
     "output_type": "stream",
     "text": [
      "(32485, 20)\n"
     ]
    }
   ],
   "source": [
    "harmony = pd.read_csv('/data/srlab/ssg34/SLE_kidney_v2/data/cna_new/t_nk/activity/sc_harmony.csv')\n",
    "print(harmony.shape)"
   ]
  },
  {
   "cell_type": "code",
   "execution_count": 105,
   "id": "0e96ebac-614f-430d-8661-64e739f1cb9e",
   "metadata": {},
   "outputs": [
    {
     "name": "stdout",
     "output_type": "stream",
     "text": [
      "(32485, 2)\n"
     ]
    }
   ],
   "source": [
    "umap = pd.read_csv('/data/srlab/ssg34/SLE_kidney_v2/data/cna_new/t_nk/activity/sc_umap.csv')\n",
    "print(umap.shape)"
   ]
  },
  {
   "cell_type": "code",
   "execution_count": 106,
   "id": "8148ca1a-7bc8-4e99-a842-57cc9aa79eaf",
   "metadata": {},
   "outputs": [
    {
     "name": "stdout",
     "output_type": "stream",
     "text": [
      "warning: the following columns of obs are non-numeric.\n",
      "['cell' 'sample' 'final_annotation' 'Responder.Status' 'Race' 'Final_ISN'\n",
      " 'Type' 'Final_Site']\n",
      "consider casting to numeric types where appropriate, and\n",
      "consider re-coding text-valued columns with pandas.get_dummies\n"
     ]
    },
    {
     "name": "stderr",
     "output_type": "stream",
     "text": [
      "/PHShome/ssg34/.conda/envs/plswork/lib/python3.9/site-packages/multianndata/core.py:17: FutureWarning: X.dtype being converted to np.float32 from float64. In the next version of anndata (0.9) conversion will not be automatic. Pass dtype explicitly to avoid this warning. Pass `AnnData(X, dtype=X.dtype, ...)` to get the future behavour.\n",
      "  super().__init__(*args, **kwargs)\n",
      "/PHShome/ssg34/.conda/envs/plswork/lib/python3.9/site-packages/anndata/_core/anndata.py:121: ImplicitModificationWarning: Transforming to str index.\n",
      "  warnings.warn(\"Transforming to str index.\", ImplicitModificationWarning)\n"
     ]
    },
    {
     "data": {
      "text/html": [
       "<div>\n",
       "<style scoped>\n",
       "    .dataframe tbody tr th:only-of-type {\n",
       "        vertical-align: middle;\n",
       "    }\n",
       "\n",
       "    .dataframe tbody tr th {\n",
       "        vertical-align: top;\n",
       "    }\n",
       "\n",
       "    .dataframe thead th {\n",
       "        text-align: right;\n",
       "    }\n",
       "</style>\n",
       "<table border=\"1\" class=\"dataframe\">\n",
       "  <thead>\n",
       "    <tr style=\"text-align: right;\">\n",
       "      <th></th>\n",
       "      <th>Final_Activity</th>\n",
       "    </tr>\n",
       "    <tr>\n",
       "      <th>sample</th>\n",
       "      <th></th>\n",
       "    </tr>\n",
       "  </thead>\n",
       "  <tbody>\n",
       "    <tr>\n",
       "      <th>AMPSLEkid_cells_0134</th>\n",
       "      <td>4.0</td>\n",
       "    </tr>\n",
       "    <tr>\n",
       "      <th>AMPSLEkid_cells_0137</th>\n",
       "      <td>5.0</td>\n",
       "    </tr>\n",
       "    <tr>\n",
       "      <th>AMPSLEkid_cells_0138</th>\n",
       "      <td>0.0</td>\n",
       "    </tr>\n",
       "    <tr>\n",
       "      <th>AMPSLEkid_cells_0139</th>\n",
       "      <td>2.0</td>\n",
       "    </tr>\n",
       "    <tr>\n",
       "      <th>AMPSLEkid_cells_0140</th>\n",
       "      <td>1.0</td>\n",
       "    </tr>\n",
       "  </tbody>\n",
       "</table>\n",
       "</div>"
      ],
      "text/plain": [
       "                      Final_Activity\n",
       "sample                              \n",
       "AMPSLEkid_cells_0134             4.0\n",
       "AMPSLEkid_cells_0137             5.0\n",
       "AMPSLEkid_cells_0138             0.0\n",
       "AMPSLEkid_cells_0139             2.0\n",
       "AMPSLEkid_cells_0140             1.0"
      ]
     },
     "execution_count": 106,
     "metadata": {},
     "output_type": "execute_result"
    }
   ],
   "source": [
    "# Start by making anndata object\n",
    "d = mad.MultiAnnData(X=harmony, obs=meta, sampleid=\"sample\")\n",
    "#d.obs_to_sample(['Type', 'Site',\n",
    "#                 'Responder_Status', 'Sex',\n",
    "#                 'Age', 'Race',\n",
    "#                'Ethnicity', 'ISN',\n",
    "#               'Activity', \"Chronicity\",\n",
    "#                 'processing_batch'])\n",
    "d.obs_to_sample(['Final_Activity'])\n",
    "d.samplem.head()"
   ]
  },
  {
   "cell_type": "code",
   "execution_count": 107,
   "id": "d66f7b7f-c223-46b9-940f-0a2992a3abf2",
   "metadata": {},
   "outputs": [],
   "source": [
    "umap.index = d.obs.index\n",
    "d.obsm['X_umap'] = umap"
   ]
  },
  {
   "cell_type": "code",
   "execution_count": 108,
   "id": "ab651d11-2ab9-4a2f-adec-a9588f7e1fed",
   "metadata": {},
   "outputs": [
    {
     "name": "stdout",
     "output_type": "stream",
     "text": [
      "computing default knn graph\n"
     ]
    }
   ],
   "source": [
    "np.random.seed(0) \n",
    "cna.pp.knn(d)"
   ]
  },
  {
   "cell_type": "code",
   "execution_count": 109,
   "id": "b833942d-0c42-4d9a-8784-aa263271d1aa",
   "metadata": {},
   "outputs": [
    {
     "name": "stdout",
     "output_type": "stream",
     "text": [
      "qcd NAM not found; computing and saving\n",
      "\ttaking step 1\n",
      "\tmedian kurtosis: 48.137882232666016\n",
      "\t20th percentile R2(t,t-1): nan\n",
      "\ttaking step 2\n",
      "\tmedian kurtosis: 30.84671974182129\n",
      "\t20th percentile R2(t,t-1): 0.7438087105751038\n",
      "\ttaking step 3\n",
      "\tmedian kurtosis: 21.176321029663086\n",
      "\t20th percentile R2(t,t-1): 0.8987076044082641\n",
      "\ttaking step 4\n",
      "\tmedian kurtosis: 15.017460823059082\n",
      "\t20th percentile R2(t,t-1): 0.9393186211585999\n",
      "\ttaking step 5\n",
      "\tmedian kurtosis: 11.646937370300293\n",
      "\t20th percentile R2(t,t-1): 0.961981725692749\n",
      "\ttaking step 6\n",
      "\tmedian kurtosis: 9.655332565307617\n",
      "\t20th percentile R2(t,t-1): 0.9768435716629028\n",
      "stopping after 6 steps\n",
      "covariate-adjusted NAM not found; computing and saving\n",
      "computing SVD\n",
      "performing association test\n"
     ]
    },
    {
     "name": "stderr",
     "output_type": "stream",
     "text": [
      "/PHShome/ssg34/.conda/envs/plswork/lib/python3.9/site-packages/cna/tools/_nam.py:79: UserWarning: only one unique batch supplied to qc\n",
      "  warnings.warn('only one unique batch supplied to qc')\n",
      "/PHShome/ssg34/.conda/envs/plswork/lib/python3.9/site-packages/cna/tools/_nam.py:101: UserWarning: only one unique batch supplied to prep\n",
      "  warnings.warn('only one unique batch supplied to prep')\n"
     ]
    },
    {
     "name": "stdout",
     "output_type": "stream",
     "text": [
      "computing neighborhood-level FDRs\n",
      "1\n",
      "[1, 2, 3, 4, 5, 6, 7, 8, 9, 10, 11, 12, 13, 14, 15, 16, 17, 18, 19, 20]\n",
      "p = 0.3812618738126187 , 1 PCs used\n",
      "total r^2 between top 1 NAM PCs and outcome is 0.02\n"
     ]
    }
   ],
   "source": [
    "np.random.seed(0) \n",
    "res = cna.tl._association.association(d, #dataset \n",
    "                                      d.samplem.Final_Activity, #phenotype\n",
    "#                                       batches=d.samplem.processing_batch, #batches\n",
    "                                      Nnull=10000, # number of null permutations to do (defaults to only 1e3)\n",
    "                                      ks=[1,2,3,4,5,6,7,8,9,10,11,12,13,14,15,16,17,18,19,20] # I asked the method to consider up to 10 PCs because\n",
    "                                                                #it chose the max number of PCs it considered the default set of [1,2,3,4]\n",
    "                                     )\n",
    "print(res.k)\n",
    "print(res.ks)\n",
    "print('p =', res.p, ',', res.k, 'PCs used')\n",
    "print('total r^2 between top {} NAM PCs and outcome is {:.2f}'.format(res.k, res.r2))"
   ]
  },
  {
   "cell_type": "code",
   "execution_count": 110,
   "id": "ad77d4ab-5c22-47c0-b4ae-7dc470928328",
   "metadata": {},
   "outputs": [],
   "source": [
    "np.savetxt(\"/data/srlab/ssg34/SLE_kidney_v2/data/cna_new/t_nk/chronicity/sc_ncorr.csv\", \n",
    "               res.ncorrs, delimiter=\",\")\n",
    "np.savetxt(\"/data/srlab/ssg34/SLE_kidney_v2/data/cna_new/t_nk/chronicity/sc_fdrs.csv\", \n",
    "               res.fdrs, delimiter=\",\")"
   ]
  },
  {
   "cell_type": "code",
   "execution_count": 111,
   "id": "cbc80b79-381e-42f3-b771-828be8c348fd",
   "metadata": {},
   "outputs": [],
   "source": [
    "sc_uni['Activity'] = res.p"
   ]
  },
  {
   "cell_type": "markdown",
   "id": "91920a48-a8a3-4095-af65-5083947472d0",
   "metadata": {},
   "source": [
    "# ISN"
   ]
  },
  {
   "cell_type": "markdown",
   "id": "6dac8418-4f95-4764-b424-950649ec3fe9",
   "metadata": {},
   "source": [
    "## Single Cell"
   ]
  },
  {
   "cell_type": "code",
   "execution_count": 112,
   "id": "0fbe5893-e3a3-43fb-ad08-36aa88a3c68f",
   "metadata": {},
   "outputs": [
    {
     "name": "stdout",
     "output_type": "stream",
     "text": [
      "(35187, 39)\n"
     ]
    }
   ],
   "source": [
    "meta = pd.read_csv('/data/srlab/ssg34/SLE_kidney_v2/data/cna_new/t_nk/ISN/sc_meta.csv')\n",
    "print(meta.shape)"
   ]
  },
  {
   "cell_type": "code",
   "execution_count": 113,
   "id": "7ecdbeb2-6c9a-4002-8054-e2110b316752",
   "metadata": {},
   "outputs": [
    {
     "name": "stdout",
     "output_type": "stream",
     "text": [
      "(35187, 20)\n"
     ]
    }
   ],
   "source": [
    "harmony = pd.read_csv('/data/srlab/ssg34/SLE_kidney_v2/data/cna_new/t_nk/ISN/sc_harmony.csv')\n",
    "print(harmony.shape)"
   ]
  },
  {
   "cell_type": "code",
   "execution_count": 114,
   "id": "01d49612-0f8d-453c-b5e2-78ae37b75811",
   "metadata": {},
   "outputs": [
    {
     "name": "stdout",
     "output_type": "stream",
     "text": [
      "(35187, 2)\n"
     ]
    }
   ],
   "source": [
    "umap = pd.read_csv('/data/srlab/ssg34/SLE_kidney_v2/data/cna_new/t_nk/ISN/sc_umap.csv')\n",
    "print(umap.shape)"
   ]
  },
  {
   "cell_type": "code",
   "execution_count": 115,
   "id": "e6eeb818-6b4e-4b1b-8e33-91cfa31199ec",
   "metadata": {},
   "outputs": [
    {
     "name": "stdout",
     "output_type": "stream",
     "text": [
      "warning: the following columns of obs are non-numeric.\n",
      "['cell' 'sample' 'final_annotation' 'Responder.Status' 'Race' 'Final_ISN'\n",
      " 'Type' 'Final_Site']\n",
      "consider casting to numeric types where appropriate, and\n",
      "consider re-coding text-valued columns with pandas.get_dummies\n"
     ]
    },
    {
     "name": "stderr",
     "output_type": "stream",
     "text": [
      "/PHShome/ssg34/.conda/envs/plswork/lib/python3.9/site-packages/multianndata/core.py:17: FutureWarning: X.dtype being converted to np.float32 from float64. In the next version of anndata (0.9) conversion will not be automatic. Pass dtype explicitly to avoid this warning. Pass `AnnData(X, dtype=X.dtype, ...)` to get the future behavour.\n",
      "  super().__init__(*args, **kwargs)\n",
      "/PHShome/ssg34/.conda/envs/plswork/lib/python3.9/site-packages/anndata/_core/anndata.py:121: ImplicitModificationWarning: Transforming to str index.\n",
      "  warnings.warn(\"Transforming to str index.\", ImplicitModificationWarning)\n"
     ]
    },
    {
     "data": {
      "text/html": [
       "<div>\n",
       "<style scoped>\n",
       "    .dataframe tbody tr th:only-of-type {\n",
       "        vertical-align: middle;\n",
       "    }\n",
       "\n",
       "    .dataframe tbody tr th {\n",
       "        vertical-align: top;\n",
       "    }\n",
       "\n",
       "    .dataframe thead th {\n",
       "        text-align: right;\n",
       "    }\n",
       "</style>\n",
       "<table border=\"1\" class=\"dataframe\">\n",
       "  <thead>\n",
       "    <tr style=\"text-align: right;\">\n",
       "      <th></th>\n",
       "      <th>Final_ISN_[III]</th>\n",
       "      <th>Final_ISN_[III][V]</th>\n",
       "      <th>Final_ISN_[IV]</th>\n",
       "      <th>Final_ISN_[IV][V]</th>\n",
       "      <th>Final_ISN_[V]</th>\n",
       "    </tr>\n",
       "    <tr>\n",
       "      <th>sample</th>\n",
       "      <th></th>\n",
       "      <th></th>\n",
       "      <th></th>\n",
       "      <th></th>\n",
       "      <th></th>\n",
       "    </tr>\n",
       "  </thead>\n",
       "  <tbody>\n",
       "    <tr>\n",
       "      <th>AMPSLEkid_cells_0134</th>\n",
       "      <td>1.0</td>\n",
       "      <td>0.0</td>\n",
       "      <td>0.0</td>\n",
       "      <td>0.0</td>\n",
       "      <td>0.0</td>\n",
       "    </tr>\n",
       "    <tr>\n",
       "      <th>AMPSLEkid_cells_0137</th>\n",
       "      <td>1.0</td>\n",
       "      <td>0.0</td>\n",
       "      <td>0.0</td>\n",
       "      <td>0.0</td>\n",
       "      <td>0.0</td>\n",
       "    </tr>\n",
       "    <tr>\n",
       "      <th>AMPSLEkid_cells_0138</th>\n",
       "      <td>0.0</td>\n",
       "      <td>1.0</td>\n",
       "      <td>0.0</td>\n",
       "      <td>0.0</td>\n",
       "      <td>0.0</td>\n",
       "    </tr>\n",
       "    <tr>\n",
       "      <th>AMPSLEkid_cells_0139</th>\n",
       "      <td>0.0</td>\n",
       "      <td>1.0</td>\n",
       "      <td>0.0</td>\n",
       "      <td>0.0</td>\n",
       "      <td>0.0</td>\n",
       "    </tr>\n",
       "    <tr>\n",
       "      <th>AMPSLEkid_cells_0140</th>\n",
       "      <td>0.0</td>\n",
       "      <td>0.0</td>\n",
       "      <td>0.0</td>\n",
       "      <td>0.0</td>\n",
       "      <td>1.0</td>\n",
       "    </tr>\n",
       "  </tbody>\n",
       "</table>\n",
       "</div>"
      ],
      "text/plain": [
       "                      Final_ISN_[III]  Final_ISN_[III][V]  Final_ISN_[IV]  \\\n",
       "sample                                                                      \n",
       "AMPSLEkid_cells_0134              1.0                 0.0             0.0   \n",
       "AMPSLEkid_cells_0137              1.0                 0.0             0.0   \n",
       "AMPSLEkid_cells_0138              0.0                 1.0             0.0   \n",
       "AMPSLEkid_cells_0139              0.0                 1.0             0.0   \n",
       "AMPSLEkid_cells_0140              0.0                 0.0             0.0   \n",
       "\n",
       "                      Final_ISN_[IV][V]  Final_ISN_[V]  \n",
       "sample                                                  \n",
       "AMPSLEkid_cells_0134                0.0            0.0  \n",
       "AMPSLEkid_cells_0137                0.0            0.0  \n",
       "AMPSLEkid_cells_0138                0.0            0.0  \n",
       "AMPSLEkid_cells_0139                0.0            0.0  \n",
       "AMPSLEkid_cells_0140                0.0            1.0  "
      ]
     },
     "execution_count": 115,
     "metadata": {},
     "output_type": "execute_result"
    }
   ],
   "source": [
    "# Start by making anndata object\n",
    "d = mad.MultiAnnData(X=harmony, obs=meta, sampleid=\"sample\")\n",
    "#d.obs_to_sample(['Type', 'Site',\n",
    "#                 'Responder_Status', 'Sex',\n",
    "#                 'Age', 'Race',\n",
    "#                'Ethnicity', 'ISN',\n",
    "#               'Activity', \"Chronicity\",\n",
    "#                 'processing_batch'])\n",
    "d.obs_to_sample(['Final_ISN_[III]', 'Final_ISN_[III][V]', 'Final_ISN_[IV]',\n",
    "                 'Final_ISN_[IV][V]', 'Final_ISN_[V]'])\n",
    "d.samplem.head()"
   ]
  },
  {
   "cell_type": "code",
   "execution_count": 116,
   "id": "67a0acad-5c0f-4317-8ae8-81ab3b991f4a",
   "metadata": {},
   "outputs": [],
   "source": [
    "umap.index = d.obs.index\n",
    "d.obsm['X_umap'] = umap"
   ]
  },
  {
   "cell_type": "code",
   "execution_count": 117,
   "id": "e55ce870-fce2-401b-9374-81397a7d9404",
   "metadata": {},
   "outputs": [
    {
     "name": "stdout",
     "output_type": "stream",
     "text": [
      "computing default knn graph\n"
     ]
    }
   ],
   "source": [
    "np.random.seed(0) \n",
    "cna.pp.knn(d)"
   ]
  },
  {
   "cell_type": "code",
   "execution_count": 118,
   "id": "63eeecba-a010-4cb7-9d6e-126681f71786",
   "metadata": {},
   "outputs": [
    {
     "name": "stdout",
     "output_type": "stream",
     "text": [
      "qcd NAM not found; computing and saving\n",
      "\ttaking step 1\n",
      "\tmedian kurtosis: 52.71991729736328\n",
      "\t20th percentile R2(t,t-1): nan\n",
      "\ttaking step 2\n",
      "\tmedian kurtosis: 33.68928527832031\n",
      "\t20th percentile R2(t,t-1): 0.7436593174934387\n",
      "\ttaking step 3\n",
      "\tmedian kurtosis: 23.012622833251953\n",
      "\t20th percentile R2(t,t-1): 0.8982551097869873\n",
      "\ttaking step 4\n",
      "\tmedian kurtosis: 16.160520553588867\n",
      "\t20th percentile R2(t,t-1): 0.93894362449646\n",
      "\ttaking step 5\n",
      "\tmedian kurtosis: 12.253840446472168\n",
      "\t20th percentile R2(t,t-1): 0.9611961245536804\n",
      "\ttaking step 6\n",
      "\tmedian kurtosis: 10.029513359069824\n",
      "\t20th percentile R2(t,t-1): 0.976091206073761\n",
      "stopping after 6 steps\n",
      "covariate-adjusted NAM not found; computing and saving\n",
      "computing SVD\n"
     ]
    },
    {
     "name": "stderr",
     "output_type": "stream",
     "text": [
      "/PHShome/ssg34/.conda/envs/plswork/lib/python3.9/site-packages/cna/tools/_nam.py:79: UserWarning: only one unique batch supplied to qc\n",
      "  warnings.warn('only one unique batch supplied to qc')\n",
      "/PHShome/ssg34/.conda/envs/plswork/lib/python3.9/site-packages/cna/tools/_nam.py:101: UserWarning: only one unique batch supplied to prep\n",
      "  warnings.warn('only one unique batch supplied to prep')\n"
     ]
    },
    {
     "name": "stdout",
     "output_type": "stream",
     "text": [
      "performing association test\n",
      "computing neighborhood-level FDRs\n",
      "19\n",
      "[1, 2, 3, 4, 5, 6, 7, 8, 9, 10, 11, 12, 13, 14, 15, 16, 17, 18, 19, 20]\n",
      "p = 0.7706229377062294 , 19 PCs used\n",
      "total r^2 between top 19 NAM PCs and outcome is 0.13\n"
     ]
    }
   ],
   "source": [
    "np.random.seed(0) \n",
    "res = cna.tl._association.association(d, #dataset \n",
    "                                      d.samplem['Final_ISN_[III]'], #phenotype\n",
    "#                                       batches=d.samplem.processing_batch, #batches\n",
    "                                      Nnull=10000, # number of null permutations to do (defaults to only 1e3)\n",
    "                                      ks=[1,2,3,4,5,6,7,8,9,10,11,12,13,14,15,16,17,18,19,20] # I asked the method to consider up to 10 PCs because\n",
    "                                                                #it chose the max number of PCs it considered the default set of [1,2,3,4]\n",
    "                                     )\n",
    "print(res.k)\n",
    "print(res.ks)\n",
    "print('p =', res.p, ',', res.k, 'PCs used')\n",
    "print('total r^2 between top {} NAM PCs and outcome is {:.2f}'.format(res.k, res.r2))"
   ]
  },
  {
   "cell_type": "code",
   "execution_count": 119,
   "id": "3228d49a-9ec0-45f5-b0ee-a368ceee4f91",
   "metadata": {},
   "outputs": [
    {
     "name": "stdout",
     "output_type": "stream",
     "text": [
      "performing association test\n",
      "computing neighborhood-level FDRs\n",
      "5\n",
      "[1, 2, 3, 4, 5, 6, 7, 8, 9, 10, 11, 12, 13, 14, 15, 16, 17, 18, 19, 20]\n",
      "p = 0.8034196580341966 , 5 PCs used\n",
      "total r^2 between top 5 NAM PCs and outcome is 0.04\n"
     ]
    }
   ],
   "source": [
    "np.random.seed(0) \n",
    "res = cna.tl._association.association(d, #dataset \n",
    "                                      d.samplem['Final_ISN_[III][V]'], #phenotype\n",
    "#                                       batches=d.samplem.processing_batch, #batches\n",
    "                                      Nnull=10000, # number of null permutations to do (defaults to only 1e3)\n",
    "                                      ks=[1,2,3,4,5,6,7,8,9,10,11,12,13,14,15,16,17,18,19,20] # I asked the method to consider up to 10 PCs because\n",
    "                                                                #it chose the max number of PCs it considered the default set of [1,2,3,4]\n",
    "                                     )\n",
    "print(res.k)\n",
    "print(res.ks)\n",
    "print('p =', res.p, ',', res.k, 'PCs used')\n",
    "print('total r^2 between top {} NAM PCs and outcome is {:.2f}'.format(res.k, res.r2))"
   ]
  },
  {
   "cell_type": "code",
   "execution_count": 121,
   "id": "b60d24b4-31e7-4f78-8162-bcfd4694a27f",
   "metadata": {},
   "outputs": [
    {
     "name": "stdout",
     "output_type": "stream",
     "text": [
      "performing association test\n",
      "computing neighborhood-level FDRs\n",
      "6\n",
      "[1, 2, 3, 4, 5, 6, 7, 8, 9, 10, 11, 12, 13, 14, 15, 16, 17, 18, 19, 20]\n",
      "p = 0.32756724327567244 , 6 PCs used\n",
      "total r^2 between top 6 NAM PCs and outcome is 0.07\n"
     ]
    }
   ],
   "source": [
    "np.random.seed(0) \n",
    "res = cna.tl._association.association(d, #dataset \n",
    "                                      d.samplem['Final_ISN_[IV]'], #phenotype\n",
    "#                                       batches=d.samplem.processing_batch, #batches\n",
    "                                      Nnull=10000, # number of null permutations to do (defaults to only 1e3)\n",
    "                                      ks=[1,2,3,4,5,6,7,8,9,10,11,12,13,14,15,16,17,18,19,20] # I asked the method to consider up to 10 PCs because\n",
    "                                                                #it chose the max number of PCs it considered the default set of [1,2,3,4]\n",
    "                                     )\n",
    "print(res.k)\n",
    "print(res.ks)\n",
    "print('p =', res.p, ',', res.k, 'PCs used')\n",
    "print('total r^2 between top {} NAM PCs and outcome is {:.2f}'.format(res.k, res.r2))"
   ]
  },
  {
   "cell_type": "code",
   "execution_count": 122,
   "id": "afa3be32-2cf1-4e50-b888-7adcbfb0bea4",
   "metadata": {},
   "outputs": [
    {
     "name": "stdout",
     "output_type": "stream",
     "text": [
      "performing association test\n",
      "computing neighborhood-level FDRs\n",
      "5\n",
      "[1, 2, 3, 4, 5, 6, 7, 8, 9, 10, 11, 12, 13, 14, 15, 16, 17, 18, 19, 20]\n",
      "p = 0.33366663333666635 , 5 PCs used\n",
      "total r^2 between top 5 NAM PCs and outcome is 0.07\n"
     ]
    }
   ],
   "source": [
    "np.random.seed(0) \n",
    "res = cna.tl._association.association(d, #dataset \n",
    "                                      d.samplem['Final_ISN_[IV][V]'], #phenotype\n",
    "#                                       batches=d.samplem.processing_batch, #batches\n",
    "                                      Nnull=10000, # number of null permutations to do (defaults to only 1e3)\n",
    "                                      ks=[1,2,3,4,5,6,7,8,9,10,11,12,13,14,15,16,17,18,19,20] # I asked the method to consider up to 10 PCs because\n",
    "                                                                #it chose the max number of PCs it considered the default set of [1,2,3,4]\n",
    "                                     )\n",
    "print(res.k)\n",
    "print(res.ks)\n",
    "print('p =', res.p, ',', res.k, 'PCs used')\n",
    "print('total r^2 between top {} NAM PCs and outcome is {:.2f}'.format(res.k, res.r2))"
   ]
  },
  {
   "cell_type": "code",
   "execution_count": 123,
   "id": "52ac7542-373d-459b-bf97-503616bf4d4b",
   "metadata": {},
   "outputs": [
    {
     "name": "stdout",
     "output_type": "stream",
     "text": [
      "performing association test\n",
      "computing neighborhood-level FDRs\n",
      "1\n",
      "[1, 2, 3, 4, 5, 6, 7, 8, 9, 10, 11, 12, 13, 14, 15, 16, 17, 18, 19, 20]\n",
      "p = 0.24777522247775222 , 1 PCs used\n",
      "total r^2 between top 1 NAM PCs and outcome is 0.03\n"
     ]
    }
   ],
   "source": [
    "np.random.seed(0) \n",
    "res = cna.tl._association.association(d, #dataset \n",
    "                                      d.samplem['Final_ISN_[V]'], #phenotype\n",
    "#                                       batches=d.samplem.processing_batch, #batches\n",
    "                                      Nnull=10000, # number of null permutations to do (defaults to only 1e3)\n",
    "                                      ks=[1,2,3,4,5,6,7,8,9,10,11,12,13,14,15,16,17,18,19,20] # I asked the method to consider up to 10 PCs because\n",
    "                                                                #it chose the max number of PCs it considered the default set of [1,2,3,4]\n",
    "                                     )\n",
    "print(res.k)\n",
    "print(res.ks)\n",
    "print('p =', res.p, ',', res.k, 'PCs used')\n",
    "print('total r^2 between top {} NAM PCs and outcome is {:.2f}'.format(res.k, res.r2))"
   ]
  },
  {
   "cell_type": "code",
   "execution_count": 124,
   "id": "b0b52465-fdd9-4ed4-ba2f-aba68df99083",
   "metadata": {},
   "outputs": [],
   "source": [
    "sc_uni['ISN'] = res.p"
   ]
  },
  {
   "cell_type": "code",
   "execution_count": 182,
   "id": "cb2ac44c-ad12-4438-811e-8aecc549e1e0",
   "metadata": {},
   "outputs": [],
   "source": [
    "pd.DataFrame.from_dict(sc_uni, orient='index').T.to_csv('/data/srlab/ssg34/SLE_kidney_v2/data/cna_new/t_nk/univariate_cna.csv')"
   ]
  },
  {
   "cell_type": "markdown",
   "id": "9d7a29e8-04bc-45a4-9c4b-70d9127cda3d",
   "metadata": {},
   "source": [
    "# INJURED PT"
   ]
  },
  {
   "cell_type": "markdown",
   "id": "e0c9a4de-ae3a-4026-8602-4b8203baccb6",
   "metadata": {},
   "source": [
    "## Single Cell"
   ]
  },
  {
   "cell_type": "code",
   "execution_count": 3,
   "id": "82312b44-2a1a-4c39-b872-c70c6f3d02ca",
   "metadata": {},
   "outputs": [
    {
     "name": "stdout",
     "output_type": "stream",
     "text": [
      "(34203, 40)\n"
     ]
    }
   ],
   "source": [
    "meta = pd.read_csv('/data/srlab/ssg34/SLE_kidney_v2/data/cna_new/t_nk/injured_pt/sc_meta.csv')\n",
    "print(meta.shape)"
   ]
  },
  {
   "cell_type": "code",
   "execution_count": 4,
   "id": "b4c2c4a2-57dd-40b3-9c43-2c49f247d9a3",
   "metadata": {},
   "outputs": [
    {
     "name": "stdout",
     "output_type": "stream",
     "text": [
      "(34203, 20)\n"
     ]
    }
   ],
   "source": [
    "harmony = pd.read_csv('/data/srlab/ssg34/SLE_kidney_v2/data/cna_new/t_nk/injured_pt/sc_harmony.csv')\n",
    "print(harmony.shape)"
   ]
  },
  {
   "cell_type": "code",
   "execution_count": 5,
   "id": "6614116b-419b-4419-a695-582d548b5d55",
   "metadata": {},
   "outputs": [
    {
     "name": "stdout",
     "output_type": "stream",
     "text": [
      "(34203, 2)\n"
     ]
    }
   ],
   "source": [
    "umap = pd.read_csv('/data/srlab/ssg34/SLE_kidney_v2/data/cna_new/t_nk/injured_pt/sc_umap.csv')\n",
    "print(umap.shape)"
   ]
  },
  {
   "cell_type": "code",
   "execution_count": 6,
   "id": "4885121f-6884-4db7-8f53-cf6aff50dcd9",
   "metadata": {},
   "outputs": [
    {
     "name": "stdout",
     "output_type": "stream",
     "text": [
      "(34203, 40)\n",
      "(34203, 20)\n",
      "(34203, 2)\n",
      "warning: the following columns of obs are non-numeric.\n",
      "['cell' 'sample' 'final_annotation' 'Responder.Status' 'Race' 'Final_ISN'\n",
      " 'Type' 'Final_Site']\n",
      "consider casting to numeric types where appropriate, and\n",
      "consider re-coding text-valued columns with pandas.get_dummies\n",
      "computing default knn graph\n"
     ]
    },
    {
     "name": "stderr",
     "output_type": "stream",
     "text": [
      "/PHShome/ssg34/.conda/envs/plswork/lib/python3.9/site-packages/multianndata/core.py:17: FutureWarning: X.dtype being converted to np.float32 from float64. In the next version of anndata (0.9) conversion will not be automatic. Pass dtype explicitly to avoid this warning. Pass `AnnData(X, dtype=X.dtype, ...)` to get the future behavour.\n",
      "  super().__init__(*args, **kwargs)\n",
      "/PHShome/ssg34/.conda/envs/plswork/lib/python3.9/site-packages/anndata/_core/anndata.py:121: ImplicitModificationWarning: Transforming to str index.\n",
      "  warnings.warn(\"Transforming to str index.\", ImplicitModificationWarning)\n",
      "/PHShome/ssg34/.conda/envs/plswork/lib/python3.9/site-packages/tqdm/auto.py:22: TqdmWarning: IProgress not found. Please update jupyter and ipywidgets. See https://ipywidgets.readthedocs.io/en/stable/user_install.html\n",
      "  from .autonotebook import tqdm as notebook_tqdm\n"
     ]
    },
    {
     "name": "stdout",
     "output_type": "stream",
     "text": [
      "qcd NAM not found; computing and saving\n",
      "\ttaking step 1\n",
      "\tmedian kurtosis: 52.52780532836914\n",
      "\t20th percentile R2(t,t-1): nan\n",
      "\ttaking step 2\n",
      "\tmedian kurtosis: 33.63969802856445\n",
      "\t20th percentile R2(t,t-1): 0.7439629435539246\n",
      "\ttaking step 3\n",
      "\tmedian kurtosis: 23.036291122436523\n",
      "\t20th percentile R2(t,t-1): 0.8980184197425842\n",
      "\ttaking step 4\n",
      "\tmedian kurtosis: 16.27391242980957\n",
      "\t20th percentile R2(t,t-1): 0.9390338659286499\n",
      "\ttaking step 5\n",
      "\tmedian kurtosis: 12.294208526611328\n",
      "\t20th percentile R2(t,t-1): 0.9612075686454773\n",
      "\ttaking step 6\n",
      "\tmedian kurtosis: 10.025031089782715\n",
      "\t20th percentile R2(t,t-1): 0.9760475158691406\n",
      "stopping after 6 steps\n",
      "covariate-adjusted NAM not found; computing and saving\n",
      "computing SVD\n"
     ]
    },
    {
     "name": "stderr",
     "output_type": "stream",
     "text": [
      "/PHShome/ssg34/.conda/envs/plswork/lib/python3.9/site-packages/cna/tools/_nam.py:79: UserWarning: only one unique batch supplied to qc\n",
      "  warnings.warn('only one unique batch supplied to qc')\n",
      "/PHShome/ssg34/.conda/envs/plswork/lib/python3.9/site-packages/cna/tools/_nam.py:101: UserWarning: only one unique batch supplied to prep\n",
      "  warnings.warn('only one unique batch supplied to prep')\n"
     ]
    },
    {
     "name": "stdout",
     "output_type": "stream",
     "text": [
      "performing association test\n"
     ]
    },
    {
     "name": "stderr",
     "output_type": "stream",
     "text": [
      "/PHShome/ssg34/.conda/envs/plswork/lib/python3.9/site-packages/cna/tools/_association.py:74: UserWarning: global association p-value attained minimal possible value. Consider increasing Nnull\n",
      "  warnings.warn('global association p-value attained minimal possible value. '+\\\n"
     ]
    },
    {
     "name": "stdout",
     "output_type": "stream",
     "text": [
      "computing neighborhood-level FDRs\n",
      "12\n",
      "[1, 2, 3, 4, 5, 6, 7, 8, 9, 10, 11, 12, 13, 14, 15, 16, 17, 18, 19, 20]\n",
      "p = 9.999000099990002e-05 , 12 PCs used\n",
      "total r^2 between top 12 NAM PCs and outcome is 0.31\n"
     ]
    }
   ],
   "source": [
    "res = cna_test(meta, harmony, umap, 'injured_pt_prop')"
   ]
  },
  {
   "cell_type": "code",
   "execution_count": 8,
   "id": "d5832c07-afc3-4644-8b21-005c436fd68d",
   "metadata": {},
   "outputs": [],
   "source": [
    "np.savetxt(\"/data/srlab/ssg34/SLE_kidney_v2/data/cna_new/t_nk/injured_pt/sc_ncorr.csv\", \n",
    "               res.ncorrs, delimiter=\",\")\n",
    "np.savetxt(\"/data/srlab/ssg34/SLE_kidney_v2/data/cna_new/t_nk/injured_pt/sc_fdrs.csv\", \n",
    "               res.fdrs, delimiter=\",\")"
   ]
  },
  {
   "cell_type": "code",
   "execution_count": 6,
   "id": "28b6affb-23c3-46eb-94e1-09e577fe636a",
   "metadata": {},
   "outputs": [
    {
     "name": "stdout",
     "output_type": "stream",
     "text": [
      "(34203, 40)\n",
      "(34203, 20)\n",
      "(34203, 2)\n",
      "warning: the following columns of obs are non-numeric.\n",
      "['cell' 'sample' 'final_annotation' 'Responder.Status' 'Race' 'Final_ISN'\n",
      " 'Type' 'Final_Site']\n",
      "consider casting to numeric types where appropriate, and\n",
      "consider re-coding text-valued columns with pandas.get_dummies\n",
      "computing default knn graph\n"
     ]
    },
    {
     "name": "stderr",
     "output_type": "stream",
     "text": [
      "/PHShome/ssg34/.conda/envs/plswork/lib/python3.9/site-packages/multianndata/core.py:17: FutureWarning: X.dtype being converted to np.float32 from float64. In the next version of anndata (0.9) conversion will not be automatic. Pass dtype explicitly to avoid this warning. Pass `AnnData(X, dtype=X.dtype, ...)` to get the future behavour.\n",
      "  super().__init__(*args, **kwargs)\n",
      "/PHShome/ssg34/.conda/envs/plswork/lib/python3.9/site-packages/anndata/_core/anndata.py:121: ImplicitModificationWarning: Transforming to str index.\n",
      "  warnings.warn(\"Transforming to str index.\", ImplicitModificationWarning)\n",
      "/PHShome/ssg34/.conda/envs/plswork/lib/python3.9/site-packages/tqdm/auto.py:22: TqdmWarning: IProgress not found. Please update jupyter and ipywidgets. See https://ipywidgets.readthedocs.io/en/stable/user_install.html\n",
      "  from .autonotebook import tqdm as notebook_tqdm\n"
     ]
    },
    {
     "name": "stdout",
     "output_type": "stream",
     "text": [
      "qcd NAM not found; computing and saving\n",
      "\ttaking step 1\n",
      "\tmedian kurtosis: 52.52780532836914\n",
      "\t20th percentile R2(t,t-1): nan\n",
      "\ttaking step 2\n",
      "\tmedian kurtosis: 33.63969802856445\n",
      "\t20th percentile R2(t,t-1): 0.7439629435539246\n",
      "\ttaking step 3\n",
      "\tmedian kurtosis: 23.036291122436523\n",
      "\t20th percentile R2(t,t-1): 0.8980184197425842\n",
      "\ttaking step 4\n",
      "\tmedian kurtosis: 16.27391242980957\n",
      "\t20th percentile R2(t,t-1): 0.9390338659286499\n",
      "\ttaking step 5\n",
      "\tmedian kurtosis: 12.294208526611328\n",
      "\t20th percentile R2(t,t-1): 0.9612075686454773\n",
      "\ttaking step 6\n",
      "\tmedian kurtosis: 10.025031089782715\n",
      "\t20th percentile R2(t,t-1): 0.9760475158691406\n",
      "stopping after 6 steps\n",
      "covariate-adjusted NAM not found; computing and saving\n",
      "computing SVD\n",
      "performing association test\n"
     ]
    },
    {
     "name": "stderr",
     "output_type": "stream",
     "text": [
      "/PHShome/ssg34/.conda/envs/plswork/lib/python3.9/site-packages/cna/tools/_nam.py:79: UserWarning: only one unique batch supplied to qc\n",
      "  warnings.warn('only one unique batch supplied to qc')\n",
      "/PHShome/ssg34/.conda/envs/plswork/lib/python3.9/site-packages/cna/tools/_nam.py:101: UserWarning: only one unique batch supplied to prep\n",
      "  warnings.warn('only one unique batch supplied to prep')\n"
     ]
    },
    {
     "name": "stdout",
     "output_type": "stream",
     "text": [
      "computing neighborhood-level FDRs\n",
      "3\n",
      "[1, 2, 3, 4, 5, 6, 7, 8, 9, 10, 11, 12, 13, 14, 15, 16, 17, 18, 19, 20]\n",
      "p = 0.9989001099890011 , 3 PCs used\n",
      "total r^2 between top 3 NAM PCs and outcome is 0.01\n"
     ]
    }
   ],
   "source": [
    "res = cna_test(meta, harmony, umap, 'injured_pt_prop', covars = ['Final_Site_JHU',\n",
    "                                                                  'Final_Site_NYU',\n",
    "                                                                  'First_biop',\n",
    "                                                                  'Responder_Status',\n",
    "                                                                  'Age',\n",
    "                                                                  'Final_Chronicity'])"
   ]
  },
  {
   "cell_type": "code",
   "execution_count": 11,
   "id": "8769e938-9b96-495a-87bd-a198bc2def36",
   "metadata": {},
   "outputs": [],
   "source": [
    "np.savetxt(\"/data/srlab/ssg34/SLE_kidney_v2/data/cna_new/t_nk/injured_pt/sc_cond_ncorr.csv\", \n",
    "               res.ncorrs, delimiter=\",\")\n",
    "np.savetxt(\"/data/srlab/ssg34/SLE_kidney_v2/data/cna_new/t_nk/injured_pt/sc_cond_fdrs.csv\", \n",
    "               res.fdrs, delimiter=\",\")"
   ]
  }
 ],
 "metadata": {
  "kernelspec": {
   "display_name": "Python 3 (ipykernel)",
   "language": "python",
   "name": "python3"
  },
  "language_info": {
   "codemirror_mode": {
    "name": "ipython",
    "version": 3
   },
   "file_extension": ".py",
   "mimetype": "text/x-python",
   "name": "python",
   "nbconvert_exporter": "python",
   "pygments_lexer": "ipython3",
   "version": "3.9.13"
  }
 },
 "nbformat": 4,
 "nbformat_minor": 5
}
